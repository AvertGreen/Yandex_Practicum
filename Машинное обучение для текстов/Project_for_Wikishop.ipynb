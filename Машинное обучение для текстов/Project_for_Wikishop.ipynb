{
 "cells": [
  {
   "cell_type": "markdown",
   "metadata": {
    "toc": true
   },
   "source": [
    "<h1>Содержание<span class=\"tocSkip\"></span></h1>\n",
    "<div class=\"toc\"><ul class=\"toc-item\"><li><span><a href=\"#Подготовка\" data-toc-modified-id=\"Подготовка-1\"><span class=\"toc-item-num\">1&nbsp;&nbsp;</span>Подготовка</a></span></li><li><span><a href=\"#Обучение\" data-toc-modified-id=\"Обучение-2\"><span class=\"toc-item-num\">2&nbsp;&nbsp;</span>Обучение</a></span></li><li><span><a href=\"#Выводы\" data-toc-modified-id=\"Выводы-3\"><span class=\"toc-item-num\">3&nbsp;&nbsp;</span>Выводы</a></span></li><li><span><a href=\"#Чек-лист-проверки\" data-toc-modified-id=\"Чек-лист-проверки-4\"><span class=\"toc-item-num\">4&nbsp;&nbsp;</span>Чек-лист проверки</a></span></li></ul></div>"
   ]
  },
  {
   "cell_type": "markdown",
   "metadata": {},
   "source": [
    "# Проект для «Викишоп»"
   ]
  },
  {
   "cell_type": "markdown",
   "metadata": {},
   "source": [
    "Интернет-магазин «Викишоп» запускает новый сервис. Теперь пользователи могут редактировать и дополнять описания товаров, как в вики-сообществах. То есть клиенты предлагают свои правки и комментируют изменения других. Магазину нужен инструмент, который будет искать токсичные комментарии и отправлять их на модерацию. \n",
    "\n",
    "Обучите модель классифицировать комментарии на позитивные и негативные. В вашем распоряжении набор данных с разметкой о токсичности правок.\n",
    "\n",
    "Постройте модель со значением метрики качества *F1* не меньше 0.75. \n",
    "\n",
    "**Инструкция по выполнению проекта**\n",
    "\n",
    "1. Загрузите и подготовьте данные.\n",
    "2. Обучите разные модели. \n",
    "3. Сделайте выводы.\n",
    "\n",
    "Для выполнения проекта применять *BERT* необязательно, но вы можете попробовать.\n",
    "\n",
    "**Описание данных**\n",
    "\n",
    "Данные находятся в файле `toxic_comments.csv`. Столбец *text* в нём содержит текст комментария, а *toxic* — целевой признак."
   ]
  },
  {
   "cell_type": "markdown",
   "metadata": {},
   "source": [
    "## Подготовка"
   ]
  },
  {
   "cell_type": "code",
   "execution_count": 1,
   "metadata": {},
   "outputs": [],
   "source": [
    "# загрузим библиотеки\n",
    "import numpy as np\n",
    "import pandas as pd\n",
    "import seaborn as sns\n",
    "import matplotlib.pyplot as plt\n",
    "import os\n",
    "import re\n",
    "\n",
    "import nltk \n",
    "from nltk.corpus import stopwords, wordnet\n",
    "from nltk.stem import WordNetLemmatizer\n",
    "\n",
    "from sklearn.feature_extraction.text import TfidfVectorizer\n",
    "from sklearn.model_selection import (train_test_split, \n",
    "                                     TimeSeriesSplit, \n",
    "                                     GridSearchCV)\n",
    "from sklearn.linear_model import LogisticRegression, SGDClassifier\n",
    "from sklearn.tree import DecisionTreeClassifier\n",
    "from sklearn.metrics import f1_score\n",
    "from sklearn.pipeline import Pipeline\n",
    "\n",
    "from tqdm.notebook import tqdm\n",
    "\n",
    "import warnings\n",
    "warnings.filterwarnings('ignore')"
   ]
  },
  {
   "cell_type": "code",
   "execution_count": 2,
   "metadata": {},
   "outputs": [
    {
     "name": "stdout",
     "output_type": "stream",
     "text": [
      "Данные загружены с сервера Яндекс Практикума.\n"
     ]
    }
   ],
   "source": [
    "# загрузим данные\n",
    "# первый столбец в данных - индекс\n",
    "path1 = '/datasets/toxic_comments.csv'\n",
    "path2 = '/Users/alex/Library/Mobile Documents/com~apple~CloudDocs/Education/Яндекс_Практикум/Проекты/19_Машинное_обучение_для_текстов/toxic_comments.csv'\n",
    "\n",
    "if os.path.exists(path1):\n",
    "    df = pd.read_csv(path1, index_col=0)\n",
    "    print('Данные загружены с сервера Яндекс Практикума.')\n",
    "elif os.path.exists(path2, index_col=0):\n",
    "    df = pd.read_csv(path2)\n",
    "    print('Данные загружены локально.')\n",
    "else:\n",
    "    print('Данные не загружены.')"
   ]
  },
  {
   "cell_type": "code",
   "execution_count": 3,
   "metadata": {},
   "outputs": [
    {
     "name": "stdout",
     "output_type": "stream",
     "text": [
      "<class 'pandas.core.frame.DataFrame'>\n",
      "Int64Index: 159292 entries, 0 to 159450\n",
      "Data columns (total 2 columns):\n",
      " #   Column  Non-Null Count   Dtype \n",
      "---  ------  --------------   ----- \n",
      " 0   text    159292 non-null  object\n",
      " 1   toxic   159292 non-null  int64 \n",
      "dtypes: int64(1), object(1)\n",
      "memory usage: 3.6+ MB\n"
     ]
    },
    {
     "data": {
      "text/html": [
       "<div>\n",
       "<style scoped>\n",
       "    .dataframe tbody tr th:only-of-type {\n",
       "        vertical-align: middle;\n",
       "    }\n",
       "\n",
       "    .dataframe tbody tr th {\n",
       "        vertical-align: top;\n",
       "    }\n",
       "\n",
       "    .dataframe thead th {\n",
       "        text-align: right;\n",
       "    }\n",
       "</style>\n",
       "<table border=\"1\" class=\"dataframe\">\n",
       "  <thead>\n",
       "    <tr style=\"text-align: right;\">\n",
       "      <th></th>\n",
       "      <th>text</th>\n",
       "      <th>toxic</th>\n",
       "    </tr>\n",
       "  </thead>\n",
       "  <tbody>\n",
       "    <tr>\n",
       "      <th>156759</th>\n",
       "      <td>Stroke your Sockpuppet\\nPlease can I? PLEEEAAA...</td>\n",
       "      <td>0</td>\n",
       "    </tr>\n",
       "    <tr>\n",
       "      <th>95085</th>\n",
       "      <td>Scandinavia \\nYou're welcome to take part in t...</td>\n",
       "      <td>0</td>\n",
       "    </tr>\n",
       "    <tr>\n",
       "      <th>68954</th>\n",
       "      <td>So what's the problem? Perhaps the affermation...</td>\n",
       "      <td>0</td>\n",
       "    </tr>\n",
       "  </tbody>\n",
       "</table>\n",
       "</div>"
      ],
      "text/plain": [
       "                                                     text  toxic\n",
       "156759  Stroke your Sockpuppet\\nPlease can I? PLEEEAAA...      0\n",
       "95085   Scandinavia \\nYou're welcome to take part in t...      0\n",
       "68954   So what's the problem? Perhaps the affermation...      0"
      ]
     },
     "metadata": {},
     "output_type": "display_data"
    }
   ],
   "source": [
    "# посмотрим на данные\n",
    "df.info()\n",
    "display(df.sample(3))"
   ]
  },
  {
   "cell_type": "code",
   "execution_count": 4,
   "metadata": {
    "scrolled": true
   },
   "outputs": [
    {
     "name": "stdout",
     "output_type": "stream",
     "text": [
      "Класс 0: 89.84%\n",
      "Класс 1: 10.16%\n"
     ]
    }
   ],
   "source": [
    "# проверим дисбаланс целевого признака\n",
    "print(f\"Класс 0: {df['toxic'].value_counts()[0] / len(df):.2%}\")\n",
    "print(f\"Класс 1: {df['toxic'].value_counts()[1] / len(df):.2%}\")"
   ]
  },
  {
   "cell_type": "code",
   "execution_count": 5,
   "metadata": {},
   "outputs": [
    {
     "name": "stderr",
     "output_type": "stream",
     "text": [
      "[nltk_data] Downloading package punkt to /home/jovyan/nltk_data...\n",
      "[nltk_data]   Package punkt is already up-to-date!\n",
      "[nltk_data] Downloading package averaged_perceptron_tagger to\n",
      "[nltk_data]     /home/jovyan/nltk_data...\n",
      "[nltk_data]   Package averaged_perceptron_tagger is already up-to-\n",
      "[nltk_data]       date!\n",
      "[nltk_data] Downloading package wordnet to /home/jovyan/nltk_data...\n",
      "[nltk_data]   Package wordnet is already up-to-date!\n",
      "[nltk_data] Downloading package stopwords to /home/jovyan/nltk_data...\n",
      "[nltk_data]   Package stopwords is already up-to-date!\n"
     ]
    },
    {
     "data": {
      "application/vnd.jupyter.widget-view+json": {
       "model_id": "5450019f25214b8eacb9320c1dfd4245",
       "version_major": 2,
       "version_minor": 0
      },
      "text/plain": [
       "  0%|          | 0/159292 [00:00<?, ?it/s]"
      ]
     },
     "metadata": {},
     "output_type": "display_data"
    }
   ],
   "source": [
    "# предобработаем текст\n",
    "# функция для создания тега частей речи\n",
    "# функция для обработки и лемматизации текста\n",
    "\n",
    "nltk.download('punkt')\n",
    "nltk.download('averaged_perceptron_tagger')\n",
    "nltk.download('wordnet')\n",
    "nltk.download('stopwords')\n",
    "\n",
    "stop_words = set(stopwords.words('english'))\n",
    "\n",
    "def get_wordnet_pos(word):\n",
    "    tag = nltk.pos_tag([word])[0][1][0].upper()\n",
    "    tag_dict = {\"J\": wordnet.ADJ,\n",
    "                \"N\": wordnet.NOUN,\n",
    "                \"V\": wordnet.VERB,\n",
    "                \"R\": wordnet.ADV}\n",
    "    return tag_dict.get(tag, wordnet.NOUN)\n",
    "                        \n",
    "def word_processing(some_text):\n",
    "    lemmatizer = WordNetLemmatizer()\n",
    "    sentence1 = re.sub(r'[^a-zA-Z]', ' ', some_text.lower())\n",
    "    sentence2 = list(lemmatizer.lemmatize(w, get_wordnet_pos(w)) for w in nltk.word_tokenize(sentence1))\n",
    "    sentence3 = ' '.join(sentence2)\n",
    "    \n",
    "    return ' '.join(sentence3.split())\n",
    "\n",
    "tqdm.pandas()\n",
    "df['text_lem'] = df['text'].progress_apply(word_processing)"
   ]
  },
  {
   "cell_type": "code",
   "execution_count": 6,
   "metadata": {},
   "outputs": [
    {
     "name": "stdout",
     "output_type": "stream",
     "text": [
      "Обучающая: (127433,)\n",
      "Тестовая: (31859,)\n"
     ]
    }
   ],
   "source": [
    "# создадим обучающую и тестовую выборки: 8:2\n",
    "# преобразуем текст в массив признаков с помощью TF-IDF\n",
    "random_state = 42\n",
    "features = df['text_lem']\n",
    "target = df['toxic']\n",
    "\n",
    "X_train, X_test, y_train, y_test = train_test_split(features, target, test_size=0.2,\n",
    "                                                    random_state=random_state, stratify=target)\n",
    "\n",
    "print('Обучающая:', X_train.shape)\n",
    "print('Тестовая:', X_test.shape)"
   ]
  },
  {
   "cell_type": "markdown",
   "metadata": {},
   "source": [
    "* В таблице с предоставленными данными `159292` записей, пропусков нет;\n",
    "* Дисбаланс целевого признака: чуть более `10%` токсичных комментариев;\n",
    "* Язык комментариев: английский;\n",
    "* В тексте содержатся лишние символы.    \n",
    "\n",
    "Данные успешно загружены, очищены от лишних символов, приведены к одному формату и лемматизированы, выделены обучающая и тестовая выборки (`8:2`)."
   ]
  },
  {
   "cell_type": "markdown",
   "metadata": {},
   "source": [
    "## Обучение"
   ]
  },
  {
   "cell_type": "code",
   "execution_count": 7,
   "metadata": {
    "scrolled": true
   },
   "outputs": [
    {
     "name": "stdout",
     "output_type": "stream",
     "text": [
      "Fitting 2 folds for each of 70 candidates, totalling 140 fits\n",
      "[CV 1/2] END clf=LogisticRegression(class_weight='balanced', random_state=42), clf__C=0.01, clf__penalty=l1, clf__solver=liblinear; total time=   6.2s\n",
      "[CV 2/2] END clf=LogisticRegression(class_weight='balanced', random_state=42), clf__C=0.01, clf__penalty=l1, clf__solver=liblinear; total time=   6.3s\n",
      "[CV 1/2] END clf=LogisticRegression(class_weight='balanced', random_state=42), clf__C=0.01, clf__penalty=l1, clf__solver=sag; total time=   3.0s\n",
      "[CV 2/2] END clf=LogisticRegression(class_weight='balanced', random_state=42), clf__C=0.01, clf__penalty=l1, clf__solver=sag; total time=   3.0s\n",
      "[CV 1/2] END clf=LogisticRegression(class_weight='balanced', random_state=42), clf__C=0.01, clf__penalty=l1, clf__solver=saga; total time=   8.2s\n",
      "[CV 2/2] END clf=LogisticRegression(class_weight='balanced', random_state=42), clf__C=0.01, clf__penalty=l1, clf__solver=saga; total time=   7.8s\n",
      "[CV 1/2] END clf=LogisticRegression(class_weight='balanced', random_state=42), clf__C=0.01, clf__penalty=l2, clf__solver=liblinear; total time=   8.4s\n",
      "[CV 2/2] END clf=LogisticRegression(class_weight='balanced', random_state=42), clf__C=0.01, clf__penalty=l2, clf__solver=liblinear; total time=   8.5s\n",
      "[CV 1/2] END clf=LogisticRegression(class_weight='balanced', random_state=42), clf__C=0.01, clf__penalty=l2, clf__solver=sag; total time=   6.5s\n",
      "[CV 2/2] END clf=LogisticRegression(class_weight='balanced', random_state=42), clf__C=0.01, clf__penalty=l2, clf__solver=sag; total time=   6.6s\n",
      "[CV 1/2] END clf=LogisticRegression(class_weight='balanced', random_state=42), clf__C=0.01, clf__penalty=l2, clf__solver=saga; total time=   7.3s\n",
      "[CV 2/2] END clf=LogisticRegression(class_weight='balanced', random_state=42), clf__C=0.01, clf__penalty=l2, clf__solver=saga; total time=   7.3s\n",
      "[CV 1/2] END clf=LogisticRegression(class_weight='balanced', random_state=42), clf__C=1, clf__penalty=l1, clf__solver=liblinear; total time=   6.5s\n",
      "[CV 2/2] END clf=LogisticRegression(class_weight='balanced', random_state=42), clf__C=1, clf__penalty=l1, clf__solver=liblinear; total time=   6.3s\n",
      "[CV 1/2] END clf=LogisticRegression(class_weight='balanced', random_state=42), clf__C=1, clf__penalty=l1, clf__solver=sag; total time=   2.9s\n",
      "[CV 2/2] END clf=LogisticRegression(class_weight='balanced', random_state=42), clf__C=1, clf__penalty=l1, clf__solver=sag; total time=   3.0s\n",
      "[CV 1/2] END clf=LogisticRegression(class_weight='balanced', random_state=42), clf__C=1, clf__penalty=l1, clf__solver=saga; total time= 1.1min\n",
      "[CV 2/2] END clf=LogisticRegression(class_weight='balanced', random_state=42), clf__C=1, clf__penalty=l1, clf__solver=saga; total time= 1.1min\n",
      "[CV 1/2] END clf=LogisticRegression(class_weight='balanced', random_state=42), clf__C=1, clf__penalty=l2, clf__solver=liblinear; total time=  13.4s\n",
      "[CV 2/2] END clf=LogisticRegression(class_weight='balanced', random_state=42), clf__C=1, clf__penalty=l2, clf__solver=liblinear; total time=  14.2s\n",
      "[CV 1/2] END clf=LogisticRegression(class_weight='balanced', random_state=42), clf__C=1, clf__penalty=l2, clf__solver=sag; total time=   8.0s\n",
      "[CV 2/2] END clf=LogisticRegression(class_weight='balanced', random_state=42), clf__C=1, clf__penalty=l2, clf__solver=sag; total time=   7.7s\n",
      "[CV 1/2] END clf=LogisticRegression(class_weight='balanced', random_state=42), clf__C=1, clf__penalty=l2, clf__solver=saga; total time=  11.3s\n",
      "[CV 2/2] END clf=LogisticRegression(class_weight='balanced', random_state=42), clf__C=1, clf__penalty=l2, clf__solver=saga; total time=  11.4s\n",
      "[CV 1/2] END clf=LogisticRegression(class_weight='balanced', random_state=42), clf__C=10, clf__penalty=l1, clf__solver=liblinear; total time=   8.0s\n",
      "[CV 2/2] END clf=LogisticRegression(class_weight='balanced', random_state=42), clf__C=10, clf__penalty=l1, clf__solver=liblinear; total time=  14.9s\n",
      "[CV 1/2] END clf=LogisticRegression(class_weight='balanced', random_state=42), clf__C=10, clf__penalty=l1, clf__solver=sag; total time=   2.9s\n",
      "[CV 2/2] END clf=LogisticRegression(class_weight='balanced', random_state=42), clf__C=10, clf__penalty=l1, clf__solver=sag; total time=   2.9s\n",
      "[CV 1/2] END clf=LogisticRegression(class_weight='balanced', random_state=42), clf__C=10, clf__penalty=l1, clf__solver=saga; total time= 3.2min\n",
      "[CV 2/2] END clf=LogisticRegression(class_weight='balanced', random_state=42), clf__C=10, clf__penalty=l1, clf__solver=saga; total time= 3.2min\n",
      "[CV 1/2] END clf=LogisticRegression(class_weight='balanced', random_state=42), clf__C=10, clf__penalty=l2, clf__solver=liblinear; total time=  22.6s\n",
      "[CV 2/2] END clf=LogisticRegression(class_weight='balanced', random_state=42), clf__C=10, clf__penalty=l2, clf__solver=liblinear; total time=  23.0s\n",
      "[CV 1/2] END clf=LogisticRegression(class_weight='balanced', random_state=42), clf__C=10, clf__penalty=l2, clf__solver=sag; total time=  10.9s\n",
      "[CV 2/2] END clf=LogisticRegression(class_weight='balanced', random_state=42), clf__C=10, clf__penalty=l2, clf__solver=sag; total time=  11.0s\n",
      "[CV 1/2] END clf=LogisticRegression(class_weight='balanced', random_state=42), clf__C=10, clf__penalty=l2, clf__solver=saga; total time=  11.3s\n",
      "[CV 2/2] END clf=LogisticRegression(class_weight='balanced', random_state=42), clf__C=10, clf__penalty=l2, clf__solver=saga; total time=  11.4s\n",
      "[CV 1/2] END clf=SGDClassifier(class_weight='balanced', random_state=42), clf__eta0=0.001, clf__learning_rate=constant, clf__loss=hinge; total time=   7.2s\n",
      "[CV 2/2] END clf=SGDClassifier(class_weight='balanced', random_state=42), clf__eta0=0.001, clf__learning_rate=constant, clf__loss=hinge; total time=   7.4s\n",
      "[CV 1/2] END clf=SGDClassifier(class_weight='balanced', random_state=42), clf__eta0=0.001, clf__learning_rate=constant, clf__loss=log; total time=   7.4s\n",
      "[CV 2/2] END clf=SGDClassifier(class_weight='balanced', random_state=42), clf__eta0=0.001, clf__learning_rate=constant, clf__loss=log; total time=   7.5s\n",
      "[CV 1/2] END clf=SGDClassifier(class_weight='balanced', random_state=42), clf__eta0=0.001, clf__learning_rate=constant, clf__loss=modified_huber; total time=   7.3s\n",
      "[CV 2/2] END clf=SGDClassifier(class_weight='balanced', random_state=42), clf__eta0=0.001, clf__learning_rate=constant, clf__loss=modified_huber; total time=   7.5s\n",
      "[CV 1/2] END clf=SGDClassifier(class_weight='balanced', random_state=42), clf__eta0=0.001, clf__learning_rate=optimal, clf__loss=hinge; total time=   6.2s\n",
      "[CV 2/2] END clf=SGDClassifier(class_weight='balanced', random_state=42), clf__eta0=0.001, clf__learning_rate=optimal, clf__loss=hinge; total time=   6.2s\n",
      "[CV 1/2] END clf=SGDClassifier(class_weight='balanced', random_state=42), clf__eta0=0.001, clf__learning_rate=optimal, clf__loss=log; total time=   6.0s\n",
      "[CV 2/2] END clf=SGDClassifier(class_weight='balanced', random_state=42), clf__eta0=0.001, clf__learning_rate=optimal, clf__loss=log; total time=   6.0s\n",
      "[CV 1/2] END clf=SGDClassifier(class_weight='balanced', random_state=42), clf__eta0=0.001, clf__learning_rate=optimal, clf__loss=modified_huber; total time=   6.2s\n",
      "[CV 2/2] END clf=SGDClassifier(class_weight='balanced', random_state=42), clf__eta0=0.001, clf__learning_rate=optimal, clf__loss=modified_huber; total time=   6.1s\n",
      "[CV 1/2] END clf=SGDClassifier(class_weight='balanced', random_state=42), clf__eta0=0.001, clf__learning_rate=invscaling, clf__loss=hinge; total time=   6.0s\n",
      "[CV 2/2] END clf=SGDClassifier(class_weight='balanced', random_state=42), clf__eta0=0.001, clf__learning_rate=invscaling, clf__loss=hinge; total time=   6.0s\n",
      "[CV 1/2] END clf=SGDClassifier(class_weight='balanced', random_state=42), clf__eta0=0.001, clf__learning_rate=invscaling, clf__loss=log; total time=   6.1s\n",
      "[CV 2/2] END clf=SGDClassifier(class_weight='balanced', random_state=42), clf__eta0=0.001, clf__learning_rate=invscaling, clf__loss=log; total time=   5.9s\n",
      "[CV 1/2] END clf=SGDClassifier(class_weight='balanced', random_state=42), clf__eta0=0.001, clf__learning_rate=invscaling, clf__loss=modified_huber; total time=   6.1s\n",
      "[CV 2/2] END clf=SGDClassifier(class_weight='balanced', random_state=42), clf__eta0=0.001, clf__learning_rate=invscaling, clf__loss=modified_huber; total time=   6.0s\n",
      "[CV 1/2] END clf=SGDClassifier(class_weight='balanced', random_state=42), clf__eta0=0.001, clf__learning_rate=adaptive, clf__loss=hinge; total time=   7.2s\n",
      "[CV 2/2] END clf=SGDClassifier(class_weight='balanced', random_state=42), clf__eta0=0.001, clf__learning_rate=adaptive, clf__loss=hinge; total time=   7.3s\n",
      "[CV 1/2] END clf=SGDClassifier(class_weight='balanced', random_state=42), clf__eta0=0.001, clf__learning_rate=adaptive, clf__loss=log; total time=   7.8s\n",
      "[CV 2/2] END clf=SGDClassifier(class_weight='balanced', random_state=42), clf__eta0=0.001, clf__learning_rate=adaptive, clf__loss=log; total time=   7.7s\n",
      "[CV 1/2] END clf=SGDClassifier(class_weight='balanced', random_state=42), clf__eta0=0.001, clf__learning_rate=adaptive, clf__loss=modified_huber; total time=   7.5s\n",
      "[CV 2/2] END clf=SGDClassifier(class_weight='balanced', random_state=42), clf__eta0=0.001, clf__learning_rate=adaptive, clf__loss=modified_huber; total time=   7.6s\n",
      "[CV 1/2] END clf=SGDClassifier(class_weight='balanced', random_state=42), clf__eta0=0.05, clf__learning_rate=constant, clf__loss=hinge; total time=   6.1s\n",
      "[CV 2/2] END clf=SGDClassifier(class_weight='balanced', random_state=42), clf__eta0=0.05, clf__learning_rate=constant, clf__loss=hinge; total time=   6.1s\n",
      "[CV 1/2] END clf=SGDClassifier(class_weight='balanced', random_state=42), clf__eta0=0.05, clf__learning_rate=constant, clf__loss=log; total time=   6.1s\n",
      "[CV 2/2] END clf=SGDClassifier(class_weight='balanced', random_state=42), clf__eta0=0.05, clf__learning_rate=constant, clf__loss=log; total time=   6.3s\n",
      "[CV 1/2] END clf=SGDClassifier(class_weight='balanced', random_state=42), clf__eta0=0.05, clf__learning_rate=constant, clf__loss=modified_huber; total time=   6.1s\n",
      "[CV 2/2] END clf=SGDClassifier(class_weight='balanced', random_state=42), clf__eta0=0.05, clf__learning_rate=constant, clf__loss=modified_huber; total time=   6.0s\n",
      "[CV 1/2] END clf=SGDClassifier(class_weight='balanced', random_state=42), clf__eta0=0.05, clf__learning_rate=optimal, clf__loss=hinge; total time=   6.0s\n",
      "[CV 2/2] END clf=SGDClassifier(class_weight='balanced', random_state=42), clf__eta0=0.05, clf__learning_rate=optimal, clf__loss=hinge; total time=   5.9s\n",
      "[CV 1/2] END clf=SGDClassifier(class_weight='balanced', random_state=42), clf__eta0=0.05, clf__learning_rate=optimal, clf__loss=log; total time=   6.0s\n",
      "[CV 2/2] END clf=SGDClassifier(class_weight='balanced', random_state=42), clf__eta0=0.05, clf__learning_rate=optimal, clf__loss=log; total time=   5.9s\n",
      "[CV 1/2] END clf=SGDClassifier(class_weight='balanced', random_state=42), clf__eta0=0.05, clf__learning_rate=optimal, clf__loss=modified_huber; total time=   6.1s\n",
      "[CV 2/2] END clf=SGDClassifier(class_weight='balanced', random_state=42), clf__eta0=0.05, clf__learning_rate=optimal, clf__loss=modified_huber; total time=   6.1s\n",
      "[CV 1/2] END clf=SGDClassifier(class_weight='balanced', random_state=42), clf__eta0=0.05, clf__learning_rate=invscaling, clf__loss=hinge; total time=   7.7s\n",
      "[CV 2/2] END clf=SGDClassifier(class_weight='balanced', random_state=42), clf__eta0=0.05, clf__learning_rate=invscaling, clf__loss=hinge; total time=   7.6s\n",
      "[CV 1/2] END clf=SGDClassifier(class_weight='balanced', random_state=42), clf__eta0=0.05, clf__learning_rate=invscaling, clf__loss=log; total time=   6.3s\n",
      "[CV 2/2] END clf=SGDClassifier(class_weight='balanced', random_state=42), clf__eta0=0.05, clf__learning_rate=invscaling, clf__loss=log; total time=   6.5s\n",
      "[CV 1/2] END clf=SGDClassifier(class_weight='balanced', random_state=42), clf__eta0=0.05, clf__learning_rate=invscaling, clf__loss=modified_huber; total time=   7.2s\n",
      "[CV 2/2] END clf=SGDClassifier(class_weight='balanced', random_state=42), clf__eta0=0.05, clf__learning_rate=invscaling, clf__loss=modified_huber; total time=   7.0s\n",
      "[CV 1/2] END clf=SGDClassifier(class_weight='balanced', random_state=42), clf__eta0=0.05, clf__learning_rate=adaptive, clf__loss=hinge; total time=   6.5s\n",
      "[CV 2/2] END clf=SGDClassifier(class_weight='balanced', random_state=42), clf__eta0=0.05, clf__learning_rate=adaptive, clf__loss=hinge; total time=   6.4s\n",
      "[CV 1/2] END clf=SGDClassifier(class_weight='balanced', random_state=42), clf__eta0=0.05, clf__learning_rate=adaptive, clf__loss=log; total time=   6.7s\n",
      "[CV 2/2] END clf=SGDClassifier(class_weight='balanced', random_state=42), clf__eta0=0.05, clf__learning_rate=adaptive, clf__loss=log; total time=   6.8s\n",
      "[CV 1/2] END clf=SGDClassifier(class_weight='balanced', random_state=42), clf__eta0=0.05, clf__learning_rate=adaptive, clf__loss=modified_huber; total time=   6.6s\n",
      "[CV 2/2] END clf=SGDClassifier(class_weight='balanced', random_state=42), clf__eta0=0.05, clf__learning_rate=adaptive, clf__loss=modified_huber; total time=   6.6s\n",
      "[CV 1/2] END clf=SGDClassifier(class_weight='balanced', random_state=42), clf__eta0=0.1, clf__learning_rate=constant, clf__loss=hinge; total time=   6.0s\n",
      "[CV 2/2] END clf=SGDClassifier(class_weight='balanced', random_state=42), clf__eta0=0.1, clf__learning_rate=constant, clf__loss=hinge; total time=   5.9s\n",
      "[CV 1/2] END clf=SGDClassifier(class_weight='balanced', random_state=42), clf__eta0=0.1, clf__learning_rate=constant, clf__loss=log; total time=   6.1s\n",
      "[CV 2/2] END clf=SGDClassifier(class_weight='balanced', random_state=42), clf__eta0=0.1, clf__learning_rate=constant, clf__loss=log; total time=   6.0s\n",
      "[CV 1/2] END clf=SGDClassifier(class_weight='balanced', random_state=42), clf__eta0=0.1, clf__learning_rate=constant, clf__loss=modified_huber; total time=   6.0s\n",
      "[CV 2/2] END clf=SGDClassifier(class_weight='balanced', random_state=42), clf__eta0=0.1, clf__learning_rate=constant, clf__loss=modified_huber; total time=   5.9s\n",
      "[CV 1/2] END clf=SGDClassifier(class_weight='balanced', random_state=42), clf__eta0=0.1, clf__learning_rate=optimal, clf__loss=hinge; total time=   6.0s\n",
      "[CV 2/2] END clf=SGDClassifier(class_weight='balanced', random_state=42), clf__eta0=0.1, clf__learning_rate=optimal, clf__loss=hinge; total time=   6.0s\n",
      "[CV 1/2] END clf=SGDClassifier(class_weight='balanced', random_state=42), clf__eta0=0.1, clf__learning_rate=optimal, clf__loss=log; total time=   6.0s\n",
      "[CV 2/2] END clf=SGDClassifier(class_weight='balanced', random_state=42), clf__eta0=0.1, clf__learning_rate=optimal, clf__loss=log; total time=   6.0s\n",
      "[CV 1/2] END clf=SGDClassifier(class_weight='balanced', random_state=42), clf__eta0=0.1, clf__learning_rate=optimal, clf__loss=modified_huber; total time=   6.1s\n",
      "[CV 2/2] END clf=SGDClassifier(class_weight='balanced', random_state=42), clf__eta0=0.1, clf__learning_rate=optimal, clf__loss=modified_huber; total time=   6.0s\n",
      "[CV 1/2] END clf=SGDClassifier(class_weight='balanced', random_state=42), clf__eta0=0.1, clf__learning_rate=invscaling, clf__loss=hinge; total time=   7.1s\n",
      "[CV 2/2] END clf=SGDClassifier(class_weight='balanced', random_state=42), clf__eta0=0.1, clf__learning_rate=invscaling, clf__loss=hinge; total time=   7.0s\n",
      "[CV 1/2] END clf=SGDClassifier(class_weight='balanced', random_state=42), clf__eta0=0.1, clf__learning_rate=invscaling, clf__loss=log; total time=   6.8s\n",
      "[CV 2/2] END clf=SGDClassifier(class_weight='balanced', random_state=42), clf__eta0=0.1, clf__learning_rate=invscaling, clf__loss=log; total time=   6.9s\n",
      "[CV 1/2] END clf=SGDClassifier(class_weight='balanced', random_state=42), clf__eta0=0.1, clf__learning_rate=invscaling, clf__loss=modified_huber; total time=   6.7s\n",
      "[CV 2/2] END clf=SGDClassifier(class_weight='balanced', random_state=42), clf__eta0=0.1, clf__learning_rate=invscaling, clf__loss=modified_huber; total time=   6.8s\n",
      "[CV 1/2] END clf=SGDClassifier(class_weight='balanced', random_state=42), clf__eta0=0.1, clf__learning_rate=adaptive, clf__loss=hinge; total time=   6.6s\n",
      "[CV 2/2] END clf=SGDClassifier(class_weight='balanced', random_state=42), clf__eta0=0.1, clf__learning_rate=adaptive, clf__loss=hinge; total time=   6.5s\n",
      "[CV 1/2] END clf=SGDClassifier(class_weight='balanced', random_state=42), clf__eta0=0.1, clf__learning_rate=adaptive, clf__loss=log; total time=   6.9s\n",
      "[CV 2/2] END clf=SGDClassifier(class_weight='balanced', random_state=42), clf__eta0=0.1, clf__learning_rate=adaptive, clf__loss=log; total time=   7.0s\n",
      "[CV 1/2] END clf=SGDClassifier(class_weight='balanced', random_state=42), clf__eta0=0.1, clf__learning_rate=adaptive, clf__loss=modified_huber; total time=   6.7s\n",
      "[CV 2/2] END clf=SGDClassifier(class_weight='balanced', random_state=42), clf__eta0=0.1, clf__learning_rate=adaptive, clf__loss=modified_huber; total time=   6.7s\n",
      "[CV 1/2] END clf=DecisionTreeClassifier(class_weight='balanced', random_state=42), clf__criterion=gini, clf__max_depth=10, clf__min_samples_leaf=1; total time=   8.6s\n",
      "[CV 2/2] END clf=DecisionTreeClassifier(class_weight='balanced', random_state=42), clf__criterion=gini, clf__max_depth=10, clf__min_samples_leaf=1; total time=   8.8s\n",
      "[CV 1/2] END clf=DecisionTreeClassifier(class_weight='balanced', random_state=42), clf__criterion=gini, clf__max_depth=10, clf__min_samples_leaf=2; total time=   8.5s\n",
      "[CV 2/2] END clf=DecisionTreeClassifier(class_weight='balanced', random_state=42), clf__criterion=gini, clf__max_depth=10, clf__min_samples_leaf=2; total time=   8.8s\n",
      "[CV 1/2] END clf=DecisionTreeClassifier(class_weight='balanced', random_state=42), clf__criterion=gini, clf__max_depth=20, clf__min_samples_leaf=1; total time=  12.6s\n",
      "[CV 2/2] END clf=DecisionTreeClassifier(class_weight='balanced', random_state=42), clf__criterion=gini, clf__max_depth=20, clf__min_samples_leaf=1; total time=  13.0s\n",
      "[CV 1/2] END clf=DecisionTreeClassifier(class_weight='balanced', random_state=42), clf__criterion=gini, clf__max_depth=20, clf__min_samples_leaf=2; total time=  12.8s\n",
      "[CV 2/2] END clf=DecisionTreeClassifier(class_weight='balanced', random_state=42), clf__criterion=gini, clf__max_depth=20, clf__min_samples_leaf=2; total time=  13.0s\n",
      "[CV 1/2] END clf=DecisionTreeClassifier(class_weight='balanced', random_state=42), clf__criterion=gini, clf__max_depth=30, clf__min_samples_leaf=1; total time=  17.9s\n",
      "[CV 2/2] END clf=DecisionTreeClassifier(class_weight='balanced', random_state=42), clf__criterion=gini, clf__max_depth=30, clf__min_samples_leaf=1; total time=  17.9s\n",
      "[CV 1/2] END clf=DecisionTreeClassifier(class_weight='balanced', random_state=42), clf__criterion=gini, clf__max_depth=30, clf__min_samples_leaf=2; total time=  16.9s\n",
      "[CV 2/2] END clf=DecisionTreeClassifier(class_weight='balanced', random_state=42), clf__criterion=gini, clf__max_depth=30, clf__min_samples_leaf=2; total time=  17.2s\n",
      "[CV 1/2] END clf=DecisionTreeClassifier(class_weight='balanced', random_state=42), clf__criterion=gini, clf__max_depth=40, clf__min_samples_leaf=1; total time=  22.0s\n",
      "[CV 2/2] END clf=DecisionTreeClassifier(class_weight='balanced', random_state=42), clf__criterion=gini, clf__max_depth=40, clf__min_samples_leaf=1; total time=  21.6s\n",
      "[CV 1/2] END clf=DecisionTreeClassifier(class_weight='balanced', random_state=42), clf__criterion=gini, clf__max_depth=40, clf__min_samples_leaf=2; total time=  21.2s\n",
      "[CV 2/2] END clf=DecisionTreeClassifier(class_weight='balanced', random_state=42), clf__criterion=gini, clf__max_depth=40, clf__min_samples_leaf=2; total time=  21.2s\n",
      "[CV 1/2] END clf=DecisionTreeClassifier(class_weight='balanced', random_state=42), clf__criterion=entropy, clf__max_depth=10, clf__min_samples_leaf=1; total time=   9.4s\n",
      "[CV 2/2] END clf=DecisionTreeClassifier(class_weight='balanced', random_state=42), clf__criterion=entropy, clf__max_depth=10, clf__min_samples_leaf=1; total time=  10.1s\n",
      "[CV 1/2] END clf=DecisionTreeClassifier(class_weight='balanced', random_state=42), clf__criterion=entropy, clf__max_depth=10, clf__min_samples_leaf=2; total time=   9.4s\n",
      "[CV 2/2] END clf=DecisionTreeClassifier(class_weight='balanced', random_state=42), clf__criterion=entropy, clf__max_depth=10, clf__min_samples_leaf=2; total time=   9.4s\n",
      "[CV 1/2] END clf=DecisionTreeClassifier(class_weight='balanced', random_state=42), clf__criterion=entropy, clf__max_depth=20, clf__min_samples_leaf=1; total time=  13.8s\n",
      "[CV 2/2] END clf=DecisionTreeClassifier(class_weight='balanced', random_state=42), clf__criterion=entropy, clf__max_depth=20, clf__min_samples_leaf=1; total time=  14.0s\n",
      "[CV 1/2] END clf=DecisionTreeClassifier(class_weight='balanced', random_state=42), clf__criterion=entropy, clf__max_depth=20, clf__min_samples_leaf=2; total time=  13.3s\n",
      "[CV 2/2] END clf=DecisionTreeClassifier(class_weight='balanced', random_state=42), clf__criterion=entropy, clf__max_depth=20, clf__min_samples_leaf=2; total time=  14.0s\n",
      "[CV 1/2] END clf=DecisionTreeClassifier(class_weight='balanced', random_state=42), clf__criterion=entropy, clf__max_depth=30, clf__min_samples_leaf=1; total time=  18.4s\n",
      "[CV 2/2] END clf=DecisionTreeClassifier(class_weight='balanced', random_state=42), clf__criterion=entropy, clf__max_depth=30, clf__min_samples_leaf=1; total time=  18.5s\n",
      "[CV 1/2] END clf=DecisionTreeClassifier(class_weight='balanced', random_state=42), clf__criterion=entropy, clf__max_depth=30, clf__min_samples_leaf=2; total time=  17.9s\n",
      "[CV 2/2] END clf=DecisionTreeClassifier(class_weight='balanced', random_state=42), clf__criterion=entropy, clf__max_depth=30, clf__min_samples_leaf=2; total time=  17.7s\n",
      "[CV 1/2] END clf=DecisionTreeClassifier(class_weight='balanced', random_state=42), clf__criterion=entropy, clf__max_depth=40, clf__min_samples_leaf=1; total time=  22.5s\n",
      "[CV 2/2] END clf=DecisionTreeClassifier(class_weight='balanced', random_state=42), clf__criterion=entropy, clf__max_depth=40, clf__min_samples_leaf=1; total time=  22.0s\n",
      "[CV 1/2] END clf=DecisionTreeClassifier(class_weight='balanced', random_state=42), clf__criterion=entropy, clf__max_depth=40, clf__min_samples_leaf=2; total time=  21.5s\n",
      "[CV 2/2] END clf=DecisionTreeClassifier(class_weight='balanced', random_state=42), clf__criterion=entropy, clf__max_depth=40, clf__min_samples_leaf=2; total time=  21.4s\n",
      "\n",
      "LogisticRegression(C=10, class_weight='balanced', random_state=42,\n",
      "                   solver='liblinear'): Score = 0.7559, Params = {'clf': LogisticRegression(C=10, class_weight='balanced', random_state=42,\n",
      "                   solver='liblinear'), 'clf__C': 10, 'clf__penalty': 'l2', 'clf__solver': 'liblinear'}\n"
     ]
    }
   ],
   "source": [
    "# создадим обучающую и тестовую выборки: 8:2\n",
    "# преобразуем текст в массив признаков с помощью TF-IDF\n",
    "# обучим три модели:  LogisticRegression, SGDClassifier, DecisionTreeClassifier\n",
    "# метрика F1\n",
    "\n",
    "tfidf_params = {'stop_words': stop_words}\n",
    "\n",
    "params = [{'clf':[LogisticRegression(class_weight='balanced', random_state=random_state)],\n",
    "           'clf__penalty':['l1', 'l2'],\n",
    "           'clf__C':[0.01,1,10],\n",
    "           'clf__solver': ['liblinear', 'sag', 'saga']\n",
    "          },\n",
    "          \n",
    "          {'clf': [SGDClassifier(class_weight='balanced', random_state=random_state)],\n",
    "           'clf__loss': ('hinge', 'log', 'modified_huber'),\n",
    "           'clf__learning_rate': ('constant', 'optimal', 'invscaling', 'adaptive'),\n",
    "           'clf__eta0': (.001, .05, .1)\n",
    "          },\n",
    "          \n",
    "          {'clf': [DecisionTreeClassifier(class_weight='balanced', random_state=random_state)],\n",
    "           'clf__criterion':['gini', 'entropy'],\n",
    "           'clf__max_depth': np.arange(10, 50, 10).tolist(),\n",
    "           'clf__min_samples_leaf': np.arange(1, 3, 1).tolist()\n",
    "          }\n",
    "         ]\n",
    "\n",
    "best_scores = {}\n",
    "\n",
    "models = {'LogisticRegression': LogisticRegression(class_weight='balanced', random_state=random_state),\n",
    "          'SGDClassifier': SGDClassifier(class_weight='balanced', random_state=random_state),\n",
    "          'DecisionTreeClassifier': DecisionTreeClassifier(class_weight='balanced', random_state=random_state)}\n",
    "\n",
    "pipeline = Pipeline([('tf_idf', TfidfVectorizer(**tfidf_params)), ('clf', LogisticRegression())])\n",
    "\n",
    "grid_search = GridSearchCV(pipeline, params, cv=2, scoring='f1', verbose=5)\n",
    "grid_search.fit(X_train, y_train)\n",
    "                         \n",
    "best_model = grid_search.best_estimator_\n",
    "\n",
    "print()\n",
    "\n",
    "print(f\"{best_model[1]}: Score = {grid_search.best_score_:.4f}\")"
   ]
  },
  {
   "cell_type": "markdown",
   "metadata": {},
   "source": [
    "Лучшая модель:    \n",
    "`LogisticRegression: Score = 0.7559, Params = {'C': 10, 'penalty': 'l2', 'solver': 'liblinear'}`"
   ]
  },
  {
   "cell_type": "code",
   "execution_count": 13,
   "metadata": {},
   "outputs": [
    {
     "data": {
      "text/html": [
       "<div>\n",
       "<style scoped>\n",
       "    .dataframe tbody tr th:only-of-type {\n",
       "        vertical-align: middle;\n",
       "    }\n",
       "\n",
       "    .dataframe tbody tr th {\n",
       "        vertical-align: top;\n",
       "    }\n",
       "\n",
       "    .dataframe thead th {\n",
       "        text-align: right;\n",
       "    }\n",
       "</style>\n",
       "<table border=\"1\" class=\"dataframe\">\n",
       "  <thead>\n",
       "    <tr style=\"text-align: right;\">\n",
       "      <th></th>\n",
       "      <th>Модель</th>\n",
       "      <th>F1</th>\n",
       "    </tr>\n",
       "  </thead>\n",
       "  <tbody>\n",
       "    <tr>\n",
       "      <th>0</th>\n",
       "      <td>LogisticRegression</td>\n",
       "      <td>0.757901</td>\n",
       "    </tr>\n",
       "  </tbody>\n",
       "</table>\n",
       "</div>"
      ],
      "text/plain": [
       "               Модель        F1\n",
       "0  LogisticRegression  0.757901"
      ]
     },
     "execution_count": 13,
     "metadata": {},
     "output_type": "execute_result"
    }
   ],
   "source": [
    "# проверим модель на тестовой выборке\n",
    "results = []\n",
    "predictions_valid = best_model.predict(X_test)\n",
    "f1 =  f1_score(y_test, predictions_valid)\n",
    "results.append({'Модель': best_model[1].__class__.__name__,\n",
    "                'F1': f1})\n",
    "pd.DataFrame(results)"
   ]
  },
  {
   "cell_type": "markdown",
   "metadata": {},
   "source": [
    "## Выводы"
   ]
  },
  {
   "cell_type": "markdown",
   "metadata": {},
   "source": [
    "* Загружен и проанализирован набор данных с разметкой о токсичности правок.\n",
    "* Текстовые данные очищены от лишних символов, приведены к одному формату и лемматизированы, посчитана частота слов и выполнена кодировка в массив признаков.\n",
    "* Из трёх обученных моделей выбрана наилучшая: `LogisticRegression`, с гиперпараметрами:\n",
    "* * `C=10, penalty='l2', solver='liblinear', class_weight='balanced'` .\n",
    "* На тестовых данных, значение метрики `F1 = 0.757901`, что удовлетворяет условиям поставленной задачи.\n"
   ]
  }
 ],
 "metadata": {
  "ExecuteTimeLog": [
   {
    "duration": 54,
    "start_time": "2024-01-22T22:22:50.124Z"
   },
   {
    "duration": 2439,
    "start_time": "2024-01-22T22:22:53.953Z"
   },
   {
    "duration": 112,
    "start_time": "2024-01-22T22:23:00.319Z"
   },
   {
    "duration": 12,
    "start_time": "2024-01-22T22:26:12.467Z"
   },
   {
    "duration": 75,
    "start_time": "2024-01-22T22:27:41.015Z"
   },
   {
    "duration": 3270,
    "start_time": "2024-01-22T22:29:13.626Z"
   },
   {
    "duration": 3,
    "start_time": "2024-01-22T22:30:08.062Z"
   },
   {
    "duration": 48,
    "start_time": "2024-01-22T22:30:13.011Z"
   },
   {
    "duration": 57,
    "start_time": "2024-01-22T22:30:51.549Z"
   },
   {
    "duration": 58,
    "start_time": "2024-01-22T22:31:17.814Z"
   },
   {
    "duration": 44,
    "start_time": "2024-01-22T22:40:55.718Z"
   },
   {
    "duration": 51,
    "start_time": "2024-01-22T22:41:39.802Z"
   },
   {
    "duration": 4,
    "start_time": "2024-01-22T22:41:52.613Z"
   },
   {
    "duration": 381,
    "start_time": "2024-01-22T22:42:38.948Z"
   },
   {
    "duration": 6,
    "start_time": "2024-01-22T22:43:27.115Z"
   },
   {
    "duration": 957,
    "start_time": "2024-01-22T22:55:16.615Z"
   },
   {
    "duration": 39,
    "start_time": "2024-01-22T22:55:22.161Z"
   },
   {
    "duration": 34,
    "start_time": "2024-01-22T22:55:36.071Z"
   },
   {
    "duration": 908,
    "start_time": "2024-01-22T22:55:57.851Z"
   },
   {
    "duration": 38,
    "start_time": "2024-01-22T22:56:02.620Z"
   },
   {
    "duration": 7,
    "start_time": "2024-01-22T22:56:06.116Z"
   },
   {
    "duration": 716,
    "start_time": "2024-01-23T01:30:38.709Z"
   },
   {
    "duration": 41,
    "start_time": "2024-01-23T01:31:53.147Z"
   },
   {
    "duration": 13,
    "start_time": "2024-01-23T01:32:06.977Z"
   },
   {
    "duration": 78667,
    "start_time": "2024-01-23T01:33:56.149Z"
   },
   {
    "duration": 13,
    "start_time": "2024-01-23T01:39:43.092Z"
   },
   {
    "duration": 3908,
    "start_time": "2024-01-23T01:42:18.754Z"
   },
   {
    "duration": 15,
    "start_time": "2024-01-23T01:42:30.841Z"
   },
   {
    "duration": 24,
    "start_time": "2024-01-23T01:43:21.093Z"
   },
   {
    "duration": 34385,
    "start_time": "2024-01-23T01:44:13.039Z"
   },
   {
    "duration": 9521,
    "start_time": "2024-01-23T01:46:10.101Z"
   },
   {
    "duration": 34173,
    "start_time": "2024-01-23T01:46:46.854Z"
   },
   {
    "duration": 3,
    "start_time": "2024-01-23T01:53:30.435Z"
   },
   {
    "duration": 4,
    "start_time": "2024-01-23T01:53:50.625Z"
   },
   {
    "duration": 16,
    "start_time": "2024-01-23T01:57:14.586Z"
   },
   {
    "duration": 100,
    "start_time": "2024-01-23T01:58:02.781Z"
   },
   {
    "duration": 34563,
    "start_time": "2024-01-23T01:58:26.721Z"
   },
   {
    "duration": 3645,
    "start_time": "2024-01-23T02:08:28.804Z"
   },
   {
    "duration": 21,
    "start_time": "2024-01-23T02:10:42.427Z"
   },
   {
    "duration": 11,
    "start_time": "2024-01-23T02:11:42.308Z"
   },
   {
    "duration": 3,
    "start_time": "2024-01-23T02:13:15.311Z"
   },
   {
    "duration": 3202,
    "start_time": "2024-01-23T02:16:37.667Z"
   },
   {
    "duration": 3202,
    "start_time": "2024-01-23T02:16:53.099Z"
   },
   {
    "duration": 3108,
    "start_time": "2024-01-23T02:17:02.777Z"
   },
   {
    "duration": 2780,
    "start_time": "2024-01-23T02:17:17.505Z"
   },
   {
    "duration": 5,
    "start_time": "2024-01-23T02:26:52.197Z"
   },
   {
    "duration": 17616,
    "start_time": "2024-01-23T02:28:17.684Z"
   },
   {
    "duration": 17118,
    "start_time": "2024-01-23T02:31:21.739Z"
   },
   {
    "duration": 65,
    "start_time": "2024-01-23T02:42:47.689Z"
   },
   {
    "duration": 4,
    "start_time": "2024-01-23T02:43:27.874Z"
   },
   {
    "duration": 13,
    "start_time": "2024-01-23T02:44:30.292Z"
   },
   {
    "duration": 84,
    "start_time": "2024-01-23T02:45:04.583Z"
   },
   {
    "duration": 43,
    "start_time": "2024-01-23T02:45:15.173Z"
   },
   {
    "duration": 12,
    "start_time": "2024-01-23T02:45:25.403Z"
   },
   {
    "duration": 1768,
    "start_time": "2024-01-23T03:29:19.773Z"
   },
   {
    "duration": 952,
    "start_time": "2024-01-23T03:29:23.734Z"
   },
   {
    "duration": 48,
    "start_time": "2024-01-23T03:29:27.579Z"
   },
   {
    "duration": 7,
    "start_time": "2024-01-23T03:29:31.172Z"
   },
   {
    "duration": 120979,
    "start_time": "2024-01-23T03:29:34.781Z"
   },
   {
    "duration": 4,
    "start_time": "2024-01-23T03:31:43.761Z"
   },
   {
    "duration": 4,
    "start_time": "2024-01-23T03:31:57.023Z"
   },
   {
    "duration": 4,
    "start_time": "2024-01-23T03:32:15.456Z"
   },
   {
    "duration": 8,
    "start_time": "2024-01-23T03:33:32.139Z"
   },
   {
    "duration": 145716,
    "start_time": "2024-01-23T03:35:40.167Z"
   },
   {
    "duration": 78090,
    "start_time": "2024-01-23T03:56:38.242Z"
   },
   {
    "duration": 10,
    "start_time": "2024-01-23T04:01:42.270Z"
   },
   {
    "duration": 11,
    "start_time": "2024-01-23T04:01:53.398Z"
   },
   {
    "duration": 111,
    "start_time": "2024-01-23T04:02:00.675Z"
   },
   {
    "duration": 98,
    "start_time": "2024-01-23T04:02:51.419Z"
   },
   {
    "duration": 32,
    "start_time": "2024-01-23T04:03:28.381Z"
   },
   {
    "duration": 4,
    "start_time": "2024-01-23T04:03:45.196Z"
   },
   {
    "duration": 45,
    "start_time": "2024-01-23T04:08:05.766Z"
   },
   {
    "duration": 15963,
    "start_time": "2024-01-23T04:09:42.398Z"
   },
   {
    "duration": 15950,
    "start_time": "2024-01-23T04:11:46.272Z"
   },
   {
    "duration": 39,
    "start_time": "2024-01-23T04:13:26.909Z"
   },
   {
    "duration": 14,
    "start_time": "2024-01-23T04:29:03.544Z"
   },
   {
    "duration": 6,
    "start_time": "2024-01-23T04:31:43.253Z"
   },
   {
    "duration": 12,
    "start_time": "2024-01-23T04:31:53.183Z"
   },
   {
    "duration": 3231277,
    "start_time": "2024-01-23T04:31:58.494Z"
   },
   {
    "duration": 2791,
    "start_time": "2024-01-23T05:27:40.835Z"
   },
   {
    "duration": 76,
    "start_time": "2024-01-23T05:28:21.560Z"
   },
   {
    "duration": 9,
    "start_time": "2024-01-23T05:28:35.640Z"
   },
   {
    "duration": 5,
    "start_time": "2024-01-23T05:29:07.627Z"
   },
   {
    "duration": 9,
    "start_time": "2024-01-23T05:29:14.436Z"
   },
   {
    "duration": 3,
    "start_time": "2024-01-23T05:31:03.008Z"
   },
   {
    "duration": 71,
    "start_time": "2024-01-23T05:31:06.295Z"
   },
   {
    "duration": 78,
    "start_time": "2024-01-23T05:31:56.709Z"
   },
   {
    "duration": 2767,
    "start_time": "2024-01-23T05:34:47.818Z"
   },
   {
    "duration": 2805,
    "start_time": "2024-01-23T05:38:46.774Z"
   },
   {
    "duration": 2805,
    "start_time": "2024-01-23T05:39:48.500Z"
   },
   {
    "duration": 82,
    "start_time": "2024-01-23T05:42:27.937Z"
   },
   {
    "duration": 809,
    "start_time": "2024-01-23T05:44:35.050Z"
   },
   {
    "duration": 11,
    "start_time": "2024-01-23T05:44:45.400Z"
   },
   {
    "duration": 79132,
    "start_time": "2024-01-23T05:45:10.016Z"
   },
   {
    "duration": 1314608,
    "start_time": "2024-01-23T05:46:29.150Z"
   },
   {
    "duration": 42,
    "start_time": "2024-01-23T06:15:00.034Z"
   },
   {
    "duration": 6,
    "start_time": "2024-01-23T06:30:05.692Z"
   },
   {
    "duration": 391,
    "start_time": "2024-01-23T06:33:14.274Z"
   },
   {
    "duration": 5,
    "start_time": "2024-01-23T06:33:58.238Z"
   },
   {
    "duration": 3208690,
    "start_time": "2024-01-23T06:34:00.507Z"
   },
   {
    "duration": 13,
    "start_time": "2024-01-23T09:59:12.328Z"
   },
   {
    "duration": 6,
    "start_time": "2024-01-23T09:59:29.472Z"
   },
   {
    "duration": 12,
    "start_time": "2024-01-23T10:00:03.596Z"
   },
   {
    "duration": 154,
    "start_time": "2024-01-23T10:02:30.794Z"
   },
   {
    "duration": 4,
    "start_time": "2024-01-23T10:06:48.349Z"
   },
   {
    "duration": 163,
    "start_time": "2024-01-23T10:06:52.880Z"
   },
   {
    "duration": 4,
    "start_time": "2024-01-23T10:07:08.615Z"
   },
   {
    "duration": 17,
    "start_time": "2024-01-23T10:07:10.625Z"
   },
   {
    "duration": 14,
    "start_time": "2024-01-23T20:13:53.636Z"
   },
   {
    "duration": 11,
    "start_time": "2024-01-23T20:14:01.526Z"
   },
   {
    "duration": 4,
    "start_time": "2024-01-23T20:19:48.932Z"
   },
   {
    "duration": 16,
    "start_time": "2024-01-23T20:19:54.710Z"
   },
   {
    "duration": 4,
    "start_time": "2024-01-23T20:20:33.735Z"
   },
   {
    "duration": 26,
    "start_time": "2024-01-23T20:20:36.526Z"
   },
   {
    "duration": 97,
    "start_time": "2024-01-23T20:23:40.053Z"
   },
   {
    "duration": 4,
    "start_time": "2024-01-23T20:24:17.585Z"
   },
   {
    "duration": 156,
    "start_time": "2024-01-23T20:24:21.305Z"
   },
   {
    "duration": 161,
    "start_time": "2024-01-23T20:25:13.596Z"
   },
   {
    "duration": 149,
    "start_time": "2024-01-23T20:25:17.916Z"
   },
   {
    "duration": 149,
    "start_time": "2024-01-23T20:25:21.350Z"
   },
   {
    "duration": 164,
    "start_time": "2024-01-23T20:25:26.302Z"
   },
   {
    "duration": 154,
    "start_time": "2024-01-23T20:25:38.496Z"
   },
   {
    "duration": 156,
    "start_time": "2024-01-23T20:25:44.091Z"
   },
   {
    "duration": 4,
    "start_time": "2024-01-23T20:26:06.862Z"
   },
   {
    "duration": 142,
    "start_time": "2024-01-23T20:26:10.267Z"
   },
   {
    "duration": 4,
    "start_time": "2024-01-23T20:27:45.354Z"
   },
   {
    "duration": 162,
    "start_time": "2024-01-23T20:27:48.203Z"
   },
   {
    "duration": 4,
    "start_time": "2024-01-23T20:28:54.324Z"
   },
   {
    "duration": 191,
    "start_time": "2024-01-23T20:28:56.768Z"
   },
   {
    "duration": 4,
    "start_time": "2024-01-23T20:29:45.490Z"
   },
   {
    "duration": 3,
    "start_time": "2024-01-23T20:29:58.481Z"
   },
   {
    "duration": 168,
    "start_time": "2024-01-23T20:30:00.820Z"
   },
   {
    "duration": 4,
    "start_time": "2024-01-23T20:31:11.367Z"
   },
   {
    "duration": 147,
    "start_time": "2024-01-23T20:31:13.796Z"
   },
   {
    "duration": 5,
    "start_time": "2024-01-23T20:31:21.747Z"
   },
   {
    "duration": 161,
    "start_time": "2024-01-23T20:31:24.507Z"
   },
   {
    "duration": 4,
    "start_time": "2024-01-23T20:32:05.534Z"
   },
   {
    "duration": 169,
    "start_time": "2024-01-23T20:32:07.965Z"
   },
   {
    "duration": 11,
    "start_time": "2024-01-23T20:33:04.304Z"
   },
   {
    "duration": 21,
    "start_time": "2024-01-23T20:33:26.343Z"
   },
   {
    "duration": 4,
    "start_time": "2024-01-23T20:39:27.442Z"
   },
   {
    "duration": 4,
    "start_time": "2024-01-23T20:39:43.043Z"
   },
   {
    "duration": 5,
    "start_time": "2024-01-23T20:40:06.036Z"
   },
   {
    "duration": 4,
    "start_time": "2024-01-23T20:40:08.573Z"
   },
   {
    "duration": 7384,
    "start_time": "2024-01-23T20:40:51.844Z"
   },
   {
    "duration": 11,
    "start_time": "2024-01-23T20:41:02.662Z"
   },
   {
    "duration": 7786,
    "start_time": "2024-01-23T20:41:28.464Z"
   },
   {
    "duration": 5312,
    "start_time": "2024-01-23T20:42:31.361Z"
   },
   {
    "duration": 169842,
    "start_time": "2024-01-23T20:43:36.478Z"
   },
   {
    "duration": 22501,
    "start_time": "2024-01-23T20:46:42.120Z"
   },
   {
    "duration": 10918,
    "start_time": "2024-01-23T20:47:11.702Z"
   },
   {
    "duration": 214133,
    "start_time": "2024-01-23T20:47:27.196Z"
   },
   {
    "duration": 2913073,
    "start_time": "2024-01-23T20:51:30.096Z"
   },
   {
    "duration": 2746290,
    "start_time": "2024-01-23T21:40:17.738Z"
   },
   {
    "duration": 1673,
    "start_time": "2024-01-23T23:34:00.244Z"
   },
   {
    "duration": 971,
    "start_time": "2024-01-23T23:34:01.919Z"
   },
   {
    "duration": 42,
    "start_time": "2024-01-23T23:34:02.892Z"
   },
   {
    "duration": 26,
    "start_time": "2024-01-23T23:34:02.936Z"
   },
   {
    "duration": 8596,
    "start_time": "2024-01-23T23:34:02.965Z"
   },
   {
    "duration": 7469,
    "start_time": "2024-01-23T23:34:11.563Z"
   },
   {
    "duration": 1744,
    "start_time": "2024-01-23T23:44:23.895Z"
   },
   {
    "duration": 969,
    "start_time": "2024-01-23T23:44:25.641Z"
   },
   {
    "duration": 43,
    "start_time": "2024-01-23T23:44:26.612Z"
   },
   {
    "duration": 7,
    "start_time": "2024-01-23T23:44:26.656Z"
   },
   {
    "duration": 8750,
    "start_time": "2024-01-23T23:44:26.665Z"
   },
   {
    "duration": 7485,
    "start_time": "2024-01-23T23:44:35.416Z"
   },
   {
    "duration": 1720,
    "start_time": "2024-01-24T04:19:42.730Z"
   },
   {
    "duration": 967,
    "start_time": "2024-01-24T04:19:44.452Z"
   },
   {
    "duration": 44,
    "start_time": "2024-01-24T04:19:45.421Z"
   },
   {
    "duration": 7,
    "start_time": "2024-01-24T04:19:45.467Z"
   },
   {
    "duration": 8651,
    "start_time": "2024-01-24T04:19:45.491Z"
   },
   {
    "duration": 7565,
    "start_time": "2024-01-24T04:19:54.144Z"
   },
   {
    "duration": 19453,
    "start_time": "2024-01-24T04:20:01.711Z"
   },
   {
    "duration": 0,
    "start_time": "2024-01-24T04:20:21.166Z"
   },
   {
    "duration": 0,
    "start_time": "2024-01-24T04:20:21.167Z"
   },
   {
    "duration": 3397939,
    "start_time": "2024-01-24T04:20:45.185Z"
   },
   {
    "duration": 5,
    "start_time": "2024-01-24T05:17:51.116Z"
   },
   {
    "duration": 7313,
    "start_time": "2024-01-24T05:18:02.647Z"
   },
   {
    "duration": 2204735,
    "start_time": "2024-01-24T05:18:31.890Z"
   },
   {
    "duration": 20,
    "start_time": "2024-01-24T05:55:22.107Z"
   },
   {
    "duration": 147861,
    "start_time": "2024-01-24T05:55:54.577Z"
   },
   {
    "duration": 4,
    "start_time": "2024-01-24T05:58:26.412Z"
   },
   {
    "duration": 2838358,
    "start_time": "2024-01-24T05:58:31.301Z"
   },
   {
    "duration": 41,
    "start_time": "2024-01-24T06:48:20.763Z"
   },
   {
    "duration": 32,
    "start_time": "2024-01-24T06:50:24.780Z"
   },
   {
    "duration": 13,
    "start_time": "2024-01-24T06:50:36.726Z"
   },
   {
    "duration": 14,
    "start_time": "2024-01-24T06:52:53.492Z"
   },
   {
    "duration": 11,
    "start_time": "2024-01-24T06:56:04.578Z"
   },
   {
    "duration": 6,
    "start_time": "2024-01-24T06:56:38.865Z"
   },
   {
    "duration": 18,
    "start_time": "2024-01-24T06:56:51.343Z"
   },
   {
    "duration": 25867,
    "start_time": "2024-01-24T06:59:00.476Z"
   },
   {
    "duration": 25829,
    "start_time": "2024-01-24T07:05:30.211Z"
   },
   {
    "duration": 1685,
    "start_time": "2024-01-24T07:15:09.322Z"
   },
   {
    "duration": 964,
    "start_time": "2024-01-24T07:15:12.519Z"
   },
   {
    "duration": 45,
    "start_time": "2024-01-24T07:15:15.106Z"
   },
   {
    "duration": 7,
    "start_time": "2024-01-24T07:15:18.375Z"
   },
   {
    "duration": 8900,
    "start_time": "2024-01-24T07:15:20.037Z"
   },
   {
    "duration": 7635,
    "start_time": "2024-01-24T07:15:33.429Z"
   },
   {
    "duration": 2896248,
    "start_time": "2024-01-24T07:15:51.821Z"
   },
   {
    "duration": 25958,
    "start_time": "2024-01-24T08:28:23.198Z"
   },
   {
    "duration": 25763,
    "start_time": "2024-01-24T08:29:02.176Z"
   },
   {
    "duration": 22,
    "start_time": "2024-01-24T08:30:56.518Z"
   },
   {
    "duration": 25672,
    "start_time": "2024-01-24T08:31:51.358Z"
   },
   {
    "duration": 22,
    "start_time": "2024-01-24T08:32:20.009Z"
   },
   {
    "duration": 7,
    "start_time": "2024-01-24T08:33:25.565Z"
   },
   {
    "duration": 3246,
    "start_time": "2024-01-24T10:07:14.755Z"
   },
   {
    "duration": 2391,
    "start_time": "2024-01-24T10:07:18.003Z"
   },
   {
    "duration": 47,
    "start_time": "2024-01-24T10:07:20.395Z"
   },
   {
    "duration": 15,
    "start_time": "2024-01-24T10:07:20.444Z"
   },
   {
    "duration": 1415,
    "start_time": "2024-01-24T10:07:20.461Z"
   },
   {
    "duration": 8,
    "start_time": "2024-01-24T10:07:34.308Z"
   },
   {
    "duration": 1916,
    "start_time": "2024-01-24T14:15:06.113Z"
   },
   {
    "duration": 3261,
    "start_time": "2024-01-24T14:15:08.031Z"
   },
   {
    "duration": 53,
    "start_time": "2024-01-24T14:15:11.293Z"
   },
   {
    "duration": 34,
    "start_time": "2024-01-24T14:15:11.348Z"
   },
   {
    "duration": 523,
    "start_time": "2024-01-24T14:15:11.385Z"
   },
   {
    "duration": 0,
    "start_time": "2024-01-24T14:15:11.910Z"
   },
   {
    "duration": 0,
    "start_time": "2024-01-24T14:15:11.911Z"
   },
   {
    "duration": 0,
    "start_time": "2024-01-24T14:15:11.913Z"
   },
   {
    "duration": 0,
    "start_time": "2024-01-24T14:15:11.914Z"
   },
   {
    "duration": 627,
    "start_time": "2024-01-24T14:21:21.960Z"
   },
   {
    "duration": 4,
    "start_time": "2024-01-24T14:22:12.957Z"
   },
   {
    "duration": 561,
    "start_time": "2024-01-24T14:22:18.334Z"
   },
   {
    "duration": 5,
    "start_time": "2024-01-24T14:23:22.601Z"
   },
   {
    "duration": 1303381,
    "start_time": "2024-01-24T14:23:28.047Z"
   },
   {
    "duration": 12,
    "start_time": "2024-01-24T14:55:13.440Z"
   },
   {
    "duration": 66,
    "start_time": "2024-01-24T14:56:27.840Z"
   },
   {
    "duration": 9,
    "start_time": "2024-01-24T14:57:03.071Z"
   },
   {
    "duration": 78,
    "start_time": "2024-01-24T14:57:05.859Z"
   },
   {
    "duration": 8,
    "start_time": "2024-01-24T14:57:28.360Z"
   },
   {
    "duration": 57,
    "start_time": "2024-01-24T14:57:30.527Z"
   },
   {
    "duration": 1300704,
    "start_time": "2024-01-24T14:57:53.274Z"
   },
   {
    "duration": 12,
    "start_time": "2024-01-24T15:43:38.172Z"
   },
   {
    "duration": 65,
    "start_time": "2024-01-24T15:44:07.797Z"
   },
   {
    "duration": 119,
    "start_time": "2024-01-24T15:44:15.535Z"
   },
   {
    "duration": 19,
    "start_time": "2024-01-24T15:45:09.715Z"
   },
   {
    "duration": 202,
    "start_time": "2024-01-24T16:59:12.990Z"
   },
   {
    "duration": 17,
    "start_time": "2024-01-24T17:06:24.218Z"
   },
   {
    "duration": 19,
    "start_time": "2024-01-24T17:23:00.419Z"
   },
   {
    "duration": 16,
    "start_time": "2024-01-24T17:23:58.087Z"
   },
   {
    "duration": 18,
    "start_time": "2024-01-24T17:24:22.688Z"
   },
   {
    "duration": 49,
    "start_time": "2024-01-24T17:28:43.839Z"
   },
   {
    "duration": 52,
    "start_time": "2024-01-24T17:30:26.058Z"
   },
   {
    "duration": 19,
    "start_time": "2024-01-24T17:34:04.446Z"
   },
   {
    "duration": 15,
    "start_time": "2024-01-24T17:34:32.571Z"
   },
   {
    "duration": 49,
    "start_time": "2024-01-24T17:34:56.332Z"
   },
   {
    "duration": 67,
    "start_time": "2024-01-24T17:38:21.057Z"
   },
   {
    "duration": 50,
    "start_time": "2024-01-24T17:38:33.943Z"
   },
   {
    "duration": 47,
    "start_time": "2024-01-24T17:38:46.783Z"
   },
   {
    "duration": 53,
    "start_time": "2024-01-24T17:39:20.083Z"
   },
   {
    "duration": 15,
    "start_time": "2024-01-24T17:40:20.804Z"
   },
   {
    "duration": 6,
    "start_time": "2024-01-24T17:40:28.411Z"
   },
   {
    "duration": 17,
    "start_time": "2024-01-24T17:40:44.190Z"
   },
   {
    "duration": 55,
    "start_time": "2024-01-24T17:49:19.933Z"
   },
   {
    "duration": 10,
    "start_time": "2024-01-24T17:53:18.570Z"
   },
   {
    "duration": 3603618,
    "start_time": "2024-01-24T19:33:29.304Z"
   },
   {
    "duration": 1376,
    "start_time": "2024-01-24T20:38:34.100Z"
   },
   {
    "duration": 3560391,
    "start_time": "2024-01-24T20:44:41.946Z"
   },
   {
    "duration": 0,
    "start_time": "2024-01-24T21:44:02.339Z"
   },
   {
    "duration": 3560814,
    "start_time": "2024-01-24T21:50:43.524Z"
   },
   {
    "duration": 400166,
    "start_time": "2024-01-24T22:59:06.441Z"
   },
   {
    "duration": 22,
    "start_time": "2024-01-24T23:07:17.633Z"
   },
   {
    "duration": 217653,
    "start_time": "2024-01-24T23:07:34.149Z"
   },
   {
    "duration": 215822,
    "start_time": "2024-01-24T23:15:53.178Z"
   },
   {
    "duration": 5,
    "start_time": "2024-01-24T23:20:58.256Z"
   },
   {
    "duration": 5,
    "start_time": "2024-01-24T23:21:54.612Z"
   },
   {
    "duration": 103,
    "start_time": "2024-01-24T23:23:07.287Z"
   },
   {
    "duration": 109,
    "start_time": "2024-01-24T23:23:45.885Z"
   },
   {
    "duration": 103,
    "start_time": "2024-01-24T23:24:24.974Z"
   },
   {
    "duration": 10,
    "start_time": "2024-01-24T23:25:13.064Z"
   },
   {
    "duration": 5,
    "start_time": "2024-01-24T23:25:19.453Z"
   },
   {
    "duration": 214491,
    "start_time": "2024-01-24T23:25:42.405Z"
   },
   {
    "duration": 217364,
    "start_time": "2024-01-24T23:29:51.832Z"
   },
   {
    "duration": 217654,
    "start_time": "2024-01-24T23:35:27.042Z"
   },
   {
    "duration": 217938,
    "start_time": "2024-01-24T23:41:16.954Z"
   },
   {
    "duration": 215113,
    "start_time": "2024-01-25T00:04:31.181Z"
   },
   {
    "duration": 8,
    "start_time": "2024-01-25T00:17:36.156Z"
   },
   {
    "duration": 5,
    "start_time": "2024-01-25T00:18:13.461Z"
   },
   {
    "duration": 6,
    "start_time": "2024-01-25T00:18:19.087Z"
   },
   {
    "duration": 10,
    "start_time": "2024-01-25T00:18:30.922Z"
   },
   {
    "duration": 10,
    "start_time": "2024-01-25T00:18:34.867Z"
   },
   {
    "duration": 4,
    "start_time": "2024-01-25T00:18:38.452Z"
   },
   {
    "duration": 10,
    "start_time": "2024-01-25T00:20:22.329Z"
   },
   {
    "duration": 11,
    "start_time": "2024-01-25T00:20:27.025Z"
   },
   {
    "duration": 9,
    "start_time": "2024-01-25T00:20:36.671Z"
   },
   {
    "duration": 8,
    "start_time": "2024-01-25T00:20:43.585Z"
   },
   {
    "duration": 4,
    "start_time": "2024-01-25T00:20:55.030Z"
   },
   {
    "duration": 8,
    "start_time": "2024-01-25T00:21:21.822Z"
   },
   {
    "duration": 9,
    "start_time": "2024-01-25T00:21:45.821Z"
   },
   {
    "duration": 8,
    "start_time": "2024-01-25T00:21:50.502Z"
   },
   {
    "duration": 5,
    "start_time": "2024-01-25T00:22:41.773Z"
   },
   {
    "duration": 216330,
    "start_time": "2024-01-25T00:24:26.071Z"
   },
   {
    "duration": 97162,
    "start_time": "2024-01-25T00:28:59.677Z"
   },
   {
    "duration": 76,
    "start_time": "2024-01-25T00:30:57.818Z"
   },
   {
    "duration": 1709,
    "start_time": "2024-01-25T00:31:44.013Z"
   },
   {
    "duration": 954,
    "start_time": "2024-01-25T00:31:45.724Z"
   },
   {
    "duration": 48,
    "start_time": "2024-01-25T00:31:46.680Z"
   },
   {
    "duration": 7,
    "start_time": "2024-01-25T00:31:46.730Z"
   },
   {
    "duration": 1291228,
    "start_time": "2024-01-25T00:31:46.739Z"
   },
   {
    "duration": 89,
    "start_time": "2024-01-25T00:53:17.969Z"
   },
   {
    "duration": 1795858,
    "start_time": "2024-01-25T00:53:18.059Z"
   },
   {
    "duration": 1519,
    "start_time": "2024-01-25T01:23:13.918Z"
   },
   {
    "duration": 1474,
    "start_time": "2024-01-25T11:28:58.030Z"
   },
   {
    "duration": 1453,
    "start_time": "2024-01-25T11:29:55.622Z"
   },
   {
    "duration": 12,
    "start_time": "2024-01-25T11:30:28.848Z"
   },
   {
    "duration": 4,
    "start_time": "2024-01-25T11:30:44.237Z"
   },
   {
    "duration": 1476,
    "start_time": "2024-01-25T11:30:53.507Z"
   }
  ],
  "kernelspec": {
   "display_name": "Python 3 (ipykernel)",
   "language": "python",
   "name": "python3"
  },
  "language_info": {
   "codemirror_mode": {
    "name": "ipython",
    "version": 3
   },
   "file_extension": ".py",
   "mimetype": "text/x-python",
   "name": "python",
   "nbconvert_exporter": "python",
   "pygments_lexer": "ipython3",
   "version": "3.9.5"
  },
  "toc": {
   "base_numbering": 1,
   "nav_menu": {},
   "number_sections": true,
   "sideBar": true,
   "skip_h1_title": true,
   "title_cell": "Содержание",
   "title_sidebar": "Contents",
   "toc_cell": true,
   "toc_position": {
    "height": "calc(100% - 180px)",
    "left": "10px",
    "top": "150px",
    "width": "302.391px"
   },
   "toc_section_display": true,
   "toc_window_display": false
  }
 },
 "nbformat": 4,
 "nbformat_minor": 2
}
