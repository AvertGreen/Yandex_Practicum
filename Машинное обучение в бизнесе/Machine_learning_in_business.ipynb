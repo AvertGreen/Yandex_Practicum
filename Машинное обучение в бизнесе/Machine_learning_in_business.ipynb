{
 "cells": [
  {
   "cell_type": "markdown",
   "metadata": {},
   "source": [
    "<h1>Содержание<span class=\"tocSkip\"></span></h1>\n",
    "<div class=\"toc\"><ul class=\"toc-item\"><li><span><a href=\"#Загрузка и подготовка данных\" data-toc-modified-id=\"Загрузка и подготовка данных-1\"><span class=\"toc-item-num\">1&nbsp;&nbsp;</span>Загрузка и подготовка данных</a></span></li><li><span><a href=\"#Обучение и проверка модели\" data-toc-modified-id=\"Обучение и проверка модели-2\"><span class=\"toc-item-num\">2&nbsp;&nbsp;</span>Обучение и проверка модели</a></span></li><li><span><a href=\"#Подготовка к расчёту прибыли\" data-toc-modified-id=\"Подготовка к расчёту прибыли-3\"><span class=\"toc-item-num\">3&nbsp;&nbsp;</span>Подготовка к расчёту прибыли</a></span></li><li><span><a href=\"#Расчёт прибыли и рисков\" data-toc-modified-id=\"Расчёт прибыли и рисков-4\"><span class=\"toc-item-num\">4&nbsp;&nbsp;</span>Расчёт прибыли и рисков</a></span></li><li><span><a href=\"#Чек-лист готовности проекта\" data-toc-modified-id=\"Чек-лист готовности проекта-5\"><span class=\"toc-item-num\">5&nbsp;&nbsp;</span>Чек-лист готовности проекта</a></span></li></ul></div>"
   ]
  },
  {
   "cell_type": "markdown",
   "metadata": {},
   "source": [
    "# Выбор локации для скважины"
   ]
  },
  {
   "cell_type": "markdown",
   "metadata": {},
   "source": [
    "Допустим, вы работаете в добывающей компании «ГлавРосГосНефть». Нужно решить, где бурить новую скважину.\n",
    "\n",
    "Вам предоставлены пробы нефти в трёх регионах: в каждом 10 000 месторождений, где измерили качество нефти и объём её запасов. Постройте модель машинного обучения, которая поможет определить регион, где добыча принесёт наибольшую прибыль. Проанализируйте возможную прибыль и риски техникой *Bootstrap.*\n",
    "\n",
    "Шаги для выбора локации:\n",
    "\n",
    "- В избранном регионе ищут месторождения, для каждого определяют значения признаков;\n",
    "- Строят модель и оценивают объём запасов;\n",
    "- Выбирают месторождения с самым высокими оценками значений. Количество месторождений зависит от бюджета компании и стоимости разработки одной скважины;\n",
    "- Прибыль равна суммарной прибыли отобранных месторождений."
   ]
  },
  {
   "cell_type": "markdown",
   "metadata": {},
   "source": [
    "## Загрузка и подготовка данных"
   ]
  },
  {
   "cell_type": "code",
   "execution_count": 1,
   "metadata": {},
   "outputs": [],
   "source": [
    "# загрузим необходимые библиотеки\n",
    "import pandas as pd\n",
    "import numpy as np\n",
    "import seaborn as sns\n",
    "import matplotlib.pyplot as plt\n",
    "from scipy import stats as st\n",
    "from sklearn.linear_model import LinearRegression\n",
    "from sklearn.metrics import accuracy_score, mean_squared_error\n",
    "from sklearn.model_selection import train_test_split"
   ]
  },
  {
   "cell_type": "code",
   "execution_count": 2,
   "metadata": {},
   "outputs": [
    {
     "name": "stdout",
     "output_type": "stream",
     "text": [
      "<class 'pandas.core.frame.DataFrame'>\n",
      "RangeIndex: 100000 entries, 0 to 99999\n",
      "Data columns (total 5 columns):\n",
      " #   Column   Non-Null Count   Dtype  \n",
      "---  ------   --------------   -----  \n",
      " 0   id       100000 non-null  object \n",
      " 1   f0       100000 non-null  float64\n",
      " 2   f1       100000 non-null  float64\n",
      " 3   f2       100000 non-null  float64\n",
      " 4   product  100000 non-null  float64\n",
      "dtypes: float64(4), object(1)\n",
      "memory usage: 3.8+ MB\n",
      "<class 'pandas.core.frame.DataFrame'>\n",
      "RangeIndex: 100000 entries, 0 to 99999\n",
      "Data columns (total 5 columns):\n",
      " #   Column   Non-Null Count   Dtype  \n",
      "---  ------   --------------   -----  \n",
      " 0   id       100000 non-null  object \n",
      " 1   f0       100000 non-null  float64\n",
      " 2   f1       100000 non-null  float64\n",
      " 3   f2       100000 non-null  float64\n",
      " 4   product  100000 non-null  float64\n",
      "dtypes: float64(4), object(1)\n",
      "memory usage: 3.8+ MB\n",
      "<class 'pandas.core.frame.DataFrame'>\n",
      "RangeIndex: 100000 entries, 0 to 99999\n",
      "Data columns (total 5 columns):\n",
      " #   Column   Non-Null Count   Dtype  \n",
      "---  ------   --------------   -----  \n",
      " 0   id       100000 non-null  object \n",
      " 1   f0       100000 non-null  float64\n",
      " 2   f1       100000 non-null  float64\n",
      " 3   f2       100000 non-null  float64\n",
      " 4   product  100000 non-null  float64\n",
      "dtypes: float64(4), object(1)\n",
      "memory usage: 3.8+ MB\n"
     ]
    }
   ],
   "source": [
    "# загрузим файлы с данными\n",
    "try:\n",
    "    df_0 = pd.read_csv('/datasets/geo_data_0.csv')\n",
    "    df_1 = pd.read_csv('/datasets/geo_data_1.csv')\n",
    "    df_2 = pd.read_csv('/datasets/geo_data_2.csv')\n",
    "except:\n",
    "    df_0 = pd.read_csv('/Users/alex/Desktop/Яндекс_Практикум/Проекты/Машинное_обучение_в_бизнесе/geo_data_0.csv')\n",
    "    df_1 = pd.read_csv('/Users/alex/Desktop/Яндекс_Практикум/Проекты/Машинное_обучение_в_бизнесе/geo_data_1.csv')\n",
    "    df_2 = pd.read_csv('/Users/alex/Desktop/Яндекс_Практикум/Проекты/Машинное_обучение_в_бизнесе/geo_data_2.csv')\n",
    "\n",
    "df_0.info()\n",
    "df_1.info()\n",
    "df_2.info()"
   ]
  },
  {
   "cell_type": "code",
   "execution_count": 3,
   "metadata": {},
   "outputs": [
    {
     "data": {
      "text/html": [
       "<div>\n",
       "<style scoped>\n",
       "    .dataframe tbody tr th:only-of-type {\n",
       "        vertical-align: middle;\n",
       "    }\n",
       "\n",
       "    .dataframe tbody tr th {\n",
       "        vertical-align: top;\n",
       "    }\n",
       "\n",
       "    .dataframe thead th {\n",
       "        text-align: right;\n",
       "    }\n",
       "</style>\n",
       "<table border=\"1\" class=\"dataframe\">\n",
       "  <thead>\n",
       "    <tr style=\"text-align: right;\">\n",
       "      <th></th>\n",
       "      <th>id</th>\n",
       "      <th>f0</th>\n",
       "      <th>f1</th>\n",
       "      <th>f2</th>\n",
       "      <th>product</th>\n",
       "    </tr>\n",
       "  </thead>\n",
       "  <tbody>\n",
       "    <tr>\n",
       "      <th>21703</th>\n",
       "      <td>wX2Zc</td>\n",
       "      <td>-0.474842</td>\n",
       "      <td>0.877820</td>\n",
       "      <td>8.981514</td>\n",
       "      <td>130.079578</td>\n",
       "    </tr>\n",
       "    <tr>\n",
       "      <th>81576</th>\n",
       "      <td>B6FAJ</td>\n",
       "      <td>0.298712</td>\n",
       "      <td>0.873514</td>\n",
       "      <td>-4.032822</td>\n",
       "      <td>25.895491</td>\n",
       "    </tr>\n",
       "    <tr>\n",
       "      <th>60643</th>\n",
       "      <td>tiImz</td>\n",
       "      <td>-0.351641</td>\n",
       "      <td>1.080589</td>\n",
       "      <td>2.652810</td>\n",
       "      <td>131.998798</td>\n",
       "    </tr>\n",
       "  </tbody>\n",
       "</table>\n",
       "</div>"
      ],
      "text/plain": [
       "          id        f0        f1        f2     product\n",
       "21703  wX2Zc -0.474842  0.877820  8.981514  130.079578\n",
       "81576  B6FAJ  0.298712  0.873514 -4.032822   25.895491\n",
       "60643  tiImz -0.351641  1.080589  2.652810  131.998798"
      ]
     },
     "metadata": {},
     "output_type": "display_data"
    },
    {
     "data": {
      "text/html": [
       "<div>\n",
       "<style scoped>\n",
       "    .dataframe tbody tr th:only-of-type {\n",
       "        vertical-align: middle;\n",
       "    }\n",
       "\n",
       "    .dataframe tbody tr th {\n",
       "        vertical-align: top;\n",
       "    }\n",
       "\n",
       "    .dataframe thead th {\n",
       "        text-align: right;\n",
       "    }\n",
       "</style>\n",
       "<table border=\"1\" class=\"dataframe\">\n",
       "  <thead>\n",
       "    <tr style=\"text-align: right;\">\n",
       "      <th></th>\n",
       "      <th>id</th>\n",
       "      <th>f0</th>\n",
       "      <th>f1</th>\n",
       "      <th>f2</th>\n",
       "      <th>product</th>\n",
       "    </tr>\n",
       "  </thead>\n",
       "  <tbody>\n",
       "    <tr>\n",
       "      <th>81597</th>\n",
       "      <td>qTJIk</td>\n",
       "      <td>17.001998</td>\n",
       "      <td>-11.270849</td>\n",
       "      <td>1.992721</td>\n",
       "      <td>53.906522</td>\n",
       "    </tr>\n",
       "    <tr>\n",
       "      <th>50412</th>\n",
       "      <td>j7Pil</td>\n",
       "      <td>-19.154112</td>\n",
       "      <td>-9.142837</td>\n",
       "      <td>4.995540</td>\n",
       "      <td>137.945408</td>\n",
       "    </tr>\n",
       "    <tr>\n",
       "      <th>90321</th>\n",
       "      <td>q2VS0</td>\n",
       "      <td>6.862052</td>\n",
       "      <td>1.609384</td>\n",
       "      <td>1.002625</td>\n",
       "      <td>26.953261</td>\n",
       "    </tr>\n",
       "  </tbody>\n",
       "</table>\n",
       "</div>"
      ],
      "text/plain": [
       "          id         f0         f1        f2     product\n",
       "81597  qTJIk  17.001998 -11.270849  1.992721   53.906522\n",
       "50412  j7Pil -19.154112  -9.142837  4.995540  137.945408\n",
       "90321  q2VS0   6.862052   1.609384  1.002625   26.953261"
      ]
     },
     "metadata": {},
     "output_type": "display_data"
    },
    {
     "data": {
      "text/html": [
       "<div>\n",
       "<style scoped>\n",
       "    .dataframe tbody tr th:only-of-type {\n",
       "        vertical-align: middle;\n",
       "    }\n",
       "\n",
       "    .dataframe tbody tr th {\n",
       "        vertical-align: top;\n",
       "    }\n",
       "\n",
       "    .dataframe thead th {\n",
       "        text-align: right;\n",
       "    }\n",
       "</style>\n",
       "<table border=\"1\" class=\"dataframe\">\n",
       "  <thead>\n",
       "    <tr style=\"text-align: right;\">\n",
       "      <th></th>\n",
       "      <th>id</th>\n",
       "      <th>f0</th>\n",
       "      <th>f1</th>\n",
       "      <th>f2</th>\n",
       "      <th>product</th>\n",
       "    </tr>\n",
       "  </thead>\n",
       "  <tbody>\n",
       "    <tr>\n",
       "      <th>49193</th>\n",
       "      <td>5cSf5</td>\n",
       "      <td>-1.025961</td>\n",
       "      <td>-1.212339</td>\n",
       "      <td>8.393348</td>\n",
       "      <td>61.626003</td>\n",
       "    </tr>\n",
       "    <tr>\n",
       "      <th>15396</th>\n",
       "      <td>AtLtX</td>\n",
       "      <td>-0.935855</td>\n",
       "      <td>0.038698</td>\n",
       "      <td>2.686976</td>\n",
       "      <td>124.332459</td>\n",
       "    </tr>\n",
       "    <tr>\n",
       "      <th>41445</th>\n",
       "      <td>wliWI</td>\n",
       "      <td>-0.286998</td>\n",
       "      <td>-0.465662</td>\n",
       "      <td>5.540092</td>\n",
       "      <td>65.586186</td>\n",
       "    </tr>\n",
       "  </tbody>\n",
       "</table>\n",
       "</div>"
      ],
      "text/plain": [
       "          id        f0        f1        f2     product\n",
       "49193  5cSf5 -1.025961 -1.212339  8.393348   61.626003\n",
       "15396  AtLtX -0.935855  0.038698  2.686976  124.332459\n",
       "41445  wliWI -0.286998 -0.465662  5.540092   65.586186"
      ]
     },
     "execution_count": 3,
     "metadata": {},
     "output_type": "execute_result"
    }
   ],
   "source": [
    "# посмотрим на данные в таблицах\n",
    "display(df_0.sample(3))\n",
    "display(df_1.sample(3))\n",
    "df_2.sample(3)"
   ]
  },
  {
   "cell_type": "markdown",
   "metadata": {},
   "source": [
    "***Описание данных***\n",
    "\n",
    "* `id` — уникальный идентификатор скважины;\n",
    "* `f0`, `f1`, `f2` — три признака точек (признаки значимы);\n",
    "* `product` — объём запасов в скважине (тыс. баррелей)."
   ]
  },
  {
   "cell_type": "code",
   "execution_count": 4,
   "metadata": {
    "scrolled": true
   },
   "outputs": [
    {
     "name": "stdout",
     "output_type": "stream",
     "text": [
      "Количество дубликатов: 0\n",
      "Количество дубликатов: 0\n",
      "Количество дубликатов: 0\n"
     ]
    }
   ],
   "source": [
    "# проверим дубликаты\n",
    "print(f\"Количество дубликатов: {df_0.duplicated().sum()}\")\n",
    "print(f\"Количество дубликатов: {df_1.duplicated().sum()}\")\n",
    "print(f\"Количество дубликатов: {df_2.duplicated().sum()}\")"
   ]
  },
  {
   "cell_type": "code",
   "execution_count": 5,
   "metadata": {},
   "outputs": [
    {
     "data": {
      "text/html": [
       "<div>\n",
       "<style scoped>\n",
       "    .dataframe tbody tr th:only-of-type {\n",
       "        vertical-align: middle;\n",
       "    }\n",
       "\n",
       "    .dataframe tbody tr th {\n",
       "        vertical-align: top;\n",
       "    }\n",
       "\n",
       "    .dataframe thead th {\n",
       "        text-align: right;\n",
       "    }\n",
       "</style>\n",
       "<table border=\"1\" class=\"dataframe\">\n",
       "  <thead>\n",
       "    <tr style=\"text-align: right;\">\n",
       "      <th></th>\n",
       "      <th>f0</th>\n",
       "      <th>f1</th>\n",
       "      <th>f2</th>\n",
       "      <th>product</th>\n",
       "    </tr>\n",
       "  </thead>\n",
       "  <tbody>\n",
       "    <tr>\n",
       "      <th>f0</th>\n",
       "      <td>1.000000</td>\n",
       "      <td>-0.440723</td>\n",
       "      <td>-0.003153</td>\n",
       "      <td>0.143536</td>\n",
       "    </tr>\n",
       "    <tr>\n",
       "      <th>f1</th>\n",
       "      <td>-0.440723</td>\n",
       "      <td>1.000000</td>\n",
       "      <td>0.001724</td>\n",
       "      <td>-0.192356</td>\n",
       "    </tr>\n",
       "    <tr>\n",
       "      <th>f2</th>\n",
       "      <td>-0.003153</td>\n",
       "      <td>0.001724</td>\n",
       "      <td>1.000000</td>\n",
       "      <td>0.483663</td>\n",
       "    </tr>\n",
       "    <tr>\n",
       "      <th>product</th>\n",
       "      <td>0.143536</td>\n",
       "      <td>-0.192356</td>\n",
       "      <td>0.483663</td>\n",
       "      <td>1.000000</td>\n",
       "    </tr>\n",
       "  </tbody>\n",
       "</table>\n",
       "</div>"
      ],
      "text/plain": [
       "               f0        f1        f2   product\n",
       "f0       1.000000 -0.440723 -0.003153  0.143536\n",
       "f1      -0.440723  1.000000  0.001724 -0.192356\n",
       "f2      -0.003153  0.001724  1.000000  0.483663\n",
       "product  0.143536 -0.192356  0.483663  1.000000"
      ]
     },
     "metadata": {},
     "output_type": "display_data"
    },
    {
     "data": {
      "text/html": [
       "<div>\n",
       "<style scoped>\n",
       "    .dataframe tbody tr th:only-of-type {\n",
       "        vertical-align: middle;\n",
       "    }\n",
       "\n",
       "    .dataframe tbody tr th {\n",
       "        vertical-align: top;\n",
       "    }\n",
       "\n",
       "    .dataframe thead th {\n",
       "        text-align: right;\n",
       "    }\n",
       "</style>\n",
       "<table border=\"1\" class=\"dataframe\">\n",
       "  <thead>\n",
       "    <tr style=\"text-align: right;\">\n",
       "      <th></th>\n",
       "      <th>f0</th>\n",
       "      <th>f1</th>\n",
       "      <th>f2</th>\n",
       "      <th>product</th>\n",
       "    </tr>\n",
       "  </thead>\n",
       "  <tbody>\n",
       "    <tr>\n",
       "      <th>count</th>\n",
       "      <td>100000.000000</td>\n",
       "      <td>100000.000000</td>\n",
       "      <td>100000.000000</td>\n",
       "      <td>100000.000000</td>\n",
       "    </tr>\n",
       "    <tr>\n",
       "      <th>mean</th>\n",
       "      <td>0.500419</td>\n",
       "      <td>0.250143</td>\n",
       "      <td>2.502647</td>\n",
       "      <td>92.500000</td>\n",
       "    </tr>\n",
       "    <tr>\n",
       "      <th>std</th>\n",
       "      <td>0.871832</td>\n",
       "      <td>0.504433</td>\n",
       "      <td>3.248248</td>\n",
       "      <td>44.288691</td>\n",
       "    </tr>\n",
       "    <tr>\n",
       "      <th>min</th>\n",
       "      <td>-1.408605</td>\n",
       "      <td>-0.848218</td>\n",
       "      <td>-12.088328</td>\n",
       "      <td>0.000000</td>\n",
       "    </tr>\n",
       "    <tr>\n",
       "      <th>25%</th>\n",
       "      <td>-0.072580</td>\n",
       "      <td>-0.200881</td>\n",
       "      <td>0.287748</td>\n",
       "      <td>56.497507</td>\n",
       "    </tr>\n",
       "    <tr>\n",
       "      <th>50%</th>\n",
       "      <td>0.502360</td>\n",
       "      <td>0.250252</td>\n",
       "      <td>2.515969</td>\n",
       "      <td>91.849972</td>\n",
       "    </tr>\n",
       "    <tr>\n",
       "      <th>75%</th>\n",
       "      <td>1.073581</td>\n",
       "      <td>0.700646</td>\n",
       "      <td>4.715088</td>\n",
       "      <td>128.564089</td>\n",
       "    </tr>\n",
       "    <tr>\n",
       "      <th>max</th>\n",
       "      <td>2.362331</td>\n",
       "      <td>1.343769</td>\n",
       "      <td>16.003790</td>\n",
       "      <td>185.364347</td>\n",
       "    </tr>\n",
       "  </tbody>\n",
       "</table>\n",
       "</div>"
      ],
      "text/plain": [
       "                  f0             f1             f2        product\n",
       "count  100000.000000  100000.000000  100000.000000  100000.000000\n",
       "mean        0.500419       0.250143       2.502647      92.500000\n",
       "std         0.871832       0.504433       3.248248      44.288691\n",
       "min        -1.408605      -0.848218     -12.088328       0.000000\n",
       "25%        -0.072580      -0.200881       0.287748      56.497507\n",
       "50%         0.502360       0.250252       2.515969      91.849972\n",
       "75%         1.073581       0.700646       4.715088     128.564089\n",
       "max         2.362331       1.343769      16.003790     185.364347"
      ]
     },
     "execution_count": 5,
     "metadata": {},
     "output_type": "execute_result"
    },
    {
     "data": {
      "image/png": "[encoded data removed]",
      "text/plain": [
       "<Figure size 648x648 with 16 Axes>"
      ]
     },
     "metadata": {
      "needs_background": "light"
     },
     "output_type": "display_data"
    }
   ],
   "source": [
    "# диаграмма рассеяния и коэффициент корреляции для первого региона\n",
    "pd.plotting.scatter_matrix(df_0, figsize=(9, 9))\n",
    "display(df_0.corr())\n",
    "df_0.describe()"
   ]
  },
  {
   "cell_type": "code",
   "execution_count": 6,
   "metadata": {},
   "outputs": [
    {
     "data": {
      "text/html": [
       "<div>\n",
       "<style scoped>\n",
       "    .dataframe tbody tr th:only-of-type {\n",
       "        vertical-align: middle;\n",
       "    }\n",
       "\n",
       "    .dataframe tbody tr th {\n",
       "        vertical-align: top;\n",
       "    }\n",
       "\n",
       "    .dataframe thead th {\n",
       "        text-align: right;\n",
       "    }\n",
       "</style>\n",
       "<table border=\"1\" class=\"dataframe\">\n",
       "  <thead>\n",
       "    <tr style=\"text-align: right;\">\n",
       "      <th></th>\n",
       "      <th>f0</th>\n",
       "      <th>f1</th>\n",
       "      <th>f2</th>\n",
       "      <th>product</th>\n",
       "    </tr>\n",
       "  </thead>\n",
       "  <tbody>\n",
       "    <tr>\n",
       "      <th>f0</th>\n",
       "      <td>1.000000</td>\n",
       "      <td>0.182287</td>\n",
       "      <td>-0.001777</td>\n",
       "      <td>-0.030491</td>\n",
       "    </tr>\n",
       "    <tr>\n",
       "      <th>f1</th>\n",
       "      <td>0.182287</td>\n",
       "      <td>1.000000</td>\n",
       "      <td>-0.002595</td>\n",
       "      <td>-0.010155</td>\n",
       "    </tr>\n",
       "    <tr>\n",
       "      <th>f2</th>\n",
       "      <td>-0.001777</td>\n",
       "      <td>-0.002595</td>\n",
       "      <td>1.000000</td>\n",
       "      <td>0.999397</td>\n",
       "    </tr>\n",
       "    <tr>\n",
       "      <th>product</th>\n",
       "      <td>-0.030491</td>\n",
       "      <td>-0.010155</td>\n",
       "      <td>0.999397</td>\n",
       "      <td>1.000000</td>\n",
       "    </tr>\n",
       "  </tbody>\n",
       "</table>\n",
       "</div>"
      ],
      "text/plain": [
       "               f0        f1        f2   product\n",
       "f0       1.000000  0.182287 -0.001777 -0.030491\n",
       "f1       0.182287  1.000000 -0.002595 -0.010155\n",
       "f2      -0.001777 -0.002595  1.000000  0.999397\n",
       "product -0.030491 -0.010155  0.999397  1.000000"
      ]
     },
     "metadata": {},
     "output_type": "display_data"
    },
    {
     "data": {
      "text/html": [
       "<div>\n",
       "<style scoped>\n",
       "    .dataframe tbody tr th:only-of-type {\n",
       "        vertical-align: middle;\n",
       "    }\n",
       "\n",
       "    .dataframe tbody tr th {\n",
       "        vertical-align: top;\n",
       "    }\n",
       "\n",
       "    .dataframe thead th {\n",
       "        text-align: right;\n",
       "    }\n",
       "</style>\n",
       "<table border=\"1\" class=\"dataframe\">\n",
       "  <thead>\n",
       "    <tr style=\"text-align: right;\">\n",
       "      <th></th>\n",
       "      <th>f0</th>\n",
       "      <th>f1</th>\n",
       "      <th>f2</th>\n",
       "      <th>product</th>\n",
       "    </tr>\n",
       "  </thead>\n",
       "  <tbody>\n",
       "    <tr>\n",
       "      <th>count</th>\n",
       "      <td>100000.000000</td>\n",
       "      <td>100000.000000</td>\n",
       "      <td>100000.000000</td>\n",
       "      <td>100000.000000</td>\n",
       "    </tr>\n",
       "    <tr>\n",
       "      <th>mean</th>\n",
       "      <td>1.141296</td>\n",
       "      <td>-4.796579</td>\n",
       "      <td>2.494541</td>\n",
       "      <td>68.825000</td>\n",
       "    </tr>\n",
       "    <tr>\n",
       "      <th>std</th>\n",
       "      <td>8.965932</td>\n",
       "      <td>5.119872</td>\n",
       "      <td>1.703572</td>\n",
       "      <td>45.944423</td>\n",
       "    </tr>\n",
       "    <tr>\n",
       "      <th>min</th>\n",
       "      <td>-31.609576</td>\n",
       "      <td>-26.358598</td>\n",
       "      <td>-0.018144</td>\n",
       "      <td>0.000000</td>\n",
       "    </tr>\n",
       "    <tr>\n",
       "      <th>25%</th>\n",
       "      <td>-6.298551</td>\n",
       "      <td>-8.267985</td>\n",
       "      <td>1.000021</td>\n",
       "      <td>26.953261</td>\n",
       "    </tr>\n",
       "    <tr>\n",
       "      <th>50%</th>\n",
       "      <td>1.153055</td>\n",
       "      <td>-4.813172</td>\n",
       "      <td>2.011479</td>\n",
       "      <td>57.085625</td>\n",
       "    </tr>\n",
       "    <tr>\n",
       "      <th>75%</th>\n",
       "      <td>8.621015</td>\n",
       "      <td>-1.332816</td>\n",
       "      <td>3.999904</td>\n",
       "      <td>107.813044</td>\n",
       "    </tr>\n",
       "    <tr>\n",
       "      <th>max</th>\n",
       "      <td>29.421755</td>\n",
       "      <td>18.734063</td>\n",
       "      <td>5.019721</td>\n",
       "      <td>137.945408</td>\n",
       "    </tr>\n",
       "  </tbody>\n",
       "</table>\n",
       "</div>"
      ],
      "text/plain": [
       "                  f0             f1             f2        product\n",
       "count  100000.000000  100000.000000  100000.000000  100000.000000\n",
       "mean        1.141296      -4.796579       2.494541      68.825000\n",
       "std         8.965932       5.119872       1.703572      45.944423\n",
       "min       -31.609576     -26.358598      -0.018144       0.000000\n",
       "25%        -6.298551      -8.267985       1.000021      26.953261\n",
       "50%         1.153055      -4.813172       2.011479      57.085625\n",
       "75%         8.621015      -1.332816       3.999904     107.813044\n",
       "max        29.421755      18.734063       5.019721     137.945408"
      ]
     },
     "execution_count": 6,
     "metadata": {},
     "output_type": "execute_result"
    },
    {
     "data": {
      "image/png": "[encoded data removed]",
      "text/plain": [
       "<Figure size 648x648 with 16 Axes>"
      ]
     },
     "metadata": {
      "needs_background": "light"
     },
     "output_type": "display_data"
    }
   ],
   "source": [
    "# диаграмма рассеяния и коэффициент корреляции для второго региона\n",
    "pd.plotting.scatter_matrix(df_1, figsize=(9, 9))\n",
    "display(df_1.corr())\n",
    "df_1.describe()"
   ]
  },
  {
   "cell_type": "code",
   "execution_count": 7,
   "metadata": {},
   "outputs": [
    {
     "data": {
      "text/html": [
       "<div>\n",
       "<style scoped>\n",
       "    .dataframe tbody tr th:only-of-type {\n",
       "        vertical-align: middle;\n",
       "    }\n",
       "\n",
       "    .dataframe tbody tr th {\n",
       "        vertical-align: top;\n",
       "    }\n",
       "\n",
       "    .dataframe thead th {\n",
       "        text-align: right;\n",
       "    }\n",
       "</style>\n",
       "<table border=\"1\" class=\"dataframe\">\n",
       "  <thead>\n",
       "    <tr style=\"text-align: right;\">\n",
       "      <th></th>\n",
       "      <th>f0</th>\n",
       "      <th>f1</th>\n",
       "      <th>f2</th>\n",
       "      <th>product</th>\n",
       "    </tr>\n",
       "  </thead>\n",
       "  <tbody>\n",
       "    <tr>\n",
       "      <th>f0</th>\n",
       "      <td>1.000000</td>\n",
       "      <td>0.000528</td>\n",
       "      <td>-0.000448</td>\n",
       "      <td>-0.001987</td>\n",
       "    </tr>\n",
       "    <tr>\n",
       "      <th>f1</th>\n",
       "      <td>0.000528</td>\n",
       "      <td>1.000000</td>\n",
       "      <td>0.000779</td>\n",
       "      <td>-0.001012</td>\n",
       "    </tr>\n",
       "    <tr>\n",
       "      <th>f2</th>\n",
       "      <td>-0.000448</td>\n",
       "      <td>0.000779</td>\n",
       "      <td>1.000000</td>\n",
       "      <td>0.445871</td>\n",
       "    </tr>\n",
       "    <tr>\n",
       "      <th>product</th>\n",
       "      <td>-0.001987</td>\n",
       "      <td>-0.001012</td>\n",
       "      <td>0.445871</td>\n",
       "      <td>1.000000</td>\n",
       "    </tr>\n",
       "  </tbody>\n",
       "</table>\n",
       "</div>"
      ],
      "text/plain": [
       "               f0        f1        f2   product\n",
       "f0       1.000000  0.000528 -0.000448 -0.001987\n",
       "f1       0.000528  1.000000  0.000779 -0.001012\n",
       "f2      -0.000448  0.000779  1.000000  0.445871\n",
       "product -0.001987 -0.001012  0.445871  1.000000"
      ]
     },
     "metadata": {},
     "output_type": "display_data"
    },
    {
     "data": {
      "text/html": [
       "<div>\n",
       "<style scoped>\n",
       "    .dataframe tbody tr th:only-of-type {\n",
       "        vertical-align: middle;\n",
       "    }\n",
       "\n",
       "    .dataframe tbody tr th {\n",
       "        vertical-align: top;\n",
       "    }\n",
       "\n",
       "    .dataframe thead th {\n",
       "        text-align: right;\n",
       "    }\n",
       "</style>\n",
       "<table border=\"1\" class=\"dataframe\">\n",
       "  <thead>\n",
       "    <tr style=\"text-align: right;\">\n",
       "      <th></th>\n",
       "      <th>f0</th>\n",
       "      <th>f1</th>\n",
       "      <th>f2</th>\n",
       "      <th>product</th>\n",
       "    </tr>\n",
       "  </thead>\n",
       "  <tbody>\n",
       "    <tr>\n",
       "      <th>count</th>\n",
       "      <td>100000.000000</td>\n",
       "      <td>100000.000000</td>\n",
       "      <td>100000.000000</td>\n",
       "      <td>100000.000000</td>\n",
       "    </tr>\n",
       "    <tr>\n",
       "      <th>mean</th>\n",
       "      <td>0.002023</td>\n",
       "      <td>-0.002081</td>\n",
       "      <td>2.495128</td>\n",
       "      <td>95.000000</td>\n",
       "    </tr>\n",
       "    <tr>\n",
       "      <th>std</th>\n",
       "      <td>1.732045</td>\n",
       "      <td>1.730417</td>\n",
       "      <td>3.473445</td>\n",
       "      <td>44.749921</td>\n",
       "    </tr>\n",
       "    <tr>\n",
       "      <th>min</th>\n",
       "      <td>-8.760004</td>\n",
       "      <td>-7.084020</td>\n",
       "      <td>-11.970335</td>\n",
       "      <td>0.000000</td>\n",
       "    </tr>\n",
       "    <tr>\n",
       "      <th>25%</th>\n",
       "      <td>-1.162288</td>\n",
       "      <td>-1.174820</td>\n",
       "      <td>0.130359</td>\n",
       "      <td>59.450441</td>\n",
       "    </tr>\n",
       "    <tr>\n",
       "      <th>50%</th>\n",
       "      <td>0.009424</td>\n",
       "      <td>-0.009482</td>\n",
       "      <td>2.484236</td>\n",
       "      <td>94.925613</td>\n",
       "    </tr>\n",
       "    <tr>\n",
       "      <th>75%</th>\n",
       "      <td>1.158535</td>\n",
       "      <td>1.163678</td>\n",
       "      <td>4.858794</td>\n",
       "      <td>130.595027</td>\n",
       "    </tr>\n",
       "    <tr>\n",
       "      <th>max</th>\n",
       "      <td>7.238262</td>\n",
       "      <td>7.844801</td>\n",
       "      <td>16.739402</td>\n",
       "      <td>190.029838</td>\n",
       "    </tr>\n",
       "  </tbody>\n",
       "</table>\n",
       "</div>"
      ],
      "text/plain": [
       "                  f0             f1             f2        product\n",
       "count  100000.000000  100000.000000  100000.000000  100000.000000\n",
       "mean        0.002023      -0.002081       2.495128      95.000000\n",
       "std         1.732045       1.730417       3.473445      44.749921\n",
       "min        -8.760004      -7.084020     -11.970335       0.000000\n",
       "25%        -1.162288      -1.174820       0.130359      59.450441\n",
       "50%         0.009424      -0.009482       2.484236      94.925613\n",
       "75%         1.158535       1.163678       4.858794     130.595027\n",
       "max         7.238262       7.844801      16.739402     190.029838"
      ]
     },
     "execution_count": 7,
     "metadata": {},
     "output_type": "execute_result"
    },
    {
     "data": {
      "image/png": "[encoded data removed]",
      "text/plain": [
       "<Figure size 648x648 with 16 Axes>"
      ]
     },
     "metadata": {
      "needs_background": "light"
     },
     "output_type": "display_data"
    }
   ],
   "source": [
    "# диаграмма рассеяния и коэффициент корреляции для третьего региона\n",
    "pd.plotting.scatter_matrix(df_2, figsize=(9, 9))\n",
    "display(df_2.corr())\n",
    "df_2.describe()"
   ]
  },
  {
   "cell_type": "markdown",
   "metadata": {},
   "source": [
    "**Вывод**  \n",
    "\n",
    "Данные загружены и проверены:\n",
    "* пропущенных значений нет;\n",
    "* обнаружена корреляция между признаками `product` и `f2` во всех наборах данных, во втором регионе (`df_1`) корреляция максимальная, почти достигает единицы. В первом регионе (`df0`) есть небольшая корреляция у признака `product` с первым (`f0`) и вторым признаками (`f1`). В других регионах эта корреляция близка к нулю;\n",
    "* наблюдается нелинейная зависимость между признаками `f0` и `f1` в первом и втором регионах; \n",
    "* наибольший средний объем запасов нефти в скважине зафиксирован в 3-м регионе (`95`), наименьший — во втором (`92.5`)."
   ]
  },
  {
   "cell_type": "markdown",
   "metadata": {},
   "source": [
    "## Обучение и проверка модели"
   ]
  },
  {
   "cell_type": "markdown",
   "metadata": {},
   "source": [
    "Обучим и проверим модель для каждого региона:\n",
    "* разобъём данные на обучающую и валидационную выборки в соотношении 75:25;\n",
    "* обучим модель и сделаем предсказания на валидационной выборке;\n",
    "* cохраним предсказания и правильные ответы на валидационной выборке;\n",
    "* напечатаем на экране средний запас предсказанного сырья и RMSE модели;\n",
    "* проанализируем результаты."
   ]
  },
  {
   "cell_type": "code",
   "execution_count": 8,
   "metadata": {
    "scrolled": true
   },
   "outputs": [
    {
     "data": {
      "text/html": [
       "<div>\n",
       "<style scoped>\n",
       "    .dataframe tbody tr th:only-of-type {\n",
       "        vertical-align: middle;\n",
       "    }\n",
       "\n",
       "    .dataframe tbody tr th {\n",
       "        vertical-align: top;\n",
       "    }\n",
       "\n",
       "    .dataframe thead th {\n",
       "        text-align: right;\n",
       "    }\n",
       "</style>\n",
       "<table border=\"1\" class=\"dataframe\">\n",
       "  <thead>\n",
       "    <tr style=\"text-align: right;\">\n",
       "      <th></th>\n",
       "      <th>Cредний запас предсказанного сырья, тыс. баррелей</th>\n",
       "      <th>RMSE</th>\n",
       "    </tr>\n",
       "  </thead>\n",
       "  <tbody>\n",
       "    <tr>\n",
       "      <th>geo_data_0</th>\n",
       "      <td>92.398800</td>\n",
       "      <td>37.756600</td>\n",
       "    </tr>\n",
       "    <tr>\n",
       "      <th>geo_data_1</th>\n",
       "      <td>68.712878</td>\n",
       "      <td>0.890280</td>\n",
       "    </tr>\n",
       "    <tr>\n",
       "      <th>geo_data_2</th>\n",
       "      <td>94.771024</td>\n",
       "      <td>40.145872</td>\n",
       "    </tr>\n",
       "  </tbody>\n",
       "</table>\n",
       "</div>"
      ],
      "text/plain": [
       "            Cредний запас предсказанного сырья, тыс. баррелей       RMSE\n",
       "geo_data_0                                          92.398800  37.756600\n",
       "geo_data_1                                          68.712878   0.890280\n",
       "geo_data_2                                          94.771024  40.145872"
      ]
     },
     "execution_count": 8,
     "metadata": {},
     "output_type": "execute_result"
    }
   ],
   "source": [
    "# напишем функцию, для разбиения данных, обучения модели и вывода среднего запаса предсказанного сырья и RMSE \n",
    "# сохраним предсказания и правильные ответы на валидационной выборке\n",
    "def model_geo(geo_data):\n",
    "    target = geo_data['product']\n",
    "    features = geo_data.drop(['id', 'product'], axis = 1)\n",
    "    features_train, features_valid, target_train, target_valid = train_test_split(\n",
    "        features, target, test_size=.25, random_state=42)\n",
    "    model = LinearRegression()\n",
    "    model.fit(features_train, target_train)\n",
    "    predictions_valid = model.predict(features_valid)\n",
    "    prediction_mean = predictions_valid.mean()\n",
    "    rmse = mean_squared_error(target_valid, predictions_valid)**.5\n",
    "    return (prediction_mean, rmse, target_valid.reset_index(drop=True), pd.Series(predictions_valid))\n",
    "\n",
    "prediction_mean_0, rmse_0, target_valid_0, predictions_valid_0 = model_geo(df_0)\n",
    "prediction_mean_1, rmse_1, target_valid_1, predictions_valid_1 = model_geo(df_1)\n",
    "prediction_mean_2, rmse_2, target_valid_2, predictions_valid_2 = model_geo(df_2)\n",
    "\n",
    "\n",
    "predictions_regions = pd.DataFrame({'Cредний запас предсказанного сырья, тыс. баррелей':\n",
    "                                   [prediction_mean_0, prediction_mean_1, prediction_mean_2], \n",
    "                                   'RMSE': [rmse_0, rmse_1, rmse_2]},\n",
    "                                  index=['geo_data_0', 'geo_data_1', 'geo_data_2'])\n",
    "predictions_regions"
   ]
  },
  {
   "cell_type": "markdown",
   "metadata": {},
   "source": [
    "**Вывод**  \n",
    "\n",
    "* в первом регионе (`geo_data_0`) средний запас предсказанного сырья составляет `92.4` тыс. баррелей, и высокое значение `RMSE` `37.8`;\n",
    "* во втором регионе (`geo_data_1`) средний запас предсказанного сырья составляет `68.7` тыс. баррелей, и низкое значение `RMSE` `0.9`;\n",
    "* в третьем регионе (`geo_data_2`) средний запас предсказанного сырья составляет `94.8` тыс. баррелей, и высокое значение `RMSE` `40.2`.  \n",
    "\n",
    "Это может говорить о невысоком качестве предсказаний модели в первом и третьем случаях и хороших предсказаниях во втором случае.\n"
   ]
  },
  {
   "cell_type": "markdown",
   "metadata": {},
   "source": [
    "## Подготовка к расчёту прибыли"
   ]
  },
  {
   "cell_type": "markdown",
   "metadata": {},
   "source": [
    "* все ключевые значения для расчётов сохраним в отдельных переменных;\n",
    "* рассчитаем достаточный объём сырья для безубыточной разработки новой скважины. Сравним полученный объём сырья со средним запасом в каждом регионе."
   ]
  },
  {
   "cell_type": "code",
   "execution_count": 9,
   "metadata": {
    "scrolled": true
   },
   "outputs": [
    {
     "name": "stdout",
     "output_type": "stream",
     "text": [
      "Достаточный объём сырья для безубыточной разработки новой скважины: 111.11111111111111\n"
     ]
    }
   ],
   "source": [
    "# ключевые переменные, необходимые для дальнейших расчётов\n",
    "\n",
    "# бюджет на разработку скважин в регионе в рублях\n",
    "BUDGET = 10**10\n",
    "\n",
    "# количество исследуемых точек в каждом регионе\n",
    "POINTS_ALL_REGION = 500\n",
    "\n",
    "# исследованные лучшие точки для разработки\n",
    "POINTS_BEST = 200\n",
    "\n",
    "# доход с каждой тысячи баррелей в рублях\n",
    "REVENUE_BARREL = 450000\n",
    "\n",
    "# максимальная доля убытков\n",
    "MAX_LOSSES = 0.025\n",
    "\n",
    "# бюджет на одну скважину\n",
    "BUDGET_WELL = BUDGET / POINTS_BEST\n",
    "\n",
    "# достаточный объём сырья для безубыточной разработки новой скважины\n",
    "MIN_WELL_VOLUME = BUDGET_WELL / REVENUE_BARREL\n",
    "print('Достаточный объём сырья для безубыточной разработки новой скважины:', MIN_WELL_VOLUME)"
   ]
  },
  {
   "cell_type": "code",
   "execution_count": 10,
   "metadata": {},
   "outputs": [
    {
     "data": {
      "text/html": [
       "<div>\n",
       "<style scoped>\n",
       "    .dataframe tbody tr th:only-of-type {\n",
       "        vertical-align: middle;\n",
       "    }\n",
       "\n",
       "    .dataframe tbody tr th {\n",
       "        vertical-align: top;\n",
       "    }\n",
       "\n",
       "    .dataframe thead th {\n",
       "        text-align: right;\n",
       "    }\n",
       "</style>\n",
       "<table border=\"1\" class=\"dataframe\">\n",
       "  <thead>\n",
       "    <tr style=\"text-align: right;\">\n",
       "      <th></th>\n",
       "      <th>Средний запас сырья в регионах, тыс. баррелей</th>\n",
       "    </tr>\n",
       "  </thead>\n",
       "  <tbody>\n",
       "    <tr>\n",
       "      <th>geo_data_0</th>\n",
       "      <td>92.500</td>\n",
       "    </tr>\n",
       "    <tr>\n",
       "      <th>geo_data_1</th>\n",
       "      <td>68.825</td>\n",
       "    </tr>\n",
       "    <tr>\n",
       "      <th>geo_data_2</th>\n",
       "      <td>95.000</td>\n",
       "    </tr>\n",
       "  </tbody>\n",
       "</table>\n",
       "</div>"
      ],
      "text/plain": [
       "            Средний запас сырья в регионах, тыс. баррелей\n",
       "geo_data_0                                         92.500\n",
       "geo_data_1                                         68.825\n",
       "geo_data_2                                         95.000"
      ]
     },
     "execution_count": 10,
     "metadata": {},
     "output_type": "execute_result"
    }
   ],
   "source": [
    "# посчитаем средний запас сырья в регионах\n",
    "average_well_volume = pd.DataFrame({'Средний запас сырья в регионах, тыс. баррелей':\n",
    "                                   [df_0['product'].mean(), df_1['product'].mean(), df_2['product'].mean()]},\n",
    "                                   index=['geo_data_0', 'geo_data_1', 'geo_data_2'])\n",
    "average_well_volume"
   ]
  },
  {
   "cell_type": "markdown",
   "metadata": {},
   "source": [
    "Средний запас сырья в регионах явно меньше достаточного объёма для безубыточной разработки новой скважины."
   ]
  },
  {
   "cell_type": "markdown",
   "metadata": {},
   "source": [
    "## Расчёт прибыли и рисков "
   ]
  },
  {
   "cell_type": "markdown",
   "metadata": {},
   "source": [
    "* напишем функцию для расчёта прибыли по выбранным скважинам и предсказаниям модели:\n",
    "** выберем скважины с максимальными значениями предсказаний,\n",
    "** просуммируйте целевое значение объёма сырья, соответствующее этим предсказаниям,\n",
    "** рассчитаем прибыль для полученного объёма сырья;\n",
    "* посчитаем риски и прибыль для каждого региона:\n",
    "** техника `Bootstrap` с `1000` выборок, чтобы найти распределение прибыли,\n",
    "** найдём среднюю прибыль, `95%`-й доверительный интервал и риск убытков. Убыток — это отрицательная прибыль."
   ]
  },
  {
   "cell_type": "code",
   "execution_count": 11,
   "metadata": {},
   "outputs": [
    {
     "data": {
      "text/html": [
       "<div>\n",
       "<style scoped>\n",
       "    .dataframe tbody tr th:only-of-type {\n",
       "        vertical-align: middle;\n",
       "    }\n",
       "\n",
       "    .dataframe tbody tr th {\n",
       "        vertical-align: top;\n",
       "    }\n",
       "\n",
       "    .dataframe thead th {\n",
       "        text-align: right;\n",
       "    }\n",
       "</style>\n",
       "<table border=\"1\" class=\"dataframe\">\n",
       "  <thead>\n",
       "    <tr style=\"text-align: right;\">\n",
       "      <th></th>\n",
       "      <th>Прибыль для полученного объёма сырья, млн руб</th>\n",
       "    </tr>\n",
       "  </thead>\n",
       "  <tbody>\n",
       "    <tr>\n",
       "      <th>geo_data_0</th>\n",
       "      <td>3359.141114</td>\n",
       "    </tr>\n",
       "    <tr>\n",
       "      <th>geo_data_1</th>\n",
       "      <td>2415.086697</td>\n",
       "    </tr>\n",
       "    <tr>\n",
       "      <th>geo_data_2</th>\n",
       "      <td>2598.571759</td>\n",
       "    </tr>\n",
       "  </tbody>\n",
       "</table>\n",
       "</div>"
      ],
      "text/plain": [
       "            Прибыль для полученного объёма сырья, млн руб\n",
       "geo_data_0                                    3359.141114\n",
       "geo_data_1                                    2415.086697\n",
       "geo_data_2                                    2598.571759"
      ]
     },
     "execution_count": 11,
     "metadata": {},
     "output_type": "execute_result"
    }
   ],
   "source": [
    "# функция для расчёта прибыли по выбранным скважинам и предсказаниям модели\n",
    "def calculate_profit(answer, prediction, count):\n",
    "    func = answer[prediction.sort_values(ascending=False).index][:count]\n",
    "    return ((REVENUE_BARREL * func.sum()) - BUDGET)\n",
    "\n",
    "region_0_profit = calculate_profit(target_valid_0, predictions_valid_0, POINTS_BEST)\n",
    "region_1_profit = calculate_profit(target_valid_1, predictions_valid_1, POINTS_BEST)\n",
    "region_2_profit = calculate_profit(target_valid_2, predictions_valid_2, POINTS_BEST)\n",
    "\n",
    "profit_predicted = pd.DataFrame({'Прибыль для полученного объёма сырья, млн руб':\n",
    "                                   [region_0_profit/10**6, region_1_profit/10**6, region_2_profit/10**6]},\n",
    "                                  index=['geo_data_0', 'geo_data_1', 'geo_data_2'])\n",
    "profit_predicted"
   ]
  },
  {
   "cell_type": "markdown",
   "metadata": {},
   "source": [
    "Cамый перспективный для разработки регион: первый (`geo_data_0`) с прибылью в `3.4` млрд рублей."
   ]
  },
  {
   "cell_type": "code",
   "execution_count": 13,
   "metadata": {
    "scrolled": true
   },
   "outputs": [
    {
     "data": {
      "text/html": [
       "<div>\n",
       "<style scoped>\n",
       "    .dataframe tbody tr th:only-of-type {\n",
       "        vertical-align: middle;\n",
       "    }\n",
       "\n",
       "    .dataframe tbody tr th {\n",
       "        vertical-align: top;\n",
       "    }\n",
       "\n",
       "    .dataframe thead th {\n",
       "        text-align: right;\n",
       "    }\n",
       "</style>\n",
       "<table border=\"1\" class=\"dataframe\">\n",
       "  <thead>\n",
       "    <tr style=\"text-align: right;\">\n",
       "      <th></th>\n",
       "      <th>Средняя прибыль, млн руб</th>\n",
       "      <th>95%-й доверительный интервал</th>\n",
       "      <th>Риск убытков</th>\n",
       "    </tr>\n",
       "  </thead>\n",
       "  <tbody>\n",
       "    <tr>\n",
       "      <th>geo_data_0</th>\n",
       "      <td>399.575478</td>\n",
       "      <td>(-110467895.33197226, 756173879.1815902)</td>\n",
       "      <td>0.060</td>\n",
       "    </tr>\n",
       "    <tr>\n",
       "      <th>geo_data_1</th>\n",
       "      <td>452.576594</td>\n",
       "      <td>(52309409.80273462, 745263755.9611629)</td>\n",
       "      <td>0.009</td>\n",
       "    </tr>\n",
       "    <tr>\n",
       "      <th>geo_data_2</th>\n",
       "      <td>378.705904</td>\n",
       "      <td>(-127779434.98830414, 763774356.3674451)</td>\n",
       "      <td>0.075</td>\n",
       "    </tr>\n",
       "  </tbody>\n",
       "</table>\n",
       "</div>"
      ],
      "text/plain": [
       "            Средняя прибыль, млн руб  \\\n",
       "geo_data_0                399.575478   \n",
       "geo_data_1                452.576594   \n",
       "geo_data_2                378.705904   \n",
       "\n",
       "                        95%-й доверительный интервал  Риск убытков  \n",
       "geo_data_0  (-110467895.33197226, 756173879.1815902)         0.060  \n",
       "geo_data_1    (52309409.80273462, 745263755.9611629)         0.009  \n",
       "geo_data_2  (-127779434.98830414, 763774356.3674451)         0.075  "
      ]
     },
     "execution_count": 13,
     "metadata": {},
     "output_type": "execute_result"
    }
   ],
   "source": [
    "# Bootstrap с 1000 повторений\n",
    "state = np.random.RandomState(42)\n",
    "def calculate_risk(answer, prediction):\n",
    "    values = []\n",
    "    lower = MAX_LOSSES\n",
    "    upper = 0.95 - MAX_LOSSES\n",
    "    for i in range(1000):\n",
    "        target_subsample = answer.sample(POINTS_ALL_REGION, replace=True, random_state=state)\n",
    "        probs_subsample = prediction[target_subsample.index]\n",
    "        values.append(calculate_profit(answer, probs_subsample, POINTS_BEST))\n",
    "      \n",
    "    values = pd.Series(values)\n",
    "    mean = values.mean()\n",
    "    confidence_interval = (values.quantile(lower), values.quantile(upper))\n",
    "    risk_loss = (values < 0).mean()\n",
    "    return (mean, confidence_interval, risk_loss)\n",
    "\n",
    "region_0_risk = calculate_risk(target_valid_0, predictions_valid_0)\n",
    "region_1_risk = calculate_risk(target_valid_1, predictions_valid_1)\n",
    "region_2_risk = calculate_risk(target_valid_2, predictions_valid_2)\n",
    "\n",
    "risk_predicted = pd.DataFrame({'Средняя прибыль, млн руб':\n",
    "                                   [region_0_risk[0]/10**6, region_1_risk[0]/10**6, region_2_risk[0]/10**6],\n",
    "                              '95%-й доверительный интервал':\n",
    "                                   [region_0_risk[1], region_1_risk[1], region_2_risk[1]],\n",
    "                              'Риск убытков':\n",
    "                                   [region_0_risk[2], region_1_risk[2], region_2_risk[2]]},\n",
    "                                  index=['geo_data_0', 'geo_data_1', 'geo_data_2'])\n",
    "risk_predicted"
   ]
  },
  {
   "cell_type": "code",
   "execution_count": 14,
   "metadata": {},
   "outputs": [
    {
     "data": {
      "text/html": [
       "<div>\n",
       "<style scoped>\n",
       "    .dataframe tbody tr th:only-of-type {\n",
       "        vertical-align: middle;\n",
       "    }\n",
       "\n",
       "    .dataframe tbody tr th {\n",
       "        vertical-align: top;\n",
       "    }\n",
       "\n",
       "    .dataframe thead th {\n",
       "        text-align: right;\n",
       "    }\n",
       "</style>\n",
       "<table border=\"1\" class=\"dataframe\">\n",
       "  <thead>\n",
       "    <tr style=\"text-align: right;\">\n",
       "      <th></th>\n",
       "      <th>Cредний запас предсказанного сырья, тыс. баррелей</th>\n",
       "      <th>RMSE</th>\n",
       "      <th>Средний запас сырья в регионах, тыс. баррелей</th>\n",
       "      <th>Прибыль для полученного объёма сырья, млн руб</th>\n",
       "      <th>Средняя прибыль, млн руб</th>\n",
       "      <th>95%-й доверительный интервал</th>\n",
       "      <th>Риск убытков</th>\n",
       "    </tr>\n",
       "  </thead>\n",
       "  <tbody>\n",
       "    <tr>\n",
       "      <th>geo_data_0</th>\n",
       "      <td>92.398800</td>\n",
       "      <td>37.756600</td>\n",
       "      <td>92.500</td>\n",
       "      <td>3359.141114</td>\n",
       "      <td>399.575478</td>\n",
       "      <td>(-110467895.33197226, 756173879.1815902)</td>\n",
       "      <td>0.060</td>\n",
       "    </tr>\n",
       "    <tr>\n",
       "      <th>geo_data_1</th>\n",
       "      <td>68.712878</td>\n",
       "      <td>0.890280</td>\n",
       "      <td>68.825</td>\n",
       "      <td>2415.086697</td>\n",
       "      <td>452.576594</td>\n",
       "      <td>(52309409.80273462, 745263755.9611629)</td>\n",
       "      <td>0.009</td>\n",
       "    </tr>\n",
       "    <tr>\n",
       "      <th>geo_data_2</th>\n",
       "      <td>94.771024</td>\n",
       "      <td>40.145872</td>\n",
       "      <td>95.000</td>\n",
       "      <td>2598.571759</td>\n",
       "      <td>378.705904</td>\n",
       "      <td>(-127779434.98830414, 763774356.3674451)</td>\n",
       "      <td>0.075</td>\n",
       "    </tr>\n",
       "  </tbody>\n",
       "</table>\n",
       "</div>"
      ],
      "text/plain": [
       "            Cредний запас предсказанного сырья, тыс. баррелей       RMSE  \\\n",
       "geo_data_0                                          92.398800  37.756600   \n",
       "geo_data_1                                          68.712878   0.890280   \n",
       "geo_data_2                                          94.771024  40.145872   \n",
       "\n",
       "            Средний запас сырья в регионах, тыс. баррелей  \\\n",
       "geo_data_0                                         92.500   \n",
       "geo_data_1                                         68.825   \n",
       "geo_data_2                                         95.000   \n",
       "\n",
       "            Прибыль для полученного объёма сырья, млн руб  \\\n",
       "geo_data_0                                    3359.141114   \n",
       "geo_data_1                                    2415.086697   \n",
       "geo_data_2                                    2598.571759   \n",
       "\n",
       "            Средняя прибыль, млн руб  \\\n",
       "geo_data_0                399.575478   \n",
       "geo_data_1                452.576594   \n",
       "geo_data_2                378.705904   \n",
       "\n",
       "                        95%-й доверительный интервал  Риск убытков  \n",
       "geo_data_0  (-110467895.33197226, 756173879.1815902)         0.060  \n",
       "geo_data_1    (52309409.80273462, 745263755.9611629)         0.009  \n",
       "geo_data_2  (-127779434.98830414, 763774356.3674451)         0.075  "
      ]
     },
     "execution_count": 14,
     "metadata": {},
     "output_type": "execute_result"
    }
   ],
   "source": [
    "# выведем общую таблицу по всем расчитанным ранее данным\n",
    "totals = pd.concat([predictions_regions, average_well_volume, profit_predicted, risk_predicted], axis=1)\n",
    "totals"
   ]
  },
  {
   "cell_type": "markdown",
   "metadata": {},
   "source": [
    "**Вывод**  \n",
    "\n",
    "Наилучший регион для разработки скважин: `geo_data_1`, с наименьшим риском убытков."
   ]
  }
 ],
 "metadata": {
  "ExecuteTimeLog": [
   {
    "duration": 1623,
    "start_time": "2022-06-01T19:17:07.119Z"
   },
   {
    "duration": 793,
    "start_time": "2022-06-01T19:17:08.818Z"
   },
   {
    "duration": 29,
    "start_time": "2022-06-01T19:18:07.365Z"
   },
   {
    "duration": 1470,
    "start_time": "2022-06-04T14:31:56.257Z"
   },
   {
    "duration": 1704,
    "start_time": "2022-06-04T14:31:57.729Z"
   },
   {
    "duration": 34,
    "start_time": "2022-06-04T14:31:59.434Z"
   },
   {
    "duration": 5060,
    "start_time": "2022-06-04T14:31:59.470Z"
   },
   {
    "duration": 151,
    "start_time": "2022-06-04T14:32:04.533Z"
   },
   {
    "duration": 22,
    "start_time": "2022-06-04T14:33:17.923Z"
   },
   {
    "duration": 1737,
    "start_time": "2022-06-04T14:33:57.919Z"
   },
   {
    "duration": 5825,
    "start_time": "2022-06-04T14:35:11.447Z"
   },
   {
    "duration": 5813,
    "start_time": "2022-06-04T14:35:31.761Z"
   },
   {
    "duration": 6238,
    "start_time": "2022-06-04T14:35:52.221Z"
   },
   {
    "duration": 7961,
    "start_time": "2022-06-04T14:37:08.418Z"
   },
   {
    "duration": 5627,
    "start_time": "2022-06-04T14:37:49.434Z"
   },
   {
    "duration": 37,
    "start_time": "2022-06-04T15:40:45.678Z"
   },
   {
    "duration": 37,
    "start_time": "2022-06-04T15:41:41.041Z"
   },
   {
    "duration": 33,
    "start_time": "2022-06-04T15:43:48.033Z"
   },
   {
    "duration": 27,
    "start_time": "2022-06-04T15:46:36.775Z"
   },
   {
    "duration": 5,
    "start_time": "2022-06-04T15:46:44.783Z"
   },
   {
    "duration": 32,
    "start_time": "2022-06-04T15:46:50.714Z"
   },
   {
    "duration": 91,
    "start_time": "2022-06-04T15:46:56.542Z"
   },
   {
    "duration": 332,
    "start_time": "2022-06-04T16:01:35.405Z"
   },
   {
    "duration": 329,
    "start_time": "2022-06-04T16:02:33.025Z"
   },
   {
    "duration": 369,
    "start_time": "2022-06-04T16:04:41.470Z"
   },
   {
    "duration": 254,
    "start_time": "2022-06-04T16:05:06.482Z"
   },
   {
    "duration": 15,
    "start_time": "2022-06-04T16:05:25.800Z"
   },
   {
    "duration": 19,
    "start_time": "2022-06-04T16:05:47.509Z"
   },
   {
    "duration": 12,
    "start_time": "2022-06-04T16:08:48.762Z"
   },
   {
    "duration": 11,
    "start_time": "2022-06-04T16:10:17.101Z"
   },
   {
    "duration": 302,
    "start_time": "2022-06-04T16:11:22.643Z"
   },
   {
    "duration": 288,
    "start_time": "2022-06-04T16:11:57.377Z"
   },
   {
    "duration": 26,
    "start_time": "2022-06-04T16:16:11.184Z"
   },
   {
    "duration": 47,
    "start_time": "2022-06-04T16:17:55.700Z"
   },
   {
    "duration": 5,
    "start_time": "2022-06-04T16:18:31.857Z"
   },
   {
    "duration": 10,
    "start_time": "2022-06-04T16:18:39.855Z"
   },
   {
    "duration": 37,
    "start_time": "2022-06-04T16:19:05.755Z"
   },
   {
    "duration": 9,
    "start_time": "2022-06-04T16:19:19.484Z"
   },
   {
    "duration": 9,
    "start_time": "2022-06-04T16:20:31.489Z"
   },
   {
    "duration": 18,
    "start_time": "2022-06-04T16:21:47.060Z"
   },
   {
    "duration": 9,
    "start_time": "2022-06-04T16:21:50.789Z"
   },
   {
    "duration": 9,
    "start_time": "2022-06-04T16:22:19.355Z"
   },
   {
    "duration": 252,
    "start_time": "2022-06-04T16:22:49.385Z"
   },
   {
    "duration": 9,
    "start_time": "2022-06-04T16:31:01.808Z"
   },
   {
    "duration": 359,
    "start_time": "2022-06-04T16:31:18.865Z"
   },
   {
    "duration": 395,
    "start_time": "2022-06-04T16:32:48.138Z"
   },
   {
    "duration": 612,
    "start_time": "2022-06-04T16:33:56.314Z"
   },
   {
    "duration": 413,
    "start_time": "2022-06-04T16:50:29.824Z"
   },
   {
    "duration": 388,
    "start_time": "2022-06-04T16:53:29.742Z"
   },
   {
    "duration": 3,
    "start_time": "2022-06-04T17:15:43.616Z"
   },
   {
    "duration": 4,
    "start_time": "2022-06-04T17:17:50.515Z"
   },
   {
    "duration": 4,
    "start_time": "2022-06-04T17:17:59.819Z"
   },
   {
    "duration": 6,
    "start_time": "2022-06-04T17:18:24.741Z"
   },
   {
    "duration": 6,
    "start_time": "2022-06-04T17:19:24.903Z"
   },
   {
    "duration": 5,
    "start_time": "2022-06-04T19:54:14.754Z"
   },
   {
    "duration": 11,
    "start_time": "2022-06-04T19:54:47.932Z"
   },
   {
    "duration": 38,
    "start_time": "2022-06-04T19:55:25.084Z"
   },
   {
    "duration": 12,
    "start_time": "2022-06-04T19:56:05.634Z"
   },
   {
    "duration": 121,
    "start_time": "2022-06-04T20:01:44.444Z"
   },
   {
    "duration": 380,
    "start_time": "2022-06-04T23:38:45.249Z"
   },
   {
    "duration": 11,
    "start_time": "2022-06-04T23:42:46.319Z"
   },
   {
    "duration": 11,
    "start_time": "2022-06-04T23:45:20.446Z"
   },
   {
    "duration": 29,
    "start_time": "2022-06-04T23:51:46.479Z"
   },
   {
    "duration": 27,
    "start_time": "2022-06-04T23:53:03.650Z"
   },
   {
    "duration": 30,
    "start_time": "2022-06-04T23:53:30.775Z"
   },
   {
    "duration": 28,
    "start_time": "2022-06-05T00:07:50.573Z"
   },
   {
    "duration": 1370,
    "start_time": "2022-06-07T21:05:06.961Z"
   },
   {
    "duration": 794,
    "start_time": "2022-06-07T21:05:08.333Z"
   },
   {
    "duration": 30,
    "start_time": "2022-06-07T21:05:09.128Z"
   },
   {
    "duration": 141,
    "start_time": "2022-06-07T21:05:09.160Z"
   },
   {
    "duration": 4673,
    "start_time": "2022-06-07T21:05:09.304Z"
   },
   {
    "duration": 4693,
    "start_time": "2022-06-07T21:05:13.979Z"
   },
   {
    "duration": 4496,
    "start_time": "2022-06-07T21:05:18.673Z"
   },
   {
    "duration": 128,
    "start_time": "2022-06-07T21:05:23.170Z"
   },
   {
    "duration": 0,
    "start_time": "2022-06-07T21:05:23.300Z"
   },
   {
    "duration": 0,
    "start_time": "2022-06-07T21:05:23.302Z"
   },
   {
    "duration": 0,
    "start_time": "2022-06-07T21:05:23.303Z"
   },
   {
    "duration": 0,
    "start_time": "2022-06-07T21:05:23.304Z"
   },
   {
    "duration": 0,
    "start_time": "2022-06-07T21:05:23.305Z"
   },
   {
    "duration": 1201,
    "start_time": "2022-06-07T21:06:14.889Z"
   },
   {
    "duration": 404,
    "start_time": "2022-06-07T21:06:16.092Z"
   },
   {
    "duration": 38,
    "start_time": "2022-06-07T21:06:16.498Z"
   },
   {
    "duration": 218,
    "start_time": "2022-06-07T21:06:16.538Z"
   },
   {
    "duration": 4659,
    "start_time": "2022-06-07T21:06:16.758Z"
   },
   {
    "duration": 4619,
    "start_time": "2022-06-07T21:06:21.418Z"
   },
   {
    "duration": 4361,
    "start_time": "2022-06-07T21:06:26.038Z"
   },
   {
    "duration": 527,
    "start_time": "2022-06-07T21:06:30.400Z"
   },
   {
    "duration": 6,
    "start_time": "2022-06-07T21:06:30.930Z"
   },
   {
    "duration": 11,
    "start_time": "2022-06-07T21:06:31.027Z"
   },
   {
    "duration": 22,
    "start_time": "2022-06-07T21:06:31.040Z"
   },
   {
    "duration": 14,
    "start_time": "2022-06-07T21:06:31.063Z"
   },
   {
    "duration": 0,
    "start_time": "2022-06-07T21:06:31.078Z"
   },
   {
    "duration": 6,
    "start_time": "2022-06-07T21:07:02.967Z"
   },
   {
    "duration": 117,
    "start_time": "2022-06-07T21:07:17.867Z"
   },
   {
    "duration": 17,
    "start_time": "2022-06-07T21:13:03.670Z"
   },
   {
    "duration": 23,
    "start_time": "2022-06-07T21:16:08.219Z"
   },
   {
    "duration": 21,
    "start_time": "2022-06-07T21:21:18.549Z"
   },
   {
    "duration": 19,
    "start_time": "2022-06-07T21:22:16.814Z"
   },
   {
    "duration": 24,
    "start_time": "2022-06-07T21:24:43.989Z"
   },
   {
    "duration": 3635,
    "start_time": "2022-06-07T21:25:31.780Z"
   },
   {
    "duration": 3493,
    "start_time": "2022-06-07T21:27:01.722Z"
   },
   {
    "duration": 1193,
    "start_time": "2022-06-07T21:30:38.086Z"
   },
   {
    "duration": 1200,
    "start_time": "2022-06-07T21:31:29.763Z"
   },
   {
    "duration": 3501,
    "start_time": "2022-06-07T21:31:40.922Z"
   },
   {
    "duration": 3553,
    "start_time": "2022-06-07T21:32:16.488Z"
   },
   {
    "duration": 3416,
    "start_time": "2022-06-07T21:43:46.674Z"
   },
   {
    "duration": 29,
    "start_time": "2022-06-07T21:47:57.639Z"
   },
   {
    "duration": 3391,
    "start_time": "2022-06-07T21:48:11.485Z"
   },
   {
    "duration": 3447,
    "start_time": "2022-06-07T21:49:03.174Z"
   },
   {
    "duration": 3519,
    "start_time": "2022-06-07T21:50:32.579Z"
   },
   {
    "duration": 3520,
    "start_time": "2022-06-07T21:53:59.884Z"
   },
   {
    "duration": 26,
    "start_time": "2022-06-07T21:55:20.765Z"
   },
   {
    "duration": 24,
    "start_time": "2022-06-07T21:56:44.510Z"
   },
   {
    "duration": 3490,
    "start_time": "2022-06-07T21:56:52.506Z"
   },
   {
    "duration": 17,
    "start_time": "2022-06-07T21:58:10.374Z"
   },
   {
    "duration": 3368,
    "start_time": "2022-06-07T22:02:26.514Z"
   },
   {
    "duration": 3433,
    "start_time": "2022-06-07T22:07:12.751Z"
   },
   {
    "duration": 3423,
    "start_time": "2022-06-07T22:07:40.206Z"
   },
   {
    "duration": 1143,
    "start_time": "2022-06-07T22:12:12.252Z"
   },
   {
    "duration": 1133,
    "start_time": "2022-06-07T22:18:33.373Z"
   },
   {
    "duration": 3624,
    "start_time": "2022-06-07T22:20:31.134Z"
   },
   {
    "duration": 1205,
    "start_time": "2022-06-07T22:21:59.145Z"
   },
   {
    "duration": 402,
    "start_time": "2022-06-07T22:22:00.352Z"
   },
   {
    "duration": 29,
    "start_time": "2022-06-07T22:22:00.756Z"
   },
   {
    "duration": 152,
    "start_time": "2022-06-07T22:22:00.787Z"
   },
   {
    "duration": 4427,
    "start_time": "2022-06-07T22:22:00.942Z"
   },
   {
    "duration": 4338,
    "start_time": "2022-06-07T22:22:05.371Z"
   },
   {
    "duration": 4171,
    "start_time": "2022-06-07T22:22:09.711Z"
   },
   {
    "duration": 444,
    "start_time": "2022-06-07T22:22:13.884Z"
   },
   {
    "duration": 97,
    "start_time": "2022-06-07T22:22:14.330Z"
   },
   {
    "duration": 11,
    "start_time": "2022-06-07T22:22:14.429Z"
   },
   {
    "duration": 21,
    "start_time": "2022-06-07T22:22:14.441Z"
   },
   {
    "duration": 3505,
    "start_time": "2022-06-07T22:22:14.463Z"
   },
   {
    "duration": 1792,
    "start_time": "2022-06-07T22:22:17.970Z"
   },
   {
    "duration": 3608,
    "start_time": "2022-06-07T22:24:50.185Z"
   },
   {
    "duration": 3561,
    "start_time": "2022-06-07T22:29:39.749Z"
   },
   {
    "duration": 253,
    "start_time": "2022-06-07T22:33:23.675Z"
   },
   {
    "duration": 22,
    "start_time": "2022-06-07T22:33:45.850Z"
   },
   {
    "duration": 3589,
    "start_time": "2022-06-07T22:35:04.407Z"
   },
   {
    "duration": 36,
    "start_time": "2022-06-07T22:35:59.998Z"
   },
   {
    "duration": 18,
    "start_time": "2022-06-07T22:36:12.362Z"
   },
   {
    "duration": 4686,
    "start_time": "2022-06-07T22:37:31.606Z"
   },
   {
    "duration": 5,
    "start_time": "2022-06-07T22:38:30.287Z"
   },
   {
    "duration": 4,
    "start_time": "2022-06-07T22:38:45.389Z"
   },
   {
    "duration": 4,
    "start_time": "2022-06-07T22:38:54.106Z"
   },
   {
    "duration": 22,
    "start_time": "2022-06-07T22:43:32.646Z"
   },
   {
    "duration": 22,
    "start_time": "2022-06-07T22:44:12.774Z"
   },
   {
    "duration": 4488,
    "start_time": "2022-06-07T22:44:22.447Z"
   },
   {
    "duration": 8514,
    "start_time": "2022-06-07T22:44:57.684Z"
   },
   {
    "duration": 4816,
    "start_time": "2022-06-07T22:46:13.797Z"
   },
   {
    "duration": 23,
    "start_time": "2022-06-07T22:57:45.529Z"
   },
   {
    "duration": 4556,
    "start_time": "2022-06-07T22:58:09.385Z"
   },
   {
    "duration": 13,
    "start_time": "2022-06-07T23:04:22.467Z"
   },
   {
    "duration": 14,
    "start_time": "2022-06-07T23:08:44.708Z"
   },
   {
    "duration": 15,
    "start_time": "2022-06-07T23:09:16.643Z"
   },
   {
    "duration": 8,
    "start_time": "2022-06-07T23:13:39.074Z"
   },
   {
    "duration": 9,
    "start_time": "2022-06-07T23:13:42.764Z"
   },
   {
    "duration": 9,
    "start_time": "2022-06-07T23:14:24.407Z"
   },
   {
    "duration": 4,
    "start_time": "2022-06-07T23:14:34.530Z"
   },
   {
    "duration": 25,
    "start_time": "2022-06-07T23:15:22.202Z"
   },
   {
    "duration": 24,
    "start_time": "2022-06-07T23:15:49.625Z"
   },
   {
    "duration": 23,
    "start_time": "2022-06-07T23:15:54.377Z"
   },
   {
    "duration": 19,
    "start_time": "2022-06-07T23:16:46.790Z"
   },
   {
    "duration": 19,
    "start_time": "2022-06-07T23:16:57.962Z"
   },
   {
    "duration": 5,
    "start_time": "2022-06-07T23:22:10.765Z"
   },
   {
    "duration": 5,
    "start_time": "2022-06-07T23:22:34.420Z"
   },
   {
    "duration": 19,
    "start_time": "2022-06-07T23:23:00.490Z"
   },
   {
    "duration": 19,
    "start_time": "2022-06-07T23:23:10.543Z"
   },
   {
    "duration": 21,
    "start_time": "2022-06-07T23:24:07.125Z"
   },
   {
    "duration": 19,
    "start_time": "2022-06-07T23:26:03.765Z"
   },
   {
    "duration": 18,
    "start_time": "2022-06-07T23:29:11.168Z"
   },
   {
    "duration": 21,
    "start_time": "2022-06-07T23:34:34.346Z"
   },
   {
    "duration": 19,
    "start_time": "2022-06-07T23:37:05.086Z"
   },
   {
    "duration": 22,
    "start_time": "2022-06-07T23:38:47.372Z"
   },
   {
    "duration": 19,
    "start_time": "2022-06-07T23:39:12.574Z"
   },
   {
    "duration": 19,
    "start_time": "2022-06-07T23:39:41.151Z"
   },
   {
    "duration": 47,
    "start_time": "2022-06-09T19:40:24.597Z"
   },
   {
    "duration": 1444,
    "start_time": "2022-06-09T19:40:32.995Z"
   },
   {
    "duration": 1606,
    "start_time": "2022-06-09T19:40:34.442Z"
   },
   {
    "duration": 27,
    "start_time": "2022-06-09T19:40:36.050Z"
   },
   {
    "duration": 133,
    "start_time": "2022-06-09T19:40:36.078Z"
   },
   {
    "duration": 4757,
    "start_time": "2022-06-09T19:40:36.214Z"
   },
   {
    "duration": 4505,
    "start_time": "2022-06-09T19:40:40.972Z"
   },
   {
    "duration": 4821,
    "start_time": "2022-06-09T19:40:45.479Z"
   },
   {
    "duration": 440,
    "start_time": "2022-06-09T19:40:50.302Z"
   },
   {
    "duration": 82,
    "start_time": "2022-06-09T19:40:50.744Z"
   },
   {
    "duration": 117,
    "start_time": "2022-06-09T19:40:50.828Z"
   },
   {
    "duration": 8,
    "start_time": "2022-06-09T19:40:50.946Z"
   },
   {
    "duration": 110,
    "start_time": "2022-06-09T19:40:50.956Z"
   },
   {
    "duration": 0,
    "start_time": "2022-06-09T19:40:51.068Z"
   },
   {
    "duration": 0,
    "start_time": "2022-06-09T19:40:51.069Z"
   },
   {
    "duration": 0,
    "start_time": "2022-06-09T19:40:51.070Z"
   },
   {
    "duration": 6,
    "start_time": "2022-06-09T19:41:06.133Z"
   },
   {
    "duration": 4,
    "start_time": "2022-06-09T19:41:23.584Z"
   },
   {
    "duration": 4,
    "start_time": "2022-06-09T19:43:52.408Z"
   },
   {
    "duration": 4,
    "start_time": "2022-06-09T19:44:17.989Z"
   },
   {
    "duration": 4,
    "start_time": "2022-06-09T19:44:22.700Z"
   },
   {
    "duration": 4,
    "start_time": "2022-06-09T19:44:39.497Z"
   },
   {
    "duration": 4,
    "start_time": "2022-06-09T19:44:43.636Z"
   },
   {
    "duration": 4,
    "start_time": "2022-06-09T19:46:30.528Z"
   },
   {
    "duration": 4,
    "start_time": "2022-06-09T19:47:16.416Z"
   },
   {
    "duration": 23,
    "start_time": "2022-06-09T19:47:39.019Z"
   },
   {
    "duration": 4731,
    "start_time": "2022-06-09T19:48:10.086Z"
   },
   {
    "duration": 21,
    "start_time": "2022-06-09T19:49:22.343Z"
   },
   {
    "duration": 4187,
    "start_time": "2022-06-09T19:49:28.554Z"
   },
   {
    "duration": 4,
    "start_time": "2022-06-09T19:50:57.609Z"
   },
   {
    "duration": 18,
    "start_time": "2022-06-09T19:52:06.975Z"
   },
   {
    "duration": 27,
    "start_time": "2022-06-09T19:52:50.732Z"
   },
   {
    "duration": 23,
    "start_time": "2022-06-09T19:53:01.936Z"
   },
   {
    "duration": 3054,
    "start_time": "2022-06-09T19:54:01.093Z"
   },
   {
    "duration": 3577,
    "start_time": "2022-06-09T19:55:04.495Z"
   },
   {
    "duration": 2712,
    "start_time": "2022-06-09T19:57:10.015Z"
   },
   {
    "duration": 7143,
    "start_time": "2022-06-09T20:05:53.472Z"
   },
   {
    "duration": 4975,
    "start_time": "2022-06-09T20:06:41.309Z"
   },
   {
    "duration": 4,
    "start_time": "2022-06-09T20:10:53.798Z"
   },
   {
    "duration": 8,
    "start_time": "2022-06-09T20:11:32.121Z"
   },
   {
    "duration": 301,
    "start_time": "2022-06-09T20:12:27.284Z"
   },
   {
    "duration": 45,
    "start_time": "2022-06-09T20:18:22.425Z"
   },
   {
    "duration": 31,
    "start_time": "2022-06-09T20:19:06.392Z"
   },
   {
    "duration": 24,
    "start_time": "2022-06-09T20:26:57.404Z"
   },
   {
    "duration": 5051,
    "start_time": "2022-06-09T20:27:10.228Z"
   },
   {
    "duration": 3135,
    "start_time": "2022-06-09T20:27:29.560Z"
   },
   {
    "duration": 399,
    "start_time": "2022-06-10T10:37:27.430Z"
   },
   {
    "duration": 315,
    "start_time": "2022-06-10T10:43:36.120Z"
   },
   {
    "duration": 377,
    "start_time": "2022-06-10T10:45:19.658Z"
   },
   {
    "duration": 410,
    "start_time": "2022-06-10T10:45:45.716Z"
   },
   {
    "duration": 330,
    "start_time": "2022-06-10T10:46:04.700Z"
   },
   {
    "duration": 506,
    "start_time": "2022-06-10T10:46:16.728Z"
   },
   {
    "duration": 269,
    "start_time": "2022-06-10T11:01:39.055Z"
   },
   {
    "duration": 406,
    "start_time": "2022-06-10T11:01:54.022Z"
   },
   {
    "duration": 379,
    "start_time": "2022-06-10T11:02:05.347Z"
   },
   {
    "duration": 21,
    "start_time": "2022-06-10T11:05:24.536Z"
   },
   {
    "duration": 3702,
    "start_time": "2022-06-10T11:06:11.328Z"
   },
   {
    "duration": 22,
    "start_time": "2022-06-10T11:09:03.648Z"
   },
   {
    "duration": 3664,
    "start_time": "2022-06-10T11:09:13.348Z"
   },
   {
    "duration": 27,
    "start_time": "2022-06-10T11:13:05.469Z"
   },
   {
    "duration": 45,
    "start_time": "2022-06-10T11:15:01.153Z"
   },
   {
    "duration": 15,
    "start_time": "2022-06-10T11:16:15.206Z"
   },
   {
    "duration": 11,
    "start_time": "2022-06-10T11:16:28.258Z"
   },
   {
    "duration": 7,
    "start_time": "2022-06-10T11:16:39.508Z"
   },
   {
    "duration": 251,
    "start_time": "2022-06-10T11:17:47.176Z"
   },
   {
    "duration": 262,
    "start_time": "2022-06-10T11:18:04.272Z"
   },
   {
    "duration": 20,
    "start_time": "2022-06-10T11:18:27.603Z"
   },
   {
    "duration": 4249,
    "start_time": "2022-06-10T11:18:43.634Z"
   },
   {
    "duration": 4284,
    "start_time": "2022-06-10T11:19:42.257Z"
   },
   {
    "duration": 4206,
    "start_time": "2022-06-10T11:21:01.791Z"
   },
   {
    "duration": 4292,
    "start_time": "2022-06-10T11:23:35.122Z"
   },
   {
    "duration": 4276,
    "start_time": "2022-06-10T11:25:38.921Z"
   },
   {
    "duration": 6,
    "start_time": "2022-06-10T11:29:55.800Z"
   },
   {
    "duration": 5,
    "start_time": "2022-06-10T11:30:07.350Z"
   },
   {
    "duration": 8128,
    "start_time": "2022-06-10T11:30:33.000Z"
   },
   {
    "duration": 7712,
    "start_time": "2022-06-10T11:31:20.133Z"
   },
   {
    "duration": 1320,
    "start_time": "2022-06-10T11:33:13.345Z"
   },
   {
    "duration": 535,
    "start_time": "2022-06-10T11:33:14.667Z"
   },
   {
    "duration": 31,
    "start_time": "2022-06-10T11:33:15.203Z"
   },
   {
    "duration": 146,
    "start_time": "2022-06-10T11:33:15.236Z"
   },
   {
    "duration": 4581,
    "start_time": "2022-06-10T11:33:15.385Z"
   },
   {
    "duration": 4311,
    "start_time": "2022-06-10T11:33:19.968Z"
   },
   {
    "duration": 4562,
    "start_time": "2022-06-10T11:33:24.281Z"
   },
   {
    "duration": 579,
    "start_time": "2022-06-10T11:33:28.846Z"
   },
   {
    "duration": 5,
    "start_time": "2022-06-10T11:33:29.426Z"
   },
   {
    "duration": 18,
    "start_time": "2022-06-10T11:33:29.433Z"
   },
   {
    "duration": 114,
    "start_time": "2022-06-10T11:33:29.452Z"
   },
   {
    "duration": 0,
    "start_time": "2022-06-10T11:33:29.568Z"
   },
   {
    "duration": 0,
    "start_time": "2022-06-10T11:33:29.569Z"
   },
   {
    "duration": 0,
    "start_time": "2022-06-10T11:33:29.570Z"
   },
   {
    "duration": 0,
    "start_time": "2022-06-10T11:33:29.571Z"
   },
   {
    "duration": 0,
    "start_time": "2022-06-10T11:33:29.572Z"
   },
   {
    "duration": 21,
    "start_time": "2022-06-10T11:33:43.609Z"
   },
   {
    "duration": 4347,
    "start_time": "2022-06-10T11:33:48.679Z"
   },
   {
    "duration": 23,
    "start_time": "2022-06-10T17:21:51.998Z"
   },
   {
    "duration": 24,
    "start_time": "2022-06-10T17:22:16.603Z"
   },
   {
    "duration": 3934,
    "start_time": "2022-06-10T17:28:49.123Z"
   },
   {
    "duration": 1082,
    "start_time": "2022-06-10T17:30:26.974Z"
   },
   {
    "duration": 578,
    "start_time": "2022-06-10T17:30:28.058Z"
   },
   {
    "duration": 26,
    "start_time": "2022-06-10T17:30:28.638Z"
   },
   {
    "duration": 144,
    "start_time": "2022-06-10T17:30:28.665Z"
   },
   {
    "duration": 4098,
    "start_time": "2022-06-10T17:30:28.812Z"
   },
   {
    "duration": 3868,
    "start_time": "2022-06-10T17:30:32.912Z"
   },
   {
    "duration": 4071,
    "start_time": "2022-06-10T17:30:36.782Z"
   },
   {
    "duration": 371,
    "start_time": "2022-06-10T17:30:40.855Z"
   },
   {
    "duration": 7,
    "start_time": "2022-06-10T17:30:41.227Z"
   },
   {
    "duration": 12,
    "start_time": "2022-06-10T17:30:41.326Z"
   },
   {
    "duration": 102,
    "start_time": "2022-06-10T17:30:41.339Z"
   },
   {
    "duration": 0,
    "start_time": "2022-06-10T17:30:41.442Z"
   },
   {
    "duration": 0,
    "start_time": "2022-06-10T17:30:41.443Z"
   },
   {
    "duration": 0,
    "start_time": "2022-06-10T17:30:41.445Z"
   },
   {
    "duration": 0,
    "start_time": "2022-06-10T17:30:41.446Z"
   },
   {
    "duration": 0,
    "start_time": "2022-06-10T17:30:41.447Z"
   },
   {
    "duration": 22,
    "start_time": "2022-06-10T17:35:08.720Z"
   },
   {
    "duration": 1146,
    "start_time": "2022-06-10T17:35:18.304Z"
   },
   {
    "duration": 355,
    "start_time": "2022-06-10T17:35:19.452Z"
   },
   {
    "duration": 31,
    "start_time": "2022-06-10T17:35:19.809Z"
   },
   {
    "duration": 129,
    "start_time": "2022-06-10T17:35:19.842Z"
   },
   {
    "duration": 4161,
    "start_time": "2022-06-10T17:35:19.973Z"
   },
   {
    "duration": 3962,
    "start_time": "2022-06-10T17:35:24.136Z"
   },
   {
    "duration": 4167,
    "start_time": "2022-06-10T17:35:28.100Z"
   },
   {
    "duration": 267,
    "start_time": "2022-06-10T17:35:32.268Z"
   },
   {
    "duration": 5,
    "start_time": "2022-06-10T17:35:32.628Z"
   },
   {
    "duration": 103,
    "start_time": "2022-06-10T17:35:32.636Z"
   },
   {
    "duration": 92,
    "start_time": "2022-06-10T17:35:32.741Z"
   },
   {
    "duration": 0,
    "start_time": "2022-06-10T17:35:32.835Z"
   },
   {
    "duration": 0,
    "start_time": "2022-06-10T17:35:32.836Z"
   },
   {
    "duration": 0,
    "start_time": "2022-06-10T17:35:32.837Z"
   },
   {
    "duration": 0,
    "start_time": "2022-06-10T17:35:32.838Z"
   },
   {
    "duration": 0,
    "start_time": "2022-06-10T17:35:32.839Z"
   },
   {
    "duration": 21,
    "start_time": "2022-06-10T17:35:38.989Z"
   },
   {
    "duration": 4107,
    "start_time": "2022-06-10T17:35:42.950Z"
   },
   {
    "duration": 6,
    "start_time": "2022-06-10T17:36:24.680Z"
   },
   {
    "duration": 24,
    "start_time": "2022-06-10T17:38:44.482Z"
   },
   {
    "duration": 3971,
    "start_time": "2022-06-10T17:39:45.954Z"
   },
   {
    "duration": 6553,
    "start_time": "2022-06-10T17:42:20.040Z"
   },
   {
    "duration": 29,
    "start_time": "2022-06-10T17:48:31.856Z"
   },
   {
    "duration": 23,
    "start_time": "2022-06-10T17:50:16.146Z"
   },
   {
    "duration": 20,
    "start_time": "2022-06-10T17:50:47.424Z"
   },
   {
    "duration": 4254,
    "start_time": "2022-06-10T17:51:00.428Z"
   },
   {
    "duration": 23,
    "start_time": "2022-06-10T17:55:06.435Z"
   },
   {
    "duration": 17,
    "start_time": "2022-06-10T17:58:33.326Z"
   },
   {
    "duration": 3548,
    "start_time": "2022-06-10T17:58:46.355Z"
   },
   {
    "duration": 20,
    "start_time": "2022-06-10T17:59:58.880Z"
   },
   {
    "duration": 7941,
    "start_time": "2022-06-10T18:00:19.354Z"
   },
   {
    "duration": 8405,
    "start_time": "2022-06-10T18:01:04.898Z"
   },
   {
    "duration": 11439,
    "start_time": "2022-06-10T18:02:08.530Z"
   },
   {
    "duration": 7509,
    "start_time": "2022-06-10T18:02:42.941Z"
   },
   {
    "duration": 3716,
    "start_time": "2022-06-10T18:08:32.713Z"
   },
   {
    "duration": 20,
    "start_time": "2022-06-10T18:12:16.400Z"
   },
   {
    "duration": 9,
    "start_time": "2022-06-10T18:27:18.933Z"
   },
   {
    "duration": 5,
    "start_time": "2022-06-10T18:27:38.516Z"
   },
   {
    "duration": 14,
    "start_time": "2022-06-10T18:27:56.349Z"
   },
   {
    "duration": 9,
    "start_time": "2022-06-10T18:30:39.268Z"
   },
   {
    "duration": 10,
    "start_time": "2022-06-10T18:32:49.937Z"
   },
   {
    "duration": 1112,
    "start_time": "2022-06-10T18:35:31.759Z"
   },
   {
    "duration": 349,
    "start_time": "2022-06-10T18:35:32.873Z"
   },
   {
    "duration": 25,
    "start_time": "2022-06-10T18:35:33.225Z"
   },
   {
    "duration": 122,
    "start_time": "2022-06-10T18:35:33.252Z"
   },
   {
    "duration": 4134,
    "start_time": "2022-06-10T18:35:33.376Z"
   },
   {
    "duration": 3969,
    "start_time": "2022-06-10T18:35:37.512Z"
   },
   {
    "duration": 4010,
    "start_time": "2022-06-10T18:35:41.483Z"
   },
   {
    "duration": 240,
    "start_time": "2022-06-10T18:35:45.495Z"
   },
   {
    "duration": 92,
    "start_time": "2022-06-10T18:35:45.737Z"
   },
   {
    "duration": 102,
    "start_time": "2022-06-10T18:35:45.830Z"
   },
   {
    "duration": 18,
    "start_time": "2022-06-10T18:35:45.934Z"
   },
   {
    "duration": 3351,
    "start_time": "2022-06-10T18:35:45.953Z"
   },
   {
    "duration": 10,
    "start_time": "2022-06-10T18:35:49.306Z"
   },
   {
    "duration": 1110,
    "start_time": "2022-06-10T18:36:50.155Z"
   },
   {
    "duration": 372,
    "start_time": "2022-06-10T18:36:51.267Z"
   },
   {
    "duration": 29,
    "start_time": "2022-06-10T18:36:51.641Z"
   },
   {
    "duration": 137,
    "start_time": "2022-06-10T18:36:51.671Z"
   },
   {
    "duration": 4435,
    "start_time": "2022-06-10T18:36:51.811Z"
   },
   {
    "duration": 4227,
    "start_time": "2022-06-10T18:36:56.248Z"
   },
   {
    "duration": 4403,
    "start_time": "2022-06-10T18:37:00.477Z"
   },
   {
    "duration": 259,
    "start_time": "2022-06-10T18:37:04.882Z"
   },
   {
    "duration": 6,
    "start_time": "2022-06-10T18:37:05.227Z"
   },
   {
    "duration": 121,
    "start_time": "2022-06-10T18:37:05.235Z"
   },
   {
    "duration": 18,
    "start_time": "2022-06-10T18:37:05.357Z"
   },
   {
    "duration": 3800,
    "start_time": "2022-06-10T18:37:05.377Z"
   },
   {
    "duration": 21,
    "start_time": "2022-06-10T18:37:09.178Z"
   },
   {
    "duration": 45,
    "start_time": "2022-06-11T06:58:53.421Z"
   },
   {
    "duration": 1386,
    "start_time": "2022-06-11T06:59:00.212Z"
   },
   {
    "duration": 783,
    "start_time": "2022-06-11T06:59:01.600Z"
   },
   {
    "duration": 29,
    "start_time": "2022-06-11T06:59:02.384Z"
   },
   {
    "duration": 128,
    "start_time": "2022-06-11T06:59:02.415Z"
   },
   {
    "duration": 4272,
    "start_time": "2022-06-11T06:59:02.544Z"
   },
   {
    "duration": 4149,
    "start_time": "2022-06-11T06:59:06.817Z"
   },
   {
    "duration": 4241,
    "start_time": "2022-06-11T06:59:10.968Z"
   },
   {
    "duration": 353,
    "start_time": "2022-06-11T06:59:15.211Z"
   },
   {
    "duration": 5,
    "start_time": "2022-06-11T06:59:15.567Z"
   },
   {
    "duration": 15,
    "start_time": "2022-06-11T06:59:15.659Z"
   },
   {
    "duration": 21,
    "start_time": "2022-06-11T06:59:15.675Z"
   },
   {
    "duration": 5,
    "start_time": "2022-06-11T06:59:15.698Z"
   },
   {
    "duration": 3767,
    "start_time": "2022-06-11T06:59:15.704Z"
   },
   {
    "duration": 11,
    "start_time": "2022-06-11T06:59:19.473Z"
   },
   {
    "duration": 2535,
    "start_time": "2022-06-11T06:59:52.913Z"
   },
   {
    "duration": 17,
    "start_time": "2022-06-11T06:59:55.450Z"
   },
   {
    "duration": 3736,
    "start_time": "2022-06-11T07:00:14.490Z"
   },
   {
    "duration": 10,
    "start_time": "2022-06-11T07:00:18.228Z"
   },
   {
    "duration": 9,
    "start_time": "2022-06-11T09:50:01.029Z"
   },
   {
    "duration": 44,
    "start_time": "2022-06-11T09:52:32.178Z"
   },
   {
    "duration": 1305,
    "start_time": "2022-06-11T09:52:50.693Z"
   },
   {
    "duration": 1843,
    "start_time": "2022-06-11T09:52:52.000Z"
   },
   {
    "duration": 27,
    "start_time": "2022-06-11T09:52:53.845Z"
   },
   {
    "duration": 143,
    "start_time": "2022-06-11T09:52:53.874Z"
   },
   {
    "duration": 4506,
    "start_time": "2022-06-11T09:52:54.025Z"
   },
   {
    "duration": 4333,
    "start_time": "2022-06-11T09:52:58.532Z"
   },
   {
    "duration": 4467,
    "start_time": "2022-06-11T09:53:02.867Z"
   },
   {
    "duration": 410,
    "start_time": "2022-06-11T09:53:07.336Z"
   },
   {
    "duration": 80,
    "start_time": "2022-06-11T09:53:07.748Z"
   },
   {
    "duration": 107,
    "start_time": "2022-06-11T09:53:07.830Z"
   },
   {
    "duration": 103,
    "start_time": "2022-06-11T09:53:07.939Z"
   },
   {
    "duration": 0,
    "start_time": "2022-06-11T09:53:08.043Z"
   },
   {
    "duration": 0,
    "start_time": "2022-06-11T09:53:08.044Z"
   },
   {
    "duration": 0,
    "start_time": "2022-06-11T09:53:08.046Z"
   },
   {
    "duration": 24,
    "start_time": "2022-06-11T09:54:19.196Z"
   },
   {
    "duration": 2725,
    "start_time": "2022-06-11T09:55:42.774Z"
   },
   {
    "duration": 15,
    "start_time": "2022-06-11T09:58:14.483Z"
   },
   {
    "duration": 26,
    "start_time": "2022-06-11T10:04:53.597Z"
   },
   {
    "duration": 2691,
    "start_time": "2022-06-11T10:05:04.137Z"
   },
   {
    "duration": 21,
    "start_time": "2022-06-11T10:34:33.595Z"
   },
   {
    "duration": 5514,
    "start_time": "2022-06-11T10:52:19.785Z"
   },
   {
    "duration": 16,
    "start_time": "2022-06-11T10:53:02.358Z"
   },
   {
    "duration": 7445,
    "start_time": "2022-06-11T10:53:08.851Z"
   },
   {
    "duration": 15,
    "start_time": "2022-06-11T10:53:44.582Z"
   },
   {
    "duration": 16,
    "start_time": "2022-06-11T10:53:50.615Z"
   },
   {
    "duration": 16,
    "start_time": "2022-06-11T10:53:57.031Z"
   },
   {
    "duration": 4107,
    "start_time": "2022-06-11T10:54:07.354Z"
   },
   {
    "duration": 2842,
    "start_time": "2022-06-11T10:59:07.801Z"
   },
   {
    "duration": 21,
    "start_time": "2022-06-11T10:59:41.936Z"
   },
   {
    "duration": 2813,
    "start_time": "2022-06-11T10:59:45.520Z"
   },
   {
    "duration": 1218,
    "start_time": "2022-06-11T11:01:45.597Z"
   },
   {
    "duration": 386,
    "start_time": "2022-06-11T11:01:46.817Z"
   },
   {
    "duration": 29,
    "start_time": "2022-06-11T11:01:47.204Z"
   },
   {
    "duration": 118,
    "start_time": "2022-06-11T11:01:47.235Z"
   },
   {
    "duration": 4220,
    "start_time": "2022-06-11T11:01:47.355Z"
   },
   {
    "duration": 4314,
    "start_time": "2022-06-11T11:01:51.577Z"
   },
   {
    "duration": 4361,
    "start_time": "2022-06-11T11:01:55.892Z"
   },
   {
    "duration": 274,
    "start_time": "2022-06-11T11:02:00.255Z"
   },
   {
    "duration": 4,
    "start_time": "2022-06-11T11:02:00.531Z"
   },
   {
    "duration": 111,
    "start_time": "2022-06-11T11:02:00.537Z"
   },
   {
    "duration": 23,
    "start_time": "2022-06-11T11:02:00.650Z"
   },
   {
    "duration": 6,
    "start_time": "2022-06-11T11:02:00.675Z"
   },
   {
    "duration": 2717,
    "start_time": "2022-06-11T11:02:00.682Z"
   },
   {
    "duration": 11,
    "start_time": "2022-06-11T11:02:03.400Z"
   },
   {
    "duration": 2994,
    "start_time": "2022-06-11T11:05:03.532Z"
   },
   {
    "duration": 2982,
    "start_time": "2022-06-11T11:07:01.278Z"
   },
   {
    "duration": 4053,
    "start_time": "2022-06-11T11:07:20.925Z"
   },
   {
    "duration": 1230,
    "start_time": "2022-06-11T11:09:02.506Z"
   },
   {
    "duration": 350,
    "start_time": "2022-06-11T11:09:03.742Z"
   },
   {
    "duration": 55,
    "start_time": "2022-06-11T11:09:04.094Z"
   },
   {
    "duration": 130,
    "start_time": "2022-06-11T11:09:04.151Z"
   },
   {
    "duration": 4791,
    "start_time": "2022-06-11T11:09:04.283Z"
   },
   {
    "duration": 4581,
    "start_time": "2022-06-11T11:09:09.076Z"
   },
   {
    "duration": 4813,
    "start_time": "2022-06-11T11:09:13.659Z"
   },
   {
    "duration": 288,
    "start_time": "2022-06-11T11:09:18.473Z"
   },
   {
    "duration": 69,
    "start_time": "2022-06-11T11:09:18.762Z"
   },
   {
    "duration": 45,
    "start_time": "2022-06-11T11:09:18.840Z"
   },
   {
    "duration": 63,
    "start_time": "2022-06-11T11:09:18.886Z"
   },
   {
    "duration": 14,
    "start_time": "2022-06-11T11:09:18.953Z"
   },
   {
    "duration": 2612,
    "start_time": "2022-06-11T11:09:18.969Z"
   },
   {
    "duration": 10,
    "start_time": "2022-06-11T11:09:21.583Z"
   },
   {
    "duration": 1961,
    "start_time": "2022-06-12T06:55:00.504Z"
   },
   {
    "duration": 447,
    "start_time": "2022-06-12T06:55:02.466Z"
   },
   {
    "duration": 31,
    "start_time": "2022-06-12T06:55:02.915Z"
   },
   {
    "duration": 145,
    "start_time": "2022-06-12T06:55:02.964Z"
   },
   {
    "duration": 4772,
    "start_time": "2022-06-12T06:55:03.111Z"
   },
   {
    "duration": 4488,
    "start_time": "2022-06-12T06:55:07.884Z"
   },
   {
    "duration": 4454,
    "start_time": "2022-06-12T06:55:12.374Z"
   },
   {
    "duration": 344,
    "start_time": "2022-06-12T06:55:16.830Z"
   },
   {
    "duration": 93,
    "start_time": "2022-06-12T06:55:17.176Z"
   },
   {
    "duration": 109,
    "start_time": "2022-06-12T06:55:17.272Z"
   },
   {
    "duration": 33,
    "start_time": "2022-06-12T06:55:17.384Z"
   },
   {
    "duration": 8,
    "start_time": "2022-06-12T06:55:17.419Z"
   },
   {
    "duration": 2961,
    "start_time": "2022-06-12T06:55:17.429Z"
   },
   {
    "duration": 11,
    "start_time": "2022-06-12T06:55:20.392Z"
   }
  ],
  "kernelspec": {
   "display_name": "Python 3 (ipykernel)",
   "language": "python",
   "name": "python3"
  },
  "language_info": {
   "codemirror_mode": {
    "name": "ipython",
    "version": 3
   },
   "file_extension": ".py",
   "mimetype": "text/x-python",
   "name": "python",
   "nbconvert_exporter": "python",
   "pygments_lexer": "ipython3",
   "version": "3.9.7"
  },
  "toc": {
   "base_numbering": 1,
   "nav_menu": {},
   "number_sections": true,
   "sideBar": true,
   "skip_h1_title": true,
   "title_cell": "Table of Contents",
   "title_sidebar": "Contents",
   "toc_cell": false,
   "toc_position": {
    "height": "calc(100% - 180px)",
    "left": "10px",
    "top": "150px",
    "width": "251.594px"
   },
   "toc_section_display": true,
   "toc_window_display": true
  }
 },
 "nbformat": 4,
 "nbformat_minor": 2
}
