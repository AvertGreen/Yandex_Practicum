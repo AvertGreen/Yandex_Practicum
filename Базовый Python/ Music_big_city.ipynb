{
 "cells": [
  {
   "cell_type": "markdown",
   "metadata": {
    "id": "E0vqbgi9ay0H"
   },
   "source": [
    "# Яндекс.Музыка"
   ]
  },
  {
   "cell_type": "markdown",
   "metadata": {
    "id": "VUC88oWjTJw2"
   },
   "source": [
    "Сравнение Москвы и Петербурга окружено мифами. Например:\n",
    " * Москва — мегаполис, подчинённый жёсткому ритму рабочей недели;\n",
    " * Петербург — культурная столица, со своими вкусами.\n",
    "\n",
    "На данных Яндекс.Музыки сравним поведение пользователей двух столиц.\n",
    "\n",
    "**Цель исследования** —  три гипотезы:\n",
    "1. Активность пользователей зависит от дня недели. Причём в Москве и Петербурге это проявляется по-разному.\n",
    "2. В понедельник утром в Москве преобладают одни жанры, а в Петербурге — другие. Так же и вечером пятницы преобладают разные жанры — в зависимости от города. \n",
    "3. Москва и Петербург предпочитают разные жанры музыки. В Москве чаще слушают поп-музыку, в Петербурге — русский рэп.\n",
    "\n",
    "**Ход исследования**\n",
    "\n",
    "Данные о поведении пользователей в  файлe `yandex_music_project.csv`. О качестве данных ничего не известно. Поэтому перед проверкой гипотез понадобится обзор данных. \n",
    "\n",
    "Проверим данные на ошибки и оценим их влияние на исследование. Затем, на этапе предобработки вы поищем возможность исправить самые критичные ошибки данных.\n",
    " \n",
    "Таким образом, исследование пройдёт в три этапа:\n",
    " 1. Обзор данных.\n",
    " 2. Предобработка данных.\n",
    " 3. Проверка гипотез.\n",
    "\n"
   ]
  },
  {
   "cell_type": "markdown",
   "metadata": {
    "id": "Ml1hmfXC_Zcs"
   },
   "source": [
    "## Обзор данных\n",
    "\n",
    "Составим первое представление о данных Яндекс.Музыки.\n",
    "\n",
    "\n"
   ]
  },
  {
   "cell_type": "markdown",
   "metadata": {
    "id": "57eAOGIz_Zcs"
   },
   "source": [
    "Основной инструмент аналитика — `pandas`. Импортируем эту библиотеку."
   ]
  },
  {
   "cell_type": "code",
   "execution_count": 1,
   "metadata": {
    "id": "AXN7PHPN_Zcs"
   },
   "outputs": [],
   "source": [
    "# импорт библиотеки pandas\n",
    "import pandas as pd"
   ]
  },
  {
   "cell_type": "markdown",
   "metadata": {
    "id": "SG23P8tt_Zcs"
   },
   "source": [
    "Прочитаем файл `yandex_music_project.csv` из папки `/datasets` и сохраним его в переменной `df`:"
   ]
  },
  {
   "cell_type": "code",
   "execution_count": 2,
   "metadata": {
    "id": "fFVu7vqh_Zct"
   },
   "outputs": [],
   "source": [
    "# чтение файла с данными и сохранение в df\n",
    "df = pd.read_csv('/datasets/yandex_music_project.csv')"
   ]
  },
  {
   "cell_type": "markdown",
   "metadata": {
    "id": "rDoOMd3uTqnZ"
   },
   "source": [
    "Выведем на экран первые десять строк таблицы:"
   ]
  },
  {
   "cell_type": "code",
   "execution_count": 3,
   "metadata": {
    "id": "oWTVX3gW_Zct"
   },
   "outputs": [
    {
     "data": {
      "text/html": [
       "<div>\n",
       "<style scoped>\n",
       "    .dataframe tbody tr th:only-of-type {\n",
       "        vertical-align: middle;\n",
       "    }\n",
       "\n",
       "    .dataframe tbody tr th {\n",
       "        vertical-align: top;\n",
       "    }\n",
       "\n",
       "    .dataframe thead th {\n",
       "        text-align: right;\n",
       "    }\n",
       "</style>\n",
       "<table border=\"1\" class=\"dataframe\">\n",
       "  <thead>\n",
       "    <tr style=\"text-align: right;\">\n",
       "      <th></th>\n",
       "      <th>userID</th>\n",
       "      <th>Track</th>\n",
       "      <th>artist</th>\n",
       "      <th>genre</th>\n",
       "      <th>City</th>\n",
       "      <th>time</th>\n",
       "      <th>Day</th>\n",
       "    </tr>\n",
       "  </thead>\n",
       "  <tbody>\n",
       "    <tr>\n",
       "      <td>0</td>\n",
       "      <td>FFB692EC</td>\n",
       "      <td>Kamigata To Boots</td>\n",
       "      <td>The Mass Missile</td>\n",
       "      <td>rock</td>\n",
       "      <td>Saint-Petersburg</td>\n",
       "      <td>20:28:33</td>\n",
       "      <td>Wednesday</td>\n",
       "    </tr>\n",
       "    <tr>\n",
       "      <td>1</td>\n",
       "      <td>55204538</td>\n",
       "      <td>Delayed Because of Accident</td>\n",
       "      <td>Andreas Rönnberg</td>\n",
       "      <td>rock</td>\n",
       "      <td>Moscow</td>\n",
       "      <td>14:07:09</td>\n",
       "      <td>Friday</td>\n",
       "    </tr>\n",
       "    <tr>\n",
       "      <td>2</td>\n",
       "      <td>20EC38</td>\n",
       "      <td>Funiculì funiculà</td>\n",
       "      <td>Mario Lanza</td>\n",
       "      <td>pop</td>\n",
       "      <td>Saint-Petersburg</td>\n",
       "      <td>20:58:07</td>\n",
       "      <td>Wednesday</td>\n",
       "    </tr>\n",
       "    <tr>\n",
       "      <td>3</td>\n",
       "      <td>A3DD03C9</td>\n",
       "      <td>Dragons in the Sunset</td>\n",
       "      <td>Fire + Ice</td>\n",
       "      <td>folk</td>\n",
       "      <td>Saint-Petersburg</td>\n",
       "      <td>08:37:09</td>\n",
       "      <td>Monday</td>\n",
       "    </tr>\n",
       "    <tr>\n",
       "      <td>4</td>\n",
       "      <td>E2DC1FAE</td>\n",
       "      <td>Soul People</td>\n",
       "      <td>Space Echo</td>\n",
       "      <td>dance</td>\n",
       "      <td>Moscow</td>\n",
       "      <td>08:34:34</td>\n",
       "      <td>Monday</td>\n",
       "    </tr>\n",
       "    <tr>\n",
       "      <td>5</td>\n",
       "      <td>842029A1</td>\n",
       "      <td>Преданная</td>\n",
       "      <td>IMPERVTOR</td>\n",
       "      <td>rusrap</td>\n",
       "      <td>Saint-Petersburg</td>\n",
       "      <td>13:09:41</td>\n",
       "      <td>Friday</td>\n",
       "    </tr>\n",
       "    <tr>\n",
       "      <td>6</td>\n",
       "      <td>4CB90AA5</td>\n",
       "      <td>True</td>\n",
       "      <td>Roman Messer</td>\n",
       "      <td>dance</td>\n",
       "      <td>Moscow</td>\n",
       "      <td>13:00:07</td>\n",
       "      <td>Wednesday</td>\n",
       "    </tr>\n",
       "    <tr>\n",
       "      <td>7</td>\n",
       "      <td>F03E1C1F</td>\n",
       "      <td>Feeling This Way</td>\n",
       "      <td>Polina Griffith</td>\n",
       "      <td>dance</td>\n",
       "      <td>Moscow</td>\n",
       "      <td>20:47:49</td>\n",
       "      <td>Wednesday</td>\n",
       "    </tr>\n",
       "    <tr>\n",
       "      <td>8</td>\n",
       "      <td>8FA1D3BE</td>\n",
       "      <td>И вновь продолжается бой</td>\n",
       "      <td>NaN</td>\n",
       "      <td>ruspop</td>\n",
       "      <td>Moscow</td>\n",
       "      <td>09:17:40</td>\n",
       "      <td>Friday</td>\n",
       "    </tr>\n",
       "    <tr>\n",
       "      <td>9</td>\n",
       "      <td>E772D5C0</td>\n",
       "      <td>Pessimist</td>\n",
       "      <td>NaN</td>\n",
       "      <td>dance</td>\n",
       "      <td>Saint-Petersburg</td>\n",
       "      <td>21:20:49</td>\n",
       "      <td>Wednesday</td>\n",
       "    </tr>\n",
       "  </tbody>\n",
       "</table>\n",
       "</div>"
      ],
      "text/plain": [
       "     userID                        Track            artist   genre  \\\n",
       "0  FFB692EC            Kamigata To Boots  The Mass Missile    rock   \n",
       "1  55204538  Delayed Because of Accident  Andreas Rönnberg    rock   \n",
       "2    20EC38            Funiculì funiculà       Mario Lanza     pop   \n",
       "3  A3DD03C9        Dragons in the Sunset        Fire + Ice    folk   \n",
       "4  E2DC1FAE                  Soul People        Space Echo   dance   \n",
       "5  842029A1                    Преданная         IMPERVTOR  rusrap   \n",
       "6  4CB90AA5                         True      Roman Messer   dance   \n",
       "7  F03E1C1F             Feeling This Way   Polina Griffith   dance   \n",
       "8  8FA1D3BE     И вновь продолжается бой               NaN  ruspop   \n",
       "9  E772D5C0                    Pessimist               NaN   dance   \n",
       "\n",
       "             City        time        Day  \n",
       "0  Saint-Petersburg  20:28:33  Wednesday  \n",
       "1            Moscow  14:07:09     Friday  \n",
       "2  Saint-Petersburg  20:58:07  Wednesday  \n",
       "3  Saint-Petersburg  08:37:09     Monday  \n",
       "4            Moscow  08:34:34     Monday  \n",
       "5  Saint-Petersburg  13:09:41     Friday  \n",
       "6            Moscow  13:00:07  Wednesday  \n",
       "7            Moscow  20:47:49  Wednesday  \n",
       "8            Moscow  09:17:40     Friday  \n",
       "9  Saint-Petersburg  21:20:49  Wednesday  "
      ]
     },
     "execution_count": 3,
     "metadata": {},
     "output_type": "execute_result"
    }
   ],
   "source": [
    "# получение первых 10 строк таблицы df\n",
    "df.head(10)"
   ]
  },
  {
   "cell_type": "markdown",
   "metadata": {
    "id": "EO73Kwic_Zct"
   },
   "source": [
    "Одной командой получим общую информацию о таблице:"
   ]
  },
  {
   "cell_type": "code",
   "execution_count": 4,
   "metadata": {
    "id": "DSf2kIb-_Zct"
   },
   "outputs": [
    {
     "name": "stdout",
     "output_type": "stream",
     "text": [
      "<class 'pandas.core.frame.DataFrame'>\n",
      "RangeIndex: 65079 entries, 0 to 65078\n",
      "Data columns (total 7 columns):\n",
      "  userID    65079 non-null object\n",
      "Track       63848 non-null object\n",
      "artist      57876 non-null object\n",
      "genre       63881 non-null object\n",
      "  City      65079 non-null object\n",
      "time        65079 non-null object\n",
      "Day         65079 non-null object\n",
      "dtypes: object(7)\n",
      "memory usage: 3.5+ MB\n"
     ]
    }
   ],
   "source": [
    "# получение общей информации о данных в таблице df\n",
    "df.info()"
   ]
  },
  {
   "cell_type": "markdown",
   "metadata": {
    "id": "TaQ2Iwbr_Zct"
   },
   "source": [
    "Итак, в таблице семь столбцов. Тип данных во всех столбцах — `object`.\n",
    "\n",
    "Согласно документации к данным:\n",
    "* `userID` — идентификатор пользователя;\n",
    "* `Track` — название трека;  \n",
    "* `artist` — имя исполнителя;\n",
    "* `genre` — название жанра;\n",
    "* `City` — город пользователя;\n",
    "* `time` — время начала прослушивания;\n",
    "* `Day` — день недели.\n",
    "\n",
    "В названиях колонок видны три нарушения стиля:\n",
    "1. Строчные буквы сочетаются с прописными.\n",
    "2. Встречаются пробелы.\n",
    "3. Не выдержан стиль \"змеиного регистра\".\n",
    "\n",
    "\n",
    "\n",
    "Количество значений в столбцах различается. Значит, в данных есть пропущенные значения.\n"
   ]
  },
  {
   "cell_type": "markdown",
   "metadata": {
    "id": "MCB6-dXG_Zct"
   },
   "source": [
    "**Выводы**\n",
    "\n",
    "В каждой строке таблицы — данные о прослушанном треке. Часть колонок описывает саму композицию: название, исполнителя и жанр. Остальные данные рассказывают о пользователе: из какого он города, когда он слушал музыку. \n",
    "\n",
    "Предварительно можно утверждать, что, данных достаточно для проверки гипотез. Но встречаются пропуски в данных, а в названиях колонок — расхождения с хорошим стилем.\n",
    "\n",
    "Чтобы двигаться дальше, нужно устранить проблемы в данных."
   ]
  },
  {
   "cell_type": "markdown",
   "metadata": {
    "id": "SjYF6Ub9_Zct"
   },
   "source": [
    "## Предобработка данных\n",
    "Исправим стиль в заголовках столбцов, исключим пропуски. Затем проверим данные на дубликаты."
   ]
  },
  {
   "cell_type": "markdown",
   "metadata": {
    "id": "dIaKXr29_Zct"
   },
   "source": [
    "### Стиль заголовков\n",
    "Выведем на экран названия столбцов:"
   ]
  },
  {
   "cell_type": "code",
   "execution_count": 5,
   "metadata": {
    "id": "oKOTdF_Q_Zct"
   },
   "outputs": [
    {
     "data": {
      "text/plain": [
       "array(['  userID', 'Track', 'artist', 'genre', '  City  ', 'time', 'Day'],\n",
       "      dtype=object)"
      ]
     },
     "execution_count": 5,
     "metadata": {},
     "output_type": "execute_result"
    }
   ],
   "source": [
    "# перечень названий столбцов таблицы df\n",
    "df.columns.values"
   ]
  },
  {
   "cell_type": "markdown",
   "metadata": {
    "id": "zj5534cv_Zct"
   },
   "source": [
    "Приведём названия в соответствие с хорошим стилем:\n",
    "* несколько слов в названии запишем в «змеином_регистре»,\n",
    "* все символы сделаем строчными,\n",
    "* устраним пробелы.\n",
    "\n",
    "Для этого переименуем колонки так:\n",
    "* `'  userID'` → `'user_id'`;\n",
    "* `'Track'` → `'track'`;\n",
    "* `'  City  '` → `'city'`;\n",
    "* `'Day'` → `'day'`."
   ]
  },
  {
   "cell_type": "code",
   "execution_count": 6,
   "metadata": {
    "id": "ISlFqs5y_Zct"
   },
   "outputs": [],
   "source": [
    "# переименование столбцов\n",
    "df = df.rename(columns={\n",
    "    '  userID': 'user_id',\n",
    "    'Track': 'track',\n",
    "    '  City  ': 'city',\n",
    "    'Day': 'day'}\n",
    ")"
   ]
  },
  {
   "cell_type": "markdown",
   "metadata": {
    "id": "1dqbh00J_Zct"
   },
   "source": [
    "Проверим результат. Выведем на экран названия столбцов:"
   ]
  },
  {
   "cell_type": "code",
   "execution_count": 7,
   "metadata": {
    "id": "d4NOAmTW_Zct"
   },
   "outputs": [
    {
     "data": {
      "text/plain": [
       "array(['user_id', 'track', 'artist', 'genre', 'city', 'time', 'day'],\n",
       "      dtype=object)"
      ]
     },
     "execution_count": 7,
     "metadata": {},
     "output_type": "execute_result"
    }
   ],
   "source": [
    "# проверка результатов - перечень названий столбцов\n",
    "df.columns.values"
   ]
  },
  {
   "cell_type": "markdown",
   "metadata": {
    "id": "5ISfbcfY_Zct"
   },
   "source": [
    "### Пропуски значений\n",
    "Сначала посчитаем, сколько в таблице пропущенных значений. Используем специальный метод `pandas`:"
   ]
  },
  {
   "cell_type": "code",
   "execution_count": 8,
   "metadata": {
    "id": "RskX29qr_Zct"
   },
   "outputs": [
    {
     "data": {
      "text/plain": [
       "user_id       0\n",
       "track      1231\n",
       "artist     7203\n",
       "genre      1198\n",
       "city          0\n",
       "time          0\n",
       "day           0\n",
       "dtype: int64"
      ]
     },
     "execution_count": 8,
     "metadata": {},
     "output_type": "execute_result"
    }
   ],
   "source": [
    "# подсчёт пропусков\n",
    "df.isna().sum()"
   ]
  },
  {
   "cell_type": "markdown",
   "metadata": {
    "id": "qubhgnlO_Zct"
   },
   "source": [
    "Не все пропущенные значения влияют на исследование. Так в `track` и `artist` пропуски не важны для вашей работы. Достаточно заменить их явными обозначениями.\n",
    "\n",
    "Но пропуски в `genre` могут помешать сравнению музыкальных вкусов в Москве и Санкт-Петербурге. На практике было бы правильно установить причину пропусков и восстановить данные. Такой возможности нет, на текущий момент. Придётся:\n",
    "* заполнить и эти пропуски явными обозначениями,\n",
    "* оценить, насколько они повредят расчётам. "
   ]
  },
  {
   "cell_type": "markdown",
   "metadata": {
    "id": "fSv2laPA_Zct"
   },
   "source": [
    "Заменим пропущенные значения в столбцах `track`, `artist` и `genre` на строку `'unknown'`. Для этого создадим список `columns_to_replace`, переберём его элементы циклом `for` и для каждого столбца выполним замену пропущенных значений:"
   ]
  },
  {
   "cell_type": "code",
   "execution_count": 9,
   "metadata": {
    "id": "KplB5qWs_Zct"
   },
   "outputs": [],
   "source": [
    "# перебор названий столбцов в цикле и замена пропущенных значений на 'unknown'\n",
    "columns_to_replace = ['track', 'artist', 'genre']\n",
    "for column in columns_to_replace:\n",
    "    df[column] = df[column].fillna('unknown')"
   ]
  },
  {
   "cell_type": "markdown",
   "metadata": {
    "id": "Ilsm-MZo_Zct"
   },
   "source": [
    "Убедимся, что в таблице не осталось пропусков. Для этого ещё раз посчитаем пропущенные значения."
   ]
  },
  {
   "cell_type": "code",
   "execution_count": 10,
   "metadata": {
    "id": "Tq4nYRX4_Zct"
   },
   "outputs": [
    {
     "data": {
      "text/plain": [
       "user_id    0\n",
       "track      0\n",
       "artist     0\n",
       "genre      0\n",
       "city       0\n",
       "time       0\n",
       "day        0\n",
       "dtype: int64"
      ]
     },
     "execution_count": 10,
     "metadata": {},
     "output_type": "execute_result"
    }
   ],
   "source": [
    "# подсчёт пропусков\n",
    "df.isna().sum()"
   ]
  },
  {
   "cell_type": "markdown",
   "metadata": {
    "id": "BWKRtBJ3_Zct"
   },
   "source": [
    "### Дубликаты\n",
    "Посчитаем явные дубликаты в таблице одной командой:"
   ]
  },
  {
   "cell_type": "code",
   "execution_count": 11,
   "metadata": {
    "id": "36eES_S0_Zct"
   },
   "outputs": [
    {
     "data": {
      "text/plain": [
       "3826"
      ]
     },
     "execution_count": 11,
     "metadata": {},
     "output_type": "execute_result"
    }
   ],
   "source": [
    "# подсчёт явных дубликатов\n",
    "df.duplicated().sum()"
   ]
  },
  {
   "cell_type": "markdown",
   "metadata": {
    "id": "Ot25h6XR_Zct"
   },
   "source": [
    "Вызовём специальный метод `pandas`, чтобы удалить явные дубликаты:"
   ]
  },
  {
   "cell_type": "code",
   "execution_count": 12,
   "metadata": {
    "id": "exFHq6tt_Zct"
   },
   "outputs": [],
   "source": [
    "# удаление явных дубликатов (с удалением старых индексов и формированием новых)\n",
    "df = df.drop_duplicates().reset_index(drop=True)"
   ]
  },
  {
   "cell_type": "markdown",
   "metadata": {
    "id": "Im2YwBEG_Zct"
   },
   "source": [
    "Ещё раз посчитаем явные дубликаты в таблице — убедимся, что полностью от них избавились:"
   ]
  },
  {
   "cell_type": "code",
   "execution_count": 13,
   "metadata": {
    "id": "-8PuNWQ0_Zct"
   },
   "outputs": [
    {
     "data": {
      "text/plain": [
       "0"
      ]
     },
     "execution_count": 13,
     "metadata": {},
     "output_type": "execute_result"
    }
   ],
   "source": [
    "# проверка на отсутствие дубликатов\n",
    "df.duplicated().sum()"
   ]
  },
  {
   "cell_type": "markdown",
   "metadata": {
    "id": "QlFBsxAr_Zct"
   },
   "source": [
    "Теперь избавимся от неявных дубликатов в колонке `genre`. Например, название одного и того же жанра может быть записано немного по-разному. Такие ошибки тоже повлияют на результат исследования."
   ]
  },
  {
   "cell_type": "markdown",
   "metadata": {
    "id": "eSjWwsOh_Zct"
   },
   "source": [
    "Выведем на экран список уникальных названий жанров, отсортированный в алфавитном порядке. Для этого:\n",
    "* извлечём нужный столбец датафрейма, \n",
    "* применим к нему метод сортировки,\n",
    "* для отсортированного столбца вызовём метод, который вернёт уникальные значения из столбца."
   ]
  },
  {
   "cell_type": "code",
   "execution_count": 14,
   "metadata": {
    "id": "JIUcqzZN_Zct"
   },
   "outputs": [],
   "source": [
    "# Просмотр уникальных названий жанров\n",
    "sorted_genre_df = df['genre'].sort_values().unique()"
   ]
  },
  {
   "cell_type": "markdown",
   "metadata": {
    "id": "qej-Qmuo_Zct"
   },
   "source": [
    "В списке есть неявные дубликаты названия `hiphop`. Это могут быть названия с ошибками или альтернативные названия того же жанра.\n",
    "\n",
    "Неявные дубликаты имеют вид:\n",
    "* *hip*,\n",
    "* *hop*,\n",
    "* *hip-hop*.\n",
    "\n",
    "Чтобы очистить от них таблицу, напишем функцию `replace_wrong_genres()` с двумя параметрами: \n",
    "* `wrong_genres` — список дубликатов,\n",
    "* `correct_genre` — строка с правильным значением.\n",
    "\n",
    "Функция должна исправить колонку `genre` в таблице `df`: заменить каждое значение из списка `wrong_genres` на значение из `correct_genre`."
   ]
  },
  {
   "cell_type": "code",
   "execution_count": 15,
   "metadata": {
    "id": "ErNDkmns_Zct"
   },
   "outputs": [],
   "source": [
    "# Функция для замены неявных дубликатов\n",
    "def replace_wrong_genres(wrong_genres, correct_genre): \n",
    "    for wrong_genre in wrong_genres:\n",
    "        df['genre'] = df['genre'].replace(wrong_genre, correct_genre)"
   ]
  },
  {
   "cell_type": "markdown",
   "metadata": {
    "id": "aDoBJxbA_Zct"
   },
   "source": [
    "Вызовём `replace_wrong_genres()` и передадим ей такие аргументы, чтобы она устранила неявные дубликаты: вместо `hip`, `hop` и `hip-hop` в таблице будет значение `hiphop`:"
   ]
  },
  {
   "cell_type": "code",
   "execution_count": 16,
   "metadata": {
    "id": "YN5i2hpmSo09"
   },
   "outputs": [],
   "source": [
    "# Устранение неявных дубликатов\n",
    "duplicates_genre = ['hip', 'hop', 'hip-hop']\n",
    "genre_name = 'hiphop'\n",
    "replace_wrong_genres(duplicates_genre, genre_name)"
   ]
  },
  {
   "cell_type": "markdown",
   "metadata": {
    "id": "zQKF16_RG15m"
   },
   "source": [
    "Проверим, что заменили неправильные названия:\n",
    "\n",
    "*   hip\n",
    "*   hop\n",
    "*   hip-hop\n",
    "\n",
    "Выведем отсортированный список уникальных значений столбца `genre`:"
   ]
  },
  {
   "cell_type": "code",
   "execution_count": 17,
   "metadata": {
    "id": "wvixALnFG15m"
   },
   "outputs": [
    {
     "data": {
      "text/plain": [
       "array(['acid', 'acoustic', 'action', 'adult', 'africa', 'afrikaans',\n",
       "       'alternative', 'alternativepunk', 'ambient', 'americana',\n",
       "       'animated', 'anime', 'arabesk', 'arabic', 'arena',\n",
       "       'argentinetango', 'art', 'audiobook', 'author', 'avantgarde',\n",
       "       'axé', 'baile', 'balkan', 'beats', 'bigroom', 'black', 'bluegrass',\n",
       "       'blues', 'bollywood', 'bossa', 'brazilian', 'breakbeat', 'breaks',\n",
       "       'broadway', 'cantautori', 'cantopop', 'canzone', 'caribbean',\n",
       "       'caucasian', 'celtic', 'chamber', 'chanson', 'children', 'chill',\n",
       "       'chinese', 'choral', 'christian', 'christmas', 'classical',\n",
       "       'classicmetal', 'club', 'colombian', 'comedy', 'conjazz',\n",
       "       'contemporary', 'country', 'cuban', 'dance', 'dancehall',\n",
       "       'dancepop', 'dark', 'death', 'deep', 'deutschrock', 'deutschspr',\n",
       "       'dirty', 'disco', 'dnb', 'documentary', 'downbeat', 'downtempo',\n",
       "       'drum', 'dub', 'dubstep', 'eastern', 'easy', 'electronic',\n",
       "       'electropop', 'emo', 'entehno', 'epicmetal', 'estrada', 'ethnic',\n",
       "       'eurofolk', 'european', 'experimental', 'extrememetal', 'fado',\n",
       "       'fairytail', 'film', 'fitness', 'flamenco', 'folk', 'folklore',\n",
       "       'folkmetal', 'folkrock', 'folktronica', 'forró', 'frankreich',\n",
       "       'französisch', 'french', 'funk', 'future', 'gangsta', 'garage',\n",
       "       'german', 'ghazal', 'gitarre', 'glitch', 'gospel', 'gothic',\n",
       "       'grime', 'grunge', 'gypsy', 'handsup', \"hard'n'heavy\", 'hardcore',\n",
       "       'hardstyle', 'hardtechno', 'hiphop', 'historisch', 'holiday',\n",
       "       'horror', 'house', 'hymn', 'idm', 'independent', 'indian', 'indie',\n",
       "       'indipop', 'industrial', 'inspirational', 'instrumental',\n",
       "       'international', 'irish', 'jam', 'japanese', 'jazz', 'jewish',\n",
       "       'jpop', 'jungle', 'k-pop', 'karadeniz', 'karaoke', 'kayokyoku',\n",
       "       'korean', 'laiko', 'latin', 'latino', 'leftfield', 'local',\n",
       "       'lounge', 'loungeelectronic', 'lovers', 'malaysian', 'mandopop',\n",
       "       'marschmusik', 'meditative', 'mediterranean', 'melodic', 'metal',\n",
       "       'metalcore', 'mexican', 'middle', 'minimal', 'miscellaneous',\n",
       "       'modern', 'mood', 'mpb', 'muslim', 'native', 'neoklassik', 'neue',\n",
       "       'new', 'newage', 'newwave', 'nu', 'nujazz', 'numetal', 'oceania',\n",
       "       'old', 'opera', 'orchestral', 'other', 'piano', 'podcasts', 'pop',\n",
       "       'popdance', 'popelectronic', 'popeurodance', 'poprussian', 'post',\n",
       "       'posthardcore', 'postrock', 'power', 'progmetal', 'progressive',\n",
       "       'psychedelic', 'punjabi', 'punk', 'quebecois', 'ragga', 'ram',\n",
       "       'rancheras', 'rap', 'rave', 'reggae', 'reggaeton', 'regional',\n",
       "       'relax', 'religious', 'retro', 'rhythm', 'rnb', 'rnr', 'rock',\n",
       "       'rockabilly', 'rockalternative', 'rockindie', 'rockother',\n",
       "       'romance', 'roots', 'ruspop', 'rusrap', 'rusrock', 'russian',\n",
       "       'salsa', 'samba', 'scenic', 'schlager', 'self', 'sertanejo',\n",
       "       'shanson', 'shoegazing', 'showtunes', 'singer', 'ska', 'skarock',\n",
       "       'slow', 'smooth', 'soft', 'soul', 'soulful', 'sound', 'soundtrack',\n",
       "       'southern', 'specialty', 'speech', 'spiritual', 'sport',\n",
       "       'stonerrock', 'surf', 'swing', 'synthpop', 'synthrock',\n",
       "       'sängerportrait', 'tango', 'tanzorchester', 'taraftar', 'tatar',\n",
       "       'tech', 'techno', 'teen', 'thrash', 'top', 'traditional',\n",
       "       'tradjazz', 'trance', 'tribal', 'trip', 'triphop', 'tropical',\n",
       "       'türk', 'türkçe', 'ukrrock', 'unknown', 'urban', 'uzbek',\n",
       "       'variété', 'vi', 'videogame', 'vocal', 'western', 'world',\n",
       "       'worldbeat', 'ïîï', 'электроника'], dtype=object)"
      ]
     },
     "execution_count": 17,
     "metadata": {},
     "output_type": "execute_result"
    }
   ],
   "source": [
    "# Проверка на неявные дубликаты\n",
    "sorted_genre_df = df['genre'].sort_values()\n",
    "sorted_genre_df.unique()"
   ]
  },
  {
   "cell_type": "markdown",
   "metadata": {
    "id": "jz6a9-7HQUDd"
   },
   "source": [
    "**Выводы**\n",
    "\n",
    "Предобработка обнаружила три проблемы в данных:\n",
    "\n",
    "- нарушения в стиле заголовков,\n",
    "- пропущенные значения,\n",
    "- дубликаты — явные и неявные.\n",
    "\n",
    "Исправили заголовки, чтобы упростить работу с таблицей. Без дубликатов исследование станет более точным.\n",
    "\n",
    "Пропущенные значения заменили на `'unknown'`. Ещё предстоит увидеть, не повредят ли исследованию пропуски в колонке `genre`.\n",
    "\n",
    "Теперь можно перейти к проверке гипотез. "
   ]
  },
  {
   "cell_type": "markdown",
   "metadata": {
    "id": "WttZHXH0SqKk"
   },
   "source": [
    "## Проверка гипотез"
   ]
  },
  {
   "cell_type": "markdown",
   "metadata": {
    "id": "Im936VVi_Zcu"
   },
   "source": [
    "### Сравнение поведения пользователей двух столиц"
   ]
  },
  {
   "cell_type": "markdown",
   "metadata": {
    "id": "nwt_MuaL_Zcu"
   },
   "source": [
    "Первая гипотеза утверждает, что пользователи по-разному слушают музыку в Москве и Санкт-Петербурге. Проверим это предположение по данным о трёх днях недели — понедельнике, среде и пятнице. Для этого:\n",
    "\n",
    "* Разделим пользователей Москвы и Санкт-Петербурга\n",
    "* Сравним, сколько треков послушала каждая группа пользователей в понедельник, среду и пятницу.\n"
   ]
  },
  {
   "cell_type": "markdown",
   "metadata": {
    "id": "8Dw_YMmT_Zcu"
   },
   "source": [
    "Выполним каждый из расчётов по отдельности. \n",
    "\n",
    "Оценим активность пользователей в каждом городе. Сгруппируем данные по городу и посчитаем прослушивания в каждой группе.\n",
    "\n"
   ]
  },
  {
   "cell_type": "code",
   "execution_count": 18,
   "metadata": {
    "id": "0_Qs96oh_Zcu"
   },
   "outputs": [
    {
     "data": {
      "text/plain": [
       "city\n",
       "Moscow              42741\n",
       "Saint-Petersburg    18512\n",
       "Name: time, dtype: int64"
      ]
     },
     "execution_count": 18,
     "metadata": {},
     "output_type": "execute_result"
    }
   ],
   "source": [
    "# Подсчёт прослушиваний в каждом городе\n",
    "df.groupby('city')['time'].count()"
   ]
  },
  {
   "cell_type": "markdown",
   "metadata": {
    "id": "dzli3w8o_Zcu"
   },
   "source": [
    "В Москве прослушиваний больше, чем в Петербурге. Из этого не следует, что московские пользователи чаще слушают музыку. Просто самих пользователей в Москве больше.\n",
    "\n",
    "Теперь сгруппируем данные по дню недели и подсчитаем прослушивания в понедельник, среду и пятницу. Учтём, что в данных есть информация только о прослушиваниях только за эти дни.\n"
   ]
  },
  {
   "cell_type": "code",
   "execution_count": 19,
   "metadata": {
    "id": "uZMKjiJz_Zcu"
   },
   "outputs": [
    {
     "data": {
      "text/plain": [
       "day\n",
       "Friday       21840\n",
       "Monday       21354\n",
       "Wednesday    18059\n",
       "Name: time, dtype: int64"
      ]
     },
     "execution_count": 19,
     "metadata": {},
     "output_type": "execute_result"
    }
   ],
   "source": [
    "# Подсчёт прослушиваний в каждый из трёх дней\n",
    "df.groupby('day')['time'].count()"
   ]
  },
  {
   "cell_type": "markdown",
   "metadata": {
    "id": "cC2tNrlL_Zcu"
   },
   "source": [
    "В среднем пользователи из двух городов менее активны по средам. Но картина может измениться, если рассмотреть каждый город в отдельности."
   ]
  },
  {
   "cell_type": "markdown",
   "metadata": {
    "id": "POzs8bGa_Zcu"
   },
   "source": [
    "Напишем функцию группировки по городу и по дням недели, которая объединит два эти расчёта.\n",
    "\n",
    "Создадим функцию `number_tracks()`, которая посчитает прослушивания для заданного дня и города. Ей понадобятся два параметра:\n",
    "* день недели,\n",
    "* название города.\n",
    "\n",
    "В функции сохраним в переменную строки исходной таблицы, у которых значение:\n",
    "  * в колонке `day` равно параметру `day`,\n",
    "  * в колонке `city` равно параметру `city`.\n",
    "\n",
    "Для этого применим последовательную фильтрацию с логической индексацией.\n",
    "\n",
    "Затем посчитаем значения в столбце `user_id` получившейся таблицы. Результат сохраним в новую переменную. Вернём эту переменную из функции."
   ]
  },
  {
   "cell_type": "code",
   "execution_count": 20,
   "metadata": {
    "id": "Nz3GdQB1_Zcu"
   },
   "outputs": [],
   "source": [
    "# <создание функции number_tracks()>\n",
    "# Объявляется функция с двумя параметрами: day, city.\n",
    "# В переменной track_list сохраняются те строки таблицы df, для которых \n",
    "# значение в столбце 'day' равно параметру day и одновременно значение\n",
    "# в столбце 'city' равно параметру city (используйте последовательную фильтрацию\n",
    "# с помощью логической индексации).\n",
    "# В переменной track_list_count сохраняется число значений столбца 'user_id',\n",
    "# рассчитанное методом count() для таблицы track_list.\n",
    "# Функция возвращает число - значение track_list_count.\n",
    "\n",
    "# Функция для подсчёта прослушиваний для конкретного города и дня.\n",
    "# С помощью последовательной фильтрации с логической индексацией она \n",
    "# сначала получит из исходной таблицы строки с нужным днём,\n",
    "# затем из результата отфильтрует строки с нужным городом,\n",
    "# методом count() посчитает количество значений в колонке user_id. \n",
    "# Это количество функция вернёт в качестве результата\n",
    "\n",
    "def number_tracks(day, city):\n",
    "    track_list = df[(df['day'] == day) & (df['city'] == city)]\n",
    "    track_list_count = track_list['user_id'].count()\n",
    "    return track_list_count"
   ]
  },
  {
   "cell_type": "markdown",
   "metadata": {
    "id": "ytf7xFrFJQ2r"
   },
   "source": [
    "Вызовём `number_tracks()` шесть раз, меняя значение параметров — так, чтобы получить данные для каждого города в каждый из трёх дней."
   ]
  },
  {
   "cell_type": "code",
   "execution_count": 21,
   "metadata": {
    "id": "rJcRATNQ_Zcu"
   },
   "outputs": [],
   "source": [
    "# количество прослушиваний в Москве по понедельникам\n",
    "number_tracks_moscow_monday = number_tracks('Monday','Moscow')"
   ]
  },
  {
   "cell_type": "code",
   "execution_count": 22,
   "metadata": {
    "id": "hq_ncZ5T_Zcu"
   },
   "outputs": [],
   "source": [
    "# количество прослушиваний в Санкт-Петербурге по понедельникам\n",
    "number_tracks_saint_petersburg_monday = number_tracks('Monday','Saint-Petersburg')"
   ]
  },
  {
   "cell_type": "code",
   "execution_count": 23,
   "metadata": {
    "id": "_NTy2VPU_Zcu"
   },
   "outputs": [],
   "source": [
    "# количество прослушиваний в Москве по средам\n",
    "number_tracks_moscow_wednesday = number_tracks('Wednesday','Moscow')"
   ]
  },
  {
   "cell_type": "code",
   "execution_count": 24,
   "metadata": {
    "id": "j2y3TAwo_Zcu"
   },
   "outputs": [],
   "source": [
    "# количество прослушиваний в Санкт-Петербурге по средам\n",
    "number_tracks_saint_petersburg_wednesday = number_tracks('Wednesday','Saint-Petersburg')"
   ]
  },
  {
   "cell_type": "code",
   "execution_count": 25,
   "metadata": {
    "id": "vYDw5u_K_Zcu"
   },
   "outputs": [],
   "source": [
    "# количество прослушиваний в Москве по пятницам\n",
    "number_tracks_moscow_friday = number_tracks('Friday','Moscow')"
   ]
  },
  {
   "cell_type": "code",
   "execution_count": 26,
   "metadata": {
    "id": "8_yzFtW3_Zcu"
   },
   "outputs": [],
   "source": [
    "# количество прослушиваний в Санкт-Петербурге по пятницам\n",
    "number_tracks_saint_petersburg_friday = number_tracks('Friday','Saint-Petersburg')"
   ]
  },
  {
   "cell_type": "markdown",
   "metadata": {
    "id": "7QXffbO-_Zcu"
   },
   "source": [
    "Создадим c помощью конструктора `pd.DataFrame` таблицу, где\n",
    "* названия колонок — `['city', 'monday', 'wednesday', 'friday']`;\n",
    "* данные — результаты, которые вы получили с помощью `number_tracks`."
   ]
  },
  {
   "cell_type": "code",
   "execution_count": 27,
   "metadata": {
    "id": "APAcLpOr_Zcu",
    "scrolled": true
   },
   "outputs": [
    {
     "data": {
      "text/html": [
       "<div>\n",
       "<style scoped>\n",
       "    .dataframe tbody tr th:only-of-type {\n",
       "        vertical-align: middle;\n",
       "    }\n",
       "\n",
       "    .dataframe tbody tr th {\n",
       "        vertical-align: top;\n",
       "    }\n",
       "\n",
       "    .dataframe thead th {\n",
       "        text-align: right;\n",
       "    }\n",
       "</style>\n",
       "<table border=\"1\" class=\"dataframe\">\n",
       "  <thead>\n",
       "    <tr style=\"text-align: right;\">\n",
       "      <th></th>\n",
       "      <th>city</th>\n",
       "      <th>monday</th>\n",
       "      <th>wednesday</th>\n",
       "      <th>friday</th>\n",
       "    </tr>\n",
       "  </thead>\n",
       "  <tbody>\n",
       "    <tr>\n",
       "      <td>0</td>\n",
       "      <td>Moscow</td>\n",
       "      <td>15740</td>\n",
       "      <td>11056</td>\n",
       "      <td>15945</td>\n",
       "    </tr>\n",
       "    <tr>\n",
       "      <td>1</td>\n",
       "      <td>Saint-Petersburg</td>\n",
       "      <td>5614</td>\n",
       "      <td>7003</td>\n",
       "      <td>5895</td>\n",
       "    </tr>\n",
       "  </tbody>\n",
       "</table>\n",
       "</div>"
      ],
      "text/plain": [
       "               city  monday  wednesday  friday\n",
       "0            Moscow   15740      11056   15945\n",
       "1  Saint-Petersburg    5614       7003    5895"
      ]
     },
     "metadata": {},
     "output_type": "display_data"
    }
   ],
   "source": [
    "# Таблица с результатами\n",
    "columns_name = ['city', 'monday', 'wednesday', 'friday']\n",
    "number_tracks_df = [\n",
    "    ['Moscow', number_tracks_moscow_monday, number_tracks_moscow_wednesday, number_tracks_moscow_friday],\n",
    "    ['Saint-Petersburg', number_tracks_saint_petersburg_monday, number_tracks_saint_petersburg_wednesday, number_tracks_saint_petersburg_friday]\n",
    "]\n",
    "number_tracks_dff = pd.DataFrame(data=number_tracks_df , columns=columns_name)\n",
    "display(number_tracks_dff)"
   ]
  },
  {
   "cell_type": "markdown",
   "metadata": {
    "id": "-EgPIHYu_Zcu"
   },
   "source": [
    "**Выводы**\n",
    "\n",
    "Данные показывают разницу поведения пользователей:\n",
    "\n",
    "- В Москве пик прослушиваний приходится на понедельник и пятницу, а в среду заметен спад.\n",
    "- В Петербурге, наоборот, больше слушают музыку по средам. Активность в понедельник и пятницу здесь почти в равной мере уступает среде.\n",
    "\n",
    "Значит, данные говорят в пользу первой гипотезы."
   ]
  },
  {
   "cell_type": "markdown",
   "metadata": {
    "id": "atZAxtq4_Zcu"
   },
   "source": [
    "### Музыка в начале и в конце недели"
   ]
  },
  {
   "cell_type": "markdown",
   "metadata": {
    "id": "eXrQqXFH_Zcu"
   },
   "source": [
    "Согласно второй гипотезе, утром в понедельник в Москве преобладают одни жанры, а в Петербурге — другие. Так же и вечером пятницы преобладают разные жанры — в зависимости от города."
   ]
  },
  {
   "cell_type": "markdown",
   "metadata": {
    "id": "S8UcW6Hw_Zcu"
   },
   "source": [
    "Сохраним таблицы с данными в две переменные:\n",
    "* по Москве — в `moscow_general`;\n",
    "* по Санкт-Петербургу — в `spb_general`."
   ]
  },
  {
   "cell_type": "code",
   "execution_count": 28,
   "metadata": {
    "id": "qeaFfM_P_Zcu"
   },
   "outputs": [],
   "source": [
    "# получение таблицы moscow_general из тех строк таблицы df, \n",
    "# для которых значение в столбце 'city' равно 'Moscow'\n",
    "moscow_general = df[df['city'] == 'Moscow']"
   ]
  },
  {
   "cell_type": "code",
   "execution_count": 29,
   "metadata": {
    "id": "ORaVRKto_Zcu"
   },
   "outputs": [],
   "source": [
    "# получение таблицы spb_general из тех строк таблицы df,\n",
    "# для которых значение в столбце 'city' равно 'Saint-Petersburg'\n",
    "spb_general = df[df['city'] == 'Saint-Petersburg']"
   ]
  },
  {
   "cell_type": "markdown",
   "metadata": {
    "id": "MEJV-CX2_Zcu"
   },
   "source": [
    "Создадим функцию `genre_weekday()` с четырьмя параметрами:\n",
    "* таблица (датафрейм) с данными,\n",
    "* день недели,\n",
    "* начальная временная метка в формате 'hh:mm', \n",
    "* последняя временная метка в формате 'hh:mm'.\n",
    "\n",
    "Функция вернёт информацию о топ-10 жанров тех треков, которые прослушивали в указанный день, в промежутке между двумя отметками времени."
   ]
  },
  {
   "cell_type": "code",
   "execution_count": 30,
   "metadata": {
    "id": "laJT9BYl_Zcu"
   },
   "outputs": [],
   "source": [
    "# Объявление функции genre_weekday() с параметрами table, day, time1, time2,\n",
    "# которая возвращает информацию о самых популярных жанрах в указанный день в\n",
    "# заданное время:\n",
    "# 1) в переменную genre_df сохраняются те строки переданного датафрейма table, для\n",
    "#    которых одновременно:\n",
    "#    - значение в столбце day равно значению аргумента day\n",
    "#    - значение в столбце time больше значения аргумента time1\n",
    "#    - значение в столбце time меньше значения аргумента time2\n",
    "#    Используйте последовательную фильтрацию с помощью логической индексации.\n",
    "# 2) сгруппировать датафрейм genre_df по столбцу genre, взять один из его\n",
    "#    столбцов и посчитать методом count() количество записей для каждого из\n",
    "#    присутствующих жанров, получившийся Series записать в переменную\n",
    "#    genre_df_count\n",
    "# 3) отсортировать genre_df_count по убыванию встречаемости и сохранить\n",
    "#    в переменную genre_df_sorted\n",
    "# 4) вернуть Series из 10 первых значений genre_df_sorted, это будут топ-10\n",
    "#    популярных жанров (в указанный день, в заданное время)\n",
    "\n",
    "def genre_weekday(table, day, time1, time2):\n",
    "    genre_df = table[(table['day'] == day) & (table['time'] > time1) & (table['time'] < time2)]\n",
    "    genre_df_count = genre_df.groupby('genre')['genre'].count()\n",
    "    genre_df_sorted = genre_df_count.sort_values(ascending=False)\n",
    "    return genre_df_sorted.head(10)"
   ]
  },
  {
   "cell_type": "markdown",
   "metadata": {
    "id": "la2s2_PF_Zcu"
   },
   "source": [
    "Cравним результаты функции `genre_weekday()` для Москвы и Санкт-Петербурга в понедельник утром (с 7:00 до 11:00) и в пятницу вечером (с 17:00 до 23:00):"
   ]
  },
  {
   "cell_type": "code",
   "execution_count": 31,
   "metadata": {
    "id": "yz7itPUQ_Zcu"
   },
   "outputs": [
    {
     "data": {
      "text/plain": [
       "genre\n",
       "pop            781\n",
       "dance          549\n",
       "electronic     480\n",
       "rock           474\n",
       "hiphop         286\n",
       "ruspop         186\n",
       "world          181\n",
       "rusrap         175\n",
       "alternative    164\n",
       "unknown        161\n",
       "Name: genre, dtype: int64"
      ]
     },
     "execution_count": 31,
     "metadata": {},
     "output_type": "execute_result"
    }
   ],
   "source": [
    "# вызов функции для утра понедельника в Москве (вместо df — таблица moscow_general)\n",
    "# объекты, хранящие время, являются строками и сравниваются как строки\n",
    "# пример вызова: genre_weekday(moscow_general, 'Monday', '07:00', '11:00')\n",
    "genre_weekday(moscow_general, 'Monday', '07:00', '11:00')"
   ]
  },
  {
   "cell_type": "code",
   "execution_count": 32,
   "metadata": {
    "id": "kwUcHPdy_Zcu"
   },
   "outputs": [
    {
     "data": {
      "text/plain": [
       "genre\n",
       "pop            218\n",
       "dance          182\n",
       "rock           162\n",
       "electronic     147\n",
       "hiphop          80\n",
       "ruspop          64\n",
       "alternative     58\n",
       "rusrap          55\n",
       "jazz            44\n",
       "classical       40\n",
       "Name: genre, dtype: int64"
      ]
     },
     "execution_count": 32,
     "metadata": {},
     "output_type": "execute_result"
    }
   ],
   "source": [
    "# вызов функции для утра понедельника в Петербурге (вместо df — таблица spb_general)\n",
    "genre_weekday(spb_general, 'Monday', '07:00', '11:00')"
   ]
  },
  {
   "cell_type": "code",
   "execution_count": 33,
   "metadata": {
    "id": "EzXVRE1o_Zcu"
   },
   "outputs": [
    {
     "data": {
      "text/plain": [
       "genre\n",
       "pop            713\n",
       "rock           517\n",
       "dance          495\n",
       "electronic     482\n",
       "hiphop         273\n",
       "world          208\n",
       "ruspop         170\n",
       "alternative    163\n",
       "classical      163\n",
       "rusrap         142\n",
       "Name: genre, dtype: int64"
      ]
     },
     "execution_count": 33,
     "metadata": {},
     "output_type": "execute_result"
    }
   ],
   "source": [
    "# вызов функции для вечера пятницы в Москве\n",
    "genre_weekday(moscow_general, 'Friday', '17:00', '23:00')"
   ]
  },
  {
   "cell_type": "code",
   "execution_count": 34,
   "metadata": {
    "id": "JZaEKu5v_Zcu",
    "scrolled": true
   },
   "outputs": [
    {
     "data": {
      "text/plain": [
       "genre\n",
       "pop            256\n",
       "rock           216\n",
       "electronic     216\n",
       "dance          210\n",
       "hiphop          97\n",
       "alternative     63\n",
       "jazz            61\n",
       "classical       60\n",
       "rusrap          59\n",
       "world           54\n",
       "Name: genre, dtype: int64"
      ]
     },
     "execution_count": 34,
     "metadata": {},
     "output_type": "execute_result"
    }
   ],
   "source": [
    "# вызов функции для вечера пятницы в Петербурге\n",
    "genre_weekday(spb_general, 'Friday', '17:00', '23:00')"
   ]
  },
  {
   "cell_type": "markdown",
   "metadata": {
    "id": "wrCe4MNX_Zcu"
   },
   "source": [
    "**Выводы**\n",
    "\n",
    "Если сравнить топ-10 жанров в понедельник утром, можно сделать такие выводы:\n",
    "\n",
    "1. В Москве и Петербурге слушают похожую музыку. Единственное отличие — в московский рейтинг вошёл жанр “world”, а в петербургский — джаз и классика.\n",
    "\n",
    "2. В Москве пропущенных значений оказалось так много, что значение `'unknown'` заняло десятое место среди самых популярных жанров. Значит, пропущенные значения занимают существенную долю в данных и угрожают достоверности исследования.\n",
    "\n",
    "Вечер пятницы не меняет эту картину. Некоторые жанры поднимаются немного выше, другие спускаются, но в целом топ-10 остаётся тем же самым.\n",
    "\n",
    "Таким образом, вторая гипотеза подтвердилась лишь частично:\n",
    "* Пользователи слушают похожую музыку в начале недели и в конце.\n",
    "* Разница между Москвой и Петербургом не слишком выражена. В Москве чаще слушают русскую популярную музыку, в Петербурге — джаз.\n",
    "\n",
    "Однако пропуски в данных ставят под сомнение этот результат. В Москве их так много, что рейтинг топ-10 мог бы выглядеть иначе, если бы не утерянные  данные о жанрах."
   ]
  },
  {
   "cell_type": "markdown",
   "metadata": {
    "id": "JolODAqr_Zcu"
   },
   "source": [
    "### Жанровые предпочтения в Москве и Петербурге\n",
    "\n",
    "Гипотеза: Петербург — столица рэпа, музыку этого жанра там слушают чаще, чем в Москве.  А Москва — город контрастов, в котором, тем не менее, преобладает поп-музыка."
   ]
  },
  {
   "cell_type": "markdown",
   "metadata": {
    "id": "DlegSvaT_Zcu"
   },
   "source": [
    "Сгруппируем таблицу `moscow_general` по жанру и посчитаем прослушивания треков каждого жанра методом `count()`. Затем отсортируем результат в порядке убывания и сохраним его в таблице `moscow_genres`."
   ]
  },
  {
   "cell_type": "code",
   "execution_count": 35,
   "metadata": {
    "id": "r19lIPke_Zcu"
   },
   "outputs": [],
   "source": [
    "# одной строкой: группировка таблицы moscow_general по столбцу 'genre',\n",
    "# подсчёт числа значений 'genre' в этой группировке методом count(),\n",
    "# сортировка получившегося Series в порядке убывания и сохранение в moscow_genres\n",
    "moscow_genres = moscow_general.groupby('genre')['genre'].count().sort_values(ascending=False)"
   ]
  },
  {
   "cell_type": "markdown",
   "metadata": {
    "id": "6kMuomxTiIr8"
   },
   "source": [
    "Выведем на экран первые десять строк `moscow_genres`:"
   ]
  },
  {
   "cell_type": "code",
   "execution_count": 36,
   "metadata": {
    "id": "WhCSooF8_Zcv"
   },
   "outputs": [
    {
     "data": {
      "text/plain": [
       "genre\n",
       "pop            5892\n",
       "dance          4435\n",
       "rock           3965\n",
       "electronic     3786\n",
       "hiphop         2096\n",
       "classical      1616\n",
       "world          1432\n",
       "alternative    1379\n",
       "ruspop         1372\n",
       "rusrap         1161\n",
       "Name: genre, dtype: int64"
      ]
     },
     "execution_count": 36,
     "metadata": {},
     "output_type": "execute_result"
    }
   ],
   "source": [
    "# просмотр первых 10 строк moscow_genres\n",
    "moscow_genres.head(10)"
   ]
  },
  {
   "cell_type": "markdown",
   "metadata": {
    "id": "cnPG2vnN_Zcv"
   },
   "source": [
    "Повторим то же и для Петербурга.\n",
    "\n",
    "Сгруппируем таблицу `spb_general` по жанру. Посчитаем прослушивания треков каждого жанра. Результат отсортируем в порядке убывания и сохраним в таблице `spb_genres`:\n"
   ]
  },
  {
   "cell_type": "code",
   "execution_count": 37,
   "metadata": {
    "id": "gluLIpE7_Zcv"
   },
   "outputs": [],
   "source": [
    "# одной строкой: группировка таблицы spb_general по столбцу 'genre', \n",
    "# подсчёт числа значений 'genre' в этой группировке методом count(), \n",
    "# сортировка получившегося Series в порядке убывания и сохранение в spb_genres\n",
    "spb_genres = spb_general.groupby('genre')['genre'].count().sort_values(ascending=False)"
   ]
  },
  {
   "cell_type": "markdown",
   "metadata": {
    "id": "5Doha_ODgyQ8"
   },
   "source": [
    "Выведем на экран первые десять строк `spb_genres`:"
   ]
  },
  {
   "cell_type": "code",
   "execution_count": 38,
   "metadata": {
    "id": "uaGJHjVU_Zcv"
   },
   "outputs": [
    {
     "data": {
      "text/plain": [
       "genre\n",
       "pop            2431\n",
       "dance          1932\n",
       "rock           1879\n",
       "electronic     1736\n",
       "hiphop          960\n",
       "alternative     649\n",
       "classical       646\n",
       "rusrap          564\n",
       "ruspop          538\n",
       "world           515\n",
       "Name: genre, dtype: int64"
      ]
     },
     "execution_count": 38,
     "metadata": {},
     "output_type": "execute_result"
    }
   ],
   "source": [
    "# просмотр первых 10 строк spb_genres\n",
    "spb_genres.head(10)"
   ]
  },
  {
   "cell_type": "markdown",
   "metadata": {
    "id": "RY51YJYu_Zcv"
   },
   "source": [
    "**Выводы**"
   ]
  },
  {
   "cell_type": "markdown",
   "metadata": {
    "id": "nVhnJEm__Zcv"
   },
   "source": [
    "Гипотеза частично подтвердилась:\n",
    "* Поп-музыка — самый популярный жанр в Москве, как и предполагала гипотеза. Более того, в топ-10 жанров встречается близкий жанр — русская популярная музыка.\n",
    "* Вопреки ожиданиям, рэп одинаково популярен в Москве и Петербурге. \n"
   ]
  },
  {
   "cell_type": "markdown",
   "metadata": {
    "id": "ykKQ0N65_Zcv"
   },
   "source": [
    "## Итоги исследования"
   ]
  },
  {
   "cell_type": "markdown",
   "metadata": {
    "id": "tjUwbHb3_Zcv"
   },
   "source": [
    "Проверили три гипотезы и установили:\n",
    "\n",
    "1. День недели по-разному влияет на активность пользователей в Москве и Петербурге. \n",
    "\n",
    "Первая гипотеза полностью подтвердилась.\n",
    "\n",
    "2. Музыкальные предпочтения не сильно меняются в течение недели — будь то Москва или Петербург. Небольшие различия заметны в начале недели, по понедельникам:\n",
    "* в Москве слушают музыку жанра “world”,\n",
    "* в Петербурге — джаз и классику.\n",
    "\n",
    "Таким образом, вторая гипотеза подтвердилась лишь отчасти. Этот результат мог оказаться иным, если бы не пропуски в данных.\n",
    "\n",
    "3. Во вкусах пользователей Москвы и Петербурга больше общего чем различий. Вопреки ожиданиям, предпочтения жанров в Петербурге напоминают московские.\n",
    "\n",
    "Третья гипотеза не подтвердилась. Если различия в предпочтениях и существуют, на основной массе пользователей они незаметны.\n",
    "\n",
    "**На практике, исследования содержат проверки статистических гипотез.**  \n",
    "Из данных одного сервиса не всегда можно сделать вывод о всех жителях города.  \n",
    "Проверки статистических гипотез покажут, насколько они достоверны, исходя из имеющихся данных."
   ]
  }
 ],
 "metadata": {
  "ExecuteTimeLog": [
   {
    "duration": 414,
    "start_time": "2021-12-26T20:31:18.952Z"
   },
   {
    "duration": 764,
    "start_time": "2021-12-26T20:31:29.588Z"
   },
   {
    "duration": 192,
    "start_time": "2021-12-26T20:31:33.879Z"
   },
   {
    "duration": 26,
    "start_time": "2021-12-26T20:31:39.064Z"
   },
   {
    "duration": 33,
    "start_time": "2021-12-26T20:31:49.392Z"
   },
   {
    "duration": 388,
    "start_time": "2021-12-26T20:44:58.086Z"
   },
   {
    "duration": 5,
    "start_time": "2021-12-26T20:46:13.940Z"
   },
   {
    "duration": 24,
    "start_time": "2021-12-26T20:53:18.266Z"
   },
   {
    "duration": 6,
    "start_time": "2021-12-26T20:53:32.622Z"
   },
   {
    "duration": 51,
    "start_time": "2021-12-26T20:54:23.135Z"
   },
   {
    "duration": 38,
    "start_time": "2021-12-26T20:54:54.285Z"
   },
   {
    "duration": 52,
    "start_time": "2021-12-26T20:55:25.557Z"
   },
   {
    "duration": 29,
    "start_time": "2021-12-26T20:57:04.518Z"
   },
   {
    "duration": 45,
    "start_time": "2021-12-26T21:03:46.436Z"
   },
   {
    "duration": 24,
    "start_time": "2021-12-26T21:03:50.290Z"
   },
   {
    "duration": 30,
    "start_time": "2021-12-26T21:03:54.864Z"
   },
   {
    "duration": 88,
    "start_time": "2021-12-26T21:04:31.632Z"
   },
   {
    "duration": 100,
    "start_time": "2021-12-26T21:04:56.027Z"
   },
   {
    "duration": 77,
    "start_time": "2021-12-26T21:05:05.854Z"
   },
   {
    "duration": 14,
    "start_time": "2021-12-26T21:05:40.368Z"
   },
   {
    "duration": 10019,
    "start_time": "2021-12-26T21:06:05.185Z"
   },
   {
    "duration": 10336,
    "start_time": "2021-12-26T21:07:14.635Z"
   },
   {
    "duration": 9,
    "start_time": "2021-12-26T21:07:57.710Z"
   },
   {
    "duration": 129,
    "start_time": "2021-12-26T21:16:53.482Z"
   },
   {
    "duration": 139,
    "start_time": "2021-12-26T21:18:42.269Z"
   },
   {
    "duration": 15,
    "start_time": "2021-12-26T21:19:46.710Z"
   },
   {
    "duration": 10,
    "start_time": "2021-12-26T21:26:10.324Z"
   },
   {
    "duration": 355,
    "start_time": "2021-12-26T21:27:34.194Z"
   },
   {
    "duration": 10,
    "start_time": "2021-12-26T21:27:57.903Z"
   },
   {
    "duration": 58,
    "start_time": "2021-12-26T21:29:18.469Z"
   },
   {
    "duration": 5,
    "start_time": "2021-12-26T21:40:34.583Z"
   },
   {
    "duration": 366,
    "start_time": "2021-12-26T21:40:38.373Z"
   },
   {
    "duration": 14,
    "start_time": "2021-12-26T21:40:57.146Z"
   },
   {
    "duration": 9,
    "start_time": "2021-12-26T21:41:42.443Z"
   },
   {
    "duration": 9,
    "start_time": "2021-12-26T21:42:52.002Z"
   },
   {
    "duration": 57,
    "start_time": "2021-12-26T21:43:29.793Z"
   },
   {
    "duration": 4,
    "start_time": "2021-12-26T21:43:36.022Z"
   },
   {
    "duration": 14,
    "start_time": "2021-12-26T21:43:39.042Z"
   },
   {
    "duration": 9,
    "start_time": "2021-12-26T21:43:43.872Z"
   },
   {
    "duration": 59,
    "start_time": "2021-12-26T21:45:06.679Z"
   },
   {
    "duration": 4,
    "start_time": "2021-12-26T21:48:45.487Z"
   },
   {
    "duration": 216,
    "start_time": "2021-12-26T21:48:45.494Z"
   },
   {
    "duration": 16,
    "start_time": "2021-12-26T21:48:45.713Z"
   },
   {
    "duration": 50,
    "start_time": "2021-12-26T21:48:45.732Z"
   },
   {
    "duration": 5,
    "start_time": "2021-12-26T21:48:45.784Z"
   },
   {
    "duration": 24,
    "start_time": "2021-12-26T21:48:45.791Z"
   },
   {
    "duration": 5,
    "start_time": "2021-12-26T21:48:45.818Z"
   },
   {
    "duration": 62,
    "start_time": "2021-12-26T21:48:45.826Z"
   },
   {
    "duration": 24,
    "start_time": "2021-12-26T21:48:45.891Z"
   },
   {
    "duration": 51,
    "start_time": "2021-12-26T21:48:45.917Z"
   },
   {
    "duration": 97,
    "start_time": "2021-12-26T21:48:45.970Z"
   },
   {
    "duration": 104,
    "start_time": "2021-12-26T21:48:46.070Z"
   },
   {
    "duration": 84,
    "start_time": "2021-12-26T21:48:46.177Z"
   },
   {
    "duration": 58,
    "start_time": "2021-12-26T21:48:46.263Z"
   },
   {
    "duration": 4,
    "start_time": "2021-12-26T21:48:46.323Z"
   },
   {
    "duration": 39,
    "start_time": "2021-12-26T21:48:46.329Z"
   },
   {
    "duration": 806,
    "start_time": "2021-12-26T21:49:52.430Z"
   },
   {
    "duration": 190,
    "start_time": "2021-12-26T21:49:53.239Z"
   },
   {
    "duration": 35,
    "start_time": "2021-12-26T21:49:53.432Z"
   },
   {
    "duration": 34,
    "start_time": "2021-12-26T21:49:53.470Z"
   },
   {
    "duration": 5,
    "start_time": "2021-12-26T21:49:53.506Z"
   },
   {
    "duration": 60,
    "start_time": "2021-12-26T21:49:53.514Z"
   },
   {
    "duration": 5,
    "start_time": "2021-12-26T21:49:53.576Z"
   },
   {
    "duration": 31,
    "start_time": "2021-12-26T21:49:53.583Z"
   },
   {
    "duration": 47,
    "start_time": "2021-12-26T21:49:53.617Z"
   },
   {
    "duration": 30,
    "start_time": "2021-12-26T21:49:53.667Z"
   },
   {
    "duration": 109,
    "start_time": "2021-12-26T21:49:53.699Z"
   },
   {
    "duration": 110,
    "start_time": "2021-12-26T21:49:53.810Z"
   },
   {
    "duration": 96,
    "start_time": "2021-12-26T21:49:53.923Z"
   },
   {
    "duration": 65,
    "start_time": "2021-12-26T21:49:54.022Z"
   },
   {
    "duration": 4,
    "start_time": "2021-12-26T21:49:54.089Z"
   },
   {
    "duration": 16,
    "start_time": "2021-12-26T21:49:54.095Z"
   },
   {
    "duration": 756,
    "start_time": "2021-12-26T21:50:23.397Z"
   },
   {
    "duration": 186,
    "start_time": "2021-12-26T21:50:24.155Z"
   },
   {
    "duration": 30,
    "start_time": "2021-12-26T21:50:24.344Z"
   },
   {
    "duration": 34,
    "start_time": "2021-12-26T21:50:24.377Z"
   },
   {
    "duration": 7,
    "start_time": "2021-12-26T21:50:24.413Z"
   },
   {
    "duration": 57,
    "start_time": "2021-12-26T21:50:24.422Z"
   },
   {
    "duration": 7,
    "start_time": "2021-12-26T21:50:24.482Z"
   },
   {
    "duration": 30,
    "start_time": "2021-12-26T21:50:24.491Z"
   },
   {
    "duration": 47,
    "start_time": "2021-12-26T21:50:24.526Z"
   },
   {
    "duration": 30,
    "start_time": "2021-12-26T21:50:24.575Z"
   },
   {
    "duration": 107,
    "start_time": "2021-12-26T21:50:24.608Z"
   },
   {
    "duration": 116,
    "start_time": "2021-12-26T21:50:24.718Z"
   },
   {
    "duration": 89,
    "start_time": "2021-12-26T21:50:24.837Z"
   },
   {
    "duration": 66,
    "start_time": "2021-12-26T21:50:24.929Z"
   },
   {
    "duration": 4,
    "start_time": "2021-12-26T21:50:24.997Z"
   },
   {
    "duration": 17,
    "start_time": "2021-12-26T21:50:25.003Z"
   },
   {
    "duration": 730,
    "start_time": "2021-12-26T21:50:47.101Z"
   },
   {
    "duration": 179,
    "start_time": "2021-12-26T21:50:47.834Z"
   },
   {
    "duration": 27,
    "start_time": "2021-12-26T21:50:48.017Z"
   },
   {
    "duration": 33,
    "start_time": "2021-12-26T21:50:48.059Z"
   },
   {
    "duration": 5,
    "start_time": "2021-12-26T21:50:48.095Z"
   },
   {
    "duration": 59,
    "start_time": "2021-12-26T21:50:48.103Z"
   },
   {
    "duration": 6,
    "start_time": "2021-12-26T21:50:48.164Z"
   },
   {
    "duration": 33,
    "start_time": "2021-12-26T21:50:48.172Z"
   },
   {
    "duration": 51,
    "start_time": "2021-12-26T21:50:48.209Z"
   },
   {
    "duration": 31,
    "start_time": "2021-12-26T21:50:48.263Z"
   },
   {
    "duration": 96,
    "start_time": "2021-12-26T21:50:48.297Z"
   },
   {
    "duration": 108,
    "start_time": "2021-12-26T21:50:48.396Z"
   },
   {
    "duration": 81,
    "start_time": "2021-12-26T21:50:48.506Z"
   },
   {
    "duration": 71,
    "start_time": "2021-12-26T21:50:48.590Z"
   },
   {
    "duration": 4,
    "start_time": "2021-12-26T21:50:48.663Z"
   },
   {
    "duration": 15,
    "start_time": "2021-12-26T21:50:48.669Z"
   },
   {
    "duration": 9,
    "start_time": "2021-12-26T21:50:48.686Z"
   },
   {
    "duration": 57,
    "start_time": "2021-12-26T21:56:08.854Z"
   },
   {
    "duration": 750,
    "start_time": "2021-12-26T21:56:25.011Z"
   },
   {
    "duration": 180,
    "start_time": "2021-12-26T21:56:25.764Z"
   },
   {
    "duration": 26,
    "start_time": "2021-12-26T21:56:25.947Z"
   },
   {
    "duration": 45,
    "start_time": "2021-12-26T21:56:25.976Z"
   },
   {
    "duration": 6,
    "start_time": "2021-12-26T21:56:26.025Z"
   },
   {
    "duration": 55,
    "start_time": "2021-12-26T21:56:26.033Z"
   },
   {
    "duration": 7,
    "start_time": "2021-12-26T21:56:26.091Z"
   },
   {
    "duration": 73,
    "start_time": "2021-12-26T21:56:26.101Z"
   },
   {
    "duration": 25,
    "start_time": "2021-12-26T21:56:26.179Z"
   },
   {
    "duration": 55,
    "start_time": "2021-12-26T21:56:26.207Z"
   },
   {
    "duration": 100,
    "start_time": "2021-12-26T21:56:26.265Z"
   },
   {
    "duration": 103,
    "start_time": "2021-12-26T21:56:26.367Z"
   },
   {
    "duration": 75,
    "start_time": "2021-12-26T21:56:26.472Z"
   },
   {
    "duration": 59,
    "start_time": "2021-12-26T21:56:26.560Z"
   },
   {
    "duration": 4,
    "start_time": "2021-12-26T21:56:26.621Z"
   },
   {
    "duration": 40,
    "start_time": "2021-12-26T21:56:26.628Z"
   },
   {
    "duration": 58,
    "start_time": "2021-12-26T21:56:26.670Z"
   },
   {
    "duration": 49,
    "start_time": "2021-12-26T21:59:17.613Z"
   },
   {
    "duration": 16,
    "start_time": "2021-12-26T22:00:49.253Z"
   },
   {
    "duration": 477,
    "start_time": "2021-12-26T22:03:03.818Z"
   },
   {
    "duration": 379,
    "start_time": "2021-12-26T22:06:03.011Z"
   },
   {
    "duration": 377,
    "start_time": "2021-12-26T22:07:34.074Z"
   },
   {
    "duration": 21,
    "start_time": "2021-12-26T22:10:28.228Z"
   },
   {
    "duration": 16,
    "start_time": "2021-12-26T22:13:57.111Z"
   },
   {
    "duration": 128,
    "start_time": "2021-12-26T22:33:49.488Z"
   },
   {
    "duration": 5,
    "start_time": "2021-12-26T22:34:05.220Z"
   },
   {
    "duration": 924,
    "start_time": "2021-12-26T22:34:57.093Z"
   },
   {
    "duration": 769,
    "start_time": "2021-12-26T22:38:21.945Z"
   },
   {
    "duration": 5,
    "start_time": "2021-12-26T22:38:28.588Z"
   },
   {
    "duration": 804,
    "start_time": "2021-12-26T22:38:32.907Z"
   },
   {
    "duration": 5,
    "start_time": "2021-12-26T22:43:54.776Z"
   },
   {
    "duration": 743,
    "start_time": "2021-12-26T22:43:58.687Z"
   },
   {
    "duration": 5,
    "start_time": "2021-12-26T22:44:35.506Z"
   },
   {
    "duration": 863,
    "start_time": "2021-12-26T22:44:38.236Z"
   },
   {
    "duration": 389,
    "start_time": "2021-12-26T22:46:10.072Z"
   },
   {
    "duration": 6,
    "start_time": "2021-12-26T22:46:26.708Z"
   },
   {
    "duration": 6,
    "start_time": "2021-12-26T22:46:35.312Z"
   },
   {
    "duration": 5,
    "start_time": "2021-12-26T22:46:51.392Z"
   },
   {
    "duration": 5,
    "start_time": "2021-12-26T22:47:41.982Z"
   },
   {
    "duration": 5,
    "start_time": "2021-12-26T22:47:54.513Z"
   },
   {
    "duration": 4,
    "start_time": "2021-12-26T22:50:32.199Z"
   },
   {
    "duration": 768,
    "start_time": "2021-12-26T22:50:35.436Z"
   },
   {
    "duration": 5,
    "start_time": "2021-12-26T22:51:44.147Z"
   },
   {
    "duration": 10733,
    "start_time": "2021-12-26T22:51:46.594Z"
   },
   {
    "duration": 201,
    "start_time": "2021-12-26T22:53:29.835Z"
   },
   {
    "duration": 123,
    "start_time": "2021-12-26T22:56:36.868Z"
   },
   {
    "duration": 5,
    "start_time": "2021-12-26T22:57:24.480Z"
   },
   {
    "duration": 766,
    "start_time": "2021-12-26T22:57:27.940Z"
   },
   {
    "duration": 156,
    "start_time": "2021-12-26T22:58:09.195Z"
   },
   {
    "duration": 6,
    "start_time": "2021-12-26T22:58:15.408Z"
   },
   {
    "duration": 738,
    "start_time": "2021-12-26T22:58:18.021Z"
   },
   {
    "duration": 147,
    "start_time": "2021-12-26T22:59:22.814Z"
   },
   {
    "duration": 5,
    "start_time": "2021-12-26T23:03:33.246Z"
   },
   {
    "duration": 15,
    "start_time": "2021-12-26T23:03:36.570Z"
   },
   {
    "duration": 22,
    "start_time": "2021-12-26T23:04:09.542Z"
   },
   {
    "duration": 7,
    "start_time": "2021-12-26T23:06:04.585Z"
   },
   {
    "duration": 745,
    "start_time": "2021-12-26T23:06:07.896Z"
   },
   {
    "duration": 5,
    "start_time": "2021-12-26T23:07:20.316Z"
   },
   {
    "duration": 1090,
    "start_time": "2021-12-26T23:07:23.228Z"
   },
   {
    "duration": 5,
    "start_time": "2021-12-26T23:08:05.561Z"
   },
   {
    "duration": 32,
    "start_time": "2021-12-26T23:08:11.065Z"
   },
   {
    "duration": 26,
    "start_time": "2021-12-26T23:08:16.275Z"
   },
   {
    "duration": 30,
    "start_time": "2021-12-26T23:09:10.170Z"
   },
   {
    "duration": 25,
    "start_time": "2021-12-26T23:09:12.409Z"
   },
   {
    "duration": 33,
    "start_time": "2021-12-26T23:10:13.612Z"
   },
   {
    "duration": 27,
    "start_time": "2021-12-26T23:10:16.645Z"
   },
   {
    "duration": 416,
    "start_time": "2021-12-26T23:16:15.091Z"
   },
   {
    "duration": 393,
    "start_time": "2021-12-26T23:20:21.760Z"
   },
   {
    "duration": 876,
    "start_time": "2021-12-26T23:22:35.821Z"
   },
   {
    "duration": 6,
    "start_time": "2021-12-26T23:25:57.676Z"
   },
   {
    "duration": 6,
    "start_time": "2021-12-26T23:26:30.465Z"
   },
   {
    "duration": 7,
    "start_time": "2021-12-26T23:26:56.592Z"
   },
   {
    "duration": 25,
    "start_time": "2021-12-26T23:27:01.931Z"
   },
   {
    "duration": 6,
    "start_time": "2021-12-26T23:27:21.362Z"
   },
   {
    "duration": 413,
    "start_time": "2021-12-26T23:27:58.752Z"
   },
   {
    "duration": 13,
    "start_time": "2021-12-26T23:28:11.581Z"
   },
   {
    "duration": 15,
    "start_time": "2021-12-26T23:32:13.691Z"
   },
   {
    "duration": 11,
    "start_time": "2021-12-26T23:32:24.381Z"
   },
   {
    "duration": 5,
    "start_time": "2021-12-26T23:39:52.055Z"
   },
   {
    "duration": 13,
    "start_time": "2021-12-26T23:39:55.513Z"
   },
   {
    "duration": 15,
    "start_time": "2021-12-26T23:40:01.533Z"
   },
   {
    "duration": 127,
    "start_time": "2021-12-26T23:40:55.577Z"
   },
   {
    "duration": 388,
    "start_time": "2021-12-26T23:41:07.876Z"
   },
   {
    "duration": 5,
    "start_time": "2021-12-26T23:43:40.715Z"
   },
   {
    "duration": 775,
    "start_time": "2021-12-26T23:43:44.616Z"
   },
   {
    "duration": 124,
    "start_time": "2021-12-26T23:44:26.482Z"
   },
   {
    "duration": 4,
    "start_time": "2021-12-26T23:49:03.721Z"
   },
   {
    "duration": 33,
    "start_time": "2021-12-26T23:49:07.515Z"
   },
   {
    "duration": 27,
    "start_time": "2021-12-26T23:49:12.988Z"
   },
   {
    "duration": 29,
    "start_time": "2021-12-26T23:49:16.613Z"
   },
   {
    "duration": 23,
    "start_time": "2021-12-26T23:49:20.711Z"
   },
   {
    "duration": 5,
    "start_time": "2021-12-27T00:09:29.521Z"
   },
   {
    "duration": 30,
    "start_time": "2021-12-27T00:09:32.485Z"
   },
   {
    "duration": 26,
    "start_time": "2021-12-27T00:09:36.369Z"
   },
   {
    "duration": 28,
    "start_time": "2021-12-27T00:09:40.158Z"
   },
   {
    "duration": 29,
    "start_time": "2021-12-27T00:10:45.669Z"
   },
   {
    "duration": 732,
    "start_time": "2021-12-27T00:11:03.311Z"
   },
   {
    "duration": 182,
    "start_time": "2021-12-27T00:11:04.046Z"
   },
   {
    "duration": 33,
    "start_time": "2021-12-27T00:11:04.231Z"
   },
   {
    "duration": 32,
    "start_time": "2021-12-27T00:11:04.267Z"
   },
   {
    "duration": 5,
    "start_time": "2021-12-27T00:11:04.301Z"
   },
   {
    "duration": 55,
    "start_time": "2021-12-27T00:11:04.308Z"
   },
   {
    "duration": 5,
    "start_time": "2021-12-27T00:11:04.366Z"
   },
   {
    "duration": 30,
    "start_time": "2021-12-27T00:11:04.373Z"
   },
   {
    "duration": 22,
    "start_time": "2021-12-27T00:11:04.407Z"
   },
   {
    "duration": 29,
    "start_time": "2021-12-27T00:11:04.460Z"
   },
   {
    "duration": 97,
    "start_time": "2021-12-27T00:11:04.491Z"
   },
   {
    "duration": 108,
    "start_time": "2021-12-27T00:11:04.591Z"
   },
   {
    "duration": 80,
    "start_time": "2021-12-27T00:11:04.701Z"
   },
   {
    "duration": 57,
    "start_time": "2021-12-27T00:11:04.783Z"
   },
   {
    "duration": 21,
    "start_time": "2021-12-27T00:11:04.842Z"
   },
   {
    "duration": 16,
    "start_time": "2021-12-27T00:11:04.865Z"
   },
   {
    "duration": 77,
    "start_time": "2021-12-27T00:11:04.883Z"
   },
   {
    "duration": 15,
    "start_time": "2021-12-27T00:11:04.963Z"
   },
   {
    "duration": 15,
    "start_time": "2021-12-27T00:11:04.980Z"
   },
   {
    "duration": 4,
    "start_time": "2021-12-27T00:11:04.998Z"
   },
   {
    "duration": 25,
    "start_time": "2021-12-27T00:11:09.412Z"
   },
   {
    "duration": 28,
    "start_time": "2021-12-27T00:11:12.610Z"
   },
   {
    "duration": 27,
    "start_time": "2021-12-27T00:11:15.388Z"
   },
   {
    "duration": 30,
    "start_time": "2021-12-27T00:11:18.865Z"
   },
   {
    "duration": 26,
    "start_time": "2021-12-27T00:11:24.665Z"
   },
   {
    "duration": 6,
    "start_time": "2021-12-27T00:12:34.536Z"
   },
   {
    "duration": 30,
    "start_time": "2021-12-27T00:12:37.594Z"
   },
   {
    "duration": 26,
    "start_time": "2021-12-27T00:12:41.335Z"
   },
   {
    "duration": 30,
    "start_time": "2021-12-27T00:12:45.692Z"
   },
   {
    "duration": 4,
    "start_time": "2021-12-27T18:44:42.339Z"
   },
   {
    "duration": 209,
    "start_time": "2021-12-27T18:44:42.346Z"
   },
   {
    "duration": 15,
    "start_time": "2021-12-27T18:44:42.558Z"
   },
   {
    "duration": 43,
    "start_time": "2021-12-27T18:44:42.576Z"
   },
   {
    "duration": 15,
    "start_time": "2021-12-27T18:44:42.621Z"
   },
   {
    "duration": 40,
    "start_time": "2021-12-27T18:44:42.638Z"
   },
   {
    "duration": 4,
    "start_time": "2021-12-27T18:44:42.681Z"
   },
   {
    "duration": 30,
    "start_time": "2021-12-27T18:44:42.688Z"
   },
   {
    "duration": 58,
    "start_time": "2021-12-27T18:44:42.722Z"
   },
   {
    "duration": 33,
    "start_time": "2021-12-27T18:44:42.783Z"
   },
   {
    "duration": 146,
    "start_time": "2021-12-27T18:44:42.819Z"
   },
   {
    "duration": 132,
    "start_time": "2021-12-27T18:44:42.968Z"
   },
   {
    "duration": 116,
    "start_time": "2021-12-27T18:44:43.103Z"
   },
   {
    "duration": 71,
    "start_time": "2021-12-27T18:44:43.222Z"
   },
   {
    "duration": 4,
    "start_time": "2021-12-27T18:44:43.295Z"
   },
   {
    "duration": 27,
    "start_time": "2021-12-27T18:44:43.302Z"
   },
   {
    "duration": 82,
    "start_time": "2021-12-27T18:44:43.333Z"
   },
   {
    "duration": 16,
    "start_time": "2021-12-27T18:44:43.419Z"
   },
   {
    "duration": 37,
    "start_time": "2021-12-27T18:44:43.438Z"
   },
   {
    "duration": 30,
    "start_time": "2021-12-27T18:44:48.322Z"
   },
   {
    "duration": 26,
    "start_time": "2021-12-27T18:44:52.302Z"
   },
   {
    "duration": 29,
    "start_time": "2021-12-27T18:44:56.229Z"
   },
   {
    "duration": 25,
    "start_time": "2021-12-27T18:45:02.364Z"
   },
   {
    "duration": 33,
    "start_time": "2021-12-27T18:45:05.160Z"
   },
   {
    "duration": 26,
    "start_time": "2021-12-27T18:45:08.319Z"
   },
   {
    "duration": 6,
    "start_time": "2021-12-27T18:46:29.457Z"
   },
   {
    "duration": 112,
    "start_time": "2021-12-27T18:46:32.767Z"
   },
   {
    "duration": 148,
    "start_time": "2021-12-27T18:46:38.371Z"
   },
   {
    "duration": 107,
    "start_time": "2021-12-27T18:46:41.656Z"
   },
   {
    "duration": 101,
    "start_time": "2021-12-27T18:46:44.046Z"
   },
   {
    "duration": 116,
    "start_time": "2021-12-27T18:46:46.165Z"
   },
   {
    "duration": 102,
    "start_time": "2021-12-27T18:46:49.101Z"
   },
   {
    "duration": 5,
    "start_time": "2021-12-27T18:52:54.239Z"
   },
   {
    "duration": 22,
    "start_time": "2021-12-27T18:52:57.167Z"
   },
   {
    "duration": 19,
    "start_time": "2021-12-27T18:53:01.779Z"
   },
   {
    "duration": 19,
    "start_time": "2021-12-27T18:53:04.031Z"
   },
   {
    "duration": 18,
    "start_time": "2021-12-27T18:53:07.128Z"
   },
   {
    "duration": 26,
    "start_time": "2021-12-27T18:53:09.393Z"
   },
   {
    "duration": 20,
    "start_time": "2021-12-27T18:53:11.976Z"
   },
   {
    "duration": 4,
    "start_time": "2021-12-27T18:54:40.070Z"
   },
   {
    "duration": 22,
    "start_time": "2021-12-27T18:54:42.537Z"
   },
   {
    "duration": 5,
    "start_time": "2021-12-27T18:54:59.233Z"
   },
   {
    "duration": 46,
    "start_time": "2021-12-27T18:55:01.868Z"
   },
   {
    "duration": 5,
    "start_time": "2021-12-27T18:56:01.386Z"
   },
   {
    "duration": 30,
    "start_time": "2021-12-27T18:56:05.095Z"
   },
   {
    "duration": 5,
    "start_time": "2021-12-27T18:56:42.926Z"
   },
   {
    "duration": 27,
    "start_time": "2021-12-27T18:56:46.017Z"
   },
   {
    "duration": 22,
    "start_time": "2021-12-27T18:56:49.838Z"
   },
   {
    "duration": 5,
    "start_time": "2021-12-27T18:57:32.651Z"
   },
   {
    "duration": 22,
    "start_time": "2021-12-27T18:57:35.593Z"
   },
   {
    "duration": 19,
    "start_time": "2021-12-27T18:57:38.596Z"
   },
   {
    "duration": 20,
    "start_time": "2021-12-27T18:57:40.738Z"
   },
   {
    "duration": 19,
    "start_time": "2021-12-27T18:57:44.343Z"
   },
   {
    "duration": 21,
    "start_time": "2021-12-27T18:57:46.622Z"
   },
   {
    "duration": 21,
    "start_time": "2021-12-27T18:57:48.884Z"
   },
   {
    "duration": 18,
    "start_time": "2021-12-27T18:58:53.483Z"
   },
   {
    "duration": 6,
    "start_time": "2021-12-27T19:06:03.051Z"
   },
   {
    "duration": 10106,
    "start_time": "2021-12-27T19:06:06.242Z"
   },
   {
    "duration": 5,
    "start_time": "2021-12-27T19:10:28.555Z"
   },
   {
    "duration": 10664,
    "start_time": "2021-12-27T19:10:31.868Z"
   },
   {
    "duration": 373,
    "start_time": "2021-12-27T19:24:51.992Z"
   },
   {
    "duration": 15,
    "start_time": "2021-12-27T19:25:08.079Z"
   },
   {
    "duration": 71,
    "start_time": "2021-12-27T19:25:15.437Z"
   },
   {
    "duration": 43,
    "start_time": "2021-12-27T19:25:31.617Z"
   },
   {
    "duration": 58,
    "start_time": "2021-12-27T19:25:35.264Z"
   },
   {
    "duration": 15,
    "start_time": "2021-12-27T19:25:53.073Z"
   },
   {
    "duration": 99,
    "start_time": "2021-12-27T19:29:52.312Z"
   },
   {
    "duration": 59,
    "start_time": "2021-12-27T19:30:08.522Z"
   },
   {
    "duration": 58,
    "start_time": "2021-12-27T19:30:12.542Z"
   },
   {
    "duration": 12,
    "start_time": "2021-12-27T19:30:49.453Z"
   },
   {
    "duration": 7,
    "start_time": "2021-12-27T19:31:52.449Z"
   },
   {
    "duration": 434,
    "start_time": "2021-12-27T19:32:45.846Z"
   },
   {
    "duration": 11,
    "start_time": "2021-12-27T19:32:51.868Z"
   },
   {
    "duration": 348,
    "start_time": "2021-12-27T19:32:55.903Z"
   },
   {
    "duration": 8,
    "start_time": "2021-12-27T19:34:01.034Z"
   },
   {
    "duration": 6,
    "start_time": "2021-12-27T19:34:04.068Z"
   },
   {
    "duration": 348,
    "start_time": "2021-12-27T19:38:29.628Z"
   },
   {
    "duration": 5,
    "start_time": "2021-12-27T19:41:03.812Z"
   },
   {
    "duration": 22,
    "start_time": "2021-12-27T19:41:05.831Z"
   },
   {
    "duration": 5,
    "start_time": "2021-12-27T19:43:33.656Z"
   },
   {
    "duration": 790,
    "start_time": "2021-12-27T19:43:38.319Z"
   },
   {
    "duration": 5,
    "start_time": "2021-12-27T19:44:59.327Z"
   },
   {
    "duration": 861,
    "start_time": "2021-12-27T19:45:03.205Z"
   },
   {
    "duration": 5,
    "start_time": "2021-12-27T19:46:02.293Z"
   },
   {
    "duration": 840,
    "start_time": "2021-12-27T19:46:05.155Z"
   },
   {
    "duration": 5,
    "start_time": "2021-12-27T19:48:03.428Z"
   },
   {
    "duration": 21,
    "start_time": "2021-12-27T19:48:08.072Z"
   },
   {
    "duration": 20,
    "start_time": "2021-12-27T19:48:14.672Z"
   },
   {
    "duration": 20,
    "start_time": "2021-12-27T19:48:57.996Z"
   },
   {
    "duration": 20,
    "start_time": "2021-12-27T19:49:00.665Z"
   },
   {
    "duration": 21,
    "start_time": "2021-12-27T19:49:02.708Z"
   },
   {
    "duration": 21,
    "start_time": "2021-12-27T19:49:04.848Z"
   },
   {
    "duration": 6,
    "start_time": "2021-12-27T20:00:59.266Z"
   },
   {
    "duration": 734,
    "start_time": "2021-12-27T20:01:06.065Z"
   },
   {
    "duration": 118,
    "start_time": "2021-12-27T20:02:29.210Z"
   },
   {
    "duration": 7,
    "start_time": "2021-12-27T20:02:43.850Z"
   },
   {
    "duration": 10805,
    "start_time": "2021-12-27T20:02:48.137Z"
   },
   {
    "duration": 6,
    "start_time": "2021-12-27T20:04:15.712Z"
   },
   {
    "duration": 25,
    "start_time": "2021-12-27T20:04:20.202Z"
   },
   {
    "duration": 19,
    "start_time": "2021-12-27T20:04:36.978Z"
   },
   {
    "duration": 24,
    "start_time": "2021-12-27T20:04:55.116Z"
   },
   {
    "duration": 18,
    "start_time": "2021-12-27T20:05:02.830Z"
   },
   {
    "duration": 1045,
    "start_time": "2021-12-27T20:06:39.514Z"
   },
   {
    "duration": 197,
    "start_time": "2021-12-27T20:06:40.563Z"
   },
   {
    "duration": 26,
    "start_time": "2021-12-27T20:06:40.763Z"
   },
   {
    "duration": 34,
    "start_time": "2021-12-27T20:06:40.792Z"
   },
   {
    "duration": 37,
    "start_time": "2021-12-27T20:06:40.829Z"
   },
   {
    "duration": 34,
    "start_time": "2021-12-27T20:06:40.869Z"
   },
   {
    "duration": 9,
    "start_time": "2021-12-27T20:06:40.906Z"
   },
   {
    "duration": 57,
    "start_time": "2021-12-27T20:06:40.917Z"
   },
   {
    "duration": 32,
    "start_time": "2021-12-27T20:06:40.979Z"
   },
   {
    "duration": 64,
    "start_time": "2021-12-27T20:06:41.015Z"
   },
   {
    "duration": 107,
    "start_time": "2021-12-27T20:06:41.082Z"
   },
   {
    "duration": 124,
    "start_time": "2021-12-27T20:06:41.191Z"
   },
   {
    "duration": 93,
    "start_time": "2021-12-27T20:06:41.317Z"
   },
   {
    "duration": 70,
    "start_time": "2021-12-27T20:06:41.412Z"
   },
   {
    "duration": 5,
    "start_time": "2021-12-27T20:06:41.485Z"
   },
   {
    "duration": 21,
    "start_time": "2021-12-27T20:06:41.493Z"
   },
   {
    "duration": 113,
    "start_time": "2021-12-27T20:06:41.517Z"
   },
   {
    "duration": 27,
    "start_time": "2021-12-27T20:06:41.633Z"
   },
   {
    "duration": 17,
    "start_time": "2021-12-27T20:06:41.663Z"
   },
   {
    "duration": 7,
    "start_time": "2021-12-27T20:06:41.683Z"
   },
   {
    "duration": 27,
    "start_time": "2021-12-27T20:06:41.693Z"
   },
   {
    "duration": 52,
    "start_time": "2021-12-27T20:06:41.723Z"
   },
   {
    "duration": 24,
    "start_time": "2021-12-27T20:06:41.778Z"
   },
   {
    "duration": 19,
    "start_time": "2021-12-27T20:06:41.805Z"
   },
   {
    "duration": 23,
    "start_time": "2021-12-27T20:06:41.859Z"
   },
   {
    "duration": 19,
    "start_time": "2021-12-27T20:06:41.885Z"
   },
   {
    "duration": 12,
    "start_time": "2021-12-27T20:06:41.909Z"
   },
   {
    "duration": 15,
    "start_time": "2021-12-27T20:06:41.959Z"
   },
   {
    "duration": 12,
    "start_time": "2021-12-27T20:06:41.977Z"
   },
   {
    "duration": 5,
    "start_time": "2021-12-27T20:06:41.992Z"
   },
   {
    "duration": 61,
    "start_time": "2021-12-27T20:06:42.000Z"
   },
   {
    "duration": 18,
    "start_time": "2021-12-27T20:06:42.063Z"
   },
   {
    "duration": 28,
    "start_time": "2021-12-27T20:06:42.084Z"
   },
   {
    "duration": 50,
    "start_time": "2021-12-27T20:06:42.115Z"
   },
   {
    "duration": 13,
    "start_time": "2021-12-27T20:06:42.167Z"
   },
   {
    "duration": 7,
    "start_time": "2021-12-27T20:06:42.183Z"
   },
   {
    "duration": 13,
    "start_time": "2021-12-27T20:06:42.192Z"
   },
   {
    "duration": 578,
    "start_time": "2021-12-28T18:05:09.288Z"
   },
   {
    "duration": 136,
    "start_time": "2021-12-28T18:05:09.869Z"
   },
   {
    "duration": 17,
    "start_time": "2021-12-28T18:05:10.007Z"
   },
   {
    "duration": 35,
    "start_time": "2021-12-28T18:05:10.026Z"
   },
   {
    "duration": 3,
    "start_time": "2021-12-28T18:05:10.063Z"
   },
   {
    "duration": 22,
    "start_time": "2021-12-28T18:05:10.068Z"
   },
   {
    "duration": 4,
    "start_time": "2021-12-28T18:05:10.092Z"
   },
   {
    "duration": 24,
    "start_time": "2021-12-28T18:05:10.099Z"
   },
   {
    "duration": 38,
    "start_time": "2021-12-28T18:05:10.125Z"
   },
   {
    "duration": 26,
    "start_time": "2021-12-28T18:05:10.165Z"
   },
   {
    "duration": 69,
    "start_time": "2021-12-28T18:05:10.193Z"
   },
   {
    "duration": 70,
    "start_time": "2021-12-28T18:05:10.263Z"
   },
   {
    "duration": 65,
    "start_time": "2021-12-28T18:05:10.334Z"
   },
   {
    "duration": 42,
    "start_time": "2021-12-28T18:05:10.401Z"
   },
   {
    "duration": 17,
    "start_time": "2021-12-28T18:05:10.444Z"
   },
   {
    "duration": 11,
    "start_time": "2021-12-28T18:05:10.463Z"
   },
   {
    "duration": 41,
    "start_time": "2021-12-28T18:05:10.476Z"
   },
   {
    "duration": 10,
    "start_time": "2021-12-28T18:05:10.519Z"
   },
   {
    "duration": 36,
    "start_time": "2021-12-28T18:05:10.531Z"
   },
   {
    "duration": 4,
    "start_time": "2021-12-28T18:05:10.569Z"
   },
   {
    "duration": 17,
    "start_time": "2021-12-28T18:05:10.575Z"
   },
   {
    "duration": 14,
    "start_time": "2021-12-28T18:05:10.594Z"
   },
   {
    "duration": 14,
    "start_time": "2021-12-28T18:05:10.612Z"
   },
   {
    "duration": 41,
    "start_time": "2021-12-28T18:05:10.628Z"
   },
   {
    "duration": 16,
    "start_time": "2021-12-28T18:05:10.671Z"
   },
   {
    "duration": 14,
    "start_time": "2021-12-28T18:05:10.689Z"
   },
   {
    "duration": 9,
    "start_time": "2021-12-28T18:05:10.704Z"
   },
   {
    "duration": 13,
    "start_time": "2021-12-28T18:05:10.714Z"
   },
   {
    "duration": 9,
    "start_time": "2021-12-28T18:05:10.761Z"
   },
   {
    "duration": 7,
    "start_time": "2021-12-28T18:05:10.772Z"
   },
   {
    "duration": 32,
    "start_time": "2021-12-28T18:05:10.780Z"
   },
   {
    "duration": 14,
    "start_time": "2021-12-28T18:05:10.814Z"
   },
   {
    "duration": 31,
    "start_time": "2021-12-28T18:05:10.830Z"
   },
   {
    "duration": 12,
    "start_time": "2021-12-28T18:05:10.863Z"
   },
   {
    "duration": 10,
    "start_time": "2021-12-28T18:05:10.877Z"
   },
   {
    "duration": 15,
    "start_time": "2021-12-28T18:05:10.889Z"
   },
   {
    "duration": 18,
    "start_time": "2021-12-28T18:05:10.905Z"
   },
   {
    "duration": 31,
    "start_time": "2021-12-28T18:05:10.925Z"
   },
   {
    "duration": 5,
    "start_time": "2021-12-28T18:06:28.774Z"
   },
   {
    "duration": 576,
    "start_time": "2021-12-28T18:18:52.882Z"
   },
   {
    "duration": 137,
    "start_time": "2021-12-28T18:18:53.460Z"
   },
   {
    "duration": 18,
    "start_time": "2021-12-28T18:18:53.599Z"
   },
   {
    "duration": 43,
    "start_time": "2021-12-28T18:18:53.619Z"
   },
   {
    "duration": 4,
    "start_time": "2021-12-28T18:18:53.664Z"
   },
   {
    "duration": 21,
    "start_time": "2021-12-28T18:18:53.670Z"
   },
   {
    "duration": 5,
    "start_time": "2021-12-28T18:18:53.693Z"
   },
   {
    "duration": 24,
    "start_time": "2021-12-28T18:18:53.701Z"
   },
   {
    "duration": 47,
    "start_time": "2021-12-28T18:18:53.728Z"
   },
   {
    "duration": 23,
    "start_time": "2021-12-28T18:18:53.776Z"
   },
   {
    "duration": 78,
    "start_time": "2021-12-28T18:18:53.801Z"
   },
   {
    "duration": 67,
    "start_time": "2021-12-28T18:18:53.880Z"
   },
   {
    "duration": 60,
    "start_time": "2021-12-28T18:18:53.948Z"
   },
   {
    "duration": 57,
    "start_time": "2021-12-28T18:18:54.009Z"
   },
   {
    "duration": 2,
    "start_time": "2021-12-28T18:18:54.068Z"
   },
   {
    "duration": 16,
    "start_time": "2021-12-28T18:18:54.072Z"
   },
   {
    "duration": 45,
    "start_time": "2021-12-28T18:18:54.090Z"
   },
   {
    "duration": 10,
    "start_time": "2021-12-28T18:18:54.137Z"
   },
   {
    "duration": 18,
    "start_time": "2021-12-28T18:18:54.148Z"
   },
   {
    "duration": 3,
    "start_time": "2021-12-28T18:18:54.168Z"
   },
   {
    "duration": 24,
    "start_time": "2021-12-28T18:18:54.173Z"
   },
   {
    "duration": 14,
    "start_time": "2021-12-28T18:18:54.199Z"
   },
   {
    "duration": 16,
    "start_time": "2021-12-28T18:18:54.217Z"
   },
   {
    "duration": 15,
    "start_time": "2021-12-28T18:18:54.260Z"
   },
   {
    "duration": 19,
    "start_time": "2021-12-28T18:18:54.277Z"
   },
   {
    "duration": 16,
    "start_time": "2021-12-28T18:18:54.297Z"
   },
   {
    "duration": 9,
    "start_time": "2021-12-28T18:18:54.314Z"
   },
   {
    "duration": 45,
    "start_time": "2021-12-28T18:18:54.324Z"
   },
   {
    "duration": 9,
    "start_time": "2021-12-28T18:18:54.370Z"
   },
   {
    "duration": 4,
    "start_time": "2021-12-28T18:18:54.381Z"
   },
   {
    "duration": 26,
    "start_time": "2021-12-28T18:18:54.386Z"
   },
   {
    "duration": 13,
    "start_time": "2021-12-28T18:18:54.413Z"
   },
   {
    "duration": 40,
    "start_time": "2021-12-28T18:18:54.428Z"
   },
   {
    "duration": 13,
    "start_time": "2021-12-28T18:18:54.470Z"
   },
   {
    "duration": 8,
    "start_time": "2021-12-28T18:18:54.485Z"
   },
   {
    "duration": 4,
    "start_time": "2021-12-28T18:18:54.494Z"
   },
   {
    "duration": 8,
    "start_time": "2021-12-28T18:18:54.500Z"
   },
   {
    "duration": 4,
    "start_time": "2021-12-28T18:18:54.510Z"
   },
   {
    "duration": 64,
    "start_time": "2021-12-28T18:51:47.405Z"
   },
   {
    "duration": 56,
    "start_time": "2021-12-28T18:52:16.484Z"
   },
   {
    "duration": 85,
    "start_time": "2021-12-28T18:53:09.099Z"
   },
   {
    "duration": 59,
    "start_time": "2021-12-28T19:06:37.165Z"
   },
   {
    "duration": 55,
    "start_time": "2021-12-28T19:42:00.877Z"
   },
   {
    "duration": 565,
    "start_time": "2021-12-28T19:55:36.722Z"
   },
   {
    "duration": 128,
    "start_time": "2021-12-28T19:55:37.289Z"
   },
   {
    "duration": 17,
    "start_time": "2021-12-28T19:55:37.419Z"
   },
   {
    "duration": 25,
    "start_time": "2021-12-28T19:55:37.438Z"
   },
   {
    "duration": 4,
    "start_time": "2021-12-28T19:55:37.466Z"
   },
   {
    "duration": 22,
    "start_time": "2021-12-28T19:55:37.491Z"
   },
   {
    "duration": 7,
    "start_time": "2021-12-28T19:55:37.515Z"
   },
   {
    "duration": 27,
    "start_time": "2021-12-28T19:55:37.526Z"
   },
   {
    "duration": 42,
    "start_time": "2021-12-28T19:55:37.556Z"
   },
   {
    "duration": 22,
    "start_time": "2021-12-28T19:55:37.600Z"
   },
   {
    "duration": 83,
    "start_time": "2021-12-28T19:55:37.625Z"
   },
   {
    "duration": 102,
    "start_time": "2021-12-28T19:55:37.709Z"
   },
   {
    "duration": 52,
    "start_time": "2021-12-28T19:55:37.813Z"
   },
   {
    "duration": 58,
    "start_time": "2021-12-28T19:55:37.867Z"
   },
   {
    "duration": 4,
    "start_time": "2021-12-28T19:55:37.927Z"
   },
   {
    "duration": 20,
    "start_time": "2021-12-28T19:55:37.933Z"
   },
   {
    "duration": 45,
    "start_time": "2021-12-28T19:55:37.955Z"
   },
   {
    "duration": 22,
    "start_time": "2021-12-28T19:55:38.002Z"
   },
   {
    "duration": 28,
    "start_time": "2021-12-28T19:55:38.026Z"
   },
   {
    "duration": 5,
    "start_time": "2021-12-28T19:55:38.056Z"
   },
   {
    "duration": 45,
    "start_time": "2021-12-28T19:55:38.064Z"
   },
   {
    "duration": 14,
    "start_time": "2021-12-28T19:55:38.111Z"
   },
   {
    "duration": 16,
    "start_time": "2021-12-28T19:55:38.129Z"
   },
   {
    "duration": 15,
    "start_time": "2021-12-28T19:55:38.147Z"
   },
   {
    "duration": 39,
    "start_time": "2021-12-28T19:55:38.164Z"
   },
   {
    "duration": 14,
    "start_time": "2021-12-28T19:55:38.205Z"
   },
   {
    "duration": 8,
    "start_time": "2021-12-28T19:55:38.221Z"
   },
   {
    "duration": 13,
    "start_time": "2021-12-28T19:55:38.230Z"
   },
   {
    "duration": 17,
    "start_time": "2021-12-28T19:55:38.245Z"
   },
   {
    "duration": 5,
    "start_time": "2021-12-28T19:55:38.291Z"
   },
   {
    "duration": 24,
    "start_time": "2021-12-28T19:55:38.298Z"
   },
   {
    "duration": 14,
    "start_time": "2021-12-28T19:55:38.324Z"
   },
   {
    "duration": 19,
    "start_time": "2021-12-28T19:55:38.340Z"
   },
   {
    "duration": 41,
    "start_time": "2021-12-28T19:55:38.361Z"
   },
   {
    "duration": 8,
    "start_time": "2021-12-28T19:55:38.404Z"
   },
   {
    "duration": 5,
    "start_time": "2021-12-28T19:55:38.414Z"
   },
   {
    "duration": 8,
    "start_time": "2021-12-28T19:55:38.421Z"
   },
   {
    "duration": 5,
    "start_time": "2021-12-28T19:55:38.431Z"
   },
   {
    "duration": 528,
    "start_time": "2021-12-29T15:59:05.943Z"
   },
   {
    "duration": 132,
    "start_time": "2021-12-29T15:59:06.473Z"
   },
   {
    "duration": 17,
    "start_time": "2021-12-29T15:59:06.607Z"
   },
   {
    "duration": 25,
    "start_time": "2021-12-29T15:59:06.625Z"
   },
   {
    "duration": 4,
    "start_time": "2021-12-29T15:59:06.651Z"
   },
   {
    "duration": 46,
    "start_time": "2021-12-29T15:59:06.656Z"
   },
   {
    "duration": 4,
    "start_time": "2021-12-29T15:59:06.703Z"
   },
   {
    "duration": 24,
    "start_time": "2021-12-29T15:59:06.708Z"
   },
   {
    "duration": 16,
    "start_time": "2021-12-29T15:59:06.735Z"
   },
   {
    "duration": 42,
    "start_time": "2021-12-29T15:59:06.753Z"
   },
   {
    "duration": 57,
    "start_time": "2021-12-29T15:59:06.796Z"
   },
   {
    "duration": 78,
    "start_time": "2021-12-29T15:59:06.855Z"
   },
   {
    "duration": 58,
    "start_time": "2021-12-29T15:59:06.935Z"
   },
   {
    "duration": 38,
    "start_time": "2021-12-29T15:59:06.994Z"
   },
   {
    "duration": 3,
    "start_time": "2021-12-29T15:59:07.033Z"
   },
   {
    "duration": 14,
    "start_time": "2021-12-29T15:59:07.038Z"
   },
   {
    "duration": 57,
    "start_time": "2021-12-29T15:59:07.054Z"
   },
   {
    "duration": 11,
    "start_time": "2021-12-29T15:59:07.113Z"
   },
   {
    "duration": 26,
    "start_time": "2021-12-29T15:59:07.126Z"
   },
   {
    "duration": 5,
    "start_time": "2021-12-29T15:59:07.153Z"
   },
   {
    "duration": 39,
    "start_time": "2021-12-29T15:59:07.159Z"
   },
   {
    "duration": 19,
    "start_time": "2021-12-29T15:59:07.200Z"
   },
   {
    "duration": 19,
    "start_time": "2021-12-29T15:59:07.221Z"
   },
   {
    "duration": 25,
    "start_time": "2021-12-29T15:59:07.241Z"
   },
   {
    "duration": 26,
    "start_time": "2021-12-29T15:59:07.268Z"
   },
   {
    "duration": 19,
    "start_time": "2021-12-29T15:59:07.296Z"
   },
   {
    "duration": 24,
    "start_time": "2021-12-29T15:59:07.318Z"
   },
   {
    "duration": 21,
    "start_time": "2021-12-29T15:59:07.344Z"
   },
   {
    "duration": 17,
    "start_time": "2021-12-29T15:59:07.367Z"
   },
   {
    "duration": 16,
    "start_time": "2021-12-29T15:59:07.386Z"
   },
   {
    "duration": 40,
    "start_time": "2021-12-29T15:59:07.404Z"
   },
   {
    "duration": 24,
    "start_time": "2021-12-29T15:59:07.446Z"
   },
   {
    "duration": 21,
    "start_time": "2021-12-29T15:59:07.471Z"
   },
   {
    "duration": 32,
    "start_time": "2021-12-29T15:59:07.494Z"
   },
   {
    "duration": 9,
    "start_time": "2021-12-29T15:59:07.528Z"
   },
   {
    "duration": 9,
    "start_time": "2021-12-29T15:59:07.538Z"
   },
   {
    "duration": 21,
    "start_time": "2021-12-29T15:59:07.549Z"
   },
   {
    "duration": 17,
    "start_time": "2021-12-29T15:59:07.571Z"
   },
   {
    "duration": 585,
    "start_time": "2021-12-29T18:15:45.091Z"
   },
   {
    "duration": 120,
    "start_time": "2021-12-29T18:15:45.678Z"
   },
   {
    "duration": 15,
    "start_time": "2021-12-29T18:15:45.800Z"
   },
   {
    "duration": 30,
    "start_time": "2021-12-29T18:15:45.817Z"
   },
   {
    "duration": 3,
    "start_time": "2021-12-29T18:15:45.849Z"
   },
   {
    "duration": 20,
    "start_time": "2021-12-29T18:15:45.854Z"
   },
   {
    "duration": 3,
    "start_time": "2021-12-29T18:15:45.875Z"
   },
   {
    "duration": 46,
    "start_time": "2021-12-29T18:15:45.881Z"
   },
   {
    "duration": 24,
    "start_time": "2021-12-29T18:15:45.930Z"
   },
   {
    "duration": 35,
    "start_time": "2021-12-29T18:15:45.956Z"
   },
   {
    "duration": 96,
    "start_time": "2021-12-29T18:15:45.993Z"
   },
   {
    "duration": 92,
    "start_time": "2021-12-29T18:15:46.091Z"
   },
   {
    "duration": 72,
    "start_time": "2021-12-29T18:15:46.185Z"
   },
   {
    "duration": 71,
    "start_time": "2021-12-29T18:15:46.259Z"
   },
   {
    "duration": 4,
    "start_time": "2021-12-29T18:15:46.332Z"
   },
   {
    "duration": 11,
    "start_time": "2021-12-29T18:15:46.337Z"
   },
   {
    "duration": 38,
    "start_time": "2021-12-29T18:15:46.350Z"
   },
   {
    "duration": 9,
    "start_time": "2021-12-29T18:15:46.390Z"
   },
   {
    "duration": 34,
    "start_time": "2021-12-29T18:15:46.401Z"
   },
   {
    "duration": 4,
    "start_time": "2021-12-29T18:15:46.436Z"
   },
   {
    "duration": 27,
    "start_time": "2021-12-29T18:15:46.441Z"
   },
   {
    "duration": 18,
    "start_time": "2021-12-29T18:15:46.470Z"
   },
   {
    "duration": 40,
    "start_time": "2021-12-29T18:15:46.492Z"
   },
   {
    "duration": 18,
    "start_time": "2021-12-29T18:15:46.534Z"
   },
   {
    "duration": 15,
    "start_time": "2021-12-29T18:15:46.554Z"
   },
   {
    "duration": 11,
    "start_time": "2021-12-29T18:15:46.570Z"
   },
   {
    "duration": 8,
    "start_time": "2021-12-29T18:15:46.582Z"
   },
   {
    "duration": 40,
    "start_time": "2021-12-29T18:15:46.591Z"
   },
   {
    "duration": 7,
    "start_time": "2021-12-29T18:15:46.633Z"
   },
   {
    "duration": 4,
    "start_time": "2021-12-29T18:15:46.642Z"
   },
   {
    "duration": 19,
    "start_time": "2021-12-29T18:15:46.647Z"
   },
   {
    "duration": 10,
    "start_time": "2021-12-29T18:15:46.668Z"
   },
   {
    "duration": 16,
    "start_time": "2021-12-29T18:15:46.679Z"
   },
   {
    "duration": 41,
    "start_time": "2021-12-29T18:15:46.696Z"
   },
   {
    "duration": 8,
    "start_time": "2021-12-29T18:15:46.739Z"
   },
   {
    "duration": 5,
    "start_time": "2021-12-29T18:15:46.748Z"
   },
   {
    "duration": 7,
    "start_time": "2021-12-29T18:15:46.754Z"
   },
   {
    "duration": 5,
    "start_time": "2021-12-29T18:15:46.763Z"
   },
   {
    "duration": 6,
    "start_time": "2021-12-30T14:49:17.514Z"
   },
   {
    "duration": 542,
    "start_time": "2021-12-30T14:49:26.750Z"
   },
   {
    "duration": 117,
    "start_time": "2021-12-30T14:49:27.294Z"
   },
   {
    "duration": 20,
    "start_time": "2021-12-30T14:49:27.413Z"
   },
   {
    "duration": 20,
    "start_time": "2021-12-30T14:49:27.436Z"
   },
   {
    "duration": 3,
    "start_time": "2021-12-30T14:49:27.458Z"
   },
   {
    "duration": 18,
    "start_time": "2021-12-30T14:49:27.462Z"
   },
   {
    "duration": 3,
    "start_time": "2021-12-30T14:49:27.481Z"
   },
   {
    "duration": 18,
    "start_time": "2021-12-30T14:49:27.487Z"
   },
   {
    "duration": 17,
    "start_time": "2021-12-30T14:49:27.527Z"
   },
   {
    "duration": 22,
    "start_time": "2021-12-30T14:49:27.546Z"
   },
   {
    "duration": 63,
    "start_time": "2021-12-30T14:49:27.569Z"
   },
   {
    "duration": 60,
    "start_time": "2021-12-30T14:49:27.634Z"
   },
   {
    "duration": 51,
    "start_time": "2021-12-30T14:49:27.695Z"
   },
   {
    "duration": 33,
    "start_time": "2021-12-30T14:49:27.747Z"
   },
   {
    "duration": 2,
    "start_time": "2021-12-30T14:49:27.782Z"
   },
   {
    "duration": 12,
    "start_time": "2021-12-30T14:49:27.785Z"
   },
   {
    "duration": 46,
    "start_time": "2021-12-30T14:49:27.798Z"
   },
   {
    "duration": 9,
    "start_time": "2021-12-30T14:49:27.845Z"
   },
   {
    "duration": 9,
    "start_time": "2021-12-30T14:49:27.855Z"
   },
   {
    "duration": 3,
    "start_time": "2021-12-30T14:49:27.865Z"
   },
   {
    "duration": 19,
    "start_time": "2021-12-30T14:49:27.869Z"
   },
   {
    "duration": 10,
    "start_time": "2021-12-30T14:49:27.889Z"
   },
   {
    "duration": 35,
    "start_time": "2021-12-30T14:49:27.902Z"
   },
   {
    "duration": 10,
    "start_time": "2021-12-30T14:49:27.938Z"
   },
   {
    "duration": 12,
    "start_time": "2021-12-30T14:49:27.949Z"
   },
   {
    "duration": 10,
    "start_time": "2021-12-30T14:49:27.962Z"
   },
   {
    "duration": 7,
    "start_time": "2021-12-30T14:49:27.973Z"
   },
   {
    "duration": 11,
    "start_time": "2021-12-30T14:49:27.981Z"
   },
   {
    "duration": 35,
    "start_time": "2021-12-30T14:49:27.993Z"
   },
   {
    "duration": 3,
    "start_time": "2021-12-30T14:49:28.030Z"
   },
   {
    "duration": 18,
    "start_time": "2021-12-30T14:49:28.034Z"
   },
   {
    "duration": 9,
    "start_time": "2021-12-30T14:49:28.054Z"
   },
   {
    "duration": 13,
    "start_time": "2021-12-30T14:49:28.065Z"
   },
   {
    "duration": 9,
    "start_time": "2021-12-30T14:49:28.080Z"
   },
   {
    "duration": 6,
    "start_time": "2021-12-30T14:49:28.091Z"
   },
   {
    "duration": 30,
    "start_time": "2021-12-30T14:49:28.098Z"
   },
   {
    "duration": 8,
    "start_time": "2021-12-30T14:49:28.129Z"
   },
   {
    "duration": 5,
    "start_time": "2021-12-30T14:49:28.138Z"
   },
   {
    "duration": 8,
    "start_time": "2021-12-30T14:49:28.144Z"
   }
  ],
  "colab": {
   "collapsed_sections": [
    "E0vqbgi9ay0H",
    "VUC88oWjTJw2"
   ],
   "name": "yandex_music_project_2021.2.ipynb",
   "provenance": []
  },
  "kernelspec": {
   "display_name": "Python 3 (ipykernel)",
   "language": "python",
   "name": "python3"
  },
  "language_info": {
   "codemirror_mode": {
    "name": "ipython",
    "version": 3
   },
   "file_extension": ".py",
   "mimetype": "text/x-python",
   "name": "python",
   "nbconvert_exporter": "python",
   "pygments_lexer": "ipython3",
   "version": "3.9.7"
  },
  "toc": {
   "base_numbering": 1,
   "nav_menu": {},
   "number_sections": true,
   "sideBar": true,
   "skip_h1_title": true,
   "title_cell": "Table of Contents",
   "title_sidebar": "Contents",
   "toc_cell": false,
   "toc_position": {
    "height": "calc(100% - 180px)",
    "left": "10px",
    "top": "150px",
    "width": "483.594px"
   },
   "toc_section_display": true,
   "toc_window_display": true
  }
 },
 "nbformat": 4,
 "nbformat_minor": 1
}
