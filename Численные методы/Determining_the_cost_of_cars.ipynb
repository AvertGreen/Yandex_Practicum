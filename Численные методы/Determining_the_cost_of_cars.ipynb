{
 "cells": [
  {
   "cell_type": "markdown",
   "metadata": {},
   "source": [
    "# Определение стоимости автомобилей"
   ]
  },
  {
   "cell_type": "markdown",
   "metadata": {},
   "source": [
    "<h1>Содержание<span class=\"tocSkip\"></span></h1>\n",
    "<div class=\"toc\"><ul class=\"toc-item\"><li><span><a href=\"#Подготовка данных\" data-toc-modified-id=\"Подготовка данных-1\"><span class=\"toc-item-num\">1&nbsp;&nbsp;</span>Подготовка данных</a></span></li><li><span><a href=\"#Обучение моделей\" data-toc-modified-id=\"Обучение моделей\"><span class=\"toc-item-num\">2&nbsp;&nbsp;</span>Обучение моделей</a></span></li><li><span><a href=\"#Анализ моделей\" data-toc-modified-id=\"Анализ моделей\"><span class=\"toc-item-num\">3&nbsp;&nbsp;</span>Анализ моделей</a></span></li></ul></div>"
   ]
  },
  {
   "cell_type": "markdown",
   "metadata": {},
   "source": [
    "Сервис по продаже автомобилей с пробегом «Не бит, не крашен» разрабатывает приложение для привлечения новых клиентов. В нём можно быстро узнать рыночную стоимость своего автомобиля. В вашем распоряжении исторические данные: технические характеристики, комплектации и цены автомобилей. Вам нужно построить модель для определения стоимости. \n",
    "\n",
    "Заказчику важны:\n",
    "\n",
    "- качество предсказания;\n",
    "- скорость предсказания;\n",
    "- время обучения."
   ]
  },
  {
   "cell_type": "markdown",
   "metadata": {},
   "source": [
    "## Подготовка данных"
   ]
  },
  {
   "cell_type": "code",
   "execution_count": 1,
   "metadata": {},
   "outputs": [],
   "source": [
    "# загрузим необходимые бибилиотеки\n",
    "import pandas as pd\n",
    "import numpy as np\n",
    "import matplotlib.pyplot as plt\n",
    "import seaborn as sns\n",
    "from sklearn.linear_model import LinearRegression\n",
    "from sklearn.model_selection import train_test_split\n",
    "from sklearn.preprocessing import StandardScaler\n",
    "from sklearn.preprocessing import OneHotEncoder\n",
    "from sklearn.model_selection import GridSearchCV\n",
    "from sklearn.metrics import mean_squared_error as MSE\n",
    "from sklearn.metrics import make_scorer\n",
    "from catboost import CatBoostRegressor\n",
    "import lightgbm as lgb\n",
    "from sklearn.model_selection import cross_val_score\n",
    "import warnings\n",
    "warnings.filterwarnings('ignore')"
   ]
  },
  {
   "cell_type": "code",
   "execution_count": 2,
   "metadata": {},
   "outputs": [
    {
     "data": {
      "text/html": [
       "<div>\n",
       "<style scoped>\n",
       "    .dataframe tbody tr th:only-of-type {\n",
       "        vertical-align: middle;\n",
       "    }\n",
       "\n",
       "    .dataframe tbody tr th {\n",
       "        vertical-align: top;\n",
       "    }\n",
       "\n",
       "    .dataframe thead th {\n",
       "        text-align: right;\n",
       "    }\n",
       "</style>\n",
       "<table border=\"1\" class=\"dataframe\">\n",
       "  <thead>\n",
       "    <tr style=\"text-align: right;\">\n",
       "      <th></th>\n",
       "      <th>DateCrawled</th>\n",
       "      <th>Price</th>\n",
       "      <th>VehicleType</th>\n",
       "      <th>RegistrationYear</th>\n",
       "      <th>Gearbox</th>\n",
       "      <th>Power</th>\n",
       "      <th>Model</th>\n",
       "      <th>Kilometer</th>\n",
       "      <th>RegistrationMonth</th>\n",
       "      <th>FuelType</th>\n",
       "      <th>Brand</th>\n",
       "      <th>Repaired</th>\n",
       "      <th>DateCreated</th>\n",
       "      <th>NumberOfPictures</th>\n",
       "      <th>PostalCode</th>\n",
       "      <th>LastSeen</th>\n",
       "    </tr>\n",
       "  </thead>\n",
       "  <tbody>\n",
       "    <tr>\n",
       "      <th>0</th>\n",
       "      <td>2016-03-24 11:52:17</td>\n",
       "      <td>480</td>\n",
       "      <td>NaN</td>\n",
       "      <td>1993</td>\n",
       "      <td>manual</td>\n",
       "      <td>0</td>\n",
       "      <td>golf</td>\n",
       "      <td>150000</td>\n",
       "      <td>0</td>\n",
       "      <td>petrol</td>\n",
       "      <td>volkswagen</td>\n",
       "      <td>NaN</td>\n",
       "      <td>2016-03-24 00:00:00</td>\n",
       "      <td>0</td>\n",
       "      <td>70435</td>\n",
       "      <td>2016-04-07 03:16:57</td>\n",
       "    </tr>\n",
       "    <tr>\n",
       "      <th>1</th>\n",
       "      <td>2016-03-24 10:58:45</td>\n",
       "      <td>18300</td>\n",
       "      <td>coupe</td>\n",
       "      <td>2011</td>\n",
       "      <td>manual</td>\n",
       "      <td>190</td>\n",
       "      <td>NaN</td>\n",
       "      <td>125000</td>\n",
       "      <td>5</td>\n",
       "      <td>gasoline</td>\n",
       "      <td>audi</td>\n",
       "      <td>yes</td>\n",
       "      <td>2016-03-24 00:00:00</td>\n",
       "      <td>0</td>\n",
       "      <td>66954</td>\n",
       "      <td>2016-04-07 01:46:50</td>\n",
       "    </tr>\n",
       "    <tr>\n",
       "      <th>2</th>\n",
       "      <td>2016-03-14 12:52:21</td>\n",
       "      <td>9800</td>\n",
       "      <td>suv</td>\n",
       "      <td>2004</td>\n",
       "      <td>auto</td>\n",
       "      <td>163</td>\n",
       "      <td>grand</td>\n",
       "      <td>125000</td>\n",
       "      <td>8</td>\n",
       "      <td>gasoline</td>\n",
       "      <td>jeep</td>\n",
       "      <td>NaN</td>\n",
       "      <td>2016-03-14 00:00:00</td>\n",
       "      <td>0</td>\n",
       "      <td>90480</td>\n",
       "      <td>2016-04-05 12:47:46</td>\n",
       "    </tr>\n",
       "    <tr>\n",
       "      <th>3</th>\n",
       "      <td>2016-03-17 16:54:04</td>\n",
       "      <td>1500</td>\n",
       "      <td>small</td>\n",
       "      <td>2001</td>\n",
       "      <td>manual</td>\n",
       "      <td>75</td>\n",
       "      <td>golf</td>\n",
       "      <td>150000</td>\n",
       "      <td>6</td>\n",
       "      <td>petrol</td>\n",
       "      <td>volkswagen</td>\n",
       "      <td>no</td>\n",
       "      <td>2016-03-17 00:00:00</td>\n",
       "      <td>0</td>\n",
       "      <td>91074</td>\n",
       "      <td>2016-03-17 17:40:17</td>\n",
       "    </tr>\n",
       "    <tr>\n",
       "      <th>4</th>\n",
       "      <td>2016-03-31 17:25:20</td>\n",
       "      <td>3600</td>\n",
       "      <td>small</td>\n",
       "      <td>2008</td>\n",
       "      <td>manual</td>\n",
       "      <td>69</td>\n",
       "      <td>fabia</td>\n",
       "      <td>90000</td>\n",
       "      <td>7</td>\n",
       "      <td>gasoline</td>\n",
       "      <td>skoda</td>\n",
       "      <td>no</td>\n",
       "      <td>2016-03-31 00:00:00</td>\n",
       "      <td>0</td>\n",
       "      <td>60437</td>\n",
       "      <td>2016-04-06 10:17:21</td>\n",
       "    </tr>\n",
       "    <tr>\n",
       "      <th>...</th>\n",
       "      <td>...</td>\n",
       "      <td>...</td>\n",
       "      <td>...</td>\n",
       "      <td>...</td>\n",
       "      <td>...</td>\n",
       "      <td>...</td>\n",
       "      <td>...</td>\n",
       "      <td>...</td>\n",
       "      <td>...</td>\n",
       "      <td>...</td>\n",
       "      <td>...</td>\n",
       "      <td>...</td>\n",
       "      <td>...</td>\n",
       "      <td>...</td>\n",
       "      <td>...</td>\n",
       "      <td>...</td>\n",
       "    </tr>\n",
       "    <tr>\n",
       "      <th>354364</th>\n",
       "      <td>2016-03-21 09:50:58</td>\n",
       "      <td>0</td>\n",
       "      <td>NaN</td>\n",
       "      <td>2005</td>\n",
       "      <td>manual</td>\n",
       "      <td>0</td>\n",
       "      <td>colt</td>\n",
       "      <td>150000</td>\n",
       "      <td>7</td>\n",
       "      <td>petrol</td>\n",
       "      <td>mitsubishi</td>\n",
       "      <td>yes</td>\n",
       "      <td>2016-03-21 00:00:00</td>\n",
       "      <td>0</td>\n",
       "      <td>2694</td>\n",
       "      <td>2016-03-21 10:42:49</td>\n",
       "    </tr>\n",
       "    <tr>\n",
       "      <th>354365</th>\n",
       "      <td>2016-03-14 17:48:27</td>\n",
       "      <td>2200</td>\n",
       "      <td>NaN</td>\n",
       "      <td>2005</td>\n",
       "      <td>NaN</td>\n",
       "      <td>0</td>\n",
       "      <td>NaN</td>\n",
       "      <td>20000</td>\n",
       "      <td>1</td>\n",
       "      <td>NaN</td>\n",
       "      <td>sonstige_autos</td>\n",
       "      <td>NaN</td>\n",
       "      <td>2016-03-14 00:00:00</td>\n",
       "      <td>0</td>\n",
       "      <td>39576</td>\n",
       "      <td>2016-04-06 00:46:52</td>\n",
       "    </tr>\n",
       "    <tr>\n",
       "      <th>354366</th>\n",
       "      <td>2016-03-05 19:56:21</td>\n",
       "      <td>1199</td>\n",
       "      <td>convertible</td>\n",
       "      <td>2000</td>\n",
       "      <td>auto</td>\n",
       "      <td>101</td>\n",
       "      <td>fortwo</td>\n",
       "      <td>125000</td>\n",
       "      <td>3</td>\n",
       "      <td>petrol</td>\n",
       "      <td>smart</td>\n",
       "      <td>no</td>\n",
       "      <td>2016-03-05 00:00:00</td>\n",
       "      <td>0</td>\n",
       "      <td>26135</td>\n",
       "      <td>2016-03-11 18:17:12</td>\n",
       "    </tr>\n",
       "    <tr>\n",
       "      <th>354367</th>\n",
       "      <td>2016-03-19 18:57:12</td>\n",
       "      <td>9200</td>\n",
       "      <td>bus</td>\n",
       "      <td>1996</td>\n",
       "      <td>manual</td>\n",
       "      <td>102</td>\n",
       "      <td>transporter</td>\n",
       "      <td>150000</td>\n",
       "      <td>3</td>\n",
       "      <td>gasoline</td>\n",
       "      <td>volkswagen</td>\n",
       "      <td>no</td>\n",
       "      <td>2016-03-19 00:00:00</td>\n",
       "      <td>0</td>\n",
       "      <td>87439</td>\n",
       "      <td>2016-04-07 07:15:26</td>\n",
       "    </tr>\n",
       "    <tr>\n",
       "      <th>354368</th>\n",
       "      <td>2016-03-20 19:41:08</td>\n",
       "      <td>3400</td>\n",
       "      <td>wagon</td>\n",
       "      <td>2002</td>\n",
       "      <td>manual</td>\n",
       "      <td>100</td>\n",
       "      <td>golf</td>\n",
       "      <td>150000</td>\n",
       "      <td>6</td>\n",
       "      <td>gasoline</td>\n",
       "      <td>volkswagen</td>\n",
       "      <td>NaN</td>\n",
       "      <td>2016-03-20 00:00:00</td>\n",
       "      <td>0</td>\n",
       "      <td>40764</td>\n",
       "      <td>2016-03-24 12:45:21</td>\n",
       "    </tr>\n",
       "  </tbody>\n",
       "</table>\n",
       "<p>354369 rows × 16 columns</p>\n",
       "</div>"
      ],
      "text/plain": [
       "                DateCrawled  Price  VehicleType  RegistrationYear Gearbox  \\\n",
       "0       2016-03-24 11:52:17    480          NaN              1993  manual   \n",
       "1       2016-03-24 10:58:45  18300        coupe              2011  manual   \n",
       "2       2016-03-14 12:52:21   9800          suv              2004    auto   \n",
       "3       2016-03-17 16:54:04   1500        small              2001  manual   \n",
       "4       2016-03-31 17:25:20   3600        small              2008  manual   \n",
       "...                     ...    ...          ...               ...     ...   \n",
       "354364  2016-03-21 09:50:58      0          NaN              2005  manual   \n",
       "354365  2016-03-14 17:48:27   2200          NaN              2005     NaN   \n",
       "354366  2016-03-05 19:56:21   1199  convertible              2000    auto   \n",
       "354367  2016-03-19 18:57:12   9200          bus              1996  manual   \n",
       "354368  2016-03-20 19:41:08   3400        wagon              2002  manual   \n",
       "\n",
       "        Power        Model  Kilometer  RegistrationMonth  FuelType  \\\n",
       "0           0         golf     150000                  0    petrol   \n",
       "1         190          NaN     125000                  5  gasoline   \n",
       "2         163        grand     125000                  8  gasoline   \n",
       "3          75         golf     150000                  6    petrol   \n",
       "4          69        fabia      90000                  7  gasoline   \n",
       "...       ...          ...        ...                ...       ...   \n",
       "354364      0         colt     150000                  7    petrol   \n",
       "354365      0          NaN      20000                  1       NaN   \n",
       "354366    101       fortwo     125000                  3    petrol   \n",
       "354367    102  transporter     150000                  3  gasoline   \n",
       "354368    100         golf     150000                  6  gasoline   \n",
       "\n",
       "                 Brand Repaired          DateCreated  NumberOfPictures  \\\n",
       "0           volkswagen      NaN  2016-03-24 00:00:00                 0   \n",
       "1                 audi      yes  2016-03-24 00:00:00                 0   \n",
       "2                 jeep      NaN  2016-03-14 00:00:00                 0   \n",
       "3           volkswagen       no  2016-03-17 00:00:00                 0   \n",
       "4                skoda       no  2016-03-31 00:00:00                 0   \n",
       "...                ...      ...                  ...               ...   \n",
       "354364      mitsubishi      yes  2016-03-21 00:00:00                 0   \n",
       "354365  sonstige_autos      NaN  2016-03-14 00:00:00                 0   \n",
       "354366           smart       no  2016-03-05 00:00:00                 0   \n",
       "354367      volkswagen       no  2016-03-19 00:00:00                 0   \n",
       "354368      volkswagen      NaN  2016-03-20 00:00:00                 0   \n",
       "\n",
       "        PostalCode             LastSeen  \n",
       "0            70435  2016-04-07 03:16:57  \n",
       "1            66954  2016-04-07 01:46:50  \n",
       "2            90480  2016-04-05 12:47:46  \n",
       "3            91074  2016-03-17 17:40:17  \n",
       "4            60437  2016-04-06 10:17:21  \n",
       "...            ...                  ...  \n",
       "354364        2694  2016-03-21 10:42:49  \n",
       "354365       39576  2016-04-06 00:46:52  \n",
       "354366       26135  2016-03-11 18:17:12  \n",
       "354367       87439  2016-04-07 07:15:26  \n",
       "354368       40764  2016-03-24 12:45:21  \n",
       "\n",
       "[354369 rows x 16 columns]"
      ]
     },
     "metadata": {},
     "output_type": "display_data"
    },
    {
     "name": "stdout",
     "output_type": "stream",
     "text": [
      "<class 'pandas.core.frame.DataFrame'>\n",
      "RangeIndex: 354369 entries, 0 to 354368\n",
      "Data columns (total 16 columns):\n",
      " #   Column             Non-Null Count   Dtype \n",
      "---  ------             --------------   ----- \n",
      " 0   DateCrawled        354369 non-null  object\n",
      " 1   Price              354369 non-null  int64 \n",
      " 2   VehicleType        316879 non-null  object\n",
      " 3   RegistrationYear   354369 non-null  int64 \n",
      " 4   Gearbox            334536 non-null  object\n",
      " 5   Power              354369 non-null  int64 \n",
      " 6   Model              334664 non-null  object\n",
      " 7   Kilometer          354369 non-null  int64 \n",
      " 8   RegistrationMonth  354369 non-null  int64 \n",
      " 9   FuelType           321474 non-null  object\n",
      " 10  Brand              354369 non-null  object\n",
      " 11  Repaired           283215 non-null  object\n",
      " 12  DateCreated        354369 non-null  object\n",
      " 13  NumberOfPictures   354369 non-null  int64 \n",
      " 14  PostalCode         354369 non-null  int64 \n",
      " 15  LastSeen           354369 non-null  object\n",
      "dtypes: int64(7), object(9)\n",
      "memory usage: 43.3+ MB\n"
     ]
    }
   ],
   "source": [
    "# загрузим данные\n",
    "try:\n",
    "    df = pd.read_csv('/datasets/autos.csv')\n",
    "except:\n",
    "    df = pd.read_csv('/Users/alex/Desktop/Яндекс_Практикум/Проекты/Численные_методы/autos.csv')\n",
    "\n",
    "display(df)\n",
    "df.info()"
   ]
  },
  {
   "cell_type": "markdown",
   "metadata": {},
   "source": [
    "Признаки  \n",
    "\n",
    "* `DateCrawled` — дата скачивания анкеты из базы\n",
    "* `VehicleType` — тип автомобильного кузова\n",
    "* `RegistrationYear` — год регистрации автомобиля\n",
    "* `Gearbox` — тип коробки передач\n",
    "* `Power` — мощность (л. с.)\n",
    "* `Model` — модель автомобиля\n",
    "* `Kilometer` — пробег (км)\n",
    "* `RegistrationMonth` — месяц регистрации автомобиля\n",
    "* `FuelType` — тип топлива\n",
    "* `Brand` — марка автомобиля\n",
    "* `NotRepaired` — была машина в ремонте или нет\n",
    "* `DateCreated` — дата создания анкеты\n",
    "* `NumberOfPictures` — количество фотографий автомобиля\n",
    "* `PostalCode` — почтовый индекс владельца анкеты (пользователя)\n",
    "* `LastSeen` — дата последней активности пользователя  \n",
    "\n",
    "Целевой признак\n",
    "* `Price` — цена (евро)"
   ]
  },
  {
   "cell_type": "code",
   "execution_count": 3,
   "metadata": {},
   "outputs": [
    {
     "data": {
      "text/html": [
       "<div>\n",
       "<style scoped>\n",
       "    .dataframe tbody tr th:only-of-type {\n",
       "        vertical-align: middle;\n",
       "    }\n",
       "\n",
       "    .dataframe tbody tr th {\n",
       "        vertical-align: top;\n",
       "    }\n",
       "\n",
       "    .dataframe thead th {\n",
       "        text-align: right;\n",
       "    }\n",
       "</style>\n",
       "<table border=\"1\" class=\"dataframe\">\n",
       "  <thead>\n",
       "    <tr style=\"text-align: right;\">\n",
       "      <th></th>\n",
       "      <th>date_crawled</th>\n",
       "      <th>price</th>\n",
       "      <th>vehicle_type</th>\n",
       "      <th>registration_year</th>\n",
       "      <th>gearbox</th>\n",
       "      <th>power</th>\n",
       "      <th>model</th>\n",
       "      <th>kilometer</th>\n",
       "      <th>registration_month</th>\n",
       "      <th>fuel_type</th>\n",
       "      <th>brand</th>\n",
       "      <th>not_repaired</th>\n",
       "      <th>date_created</th>\n",
       "      <th>number_of_pictures</th>\n",
       "      <th>postal_code</th>\n",
       "      <th>last_seen</th>\n",
       "    </tr>\n",
       "  </thead>\n",
       "  <tbody>\n",
       "    <tr>\n",
       "      <th>263699</th>\n",
       "      <td>2016-03-16 20:53:38</td>\n",
       "      <td>175</td>\n",
       "      <td>small</td>\n",
       "      <td>1998</td>\n",
       "      <td>manual</td>\n",
       "      <td>0</td>\n",
       "      <td>polo</td>\n",
       "      <td>150000</td>\n",
       "      <td>0</td>\n",
       "      <td>petrol</td>\n",
       "      <td>volkswagen</td>\n",
       "      <td>no</td>\n",
       "      <td>2016-03-16 00:00:00</td>\n",
       "      <td>0</td>\n",
       "      <td>48683</td>\n",
       "      <td>2016-03-30 17:16:32</td>\n",
       "    </tr>\n",
       "  </tbody>\n",
       "</table>\n",
       "</div>"
      ],
      "text/plain": [
       "               date_crawled  price vehicle_type  registration_year gearbox  \\\n",
       "263699  2016-03-16 20:53:38    175        small               1998  manual   \n",
       "\n",
       "        power model  kilometer  registration_month fuel_type       brand  \\\n",
       "263699      0  polo     150000                   0    petrol  volkswagen   \n",
       "\n",
       "       not_repaired         date_created  number_of_pictures  postal_code  \\\n",
       "263699           no  2016-03-16 00:00:00                   0        48683   \n",
       "\n",
       "                  last_seen  \n",
       "263699  2016-03-30 17:16:32  "
      ]
     },
     "execution_count": 3,
     "metadata": {},
     "output_type": "execute_result"
    }
   ],
   "source": [
    "# переименуем столбцы\n",
    "df.columns = df.columns.str.lower()\n",
    "df.columns = [ 'date_crawled' , 'price' , 'vehicle_type' , 'registration_year' , 'gearbox' ,\n",
    "               'power' , 'model' , 'kilometer' , 'registration_month' , 'fuel_type' , 'brand' ,\n",
    "               'not_repaired' , 'date_created' , 'number_of_pictures' , 'postal_code' ,\n",
    "               'last_seen' ]\n",
    "df.sample()"
   ]
  },
  {
   "cell_type": "code",
   "execution_count": 4,
   "metadata": {
    "scrolled": false
   },
   "outputs": [
    {
     "data": {
      "image/png": "[encoded data removed]",
      "text/plain": [
       "<Figure size 432x288 with 2 Axes>"
      ]
     },
     "metadata": {
      "needs_background": "light"
     },
     "output_type": "display_data"
    },
    {
     "name": "stdout",
     "output_type": "stream",
     "text": [
      "date_crawled - 0.0%\n",
      "price - 0.0%\n",
      "vehicle_type - 10.58%\n",
      "registration_year - 0.0%\n",
      "gearbox - 5.6%\n",
      "power - 0.0%\n",
      "model - 5.56%\n",
      "kilometer - 0.0%\n",
      "registration_month - 0.0%\n",
      "fuel_type - 9.28%\n",
      "brand - 0.0%\n",
      "not_repaired - 20.08%\n",
      "date_created - 0.0%\n",
      "number_of_pictures - 0.0%\n",
      "postal_code - 0.0%\n",
      "last_seen - 0.0%\n"
     ]
    }
   ],
   "source": [
    "# тепловая карта пропущенных значений\n",
    "# пропущенные значения в процентах\n",
    "sns.heatmap(df.isnull())\n",
    "plt.show()\n",
    "\n",
    "for cl in df.columns:\n",
    "    pctm = np.mean(df[cl].isnull())\n",
    "    print('{} - {}%'.format(cl, round((pctm*100), 2)))"
   ]
  },
  {
   "cell_type": "code",
   "execution_count": 5,
   "metadata": {},
   "outputs": [
    {
     "data": {
      "text/plain": [
       "2016"
      ]
     },
     "execution_count": 5,
     "metadata": {},
     "output_type": "execute_result"
    }
   ],
   "source": [
    "# самый свежий год скачивания анкет\n",
    "pd.to_datetime(df['date_crawled']).dt.year.max()"
   ]
  },
  {
   "cell_type": "code",
   "execution_count": 6,
   "metadata": {},
   "outputs": [
    {
     "data": {
      "text/plain": [
       "date_crawled          271174\n",
       "price                   3731\n",
       "vehicle_type               8\n",
       "registration_year        151\n",
       "gearbox                    2\n",
       "power                    712\n",
       "model                    250\n",
       "kilometer                 13\n",
       "registration_month        13\n",
       "fuel_type                  7\n",
       "brand                     40\n",
       "not_repaired               2\n",
       "date_created             109\n",
       "number_of_pictures         1\n",
       "postal_code             8143\n",
       "last_seen             179150\n",
       "dtype: int64"
      ]
     },
     "execution_count": 6,
     "metadata": {},
     "output_type": "execute_result"
    }
   ],
   "source": [
    "# количество уникальных значения в столбцах\n",
    "df.nunique()"
   ]
  },
  {
   "cell_type": "code",
   "execution_count": 7,
   "metadata": {},
   "outputs": [
    {
     "data": {
      "text/plain": [
       "array([nan, 'coupe', 'suv', 'small', 'sedan', 'convertible', 'bus',\n",
       "       'wagon', 'other'], dtype=object)"
      ]
     },
     "metadata": {},
     "output_type": "display_data"
    },
    {
     "data": {
      "text/plain": [
       "array(['manual', 'auto', nan], dtype=object)"
      ]
     },
     "metadata": {},
     "output_type": "display_data"
    },
    {
     "data": {
      "text/plain": [
       "array([150000, 125000,  90000,  40000,  30000,  70000,   5000, 100000,\n",
       "        60000,  20000,  80000,  50000,  10000])"
      ]
     },
     "metadata": {},
     "output_type": "display_data"
    },
    {
     "data": {
      "text/plain": [
       "array([ 0,  5,  8,  6,  7, 10, 12, 11,  2,  3,  1,  4,  9])"
      ]
     },
     "metadata": {},
     "output_type": "display_data"
    },
    {
     "data": {
      "text/plain": [
       "array(['petrol', 'gasoline', nan, 'lpg', 'other', 'hybrid', 'cng',\n",
       "       'electric'], dtype=object)"
      ]
     },
     "metadata": {},
     "output_type": "display_data"
    },
    {
     "data": {
      "text/plain": [
       "array([nan, 'yes', 'no'], dtype=object)"
      ]
     },
     "execution_count": 7,
     "metadata": {},
     "output_type": "execute_result"
    }
   ],
   "source": [
    "# уникальные значения\n",
    "display(df['vehicle_type'].unique())\n",
    "display(df['gearbox'].unique())\n",
    "display(df['kilometer'].unique())\n",
    "display(df['registration_month'].unique())\n",
    "display(df['fuel_type'].unique())\n",
    "df['not_repaired'].unique()"
   ]
  },
  {
   "cell_type": "code",
   "execution_count": 8,
   "metadata": {},
   "outputs": [
    {
     "data": {
      "text/plain": [
       "date_crawled          0\n",
       "price                 0\n",
       "vehicle_type          0\n",
       "registration_year     0\n",
       "gearbox               0\n",
       "power                 0\n",
       "model                 0\n",
       "kilometer             0\n",
       "registration_month    0\n",
       "fuel_type             0\n",
       "brand                 0\n",
       "not_repaired          0\n",
       "date_created          0\n",
       "number_of_pictures    0\n",
       "postal_code           0\n",
       "last_seen             0\n",
       "dtype: int64"
      ]
     },
     "metadata": {},
     "output_type": "display_data"
    },
    {
     "data": {
      "text/plain": [
       "0"
      ]
     },
     "execution_count": 8,
     "metadata": {},
     "output_type": "execute_result"
    }
   ],
   "source": [
    "# заменим пропуски, удалим дубликаты, месяц 0 заменим на месяц 1, столбец с пробегом изменим на категориальный\n",
    "df['vehicle_type'] = df['vehicle_type'].fillna('other')\n",
    "df['fuel_type'] = df['fuel_type'].fillna('other')\n",
    "df = df.fillna('unknown')\n",
    "df.registration_month = df.registration_month.replace(0, 1, inplace=False)\n",
    "df['kilometer'] = df['kilometer'].astype('object')\n",
    "display(df.isnull().sum())\n",
    "df.drop_duplicates(inplace=True)\n",
    "df.duplicated().sum()"
   ]
  },
  {
   "cell_type": "markdown",
   "metadata": {},
   "source": [
    "Удалим столбцы с датой скачивания анкеты из базы, датой создания анкеты, количеством фотографий автомобиля, почтовым индекс владельца анкеты (пользователя), датой последней активности пользователя, месяцем регистрации, т.к. не несут полезной информации для дальнейшего исследования и построения моделей."
   ]
  },
  {
   "cell_type": "code",
   "execution_count": 9,
   "metadata": {},
   "outputs": [
    {
     "data": {
      "text/html": [
       "<div>\n",
       "<style scoped>\n",
       "    .dataframe tbody tr th:only-of-type {\n",
       "        vertical-align: middle;\n",
       "    }\n",
       "\n",
       "    .dataframe tbody tr th {\n",
       "        vertical-align: top;\n",
       "    }\n",
       "\n",
       "    .dataframe thead th {\n",
       "        text-align: right;\n",
       "    }\n",
       "</style>\n",
       "<table border=\"1\" class=\"dataframe\">\n",
       "  <thead>\n",
       "    <tr style=\"text-align: right;\">\n",
       "      <th></th>\n",
       "      <th>price</th>\n",
       "      <th>vehicle_type</th>\n",
       "      <th>registration_year</th>\n",
       "      <th>gearbox</th>\n",
       "      <th>power</th>\n",
       "      <th>model</th>\n",
       "      <th>kilometer</th>\n",
       "      <th>fuel_type</th>\n",
       "      <th>brand</th>\n",
       "      <th>not_repaired</th>\n",
       "    </tr>\n",
       "  </thead>\n",
       "  <tbody>\n",
       "    <tr>\n",
       "      <th>239975</th>\n",
       "      <td>699</td>\n",
       "      <td>wagon</td>\n",
       "      <td>1995</td>\n",
       "      <td>manual</td>\n",
       "      <td>150</td>\n",
       "      <td>5er</td>\n",
       "      <td>150000</td>\n",
       "      <td>petrol</td>\n",
       "      <td>bmw</td>\n",
       "      <td>unknown</td>\n",
       "    </tr>\n",
       "  </tbody>\n",
       "</table>\n",
       "</div>"
      ],
      "text/plain": [
       "        price vehicle_type  registration_year gearbox  power model kilometer  \\\n",
       "239975    699        wagon               1995  manual    150   5er    150000   \n",
       "\n",
       "       fuel_type brand not_repaired  \n",
       "239975    petrol   bmw      unknown  "
      ]
     },
     "execution_count": 9,
     "metadata": {},
     "output_type": "execute_result"
    }
   ],
   "source": [
    "# удалим ненужные в дальнейшем исследовании столбцы\n",
    "df = df.drop(['date_crawled', 'registration_month', 'date_created',\n",
    "              'number_of_pictures', 'postal_code', 'last_seen'], axis = 1)\n",
    "df.sample()"
   ]
  },
  {
   "cell_type": "code",
   "execution_count": 10,
   "metadata": {},
   "outputs": [
    {
     "data": {
      "image/png": "[encoded data removed]",
      "text/plain": [
       "<Figure size 1224x936 with 3 Axes>"
      ]
     },
     "metadata": {},
     "output_type": "display_data"
    }
   ],
   "source": [
    "# распределение количественных переменных\n",
    "sns.set_theme(style=\"whitegrid\", palette=\"Greens_r\")\n",
    "fig, axes = plt.subplots(3,1)\n",
    "fig.set_size_inches(17, 13)\n",
    "ax  = sns.histplot(df['price'], kde=True, stat='density', linewidth=0,  ax = axes[0])\n",
    "ax1 = sns.histplot(df['registration_year'], kde=True, stat='density', linewidth=0, ax = axes[1])\n",
    "ax2 = sns.histplot(df['power'], kde=True, stat='density', linewidth=0, ax = axes[2])\n",
    "\n",
    "ax.set(xlabel = 'Цена',\n",
    "      ylabel = 'Плотность')\n",
    "ax1.set(xlabel = 'Год регистрации автомобиля',\n",
    "      ylabel = '')\n",
    "ax1.set_xlim(left = 1950, right=2025)\n",
    "ax2.set(xlabel = 'Мощность, л/с',\n",
    "      ylabel = 'Плотность')\n",
    "ax2.set_xlim(left = 0, right=400)\n",
    "plt.show()"
   ]
  },
  {
   "cell_type": "code",
   "execution_count": 11,
   "metadata": {},
   "outputs": [
    {
     "name": "stdout",
     "output_type": "stream",
     "text": [
      "<class 'pandas.core.frame.DataFrame'>\n",
      "Int64Index: 291755 entries, 1 to 354368\n",
      "Data columns (total 10 columns):\n",
      " #   Column             Non-Null Count   Dtype \n",
      "---  ------             --------------   ----- \n",
      " 0   price              291755 non-null  int64 \n",
      " 1   vehicle_type       291755 non-null  object\n",
      " 2   registration_year  291755 non-null  int64 \n",
      " 3   gearbox            291755 non-null  object\n",
      " 4   power              291755 non-null  int64 \n",
      " 5   model              291755 non-null  object\n",
      " 6   kilometer          291755 non-null  object\n",
      " 7   fuel_type          291755 non-null  object\n",
      " 8   brand              291755 non-null  object\n",
      " 9   not_repaired       291755 non-null  object\n",
      "dtypes: int64(3), object(7)\n",
      "memory usage: 24.5+ MB\n"
     ]
    }
   ],
   "source": [
    "# удалим выбросы\n",
    "df = df[df['price'] > 100]\n",
    "df = df[(df['power'] > 10) & (df['power'] < 400)]\n",
    "df = df[(df['registration_year'] > 1980) & (df['registration_year'] < 2017)]\n",
    "df.info()"
   ]
  },
  {
   "cell_type": "markdown",
   "metadata": {},
   "source": [
    "Осталось более `82%` от исходных данных."
   ]
  },
  {
   "cell_type": "code",
   "execution_count": 12,
   "metadata": {},
   "outputs": [
    {
     "data": {
      "text/html": [
       "<div>\n",
       "<style scoped>\n",
       "    .dataframe tbody tr th:only-of-type {\n",
       "        vertical-align: middle;\n",
       "    }\n",
       "\n",
       "    .dataframe tbody tr th {\n",
       "        vertical-align: top;\n",
       "    }\n",
       "\n",
       "    .dataframe thead th {\n",
       "        text-align: right;\n",
       "    }\n",
       "</style>\n",
       "<table border=\"1\" class=\"dataframe\">\n",
       "  <thead>\n",
       "    <tr style=\"text-align: right;\">\n",
       "      <th></th>\n",
       "      <th>price</th>\n",
       "      <th>registration_year</th>\n",
       "      <th>power</th>\n",
       "    </tr>\n",
       "  </thead>\n",
       "  <tbody>\n",
       "    <tr>\n",
       "      <th>count</th>\n",
       "      <td>291755.000000</td>\n",
       "      <td>291755.000000</td>\n",
       "      <td>291755.000000</td>\n",
       "    </tr>\n",
       "    <tr>\n",
       "      <th>mean</th>\n",
       "      <td>4848.544525</td>\n",
       "      <td>2003.099799</td>\n",
       "      <td>120.565330</td>\n",
       "    </tr>\n",
       "    <tr>\n",
       "      <th>std</th>\n",
       "      <td>4585.529791</td>\n",
       "      <td>5.867186</td>\n",
       "      <td>52.226447</td>\n",
       "    </tr>\n",
       "    <tr>\n",
       "      <th>min</th>\n",
       "      <td>101.000000</td>\n",
       "      <td>1981.000000</td>\n",
       "      <td>11.000000</td>\n",
       "    </tr>\n",
       "    <tr>\n",
       "      <th>25%</th>\n",
       "      <td>1350.000000</td>\n",
       "      <td>1999.000000</td>\n",
       "      <td>77.000000</td>\n",
       "    </tr>\n",
       "    <tr>\n",
       "      <th>50%</th>\n",
       "      <td>3200.000000</td>\n",
       "      <td>2003.000000</td>\n",
       "      <td>113.000000</td>\n",
       "    </tr>\n",
       "    <tr>\n",
       "      <th>75%</th>\n",
       "      <td>6990.000000</td>\n",
       "      <td>2007.000000</td>\n",
       "      <td>150.000000</td>\n",
       "    </tr>\n",
       "    <tr>\n",
       "      <th>max</th>\n",
       "      <td>20000.000000</td>\n",
       "      <td>2016.000000</td>\n",
       "      <td>399.000000</td>\n",
       "    </tr>\n",
       "  </tbody>\n",
       "</table>\n",
       "</div>"
      ],
      "text/plain": [
       "               price  registration_year          power\n",
       "count  291755.000000      291755.000000  291755.000000\n",
       "mean     4848.544525        2003.099799     120.565330\n",
       "std      4585.529791           5.867186      52.226447\n",
       "min       101.000000        1981.000000      11.000000\n",
       "25%      1350.000000        1999.000000      77.000000\n",
       "50%      3200.000000        2003.000000     113.000000\n",
       "75%      6990.000000        2007.000000     150.000000\n",
       "max     20000.000000        2016.000000     399.000000"
      ]
     },
     "execution_count": 12,
     "metadata": {},
     "output_type": "execute_result"
    }
   ],
   "source": [
    "# посмотрим описательные статистики\n",
    "df.describe()"
   ]
  },
  {
   "cell_type": "code",
   "execution_count": 13,
   "metadata": {},
   "outputs": [
    {
     "data": {
      "image/png": "[encoded data removed]",
      "text/plain": [
       "<Figure size 504x504 with 1 Axes>"
      ]
     },
     "metadata": {},
     "output_type": "display_data"
    }
   ],
   "source": [
    "# кореляционная матрица\n",
    "fig, ax = plt.subplots(figsize=(7,7))\n",
    "sns.heatmap(df.corr(), annot=True, ax=ax, cbar=False)\n",
    "plt.show()"
   ]
  },
  {
   "cell_type": "code",
   "execution_count": 14,
   "metadata": {},
   "outputs": [
    {
     "name": "stdout",
     "output_type": "stream",
     "text": [
      "Обучающая: 80%\n",
      "Тестовая: 20%\n"
     ]
    }
   ],
   "source": [
    "# разобъём данные на обучающую и тестовую выборки\n",
    "random_state = 13\n",
    "df_train, df_test = train_test_split(df, test_size=0.2, random_state=random_state)\n",
    "features_train = df_train.drop(['price'], axis=1)\n",
    "target_train = df_train['price']\n",
    "features_test = df_test.drop(['price'], axis=1)\n",
    "target_test = df_test['price']\n",
    "print(f'Обучающая: {features_train.shape[0] / len(df):.0%}')\n",
    "print(f'Тестовая: {features_test.shape[0] / len(df):.0%}')"
   ]
  },
  {
   "cell_type": "markdown",
   "metadata": {},
   "source": [
    "**Вывод**  \n",
    "\n",
    "Данные загружены и обработаны:\n",
    "\n",
    "* переименованы столбцы;\n",
    "* заменены пропуски и удалены дубликаты;\n",
    "* удалены столбцы с неинформативными данными;\n",
    "* удалены выбросы;\n",
    "* наблюдается корреляция между целевым признаком  `price` и переменными `registration_year`, `power`;\n",
    "* данные разделены на выборки, выделен целевой признак.\n"
   ]
  },
  {
   "cell_type": "markdown",
   "metadata": {},
   "source": [
    "## Обучение моделей"
   ]
  },
  {
   "cell_type": "markdown",
   "metadata": {},
   "source": [
    "### CatBoost"
   ]
  },
  {
   "cell_type": "code",
   "execution_count": 15,
   "metadata": {},
   "outputs": [
    {
     "name": "stdout",
     "output_type": "stream",
     "text": [
      "CPU times: user 97 µs, sys: 3 µs, total: 100 µs\n",
      "Wall time: 104 µs\n"
     ]
    }
   ],
   "source": [
    "%%time\n",
    "# подберём наилучшие гипермараметры с помощью GridSearchCV для CatBoostRegressor\n",
    "# запишем RMSE в собственную функцию потерь\n",
    "\n",
    "def RMSE(actual, predict):\n",
    "    return np.sqrt(MSE(actual, predict))\n",
    "my_scorer = make_scorer(RMSE, greater_is_better = False)\n",
    "\n",
    "catboost_features = ['vehicle_type', 'gearbox', 'model', 'kilometer', 'fuel_type', 'brand',\n",
    "                     'not_repaired']\n",
    "\n",
    "catboost = CatBoostRegressor(random_state=random_state, cat_features=catboost_features)\n",
    "param_grid_c =  {'depth': [2, 6, 12, 20],\n",
    "               'iterations': [10, 100, 200]}\n",
    "\n",
    "#grid_search_catboost = GridSearchCV(catboost, param_grid=param_grid_c, verbose=100, scoring = my_scorer)\n",
    "#grid_search_catboost.fit(features_train, target_train)\n",
    "#display(grid_search_catboost.best_params_)"
   ]
  },
  {
   "cell_type": "markdown",
   "metadata": {},
   "source": [
    "Наилучшие гиперпараметры модели `CatBoostRegressor` : `{'depth': 12, 'iterations': 200}` :"
   ]
  },
  {
   "cell_type": "code",
   "execution_count": 16,
   "metadata": {
    "scrolled": false
   },
   "outputs": [
    {
     "name": "stdout",
     "output_type": "stream",
     "text": [
      "Learning rate set to 0.358594\n",
      "0:\tlearn: 3389.1882443\ttotal: 973ms\tremaining: 3m 13s\n",
      "100:\tlearn: 1305.1229315\ttotal: 1m 31s\tremaining: 1m 29s\n",
      "199:\tlearn: 1204.1973286\ttotal: 3m 5s\tremaining: 0us\n",
      "CPU times: user 3min 6s, sys: 1.08 s, total: 3min 7s\n",
      "Wall time: 3min 8s\n"
     ]
    },
    {
     "data": {
      "text/plain": [
       "<catboost.core.CatBoostRegressor at 0x7fe9316c17f0>"
      ]
     },
     "execution_count": 16,
     "metadata": {},
     "output_type": "execute_result"
    }
   ],
   "source": [
    "%%time\n",
    "# обучим модель catboost\n",
    "catboost = CatBoostRegressor(iterations = 200, depth = 12, random_state = random_state, verbose=100,\n",
    "                             cat_features=catboost_features)\n",
    "catboost.fit(features_train, target_train)"
   ]
  },
  {
   "cell_type": "markdown",
   "metadata": {},
   "source": [
    "Время обучения модели `CatBoostRegressor`: `3min 8s` .  "
   ]
  },
  {
   "cell_type": "code",
   "execution_count": 17,
   "metadata": {},
   "outputs": [
    {
     "data": {
      "text/plain": [
       "1274.6432778278208"
      ]
     },
     "metadata": {},
     "output_type": "display_data"
    },
    {
     "name": "stdout",
     "output_type": "stream",
     "text": [
      "CPU times: user 1.77 s, sys: 11.9 ms, total: 1.78 s\n",
      "Wall time: 1.78 s\n"
     ]
    }
   ],
   "source": [
    "%%time\n",
    "# предсказания и метрика catboost\n",
    "catboost_pred_test = catboost.predict(features_train)\n",
    "display(RMSE(target_train, catboost_pred_test))"
   ]
  },
  {
   "cell_type": "markdown",
   "metadata": {},
   "source": [
    "Наилучшее значения `RMSE` у модели `CatBoostRegressor`: `1274`, время предсказания: `1.78 s` ."
   ]
  },
  {
   "cell_type": "code",
   "execution_count": 18,
   "metadata": {},
   "outputs": [
    {
     "name": "stdout",
     "output_type": "stream",
     "text": [
      "Learning rate set to 0.321396\n",
      "0:\tlearn: 3510.5165020\ttotal: 423ms\tremaining: 1m 24s\n",
      "100:\tlearn: 1281.5753742\ttotal: 51.8s\tremaining: 50.8s\n",
      "199:\tlearn: 1156.0783492\ttotal: 1m 43s\tremaining: 0us\n",
      "Learning rate set to 0.321396\n",
      "0:\tlearn: 3507.9613545\ttotal: 458ms\tremaining: 1m 31s\n",
      "100:\tlearn: 1266.1162808\ttotal: 52.4s\tremaining: 51.3s\n",
      "199:\tlearn: 1149.6699235\ttotal: 1m 46s\tremaining: 0us\n"
     ]
    },
    {
     "data": {
      "text/plain": [
       "-1528.0744774563868"
      ]
     },
     "execution_count": 18,
     "metadata": {},
     "output_type": "execute_result"
    }
   ],
   "source": [
    "# кросс-валидация catboost\n",
    "catboost_cv = (cross_val_score(catboost, features_train, target_train, cv = 2,\n",
    "                               scoring = 'neg_root_mean_squared_error')).mean()\n",
    "catboost_cv"
   ]
  },
  {
   "cell_type": "markdown",
   "metadata": {},
   "source": [
    "Кросс-валидация `CatBoostRegressor`: `1528`."
   ]
  },
  {
   "cell_type": "markdown",
   "metadata": {},
   "source": [
    "### LightGBM"
   ]
  },
  {
   "cell_type": "code",
   "execution_count": 19,
   "metadata": {
    "scrolled": true
   },
   "outputs": [
    {
     "name": "stdout",
     "output_type": "stream",
     "text": [
      "CPU times: user 188 ms, sys: 4 ms, total: 192 ms\n",
      "Wall time: 196 ms\n"
     ]
    }
   ],
   "source": [
    "%%time\n",
    "# подберём наилучшие гипермараметры с помощью GridSearchCV для LightGBM\n",
    "lightgbm_features  = ['vehicle_type', 'gearbox', 'model', 'kilometer', 'fuel_type', 'brand', 'not_repaired']\n",
    "features_train_lightgbm = features_train.copy()\n",
    "for c in lightgbm_features:\n",
    "    features_train_lightgbm[c] = features_train_lightgbm[c].astype('category')\n",
    "\n",
    "lightgbm = lgb.LGBMRegressor(num_iterations=1000, categorical_feature = lightgbm_features, random_state=random_state)\n",
    "param_grid_l = {'max_depth': [4, 8, 12, 16, 20],\n",
    "              'n_estimators': [150, 200, 500]}\n",
    "\n",
    "#grid_search_lightgbm = GridSearchCV(estimator = lightgbm, cv=2, param_grid = param_grid_l,\n",
    "#                                    verbose=100, scoring = my_scorer)\n",
    "#grid_search_lightgbm.fit(features_train_lightgbm, target_train)\n",
    "#display(grid_search_lightgbm.best_params_)"
   ]
  },
  {
   "cell_type": "markdown",
   "metadata": {},
   "source": [
    "Наилучшие гиперпараметры модели `LightGBM` : `{'max_depth': 16, 'n_estimators': 150}` ."
   ]
  },
  {
   "cell_type": "code",
   "execution_count": 20,
   "metadata": {},
   "outputs": [
    {
     "name": "stdout",
     "output_type": "stream",
     "text": [
      "CPU times: user 32.8 s, sys: 147 ms, total: 32.9 s\n",
      "Wall time: 33.3 s\n"
     ]
    },
    {
     "data": {
      "text/plain": [
       "LGBMRegressor(categorical_feature=['vehicle_type', 'gearbox', 'model',\n",
       "                                   'kilometer', 'fuel_type', 'brand',\n",
       "                                   'not_repaired'],\n",
       "              max_depth=16, n_estimators=150, num_iterations=1000,\n",
       "              random_state=13)"
      ]
     },
     "execution_count": 20,
     "metadata": {},
     "output_type": "execute_result"
    }
   ],
   "source": [
    "%%time\n",
    "# обучим модель LightGBM\n",
    "lightgbm = lgb.LGBMRegressor(num_iterations=1000, max_depth=16, n_estimators=150,\n",
    "                             random_state=random_state, categorical_feature = lightgbm_features)\n",
    "lightgbm.fit(features_train_lightgbm, target_train)"
   ]
  },
  {
   "cell_type": "markdown",
   "metadata": {},
   "source": [
    "Время обучения модели `LGBMRegressor`: `33.3 s`."
   ]
  },
  {
   "cell_type": "code",
   "execution_count": 21,
   "metadata": {},
   "outputs": [
    {
     "data": {
      "text/plain": [
       "1297.1072763541017"
      ]
     },
     "metadata": {},
     "output_type": "display_data"
    },
    {
     "name": "stdout",
     "output_type": "stream",
     "text": [
      "CPU times: user 29.2 s, sys: 14.5 ms, total: 29.2 s\n",
      "Wall time: 29.3 s\n"
     ]
    }
   ],
   "source": [
    "%%time\n",
    "# предсказания и метрика LightGBM\n",
    "lightgbm_pred_test = lightgbm.predict(features_train_lightgbm)\n",
    "display(RMSE(target_train, lightgbm_pred_test))"
   ]
  },
  {
   "cell_type": "markdown",
   "metadata": {},
   "source": [
    "Наилучшее значение `RMSE` у модели `LightGBM`: `1297`, время предсказания: `29.3 s` ."
   ]
  },
  {
   "cell_type": "code",
   "execution_count": 22,
   "metadata": {},
   "outputs": [
    {
     "data": {
      "text/plain": [
       "-1492.2414597197057"
      ]
     },
     "execution_count": 22,
     "metadata": {},
     "output_type": "execute_result"
    }
   ],
   "source": [
    "# кросс-валидация LightGBM\n",
    "lightgbm_cv = (cross_val_score(lightgbm, features_train_lightgbm, target_train, cv = 2,\n",
    "                               scoring = 'neg_root_mean_squared_error')).mean()\n",
    "lightgbm_cv"
   ]
  },
  {
   "cell_type": "markdown",
   "metadata": {},
   "source": [
    "Кросс-валидация `LightGBM`: `1492` ."
   ]
  },
  {
   "cell_type": "markdown",
   "metadata": {},
   "source": [
    "### LinearRegression"
   ]
  },
  {
   "cell_type": "code",
   "execution_count": 23,
   "metadata": {
    "scrolled": false
   },
   "outputs": [
    {
     "name": "stdout",
     "output_type": "stream",
     "text": [
      "CPU times: user 15.7 s, sys: 6.43 s, total: 22.2 s\n",
      "Wall time: 22.2 s\n"
     ]
    },
    {
     "data": {
      "text/plain": [
       "LinearRegression()"
      ]
     },
     "execution_count": 23,
     "metadata": {},
     "output_type": "execute_result"
    }
   ],
   "source": [
    "%%time\n",
    "# обучим модель LinearReg\n",
    "features_train_lineareg = features_train.copy()\n",
    "features_test_lineareg = features_test.copy()\n",
    "# метод StandardScaler\n",
    "features_train_lineareg = pd.get_dummies(features_train_lineareg, drop_first=True)\n",
    "numeric = ['registration_year', 'power']\n",
    "scaler = StandardScaler()\n",
    "scaler.fit(features_train_lineareg[numeric])\n",
    "\n",
    "features_train_lineareg[numeric] = scaler.transform(features_train_lineareg[numeric])\n",
    "features_test_lineareg[numeric] = scaler.transform(features_test_lineareg[numeric])\n",
    "\n",
    "lineareg = LinearRegression()#random_state=random_state)\n",
    "lineareg.fit(features_train_lineareg, target_train)"
   ]
  },
  {
   "cell_type": "markdown",
   "metadata": {},
   "source": [
    "Время обучения модели `LinearRegression`: `22.2 s`."
   ]
  },
  {
   "cell_type": "code",
   "execution_count": 24,
   "metadata": {},
   "outputs": [
    {
     "data": {
      "text/plain": [
       "2356.558006356182"
      ]
     },
     "metadata": {},
     "output_type": "display_data"
    },
    {
     "name": "stdout",
     "output_type": "stream",
     "text": [
      "CPU times: user 222 ms, sys: 220 ms, total: 442 ms\n",
      "Wall time: 401 ms\n"
     ]
    }
   ],
   "source": [
    "%%time\n",
    "# предсказания и метрика LinearReg\n",
    "pred_lineareg = lineareg.predict(features_train_lineareg)\n",
    "display(RMSE(target_train, pred_lineareg))"
   ]
  },
  {
   "cell_type": "markdown",
   "metadata": {},
   "source": [
    "Значение `RMSE` у модели `LinearRegression`: `2356`, время предсказания: `401 ms` ."
   ]
  },
  {
   "cell_type": "code",
   "execution_count": 25,
   "metadata": {},
   "outputs": [
    {
     "data": {
      "text/plain": [
       "-2361.9213028849663"
      ]
     },
     "execution_count": 25,
     "metadata": {},
     "output_type": "execute_result"
    }
   ],
   "source": [
    "# кросс-валидация LinearReg\n",
    "lineareg_cv = (cross_val_score(lineareg, features_train_lineareg, target_train, cv = 2,\n",
    "                               scoring = 'neg_root_mean_squared_error')).mean()\n",
    "lineareg_cv "
   ]
  },
  {
   "cell_type": "markdown",
   "metadata": {},
   "source": [
    "Кросс-валидация `LinearReg`: `2361` ."
   ]
  },
  {
   "cell_type": "markdown",
   "metadata": {},
   "source": [
    "## Анализ моделей"
   ]
  },
  {
   "cell_type": "code",
   "execution_count": 30,
   "metadata": {},
   "outputs": [
    {
     "data": {
      "text/html": [
       "<div>\n",
       "<style scoped>\n",
       "    .dataframe tbody tr th:only-of-type {\n",
       "        vertical-align: middle;\n",
       "    }\n",
       "\n",
       "    .dataframe tbody tr th {\n",
       "        vertical-align: top;\n",
       "    }\n",
       "\n",
       "    .dataframe thead th {\n",
       "        text-align: right;\n",
       "    }\n",
       "</style>\n",
       "<table border=\"1\" class=\"dataframe\">\n",
       "  <thead>\n",
       "    <tr style=\"text-align: right;\">\n",
       "      <th></th>\n",
       "      <th>Модель</th>\n",
       "      <th>Время обучения</th>\n",
       "      <th>Время предсказания</th>\n",
       "      <th>Кросс-валидация, RMSE</th>\n",
       "    </tr>\n",
       "  </thead>\n",
       "  <tbody>\n",
       "    <tr>\n",
       "      <th>0</th>\n",
       "      <td>CatBoostRegressor</td>\n",
       "      <td>3min 8s</td>\n",
       "      <td>1.78 s</td>\n",
       "      <td>1528.074477</td>\n",
       "    </tr>\n",
       "    <tr>\n",
       "      <th>1</th>\n",
       "      <td>LGBMRegressor</td>\n",
       "      <td>33.3 s</td>\n",
       "      <td>29.3 s</td>\n",
       "      <td>1492.241460</td>\n",
       "    </tr>\n",
       "    <tr>\n",
       "      <th>2</th>\n",
       "      <td>LinearRegression</td>\n",
       "      <td>22.2 s</td>\n",
       "      <td>401 ms</td>\n",
       "      <td>2361.921303</td>\n",
       "    </tr>\n",
       "  </tbody>\n",
       "</table>\n",
       "</div>"
      ],
      "text/plain": [
       "              Модель Время обучения Время предсказания  Кросс-валидация, RMSE\n",
       "0  CatBoostRegressor        3min 8s             1.78 s            1528.074477\n",
       "1      LGBMRegressor         33.3 s             29.3 s            1492.241460\n",
       "2   LinearRegression         22.2 s             401 ms            2361.921303"
      ]
     },
     "execution_count": 30,
     "metadata": {},
     "output_type": "execute_result"
    }
   ],
   "source": [
    "# сводная таблица с данными моделей\n",
    "tab = pd.DataFrame({'Модель':['CatBoostRegressor', 'LGBMRegressor', 'LinearRegression'],\n",
    "                    'Время обучения':['3min 8s', '33.3 s', '22.2 s'],\n",
    "                    'Время предсказания': ['1.78 s', '29.3 s', '401 ms'],\n",
    "                    'Кросс-валидация, RMSE': [abs(catboost_cv), abs(lightgbm_cv), abs(lineareg_cv)]})\n",
    "tab"
   ]
  },
  {
   "cell_type": "markdown",
   "metadata": {},
   "source": [
    "Наиболее оптимальной моделью является `CatBoostRegressor`, наименьшее время предсказания, метрика сравнима с моделью `LGBMRegressor` , у `LinearRegression` хорошие показатели времени обучения и предсказания, но худший уровень качества."
   ]
  },
  {
   "cell_type": "code",
   "execution_count": 27,
   "metadata": {
    "scrolled": true
   },
   "outputs": [
    {
     "data": {
      "text/html": [
       "<div>\n",
       "<style scoped>\n",
       "    .dataframe tbody tr th:only-of-type {\n",
       "        vertical-align: middle;\n",
       "    }\n",
       "\n",
       "    .dataframe tbody tr th {\n",
       "        vertical-align: top;\n",
       "    }\n",
       "\n",
       "    .dataframe thead th {\n",
       "        text-align: right;\n",
       "    }\n",
       "</style>\n",
       "<table border=\"1\" class=\"dataframe\">\n",
       "  <thead>\n",
       "    <tr style=\"text-align: right;\">\n",
       "      <th></th>\n",
       "      <th>Модель</th>\n",
       "      <th>RMSE</th>\n",
       "    </tr>\n",
       "  </thead>\n",
       "  <tbody>\n",
       "    <tr>\n",
       "      <th>0</th>\n",
       "      <td>CatBoostRegressor</td>\n",
       "      <td>1464.487787</td>\n",
       "    </tr>\n",
       "  </tbody>\n",
       "</table>\n",
       "</div>"
      ],
      "text/plain": [
       "              Модель         RMSE\n",
       "0  CatBoostRegressor  1464.487787"
      ]
     },
     "execution_count": 27,
     "metadata": {},
     "output_type": "execute_result"
    }
   ],
   "source": [
    "# проверим модель на тестовой выборке\n",
    "results = []\n",
    "model = catboost\n",
    "predictions_valid = catboost.predict(features_test)\n",
    "rmse_ = MSE(target_test, predictions_valid)** 0.5\n",
    "results.append({'Модель': model.__class__.__name__,\n",
    "                'RMSE': rmse_})\n",
    "pd.DataFrame(results)"
   ]
  },
  {
   "cell_type": "markdown",
   "metadata": {},
   "source": [
    "Метрика `RMSE` на тестовой выборке с моделью `CatBoostRegressor`: `1464` .  \n",
    "На тестовой выборке модель показала лучшие результаты, в сравнении с кросс-валидацией."
   ]
  },
  {
   "cell_type": "code",
   "execution_count": 28,
   "metadata": {},
   "outputs": [
    {
     "data": {
      "text/html": [
       "<style  type=\"text/css\" >\n",
       "#T_2b594_row0_col0{\n",
       "            width:  10em;\n",
       "             height:  80%;\n",
       "            background:  linear-gradient(90deg,#5fba7d 100.0%, transparent 100.0%);\n",
       "        }#T_2b594_row1_col0{\n",
       "            width:  10em;\n",
       "             height:  80%;\n",
       "            background:  linear-gradient(90deg,#5fba7d 73.9%, transparent 73.9%);\n",
       "        }#T_2b594_row2_col0{\n",
       "            width:  10em;\n",
       "             height:  80%;\n",
       "            background:  linear-gradient(90deg,#5fba7d 39.1%, transparent 39.1%);\n",
       "        }#T_2b594_row3_col0{\n",
       "            width:  10em;\n",
       "             height:  80%;\n",
       "            background:  linear-gradient(90deg,#5fba7d 30.6%, transparent 30.6%);\n",
       "        }#T_2b594_row4_col0{\n",
       "            width:  10em;\n",
       "             height:  80%;\n",
       "            background:  linear-gradient(90deg,#5fba7d 24.9%, transparent 24.9%);\n",
       "        }#T_2b594_row5_col0{\n",
       "            width:  10em;\n",
       "             height:  80%;\n",
       "            background:  linear-gradient(90deg,#5fba7d 17.0%, transparent 17.0%);\n",
       "        }#T_2b594_row6_col0{\n",
       "            width:  10em;\n",
       "             height:  80%;\n",
       "            background:  linear-gradient(90deg,#5fba7d 5.9%, transparent 5.9%);\n",
       "        }#T_2b594_row7_col0{\n",
       "            width:  10em;\n",
       "             height:  80%;\n",
       "            background:  linear-gradient(90deg,#5fba7d 4.0%, transparent 4.0%);\n",
       "        }#T_2b594_row8_col0{\n",
       "            width:  10em;\n",
       "             height:  80%;\n",
       "        }</style><table id=\"T_2b594_\" ><thead>    <tr>        <th class=\"blank level0\" ></th>        <th class=\"col_heading level0 col0\" >Рейтинг признаков</th>    </tr></thead><tbody>\n",
       "                <tr>\n",
       "                        <th id=\"T_2b594_level0_row0\" class=\"row_heading level0 row0\" >registration_year</th>\n",
       "                        <td id=\"T_2b594_row0_col0\" class=\"data row0 col0\" >29.067592</td>\n",
       "            </tr>\n",
       "            <tr>\n",
       "                        <th id=\"T_2b594_level0_row1\" class=\"row_heading level0 row1\" >power</th>\n",
       "                        <td id=\"T_2b594_row1_col0\" class=\"data row1 col0\" >22.102591</td>\n",
       "            </tr>\n",
       "            <tr>\n",
       "                        <th id=\"T_2b594_level0_row2\" class=\"row_heading level0 row2\" >brand</th>\n",
       "                        <td id=\"T_2b594_row2_col0\" class=\"data row2 col0\" >12.783378</td>\n",
       "            </tr>\n",
       "            <tr>\n",
       "                        <th id=\"T_2b594_level0_row3\" class=\"row_heading level0 row3\" >vehicle_type</th>\n",
       "                        <td id=\"T_2b594_row3_col0\" class=\"data row3 col0\" >10.522535</td>\n",
       "            </tr>\n",
       "            <tr>\n",
       "                        <th id=\"T_2b594_level0_row4\" class=\"row_heading level0 row4\" >kilometer</th>\n",
       "                        <td id=\"T_2b594_row4_col0\" class=\"data row4 col0\" >8.996587</td>\n",
       "            </tr>\n",
       "            <tr>\n",
       "                        <th id=\"T_2b594_level0_row5\" class=\"row_heading level0 row5\" >model</th>\n",
       "                        <td id=\"T_2b594_row5_col0\" class=\"data row5 col0\" >6.885951</td>\n",
       "            </tr>\n",
       "            <tr>\n",
       "                        <th id=\"T_2b594_level0_row6\" class=\"row_heading level0 row6\" >not_repaired</th>\n",
       "                        <td id=\"T_2b594_row6_col0\" class=\"data row6 col0\" >3.907072</td>\n",
       "            </tr>\n",
       "            <tr>\n",
       "                        <th id=\"T_2b594_level0_row7\" class=\"row_heading level0 row7\" >fuel_type</th>\n",
       "                        <td id=\"T_2b594_row7_col0\" class=\"data row7 col0\" >3.402150</td>\n",
       "            </tr>\n",
       "            <tr>\n",
       "                        <th id=\"T_2b594_level0_row8\" class=\"row_heading level0 row8\" >gearbox</th>\n",
       "                        <td id=\"T_2b594_row8_col0\" class=\"data row8 col0\" >2.332144</td>\n",
       "            </tr>\n",
       "    </tbody></table>"
      ],
      "text/plain": [
       "<pandas.io.formats.style.Styler at 0x7fe9316c1250>"
      ]
     },
     "execution_count": 28,
     "metadata": {},
     "output_type": "execute_result"
    }
   ],
   "source": [
    "# важность признаков в модели catboost\n",
    "pd.DataFrame(catboost.get_feature_importance(),\n",
    "             index=features_test.dtypes.index,\n",
    "             columns=['Рейтинг признаков']).sort_values(by='Рейтинг признаков',\n",
    "                                                        ascending = False).style.bar(color=['#d65f5f', '#5fba7d'])"
   ]
  },
  {
   "cell_type": "markdown",
   "metadata": {},
   "source": [
    "**Вывод**  \n",
    "\n",
    "Наиболее оптимальной моделью является `CatBoostRegressor` c гиперпараметрами `[iterations = 200, depth = 12]` .  \n",
    "Значение метрики `RMSE` на кросс-валидации: `1528`, на тестовой выборке: `1464` .  \n",
    "Время обучения модели составило: `3min 8s` .  \n",
    "Время предсказания: `1.78 s` .  \n",
    "Наибольшее значение имеют признаки: дата регистрации автомобиля, его мощность, марка, тип кузова и на пятом месте - пробег автомобиля.\n",
    "Модель соответствует всем требованиям заказчика."
   ]
  }
 ],
 "metadata": {
  "ExecuteTimeLog": [
   {
    "duration": 1919,
    "start_time": "2022-10-22T15:23:32.328Z"
   },
   {
    "duration": 133,
    "start_time": "2022-10-22T15:24:45.514Z"
   },
   {
    "duration": 20,
    "start_time": "2022-10-22T15:25:22.727Z"
   },
   {
    "duration": 3420,
    "start_time": "2022-10-22T15:26:03.923Z"
   },
   {
    "duration": 1001,
    "start_time": "2022-10-22T15:27:10.829Z"
   },
   {
    "duration": 997,
    "start_time": "2022-10-22T15:27:22.689Z"
   },
   {
    "duration": 56,
    "start_time": "2022-11-02T20:23:42.721Z"
   },
   {
    "duration": 1679,
    "start_time": "2022-11-02T20:23:50.307Z"
   },
   {
    "duration": 1246,
    "start_time": "2022-11-02T20:23:51.988Z"
   },
   {
    "duration": 23,
    "start_time": "2022-11-02T20:23:53.236Z"
   },
   {
    "duration": 2,
    "start_time": "2022-11-02T20:23:53.261Z"
   },
   {
    "duration": 108,
    "start_time": "2022-11-02T20:26:11.406Z"
   },
   {
    "duration": 588,
    "start_time": "2022-11-02T20:27:26.014Z"
   },
   {
    "duration": 510,
    "start_time": "2022-11-02T20:27:38.210Z"
   },
   {
    "duration": 3,
    "start_time": "2022-11-02T20:34:34.842Z"
   },
   {
    "duration": 126,
    "start_time": "2022-11-02T20:35:47.947Z"
   },
   {
    "duration": 721,
    "start_time": "2022-11-02T20:37:14.387Z"
   },
   {
    "duration": 259,
    "start_time": "2022-11-02T20:38:14.539Z"
   },
   {
    "duration": 1290,
    "start_time": "2022-11-02T20:40:23.301Z"
   },
   {
    "duration": 10,
    "start_time": "2022-11-02T20:47:48.778Z"
   },
   {
    "duration": 12,
    "start_time": "2022-11-02T20:47:57.893Z"
   },
   {
    "duration": 38,
    "start_time": "2022-11-02T20:49:16.756Z"
   },
   {
    "duration": 85,
    "start_time": "2022-11-02T20:52:46.702Z"
   },
   {
    "duration": 1480,
    "start_time": "2022-11-02T21:00:49.141Z"
   },
   {
    "duration": 1711,
    "start_time": "2022-11-02T21:01:02.636Z"
   },
   {
    "duration": 1730,
    "start_time": "2022-11-02T21:02:17.777Z"
   },
   {
    "duration": 1696,
    "start_time": "2022-11-02T21:02:53.750Z"
   },
   {
    "duration": 61,
    "start_time": "2022-11-02T21:14:12.791Z"
   },
   {
    "duration": 636,
    "start_time": "2022-11-02T21:14:32.801Z"
   },
   {
    "duration": 636,
    "start_time": "2022-11-02T21:20:20.366Z"
   },
   {
    "duration": 1774,
    "start_time": "2022-11-02T21:20:45.177Z"
   },
   {
    "duration": 634,
    "start_time": "2022-11-02T21:20:53.456Z"
   },
   {
    "duration": 559,
    "start_time": "2022-11-02T21:27:32.226Z"
   },
   {
    "duration": 507,
    "start_time": "2022-11-02T21:28:00.622Z"
   },
   {
    "duration": 521,
    "start_time": "2022-11-02T21:28:10.222Z"
   },
   {
    "duration": 539,
    "start_time": "2022-11-02T21:28:26.588Z"
   },
   {
    "duration": 758,
    "start_time": "2022-11-02T21:31:01.240Z"
   },
   {
    "duration": 3137,
    "start_time": "2022-11-02T21:42:03.550Z"
   },
   {
    "duration": 57941,
    "start_time": "2022-11-02T21:47:29.013Z"
   },
   {
    "duration": 825,
    "start_time": "2022-11-02T21:48:29.298Z"
   },
   {
    "duration": 67229,
    "start_time": "2022-11-02T21:48:38.095Z"
   },
   {
    "duration": 2319,
    "start_time": "2022-11-02T21:53:05.636Z"
   },
   {
    "duration": 72537,
    "start_time": "2022-11-02T21:54:18.929Z"
   },
   {
    "duration": 64710,
    "start_time": "2022-11-02T21:56:35.921Z"
   },
   {
    "duration": 72604,
    "start_time": "2022-11-02T21:58:47.895Z"
   },
   {
    "duration": 55607,
    "start_time": "2022-11-02T22:05:15.881Z"
   },
   {
    "duration": 57397,
    "start_time": "2022-11-02T22:06:31.976Z"
   },
   {
    "duration": 56499,
    "start_time": "2022-11-02T22:08:13.872Z"
   },
   {
    "duration": 57495,
    "start_time": "2022-11-02T22:09:44.520Z"
   },
   {
    "duration": 79324,
    "start_time": "2022-11-02T22:11:23.133Z"
   },
   {
    "duration": 81,
    "start_time": "2022-11-02T22:15:16.207Z"
   },
   {
    "duration": 332,
    "start_time": "2022-11-02T22:15:55.701Z"
   },
   {
    "duration": 1601,
    "start_time": "2022-11-02T22:17:13.302Z"
   },
   {
    "duration": 925,
    "start_time": "2022-11-02T22:17:14.905Z"
   },
   {
    "duration": 458,
    "start_time": "2022-11-02T22:17:15.832Z"
   },
   {
    "duration": 26,
    "start_time": "2022-11-02T22:17:16.292Z"
   },
   {
    "duration": 4346,
    "start_time": "2022-11-02T22:17:16.320Z"
   },
   {
    "duration": 1168,
    "start_time": "2022-11-02T22:17:20.668Z"
   },
   {
    "duration": 154,
    "start_time": "2022-11-02T22:17:21.838Z"
   },
   {
    "duration": 37,
    "start_time": "2022-11-02T22:17:21.993Z"
   },
   {
    "duration": 0,
    "start_time": "2022-11-02T22:17:22.031Z"
   },
   {
    "duration": 0,
    "start_time": "2022-11-02T22:17:22.032Z"
   },
   {
    "duration": 0,
    "start_time": "2022-11-02T22:17:22.034Z"
   },
   {
    "duration": 0,
    "start_time": "2022-11-02T22:17:22.034Z"
   },
   {
    "duration": 0,
    "start_time": "2022-11-02T22:17:22.035Z"
   },
   {
    "duration": 1422,
    "start_time": "2022-11-02T22:42:04.337Z"
   },
   {
    "duration": 901,
    "start_time": "2022-11-02T22:42:05.761Z"
   },
   {
    "duration": 20,
    "start_time": "2022-11-02T22:42:06.663Z"
   },
   {
    "duration": 4347,
    "start_time": "2022-11-02T22:42:06.684Z"
   },
   {
    "duration": 1207,
    "start_time": "2022-11-02T22:42:11.033Z"
   },
   {
    "duration": 49,
    "start_time": "2022-11-02T22:42:12.242Z"
   },
   {
    "duration": 45694,
    "start_time": "2022-11-02T22:42:12.292Z"
   },
   {
    "duration": 65204,
    "start_time": "2022-11-02T22:42:57.988Z"
   },
   {
    "duration": 93,
    "start_time": "2022-11-02T22:44:03.193Z"
   },
   {
    "duration": 70,
    "start_time": "2022-11-02T22:44:03.287Z"
   },
   {
    "duration": 365,
    "start_time": "2022-11-02T22:44:03.359Z"
   },
   {
    "duration": 65,
    "start_time": "2022-11-02T22:44:03.726Z"
   },
   {
    "duration": 147,
    "start_time": "2022-11-02T22:44:03.792Z"
   },
   {
    "duration": 11,
    "start_time": "2022-11-02T22:46:42.933Z"
   },
   {
    "duration": 4,
    "start_time": "2022-11-02T22:47:39.679Z"
   },
   {
    "duration": 2263,
    "start_time": "2022-11-02T22:47:46.503Z"
   },
   {
    "duration": 52,
    "start_time": "2022-11-02T22:49:22.745Z"
   },
   {
    "duration": 48,
    "start_time": "2022-11-02T22:50:30.082Z"
   },
   {
    "duration": 47,
    "start_time": "2022-11-02T22:50:45.623Z"
   },
   {
    "duration": 2622,
    "start_time": "2022-11-02T22:52:28.478Z"
   },
   {
    "duration": 2541,
    "start_time": "2022-11-02T22:53:07.089Z"
   },
   {
    "duration": 2247,
    "start_time": "2022-11-02T22:53:40.765Z"
   },
   {
    "duration": 2327,
    "start_time": "2022-11-02T22:54:15.027Z"
   },
   {
    "duration": 5,
    "start_time": "2022-11-02T22:57:15.177Z"
   },
   {
    "duration": 2461,
    "start_time": "2022-11-02T23:03:29.859Z"
   },
   {
    "duration": 5709,
    "start_time": "2022-11-02T23:03:43.253Z"
   },
   {
    "duration": 7034,
    "start_time": "2022-11-02T23:08:22.755Z"
   },
   {
    "duration": 10,
    "start_time": "2022-11-02T23:11:45.424Z"
   },
   {
    "duration": 13,
    "start_time": "2022-11-02T23:12:38.220Z"
   },
   {
    "duration": 15,
    "start_time": "2022-11-02T23:14:11.496Z"
   },
   {
    "duration": 7923,
    "start_time": "2022-11-02T23:14:15.142Z"
   },
   {
    "duration": 30,
    "start_time": "2022-11-02T23:16:30.490Z"
   },
   {
    "duration": 165,
    "start_time": "2022-11-02T23:16:56.422Z"
   },
   {
    "duration": 14,
    "start_time": "2022-11-02T23:17:32.077Z"
   },
   {
    "duration": 9,
    "start_time": "2022-11-02T23:18:32.741Z"
   },
   {
    "duration": 3,
    "start_time": "2022-11-02T23:19:10.844Z"
   },
   {
    "duration": 55,
    "start_time": "2022-11-02T23:20:05.448Z"
   },
   {
    "duration": 2303,
    "start_time": "2022-11-06T19:31:21.803Z"
   },
   {
    "duration": 3773,
    "start_time": "2022-11-06T19:31:24.108Z"
   },
   {
    "duration": 33,
    "start_time": "2022-11-06T19:31:27.883Z"
   },
   {
    "duration": 6176,
    "start_time": "2022-11-06T19:31:27.939Z"
   },
   {
    "duration": 1566,
    "start_time": "2022-11-06T19:31:34.117Z"
   },
   {
    "duration": 73,
    "start_time": "2022-11-06T19:31:35.684Z"
   },
   {
    "duration": 86895,
    "start_time": "2022-11-06T19:31:35.765Z"
   },
   {
    "duration": 106,
    "start_time": "2022-11-06T19:33:02.662Z"
   },
   {
    "duration": 86,
    "start_time": "2022-11-06T19:33:02.770Z"
   },
   {
    "duration": 360,
    "start_time": "2022-11-06T19:33:02.858Z"
   },
   {
    "duration": 93,
    "start_time": "2022-11-06T19:33:03.220Z"
   },
   {
    "duration": 165,
    "start_time": "2022-11-06T19:33:03.315Z"
   },
   {
    "duration": 0,
    "start_time": "2022-11-06T19:33:03.482Z"
   },
   {
    "duration": 0,
    "start_time": "2022-11-06T19:33:03.484Z"
   },
   {
    "duration": 0,
    "start_time": "2022-11-06T19:33:03.485Z"
   },
   {
    "duration": 0,
    "start_time": "2022-11-06T19:33:03.487Z"
   },
   {
    "duration": 13,
    "start_time": "2022-11-06T19:35:01.557Z"
   },
   {
    "duration": 15,
    "start_time": "2022-11-06T19:35:29.608Z"
   },
   {
    "duration": 6,
    "start_time": "2022-11-06T19:37:21.553Z"
   },
   {
    "duration": 12401,
    "start_time": "2022-11-06T19:37:25.349Z"
   },
   {
    "duration": 106,
    "start_time": "2022-11-06T19:38:30.599Z"
   },
   {
    "duration": 4,
    "start_time": "2022-11-06T19:43:56.082Z"
   },
   {
    "duration": 6,
    "start_time": "2022-11-06T19:44:09.454Z"
   },
   {
    "duration": 5195,
    "start_time": "2022-11-06T19:44:47.809Z"
   },
   {
    "duration": 92,
    "start_time": "2022-11-06T19:47:06.397Z"
   },
   {
    "duration": 6,
    "start_time": "2022-11-06T19:47:55.658Z"
   },
   {
    "duration": 6,
    "start_time": "2022-11-06T19:48:06.155Z"
   },
   {
    "duration": 5,
    "start_time": "2022-11-06T19:48:19.492Z"
   },
   {
    "duration": 108,
    "start_time": "2022-11-06T19:48:21.728Z"
   },
   {
    "duration": 2737,
    "start_time": "2022-11-06T19:48:56.573Z"
   },
   {
    "duration": 2462,
    "start_time": "2022-11-06T19:52:59.500Z"
   },
   {
    "duration": 14,
    "start_time": "2022-11-06T19:55:01.250Z"
   },
   {
    "duration": 66,
    "start_time": "2022-11-06T19:56:29.654Z"
   },
   {
    "duration": 11363,
    "start_time": "2022-11-06T20:01:56.214Z"
   },
   {
    "duration": 21,
    "start_time": "2022-11-06T20:02:40.642Z"
   },
   {
    "duration": 455752,
    "start_time": "2022-11-06T20:03:02.331Z"
   },
   {
    "duration": 17200,
    "start_time": "2022-11-06T20:12:44.604Z"
   },
   {
    "duration": 468697,
    "start_time": "2022-11-06T20:15:00.462Z"
   },
   {
    "duration": 2500,
    "start_time": "2022-11-06T20:23:27.132Z"
   },
   {
    "duration": 2483,
    "start_time": "2022-11-06T20:24:40.632Z"
   },
   {
    "duration": 19549,
    "start_time": "2022-11-06T20:25:28.650Z"
   },
   {
    "duration": 15,
    "start_time": "2022-11-06T20:26:39.329Z"
   },
   {
    "duration": 19352,
    "start_time": "2022-11-06T20:26:59.504Z"
   },
   {
    "duration": 19252,
    "start_time": "2022-11-06T20:27:25.153Z"
   },
   {
    "duration": 0,
    "start_time": "2022-11-06T20:36:58.891Z"
   },
   {
    "duration": 67238,
    "start_time": "2022-11-06T20:37:11.397Z"
   },
   {
    "duration": 10398,
    "start_time": "2022-11-06T20:38:30.779Z"
   },
   {
    "duration": 413652,
    "start_time": "2022-11-06T20:38:50.953Z"
   },
   {
    "duration": 136274,
    "start_time": "2022-11-06T20:46:04.028Z"
   },
   {
    "duration": 208072,
    "start_time": "2022-11-06T20:49:22.078Z"
   },
   {
    "duration": 9,
    "start_time": "2022-11-06T21:41:30.440Z"
   },
   {
    "duration": 0,
    "start_time": "2022-11-06T21:41:30.451Z"
   },
   {
    "duration": 5,
    "start_time": "2022-11-06T21:41:35.558Z"
   },
   {
    "duration": 3,
    "start_time": "2022-11-06T21:41:38.412Z"
   },
   {
    "duration": 520,
    "start_time": "2022-11-06T21:41:57.112Z"
   },
   {
    "duration": 22,
    "start_time": "2022-11-06T21:50:06.022Z"
   },
   {
    "duration": 0,
    "start_time": "2022-11-06T22:07:12.158Z"
   },
   {
    "duration": 1,
    "start_time": "2022-11-06T22:07:12.159Z"
   },
   {
    "duration": 4,
    "start_time": "2022-11-06T22:07:27.522Z"
   },
   {
    "duration": 0,
    "start_time": "2022-11-06T22:12:03.544Z"
   },
   {
    "duration": 10,
    "start_time": "2022-11-06T22:17:11.808Z"
   },
   {
    "duration": 49,
    "start_time": "2022-11-06T22:17:32.229Z"
   },
   {
    "duration": 33,
    "start_time": "2022-11-06T22:19:18.590Z"
   },
   {
    "duration": 34,
    "start_time": "2022-11-06T22:24:55.792Z"
   },
   {
    "duration": 251,
    "start_time": "2022-11-06T22:25:28.021Z"
   },
   {
    "duration": 229,
    "start_time": "2022-11-06T22:27:14.793Z"
   },
   {
    "duration": 16,
    "start_time": "2022-11-06T22:31:15.138Z"
   },
   {
    "duration": 1155,
    "start_time": "2022-11-06T22:31:39.298Z"
   },
   {
    "duration": 55,
    "start_time": "2022-11-06T22:32:19.812Z"
   },
   {
    "duration": 1660,
    "start_time": "2022-11-06T22:32:59.342Z"
   },
   {
    "duration": 3346,
    "start_time": "2022-11-06T22:33:02.391Z"
   },
   {
    "duration": 26,
    "start_time": "2022-11-06T22:33:05.739Z"
   },
   {
    "duration": 4879,
    "start_time": "2022-11-06T22:33:06.771Z"
   },
   {
    "duration": 1343,
    "start_time": "2022-11-06T22:33:20.982Z"
   },
   {
    "duration": 55,
    "start_time": "2022-11-06T22:33:25.843Z"
   },
   {
    "duration": 94,
    "start_time": "2022-11-06T22:33:34.538Z"
   },
   {
    "duration": 72,
    "start_time": "2022-11-06T22:33:37.482Z"
   },
   {
    "duration": 320,
    "start_time": "2022-11-06T22:33:40.439Z"
   },
   {
    "duration": 82,
    "start_time": "2022-11-06T22:33:58.840Z"
   },
   {
    "duration": 18,
    "start_time": "2022-11-06T22:34:10.839Z"
   },
   {
    "duration": 1278,
    "start_time": "2022-11-06T22:34:29.063Z"
   },
   {
    "duration": 12,
    "start_time": "2022-11-06T22:47:57.902Z"
   },
   {
    "duration": 20,
    "start_time": "2022-11-06T22:48:07.713Z"
   },
   {
    "duration": 102,
    "start_time": "2022-11-06T22:48:14.484Z"
   },
   {
    "duration": 17,
    "start_time": "2022-11-06T22:48:30.303Z"
   },
   {
    "duration": 15,
    "start_time": "2022-11-06T22:49:25.993Z"
   },
   {
    "duration": 20,
    "start_time": "2022-11-06T22:49:35.634Z"
   },
   {
    "duration": 16,
    "start_time": "2022-11-06T22:58:11.693Z"
   },
   {
    "duration": 17,
    "start_time": "2022-11-06T22:58:25.232Z"
   },
   {
    "duration": 1234,
    "start_time": "2022-11-06T23:05:44.473Z"
   },
   {
    "duration": 1426,
    "start_time": "2022-11-06T23:06:13.939Z"
   },
   {
    "duration": 11,
    "start_time": "2022-11-06T23:09:32.502Z"
   },
   {
    "duration": 4,
    "start_time": "2022-11-06T23:10:12.192Z"
   },
   {
    "duration": 3,
    "start_time": "2022-11-06T23:10:25.883Z"
   },
   {
    "duration": 219,
    "start_time": "2022-11-06T23:10:34.473Z"
   },
   {
    "duration": 51,
    "start_time": "2022-11-06T23:11:33.933Z"
   },
   {
    "duration": 25498,
    "start_time": "2022-11-06T23:11:40.834Z"
   },
   {
    "duration": 12,
    "start_time": "2022-11-06T23:12:14.178Z"
   },
   {
    "duration": 150,
    "start_time": "2022-11-06T23:12:26.285Z"
   },
   {
    "duration": 125,
    "start_time": "2022-11-06T23:12:38.208Z"
   },
   {
    "duration": 4,
    "start_time": "2022-11-06T23:12:53.782Z"
   },
   {
    "duration": 23999,
    "start_time": "2022-11-06T23:13:22.143Z"
   },
   {
    "duration": 4,
    "start_time": "2022-11-06T23:14:04.232Z"
   },
   {
    "duration": 4,
    "start_time": "2022-11-06T23:14:26.171Z"
   },
   {
    "duration": 23826,
    "start_time": "2022-11-06T23:15:10.614Z"
   },
   {
    "duration": 200,
    "start_time": "2022-11-06T23:15:34.532Z"
   },
   {
    "duration": 24486,
    "start_time": "2022-11-06T23:27:05.762Z"
   },
   {
    "duration": 26328,
    "start_time": "2022-11-06T23:27:49.509Z"
   },
   {
    "duration": 23799,
    "start_time": "2022-11-06T23:29:42.641Z"
   },
   {
    "duration": 1319,
    "start_time": "2022-11-06T23:33:02.401Z"
   },
   {
    "duration": 100,
    "start_time": "2022-11-06T23:36:48.012Z"
   },
   {
    "duration": 4,
    "start_time": "2022-11-06T23:37:04.202Z"
   },
   {
    "duration": 78,
    "start_time": "2022-11-06T23:37:23.182Z"
   },
   {
    "duration": 86,
    "start_time": "2022-11-06T23:37:43.808Z"
   },
   {
    "duration": 4,
    "start_time": "2022-11-06T23:37:51.992Z"
   },
   {
    "duration": 78,
    "start_time": "2022-11-06T23:38:06.422Z"
   },
   {
    "duration": 103,
    "start_time": "2022-11-06T23:38:16.118Z"
   },
   {
    "duration": 25666,
    "start_time": "2022-11-06T23:38:48.935Z"
   },
   {
    "duration": 5,
    "start_time": "2022-11-06T23:40:21.200Z"
   },
   {
    "duration": 110,
    "start_time": "2022-11-06T23:40:53.762Z"
   },
   {
    "duration": 43,
    "start_time": "2022-11-06T23:42:08.422Z"
   },
   {
    "duration": 4,
    "start_time": "2022-11-06T23:42:33.852Z"
   },
   {
    "duration": 56,
    "start_time": "2022-11-06T23:42:40.982Z"
   },
   {
    "duration": 276529,
    "start_time": "2022-11-06T23:44:11.521Z"
   },
   {
    "duration": 1048664,
    "start_time": "2022-11-06T23:48:50.379Z"
   },
   {
    "duration": 11,
    "start_time": "2022-11-07T00:06:19.045Z"
   },
   {
    "duration": 1748,
    "start_time": "2022-11-07T00:06:34.771Z"
   },
   {
    "duration": 1073,
    "start_time": "2022-11-07T00:06:36.521Z"
   },
   {
    "duration": 43,
    "start_time": "2022-11-07T00:06:37.596Z"
   },
   {
    "duration": 5174,
    "start_time": "2022-11-07T00:06:37.641Z"
   },
   {
    "duration": 1383,
    "start_time": "2022-11-07T00:06:42.818Z"
   },
   {
    "duration": 68,
    "start_time": "2022-11-07T00:06:44.203Z"
   },
   {
    "duration": 76593,
    "start_time": "2022-11-07T00:06:44.273Z"
   },
   {
    "duration": 99,
    "start_time": "2022-11-07T00:08:00.868Z"
   },
   {
    "duration": 84,
    "start_time": "2022-11-07T00:08:00.969Z"
   },
   {
    "duration": 397,
    "start_time": "2022-11-07T00:08:01.055Z"
   },
   {
    "duration": 1413,
    "start_time": "2022-11-07T00:08:01.453Z"
   },
   {
    "duration": 220,
    "start_time": "2022-11-07T00:08:02.867Z"
   },
   {
    "duration": 354900,
    "start_time": "2022-11-07T00:08:03.088Z"
   },
   {
    "duration": 25608,
    "start_time": "2022-11-07T00:13:57.991Z"
   },
   {
    "duration": 185126,
    "start_time": "2022-11-07T00:14:23.601Z"
   },
   {
    "duration": 80,
    "start_time": "2022-11-07T00:17:28.729Z"
   },
   {
    "duration": 23021,
    "start_time": "2022-11-07T00:17:28.811Z"
   },
   {
    "duration": 236,
    "start_time": "2022-11-07T00:17:51.834Z"
   },
   {
    "duration": 16,
    "start_time": "2022-11-07T00:17:52.072Z"
   },
   {
    "duration": 0,
    "start_time": "2022-11-07T00:17:52.090Z"
   },
   {
    "duration": 0,
    "start_time": "2022-11-07T00:17:52.094Z"
   },
   {
    "duration": 25791,
    "start_time": "2022-11-07T00:18:15.754Z"
   },
   {
    "duration": 25949,
    "start_time": "2022-11-07T00:19:08.254Z"
   },
   {
    "duration": 902182,
    "start_time": "2022-11-07T00:20:48.313Z"
   },
   {
    "duration": 65374,
    "start_time": "2022-11-07T00:35:59.674Z"
   },
   {
    "duration": 14,
    "start_time": "2022-11-07T00:41:54.130Z"
   },
   {
    "duration": 1434957,
    "start_time": "2022-11-07T00:41:59.785Z"
   },
   {
    "duration": 12,
    "start_time": "2022-11-07T01:05:54.744Z"
   },
   {
    "duration": 28226,
    "start_time": "2022-11-07T01:07:29.294Z"
   },
   {
    "duration": 42773,
    "start_time": "2022-11-07T01:08:32.565Z"
   },
   {
    "duration": 23474,
    "start_time": "2022-11-07T01:10:09.767Z"
   },
   {
    "duration": 11,
    "start_time": "2022-11-07T01:11:08.477Z"
   },
   {
    "duration": 10,
    "start_time": "2022-11-07T01:11:15.753Z"
   },
   {
    "duration": 76,
    "start_time": "2022-11-07T01:11:29.202Z"
   },
   {
    "duration": 3811,
    "start_time": "2022-11-07T01:11:35.869Z"
   },
   {
    "duration": 10,
    "start_time": "2022-11-07T01:16:26.131Z"
   },
   {
    "duration": 2455,
    "start_time": "2022-11-07T09:30:56.083Z"
   },
   {
    "duration": 3516,
    "start_time": "2022-11-07T09:31:00.204Z"
   },
   {
    "duration": 30,
    "start_time": "2022-11-07T09:31:03.722Z"
   },
   {
    "duration": 6243,
    "start_time": "2022-11-07T09:31:03.753Z"
   },
   {
    "duration": 1424,
    "start_time": "2022-11-07T09:31:10.000Z"
   },
   {
    "duration": 61,
    "start_time": "2022-11-07T09:31:11.432Z"
   },
   {
    "duration": 82209,
    "start_time": "2022-11-07T09:31:11.495Z"
   },
   {
    "duration": 150,
    "start_time": "2022-11-07T09:32:33.706Z"
   },
   {
    "duration": 78,
    "start_time": "2022-11-07T09:32:33.858Z"
   },
   {
    "duration": 363,
    "start_time": "2022-11-07T09:32:33.938Z"
   },
   {
    "duration": 2595,
    "start_time": "2022-11-07T09:32:34.303Z"
   },
   {
    "duration": 231,
    "start_time": "2022-11-07T09:32:36.900Z"
   },
   {
    "duration": 29825,
    "start_time": "2022-11-07T09:33:07.251Z"
   },
   {
    "duration": 5,
    "start_time": "2022-11-07T09:36:49.561Z"
   },
   {
    "duration": 38288,
    "start_time": "2022-11-07T09:36:57.248Z"
   },
   {
    "duration": 1558,
    "start_time": "2022-11-09T21:33:50.539Z"
   },
   {
    "duration": 3100,
    "start_time": "2022-11-09T21:33:52.099Z"
   },
   {
    "duration": 20,
    "start_time": "2022-11-09T21:33:55.201Z"
   },
   {
    "duration": 4587,
    "start_time": "2022-11-09T21:33:55.223Z"
   },
   {
    "duration": 80,
    "start_time": "2022-11-09T21:33:59.812Z"
   },
   {
    "duration": 446,
    "start_time": "2022-11-09T21:33:59.894Z"
   },
   {
    "duration": 80,
    "start_time": "2022-11-09T21:34:00.342Z"
   },
   {
    "duration": 1487,
    "start_time": "2022-11-09T21:34:00.424Z"
   },
   {
    "duration": 71,
    "start_time": "2022-11-09T21:34:01.913Z"
   },
   {
    "duration": 6,
    "start_time": "2022-11-09T21:34:01.986Z"
   },
   {
    "duration": 204,
    "start_time": "2022-11-09T21:34:01.994Z"
   },
   {
    "duration": 45,
    "start_time": "2022-11-09T21:34:02.201Z"
   },
   {
    "duration": 234,
    "start_time": "2022-11-09T21:34:02.248Z"
   },
   {
    "duration": 112,
    "start_time": "2022-11-09T21:34:02.485Z"
   },
   {
    "duration": 5,
    "start_time": "2022-11-09T21:34:02.599Z"
   },
   {
    "duration": 180034,
    "start_time": "2022-11-09T21:34:02.605Z"
   },
   {
    "duration": 1798,
    "start_time": "2022-11-09T21:37:02.641Z"
   },
   {
    "duration": 257,
    "start_time": "2022-11-09T21:37:04.445Z"
   },
   {
    "duration": 36656,
    "start_time": "2022-11-09T21:37:04.703Z"
   },
   {
    "duration": 183,
    "start_time": "2022-11-09T21:37:41.361Z"
   },
   {
    "duration": 178,
    "start_time": "2022-11-09T21:37:41.546Z"
   },
   {
    "duration": 53,
    "start_time": "2022-11-09T21:37:41.726Z"
   },
   {
    "duration": 0,
    "start_time": "2022-11-09T21:37:41.781Z"
   },
   {
    "duration": 0,
    "start_time": "2022-11-09T21:37:41.782Z"
   },
   {
    "duration": 0,
    "start_time": "2022-11-09T21:37:41.784Z"
   },
   {
    "duration": 0,
    "start_time": "2022-11-09T21:37:41.785Z"
   },
   {
    "duration": 0,
    "start_time": "2022-11-09T21:37:41.786Z"
   },
   {
    "duration": 36070,
    "start_time": "2022-11-09T21:38:40.502Z"
   },
   {
    "duration": 177,
    "start_time": "2022-11-09T21:39:43.977Z"
   },
   {
    "duration": 233,
    "start_time": "2022-11-09T21:40:45.162Z"
   },
   {
    "duration": 199,
    "start_time": "2022-11-09T21:40:59.862Z"
   },
   {
    "duration": 246,
    "start_time": "2022-11-09T21:42:01.258Z"
   },
   {
    "duration": 123,
    "start_time": "2022-11-09T21:43:32.668Z"
   },
   {
    "duration": 53,
    "start_time": "2022-11-09T21:43:40.257Z"
   },
   {
    "duration": 128,
    "start_time": "2022-11-09T21:44:13.545Z"
   },
   {
    "duration": 183,
    "start_time": "2022-11-09T21:48:25.000Z"
   },
   {
    "duration": 224,
    "start_time": "2022-11-09T21:48:36.490Z"
   },
   {
    "duration": 739,
    "start_time": "2022-11-09T21:49:49.152Z"
   },
   {
    "duration": 21889,
    "start_time": "2022-11-09T21:49:58.064Z"
   },
   {
    "duration": 47,
    "start_time": "2022-11-09T21:52:56.763Z"
   },
   {
    "duration": 69,
    "start_time": "2022-11-09T21:53:05.538Z"
   },
   {
    "duration": 364,
    "start_time": "2022-11-09T21:53:30.784Z"
   },
   {
    "duration": 50,
    "start_time": "2022-11-09T22:08:31.654Z"
   },
   {
    "duration": 10,
    "start_time": "2022-11-09T22:14:39.911Z"
   },
   {
    "duration": 5,
    "start_time": "2022-11-09T22:15:11.111Z"
   },
   {
    "duration": 742751,
    "start_time": "2022-11-09T22:15:24.281Z"
   },
   {
    "duration": 746887,
    "start_time": "2022-11-09T22:30:45.887Z"
   },
   {
    "duration": 86907,
    "start_time": "2022-11-09T22:47:51.495Z"
   },
   {
    "duration": 20751,
    "start_time": "2022-11-09T22:50:17.403Z"
   },
   {
    "duration": 26891,
    "start_time": "2022-11-09T22:50:59.855Z"
   },
   {
    "duration": 10,
    "start_time": "2022-11-09T22:52:21.892Z"
   },
   {
    "duration": 9,
    "start_time": "2022-11-09T22:52:57.195Z"
   },
   {
    "duration": 63507,
    "start_time": "2022-11-09T22:57:58.382Z"
   },
   {
    "duration": 64343,
    "start_time": "2022-11-09T22:59:27.076Z"
   },
   {
    "duration": 11,
    "start_time": "2022-11-09T23:03:45.690Z"
   },
   {
    "duration": 65781,
    "start_time": "2022-11-09T23:11:12.784Z"
   },
   {
    "duration": 66301,
    "start_time": "2022-11-09T23:14:10.220Z"
   },
   {
    "duration": 64576,
    "start_time": "2022-11-09T23:18:38.455Z"
   },
   {
    "duration": 65085,
    "start_time": "2022-11-09T23:19:58.811Z"
   },
   {
    "duration": 47,
    "start_time": "2022-11-09T23:33:56.902Z"
   },
   {
    "duration": 1390,
    "start_time": "2022-11-09T23:34:08.291Z"
   },
   {
    "duration": 985,
    "start_time": "2022-11-09T23:34:09.683Z"
   },
   {
    "duration": 22,
    "start_time": "2022-11-09T23:34:10.670Z"
   },
   {
    "duration": 4671,
    "start_time": "2022-11-09T23:34:10.694Z"
   },
   {
    "duration": 98,
    "start_time": "2022-11-09T23:34:15.367Z"
   },
   {
    "duration": 449,
    "start_time": "2022-11-09T23:34:15.467Z"
   },
   {
    "duration": 84,
    "start_time": "2022-11-09T23:34:15.918Z"
   },
   {
    "duration": 1480,
    "start_time": "2022-11-09T23:34:16.004Z"
   },
   {
    "duration": 61,
    "start_time": "2022-11-09T23:34:17.486Z"
   },
   {
    "duration": 61119,
    "start_time": "2022-11-09T23:34:17.550Z"
   },
   {
    "duration": 173,
    "start_time": "2022-11-09T23:35:18.671Z"
   },
   {
    "duration": 40,
    "start_time": "2022-11-09T23:35:18.846Z"
   },
   {
    "duration": 2378,
    "start_time": "2022-11-09T23:35:18.887Z"
   },
   {
    "duration": 102,
    "start_time": "2022-11-09T23:35:21.267Z"
   },
   {
    "duration": 5,
    "start_time": "2022-11-09T23:35:21.371Z"
   },
   {
    "duration": 184865,
    "start_time": "2022-11-09T23:35:21.377Z"
   },
   {
    "duration": 1655,
    "start_time": "2022-11-09T23:38:26.244Z"
   },
   {
    "duration": 199607,
    "start_time": "2022-11-09T23:38:27.902Z"
   },
   {
    "duration": 195,
    "start_time": "2022-11-09T23:41:47.510Z"
   },
   {
    "duration": 35152,
    "start_time": "2022-11-09T23:41:47.706Z"
   },
   {
    "duration": 31331,
    "start_time": "2022-11-09T23:42:22.859Z"
   },
   {
    "duration": 82155,
    "start_time": "2022-11-09T23:42:54.192Z"
   },
   {
    "duration": 22698,
    "start_time": "2022-11-09T23:44:16.349Z"
   },
   {
    "duration": 496,
    "start_time": "2022-11-09T23:44:39.049Z"
   },
   {
    "duration": 20707,
    "start_time": "2022-11-09T23:44:39.548Z"
   },
   {
    "duration": 100,
    "start_time": "2022-11-09T23:45:00.347Z"
   },
   {
    "duration": 62728,
    "start_time": "2022-11-09T23:45:00.449Z"
   },
   {
    "duration": 96,
    "start_time": "2022-11-09T23:46:03.180Z"
   },
   {
    "duration": 9,
    "start_time": "2022-11-09T23:53:21.781Z"
   },
   {
    "duration": 11,
    "start_time": "2022-11-09T23:53:43.150Z"
   },
   {
    "duration": 10,
    "start_time": "2022-11-09T23:54:56.156Z"
   },
   {
    "duration": 1846,
    "start_time": "2022-11-10T09:57:55.896Z"
   },
   {
    "duration": 2877,
    "start_time": "2022-11-10T09:57:57.745Z"
   },
   {
    "duration": 20,
    "start_time": "2022-11-10T09:58:19.568Z"
   },
   {
    "duration": 4795,
    "start_time": "2022-11-10T09:58:20.143Z"
   },
   {
    "duration": 84,
    "start_time": "2022-11-10T09:58:24.940Z"
   },
   {
    "duration": 425,
    "start_time": "2022-11-10T09:58:25.026Z"
   },
   {
    "duration": 80,
    "start_time": "2022-11-10T09:58:25.453Z"
   },
   {
    "duration": 1238,
    "start_time": "2022-11-10T09:58:25.534Z"
   },
   {
    "duration": 49,
    "start_time": "2022-11-10T09:59:27.775Z"
   },
   {
    "duration": 57901,
    "start_time": "2022-11-10T09:59:29.055Z"
   },
   {
    "duration": 47,
    "start_time": "2022-11-10T10:01:30.317Z"
   },
   {
    "duration": 154,
    "start_time": "2022-11-10T10:01:47.557Z"
   },
   {
    "duration": 37,
    "start_time": "2022-11-10T10:01:49.948Z"
   },
   {
    "duration": 2020,
    "start_time": "2022-11-10T10:01:53.204Z"
   },
   {
    "duration": 80,
    "start_time": "2022-11-10T10:10:25.823Z"
   },
   {
    "duration": 5,
    "start_time": "2022-11-10T10:10:34.319Z"
   },
   {
    "duration": 176070,
    "start_time": "2022-11-10T10:10:46.086Z"
   },
   {
    "duration": 1585,
    "start_time": "2022-11-10T10:14:02.612Z"
   },
   {
    "duration": 197693,
    "start_time": "2022-11-10T10:14:08.875Z"
   },
   {
    "duration": 166,
    "start_time": "2022-11-10T10:17:35.994Z"
   },
   {
    "duration": 4,
    "start_time": "2022-11-10T10:17:53.420Z"
   },
   {
    "duration": 87,
    "start_time": "2022-11-10T10:18:14.313Z"
   },
   {
    "duration": 18,
    "start_time": "2022-11-10T10:18:49.729Z"
   },
   {
    "duration": 34,
    "start_time": "2022-11-10T10:19:10.713Z"
   },
   {
    "duration": 14,
    "start_time": "2022-11-10T10:19:17.709Z"
   },
   {
    "duration": 47,
    "start_time": "2022-11-10T10:19:33.360Z"
   },
   {
    "duration": 33,
    "start_time": "2022-11-10T10:19:36.225Z"
   },
   {
    "duration": 1643,
    "start_time": "2022-11-10T18:04:39.015Z"
   },
   {
    "duration": 3002,
    "start_time": "2022-11-10T18:04:40.660Z"
   },
   {
    "duration": 23,
    "start_time": "2022-11-10T18:04:43.664Z"
   },
   {
    "duration": 5172,
    "start_time": "2022-11-10T18:04:43.690Z"
   },
   {
    "duration": 98,
    "start_time": "2022-11-10T18:04:48.864Z"
   },
   {
    "duration": 465,
    "start_time": "2022-11-10T18:04:48.964Z"
   },
   {
    "duration": 92,
    "start_time": "2022-11-10T18:04:49.430Z"
   },
   {
    "duration": 1480,
    "start_time": "2022-11-10T18:04:49.524Z"
   },
   {
    "duration": 58,
    "start_time": "2022-11-10T18:04:51.005Z"
   },
   {
    "duration": 67269,
    "start_time": "2022-11-10T18:04:51.066Z"
   },
   {
    "duration": 162,
    "start_time": "2022-11-10T18:05:58.337Z"
   },
   {
    "duration": 53,
    "start_time": "2022-11-10T18:05:58.502Z"
   },
   {
    "duration": 2123,
    "start_time": "2022-11-10T18:05:58.557Z"
   },
   {
    "duration": 105,
    "start_time": "2022-11-10T18:06:00.682Z"
   },
   {
    "duration": 6,
    "start_time": "2022-11-10T18:06:00.788Z"
   },
   {
    "duration": 198150,
    "start_time": "2022-11-10T18:06:00.796Z"
   },
   {
    "duration": 1917,
    "start_time": "2022-11-10T18:09:18.947Z"
   },
   {
    "duration": 222139,
    "start_time": "2022-11-10T18:09:20.866Z"
   },
   {
    "duration": 1552326,
    "start_time": "2022-11-10T18:13:03.006Z"
   },
   {
    "duration": 32401,
    "start_time": "2022-11-10T18:38:55.334Z"
   },
   {
    "duration": 29934,
    "start_time": "2022-11-10T18:39:27.738Z"
   },
   {
    "duration": 84882,
    "start_time": "2022-11-10T18:39:57.674Z"
   },
   {
    "duration": 21266,
    "start_time": "2022-11-10T18:41:22.558Z"
   },
   {
    "duration": 493,
    "start_time": "2022-11-10T18:41:43.826Z"
   },
   {
    "duration": 22603,
    "start_time": "2022-11-10T18:41:44.321Z"
   },
   {
    "duration": 13,
    "start_time": "2022-11-10T18:42:06.927Z"
   },
   {
    "duration": 230,
    "start_time": "2022-11-10T18:42:06.942Z"
   },
   {
    "duration": 0,
    "start_time": "2022-11-10T18:42:07.174Z"
   },
   {
    "duration": 554,
    "start_time": "2022-11-10T18:44:43.983Z"
   },
   {
    "duration": 237,
    "start_time": "2022-11-10T18:45:40.188Z"
   },
   {
    "duration": 1445512,
    "start_time": "2022-11-10T18:46:44.615Z"
   },
   {
    "duration": 536313,
    "start_time": "2022-11-10T19:11:40.813Z"
   },
   {
    "duration": 299322,
    "start_time": "2022-11-10T19:44:58.509Z"
   },
   {
    "duration": 31691,
    "start_time": "2022-11-10T19:51:00.144Z"
   },
   {
    "duration": 1429,
    "start_time": "2022-11-10T19:55:13.339Z"
   },
   {
    "duration": 1015,
    "start_time": "2022-11-10T19:55:14.771Z"
   },
   {
    "duration": 20,
    "start_time": "2022-11-10T19:55:15.788Z"
   },
   {
    "duration": 4839,
    "start_time": "2022-11-10T19:55:15.818Z"
   },
   {
    "duration": 96,
    "start_time": "2022-11-10T19:55:20.659Z"
   },
   {
    "duration": 437,
    "start_time": "2022-11-10T19:55:20.757Z"
   },
   {
    "duration": 76,
    "start_time": "2022-11-10T19:55:21.195Z"
   },
   {
    "duration": 1314,
    "start_time": "2022-11-10T19:55:21.273Z"
   },
   {
    "duration": 59,
    "start_time": "2022-11-10T19:55:22.589Z"
   },
   {
    "duration": 63521,
    "start_time": "2022-11-10T19:55:22.651Z"
   },
   {
    "duration": 162,
    "start_time": "2022-11-10T19:56:26.174Z"
   },
   {
    "duration": 50,
    "start_time": "2022-11-10T19:56:26.338Z"
   },
   {
    "duration": 2278,
    "start_time": "2022-11-10T19:56:26.390Z"
   },
   {
    "duration": 103,
    "start_time": "2022-11-10T19:56:28.670Z"
   },
   {
    "duration": 6,
    "start_time": "2022-11-10T19:56:28.775Z"
   },
   {
    "duration": 188140,
    "start_time": "2022-11-10T19:56:28.783Z"
   },
   {
    "duration": 1787,
    "start_time": "2022-11-10T19:59:36.925Z"
   },
   {
    "duration": 213837,
    "start_time": "2022-11-10T19:59:38.718Z"
   },
   {
    "duration": 201,
    "start_time": "2022-11-10T20:03:12.556Z"
   },
   {
    "duration": 33268,
    "start_time": "2022-11-10T20:03:12.758Z"
   },
   {
    "duration": 29322,
    "start_time": "2022-11-10T20:03:46.028Z"
   },
   {
    "duration": 83409,
    "start_time": "2022-11-10T20:04:15.352Z"
   },
   {
    "duration": 22259,
    "start_time": "2022-11-10T20:05:38.762Z"
   },
   {
    "duration": 497,
    "start_time": "2022-11-10T20:06:01.022Z"
   },
   {
    "duration": 21506,
    "start_time": "2022-11-10T20:06:01.521Z"
   },
   {
    "duration": 9,
    "start_time": "2022-11-10T20:06:23.119Z"
   },
   {
    "duration": 505,
    "start_time": "2022-11-10T20:06:23.130Z"
   },
   {
    "duration": 93,
    "start_time": "2022-11-10T20:06:23.638Z"
   },
   {
    "duration": 216,
    "start_time": "2022-11-10T20:06:23.732Z"
   },
   {
    "duration": 11,
    "start_time": "2022-11-10T20:06:38.151Z"
   },
   {
    "duration": 23,
    "start_time": "2022-11-10T20:12:21.697Z"
   },
   {
    "duration": 54,
    "start_time": "2022-11-12T15:11:35.798Z"
   },
   {
    "duration": 72,
    "start_time": "2022-11-13T11:49:28.072Z"
   }
  ],
  "kernelspec": {
   "display_name": "Python 3 (ipykernel)",
   "language": "python",
   "name": "python3"
  },
  "language_info": {
   "codemirror_mode": {
    "name": "ipython",
    "version": 3
   },
   "file_extension": ".py",
   "mimetype": "text/x-python",
   "name": "python",
   "nbconvert_exporter": "python",
   "pygments_lexer": "ipython3",
   "version": "3.9.5"
  },
  "latex_envs": {
   "LaTeX_envs_menu_present": true,
   "autoclose": false,
   "autocomplete": true,
   "bibliofile": "biblio.bib",
   "cite_by": "apalike",
   "current_citInitial": 1,
   "eqLabelWithNumbers": true,
   "eqNumInitial": 1,
   "hotkeys": {
    "equation": "Ctrl-E",
    "itemize": "Ctrl-I"
   },
   "labels_anchors": false,
   "latex_user_defs": false,
   "report_style_numbering": false,
   "user_envs_cfg": false
  },
  "toc": {
   "base_numbering": 1,
   "nav_menu": {},
   "number_sections": true,
   "sideBar": true,
   "skip_h1_title": true,
   "title_cell": "Table of Contents",
   "title_sidebar": "Contents",
   "toc_cell": false,
   "toc_position": {
    "height": "calc(100% - 180px)",
    "left": "10px",
    "top": "150px",
    "width": "209.08px"
   },
   "toc_section_display": true,
   "toc_window_display": true
  }
 },
 "nbformat": 4,
 "nbformat_minor": 2
}
