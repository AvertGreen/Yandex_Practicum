{
 "cells": [
  {
   "cell_type": "markdown",
   "metadata": {
    "toc": true
   },
   "source": [
    "<h1>Содержание<span class=\"tocSkip\"></span></h1>\n",
    "<div class=\"toc\"><ul class=\"toc-item\"><li><span><a href=\"#Загрузка-данных\" data-toc-modified-id=\"Загрузка-данных-1\"><span class=\"toc-item-num\">1&nbsp;&nbsp;</span>Загрузка данных</a></span></li><li><span><a href=\"#Умножение-матриц\" data-toc-modified-id=\"Умножение-матриц-2\"><span class=\"toc-item-num\">2&nbsp;&nbsp;</span>Умножение матриц</a></span></li><li><span><a href=\"#Алгоритм-преобразования\" data-toc-modified-id=\"Алгоритм-преобразования-3\"><span class=\"toc-item-num\">3&nbsp;&nbsp;</span>Алгоритм преобразования</a></span></li><li><span><a href=\"#Проверка-алгоритма\" data-toc-modified-id=\"Проверка-алгоритма-4\"><span class=\"toc-item-num\">4&nbsp;&nbsp;</span>Проверка алгоритма</a></span></li><li><span><a href=\"#Чек-лист-проверки\" data-toc-modified-id=\"Чек-лист-проверки-5\"><span class=\"toc-item-num\">5&nbsp;&nbsp;</span>Чек-лист проверки</a></span></li></ul></div>"
   ]
  },
  {
   "cell_type": "markdown",
   "metadata": {},
   "source": [
    "# Защита персональных данных клиентов"
   ]
  },
  {
   "cell_type": "markdown",
   "metadata": {},
   "source": [
    "Вам нужно защитить данные клиентов страховой компании «Хоть потоп». Разработайте такой метод преобразования данных, чтобы по ним было сложно восстановить персональную информацию. Обоснуйте корректность его работы.\n",
    "\n",
    "Нужно защитить данные, чтобы при преобразовании качество моделей машинного обучения не ухудшилось. Подбирать наилучшую модель не требуется."
   ]
  },
  {
   "cell_type": "markdown",
   "metadata": {},
   "source": [
    "## Загрузка данных"
   ]
  },
  {
   "cell_type": "code",
   "execution_count": 1,
   "metadata": {},
   "outputs": [],
   "source": [
    "# загрузим необходимые бибилиотеки\n",
    "import pandas as pd\n",
    "import numpy as np\n",
    "from sklearn.linear_model import LinearRegression\n",
    "from sklearn.model_selection import train_test_split, GridSearchCV\n",
    "from sklearn.metrics import r2_score\n",
    "import matplotlib.pyplot as plt\n",
    "import seaborn as sns"
   ]
  },
  {
   "cell_type": "code",
   "execution_count": 2,
   "metadata": {},
   "outputs": [
    {
     "name": "stdout",
     "output_type": "stream",
     "text": [
      "<class 'pandas.core.frame.DataFrame'>\n",
      "RangeIndex: 5000 entries, 0 to 4999\n",
      "Data columns (total 5 columns):\n",
      " #   Column             Non-Null Count  Dtype  \n",
      "---  ------             --------------  -----  \n",
      " 0   Пол                5000 non-null   int64  \n",
      " 1   Возраст            5000 non-null   float64\n",
      " 2   Зарплата           5000 non-null   float64\n",
      " 3   Члены семьи        5000 non-null   int64  \n",
      " 4   Страховые выплаты  5000 non-null   int64  \n",
      "dtypes: float64(2), int64(3)\n",
      "memory usage: 195.4 KB\n"
     ]
    },
    {
     "data": {
      "text/html": [
       "<div>\n",
       "<style scoped>\n",
       "    .dataframe tbody tr th:only-of-type {\n",
       "        vertical-align: middle;\n",
       "    }\n",
       "\n",
       "    .dataframe tbody tr th {\n",
       "        vertical-align: top;\n",
       "    }\n",
       "\n",
       "    .dataframe thead th {\n",
       "        text-align: right;\n",
       "    }\n",
       "</style>\n",
       "<table border=\"1\" class=\"dataframe\">\n",
       "  <thead>\n",
       "    <tr style=\"text-align: right;\">\n",
       "      <th></th>\n",
       "      <th>Пол</th>\n",
       "      <th>Возраст</th>\n",
       "      <th>Зарплата</th>\n",
       "      <th>Члены семьи</th>\n",
       "      <th>Страховые выплаты</th>\n",
       "    </tr>\n",
       "  </thead>\n",
       "  <tbody>\n",
       "    <tr>\n",
       "      <th>3332</th>\n",
       "      <td>0</td>\n",
       "      <td>21.0</td>\n",
       "      <td>36800.0</td>\n",
       "      <td>1</td>\n",
       "      <td>0</td>\n",
       "    </tr>\n",
       "    <tr>\n",
       "      <th>4310</th>\n",
       "      <td>0</td>\n",
       "      <td>49.0</td>\n",
       "      <td>38100.0</td>\n",
       "      <td>2</td>\n",
       "      <td>1</td>\n",
       "    </tr>\n",
       "    <tr>\n",
       "      <th>4208</th>\n",
       "      <td>1</td>\n",
       "      <td>42.0</td>\n",
       "      <td>43100.0</td>\n",
       "      <td>0</td>\n",
       "      <td>1</td>\n",
       "    </tr>\n",
       "    <tr>\n",
       "      <th>3935</th>\n",
       "      <td>1</td>\n",
       "      <td>36.0</td>\n",
       "      <td>53000.0</td>\n",
       "      <td>1</td>\n",
       "      <td>0</td>\n",
       "    </tr>\n",
       "    <tr>\n",
       "      <th>241</th>\n",
       "      <td>1</td>\n",
       "      <td>27.0</td>\n",
       "      <td>32400.0</td>\n",
       "      <td>1</td>\n",
       "      <td>0</td>\n",
       "    </tr>\n",
       "    <tr>\n",
       "      <th>953</th>\n",
       "      <td>1</td>\n",
       "      <td>18.0</td>\n",
       "      <td>38800.0</td>\n",
       "      <td>1</td>\n",
       "      <td>0</td>\n",
       "    </tr>\n",
       "    <tr>\n",
       "      <th>3341</th>\n",
       "      <td>1</td>\n",
       "      <td>29.0</td>\n",
       "      <td>36000.0</td>\n",
       "      <td>1</td>\n",
       "      <td>0</td>\n",
       "    </tr>\n",
       "    <tr>\n",
       "      <th>4254</th>\n",
       "      <td>0</td>\n",
       "      <td>33.0</td>\n",
       "      <td>25200.0</td>\n",
       "      <td>2</td>\n",
       "      <td>0</td>\n",
       "    </tr>\n",
       "    <tr>\n",
       "      <th>2841</th>\n",
       "      <td>1</td>\n",
       "      <td>26.0</td>\n",
       "      <td>47400.0</td>\n",
       "      <td>0</td>\n",
       "      <td>0</td>\n",
       "    </tr>\n",
       "    <tr>\n",
       "      <th>2323</th>\n",
       "      <td>0</td>\n",
       "      <td>22.0</td>\n",
       "      <td>45800.0</td>\n",
       "      <td>1</td>\n",
       "      <td>0</td>\n",
       "    </tr>\n",
       "  </tbody>\n",
       "</table>\n",
       "</div>"
      ],
      "text/plain": [
       "      Пол  Возраст  Зарплата  Члены семьи  Страховые выплаты\n",
       "3332    0     21.0   36800.0            1                  0\n",
       "4310    0     49.0   38100.0            2                  1\n",
       "4208    1     42.0   43100.0            0                  1\n",
       "3935    1     36.0   53000.0            1                  0\n",
       "241     1     27.0   32400.0            1                  0\n",
       "953     1     18.0   38800.0            1                  0\n",
       "3341    1     29.0   36000.0            1                  0\n",
       "4254    0     33.0   25200.0            2                  0\n",
       "2841    1     26.0   47400.0            0                  0\n",
       "2323    0     22.0   45800.0            1                  0"
      ]
     },
     "metadata": {},
     "output_type": "display_data"
    },
    {
     "data": {
      "text/plain": [
       "153"
      ]
     },
     "execution_count": 2,
     "metadata": {},
     "output_type": "execute_result"
    }
   ],
   "source": [
    "# загрузим данные\n",
    "df = pd.read_csv('/datasets/insurance.csv')\n",
    "df.info()\n",
    "display(df.sample(10))\n",
    "df.duplicated().sum()"
   ]
  },
  {
   "cell_type": "markdown",
   "metadata": {},
   "source": [
    "Данные клиентов страховой компании, содержат информацию о поле, возрасте, зарплате застрахованного лица, количестве членов семьи и количестве страховых выплат за последние `5` лет.  \n",
    "`5` столбцов, `5000` строк.  \n",
    "Все данные без пропусков, типа `int64` или `float64` .   \n",
    "Целевой признак - `Страховые выплаты` .  \n",
    "Обнаружены `153` дубликата объектов - оставим дубли, данные могли быть от разных клиентов.  "
   ]
  },
  {
   "cell_type": "code",
   "execution_count": 3,
   "metadata": {},
   "outputs": [
    {
     "data": {
      "text/html": [
       "<div>\n",
       "<style scoped>\n",
       "    .dataframe tbody tr th:only-of-type {\n",
       "        vertical-align: middle;\n",
       "    }\n",
       "\n",
       "    .dataframe tbody tr th {\n",
       "        vertical-align: top;\n",
       "    }\n",
       "\n",
       "    .dataframe thead th {\n",
       "        text-align: right;\n",
       "    }\n",
       "</style>\n",
       "<table border=\"1\" class=\"dataframe\">\n",
       "  <thead>\n",
       "    <tr style=\"text-align: right;\">\n",
       "      <th></th>\n",
       "      <th>Пол</th>\n",
       "      <th>Возраст</th>\n",
       "      <th>Зарплата</th>\n",
       "      <th>Члены семьи</th>\n",
       "      <th>Страховые выплаты</th>\n",
       "    </tr>\n",
       "  </thead>\n",
       "  <tbody>\n",
       "    <tr>\n",
       "      <th>count</th>\n",
       "      <td>5000.000000</td>\n",
       "      <td>5000.000000</td>\n",
       "      <td>5000.000000</td>\n",
       "      <td>5000.000000</td>\n",
       "      <td>5000.000000</td>\n",
       "    </tr>\n",
       "    <tr>\n",
       "      <th>mean</th>\n",
       "      <td>0.499000</td>\n",
       "      <td>30.952800</td>\n",
       "      <td>39916.360000</td>\n",
       "      <td>1.194200</td>\n",
       "      <td>0.148000</td>\n",
       "    </tr>\n",
       "    <tr>\n",
       "      <th>std</th>\n",
       "      <td>0.500049</td>\n",
       "      <td>8.440807</td>\n",
       "      <td>9900.083569</td>\n",
       "      <td>1.091387</td>\n",
       "      <td>0.463183</td>\n",
       "    </tr>\n",
       "    <tr>\n",
       "      <th>min</th>\n",
       "      <td>0.000000</td>\n",
       "      <td>18.000000</td>\n",
       "      <td>5300.000000</td>\n",
       "      <td>0.000000</td>\n",
       "      <td>0.000000</td>\n",
       "    </tr>\n",
       "    <tr>\n",
       "      <th>25%</th>\n",
       "      <td>0.000000</td>\n",
       "      <td>24.000000</td>\n",
       "      <td>33300.000000</td>\n",
       "      <td>0.000000</td>\n",
       "      <td>0.000000</td>\n",
       "    </tr>\n",
       "    <tr>\n",
       "      <th>50%</th>\n",
       "      <td>0.000000</td>\n",
       "      <td>30.000000</td>\n",
       "      <td>40200.000000</td>\n",
       "      <td>1.000000</td>\n",
       "      <td>0.000000</td>\n",
       "    </tr>\n",
       "    <tr>\n",
       "      <th>75%</th>\n",
       "      <td>1.000000</td>\n",
       "      <td>37.000000</td>\n",
       "      <td>46600.000000</td>\n",
       "      <td>2.000000</td>\n",
       "      <td>0.000000</td>\n",
       "    </tr>\n",
       "    <tr>\n",
       "      <th>max</th>\n",
       "      <td>1.000000</td>\n",
       "      <td>65.000000</td>\n",
       "      <td>79000.000000</td>\n",
       "      <td>6.000000</td>\n",
       "      <td>5.000000</td>\n",
       "    </tr>\n",
       "  </tbody>\n",
       "</table>\n",
       "</div>"
      ],
      "text/plain": [
       "               Пол      Возраст      Зарплата  Члены семьи  Страховые выплаты\n",
       "count  5000.000000  5000.000000   5000.000000  5000.000000        5000.000000\n",
       "mean      0.499000    30.952800  39916.360000     1.194200           0.148000\n",
       "std       0.500049     8.440807   9900.083569     1.091387           0.463183\n",
       "min       0.000000    18.000000   5300.000000     0.000000           0.000000\n",
       "25%       0.000000    24.000000  33300.000000     0.000000           0.000000\n",
       "50%       0.000000    30.000000  40200.000000     1.000000           0.000000\n",
       "75%       1.000000    37.000000  46600.000000     2.000000           0.000000\n",
       "max       1.000000    65.000000  79000.000000     6.000000           5.000000"
      ]
     },
     "execution_count": 3,
     "metadata": {},
     "output_type": "execute_result"
    }
   ],
   "source": [
    "# описательные статистики\n",
    "df.describe()"
   ]
  },
  {
   "cell_type": "markdown",
   "metadata": {},
   "source": [
    "Пол закодирован:  `0` или `1` .  \n",
    "Возраст от `18` до `65` .  \n",
    "Зарплата от `5300` до `79000` .  \n",
    "Членов семьи может быть от `0` до `6` .  \n",
    "Страховые выплаты бинарны, максимум страховых выплат одному клиенту: `5` .  "
   ]
  },
  {
   "cell_type": "code",
   "execution_count": 4,
   "metadata": {},
   "outputs": [
    {
     "data": {
      "image/png": "[encoded data removed]",
      "text/plain": [
       "<Figure size 504x504 with 1 Axes>"
      ]
     },
     "metadata": {
      "needs_background": "light"
     },
     "output_type": "display_data"
    }
   ],
   "source": [
    "# кореляционная матрица\n",
    "fig, ax = plt.subplots(figsize=(7,7))\n",
    "sns.heatmap(df.corr(), annot=True, ax=ax, cbar=False)\n",
    "plt.show()"
   ]
  },
  {
   "cell_type": "markdown",
   "metadata": {},
   "source": [
    "Заметна корреляция между возрастом и страховыми выплатами. "
   ]
  },
  {
   "cell_type": "code",
   "execution_count": 5,
   "metadata": {},
   "outputs": [
    {
     "data": {
      "text/plain": [
       "0.0"
      ]
     },
     "execution_count": 5,
     "metadata": {},
     "output_type": "execute_result"
    }
   ],
   "source": [
    "# функция для проверки на целочисленность\n",
    "def integer(n):\n",
    "    return sum(n%1)\n",
    "integer(df['Возраст'])"
   ]
  },
  {
   "cell_type": "markdown",
   "metadata": {},
   "source": [
    "В столбце `Возраст` данные можно привести в целочисленный формат."
   ]
  },
  {
   "cell_type": "code",
   "execution_count": 6,
   "metadata": {},
   "outputs": [
    {
     "data": {
      "text/plain": [
       "dtype('int64')"
      ]
     },
     "execution_count": 6,
     "metadata": {},
     "output_type": "execute_result"
    }
   ],
   "source": [
    "# столбец возраст приведём к типу int\n",
    "df['Возраст'] = df['Возраст'].astype('int')\n",
    "df['Возраст'].dtypes"
   ]
  },
  {
   "cell_type": "code",
   "execution_count": 7,
   "metadata": {},
   "outputs": [
    {
     "data": {
      "text/plain": [
       "3.0000000001200533"
      ]
     },
     "execution_count": 7,
     "metadata": {},
     "output_type": "execute_result"
    }
   ],
   "source": [
    "# проверим столбец с зарплатой на целочисленность\n",
    "integer(df['Зарплата'])"
   ]
  },
  {
   "cell_type": "markdown",
   "metadata": {},
   "source": [
    "В столбце с зарплатой есть дробные значения. Оставим как есть."
   ]
  },
  {
   "cell_type": "markdown",
   "metadata": {},
   "source": [
    "Данные адекватны и предобработаны, готовы к обучению модели."
   ]
  },
  {
   "cell_type": "markdown",
   "metadata": {},
   "source": [
    "## Умножение матриц"
   ]
  },
  {
   "cell_type": "markdown",
   "metadata": {},
   "source": [
    "Обозначения:\n",
    "\n",
    "- $X$ — матрица признаков (нулевой столбец состоит из единиц)\n",
    "\n",
    "- $y$ — вектор целевого признака\n",
    "\n",
    "- $P$ — матрица, на которую умножаются признаки\n",
    "\n",
    "- $w$ — вектор весов линейной регрессии (нулевой элемент равен сдвигу)\n",
    "\n",
    "- $E$ - единичная матрица \n",
    "\n",
    "- $a'$ - предсказания с умноженными признаками на обратимую матрицу\n",
    "\n",
    "- $w'$ - вектор весов линейной регрессии с умноженными признаками на обратимую матрицу\n",
    "\n",
    "- $MSE$ - средняя квадратическая ошибка (mean squared error)\n",
    "\n",
    "- $MSE'$ - средняя квадратическая ошибка с умноженными признаками на обратимую матрицу"
   ]
  },
  {
   "cell_type": "markdown",
   "metadata": {},
   "source": [
    "Предсказания:\n",
    "\n",
    "$$\n",
    "a = Xw\n",
    "$$\n",
    "\n",
    "Задача обучения:\n",
    "\n",
    "$$\n",
    "w = \\arg\\min_w MSE(Xw, y)\n",
    "$$\n",
    "\n",
    "Формула обучения:\n",
    "\n",
    "$$\n",
    "w = (X^T X)^{-1} X^T y\n",
    "$$"
   ]
  },
  {
   "cell_type": "markdown",
   "metadata": {},
   "source": [
    "**Ответ:** \n",
    "\n",
    "$$w' = P^{-1}w $$\n",
    "$$  a' = a$$\n",
    "$$MSE' = MSE$$\n",
    "\n",
    " При умножении признаков на обратимую матрицу, качество линейной регрессии не изменится.\n",
    "\n",
    "**Обоснование:** \n",
    "\n",
    "\n",
    "$$w' = ((XP)^{T}XP)^{-1}(XP)^{T}y = P^{-1}(X^{T}X)^{-1}(P^{T})^{-1}P^{T}X^{T}y = P^{-1}(X^{T}X)^{-1}EX^{T}y = P^{-1}w$$\n",
    "$$a' = (XP)(P)^{-1}w = XEw = Xw = a$$\n",
    "$$MSE = n^{-1}\\displaystyle\\sum_{i=1}^{n} (y - a)^{2} = n^{-1}\\displaystyle\\sum_{i=1}^{n} (y - a')^{2} = MSE'$$"
   ]
  },
  {
   "cell_type": "markdown",
   "metadata": {},
   "source": [
    "## Алгоритм преобразования"
   ]
  },
  {
   "cell_type": "markdown",
   "metadata": {},
   "source": [
    "**Алгоритм**\n",
    "\n",
    "* выделяем целевой признак;\n",
    "* кодируем нецелевые признаки, посредством умножения на квадратную матрицу из случайных чисел по размеру совпадающую с количеством признаков;\n",
    "* проверям корректность работы шифровальшика, декодировав зашифрованные данные и сравнив их с исходными."
   ]
  },
  {
   "cell_type": "markdown",
   "metadata": {},
   "source": [
    "**Обоснование**  \n",
    "\n",
    "Предсказания модели, с признаками, умноженными на квадратную обратимую матрицу, размерностью равной количеству признаков, равны исходным предсказаниям, как доказано в предыдущем пункте."
   ]
  },
  {
   "cell_type": "markdown",
   "source": [
    "Другими словами, в процессе шифрования формируются новые признаки, которые являются линейной комбинацией старых признаков с определенными весами ($p$), при этом линейное преобразование каждого признака может быть представлено в виде изменения коэффициента при нем: $w' = P^{-1}w$, то есть коэффициенты можно разделить на два компонента ($P^{-1}$ и $w$), при этом $P^{-1}$ будет восстанавливать признаки до исходного состояния ($XPP^{-1} = X$), ну и, наконец, восстановленные признаки умножаются на вторую компоненту - свои изначальные коэфиициенты.\n"
   ],
   "metadata": {
    "collapsed": false
   }
  },
  {
   "cell_type": "code",
   "execution_count": 8,
   "metadata": {},
   "outputs": [
    {
     "data": {
      "text/html": [
       "<div>\n",
       "<style scoped>\n",
       "    .dataframe tbody tr th:only-of-type {\n",
       "        vertical-align: middle;\n",
       "    }\n",
       "\n",
       "    .dataframe tbody tr th {\n",
       "        vertical-align: top;\n",
       "    }\n",
       "\n",
       "    .dataframe thead th {\n",
       "        text-align: right;\n",
       "    }\n",
       "</style>\n",
       "<table border=\"1\" class=\"dataframe\">\n",
       "  <thead>\n",
       "    <tr style=\"text-align: right;\">\n",
       "      <th></th>\n",
       "      <th>Пол</th>\n",
       "      <th>Возраст</th>\n",
       "      <th>Зарплата</th>\n",
       "      <th>Члены семьи</th>\n",
       "    </tr>\n",
       "  </thead>\n",
       "  <tbody>\n",
       "    <tr>\n",
       "      <th>405</th>\n",
       "      <td>1</td>\n",
       "      <td>28</td>\n",
       "      <td>17500.0</td>\n",
       "      <td>2</td>\n",
       "    </tr>\n",
       "  </tbody>\n",
       "</table>\n",
       "</div>"
      ],
      "text/plain": [
       "     Пол  Возраст  Зарплата  Члены семьи\n",
       "405    1       28   17500.0            2"
      ]
     },
     "metadata": {},
     "output_type": "display_data"
    },
    {
     "data": {
      "text/plain": [
       "933    0\n",
       "Name: Страховые выплаты, dtype: int64"
      ]
     },
     "execution_count": 8,
     "metadata": {},
     "output_type": "execute_result"
    }
   ],
   "source": [
    "# выделим целевой признак\n",
    "features = df.drop(['Страховые выплаты'], axis=1)\n",
    "target = df['Страховые выплаты']\n",
    "display(features.sample())\n",
    "target.sample()"
   ]
  },
  {
   "cell_type": "code",
   "execution_count": 9,
   "metadata": {},
   "outputs": [
    {
     "data": {
      "text/plain": [
       "array([[-0.71239066,  0.75376638, -0.04450308,  0.45181234],\n",
       "       [ 1.34510171,  0.53233789,  1.3501879 ,  0.86121137],\n",
       "       [ 1.47868574, -1.04537713, -0.78898902, -1.26160595],\n",
       "       [ 0.56284679, -0.24332625,  0.9137407 ,  0.31735092]])"
      ]
     },
     "execution_count": 9,
     "metadata": {},
     "output_type": "execute_result"
    }
   ],
   "source": [
    "# создадим квадратную обратимую матрицу и проверим её\n",
    "r = np.random.RandomState(13)\n",
    "random_matrix = r.normal(0, 1, (features.shape[1], features.shape[1]))\n",
    "def chm(M):\n",
    "    try:\n",
    "        inverse = np.linalg.inv(random_matrix)\n",
    "        return random_matrix\n",
    "    except np.linalg.LinAlgError:\n",
    "        print('Матрица необратима')\n",
    "chm(random_matrix)"
   ]
  },
  {
   "cell_type": "code",
   "execution_count": 10,
   "metadata": {},
   "outputs": [
    {
     "data": {
      "text/html": [
       "<div>\n",
       "<style scoped>\n",
       "    .dataframe tbody tr th:only-of-type {\n",
       "        vertical-align: middle;\n",
       "    }\n",
       "\n",
       "    .dataframe tbody tr th {\n",
       "        vertical-align: top;\n",
       "    }\n",
       "\n",
       "    .dataframe thead th {\n",
       "        text-align: right;\n",
       "    }\n",
       "</style>\n",
       "<table border=\"1\" class=\"dataframe\">\n",
       "  <thead>\n",
       "    <tr style=\"text-align: right;\">\n",
       "      <th></th>\n",
       "      <th>0</th>\n",
       "      <th>1</th>\n",
       "      <th>2</th>\n",
       "      <th>3</th>\n",
       "    </tr>\n",
       "  </thead>\n",
       "  <tbody>\n",
       "    <tr>\n",
       "      <th>0</th>\n",
       "      <td>73397.812203</td>\n",
       "      <td>-51828.369381</td>\n",
       "      <td>-39077.628696</td>\n",
       "      <td>-62539.576058</td>\n",
       "    </tr>\n",
       "    <tr>\n",
       "      <th>1</th>\n",
       "      <td>56252.495548</td>\n",
       "      <td>-39700.086744</td>\n",
       "      <td>-29918.560564</td>\n",
       "      <td>-47901.092848</td>\n",
       "    </tr>\n",
       "    <tr>\n",
       "      <th>2</th>\n",
       "      <td>31091.408436</td>\n",
       "      <td>-21937.481943</td>\n",
       "      <td>-16529.614075</td>\n",
       "      <td>-26468.749722</td>\n",
       "    </tr>\n",
       "    <tr>\n",
       "      <th>3</th>\n",
       "      <td>61690.568081</td>\n",
       "      <td>-43581.533900</td>\n",
       "      <td>-32870.660913</td>\n",
       "      <td>-52590.247779</td>\n",
       "    </tr>\n",
       "    <tr>\n",
       "      <th>4</th>\n",
       "      <td>38630.648204</td>\n",
       "      <td>-27268.683880</td>\n",
       "      <td>-20554.852793</td>\n",
       "      <td>-32903.349442</td>\n",
       "    </tr>\n",
       "    <tr>\n",
       "      <th>...</th>\n",
       "      <td>...</td>\n",
       "      <td>...</td>\n",
       "      <td>...</td>\n",
       "      <td>...</td>\n",
       "    </tr>\n",
       "    <tr>\n",
       "      <th>4995</th>\n",
       "      <td>52827.869368</td>\n",
       "      <td>-37305.544752</td>\n",
       "      <td>-28127.275448</td>\n",
       "      <td>-45014.583628</td>\n",
       "    </tr>\n",
       "    <tr>\n",
       "      <th>4996</th>\n",
       "      <td>77529.428947</td>\n",
       "      <td>-54759.905478</td>\n",
       "      <td>-41296.204778</td>\n",
       "      <td>-66078.552997</td>\n",
       "    </tr>\n",
       "    <tr>\n",
       "      <th>4997</th>\n",
       "      <td>50155.474227</td>\n",
       "      <td>-35428.124620</td>\n",
       "      <td>-26717.896706</td>\n",
       "      <td>-42750.582617</td>\n",
       "    </tr>\n",
       "    <tr>\n",
       "      <th>4998</th>\n",
       "      <td>48383.592001</td>\n",
       "      <td>-34172.096947</td>\n",
       "      <td>-25767.540263</td>\n",
       "      <td>-41234.163897</td>\n",
       "    </tr>\n",
       "    <tr>\n",
       "      <th>4999</th>\n",
       "      <td>60072.154244</td>\n",
       "      <td>-42426.895599</td>\n",
       "      <td>-31994.279914</td>\n",
       "      <td>-51196.318298</td>\n",
       "    </tr>\n",
       "  </tbody>\n",
       "</table>\n",
       "<p>5000 rows × 4 columns</p>\n",
       "</div>"
      ],
      "text/plain": [
       "                 0             1             2             3\n",
       "0     73397.812203 -51828.369381 -39077.628696 -62539.576058\n",
       "1     56252.495548 -39700.086744 -29918.560564 -47901.092848\n",
       "2     31091.408436 -21937.481943 -16529.614075 -26468.749722\n",
       "3     61690.568081 -43581.533900 -32870.660913 -52590.247779\n",
       "4     38630.648204 -27268.683880 -20554.852793 -32903.349442\n",
       "...            ...           ...           ...           ...\n",
       "4995  52827.869368 -37305.544752 -28127.275448 -45014.583628\n",
       "4996  77529.428947 -54759.905478 -41296.204778 -66078.552997\n",
       "4997  50155.474227 -35428.124620 -26717.896706 -42750.582617\n",
       "4998  48383.592001 -34172.096947 -25767.540263 -41234.163897\n",
       "4999  60072.154244 -42426.895599 -31994.279914 -51196.318298\n",
       "\n",
       "[5000 rows x 4 columns]"
      ]
     },
     "execution_count": 10,
     "metadata": {},
     "output_type": "execute_result"
    }
   ],
   "source": [
    "# создадим класс для кодировки и декодинга признаков\n",
    "class Cryptographer():\n",
    "    def encoding(self, features):\n",
    "        encoded_features = pd.DataFrame((features.values.dot(random_matrix)))\n",
    "        return encoded_features\n",
    "    \n",
    "    def decode(self, encoded_features):\n",
    "        decoded_features = round(abs(encoded_features.dot(np.linalg.inv(random_matrix))))\n",
    "        for i in decoded_features.iloc[:, [0, 1, 3]]:\n",
    "            decoded_features[i] = decoded_features[i].astype(int)\n",
    "        decoded_features.columns = features.columns\n",
    "        return decoded_features\n",
    "coder = Cryptographer()\n",
    "features_coder = coder.encoding(features)\n",
    "features_coder"
   ]
  },
  {
   "cell_type": "markdown",
   "metadata": {},
   "source": [
    "Данные зашифрованы."
   ]
  },
  {
   "cell_type": "code",
   "execution_count": 11,
   "metadata": {
    "scrolled": false
   },
   "outputs": [
    {
     "data": {
      "text/html": [
       "<div>\n",
       "<style scoped>\n",
       "    .dataframe tbody tr th:only-of-type {\n",
       "        vertical-align: middle;\n",
       "    }\n",
       "\n",
       "    .dataframe tbody tr th {\n",
       "        vertical-align: top;\n",
       "    }\n",
       "\n",
       "    .dataframe thead th {\n",
       "        text-align: right;\n",
       "    }\n",
       "</style>\n",
       "<table border=\"1\" class=\"dataframe\">\n",
       "  <thead>\n",
       "    <tr style=\"text-align: right;\">\n",
       "      <th></th>\n",
       "      <th>Пол</th>\n",
       "      <th>Возраст</th>\n",
       "      <th>Зарплата</th>\n",
       "      <th>Члены семьи</th>\n",
       "    </tr>\n",
       "  </thead>\n",
       "  <tbody>\n",
       "    <tr>\n",
       "      <th>0</th>\n",
       "      <td>1</td>\n",
       "      <td>41</td>\n",
       "      <td>49600.0</td>\n",
       "      <td>1</td>\n",
       "    </tr>\n",
       "    <tr>\n",
       "      <th>1</th>\n",
       "      <td>0</td>\n",
       "      <td>46</td>\n",
       "      <td>38000.0</td>\n",
       "      <td>1</td>\n",
       "    </tr>\n",
       "    <tr>\n",
       "      <th>2</th>\n",
       "      <td>0</td>\n",
       "      <td>29</td>\n",
       "      <td>21000.0</td>\n",
       "      <td>0</td>\n",
       "    </tr>\n",
       "    <tr>\n",
       "      <th>3</th>\n",
       "      <td>0</td>\n",
       "      <td>21</td>\n",
       "      <td>41700.0</td>\n",
       "      <td>2</td>\n",
       "    </tr>\n",
       "    <tr>\n",
       "      <th>4</th>\n",
       "      <td>1</td>\n",
       "      <td>28</td>\n",
       "      <td>26100.0</td>\n",
       "      <td>0</td>\n",
       "    </tr>\n",
       "    <tr>\n",
       "      <th>...</th>\n",
       "      <td>...</td>\n",
       "      <td>...</td>\n",
       "      <td>...</td>\n",
       "      <td>...</td>\n",
       "    </tr>\n",
       "    <tr>\n",
       "      <th>4995</th>\n",
       "      <td>0</td>\n",
       "      <td>28</td>\n",
       "      <td>35700.0</td>\n",
       "      <td>2</td>\n",
       "    </tr>\n",
       "    <tr>\n",
       "      <th>4996</th>\n",
       "      <td>0</td>\n",
       "      <td>34</td>\n",
       "      <td>52400.0</td>\n",
       "      <td>1</td>\n",
       "    </tr>\n",
       "    <tr>\n",
       "      <th>4997</th>\n",
       "      <td>0</td>\n",
       "      <td>20</td>\n",
       "      <td>33900.0</td>\n",
       "      <td>2</td>\n",
       "    </tr>\n",
       "    <tr>\n",
       "      <th>4998</th>\n",
       "      <td>1</td>\n",
       "      <td>22</td>\n",
       "      <td>32700.0</td>\n",
       "      <td>3</td>\n",
       "    </tr>\n",
       "    <tr>\n",
       "      <th>4999</th>\n",
       "      <td>1</td>\n",
       "      <td>28</td>\n",
       "      <td>40600.0</td>\n",
       "      <td>1</td>\n",
       "    </tr>\n",
       "  </tbody>\n",
       "</table>\n",
       "<p>5000 rows × 4 columns</p>\n",
       "</div>"
      ],
      "text/plain": [
       "      Пол  Возраст  Зарплата  Члены семьи\n",
       "0       1       41   49600.0            1\n",
       "1       0       46   38000.0            1\n",
       "2       0       29   21000.0            0\n",
       "3       0       21   41700.0            2\n",
       "4       1       28   26100.0            0\n",
       "...   ...      ...       ...          ...\n",
       "4995    0       28   35700.0            2\n",
       "4996    0       34   52400.0            1\n",
       "4997    0       20   33900.0            2\n",
       "4998    1       22   32700.0            3\n",
       "4999    1       28   40600.0            1\n",
       "\n",
       "[5000 rows x 4 columns]"
      ]
     },
     "execution_count": 11,
     "metadata": {},
     "output_type": "execute_result"
    }
   ],
   "source": [
    "# расшифруем таблицу\n",
    "features_decode = coder.decode(features_coder)\n",
    "features_decode"
   ]
  },
  {
   "cell_type": "markdown",
   "metadata": {},
   "source": [
    "Алгоритм работает верно."
   ]
  },
  {
   "cell_type": "code",
   "execution_count": 12,
   "metadata": {},
   "outputs": [
    {
     "data": {
      "text/html": [
       "<div>\n",
       "<style scoped>\n",
       "    .dataframe tbody tr th:only-of-type {\n",
       "        vertical-align: middle;\n",
       "    }\n",
       "\n",
       "    .dataframe tbody tr th {\n",
       "        vertical-align: top;\n",
       "    }\n",
       "\n",
       "    .dataframe thead th {\n",
       "        text-align: right;\n",
       "    }\n",
       "</style>\n",
       "<table border=\"1\" class=\"dataframe\">\n",
       "  <thead>\n",
       "    <tr style=\"text-align: right;\">\n",
       "      <th></th>\n",
       "      <th>0</th>\n",
       "      <th>1</th>\n",
       "      <th>2</th>\n",
       "      <th>3</th>\n",
       "    </tr>\n",
       "  </thead>\n",
       "  <tbody>\n",
       "    <tr>\n",
       "      <th>0</th>\n",
       "      <td>1.000000</td>\n",
       "      <td>-0.999999</td>\n",
       "      <td>-0.999997</td>\n",
       "      <td>-0.999999</td>\n",
       "    </tr>\n",
       "    <tr>\n",
       "      <th>1</th>\n",
       "      <td>-0.999999</td>\n",
       "      <td>1.000000</td>\n",
       "      <td>0.999999</td>\n",
       "      <td>1.000000</td>\n",
       "    </tr>\n",
       "    <tr>\n",
       "      <th>2</th>\n",
       "      <td>-0.999997</td>\n",
       "      <td>0.999999</td>\n",
       "      <td>1.000000</td>\n",
       "      <td>1.000000</td>\n",
       "    </tr>\n",
       "    <tr>\n",
       "      <th>3</th>\n",
       "      <td>-0.999999</td>\n",
       "      <td>1.000000</td>\n",
       "      <td>1.000000</td>\n",
       "      <td>1.000000</td>\n",
       "    </tr>\n",
       "  </tbody>\n",
       "</table>\n",
       "</div>"
      ],
      "text/plain": [
       "          0         1         2         3\n",
       "0  1.000000 -0.999999 -0.999997 -0.999999\n",
       "1 -0.999999  1.000000  0.999999  1.000000\n",
       "2 -0.999997  0.999999  1.000000  1.000000\n",
       "3 -0.999999  1.000000  1.000000  1.000000"
      ]
     },
     "execution_count": 12,
     "metadata": {},
     "output_type": "execute_result"
    }
   ],
   "source": [
    "features_coder.corr()"
   ]
  },
  {
   "cell_type": "markdown",
   "metadata": {},
   "source": [
    "## Проверка алгоритма"
   ]
  },
  {
   "cell_type": "code",
   "execution_count": 13,
   "metadata": {},
   "outputs": [
    {
     "name": "stdout",
     "output_type": "stream",
     "text": [
      "Исходные данные\n",
      "Обучающая:  (3750, 4)\n",
      "Валидационная:  (1250, 4)\n",
      "R2:  0.43522757127026546\n"
     ]
    }
   ],
   "source": [
    "# функция для работы модели линейной регрессии\n",
    "def learn(features, target, title = ''):\n",
    "    \n",
    "    features_train, features_valid, target_train, target_valid = train_test_split(features, target,\n",
    "                                                                            test_size=0.25, random_state=12345)\n",
    "    model = LinearRegression()\n",
    "    model.fit(features_train, target_train)\n",
    "    predictions = model.predict(features_valid)\n",
    "    print(title)\n",
    "    print('Обучающая: ', features_train.shape)\n",
    "    print('Валидационная: ', features_valid.shape)\n",
    "    print('R2: ', r2_score(target_valid, predictions))\n",
    "\n",
    "learn(features, target, 'Исходные данные')"
   ]
  },
  {
   "cell_type": "code",
   "execution_count": 14,
   "metadata": {},
   "outputs": [
    {
     "name": "stdout",
     "output_type": "stream",
     "text": [
      "Зашифрованные данные\n",
      "Обучающая:  (3750, 4)\n",
      "Валидационная:  (1250, 4)\n",
      "R2:  0.4352275712712277\n"
     ]
    }
   ],
   "source": [
    "# обучим модель на зашифрованных признаках\n",
    "learn(features_coder, target, 'Зашифрованные данные')"
   ]
  },
  {
   "cell_type": "markdown",
   "metadata": {},
   "source": [
    "Качество модели по двум наборам данных, в рамках коэффициента детерминации, совпадает с высокой точностью."
   ]
  },
  {
   "cell_type": "markdown",
   "metadata": {},
   "source": [
    "***Вывод***  \n",
    "\n",
    "Выполнена задача по защите данных клиентов страховой компании «Хоть потоп». Разработан метод преобразованния данных, по которым сложно восстановить персональную информацию, не имея ключа шифрования. Созданный алгоритм кодирует и декодирует данные без потерь в качестве работы модели машинного обучения."
   ]
  }
 ],
 "metadata": {
  "ExecuteTimeLog": [
   {
    "duration": 1263,
    "start_time": "2022-09-24T23:15:23.815Z"
   },
   {
    "duration": 40,
    "start_time": "2022-09-24T23:16:32.766Z"
   },
   {
    "duration": 52,
    "start_time": "2022-09-24T23:16:53.797Z"
   },
   {
    "duration": 4,
    "start_time": "2022-09-24T23:31:36.192Z"
   },
   {
    "duration": 12,
    "start_time": "2022-09-24T23:34:02.347Z"
   },
   {
    "duration": 15,
    "start_time": "2022-09-24T23:34:58.120Z"
   },
   {
    "duration": 12,
    "start_time": "2022-09-24T23:39:47.719Z"
   },
   {
    "duration": 12,
    "start_time": "2022-09-24T23:39:50.844Z"
   },
   {
    "duration": 12,
    "start_time": "2022-09-24T23:59:32.647Z"
   },
   {
    "duration": 11,
    "start_time": "2022-09-24T23:59:42.162Z"
   },
   {
    "duration": 11,
    "start_time": "2022-09-24T23:59:50.563Z"
   },
   {
    "duration": 12,
    "start_time": "2022-09-24T23:59:53.893Z"
   },
   {
    "duration": 84,
    "start_time": "2022-09-25T00:06:31.004Z"
   },
   {
    "duration": 7,
    "start_time": "2022-09-25T00:06:39.283Z"
   },
   {
    "duration": 3,
    "start_time": "2022-09-25T00:06:53.566Z"
   },
   {
    "duration": 4,
    "start_time": "2022-09-25T00:06:59.774Z"
   },
   {
    "duration": 14,
    "start_time": "2022-09-25T00:07:00.390Z"
   },
   {
    "duration": 12,
    "start_time": "2022-09-25T00:14:23.207Z"
   },
   {
    "duration": 2,
    "start_time": "2022-09-25T00:16:26.741Z"
   },
   {
    "duration": 9,
    "start_time": "2022-09-25T00:17:18.408Z"
   },
   {
    "duration": 11,
    "start_time": "2022-09-25T00:19:55.953Z"
   },
   {
    "duration": 70,
    "start_time": "2022-09-25T00:20:54.140Z"
   },
   {
    "duration": 100,
    "start_time": "2022-09-25T00:21:10.206Z"
   },
   {
    "duration": 19,
    "start_time": "2022-09-25T00:21:55.704Z"
   },
   {
    "duration": 13,
    "start_time": "2022-09-25T00:25:45.771Z"
   },
   {
    "duration": 18,
    "start_time": "2022-09-25T00:25:57.303Z"
   },
   {
    "duration": 16,
    "start_time": "2022-09-25T00:26:10.218Z"
   },
   {
    "duration": 18,
    "start_time": "2022-09-25T00:26:28.953Z"
   },
   {
    "duration": 18,
    "start_time": "2022-09-25T00:26:31.655Z"
   },
   {
    "duration": 19,
    "start_time": "2022-09-25T00:26:33.289Z"
   },
   {
    "duration": 15,
    "start_time": "2022-09-25T00:26:35.884Z"
   },
   {
    "duration": 16,
    "start_time": "2022-09-25T00:28:01.358Z"
   },
   {
    "duration": 19,
    "start_time": "2022-09-25T00:28:04.433Z"
   },
   {
    "duration": 11,
    "start_time": "2022-09-25T00:30:23.517Z"
   },
   {
    "duration": 11,
    "start_time": "2022-09-25T00:30:32.895Z"
   },
   {
    "duration": 12,
    "start_time": "2022-09-25T00:30:38.805Z"
   },
   {
    "duration": 20,
    "start_time": "2022-09-25T00:30:41.687Z"
   },
   {
    "duration": 12,
    "start_time": "2022-09-25T00:34:20.185Z"
   },
   {
    "duration": 17,
    "start_time": "2022-09-25T00:34:30.445Z"
   },
   {
    "duration": 994,
    "start_time": "2022-09-26T19:22:35.312Z"
   },
   {
    "duration": 48,
    "start_time": "2022-09-26T19:22:36.307Z"
   },
   {
    "duration": 86,
    "start_time": "2022-09-26T19:22:36.357Z"
   },
   {
    "duration": 0,
    "start_time": "2022-09-26T19:22:36.445Z"
   },
   {
    "duration": 0,
    "start_time": "2022-09-26T19:22:36.446Z"
   },
   {
    "duration": 0,
    "start_time": "2022-09-26T19:22:36.447Z"
   },
   {
    "duration": 0,
    "start_time": "2022-09-26T19:22:36.448Z"
   },
   {
    "duration": 0,
    "start_time": "2022-09-26T19:22:36.450Z"
   },
   {
    "duration": 4,
    "start_time": "2022-09-26T19:22:52.489Z"
   },
   {
    "duration": 12,
    "start_time": "2022-09-26T19:22:56.898Z"
   },
   {
    "duration": 10,
    "start_time": "2022-09-26T19:23:04.190Z"
   },
   {
    "duration": 17,
    "start_time": "2022-09-26T19:32:28.665Z"
   },
   {
    "duration": 11,
    "start_time": "2022-09-26T19:32:51.579Z"
   },
   {
    "duration": 23,
    "start_time": "2022-09-26T19:32:55.172Z"
   },
   {
    "duration": 12,
    "start_time": "2022-09-26T19:36:10.580Z"
   },
   {
    "duration": 15,
    "start_time": "2022-09-26T19:36:15.455Z"
   },
   {
    "duration": 14,
    "start_time": "2022-09-26T19:36:50.241Z"
   },
   {
    "duration": 12,
    "start_time": "2022-09-26T19:36:55.191Z"
   },
   {
    "duration": 10,
    "start_time": "2022-09-26T19:38:17.828Z"
   },
   {
    "duration": 15,
    "start_time": "2022-09-26T19:38:34.478Z"
   },
   {
    "duration": 14,
    "start_time": "2022-09-26T19:46:49.263Z"
   },
   {
    "duration": 11,
    "start_time": "2022-09-26T19:49:04.056Z"
   },
   {
    "duration": 13,
    "start_time": "2022-09-26T19:49:14.661Z"
   },
   {
    "duration": 9,
    "start_time": "2022-09-26T19:49:19.911Z"
   },
   {
    "duration": 1066,
    "start_time": "2022-09-26T20:19:51.518Z"
   },
   {
    "duration": 48,
    "start_time": "2022-09-26T20:19:52.586Z"
   },
   {
    "duration": 12,
    "start_time": "2022-09-26T20:19:52.635Z"
   },
   {
    "duration": 20,
    "start_time": "2022-09-26T20:19:52.649Z"
   },
   {
    "duration": 37,
    "start_time": "2022-09-26T20:19:52.672Z"
   },
   {
    "duration": 13,
    "start_time": "2022-09-26T20:19:52.710Z"
   },
   {
    "duration": 87,
    "start_time": "2022-09-26T20:19:52.724Z"
   },
   {
    "duration": 46,
    "start_time": "2022-09-27T18:53:45.416Z"
   },
   {
    "duration": 7,
    "start_time": "2022-09-27T18:53:51.091Z"
   },
   {
    "duration": 1086,
    "start_time": "2022-09-27T18:54:02.452Z"
   },
   {
    "duration": 122,
    "start_time": "2022-09-27T18:54:05.033Z"
   },
   {
    "duration": 57,
    "start_time": "2022-09-27T18:54:19.705Z"
   },
   {
    "duration": 63,
    "start_time": "2022-09-27T18:54:50.155Z"
   },
   {
    "duration": 22,
    "start_time": "2022-09-27T18:58:16.889Z"
   },
   {
    "duration": 48,
    "start_time": "2022-09-27T18:58:37.425Z"
   },
   {
    "duration": 63,
    "start_time": "2022-09-27T18:59:20.280Z"
   },
   {
    "duration": 361,
    "start_time": "2022-09-27T18:59:38.294Z"
   },
   {
    "duration": 186,
    "start_time": "2022-09-27T18:59:56.161Z"
   },
   {
    "duration": 55,
    "start_time": "2022-09-27T19:00:13.059Z"
   },
   {
    "duration": 330,
    "start_time": "2022-09-27T19:00:16.677Z"
   },
   {
    "duration": 12,
    "start_time": "2022-09-27T19:01:09.762Z"
   },
   {
    "duration": 10,
    "start_time": "2022-09-27T19:01:50.924Z"
   },
   {
    "duration": 310,
    "start_time": "2022-09-27T19:03:38.641Z"
   },
   {
    "duration": 275,
    "start_time": "2022-09-27T19:03:44.460Z"
   },
   {
    "duration": 5,
    "start_time": "2022-09-27T19:13:42.020Z"
   },
   {
    "duration": 84,
    "start_time": "2022-09-27T19:19:06.755Z"
   },
   {
    "duration": 19,
    "start_time": "2022-09-27T19:19:48.980Z"
   },
   {
    "duration": 13,
    "start_time": "2022-09-27T19:22:58.687Z"
   },
   {
    "duration": 13,
    "start_time": "2022-09-27T19:23:14.859Z"
   },
   {
    "duration": 13,
    "start_time": "2022-09-27T19:25:03.702Z"
   },
   {
    "duration": 13,
    "start_time": "2022-09-27T19:25:28.844Z"
   },
   {
    "duration": 12,
    "start_time": "2022-09-27T19:25:55.633Z"
   },
   {
    "duration": 12,
    "start_time": "2022-09-27T19:26:12.822Z"
   },
   {
    "duration": 13,
    "start_time": "2022-09-27T19:26:27.388Z"
   },
   {
    "duration": 5,
    "start_time": "2022-09-27T19:26:36.809Z"
   },
   {
    "duration": 6,
    "start_time": "2022-09-27T19:26:50.203Z"
   },
   {
    "duration": 5,
    "start_time": "2022-09-27T19:27:29.984Z"
   },
   {
    "duration": 5,
    "start_time": "2022-09-27T19:27:47.655Z"
   },
   {
    "duration": 5,
    "start_time": "2022-09-27T19:29:02.988Z"
   },
   {
    "duration": 6,
    "start_time": "2022-09-27T19:29:44.313Z"
   },
   {
    "duration": 6,
    "start_time": "2022-09-27T19:29:52.293Z"
   },
   {
    "duration": 5,
    "start_time": "2022-09-27T19:30:20.298Z"
   },
   {
    "duration": 6,
    "start_time": "2022-09-27T19:33:08.436Z"
   },
   {
    "duration": 965,
    "start_time": "2022-09-27T19:33:30.336Z"
   },
   {
    "duration": 5,
    "start_time": "2022-09-27T19:33:38.554Z"
   },
   {
    "duration": 4,
    "start_time": "2022-09-27T19:34:16.628Z"
   },
   {
    "duration": 6,
    "start_time": "2022-09-27T19:35:07.222Z"
   },
   {
    "duration": 5,
    "start_time": "2022-09-27T19:35:11.063Z"
   },
   {
    "duration": 10,
    "start_time": "2022-09-27T19:35:46.614Z"
   },
   {
    "duration": 5,
    "start_time": "2022-09-27T19:36:03.279Z"
   },
   {
    "duration": 10,
    "start_time": "2022-09-27T19:36:07.555Z"
   },
   {
    "duration": 5,
    "start_time": "2022-09-27T19:36:18.399Z"
   },
   {
    "duration": 5,
    "start_time": "2022-09-27T19:36:24.714Z"
   },
   {
    "duration": 5,
    "start_time": "2022-09-27T19:36:34.044Z"
   },
   {
    "duration": 5,
    "start_time": "2022-09-27T19:37:09.627Z"
   },
   {
    "duration": 4,
    "start_time": "2022-09-27T19:37:14.982Z"
   },
   {
    "duration": 4,
    "start_time": "2022-09-27T19:37:18.956Z"
   },
   {
    "duration": 5,
    "start_time": "2022-09-27T19:40:18.525Z"
   },
   {
    "duration": 12,
    "start_time": "2022-09-27T19:40:21.580Z"
   },
   {
    "duration": 10,
    "start_time": "2022-09-27T19:50:52.275Z"
   },
   {
    "duration": 12,
    "start_time": "2022-09-27T19:51:06.560Z"
   },
   {
    "duration": 13,
    "start_time": "2022-09-27T19:51:11.878Z"
   },
   {
    "duration": 4,
    "start_time": "2022-09-27T19:52:11.074Z"
   },
   {
    "duration": 75,
    "start_time": "2022-09-27T19:54:02.892Z"
   },
   {
    "duration": 7,
    "start_time": "2022-09-27T19:54:25.683Z"
   },
   {
    "duration": 4,
    "start_time": "2022-09-27T19:54:48.482Z"
   },
   {
    "duration": 12,
    "start_time": "2022-09-27T19:55:02.861Z"
   },
   {
    "duration": 17,
    "start_time": "2022-09-27T19:55:11.196Z"
   },
   {
    "duration": 49,
    "start_time": "2022-09-27T20:00:05.200Z"
   },
   {
    "duration": 1322,
    "start_time": "2022-09-27T20:00:28.798Z"
   },
   {
    "duration": 54,
    "start_time": "2022-09-27T20:00:30.122Z"
   },
   {
    "duration": 21,
    "start_time": "2022-09-27T20:00:30.178Z"
   },
   {
    "duration": 306,
    "start_time": "2022-09-27T20:00:30.201Z"
   },
   {
    "duration": 6,
    "start_time": "2022-09-27T20:00:30.510Z"
   },
   {
    "duration": 34,
    "start_time": "2022-09-27T20:00:30.517Z"
   },
   {
    "duration": 24,
    "start_time": "2022-09-27T20:00:30.553Z"
   },
   {
    "duration": 17,
    "start_time": "2022-09-27T20:00:30.579Z"
   },
   {
    "duration": 117,
    "start_time": "2022-09-27T20:00:30.598Z"
   },
   {
    "duration": 0,
    "start_time": "2022-09-27T20:00:30.717Z"
   },
   {
    "duration": 0,
    "start_time": "2022-09-27T20:00:30.718Z"
   },
   {
    "duration": 0,
    "start_time": "2022-09-27T20:00:30.719Z"
   },
   {
    "duration": 0,
    "start_time": "2022-09-27T20:00:30.720Z"
   },
   {
    "duration": 5,
    "start_time": "2022-09-27T20:02:55.002Z"
   },
   {
    "duration": 11,
    "start_time": "2022-09-27T20:03:12.929Z"
   },
   {
    "duration": 25,
    "start_time": "2022-09-27T20:03:21.808Z"
   },
   {
    "duration": 8,
    "start_time": "2022-09-27T20:04:03.930Z"
   },
   {
    "duration": 12,
    "start_time": "2022-09-27T20:04:18.541Z"
   },
   {
    "duration": 11,
    "start_time": "2022-09-27T20:12:52.243Z"
   },
   {
    "duration": 10,
    "start_time": "2022-09-27T20:13:45.987Z"
   },
   {
    "duration": 18,
    "start_time": "2022-09-27T20:15:36.406Z"
   },
   {
    "duration": 14,
    "start_time": "2022-09-27T20:17:17.705Z"
   },
   {
    "duration": 22,
    "start_time": "2022-09-27T20:17:24.919Z"
   },
   {
    "duration": 22,
    "start_time": "2022-09-27T20:21:10.694Z"
   },
   {
    "duration": 11,
    "start_time": "2022-09-27T20:21:20.963Z"
   },
   {
    "duration": 11,
    "start_time": "2022-09-27T20:21:41.485Z"
   },
   {
    "duration": 15,
    "start_time": "2022-09-27T20:23:11.477Z"
   },
   {
    "duration": 28,
    "start_time": "2022-09-27T20:23:16.929Z"
   },
   {
    "duration": 13,
    "start_time": "2022-09-27T20:23:42.716Z"
   },
   {
    "duration": 16,
    "start_time": "2022-09-27T20:23:47.200Z"
   },
   {
    "duration": 16,
    "start_time": "2022-09-27T20:24:43.526Z"
   },
   {
    "duration": 13,
    "start_time": "2022-09-27T20:24:52.092Z"
   },
   {
    "duration": 18,
    "start_time": "2022-09-27T20:24:55.138Z"
   },
   {
    "duration": 12,
    "start_time": "2022-09-27T20:25:19.992Z"
   },
   {
    "duration": 20,
    "start_time": "2022-09-27T20:25:23.863Z"
   },
   {
    "duration": 9,
    "start_time": "2022-09-27T20:25:43.063Z"
   },
   {
    "duration": 9,
    "start_time": "2022-09-27T20:25:55.302Z"
   },
   {
    "duration": 11,
    "start_time": "2022-09-27T20:25:58.197Z"
   },
   {
    "duration": 7,
    "start_time": "2022-09-27T20:28:58.217Z"
   },
   {
    "duration": 13,
    "start_time": "2022-09-27T20:28:59.417Z"
   },
   {
    "duration": 7,
    "start_time": "2022-09-27T20:29:06.019Z"
   },
   {
    "duration": 7,
    "start_time": "2022-09-27T20:29:11.672Z"
   },
   {
    "duration": 9,
    "start_time": "2022-09-27T20:30:44.344Z"
   },
   {
    "duration": 9,
    "start_time": "2022-09-27T20:31:19.025Z"
   },
   {
    "duration": 9,
    "start_time": "2022-09-27T20:43:45.054Z"
   },
   {
    "duration": 9,
    "start_time": "2022-09-27T21:07:04.925Z"
   },
   {
    "duration": 9,
    "start_time": "2022-09-27T21:44:04.030Z"
   },
   {
    "duration": 1292,
    "start_time": "2022-09-27T21:47:09.187Z"
   },
   {
    "duration": 49,
    "start_time": "2022-09-27T21:47:10.481Z"
   },
   {
    "duration": 20,
    "start_time": "2022-09-27T21:47:10.532Z"
   },
   {
    "duration": 321,
    "start_time": "2022-09-27T21:47:10.554Z"
   },
   {
    "duration": 5,
    "start_time": "2022-09-27T21:47:10.877Z"
   },
   {
    "duration": 4,
    "start_time": "2022-09-27T21:47:10.884Z"
   },
   {
    "duration": 5,
    "start_time": "2022-09-27T21:47:10.889Z"
   },
   {
    "duration": 10,
    "start_time": "2022-09-27T21:47:10.895Z"
   },
   {
    "duration": 29,
    "start_time": "2022-09-27T21:47:10.907Z"
   },
   {
    "duration": 96,
    "start_time": "2022-09-27T21:47:10.938Z"
   },
   {
    "duration": 16,
    "start_time": "2022-09-27T21:47:11.036Z"
   },
   {
    "duration": 9,
    "start_time": "2022-09-27T21:47:11.134Z"
   },
   {
    "duration": 92,
    "start_time": "2022-09-27T21:47:11.145Z"
   },
   {
    "duration": 9,
    "start_time": "2022-09-27T21:47:11.240Z"
   }
  ],
  "kernelspec": {
   "display_name": "Python 3 (ipykernel)",
   "language": "python",
   "name": "python3"
  },
  "language_info": {
   "codemirror_mode": {
    "name": "ipython",
    "version": 3
   },
   "file_extension": ".py",
   "mimetype": "text/x-python",
   "name": "python",
   "nbconvert_exporter": "python",
   "pygments_lexer": "ipython3",
   "version": "3.9.7"
  },
  "latex_envs": {
   "LaTeX_envs_menu_present": true,
   "autoclose": false,
   "autocomplete": true,
   "bibliofile": "biblio.bib",
   "cite_by": "apalike",
   "current_citInitial": 1,
   "eqLabelWithNumbers": true,
   "eqNumInitial": 1,
   "hotkeys": {
    "equation": "Ctrl-E",
    "itemize": "Ctrl-I"
   },
   "labels_anchors": false,
   "latex_user_defs": false,
   "report_style_numbering": false,
   "user_envs_cfg": false
  },
  "toc": {
   "base_numbering": 1,
   "nav_menu": {},
   "number_sections": true,
   "sideBar": true,
   "skip_h1_title": true,
   "title_cell": "Содержание",
   "title_sidebar": "Contents",
   "toc_cell": true,
   "toc_position": {},
   "toc_section_display": true,
   "toc_window_display": true
  }
 },
 "nbformat": 4,
 "nbformat_minor": 2
}
