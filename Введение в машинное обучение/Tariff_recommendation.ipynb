{
 "cells": [
  {
   "cell_type": "markdown",
   "metadata": {},
   "source": [
    "# Рекомендация тарифов"
   ]
  },
  {
   "cell_type": "markdown",
   "metadata": {},
   "source": [
    "Оператор мобильной связи «Мегалайн» выяснил: многие клиенты пользуются архивными тарифами. Они хотят построить систему, способную проанализировать поведение клиентов и предложить пользователям новый тариф: «Смарт» или «Ультра».\n",
    "\n",
    "В вашем распоряжении данные о поведении клиентов, которые уже перешли на эти тарифы. Нужно построить модель для задачи классификации, которая выберет подходящий тариф.\n",
    "\n",
    "Построим модель с максимально большим значением *accuracy*."
   ]
  },
  {
   "cell_type": "code",
   "execution_count": 1,
   "metadata": {},
   "outputs": [],
   "source": [
    "# загрузим необходимые библиотеки\n",
    "import pandas as pd\n",
    "import numpy as np\n",
    "import seaborn as sns\n",
    "import matplotlib.pyplot as plt\n",
    "from sklearn.tree import DecisionTreeClassifier\n",
    "from sklearn.ensemble import RandomForestClassifier\n",
    "from sklearn.linear_model import LogisticRegression\n",
    "from sklearn.metrics import accuracy_score\n",
    "from sklearn.model_selection import train_test_split"
   ]
  },
  {
   "cell_type": "code",
   "execution_count": 2,
   "metadata": {
    "scrolled": true
   },
   "outputs": [
    {
     "name": "stdout",
     "output_type": "stream",
     "text": [
      "<class 'pandas.core.frame.DataFrame'>\n",
      "RangeIndex: 3214 entries, 0 to 3213\n",
      "Data columns (total 5 columns):\n",
      " #   Column    Non-Null Count  Dtype  \n",
      "---  ------    --------------  -----  \n",
      " 0   calls     3214 non-null   float64\n",
      " 1   minutes   3214 non-null   float64\n",
      " 2   messages  3214 non-null   float64\n",
      " 3   mb_used   3214 non-null   float64\n",
      " 4   is_ultra  3214 non-null   int64  \n",
      "dtypes: float64(4), int64(1)\n",
      "memory usage: 125.7 KB\n"
     ]
    },
    {
     "data": {
      "text/html": [
       "<div>\n",
       "<style scoped>\n",
       "    .dataframe tbody tr th:only-of-type {\n",
       "        vertical-align: middle;\n",
       "    }\n",
       "\n",
       "    .dataframe tbody tr th {\n",
       "        vertical-align: top;\n",
       "    }\n",
       "\n",
       "    .dataframe thead th {\n",
       "        text-align: right;\n",
       "    }\n",
       "</style>\n",
       "<table border=\"1\" class=\"dataframe\">\n",
       "  <thead>\n",
       "    <tr style=\"text-align: right;\">\n",
       "      <th></th>\n",
       "      <th>calls</th>\n",
       "      <th>minutes</th>\n",
       "      <th>messages</th>\n",
       "      <th>mb_used</th>\n",
       "      <th>is_ultra</th>\n",
       "    </tr>\n",
       "  </thead>\n",
       "  <tbody>\n",
       "    <tr>\n",
       "      <th>127</th>\n",
       "      <td>68.0</td>\n",
       "      <td>444.41</td>\n",
       "      <td>35.0</td>\n",
       "      <td>26460.37</td>\n",
       "      <td>1</td>\n",
       "    </tr>\n",
       "  </tbody>\n",
       "</table>\n",
       "</div>"
      ],
      "text/plain": [
       "     calls  minutes  messages   mb_used  is_ultra\n",
       "127   68.0   444.41      35.0  26460.37         1"
      ]
     },
     "execution_count": 2,
     "metadata": {},
     "output_type": "execute_result"
    }
   ],
   "source": [
    "# загрузим файл с данными\n",
    "try:\n",
    "    df = pd.read_csv('/datasets/users_behavior.csv')\n",
    "except:\n",
    "    df = pd.read_csv('/Users/alex/Desktop/Яндекс_Практикум/Проекты/Введение_в_машинное_обучение/users_behavior.csv')\n",
    "\n",
    "df.info()\n",
    "df.sample()"
   ]
  },
  {
   "cell_type": "markdown",
   "metadata": {},
   "source": [
    "**Описание данных**\n",
    "\n",
    "Каждый объект в наборе данных — это информация о поведении одного пользователя за месяц. \n",
    "\n",
    "Известно:\n",
    "\n",
    "* `сalls` — количество звонков,\n",
    "* `minutes` — суммарная длительность звонков в минутах,\n",
    "* `messages` — количество sms-сообщений,\n",
    "* `mb_used` — израсходованный интернет-трафик в Мб,\n",
    "* `is_ultra` — каким тарифом пользовался в течение месяца («Ультра» — 1, «Смарт» — 0)."
   ]
  },
  {
   "cell_type": "code",
   "execution_count": 3,
   "metadata": {},
   "outputs": [
    {
     "data": {
      "text/plain": [
       "0    2229\n",
       "1     985\n",
       "Name: is_ultra, dtype: int64"
      ]
     },
     "execution_count": 3,
     "metadata": {},
     "output_type": "execute_result"
    }
   ],
   "source": [
    "# количество пользователей по тарифам\n",
    "df['is_ultra'].value_counts()"
   ]
  },
  {
   "cell_type": "markdown",
   "metadata": {},
   "source": [
    "Тарифом \"Смарт\" пользуется около 70% клиентов, остальные - \"Ультра\"."
   ]
  },
  {
   "cell_type": "code",
   "execution_count": 4,
   "metadata": {},
   "outputs": [
    {
     "data": {
      "text/html": [
       "<div>\n",
       "<style scoped>\n",
       "    .dataframe tbody tr th:only-of-type {\n",
       "        vertical-align: middle;\n",
       "    }\n",
       "\n",
       "    .dataframe tbody tr th {\n",
       "        vertical-align: top;\n",
       "    }\n",
       "\n",
       "    .dataframe thead th {\n",
       "        text-align: right;\n",
       "    }\n",
       "</style>\n",
       "<table border=\"1\" class=\"dataframe\">\n",
       "  <thead>\n",
       "    <tr style=\"text-align: right;\">\n",
       "      <th></th>\n",
       "      <th>calls</th>\n",
       "      <th>minutes</th>\n",
       "      <th>messages</th>\n",
       "      <th>mb_used</th>\n",
       "      <th>is_ultra</th>\n",
       "    </tr>\n",
       "  </thead>\n",
       "  <tbody>\n",
       "    <tr>\n",
       "      <th>count</th>\n",
       "      <td>3214.000000</td>\n",
       "      <td>3214.000000</td>\n",
       "      <td>3214.000000</td>\n",
       "      <td>3214.000000</td>\n",
       "      <td>3214.000000</td>\n",
       "    </tr>\n",
       "    <tr>\n",
       "      <th>mean</th>\n",
       "      <td>63.038892</td>\n",
       "      <td>438.208787</td>\n",
       "      <td>38.281269</td>\n",
       "      <td>17207.673836</td>\n",
       "      <td>0.306472</td>\n",
       "    </tr>\n",
       "    <tr>\n",
       "      <th>std</th>\n",
       "      <td>33.236368</td>\n",
       "      <td>234.569872</td>\n",
       "      <td>36.148326</td>\n",
       "      <td>7570.968246</td>\n",
       "      <td>0.461100</td>\n",
       "    </tr>\n",
       "    <tr>\n",
       "      <th>min</th>\n",
       "      <td>0.000000</td>\n",
       "      <td>0.000000</td>\n",
       "      <td>0.000000</td>\n",
       "      <td>0.000000</td>\n",
       "      <td>0.000000</td>\n",
       "    </tr>\n",
       "    <tr>\n",
       "      <th>25%</th>\n",
       "      <td>40.000000</td>\n",
       "      <td>274.575000</td>\n",
       "      <td>9.000000</td>\n",
       "      <td>12491.902500</td>\n",
       "      <td>0.000000</td>\n",
       "    </tr>\n",
       "    <tr>\n",
       "      <th>50%</th>\n",
       "      <td>62.000000</td>\n",
       "      <td>430.600000</td>\n",
       "      <td>30.000000</td>\n",
       "      <td>16943.235000</td>\n",
       "      <td>0.000000</td>\n",
       "    </tr>\n",
       "    <tr>\n",
       "      <th>75%</th>\n",
       "      <td>82.000000</td>\n",
       "      <td>571.927500</td>\n",
       "      <td>57.000000</td>\n",
       "      <td>21424.700000</td>\n",
       "      <td>1.000000</td>\n",
       "    </tr>\n",
       "    <tr>\n",
       "      <th>max</th>\n",
       "      <td>244.000000</td>\n",
       "      <td>1632.060000</td>\n",
       "      <td>224.000000</td>\n",
       "      <td>49745.730000</td>\n",
       "      <td>1.000000</td>\n",
       "    </tr>\n",
       "  </tbody>\n",
       "</table>\n",
       "</div>"
      ],
      "text/plain": [
       "             calls      minutes     messages       mb_used     is_ultra\n",
       "count  3214.000000  3214.000000  3214.000000   3214.000000  3214.000000\n",
       "mean     63.038892   438.208787    38.281269  17207.673836     0.306472\n",
       "std      33.236368   234.569872    36.148326   7570.968246     0.461100\n",
       "min       0.000000     0.000000     0.000000      0.000000     0.000000\n",
       "25%      40.000000   274.575000     9.000000  12491.902500     0.000000\n",
       "50%      62.000000   430.600000    30.000000  16943.235000     0.000000\n",
       "75%      82.000000   571.927500    57.000000  21424.700000     1.000000\n",
       "max     244.000000  1632.060000   224.000000  49745.730000     1.000000"
      ]
     },
     "execution_count": 4,
     "metadata": {},
     "output_type": "execute_result"
    }
   ],
   "source": [
    "# описательные статистики\n",
    "df.describe()"
   ]
  },
  {
   "cell_type": "markdown",
   "metadata": {},
   "source": [
    "Данные предварительно обработаны, пропусков нет, нужный формат данных."
   ]
  },
  {
   "cell_type": "code",
   "execution_count": 5,
   "metadata": {},
   "outputs": [
    {
     "data": {
      "text/html": [
       "<div>\n",
       "<style scoped>\n",
       "    .dataframe tbody tr th:only-of-type {\n",
       "        vertical-align: middle;\n",
       "    }\n",
       "\n",
       "    .dataframe tbody tr th {\n",
       "        vertical-align: top;\n",
       "    }\n",
       "\n",
       "    .dataframe thead th {\n",
       "        text-align: right;\n",
       "    }\n",
       "</style>\n",
       "<table border=\"1\" class=\"dataframe\">\n",
       "  <thead>\n",
       "    <tr style=\"text-align: right;\">\n",
       "      <th></th>\n",
       "      <th>calls</th>\n",
       "      <th>minutes</th>\n",
       "      <th>messages</th>\n",
       "      <th>mb_used</th>\n",
       "      <th>is_ultra</th>\n",
       "    </tr>\n",
       "  </thead>\n",
       "  <tbody>\n",
       "    <tr>\n",
       "      <th>calls</th>\n",
       "      <td>1.000000</td>\n",
       "      <td>0.982083</td>\n",
       "      <td>0.177385</td>\n",
       "      <td>0.286442</td>\n",
       "      <td>0.207122</td>\n",
       "    </tr>\n",
       "    <tr>\n",
       "      <th>minutes</th>\n",
       "      <td>0.982083</td>\n",
       "      <td>1.000000</td>\n",
       "      <td>0.173110</td>\n",
       "      <td>0.280967</td>\n",
       "      <td>0.206955</td>\n",
       "    </tr>\n",
       "    <tr>\n",
       "      <th>messages</th>\n",
       "      <td>0.177385</td>\n",
       "      <td>0.173110</td>\n",
       "      <td>1.000000</td>\n",
       "      <td>0.195721</td>\n",
       "      <td>0.203830</td>\n",
       "    </tr>\n",
       "    <tr>\n",
       "      <th>mb_used</th>\n",
       "      <td>0.286442</td>\n",
       "      <td>0.280967</td>\n",
       "      <td>0.195721</td>\n",
       "      <td>1.000000</td>\n",
       "      <td>0.198568</td>\n",
       "    </tr>\n",
       "    <tr>\n",
       "      <th>is_ultra</th>\n",
       "      <td>0.207122</td>\n",
       "      <td>0.206955</td>\n",
       "      <td>0.203830</td>\n",
       "      <td>0.198568</td>\n",
       "      <td>1.000000</td>\n",
       "    </tr>\n",
       "  </tbody>\n",
       "</table>\n",
       "</div>"
      ],
      "text/plain": [
       "             calls   minutes  messages   mb_used  is_ultra\n",
       "calls     1.000000  0.982083  0.177385  0.286442  0.207122\n",
       "minutes   0.982083  1.000000  0.173110  0.280967  0.206955\n",
       "messages  0.177385  0.173110  1.000000  0.195721  0.203830\n",
       "mb_used   0.286442  0.280967  0.195721  1.000000  0.198568\n",
       "is_ultra  0.207122  0.206955  0.203830  0.198568  1.000000"
      ]
     },
     "execution_count": 5,
     "metadata": {},
     "output_type": "execute_result"
    },
    {
     "data": {
      "image/png": "[encoded data removed]",
      "text/plain": [
       "<Figure size 648x648 with 25 Axes>"
      ]
     },
     "metadata": {
      "needs_background": "light"
     },
     "output_type": "display_data"
    }
   ],
   "source": [
    "# диаграмма рассеяния и коэффициент корреляции\n",
    "pd.plotting.scatter_matrix(df, figsize=(9, 9))\n",
    "df.corr()"
   ]
  },
  {
   "cell_type": "markdown",
   "source": [
    "## Разбиение данных на выборки"
   ],
   "metadata": {
    "collapsed": false
   }
  },
  {
   "cell_type": "markdown",
   "metadata": {},
   "source": [
    "Спрятанной тестовой выборки нет, данные разобъём на три части: обучающую, валидационную и тестовую выборки, в соотношении 3:1:1."
   ]
  },
  {
   "cell_type": "code",
   "execution_count": 6,
   "metadata": {
    "scrolled": true
   },
   "outputs": [
    {
     "name": "stdout",
     "output_type": "stream",
     "text": [
      "Обучающая: 60.0%\n",
      "Валидационная: 20.0%\n",
      "Тестовая: 20.0%\n"
     ]
    }
   ],
   "source": [
    "# разделение проведём с помощью функции train_test_split библиотеки sklearn\n",
    "df_train, df_rest = train_test_split(df, test_size=0.4, random_state=12345, stratify=df['is_ultra'])\n",
    "df_valid, df_test = train_test_split(df_rest, test_size=0.5, random_state=12345)\n",
    "\n",
    "print(f'Обучающая: {df_train.shape[0] / len(df):.1%}')\n",
    "print(f'Валидационная: {df_valid.shape[0] / len(df):.1%}')\n",
    "print(f'Тестовая: {df_test.shape[0] / len(df):.1%}')"
   ]
  },
  {
   "cell_type": "code",
   "execution_count": 7,
   "metadata": {},
   "outputs": [
    {
     "data": {
      "text/html": [
       "<div>\n",
       "<style scoped>\n",
       "    .dataframe tbody tr th:only-of-type {\n",
       "        vertical-align: middle;\n",
       "    }\n",
       "\n",
       "    .dataframe tbody tr th {\n",
       "        vertical-align: top;\n",
       "    }\n",
       "\n",
       "    .dataframe thead th {\n",
       "        text-align: right;\n",
       "    }\n",
       "</style>\n",
       "<table border=\"1\" class=\"dataframe\">\n",
       "  <thead>\n",
       "    <tr style=\"text-align: right;\">\n",
       "      <th></th>\n",
       "      <th>calls</th>\n",
       "      <th>minutes</th>\n",
       "      <th>messages</th>\n",
       "      <th>mb_used</th>\n",
       "    </tr>\n",
       "  </thead>\n",
       "  <tbody>\n",
       "    <tr>\n",
       "      <th>1309</th>\n",
       "      <td>70.0</td>\n",
       "      <td>533.41</td>\n",
       "      <td>54.0</td>\n",
       "      <td>20011.87</td>\n",
       "    </tr>\n",
       "  </tbody>\n",
       "</table>\n",
       "</div>"
      ],
      "text/plain": [
       "      calls  minutes  messages   mb_used\n",
       "1309   70.0   533.41      54.0  20011.87"
      ]
     },
     "metadata": {},
     "output_type": "display_data"
    },
    {
     "data": {
      "text/plain": [
       "2041    1\n",
       "Name: is_ultra, dtype: int64"
      ]
     },
     "metadata": {},
     "output_type": "display_data"
    },
    {
     "data": {
      "text/html": [
       "<div>\n",
       "<style scoped>\n",
       "    .dataframe tbody tr th:only-of-type {\n",
       "        vertical-align: middle;\n",
       "    }\n",
       "\n",
       "    .dataframe tbody tr th {\n",
       "        vertical-align: top;\n",
       "    }\n",
       "\n",
       "    .dataframe thead th {\n",
       "        text-align: right;\n",
       "    }\n",
       "</style>\n",
       "<table border=\"1\" class=\"dataframe\">\n",
       "  <thead>\n",
       "    <tr style=\"text-align: right;\">\n",
       "      <th></th>\n",
       "      <th>calls</th>\n",
       "      <th>minutes</th>\n",
       "      <th>messages</th>\n",
       "      <th>mb_used</th>\n",
       "    </tr>\n",
       "  </thead>\n",
       "  <tbody>\n",
       "    <tr>\n",
       "      <th>2085</th>\n",
       "      <td>74.0</td>\n",
       "      <td>468.26</td>\n",
       "      <td>49.0</td>\n",
       "      <td>19013.03</td>\n",
       "    </tr>\n",
       "  </tbody>\n",
       "</table>\n",
       "</div>"
      ],
      "text/plain": [
       "      calls  minutes  messages   mb_used\n",
       "2085   74.0   468.26      49.0  19013.03"
      ]
     },
     "metadata": {},
     "output_type": "display_data"
    },
    {
     "data": {
      "text/plain": [
       "179    0\n",
       "Name: is_ultra, dtype: int64"
      ]
     },
     "metadata": {},
     "output_type": "display_data"
    },
    {
     "data": {
      "text/html": [
       "<div>\n",
       "<style scoped>\n",
       "    .dataframe tbody tr th:only-of-type {\n",
       "        vertical-align: middle;\n",
       "    }\n",
       "\n",
       "    .dataframe tbody tr th {\n",
       "        vertical-align: top;\n",
       "    }\n",
       "\n",
       "    .dataframe thead th {\n",
       "        text-align: right;\n",
       "    }\n",
       "</style>\n",
       "<table border=\"1\" class=\"dataframe\">\n",
       "  <thead>\n",
       "    <tr style=\"text-align: right;\">\n",
       "      <th></th>\n",
       "      <th>calls</th>\n",
       "      <th>minutes</th>\n",
       "      <th>messages</th>\n",
       "      <th>mb_used</th>\n",
       "    </tr>\n",
       "  </thead>\n",
       "  <tbody>\n",
       "    <tr>\n",
       "      <th>1551</th>\n",
       "      <td>74.0</td>\n",
       "      <td>555.25</td>\n",
       "      <td>27.0</td>\n",
       "      <td>25718.19</td>\n",
       "    </tr>\n",
       "  </tbody>\n",
       "</table>\n",
       "</div>"
      ],
      "text/plain": [
       "      calls  minutes  messages   mb_used\n",
       "1551   74.0   555.25      27.0  25718.19"
      ]
     },
     "metadata": {},
     "output_type": "display_data"
    },
    {
     "data": {
      "text/plain": [
       "722    1\n",
       "Name: is_ultra, dtype: int64"
      ]
     },
     "execution_count": 7,
     "metadata": {},
     "output_type": "execute_result"
    }
   ],
   "source": [
    "# запишем признаки и целевой признак в отдельные переменные\n",
    "features_train = df_train.drop('is_ultra', axis=1)\n",
    "target_train = df_train['is_ultra']\n",
    "features_valid = df_valid.drop('is_ultra', axis=1)\n",
    "target_valid = df_valid['is_ultra']\n",
    "features_test = df_test.drop(['is_ultra'], axis=1)\n",
    "target_test = df_test['is_ultra']\n",
    "display(features_train.sample())\n",
    "display(target_train.sample())\n",
    "display(features_valid.sample())\n",
    "display(target_valid.sample())\n",
    "display(features_test.sample())\n",
    "target_test.sample()"
   ]
  },
  {
   "cell_type": "markdown",
   "metadata": {},
   "source": [
    "Разделили данные на три части и выделили признаки и целевой признак в отдельные переменные у обучающей и валидационной выборок:\n",
    "* `df_train` - обучающая (`60%`)\n",
    "* * `features_train` - признаки: `calls`, `minutes`, `messages`, `mb_used`\n",
    "* * `target_train` - целевой признак: `is_ultra`\n",
    "* `df_valid` - валидационная (`20%`)\n",
    "* * `features_valid` - признаки: `calls`, `minutes`, `messages`, `mb_used`\n",
    "* * `target_valid` - целевой признак: `is_ultra`\n",
    "* `df_test` - тестовая (`20%`)"
   ]
  },
  {
   "cell_type": "markdown",
   "metadata": {},
   "source": [
    "## Исследование моделей"
   ]
  },
  {
   "cell_type": "markdown",
   "metadata": {},
   "source": [
    "### Решающее дерево"
   ]
  },
  {
   "cell_type": "code",
   "execution_count": 8,
   "metadata": {
    "scrolled": true
   },
   "outputs": [
    {
     "name": "stdout",
     "output_type": "stream",
     "text": [
      "Наилучшая точность: 0.8\n",
      "Параметры модели:\n",
      "   max_depth = 3 \n"
     ]
    }
   ],
   "source": [
    "# модель решающего дерева DecisionTreeClassifier\n",
    "# гиперпараметр max_depth - максимальная глубина дерева\n",
    "for depth in range(1, 4):\n",
    "    best_depth = []\n",
    "    best_result = 0\n",
    "    model = DecisionTreeClassifier(random_state=12345, max_depth=depth)\n",
    "    model.fit(features_train, target_train)\n",
    "    predictions_valid = model.predict(features_valid)\n",
    "    accuracy = accuracy_score(target_valid, predictions_valid)\n",
    "    if accuracy > best_result:\n",
    "                    best_depth = [depth]\n",
    "                    best_result = accuracy\n",
    "print('''Наилучшая точность: {}\n",
    "Параметры модели:\n",
    "   max_depth = {} '''.format(round(best_result, 2), best_depth[0]))"
   ]
  },
  {
   "cell_type": "markdown",
   "metadata": {},
   "source": [
    "Модель решающего дерева выдала результат с долей правильных ответов более `0.75`:  `0.79`."
   ]
  },
  {
   "cell_type": "markdown",
   "metadata": {},
   "source": [
    "### Случайный лес"
   ]
  },
  {
   "cell_type": "code",
   "execution_count": 9,
   "metadata": {},
   "outputs": [
    {
     "name": "stdout",
     "output_type": "stream",
     "text": [
      "Наилучшая точность: 0.82\n",
      "Параметры модели:\n",
      "   n_estimators = 19\n",
      "   max_depth = 11\n"
     ]
    }
   ],
   "source": [
    "# модель случайного леса RandomForestClassifier\n",
    "# гиперпараметр n_estimators - количество деревьев\n",
    "for est in range(1, 20):\n",
    "    best_p = []\n",
    "    best_result = 0\n",
    "    for depth in range(1, 20):\n",
    "        model = RandomForestClassifier(random_state=12345, n_estimators=est, max_depth=depth)\n",
    "        model.fit(features_train, target_train) \n",
    "        result = model.score(features_valid, target_valid) \n",
    "        if result > best_result:\n",
    "            best_p = [est, depth]\n",
    "            best_result = result\n",
    "print('''Наилучшая точность: {}\n",
    "Параметры модели:\n",
    "   n_estimators = {}\n",
    "   max_depth = {}'''.format(round(best_result, 2), best_p[0], best_p[1]))"
   ]
  },
  {
   "cell_type": "markdown",
   "metadata": {},
   "source": [
    "Модель случайного леса выдала результат с долей правильных ответов более `0.75`:  `0.81`."
   ]
  },
  {
   "cell_type": "markdown",
   "metadata": {},
   "source": [
    "### Логистическая регрессия"
   ]
  },
  {
   "cell_type": "code",
   "execution_count": 10,
   "metadata": {
    "scrolled": true
   },
   "outputs": [
    {
     "name": "stdout",
     "output_type": "stream",
     "text": [
      "Точность: 0.74\n",
      "Параметры модели:\n",
      "   solver='lbfgs'\n",
      "   max_iter=1000 \n"
     ]
    }
   ],
   "source": [
    "# модель логистической регрессии LogisticRegression\n",
    "# гиперпараметры: solver='lbfgs' — «Lbfgs» - это алгоритм оптимизации, который аппроксимирует\n",
    "# алгоритм Бройдена – Флетчера – Гольдфарба – Шанно, который относится к квазиньютоновским методам.\n",
    "# рекомендуется использовать для небольших наборов данных, чтобы не страдала его производительность.\n",
    "# гиперпараметр max_iter - максимальное количество итераций обучения\n",
    "model = LogisticRegression(random_state=12345, solver='lbfgs', max_iter=1000, penalty='none')\n",
    "model.fit(features_train, target_train)\n",
    "result_logis = model.score(features_valid, target_valid)\n",
    "print('''Точность: {}\n",
    "Параметры модели:\n",
    "   solver='lbfgs'\n",
    "   max_iter=1000 '''.format(round(result_logis, 2)))"
   ]
  },
  {
   "cell_type": "markdown",
   "metadata": {},
   "source": [
    "Модель логистической регрессии выдала результат с долей правильных ответов более `0.75`: `0.76`."
   ]
  },
  {
   "cell_type": "markdown",
   "metadata": {},
   "source": [
    "**Вывод**  \n",
    " \n",
    "Подходящими являются модели:\n",
    "* решающего дерева `DecisionTreeClassifier`:\n",
    "* * точность: `0.79`\n",
    "* * параметр: `max_depth = 3`. \n",
    "* случайного леса `RandomForestClassifier`:\n",
    "* * точность: `0.81`\n",
    "* * параметр: `n_estimators = 19`\n",
    "* * параметр: `max_depth = 12`\n",
    "\n",
    "Неподходящая модель:\n",
    "* логистической регрессии `LogisticRegression`:\n",
    "* * точность: `0.71`\n",
    "* * параметры: `solver = 'lbfgs'`, `max_iter = 1000 `."
   ]
  },
  {
   "cell_type": "markdown",
   "metadata": {},
   "source": [
    "## Проверка моделей на тестовой выборке"
   ]
  },
  {
   "cell_type": "code",
   "execution_count": 12,
   "metadata": {},
   "outputs": [
    {
     "name": "stdout",
     "output_type": "stream",
     "text": [
      "Точность: 0.78\n",
      "Параметры модели:\n",
      "   max_depth=3 \n"
     ]
    }
   ],
   "source": [
    "# модель решающего дерева DecisionTreeClassifier\n",
    "# гиперпараметр max_depth = 3\n",
    "model_1 = DecisionTreeClassifier(random_state=12345, max_depth=3)\n",
    "model_1.fit(features_train, target_train)\n",
    "result_test_dtc = model_1.score(features_test, target_test)\n",
    "print('''Точность: {}\n",
    "Параметры модели:\n",
    "   max_depth=3 '''.format(round(result_test_dtc, 2)))"
   ]
  },
  {
   "cell_type": "code",
   "execution_count": 13,
   "metadata": {
    "scrolled": true
   },
   "outputs": [
    {
     "name": "stdout",
     "output_type": "stream",
     "text": [
      "Точность: 0.81\n",
      "Параметры модели:\n",
      "   n_estimators=19\n",
      "   max_depth=12 \n"
     ]
    }
   ],
   "source": [
    "# модель случайного леса RandomForestClassifier\n",
    "# гиперпараметр n_estimators = 10\n",
    "model_2 = RandomForestClassifier(random_state=12345, n_estimators=19, max_depth=12)\n",
    "model_2.fit(features_train, target_train)\n",
    "result_test_rfc = model_2.score(features_test, target_test)\n",
    "print('''Точность: {}\n",
    "Параметры модели:\n",
    "   n_estimators=19\n",
    "   max_depth=12 '''.format(round(result_test_rfc, 2)))"
   ]
  },
  {
   "cell_type": "markdown",
   "metadata": {},
   "source": [
    "**Вывод**  \n",
    "\n",
    "На тестовой выборке модели решающего леса и случайного дерева отработали с одинаковой точностью, потеряв при этом в точности `0.01`.\n",
    "Получившаяся максимальная точность: `0.8` больше необходимой точности `0.75`.\n",
    "\n",
    "Были проанализированы различные классификационные модели:\n",
    "* решающее дерево `DecisionTreeClassifier`,\n",
    "* случайный лес `RandomForestClassifier`,\n",
    "* логистическая регрессия `LogisticRegression`.  \n",
    "\n",
    "Каждая модель была обучена для различных сочетаний гиперпараметров, получены лучшие варианты для каждой модели.  \n",
    "Высшую точность (`accuracy`) достигла модель `RandomForestClassifier` .  \n",
    "`Accuracy` на валидационной выборке: `0.81` .  \n",
    "`Accuracy` на тестовой выборке: `0.8` ."
   ]
  },
  {
   "cell_type": "markdown",
   "metadata": {},
   "source": [
    "## Проверка модели на адекватность"
   ]
  },
  {
   "cell_type": "code",
   "execution_count": 14,
   "metadata": {},
   "outputs": [
    {
     "data": {
      "image/png": "[encoded data removed]",
      "text/plain": [
       "<Figure size 432x288 with 1 Axes>"
      ]
     },
     "metadata": {
      "needs_background": "light"
     },
     "output_type": "display_data"
    }
   ],
   "source": [
    "# построим график плотности предсказаний и реальных значений\n",
    "model_a = RandomForestClassifier(random_state=12345, n_estimators=19, max_depth=12)\n",
    "model_a.fit(features_train, target_train)\n",
    "model_a_g = model_a.predict(features_test)\n",
    "\n",
    "sns.kdeplot(model_a_g)\n",
    "sns.kdeplot(target_train)\n",
    "\n",
    "plt.legend(['Предсказания','Значения'], loc=1)\n",
    "plt.xlabel(''); plt.ylabel('Плотность');\n",
    "plt.title('График плотности прогнозных и реальных значений');"
   ]
  },
  {
   "cell_type": "markdown",
   "metadata": {},
   "source": [
    "Хорошо заметны распределения между разными тарифами, в зависимости от количества пользователей. \n",
    "Есть два значения целевого признака `is_ultra`: `1` и `0`. Если модель предсказывает одно из двух чисел случайным образом, значение ее точности будет 0.5. У модели случайного леса точность `0.8`, что говорит об адекватности модели."
   ]
  },
  {
   "cell_type": "code",
   "execution_count": 15,
   "metadata": {},
   "outputs": [
    {
     "data": {
      "image/png": "[encoded data removed]",
      "text/plain": [
       "<Figure size 432x288 with 1 Axes>"
      ]
     },
     "metadata": {
      "needs_background": "light"
     },
     "output_type": "display_data"
    }
   ],
   "source": [
    "# график histplot\n",
    "model_a = RandomForestClassifier(random_state=12345, n_estimators=19, max_depth=12)\n",
    "model_a.fit(features_train, target_train)\n",
    "model_a_g = model_a.predict(features_test)\n",
    "\n",
    "sns.histplot(model_a_g, color='k')\n",
    "sns.histplot(target_train, color='g')\n",
    "\n",
    "plt.legend(['Предсказания','Значения'], loc=1)\n",
    "plt.xlabel(''); plt.ylabel('Плотность');\n",
    "plt.title('График плотности прогнозных и реальных значений');"
   ]
  },
  {
   "cell_type": "code",
   "execution_count": 16,
   "metadata": {},
   "outputs": [
    {
     "name": "stdout",
     "output_type": "stream",
     "text": [
      "[412  89  35 107]\n",
      "              precision    recall  f1-score   support\n",
      "\n",
      "           0       0.92      0.82      0.87       501\n",
      "           1       0.55      0.75      0.63       142\n",
      "\n",
      "    accuracy                           0.81       643\n",
      "   macro avg       0.73      0.79      0.75       643\n",
      "weighted avg       0.84      0.81      0.82       643\n",
      "\n"
     ]
    }
   ],
   "source": [
    "# матрица классификации(ошибок/путаницы)\n",
    "from sklearn import metrics\n",
    "pred = model_a_g\n",
    "actual = target_test\n",
    "CM = metrics.confusion_matrix(pred, actual).ravel()\n",
    "\n",
    "print(CM)\n",
    "report = metrics.classification_report(pred, actual)\n",
    "print(report)"
   ]
  }
 ],
 "metadata": {
  "ExecuteTimeLog": [
   {
    "duration": 4,
    "start_time": "2022-04-23T18:54:31.873Z"
   },
   {
    "duration": 1217,
    "start_time": "2022-04-23T18:54:44.286Z"
   },
   {
    "duration": 54,
    "start_time": "2022-04-23T18:57:16.757Z"
   },
   {
    "duration": 40,
    "start_time": "2022-04-23T18:57:57.910Z"
   },
   {
    "duration": 121,
    "start_time": "2022-04-23T18:59:29.105Z"
   },
   {
    "duration": 16,
    "start_time": "2022-04-23T18:59:47.059Z"
   },
   {
    "duration": 5,
    "start_time": "2022-04-23T19:00:23.872Z"
   },
   {
    "duration": 26,
    "start_time": "2022-04-23T19:01:13.069Z"
   },
   {
    "duration": 4,
    "start_time": "2022-04-23T19:33:37.385Z"
   },
   {
    "duration": 11,
    "start_time": "2022-04-23T19:44:18.622Z"
   },
   {
    "duration": 6,
    "start_time": "2022-04-23T19:52:25.943Z"
   },
   {
    "duration": 7,
    "start_time": "2022-04-23T19:53:45.322Z"
   },
   {
    "duration": 9,
    "start_time": "2022-04-23T19:55:00.015Z"
   },
   {
    "duration": 7,
    "start_time": "2022-04-23T19:55:32.674Z"
   },
   {
    "duration": 23,
    "start_time": "2022-04-23T20:05:00.966Z"
   },
   {
    "duration": 20,
    "start_time": "2022-04-23T20:05:48.754Z"
   },
   {
    "duration": 19,
    "start_time": "2022-04-23T20:05:59.939Z"
   },
   {
    "duration": 14,
    "start_time": "2022-04-23T20:06:07.871Z"
   },
   {
    "duration": 12,
    "start_time": "2022-04-23T20:06:25.171Z"
   },
   {
    "duration": 24,
    "start_time": "2022-04-23T20:07:05.896Z"
   },
   {
    "duration": 108,
    "start_time": "2022-04-23T20:27:09.259Z"
   },
   {
    "duration": 68,
    "start_time": "2022-04-23T20:27:55.883Z"
   },
   {
    "duration": 15,
    "start_time": "2022-04-23T20:37:28.321Z"
   },
   {
    "duration": 96,
    "start_time": "2022-04-23T20:38:43.972Z"
   },
   {
    "duration": 89,
    "start_time": "2022-04-23T20:39:10.245Z"
   },
   {
    "duration": 362,
    "start_time": "2022-04-23T20:39:38.984Z"
   },
   {
    "duration": 29,
    "start_time": "2022-04-23T20:39:48.369Z"
   },
   {
    "duration": 29,
    "start_time": "2022-04-23T20:39:59.043Z"
   },
   {
    "duration": 34,
    "start_time": "2022-04-23T20:40:03.315Z"
   },
   {
    "duration": 497,
    "start_time": "2022-04-23T20:40:14.883Z"
   },
   {
    "duration": 993,
    "start_time": "2022-04-23T20:40:21.957Z"
   },
   {
    "duration": 13,
    "start_time": "2022-04-23T20:40:28.432Z"
   },
   {
    "duration": 9,
    "start_time": "2022-04-23T20:40:36.396Z"
   },
   {
    "duration": 19,
    "start_time": "2022-04-23T20:40:40.415Z"
   },
   {
    "duration": 24,
    "start_time": "2022-04-23T20:40:43.655Z"
   },
   {
    "duration": 28,
    "start_time": "2022-04-23T20:40:46.377Z"
   },
   {
    "duration": 38,
    "start_time": "2022-04-23T20:42:10.545Z"
   },
   {
    "duration": 105,
    "start_time": "2022-04-23T20:42:17.473Z"
   },
   {
    "duration": 21,
    "start_time": "2022-04-23T20:42:26.538Z"
   },
   {
    "duration": 38,
    "start_time": "2022-04-23T20:42:32.303Z"
   },
   {
    "duration": 22,
    "start_time": "2022-04-23T20:42:36.144Z"
   },
   {
    "duration": 19,
    "start_time": "2022-04-23T20:43:00.682Z"
   },
   {
    "duration": 310,
    "start_time": "2022-04-23T20:49:03.071Z"
   },
   {
    "duration": 31,
    "start_time": "2022-04-23T20:49:34.988Z"
   },
   {
    "duration": 31,
    "start_time": "2022-04-23T20:49:45.100Z"
   },
   {
    "duration": 23,
    "start_time": "2022-04-23T20:52:22.679Z"
   },
   {
    "duration": 353,
    "start_time": "2022-04-23T20:55:37.684Z"
   },
   {
    "duration": 47,
    "start_time": "2022-04-23T20:55:44.237Z"
   },
   {
    "duration": 91,
    "start_time": "2022-04-23T20:55:48.736Z"
   },
   {
    "duration": 4931,
    "start_time": "2022-04-23T20:55:53.147Z"
   },
   {
    "duration": 375,
    "start_time": "2022-04-23T20:56:06.406Z"
   },
   {
    "duration": 232,
    "start_time": "2022-04-23T20:56:10.463Z"
   },
   {
    "duration": 300,
    "start_time": "2022-04-23T20:56:14.582Z"
   },
   {
    "duration": 14,
    "start_time": "2022-04-23T21:13:27.290Z"
   },
   {
    "duration": 3,
    "start_time": "2022-04-23T21:15:03.938Z"
   },
   {
    "duration": 26798,
    "start_time": "2022-04-23T21:15:09.041Z"
   },
   {
    "duration": 21245,
    "start_time": "2022-04-23T21:15:53.716Z"
   },
   {
    "duration": 294,
    "start_time": "2022-04-23T21:17:58.191Z"
   },
   {
    "duration": 65,
    "start_time": "2022-04-23T21:18:52.563Z"
   },
   {
    "duration": 24,
    "start_time": "2022-04-23T21:19:02.799Z"
   },
   {
    "duration": 24,
    "start_time": "2022-04-23T21:21:52.311Z"
   },
   {
    "duration": 23,
    "start_time": "2022-04-23T21:22:00.175Z"
   },
   {
    "duration": 25,
    "start_time": "2022-04-23T21:22:07.678Z"
   },
   {
    "duration": 26,
    "start_time": "2022-04-23T21:22:23.514Z"
   },
   {
    "duration": 59,
    "start_time": "2022-04-23T21:25:05.849Z"
   },
   {
    "duration": 25,
    "start_time": "2022-04-23T21:25:37.766Z"
   },
   {
    "duration": 19,
    "start_time": "2022-04-23T21:27:52.889Z"
   },
   {
    "duration": 235,
    "start_time": "2022-04-23T21:27:57.404Z"
   },
   {
    "duration": 246,
    "start_time": "2022-04-23T21:28:00.995Z"
   },
   {
    "duration": 18,
    "start_time": "2022-04-23T21:28:04.802Z"
   },
   {
    "duration": 254,
    "start_time": "2022-04-23T21:28:12.469Z"
   },
   {
    "duration": 20,
    "start_time": "2022-04-23T21:28:15.858Z"
   },
   {
    "duration": 19,
    "start_time": "2022-04-23T21:28:25.730Z"
   },
   {
    "duration": 240,
    "start_time": "2022-04-23T21:28:29.669Z"
   },
   {
    "duration": 25,
    "start_time": "2022-04-23T21:35:55.122Z"
   },
   {
    "duration": 26,
    "start_time": "2022-04-23T21:36:01.965Z"
   },
   {
    "duration": 25,
    "start_time": "2022-04-23T21:36:12.066Z"
   },
   {
    "duration": 33,
    "start_time": "2022-04-23T21:51:27.311Z"
   },
   {
    "duration": 10,
    "start_time": "2022-04-23T21:59:35.015Z"
   },
   {
    "duration": 18,
    "start_time": "2022-04-23T22:05:12.648Z"
   },
   {
    "duration": 9,
    "start_time": "2022-04-23T22:12:46.415Z"
   },
   {
    "duration": 44,
    "start_time": "2022-04-23T22:13:26.308Z"
   },
   {
    "duration": 46,
    "start_time": "2022-04-23T22:14:49.062Z"
   },
   {
    "duration": 1087,
    "start_time": "2022-04-23T22:26:01.724Z"
   },
   {
    "duration": 33,
    "start_time": "2022-04-23T22:26:02.813Z"
   },
   {
    "duration": 4,
    "start_time": "2022-04-23T22:26:02.848Z"
   },
   {
    "duration": 22,
    "start_time": "2022-04-23T22:26:02.854Z"
   },
   {
    "duration": 7,
    "start_time": "2022-04-23T22:26:02.877Z"
   },
   {
    "duration": 35,
    "start_time": "2022-04-23T22:26:02.885Z"
   },
   {
    "duration": 17,
    "start_time": "2022-04-23T22:26:02.922Z"
   },
   {
    "duration": 268,
    "start_time": "2022-04-23T22:26:02.941Z"
   },
   {
    "duration": 24,
    "start_time": "2022-04-23T22:26:03.211Z"
   },
   {
    "duration": 3,
    "start_time": "2022-04-23T22:26:03.237Z"
   },
   {
    "duration": 14,
    "start_time": "2022-04-23T22:26:03.242Z"
   },
   {
    "duration": 69,
    "start_time": "2022-04-23T22:26:03.257Z"
   },
   {
    "duration": 105,
    "start_time": "2022-04-23T22:31:19.212Z"
   },
   {
    "duration": 25,
    "start_time": "2022-04-23T22:31:41.457Z"
   },
   {
    "duration": 23,
    "start_time": "2022-04-23T22:31:57.042Z"
   },
   {
    "duration": 24,
    "start_time": "2022-04-23T22:32:06.047Z"
   },
   {
    "duration": 24,
    "start_time": "2022-04-23T22:32:12.639Z"
   },
   {
    "duration": 26,
    "start_time": "2022-04-23T22:32:17.933Z"
   },
   {
    "duration": 25,
    "start_time": "2022-04-23T22:32:23.197Z"
   },
   {
    "duration": 24,
    "start_time": "2022-04-23T22:32:30.705Z"
   },
   {
    "duration": 24,
    "start_time": "2022-04-23T22:32:35.054Z"
   },
   {
    "duration": 23,
    "start_time": "2022-04-23T22:32:39.713Z"
   },
   {
    "duration": 25,
    "start_time": "2022-04-23T22:33:20.337Z"
   },
   {
    "duration": 24,
    "start_time": "2022-04-23T22:33:25.382Z"
   },
   {
    "duration": 24,
    "start_time": "2022-04-23T22:33:34.232Z"
   },
   {
    "duration": 23,
    "start_time": "2022-04-23T22:33:41.357Z"
   },
   {
    "duration": 26,
    "start_time": "2022-04-23T22:33:46.230Z"
   },
   {
    "duration": 77,
    "start_time": "2022-04-23T22:38:45.002Z"
   },
   {
    "duration": 245,
    "start_time": "2022-04-23T22:38:50.317Z"
   },
   {
    "duration": 37,
    "start_time": "2022-04-23T22:39:07.835Z"
   },
   {
    "duration": 47,
    "start_time": "2022-04-23T22:39:19.827Z"
   },
   {
    "duration": 81,
    "start_time": "2022-04-23T22:43:52.137Z"
   },
   {
    "duration": 1557,
    "start_time": "2022-04-23T22:44:15.470Z"
   },
   {
    "duration": 1139,
    "start_time": "2022-04-23T22:48:17.609Z"
   },
   {
    "duration": 36,
    "start_time": "2022-04-23T22:48:18.750Z"
   },
   {
    "duration": 5,
    "start_time": "2022-04-23T22:48:18.787Z"
   },
   {
    "duration": 27,
    "start_time": "2022-04-23T22:48:18.794Z"
   },
   {
    "duration": 7,
    "start_time": "2022-04-23T22:48:18.825Z"
   },
   {
    "duration": 20,
    "start_time": "2022-04-23T22:48:18.834Z"
   },
   {
    "duration": 20,
    "start_time": "2022-04-23T22:48:18.856Z"
   },
   {
    "duration": 23,
    "start_time": "2022-04-23T22:49:28.032Z"
   },
   {
    "duration": 3,
    "start_time": "2022-04-23T22:49:28.057Z"
   },
   {
    "duration": 10,
    "start_time": "2022-04-23T22:49:28.062Z"
   },
   {
    "duration": 66,
    "start_time": "2022-04-23T22:49:28.074Z"
   },
   {
    "duration": 6170,
    "start_time": "2022-04-23T22:49:28.142Z"
   },
   {
    "duration": 9840,
    "start_time": "2022-04-23T22:50:06.015Z"
   },
   {
    "duration": 1630,
    "start_time": "2022-04-23T22:50:33.064Z"
   },
   {
    "duration": 1133,
    "start_time": "2022-04-23T22:50:50.929Z"
   },
   {
    "duration": 2956,
    "start_time": "2022-04-23T22:51:02.622Z"
   },
   {
    "duration": 1028,
    "start_time": "2022-04-23T22:51:14.094Z"
   },
   {
    "duration": 868,
    "start_time": "2022-04-23T22:51:21.140Z"
   },
   {
    "duration": 3078,
    "start_time": "2022-04-23T22:51:29.131Z"
   },
   {
    "duration": 4683,
    "start_time": "2022-04-23T22:51:41.961Z"
   },
   {
    "duration": 6566,
    "start_time": "2022-04-23T22:51:53.585Z"
   },
   {
    "duration": 9921,
    "start_time": "2022-04-23T22:52:09.684Z"
   },
   {
    "duration": 9269,
    "start_time": "2022-04-23T22:52:24.322Z"
   },
   {
    "duration": 1134,
    "start_time": "2022-04-23T22:52:39.544Z"
   },
   {
    "duration": 4245,
    "start_time": "2022-04-23T22:53:00.233Z"
   },
   {
    "duration": 11437,
    "start_time": "2022-04-23T22:53:14.586Z"
   },
   {
    "duration": 11562,
    "start_time": "2022-04-23T22:53:52.105Z"
   },
   {
    "duration": 76,
    "start_time": "2022-04-23T22:55:44.366Z"
   },
   {
    "duration": 76,
    "start_time": "2022-04-23T22:57:12.757Z"
   },
   {
    "duration": 76,
    "start_time": "2022-04-23T22:57:19.139Z"
   },
   {
    "duration": 575,
    "start_time": "2022-04-23T23:21:22.818Z"
   },
   {
    "duration": 17,
    "start_time": "2022-04-23T23:22:03.175Z"
   },
   {
    "duration": 16,
    "start_time": "2022-04-23T23:22:37.015Z"
   },
   {
    "duration": 168,
    "start_time": "2022-04-23T23:23:31.587Z"
   },
   {
    "duration": 159,
    "start_time": "2022-04-23T23:23:59.494Z"
   },
   {
    "duration": 327,
    "start_time": "2022-04-23T23:24:31.190Z"
   },
   {
    "duration": 157,
    "start_time": "2022-04-23T23:29:08.798Z"
   },
   {
    "duration": 166,
    "start_time": "2022-04-23T23:29:14.931Z"
   },
   {
    "duration": 152,
    "start_time": "2022-04-23T23:29:24.536Z"
   },
   {
    "duration": 153,
    "start_time": "2022-04-23T23:30:47.424Z"
   },
   {
    "duration": 16,
    "start_time": "2022-04-23T23:30:55.196Z"
   },
   {
    "duration": 166,
    "start_time": "2022-04-23T23:31:03.237Z"
   },
   {
    "duration": 160,
    "start_time": "2022-04-23T23:31:26.711Z"
   },
   {
    "duration": 152,
    "start_time": "2022-04-23T23:31:34.362Z"
   },
   {
    "duration": 155,
    "start_time": "2022-04-23T23:31:45.067Z"
   },
   {
    "duration": 1183,
    "start_time": "2022-04-23T23:31:59.078Z"
   },
   {
    "duration": 41,
    "start_time": "2022-04-23T23:32:00.263Z"
   },
   {
    "duration": 5,
    "start_time": "2022-04-23T23:32:00.305Z"
   },
   {
    "duration": 30,
    "start_time": "2022-04-23T23:32:00.311Z"
   },
   {
    "duration": 7,
    "start_time": "2022-04-23T23:32:00.343Z"
   },
   {
    "duration": 20,
    "start_time": "2022-04-23T23:32:00.352Z"
   },
   {
    "duration": 45,
    "start_time": "2022-04-23T23:32:00.373Z"
   },
   {
    "duration": 11752,
    "start_time": "2022-04-23T23:32:00.420Z"
   },
   {
    "duration": 33,
    "start_time": "2022-04-23T23:32:12.174Z"
   },
   {
    "duration": 4,
    "start_time": "2022-04-23T23:32:12.209Z"
   },
   {
    "duration": 11,
    "start_time": "2022-04-23T23:32:12.214Z"
   },
   {
    "duration": 89,
    "start_time": "2022-04-23T23:32:12.227Z"
   },
   {
    "duration": 415,
    "start_time": "2022-04-23T23:32:12.318Z"
   },
   {
    "duration": 356,
    "start_time": "2022-04-23T23:32:12.736Z"
   },
   {
    "duration": 25,
    "start_time": "2022-04-23T23:33:39.263Z"
   },
   {
    "duration": 24,
    "start_time": "2022-04-23T23:36:00.297Z"
   },
   {
    "duration": 5,
    "start_time": "2022-04-23T23:38:35.197Z"
   },
   {
    "duration": 209,
    "start_time": "2022-04-23T23:38:40.943Z"
   },
   {
    "duration": 152,
    "start_time": "2022-04-23T23:39:31.145Z"
   },
   {
    "duration": 143,
    "start_time": "2022-04-23T23:39:40.741Z"
   },
   {
    "duration": 164,
    "start_time": "2022-04-23T23:43:48.067Z"
   },
   {
    "duration": 164,
    "start_time": "2022-04-23T23:43:55.345Z"
   },
   {
    "duration": 173,
    "start_time": "2022-04-23T23:44:00.441Z"
   },
   {
    "duration": 169,
    "start_time": "2022-04-23T23:44:05.217Z"
   },
   {
    "duration": 169,
    "start_time": "2022-04-23T23:44:10.188Z"
   },
   {
    "duration": 171,
    "start_time": "2022-04-23T23:45:00.420Z"
   },
   {
    "duration": 212,
    "start_time": "2022-04-23T23:45:51.204Z"
   },
   {
    "duration": 78,
    "start_time": "2022-04-23T23:46:28.028Z"
   },
   {
    "duration": 92,
    "start_time": "2022-04-23T23:47:03.431Z"
   },
   {
    "duration": 86,
    "start_time": "2022-04-23T23:48:07.566Z"
   },
   {
    "duration": 300,
    "start_time": "2022-04-23T23:49:49.517Z"
   },
   {
    "duration": 629,
    "start_time": "2022-04-23T23:49:56.057Z"
   },
   {
    "duration": 12,
    "start_time": "2022-04-23T23:50:30.125Z"
   },
   {
    "duration": 273,
    "start_time": "2022-04-23T23:50:46.735Z"
   },
   {
    "duration": 254,
    "start_time": "2022-04-23T23:50:59.217Z"
   },
   {
    "duration": 8,
    "start_time": "2022-04-23T23:52:32.110Z"
   },
   {
    "duration": 8,
    "start_time": "2022-04-23T23:52:49.069Z"
   },
   {
    "duration": 3,
    "start_time": "2022-04-23T23:52:57.510Z"
   },
   {
    "duration": 9,
    "start_time": "2022-04-23T23:53:03.882Z"
   },
   {
    "duration": 10,
    "start_time": "2022-04-23T23:53:30.880Z"
   },
   {
    "duration": 101,
    "start_time": "2022-04-23T23:53:38.269Z"
   },
   {
    "duration": 103,
    "start_time": "2022-04-23T23:53:49.944Z"
   },
   {
    "duration": 307,
    "start_time": "2022-04-23T23:54:03.409Z"
   },
   {
    "duration": 84,
    "start_time": "2022-04-23T23:56:56.147Z"
   },
   {
    "duration": 219,
    "start_time": "2022-04-23T23:57:27.251Z"
   },
   {
    "duration": 1321,
    "start_time": "2022-04-24T00:10:44.316Z"
   },
   {
    "duration": 29,
    "start_time": "2022-04-24T00:10:45.639Z"
   },
   {
    "duration": 6,
    "start_time": "2022-04-24T00:10:45.670Z"
   },
   {
    "duration": 30,
    "start_time": "2022-04-24T00:10:45.678Z"
   },
   {
    "duration": 8,
    "start_time": "2022-04-24T00:10:45.709Z"
   },
   {
    "duration": 18,
    "start_time": "2022-04-24T00:10:45.719Z"
   },
   {
    "duration": 18,
    "start_time": "2022-04-24T00:10:45.739Z"
   },
   {
    "duration": 11407,
    "start_time": "2022-04-24T00:10:45.758Z"
   },
   {
    "duration": 24,
    "start_time": "2022-04-24T00:10:57.167Z"
   },
   {
    "duration": 14,
    "start_time": "2022-04-24T00:10:57.194Z"
   },
   {
    "duration": 11,
    "start_time": "2022-04-24T00:10:57.209Z"
   },
   {
    "duration": 68,
    "start_time": "2022-04-24T00:10:57.222Z"
   },
   {
    "duration": 255,
    "start_time": "2022-04-24T00:10:57.292Z"
   },
   {
    "duration": 1871,
    "start_time": "2022-04-24T18:27:14.921Z"
   },
   {
    "duration": 39,
    "start_time": "2022-04-24T18:27:16.794Z"
   },
   {
    "duration": 7,
    "start_time": "2022-04-24T18:27:16.834Z"
   },
   {
    "duration": 29,
    "start_time": "2022-04-24T18:27:16.843Z"
   },
   {
    "duration": 1472,
    "start_time": "2022-04-24T18:27:16.874Z"
   },
   {
    "duration": 8,
    "start_time": "2022-04-24T18:27:18.347Z"
   },
   {
    "duration": 32,
    "start_time": "2022-04-24T18:27:18.357Z"
   },
   {
    "duration": 43,
    "start_time": "2022-04-24T18:27:18.391Z"
   },
   {
    "duration": 12878,
    "start_time": "2022-04-24T18:27:18.436Z"
   },
   {
    "duration": 36,
    "start_time": "2022-04-24T18:27:31.318Z"
   },
   {
    "duration": 4,
    "start_time": "2022-04-24T18:27:31.356Z"
   },
   {
    "duration": 16,
    "start_time": "2022-04-24T18:27:31.362Z"
   },
   {
    "duration": 98,
    "start_time": "2022-04-24T18:27:31.379Z"
   },
   {
    "duration": 282,
    "start_time": "2022-04-24T18:27:31.479Z"
   },
   {
    "duration": 121,
    "start_time": "2022-04-24T18:44:46.118Z"
   },
   {
    "duration": 17,
    "start_time": "2022-04-24T18:48:05.945Z"
   },
   {
    "duration": 9,
    "start_time": "2022-04-24T18:48:42.370Z"
   },
   {
    "duration": 182,
    "start_time": "2022-04-24T18:51:33.479Z"
   },
   {
    "duration": 171,
    "start_time": "2022-04-24T18:52:26.987Z"
   },
   {
    "duration": 30,
    "start_time": "2022-04-24T19:16:45.378Z"
   },
   {
    "duration": 38,
    "start_time": "2022-04-24T19:17:01.290Z"
   },
   {
    "duration": 84,
    "start_time": "2022-04-24T19:19:20.314Z"
   },
   {
    "duration": 268,
    "start_time": "2022-04-24T19:19:45.730Z"
   },
   {
    "duration": 27,
    "start_time": "2022-04-24T19:25:25.305Z"
   },
   {
    "duration": 38,
    "start_time": "2022-04-24T19:25:33.485Z"
   },
   {
    "duration": 11,
    "start_time": "2022-04-24T19:41:34.113Z"
   },
   {
    "duration": 1446,
    "start_time": "2022-04-24T19:41:43.121Z"
   },
   {
    "duration": 84,
    "start_time": "2022-04-24T19:48:05.036Z"
   },
   {
    "duration": 194,
    "start_time": "2022-04-24T19:49:56.962Z"
   },
   {
    "duration": 46887,
    "start_time": "2022-04-24T19:50:08.808Z"
   },
   {
    "duration": 80,
    "start_time": "2022-04-24T19:51:12.868Z"
   },
   {
    "duration": 78,
    "start_time": "2022-04-24T19:55:09.621Z"
   },
   {
    "duration": 16,
    "start_time": "2022-04-24T19:55:25.925Z"
   },
   {
    "duration": 19,
    "start_time": "2022-04-24T19:59:52.847Z"
   },
   {
    "duration": 13,
    "start_time": "2022-04-24T20:02:29.574Z"
   },
   {
    "duration": 15,
    "start_time": "2022-04-24T20:04:50.985Z"
   },
   {
    "duration": 14,
    "start_time": "2022-04-24T20:06:28.401Z"
   },
   {
    "duration": 15,
    "start_time": "2022-04-24T20:08:17.831Z"
   },
   {
    "duration": 13,
    "start_time": "2022-04-24T20:12:16.322Z"
   },
   {
    "duration": 13,
    "start_time": "2022-04-24T20:13:00.767Z"
   },
   {
    "duration": 10,
    "start_time": "2022-04-24T20:17:46.124Z"
   },
   {
    "duration": 99433,
    "start_time": "2022-04-24T20:22:27.934Z"
   },
   {
    "duration": 97376,
    "start_time": "2022-04-24T20:26:10.988Z"
   },
   {
    "duration": 2010,
    "start_time": "2022-04-24T20:28:01.366Z"
   },
   {
    "duration": 807,
    "start_time": "2022-04-24T20:28:34.338Z"
   },
   {
    "duration": 804,
    "start_time": "2022-04-24T20:29:47.278Z"
   },
   {
    "duration": 12,
    "start_time": "2022-04-24T20:30:14.852Z"
   },
   {
    "duration": 11,
    "start_time": "2022-04-24T20:31:47.406Z"
   },
   {
    "duration": 1270,
    "start_time": "2022-04-24T20:32:04.326Z"
   },
   {
    "duration": 13,
    "start_time": "2022-04-24T20:32:12.149Z"
   },
   {
    "duration": 12,
    "start_time": "2022-04-24T20:33:22.911Z"
   },
   {
    "duration": 14,
    "start_time": "2022-04-24T20:33:31.102Z"
   },
   {
    "duration": 14,
    "start_time": "2022-04-24T20:33:45.024Z"
   },
   {
    "duration": 774,
    "start_time": "2022-04-24T20:35:27.869Z"
   },
   {
    "duration": 3,
    "start_time": "2022-04-24T20:35:36.203Z"
   },
   {
    "duration": 25827,
    "start_time": "2022-04-24T20:35:45.966Z"
   },
   {
    "duration": 23917,
    "start_time": "2022-04-24T20:40:40.550Z"
   },
   {
    "duration": 20,
    "start_time": "2022-04-24T20:41:31.631Z"
   },
   {
    "duration": 21,
    "start_time": "2022-04-24T20:41:57.891Z"
   },
   {
    "duration": 20,
    "start_time": "2022-04-24T20:42:13.702Z"
   },
   {
    "duration": 23454,
    "start_time": "2022-04-24T20:42:33.428Z"
   },
   {
    "duration": 293,
    "start_time": "2022-04-24T20:49:18.187Z"
   },
   {
    "duration": 12,
    "start_time": "2022-04-24T20:49:40.577Z"
   },
   {
    "duration": 1642,
    "start_time": "2022-04-24T20:50:04.493Z"
   },
   {
    "duration": 3,
    "start_time": "2022-04-24T20:57:57.599Z"
   },
   {
    "duration": 3,
    "start_time": "2022-04-24T20:58:15.885Z"
   },
   {
    "duration": 2,
    "start_time": "2022-04-24T20:58:29.213Z"
   },
   {
    "duration": 374,
    "start_time": "2022-04-24T20:58:59.685Z"
   },
   {
    "duration": 273,
    "start_time": "2022-04-24T20:59:49.248Z"
   },
   {
    "duration": 247,
    "start_time": "2022-04-24T21:00:06.881Z"
   },
   {
    "duration": 13,
    "start_time": "2022-04-24T21:04:18.711Z"
   },
   {
    "duration": 1017,
    "start_time": "2022-04-24T21:06:24.593Z"
   },
   {
    "duration": 222,
    "start_time": "2022-04-24T21:12:09.236Z"
   },
   {
    "duration": 214,
    "start_time": "2022-04-24T21:13:18.641Z"
   },
   {
    "duration": 157,
    "start_time": "2022-04-25T19:00:57.065Z"
   },
   {
    "duration": 151,
    "start_time": "2022-04-25T19:01:55.799Z"
   },
   {
    "duration": 151,
    "start_time": "2022-04-25T19:03:12.803Z"
   },
   {
    "duration": 163,
    "start_time": "2022-04-25T19:04:37.690Z"
   },
   {
    "duration": 168,
    "start_time": "2022-04-25T19:05:03.305Z"
   },
   {
    "duration": 120,
    "start_time": "2022-04-25T19:25:32.768Z"
   },
   {
    "duration": 139,
    "start_time": "2022-04-25T19:25:54.142Z"
   },
   {
    "duration": 120,
    "start_time": "2022-04-25T19:26:18.859Z"
   },
   {
    "duration": 11,
    "start_time": "2022-04-25T19:27:00.200Z"
   },
   {
    "duration": 4,
    "start_time": "2022-04-25T19:27:05.238Z"
   },
   {
    "duration": 4,
    "start_time": "2022-04-25T19:27:26.602Z"
   },
   {
    "duration": 11,
    "start_time": "2022-04-25T19:29:20.309Z"
   },
   {
    "duration": 110,
    "start_time": "2022-04-25T19:29:29.065Z"
   },
   {
    "duration": 109,
    "start_time": "2022-04-25T19:29:51.462Z"
   },
   {
    "duration": 109,
    "start_time": "2022-04-25T19:30:11.164Z"
   },
   {
    "duration": 117,
    "start_time": "2022-04-25T19:30:25.141Z"
   },
   {
    "duration": 115,
    "start_time": "2022-04-25T19:30:30.323Z"
   },
   {
    "duration": 114,
    "start_time": "2022-04-25T19:30:34.378Z"
   },
   {
    "duration": 114,
    "start_time": "2022-04-25T19:30:51.241Z"
   },
   {
    "duration": 123,
    "start_time": "2022-04-25T19:30:58.534Z"
   },
   {
    "duration": 244,
    "start_time": "2022-04-25T19:31:12.132Z"
   },
   {
    "duration": 112,
    "start_time": "2022-04-25T19:31:23.723Z"
   },
   {
    "duration": 118,
    "start_time": "2022-04-25T19:31:33.370Z"
   },
   {
    "duration": 110,
    "start_time": "2022-04-25T19:33:43.396Z"
   },
   {
    "duration": 130,
    "start_time": "2022-04-25T19:34:49.629Z"
   },
   {
    "duration": 5,
    "start_time": "2022-04-25T19:37:32.976Z"
   },
   {
    "duration": 17,
    "start_time": "2022-04-25T19:43:41.385Z"
   },
   {
    "duration": 190,
    "start_time": "2022-04-25T19:44:01.967Z"
   },
   {
    "duration": 4,
    "start_time": "2022-04-25T19:48:00.874Z"
   },
   {
    "duration": 16,
    "start_time": "2022-04-25T19:49:32.419Z"
   },
   {
    "duration": 29,
    "start_time": "2022-04-25T19:50:24.661Z"
   },
   {
    "duration": 14,
    "start_time": "2022-04-25T19:50:31.322Z"
   },
   {
    "duration": 16,
    "start_time": "2022-04-25T19:52:55.155Z"
   },
   {
    "duration": 16,
    "start_time": "2022-04-25T19:53:32.165Z"
   },
   {
    "duration": 17,
    "start_time": "2022-04-25T19:53:42.988Z"
   },
   {
    "duration": 17,
    "start_time": "2022-04-25T19:53:56.628Z"
   },
   {
    "duration": 17,
    "start_time": "2022-04-25T19:57:39.273Z"
   },
   {
    "duration": 14,
    "start_time": "2022-04-25T19:57:58.542Z"
   },
   {
    "duration": 11,
    "start_time": "2022-04-25T19:58:18.273Z"
   },
   {
    "duration": 14,
    "start_time": "2022-04-25T19:59:18.951Z"
   },
   {
    "duration": 203,
    "start_time": "2022-04-25T20:04:39.068Z"
   },
   {
    "duration": 309,
    "start_time": "2022-04-25T20:05:02.927Z"
   },
   {
    "duration": 718,
    "start_time": "2022-04-25T20:05:31.453Z"
   },
   {
    "duration": 286,
    "start_time": "2022-04-25T20:06:26.140Z"
   },
   {
    "duration": 88,
    "start_time": "2022-04-25T20:09:33.328Z"
   },
   {
    "duration": 97,
    "start_time": "2022-04-25T20:11:07.991Z"
   },
   {
    "duration": 5,
    "start_time": "2022-04-25T20:12:22.045Z"
   },
   {
    "duration": 5,
    "start_time": "2022-04-25T20:12:42.426Z"
   },
   {
    "duration": 13,
    "start_time": "2022-04-25T20:12:51.884Z"
   },
   {
    "duration": 270,
    "start_time": "2022-04-25T20:13:48.293Z"
   },
   {
    "duration": 281,
    "start_time": "2022-04-25T20:14:06.446Z"
   },
   {
    "duration": 280,
    "start_time": "2022-04-25T20:14:19.449Z"
   },
   {
    "duration": 272,
    "start_time": "2022-04-25T20:16:06.305Z"
   },
   {
    "duration": 338,
    "start_time": "2022-04-25T20:16:47.986Z"
   },
   {
    "duration": 271,
    "start_time": "2022-04-25T20:16:54.111Z"
   },
   {
    "duration": 271,
    "start_time": "2022-04-25T20:17:48.928Z"
   },
   {
    "duration": 251,
    "start_time": "2022-04-25T20:24:53.475Z"
   },
   {
    "duration": 280,
    "start_time": "2022-04-25T20:26:04.189Z"
   },
   {
    "duration": 15,
    "start_time": "2022-04-25T20:27:09.059Z"
   },
   {
    "duration": 16,
    "start_time": "2022-04-25T20:27:34.999Z"
   },
   {
    "duration": 11,
    "start_time": "2022-04-25T20:27:56.268Z"
   },
   {
    "duration": 266,
    "start_time": "2022-04-25T20:32:08.665Z"
   },
   {
    "duration": 10,
    "start_time": "2022-04-25T20:32:20.183Z"
   },
   {
    "duration": 1654,
    "start_time": "2022-04-25T20:36:09.876Z"
   },
   {
    "duration": 48,
    "start_time": "2022-04-25T20:36:11.532Z"
   },
   {
    "duration": 5,
    "start_time": "2022-04-25T20:36:11.581Z"
   },
   {
    "duration": 28,
    "start_time": "2022-04-25T20:36:11.588Z"
   },
   {
    "duration": 1463,
    "start_time": "2022-04-25T20:36:11.619Z"
   },
   {
    "duration": 8,
    "start_time": "2022-04-25T20:36:13.084Z"
   },
   {
    "duration": 30,
    "start_time": "2022-04-25T20:36:13.094Z"
   },
   {
    "duration": 20,
    "start_time": "2022-04-25T20:36:13.134Z"
   },
   {
    "duration": 12408,
    "start_time": "2022-04-25T20:36:13.156Z"
   },
   {
    "duration": 40,
    "start_time": "2022-04-25T20:36:25.566Z"
   },
   {
    "duration": 3,
    "start_time": "2022-04-25T20:36:25.609Z"
   },
   {
    "duration": 32,
    "start_time": "2022-04-25T20:36:25.613Z"
   },
   {
    "duration": 98,
    "start_time": "2022-04-25T20:36:25.646Z"
   },
   {
    "duration": 258,
    "start_time": "2022-04-25T20:36:25.746Z"
   },
   {
    "duration": 291,
    "start_time": "2022-04-25T20:36:26.006Z"
   },
   {
    "duration": 10,
    "start_time": "2022-04-25T20:36:26.299Z"
   }
  ],
  "kernelspec": {
   "display_name": "Python 3 (ipykernel)",
   "language": "python",
   "name": "python3"
  },
  "language_info": {
   "codemirror_mode": {
    "name": "ipython",
    "version": 3
   },
   "file_extension": ".py",
   "mimetype": "text/x-python",
   "name": "python",
   "nbconvert_exporter": "python",
   "pygments_lexer": "ipython3",
   "version": "3.9.7"
  },
  "toc": {
   "base_numbering": 1,
   "nav_menu": {},
   "number_sections": true,
   "sideBar": true,
   "skip_h1_title": true,
   "title_cell": "Table of Contents",
   "title_sidebar": "Contents",
   "toc_cell": false,
   "toc_position": {},
   "toc_section_display": true,
   "toc_window_display": true
  }
 },
 "nbformat": 4,
 "nbformat_minor": 2
}
