{
 "cells": [
  {
   "cell_type": "markdown",
   "metadata": {
    "toc": true
   },
   "source": [
    "<h1>Содержание<span class=\"tocSkip\"></span></h1>\n",
    "<div class=\"toc\"><ul class=\"toc-item\"><li><span><a href=\"#Исследование-объявлений-о-продаже-квартир\" data-toc-modified-id=\"Исследование-объявлений-о-продаже-квартир-1\">Исследование объявлений о продаже квартир</a></span><ul class=\"toc-item\"><li><span><a href=\"#Изучение-данных-из-файла\" data-toc-modified-id=\"Изучение-данных-из-файла-1.1\">Изучение данных из файла</a></span></li><li><span><a href=\"#Предобработка-данных\" data-toc-modified-id=\"Предобработка-данных-1.2\">Предобработка данных</a></span></li><li><span><a href=\"#Расчёты-и-добавление-результатов-в-таблицу\" data-toc-modified-id=\"Расчёты-и-добавление-результатов-в-таблицу-1.3\">Расчёты и добавление результатов в таблицу</a></span></li><li><span><a href=\"#Исследовательский-анализ-данных\" data-toc-modified-id=\"Исследовательский-анализ-данных-1.4\">Исследовательский анализ данных</a></span><ul class=\"toc-item\"><li><span><a href=\"#Площадь,-цена,-число-комнат,-высота-потолков.\" data-toc-modified-id=\"Площадь,-цена,-число-комнат,-высота-потолков.-1.4.1\">Площадь, цена, число комнат, высота потолков.</a></span></li><li><span><a href=\"#Время-продажи-квартиры.\" data-toc-modified-id=\"Время-продажи-квартиры.-1.4.2\">Время продажи квартиры.</a></span></li><li><span><a href=\"#Редкие-и-выбивающиеся-значения.\" data-toc-modified-id=\"Редкие-и-выбивающиеся-значения.-1.4.3\">Редкие и выбивающиеся значения.</a></span></li><li><span><a href=\"#Факторы,-влияющие-на-стоимость-квартиры\" data-toc-modified-id=\"Факторы,-влияющие-на-стоимость-квартиры-1.4.4\">Факторы, влияющие на стоимость квартиры</a></span></li><li><span><a href=\"#Средняя-стоимость-квадратного-метра\" data-toc-modified-id=\"Средняя-стоимость-квадратного-метра-1.4.5\">Средняя стоимость квадратного метра</a></span></li><li><span><a href=\"#Квартиры-в-центре-Санкт-Петербурга\" data-toc-modified-id=\"Квартиры-в-центре-Санкт-Петербурга-1.4.6\">Квартиры в центре Санкт-Петербурга</a></span></li><li><span><a href=\"#Анализ-сегмента-квартир-в-центре\" data-toc-modified-id=\"Анализ-сегмента-квартир-в-центре-1.4.7\">Анализ сегмента квартир в центре</a></span></li></ul></li><li><span><a href=\"#Общий-вывод\" data-toc-modified-id=\"Общий-вывод-1.5\">Общий вывод</a></span></li></ul></li></ul></div>"
   ]
  },
  {
   "cell_type": "markdown",
   "metadata": {},
   "source": [
    "# Исследование объявлений о продаже квартир\n",
    "\n",
    "В вашем распоряжении данные сервиса Яндекc Недвижимость — архив объявлений о продаже квартир в Санкт-Петербурге и соседних населённых пунктах за несколько лет. Нужно научиться определять рыночную стоимость объектов недвижимости. Ваша задача — установить параметры. Это позволит построить автоматизированную систему: она отследит аномалии и мошенническую деятельность. \n",
    "\n",
    "По каждой квартире на продажу доступны два вида данных. Первые вписаны пользователем, вторые получены автоматически на основе картографических данных. Например, расстояние до центра, аэропорта, ближайшего парка и водоёма. "
   ]
  },
  {
   "cell_type": "markdown",
   "metadata": {},
   "source": [
    "## Изучение данных из файла"
   ]
  },
  {
   "cell_type": "markdown",
   "metadata": {},
   "source": [
    "Загрузим файл с данными и ознакомимся с ним."
   ]
  },
  {
   "cell_type": "code",
   "execution_count": 1,
   "metadata": {},
   "outputs": [],
   "source": [
    "# импорт библиотек\n",
    "import pandas as pd\n",
    "import matplotlib.pyplot as plt"
   ]
  },
  {
   "cell_type": "code",
   "execution_count": 2,
   "metadata": {},
   "outputs": [
    {
     "data": {
      "text/html": [
       "<div>\n",
       "<style scoped>\n",
       "    .dataframe tbody tr th:only-of-type {\n",
       "        vertical-align: middle;\n",
       "    }\n",
       "\n",
       "    .dataframe tbody tr th {\n",
       "        vertical-align: top;\n",
       "    }\n",
       "\n",
       "    .dataframe thead th {\n",
       "        text-align: right;\n",
       "    }\n",
       "</style>\n",
       "<table border=\"1\" class=\"dataframe\">\n",
       "  <thead>\n",
       "    <tr style=\"text-align: right;\">\n",
       "      <th></th>\n",
       "      <th>total_images</th>\n",
       "      <th>last_price</th>\n",
       "      <th>total_area</th>\n",
       "      <th>first_day_exposition</th>\n",
       "      <th>rooms</th>\n",
       "      <th>ceiling_height</th>\n",
       "      <th>floors_total</th>\n",
       "      <th>living_area</th>\n",
       "      <th>floor</th>\n",
       "      <th>is_apartment</th>\n",
       "      <th>...</th>\n",
       "      <th>kitchen_area</th>\n",
       "      <th>balcony</th>\n",
       "      <th>locality_name</th>\n",
       "      <th>airports_nearest</th>\n",
       "      <th>cityCenters_nearest</th>\n",
       "      <th>parks_around3000</th>\n",
       "      <th>parks_nearest</th>\n",
       "      <th>ponds_around3000</th>\n",
       "      <th>ponds_nearest</th>\n",
       "      <th>days_exposition</th>\n",
       "    </tr>\n",
       "  </thead>\n",
       "  <tbody>\n",
       "    <tr>\n",
       "      <td>11107</td>\n",
       "      <td>6</td>\n",
       "      <td>8000000.0</td>\n",
       "      <td>110.0</td>\n",
       "      <td>2016-07-28T00:00:00</td>\n",
       "      <td>4</td>\n",
       "      <td>NaN</td>\n",
       "      <td>17.0</td>\n",
       "      <td>66.0</td>\n",
       "      <td>1</td>\n",
       "      <td>NaN</td>\n",
       "      <td>...</td>\n",
       "      <td>13.0</td>\n",
       "      <td>0.0</td>\n",
       "      <td>Санкт-Петербург</td>\n",
       "      <td>17209.0</td>\n",
       "      <td>16005.0</td>\n",
       "      <td>1.0</td>\n",
       "      <td>557.0</td>\n",
       "      <td>2.0</td>\n",
       "      <td>830.0</td>\n",
       "      <td>408.0</td>\n",
       "    </tr>\n",
       "    <tr>\n",
       "      <td>8709</td>\n",
       "      <td>19</td>\n",
       "      <td>24500000.0</td>\n",
       "      <td>105.0</td>\n",
       "      <td>2017-04-20T00:00:00</td>\n",
       "      <td>2</td>\n",
       "      <td>3.2</td>\n",
       "      <td>6.0</td>\n",
       "      <td>31.1</td>\n",
       "      <td>2</td>\n",
       "      <td>NaN</td>\n",
       "      <td>...</td>\n",
       "      <td>51.0</td>\n",
       "      <td>0.0</td>\n",
       "      <td>Санкт-Петербург</td>\n",
       "      <td>24980.0</td>\n",
       "      <td>3310.0</td>\n",
       "      <td>2.0</td>\n",
       "      <td>445.0</td>\n",
       "      <td>0.0</td>\n",
       "      <td>NaN</td>\n",
       "      <td>159.0</td>\n",
       "    </tr>\n",
       "    <tr>\n",
       "      <td>19548</td>\n",
       "      <td>12</td>\n",
       "      <td>11500000.0</td>\n",
       "      <td>73.1</td>\n",
       "      <td>2018-09-09T00:00:00</td>\n",
       "      <td>2</td>\n",
       "      <td>2.7</td>\n",
       "      <td>16.0</td>\n",
       "      <td>43.3</td>\n",
       "      <td>16</td>\n",
       "      <td>NaN</td>\n",
       "      <td>...</td>\n",
       "      <td>14.0</td>\n",
       "      <td>NaN</td>\n",
       "      <td>Санкт-Петербург</td>\n",
       "      <td>50963.0</td>\n",
       "      <td>14975.0</td>\n",
       "      <td>0.0</td>\n",
       "      <td>NaN</td>\n",
       "      <td>0.0</td>\n",
       "      <td>NaN</td>\n",
       "      <td>90.0</td>\n",
       "    </tr>\n",
       "    <tr>\n",
       "      <td>12964</td>\n",
       "      <td>1</td>\n",
       "      <td>4900000.0</td>\n",
       "      <td>48.0</td>\n",
       "      <td>2016-03-30T00:00:00</td>\n",
       "      <td>2</td>\n",
       "      <td>NaN</td>\n",
       "      <td>5.0</td>\n",
       "      <td>36.9</td>\n",
       "      <td>5</td>\n",
       "      <td>NaN</td>\n",
       "      <td>...</td>\n",
       "      <td>5.0</td>\n",
       "      <td>0.0</td>\n",
       "      <td>Санкт-Петербург</td>\n",
       "      <td>27517.0</td>\n",
       "      <td>6220.0</td>\n",
       "      <td>3.0</td>\n",
       "      <td>311.0</td>\n",
       "      <td>2.0</td>\n",
       "      <td>430.0</td>\n",
       "      <td>601.0</td>\n",
       "    </tr>\n",
       "    <tr>\n",
       "      <td>7985</td>\n",
       "      <td>0</td>\n",
       "      <td>6000000.0</td>\n",
       "      <td>60.0</td>\n",
       "      <td>2016-03-24T00:00:00</td>\n",
       "      <td>3</td>\n",
       "      <td>NaN</td>\n",
       "      <td>9.0</td>\n",
       "      <td>39.0</td>\n",
       "      <td>8</td>\n",
       "      <td>NaN</td>\n",
       "      <td>...</td>\n",
       "      <td>6.0</td>\n",
       "      <td>0.0</td>\n",
       "      <td>Санкт-Петербург</td>\n",
       "      <td>35685.0</td>\n",
       "      <td>11687.0</td>\n",
       "      <td>0.0</td>\n",
       "      <td>NaN</td>\n",
       "      <td>1.0</td>\n",
       "      <td>887.0</td>\n",
       "      <td>102.0</td>\n",
       "    </tr>\n",
       "  </tbody>\n",
       "</table>\n",
       "<p>5 rows × 22 columns</p>\n",
       "</div>"
      ],
      "text/plain": [
       "       total_images  last_price  total_area first_day_exposition  rooms  \\\n",
       "11107             6   8000000.0       110.0  2016-07-28T00:00:00      4   \n",
       "8709             19  24500000.0       105.0  2017-04-20T00:00:00      2   \n",
       "19548            12  11500000.0        73.1  2018-09-09T00:00:00      2   \n",
       "12964             1   4900000.0        48.0  2016-03-30T00:00:00      2   \n",
       "7985              0   6000000.0        60.0  2016-03-24T00:00:00      3   \n",
       "\n",
       "       ceiling_height  floors_total  living_area  floor is_apartment  ...  \\\n",
       "11107             NaN          17.0         66.0      1          NaN  ...   \n",
       "8709              3.2           6.0         31.1      2          NaN  ...   \n",
       "19548             2.7          16.0         43.3     16          NaN  ...   \n",
       "12964             NaN           5.0         36.9      5          NaN  ...   \n",
       "7985              NaN           9.0         39.0      8          NaN  ...   \n",
       "\n",
       "       kitchen_area  balcony    locality_name  airports_nearest  \\\n",
       "11107          13.0      0.0  Санкт-Петербург           17209.0   \n",
       "8709           51.0      0.0  Санкт-Петербург           24980.0   \n",
       "19548          14.0      NaN  Санкт-Петербург           50963.0   \n",
       "12964           5.0      0.0  Санкт-Петербург           27517.0   \n",
       "7985            6.0      0.0  Санкт-Петербург           35685.0   \n",
       "\n",
       "      cityCenters_nearest  parks_around3000  parks_nearest  ponds_around3000  \\\n",
       "11107             16005.0               1.0          557.0               2.0   \n",
       "8709               3310.0               2.0          445.0               0.0   \n",
       "19548             14975.0               0.0            NaN               0.0   \n",
       "12964              6220.0               3.0          311.0               2.0   \n",
       "7985              11687.0               0.0            NaN               1.0   \n",
       "\n",
       "       ponds_nearest  days_exposition  \n",
       "11107          830.0            408.0  \n",
       "8709             NaN            159.0  \n",
       "19548            NaN             90.0  \n",
       "12964          430.0            601.0  \n",
       "7985           887.0            102.0  \n",
       "\n",
       "[5 rows x 22 columns]"
      ]
     },
     "metadata": {},
     "output_type": "display_data"
    },
    {
     "name": "stdout",
     "output_type": "stream",
     "text": [
      "<class 'pandas.core.frame.DataFrame'>\n",
      "RangeIndex: 23699 entries, 0 to 23698\n",
      "Data columns (total 22 columns):\n",
      "total_images            23699 non-null int64\n",
      "last_price              23699 non-null float64\n",
      "total_area              23699 non-null float64\n",
      "first_day_exposition    23699 non-null object\n",
      "rooms                   23699 non-null int64\n",
      "ceiling_height          14504 non-null float64\n",
      "floors_total            23613 non-null float64\n",
      "living_area             21796 non-null float64\n",
      "floor                   23699 non-null int64\n",
      "is_apartment            2775 non-null object\n",
      "studio                  23699 non-null bool\n",
      "open_plan               23699 non-null bool\n",
      "kitchen_area            21421 non-null float64\n",
      "balcony                 12180 non-null float64\n",
      "locality_name           23650 non-null object\n",
      "airports_nearest        18157 non-null float64\n",
      "cityCenters_nearest     18180 non-null float64\n",
      "parks_around3000        18181 non-null float64\n",
      "parks_nearest           8079 non-null float64\n",
      "ponds_around3000        18181 non-null float64\n",
      "ponds_nearest           9110 non-null float64\n",
      "days_exposition         20518 non-null float64\n",
      "dtypes: bool(2), float64(14), int64(3), object(3)\n",
      "memory usage: 3.7+ MB\n"
     ]
    }
   ],
   "source": [
    "# импорт библиотеки pandas\n",
    "# чтение файла с данными и сохранение в df\n",
    "# получение общей информации о данных в таблице df\n",
    "\n",
    "df = pd.read_csv('/datasets/real_estate_data.csv', sep = '\\t')\n",
    "display(df.sample(5))\n",
    "df.info()"
   ]
  },
  {
   "cell_type": "markdown",
   "metadata": {},
   "source": [
    "**Вывод**  \n",
    "\n",
    "В таблице двадцать два столбца. Тип данных — int64, float64, object, bool.\n",
    "\n",
    "Согласно документации к данным:\n",
    "\n",
    "* `airports_nearest` — расстояние до ближайшего аэропорта в метрах (м)\n",
    "* `balcony` — число балконов\n",
    "* `ceiling_height` — высота потолков (м)\n",
    "* `cityCenters_nearest` — расстояние до центра города (м)\n",
    "* `days_exposition` — сколько дней было размещено объявление (от публикации до снятия)\n",
    "* `first_day_exposition` — дата публикации\n",
    "* `floor` — этаж\n",
    "* `floors_total` — всего этажей в доме\n",
    "* `is_apartment` — апартаменты (булев тип)\n",
    "* `kitchen_area` — площадь кухни в квадратных метрах (м²)\n",
    "* `last_price` — цена на момент снятия с публикации\n",
    "* `living_area` — жилая площадь в квадратных метрах (м²)\n",
    "* `locality_name` — название населённого пункта\n",
    "* `open_plan` — свободная планировка (булев тип)\n",
    "* `parks_around3000` — число парков в радиусе 3 км\n",
    "* `parks_nearest` — расстояние до ближайшего парка (м)\n",
    "* `ponds_around3000` — число водоёмов в радиусе 3 км\n",
    "* `ponds_nearest` — расстояние до ближайшего водоёма (м)\n",
    "* `rooms` — число комнат\n",
    "* `studio` — квартира-студия (булев тип)\n",
    "* `total_area` — площадь квартиры в квадратных метрах (м²)\n",
    "* `total_images` — число фотографий квартиры в объявлении.\n",
    "\n",
    "В каждой строке таблицы — данные из объявления о продаже квартиры. Встречаются пропуски в данных, неподходящий тип данных, артефакты.\n",
    "Сделаем предобработку данных."
   ]
  },
  {
   "cell_type": "markdown",
   "metadata": {},
   "source": [
    "## Предобработка данных"
   ]
  },
  {
   "cell_type": "code",
   "execution_count": 3,
   "metadata": {},
   "outputs": [
    {
     "data": {
      "text/plain": [
       "Index(['total_images', 'last_price', 'total_area', 'first_day_exposition',\n",
       "       'rooms', 'ceiling_height', 'floors_total', 'living_area', 'floor',\n",
       "       'is_apartment', 'studio', 'open_plan', 'kitchen_area', 'balcony',\n",
       "       'locality_name', 'airports_nearest', 'city_centers_nearest',\n",
       "       'parks_around_3000', 'parks_nearest', 'ponds_around_3000',\n",
       "       'ponds_nearest', 'days_exposition'],\n",
       "      dtype='object')"
      ]
     },
     "execution_count": 3,
     "metadata": {},
     "output_type": "execute_result"
    }
   ],
   "source": [
    "# выведем названия столбцов\n",
    "# переименуем столбцы\n",
    "df.rename(columns = {'cityCenters_nearest' : 'city_centers_nearest',\n",
    "                      'parks_around3000' : 'parks_around_3000',\n",
    "                     'ponds_around3000' : 'ponds_around_3000'}, inplace = True)\n",
    "df.columns"
   ]
  },
  {
   "cell_type": "code",
   "execution_count": 4,
   "metadata": {},
   "outputs": [
    {
     "data": {
      "text/plain": [
       "dtype('int64')"
      ]
     },
     "execution_count": 4,
     "metadata": {},
     "output_type": "execute_result"
    }
   ],
   "source": [
    "# столбец с ценой приведём к целочисленному значению\n",
    "df['last_price'] = df['last_price'].astype('int')\n",
    "df['last_price'].dtypes"
   ]
  },
  {
   "cell_type": "code",
   "execution_count": 5,
   "metadata": {},
   "outputs": [
    {
     "data": {
      "text/plain": [
       "0   2019-03-07\n",
       "Name: first_day_exposition, dtype: datetime64[ns]"
      ]
     },
     "execution_count": 5,
     "metadata": {},
     "output_type": "execute_result"
    }
   ],
   "source": [
    "# столбец с датой конвертируем в формат даты, время везде 00:00:00, можно обойтись только датой\n",
    "df['first_day_exposition'] = pd.to_datetime(df['first_day_exposition'], format = '%Y-%m-%d')\n",
    "df['first_day_exposition'].head(1)"
   ]
  },
  {
   "cell_type": "code",
   "execution_count": 6,
   "metadata": {},
   "outputs": [
    {
     "data": {
      "text/plain": [
       "0    16.0\n",
       "Name: floors_total, dtype: float64"
      ]
     },
     "execution_count": 6,
     "metadata": {},
     "output_type": "execute_result"
    }
   ],
   "source": [
    "# столбец с количеством этажей округлим, оставим float, чтобы не избавляться от nan\n",
    "df['floors_total'] = round(df['floors_total'],0)\n",
    "df['floors_total'].head(1)"
   ]
  },
  {
   "cell_type": "code",
   "execution_count": 7,
   "metadata": {},
   "outputs": [
    {
     "data": {
      "text/plain": [
       "0"
      ]
     },
     "execution_count": 7,
     "metadata": {},
     "output_type": "execute_result"
    }
   ],
   "source": [
    "# заменим пропущенные значения в столбце в высотой потолков на медиану, по группе этажности домов, либо на общую медиану\n",
    "df['ceiling_height'] = df['ceiling_height'].fillna(df.groupby(['floors_total'])['ceiling_height'].transform('median'))\n",
    "df['ceiling_height'] = df['ceiling_height'].fillna(df['ceiling_height'].median())\n",
    "df['ceiling_height'].isna().sum()"
   ]
  },
  {
   "cell_type": "code",
   "execution_count": 8,
   "metadata": {},
   "outputs": [
    {
     "data": {
      "text/plain": [
       "2129"
      ]
     },
     "execution_count": 8,
     "metadata": {},
     "output_type": "execute_result"
    }
   ],
   "source": [
    "# заменим пропущенные значения в столбце с площадью кухни в студиях на нули, т.к. в студиях отсутствует кухня\n",
    "df.loc[df['studio'] == True, 'kitchen_area'] = 0\n",
    "df['kitchen_area'].isna().sum()"
   ]
  },
  {
   "cell_type": "code",
   "execution_count": 9,
   "metadata": {},
   "outputs": [
    {
     "data": {
      "text/plain": [
       "23698    0\n",
       "Name: balcony, dtype: int64"
      ]
     },
     "execution_count": 9,
     "metadata": {},
     "output_type": "execute_result"
    }
   ],
   "source": [
    "# заменим пропущенные значения в столбце с количеством балконов на нули, изменим тип данных на целочисленный\n",
    "df['balcony'] = df['balcony'].fillna(0)\n",
    "df['balcony'] = df['balcony'].astype('int')\n",
    "df['balcony'].tail(1)"
   ]
  },
  {
   "cell_type": "markdown",
   "metadata": {},
   "source": [
    "**Вывод**  \n",
    "\n",
    "Сделали предобработку данных:\n",
    "* переименовали столбцы на корректные имена.\n",
    "* cтолбцы с ценой, количеством этажей, количеством балконов привели к целочисленному типу значений;\n",
    "* cтолбец с датой привели к специальному типу данных `datatime`.\n",
    "* пропущенные значения в столбце с высотой потолков заменили на медиану по группе этажности домов, либо на общую медиану;\n",
    "* пропущенные значения в столбце с площадью кухни в квартирах-студиях заменили на нули, т.к. студия не подразумевает наличие кухни;\n",
    "* пропущенные значения в столбце с количеством балконов заменили на нули.  \n",
    "\n",
    "Оставшиеся пропущенные и/или нулевые значения, выбросы в данных можно трактовать сильно по-разному, поэтому оставим их в текущем виде.\n",
    "Пропущенные значения в столбцах с названием населённого пункта и расстоянием до центра города достоверно добыть из этой базы данных нет возможности, но эти строки могут нести полезные данные, поэтому оставим.  \n",
    "Пропущенные значения в столбцах: с аппартаментами, расстоянием до озера, парка, аэропорта; числом парков и озёр в радиусе 3км; жилой площади и площади кухни; с количеством дней размещения объявления, - в дальнейшем анализе использовать не будем, поэтому оставим как есть."
   ]
  },
  {
   "cell_type": "markdown",
   "metadata": {},
   "source": [
    "## Расчёты и добавление результатов в таблицу"
   ]
  },
  {
   "cell_type": "code",
   "execution_count": 10,
   "metadata": {},
   "outputs": [
    {
     "data": {
      "text/plain": [
       "0    120370\n",
       "Name: price_sqft, dtype: int64"
      ]
     },
     "execution_count": 10,
     "metadata": {},
     "output_type": "execute_result"
    }
   ],
   "source": [
    "# рассчитаем и добавим в таблицу столбец с ценой за квадратный метр, округлим до целочисленного\n",
    "df['price_sqft'] = df['last_price'] / df['total_area']\n",
    "df['price_sqft'] = df['price_sqft'].astype('int')\n",
    "df['price_sqft'].head(1)"
   ]
  },
  {
   "cell_type": "code",
   "execution_count": 11,
   "metadata": {},
   "outputs": [
    {
     "data": {
      "text/html": [
       "<div>\n",
       "<style scoped>\n",
       "    .dataframe tbody tr th:only-of-type {\n",
       "        vertical-align: middle;\n",
       "    }\n",
       "\n",
       "    .dataframe tbody tr th {\n",
       "        vertical-align: top;\n",
       "    }\n",
       "\n",
       "    .dataframe thead th {\n",
       "        text-align: right;\n",
       "    }\n",
       "</style>\n",
       "<table border=\"1\" class=\"dataframe\">\n",
       "  <thead>\n",
       "    <tr style=\"text-align: right;\">\n",
       "      <th></th>\n",
       "      <th>total_images</th>\n",
       "      <th>last_price</th>\n",
       "      <th>total_area</th>\n",
       "      <th>first_day_exposition</th>\n",
       "      <th>rooms</th>\n",
       "      <th>ceiling_height</th>\n",
       "      <th>floors_total</th>\n",
       "      <th>living_area</th>\n",
       "      <th>floor</th>\n",
       "      <th>is_apartment</th>\n",
       "      <th>...</th>\n",
       "      <th>city_centers_nearest</th>\n",
       "      <th>parks_around_3000</th>\n",
       "      <th>parks_nearest</th>\n",
       "      <th>ponds_around_3000</th>\n",
       "      <th>ponds_nearest</th>\n",
       "      <th>days_exposition</th>\n",
       "      <th>price_sqft</th>\n",
       "      <th>weekday_exposition</th>\n",
       "      <th>month_exposition</th>\n",
       "      <th>year_exposition</th>\n",
       "    </tr>\n",
       "  </thead>\n",
       "  <tbody>\n",
       "    <tr>\n",
       "      <td>22354</td>\n",
       "      <td>13</td>\n",
       "      <td>7500000</td>\n",
       "      <td>75.0</td>\n",
       "      <td>2017-11-29</td>\n",
       "      <td>2</td>\n",
       "      <td>2.75</td>\n",
       "      <td>22.0</td>\n",
       "      <td>34.000000</td>\n",
       "      <td>14</td>\n",
       "      <td>NaN</td>\n",
       "      <td>...</td>\n",
       "      <td>16224.0</td>\n",
       "      <td>1.0</td>\n",
       "      <td>226.0</td>\n",
       "      <td>0.0</td>\n",
       "      <td>NaN</td>\n",
       "      <td>55.0</td>\n",
       "      <td>100000</td>\n",
       "      <td>2</td>\n",
       "      <td>11</td>\n",
       "      <td>2017</td>\n",
       "    </tr>\n",
       "    <tr>\n",
       "      <td>21434</td>\n",
       "      <td>20</td>\n",
       "      <td>8865000</td>\n",
       "      <td>104.5</td>\n",
       "      <td>2018-05-17</td>\n",
       "      <td>4</td>\n",
       "      <td>3.00</td>\n",
       "      <td>5.0</td>\n",
       "      <td>72.200000</td>\n",
       "      <td>3</td>\n",
       "      <td>NaN</td>\n",
       "      <td>...</td>\n",
       "      <td>8390.0</td>\n",
       "      <td>2.0</td>\n",
       "      <td>566.0</td>\n",
       "      <td>0.0</td>\n",
       "      <td>NaN</td>\n",
       "      <td>169.0</td>\n",
       "      <td>84832</td>\n",
       "      <td>3</td>\n",
       "      <td>5</td>\n",
       "      <td>2018</td>\n",
       "    </tr>\n",
       "    <tr>\n",
       "      <td>20427</td>\n",
       "      <td>1</td>\n",
       "      <td>12600000</td>\n",
       "      <td>129.0</td>\n",
       "      <td>2017-05-11</td>\n",
       "      <td>5</td>\n",
       "      <td>2.80</td>\n",
       "      <td>8.0</td>\n",
       "      <td>81.899994</td>\n",
       "      <td>3</td>\n",
       "      <td>False</td>\n",
       "      <td>...</td>\n",
       "      <td>17143.0</td>\n",
       "      <td>1.0</td>\n",
       "      <td>1514.0</td>\n",
       "      <td>2.0</td>\n",
       "      <td>16.0</td>\n",
       "      <td>90.0</td>\n",
       "      <td>97674</td>\n",
       "      <td>3</td>\n",
       "      <td>5</td>\n",
       "      <td>2017</td>\n",
       "    </tr>\n",
       "    <tr>\n",
       "      <td>18634</td>\n",
       "      <td>19</td>\n",
       "      <td>5100000</td>\n",
       "      <td>36.8</td>\n",
       "      <td>2019-04-10</td>\n",
       "      <td>1</td>\n",
       "      <td>2.80</td>\n",
       "      <td>16.0</td>\n",
       "      <td>15.000000</td>\n",
       "      <td>16</td>\n",
       "      <td>NaN</td>\n",
       "      <td>...</td>\n",
       "      <td>11838.0</td>\n",
       "      <td>1.0</td>\n",
       "      <td>275.0</td>\n",
       "      <td>0.0</td>\n",
       "      <td>NaN</td>\n",
       "      <td>NaN</td>\n",
       "      <td>138586</td>\n",
       "      <td>2</td>\n",
       "      <td>4</td>\n",
       "      <td>2019</td>\n",
       "    </tr>\n",
       "    <tr>\n",
       "      <td>14448</td>\n",
       "      <td>11</td>\n",
       "      <td>7800000</td>\n",
       "      <td>72.0</td>\n",
       "      <td>2018-07-04</td>\n",
       "      <td>3</td>\n",
       "      <td>2.70</td>\n",
       "      <td>6.0</td>\n",
       "      <td>34.500000</td>\n",
       "      <td>6</td>\n",
       "      <td>NaN</td>\n",
       "      <td>...</td>\n",
       "      <td>30710.0</td>\n",
       "      <td>0.0</td>\n",
       "      <td>NaN</td>\n",
       "      <td>1.0</td>\n",
       "      <td>118.0</td>\n",
       "      <td>40.0</td>\n",
       "      <td>108333</td>\n",
       "      <td>2</td>\n",
       "      <td>7</td>\n",
       "      <td>2018</td>\n",
       "    </tr>\n",
       "  </tbody>\n",
       "</table>\n",
       "<p>5 rows × 26 columns</p>\n",
       "</div>"
      ],
      "text/plain": [
       "       total_images  last_price  total_area first_day_exposition  rooms  \\\n",
       "22354            13     7500000        75.0           2017-11-29      2   \n",
       "21434            20     8865000       104.5           2018-05-17      4   \n",
       "20427             1    12600000       129.0           2017-05-11      5   \n",
       "18634            19     5100000        36.8           2019-04-10      1   \n",
       "14448            11     7800000        72.0           2018-07-04      3   \n",
       "\n",
       "       ceiling_height  floors_total  living_area  floor is_apartment  ...  \\\n",
       "22354            2.75          22.0    34.000000     14          NaN  ...   \n",
       "21434            3.00           5.0    72.200000      3          NaN  ...   \n",
       "20427            2.80           8.0    81.899994      3        False  ...   \n",
       "18634            2.80          16.0    15.000000     16          NaN  ...   \n",
       "14448            2.70           6.0    34.500000      6          NaN  ...   \n",
       "\n",
       "       city_centers_nearest  parks_around_3000  parks_nearest  \\\n",
       "22354               16224.0                1.0          226.0   \n",
       "21434                8390.0                2.0          566.0   \n",
       "20427               17143.0                1.0         1514.0   \n",
       "18634               11838.0                1.0          275.0   \n",
       "14448               30710.0                0.0            NaN   \n",
       "\n",
       "       ponds_around_3000 ponds_nearest  days_exposition  price_sqft  \\\n",
       "22354                0.0           NaN             55.0      100000   \n",
       "21434                0.0           NaN            169.0       84832   \n",
       "20427                2.0          16.0             90.0       97674   \n",
       "18634                0.0           NaN              NaN      138586   \n",
       "14448                1.0         118.0             40.0      108333   \n",
       "\n",
       "       weekday_exposition  month_exposition  year_exposition  \n",
       "22354                   2                11             2017  \n",
       "21434                   3                 5             2018  \n",
       "20427                   3                 5             2017  \n",
       "18634                   2                 4             2019  \n",
       "14448                   2                 7             2018  \n",
       "\n",
       "[5 rows x 26 columns]"
      ]
     },
     "execution_count": 11,
     "metadata": {},
     "output_type": "execute_result"
    }
   ],
   "source": [
    "# добавим в таблицу стобцы с днём недели, месяцем и годом публикации объявления\n",
    "df['weekday_exposition'] = df['first_day_exposition'].dt.weekday\n",
    "df['month_exposition'] = df['first_day_exposition'].dt.month\n",
    "df['year_exposition'] = df['first_day_exposition'].dt.year\n",
    "df.sample(5)"
   ]
  },
  {
   "cell_type": "code",
   "execution_count": 12,
   "metadata": {},
   "outputs": [
    {
     "data": {
      "text/html": [
       "<div>\n",
       "<style scoped>\n",
       "    .dataframe tbody tr th:only-of-type {\n",
       "        vertical-align: middle;\n",
       "    }\n",
       "\n",
       "    .dataframe tbody tr th {\n",
       "        vertical-align: top;\n",
       "    }\n",
       "\n",
       "    .dataframe thead th {\n",
       "        text-align: right;\n",
       "    }\n",
       "</style>\n",
       "<table border=\"1\" class=\"dataframe\">\n",
       "  <thead>\n",
       "    <tr style=\"text-align: right;\">\n",
       "      <th></th>\n",
       "      <th>total_images</th>\n",
       "      <th>last_price</th>\n",
       "      <th>total_area</th>\n",
       "      <th>first_day_exposition</th>\n",
       "      <th>rooms</th>\n",
       "      <th>ceiling_height</th>\n",
       "      <th>floors_total</th>\n",
       "      <th>living_area</th>\n",
       "      <th>floor</th>\n",
       "      <th>is_apartment</th>\n",
       "      <th>...</th>\n",
       "      <th>parks_around_3000</th>\n",
       "      <th>parks_nearest</th>\n",
       "      <th>ponds_around_3000</th>\n",
       "      <th>ponds_nearest</th>\n",
       "      <th>days_exposition</th>\n",
       "      <th>price_sqft</th>\n",
       "      <th>weekday_exposition</th>\n",
       "      <th>month_exposition</th>\n",
       "      <th>year_exposition</th>\n",
       "      <th>floors_id</th>\n",
       "    </tr>\n",
       "  </thead>\n",
       "  <tbody>\n",
       "    <tr>\n",
       "      <td>0</td>\n",
       "      <td>20</td>\n",
       "      <td>13000000</td>\n",
       "      <td>108.0</td>\n",
       "      <td>2019-03-07</td>\n",
       "      <td>3</td>\n",
       "      <td>2.70</td>\n",
       "      <td>16.0</td>\n",
       "      <td>51.0</td>\n",
       "      <td>8</td>\n",
       "      <td>NaN</td>\n",
       "      <td>...</td>\n",
       "      <td>1.0</td>\n",
       "      <td>482.0</td>\n",
       "      <td>2.0</td>\n",
       "      <td>755.0</td>\n",
       "      <td>NaN</td>\n",
       "      <td>120370</td>\n",
       "      <td>3</td>\n",
       "      <td>3</td>\n",
       "      <td>2019</td>\n",
       "      <td>другой</td>\n",
       "    </tr>\n",
       "    <tr>\n",
       "      <td>1</td>\n",
       "      <td>7</td>\n",
       "      <td>3350000</td>\n",
       "      <td>40.4</td>\n",
       "      <td>2018-12-04</td>\n",
       "      <td>1</td>\n",
       "      <td>2.75</td>\n",
       "      <td>11.0</td>\n",
       "      <td>18.6</td>\n",
       "      <td>1</td>\n",
       "      <td>NaN</td>\n",
       "      <td>...</td>\n",
       "      <td>0.0</td>\n",
       "      <td>NaN</td>\n",
       "      <td>0.0</td>\n",
       "      <td>NaN</td>\n",
       "      <td>81.0</td>\n",
       "      <td>82920</td>\n",
       "      <td>1</td>\n",
       "      <td>12</td>\n",
       "      <td>2018</td>\n",
       "      <td>первый</td>\n",
       "    </tr>\n",
       "    <tr>\n",
       "      <td>2</td>\n",
       "      <td>10</td>\n",
       "      <td>5196000</td>\n",
       "      <td>56.0</td>\n",
       "      <td>2015-08-20</td>\n",
       "      <td>2</td>\n",
       "      <td>2.55</td>\n",
       "      <td>5.0</td>\n",
       "      <td>34.3</td>\n",
       "      <td>4</td>\n",
       "      <td>NaN</td>\n",
       "      <td>...</td>\n",
       "      <td>1.0</td>\n",
       "      <td>90.0</td>\n",
       "      <td>2.0</td>\n",
       "      <td>574.0</td>\n",
       "      <td>558.0</td>\n",
       "      <td>92785</td>\n",
       "      <td>3</td>\n",
       "      <td>8</td>\n",
       "      <td>2015</td>\n",
       "      <td>другой</td>\n",
       "    </tr>\n",
       "    <tr>\n",
       "      <td>3</td>\n",
       "      <td>0</td>\n",
       "      <td>64900000</td>\n",
       "      <td>159.0</td>\n",
       "      <td>2015-07-24</td>\n",
       "      <td>3</td>\n",
       "      <td>2.60</td>\n",
       "      <td>14.0</td>\n",
       "      <td>NaN</td>\n",
       "      <td>9</td>\n",
       "      <td>NaN</td>\n",
       "      <td>...</td>\n",
       "      <td>2.0</td>\n",
       "      <td>84.0</td>\n",
       "      <td>3.0</td>\n",
       "      <td>234.0</td>\n",
       "      <td>424.0</td>\n",
       "      <td>408176</td>\n",
       "      <td>4</td>\n",
       "      <td>7</td>\n",
       "      <td>2015</td>\n",
       "      <td>другой</td>\n",
       "    </tr>\n",
       "    <tr>\n",
       "      <td>4</td>\n",
       "      <td>2</td>\n",
       "      <td>10000000</td>\n",
       "      <td>100.0</td>\n",
       "      <td>2018-06-19</td>\n",
       "      <td>2</td>\n",
       "      <td>3.03</td>\n",
       "      <td>14.0</td>\n",
       "      <td>32.0</td>\n",
       "      <td>13</td>\n",
       "      <td>NaN</td>\n",
       "      <td>...</td>\n",
       "      <td>2.0</td>\n",
       "      <td>112.0</td>\n",
       "      <td>1.0</td>\n",
       "      <td>48.0</td>\n",
       "      <td>121.0</td>\n",
       "      <td>100000</td>\n",
       "      <td>1</td>\n",
       "      <td>6</td>\n",
       "      <td>2018</td>\n",
       "      <td>другой</td>\n",
       "    </tr>\n",
       "    <tr>\n",
       "      <td>...</td>\n",
       "      <td>...</td>\n",
       "      <td>...</td>\n",
       "      <td>...</td>\n",
       "      <td>...</td>\n",
       "      <td>...</td>\n",
       "      <td>...</td>\n",
       "      <td>...</td>\n",
       "      <td>...</td>\n",
       "      <td>...</td>\n",
       "      <td>...</td>\n",
       "      <td>...</td>\n",
       "      <td>...</td>\n",
       "      <td>...</td>\n",
       "      <td>...</td>\n",
       "      <td>...</td>\n",
       "      <td>...</td>\n",
       "      <td>...</td>\n",
       "      <td>...</td>\n",
       "      <td>...</td>\n",
       "      <td>...</td>\n",
       "      <td>...</td>\n",
       "    </tr>\n",
       "    <tr>\n",
       "      <td>23685</td>\n",
       "      <td>15</td>\n",
       "      <td>2490000</td>\n",
       "      <td>31.0</td>\n",
       "      <td>2019-01-24</td>\n",
       "      <td>1</td>\n",
       "      <td>2.50</td>\n",
       "      <td>5.0</td>\n",
       "      <td>17.3</td>\n",
       "      <td>5</td>\n",
       "      <td>NaN</td>\n",
       "      <td>...</td>\n",
       "      <td>0.0</td>\n",
       "      <td>NaN</td>\n",
       "      <td>0.0</td>\n",
       "      <td>NaN</td>\n",
       "      <td>NaN</td>\n",
       "      <td>80322</td>\n",
       "      <td>3</td>\n",
       "      <td>1</td>\n",
       "      <td>2019</td>\n",
       "      <td>последний</td>\n",
       "    </tr>\n",
       "    <tr>\n",
       "      <td>23686</td>\n",
       "      <td>8</td>\n",
       "      <td>3300000</td>\n",
       "      <td>31.0</td>\n",
       "      <td>2017-04-29</td>\n",
       "      <td>1</td>\n",
       "      <td>2.55</td>\n",
       "      <td>9.0</td>\n",
       "      <td>18.0</td>\n",
       "      <td>6</td>\n",
       "      <td>NaN</td>\n",
       "      <td>...</td>\n",
       "      <td>1.0</td>\n",
       "      <td>140.0</td>\n",
       "      <td>1.0</td>\n",
       "      <td>317.0</td>\n",
       "      <td>193.0</td>\n",
       "      <td>106451</td>\n",
       "      <td>5</td>\n",
       "      <td>4</td>\n",
       "      <td>2017</td>\n",
       "      <td>другой</td>\n",
       "    </tr>\n",
       "    <tr>\n",
       "      <td>23687</td>\n",
       "      <td>6</td>\n",
       "      <td>3200000</td>\n",
       "      <td>39.0</td>\n",
       "      <td>2017-12-16</td>\n",
       "      <td>1</td>\n",
       "      <td>2.55</td>\n",
       "      <td>9.0</td>\n",
       "      <td>20.0</td>\n",
       "      <td>6</td>\n",
       "      <td>NaN</td>\n",
       "      <td>...</td>\n",
       "      <td>0.0</td>\n",
       "      <td>NaN</td>\n",
       "      <td>0.0</td>\n",
       "      <td>NaN</td>\n",
       "      <td>38.0</td>\n",
       "      <td>82051</td>\n",
       "      <td>5</td>\n",
       "      <td>12</td>\n",
       "      <td>2017</td>\n",
       "      <td>другой</td>\n",
       "    </tr>\n",
       "    <tr>\n",
       "      <td>23688</td>\n",
       "      <td>19</td>\n",
       "      <td>9200000</td>\n",
       "      <td>101.0</td>\n",
       "      <td>2019-04-01</td>\n",
       "      <td>3</td>\n",
       "      <td>3.05</td>\n",
       "      <td>15.0</td>\n",
       "      <td>63.0</td>\n",
       "      <td>12</td>\n",
       "      <td>NaN</td>\n",
       "      <td>...</td>\n",
       "      <td>0.0</td>\n",
       "      <td>NaN</td>\n",
       "      <td>0.0</td>\n",
       "      <td>NaN</td>\n",
       "      <td>23.0</td>\n",
       "      <td>91089</td>\n",
       "      <td>0</td>\n",
       "      <td>4</td>\n",
       "      <td>2019</td>\n",
       "      <td>другой</td>\n",
       "    </tr>\n",
       "    <tr>\n",
       "      <td>23689</td>\n",
       "      <td>13</td>\n",
       "      <td>3550000</td>\n",
       "      <td>35.3</td>\n",
       "      <td>2018-02-28</td>\n",
       "      <td>1</td>\n",
       "      <td>2.86</td>\n",
       "      <td>15.0</td>\n",
       "      <td>16.3</td>\n",
       "      <td>4</td>\n",
       "      <td>NaN</td>\n",
       "      <td>...</td>\n",
       "      <td>1.0</td>\n",
       "      <td>353.0</td>\n",
       "      <td>2.0</td>\n",
       "      <td>652.0</td>\n",
       "      <td>29.0</td>\n",
       "      <td>100566</td>\n",
       "      <td>2</td>\n",
       "      <td>2</td>\n",
       "      <td>2018</td>\n",
       "      <td>другой</td>\n",
       "    </tr>\n",
       "  </tbody>\n",
       "</table>\n",
       "<p>23690 rows × 27 columns</p>\n",
       "</div>"
      ],
      "text/plain": [
       "       total_images  last_price  total_area first_day_exposition  rooms  \\\n",
       "0                20    13000000       108.0           2019-03-07      3   \n",
       "1                 7     3350000        40.4           2018-12-04      1   \n",
       "2                10     5196000        56.0           2015-08-20      2   \n",
       "3                 0    64900000       159.0           2015-07-24      3   \n",
       "4                 2    10000000       100.0           2018-06-19      2   \n",
       "...             ...         ...         ...                  ...    ...   \n",
       "23685            15     2490000        31.0           2019-01-24      1   \n",
       "23686             8     3300000        31.0           2017-04-29      1   \n",
       "23687             6     3200000        39.0           2017-12-16      1   \n",
       "23688            19     9200000       101.0           2019-04-01      3   \n",
       "23689            13     3550000        35.3           2018-02-28      1   \n",
       "\n",
       "       ceiling_height  floors_total  living_area  floor is_apartment  ...  \\\n",
       "0                2.70          16.0         51.0      8          NaN  ...   \n",
       "1                2.75          11.0         18.6      1          NaN  ...   \n",
       "2                2.55           5.0         34.3      4          NaN  ...   \n",
       "3                2.60          14.0          NaN      9          NaN  ...   \n",
       "4                3.03          14.0         32.0     13          NaN  ...   \n",
       "...               ...           ...          ...    ...          ...  ...   \n",
       "23685            2.50           5.0         17.3      5          NaN  ...   \n",
       "23686            2.55           9.0         18.0      6          NaN  ...   \n",
       "23687            2.55           9.0         20.0      6          NaN  ...   \n",
       "23688            3.05          15.0         63.0     12          NaN  ...   \n",
       "23689            2.86          15.0         16.3      4          NaN  ...   \n",
       "\n",
       "       parks_around_3000  parks_nearest  ponds_around_3000  ponds_nearest  \\\n",
       "0                    1.0          482.0                2.0          755.0   \n",
       "1                    0.0            NaN                0.0            NaN   \n",
       "2                    1.0           90.0                2.0          574.0   \n",
       "3                    2.0           84.0                3.0          234.0   \n",
       "4                    2.0          112.0                1.0           48.0   \n",
       "...                  ...            ...                ...            ...   \n",
       "23685                0.0            NaN                0.0            NaN   \n",
       "23686                1.0          140.0                1.0          317.0   \n",
       "23687                0.0            NaN                0.0            NaN   \n",
       "23688                0.0            NaN                0.0            NaN   \n",
       "23689                1.0          353.0                2.0          652.0   \n",
       "\n",
       "      days_exposition  price_sqft  weekday_exposition  month_exposition  \\\n",
       "0                 NaN      120370                   3                 3   \n",
       "1                81.0       82920                   1                12   \n",
       "2               558.0       92785                   3                 8   \n",
       "3               424.0      408176                   4                 7   \n",
       "4               121.0      100000                   1                 6   \n",
       "...               ...         ...                 ...               ...   \n",
       "23685             NaN       80322                   3                 1   \n",
       "23686           193.0      106451                   5                 4   \n",
       "23687            38.0       82051                   5                12   \n",
       "23688            23.0       91089                   0                 4   \n",
       "23689            29.0      100566                   2                 2   \n",
       "\n",
       "       year_exposition  floors_id  \n",
       "0                 2019     другой  \n",
       "1                 2018     первый  \n",
       "2                 2015     другой  \n",
       "3                 2015     другой  \n",
       "4                 2018     другой  \n",
       "...                ...        ...  \n",
       "23685             2019  последний  \n",
       "23686             2017     другой  \n",
       "23687             2017     другой  \n",
       "23688             2019     другой  \n",
       "23689             2018     другой  \n",
       "\n",
       "[23690 rows x 27 columns]"
      ]
     },
     "execution_count": 12,
     "metadata": {},
     "output_type": "execute_result"
    }
   ],
   "source": [
    "# добавим в таблицу столбец с категориями по этажам квартиры: первый, последний, другой\n",
    "def floors_id(row):\n",
    "    if row['floor'] == 1:\n",
    "        return 'первый'\n",
    "    elif row['floor'] == row['floors_total']:\n",
    "        return 'последний'\n",
    "    else:\n",
    "        return 'другой' \n",
    "df['floors_id'] = df.apply(floors_id, axis=1)\n",
    "df.head(-9)"
   ]
  },
  {
   "cell_type": "code",
   "execution_count": 13,
   "metadata": {},
   "outputs": [
    {
     "data": {
      "text/html": [
       "<div>\n",
       "<style scoped>\n",
       "    .dataframe tbody tr th:only-of-type {\n",
       "        vertical-align: middle;\n",
       "    }\n",
       "\n",
       "    .dataframe tbody tr th {\n",
       "        vertical-align: top;\n",
       "    }\n",
       "\n",
       "    .dataframe thead th {\n",
       "        text-align: right;\n",
       "    }\n",
       "</style>\n",
       "<table border=\"1\" class=\"dataframe\">\n",
       "  <thead>\n",
       "    <tr style=\"text-align: right;\">\n",
       "      <th></th>\n",
       "      <th>total_images</th>\n",
       "      <th>last_price</th>\n",
       "      <th>total_area</th>\n",
       "      <th>first_day_exposition</th>\n",
       "      <th>rooms</th>\n",
       "      <th>ceiling_height</th>\n",
       "      <th>floors_total</th>\n",
       "      <th>living_area</th>\n",
       "      <th>floor</th>\n",
       "      <th>is_apartment</th>\n",
       "      <th>...</th>\n",
       "      <th>ponds_around_3000</th>\n",
       "      <th>ponds_nearest</th>\n",
       "      <th>days_exposition</th>\n",
       "      <th>price_sqft</th>\n",
       "      <th>weekday_exposition</th>\n",
       "      <th>month_exposition</th>\n",
       "      <th>year_exposition</th>\n",
       "      <th>floors_id</th>\n",
       "      <th>living_area_ratio</th>\n",
       "      <th>kitchen_area_ratio</th>\n",
       "    </tr>\n",
       "  </thead>\n",
       "  <tbody>\n",
       "    <tr>\n",
       "      <td>22447</td>\n",
       "      <td>10</td>\n",
       "      <td>4500000</td>\n",
       "      <td>33.0</td>\n",
       "      <td>2017-08-15</td>\n",
       "      <td>1</td>\n",
       "      <td>2.70</td>\n",
       "      <td>25.0</td>\n",
       "      <td>15.0</td>\n",
       "      <td>23</td>\n",
       "      <td>NaN</td>\n",
       "      <td>...</td>\n",
       "      <td>0.0</td>\n",
       "      <td>NaN</td>\n",
       "      <td>498.0</td>\n",
       "      <td>136363</td>\n",
       "      <td>1</td>\n",
       "      <td>8</td>\n",
       "      <td>2017</td>\n",
       "      <td>другой</td>\n",
       "      <td>0.454545</td>\n",
       "      <td>0.242424</td>\n",
       "    </tr>\n",
       "    <tr>\n",
       "      <td>1714</td>\n",
       "      <td>0</td>\n",
       "      <td>5200000</td>\n",
       "      <td>68.0</td>\n",
       "      <td>2019-04-19</td>\n",
       "      <td>2</td>\n",
       "      <td>3.00</td>\n",
       "      <td>3.0</td>\n",
       "      <td>39.5</td>\n",
       "      <td>3</td>\n",
       "      <td>NaN</td>\n",
       "      <td>...</td>\n",
       "      <td>0.0</td>\n",
       "      <td>NaN</td>\n",
       "      <td>4.0</td>\n",
       "      <td>76470</td>\n",
       "      <td>4</td>\n",
       "      <td>4</td>\n",
       "      <td>2019</td>\n",
       "      <td>последний</td>\n",
       "      <td>0.580882</td>\n",
       "      <td>0.122059</td>\n",
       "    </tr>\n",
       "    <tr>\n",
       "      <td>16782</td>\n",
       "      <td>19</td>\n",
       "      <td>13990000</td>\n",
       "      <td>115.3</td>\n",
       "      <td>2018-10-24</td>\n",
       "      <td>4</td>\n",
       "      <td>2.82</td>\n",
       "      <td>20.0</td>\n",
       "      <td>64.1</td>\n",
       "      <td>5</td>\n",
       "      <td>NaN</td>\n",
       "      <td>...</td>\n",
       "      <td>0.0</td>\n",
       "      <td>NaN</td>\n",
       "      <td>133.0</td>\n",
       "      <td>121335</td>\n",
       "      <td>2</td>\n",
       "      <td>10</td>\n",
       "      <td>2018</td>\n",
       "      <td>другой</td>\n",
       "      <td>0.555941</td>\n",
       "      <td>0.127493</td>\n",
       "    </tr>\n",
       "    <tr>\n",
       "      <td>11094</td>\n",
       "      <td>13</td>\n",
       "      <td>10200000</td>\n",
       "      <td>114.8</td>\n",
       "      <td>2018-07-19</td>\n",
       "      <td>3</td>\n",
       "      <td>3.25</td>\n",
       "      <td>5.0</td>\n",
       "      <td>72.0</td>\n",
       "      <td>5</td>\n",
       "      <td>NaN</td>\n",
       "      <td>...</td>\n",
       "      <td>3.0</td>\n",
       "      <td>365.0</td>\n",
       "      <td>264.0</td>\n",
       "      <td>88850</td>\n",
       "      <td>3</td>\n",
       "      <td>7</td>\n",
       "      <td>2018</td>\n",
       "      <td>последний</td>\n",
       "      <td>0.627178</td>\n",
       "      <td>0.100174</td>\n",
       "    </tr>\n",
       "    <tr>\n",
       "      <td>8230</td>\n",
       "      <td>10</td>\n",
       "      <td>6200000</td>\n",
       "      <td>55.6</td>\n",
       "      <td>2017-05-04</td>\n",
       "      <td>1</td>\n",
       "      <td>3.10</td>\n",
       "      <td>10.0</td>\n",
       "      <td>23.5</td>\n",
       "      <td>9</td>\n",
       "      <td>NaN</td>\n",
       "      <td>...</td>\n",
       "      <td>0.0</td>\n",
       "      <td>NaN</td>\n",
       "      <td>22.0</td>\n",
       "      <td>111510</td>\n",
       "      <td>3</td>\n",
       "      <td>5</td>\n",
       "      <td>2017</td>\n",
       "      <td>другой</td>\n",
       "      <td>0.422662</td>\n",
       "      <td>0.273381</td>\n",
       "    </tr>\n",
       "  </tbody>\n",
       "</table>\n",
       "<p>5 rows × 29 columns</p>\n",
       "</div>"
      ],
      "text/plain": [
       "       total_images  last_price  total_area first_day_exposition  rooms  \\\n",
       "22447            10     4500000        33.0           2017-08-15      1   \n",
       "1714              0     5200000        68.0           2019-04-19      2   \n",
       "16782            19    13990000       115.3           2018-10-24      4   \n",
       "11094            13    10200000       114.8           2018-07-19      3   \n",
       "8230             10     6200000        55.6           2017-05-04      1   \n",
       "\n",
       "       ceiling_height  floors_total  living_area  floor is_apartment  ...  \\\n",
       "22447            2.70          25.0         15.0     23          NaN  ...   \n",
       "1714             3.00           3.0         39.5      3          NaN  ...   \n",
       "16782            2.82          20.0         64.1      5          NaN  ...   \n",
       "11094            3.25           5.0         72.0      5          NaN  ...   \n",
       "8230             3.10          10.0         23.5      9          NaN  ...   \n",
       "\n",
       "       ponds_around_3000  ponds_nearest  days_exposition  price_sqft  \\\n",
       "22447                0.0            NaN            498.0      136363   \n",
       "1714                 0.0            NaN              4.0       76470   \n",
       "16782                0.0            NaN            133.0      121335   \n",
       "11094                3.0          365.0            264.0       88850   \n",
       "8230                 0.0            NaN             22.0      111510   \n",
       "\n",
       "      weekday_exposition  month_exposition  year_exposition  floors_id  \\\n",
       "22447                  1                 8             2017     другой   \n",
       "1714                   4                 4             2019  последний   \n",
       "16782                  2                10             2018     другой   \n",
       "11094                  3                 7             2018  последний   \n",
       "8230                   3                 5             2017     другой   \n",
       "\n",
       "       living_area_ratio  kitchen_area_ratio  \n",
       "22447           0.454545            0.242424  \n",
       "1714            0.580882            0.122059  \n",
       "16782           0.555941            0.127493  \n",
       "11094           0.627178            0.100174  \n",
       "8230            0.422662            0.273381  \n",
       "\n",
       "[5 rows x 29 columns]"
      ]
     },
     "execution_count": 13,
     "metadata": {},
     "output_type": "execute_result"
    }
   ],
   "source": [
    "# посчитаем и добавим в таблицу соотношение жилой и общей площади, а также отношение площади кухни к общей\n",
    "df['living_area_ratio'] = df['living_area'] / df['total_area']\n",
    "df['kitchen_area_ratio'] = df['kitchen_area'] / df['total_area']\n",
    "df.sample(5)"
   ]
  },
  {
   "cell_type": "markdown",
   "metadata": {},
   "source": [
    "**Вывод**  \n",
    "\n",
    "Посчитали и добавили в таблицу:\n",
    "* цену квадратного метра `df['price_sqft']`;\n",
    "* день недели, месяц и год публикации объявления `df['weekday_exposition']`, `df['month_exposition']`, `df['year_exposition']`;\n",
    "* этаж квартиры `df['floors_id']`;\n",
    "* соотношение жилой и общей площади, а также отношение площади кухни к общей `df['living_area_ratio']`, `df['kitchen_area_ratio']`."
   ]
  },
  {
   "cell_type": "markdown",
   "metadata": {},
   "source": [
    "## Исследовательский анализ данных"
   ]
  },
  {
   "cell_type": "markdown",
   "metadata": {},
   "source": [
    "### Площадь, цена, число комнат, высота потолков.\n",
    "Изучим следующие параметры: площадь, цена, число комнат, высота потолков. Построим гистограммы для каждого параметра."
   ]
  },
  {
   "cell_type": "code",
   "execution_count": 14,
   "metadata": {},
   "outputs": [
    {
     "data": {
      "text/html": [
       "<div>\n",
       "<style scoped>\n",
       "    .dataframe tbody tr th:only-of-type {\n",
       "        vertical-align: middle;\n",
       "    }\n",
       "\n",
       "    .dataframe tbody tr th {\n",
       "        vertical-align: top;\n",
       "    }\n",
       "\n",
       "    .dataframe thead th {\n",
       "        text-align: right;\n",
       "    }\n",
       "</style>\n",
       "<table border=\"1\" class=\"dataframe\">\n",
       "  <thead>\n",
       "    <tr style=\"text-align: right;\">\n",
       "      <th></th>\n",
       "      <th>total_area</th>\n",
       "      <th>last_price</th>\n",
       "      <th>rooms</th>\n",
       "      <th>ceiling_height</th>\n",
       "    </tr>\n",
       "  </thead>\n",
       "  <tbody>\n",
       "    <tr>\n",
       "      <td>count</td>\n",
       "      <td>23699.000000</td>\n",
       "      <td>2.369900e+04</td>\n",
       "      <td>23699.000000</td>\n",
       "      <td>23699.000000</td>\n",
       "    </tr>\n",
       "    <tr>\n",
       "      <td>mean</td>\n",
       "      <td>60.348651</td>\n",
       "      <td>6.541549e+06</td>\n",
       "      <td>2.070636</td>\n",
       "      <td>2.735650</td>\n",
       "    </tr>\n",
       "    <tr>\n",
       "      <td>std</td>\n",
       "      <td>35.654083</td>\n",
       "      <td>1.088701e+07</td>\n",
       "      <td>1.078405</td>\n",
       "      <td>0.994275</td>\n",
       "    </tr>\n",
       "    <tr>\n",
       "      <td>min</td>\n",
       "      <td>12.000000</td>\n",
       "      <td>1.219000e+04</td>\n",
       "      <td>0.000000</td>\n",
       "      <td>1.000000</td>\n",
       "    </tr>\n",
       "    <tr>\n",
       "      <td>25%</td>\n",
       "      <td>40.000000</td>\n",
       "      <td>3.400000e+06</td>\n",
       "      <td>1.000000</td>\n",
       "      <td>2.550000</td>\n",
       "    </tr>\n",
       "    <tr>\n",
       "      <td>50%</td>\n",
       "      <td>52.000000</td>\n",
       "      <td>4.650000e+06</td>\n",
       "      <td>2.000000</td>\n",
       "      <td>2.650000</td>\n",
       "    </tr>\n",
       "    <tr>\n",
       "      <td>75%</td>\n",
       "      <td>69.900000</td>\n",
       "      <td>6.800000e+06</td>\n",
       "      <td>3.000000</td>\n",
       "      <td>2.750000</td>\n",
       "    </tr>\n",
       "    <tr>\n",
       "      <td>max</td>\n",
       "      <td>900.000000</td>\n",
       "      <td>7.630000e+08</td>\n",
       "      <td>19.000000</td>\n",
       "      <td>100.000000</td>\n",
       "    </tr>\n",
       "  </tbody>\n",
       "</table>\n",
       "</div>"
      ],
      "text/plain": [
       "         total_area    last_price         rooms  ceiling_height\n",
       "count  23699.000000  2.369900e+04  23699.000000    23699.000000\n",
       "mean      60.348651  6.541549e+06      2.070636        2.735650\n",
       "std       35.654083  1.088701e+07      1.078405        0.994275\n",
       "min       12.000000  1.219000e+04      0.000000        1.000000\n",
       "25%       40.000000  3.400000e+06      1.000000        2.550000\n",
       "50%       52.000000  4.650000e+06      2.000000        2.650000\n",
       "75%       69.900000  6.800000e+06      3.000000        2.750000\n",
       "max      900.000000  7.630000e+08     19.000000      100.000000"
      ]
     },
     "execution_count": 14,
     "metadata": {},
     "output_type": "execute_result"
    }
   ],
   "source": [
    "# посмотрим описательную статистику\n",
    "df[['total_area', 'last_price', 'rooms', 'ceiling_height']].describe()"
   ]
  },
  {
   "cell_type": "code",
   "execution_count": 15,
   "metadata": {},
   "outputs": [
    {
     "data": {
      "text/plain": [
       "<matplotlib.legend.Legend at 0x7fe6dfb09650>"
      ]
     },
     "execution_count": 15,
     "metadata": {},
     "output_type": "execute_result"
    },
    {
     "data": {
      "image/png": "[encoded data removed]",
      "text/plain": [
       "<Figure size 360x216 with 1 Axes>"
      ]
     },
     "metadata": {
      "needs_background": "light"
     },
     "output_type": "display_data"
    },
    {
     "data": {
      "image/png": "[encoded data removed]",
      "text/plain": [
       "<Figure size 360x360 with 1 Axes>"
      ]
     },
     "metadata": {
      "needs_background": "light"
     },
     "output_type": "display_data"
    },
    {
     "data": {
      "image/png": "[encoded data removed]",
      "text/plain": [
       "<Figure size 360x288 with 1 Axes>"
      ]
     },
     "metadata": {
      "needs_background": "light"
     },
     "output_type": "display_data"
    },
    {
     "data": {
      "image/png": "[encoded data removed]",
      "text/plain": [
       "<Figure size 360x360 with 1 Axes>"
      ]
     },
     "metadata": {
      "needs_background": "light"
     },
     "output_type": "display_data"
    }
   ],
   "source": [
    "# построим гистограммы\n",
    "\n",
    "df.plot(y = 'total_area', kind = 'hist', bins = 100, grid=True, color = 'g', figsize = (5,3), range = (0,300))\n",
    "plt.legend(['Общая площадь квартиры'])\n",
    "\n",
    "df.plot(y = 'last_price', kind = 'hist', bins = 100, grid=True, color = 'g', figsize = (5,5), range = (0,20000000))\n",
    "plt.legend(['Стоимость квартиры'])\n",
    "\n",
    "df.plot(y = 'rooms', kind = 'hist', bins = 20, grid=True, color = 'g', figsize = (5,4), range = (0,8))\n",
    "plt.legend(['Количество комнат'])\n",
    "\n",
    "df.plot(y = 'ceiling_height', kind = 'hist', bins = 30, grid=True, color = 'g', figsize = (5,5), range = (2.3,4.5))\n",
    "plt.legend(['Высота потолков'])"
   ]
  },
  {
   "cell_type": "markdown",
   "metadata": {},
   "source": [
    "**Вывод**  \n",
    "* Основная часть квартир имеет метраж от `30м²` до `80м²`, медианное значение `52м²`. Есть выбросы до `900м²`;\n",
    "* Средняя стоимость квартиры лежит в промежутке от `2.5млн` до `11млн`. , медианное значение `4.65млн`. Есть вызывающие вопросы значения в минимуме: `12тыс`, - слишком небольшая цена для квартиры. К максимальным значениям вопросов меньше;\n",
    "* Превалирующее большинство квартир имеет от одной до трёх комнат, дальше идёт резкий спад. Без комнат могут быть студии, есть максимальное значение в `19` комнат;\n",
    "* Высота потолков распределена от `2.5м` до `3,2м`, медиана: `2.65м`. Есть минимальные и максимальные выбросы."
   ]
  },
  {
   "cell_type": "markdown",
   "metadata": {},
   "source": [
    "### Время продажи квартиры.\n",
    "Изучим время продажи квартиры. Построим гистограмму. Посчитаем среднее и медиану. Сделаем выводы."
   ]
  },
  {
   "cell_type": "code",
   "execution_count": 16,
   "metadata": {},
   "outputs": [
    {
     "data": {
      "text/plain": [
       "count    20518.000000\n",
       "mean       180.888634\n",
       "std        219.727988\n",
       "min          1.000000\n",
       "25%         45.000000\n",
       "50%         95.000000\n",
       "75%        232.000000\n",
       "max       1580.000000\n",
       "Name: days_exposition, dtype: float64"
      ]
     },
     "metadata": {},
     "output_type": "display_data"
    },
    {
     "data": {
      "text/plain": [
       "95.0"
      ]
     },
     "execution_count": 16,
     "metadata": {},
     "output_type": "execute_result"
    }
   ],
   "source": [
    "# посмотрим описательную статистику, посчитаем медиану\n",
    "display(df['days_exposition'].describe())\n",
    "df['days_exposition'].median()"
   ]
  },
  {
   "cell_type": "code",
   "execution_count": 17,
   "metadata": {},
   "outputs": [
    {
     "data": {
      "text/plain": [
       "<matplotlib.legend.Legend at 0x7fe6df786c90>"
      ]
     },
     "execution_count": 17,
     "metadata": {},
     "output_type": "execute_result"
    },
    {
     "data": {
      "image/png": "[encoded data removed]",
      "text/plain": [
       "<Figure size 360x216 with 1 Axes>"
      ]
     },
     "metadata": {
      "needs_background": "light"
     },
     "output_type": "display_data"
    }
   ],
   "source": [
    "# построим гистограмму\n",
    "df.plot(y = 'days_exposition', kind = 'hist', bins = 50, grid=True, color = 'g', figsize = (5,3), range = (0,500))\n",
    "plt.legend(['Время продажи квартиры'])"
   ]
  },
  {
   "cell_type": "code",
   "execution_count": 18,
   "metadata": {},
   "outputs": [
    {
     "data": {
      "text/plain": [
       "<matplotlib.axes._subplots.AxesSubplot at 0x7fe6df135890>"
      ]
     },
     "execution_count": 18,
     "metadata": {},
     "output_type": "execute_result"
    },
    {
     "data": {
      "image/png": "[encoded data removed]",
      "text/plain": [
       "<Figure size 360x216 with 1 Axes>"
      ]
     },
     "metadata": {
      "needs_background": "light"
     },
     "output_type": "display_data"
    }
   ],
   "source": [
    "# посмотрим на выбивающиеся пики значений\n",
    "df.query('40<days_exposition<100')['days_exposition'].hist(bins=100, color = 'g', figsize=(5,3))"
   ]
  },
  {
   "cell_type": "code",
   "execution_count": 19,
   "metadata": {},
   "outputs": [
    {
     "data": {
      "text/plain": [
       "45.0      880\n",
       "60.0      538\n",
       "7.0       234\n",
       "30.0      208\n",
       "90.0      204\n",
       "         ... \n",
       "1110.0      1\n",
       "1049.0      1\n",
       "951.0       1\n",
       "693.0       1\n",
       "773.0       1\n",
       "Name: days_exposition, Length: 1141, dtype: int64"
      ]
     },
     "execution_count": 19,
     "metadata": {},
     "output_type": "execute_result"
    }
   ],
   "source": [
    "# посмотрим на количество выбивающихся значений\n",
    "df['days_exposition'].value_counts()"
   ]
  },
  {
   "cell_type": "markdown",
   "metadata": {},
   "source": [
    "**Вывод**  \n",
    "\n",
    "* Среднее время продажи квартиры: `169` дней;\n",
    "* Медианное время продажи квартиры: `95` дней;\n",
    "* Есть значения в несколько лет;\n",
    "* Есть аномалии в `45`, `60` и `95` дней, вероятнее всего, объявления автоматически удаляются с площадки, в дальнейшем анализе это нужно будет учесть."
   ]
  },
  {
   "cell_type": "markdown",
   "metadata": {},
   "source": [
    "### Редкие и выбивающиеся значения.\n",
    "Уберём редкие и выбивающиеся значения."
   ]
  },
  {
   "cell_type": "code",
   "execution_count": 20,
   "metadata": {},
   "outputs": [
    {
     "data": {
      "text/plain": [
       "count    19916.000000\n",
       "mean       184.430257\n",
       "std        222.055814\n",
       "min          1.000000\n",
       "25%         44.000000\n",
       "50%        100.000000\n",
       "75%        239.000000\n",
       "max       1580.000000\n",
       "Name: days_exposition, dtype: float64"
      ]
     },
     "metadata": {},
     "output_type": "display_data"
    },
    {
     "data": {
      "text/plain": [
       "100.0"
      ]
     },
     "execution_count": 20,
     "metadata": {},
     "output_type": "execute_result"
    }
   ],
   "source": [
    "# удалим ранее обнаруженные аномалии в столбце с временем продажи квартиры\n",
    "df = df.query('days_exposition not in [45, 60, 95]')\n",
    "display(df['days_exposition'].describe())\n",
    "df['days_exposition'].median()"
   ]
  },
  {
   "cell_type": "code",
   "execution_count": 21,
   "metadata": {},
   "outputs": [
    {
     "data": {
      "text/plain": [
       "<matplotlib.legend.Legend at 0x7fe6def99a10>"
      ]
     },
     "execution_count": 21,
     "metadata": {},
     "output_type": "execute_result"
    },
    {
     "data": {
      "image/png": "[encoded data removed]",
      "text/plain": [
       "<Figure size 360x216 with 1 Axes>"
      ]
     },
     "metadata": {
      "needs_background": "light"
     },
     "output_type": "display_data"
    }
   ],
   "source": [
    "# # построим гистограмму\n",
    "df.plot(y = 'days_exposition', kind = 'hist', bins = 50, grid=True, color = 'g', figsize = (5,3), range = (0,1000))\n",
    "plt.legend(['Время продажи квартиры'])"
   ]
  },
  {
   "cell_type": "code",
   "execution_count": 22,
   "metadata": {},
   "outputs": [
    {
     "data": {
      "text/plain": [
       "count    23056.000000\n",
       "mean        59.651338\n",
       "std         31.717581\n",
       "min         12.000000\n",
       "25%         40.000000\n",
       "50%         51.800000\n",
       "75%         69.400000\n",
       "max        347.500000\n",
       "Name: total_area, dtype: float64"
      ]
     },
     "metadata": {},
     "output_type": "display_data"
    }
   ],
   "source": [
    "# удалим выбивающиеся значения в площади квартир, ограничим от 10 до 350м²\n",
    "df = df.query('10 <= total_area <= 350')\n",
    "display(df['total_area'].describe())"
   ]
  },
  {
   "cell_type": "code",
   "execution_count": 23,
   "metadata": {
    "scrolled": true
   },
   "outputs": [
    {
     "data": {
      "text/plain": [
       "count    2.239000e+04\n",
       "mean     5.408318e+06\n",
       "std      3.247527e+06\n",
       "min      1.219000e+04\n",
       "25%      3.370000e+06\n",
       "50%      4.500000e+06\n",
       "75%      6.500000e+06\n",
       "max      2.000000e+07\n",
       "Name: last_price, dtype: float64"
      ]
     },
     "metadata": {},
     "output_type": "display_data"
    }
   ],
   "source": [
    "# удалим выбивающиеся значения в стоимости квартир, ограничим до 20млн\n",
    "df = df.query('last_price <= 20000000')\n",
    "display(df['last_price'].describe())"
   ]
  },
  {
   "cell_type": "code",
   "execution_count": 24,
   "metadata": {
    "scrolled": true
   },
   "outputs": [
    {
     "data": {
      "text/plain": [
       "count    22390.000000\n",
       "mean         2.006521\n",
       "std          0.988139\n",
       "min          0.000000\n",
       "25%          1.000000\n",
       "50%          2.000000\n",
       "75%          3.000000\n",
       "max         11.000000\n",
       "Name: rooms, dtype: float64"
      ]
     },
     "metadata": {},
     "output_type": "display_data"
    }
   ],
   "source": [
    "# удалим выбивающиеся значения в числе комнат, ограничим до \n",
    "df = df.query('rooms not in [12]')\n",
    "display(df['rooms'].describe())"
   ]
  },
  {
   "cell_type": "code",
   "execution_count": 25,
   "metadata": {},
   "outputs": [
    {
     "data": {
      "text/plain": [
       "count    22262.000000\n",
       "mean         2.689807\n",
       "std          0.197947\n",
       "min          1.000000\n",
       "25%          2.550000\n",
       "50%          2.650000\n",
       "75%          2.750000\n",
       "max          3.750000\n",
       "Name: ceiling_height, dtype: float64"
      ]
     },
     "metadata": {},
     "output_type": "display_data"
    }
   ],
   "source": [
    "# удалим выбивающиеся значения в высоте потолков, ограничим до 3.75м\n",
    "df = df.query('ceiling_height <= 3.75')\n",
    "display(df['ceiling_height'].describe())"
   ]
  },
  {
   "cell_type": "markdown",
   "metadata": {},
   "source": [
    "**Вывод**  \n",
    "\n",
    "Убрали выбивающиеся значения в столбце с временем продажи квартиры. Вероятнее всего, после `45`, `60` и `95` дней, объявления автоматически удаляются на площадке, либо заканчивается оплаченный период размещения коммерческих объявлений, либо что-то аналогичное. Для корректного дальнейшего анализа, эти значения были удалены. Медиана, среднее и квартили изменились, распределение данных стало похожим на распределение Пуассона.\n",
    "Убрали аномальные значения в столбцах:\n",
    "* `total_area`: от 10 до 350м²;\n",
    "* `last_price`: до 2млн; \n",
    "* `rooms`: убрали выброс с двенадцатикомнатной квартирой;\n",
    "* `ceiling_height`: до 3.75м."
   ]
  },
  {
   "cell_type": "markdown",
   "metadata": {},
   "source": [
    "### Факторы, влияющие на стоимость квартиры\n",
    "Изучим, зависит ли цена от площади, числа комнат, удалённости от центра; зависимость цены от того, на каком этаже расположена квартира: первом, последнем или другом; зависимость от даты размещения: дня недели, месяца и года.\n",
    "\n",
    "Добавим несколько категориальных столбцов."
   ]
  },
  {
   "cell_type": "code",
   "execution_count": 26,
   "metadata": {
    "scrolled": true
   },
   "outputs": [
    {
     "data": {
      "text/html": [
       "<div>\n",
       "<style scoped>\n",
       "    .dataframe tbody tr th:only-of-type {\n",
       "        vertical-align: middle;\n",
       "    }\n",
       "\n",
       "    .dataframe tbody tr th {\n",
       "        vertical-align: top;\n",
       "    }\n",
       "\n",
       "    .dataframe thead th {\n",
       "        text-align: right;\n",
       "    }\n",
       "</style>\n",
       "<table border=\"1\" class=\"dataframe\">\n",
       "  <thead>\n",
       "    <tr style=\"text-align: right;\">\n",
       "      <th></th>\n",
       "      <th>total_images</th>\n",
       "      <th>last_price</th>\n",
       "      <th>total_area</th>\n",
       "      <th>first_day_exposition</th>\n",
       "      <th>rooms</th>\n",
       "      <th>ceiling_height</th>\n",
       "      <th>floors_total</th>\n",
       "      <th>living_area</th>\n",
       "      <th>floor</th>\n",
       "      <th>is_apartment</th>\n",
       "      <th>...</th>\n",
       "      <th>ponds_nearest</th>\n",
       "      <th>days_exposition</th>\n",
       "      <th>price_sqft</th>\n",
       "      <th>weekday_exposition</th>\n",
       "      <th>month_exposition</th>\n",
       "      <th>year_exposition</th>\n",
       "      <th>floors_id</th>\n",
       "      <th>living_area_ratio</th>\n",
       "      <th>kitchen_area_ratio</th>\n",
       "      <th>total_area_id</th>\n",
       "    </tr>\n",
       "  </thead>\n",
       "  <tbody>\n",
       "    <tr>\n",
       "      <td>15076</td>\n",
       "      <td>11</td>\n",
       "      <td>3900000</td>\n",
       "      <td>43.0</td>\n",
       "      <td>2016-12-18</td>\n",
       "      <td>2</td>\n",
       "      <td>2.55</td>\n",
       "      <td>5.0</td>\n",
       "      <td>28.0</td>\n",
       "      <td>2</td>\n",
       "      <td>NaN</td>\n",
       "      <td>...</td>\n",
       "      <td>NaN</td>\n",
       "      <td>401.0</td>\n",
       "      <td>90697</td>\n",
       "      <td>6</td>\n",
       "      <td>12</td>\n",
       "      <td>2016</td>\n",
       "      <td>другой</td>\n",
       "      <td>0.651163</td>\n",
       "      <td>0.127907</td>\n",
       "      <td>30-50м²</td>\n",
       "    </tr>\n",
       "    <tr>\n",
       "      <td>12424</td>\n",
       "      <td>20</td>\n",
       "      <td>4280000</td>\n",
       "      <td>45.9</td>\n",
       "      <td>2018-03-22</td>\n",
       "      <td>2</td>\n",
       "      <td>2.50</td>\n",
       "      <td>9.0</td>\n",
       "      <td>29.6</td>\n",
       "      <td>3</td>\n",
       "      <td>NaN</td>\n",
       "      <td>...</td>\n",
       "      <td>NaN</td>\n",
       "      <td>13.0</td>\n",
       "      <td>93246</td>\n",
       "      <td>3</td>\n",
       "      <td>3</td>\n",
       "      <td>2018</td>\n",
       "      <td>другой</td>\n",
       "      <td>0.644880</td>\n",
       "      <td>0.172113</td>\n",
       "      <td>30-50м²</td>\n",
       "    </tr>\n",
       "    <tr>\n",
       "      <td>13859</td>\n",
       "      <td>12</td>\n",
       "      <td>10650000</td>\n",
       "      <td>94.0</td>\n",
       "      <td>2016-05-19</td>\n",
       "      <td>4</td>\n",
       "      <td>2.60</td>\n",
       "      <td>14.0</td>\n",
       "      <td>NaN</td>\n",
       "      <td>8</td>\n",
       "      <td>NaN</td>\n",
       "      <td>...</td>\n",
       "      <td>506.0</td>\n",
       "      <td>288.0</td>\n",
       "      <td>113297</td>\n",
       "      <td>3</td>\n",
       "      <td>5</td>\n",
       "      <td>2016</td>\n",
       "      <td>другой</td>\n",
       "      <td>NaN</td>\n",
       "      <td>NaN</td>\n",
       "      <td>более 70м²</td>\n",
       "    </tr>\n",
       "    <tr>\n",
       "      <td>3763</td>\n",
       "      <td>10</td>\n",
       "      <td>3400000</td>\n",
       "      <td>63.0</td>\n",
       "      <td>2017-07-29</td>\n",
       "      <td>3</td>\n",
       "      <td>2.55</td>\n",
       "      <td>5.0</td>\n",
       "      <td>45.0</td>\n",
       "      <td>4</td>\n",
       "      <td>NaN</td>\n",
       "      <td>...</td>\n",
       "      <td>NaN</td>\n",
       "      <td>34.0</td>\n",
       "      <td>53968</td>\n",
       "      <td>5</td>\n",
       "      <td>7</td>\n",
       "      <td>2017</td>\n",
       "      <td>другой</td>\n",
       "      <td>0.714286</td>\n",
       "      <td>0.103175</td>\n",
       "      <td>50-70м²</td>\n",
       "    </tr>\n",
       "    <tr>\n",
       "      <td>14167</td>\n",
       "      <td>6</td>\n",
       "      <td>3500000</td>\n",
       "      <td>30.8</td>\n",
       "      <td>2019-02-14</td>\n",
       "      <td>1</td>\n",
       "      <td>2.50</td>\n",
       "      <td>5.0</td>\n",
       "      <td>17.4</td>\n",
       "      <td>5</td>\n",
       "      <td>NaN</td>\n",
       "      <td>...</td>\n",
       "      <td>560.0</td>\n",
       "      <td>9.0</td>\n",
       "      <td>113636</td>\n",
       "      <td>3</td>\n",
       "      <td>2</td>\n",
       "      <td>2019</td>\n",
       "      <td>последний</td>\n",
       "      <td>0.564935</td>\n",
       "      <td>0.178571</td>\n",
       "      <td>30-50м²</td>\n",
       "    </tr>\n",
       "  </tbody>\n",
       "</table>\n",
       "<p>5 rows × 30 columns</p>\n",
       "</div>"
      ],
      "text/plain": [
       "       total_images  last_price  total_area first_day_exposition  rooms  \\\n",
       "15076            11     3900000        43.0           2016-12-18      2   \n",
       "12424            20     4280000        45.9           2018-03-22      2   \n",
       "13859            12    10650000        94.0           2016-05-19      4   \n",
       "3763             10     3400000        63.0           2017-07-29      3   \n",
       "14167             6     3500000        30.8           2019-02-14      1   \n",
       "\n",
       "       ceiling_height  floors_total  living_area  floor is_apartment  ...  \\\n",
       "15076            2.55           5.0         28.0      2          NaN  ...   \n",
       "12424            2.50           9.0         29.6      3          NaN  ...   \n",
       "13859            2.60          14.0          NaN      8          NaN  ...   \n",
       "3763             2.55           5.0         45.0      4          NaN  ...   \n",
       "14167            2.50           5.0         17.4      5          NaN  ...   \n",
       "\n",
       "       ponds_nearest  days_exposition  price_sqft  weekday_exposition  \\\n",
       "15076            NaN            401.0       90697                   6   \n",
       "12424            NaN             13.0       93246                   3   \n",
       "13859          506.0            288.0      113297                   3   \n",
       "3763             NaN             34.0       53968                   5   \n",
       "14167          560.0              9.0      113636                   3   \n",
       "\n",
       "      month_exposition  year_exposition  floors_id  living_area_ratio  \\\n",
       "15076               12             2016     другой           0.651163   \n",
       "12424                3             2018     другой           0.644880   \n",
       "13859                5             2016     другой                NaN   \n",
       "3763                 7             2017     другой           0.714286   \n",
       "14167                2             2019  последний           0.564935   \n",
       "\n",
       "       kitchen_area_ratio  total_area_id  \n",
       "15076            0.127907        30-50м²  \n",
       "12424            0.172113        30-50м²  \n",
       "13859                 NaN     более 70м²  \n",
       "3763             0.103175        50-70м²  \n",
       "14167            0.178571        30-50м²  \n",
       "\n",
       "[5 rows x 30 columns]"
      ]
     },
     "execution_count": 26,
     "metadata": {},
     "output_type": "execute_result"
    }
   ],
   "source": [
    "# добавим категориальный столбец площади квартиры\n",
    "def total_area_id(row):\n",
    "    if row['total_area'] < 30:\n",
    "        return 'до 30м²'\n",
    "    elif 30 <= row['total_area'] <= 50:\n",
    "        return '30-50м²'\n",
    "    elif 50 <= row['total_area'] <= 70:\n",
    "        return '50-70м²'\n",
    "    elif row['total_area'] > 70:\n",
    "        return 'более 70м²' \n",
    "df['total_area_id'] = df.apply(total_area_id, axis=1)\n",
    "df.sample(5)"
   ]
  },
  {
   "cell_type": "markdown",
   "metadata": {},
   "source": [
    "Для категориального столбца по расстонияю до центра города, возьмём данные из [Википедии](https://ru.wikipedia.org/wiki/%D0%A6%D0%B5%D0%BD%D1%82%D1%80%D0%B0%D0%BB%D1%8C%D0%BD%D1%8B%D0%B9_%D1%80%D0%B0%D0%B9%D0%BE%D0%BD_(%D0%A1%D0%B0%D0%BD%D0%BA%D1%82-%D0%9F%D0%B5%D1%82%D0%B5%D1%80%D0%B1%D1%83%D1%80%D0%B3)):\n",
    "> \"Протяжённость Петербурга в административных границах: с севера на юг в пределах КАД — 32 км (за пределами КАД — 52 км), с северо-запада на юго-восток за пределами КАД,— около 90 км.\"\n",
    "\n",
    "Добавим дополнительно категории с учётом исторического центра и \"золотого треугольника\", получим категории: Центральный район (0-3км), основная часть города (3-5км), транспортная доступность (метро) и с севера на юг в пределах КАД (5-16км), с севера на юг за пределами КАД (16-26км),  северо-запада на юго-восток за пределами КАД (более 45км):\n",
    "* 0-3км от центра (до 3км);\n",
    "* 3-5км от центра (3-5км);\n",
    "* 5-10км от центра (5-10км);\n",
    "* 10-16км от центра (10-16км);\n",
    "* 16-26км от центра (16-26км);\n",
    "* 26-45км от центра (26-45км);\n",
    "* более 45км от центра (более 45км)."
   ]
  },
  {
   "cell_type": "code",
   "execution_count": 27,
   "metadata": {},
   "outputs": [
    {
     "data": {
      "text/html": [
       "<div>\n",
       "<style scoped>\n",
       "    .dataframe tbody tr th:only-of-type {\n",
       "        vertical-align: middle;\n",
       "    }\n",
       "\n",
       "    .dataframe tbody tr th {\n",
       "        vertical-align: top;\n",
       "    }\n",
       "\n",
       "    .dataframe thead th {\n",
       "        text-align: right;\n",
       "    }\n",
       "</style>\n",
       "<table border=\"1\" class=\"dataframe\">\n",
       "  <thead>\n",
       "    <tr style=\"text-align: right;\">\n",
       "      <th></th>\n",
       "      <th>total_images</th>\n",
       "      <th>last_price</th>\n",
       "      <th>total_area</th>\n",
       "      <th>first_day_exposition</th>\n",
       "      <th>rooms</th>\n",
       "      <th>ceiling_height</th>\n",
       "      <th>floors_total</th>\n",
       "      <th>living_area</th>\n",
       "      <th>floor</th>\n",
       "      <th>is_apartment</th>\n",
       "      <th>...</th>\n",
       "      <th>price_sqft</th>\n",
       "      <th>weekday_exposition</th>\n",
       "      <th>month_exposition</th>\n",
       "      <th>year_exposition</th>\n",
       "      <th>floors_id</th>\n",
       "      <th>living_area_ratio</th>\n",
       "      <th>kitchen_area_ratio</th>\n",
       "      <th>total_area_id</th>\n",
       "      <th>city_centers_nearest_km</th>\n",
       "      <th>city_centers_nearest_km_id</th>\n",
       "    </tr>\n",
       "  </thead>\n",
       "  <tbody>\n",
       "    <tr>\n",
       "      <td>11705</td>\n",
       "      <td>5</td>\n",
       "      <td>3380000</td>\n",
       "      <td>26.0</td>\n",
       "      <td>2018-02-20</td>\n",
       "      <td>0</td>\n",
       "      <td>2.80</td>\n",
       "      <td>17.0</td>\n",
       "      <td>17.0</td>\n",
       "      <td>8</td>\n",
       "      <td>NaN</td>\n",
       "      <td>...</td>\n",
       "      <td>130000</td>\n",
       "      <td>1</td>\n",
       "      <td>2</td>\n",
       "      <td>2018</td>\n",
       "      <td>другой</td>\n",
       "      <td>0.653846</td>\n",
       "      <td>NaN</td>\n",
       "      <td>до 30м²</td>\n",
       "      <td>8.0</td>\n",
       "      <td>5-10км</td>\n",
       "    </tr>\n",
       "    <tr>\n",
       "      <td>2478</td>\n",
       "      <td>1</td>\n",
       "      <td>4000000</td>\n",
       "      <td>39.0</td>\n",
       "      <td>2018-02-08</td>\n",
       "      <td>2</td>\n",
       "      <td>3.10</td>\n",
       "      <td>5.0</td>\n",
       "      <td>25.9</td>\n",
       "      <td>1</td>\n",
       "      <td>NaN</td>\n",
       "      <td>...</td>\n",
       "      <td>102564</td>\n",
       "      <td>3</td>\n",
       "      <td>2</td>\n",
       "      <td>2018</td>\n",
       "      <td>первый</td>\n",
       "      <td>0.664103</td>\n",
       "      <td>0.138462</td>\n",
       "      <td>30-50м²</td>\n",
       "      <td>1.0</td>\n",
       "      <td>до 3км</td>\n",
       "    </tr>\n",
       "    <tr>\n",
       "      <td>6861</td>\n",
       "      <td>20</td>\n",
       "      <td>13990000</td>\n",
       "      <td>100.0</td>\n",
       "      <td>2019-04-29</td>\n",
       "      <td>3</td>\n",
       "      <td>2.70</td>\n",
       "      <td>16.0</td>\n",
       "      <td>60.0</td>\n",
       "      <td>13</td>\n",
       "      <td>NaN</td>\n",
       "      <td>...</td>\n",
       "      <td>139900</td>\n",
       "      <td>0</td>\n",
       "      <td>4</td>\n",
       "      <td>2019</td>\n",
       "      <td>другой</td>\n",
       "      <td>0.600000</td>\n",
       "      <td>NaN</td>\n",
       "      <td>более 70м²</td>\n",
       "      <td>13.0</td>\n",
       "      <td>10-16км</td>\n",
       "    </tr>\n",
       "    <tr>\n",
       "      <td>8311</td>\n",
       "      <td>9</td>\n",
       "      <td>3700000</td>\n",
       "      <td>64.0</td>\n",
       "      <td>2019-04-28</td>\n",
       "      <td>3</td>\n",
       "      <td>2.60</td>\n",
       "      <td>7.0</td>\n",
       "      <td>36.0</td>\n",
       "      <td>4</td>\n",
       "      <td>NaN</td>\n",
       "      <td>...</td>\n",
       "      <td>57812</td>\n",
       "      <td>6</td>\n",
       "      <td>4</td>\n",
       "      <td>2019</td>\n",
       "      <td>другой</td>\n",
       "      <td>0.562500</td>\n",
       "      <td>0.148438</td>\n",
       "      <td>50-70м²</td>\n",
       "      <td>NaN</td>\n",
       "      <td>None</td>\n",
       "    </tr>\n",
       "    <tr>\n",
       "      <td>20012</td>\n",
       "      <td>1</td>\n",
       "      <td>3900000</td>\n",
       "      <td>45.0</td>\n",
       "      <td>2016-11-11</td>\n",
       "      <td>1</td>\n",
       "      <td>2.65</td>\n",
       "      <td>12.0</td>\n",
       "      <td>19.0</td>\n",
       "      <td>5</td>\n",
       "      <td>False</td>\n",
       "      <td>...</td>\n",
       "      <td>86666</td>\n",
       "      <td>4</td>\n",
       "      <td>11</td>\n",
       "      <td>2016</td>\n",
       "      <td>другой</td>\n",
       "      <td>0.422222</td>\n",
       "      <td>0.255556</td>\n",
       "      <td>30-50м²</td>\n",
       "      <td>15.0</td>\n",
       "      <td>10-16км</td>\n",
       "    </tr>\n",
       "  </tbody>\n",
       "</table>\n",
       "<p>5 rows × 32 columns</p>\n",
       "</div>"
      ],
      "text/plain": [
       "       total_images  last_price  total_area first_day_exposition  rooms  \\\n",
       "11705             5     3380000        26.0           2018-02-20      0   \n",
       "2478              1     4000000        39.0           2018-02-08      2   \n",
       "6861             20    13990000       100.0           2019-04-29      3   \n",
       "8311              9     3700000        64.0           2019-04-28      3   \n",
       "20012             1     3900000        45.0           2016-11-11      1   \n",
       "\n",
       "       ceiling_height  floors_total  living_area  floor is_apartment  ...  \\\n",
       "11705            2.80          17.0         17.0      8          NaN  ...   \n",
       "2478             3.10           5.0         25.9      1          NaN  ...   \n",
       "6861             2.70          16.0         60.0     13          NaN  ...   \n",
       "8311             2.60           7.0         36.0      4          NaN  ...   \n",
       "20012            2.65          12.0         19.0      5        False  ...   \n",
       "\n",
       "       price_sqft  weekday_exposition  month_exposition  year_exposition  \\\n",
       "11705      130000                   1                 2             2018   \n",
       "2478       102564                   3                 2             2018   \n",
       "6861       139900                   0                 4             2019   \n",
       "8311        57812                   6                 4             2019   \n",
       "20012       86666                   4                11             2016   \n",
       "\n",
       "      floors_id  living_area_ratio  kitchen_area_ratio  total_area_id  \\\n",
       "11705    другой           0.653846                 NaN        до 30м²   \n",
       "2478     первый           0.664103            0.138462        30-50м²   \n",
       "6861     другой           0.600000                 NaN     более 70м²   \n",
       "8311     другой           0.562500            0.148438        50-70м²   \n",
       "20012    другой           0.422222            0.255556        30-50м²   \n",
       "\n",
       "       city_centers_nearest_km  city_centers_nearest_km_id  \n",
       "11705                      8.0                      5-10км  \n",
       "2478                       1.0                      до 3км  \n",
       "6861                      13.0                     10-16км  \n",
       "8311                       NaN                        None  \n",
       "20012                     15.0                     10-16км  \n",
       "\n",
       "[5 rows x 32 columns]"
      ]
     },
     "execution_count": 27,
     "metadata": {},
     "output_type": "execute_result"
    }
   ],
   "source": [
    "# добавим категориальный столбец удалённости от центра\n",
    "# для удобства будем считать в километрах и переведём в целые, создадим под это новый столбец\n",
    "df['city_centers_nearest_km'] = round((df['city_centers_nearest']/1000),0)\n",
    "def city_centers_nearest_id(row):\n",
    "    if row['city_centers_nearest_km'] < 3:\n",
    "        return 'до 3км'\n",
    "    elif 3 <= row['city_centers_nearest_km'] <= 5:\n",
    "        return '3-5км'\n",
    "    elif 5 <= row['city_centers_nearest_km'] <= 10:\n",
    "        return '5-10км'\n",
    "    elif 10 <= row['city_centers_nearest_km'] <= 16:\n",
    "        return '10-16км' \n",
    "    elif 16 <= row['city_centers_nearest_km'] <= 26:\n",
    "        return '16-26км'\n",
    "    elif 26 <= row['city_centers_nearest_km'] <= 45:\n",
    "        return '26-45км'\n",
    "    elif row['city_centers_nearest_km'] > 45:\n",
    "        return 'более 45км'\n",
    "df['city_centers_nearest_km_id'] = df.apply(city_centers_nearest_id, axis=1)\n",
    "df.sample(5)"
   ]
  },
  {
   "cell_type": "code",
   "execution_count": 28,
   "metadata": {
    "scrolled": true
   },
   "outputs": [
    {
     "data": {
      "text/plain": [
       "<matplotlib.axes._subplots.AxesSubplot at 0x7fe6dee75390>"
      ]
     },
     "execution_count": 28,
     "metadata": {},
     "output_type": "execute_result"
    },
    {
     "data": {
      "image/png": "[encoded data removed]",
      "text/plain": [
       "<Figure size 648x216 with 1 Axes>"
      ]
     },
     "metadata": {
      "needs_background": "light"
     },
     "output_type": "display_data"
    }
   ],
   "source": [
    "# посмотрим на корреляцию между факторами\n",
    "# напишем функцию построения графиков зависимостей\n",
    "# график зависимостей цены квартиры от площади и коэффициент корреляции\n",
    "def graph_plot(data_column, table_name):\n",
    "    \n",
    "    plot = df.pivot_table(index = data_column, values = 'price_sqft', aggfunc = 'median').reset_index(\n",
    "    ).sort_values(by='price_sqft').plot(x=data_column, y='price_sqft', kind='bar',\n",
    "                                       color = 'g', ec='black', legend=None, title=table_name,\n",
    "                                       fontsize=13, figsize=(9,3))\n",
    "       \n",
    "    if data_column == 'total_area_id':     \n",
    "        corrp = round(df['total_area'].corr(df['price_sqft']), 3)\n",
    "    elif data_column == 'floors_id':\n",
    "        corrp = round(df['floor'].corr(df['price_sqft']), 3)\n",
    "    elif data_column == 'city_centers_nearest_km_id':\n",
    "        corrp = round(df['city_centers_nearest'].corr(df['price_sqft']), 3)\n",
    "    else:\n",
    "        corrp = round(df[data_column].corr(df['price_sqft']), 3)\n",
    "    plot.set_xlabel(f'Коэффициент корреляции Пирсона: {corrp}')    \n",
    "    \n",
    "    plt.xticks(rotation=0)\n",
    "\n",
    "    return plot\n",
    "\n",
    "graph_plot('total_area_id', 'Зависимость цены от площади')"
   ]
  },
  {
   "cell_type": "code",
   "execution_count": 29,
   "metadata": {
    "scrolled": false
   },
   "outputs": [
    {
     "data": {
      "text/plain": [
       "<matplotlib.axes._subplots.AxesSubplot at 0x7fe6df6f6b10>"
      ]
     },
     "execution_count": 29,
     "metadata": {},
     "output_type": "execute_result"
    },
    {
     "data": {
      "image/png": "[encoded data removed]",
      "text/plain": [
       "<Figure size 648x216 with 1 Axes>"
      ]
     },
     "metadata": {
      "needs_background": "light"
     },
     "output_type": "display_data"
    }
   ],
   "source": [
    "# график зависимостей цены квартиры от количества комнат и коэффициент корреляции \n",
    "graph_plot('rooms', 'Зависимость цены от количества комнат')"
   ]
  },
  {
   "cell_type": "code",
   "execution_count": 30,
   "metadata": {
    "scrolled": true
   },
   "outputs": [
    {
     "data": {
      "text/plain": [
       "<matplotlib.axes._subplots.AxesSubplot at 0x7fe6dfd0f810>"
      ]
     },
     "execution_count": 30,
     "metadata": {},
     "output_type": "execute_result"
    },
    {
     "data": {
      "image/png": "[encoded data removed]",
      "text/plain": [
       "<Figure size 648x216 with 1 Axes>"
      ]
     },
     "metadata": {
      "needs_background": "light"
     },
     "output_type": "display_data"
    }
   ],
   "source": [
    "# график зависимостей цены квартиры от удалённости от центра и коэффициент корреляции \n",
    "graph_plot('city_centers_nearest_km_id', 'Зависимость цены от удалённости от центра')"
   ]
  },
  {
   "cell_type": "code",
   "execution_count": 31,
   "metadata": {},
   "outputs": [
    {
     "data": {
      "text/plain": [
       "<matplotlib.axes._subplots.AxesSubplot at 0x7fe6dee1cb10>"
      ]
     },
     "execution_count": 31,
     "metadata": {},
     "output_type": "execute_result"
    },
    {
     "data": {
      "image/png": "[encoded data removed]",
      "text/plain": [
       "<Figure size 648x216 with 1 Axes>"
      ]
     },
     "metadata": {
      "needs_background": "light"
     },
     "output_type": "display_data"
    }
   ],
   "source": [
    "# график зависимостей цены квартиры от этажа и коэффициент корреляции \n",
    "graph_plot('floors_id', 'Зависимость цены от этажа')"
   ]
  },
  {
   "cell_type": "code",
   "execution_count": 32,
   "metadata": {},
   "outputs": [
    {
     "data": {
      "text/plain": [
       "<matplotlib.axes._subplots.AxesSubplot at 0x7fe6df72a610>"
      ]
     },
     "execution_count": 32,
     "metadata": {},
     "output_type": "execute_result"
    },
    {
     "data": {
      "image/png": "[encoded data removed]",
      "text/plain": [
       "<Figure size 432x288 with 1 Axes>"
      ]
     },
     "metadata": {
      "needs_background": "light"
     },
     "output_type": "display_data"
    }
   ],
   "source": [
    "# график зависимостей цены квартиры от дня размещения\n",
    "df.pivot_table(index = 'weekday_exposition',\n",
    "               values = 'price_sqft',\n",
    "               aggfunc = 'median').reset_index().plot(x='weekday_exposition', grid=True,\n",
    "                                                      color = 'g', legend=None, title='Зависимость цены от дня размещения')"
   ]
  },
  {
   "cell_type": "code",
   "execution_count": 33,
   "metadata": {},
   "outputs": [
    {
     "data": {
      "text/plain": [
       "<matplotlib.axes._subplots.AxesSubplot at 0x7fe6df7177d0>"
      ]
     },
     "execution_count": 33,
     "metadata": {},
     "output_type": "execute_result"
    },
    {
     "data": {
      "image/png": "[encoded data removed]",
      "text/plain": [
       "<Figure size 432x288 with 1 Axes>"
      ]
     },
     "metadata": {
      "needs_background": "light"
     },
     "output_type": "display_data"
    }
   ],
   "source": [
    "# график зависимостей цены квартиры от месяца размещения\n",
    "df.pivot_table(index = 'month_exposition',\n",
    "               values = 'price_sqft',\n",
    "               aggfunc = 'median').reset_index().plot(x='month_exposition',\n",
    "                                                      color = 'g', grid=True, legend=None,\n",
    "                                                      title='Зависимость цены от месяца размещения')"
   ]
  },
  {
   "cell_type": "code",
   "execution_count": 34,
   "metadata": {},
   "outputs": [
    {
     "data": {
      "text/plain": [
       "<matplotlib.axes._subplots.AxesSubplot at 0x7fe6dfab2510>"
      ]
     },
     "execution_count": 34,
     "metadata": {},
     "output_type": "execute_result"
    },
    {
     "data": {
      "image/png": "[encoded data removed]",
      "text/plain": [
       "<Figure size 432x288 with 1 Axes>"
      ]
     },
     "metadata": {
      "needs_background": "light"
     },
     "output_type": "display_data"
    }
   ],
   "source": [
    "# график зависимостей цены квартиры от года размещения\n",
    "df.pivot_table(index = 'year_exposition',\n",
    "               values = 'price_sqft',\n",
    "               aggfunc = 'median').reset_index().plot(x='year_exposition',\n",
    "                                                      color = 'g', legend=None, grid=True,\n",
    "                                                      title='Зависимость цены от года размещения')"
   ]
  },
  {
   "cell_type": "markdown",
   "metadata": {},
   "source": [
    "**Вывод**  \n",
    "\n",
    "* Зависимость цены от площади наблюдается: коэффициент Пирсона `0,3`, самая небольшая стоимость квадратного метра у квартир в `50-70м²`, самая высокая у квартир с метражом `до 30м²`;\n",
    "* Зависимость цены от количества комнат если и есть, то нелинейная: коэффициент Пирсона `0,059`, самые недорогие квартиры с `14`-ю комнатами, затем есть значения похожие на выбросы, например, самая высокая стоимость у `12`-ти комнатной квартиры;\n",
    "* Зависимость цены от удалённости от центра города наблюдается: коэффициент Пирсона `-0,3`, стоимость равномерно понижается от центра к окраинам;\n",
    "* Зависимость цены от этажа: коэффициент Пирсона `0,125` , самые недорогие квартиры на первом этаже, посередине на последнем и самые дорогие между ними;\n",
    "* Зависимость цены от дня размещения: меньше всего цена в субботу, чуть выше в воскресение, но при этом и общее количество объявлений в выходные дни меньше;\n",
    "* Зависимость цены от месяца размещения: самые недорогие предложения появляются в июне и апреле, самые дорогие в августе, марте, но и количество объявлений в летние месяцы меньше: от `700` в летние и более `1400` в феврале, ноябре;\n",
    "* Зависимость цены от года размещения: спад после 2014 года до 2016, затем плато, равноускоренный рост с 2017 до 2018, затем подъём до 2019 года, но количество объявлений увеличивалось до 2018 года, затем достаточно резкое снижение количества предложений в несколько раз.\n"
   ]
  },
  {
   "cell_type": "markdown",
   "metadata": {},
   "source": [
    "###  Средняя стоимость квадратного метра\n",
    "Выберем 10 населённых пунктов с наибольшим числом объявлений. Посчитаем среднюю цену квадратного метра в этих населённых пунктах. Выделим населённые пункты с самой высокой и низкой стоимостью жилья."
   ]
  },
  {
   "cell_type": "code",
   "execution_count": 35,
   "metadata": {},
   "outputs": [
    {
     "data": {
      "text/html": [
       "<div>\n",
       "<style scoped>\n",
       "    .dataframe tbody tr th:only-of-type {\n",
       "        vertical-align: middle;\n",
       "    }\n",
       "\n",
       "    .dataframe tbody tr th {\n",
       "        vertical-align: top;\n",
       "    }\n",
       "\n",
       "    .dataframe thead th {\n",
       "        text-align: right;\n",
       "    }\n",
       "</style>\n",
       "<table border=\"1\" class=\"dataframe\">\n",
       "  <thead>\n",
       "    <tr style=\"text-align: right;\">\n",
       "      <th></th>\n",
       "      <th>Город</th>\n",
       "      <th>Средняя цена м²</th>\n",
       "    </tr>\n",
       "  </thead>\n",
       "  <tbody>\n",
       "    <tr>\n",
       "      <td>0</td>\n",
       "      <td>Санкт-Петербург</td>\n",
       "      <td>108554</td>\n",
       "    </tr>\n",
       "    <tr>\n",
       "      <td>1</td>\n",
       "      <td>Пушкин</td>\n",
       "      <td>101761</td>\n",
       "    </tr>\n",
       "    <tr>\n",
       "      <td>2</td>\n",
       "      <td>деревня Кудрово</td>\n",
       "      <td>92422</td>\n",
       "    </tr>\n",
       "    <tr>\n",
       "      <td>3</td>\n",
       "      <td>посёлок Парголово</td>\n",
       "      <td>90194</td>\n",
       "    </tr>\n",
       "    <tr>\n",
       "      <td>4</td>\n",
       "      <td>посёлок Мурино</td>\n",
       "      <td>85643</td>\n",
       "    </tr>\n",
       "    <tr>\n",
       "      <td>5</td>\n",
       "      <td>посёлок Шушары</td>\n",
       "      <td>78530</td>\n",
       "    </tr>\n",
       "    <tr>\n",
       "      <td>6</td>\n",
       "      <td>Колпино</td>\n",
       "      <td>75504</td>\n",
       "    </tr>\n",
       "    <tr>\n",
       "      <td>7</td>\n",
       "      <td>Гатчина</td>\n",
       "      <td>68719</td>\n",
       "    </tr>\n",
       "    <tr>\n",
       "      <td>8</td>\n",
       "      <td>Всеволожск</td>\n",
       "      <td>66983</td>\n",
       "    </tr>\n",
       "    <tr>\n",
       "      <td>9</td>\n",
       "      <td>Выборг</td>\n",
       "      <td>57912</td>\n",
       "    </tr>\n",
       "  </tbody>\n",
       "</table>\n",
       "</div>"
      ],
      "text/plain": [
       "               Город  Средняя цена м²\n",
       "0    Санкт-Петербург           108554\n",
       "1             Пушкин           101761\n",
       "2    деревня Кудрово            92422\n",
       "3  посёлок Парголово            90194\n",
       "4     посёлок Мурино            85643\n",
       "5     посёлок Шушары            78530\n",
       "6            Колпино            75504\n",
       "7            Гатчина            68719\n",
       "8         Всеволожск            66983\n",
       "9             Выборг            57912"
      ]
     },
     "execution_count": 35,
     "metadata": {},
     "output_type": "execute_result"
    }
   ],
   "source": [
    "# напечатаем таблицу со средним по цене квадратного метра в топ-10 городов по количеству объявлений\n",
    "top_ten_list_city_ads = df['locality_name'].value_counts().index.tolist()[:10]\n",
    "mean_city_sqft = [df[df['locality_name'] == name]['price_sqft'].mean(\n",
    "                  ).astype('int') for name in top_ten_list_city_ads]\n",
    "pd.DataFrame({'Город': top_ten_list_city_ads,'Средняя цена м²': \n",
    "              mean_city_sqft}).sort_values(by='Средняя цена м²', ascending=False).reset_index(drop=True)\n",
    "\n",
    "\n"
   ]
  },
  {
   "cell_type": "code",
   "execution_count": 36,
   "metadata": {},
   "outputs": [
    {
     "data": {
      "text/html": [
       "<div>\n",
       "<style scoped>\n",
       "    .dataframe tbody tr th:only-of-type {\n",
       "        vertical-align: middle;\n",
       "    }\n",
       "\n",
       "    .dataframe tbody tr th {\n",
       "        vertical-align: top;\n",
       "    }\n",
       "\n",
       "    .dataframe thead th {\n",
       "        text-align: right;\n",
       "    }\n",
       "</style>\n",
       "<table border=\"1\" class=\"dataframe\">\n",
       "  <thead>\n",
       "    <tr style=\"text-align: right;\">\n",
       "      <th></th>\n",
       "      <th>locality_name</th>\n",
       "      <th>count</th>\n",
       "      <th>mean</th>\n",
       "    </tr>\n",
       "  </thead>\n",
       "  <tbody>\n",
       "    <tr>\n",
       "      <td>33</td>\n",
       "      <td>Санкт-Петербург</td>\n",
       "      <td>14478.0</td>\n",
       "      <td>108554.428167</td>\n",
       "    </tr>\n",
       "    <tr>\n",
       "      <td>289</td>\n",
       "      <td>посёлок Мурино</td>\n",
       "      <td>507.0</td>\n",
       "      <td>85643.459566</td>\n",
       "    </tr>\n",
       "    <tr>\n",
       "      <td>324</td>\n",
       "      <td>посёлок Шушары</td>\n",
       "      <td>427.0</td>\n",
       "      <td>78530.971897</td>\n",
       "    </tr>\n",
       "    <tr>\n",
       "      <td>3</td>\n",
       "      <td>Всеволожск</td>\n",
       "      <td>386.0</td>\n",
       "      <td>66983.448187</td>\n",
       "    </tr>\n",
       "    <tr>\n",
       "      <td>32</td>\n",
       "      <td>Пушкин</td>\n",
       "      <td>350.0</td>\n",
       "      <td>101761.048571</td>\n",
       "    </tr>\n",
       "    <tr>\n",
       "      <td>13</td>\n",
       "      <td>Колпино</td>\n",
       "      <td>327.0</td>\n",
       "      <td>75504.880734</td>\n",
       "    </tr>\n",
       "    <tr>\n",
       "      <td>294</td>\n",
       "      <td>посёлок Парголово</td>\n",
       "      <td>314.0</td>\n",
       "      <td>90194.203822</td>\n",
       "    </tr>\n",
       "    <tr>\n",
       "      <td>6</td>\n",
       "      <td>Гатчина</td>\n",
       "      <td>297.0</td>\n",
       "      <td>68719.632997</td>\n",
       "    </tr>\n",
       "    <tr>\n",
       "      <td>93</td>\n",
       "      <td>деревня Кудрово</td>\n",
       "      <td>287.0</td>\n",
       "      <td>92422.519164</td>\n",
       "    </tr>\n",
       "    <tr>\n",
       "      <td>4</td>\n",
       "      <td>Выборг</td>\n",
       "      <td>231.0</td>\n",
       "      <td>57912.017316</td>\n",
       "    </tr>\n",
       "  </tbody>\n",
       "</table>\n",
       "</div>"
      ],
      "text/plain": [
       "         locality_name    count           mean\n",
       "33     Санкт-Петербург  14478.0  108554.428167\n",
       "289     посёлок Мурино    507.0   85643.459566\n",
       "324     посёлок Шушары    427.0   78530.971897\n",
       "3           Всеволожск    386.0   66983.448187\n",
       "32              Пушкин    350.0  101761.048571\n",
       "13             Колпино    327.0   75504.880734\n",
       "294  посёлок Парголово    314.0   90194.203822\n",
       "6              Гатчина    297.0   68719.632997\n",
       "93     деревня Кудрово    287.0   92422.519164\n",
       "4               Выборг    231.0   57912.017316"
      ]
     },
     "execution_count": 36,
     "metadata": {},
     "output_type": "execute_result"
    }
   ],
   "source": [
    "# напечатаем таблицу со средним по цене квадратного метра в топ-10 городов по количеству объявлений\n",
    "df.pivot_table(index = 'locality_name',\n",
    "               values = 'price_sqft', aggfunc = ('count',\n",
    "                                                 'mean')).reset_index().sort_values(by='count',\n",
    "                                                                                    ascending=False).head(10)\n"
   ]
  },
  {
   "cell_type": "markdown",
   "metadata": {},
   "source": [
    "**Вывод**  \n",
    "\n",
    "* Населённый пункт с самой высокой стоимостью жилья: Санкт-Петербург `112849` за `м²`;\n",
    "* Населённый пункт с самой низкой стоимостью жилья: Выборг `56887` за `м²`."
   ]
  },
  {
   "cell_type": "markdown",
   "metadata": {},
   "source": [
    "### Квартиры в центре Санкт-Петербурга\n",
    "Выделим квартиры в центре Санкт-Петербурга, выясним, какая область входит в центр города. Посчитаем среднюю цену для каждого километра. Построим график. Определим центральную зону города."
   ]
  },
  {
   "cell_type": "code",
   "execution_count": 37,
   "metadata": {},
   "outputs": [
    {
     "data": {
      "text/plain": [
       "(array([ 0,  1,  2,  3,  4,  5,  6,  7,  8,  9, 10, 11, 12, 13, 14, 15, 16,\n",
       "        17, 18, 19, 20, 21]),\n",
       " <a list of 22 Text xticklabel objects>)"
      ]
     },
     "execution_count": 37,
     "metadata": {},
     "output_type": "execute_result"
    },
    {
     "data": {
      "image/png": "[encoded data removed]",
      "text/plain": [
       "<Figure size 648x216 with 1 Axes>"
      ]
     },
     "metadata": {
      "needs_background": "light"
     },
     "output_type": "display_data"
    }
   ],
   "source": [
    "# сгруппируем квартиры по городу Санкт-Петербург, поссчитаем среднюю цену для каждого километра\n",
    "# построим график средней цены за квадратный метр каждого километра от центра Санкт-Петербурга\n",
    "\n",
    "df.query('locality_name == \"Санкт-Петербург\"'\n",
    "        ).dropna().pivot_table(index = 'city_centers_nearest_km',\n",
    "                               values = 'price_sqft',\n",
    "                               aggfunc = 'mean').plot(kind='bar',\n",
    "                                                      grid=True, color = 'g', ec='black',\n",
    "                                                      legend=None, title='Средняя цена за километр', figsize=(9,3))\n",
    "plt.xticks(rotation=0)"
   ]
  },
  {
   "cell_type": "markdown",
   "metadata": {},
   "source": [
    "**Вывод**  \n",
    "\n",
    "По получившимся данным, сложно выделить какой-то обособленный центр, т.к. распределение неравномерное, средняя стоимость на расстоянии в `3-4км` меньше стоимости на расстоянии в `11км`, на `8км` дороже чем в `1км` от центра и тому подобное.\n",
    "Вероятнее всего, за счёт рельефа местности (рек, залива, мостов), стоимость квартир больше привязана именно к рельефу, элитной застройке и каким-либо историческим данным, и меньшим образом привязана к удалённости от центра.\n",
    "Поэтому, если считать центр города по безусловной стоимости квартир за квадратный метр - выигрывает область с радиусом в `1км`, со средней стоимостью квартиры за квадратный метр в `250000`.  \n",
    "Но для удобства, будем считать область с радиусом в `8км`, на следующих километрах идёт всё же спад, хотя и со всплесками.   \n",
    "(Тем более, что, например, в Москве: Садовое кольцо находится в радиусе `3км`, ТТК `5км`, незаконченная СВХ `9км` и МКАД до `20км`)."
   ]
  },
  {
   "cell_type": "markdown",
   "metadata": {},
   "source": [
    "### Анализ сегмента квартир в центре\n",
    "Выделим сегмент квартир в центре. Проанализируем эту территорию и изучим следующие параметры: площадь, цена, число комнат, высота потолков. Выделим факторы, которые влияют на стоимость квартиры (число комнат, этаж, удалённость от центра, дата размещения объявления). Сравним с данными по всей базе."
   ]
  },
  {
   "cell_type": "code",
   "execution_count": 38,
   "metadata": {},
   "outputs": [
    {
     "data": {
      "text/html": [
       "<div>\n",
       "<style scoped>\n",
       "    .dataframe tbody tr th:only-of-type {\n",
       "        vertical-align: middle;\n",
       "    }\n",
       "\n",
       "    .dataframe tbody tr th {\n",
       "        vertical-align: top;\n",
       "    }\n",
       "\n",
       "    .dataframe thead th {\n",
       "        text-align: right;\n",
       "    }\n",
       "</style>\n",
       "<table border=\"1\" class=\"dataframe\">\n",
       "  <thead>\n",
       "    <tr style=\"text-align: right;\">\n",
       "      <th></th>\n",
       "      <th>total_area</th>\n",
       "      <th>last_price</th>\n",
       "      <th>rooms</th>\n",
       "      <th>ceiling_height</th>\n",
       "    </tr>\n",
       "  </thead>\n",
       "  <tbody>\n",
       "    <tr>\n",
       "      <td>count</td>\n",
       "      <td>3345.00</td>\n",
       "      <td>3345.00</td>\n",
       "      <td>3345.00</td>\n",
       "      <td>3345.00</td>\n",
       "    </tr>\n",
       "    <tr>\n",
       "      <td>mean</td>\n",
       "      <td>75.94</td>\n",
       "      <td>8983880.07</td>\n",
       "      <td>2.55</td>\n",
       "      <td>2.90</td>\n",
       "    </tr>\n",
       "    <tr>\n",
       "      <td>std</td>\n",
       "      <td>33.76</td>\n",
       "      <td>3881219.31</td>\n",
       "      <td>1.21</td>\n",
       "      <td>0.29</td>\n",
       "    </tr>\n",
       "    <tr>\n",
       "      <td>min</td>\n",
       "      <td>12.00</td>\n",
       "      <td>1600000.00</td>\n",
       "      <td>0.00</td>\n",
       "      <td>2.00</td>\n",
       "    </tr>\n",
       "    <tr>\n",
       "      <td>25%</td>\n",
       "      <td>51.00</td>\n",
       "      <td>6040000.00</td>\n",
       "      <td>2.00</td>\n",
       "      <td>2.66</td>\n",
       "    </tr>\n",
       "    <tr>\n",
       "      <td>50%</td>\n",
       "      <td>70.00</td>\n",
       "      <td>8200000.00</td>\n",
       "      <td>2.00</td>\n",
       "      <td>2.90</td>\n",
       "    </tr>\n",
       "    <tr>\n",
       "      <td>75%</td>\n",
       "      <td>93.00</td>\n",
       "      <td>11315000.00</td>\n",
       "      <td>3.00</td>\n",
       "      <td>3.05</td>\n",
       "    </tr>\n",
       "    <tr>\n",
       "      <td>max</td>\n",
       "      <td>287.50</td>\n",
       "      <td>20000000.00</td>\n",
       "      <td>11.00</td>\n",
       "      <td>3.75</td>\n",
       "    </tr>\n",
       "  </tbody>\n",
       "</table>\n",
       "</div>"
      ],
      "text/plain": [
       "       total_area   last_price    rooms  ceiling_height\n",
       "count     3345.00      3345.00  3345.00         3345.00\n",
       "mean        75.94   8983880.07     2.55            2.90\n",
       "std         33.76   3881219.31     1.21            0.29\n",
       "min         12.00   1600000.00     0.00            2.00\n",
       "25%         51.00   6040000.00     2.00            2.66\n",
       "50%         70.00   8200000.00     2.00            2.90\n",
       "75%         93.00  11315000.00     3.00            3.05\n",
       "max        287.50  20000000.00    11.00            3.75"
      ]
     },
     "execution_count": 38,
     "metadata": {},
     "output_type": "execute_result"
    }
   ],
   "source": [
    "# выделим сегмент квартир в центре Санкт-Петербурга\n",
    "# посмотрим описательную статистику\n",
    "df_spb_center = df.query('locality_name == \"Санкт-Петербург\" and city_centers_nearest_km <= 8')\n",
    "round(df_spb_center[['total_area', 'last_price', 'rooms', 'ceiling_height']].describe(),2)"
   ]
  },
  {
   "cell_type": "code",
   "execution_count": 39,
   "metadata": {},
   "outputs": [
    {
     "data": {
      "text/plain": [
       "<matplotlib.legend.Legend at 0x7fe6d6ba4490>"
      ]
     },
     "execution_count": 39,
     "metadata": {},
     "output_type": "execute_result"
    },
    {
     "data": {
      "image/png": "[encoded data removed]",
      "text/plain": [
       "<Figure size 360x216 with 1 Axes>"
      ]
     },
     "metadata": {
      "needs_background": "light"
     },
     "output_type": "display_data"
    },
    {
     "data": {
      "image/png": "[encoded data removed]",
      "text/plain": [
       "<Figure size 360x360 with 1 Axes>"
      ]
     },
     "metadata": {
      "needs_background": "light"
     },
     "output_type": "display_data"
    },
    {
     "data": {
      "image/png": "[encoded data removed]",
      "text/plain": [
       "<Figure size 360x288 with 1 Axes>"
      ]
     },
     "metadata": {
      "needs_background": "light"
     },
     "output_type": "display_data"
    },
    {
     "data": {
      "image/png": "[encoded data removed]",
      "text/plain": [
       "<Figure size 360x360 with 1 Axes>"
      ]
     },
     "metadata": {
      "needs_background": "light"
     },
     "output_type": "display_data"
    }
   ],
   "source": [
    "# построим гистограммы\n",
    "df_spb_center.plot(y = 'total_area', kind = 'hist', bins = 100, grid=True, color = 'g', figsize = (5,3), range = (0,300))\n",
    "plt.legend(['Общая площадь в Санкт-Петербурге'])\n",
    "\n",
    "df_spb_center.plot(y = 'last_price', kind = 'hist', bins = 100, grid=True, color = 'g', figsize = (5,5), range = (0,20000000))\n",
    "plt.legend(['Стоимость квартиры в Санкт-Петербурге'])\n",
    "\n",
    "df_spb_center.plot(y = 'rooms', kind = 'hist', bins = 20, grid=True, color = 'g', figsize = (5,4), range = (0,8))\n",
    "plt.legend(['Количество комнат в Санкт-Петербурге'])\n",
    "\n",
    "df_spb_center.plot(y = 'ceiling_height', kind = 'hist', bins = 30, grid=True, color = 'g', figsize = (5,5), range = (2.3,4.5))\n",
    "plt.legend(['Высота потолков в Санкт-Петербурге'])"
   ]
  },
  {
   "cell_type": "markdown",
   "metadata": {},
   "source": [
    "* Основная часть квартир имеет метраж от `53м²` до `104м²`, медианное значение `86м²`. Минимальная площадь `12м²`, максимальная `900м²`. В сравнении со всей базой, средняя площадь в городе выше на `14м²`;\n",
    "* Средняя стоимость квартиры лежит в промежутке от `6.2млн` до `13млн`. , медианное значение `13.8млн`. Минимальная стоимость `1.6млн`, максимальная `763млн`. В сравнении с общей базой, средняя стоимость выше на `2млн`;\n",
    "* Превалирующее большинство квартир имеет две или три комнаты, дальше идёт спад. максимальное количество комнат: `8`, нет принципиальных отличий от общей базы, не считая выбросы;\n",
    "* Высота потолков распределена от `2.7м` до `3,5м`, медиана: `2.98м`. Есть минимальные и максимальные выбросы. В сравнении с общей базой средняя высота в городе больше на `0.16м`."
   ]
  },
  {
   "cell_type": "markdown",
   "metadata": {},
   "source": [
    "Вывод\n",
    "\n",
    "Основная часть квартир имеет метраж от 30м² до 80м², медианное значение 52м². Есть выбросы до 900м²;\n",
    "Средняя стоимость квартиры лежит в промежутке от 2.5млн до 11млн. , медианное значение 4.65млн. Есть вызывающие вопросы значения в минимуме: 12тыс, - слишком небольшая цена для квартиры. К максимальным значениям вопросов меньше;\n",
    "Превалирующее большинство квартир имеет от одной до трёх комнат, дальше идёт резкий спад. Без комнат могут быть студии, есть максимальное значение в 19 комнат;\n",
    "Высота потолков распределена от 2.5м до 3,2м, медиана: 2.65м. Есть минимальные и максимальные выбросы."
   ]
  },
  {
   "cell_type": "code",
   "execution_count": 40,
   "metadata": {},
   "outputs": [
    {
     "data": {
      "text/plain": [
       "<matplotlib.axes._subplots.AxesSubplot at 0x7fe6d6991210>"
      ]
     },
     "execution_count": 40,
     "metadata": {},
     "output_type": "execute_result"
    },
    {
     "data": {
      "image/png": "[encoded data removed]",
      "text/plain": [
       "<Figure size 648x216 with 1 Axes>"
      ]
     },
     "metadata": {
      "needs_background": "light"
     },
     "output_type": "display_data"
    }
   ],
   "source": [
    "# напишем функцию построения графиков зависимостей в Санкт-Петербурге\n",
    "def graph_plot_spb(data_column, table_name):\n",
    "    \n",
    "    plot = df_spb_center.pivot_table(index = data_column, values = 'price_sqft', aggfunc = 'median').reset_index(\n",
    "    ).sort_values(by='price_sqft').plot(x=data_column, y='price_sqft', kind='bar',\n",
    "                                       color = 'g', ec='black', legend=None, title=table_name,\n",
    "                                       fontsize=13, figsize=(9,3))\n",
    "       \n",
    "    if data_column == 'total_area_id':     \n",
    "        corrp = round(df_spb_center['total_area'].corr(df_spb_center['price_sqft']), 3)\n",
    "    elif data_column == 'floors_id':\n",
    "        corrp = round(df_spb_center['floor'].corr(df_spb_center['price_sqft']), 3)\n",
    "    elif data_column == 'city_centers_nearest_km_id':\n",
    "        corrp = round(df_spb_center['city_centers_nearest'].corr(df_spb_center['price_sqft']), 3)\n",
    "    else:\n",
    "        corrp = round(df_spb_center[data_column].corr(df_spb_center['price_sqft']), 3)\n",
    "    plot.set_xlabel(f'Коэффициент корреляции Пирсона: {corrp}')    \n",
    "    \n",
    "    plt.xticks(rotation=0)\n",
    "\n",
    "    return plot\n",
    "\n",
    "graph_plot_spb('total_area_id', 'Зависимость цены от площади в Санкт-Петербурге')"
   ]
  },
  {
   "cell_type": "code",
   "execution_count": 41,
   "metadata": {
    "scrolled": true
   },
   "outputs": [
    {
     "data": {
      "text/plain": [
       "<matplotlib.axes._subplots.AxesSubplot at 0x7fe6d6986410>"
      ]
     },
     "execution_count": 41,
     "metadata": {},
     "output_type": "execute_result"
    },
    {
     "data": {
      "image/png": "[encoded data removed]",
      "text/plain": [
       "<Figure size 648x216 with 1 Axes>"
      ]
     },
     "metadata": {
      "needs_background": "light"
     },
     "output_type": "display_data"
    }
   ],
   "source": [
    "# график зависимостей цены квартиры от количества комнат и коэффициент корреляции \n",
    "graph_plot_spb('rooms', 'Зависимость цены от количества комнат в Санкт-Петербурге')"
   ]
  },
  {
   "cell_type": "code",
   "execution_count": 42,
   "metadata": {
    "scrolled": true
   },
   "outputs": [
    {
     "data": {
      "text/plain": [
       "<matplotlib.axes._subplots.AxesSubplot at 0x7fe6d6986cd0>"
      ]
     },
     "execution_count": 42,
     "metadata": {},
     "output_type": "execute_result"
    },
    {
     "data": {
      "image/png": "[encoded data removed]",
      "text/plain": [
       "<Figure size 648x216 with 1 Axes>"
      ]
     },
     "metadata": {
      "needs_background": "light"
     },
     "output_type": "display_data"
    }
   ],
   "source": [
    "# график зависимостей цены квартиры от удалённости от центра и коэффициент корреляции \n",
    "graph_plot_spb('city_centers_nearest_km_id', 'Зависимость цены от удалённости от центра в Санкт-Петербурге')"
   ]
  },
  {
   "cell_type": "code",
   "execution_count": 43,
   "metadata": {},
   "outputs": [
    {
     "data": {
      "text/plain": [
       "<matplotlib.axes._subplots.AxesSubplot at 0x7fe6d67ee450>"
      ]
     },
     "execution_count": 43,
     "metadata": {},
     "output_type": "execute_result"
    },
    {
     "data": {
      "image/png": "[encoded data removed]",
      "text/plain": [
       "<Figure size 648x216 with 1 Axes>"
      ]
     },
     "metadata": {
      "needs_background": "light"
     },
     "output_type": "display_data"
    }
   ],
   "source": [
    "# график зависимостей цены квартиры от этажа и коэффициент корреляции \n",
    "graph_plot_spb('floors_id', 'Зависимость цены от этажа в Санкт-Петербурге')"
   ]
  },
  {
   "cell_type": "code",
   "execution_count": 44,
   "metadata": {},
   "outputs": [
    {
     "data": {
      "text/plain": [
       "<matplotlib.axes._subplots.AxesSubplot at 0x7fe6d67d55d0>"
      ]
     },
     "execution_count": 44,
     "metadata": {},
     "output_type": "execute_result"
    },
    {
     "data": {
      "image/png": "[encoded data removed]",
      "text/plain": [
       "<Figure size 432x288 with 1 Axes>"
      ]
     },
     "metadata": {
      "needs_background": "light"
     },
     "output_type": "display_data"
    }
   ],
   "source": [
    "# график зависимостей цены квартиры от дня размещения в Санкт-Петербурге\n",
    "df_spb_center.pivot_table(index = 'weekday_exposition',\n",
    "               values = 'price_sqft',\n",
    "               aggfunc = 'median').reset_index().plot(x='weekday_exposition',\n",
    "                                                      grid=True, color = 'g', legend=None,\n",
    "                                                      title='Зависимость цены от дня размещения в Санкт-Петербурге')"
   ]
  },
  {
   "cell_type": "code",
   "execution_count": 45,
   "metadata": {},
   "outputs": [
    {
     "data": {
      "text/plain": [
       "<matplotlib.axes._subplots.AxesSubplot at 0x7fe6d6822910>"
      ]
     },
     "execution_count": 45,
     "metadata": {},
     "output_type": "execute_result"
    },
    {
     "data": {
      "image/png": "[encoded data removed]",
      "text/plain": [
       "<Figure size 432x288 with 1 Axes>"
      ]
     },
     "metadata": {
      "needs_background": "light"
     },
     "output_type": "display_data"
    }
   ],
   "source": [
    "# график зависимостей цены квартиры от дня размещения в Санкт-Петербурге\n",
    "df_spb_center.pivot_table(index = 'month_exposition',\n",
    "               values = 'price_sqft',\n",
    "               aggfunc = 'median').reset_index().plot(x='month_exposition',\n",
    "                                                      grid=True, color = 'g', legend=None,\n",
    "                                                      title='Зависимость цены от месяца размещения в Санкт-Петербурге')"
   ]
  },
  {
   "cell_type": "code",
   "execution_count": 46,
   "metadata": {},
   "outputs": [
    {
     "data": {
      "text/plain": [
       "<matplotlib.axes._subplots.AxesSubplot at 0x7fe6d69c8e90>"
      ]
     },
     "execution_count": 46,
     "metadata": {},
     "output_type": "execute_result"
    },
    {
     "data": {
      "image/png": "[encoded data removed]",
      "text/plain": [
       "<Figure size 432x288 with 1 Axes>"
      ]
     },
     "metadata": {
      "needs_background": "light"
     },
     "output_type": "display_data"
    }
   ],
   "source": [
    "# график зависимостей цены квартиры от дня размещения в Санкт-Петербурге\n",
    "df_spb_center.pivot_table(index = 'year_exposition',\n",
    "               values = 'price_sqft',\n",
    "               aggfunc = 'median').reset_index().plot(x='year_exposition',\n",
    "                                                      grid=True, color = 'g', legend=None,\n",
    "                                                      title='Зависимость цены от года размещения в Санкт-Петербурге')"
   ]
  },
  {
   "cell_type": "markdown",
   "metadata": {},
   "source": [
    "**Вывод**  \n",
    "\n",
    "Санкт-Петербург:\n",
    "* Зависимость цены от площади наблюдается: коэффициент Пирсона `0,291`, чем больше площадь, тем дешевле стоимость;\n",
    "* Зависимость цены от количества комнат если и есть, то нелинейная (либо имеют большое значение артефакты): коэффициент Пирсона `0,039`, самые недорогие квартиры с `14`-ю комнатами, затем есть значения похожие на выбросы, например, самая высокая стоимость у `12`-ти комнатной квартиры. Почти одинаковая стоимость у студий, однокомнатных и двухкомнатных квартир;\n",
    "* Зависимость цены от удалённости от центра города невысокая, но есть: коэффициент Пирсона `-0,043`, самые дешёвые предложения в радиусе `3-5км`, самые дорогие `5-10км`;\n",
    "* Зависимость цены от этажа: коэффициент Пирсона `0,13` , самые недорогие квартиры на первом этаже, посередине на последнем и самые дорогие между ними;\n",
    "* Зависимость цены от дня размещения : самые недорогие в четверг, самые дорогие в субботу, причём наибольшее количество обявлений размещается в четверг (более `500`), меньше всего в выходные дни (менее `150`);\n",
    "* Зависимость цены от месяца размещения: самые недорогие предложения появляются в апреле, самые дорогие в марте (но медиана и среднее сильно различаются, что может указывать на присутствие выбросов), причём наименьшее количество объявлений размещается в мае, наибольшее в феврале, ноябре;\n",
    "* Зависимость цены от года размещения: рост до 2015 года, затем уменьшение скорости роста и всплеск с 2018 года, при этом количество предложений стало сокращаться начиная с 2017 года и более резко уменьшаться с 2018 года.\n",
    "\n",
    "\n",
    "Делая сравнение с данными по всей базе, можно заключить:  \n",
    "* Средняя площадь квартир в Санкт-Петербурге больше общей почти в полтора раза, самая маленькая и самая большая площадь находятся в Санкт-Петербурге. Площадь квартиры влияет на цену, чем меньше площадь, тем дороже квадратный метр;\n",
    "* Средняя стоимость квартир в Санкт-Петербурге больше общей почти в три раза, само распределение стоимости в Санкт-Петербурге более равномерное;\n",
    "* В Санкт-Петербурге преобладают многокомнатные квартиры, в том числе есть максимальное значение в `19` комнат. Количество комнат незначительно влияет на цену, самые дорогие это студии и однокомнатные;\n",
    "* Высота потолков в Санк-Петербурге, в среднем выше, само распределение более равномерное чем в общей базе, но есть выбросы, как, например, максимальное значение в `100м`;\n",
    "* В Санкт-Петербурге и во всей базе зависимость по удалённости от центра города различается. Наиболее дорогие предложения в радиусе `5-8км` и в радиусе менее `1км` от центра города;\n",
    "* Этажность одинаково влияет на стоимость во всех случаях: самые недорогие квартиры на первом этаже, посередине на последнем и самые дорогие между ними;\n",
    "* Зависимости от дня недели: самый \"недорогой\" день в Санкт-Петербурге - четверг, по всей базе - суббота, но везде в выходные дни количество объявлений падает;\n",
    "* Зависимость цены от месяца размещения: самые недорогие предложения появляются в апреле, самые дорогие в марте, - совпадает в городе и всей базе;\n",
    "* Зависимость цены от года размещения: спад роста стоимости после 2014 года до 2016, затем рост до 2018 года совпадает со всей базой, как и резкое сокращение предложений, что может влиять на рыночное ценообразование (не исключая внешние процессы, как экономический кризис и пр.)."
   ]
  },
  {
   "cell_type": "markdown",
   "metadata": {},
   "source": [
    "## Общий вывод"
   ]
  },
  {
   "cell_type": "markdown",
   "metadata": {},
   "source": [
    "В процессе обработки данных были удалены аномальные значение, которые могут быть связаны с автоматической работой системы удаления объявлений после определённого срока: `45`, `60` и `95` дней.\n",
    "Средняя стоимость квадратного метра в Санкт-Петербурге выше, чем за его пределами, почти в полтора раза.\n",
    "На стоимость квартиры влияет площадь: `коэффициент корреляции Пирсона 0.3`, количество комнат, этажность: `коэффициент корреляции Пирсона 0.13`, близость к центру города `коэффициент корреляции Пирсона 0.318`. Почти не имеет влияния дата размещения объявления, но, в 2014 году, были самые высокие стоимости, после которого идёт резкий спад и даже небольшой рост в 2019 году не достигает уровня 2014 года, что можно связать с внешнеэкономическими/политическими процессами."
   ]
  }
 ],
 "metadata": {
  "ExecuteTimeLog": [
   {
    "duration": 666,
    "start_time": "2022-02-19T12:12:05.164Z"
   },
   {
    "duration": 689,
    "start_time": "2022-02-19T12:12:32.455Z"
   },
   {
    "duration": 839,
    "start_time": "2022-02-19T12:19:17.427Z"
   },
   {
    "duration": 117,
    "start_time": "2022-02-19T12:21:34.796Z"
   },
   {
    "duration": 66,
    "start_time": "2022-02-19T12:48:07.048Z"
   },
   {
    "duration": 107,
    "start_time": "2022-02-19T12:50:41.331Z"
   },
   {
    "duration": 5,
    "start_time": "2022-02-19T17:26:40.576Z"
   },
   {
    "duration": 72,
    "start_time": "2022-02-19T17:31:08.417Z"
   },
   {
    "duration": 6,
    "start_time": "2022-02-19T17:31:36.739Z"
   },
   {
    "duration": 7,
    "start_time": "2022-02-19T17:31:50.174Z"
   },
   {
    "duration": 7,
    "start_time": "2022-02-19T17:32:03.898Z"
   },
   {
    "duration": 7,
    "start_time": "2022-02-19T17:42:44.224Z"
   },
   {
    "duration": 10,
    "start_time": "2022-02-19T17:45:22.614Z"
   },
   {
    "duration": 8,
    "start_time": "2022-02-19T17:45:47.633Z"
   },
   {
    "duration": 6,
    "start_time": "2022-02-19T17:51:26.272Z"
   },
   {
    "duration": 241,
    "start_time": "2022-02-19T17:53:32.318Z"
   },
   {
    "duration": 8,
    "start_time": "2022-02-19T17:53:42.848Z"
   },
   {
    "duration": 289,
    "start_time": "2022-02-19T18:00:39.753Z"
   },
   {
    "duration": 217,
    "start_time": "2022-02-19T18:01:57.682Z"
   },
   {
    "duration": 281,
    "start_time": "2022-02-19T18:02:15.409Z"
   },
   {
    "duration": 257,
    "start_time": "2022-02-19T18:02:45.144Z"
   },
   {
    "duration": 7,
    "start_time": "2022-02-19T18:04:40.824Z"
   },
   {
    "duration": 33,
    "start_time": "2022-02-19T18:06:34.091Z"
   },
   {
    "duration": 5,
    "start_time": "2022-02-19T18:11:09.273Z"
   },
   {
    "duration": 190,
    "start_time": "2022-02-19T18:16:55.896Z"
   },
   {
    "duration": 186,
    "start_time": "2022-02-19T18:20:10.885Z"
   },
   {
    "duration": 5,
    "start_time": "2022-02-19T18:22:37.542Z"
   },
   {
    "duration": 5,
    "start_time": "2022-02-19T18:24:16.410Z"
   },
   {
    "duration": 6,
    "start_time": "2022-02-19T18:24:28.950Z"
   },
   {
    "duration": 6,
    "start_time": "2022-02-19T18:26:16.200Z"
   },
   {
    "duration": 7,
    "start_time": "2022-02-19T18:31:29.294Z"
   },
   {
    "duration": 7,
    "start_time": "2022-02-19T18:31:58.745Z"
   },
   {
    "duration": 8,
    "start_time": "2022-02-19T18:32:55.773Z"
   },
   {
    "duration": 6,
    "start_time": "2022-02-19T18:33:10.898Z"
   },
   {
    "duration": 7,
    "start_time": "2022-02-19T18:34:11.874Z"
   },
   {
    "duration": 7,
    "start_time": "2022-02-19T18:34:25.508Z"
   },
   {
    "duration": 6,
    "start_time": "2022-02-19T18:34:36.624Z"
   },
   {
    "duration": 40,
    "start_time": "2022-02-19T18:45:29.924Z"
   },
   {
    "duration": 16,
    "start_time": "2022-02-19T19:28:03.690Z"
   },
   {
    "duration": 21,
    "start_time": "2022-02-19T19:30:38.139Z"
   },
   {
    "duration": 17,
    "start_time": "2022-02-19T19:32:59.189Z"
   },
   {
    "duration": 23,
    "start_time": "2022-02-19T19:33:08.500Z"
   },
   {
    "duration": 233,
    "start_time": "2022-02-19T19:33:22.946Z"
   },
   {
    "duration": 683,
    "start_time": "2022-02-19T19:33:37.199Z"
   },
   {
    "duration": 6,
    "start_time": "2022-02-19T19:33:37.884Z"
   },
   {
    "duration": 9,
    "start_time": "2022-02-19T19:33:37.892Z"
   },
   {
    "duration": 30,
    "start_time": "2022-02-19T19:33:37.903Z"
   },
   {
    "duration": 8,
    "start_time": "2022-02-19T19:33:37.934Z"
   },
   {
    "duration": 22,
    "start_time": "2022-02-19T19:33:44.942Z"
   },
   {
    "duration": 34,
    "start_time": "2022-02-19T19:37:59.582Z"
   },
   {
    "duration": 9,
    "start_time": "2022-02-19T19:42:58.039Z"
   },
   {
    "duration": 13,
    "start_time": "2022-02-19T19:43:04.817Z"
   },
   {
    "duration": 21,
    "start_time": "2022-02-19T19:43:16.726Z"
   },
   {
    "duration": 68,
    "start_time": "2022-02-19T19:45:06.895Z"
   },
   {
    "duration": 276,
    "start_time": "2022-02-19T19:45:13.969Z"
   },
   {
    "duration": 346,
    "start_time": "2022-02-19T19:45:33.904Z"
   },
   {
    "duration": 204,
    "start_time": "2022-02-19T19:46:15.652Z"
   },
   {
    "duration": 236,
    "start_time": "2022-02-19T19:48:31.328Z"
   },
   {
    "duration": 191,
    "start_time": "2022-02-19T19:48:55.952Z"
   },
   {
    "duration": 192,
    "start_time": "2022-02-19T19:49:54.672Z"
   },
   {
    "duration": 60,
    "start_time": "2022-02-19T19:51:35.368Z"
   },
   {
    "duration": 21,
    "start_time": "2022-02-19T19:51:43.919Z"
   },
   {
    "duration": 205,
    "start_time": "2022-02-19T19:52:07.213Z"
   },
   {
    "duration": 697,
    "start_time": "2022-02-19T19:52:48.322Z"
   },
   {
    "duration": 10,
    "start_time": "2022-02-19T19:52:49.021Z"
   },
   {
    "duration": 8,
    "start_time": "2022-02-19T19:52:49.033Z"
   },
   {
    "duration": 11,
    "start_time": "2022-02-19T19:52:49.043Z"
   },
   {
    "duration": 11,
    "start_time": "2022-02-19T19:52:49.056Z"
   },
   {
    "duration": 9,
    "start_time": "2022-02-19T19:52:49.069Z"
   },
   {
    "duration": 20,
    "start_time": "2022-02-19T19:53:05.692Z"
   },
   {
    "duration": 708,
    "start_time": "2022-02-19T19:54:31.811Z"
   },
   {
    "duration": 11,
    "start_time": "2022-02-19T19:54:32.521Z"
   },
   {
    "duration": 7,
    "start_time": "2022-02-19T19:54:32.534Z"
   },
   {
    "duration": 11,
    "start_time": "2022-02-19T19:54:32.542Z"
   },
   {
    "duration": 7,
    "start_time": "2022-02-19T19:54:32.555Z"
   },
   {
    "duration": 129,
    "start_time": "2022-02-19T19:54:32.564Z"
   },
   {
    "duration": 88,
    "start_time": "2022-02-19T19:54:43.990Z"
   },
   {
    "duration": 290,
    "start_time": "2022-02-19T19:55:23.239Z"
   },
   {
    "duration": 207,
    "start_time": "2022-02-19T19:55:26.434Z"
   },
   {
    "duration": 678,
    "start_time": "2022-02-19T19:56:09.547Z"
   },
   {
    "duration": 5,
    "start_time": "2022-02-19T19:56:10.230Z"
   },
   {
    "duration": 7,
    "start_time": "2022-02-19T19:56:10.238Z"
   },
   {
    "duration": 12,
    "start_time": "2022-02-19T19:56:10.247Z"
   },
   {
    "duration": 7,
    "start_time": "2022-02-19T19:56:10.261Z"
   },
   {
    "duration": 113,
    "start_time": "2022-02-19T19:56:10.270Z"
   },
   {
    "duration": 79,
    "start_time": "2022-02-19T19:56:16.013Z"
   },
   {
    "duration": 110,
    "start_time": "2022-02-19T19:56:19.806Z"
   },
   {
    "duration": 740,
    "start_time": "2022-02-19T19:57:04.526Z"
   },
   {
    "duration": 7,
    "start_time": "2022-02-19T19:57:05.268Z"
   },
   {
    "duration": 9,
    "start_time": "2022-02-19T19:57:05.277Z"
   },
   {
    "duration": 12,
    "start_time": "2022-02-19T19:57:05.288Z"
   },
   {
    "duration": 29,
    "start_time": "2022-02-19T19:57:05.302Z"
   },
   {
    "duration": 82,
    "start_time": "2022-02-19T19:57:05.333Z"
   },
   {
    "duration": 81,
    "start_time": "2022-02-19T19:57:10.558Z"
   },
   {
    "duration": 80,
    "start_time": "2022-02-19T19:57:13.188Z"
   },
   {
    "duration": 86,
    "start_time": "2022-02-19T19:57:26.723Z"
   },
   {
    "duration": 902,
    "start_time": "2022-02-23T17:56:23.841Z"
   },
   {
    "duration": 9,
    "start_time": "2022-02-23T17:56:24.747Z"
   },
   {
    "duration": 8,
    "start_time": "2022-02-23T17:56:24.760Z"
   },
   {
    "duration": 16,
    "start_time": "2022-02-23T17:56:24.794Z"
   },
   {
    "duration": 12,
    "start_time": "2022-02-23T17:56:24.812Z"
   },
   {
    "duration": 28,
    "start_time": "2022-02-23T17:56:24.826Z"
   },
   {
    "duration": 91,
    "start_time": "2022-02-23T17:56:24.856Z"
   },
   {
    "duration": 16,
    "start_time": "2022-02-23T17:56:24.949Z"
   },
   {
    "duration": 30,
    "start_time": "2022-02-23T17:56:24.968Z"
   },
   {
    "duration": 722,
    "start_time": "2022-02-23T17:56:25.001Z"
   },
   {
    "duration": -48,
    "start_time": "2022-02-23T17:56:25.775Z"
   },
   {
    "duration": 15,
    "start_time": "2022-02-23T17:56:44.729Z"
   },
   {
    "duration": 14,
    "start_time": "2022-02-23T17:56:56.869Z"
   },
   {
    "duration": 12,
    "start_time": "2022-02-23T17:57:05.167Z"
   },
   {
    "duration": 8,
    "start_time": "2022-02-23T17:57:59.976Z"
   },
   {
    "duration": 10,
    "start_time": "2022-02-23T18:00:00.130Z"
   },
   {
    "duration": 949,
    "start_time": "2022-02-23T18:02:15.769Z"
   },
   {
    "duration": 8,
    "start_time": "2022-02-23T18:02:16.721Z"
   },
   {
    "duration": 12,
    "start_time": "2022-02-23T18:02:16.732Z"
   },
   {
    "duration": 49,
    "start_time": "2022-02-23T18:02:16.746Z"
   },
   {
    "duration": 12,
    "start_time": "2022-02-23T18:02:16.798Z"
   },
   {
    "duration": 17,
    "start_time": "2022-02-23T18:02:16.813Z"
   },
   {
    "duration": 14,
    "start_time": "2022-02-23T18:02:57.397Z"
   },
   {
    "duration": 11,
    "start_time": "2022-02-23T18:03:14.741Z"
   },
   {
    "duration": 9,
    "start_time": "2022-02-23T18:03:27.461Z"
   },
   {
    "duration": 10,
    "start_time": "2022-02-23T18:03:35.305Z"
   },
   {
    "duration": 9,
    "start_time": "2022-02-23T18:03:45.161Z"
   },
   {
    "duration": 7,
    "start_time": "2022-02-23T18:04:24.821Z"
   },
   {
    "duration": 311,
    "start_time": "2022-02-23T18:06:37.906Z"
   },
   {
    "duration": 3023,
    "start_time": "2022-02-23T18:06:52.588Z"
   },
   {
    "duration": 18,
    "start_time": "2022-02-23T18:26:47.854Z"
   },
   {
    "duration": 11,
    "start_time": "2022-02-23T18:27:22.303Z"
   },
   {
    "duration": 17,
    "start_time": "2022-02-23T18:29:18.074Z"
   },
   {
    "duration": 9,
    "start_time": "2022-02-23T18:29:26.428Z"
   },
   {
    "duration": 16,
    "start_time": "2022-02-23T18:31:12.749Z"
   },
   {
    "duration": 14,
    "start_time": "2022-02-23T18:31:21.676Z"
   },
   {
    "duration": 8,
    "start_time": "2022-02-23T18:31:25.920Z"
   },
   {
    "duration": 10,
    "start_time": "2022-02-23T18:31:32.310Z"
   },
   {
    "duration": 81,
    "start_time": "2022-02-23T18:32:24.929Z"
   },
   {
    "duration": 9,
    "start_time": "2022-02-23T18:32:42.842Z"
   },
   {
    "duration": 12,
    "start_time": "2022-02-23T18:33:22.789Z"
   },
   {
    "duration": 591,
    "start_time": "2022-02-23T19:00:13.621Z"
   },
   {
    "duration": 629,
    "start_time": "2022-02-23T19:00:29.536Z"
   },
   {
    "duration": 665,
    "start_time": "2022-02-23T19:02:37.333Z"
   },
   {
    "duration": 642,
    "start_time": "2022-02-23T19:05:21.871Z"
   },
   {
    "duration": 14,
    "start_time": "2022-02-23T19:10:26.389Z"
   },
   {
    "duration": 598,
    "start_time": "2022-02-23T19:10:32.690Z"
   },
   {
    "duration": 668,
    "start_time": "2022-02-23T19:10:56.467Z"
   },
   {
    "duration": 9,
    "start_time": "2022-02-23T19:11:45.683Z"
   },
   {
    "duration": 13,
    "start_time": "2022-02-23T19:11:53.257Z"
   },
   {
    "duration": 648,
    "start_time": "2022-02-23T19:11:58.073Z"
   },
   {
    "duration": 591,
    "start_time": "2022-02-23T19:12:16.973Z"
   },
   {
    "duration": 583,
    "start_time": "2022-02-23T19:12:36.833Z"
   },
   {
    "duration": 987,
    "start_time": "2022-02-23T19:13:48.820Z"
   },
   {
    "duration": 882,
    "start_time": "2022-02-23T19:14:33.313Z"
   },
   {
    "duration": 8,
    "start_time": "2022-02-23T19:14:34.198Z"
   },
   {
    "duration": 8,
    "start_time": "2022-02-23T19:14:34.210Z"
   },
   {
    "duration": 20,
    "start_time": "2022-02-23T19:14:34.221Z"
   },
   {
    "duration": 50,
    "start_time": "2022-02-23T19:14:34.245Z"
   },
   {
    "duration": 22,
    "start_time": "2022-02-23T19:14:34.299Z"
   },
   {
    "duration": 8,
    "start_time": "2022-02-23T19:14:34.324Z"
   },
   {
    "duration": 16,
    "start_time": "2022-02-23T19:14:34.336Z"
   },
   {
    "duration": 38,
    "start_time": "2022-02-23T19:14:34.355Z"
   },
   {
    "duration": 14,
    "start_time": "2022-02-23T19:14:34.396Z"
   },
   {
    "duration": 7,
    "start_time": "2022-02-23T19:14:34.413Z"
   },
   {
    "duration": 18,
    "start_time": "2022-02-23T19:14:34.423Z"
   },
   {
    "duration": 1065,
    "start_time": "2022-02-23T19:14:34.444Z"
   },
   {
    "duration": 1008,
    "start_time": "2022-02-23T19:14:54.163Z"
   },
   {
    "duration": 1098,
    "start_time": "2022-02-23T19:15:50.822Z"
   },
   {
    "duration": 1022,
    "start_time": "2022-02-23T19:16:07.773Z"
   },
   {
    "duration": 1063,
    "start_time": "2022-02-23T19:16:19.518Z"
   },
   {
    "duration": 1044,
    "start_time": "2022-02-23T19:18:30.022Z"
   },
   {
    "duration": 1096,
    "start_time": "2022-02-23T19:18:46.324Z"
   },
   {
    "duration": 1073,
    "start_time": "2022-02-23T19:18:59.345Z"
   },
   {
    "duration": 1028,
    "start_time": "2022-02-23T19:19:07.053Z"
   },
   {
    "duration": 8,
    "start_time": "2022-02-23T19:19:35.091Z"
   },
   {
    "duration": 343,
    "start_time": "2022-02-23T19:19:49.233Z"
   },
   {
    "duration": 39,
    "start_time": "2022-02-23T19:19:55.281Z"
   },
   {
    "duration": 40,
    "start_time": "2022-02-23T19:44:08.686Z"
   },
   {
    "duration": 10,
    "start_time": "2022-02-23T19:59:18.043Z"
   },
   {
    "duration": 962,
    "start_time": "2022-02-23T19:59:57.901Z"
   },
   {
    "duration": 29,
    "start_time": "2022-02-23T19:59:58.866Z"
   },
   {
    "duration": 10,
    "start_time": "2022-02-23T19:59:58.898Z"
   },
   {
    "duration": 17,
    "start_time": "2022-02-23T19:59:58.911Z"
   },
   {
    "duration": 14,
    "start_time": "2022-02-23T19:59:58.931Z"
   },
   {
    "duration": 59,
    "start_time": "2022-02-23T19:59:58.947Z"
   },
   {
    "duration": 8,
    "start_time": "2022-02-23T19:59:59.009Z"
   },
   {
    "duration": 11,
    "start_time": "2022-02-23T19:59:59.021Z"
   },
   {
    "duration": 11,
    "start_time": "2022-02-23T20:42:07.020Z"
   },
   {
    "duration": 854,
    "start_time": "2022-02-23T20:43:18.713Z"
   },
   {
    "duration": 24,
    "start_time": "2022-02-23T20:43:19.571Z"
   },
   {
    "duration": 11,
    "start_time": "2022-02-23T20:43:19.599Z"
   },
   {
    "duration": 16,
    "start_time": "2022-02-23T20:43:19.613Z"
   },
   {
    "duration": 12,
    "start_time": "2022-02-23T20:43:19.631Z"
   },
   {
    "duration": 62,
    "start_time": "2022-02-23T20:43:19.645Z"
   },
   {
    "duration": 10,
    "start_time": "2022-02-23T20:43:28.363Z"
   },
   {
    "duration": 821,
    "start_time": "2022-02-23T20:43:51.628Z"
   },
   {
    "duration": 10,
    "start_time": "2022-02-23T20:43:52.453Z"
   },
   {
    "duration": 33,
    "start_time": "2022-02-23T20:43:52.467Z"
   },
   {
    "duration": 20,
    "start_time": "2022-02-23T20:43:52.503Z"
   },
   {
    "duration": 19,
    "start_time": "2022-02-23T20:43:52.526Z"
   },
   {
    "duration": 47,
    "start_time": "2022-02-23T20:43:52.548Z"
   },
   {
    "duration": 841,
    "start_time": "2022-02-23T21:07:50.038Z"
   },
   {
    "duration": 17,
    "start_time": "2022-02-23T21:07:50.882Z"
   },
   {
    "duration": 7,
    "start_time": "2022-02-23T21:07:50.901Z"
   },
   {
    "duration": 16,
    "start_time": "2022-02-23T21:07:50.911Z"
   },
   {
    "duration": 11,
    "start_time": "2022-02-23T21:07:50.930Z"
   },
   {
    "duration": 60,
    "start_time": "2022-02-23T21:07:50.943Z"
   },
   {
    "duration": 10,
    "start_time": "2022-02-23T21:07:51.005Z"
   },
   {
    "duration": 25,
    "start_time": "2022-02-23T21:07:51.017Z"
   },
   {
    "duration": 14,
    "start_time": "2022-02-23T21:07:51.046Z"
   },
   {
    "duration": 37,
    "start_time": "2022-02-23T21:07:51.062Z"
   },
   {
    "duration": 18,
    "start_time": "2022-02-23T21:07:51.102Z"
   },
   {
    "duration": 1058,
    "start_time": "2022-02-23T21:07:51.122Z"
   },
   {
    "duration": 45,
    "start_time": "2022-02-23T21:07:52.183Z"
   },
   {
    "duration": 9,
    "start_time": "2022-02-23T21:08:47.215Z"
   },
   {
    "duration": 9,
    "start_time": "2022-02-23T21:10:16.732Z"
   },
   {
    "duration": 10,
    "start_time": "2022-02-23T21:11:10.079Z"
   },
   {
    "duration": 10,
    "start_time": "2022-02-23T21:11:13.573Z"
   },
   {
    "duration": 10,
    "start_time": "2022-02-23T21:11:22.257Z"
   },
   {
    "duration": 9,
    "start_time": "2022-02-23T21:11:52.888Z"
   },
   {
    "duration": 352,
    "start_time": "2022-02-28T19:17:15.661Z"
   },
   {
    "duration": 892,
    "start_time": "2022-02-28T19:18:44.784Z"
   },
   {
    "duration": 11,
    "start_time": "2022-02-28T19:18:45.686Z"
   },
   {
    "duration": 10,
    "start_time": "2022-02-28T19:18:45.700Z"
   },
   {
    "duration": 16,
    "start_time": "2022-02-28T19:18:45.713Z"
   },
   {
    "duration": 58,
    "start_time": "2022-02-28T19:18:45.732Z"
   },
   {
    "duration": 17,
    "start_time": "2022-02-28T19:18:45.792Z"
   },
   {
    "duration": 10,
    "start_time": "2022-02-28T19:18:45.811Z"
   },
   {
    "duration": 17,
    "start_time": "2022-02-28T19:18:45.826Z"
   },
   {
    "duration": 52,
    "start_time": "2022-02-28T19:18:45.846Z"
   },
   {
    "duration": 14,
    "start_time": "2022-02-28T19:18:45.901Z"
   },
   {
    "duration": 17,
    "start_time": "2022-02-28T19:18:45.917Z"
   },
   {
    "duration": 1162,
    "start_time": "2022-02-28T19:18:45.937Z"
   },
   {
    "duration": 36,
    "start_time": "2022-02-28T19:18:47.101Z"
   },
   {
    "duration": 10,
    "start_time": "2022-02-28T19:18:47.140Z"
   },
   {
    "duration": 6009,
    "start_time": "2022-02-28T19:43:33.499Z"
   },
   {
    "duration": 36,
    "start_time": "2022-02-28T19:43:57.423Z"
   },
   {
    "duration": 14,
    "start_time": "2022-02-28T19:48:48.821Z"
   },
   {
    "duration": 244,
    "start_time": "2022-02-28T19:52:36.989Z"
   },
   {
    "duration": 1562,
    "start_time": "2022-02-28T19:52:44.993Z"
   },
   {
    "duration": 620,
    "start_time": "2022-02-28T19:53:02.370Z"
   },
   {
    "duration": 5672,
    "start_time": "2022-02-28T19:58:13.982Z"
   },
   {
    "duration": 14,
    "start_time": "2022-02-28T19:58:55.353Z"
   },
   {
    "duration": 1000,
    "start_time": "2022-02-28T20:00:03.272Z"
   },
   {
    "duration": 1972,
    "start_time": "2022-02-28T20:00:24.459Z"
   },
   {
    "duration": 9277,
    "start_time": "2022-02-28T20:00:44.216Z"
   },
   {
    "duration": 663,
    "start_time": "2022-02-28T20:05:00.000Z"
   },
   {
    "duration": 953,
    "start_time": "2022-02-28T20:07:20.283Z"
   },
   {
    "duration": 622,
    "start_time": "2022-02-28T20:07:49.252Z"
   },
   {
    "duration": 1330,
    "start_time": "2022-02-28T20:09:55.116Z"
   },
   {
    "duration": 1214,
    "start_time": "2022-02-28T20:11:55.029Z"
   },
   {
    "duration": 1224,
    "start_time": "2022-02-28T20:12:05.049Z"
   },
   {
    "duration": 1464,
    "start_time": "2022-02-28T20:12:35.537Z"
   },
   {
    "duration": 2669,
    "start_time": "2022-02-28T20:12:58.119Z"
   },
   {
    "duration": 1728,
    "start_time": "2022-02-28T20:13:27.730Z"
   },
   {
    "duration": 1335,
    "start_time": "2022-02-28T20:13:52.001Z"
   },
   {
    "duration": 1392,
    "start_time": "2022-02-28T20:14:03.477Z"
   },
   {
    "duration": 1495,
    "start_time": "2022-02-28T20:14:11.951Z"
   },
   {
    "duration": 1363,
    "start_time": "2022-02-28T20:14:22.181Z"
   },
   {
    "duration": 2141,
    "start_time": "2022-02-28T20:14:29.697Z"
   },
   {
    "duration": 1583,
    "start_time": "2022-02-28T20:14:46.781Z"
   },
   {
    "duration": 1888,
    "start_time": "2022-02-28T20:15:12.974Z"
   },
   {
    "duration": 2036,
    "start_time": "2022-02-28T20:15:31.242Z"
   },
   {
    "duration": 2817,
    "start_time": "2022-02-28T20:15:48.552Z"
   },
   {
    "duration": 1749,
    "start_time": "2022-02-28T20:15:57.148Z"
   },
   {
    "duration": 1951,
    "start_time": "2022-02-28T20:16:14.565Z"
   },
   {
    "duration": 1613,
    "start_time": "2022-02-28T20:16:41.719Z"
   },
   {
    "duration": 2405,
    "start_time": "2022-02-28T20:16:55.351Z"
   },
   {
    "duration": 2623,
    "start_time": "2022-02-28T20:17:03.989Z"
   },
   {
    "duration": 2548,
    "start_time": "2022-02-28T20:17:11.939Z"
   },
   {
    "duration": 1622,
    "start_time": "2022-02-28T20:17:19.337Z"
   },
   {
    "duration": 2278,
    "start_time": "2022-02-28T20:17:30.524Z"
   },
   {
    "duration": 1695,
    "start_time": "2022-02-28T20:17:51.226Z"
   },
   {
    "duration": 1655,
    "start_time": "2022-02-28T20:17:59.625Z"
   },
   {
    "duration": 1926,
    "start_time": "2022-02-28T20:18:06.330Z"
   },
   {
    "duration": 1674,
    "start_time": "2022-02-28T20:18:30.226Z"
   },
   {
    "duration": 1658,
    "start_time": "2022-02-28T20:18:45.346Z"
   },
   {
    "duration": 1992,
    "start_time": "2022-02-28T20:18:59.581Z"
   },
   {
    "duration": 1627,
    "start_time": "2022-02-28T20:19:05.297Z"
   },
   {
    "duration": 1603,
    "start_time": "2022-02-28T20:19:10.444Z"
   },
   {
    "duration": 1880,
    "start_time": "2022-02-28T20:19:56.377Z"
   },
   {
    "duration": 1762,
    "start_time": "2022-02-28T20:20:04.856Z"
   },
   {
    "duration": 1663,
    "start_time": "2022-02-28T20:20:28.790Z"
   },
   {
    "duration": 1854,
    "start_time": "2022-02-28T20:20:39.050Z"
   },
   {
    "duration": 1649,
    "start_time": "2022-02-28T20:20:52.864Z"
   },
   {
    "duration": 2040,
    "start_time": "2022-02-28T20:22:26.617Z"
   },
   {
    "duration": 2425,
    "start_time": "2022-02-28T20:22:42.308Z"
   },
   {
    "duration": 2116,
    "start_time": "2022-02-28T20:22:56.963Z"
   },
   {
    "duration": 2109,
    "start_time": "2022-02-28T20:23:04.870Z"
   },
   {
    "duration": 2249,
    "start_time": "2022-02-28T20:23:40.014Z"
   },
   {
    "duration": 2168,
    "start_time": "2022-02-28T20:24:03.205Z"
   },
   {
    "duration": 1990,
    "start_time": "2022-02-28T20:24:25.556Z"
   },
   {
    "duration": 2021,
    "start_time": "2022-02-28T20:25:06.735Z"
   },
   {
    "duration": 30,
    "start_time": "2022-02-28T20:32:20.324Z"
   },
   {
    "duration": 34,
    "start_time": "2022-02-28T20:35:15.279Z"
   },
   {
    "duration": 2810,
    "start_time": "2022-02-28T20:37:42.296Z"
   },
   {
    "duration": 2179,
    "start_time": "2022-02-28T20:38:28.108Z"
   },
   {
    "duration": 2183,
    "start_time": "2022-02-28T20:38:39.554Z"
   },
   {
    "duration": 2402,
    "start_time": "2022-02-28T20:38:50.939Z"
   },
   {
    "duration": 2244,
    "start_time": "2022-02-28T20:39:08.834Z"
   },
   {
    "duration": 2166,
    "start_time": "2022-02-28T20:39:17.176Z"
   },
   {
    "duration": 2516,
    "start_time": "2022-02-28T20:39:29.925Z"
   },
   {
    "duration": 2133,
    "start_time": "2022-02-28T20:39:38.070Z"
   },
   {
    "duration": 2215,
    "start_time": "2022-02-28T20:39:46.321Z"
   },
   {
    "duration": 30,
    "start_time": "2022-02-28T20:59:07.127Z"
   },
   {
    "duration": 34,
    "start_time": "2022-02-28T21:00:46.345Z"
   },
   {
    "duration": 29,
    "start_time": "2022-02-28T21:02:51.156Z"
   },
   {
    "duration": 33,
    "start_time": "2022-02-28T21:04:10.378Z"
   },
   {
    "duration": 2129,
    "start_time": "2022-02-28T21:07:58.834Z"
   },
   {
    "duration": 2493,
    "start_time": "2022-02-28T21:08:09.289Z"
   },
   {
    "duration": 2303,
    "start_time": "2022-02-28T21:09:22.671Z"
   },
   {
    "duration": 2878,
    "start_time": "2022-02-28T21:09:52.312Z"
   },
   {
    "duration": 12,
    "start_time": "2022-02-28T21:10:39.952Z"
   },
   {
    "duration": 16,
    "start_time": "2022-02-28T21:10:59.783Z"
   },
   {
    "duration": 423,
    "start_time": "2022-02-28T21:14:06.898Z"
   },
   {
    "duration": 424,
    "start_time": "2022-02-28T21:14:26.054Z"
   },
   {
    "duration": 331,
    "start_time": "2022-02-28T21:14:42.628Z"
   },
   {
    "duration": 1005,
    "start_time": "2022-02-28T21:14:47.789Z"
   },
   {
    "duration": 491,
    "start_time": "2022-02-28T21:14:58.769Z"
   },
   {
    "duration": 479,
    "start_time": "2022-02-28T21:15:05.293Z"
   },
   {
    "duration": 439,
    "start_time": "2022-02-28T21:15:29.130Z"
   },
   {
    "duration": 483,
    "start_time": "2022-02-28T21:19:24.846Z"
   },
   {
    "duration": 453,
    "start_time": "2022-02-28T21:19:32.750Z"
   },
   {
    "duration": 5729,
    "start_time": "2022-02-28T21:19:47.228Z"
   },
   {
    "duration": 731,
    "start_time": "2022-02-28T21:20:05.556Z"
   },
   {
    "duration": 512,
    "start_time": "2022-02-28T21:20:36.147Z"
   },
   {
    "duration": 450,
    "start_time": "2022-02-28T21:20:46.133Z"
   },
   {
    "duration": 506,
    "start_time": "2022-02-28T21:20:57.503Z"
   },
   {
    "duration": 595,
    "start_time": "2022-02-28T21:21:36.864Z"
   },
   {
    "duration": 71,
    "start_time": "2022-02-28T21:37:28.271Z"
   },
   {
    "duration": 20,
    "start_time": "2022-02-28T21:38:32.594Z"
   },
   {
    "duration": 436,
    "start_time": "2022-02-28T21:39:40.066Z"
   },
   {
    "duration": 370,
    "start_time": "2022-02-28T21:42:02.927Z"
   },
   {
    "duration": 370,
    "start_time": "2022-02-28T21:42:19.684Z"
   },
   {
    "duration": 376,
    "start_time": "2022-02-28T21:42:52.011Z"
   },
   {
    "duration": 397,
    "start_time": "2022-02-28T21:43:26.120Z"
   },
   {
    "duration": 21,
    "start_time": "2022-02-28T21:44:29.376Z"
   },
   {
    "duration": 532,
    "start_time": "2022-02-28T21:44:33.008Z"
   },
   {
    "duration": 371,
    "start_time": "2022-02-28T21:44:45.112Z"
   },
   {
    "duration": 386,
    "start_time": "2022-02-28T21:44:48.337Z"
   },
   {
    "duration": 21,
    "start_time": "2022-02-28T21:45:50.633Z"
   },
   {
    "duration": 775,
    "start_time": "2022-02-28T21:45:54.533Z"
   },
   {
    "duration": 383,
    "start_time": "2022-02-28T21:47:45.207Z"
   },
   {
    "duration": 383,
    "start_time": "2022-02-28T21:48:40.694Z"
   },
   {
    "duration": 376,
    "start_time": "2022-02-28T21:48:49.242Z"
   },
   {
    "duration": 934,
    "start_time": "2022-02-28T21:52:05.972Z"
   },
   {
    "duration": 9,
    "start_time": "2022-02-28T21:52:06.909Z"
   },
   {
    "duration": 13,
    "start_time": "2022-02-28T21:52:06.921Z"
   },
   {
    "duration": 15,
    "start_time": "2022-02-28T21:52:06.938Z"
   },
   {
    "duration": 39,
    "start_time": "2022-02-28T21:52:06.956Z"
   },
   {
    "duration": 25,
    "start_time": "2022-02-28T21:52:06.998Z"
   },
   {
    "duration": 14,
    "start_time": "2022-02-28T21:52:07.026Z"
   },
   {
    "duration": 47,
    "start_time": "2022-02-28T21:52:07.043Z"
   },
   {
    "duration": 14,
    "start_time": "2022-02-28T21:52:07.094Z"
   },
   {
    "duration": 13,
    "start_time": "2022-02-28T21:52:07.110Z"
   },
   {
    "duration": 16,
    "start_time": "2022-02-28T21:52:07.125Z"
   },
   {
    "duration": 1048,
    "start_time": "2022-02-28T21:52:07.143Z"
   },
   {
    "duration": 38,
    "start_time": "2022-02-28T21:52:08.193Z"
   },
   {
    "duration": 62,
    "start_time": "2022-02-28T21:52:08.233Z"
   },
   {
    "duration": 2104,
    "start_time": "2022-02-28T21:52:08.298Z"
   },
   {
    "duration": 14,
    "start_time": "2022-02-28T21:52:10.404Z"
   },
   {
    "duration": 440,
    "start_time": "2022-02-28T21:52:10.420Z"
   },
   {
    "duration": 381,
    "start_time": "2022-02-28T21:52:10.863Z"
   },
   {
    "duration": 391,
    "start_time": "2022-02-28T21:52:11.247Z"
   },
   {
    "duration": 23,
    "start_time": "2022-02-28T21:52:11.640Z"
   },
   {
    "duration": 451,
    "start_time": "2022-02-28T21:52:11.665Z"
   },
   {
    "duration": 13,
    "start_time": "2022-02-28T21:53:46.535Z"
   },
   {
    "duration": 73,
    "start_time": "2022-02-28T21:54:24.621Z"
   },
   {
    "duration": 7,
    "start_time": "2022-02-28T21:54:29.707Z"
   },
   {
    "duration": 320,
    "start_time": "2022-02-28T21:54:47.783Z"
   },
   {
    "duration": 9,
    "start_time": "2022-02-28T21:54:56.242Z"
   },
   {
    "duration": 10,
    "start_time": "2022-02-28T21:55:30.579Z"
   },
   {
    "duration": 11,
    "start_time": "2022-02-28T21:55:48.909Z"
   },
   {
    "duration": 386,
    "start_time": "2022-02-28T21:57:25.602Z"
   },
   {
    "duration": 10,
    "start_time": "2022-02-28T21:58:04.768Z"
   },
   {
    "duration": 820,
    "start_time": "2022-02-28T22:00:06.327Z"
   },
   {
    "duration": 9,
    "start_time": "2022-02-28T22:00:07.149Z"
   },
   {
    "duration": 8,
    "start_time": "2022-02-28T22:00:07.161Z"
   },
   {
    "duration": 14,
    "start_time": "2022-02-28T22:00:07.188Z"
   },
   {
    "duration": 9,
    "start_time": "2022-02-28T22:00:07.204Z"
   },
   {
    "duration": 18,
    "start_time": "2022-02-28T22:00:07.216Z"
   },
   {
    "duration": 9,
    "start_time": "2022-02-28T22:00:07.236Z"
   },
   {
    "duration": 10,
    "start_time": "2022-02-28T22:00:07.288Z"
   },
   {
    "duration": 14,
    "start_time": "2022-02-28T22:00:07.302Z"
   },
   {
    "duration": 11,
    "start_time": "2022-02-28T22:00:07.319Z"
   },
   {
    "duration": 63,
    "start_time": "2022-02-28T22:00:07.332Z"
   },
   {
    "duration": 1114,
    "start_time": "2022-02-28T22:00:07.398Z"
   },
   {
    "duration": 36,
    "start_time": "2022-02-28T22:00:08.515Z"
   },
   {
    "duration": 60,
    "start_time": "2022-02-28T22:00:08.553Z"
   },
   {
    "duration": 2098,
    "start_time": "2022-02-28T22:00:08.616Z"
   },
   {
    "duration": 15,
    "start_time": "2022-02-28T22:00:10.716Z"
   },
   {
    "duration": 456,
    "start_time": "2022-02-28T22:00:10.734Z"
   },
   {
    "duration": 402,
    "start_time": "2022-02-28T22:00:11.193Z"
   },
   {
    "duration": 10,
    "start_time": "2022-02-28T22:00:11.598Z"
   },
   {
    "duration": 511,
    "start_time": "2022-02-28T22:00:11.610Z"
   },
   {
    "duration": 10,
    "start_time": "2022-02-28T22:00:12.123Z"
   },
   {
    "duration": 87,
    "start_time": "2022-02-28T22:00:12.135Z"
   },
   {
    "duration": -92,
    "start_time": "2022-02-28T22:00:12.316Z"
   },
   {
    "duration": 27,
    "start_time": "2022-02-28T22:01:19.169Z"
   },
   {
    "duration": 442,
    "start_time": "2022-02-28T22:01:21.434Z"
   },
   {
    "duration": 25,
    "start_time": "2022-02-28T22:02:52.652Z"
   },
   {
    "duration": 452,
    "start_time": "2022-02-28T22:02:55.637Z"
   },
   {
    "duration": 11,
    "start_time": "2022-02-28T22:03:06.992Z"
   },
   {
    "duration": 448,
    "start_time": "2022-02-28T22:03:47.792Z"
   },
   {
    "duration": 363,
    "start_time": "2022-02-28T22:04:10.427Z"
   },
   {
    "duration": 25,
    "start_time": "2022-02-28T22:04:31.893Z"
   },
   {
    "duration": 9,
    "start_time": "2022-02-28T22:04:43.654Z"
   },
   {
    "duration": 391,
    "start_time": "2022-02-28T22:05:22.835Z"
   },
   {
    "duration": 31,
    "start_time": "2022-02-28T22:05:46.986Z"
   },
   {
    "duration": 34,
    "start_time": "2022-02-28T22:05:52.849Z"
   },
   {
    "duration": 472,
    "start_time": "2022-02-28T22:05:57.934Z"
   },
   {
    "duration": 9,
    "start_time": "2022-02-28T22:06:02.422Z"
   },
   {
    "duration": 122,
    "start_time": "2022-02-28T22:08:33.668Z"
   },
   {
    "duration": 19,
    "start_time": "2022-02-28T22:08:54.832Z"
   },
   {
    "duration": 1062,
    "start_time": "2022-02-28T22:09:01.781Z"
   },
   {
    "duration": 8,
    "start_time": "2022-02-28T22:09:02.846Z"
   },
   {
    "duration": 30,
    "start_time": "2022-02-28T22:09:02.857Z"
   },
   {
    "duration": 16,
    "start_time": "2022-02-28T22:09:02.889Z"
   },
   {
    "duration": 17,
    "start_time": "2022-02-28T22:09:02.907Z"
   },
   {
    "duration": 40,
    "start_time": "2022-02-28T22:09:02.926Z"
   },
   {
    "duration": 21,
    "start_time": "2022-02-28T22:09:02.969Z"
   },
   {
    "duration": 10,
    "start_time": "2022-02-28T22:09:02.992Z"
   },
   {
    "duration": 14,
    "start_time": "2022-02-28T22:09:03.006Z"
   },
   {
    "duration": 13,
    "start_time": "2022-02-28T22:09:03.023Z"
   },
   {
    "duration": 57,
    "start_time": "2022-02-28T22:09:03.038Z"
   },
   {
    "duration": 1125,
    "start_time": "2022-02-28T22:09:03.098Z"
   },
   {
    "duration": 39,
    "start_time": "2022-02-28T22:09:04.226Z"
   },
   {
    "duration": 55,
    "start_time": "2022-02-28T22:09:04.268Z"
   },
   {
    "duration": 2168,
    "start_time": "2022-02-28T22:09:04.325Z"
   },
   {
    "duration": 16,
    "start_time": "2022-02-28T22:09:06.496Z"
   },
   {
    "duration": 473,
    "start_time": "2022-02-28T22:09:06.514Z"
   },
   {
    "duration": 400,
    "start_time": "2022-02-28T22:09:06.989Z"
   },
   {
    "duration": 12,
    "start_time": "2022-02-28T22:09:07.391Z"
   },
   {
    "duration": 413,
    "start_time": "2022-02-28T22:09:07.406Z"
   },
   {
    "duration": 9,
    "start_time": "2022-02-28T22:09:07.822Z"
   },
   {
    "duration": 23,
    "start_time": "2022-02-28T22:09:07.833Z"
   },
   {
    "duration": 568,
    "start_time": "2022-02-28T22:09:07.858Z"
   },
   {
    "duration": 10,
    "start_time": "2022-02-28T22:09:38.513Z"
   },
   {
    "duration": 448,
    "start_time": "2022-02-28T22:11:19.798Z"
   },
   {
    "duration": 445,
    "start_time": "2022-02-28T22:11:31.467Z"
   },
   {
    "duration": 1078,
    "start_time": "2022-02-28T22:12:16.909Z"
   },
   {
    "duration": 9,
    "start_time": "2022-02-28T22:12:17.989Z"
   },
   {
    "duration": 8,
    "start_time": "2022-02-28T22:12:18.001Z"
   },
   {
    "duration": 14,
    "start_time": "2022-02-28T22:12:18.012Z"
   },
   {
    "duration": 8,
    "start_time": "2022-02-28T22:12:18.029Z"
   },
   {
    "duration": 58,
    "start_time": "2022-02-28T22:12:18.040Z"
   },
   {
    "duration": 10,
    "start_time": "2022-02-28T22:12:18.100Z"
   },
   {
    "duration": 14,
    "start_time": "2022-02-28T22:12:18.113Z"
   },
   {
    "duration": 14,
    "start_time": "2022-02-28T22:12:18.131Z"
   },
   {
    "duration": 50,
    "start_time": "2022-02-28T22:12:18.147Z"
   },
   {
    "duration": 19,
    "start_time": "2022-02-28T22:12:18.200Z"
   },
   {
    "duration": 1055,
    "start_time": "2022-02-28T22:12:18.221Z"
   },
   {
    "duration": 43,
    "start_time": "2022-02-28T22:12:19.279Z"
   },
   {
    "duration": 38,
    "start_time": "2022-02-28T22:12:19.325Z"
   },
   {
    "duration": 2091,
    "start_time": "2022-02-28T22:12:19.387Z"
   },
   {
    "duration": 16,
    "start_time": "2022-02-28T22:12:21.487Z"
   },
   {
    "duration": 662,
    "start_time": "2022-02-28T22:12:21.506Z"
   },
   {
    "duration": 394,
    "start_time": "2022-02-28T22:12:22.171Z"
   },
   {
    "duration": 21,
    "start_time": "2022-02-28T22:12:22.568Z"
   },
   {
    "duration": 404,
    "start_time": "2022-02-28T22:12:22.592Z"
   },
   {
    "duration": 10,
    "start_time": "2022-02-28T22:12:22.998Z"
   },
   {
    "duration": 17,
    "start_time": "2022-02-28T22:12:23.011Z"
   },
   {
    "duration": 452,
    "start_time": "2022-02-28T22:12:23.031Z"
   },
   {
    "duration": 10,
    "start_time": "2022-02-28T22:12:42.583Z"
   },
   {
    "duration": 11,
    "start_time": "2022-02-28T22:12:50.711Z"
   },
   {
    "duration": 373,
    "start_time": "2022-02-28T22:12:59.951Z"
   },
   {
    "duration": 13,
    "start_time": "2022-02-28T22:14:10.438Z"
   },
   {
    "duration": 49,
    "start_time": "2022-02-28T22:14:38.082Z"
   },
   {
    "duration": 11,
    "start_time": "2022-02-28T22:18:53.704Z"
   },
   {
    "duration": 879,
    "start_time": "2022-02-28T22:19:15.359Z"
   },
   {
    "duration": 9,
    "start_time": "2022-02-28T22:19:16.241Z"
   },
   {
    "duration": 33,
    "start_time": "2022-02-28T22:19:16.253Z"
   },
   {
    "duration": 15,
    "start_time": "2022-02-28T22:19:16.290Z"
   },
   {
    "duration": 10,
    "start_time": "2022-02-28T22:19:16.307Z"
   },
   {
    "duration": 18,
    "start_time": "2022-02-28T22:19:16.321Z"
   },
   {
    "duration": 50,
    "start_time": "2022-02-28T22:19:16.341Z"
   },
   {
    "duration": 11,
    "start_time": "2022-02-28T22:19:16.394Z"
   },
   {
    "duration": 10,
    "start_time": "2022-02-28T22:19:16.409Z"
   },
   {
    "duration": 13,
    "start_time": "2022-02-28T22:19:16.422Z"
   },
   {
    "duration": 57,
    "start_time": "2022-02-28T22:19:16.437Z"
   },
   {
    "duration": 1036,
    "start_time": "2022-02-28T22:19:16.496Z"
   },
   {
    "duration": 53,
    "start_time": "2022-02-28T22:19:17.535Z"
   },
   {
    "duration": 54,
    "start_time": "2022-02-28T22:19:17.591Z"
   },
   {
    "duration": 2278,
    "start_time": "2022-02-28T22:19:17.648Z"
   },
   {
    "duration": 14,
    "start_time": "2022-02-28T22:19:19.929Z"
   },
   {
    "duration": 450,
    "start_time": "2022-02-28T22:19:19.945Z"
   },
   {
    "duration": 389,
    "start_time": "2022-02-28T22:19:20.398Z"
   },
   {
    "duration": 8,
    "start_time": "2022-02-28T22:19:20.789Z"
   },
   {
    "duration": 412,
    "start_time": "2022-02-28T22:19:20.800Z"
   },
   {
    "duration": 48,
    "start_time": "2022-02-28T22:19:21.215Z"
   },
   {
    "duration": 9,
    "start_time": "2022-02-28T22:19:21.286Z"
   },
   {
    "duration": 17,
    "start_time": "2022-02-28T22:19:21.298Z"
   },
   {
    "duration": 582,
    "start_time": "2022-02-28T22:19:21.317Z"
   },
   {
    "duration": 12,
    "start_time": "2022-02-28T22:19:38.070Z"
   },
   {
    "duration": 19,
    "start_time": "2022-02-28T22:20:00.241Z"
   },
   {
    "duration": 439,
    "start_time": "2022-02-28T22:20:02.824Z"
   },
   {
    "duration": 452,
    "start_time": "2022-02-28T22:20:47.057Z"
   },
   {
    "duration": 368,
    "start_time": "2022-02-28T22:21:10.682Z"
   },
   {
    "duration": 534,
    "start_time": "2022-02-28T22:21:26.687Z"
   },
   {
    "duration": 883,
    "start_time": "2022-02-28T22:21:51.106Z"
   },
   {
    "duration": 10,
    "start_time": "2022-02-28T22:21:51.991Z"
   },
   {
    "duration": 10,
    "start_time": "2022-02-28T22:21:52.003Z"
   },
   {
    "duration": 17,
    "start_time": "2022-02-28T22:21:52.016Z"
   },
   {
    "duration": 56,
    "start_time": "2022-02-28T22:21:52.037Z"
   },
   {
    "duration": 21,
    "start_time": "2022-02-28T22:21:52.096Z"
   },
   {
    "duration": 12,
    "start_time": "2022-02-28T22:21:52.120Z"
   },
   {
    "duration": 53,
    "start_time": "2022-02-28T22:21:52.135Z"
   },
   {
    "duration": 11,
    "start_time": "2022-02-28T22:21:52.194Z"
   },
   {
    "duration": 14,
    "start_time": "2022-02-28T22:21:52.209Z"
   },
   {
    "duration": 19,
    "start_time": "2022-02-28T22:21:52.226Z"
   },
   {
    "duration": 1048,
    "start_time": "2022-02-28T22:21:52.248Z"
   },
   {
    "duration": 37,
    "start_time": "2022-02-28T22:21:53.298Z"
   },
   {
    "duration": 67,
    "start_time": "2022-02-28T22:21:53.337Z"
   },
   {
    "duration": 2107,
    "start_time": "2022-02-28T22:21:53.406Z"
   },
   {
    "duration": 15,
    "start_time": "2022-02-28T22:21:55.515Z"
   },
   {
    "duration": 448,
    "start_time": "2022-02-28T22:21:55.532Z"
   },
   {
    "duration": 523,
    "start_time": "2022-02-28T22:21:55.986Z"
   },
   {
    "duration": 9,
    "start_time": "2022-02-28T22:21:56.511Z"
   },
   {
    "duration": 18,
    "start_time": "2022-02-28T22:21:56.522Z"
   },
   {
    "duration": 718,
    "start_time": "2022-02-28T22:21:56.543Z"
   },
   {
    "duration": 9,
    "start_time": "2022-02-28T22:22:22.834Z"
   },
   {
    "duration": 892,
    "start_time": "2022-02-28T22:23:19.878Z"
   },
   {
    "duration": 16,
    "start_time": "2022-02-28T22:23:20.773Z"
   },
   {
    "duration": 9,
    "start_time": "2022-02-28T22:23:20.792Z"
   },
   {
    "duration": 15,
    "start_time": "2022-02-28T22:23:20.804Z"
   },
   {
    "duration": 8,
    "start_time": "2022-02-28T22:23:20.822Z"
   },
   {
    "duration": 58,
    "start_time": "2022-02-28T22:23:20.833Z"
   },
   {
    "duration": 10,
    "start_time": "2022-02-28T22:23:20.893Z"
   },
   {
    "duration": 9,
    "start_time": "2022-02-28T22:23:20.907Z"
   },
   {
    "duration": 11,
    "start_time": "2022-02-28T22:23:20.919Z"
   },
   {
    "duration": 59,
    "start_time": "2022-02-28T22:23:20.932Z"
   },
   {
    "duration": 17,
    "start_time": "2022-02-28T22:23:20.993Z"
   },
   {
    "duration": 1027,
    "start_time": "2022-02-28T22:23:21.012Z"
   },
   {
    "duration": 50,
    "start_time": "2022-02-28T22:23:22.041Z"
   },
   {
    "duration": 37,
    "start_time": "2022-02-28T22:23:22.094Z"
   },
   {
    "duration": 2233,
    "start_time": "2022-02-28T22:23:22.133Z"
   },
   {
    "duration": 28,
    "start_time": "2022-02-28T22:23:24.369Z"
   },
   {
    "duration": 473,
    "start_time": "2022-02-28T22:23:24.400Z"
   },
   {
    "duration": 845,
    "start_time": "2022-02-28T22:23:24.876Z"
   },
   {
    "duration": 11,
    "start_time": "2022-02-28T22:23:25.724Z"
   },
   {
    "duration": 25,
    "start_time": "2022-02-28T22:23:25.737Z"
   },
   {
    "duration": 720,
    "start_time": "2022-02-28T22:23:25.787Z"
   },
   {
    "duration": 9,
    "start_time": "2022-02-28T22:23:39.812Z"
   },
   {
    "duration": 19,
    "start_time": "2022-02-28T22:24:27.591Z"
   },
   {
    "duration": 25,
    "start_time": "2022-02-28T22:24:45.259Z"
   },
   {
    "duration": 456,
    "start_time": "2022-02-28T22:36:49.234Z"
   },
   {
    "duration": 607,
    "start_time": "2022-02-28T22:36:56.991Z"
   },
   {
    "duration": 7,
    "start_time": "2022-02-28T22:51:10.884Z"
   },
   {
    "duration": 396,
    "start_time": "2022-02-28T22:55:00.690Z"
   },
   {
    "duration": 10,
    "start_time": "2022-02-28T22:55:08.833Z"
   },
   {
    "duration": 12,
    "start_time": "2022-02-28T22:57:49.127Z"
   },
   {
    "duration": 13,
    "start_time": "2022-02-28T22:57:58.335Z"
   },
   {
    "duration": 18,
    "start_time": "2022-02-28T22:59:42.497Z"
   },
   {
    "duration": 14189,
    "start_time": "2022-02-28T23:19:00.343Z"
   },
   {
    "duration": 15696,
    "start_time": "2022-02-28T23:21:14.146Z"
   },
   {
    "duration": 15763,
    "start_time": "2022-02-28T23:23:16.263Z"
   },
   {
    "duration": 835,
    "start_time": "2022-02-28T23:29:40.901Z"
   },
   {
    "duration": 898,
    "start_time": "2022-02-28T23:29:52.525Z"
   },
   {
    "duration": 31,
    "start_time": "2022-02-28T23:30:30.135Z"
   },
   {
    "duration": 1059,
    "start_time": "2022-03-04T12:06:31.363Z"
   },
   {
    "duration": 8,
    "start_time": "2022-03-04T12:06:32.425Z"
   },
   {
    "duration": 12,
    "start_time": "2022-03-04T12:06:32.436Z"
   },
   {
    "duration": 38,
    "start_time": "2022-03-04T12:06:32.451Z"
   },
   {
    "duration": 11,
    "start_time": "2022-03-04T12:06:32.491Z"
   },
   {
    "duration": 23,
    "start_time": "2022-03-04T12:06:32.505Z"
   },
   {
    "duration": 9,
    "start_time": "2022-03-04T12:06:32.530Z"
   },
   {
    "duration": 12,
    "start_time": "2022-03-04T12:06:32.543Z"
   },
   {
    "duration": 10,
    "start_time": "2022-03-04T12:06:32.589Z"
   },
   {
    "duration": 21,
    "start_time": "2022-03-04T12:06:32.602Z"
   },
   {
    "duration": 24,
    "start_time": "2022-03-04T12:06:32.625Z"
   },
   {
    "duration": 1063,
    "start_time": "2022-03-04T12:06:32.652Z"
   },
   {
    "duration": 49,
    "start_time": "2022-03-04T12:06:33.717Z"
   },
   {
    "duration": 50,
    "start_time": "2022-03-04T12:06:33.768Z"
   },
   {
    "duration": 2436,
    "start_time": "2022-03-04T12:06:33.821Z"
   },
   {
    "duration": 34,
    "start_time": "2022-03-04T12:06:36.260Z"
   },
   {
    "duration": 468,
    "start_time": "2022-03-04T12:06:36.298Z"
   },
   {
    "duration": 589,
    "start_time": "2022-03-04T12:06:36.768Z"
   },
   {
    "duration": 8,
    "start_time": "2022-03-04T12:06:37.360Z"
   },
   {
    "duration": 22,
    "start_time": "2022-03-04T12:06:37.386Z"
   },
   {
    "duration": 459,
    "start_time": "2022-03-04T12:06:37.410Z"
   },
   {
    "duration": 36,
    "start_time": "2022-03-04T12:06:37.872Z"
   },
   {
    "duration": 327,
    "start_time": "2022-03-04T12:21:51.707Z"
   },
   {
    "duration": 624,
    "start_time": "2022-03-04T12:22:03.436Z"
   },
   {
    "duration": 669,
    "start_time": "2022-03-04T12:22:28.952Z"
   },
   {
    "duration": 798,
    "start_time": "2022-03-04T12:23:48.799Z"
   },
   {
    "duration": 1181,
    "start_time": "2022-03-04T12:25:10.506Z"
   },
   {
    "duration": 6282,
    "start_time": "2022-03-04T12:25:34.686Z"
   },
   {
    "duration": 1116,
    "start_time": "2022-03-04T12:26:41.046Z"
   },
   {
    "duration": 1031,
    "start_time": "2022-03-04T12:26:59.720Z"
   },
   {
    "duration": 954,
    "start_time": "2022-03-04T12:27:14.275Z"
   },
   {
    "duration": 873,
    "start_time": "2022-03-04T12:28:10.118Z"
   },
   {
    "duration": 905,
    "start_time": "2022-03-04T12:29:18.382Z"
   },
   {
    "duration": 957,
    "start_time": "2022-03-04T12:35:32.241Z"
   },
   {
    "duration": 1007,
    "start_time": "2022-03-04T13:07:59.958Z"
   },
   {
    "duration": 906,
    "start_time": "2022-03-04T13:09:51.911Z"
   },
   {
    "duration": 7,
    "start_time": "2022-03-04T13:32:27.650Z"
   },
   {
    "duration": 84,
    "start_time": "2022-03-04T13:37:15.086Z"
   },
   {
    "duration": 409,
    "start_time": "2022-03-04T13:37:40.290Z"
   },
   {
    "duration": 409,
    "start_time": "2022-03-04T13:38:10.142Z"
   },
   {
    "duration": 966,
    "start_time": "2022-03-04T13:38:25.696Z"
   },
   {
    "duration": 616,
    "start_time": "2022-03-04T13:38:39.632Z"
   },
   {
    "duration": 6514,
    "start_time": "2022-03-04T13:39:12.482Z"
   },
   {
    "duration": 6555,
    "start_time": "2022-03-04T13:42:09.241Z"
   },
   {
    "duration": 6275,
    "start_time": "2022-03-04T13:43:38.803Z"
   },
   {
    "duration": 1102,
    "start_time": "2022-03-04T13:44:33.281Z"
   },
   {
    "duration": 1105,
    "start_time": "2022-03-04T13:45:48.565Z"
   },
   {
    "duration": 639,
    "start_time": "2022-03-04T13:48:38.079Z"
   },
   {
    "duration": 640,
    "start_time": "2022-03-04T13:51:13.939Z"
   },
   {
    "duration": 669,
    "start_time": "2022-03-04T13:54:42.580Z"
   },
   {
    "duration": 404,
    "start_time": "2022-03-04T14:01:37.901Z"
   },
   {
    "duration": 5678,
    "start_time": "2022-03-04T14:02:07.189Z"
   },
   {
    "duration": 426,
    "start_time": "2022-03-04T14:03:29.991Z"
   },
   {
    "duration": 440,
    "start_time": "2022-03-04T14:05:26.769Z"
   },
   {
    "duration": 450,
    "start_time": "2022-03-04T14:05:52.812Z"
   },
   {
    "duration": 379,
    "start_time": "2022-03-04T14:06:22.840Z"
   },
   {
    "duration": 418,
    "start_time": "2022-03-04T14:06:48.190Z"
   },
   {
    "duration": 425,
    "start_time": "2022-03-04T14:09:03.808Z"
   },
   {
    "duration": 234,
    "start_time": "2022-03-04T14:10:41.039Z"
   },
   {
    "duration": 21,
    "start_time": "2022-03-04T14:11:05.852Z"
   },
   {
    "duration": 390,
    "start_time": "2022-03-04T14:12:38.934Z"
   },
   {
    "duration": 593,
    "start_time": "2022-03-04T14:12:58.606Z"
   },
   {
    "duration": 244,
    "start_time": "2022-03-04T15:09:00.236Z"
   },
   {
    "duration": 241,
    "start_time": "2022-03-04T15:09:28.423Z"
   },
   {
    "duration": 5998,
    "start_time": "2022-03-04T15:10:00.646Z"
   },
   {
    "duration": 20,
    "start_time": "2022-03-04T15:11:01.971Z"
   },
   {
    "duration": 234,
    "start_time": "2022-03-04T15:11:56.651Z"
   },
   {
    "duration": 225,
    "start_time": "2022-03-04T15:12:37.610Z"
   },
   {
    "duration": 18,
    "start_time": "2022-03-04T15:12:43.743Z"
   },
   {
    "duration": 18,
    "start_time": "2022-03-04T15:14:02.991Z"
   },
   {
    "duration": 16,
    "start_time": "2022-03-04T15:14:14.676Z"
   },
   {
    "duration": 23,
    "start_time": "2022-03-04T15:14:18.920Z"
   },
   {
    "duration": 71,
    "start_time": "2022-03-04T15:24:22.513Z"
   },
   {
    "duration": 479,
    "start_time": "2022-03-04T15:24:33.531Z"
   },
   {
    "duration": 213,
    "start_time": "2022-03-04T15:24:47.976Z"
   },
   {
    "duration": 210,
    "start_time": "2022-03-04T15:24:57.799Z"
   },
   {
    "duration": 220,
    "start_time": "2022-03-04T15:25:12.725Z"
   },
   {
    "duration": 4,
    "start_time": "2022-03-04T15:25:30.110Z"
   },
   {
    "duration": 96,
    "start_time": "2022-03-04T15:25:33.319Z"
   },
   {
    "duration": 24,
    "start_time": "2022-03-04T15:25:46.446Z"
   },
   {
    "duration": 21,
    "start_time": "2022-03-04T15:25:58.310Z"
   },
   {
    "duration": 25,
    "start_time": "2022-03-04T15:29:43.675Z"
   },
   {
    "duration": 23,
    "start_time": "2022-03-04T15:29:59.426Z"
   },
   {
    "duration": 19,
    "start_time": "2022-03-04T15:30:42.745Z"
   },
   {
    "duration": 20,
    "start_time": "2022-03-04T15:30:49.302Z"
   },
   {
    "duration": 25,
    "start_time": "2022-03-04T15:31:17.982Z"
   },
   {
    "duration": 292,
    "start_time": "2022-03-04T15:33:20.595Z"
   },
   {
    "duration": 19,
    "start_time": "2022-03-04T15:33:39.390Z"
   },
   {
    "duration": 23,
    "start_time": "2022-03-04T15:33:44.851Z"
   },
   {
    "duration": 940,
    "start_time": "2022-03-04T15:34:39.969Z"
   },
   {
    "duration": 921,
    "start_time": "2022-03-04T15:35:50.854Z"
   },
   {
    "duration": 22,
    "start_time": "2022-03-04T15:39:46.928Z"
   },
   {
    "duration": 20,
    "start_time": "2022-03-04T15:39:57.002Z"
   },
   {
    "duration": 314,
    "start_time": "2022-03-04T15:40:00.520Z"
   },
   {
    "duration": 22,
    "start_time": "2022-03-04T15:40:06.969Z"
   },
   {
    "duration": 18,
    "start_time": "2022-03-04T15:40:15.827Z"
   },
   {
    "duration": 310,
    "start_time": "2022-03-04T15:41:10.254Z"
   },
   {
    "duration": 18,
    "start_time": "2022-03-04T15:41:21.941Z"
   },
   {
    "duration": 23,
    "start_time": "2022-03-04T15:41:29.080Z"
   },
   {
    "duration": 292,
    "start_time": "2022-03-04T15:42:40.168Z"
   },
   {
    "duration": 253,
    "start_time": "2022-03-04T15:43:29.278Z"
   },
   {
    "duration": 28,
    "start_time": "2022-03-04T15:46:20.552Z"
   },
   {
    "duration": 26,
    "start_time": "2022-03-04T15:46:28.801Z"
   },
   {
    "duration": 26,
    "start_time": "2022-03-04T15:46:32.809Z"
   },
   {
    "duration": 31,
    "start_time": "2022-03-04T15:46:40.821Z"
   },
   {
    "duration": 5531,
    "start_time": "2022-03-04T15:47:16.626Z"
   },
   {
    "duration": 25,
    "start_time": "2022-03-04T15:47:58.849Z"
   },
   {
    "duration": 21,
    "start_time": "2022-03-04T15:48:18.577Z"
   },
   {
    "duration": 21,
    "start_time": "2022-03-04T15:48:47.180Z"
   },
   {
    "duration": 21,
    "start_time": "2022-03-04T15:48:59.495Z"
   },
   {
    "duration": 23,
    "start_time": "2022-03-04T15:49:04.715Z"
   },
   {
    "duration": 263,
    "start_time": "2022-03-04T15:49:08.600Z"
   },
   {
    "duration": 705,
    "start_time": "2022-03-04T15:49:18.125Z"
   },
   {
    "duration": 248,
    "start_time": "2022-03-04T15:49:28.898Z"
   },
   {
    "duration": 21,
    "start_time": "2022-03-04T15:51:20.993Z"
   },
   {
    "duration": 276,
    "start_time": "2022-03-04T15:51:44.874Z"
   },
   {
    "duration": 245,
    "start_time": "2022-03-04T15:52:25.584Z"
   },
   {
    "duration": 18,
    "start_time": "2022-03-04T15:53:50.426Z"
   },
   {
    "duration": 17,
    "start_time": "2022-03-04T15:53:57.252Z"
   },
   {
    "duration": 18,
    "start_time": "2022-03-04T15:54:02.246Z"
   },
   {
    "duration": 21,
    "start_time": "2022-03-04T15:54:05.800Z"
   },
   {
    "duration": 20,
    "start_time": "2022-03-04T15:54:10.394Z"
   },
   {
    "duration": 25,
    "start_time": "2022-03-04T15:54:23.967Z"
   },
   {
    "duration": 24,
    "start_time": "2022-03-04T15:54:33.096Z"
   },
   {
    "duration": 27,
    "start_time": "2022-03-04T15:54:37.488Z"
   },
   {
    "duration": 20,
    "start_time": "2022-03-04T15:55:12.494Z"
   },
   {
    "duration": 76,
    "start_time": "2022-03-04T15:55:25.352Z"
   },
   {
    "duration": 18,
    "start_time": "2022-03-04T15:55:30.132Z"
   },
   {
    "duration": 5513,
    "start_time": "2022-03-04T15:55:53.774Z"
   },
   {
    "duration": 267,
    "start_time": "2022-03-04T15:56:04.048Z"
   },
   {
    "duration": 17,
    "start_time": "2022-03-04T15:56:53.820Z"
   },
   {
    "duration": 265,
    "start_time": "2022-03-04T15:58:01.337Z"
   },
   {
    "duration": 236,
    "start_time": "2022-03-04T15:58:46.667Z"
   },
   {
    "duration": 17,
    "start_time": "2022-03-04T15:59:12.917Z"
   },
   {
    "duration": 16,
    "start_time": "2022-03-04T15:59:54.079Z"
   },
   {
    "duration": 17,
    "start_time": "2022-03-04T16:05:29.186Z"
   },
   {
    "duration": 3,
    "start_time": "2022-03-04T16:05:57.086Z"
   },
   {
    "duration": 272,
    "start_time": "2022-03-04T16:06:00.596Z"
   },
   {
    "duration": 3,
    "start_time": "2022-03-04T16:06:44.217Z"
   },
   {
    "duration": 15,
    "start_time": "2022-03-04T16:06:49.872Z"
   },
   {
    "duration": 20,
    "start_time": "2022-03-04T16:06:56.653Z"
   },
   {
    "duration": 19,
    "start_time": "2022-03-04T16:07:02.976Z"
   },
   {
    "duration": 5429,
    "start_time": "2022-03-04T16:08:02.146Z"
   },
   {
    "duration": 343,
    "start_time": "2022-03-04T16:09:59.732Z"
   },
   {
    "duration": 5922,
    "start_time": "2022-03-04T16:10:59.231Z"
   },
   {
    "duration": 557,
    "start_time": "2022-03-04T16:11:13.894Z"
   },
   {
    "duration": 569,
    "start_time": "2022-03-04T16:12:00.829Z"
   },
   {
    "duration": 561,
    "start_time": "2022-03-04T16:13:14.436Z"
   },
   {
    "duration": 572,
    "start_time": "2022-03-04T16:13:43.597Z"
   },
   {
    "duration": 215,
    "start_time": "2022-03-04T16:14:20.558Z"
   },
   {
    "duration": 253,
    "start_time": "2022-03-04T16:14:30.068Z"
   },
   {
    "duration": 575,
    "start_time": "2022-03-04T16:15:09.369Z"
   },
   {
    "duration": 682,
    "start_time": "2022-03-04T16:15:26.800Z"
   },
   {
    "duration": 925,
    "start_time": "2022-03-04T16:15:37.391Z"
   },
   {
    "duration": 571,
    "start_time": "2022-03-04T16:15:47.364Z"
   },
   {
    "duration": 537,
    "start_time": "2022-03-04T16:16:08.229Z"
   },
   {
    "duration": 561,
    "start_time": "2022-03-04T16:16:28.754Z"
   },
   {
    "duration": 586,
    "start_time": "2022-03-04T16:16:40.210Z"
   },
   {
    "duration": 781,
    "start_time": "2022-03-04T16:17:03.867Z"
   },
   {
    "duration": 591,
    "start_time": "2022-03-04T16:17:36.199Z"
   },
   {
    "duration": 252,
    "start_time": "2022-03-04T16:20:05.903Z"
   },
   {
    "duration": 231,
    "start_time": "2022-03-04T16:20:56.671Z"
   },
   {
    "duration": 217,
    "start_time": "2022-03-04T16:21:13.937Z"
   },
   {
    "duration": 231,
    "start_time": "2022-03-04T16:21:26.416Z"
   },
   {
    "duration": 603,
    "start_time": "2022-03-04T16:22:39.948Z"
   },
   {
    "duration": 587,
    "start_time": "2022-03-04T16:24:07.715Z"
   },
   {
    "duration": 105,
    "start_time": "2022-03-04T16:28:14.050Z"
   },
   {
    "duration": 258,
    "start_time": "2022-03-04T16:28:20.290Z"
   },
   {
    "duration": 21,
    "start_time": "2022-03-04T16:29:42.192Z"
   },
   {
    "duration": 262,
    "start_time": "2022-03-04T16:30:43.367Z"
   },
   {
    "duration": 17,
    "start_time": "2022-03-04T16:33:53.988Z"
   },
   {
    "duration": 265,
    "start_time": "2022-03-04T16:47:06.335Z"
   },
   {
    "duration": 258,
    "start_time": "2022-03-04T16:47:15.334Z"
   },
   {
    "duration": 283,
    "start_time": "2022-03-04T16:47:20.584Z"
   },
   {
    "duration": 834,
    "start_time": "2022-03-04T16:47:45.226Z"
   },
   {
    "duration": 25,
    "start_time": "2022-03-04T16:47:46.063Z"
   },
   {
    "duration": 10,
    "start_time": "2022-03-04T16:47:46.092Z"
   },
   {
    "duration": 18,
    "start_time": "2022-03-04T16:47:46.105Z"
   },
   {
    "duration": 13,
    "start_time": "2022-03-04T16:47:46.126Z"
   },
   {
    "duration": 59,
    "start_time": "2022-03-04T16:47:46.142Z"
   },
   {
    "duration": 9,
    "start_time": "2022-03-04T16:47:46.203Z"
   },
   {
    "duration": 13,
    "start_time": "2022-03-04T16:47:46.216Z"
   },
   {
    "duration": 11,
    "start_time": "2022-03-04T16:47:46.232Z"
   },
   {
    "duration": 48,
    "start_time": "2022-03-04T16:47:46.245Z"
   },
   {
    "duration": 22,
    "start_time": "2022-03-04T16:47:46.295Z"
   },
   {
    "duration": 1022,
    "start_time": "2022-03-04T16:47:46.319Z"
   },
   {
    "duration": 53,
    "start_time": "2022-03-04T16:47:47.343Z"
   },
   {
    "duration": 36,
    "start_time": "2022-03-04T16:47:47.398Z"
   },
   {
    "duration": 2251,
    "start_time": "2022-03-04T16:47:47.436Z"
   },
   {
    "duration": 14,
    "start_time": "2022-03-04T16:47:49.689Z"
   },
   {
    "duration": 469,
    "start_time": "2022-03-04T16:47:49.705Z"
   },
   {
    "duration": 547,
    "start_time": "2022-03-04T16:47:50.176Z"
   },
   {
    "duration": 11,
    "start_time": "2022-03-04T16:47:50.726Z"
   },
   {
    "duration": 52,
    "start_time": "2022-03-04T16:47:50.739Z"
   },
   {
    "duration": 564,
    "start_time": "2022-03-04T16:47:50.793Z"
   },
   {
    "duration": 619,
    "start_time": "2022-03-04T16:47:51.360Z"
   },
   {
    "duration": 331,
    "start_time": "2022-03-04T16:47:51.988Z"
   },
   {
    "duration": 27,
    "start_time": "2022-03-04T16:48:13.441Z"
   },
   {
    "duration": 22,
    "start_time": "2022-03-04T16:48:19.906Z"
   },
   {
    "duration": 295,
    "start_time": "2022-03-04T16:48:45.111Z"
   },
   {
    "duration": 887,
    "start_time": "2022-03-04T16:48:58.861Z"
   },
   {
    "duration": 10,
    "start_time": "2022-03-04T16:48:59.751Z"
   },
   {
    "duration": 25,
    "start_time": "2022-03-04T16:48:59.763Z"
   },
   {
    "duration": 22,
    "start_time": "2022-03-04T16:48:59.791Z"
   },
   {
    "duration": 8,
    "start_time": "2022-03-04T16:48:59.816Z"
   },
   {
    "duration": 17,
    "start_time": "2022-03-04T16:48:59.827Z"
   },
   {
    "duration": 56,
    "start_time": "2022-03-04T16:48:59.847Z"
   },
   {
    "duration": 12,
    "start_time": "2022-03-04T16:48:59.907Z"
   },
   {
    "duration": 9,
    "start_time": "2022-03-04T16:48:59.922Z"
   },
   {
    "duration": 13,
    "start_time": "2022-03-04T16:48:59.933Z"
   },
   {
    "duration": 47,
    "start_time": "2022-03-04T16:48:59.948Z"
   },
   {
    "duration": 1053,
    "start_time": "2022-03-04T16:48:59.997Z"
   },
   {
    "duration": 49,
    "start_time": "2022-03-04T16:49:01.052Z"
   },
   {
    "duration": 39,
    "start_time": "2022-03-04T16:49:01.103Z"
   },
   {
    "duration": 2367,
    "start_time": "2022-03-04T16:49:01.144Z"
   },
   {
    "duration": 14,
    "start_time": "2022-03-04T16:49:03.514Z"
   },
   {
    "duration": 473,
    "start_time": "2022-03-04T16:49:03.531Z"
   },
   {
    "duration": 786,
    "start_time": "2022-03-04T16:49:04.007Z"
   },
   {
    "duration": 8,
    "start_time": "2022-03-04T16:49:04.796Z"
   },
   {
    "duration": 24,
    "start_time": "2022-03-04T16:49:04.807Z"
   },
   {
    "duration": 491,
    "start_time": "2022-03-04T16:49:04.834Z"
   },
   {
    "duration": 619,
    "start_time": "2022-03-04T16:49:05.328Z"
   },
   {
    "duration": 364,
    "start_time": "2022-03-04T16:49:05.951Z"
   },
   {
    "duration": 321,
    "start_time": "2022-03-04T16:53:32.723Z"
   },
   {
    "duration": 263,
    "start_time": "2022-03-04T16:53:57.399Z"
   },
   {
    "duration": 96,
    "start_time": "2022-03-04T16:54:30.958Z"
   },
   {
    "duration": 371,
    "start_time": "2022-03-04T16:56:43.137Z"
   },
   {
    "duration": 238,
    "start_time": "2022-03-04T17:09:19.318Z"
   },
   {
    "duration": 23,
    "start_time": "2022-03-04T17:09:24.584Z"
   },
   {
    "duration": 253,
    "start_time": "2022-03-04T17:11:57.912Z"
   },
   {
    "duration": 19,
    "start_time": "2022-03-04T17:12:49.220Z"
   },
   {
    "duration": 17,
    "start_time": "2022-03-04T17:20:08.115Z"
   },
   {
    "duration": 24,
    "start_time": "2022-03-04T17:20:16.858Z"
   },
   {
    "duration": 22,
    "start_time": "2022-03-04T17:20:21.817Z"
   },
   {
    "duration": 630,
    "start_time": "2022-03-04T17:21:46.605Z"
   },
   {
    "duration": 650,
    "start_time": "2022-03-04T17:22:21.347Z"
   },
   {
    "duration": 643,
    "start_time": "2022-03-04T17:23:11.507Z"
   },
   {
    "duration": 3149,
    "start_time": "2022-03-04T17:30:06.671Z"
   },
   {
    "duration": 1268,
    "start_time": "2022-03-04T17:31:55.378Z"
   },
   {
    "duration": 1267,
    "start_time": "2022-03-04T17:32:12.794Z"
   },
   {
    "duration": 3038,
    "start_time": "2022-03-04T17:34:10.939Z"
   },
   {
    "duration": 1927,
    "start_time": "2022-03-04T17:35:42.064Z"
   },
   {
    "duration": 1680,
    "start_time": "2022-03-04T17:36:04.427Z"
   },
   {
    "duration": 1832,
    "start_time": "2022-03-04T17:37:20.721Z"
   },
   {
    "duration": 1774,
    "start_time": "2022-03-04T17:37:31.805Z"
   },
   {
    "duration": 1240,
    "start_time": "2022-03-04T17:39:44.049Z"
   },
   {
    "duration": 1108,
    "start_time": "2022-03-04T17:40:22.228Z"
   },
   {
    "duration": 2029,
    "start_time": "2022-03-04T17:42:57.478Z"
   },
   {
    "duration": 21,
    "start_time": "2022-03-04T17:44:19.498Z"
   },
   {
    "duration": 897,
    "start_time": "2022-03-04T17:44:29.245Z"
   },
   {
    "duration": 10,
    "start_time": "2022-03-04T17:44:30.144Z"
   },
   {
    "duration": 30,
    "start_time": "2022-03-04T17:44:30.157Z"
   },
   {
    "duration": 17,
    "start_time": "2022-03-04T17:44:30.190Z"
   },
   {
    "duration": 15,
    "start_time": "2022-03-04T17:44:30.210Z"
   },
   {
    "duration": 22,
    "start_time": "2022-03-04T17:44:30.228Z"
   },
   {
    "duration": 12,
    "start_time": "2022-03-04T17:44:30.288Z"
   },
   {
    "duration": 13,
    "start_time": "2022-03-04T17:44:30.303Z"
   },
   {
    "duration": 13,
    "start_time": "2022-03-04T17:44:30.321Z"
   },
   {
    "duration": 64,
    "start_time": "2022-03-04T17:44:30.337Z"
   },
   {
    "duration": 17,
    "start_time": "2022-03-04T17:44:30.404Z"
   },
   {
    "duration": 1064,
    "start_time": "2022-03-04T17:44:30.424Z"
   },
   {
    "duration": 37,
    "start_time": "2022-03-04T17:44:31.491Z"
   },
   {
    "duration": 71,
    "start_time": "2022-03-04T17:44:31.531Z"
   },
   {
    "duration": 2417,
    "start_time": "2022-03-04T17:44:31.605Z"
   },
   {
    "duration": 16,
    "start_time": "2022-03-04T17:44:34.025Z"
   },
   {
    "duration": 475,
    "start_time": "2022-03-04T17:44:34.043Z"
   },
   {
    "duration": 594,
    "start_time": "2022-03-04T17:44:34.520Z"
   },
   {
    "duration": 8,
    "start_time": "2022-03-04T17:44:35.117Z"
   },
   {
    "duration": 20,
    "start_time": "2022-03-04T17:44:35.127Z"
   },
   {
    "duration": 717,
    "start_time": "2022-03-04T17:44:35.150Z"
   },
   {
    "duration": 964,
    "start_time": "2022-03-04T17:44:35.871Z"
   },
   {
    "duration": 22,
    "start_time": "2022-03-04T17:44:36.837Z"
   },
   {
    "duration": 82,
    "start_time": "2022-03-04T17:45:53.824Z"
   },
   {
    "duration": 320,
    "start_time": "2022-03-04T17:46:11.792Z"
   },
   {
    "duration": 705,
    "start_time": "2022-03-04T17:47:18.861Z"
   },
   {
    "duration": 18,
    "start_time": "2022-03-04T17:47:23.660Z"
   },
   {
    "duration": 403,
    "start_time": "2022-03-04T17:48:26.287Z"
   },
   {
    "duration": 772,
    "start_time": "2022-03-04T17:52:25.034Z"
   },
   {
    "duration": 416,
    "start_time": "2022-03-04T17:52:57.779Z"
   },
   {
    "duration": 446,
    "start_time": "2022-03-04T17:53:33.569Z"
   },
   {
    "duration": 408,
    "start_time": "2022-03-04T17:53:59.866Z"
   },
   {
    "duration": 440,
    "start_time": "2022-03-04T17:54:36.062Z"
   },
   {
    "duration": 88,
    "start_time": "2022-03-04T17:55:26.823Z"
   },
   {
    "duration": 409,
    "start_time": "2022-03-04T17:55:31.771Z"
   },
   {
    "duration": 25,
    "start_time": "2022-03-04T17:57:55.467Z"
   },
   {
    "duration": 867,
    "start_time": "2022-03-04T17:58:38.809Z"
   },
   {
    "duration": 13,
    "start_time": "2022-03-04T17:58:39.679Z"
   },
   {
    "duration": 8,
    "start_time": "2022-03-04T17:58:39.696Z"
   },
   {
    "duration": 14,
    "start_time": "2022-03-04T17:58:39.706Z"
   },
   {
    "duration": 8,
    "start_time": "2022-03-04T17:58:39.723Z"
   },
   {
    "duration": 65,
    "start_time": "2022-03-04T17:58:39.733Z"
   },
   {
    "duration": 10,
    "start_time": "2022-03-04T17:58:39.801Z"
   },
   {
    "duration": 10,
    "start_time": "2022-03-04T17:58:39.814Z"
   },
   {
    "duration": 10,
    "start_time": "2022-03-04T17:58:39.827Z"
   },
   {
    "duration": 49,
    "start_time": "2022-03-04T17:58:39.840Z"
   },
   {
    "duration": 18,
    "start_time": "2022-03-04T17:58:39.891Z"
   },
   {
    "duration": 1127,
    "start_time": "2022-03-04T17:58:39.911Z"
   },
   {
    "duration": 49,
    "start_time": "2022-03-04T17:58:41.040Z"
   },
   {
    "duration": 36,
    "start_time": "2022-03-04T17:58:41.091Z"
   },
   {
    "duration": 2197,
    "start_time": "2022-03-04T17:58:41.129Z"
   },
   {
    "duration": 16,
    "start_time": "2022-03-04T17:58:43.330Z"
   },
   {
    "duration": 463,
    "start_time": "2022-03-04T17:58:43.348Z"
   },
   {
    "duration": 544,
    "start_time": "2022-03-04T17:58:43.814Z"
   },
   {
    "duration": 9,
    "start_time": "2022-03-04T17:58:44.360Z"
   },
   {
    "duration": 34,
    "start_time": "2022-03-04T17:58:44.371Z"
   },
   {
    "duration": 453,
    "start_time": "2022-03-04T17:58:44.407Z"
   },
   {
    "duration": 32438,
    "start_time": "2022-03-04T17:58:44.863Z"
   },
   {
    "duration": 3,
    "start_time": "2022-03-04T17:59:17.305Z"
   },
   {
    "duration": 33139,
    "start_time": "2022-03-04T18:03:05.374Z"
   },
   {
    "duration": 1149,
    "start_time": "2022-03-04T18:12:18.765Z"
   },
   {
    "duration": 835,
    "start_time": "2022-03-04T18:13:33.521Z"
   },
   {
    "duration": 815,
    "start_time": "2022-03-04T18:14:02.898Z"
   },
   {
    "duration": 796,
    "start_time": "2022-03-04T18:14:25.399Z"
   },
   {
    "duration": 779,
    "start_time": "2022-03-04T18:14:30.408Z"
   },
   {
    "duration": 1900,
    "start_time": "2022-03-04T18:15:01.295Z"
   },
   {
    "duration": 1151,
    "start_time": "2022-03-04T18:16:12.546Z"
   },
   {
    "duration": 1432,
    "start_time": "2022-03-04T18:30:12.309Z"
   },
   {
    "duration": 853,
    "start_time": "2022-03-04T18:40:53.335Z"
   },
   {
    "duration": 5610,
    "start_time": "2022-03-04T18:40:58.238Z"
   },
   {
    "duration": 8,
    "start_time": "2022-03-04T18:41:48.774Z"
   },
   {
    "duration": 7,
    "start_time": "2022-03-04T18:42:19.254Z"
   },
   {
    "duration": 9,
    "start_time": "2022-03-04T18:42:40.584Z"
   },
   {
    "duration": 312,
    "start_time": "2022-03-04T18:49:09.617Z"
   },
   {
    "duration": 7,
    "start_time": "2022-03-04T18:49:38.525Z"
   },
   {
    "duration": 439,
    "start_time": "2022-03-04T18:50:01.430Z"
   },
   {
    "duration": 326,
    "start_time": "2022-03-04T18:50:10.234Z"
   },
   {
    "duration": 342,
    "start_time": "2022-03-04T18:52:51.090Z"
   },
   {
    "duration": 6,
    "start_time": "2022-03-04T18:52:51.435Z"
   },
   {
    "duration": 336,
    "start_time": "2022-03-04T18:53:20.018Z"
   },
   {
    "duration": 450,
    "start_time": "2022-03-04T18:53:36.413Z"
   },
   {
    "duration": 469,
    "start_time": "2022-03-04T18:55:22.075Z"
   },
   {
    "duration": 461,
    "start_time": "2022-03-04T18:55:32.261Z"
   },
   {
    "duration": 448,
    "start_time": "2022-03-04T18:55:39.235Z"
   },
   {
    "duration": 451,
    "start_time": "2022-03-04T18:55:47.157Z"
   },
   {
    "duration": 473,
    "start_time": "2022-03-04T18:55:55.918Z"
   },
   {
    "duration": 446,
    "start_time": "2022-03-04T18:56:06.235Z"
   },
   {
    "duration": 438,
    "start_time": "2022-03-04T18:56:10.016Z"
   },
   {
    "duration": 336,
    "start_time": "2022-03-04T18:56:17.967Z"
   },
   {
    "duration": 138845,
    "start_time": "2022-03-04T18:56:27.731Z"
   },
   {
    "duration": 817,
    "start_time": "2022-03-04T21:52:16.834Z"
   },
   {
    "duration": 312,
    "start_time": "2022-03-04T21:54:56.069Z"
   },
   {
    "duration": 247,
    "start_time": "2022-03-04T21:55:52.845Z"
   },
   {
    "duration": 1629,
    "start_time": "2022-03-04T21:56:18.076Z"
   },
   {
    "duration": 1681,
    "start_time": "2022-03-04T21:56:55.891Z"
   },
   {
    "duration": 2501,
    "start_time": "2022-03-04T21:57:10.396Z"
   },
   {
    "duration": 8257,
    "start_time": "2022-03-04T21:58:04.188Z"
   },
   {
    "duration": 7146,
    "start_time": "2022-03-04T21:58:48.409Z"
   },
   {
    "duration": 1568,
    "start_time": "2022-03-04T22:00:49.028Z"
   },
   {
    "duration": 1216,
    "start_time": "2022-03-04T22:02:13.052Z"
   },
   {
    "duration": 1170,
    "start_time": "2022-03-04T22:02:24.070Z"
   },
   {
    "duration": 346,
    "start_time": "2022-03-04T22:05:51.958Z"
   },
   {
    "duration": 6,
    "start_time": "2022-03-04T22:05:52.307Z"
   },
   {
    "duration": 316,
    "start_time": "2022-03-04T22:08:42.661Z"
   },
   {
    "duration": 299,
    "start_time": "2022-03-04T22:17:56.834Z"
   },
   {
    "duration": 22,
    "start_time": "2022-03-04T22:19:21.331Z"
   },
   {
    "duration": 23,
    "start_time": "2022-03-04T22:19:43.890Z"
   },
   {
    "duration": 260,
    "start_time": "2022-03-04T22:24:27.404Z"
   },
   {
    "duration": 230,
    "start_time": "2022-03-04T22:25:19.192Z"
   },
   {
    "duration": 91,
    "start_time": "2022-03-04T22:26:03.293Z"
   },
   {
    "duration": 88,
    "start_time": "2022-03-04T22:26:10.646Z"
   },
   {
    "duration": 539,
    "start_time": "2022-03-04T22:28:09.221Z"
   },
   {
    "duration": 405,
    "start_time": "2022-03-04T22:28:49.811Z"
   },
   {
    "duration": 96,
    "start_time": "2022-03-04T22:31:44.536Z"
   },
   {
    "duration": 4990,
    "start_time": "2022-03-04T22:33:57.287Z"
   },
   {
    "duration": 3531,
    "start_time": "2022-03-04T22:49:42.293Z"
   },
   {
    "duration": 255,
    "start_time": "2022-03-04T22:51:20.065Z"
   },
   {
    "duration": 9669,
    "start_time": "2022-03-04T22:54:47.341Z"
   },
   {
    "duration": 3909,
    "start_time": "2022-03-04T22:56:43.458Z"
   },
   {
    "duration": 222,
    "start_time": "2022-03-04T22:56:55.263Z"
   },
   {
    "duration": 226,
    "start_time": "2022-03-04T22:57:28.174Z"
   },
   {
    "duration": 83,
    "start_time": "2022-03-04T23:00:47.394Z"
   },
   {
    "duration": 233,
    "start_time": "2022-03-04T23:00:57.083Z"
   },
   {
    "duration": 24,
    "start_time": "2022-03-04T23:03:51.251Z"
   },
   {
    "duration": 405,
    "start_time": "2022-03-04T23:11:13.626Z"
   },
   {
    "duration": 393,
    "start_time": "2022-03-04T23:11:38.335Z"
   },
   {
    "duration": 401,
    "start_time": "2022-03-04T23:12:39.009Z"
   },
   {
    "duration": 402,
    "start_time": "2022-03-04T23:14:38.696Z"
   },
   {
    "duration": 648,
    "start_time": "2022-03-04T23:23:17.153Z"
   },
   {
    "duration": 304,
    "start_time": "2022-03-04T23:23:48.576Z"
   },
   {
    "duration": 1125,
    "start_time": "2022-03-04T23:25:09.866Z"
   },
   {
    "duration": 701,
    "start_time": "2022-03-04T23:28:01.888Z"
   },
   {
    "duration": 299,
    "start_time": "2022-03-04T23:38:51.402Z"
   },
   {
    "duration": 406,
    "start_time": "2022-03-04T23:39:09.746Z"
   },
   {
    "duration": 302,
    "start_time": "2022-03-04T23:42:07.035Z"
   },
   {
    "duration": 299,
    "start_time": "2022-03-04T23:44:49.790Z"
   },
   {
    "duration": 403,
    "start_time": "2022-03-04T23:44:59.104Z"
   },
   {
    "duration": 315,
    "start_time": "2022-03-04T23:45:12.665Z"
   },
   {
    "duration": 1113,
    "start_time": "2022-03-04T23:45:44.448Z"
   },
   {
    "duration": 322,
    "start_time": "2022-03-04T23:45:51.366Z"
   },
   {
    "duration": 274,
    "start_time": "2022-03-04T23:48:02.662Z"
   },
   {
    "duration": 249,
    "start_time": "2022-03-04T23:48:29.545Z"
   },
   {
    "duration": 345,
    "start_time": "2022-03-04T23:48:35.119Z"
   },
   {
    "duration": 295,
    "start_time": "2022-03-04T23:48:41.182Z"
   },
   {
    "duration": 240,
    "start_time": "2022-03-04T23:48:44.753Z"
   },
   {
    "duration": 270,
    "start_time": "2022-03-04T23:49:46.243Z"
   },
   {
    "duration": 301,
    "start_time": "2022-03-04T23:50:53.456Z"
   },
   {
    "duration": 284,
    "start_time": "2022-03-04T23:51:46.281Z"
   },
   {
    "duration": 263,
    "start_time": "2022-03-04T23:58:10.047Z"
   },
   {
    "duration": 1914,
    "start_time": "2022-03-04T23:59:37.658Z"
   },
   {
    "duration": 260,
    "start_time": "2022-03-05T00:02:56.592Z"
   },
   {
    "duration": 253,
    "start_time": "2022-03-05T00:28:27.136Z"
   },
   {
    "duration": 355,
    "start_time": "2022-03-05T00:28:32.489Z"
   },
   {
    "duration": 291,
    "start_time": "2022-03-05T00:28:47.235Z"
   },
   {
    "duration": 384,
    "start_time": "2022-03-05T00:31:27.198Z"
   },
   {
    "duration": 249,
    "start_time": "2022-03-05T00:31:34.338Z"
   },
   {
    "duration": 268,
    "start_time": "2022-03-05T00:31:39.258Z"
   },
   {
    "duration": 308,
    "start_time": "2022-03-05T00:31:43.639Z"
   },
   {
    "duration": 265,
    "start_time": "2022-03-05T00:33:17.315Z"
   },
   {
    "duration": 4074,
    "start_time": "2022-03-05T00:34:49.921Z"
   },
   {
    "duration": 8,
    "start_time": "2022-03-05T00:34:53.999Z"
   },
   {
    "duration": 9,
    "start_time": "2022-03-05T00:34:54.015Z"
   },
   {
    "duration": 20,
    "start_time": "2022-03-05T00:34:54.027Z"
   },
   {
    "duration": 13,
    "start_time": "2022-03-05T00:34:54.086Z"
   },
   {
    "duration": 14,
    "start_time": "2022-03-05T00:34:54.101Z"
   },
   {
    "duration": 9,
    "start_time": "2022-03-05T00:34:54.118Z"
   },
   {
    "duration": 58,
    "start_time": "2022-03-05T00:34:54.133Z"
   },
   {
    "duration": 11,
    "start_time": "2022-03-05T00:34:54.195Z"
   },
   {
    "duration": 28,
    "start_time": "2022-03-05T00:34:54.209Z"
   },
   {
    "duration": 16,
    "start_time": "2022-03-05T00:34:54.240Z"
   },
   {
    "duration": 1183,
    "start_time": "2022-03-05T00:34:54.259Z"
   },
   {
    "duration": -69,
    "start_time": "2022-03-05T00:34:55.514Z"
   },
   {
    "duration": -70,
    "start_time": "2022-03-05T00:34:55.517Z"
   },
   {
    "duration": -72,
    "start_time": "2022-03-05T00:34:55.520Z"
   },
   {
    "duration": -73,
    "start_time": "2022-03-05T00:34:55.523Z"
   },
   {
    "duration": -74,
    "start_time": "2022-03-05T00:34:55.525Z"
   },
   {
    "duration": -74,
    "start_time": "2022-03-05T00:34:55.527Z"
   },
   {
    "duration": -74,
    "start_time": "2022-03-05T00:34:55.529Z"
   },
   {
    "duration": -75,
    "start_time": "2022-03-05T00:34:55.531Z"
   },
   {
    "duration": -76,
    "start_time": "2022-03-05T00:34:55.533Z"
   },
   {
    "duration": -77,
    "start_time": "2022-03-05T00:34:55.536Z"
   },
   {
    "duration": -78,
    "start_time": "2022-03-05T00:34:55.538Z"
   },
   {
    "duration": -78,
    "start_time": "2022-03-05T00:34:55.540Z"
   },
   {
    "duration": -78,
    "start_time": "2022-03-05T00:34:55.542Z"
   },
   {
    "duration": -79,
    "start_time": "2022-03-05T00:34:55.544Z"
   },
   {
    "duration": -78,
    "start_time": "2022-03-05T00:34:55.545Z"
   },
   {
    "duration": -79,
    "start_time": "2022-03-05T00:34:55.547Z"
   },
   {
    "duration": -78,
    "start_time": "2022-03-05T00:34:55.548Z"
   },
   {
    "duration": -79,
    "start_time": "2022-03-05T00:34:55.550Z"
   },
   {
    "duration": 3968,
    "start_time": "2022-03-05T00:36:37.608Z"
   },
   {
    "duration": 12,
    "start_time": "2022-03-05T00:36:41.579Z"
   },
   {
    "duration": 11,
    "start_time": "2022-03-05T00:36:41.594Z"
   },
   {
    "duration": 14,
    "start_time": "2022-03-05T00:36:41.608Z"
   },
   {
    "duration": 12,
    "start_time": "2022-03-05T00:36:41.624Z"
   },
   {
    "duration": 11,
    "start_time": "2022-03-05T00:36:41.638Z"
   },
   {
    "duration": 7,
    "start_time": "2022-03-05T00:36:41.688Z"
   },
   {
    "duration": 10,
    "start_time": "2022-03-05T00:36:41.698Z"
   },
   {
    "duration": 9,
    "start_time": "2022-03-05T00:36:41.712Z"
   },
   {
    "duration": 9,
    "start_time": "2022-03-05T00:36:41.724Z"
   },
   {
    "duration": 58,
    "start_time": "2022-03-05T00:36:41.735Z"
   },
   {
    "duration": 1174,
    "start_time": "2022-03-05T00:36:41.795Z"
   },
   {
    "duration": -64,
    "start_time": "2022-03-05T00:36:43.035Z"
   },
   {
    "duration": -65,
    "start_time": "2022-03-05T00:36:43.038Z"
   },
   {
    "duration": -67,
    "start_time": "2022-03-05T00:36:43.041Z"
   },
   {
    "duration": -68,
    "start_time": "2022-03-05T00:36:43.043Z"
   },
   {
    "duration": -68,
    "start_time": "2022-03-05T00:36:43.045Z"
   },
   {
    "duration": -69,
    "start_time": "2022-03-05T00:36:43.047Z"
   },
   {
    "duration": -69,
    "start_time": "2022-03-05T00:36:43.048Z"
   },
   {
    "duration": -69,
    "start_time": "2022-03-05T00:36:43.050Z"
   },
   {
    "duration": -70,
    "start_time": "2022-03-05T00:36:43.052Z"
   },
   {
    "duration": -71,
    "start_time": "2022-03-05T00:36:43.054Z"
   },
   {
    "duration": -71,
    "start_time": "2022-03-05T00:36:43.056Z"
   },
   {
    "duration": -72,
    "start_time": "2022-03-05T00:36:43.058Z"
   },
   {
    "duration": -73,
    "start_time": "2022-03-05T00:36:43.060Z"
   },
   {
    "duration": -73,
    "start_time": "2022-03-05T00:36:43.061Z"
   },
   {
    "duration": -73,
    "start_time": "2022-03-05T00:36:43.063Z"
   },
   {
    "duration": -74,
    "start_time": "2022-03-05T00:36:43.065Z"
   },
   {
    "duration": -74,
    "start_time": "2022-03-05T00:36:43.067Z"
   },
   {
    "duration": -74,
    "start_time": "2022-03-05T00:36:43.068Z"
   },
   {
    "duration": 822,
    "start_time": "2022-03-05T00:37:07.585Z"
   },
   {
    "duration": 7,
    "start_time": "2022-03-05T00:37:08.410Z"
   },
   {
    "duration": 20,
    "start_time": "2022-03-05T00:37:08.420Z"
   },
   {
    "duration": 18,
    "start_time": "2022-03-05T00:37:08.444Z"
   },
   {
    "duration": 29,
    "start_time": "2022-03-05T00:37:08.465Z"
   },
   {
    "duration": 14,
    "start_time": "2022-03-05T00:37:08.497Z"
   },
   {
    "duration": 17,
    "start_time": "2022-03-05T00:37:08.514Z"
   },
   {
    "duration": 21,
    "start_time": "2022-03-05T00:37:08.533Z"
   },
   {
    "duration": 10,
    "start_time": "2022-03-05T00:37:08.587Z"
   },
   {
    "duration": 19,
    "start_time": "2022-03-05T00:37:08.600Z"
   },
   {
    "duration": 27,
    "start_time": "2022-03-05T00:37:08.621Z"
   },
   {
    "duration": 1173,
    "start_time": "2022-03-05T00:37:08.650Z"
   },
   {
    "duration": -151,
    "start_time": "2022-03-05T00:37:09.977Z"
   },
   {
    "duration": -152,
    "start_time": "2022-03-05T00:37:09.979Z"
   },
   {
    "duration": -154,
    "start_time": "2022-03-05T00:37:09.982Z"
   },
   {
    "duration": -153,
    "start_time": "2022-03-05T00:37:09.983Z"
   },
   {
    "duration": -154,
    "start_time": "2022-03-05T00:37:09.985Z"
   },
   {
    "duration": -155,
    "start_time": "2022-03-05T00:37:09.987Z"
   },
   {
    "duration": -154,
    "start_time": "2022-03-05T00:37:09.988Z"
   },
   {
    "duration": -155,
    "start_time": "2022-03-05T00:37:09.990Z"
   },
   {
    "duration": -155,
    "start_time": "2022-03-05T00:37:09.992Z"
   },
   {
    "duration": -156,
    "start_time": "2022-03-05T00:37:09.994Z"
   },
   {
    "duration": -158,
    "start_time": "2022-03-05T00:37:09.997Z"
   },
   {
    "duration": -158,
    "start_time": "2022-03-05T00:37:09.999Z"
   },
   {
    "duration": -158,
    "start_time": "2022-03-05T00:37:10.000Z"
   },
   {
    "duration": -159,
    "start_time": "2022-03-05T00:37:10.002Z"
   },
   {
    "duration": -159,
    "start_time": "2022-03-05T00:37:10.004Z"
   },
   {
    "duration": -158,
    "start_time": "2022-03-05T00:37:10.005Z"
   },
   {
    "duration": -159,
    "start_time": "2022-03-05T00:37:10.007Z"
   },
   {
    "duration": -165,
    "start_time": "2022-03-05T00:37:10.014Z"
   },
   {
    "duration": 790,
    "start_time": "2022-03-05T00:38:20.105Z"
   },
   {
    "duration": 6,
    "start_time": "2022-03-05T00:38:20.897Z"
   },
   {
    "duration": 13,
    "start_time": "2022-03-05T00:38:20.906Z"
   },
   {
    "duration": 15,
    "start_time": "2022-03-05T00:38:20.922Z"
   },
   {
    "duration": 10,
    "start_time": "2022-03-05T00:38:20.939Z"
   },
   {
    "duration": 45,
    "start_time": "2022-03-05T00:38:20.951Z"
   },
   {
    "duration": 15,
    "start_time": "2022-03-05T00:38:20.998Z"
   },
   {
    "duration": 9,
    "start_time": "2022-03-05T00:38:21.017Z"
   },
   {
    "duration": 9,
    "start_time": "2022-03-05T00:38:21.030Z"
   },
   {
    "duration": 9,
    "start_time": "2022-03-05T00:38:21.042Z"
   },
   {
    "duration": 17,
    "start_time": "2022-03-05T00:38:21.086Z"
   },
   {
    "duration": 1183,
    "start_time": "2022-03-05T00:38:21.105Z"
   },
   {
    "duration": -26,
    "start_time": "2022-03-05T00:38:22.317Z"
   },
   {
    "duration": -28,
    "start_time": "2022-03-05T00:38:22.320Z"
   },
   {
    "duration": -29,
    "start_time": "2022-03-05T00:38:22.322Z"
   },
   {
    "duration": -30,
    "start_time": "2022-03-05T00:38:22.325Z"
   },
   {
    "duration": -31,
    "start_time": "2022-03-05T00:38:22.327Z"
   },
   {
    "duration": -32,
    "start_time": "2022-03-05T00:38:22.329Z"
   },
   {
    "duration": -32,
    "start_time": "2022-03-05T00:38:22.331Z"
   },
   {
    "duration": -32,
    "start_time": "2022-03-05T00:38:22.332Z"
   },
   {
    "duration": -33,
    "start_time": "2022-03-05T00:38:22.334Z"
   },
   {
    "duration": -35,
    "start_time": "2022-03-05T00:38:22.337Z"
   },
   {
    "duration": -35,
    "start_time": "2022-03-05T00:38:22.339Z"
   },
   {
    "duration": -41,
    "start_time": "2022-03-05T00:38:22.346Z"
   },
   {
    "duration": -42,
    "start_time": "2022-03-05T00:38:22.348Z"
   },
   {
    "duration": -42,
    "start_time": "2022-03-05T00:38:22.349Z"
   },
   {
    "duration": -44,
    "start_time": "2022-03-05T00:38:22.352Z"
   },
   {
    "duration": -44,
    "start_time": "2022-03-05T00:38:22.354Z"
   },
   {
    "duration": -44,
    "start_time": "2022-03-05T00:38:22.355Z"
   },
   {
    "duration": -48,
    "start_time": "2022-03-05T00:38:22.361Z"
   },
   {
    "duration": 3727,
    "start_time": "2022-03-05T00:40:50.471Z"
   },
   {
    "duration": 17148,
    "start_time": "2022-03-05T00:41:05.128Z"
   },
   {
    "duration": 784,
    "start_time": "2022-03-05T00:42:16.733Z"
   },
   {
    "duration": 8,
    "start_time": "2022-03-05T00:42:17.520Z"
   },
   {
    "duration": 44,
    "start_time": "2022-03-05T00:42:17.531Z"
   },
   {
    "duration": 25,
    "start_time": "2022-03-05T00:42:17.577Z"
   },
   {
    "duration": 17,
    "start_time": "2022-03-05T00:42:17.604Z"
   },
   {
    "duration": 14,
    "start_time": "2022-03-05T00:42:17.623Z"
   },
   {
    "duration": 6,
    "start_time": "2022-03-05T00:42:17.640Z"
   },
   {
    "duration": 9,
    "start_time": "2022-03-05T00:42:17.650Z"
   },
   {
    "duration": 35,
    "start_time": "2022-03-05T00:42:17.661Z"
   },
   {
    "duration": 9,
    "start_time": "2022-03-05T00:42:17.698Z"
   },
   {
    "duration": 17,
    "start_time": "2022-03-05T00:42:17.710Z"
   },
   {
    "duration": 1202,
    "start_time": "2022-03-05T00:42:17.729Z"
   },
   {
    "duration": -38,
    "start_time": "2022-03-05T00:42:18.972Z"
   },
   {
    "duration": -40,
    "start_time": "2022-03-05T00:42:18.975Z"
   },
   {
    "duration": -42,
    "start_time": "2022-03-05T00:42:18.978Z"
   },
   {
    "duration": -44,
    "start_time": "2022-03-05T00:42:18.981Z"
   },
   {
    "duration": -44,
    "start_time": "2022-03-05T00:42:18.983Z"
   },
   {
    "duration": -45,
    "start_time": "2022-03-05T00:42:18.985Z"
   },
   {
    "duration": -46,
    "start_time": "2022-03-05T00:42:18.987Z"
   },
   {
    "duration": -45,
    "start_time": "2022-03-05T00:42:18.988Z"
   },
   {
    "duration": -46,
    "start_time": "2022-03-05T00:42:18.990Z"
   },
   {
    "duration": -48,
    "start_time": "2022-03-05T00:42:18.993Z"
   },
   {
    "duration": -50,
    "start_time": "2022-03-05T00:42:18.996Z"
   },
   {
    "duration": -49,
    "start_time": "2022-03-05T00:42:18.997Z"
   },
   {
    "duration": -50,
    "start_time": "2022-03-05T00:42:18.999Z"
   },
   {
    "duration": -56,
    "start_time": "2022-03-05T00:42:19.006Z"
   },
   {
    "duration": -56,
    "start_time": "2022-03-05T00:42:19.008Z"
   },
   {
    "duration": -58,
    "start_time": "2022-03-05T00:42:19.011Z"
   },
   {
    "duration": -59,
    "start_time": "2022-03-05T00:42:19.013Z"
   },
   {
    "duration": -58,
    "start_time": "2022-03-05T00:42:19.014Z"
   },
   {
    "duration": 1104,
    "start_time": "2022-03-05T00:50:05.809Z"
   },
   {
    "duration": 2190,
    "start_time": "2022-03-05T00:53:19.403Z"
   },
   {
    "duration": 44,
    "start_time": "2022-03-05T00:53:56.243Z"
   },
   {
    "duration": 2231,
    "start_time": "2022-03-05T00:54:32.214Z"
   },
   {
    "duration": 656,
    "start_time": "2022-03-05T00:56:31.378Z"
   },
   {
    "duration": 1058,
    "start_time": "2022-03-05T00:59:16.561Z"
   },
   {
    "duration": 84,
    "start_time": "2022-03-05T00:59:40.396Z"
   },
   {
    "duration": 1120,
    "start_time": "2022-03-05T00:59:45.584Z"
   },
   {
    "duration": 244,
    "start_time": "2022-03-05T01:03:05.315Z"
   },
   {
    "duration": 8,
    "start_time": "2022-03-05T01:03:42.005Z"
   },
   {
    "duration": 7,
    "start_time": "2022-03-05T01:04:06.170Z"
   },
   {
    "duration": 7,
    "start_time": "2022-03-05T01:04:18.290Z"
   },
   {
    "duration": 799,
    "start_time": "2022-03-05T01:04:29.704Z"
   },
   {
    "duration": 7,
    "start_time": "2022-03-05T01:04:30.506Z"
   },
   {
    "duration": 13,
    "start_time": "2022-03-05T01:04:30.516Z"
   },
   {
    "duration": 19,
    "start_time": "2022-03-05T01:04:30.531Z"
   },
   {
    "duration": 8,
    "start_time": "2022-03-05T01:04:43.100Z"
   },
   {
    "duration": 822,
    "start_time": "2022-03-05T01:04:51.049Z"
   },
   {
    "duration": 6,
    "start_time": "2022-03-05T01:04:51.873Z"
   },
   {
    "duration": 15,
    "start_time": "2022-03-05T01:04:51.882Z"
   },
   {
    "duration": 17,
    "start_time": "2022-03-05T01:04:51.899Z"
   },
   {
    "duration": 10,
    "start_time": "2022-03-05T01:04:51.918Z"
   },
   {
    "duration": 19,
    "start_time": "2022-03-05T01:04:51.930Z"
   },
   {
    "duration": 12,
    "start_time": "2022-03-05T01:04:51.951Z"
   },
   {
    "duration": 11,
    "start_time": "2022-03-05T01:04:51.988Z"
   },
   {
    "duration": 11,
    "start_time": "2022-03-05T01:04:52.003Z"
   },
   {
    "duration": 8,
    "start_time": "2022-03-05T01:04:52.017Z"
   },
   {
    "duration": 84,
    "start_time": "2022-03-05T01:04:52.028Z"
   },
   {
    "duration": 681,
    "start_time": "2022-03-05T01:04:52.114Z"
   },
   {
    "duration": 37,
    "start_time": "2022-03-05T01:04:52.797Z"
   },
   {
    "duration": 55,
    "start_time": "2022-03-05T01:04:52.836Z"
   },
   {
    "duration": 2651,
    "start_time": "2022-03-05T01:04:52.893Z"
   },
   {
    "duration": 13,
    "start_time": "2022-03-05T01:04:55.546Z"
   },
   {
    "duration": 447,
    "start_time": "2022-03-05T01:04:55.561Z"
   },
   {
    "duration": 521,
    "start_time": "2022-03-05T01:04:56.010Z"
   },
   {
    "duration": 7,
    "start_time": "2022-03-05T01:04:56.534Z"
   },
   {
    "duration": 42,
    "start_time": "2022-03-05T01:04:56.544Z"
   },
   {
    "duration": 419,
    "start_time": "2022-03-05T01:04:56.589Z"
   },
   {
    "duration": 636,
    "start_time": "2022-03-05T01:04:57.011Z"
   },
   {
    "duration": 1165,
    "start_time": "2022-03-05T01:04:57.650Z"
   },
   {
    "duration": -65,
    "start_time": "2022-03-05T01:04:58.882Z"
   },
   {
    "duration": -65,
    "start_time": "2022-03-05T01:04:58.884Z"
   },
   {
    "duration": -66,
    "start_time": "2022-03-05T01:04:58.886Z"
   },
   {
    "duration": -67,
    "start_time": "2022-03-05T01:04:58.889Z"
   },
   {
    "duration": -68,
    "start_time": "2022-03-05T01:04:58.891Z"
   },
   {
    "duration": -68,
    "start_time": "2022-03-05T01:04:58.893Z"
   },
   {
    "duration": -69,
    "start_time": "2022-03-05T01:04:58.895Z"
   },
   {
    "duration": 716,
    "start_time": "2022-03-05T01:05:57.635Z"
   },
   {
    "duration": 798,
    "start_time": "2022-03-05T01:06:05.307Z"
   },
   {
    "duration": 9,
    "start_time": "2022-03-05T01:06:06.107Z"
   },
   {
    "duration": 15,
    "start_time": "2022-03-05T01:06:06.119Z"
   },
   {
    "duration": 20,
    "start_time": "2022-03-05T01:06:06.137Z"
   },
   {
    "duration": 28,
    "start_time": "2022-03-05T01:06:06.160Z"
   },
   {
    "duration": 12,
    "start_time": "2022-03-05T01:06:06.190Z"
   },
   {
    "duration": 8,
    "start_time": "2022-03-05T01:06:06.204Z"
   },
   {
    "duration": 11,
    "start_time": "2022-03-05T01:06:06.214Z"
   },
   {
    "duration": 11,
    "start_time": "2022-03-05T01:06:06.229Z"
   },
   {
    "duration": 50,
    "start_time": "2022-03-05T01:06:06.243Z"
   },
   {
    "duration": 48,
    "start_time": "2022-03-05T01:06:06.295Z"
   },
   {
    "duration": 695,
    "start_time": "2022-03-05T01:06:06.346Z"
   },
   {
    "duration": 49,
    "start_time": "2022-03-05T01:06:07.043Z"
   },
   {
    "duration": 29,
    "start_time": "2022-03-05T01:06:07.095Z"
   },
   {
    "duration": 2685,
    "start_time": "2022-03-05T01:06:07.126Z"
   },
   {
    "duration": 13,
    "start_time": "2022-03-05T01:06:09.814Z"
   },
   {
    "duration": 453,
    "start_time": "2022-03-05T01:06:09.829Z"
   },
   {
    "duration": 527,
    "start_time": "2022-03-05T01:06:10.284Z"
   },
   {
    "duration": 8,
    "start_time": "2022-03-05T01:06:10.814Z"
   },
   {
    "duration": 24,
    "start_time": "2022-03-05T01:06:10.824Z"
   },
   {
    "duration": 444,
    "start_time": "2022-03-05T01:06:10.851Z"
   },
   {
    "duration": 635,
    "start_time": "2022-03-05T01:06:11.297Z"
   },
   {
    "duration": 720,
    "start_time": "2022-03-05T01:06:11.935Z"
   },
   {
    "duration": 275,
    "start_time": "2022-03-05T01:06:12.658Z"
   },
   {
    "duration": 342,
    "start_time": "2022-03-05T01:06:12.935Z"
   },
   {
    "duration": 300,
    "start_time": "2022-03-05T01:06:13.280Z"
   },
   {
    "duration": 268,
    "start_time": "2022-03-05T01:06:13.588Z"
   },
   {
    "duration": 265,
    "start_time": "2022-03-05T01:06:13.859Z"
   },
   {
    "duration": 309,
    "start_time": "2022-03-05T01:06:14.127Z"
   },
   {
    "duration": 351,
    "start_time": "2022-03-05T01:06:14.438Z"
   },
   {
    "duration": 416,
    "start_time": "2022-03-05T01:09:07.276Z"
   },
   {
    "duration": 413,
    "start_time": "2022-03-05T01:09:16.590Z"
   },
   {
    "duration": 519,
    "start_time": "2022-03-05T01:09:41.356Z"
   },
   {
    "duration": 512,
    "start_time": "2022-03-05T01:10:05.520Z"
   },
   {
    "duration": 508,
    "start_time": "2022-03-05T01:10:22.336Z"
   },
   {
    "duration": 463,
    "start_time": "2022-03-05T01:10:33.827Z"
   },
   {
    "duration": 2052,
    "start_time": "2022-03-05T01:11:13.217Z"
   },
   {
    "duration": 3,
    "start_time": "2022-03-05T01:14:16.191Z"
   },
   {
    "duration": 79,
    "start_time": "2022-03-05T01:22:41.311Z"
   },
   {
    "duration": 80,
    "start_time": "2022-03-05T01:24:17.045Z"
   },
   {
    "duration": 79,
    "start_time": "2022-03-05T01:24:39.033Z"
   },
   {
    "duration": 6,
    "start_time": "2022-03-05T01:25:40.356Z"
   },
   {
    "duration": 10,
    "start_time": "2022-03-05T01:25:50.047Z"
   },
   {
    "duration": 9,
    "start_time": "2022-03-05T01:30:18.971Z"
   },
   {
    "duration": 496,
    "start_time": "2022-03-05T01:30:38.442Z"
   },
   {
    "duration": 79,
    "start_time": "2022-03-05T01:31:26.668Z"
   },
   {
    "duration": 8,
    "start_time": "2022-03-05T01:32:22.537Z"
   },
   {
    "duration": 77,
    "start_time": "2022-03-05T01:33:21.029Z"
   },
   {
    "duration": 79,
    "start_time": "2022-03-05T01:34:13.502Z"
   },
   {
    "duration": 79,
    "start_time": "2022-03-05T01:35:18.408Z"
   },
   {
    "duration": 45,
    "start_time": "2022-03-05T01:45:18.307Z"
   },
   {
    "duration": 46,
    "start_time": "2022-03-05T01:45:33.030Z"
   },
   {
    "duration": 44,
    "start_time": "2022-03-05T01:45:44.073Z"
   },
   {
    "duration": 43,
    "start_time": "2022-03-05T01:46:24.856Z"
   },
   {
    "duration": 43,
    "start_time": "2022-03-05T01:47:07.997Z"
   },
   {
    "duration": 43,
    "start_time": "2022-03-05T01:48:02.718Z"
   },
   {
    "duration": 44,
    "start_time": "2022-03-05T01:48:56.254Z"
   },
   {
    "duration": 45,
    "start_time": "2022-03-05T01:56:43.312Z"
   },
   {
    "duration": 2759,
    "start_time": "2022-03-05T01:58:26.763Z"
   },
   {
    "duration": 39,
    "start_time": "2022-03-05T02:00:07.430Z"
   },
   {
    "duration": 493,
    "start_time": "2022-03-05T02:03:41.583Z"
   },
   {
    "duration": 17,
    "start_time": "2022-03-05T02:08:45.765Z"
   },
   {
    "duration": 23,
    "start_time": "2022-03-05T02:09:07.425Z"
   },
   {
    "duration": 329,
    "start_time": "2022-03-05T02:12:18.667Z"
   },
   {
    "duration": 322,
    "start_time": "2022-03-05T02:13:55.312Z"
   },
   {
    "duration": 237,
    "start_time": "2022-03-05T02:18:03.671Z"
   },
   {
    "duration": 396,
    "start_time": "2022-03-05T02:18:36.058Z"
   },
   {
    "duration": 507,
    "start_time": "2022-03-05T02:22:26.688Z"
   },
   {
    "duration": 10,
    "start_time": "2022-03-05T03:04:53.471Z"
   },
   {
    "duration": 49,
    "start_time": "2022-03-05T03:05:01.633Z"
   },
   {
    "duration": 12,
    "start_time": "2022-03-05T03:05:12.333Z"
   },
   {
    "duration": 39,
    "start_time": "2022-03-05T03:11:43.228Z"
   },
   {
    "duration": 35,
    "start_time": "2022-03-05T03:12:20.347Z"
   },
   {
    "duration": 35,
    "start_time": "2022-03-05T03:12:23.594Z"
   },
   {
    "duration": 36,
    "start_time": "2022-03-05T03:12:39.345Z"
   },
   {
    "duration": 296,
    "start_time": "2022-03-05T14:36:05.360Z"
   },
   {
    "duration": 826,
    "start_time": "2022-03-05T14:36:33.098Z"
   },
   {
    "duration": 9,
    "start_time": "2022-03-05T14:36:33.926Z"
   },
   {
    "duration": 24,
    "start_time": "2022-03-05T14:36:33.938Z"
   },
   {
    "duration": 27,
    "start_time": "2022-03-05T14:36:33.965Z"
   },
   {
    "duration": 7,
    "start_time": "2022-03-05T14:36:33.995Z"
   },
   {
    "duration": 32,
    "start_time": "2022-03-05T14:36:34.004Z"
   },
   {
    "duration": 24,
    "start_time": "2022-03-05T14:36:34.039Z"
   },
   {
    "duration": 23,
    "start_time": "2022-03-05T14:36:34.065Z"
   },
   {
    "duration": 22,
    "start_time": "2022-03-05T14:36:34.092Z"
   },
   {
    "duration": 17,
    "start_time": "2022-03-05T14:36:34.117Z"
   },
   {
    "duration": 63,
    "start_time": "2022-03-05T14:36:34.136Z"
   },
   {
    "duration": 965,
    "start_time": "2022-03-05T14:36:34.201Z"
   },
   {
    "duration": 46,
    "start_time": "2022-03-05T14:36:35.169Z"
   },
   {
    "duration": 32,
    "start_time": "2022-03-05T14:36:35.217Z"
   },
   {
    "duration": 2124,
    "start_time": "2022-03-05T14:36:35.251Z"
   },
   {
    "duration": 14,
    "start_time": "2022-03-05T14:36:37.381Z"
   },
   {
    "duration": 433,
    "start_time": "2022-03-05T14:36:37.397Z"
   },
   {
    "duration": 528,
    "start_time": "2022-03-05T14:36:37.832Z"
   },
   {
    "duration": 20,
    "start_time": "2022-03-05T14:36:38.363Z"
   },
   {
    "duration": 20,
    "start_time": "2022-03-05T14:36:38.385Z"
   },
   {
    "duration": 430,
    "start_time": "2022-03-05T14:36:38.407Z"
   },
   {
    "duration": 856,
    "start_time": "2022-03-05T14:36:38.840Z"
   },
   {
    "duration": 1150,
    "start_time": "2022-03-05T14:36:39.699Z"
   },
   {
    "duration": 276,
    "start_time": "2022-03-05T14:36:40.852Z"
   },
   {
    "duration": 365,
    "start_time": "2022-03-05T14:36:41.131Z"
   },
   {
    "duration": 300,
    "start_time": "2022-03-05T14:36:41.498Z"
   },
   {
    "duration": 255,
    "start_time": "2022-03-05T14:36:41.805Z"
   },
   {
    "duration": 282,
    "start_time": "2022-03-05T14:36:42.062Z"
   },
   {
    "duration": 323,
    "start_time": "2022-03-05T14:36:42.347Z"
   },
   {
    "duration": 283,
    "start_time": "2022-03-05T14:36:42.673Z"
   },
   {
    "duration": 58,
    "start_time": "2022-03-05T14:36:42.959Z"
   },
   {
    "duration": 473,
    "start_time": "2022-03-05T14:36:43.020Z"
   },
   {
    "duration": 300,
    "start_time": "2022-03-05T14:36:43.496Z"
   },
   {
    "duration": 84,
    "start_time": "2022-03-05T14:36:43.799Z"
   },
   {
    "duration": -32,
    "start_time": "2022-03-05T14:36:43.918Z"
   },
   {
    "duration": 393,
    "start_time": "2022-03-05T14:40:55.030Z"
   },
   {
    "duration": 337,
    "start_time": "2022-03-05T14:52:01.795Z"
   },
   {
    "duration": 261,
    "start_time": "2022-03-05T14:53:58.459Z"
   },
   {
    "duration": 247,
    "start_time": "2022-03-05T14:54:50.839Z"
   },
   {
    "duration": 10,
    "start_time": "2022-03-05T14:55:32.121Z"
   },
   {
    "duration": 398,
    "start_time": "2022-03-05T15:00:08.917Z"
   },
   {
    "duration": 290,
    "start_time": "2022-03-05T15:04:41.913Z"
   },
   {
    "duration": 35,
    "start_time": "2022-03-05T15:04:46.674Z"
   },
   {
    "duration": 33,
    "start_time": "2022-03-05T15:04:55.758Z"
   },
   {
    "duration": 48958,
    "start_time": "2022-03-05T15:05:17.434Z"
   },
   {
    "duration": 37,
    "start_time": "2022-03-05T15:08:25.957Z"
   },
   {
    "duration": 65,
    "start_time": "2022-03-05T15:20:06.509Z"
   },
   {
    "duration": 68,
    "start_time": "2022-03-05T15:20:33.924Z"
   },
   {
    "duration": 100,
    "start_time": "2022-03-05T15:20:49.028Z"
   },
   {
    "duration": 41,
    "start_time": "2022-03-05T15:21:31.764Z"
   },
   {
    "duration": 33,
    "start_time": "2022-03-05T15:31:11.121Z"
   },
   {
    "duration": 2925,
    "start_time": "2022-03-05T15:32:51.113Z"
   },
   {
    "duration": 409,
    "start_time": "2022-03-05T15:37:59.700Z"
   },
   {
    "duration": 268,
    "start_time": "2022-03-05T15:39:22.038Z"
   },
   {
    "duration": 409,
    "start_time": "2022-03-05T15:39:54.032Z"
   },
   {
    "duration": 373,
    "start_time": "2022-03-05T15:41:30.109Z"
   },
   {
    "duration": 314,
    "start_time": "2022-03-05T15:42:45.248Z"
   },
   {
    "duration": 271,
    "start_time": "2022-03-05T15:43:54.757Z"
   },
   {
    "duration": 290,
    "start_time": "2022-03-05T15:44:44.184Z"
   },
   {
    "duration": 350,
    "start_time": "2022-03-05T15:45:30.985Z"
   },
   {
    "duration": 373,
    "start_time": "2022-03-05T15:46:12.822Z"
   },
   {
    "duration": -20,
    "start_time": "2022-03-05T15:54:00.971Z"
   },
   {
    "duration": 126,
    "start_time": "2022-03-05T16:15:58.968Z"
   },
   {
    "duration": 54,
    "start_time": "2022-03-05T16:16:25.347Z"
   },
   {
    "duration": 243,
    "start_time": "2022-03-05T16:18:04.162Z"
   },
   {
    "duration": 65,
    "start_time": "2022-03-05T16:18:44.210Z"
   },
   {
    "duration": 4634,
    "start_time": "2022-03-05T16:30:55.859Z"
   },
   {
    "duration": 331,
    "start_time": "2022-03-05T16:32:54.993Z"
   },
   {
    "duration": 69,
    "start_time": "2022-03-05T16:33:10.827Z"
   },
   {
    "duration": 303,
    "start_time": "2022-03-05T16:34:20.786Z"
   },
   {
    "duration": 1263,
    "start_time": "2022-03-05T16:35:12.719Z"
   },
   {
    "duration": 263,
    "start_time": "2022-03-05T16:36:07.335Z"
   },
   {
    "duration": 278,
    "start_time": "2022-03-05T16:41:23.541Z"
   },
   {
    "duration": 32,
    "start_time": "2022-03-05T16:42:08.616Z"
   },
   {
    "duration": 307,
    "start_time": "2022-03-05T16:46:35.662Z"
   },
   {
    "duration": 6026,
    "start_time": "2022-03-05T16:47:07.482Z"
   },
   {
    "duration": 413,
    "start_time": "2022-03-05T16:53:59.318Z"
   },
   {
    "duration": 6496,
    "start_time": "2022-03-05T17:10:15.446Z"
   },
   {
    "duration": 5911,
    "start_time": "2022-03-05T17:10:48.434Z"
   },
   {
    "duration": 491,
    "start_time": "2022-03-05T17:11:13.560Z"
   },
   {
    "duration": 93,
    "start_time": "2022-03-05T17:13:55.608Z"
   },
   {
    "duration": 466,
    "start_time": "2022-03-05T17:14:11.839Z"
   },
   {
    "duration": 19592,
    "start_time": "2022-03-05T17:26:20.463Z"
   },
   {
    "duration": 2224,
    "start_time": "2022-03-05T17:30:03.089Z"
   },
   {
    "duration": 276,
    "start_time": "2022-03-05T17:31:10.735Z"
   },
   {
    "duration": 376,
    "start_time": "2022-03-05T17:31:18.475Z"
   },
   {
    "duration": 3413,
    "start_time": "2022-03-05T17:38:02.110Z"
   },
   {
    "duration": 37,
    "start_time": "2022-03-05T17:39:36.842Z"
   },
   {
    "duration": 88,
    "start_time": "2022-03-05T18:09:48.237Z"
   },
   {
    "duration": 806,
    "start_time": "2022-03-05T18:10:27.388Z"
   },
   {
    "duration": 595,
    "start_time": "2022-03-05T18:12:36.002Z"
   },
   {
    "duration": 585,
    "start_time": "2022-03-05T18:14:16.038Z"
   },
   {
    "duration": 785,
    "start_time": "2022-03-05T18:14:29.372Z"
   },
   {
    "duration": 597,
    "start_time": "2022-03-05T18:19:57.806Z"
   },
   {
    "duration": 1692,
    "start_time": "2022-03-05T18:31:03.954Z"
   },
   {
    "duration": 2858,
    "start_time": "2022-03-05T18:32:59.398Z"
   },
   {
    "duration": 2113,
    "start_time": "2022-03-05T18:34:42.915Z"
   },
   {
    "duration": 62,
    "start_time": "2022-03-05T18:51:26.952Z"
   },
   {
    "duration": 27,
    "start_time": "2022-03-05T19:51:42.199Z"
   },
   {
    "duration": 36,
    "start_time": "2022-03-05T19:52:10.370Z"
   },
   {
    "duration": 1174,
    "start_time": "2022-03-05T19:55:53.724Z"
   },
   {
    "duration": 11,
    "start_time": "2022-03-05T19:55:54.906Z"
   },
   {
    "duration": 9,
    "start_time": "2022-03-05T19:55:54.920Z"
   },
   {
    "duration": 53,
    "start_time": "2022-03-05T19:55:54.931Z"
   },
   {
    "duration": 9,
    "start_time": "2022-03-05T19:55:54.987Z"
   },
   {
    "duration": 21,
    "start_time": "2022-03-05T19:55:55.000Z"
   },
   {
    "duration": 12,
    "start_time": "2022-03-05T19:55:55.024Z"
   },
   {
    "duration": 12,
    "start_time": "2022-03-05T19:55:55.086Z"
   },
   {
    "duration": 13,
    "start_time": "2022-03-05T19:55:55.102Z"
   },
   {
    "duration": 15,
    "start_time": "2022-03-05T19:55:55.118Z"
   },
   {
    "duration": 107,
    "start_time": "2022-03-05T19:55:55.135Z"
   },
   {
    "duration": 1639,
    "start_time": "2022-03-05T19:55:55.245Z"
   },
   {
    "duration": 59,
    "start_time": "2022-03-05T19:55:56.887Z"
   },
   {
    "duration": 63,
    "start_time": "2022-03-05T19:55:56.949Z"
   },
   {
    "duration": 3130,
    "start_time": "2022-03-05T19:55:57.015Z"
   },
   {
    "duration": 37,
    "start_time": "2022-03-05T19:56:00.148Z"
   },
   {
    "duration": 559,
    "start_time": "2022-03-05T19:56:00.187Z"
   },
   {
    "duration": 666,
    "start_time": "2022-03-05T19:56:00.749Z"
   },
   {
    "duration": 11,
    "start_time": "2022-03-05T19:56:01.419Z"
   },
   {
    "duration": 52,
    "start_time": "2022-03-05T19:56:01.434Z"
   },
   {
    "duration": 744,
    "start_time": "2022-03-05T19:56:01.489Z"
   },
   {
    "duration": 1399,
    "start_time": "2022-03-05T19:56:02.235Z"
   },
   {
    "duration": 1723,
    "start_time": "2022-03-05T19:56:03.637Z"
   },
   {
    "duration": 404,
    "start_time": "2022-03-05T19:56:05.363Z"
   },
   {
    "duration": 512,
    "start_time": "2022-03-05T19:56:05.770Z"
   },
   {
    "duration": 419,
    "start_time": "2022-03-05T19:56:06.289Z"
   },
   {
    "duration": 272,
    "start_time": "2022-03-05T19:56:06.712Z"
   },
   {
    "duration": 283,
    "start_time": "2022-03-05T19:56:06.987Z"
   },
   {
    "duration": 337,
    "start_time": "2022-03-05T19:56:07.281Z"
   },
   {
    "duration": 291,
    "start_time": "2022-03-05T19:56:07.621Z"
   },
   {
    "duration": 82,
    "start_time": "2022-03-05T19:56:07.915Z"
   },
   {
    "duration": 558,
    "start_time": "2022-03-05T19:56:08.000Z"
   },
   {
    "duration": 47,
    "start_time": "2022-03-05T19:56:08.560Z"
   },
   {
    "duration": 2120,
    "start_time": "2022-03-05T19:56:08.610Z"
   },
   {
    "duration": 309,
    "start_time": "2022-03-05T19:56:10.733Z"
   },
   {
    "duration": 370,
    "start_time": "2022-03-05T19:56:11.045Z"
   },
   {
    "duration": 279,
    "start_time": "2022-03-05T19:56:11.418Z"
   },
   {
    "duration": 291,
    "start_time": "2022-03-05T19:56:11.700Z"
   },
   {
    "duration": 318,
    "start_time": "2022-03-05T19:56:11.993Z"
   },
   {
    "duration": 431,
    "start_time": "2022-03-05T19:56:12.314Z"
   },
   {
    "duration": 423,
    "start_time": "2022-03-05T19:56:12.747Z"
   },
   {
    "duration": 839,
    "start_time": "2022-03-13T21:30:14.730Z"
   },
   {
    "duration": 15,
    "start_time": "2022-03-13T21:30:15.572Z"
   },
   {
    "duration": 10,
    "start_time": "2022-03-13T21:30:15.591Z"
   },
   {
    "duration": 16,
    "start_time": "2022-03-13T21:30:15.604Z"
   },
   {
    "duration": 9,
    "start_time": "2022-03-13T21:30:15.623Z"
   },
   {
    "duration": 21,
    "start_time": "2022-03-13T21:30:15.683Z"
   },
   {
    "duration": 11,
    "start_time": "2022-03-13T21:30:15.707Z"
   },
   {
    "duration": 14,
    "start_time": "2022-03-13T21:30:15.721Z"
   },
   {
    "duration": 47,
    "start_time": "2022-03-13T21:30:15.739Z"
   },
   {
    "duration": 15,
    "start_time": "2022-03-13T21:30:15.789Z"
   },
   {
    "duration": 48,
    "start_time": "2022-03-13T21:30:15.807Z"
   },
   {
    "duration": 1025,
    "start_time": "2022-03-13T21:30:15.882Z"
   },
   {
    "duration": 51,
    "start_time": "2022-03-13T21:30:16.909Z"
   },
   {
    "duration": 34,
    "start_time": "2022-03-13T21:30:16.982Z"
   },
   {
    "duration": 2255,
    "start_time": "2022-03-13T21:30:17.018Z"
   },
   {
    "duration": 19,
    "start_time": "2022-03-13T21:30:19.276Z"
   },
   {
    "duration": 455,
    "start_time": "2022-03-13T21:30:19.297Z"
   },
   {
    "duration": 540,
    "start_time": "2022-03-13T21:30:19.754Z"
   },
   {
    "duration": 8,
    "start_time": "2022-03-13T21:30:20.297Z"
   },
   {
    "duration": 21,
    "start_time": "2022-03-13T21:30:20.307Z"
   },
   {
    "duration": 495,
    "start_time": "2022-03-13T21:30:20.331Z"
   },
   {
    "duration": 878,
    "start_time": "2022-03-13T21:30:20.829Z"
   },
   {
    "duration": 1174,
    "start_time": "2022-03-13T21:30:21.709Z"
   },
   {
    "duration": 274,
    "start_time": "2022-03-13T21:30:22.886Z"
   },
   {
    "duration": 360,
    "start_time": "2022-03-13T21:30:23.163Z"
   },
   {
    "duration": 299,
    "start_time": "2022-03-13T21:30:23.525Z"
   },
   {
    "duration": 265,
    "start_time": "2022-03-13T21:30:23.830Z"
   },
   {
    "duration": 277,
    "start_time": "2022-03-13T21:30:24.097Z"
   },
   {
    "duration": 329,
    "start_time": "2022-03-13T21:30:24.376Z"
   },
   {
    "duration": 285,
    "start_time": "2022-03-13T21:30:24.708Z"
   },
   {
    "duration": 65,
    "start_time": "2022-03-13T21:30:24.995Z"
   },
   {
    "duration": 500,
    "start_time": "2022-03-13T21:30:25.063Z"
   },
   {
    "duration": 49,
    "start_time": "2022-03-13T21:30:25.566Z"
   },
   {
    "duration": 2067,
    "start_time": "2022-03-13T21:30:25.617Z"
   },
   {
    "duration": 290,
    "start_time": "2022-03-13T21:30:27.687Z"
   },
   {
    "duration": 387,
    "start_time": "2022-03-13T21:30:27.983Z"
   },
   {
    "duration": 275,
    "start_time": "2022-03-13T21:30:28.373Z"
   },
   {
    "duration": 266,
    "start_time": "2022-03-13T21:30:28.651Z"
   },
   {
    "duration": 309,
    "start_time": "2022-03-13T21:30:28.920Z"
   },
   {
    "duration": 478,
    "start_time": "2022-03-13T21:30:29.233Z"
   },
   {
    "duration": 330,
    "start_time": "2022-03-13T21:30:29.713Z"
   },
   {
    "duration": 806,
    "start_time": "2022-03-14T19:42:13.336Z"
   },
   {
    "duration": 123,
    "start_time": "2022-03-14T19:42:14.144Z"
   },
   {
    "duration": 13,
    "start_time": "2022-03-14T19:42:14.268Z"
   },
   {
    "duration": 12,
    "start_time": "2022-03-14T19:42:14.282Z"
   },
   {
    "duration": 6,
    "start_time": "2022-03-14T19:42:14.295Z"
   },
   {
    "duration": 16,
    "start_time": "2022-03-14T19:42:14.303Z"
   },
   {
    "duration": 10,
    "start_time": "2022-03-14T19:42:14.322Z"
   },
   {
    "duration": 11,
    "start_time": "2022-03-14T19:42:14.335Z"
   },
   {
    "duration": 9,
    "start_time": "2022-03-14T19:42:14.347Z"
   },
   {
    "duration": 9,
    "start_time": "2022-03-14T19:42:14.358Z"
   },
   {
    "duration": 73,
    "start_time": "2022-03-14T19:42:14.369Z"
   },
   {
    "duration": 690,
    "start_time": "2022-03-14T19:42:14.443Z"
   },
   {
    "duration": 32,
    "start_time": "2022-03-14T19:42:15.135Z"
   },
   {
    "duration": 30,
    "start_time": "2022-03-14T19:42:15.168Z"
   },
   {
    "duration": 1677,
    "start_time": "2022-03-14T19:42:15.200Z"
   },
   {
    "duration": 17,
    "start_time": "2022-03-14T19:42:16.879Z"
   },
   {
    "duration": 370,
    "start_time": "2022-03-14T19:42:16.898Z"
   },
   {
    "duration": 390,
    "start_time": "2022-03-14T19:42:17.270Z"
   },
   {
    "duration": 7,
    "start_time": "2022-03-14T19:42:17.662Z"
   },
   {
    "duration": 28,
    "start_time": "2022-03-14T19:42:17.671Z"
   },
   {
    "duration": 319,
    "start_time": "2022-03-14T19:42:17.701Z"
   },
   {
    "duration": 20,
    "start_time": "2022-03-14T19:42:18.022Z"
   },
   {
    "duration": 513,
    "start_time": "2022-03-14T19:42:18.044Z"
   },
   {
    "duration": 638,
    "start_time": "2022-03-14T19:42:18.560Z"
   },
   {
    "duration": 203,
    "start_time": "2022-03-14T19:42:19.202Z"
   },
   {
    "duration": 249,
    "start_time": "2022-03-14T19:42:19.407Z"
   },
   {
    "duration": 219,
    "start_time": "2022-03-14T19:42:19.658Z"
   },
   {
    "duration": 197,
    "start_time": "2022-03-14T19:42:19.879Z"
   },
   {
    "duration": 203,
    "start_time": "2022-03-14T19:42:20.079Z"
   },
   {
    "duration": 238,
    "start_time": "2022-03-14T19:42:20.283Z"
   },
   {
    "duration": 196,
    "start_time": "2022-03-14T19:42:20.523Z"
   },
   {
    "duration": 39,
    "start_time": "2022-03-14T19:42:20.721Z"
   },
   {
    "duration": 302,
    "start_time": "2022-03-14T19:42:20.762Z"
   },
   {
    "duration": 29,
    "start_time": "2022-03-14T19:42:21.066Z"
   },
   {
    "duration": 1575,
    "start_time": "2022-03-14T19:42:21.097Z"
   },
   {
    "duration": 217,
    "start_time": "2022-03-14T19:42:22.675Z"
   },
   {
    "duration": 245,
    "start_time": "2022-03-14T19:42:22.894Z"
   },
   {
    "duration": 211,
    "start_time": "2022-03-14T19:42:23.140Z"
   },
   {
    "duration": 201,
    "start_time": "2022-03-14T19:42:23.354Z"
   },
   {
    "duration": 217,
    "start_time": "2022-03-14T19:42:23.557Z"
   },
   {
    "duration": 249,
    "start_time": "2022-03-14T19:42:23.776Z"
   },
   {
    "duration": 295,
    "start_time": "2022-03-14T19:42:24.031Z"
   },
   {
    "duration": 444,
    "start_time": "2022-03-14T19:44:10.315Z"
   },
   {
    "duration": 453,
    "start_time": "2022-03-14T19:44:24.819Z"
   },
   {
    "duration": 15,
    "start_time": "2022-03-14T19:44:35.964Z"
   },
   {
    "duration": 465,
    "start_time": "2022-03-14T19:44:42.879Z"
   },
   {
    "duration": 15,
    "start_time": "2022-03-14T19:48:06.989Z"
   },
   {
    "duration": 17,
    "start_time": "2022-03-14T19:52:27.056Z"
   },
   {
    "duration": 499,
    "start_time": "2022-03-14T19:52:33.356Z"
   },
   {
    "duration": 17,
    "start_time": "2022-03-14T19:54:17.625Z"
   },
   {
    "duration": 25,
    "start_time": "2022-03-14T19:54:36.682Z"
   },
   {
    "duration": 14,
    "start_time": "2022-03-14T19:54:54.682Z"
   },
   {
    "duration": 546,
    "start_time": "2022-03-14T19:55:00.308Z"
   },
   {
    "duration": 18,
    "start_time": "2022-03-14T19:57:32.345Z"
   },
   {
    "duration": 402,
    "start_time": "2022-03-14T19:57:56.893Z"
   },
   {
    "duration": 17,
    "start_time": "2022-03-14T19:58:14.906Z"
   },
   {
    "duration": 284,
    "start_time": "2022-03-14T19:58:18.176Z"
   },
   {
    "duration": 18,
    "start_time": "2022-03-14T20:00:41.589Z"
   },
   {
    "duration": 316,
    "start_time": "2022-03-14T20:00:44.580Z"
   },
   {
    "duration": 355,
    "start_time": "2022-03-14T20:13:50.916Z"
   },
   {
    "duration": 14,
    "start_time": "2022-03-14T20:14:07.044Z"
   },
   {
    "duration": 315,
    "start_time": "2022-03-14T20:16:27.156Z"
   },
   {
    "duration": 238,
    "start_time": "2022-03-14T20:16:52.784Z"
   },
   {
    "duration": 486,
    "start_time": "2022-03-14T20:17:11.422Z"
   },
   {
    "duration": 6522,
    "start_time": "2022-03-14T20:19:05.966Z"
   },
   {
    "duration": 9454,
    "start_time": "2022-03-14T20:20:03.761Z"
   },
   {
    "duration": 30,
    "start_time": "2022-03-14T20:20:39.880Z"
   },
   {
    "duration": 282,
    "start_time": "2022-03-14T20:21:55.925Z"
   },
   {
    "duration": 274,
    "start_time": "2022-03-14T20:22:18.207Z"
   },
   {
    "duration": 18,
    "start_time": "2022-03-14T20:22:40.965Z"
   },
   {
    "duration": 22,
    "start_time": "2022-03-14T20:24:03.545Z"
   },
   {
    "duration": 22,
    "start_time": "2022-03-14T20:24:15.016Z"
   },
   {
    "duration": 454,
    "start_time": "2022-03-14T20:24:20.566Z"
   },
   {
    "duration": 212,
    "start_time": "2022-03-14T20:24:33.632Z"
   },
   {
    "duration": 17,
    "start_time": "2022-03-14T20:25:01.441Z"
   },
   {
    "duration": 202,
    "start_time": "2022-03-14T20:25:34.352Z"
   },
   {
    "duration": 208,
    "start_time": "2022-03-14T20:26:00.900Z"
   },
   {
    "duration": 213,
    "start_time": "2022-03-14T20:26:29.601Z"
   },
   {
    "duration": 218,
    "start_time": "2022-03-14T20:26:39.605Z"
   },
   {
    "duration": 259,
    "start_time": "2022-03-14T20:28:46.792Z"
   },
   {
    "duration": 239,
    "start_time": "2022-03-14T20:28:55.523Z"
   },
   {
    "duration": 232,
    "start_time": "2022-03-14T20:30:53.201Z"
   },
   {
    "duration": 224,
    "start_time": "2022-03-14T20:32:20.230Z"
   },
   {
    "duration": 222,
    "start_time": "2022-03-14T20:32:54.236Z"
   },
   {
    "duration": 215,
    "start_time": "2022-03-14T20:33:09.266Z"
   },
   {
    "duration": 673,
    "start_time": "2022-03-14T20:33:41.637Z"
   },
   {
    "duration": 229,
    "start_time": "2022-03-14T20:34:04.588Z"
   },
   {
    "duration": 337,
    "start_time": "2022-03-14T20:34:31.858Z"
   },
   {
    "duration": 220,
    "start_time": "2022-03-14T20:36:02.625Z"
   },
   {
    "duration": 243,
    "start_time": "2022-03-14T20:36:14.596Z"
   },
   {
    "duration": 228,
    "start_time": "2022-03-14T20:37:38.914Z"
   },
   {
    "duration": 208,
    "start_time": "2022-03-14T20:39:46.279Z"
   },
   {
    "duration": 6862,
    "start_time": "2022-03-14T20:40:56.848Z"
   },
   {
    "duration": 242,
    "start_time": "2022-03-14T20:41:12.967Z"
   },
   {
    "duration": 240,
    "start_time": "2022-03-14T20:42:06.912Z"
   },
   {
    "duration": 237,
    "start_time": "2022-03-14T20:44:09.715Z"
   },
   {
    "duration": 219,
    "start_time": "2022-03-14T20:45:17.082Z"
   },
   {
    "duration": 215,
    "start_time": "2022-03-14T20:46:26.445Z"
   },
   {
    "duration": 220,
    "start_time": "2022-03-14T20:46:34.276Z"
   },
   {
    "duration": 236,
    "start_time": "2022-03-14T20:46:44.428Z"
   },
   {
    "duration": 250,
    "start_time": "2022-03-14T20:48:30.796Z"
   },
   {
    "duration": 232,
    "start_time": "2022-03-14T20:53:36.037Z"
   },
   {
    "duration": 244,
    "start_time": "2022-03-14T20:53:55.477Z"
   },
   {
    "duration": 218,
    "start_time": "2022-03-14T20:55:25.502Z"
   },
   {
    "duration": 679,
    "start_time": "2022-03-14T20:58:01.055Z"
   },
   {
    "duration": 94,
    "start_time": "2022-03-14T20:58:23.075Z"
   },
   {
    "duration": 240,
    "start_time": "2022-03-14T20:58:32.884Z"
   },
   {
    "duration": 222,
    "start_time": "2022-03-14T20:59:12.142Z"
   },
   {
    "duration": 253,
    "start_time": "2022-03-14T20:59:30.757Z"
   },
   {
    "duration": 225,
    "start_time": "2022-03-14T21:00:00.713Z"
   },
   {
    "duration": 237,
    "start_time": "2022-03-14T21:00:59.213Z"
   },
   {
    "duration": 253,
    "start_time": "2022-03-14T21:01:46.224Z"
   },
   {
    "duration": 232,
    "start_time": "2022-03-14T21:02:32.560Z"
   },
   {
    "duration": 237,
    "start_time": "2022-03-14T21:02:41.831Z"
   },
   {
    "duration": 241,
    "start_time": "2022-03-14T21:05:25.230Z"
   },
   {
    "duration": 400,
    "start_time": "2022-03-14T21:05:31.680Z"
   },
   {
    "duration": 267,
    "start_time": "2022-03-14T21:07:23.118Z"
   },
   {
    "duration": 263,
    "start_time": "2022-03-14T21:08:42.184Z"
   },
   {
    "duration": 248,
    "start_time": "2022-03-14T21:09:05.253Z"
   },
   {
    "duration": 254,
    "start_time": "2022-03-14T21:10:04.165Z"
   },
   {
    "duration": 88,
    "start_time": "2022-03-14T21:24:35.799Z"
   },
   {
    "duration": 268,
    "start_time": "2022-03-14T21:24:52.943Z"
   },
   {
    "duration": 302,
    "start_time": "2022-03-14T21:25:04.928Z"
   },
   {
    "duration": 26,
    "start_time": "2022-03-14T21:25:38.081Z"
   },
   {
    "duration": 21,
    "start_time": "2022-03-14T21:26:11.822Z"
   },
   {
    "duration": 30,
    "start_time": "2022-03-14T21:26:24.115Z"
   },
   {
    "duration": 288,
    "start_time": "2022-03-14T21:26:58.631Z"
   },
   {
    "duration": 28,
    "start_time": "2022-03-14T21:27:05.306Z"
   },
   {
    "duration": 27,
    "start_time": "2022-03-14T21:28:05.666Z"
   },
   {
    "duration": 26,
    "start_time": "2022-03-14T21:30:20.475Z"
   },
   {
    "duration": 733,
    "start_time": "2022-03-14T21:41:18.325Z"
   },
   {
    "duration": 114,
    "start_time": "2022-03-14T21:41:19.060Z"
   },
   {
    "duration": 9,
    "start_time": "2022-03-14T21:41:19.176Z"
   },
   {
    "duration": 7,
    "start_time": "2022-03-14T21:41:19.187Z"
   },
   {
    "duration": 17,
    "start_time": "2022-03-14T21:41:19.195Z"
   },
   {
    "duration": 6,
    "start_time": "2022-03-14T21:41:19.233Z"
   },
   {
    "duration": 15,
    "start_time": "2022-03-14T21:41:19.240Z"
   },
   {
    "duration": 7,
    "start_time": "2022-03-14T21:41:19.258Z"
   },
   {
    "duration": 11,
    "start_time": "2022-03-14T21:41:19.267Z"
   },
   {
    "duration": 9,
    "start_time": "2022-03-14T21:41:19.280Z"
   },
   {
    "duration": 45,
    "start_time": "2022-03-14T21:41:19.291Z"
   },
   {
    "duration": 34,
    "start_time": "2022-03-14T21:41:19.338Z"
   },
   {
    "duration": 671,
    "start_time": "2022-03-14T21:41:19.374Z"
   },
   {
    "duration": 30,
    "start_time": "2022-03-14T21:41:20.047Z"
   },
   {
    "duration": 26,
    "start_time": "2022-03-14T21:41:20.078Z"
   },
   {
    "duration": 1527,
    "start_time": "2022-03-14T21:41:20.106Z"
   },
   {
    "duration": 12,
    "start_time": "2022-03-14T21:41:21.635Z"
   },
   {
    "duration": 338,
    "start_time": "2022-03-14T21:41:21.649Z"
   },
   {
    "duration": 391,
    "start_time": "2022-03-14T21:41:21.990Z"
   },
   {
    "duration": 9,
    "start_time": "2022-03-14T21:41:22.383Z"
   },
   {
    "duration": 39,
    "start_time": "2022-03-14T21:41:22.394Z"
   },
   {
    "duration": 318,
    "start_time": "2022-03-14T21:41:22.434Z"
   },
   {
    "duration": 14,
    "start_time": "2022-03-14T21:41:22.756Z"
   },
   {
    "duration": 16,
    "start_time": "2022-03-14T21:41:22.772Z"
   },
   {
    "duration": 13,
    "start_time": "2022-03-14T21:41:22.789Z"
   },
   {
    "duration": 14,
    "start_time": "2022-03-14T21:41:22.832Z"
   },
   {
    "duration": 576,
    "start_time": "2022-03-14T21:41:22.847Z"
   },
   {
    "duration": 698,
    "start_time": "2022-03-14T21:41:23.425Z"
   },
   {
    "duration": 207,
    "start_time": "2022-03-14T21:41:24.124Z"
   },
   {
    "duration": 220,
    "start_time": "2022-03-14T21:41:24.333Z"
   },
   {
    "duration": 221,
    "start_time": "2022-03-14T21:41:24.554Z"
   },
   {
    "duration": 189,
    "start_time": "2022-03-14T21:41:24.776Z"
   },
   {
    "duration": 236,
    "start_time": "2022-03-14T21:41:24.967Z"
   },
   {
    "duration": 232,
    "start_time": "2022-03-14T21:41:25.205Z"
   },
   {
    "duration": 225,
    "start_time": "2022-03-14T21:41:25.439Z"
   },
   {
    "duration": 34,
    "start_time": "2022-03-14T21:41:25.666Z"
   },
   {
    "duration": 42,
    "start_time": "2022-03-14T21:41:25.702Z"
   },
   {
    "duration": 302,
    "start_time": "2022-03-14T21:41:25.745Z"
   },
   {
    "duration": 29,
    "start_time": "2022-03-14T21:41:26.049Z"
   },
   {
    "duration": 1566,
    "start_time": "2022-03-14T21:41:26.080Z"
   },
   {
    "duration": 207,
    "start_time": "2022-03-14T21:41:27.648Z"
   },
   {
    "duration": 244,
    "start_time": "2022-03-14T21:41:27.857Z"
   },
   {
    "duration": 197,
    "start_time": "2022-03-14T21:41:28.102Z"
   },
   {
    "duration": 193,
    "start_time": "2022-03-14T21:41:28.300Z"
   },
   {
    "duration": 249,
    "start_time": "2022-03-14T21:41:28.494Z"
   },
   {
    "duration": 238,
    "start_time": "2022-03-14T21:41:28.745Z"
   },
   {
    "duration": 216,
    "start_time": "2022-03-14T21:41:28.985Z"
   },
   {
    "duration": 334,
    "start_time": "2022-03-14T21:41:29.203Z"
   },
   {
    "duration": 676,
    "start_time": "2022-03-14T22:14:13.066Z"
   },
   {
    "duration": 124,
    "start_time": "2022-03-14T22:14:13.744Z"
   },
   {
    "duration": 8,
    "start_time": "2022-03-14T22:14:13.870Z"
   },
   {
    "duration": 7,
    "start_time": "2022-03-14T22:14:13.880Z"
   },
   {
    "duration": 12,
    "start_time": "2022-03-14T22:14:13.889Z"
   },
   {
    "duration": 31,
    "start_time": "2022-03-14T22:14:13.902Z"
   },
   {
    "duration": 12,
    "start_time": "2022-03-14T22:14:13.935Z"
   },
   {
    "duration": 8,
    "start_time": "2022-03-14T22:14:13.949Z"
   },
   {
    "duration": 9,
    "start_time": "2022-03-14T22:14:13.959Z"
   },
   {
    "duration": 13,
    "start_time": "2022-03-14T22:14:13.969Z"
   },
   {
    "duration": 11,
    "start_time": "2022-03-14T22:14:13.984Z"
   },
   {
    "duration": 38,
    "start_time": "2022-03-14T22:14:14.032Z"
   },
   {
    "duration": 653,
    "start_time": "2022-03-14T22:14:14.072Z"
   },
   {
    "duration": 32,
    "start_time": "2022-03-14T22:14:14.726Z"
   },
   {
    "duration": 26,
    "start_time": "2022-03-14T22:14:14.760Z"
   },
   {
    "duration": 1530,
    "start_time": "2022-03-14T22:14:14.788Z"
   },
   {
    "duration": 16,
    "start_time": "2022-03-14T22:14:16.320Z"
   },
   {
    "duration": 335,
    "start_time": "2022-03-14T22:14:16.338Z"
   },
   {
    "duration": 404,
    "start_time": "2022-03-14T22:14:16.675Z"
   },
   {
    "duration": 6,
    "start_time": "2022-03-14T22:14:17.081Z"
   },
   {
    "duration": 27,
    "start_time": "2022-03-14T22:14:17.089Z"
   },
   {
    "duration": 343,
    "start_time": "2022-03-14T22:14:17.118Z"
   },
   {
    "duration": 17,
    "start_time": "2022-03-14T22:14:17.467Z"
   },
   {
    "duration": 21,
    "start_time": "2022-03-14T22:14:17.486Z"
   },
   {
    "duration": 30,
    "start_time": "2022-03-14T22:14:17.510Z"
   },
   {
    "duration": 22,
    "start_time": "2022-03-14T22:14:17.542Z"
   },
   {
    "duration": 594,
    "start_time": "2022-03-14T22:14:17.566Z"
   },
   {
    "duration": 720,
    "start_time": "2022-03-14T22:14:18.162Z"
   },
   {
    "duration": 208,
    "start_time": "2022-03-14T22:14:18.884Z"
   },
   {
    "duration": 237,
    "start_time": "2022-03-14T22:14:19.094Z"
   },
   {
    "duration": 219,
    "start_time": "2022-03-14T22:14:19.333Z"
   },
   {
    "duration": 190,
    "start_time": "2022-03-14T22:14:19.554Z"
   },
   {
    "duration": 238,
    "start_time": "2022-03-14T22:14:19.746Z"
   },
   {
    "duration": 218,
    "start_time": "2022-03-14T22:14:19.986Z"
   },
   {
    "duration": 230,
    "start_time": "2022-03-14T22:14:20.206Z"
   },
   {
    "duration": 35,
    "start_time": "2022-03-14T22:14:20.438Z"
   },
   {
    "duration": 24,
    "start_time": "2022-03-14T22:14:20.475Z"
   },
   {
    "duration": 326,
    "start_time": "2022-03-14T22:14:20.501Z"
   },
   {
    "duration": 28,
    "start_time": "2022-03-14T22:14:20.831Z"
   },
   {
    "duration": 1536,
    "start_time": "2022-03-14T22:14:20.861Z"
   },
   {
    "duration": 206,
    "start_time": "2022-03-14T22:14:22.398Z"
   },
   {
    "duration": 249,
    "start_time": "2022-03-14T22:14:22.606Z"
   },
   {
    "duration": 196,
    "start_time": "2022-03-14T22:14:22.857Z"
   },
   {
    "duration": 198,
    "start_time": "2022-03-14T22:14:23.055Z"
   },
   {
    "duration": 242,
    "start_time": "2022-03-14T22:14:23.255Z"
   },
   {
    "duration": 248,
    "start_time": "2022-03-14T22:14:23.500Z"
   },
   {
    "duration": 252,
    "start_time": "2022-03-14T22:14:23.750Z"
   },
   {
    "duration": 736,
    "start_time": "2022-03-14T22:31:55.421Z"
   },
   {
    "duration": 120,
    "start_time": "2022-03-14T22:31:56.159Z"
   },
   {
    "duration": 8,
    "start_time": "2022-03-14T22:31:56.282Z"
   },
   {
    "duration": 8,
    "start_time": "2022-03-14T22:31:56.293Z"
   },
   {
    "duration": 34,
    "start_time": "2022-03-14T22:31:56.303Z"
   },
   {
    "duration": 5,
    "start_time": "2022-03-14T22:31:56.339Z"
   },
   {
    "duration": 16,
    "start_time": "2022-03-14T22:31:56.346Z"
   },
   {
    "duration": 7,
    "start_time": "2022-03-14T22:31:56.364Z"
   },
   {
    "duration": 11,
    "start_time": "2022-03-14T22:31:56.373Z"
   },
   {
    "duration": 7,
    "start_time": "2022-03-14T22:31:56.386Z"
   },
   {
    "duration": 70,
    "start_time": "2022-03-14T22:31:56.395Z"
   },
   {
    "duration": 656,
    "start_time": "2022-03-14T22:31:56.467Z"
   },
   {
    "duration": 31,
    "start_time": "2022-03-14T22:31:57.125Z"
   },
   {
    "duration": 25,
    "start_time": "2022-03-14T22:31:57.157Z"
   },
   {
    "duration": 1483,
    "start_time": "2022-03-14T22:31:57.184Z"
   },
   {
    "duration": 13,
    "start_time": "2022-03-14T22:31:58.669Z"
   },
   {
    "duration": 345,
    "start_time": "2022-03-14T22:31:58.684Z"
   },
   {
    "duration": 367,
    "start_time": "2022-03-14T22:31:59.031Z"
   },
   {
    "duration": 7,
    "start_time": "2022-03-14T22:31:59.400Z"
   },
   {
    "duration": 31,
    "start_time": "2022-03-14T22:31:59.409Z"
   },
   {
    "duration": 332,
    "start_time": "2022-03-14T22:31:59.442Z"
   },
   {
    "duration": 16,
    "start_time": "2022-03-14T22:31:59.775Z"
   },
   {
    "duration": 17,
    "start_time": "2022-03-14T22:31:59.795Z"
   },
   {
    "duration": 32,
    "start_time": "2022-03-14T22:31:59.814Z"
   },
   {
    "duration": 14,
    "start_time": "2022-03-14T22:31:59.847Z"
   },
   {
    "duration": 688,
    "start_time": "2022-03-14T22:31:59.864Z"
   },
   {
    "duration": 886,
    "start_time": "2022-03-14T22:32:00.554Z"
   },
   {
    "duration": 212,
    "start_time": "2022-03-14T22:32:01.442Z"
   },
   {
    "duration": 261,
    "start_time": "2022-03-14T22:32:01.657Z"
   },
   {
    "duration": 240,
    "start_time": "2022-03-14T22:32:01.920Z"
   },
   {
    "duration": 198,
    "start_time": "2022-03-14T22:32:02.162Z"
   },
   {
    "duration": 229,
    "start_time": "2022-03-14T22:32:02.362Z"
   },
   {
    "duration": 222,
    "start_time": "2022-03-14T22:32:02.593Z"
   },
   {
    "duration": 239,
    "start_time": "2022-03-14T22:32:02.817Z"
   },
   {
    "duration": 42,
    "start_time": "2022-03-14T22:32:03.058Z"
   },
   {
    "duration": 44,
    "start_time": "2022-03-14T22:32:03.102Z"
   },
   {
    "duration": 398,
    "start_time": "2022-03-14T22:32:03.147Z"
   },
   {
    "duration": 30,
    "start_time": "2022-03-14T22:32:03.546Z"
   },
   {
    "duration": 1506,
    "start_time": "2022-03-14T22:32:03.578Z"
   },
   {
    "duration": 215,
    "start_time": "2022-03-14T22:32:05.086Z"
   },
   {
    "duration": 260,
    "start_time": "2022-03-14T22:32:05.303Z"
   },
   {
    "duration": 193,
    "start_time": "2022-03-14T22:32:05.565Z"
   },
   {
    "duration": 205,
    "start_time": "2022-03-14T22:32:05.760Z"
   },
   {
    "duration": 242,
    "start_time": "2022-03-14T22:32:05.967Z"
   },
   {
    "duration": 327,
    "start_time": "2022-03-14T22:32:06.211Z"
   },
   {
    "duration": 246,
    "start_time": "2022-03-14T22:32:06.540Z"
   }
  ],
  "kernelspec": {
   "display_name": "Python 3 (ipykernel)",
   "language": "python",
   "name": "python3"
  },
  "language_info": {
   "codemirror_mode": {
    "name": "ipython",
    "version": 3
   },
   "file_extension": ".py",
   "mimetype": "text/x-python",
   "name": "python",
   "nbconvert_exporter": "python",
   "pygments_lexer": "ipython3",
   "version": "3.9.7"
  },
  "toc": {
   "base_numbering": 1,
   "nav_menu": {},
   "number_sections": false,
   "sideBar": true,
   "skip_h1_title": false,
   "title_cell": "Содержание",
   "title_sidebar": "Contents",
   "toc_cell": true,
   "toc_position": {
    "height": "calc(100% - 180px)",
    "left": "10px",
    "top": "150px",
    "width": "329.602px"
   },
   "toc_section_display": true,
   "toc_window_display": true
  }
 },
 "nbformat": 4,
 "nbformat_minor": 4
}
