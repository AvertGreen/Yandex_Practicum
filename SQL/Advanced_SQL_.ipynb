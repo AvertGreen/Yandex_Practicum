{
 "cells": [
  {
   "cell_type": "markdown",
   "metadata": {
    "id": "sRW85nPMDWKb"
   },
   "source": [
    "## StackOverflow — сервис вопросов и ответов о программировании\n",
    "\n",
    "Необходимые данные находятся в таблицах схемы `stackoverflow`. Подключимся к базе с помощью SQLAlchemy."
   ]
  },
  {
   "cell_type": "code",
   "execution_count": 1,
   "metadata": {
    "id": "nlZBlglMDWKe"
   },
   "outputs": [],
   "source": [
    "import pandas as pd\n",
    "import matplotlib.pyplot as plt\n",
    "from sqlalchemy import create_engine\n",
    "import seaborn as sns\n",
    "import matplotlib.pyplot as plt"
   ]
  },
  {
   "cell_type": "markdown",
   "metadata": {
    "id": "XnOE3n28DWKg"
   },
   "source": [
    "### Конфигурация для подключения к базе данных `data-analyst-advanced-sql`\n",
    "Эта база данных содержит схему `stackoverflow`."
   ]
  },
  {
   "cell_type": "code",
   "execution_count": 2,
   "metadata": {
    "id": "6p-yGp7qDWKg"
   },
   "outputs": [],
   "source": [
    "db_config = {\n",
    "    'user': 'praktikum_student', # имя пользователя\n",
    "    'pwd': 'Sdf4$2;d-d30pp', # пароль\n",
    "    'host': 'rc1b-wcoijxj3yxfsf3fs.mdb.yandexcloud.net',\n",
    "    'port': 6432, # порт подключения\n",
    "    'db': 'data-analyst-advanced-sql' # название базы данных\n",
    "}  \n",
    "\n",
    "connection_string = 'postgresql://{}:{}@{}:{}/{}'.format(\n",
    "    db_config['user'],\n",
    "    db_config['pwd'],\n",
    "    db_config['host'],\n",
    "    db_config['port'],\n",
    "    db_config['db'],\n",
    ")"
   ]
  },
  {
   "cell_type": "markdown",
   "metadata": {
    "id": "2Rg8ZpS0DWKh"
   },
   "source": [
    "Создание подключения"
   ]
  },
  {
   "cell_type": "code",
   "execution_count": 3,
   "metadata": {
    "id": "DamCUTR6DWKi"
   },
   "outputs": [],
   "source": [
    "engine = create_engine(connection_string) "
   ]
  },
  {
   "cell_type": "markdown",
   "metadata": {
    "id": "bel8XeSlDWKj"
   },
   "source": [
    "Пример запроса к базе данных\n",
    "\n",
    "`sample_df` является pandas-датафреймом."
   ]
  },
  {
   "cell_type": "code",
   "execution_count": 4,
   "metadata": {
    "id": "6Z_fw0yLDWKk"
   },
   "outputs": [],
   "source": [
    "query = '''\n",
    "SELECT *\n",
    "FROM stackoverflow.users\n",
    "LIMIT 10;\n",
    "'''\n",
    "\n",
    "sample_df = pd.read_sql_query(query, con=engine) "
   ]
  },
  {
   "cell_type": "code",
   "execution_count": 5,
   "metadata": {
    "id": "ZpuZ290oDWKk",
    "outputId": "22785a0a-e2bc-4559-ec3c-4879c4b377eb"
   },
   "outputs": [
    {
     "data": {
      "text/html": [
       "<div>\n",
       "<style scoped>\n",
       "    .dataframe tbody tr th:only-of-type {\n",
       "        vertical-align: middle;\n",
       "    }\n",
       "\n",
       "    .dataframe tbody tr th {\n",
       "        vertical-align: top;\n",
       "    }\n",
       "\n",
       "    .dataframe thead th {\n",
       "        text-align: right;\n",
       "    }\n",
       "</style>\n",
       "<table border=\"1\" class=\"dataframe\">\n",
       "  <thead>\n",
       "    <tr style=\"text-align: right;\">\n",
       "      <th></th>\n",
       "      <th>id</th>\n",
       "      <th>creation_date</th>\n",
       "      <th>display_name</th>\n",
       "      <th>last_access_date</th>\n",
       "      <th>location</th>\n",
       "      <th>reputation</th>\n",
       "      <th>views</th>\n",
       "    </tr>\n",
       "  </thead>\n",
       "  <tbody>\n",
       "    <tr>\n",
       "      <th>0</th>\n",
       "      <td>1</td>\n",
       "      <td>2008-07-31 14:22:31</td>\n",
       "      <td>Jeff Atwood</td>\n",
       "      <td>2018-08-29 02:34:23</td>\n",
       "      <td>El Cerrito, CA</td>\n",
       "      <td>44300</td>\n",
       "      <td>408587</td>\n",
       "    </tr>\n",
       "    <tr>\n",
       "      <th>1</th>\n",
       "      <td>2</td>\n",
       "      <td>2008-07-31 14:22:31</td>\n",
       "      <td>Geoff Dalgas</td>\n",
       "      <td>2018-08-23 17:31:56</td>\n",
       "      <td>Corvallis, OR</td>\n",
       "      <td>3491</td>\n",
       "      <td>23966</td>\n",
       "    </tr>\n",
       "    <tr>\n",
       "      <th>2</th>\n",
       "      <td>3</td>\n",
       "      <td>2008-07-31 14:22:31</td>\n",
       "      <td>Jarrod Dixon</td>\n",
       "      <td>2018-08-30 20:56:24</td>\n",
       "      <td>Raleigh, NC, United States</td>\n",
       "      <td>13418</td>\n",
       "      <td>24396</td>\n",
       "    </tr>\n",
       "    <tr>\n",
       "      <th>3</th>\n",
       "      <td>4</td>\n",
       "      <td>2008-07-31 14:22:31</td>\n",
       "      <td>Joel Spolsky</td>\n",
       "      <td>2018-08-14 22:18:15</td>\n",
       "      <td>New York, NY</td>\n",
       "      <td>28768</td>\n",
       "      <td>73755</td>\n",
       "    </tr>\n",
       "    <tr>\n",
       "      <th>4</th>\n",
       "      <td>5</td>\n",
       "      <td>2008-07-31 14:22:31</td>\n",
       "      <td>Jon Galloway</td>\n",
       "      <td>2018-08-29 16:48:36</td>\n",
       "      <td>San Diego, CA</td>\n",
       "      <td>39172</td>\n",
       "      <td>11700</td>\n",
       "    </tr>\n",
       "    <tr>\n",
       "      <th>5</th>\n",
       "      <td>8</td>\n",
       "      <td>2008-07-31 21:33:24</td>\n",
       "      <td>Eggs McLaren</td>\n",
       "      <td>2018-04-09 02:04:56</td>\n",
       "      <td>None</td>\n",
       "      <td>942</td>\n",
       "      <td>6372</td>\n",
       "    </tr>\n",
       "    <tr>\n",
       "      <th>6</th>\n",
       "      <td>9</td>\n",
       "      <td>2008-07-31 21:35:27</td>\n",
       "      <td>Kevin Dente</td>\n",
       "      <td>2018-08-30 18:18:03</td>\n",
       "      <td>Oakland, CA</td>\n",
       "      <td>14337</td>\n",
       "      <td>4949</td>\n",
       "    </tr>\n",
       "    <tr>\n",
       "      <th>7</th>\n",
       "      <td>11</td>\n",
       "      <td>2008-08-01 00:59:11</td>\n",
       "      <td>Anonymous User</td>\n",
       "      <td>2008-08-01 00:59:11</td>\n",
       "      <td>None</td>\n",
       "      <td>1890</td>\n",
       "      <td>2123</td>\n",
       "    </tr>\n",
       "    <tr>\n",
       "      <th>8</th>\n",
       "      <td>13</td>\n",
       "      <td>2008-08-01 04:18:05</td>\n",
       "      <td>Chris Jester-Young</td>\n",
       "      <td>2018-08-30 02:47:23</td>\n",
       "      <td>Raleigh, NC, United States</td>\n",
       "      <td>177138</td>\n",
       "      <td>35414</td>\n",
       "    </tr>\n",
       "    <tr>\n",
       "      <th>9</th>\n",
       "      <td>17</td>\n",
       "      <td>2008-08-01 12:02:22</td>\n",
       "      <td>Nick Berardi</td>\n",
       "      <td>2018-01-22 01:35:38</td>\n",
       "      <td>Issaquah, WA</td>\n",
       "      <td>44443</td>\n",
       "      <td>4786</td>\n",
       "    </tr>\n",
       "  </tbody>\n",
       "</table>\n",
       "</div>"
      ],
      "text/plain": [
       "   id       creation_date        display_name    last_access_date  \\\n",
       "0   1 2008-07-31 14:22:31         Jeff Atwood 2018-08-29 02:34:23   \n",
       "1   2 2008-07-31 14:22:31        Geoff Dalgas 2018-08-23 17:31:56   \n",
       "2   3 2008-07-31 14:22:31        Jarrod Dixon 2018-08-30 20:56:24   \n",
       "3   4 2008-07-31 14:22:31        Joel Spolsky 2018-08-14 22:18:15   \n",
       "4   5 2008-07-31 14:22:31        Jon Galloway 2018-08-29 16:48:36   \n",
       "5   8 2008-07-31 21:33:24        Eggs McLaren 2018-04-09 02:04:56   \n",
       "6   9 2008-07-31 21:35:27         Kevin Dente 2018-08-30 18:18:03   \n",
       "7  11 2008-08-01 00:59:11      Anonymous User 2008-08-01 00:59:11   \n",
       "8  13 2008-08-01 04:18:05  Chris Jester-Young 2018-08-30 02:47:23   \n",
       "9  17 2008-08-01 12:02:22        Nick Berardi 2018-01-22 01:35:38   \n",
       "\n",
       "                     location  reputation   views  \n",
       "0              El Cerrito, CA       44300  408587  \n",
       "1               Corvallis, OR        3491   23966  \n",
       "2  Raleigh, NC, United States       13418   24396  \n",
       "3                New York, NY       28768   73755  \n",
       "4               San Diego, CA       39172   11700  \n",
       "5                        None         942    6372  \n",
       "6                 Oakland, CA       14337    4949  \n",
       "7                        None        1890    2123  \n",
       "8  Raleigh, NC, United States      177138   35414  \n",
       "9                Issaquah, WA       44443    4786  "
      ]
     },
     "execution_count": 5,
     "metadata": {},
     "output_type": "execute_result"
    }
   ],
   "source": [
    "sample_df"
   ]
  },
  {
   "cell_type": "markdown",
   "metadata": {
    "id": "gnBMXkDBDWKm"
   },
   "source": [
    "# Задание 1"
   ]
  },
  {
   "cell_type": "markdown",
   "metadata": {
    "id": "vHsfOrrNDWKn"
   },
   "source": [
    "Выведите общую сумму просмотров постов за каждый месяц 2008 года. Если данных за какой-либо месяц в базе нет, такой месяц можно пропустить. Результат отсортируйте по убыванию общего количества просмотров."
   ]
  },
  {
   "cell_type": "code",
   "execution_count": 6,
   "metadata": {
    "id": "eWvykcXTDWKo"
   },
   "outputs": [
    {
     "data": {
      "text/html": [
       "<div>\n",
       "<style scoped>\n",
       "    .dataframe tbody tr th:only-of-type {\n",
       "        vertical-align: middle;\n",
       "    }\n",
       "\n",
       "    .dataframe tbody tr th {\n",
       "        vertical-align: top;\n",
       "    }\n",
       "\n",
       "    .dataframe thead th {\n",
       "        text-align: right;\n",
       "    }\n",
       "</style>\n",
       "<table border=\"1\" class=\"dataframe\">\n",
       "  <thead>\n",
       "    <tr style=\"text-align: right;\">\n",
       "      <th></th>\n",
       "      <th>month_date</th>\n",
       "      <th>total_views</th>\n",
       "    </tr>\n",
       "  </thead>\n",
       "  <tbody>\n",
       "    <tr>\n",
       "      <th>0</th>\n",
       "      <td>2008-09-01</td>\n",
       "      <td>452928568</td>\n",
       "    </tr>\n",
       "    <tr>\n",
       "      <th>1</th>\n",
       "      <td>2008-10-01</td>\n",
       "      <td>365400138</td>\n",
       "    </tr>\n",
       "    <tr>\n",
       "      <th>2</th>\n",
       "      <td>2008-11-01</td>\n",
       "      <td>221759651</td>\n",
       "    </tr>\n",
       "    <tr>\n",
       "      <th>3</th>\n",
       "      <td>2008-12-01</td>\n",
       "      <td>197792841</td>\n",
       "    </tr>\n",
       "    <tr>\n",
       "      <th>4</th>\n",
       "      <td>2008-08-01</td>\n",
       "      <td>131367083</td>\n",
       "    </tr>\n",
       "    <tr>\n",
       "      <th>5</th>\n",
       "      <td>2008-07-01</td>\n",
       "      <td>669895</td>\n",
       "    </tr>\n",
       "  </tbody>\n",
       "</table>\n",
       "</div>"
      ],
      "text/plain": [
       "   month_date  total_views\n",
       "0  2008-09-01    452928568\n",
       "1  2008-10-01    365400138\n",
       "2  2008-11-01    221759651\n",
       "3  2008-12-01    197792841\n",
       "4  2008-08-01    131367083\n",
       "5  2008-07-01       669895"
      ]
     },
     "execution_count": 6,
     "metadata": {},
     "output_type": "execute_result"
    }
   ],
   "source": [
    "# напишите запрос\n",
    "query = '''\n",
    "WITH month_views AS (\n",
    "                     SELECT DATE_TRUNC('month', creation_date)::date AS month_date,\n",
    "                            views_count\n",
    "                     FROM stackoverflow.posts\n",
    "                     WHERE DATE_PART('year',creation_date) = '2008'\n",
    "                     )\n",
    "SELECT DISTINCT month_date,\n",
    "       SUM(views_count) OVER(PARTITION BY month_date) AS total_views\n",
    "FROM month_views\n",
    "ORDER BY total_views DESC;\n",
    "'''\n",
    "# выполните запрос\n",
    "sample_df = pd.read_sql_query(query, con=engine) \n",
    "sample_df"
   ]
  },
  {
   "cell_type": "markdown",
   "metadata": {
    "id": "I_ZvhOxkDWKp"
   },
   "source": [
    "Проанализируйте итоговую таблицу. Отличаются ли данные за разные месяцы? С чем могут быть связаны отличия?"
   ]
  },
  {
   "cell_type": "code",
   "execution_count": 7,
   "metadata": {
    "id": "luxSj17oDWKq"
   },
   "outputs": [],
   "source": [
    "# напишите ваш ответ здесь\n",
    "\n",
    "#Stack Overflow работает с августа 2008 года, логично, что наименьшее количество просмотров в месяц открытия платформы,\n",
    "#затем просмотры стабильно растут."
   ]
  },
  {
   "cell_type": "markdown",
   "metadata": {
    "id": "FziIXkn5DWKr"
   },
   "source": [
    "# Задание 2 "
   ]
  },
  {
   "cell_type": "markdown",
   "metadata": {
    "id": "fTGESZvYDWKr"
   },
   "source": [
    "Выведите имена самых активных пользователей, которые в первый месяц после регистрации (включая день регистрации) дали больше 100 ответов. Вопросы, которые задавали пользователи, не учитывайте. Для каждого имени пользователя выведите количество уникальных значений `user_id`. Отсортируйте результат по полю с именами в лексикографическом порядке."
   ]
  },
  {
   "cell_type": "code",
   "execution_count": 8,
   "metadata": {
    "id": "fIO-y-YjDWKt"
   },
   "outputs": [
    {
     "data": {
      "text/html": [
       "<div>\n",
       "<style scoped>\n",
       "    .dataframe tbody tr th:only-of-type {\n",
       "        vertical-align: middle;\n",
       "    }\n",
       "\n",
       "    .dataframe tbody tr th {\n",
       "        vertical-align: top;\n",
       "    }\n",
       "\n",
       "    .dataframe thead th {\n",
       "        text-align: right;\n",
       "    }\n",
       "</style>\n",
       "<table border=\"1\" class=\"dataframe\">\n",
       "  <thead>\n",
       "    <tr style=\"text-align: right;\">\n",
       "      <th></th>\n",
       "      <th>display_name</th>\n",
       "      <th>count</th>\n",
       "    </tr>\n",
       "  </thead>\n",
       "  <tbody>\n",
       "    <tr>\n",
       "      <th>0</th>\n",
       "      <td>1800 INFORMATION</td>\n",
       "      <td>1</td>\n",
       "    </tr>\n",
       "    <tr>\n",
       "      <th>1</th>\n",
       "      <td>Adam Bellaire</td>\n",
       "      <td>1</td>\n",
       "    </tr>\n",
       "    <tr>\n",
       "      <th>2</th>\n",
       "      <td>Adam Davis</td>\n",
       "      <td>1</td>\n",
       "    </tr>\n",
       "    <tr>\n",
       "      <th>3</th>\n",
       "      <td>Adam Liss</td>\n",
       "      <td>1</td>\n",
       "    </tr>\n",
       "    <tr>\n",
       "      <th>4</th>\n",
       "      <td>Alan</td>\n",
       "      <td>8</td>\n",
       "    </tr>\n",
       "    <tr>\n",
       "      <th>...</th>\n",
       "      <td>...</td>\n",
       "      <td>...</td>\n",
       "    </tr>\n",
       "    <tr>\n",
       "      <th>74</th>\n",
       "      <td>lomaxx</td>\n",
       "      <td>1</td>\n",
       "    </tr>\n",
       "    <tr>\n",
       "      <th>75</th>\n",
       "      <td>mattlant</td>\n",
       "      <td>1</td>\n",
       "    </tr>\n",
       "    <tr>\n",
       "      <th>76</th>\n",
       "      <td>paxdiablo</td>\n",
       "      <td>1</td>\n",
       "    </tr>\n",
       "    <tr>\n",
       "      <th>77</th>\n",
       "      <td>tvanfosson</td>\n",
       "      <td>1</td>\n",
       "    </tr>\n",
       "    <tr>\n",
       "      <th>78</th>\n",
       "      <td>tzot</td>\n",
       "      <td>1</td>\n",
       "    </tr>\n",
       "  </tbody>\n",
       "</table>\n",
       "<p>79 rows × 2 columns</p>\n",
       "</div>"
      ],
      "text/plain": [
       "        display_name  count\n",
       "0   1800 INFORMATION      1\n",
       "1      Adam Bellaire      1\n",
       "2         Adam Davis      1\n",
       "3          Adam Liss      1\n",
       "4               Alan      8\n",
       "..               ...    ...\n",
       "74            lomaxx      1\n",
       "75          mattlant      1\n",
       "76         paxdiablo      1\n",
       "77        tvanfosson      1\n",
       "78              tzot      1\n",
       "\n",
       "[79 rows x 2 columns]"
      ]
     },
     "execution_count": 8,
     "metadata": {},
     "output_type": "execute_result"
    }
   ],
   "source": [
    "# напишите запрос\n",
    "query = '''\n",
    "WITH hundred_answer AS (\n",
    "                     SELECT su.display_name,\n",
    "                            COUNT (sp.id) OVER (PARTITION BY su.display_name),\n",
    "                            su.id\n",
    "                     FROM stackoverflow.users AS su INNER JOIN stackoverflow.posts AS sp ON su.id = sp.user_id\n",
    "                          INNER JOIN stackoverflow.post_types AS spt ON sp.post_type_id = spt.id\n",
    "                     WHERE DATE_TRUNC('day', su.creation_date) >= (DATE_TRUNC('day', sp.creation_date) - INTERVAL '1 months')  \n",
    "                           AND spt.type = 'Answer'\n",
    "                           )\n",
    "SELECT display_name,\n",
    "       COUNT (DISTINCT id)\n",
    "FROM hundred_answer\n",
    "WHERE count > 100\n",
    "GROUP BY 1\n",
    "ORDER BY display_name;\n",
    "'''\n",
    "# выполните запрос\n",
    "sample_df = pd.read_sql_query(query, con=engine) \n",
    "sample_df"
   ]
  },
  {
   "cell_type": "markdown",
   "metadata": {
    "id": "I3Wr82TplKpI"
   },
   "source": [
    "Какие аномалии наблюдаются в данных? О чём они говорят?"
   ]
  },
  {
   "cell_type": "code",
   "execution_count": 9,
   "metadata": {
    "id": "CEIGGQ6ODWKy"
   },
   "outputs": [],
   "source": [
    "# напишите ваш ответ здесь\n",
    "\n",
    "# Встречаются некорректно заполненные строки с именем пользователя, например:\n",
    "# цифры, знаки, слитное написание имени и фамилии, никнейм вместо имени и т.п."
   ]
  },
  {
   "cell_type": "markdown",
   "metadata": {
    "id": "JhM2xXj5DWKu"
   },
   "source": [
    "# Задание 3"
   ]
  },
  {
   "cell_type": "markdown",
   "metadata": {
    "id": "IS6xPqyyDWKu"
   },
   "source": [
    "Выведите количество постов за 2008 год по месяцам. Отберите посты от пользователей, которые зарегистрировались в сентябре 2008 года и сделали хотя бы один пост в декабре того же года. Отсортируйте таблицу по значению месяца по убыванию."
   ]
  },
  {
   "cell_type": "code",
   "execution_count": 10,
   "metadata": {
    "id": "kVu0FB8WDWKv"
   },
   "outputs": [
    {
     "data": {
      "text/html": [
       "<div>\n",
       "<style scoped>\n",
       "    .dataframe tbody tr th:only-of-type {\n",
       "        vertical-align: middle;\n",
       "    }\n",
       "\n",
       "    .dataframe tbody tr th {\n",
       "        vertical-align: top;\n",
       "    }\n",
       "\n",
       "    .dataframe thead th {\n",
       "        text-align: right;\n",
       "    }\n",
       "</style>\n",
       "<table border=\"1\" class=\"dataframe\">\n",
       "  <thead>\n",
       "    <tr style=\"text-align: right;\">\n",
       "      <th></th>\n",
       "      <th>month</th>\n",
       "      <th>count</th>\n",
       "    </tr>\n",
       "  </thead>\n",
       "  <tbody>\n",
       "    <tr>\n",
       "      <th>0</th>\n",
       "      <td>2008-12-01</td>\n",
       "      <td>17641</td>\n",
       "    </tr>\n",
       "    <tr>\n",
       "      <th>1</th>\n",
       "      <td>2008-11-01</td>\n",
       "      <td>18294</td>\n",
       "    </tr>\n",
       "    <tr>\n",
       "      <th>2</th>\n",
       "      <td>2008-10-01</td>\n",
       "      <td>27171</td>\n",
       "    </tr>\n",
       "    <tr>\n",
       "      <th>3</th>\n",
       "      <td>2008-09-01</td>\n",
       "      <td>24870</td>\n",
       "    </tr>\n",
       "    <tr>\n",
       "      <th>4</th>\n",
       "      <td>2008-08-01</td>\n",
       "      <td>32</td>\n",
       "    </tr>\n",
       "  </tbody>\n",
       "</table>\n",
       "</div>"
      ],
      "text/plain": [
       "        month  count\n",
       "0  2008-12-01  17641\n",
       "1  2008-11-01  18294\n",
       "2  2008-10-01  27171\n",
       "3  2008-09-01  24870\n",
       "4  2008-08-01     32"
      ]
     },
     "execution_count": 10,
     "metadata": {},
     "output_type": "execute_result"
    }
   ],
   "source": [
    "# напишите запрос\n",
    "query = '''\n",
    "SELECT DISTINCT month,\n",
    "       COUNT (count_posts.user_id)\n",
    "FROM (\n",
    "      SELECT DATE_TRUNC('month', sp.creation_date)::date AS month,\n",
    "             sp.user_id\n",
    "      FROM stackoverflow.users AS su INNER JOIN stackoverflow.posts AS sp ON su.id = sp.user_id\n",
    "      WHERE sp.user_id IN (\n",
    "                   (SELECT user_id AS id\n",
    "                   FROM stackoverflow.posts\n",
    "                   WHERE creation_date::DATE BETWEEN '2008-12-01' AND '2008-12-31')\n",
    "                   ) AND su.creation_date::DATE BETWEEN '2008-09-01' AND '2008-09-30'\n",
    "      ) count_posts\n",
    "GROUP BY 1\n",
    "ORDER BY month DESC\n",
    "'''\n",
    "\n",
    "# выполните запрос\n",
    "sample_df = pd.read_sql_query(query, con=engine) \n",
    "sample_df"
   ]
  },
  {
   "cell_type": "markdown",
   "metadata": {
    "id": "Vnxn9DVHDWKx"
   },
   "source": [
    "Изучите данные: есть ли в них аномалии? Предположите, почему могли появиться аномальные значения."
   ]
  },
  {
   "cell_type": "code",
   "execution_count": 11,
   "metadata": {
    "id": "MMVIz4yMlKpN"
   },
   "outputs": [],
   "source": [
    "# напишите ваш ответ здесь\n",
    "\n",
    "# Аномальные значения - 32 поста в августе от пользователей, зарегистрированных в сентябре.\n",
    "# Возможно, это аккаунты тестировщиков, затем отошедших обычным пользователям."
   ]
  },
  {
   "cell_type": "markdown",
   "metadata": {
    "id": "5Pcizm0DDWKz"
   },
   "source": [
    "# Задание 4"
   ]
  },
  {
   "cell_type": "markdown",
   "metadata": {
    "id": "KUZPF6vHDWKz"
   },
   "source": [
    "Используя данные о постах, выведите несколько полей:\n",
    "\n",
    "- идентификатор пользователя, который написал пост;\n",
    "- дата создания поста;\n",
    "- количество просмотров у текущего поста;\n",
    "- сумму просмотров постов автора с накоплением.\n",
    "\n",
    "Данные в таблице должны быть отсортированы по возрастанию идентификаторов пользователей, а данные об одном и том же пользователе — по возрастанию даты создания поста."
   ]
  },
  {
   "cell_type": "code",
   "execution_count": 12,
   "metadata": {
    "id": "hDoJhMzfDWK0"
   },
   "outputs": [
    {
     "data": {
      "text/html": [
       "<div>\n",
       "<style scoped>\n",
       "    .dataframe tbody tr th:only-of-type {\n",
       "        vertical-align: middle;\n",
       "    }\n",
       "\n",
       "    .dataframe tbody tr th {\n",
       "        vertical-align: top;\n",
       "    }\n",
       "\n",
       "    .dataframe thead th {\n",
       "        text-align: right;\n",
       "    }\n",
       "</style>\n",
       "<table border=\"1\" class=\"dataframe\">\n",
       "  <thead>\n",
       "    <tr style=\"text-align: right;\">\n",
       "      <th></th>\n",
       "      <th>user_id</th>\n",
       "      <th>creation_date</th>\n",
       "      <th>views_count</th>\n",
       "      <th>cumulative_count</th>\n",
       "    </tr>\n",
       "  </thead>\n",
       "  <tbody>\n",
       "    <tr>\n",
       "      <th>0</th>\n",
       "      <td>1</td>\n",
       "      <td>2008-07-31 23:41:00</td>\n",
       "      <td>480476</td>\n",
       "      <td>480476</td>\n",
       "    </tr>\n",
       "    <tr>\n",
       "      <th>1</th>\n",
       "      <td>1</td>\n",
       "      <td>2008-07-31 23:55:38</td>\n",
       "      <td>136033</td>\n",
       "      <td>616509</td>\n",
       "    </tr>\n",
       "    <tr>\n",
       "      <th>2</th>\n",
       "      <td>1</td>\n",
       "      <td>2008-07-31 23:56:41</td>\n",
       "      <td>0</td>\n",
       "      <td>616509</td>\n",
       "    </tr>\n",
       "    <tr>\n",
       "      <th>3</th>\n",
       "      <td>1</td>\n",
       "      <td>2008-08-04 02:45:08</td>\n",
       "      <td>0</td>\n",
       "      <td>616509</td>\n",
       "    </tr>\n",
       "    <tr>\n",
       "      <th>4</th>\n",
       "      <td>1</td>\n",
       "      <td>2008-08-04 04:31:03</td>\n",
       "      <td>0</td>\n",
       "      <td>616509</td>\n",
       "    </tr>\n",
       "    <tr>\n",
       "      <th>...</th>\n",
       "      <td>...</td>\n",
       "      <td>...</td>\n",
       "      <td>...</td>\n",
       "      <td>...</td>\n",
       "    </tr>\n",
       "    <tr>\n",
       "      <th>243791</th>\n",
       "      <td>5696608</td>\n",
       "      <td>2008-12-23 16:00:37</td>\n",
       "      <td>0</td>\n",
       "      <td>2804</td>\n",
       "    </tr>\n",
       "    <tr>\n",
       "      <th>243792</th>\n",
       "      <td>5696608</td>\n",
       "      <td>2008-12-23 17:35:09</td>\n",
       "      <td>0</td>\n",
       "      <td>2804</td>\n",
       "    </tr>\n",
       "    <tr>\n",
       "      <th>243793</th>\n",
       "      <td>5696608</td>\n",
       "      <td>2008-12-24 01:02:48</td>\n",
       "      <td>0</td>\n",
       "      <td>2804</td>\n",
       "    </tr>\n",
       "    <tr>\n",
       "      <th>243794</th>\n",
       "      <td>5696608</td>\n",
       "      <td>2008-12-30 14:34:45</td>\n",
       "      <td>0</td>\n",
       "      <td>2804</td>\n",
       "    </tr>\n",
       "    <tr>\n",
       "      <th>243795</th>\n",
       "      <td>5696608</td>\n",
       "      <td>2008-12-30 16:32:12</td>\n",
       "      <td>0</td>\n",
       "      <td>2804</td>\n",
       "    </tr>\n",
       "  </tbody>\n",
       "</table>\n",
       "<p>243796 rows × 4 columns</p>\n",
       "</div>"
      ],
      "text/plain": [
       "        user_id       creation_date  views_count  cumulative_count\n",
       "0             1 2008-07-31 23:41:00       480476            480476\n",
       "1             1 2008-07-31 23:55:38       136033            616509\n",
       "2             1 2008-07-31 23:56:41            0            616509\n",
       "3             1 2008-08-04 02:45:08            0            616509\n",
       "4             1 2008-08-04 04:31:03            0            616509\n",
       "...         ...                 ...          ...               ...\n",
       "243791  5696608 2008-12-23 16:00:37            0              2804\n",
       "243792  5696608 2008-12-23 17:35:09            0              2804\n",
       "243793  5696608 2008-12-24 01:02:48            0              2804\n",
       "243794  5696608 2008-12-30 14:34:45            0              2804\n",
       "243795  5696608 2008-12-30 16:32:12            0              2804\n",
       "\n",
       "[243796 rows x 4 columns]"
      ]
     },
     "execution_count": 12,
     "metadata": {},
     "output_type": "execute_result"
    }
   ],
   "source": [
    "# напишите запрос\n",
    "query = '''\n",
    "SELECT user_id,\n",
    "       creation_date,\n",
    "       views_count,\n",
    "       SUM (views_count) OVER (PARTITION BY user_id ORDER BY creation_date) AS cumulative_count\n",
    "FROM stackoverflow.posts\n",
    "ORDER BY user_id, creation_date\n",
    "'''\n",
    "\n",
    "# выполните запрос\n",
    "# выполните запрос\n",
    "sample_df = pd.read_sql_query(query, con=engine) \n",
    "sample_df"
   ]
  },
  {
   "cell_type": "markdown",
   "metadata": {
    "id": "N0kHRHvIDWK2"
   },
   "source": [
    "# Задание 5"
   ]
  },
  {
   "cell_type": "markdown",
   "metadata": {
    "id": "gBgvmPtODWK2"
   },
   "source": [
    "Найдите среднее количество постов пользователей в день за август 2008 года. Отберите данные о пользователях, которые опубликовали больше 120 постов за август. Дни без публикаций не учитывайте. \n",
    "\n",
    "Отсортируйте результат по возрастанию среднего количества постов. Значения можно не округлять."
   ]
  },
  {
   "cell_type": "code",
   "execution_count": 13,
   "metadata": {
    "id": "YFyPNz5GDWK3"
   },
   "outputs": [
    {
     "data": {
      "text/html": [
       "<div>\n",
       "<style scoped>\n",
       "    .dataframe tbody tr th:only-of-type {\n",
       "        vertical-align: middle;\n",
       "    }\n",
       "\n",
       "    .dataframe tbody tr th {\n",
       "        vertical-align: top;\n",
       "    }\n",
       "\n",
       "    .dataframe thead th {\n",
       "        text-align: right;\n",
       "    }\n",
       "</style>\n",
       "<table border=\"1\" class=\"dataframe\">\n",
       "  <thead>\n",
       "    <tr style=\"text-align: right;\">\n",
       "      <th></th>\n",
       "      <th>user_id</th>\n",
       "      <th>avg</th>\n",
       "    </tr>\n",
       "  </thead>\n",
       "  <tbody>\n",
       "    <tr>\n",
       "      <th>0</th>\n",
       "      <td>116</td>\n",
       "      <td>4.777778</td>\n",
       "    </tr>\n",
       "    <tr>\n",
       "      <th>1</th>\n",
       "      <td>234</td>\n",
       "      <td>5.208333</td>\n",
       "    </tr>\n",
       "    <tr>\n",
       "      <th>2</th>\n",
       "      <td>91</td>\n",
       "      <td>5.681818</td>\n",
       "    </tr>\n",
       "    <tr>\n",
       "      <th>3</th>\n",
       "      <td>905</td>\n",
       "      <td>7.000000</td>\n",
       "    </tr>\n",
       "    <tr>\n",
       "      <th>4</th>\n",
       "      <td>383</td>\n",
       "      <td>7.277778</td>\n",
       "    </tr>\n",
       "  </tbody>\n",
       "</table>\n",
       "</div>"
      ],
      "text/plain": [
       "   user_id       avg\n",
       "0      116  4.777778\n",
       "1      234  5.208333\n",
       "2       91  5.681818\n",
       "3      905  7.000000\n",
       "4      383  7.277778"
      ]
     },
     "execution_count": 13,
     "metadata": {},
     "output_type": "execute_result"
    }
   ],
   "source": [
    "# напишите запрос\n",
    "query = '''\n",
    "SELECT user_id,\n",
    "       AVG(count_users.daily)\n",
    "FROM (\n",
    "      SELECT user_id,\n",
    "             DATE_TRUNC('day', creation_date) AS DATE,\n",
    "             COUNT(id) AS daily\n",
    "      FROM stackoverflow.posts\n",
    "      WHERE user_id IN (\n",
    "                        SELECT user_id\n",
    "                        FROM stackoverflow.posts\n",
    "                        WHERE creation_date::DATE BETWEEN '2008-08-01' AND '2008-08-31'\n",
    "                        GROUP BY user_id\n",
    "                        HAVING COUNT(id) > 120\n",
    "                       )\n",
    "             AND creation_date::DATE BETWEEN '2008-08-01' AND '2008-08-31'\n",
    "      GROUP BY user_id, DATE_TRUNC('day', creation_date)\n",
    "      ORDER BY 2) count_users\n",
    "GROUP BY user_id\n",
    "ORDER BY 2 ASC\n",
    "'''\n",
    "\n",
    "# выполните запрос\n",
    "sample_df = pd.read_sql_query(query, con=engine)\n",
    "sample_df"
   ]
  },
  {
   "cell_type": "markdown",
   "metadata": {
    "id": "EQ0dcFH4DWK5"
   },
   "source": [
    "# Задание 6"
   ]
  },
  {
   "cell_type": "markdown",
   "metadata": {
    "id": "c7flfg_hDWK5"
   },
   "source": [
    "Сколько в среднем дней в период с 1 по 7 декабря 2008 года пользователи взаимодействовали с платформой? Для каждого пользователя отберите дни, в которые он или она опубликовали хотя бы один пост. Нужно получить одно целое число — не забудьте округлить результат."
   ]
  },
  {
   "cell_type": "code",
   "execution_count": 14,
   "metadata": {
    "id": "kZ7LXTr6DWK6"
   },
   "outputs": [
    {
     "data": {
      "text/html": [
       "<div>\n",
       "<style scoped>\n",
       "    .dataframe tbody tr th:only-of-type {\n",
       "        vertical-align: middle;\n",
       "    }\n",
       "\n",
       "    .dataframe tbody tr th {\n",
       "        vertical-align: top;\n",
       "    }\n",
       "\n",
       "    .dataframe thead th {\n",
       "        text-align: right;\n",
       "    }\n",
       "</style>\n",
       "<table border=\"1\" class=\"dataframe\">\n",
       "  <thead>\n",
       "    <tr style=\"text-align: right;\">\n",
       "      <th></th>\n",
       "      <th>result</th>\n",
       "    </tr>\n",
       "  </thead>\n",
       "  <tbody>\n",
       "    <tr>\n",
       "      <th>0</th>\n",
       "      <td>2.0</td>\n",
       "    </tr>\n",
       "  </tbody>\n",
       "</table>\n",
       "</div>"
      ],
      "text/plain": [
       "   result\n",
       "0     2.0"
      ]
     },
     "execution_count": 14,
     "metadata": {},
     "output_type": "execute_result"
    }
   ],
   "source": [
    "# напишите запрос\n",
    "query = '''\n",
    "WITH count_days AS (\n",
    "                    SELECT COUNT (creation_date) AS count_day\n",
    "                    FROM (\n",
    "                          SELECT DISTINCT DATE_TRUNC('day', creation_date) AS creation_date,\n",
    "                                 user_id\n",
    "                          FROM stackoverflow.posts\n",
    "                          WHERE creation_date::DATE BETWEEN '2008-12-01' AND '2008-12-07'\n",
    "                                AND creation_date IS NOT NULL\n",
    "                          ) one_post\n",
    "                    GROUP BY user_id\n",
    "                    )\n",
    "SELECT ROUND(AVG(count_day)) AS result\n",
    "FROM count_days;\n",
    "'''\n",
    "\n",
    "# выполните запрос\n",
    "sample_df = pd.read_sql_query(query, con=engine)\n",
    "sample_df"
   ]
  },
  {
   "cell_type": "markdown",
   "metadata": {
    "id": "UJFtNNggDWK7"
   },
   "source": [
    "Проанализируйте итоговую таблицу — какие выводы можно сделать?"
   ]
  },
  {
   "cell_type": "code",
   "execution_count": 15,
   "metadata": {
    "id": "LfUuYz-1DWK8"
   },
   "outputs": [],
   "source": [
    "# напишите ваш ответ здесь\n",
    "\n",
    "# В среднем, в период с 1 по 7 декабря 2008, пользователи публикавали посты 2 дня."
   ]
  },
  {
   "cell_type": "markdown",
   "metadata": {
    "id": "wfOmqmfLDWK8"
   },
   "source": [
    "# Задание 7"
   ]
  },
  {
   "cell_type": "markdown",
   "metadata": {
    "id": "X4ARQimADWK9"
   },
   "source": [
    "Выведите историю активности каждого пользователя в таком виде: идентификатор пользователя, дата публикации поста. Отсортируйте вывод по возрастанию идентификаторов пользователей, а для каждого пользователя — по возрастанию даты публикации.\n",
    "\n",
    "Добавьте в таблицу новое поле: для каждого поста в нём будет указано название месяца предпоследней публикации пользователя относительно текущей. Если такой публикации нет, укажите `NULL`.  Python автоматически поменяет `NULL` на `None`, но дополнительно преобразовывать значения `None` вам не нужно.\n",
    "\n",
    "Посмотрите внимательно на образец таблицы: для первых двух постов предпоследней публикации нет, но, начиная с третьего поста, в новое поле входит нужный месяц. Для следующего пользователя в первые две записи поля `second_last_month` тоже войдёт `NULL`."
   ]
  },
  {
   "cell_type": "markdown",
   "metadata": {
    "id": "IGPjRP01DWK9"
   },
   "source": [
    "| user_id | creation_date | second_last_month |\n",
    "| ------- | ------------- | ----------------- |\n",
    "| 1       | 2008-07-31 23:41:00 | None |\n",
    "| 1       | 2008-07-31 23:55:38 | None |\n",
    "| 1       | 2008-07-31 23:56:41 | July |\n",
    "| 1       | 2008-08-04 02:45:08 | July |\n",
    "| 1       | 2008-08-04 04:31:03 | July |\n",
    "| 1       | 2008-08-04 08:04:42 | August |\n",
    "| ... | ... | ... |"
   ]
  },
  {
   "cell_type": "code",
   "execution_count": 16,
   "metadata": {
    "id": "HzI1vhaMDWK-"
   },
   "outputs": [
    {
     "data": {
      "text/html": [
       "<div>\n",
       "<style scoped>\n",
       "    .dataframe tbody tr th:only-of-type {\n",
       "        vertical-align: middle;\n",
       "    }\n",
       "\n",
       "    .dataframe tbody tr th {\n",
       "        vertical-align: top;\n",
       "    }\n",
       "\n",
       "    .dataframe thead th {\n",
       "        text-align: right;\n",
       "    }\n",
       "</style>\n",
       "<table border=\"1\" class=\"dataframe\">\n",
       "  <thead>\n",
       "    <tr style=\"text-align: right;\">\n",
       "      <th></th>\n",
       "      <th>user_id</th>\n",
       "      <th>creation_date</th>\n",
       "      <th>second_last_month</th>\n",
       "    </tr>\n",
       "  </thead>\n",
       "  <tbody>\n",
       "    <tr>\n",
       "      <th>0</th>\n",
       "      <td>1</td>\n",
       "      <td>2008-07-31 23:41:00</td>\n",
       "      <td>None</td>\n",
       "    </tr>\n",
       "    <tr>\n",
       "      <th>1</th>\n",
       "      <td>1</td>\n",
       "      <td>2008-07-31 23:55:38</td>\n",
       "      <td>None</td>\n",
       "    </tr>\n",
       "    <tr>\n",
       "      <th>2</th>\n",
       "      <td>1</td>\n",
       "      <td>2008-07-31 23:56:41</td>\n",
       "      <td>July</td>\n",
       "    </tr>\n",
       "    <tr>\n",
       "      <th>3</th>\n",
       "      <td>1</td>\n",
       "      <td>2008-08-04 02:45:08</td>\n",
       "      <td>July</td>\n",
       "    </tr>\n",
       "    <tr>\n",
       "      <th>4</th>\n",
       "      <td>1</td>\n",
       "      <td>2008-08-04 04:31:03</td>\n",
       "      <td>July</td>\n",
       "    </tr>\n",
       "    <tr>\n",
       "      <th>...</th>\n",
       "      <td>...</td>\n",
       "      <td>...</td>\n",
       "      <td>...</td>\n",
       "    </tr>\n",
       "    <tr>\n",
       "      <th>243791</th>\n",
       "      <td>5696608</td>\n",
       "      <td>2008-12-23 16:00:37</td>\n",
       "      <td>December</td>\n",
       "    </tr>\n",
       "    <tr>\n",
       "      <th>243792</th>\n",
       "      <td>5696608</td>\n",
       "      <td>2008-12-23 17:35:09</td>\n",
       "      <td>December</td>\n",
       "    </tr>\n",
       "    <tr>\n",
       "      <th>243793</th>\n",
       "      <td>5696608</td>\n",
       "      <td>2008-12-24 01:02:48</td>\n",
       "      <td>December</td>\n",
       "    </tr>\n",
       "    <tr>\n",
       "      <th>243794</th>\n",
       "      <td>5696608</td>\n",
       "      <td>2008-12-30 14:34:45</td>\n",
       "      <td>December</td>\n",
       "    </tr>\n",
       "    <tr>\n",
       "      <th>243795</th>\n",
       "      <td>5696608</td>\n",
       "      <td>2008-12-30 16:32:12</td>\n",
       "      <td>December</td>\n",
       "    </tr>\n",
       "  </tbody>\n",
       "</table>\n",
       "<p>243796 rows × 3 columns</p>\n",
       "</div>"
      ],
      "text/plain": [
       "        user_id       creation_date second_last_month\n",
       "0             1 2008-07-31 23:41:00              None\n",
       "1             1 2008-07-31 23:55:38              None\n",
       "2             1 2008-07-31 23:56:41         July     \n",
       "3             1 2008-08-04 02:45:08         July     \n",
       "4             1 2008-08-04 04:31:03         July     \n",
       "...         ...                 ...               ...\n",
       "243791  5696608 2008-12-23 16:00:37         December \n",
       "243792  5696608 2008-12-23 17:35:09         December \n",
       "243793  5696608 2008-12-24 01:02:48         December \n",
       "243794  5696608 2008-12-30 14:34:45         December \n",
       "243795  5696608 2008-12-30 16:32:12         December \n",
       "\n",
       "[243796 rows x 3 columns]"
      ]
     },
     "execution_count": 16,
     "metadata": {},
     "output_type": "execute_result"
    }
   ],
   "source": [
    "# напишите запрос\n",
    "query = '''\n",
    "SELECT DISTINCT user_id,\n",
    "       creation_date,\n",
    "       LAG(TO_CHAR(to_timestamp(DATE_PART('month', creation_date)::text, 'MM'),'Month'), 2, NULL) OVER (PARTITION BY user_id ORDER BY creation_date) AS second_last_month\n",
    "FROM stackoverflow.posts\n",
    "ORDER BY user_id, creation_date\n",
    "'''\n",
    "\n",
    "# выполните запрос\n",
    "sample_df = pd.read_sql_query(query, con=engine)\n",
    "sample_df"
   ]
  },
  {
   "cell_type": "markdown",
   "metadata": {
    "id": "tf9qq2yzDWK_"
   },
   "source": [
    "# Задание 8"
   ]
  },
  {
   "cell_type": "markdown",
   "metadata": {
    "id": "gfwLVXBYDWLA"
   },
   "source": [
    "Рассчитайте аналог Retention Rate по месяцам для пользователей StackOverflow. Объедините пользователей в когорты по месяцу их первого поста. Возвращение определяйте по наличию поста в текущем месяце. "
   ]
  },
  {
   "cell_type": "markdown",
   "metadata": {
    "id": "kN2ic39WlKpl"
   },
   "source": [
    "| cohort_dt | session_date | users_cnt | cohort_users_cnt | retention_rate |\n",
    "| --- | --- | --- | --- | --- |\n",
    "| 2008-07-01 00:00:00 | 2008-07-01 00:00:00 | 3 | 3 | 100 |\n",
    "| 2008-07-01 00:00:00 | 2008-08-01 00:00:00 | 2 | 3 | 66,67 |\n",
    "| 2008-07-01 00:00:00 | 2008-09-01 00:00:00 | 1 | 3 | 33,33 |\n",
    "| 2008-07-01 00:00:00 | 2008-10-01 00:00:00 | 2 | 3 | 66,67 |\n",
    "| 2008-07-01 00:00:00 | 2008-11-01 00:00:00 | 1 | 3 | 33,33 |\n",
    "| 2008-07-01 00:00:00 | 2008-12-01 00:00:00 | 2 | 3 | 66,67 |\n",
    "| 2008-08-01 00:00:00 | 2008-08-01 00:00:00 | 2151 | 2151 | 100 |\n",
    "| ... | ... | ... | ... | ... |"
   ]
  },
  {
   "cell_type": "code",
   "execution_count": 17,
   "metadata": {
    "id": "LUgFmwmTDWLB"
   },
   "outputs": [
    {
     "data": {
      "text/html": [
       "<div>\n",
       "<style scoped>\n",
       "    .dataframe tbody tr th:only-of-type {\n",
       "        vertical-align: middle;\n",
       "    }\n",
       "\n",
       "    .dataframe tbody tr th {\n",
       "        vertical-align: top;\n",
       "    }\n",
       "\n",
       "    .dataframe thead th {\n",
       "        text-align: right;\n",
       "    }\n",
       "</style>\n",
       "<table border=\"1\" class=\"dataframe\">\n",
       "  <thead>\n",
       "    <tr style=\"text-align: right;\">\n",
       "      <th></th>\n",
       "      <th>cohort_dt</th>\n",
       "      <th>session_date</th>\n",
       "      <th>users_cnt</th>\n",
       "      <th>cohort_users_cnt</th>\n",
       "      <th>retention_rate</th>\n",
       "    </tr>\n",
       "  </thead>\n",
       "  <tbody>\n",
       "    <tr>\n",
       "      <th>0</th>\n",
       "      <td>2008-07-01</td>\n",
       "      <td>2008-07-01</td>\n",
       "      <td>3</td>\n",
       "      <td>3</td>\n",
       "      <td>100.00</td>\n",
       "    </tr>\n",
       "    <tr>\n",
       "      <th>1</th>\n",
       "      <td>2008-07-01</td>\n",
       "      <td>2008-08-01</td>\n",
       "      <td>2</td>\n",
       "      <td>3</td>\n",
       "      <td>66.67</td>\n",
       "    </tr>\n",
       "    <tr>\n",
       "      <th>2</th>\n",
       "      <td>2008-07-01</td>\n",
       "      <td>2008-09-01</td>\n",
       "      <td>1</td>\n",
       "      <td>3</td>\n",
       "      <td>33.33</td>\n",
       "    </tr>\n",
       "    <tr>\n",
       "      <th>3</th>\n",
       "      <td>2008-07-01</td>\n",
       "      <td>2008-10-01</td>\n",
       "      <td>2</td>\n",
       "      <td>3</td>\n",
       "      <td>66.67</td>\n",
       "    </tr>\n",
       "    <tr>\n",
       "      <th>4</th>\n",
       "      <td>2008-07-01</td>\n",
       "      <td>2008-11-01</td>\n",
       "      <td>1</td>\n",
       "      <td>3</td>\n",
       "      <td>33.33</td>\n",
       "    </tr>\n",
       "    <tr>\n",
       "      <th>5</th>\n",
       "      <td>2008-07-01</td>\n",
       "      <td>2008-12-01</td>\n",
       "      <td>2</td>\n",
       "      <td>3</td>\n",
       "      <td>66.67</td>\n",
       "    </tr>\n",
       "    <tr>\n",
       "      <th>6</th>\n",
       "      <td>2008-08-01</td>\n",
       "      <td>2008-08-01</td>\n",
       "      <td>2151</td>\n",
       "      <td>2151</td>\n",
       "      <td>100.00</td>\n",
       "    </tr>\n",
       "    <tr>\n",
       "      <th>7</th>\n",
       "      <td>2008-08-01</td>\n",
       "      <td>2008-09-01</td>\n",
       "      <td>1571</td>\n",
       "      <td>2151</td>\n",
       "      <td>73.04</td>\n",
       "    </tr>\n",
       "    <tr>\n",
       "      <th>8</th>\n",
       "      <td>2008-08-01</td>\n",
       "      <td>2008-10-01</td>\n",
       "      <td>1275</td>\n",
       "      <td>2151</td>\n",
       "      <td>59.27</td>\n",
       "    </tr>\n",
       "    <tr>\n",
       "      <th>9</th>\n",
       "      <td>2008-08-01</td>\n",
       "      <td>2008-11-01</td>\n",
       "      <td>1050</td>\n",
       "      <td>2151</td>\n",
       "      <td>48.81</td>\n",
       "    </tr>\n",
       "    <tr>\n",
       "      <th>10</th>\n",
       "      <td>2008-08-01</td>\n",
       "      <td>2008-12-01</td>\n",
       "      <td>894</td>\n",
       "      <td>2151</td>\n",
       "      <td>41.56</td>\n",
       "    </tr>\n",
       "    <tr>\n",
       "      <th>11</th>\n",
       "      <td>2008-09-01</td>\n",
       "      <td>2008-09-01</td>\n",
       "      <td>7678</td>\n",
       "      <td>7678</td>\n",
       "      <td>100.00</td>\n",
       "    </tr>\n",
       "    <tr>\n",
       "      <th>12</th>\n",
       "      <td>2008-09-01</td>\n",
       "      <td>2008-10-01</td>\n",
       "      <td>4132</td>\n",
       "      <td>7678</td>\n",
       "      <td>53.82</td>\n",
       "    </tr>\n",
       "    <tr>\n",
       "      <th>13</th>\n",
       "      <td>2008-09-01</td>\n",
       "      <td>2008-11-01</td>\n",
       "      <td>2966</td>\n",
       "      <td>7678</td>\n",
       "      <td>38.63</td>\n",
       "    </tr>\n",
       "    <tr>\n",
       "      <th>14</th>\n",
       "      <td>2008-09-01</td>\n",
       "      <td>2008-12-01</td>\n",
       "      <td>2500</td>\n",
       "      <td>7678</td>\n",
       "      <td>32.56</td>\n",
       "    </tr>\n",
       "    <tr>\n",
       "      <th>15</th>\n",
       "      <td>2008-10-01</td>\n",
       "      <td>2008-10-01</td>\n",
       "      <td>3629</td>\n",
       "      <td>3629</td>\n",
       "      <td>100.00</td>\n",
       "    </tr>\n",
       "    <tr>\n",
       "      <th>16</th>\n",
       "      <td>2008-10-01</td>\n",
       "      <td>2008-11-01</td>\n",
       "      <td>1640</td>\n",
       "      <td>3629</td>\n",
       "      <td>45.19</td>\n",
       "    </tr>\n",
       "    <tr>\n",
       "      <th>17</th>\n",
       "      <td>2008-10-01</td>\n",
       "      <td>2008-12-01</td>\n",
       "      <td>1221</td>\n",
       "      <td>3629</td>\n",
       "      <td>33.65</td>\n",
       "    </tr>\n",
       "    <tr>\n",
       "      <th>18</th>\n",
       "      <td>2008-11-01</td>\n",
       "      <td>2008-11-01</td>\n",
       "      <td>2852</td>\n",
       "      <td>2852</td>\n",
       "      <td>100.00</td>\n",
       "    </tr>\n",
       "    <tr>\n",
       "      <th>19</th>\n",
       "      <td>2008-11-01</td>\n",
       "      <td>2008-12-01</td>\n",
       "      <td>1151</td>\n",
       "      <td>2852</td>\n",
       "      <td>40.36</td>\n",
       "    </tr>\n",
       "    <tr>\n",
       "      <th>20</th>\n",
       "      <td>2008-12-01</td>\n",
       "      <td>2008-12-01</td>\n",
       "      <td>2536</td>\n",
       "      <td>2536</td>\n",
       "      <td>100.00</td>\n",
       "    </tr>\n",
       "  </tbody>\n",
       "</table>\n",
       "</div>"
      ],
      "text/plain": [
       "    cohort_dt session_date  users_cnt  cohort_users_cnt  retention_rate\n",
       "0  2008-07-01   2008-07-01          3                 3          100.00\n",
       "1  2008-07-01   2008-08-01          2                 3           66.67\n",
       "2  2008-07-01   2008-09-01          1                 3           33.33\n",
       "3  2008-07-01   2008-10-01          2                 3           66.67\n",
       "4  2008-07-01   2008-11-01          1                 3           33.33\n",
       "5  2008-07-01   2008-12-01          2                 3           66.67\n",
       "6  2008-08-01   2008-08-01       2151              2151          100.00\n",
       "7  2008-08-01   2008-09-01       1571              2151           73.04\n",
       "8  2008-08-01   2008-10-01       1275              2151           59.27\n",
       "9  2008-08-01   2008-11-01       1050              2151           48.81\n",
       "10 2008-08-01   2008-12-01        894              2151           41.56\n",
       "11 2008-09-01   2008-09-01       7678              7678          100.00\n",
       "12 2008-09-01   2008-10-01       4132              7678           53.82\n",
       "13 2008-09-01   2008-11-01       2966              7678           38.63\n",
       "14 2008-09-01   2008-12-01       2500              7678           32.56\n",
       "15 2008-10-01   2008-10-01       3629              3629          100.00\n",
       "16 2008-10-01   2008-11-01       1640              3629           45.19\n",
       "17 2008-10-01   2008-12-01       1221              3629           33.65\n",
       "18 2008-11-01   2008-11-01       2852              2852          100.00\n",
       "19 2008-11-01   2008-12-01       1151              2852           40.36\n",
       "20 2008-12-01   2008-12-01       2536              2536          100.00"
      ]
     },
     "execution_count": 17,
     "metadata": {},
     "output_type": "execute_result"
    }
   ],
   "source": [
    "# напишите запрос\n",
    "query = '''\n",
    "WITH profile AS (SELECT user_id,\n",
    "                        DATE_TRUNC('MONTH', creation_date) AS creation_date,\n",
    "                        COUNT(*) OVER (PARTITION BY DATE_TRUNC('MONTH', creation_date)) AS cohort_users_cnt\n",
    "                 FROM (\n",
    "                       SELECT user_id,\n",
    "                              creation_date,\n",
    "                              ROW_NUMBER() OVER (PARTITION BY user_id ORDER BY creation_date) AS number_one_day\n",
    "                       FROM stackoverflow.posts\n",
    "                       WHERE creation_date IS NOT NULL\n",
    "                       ) month_one_post\n",
    "                  WHERE month_one_post.number_one_day = 1),\n",
    "     sessions AS (SELECT DISTINCT user_id,\n",
    "                        DATE_TRUNC('MONTH', creation_date) AS session_date\n",
    "                 FROM stackoverflow.posts\n",
    "                 WHERE creation_date IS NOT NULL)\n",
    "SELECT p.creation_date AS cohort_dt,\n",
    "       session_date,\n",
    "       COUNT(session_date) AS users_cnt,\n",
    "       cohort_users_cnt,\n",
    "       ROUND(COUNT(session_date) * 100.0 / cohort_users_cnt, 2) AS retention_rate\n",
    "FROM profile p RIGHT JOIN sessions s ON p.user_id = s.user_id\n",
    "GROUP BY 1,2,4\n",
    "ORDER BY 1,2,4\n",
    "''' \n",
    "# выполните запрос\n",
    "df = pd.read_sql_query(query, con=engine)\n",
    "df"
   ]
  },
  {
   "cell_type": "markdown",
   "metadata": {
    "id": "_msBtnb2DWLC"
   },
   "source": [
    "Постройте тепловую карту Retention Rate. Какие аномалии или другие необычные явления удалось выявить? Сформулируйте гипотезы о возможных причинах."
   ]
  },
  {
   "cell_type": "code",
   "execution_count": 18,
   "metadata": {
    "id": "qAEJc8H1DWLC"
   },
   "outputs": [
    {
     "data": {
      "image/png": "[encoded data removed]",
      "text/plain": [
       "<Figure size 1440x720 with 2 Axes>"
      ]
     },
     "metadata": {
      "needs_background": "light"
     },
     "output_type": "display_data"
    }
   ],
   "source": [
    "# постройте тепловую карту Retention Rate\n",
    "\n",
    "retention = df.pivot('cohort_dt', 'session_date', 'retention_rate')\n",
    "retention.index = [str(x)[0:10] for x in retention.index]\n",
    "retention.columns = [str(x)[0:10] for x in retention.columns]\n",
    "\n",
    "# строим хитмэп\n",
    "plt.figure(figsize=(20, 10))\n",
    "sns.heatmap(retention, \n",
    "            annot=True, \n",
    "            fmt='') \n",
    "plt.title('Тепловая карта Retention Rate') \n",
    "plt.show()"
   ]
  },
  {
   "cell_type": "code",
   "execution_count": 19,
   "metadata": {
    "id": "EgOfIsI4DWLC"
   },
   "outputs": [],
   "source": [
    "# опишите аномалии или другие необычные явления и сформулируйте гипотезы\n",
    "\n",
    "#Июль 2008 года можно не брать в расчёт, вероятнее всего, это был тестовый месяц, всего три пользователя - админы или тестировщики.\n",
    "# В сентябре возвращается 73% из зарегистрировашихся в августе, что является хорошим показателем, но затем это значение падает ниже\n",
    "# 50%, что является тревожным знаком.\n",
    "# Далее значения падают и уже менее 50% пользователей пишут на сайте в новых месяцах. Это может быть поводом направить внимание на\n",
    "# поиск причин оттока клиентов."
   ]
  },
  {
   "cell_type": "markdown",
   "metadata": {
    "id": "1k7oPWt5DWLK"
   },
   "source": [
    "# Задание 9\n"
   ]
  },
  {
   "cell_type": "markdown",
   "metadata": {
    "id": "ALsYVSyRDWLM"
   },
   "source": [
    "На сколько процентов менялось количество постов ежемесячно с 1 сентября по 31 декабря 2008 года? Отобразите таблицу со следующими полями:\n",
    "\n",
    "- номер месяца;\n",
    "- количество постов за месяц;\n",
    "- процент, который показывает, насколько изменилось количество постов в текущем месяце по сравнению с предыдущим.\n",
    "\n",
    "Если постов стало меньше, значение процента должно быть отрицательным, если больше — положительным. Округлите значение процента до двух знаков после запятой.\n",
    "\n",
    "Напомним, что при делении одного целого числа на другое в PostgreSQL в результате получится целое число, округлённое до ближайшего целого вниз. Чтобы этого избежать, переведите делимое в тип `numeric`."
   ]
  },
  {
   "cell_type": "code",
   "execution_count": 20,
   "metadata": {
    "id": "Mb5pShStDWLN"
   },
   "outputs": [
    {
     "data": {
      "text/html": [
       "<div>\n",
       "<style scoped>\n",
       "    .dataframe tbody tr th:only-of-type {\n",
       "        vertical-align: middle;\n",
       "    }\n",
       "\n",
       "    .dataframe tbody tr th {\n",
       "        vertical-align: top;\n",
       "    }\n",
       "\n",
       "    .dataframe thead th {\n",
       "        text-align: right;\n",
       "    }\n",
       "</style>\n",
       "<table border=\"1\" class=\"dataframe\">\n",
       "  <thead>\n",
       "    <tr style=\"text-align: right;\">\n",
       "      <th></th>\n",
       "      <th>creation_month</th>\n",
       "      <th>posts_count</th>\n",
       "      <th>percentage</th>\n",
       "    </tr>\n",
       "  </thead>\n",
       "  <tbody>\n",
       "    <tr>\n",
       "      <th>0</th>\n",
       "      <td>9</td>\n",
       "      <td>70371</td>\n",
       "      <td>NaN</td>\n",
       "    </tr>\n",
       "    <tr>\n",
       "      <th>1</th>\n",
       "      <td>10</td>\n",
       "      <td>63102</td>\n",
       "      <td>-10.33</td>\n",
       "    </tr>\n",
       "    <tr>\n",
       "      <th>2</th>\n",
       "      <td>11</td>\n",
       "      <td>46975</td>\n",
       "      <td>-25.56</td>\n",
       "    </tr>\n",
       "    <tr>\n",
       "      <th>3</th>\n",
       "      <td>12</td>\n",
       "      <td>44592</td>\n",
       "      <td>-5.07</td>\n",
       "    </tr>\n",
       "  </tbody>\n",
       "</table>\n",
       "</div>"
      ],
      "text/plain": [
       "   creation_month  posts_count  percentage\n",
       "0               9        70371         NaN\n",
       "1              10        63102      -10.33\n",
       "2              11        46975      -25.56\n",
       "3              12        44592       -5.07"
      ]
     },
     "execution_count": 20,
     "metadata": {},
     "output_type": "execute_result"
    }
   ],
   "source": [
    "# напишите запрос\n",
    "query = '''\n",
    "SELECT *,\n",
    "       ROUND((posts_count * 100/ (CAST (LAG(posts_count) OVER () AS numeric))) - 100 , 2) AS percentage\n",
    "FROM (\n",
    "      SELECT DISTINCT CAST (DATE_PART('month', creation_date) AS integer) AS creation_month,\n",
    "             COUNT(*) OVER (PARTITION BY DATE_TRUNC('MONTH', creation_date)) AS posts_count\n",
    "      FROM stackoverflow.posts\n",
    "      WHERE creation_date::DATE BETWEEN '2008-09-01' AND '2008-12-31'\n",
    "      ) count_posts_month\n",
    "\n",
    "'''\n",
    "\n",
    "# выполните запрос\n",
    "dff = pd.read_sql_query(query, con=engine)\n",
    "dff"
   ]
  },
  {
   "cell_type": "markdown",
   "metadata": {
    "id": "9NQE2y_MDWLP"
   },
   "source": [
    "Постройте круговую диаграмму с количеством постов по месяцам."
   ]
  },
  {
   "cell_type": "code",
   "execution_count": 21,
   "metadata": {
    "id": "377ABjiVDWLP"
   },
   "outputs": [
    {
     "data": {
      "image/png": "[encoded data removed]",
      "text/plain": [
       "<Figure size 432x288 with 1 Axes>"
      ]
     },
     "metadata": {},
     "output_type": "display_data"
    }
   ],
   "source": [
    "# постройте круговую диаграмму с количеством постов по месяцам\n",
    "\n",
    "posts_count = dff['posts_count'].tolist()\n",
    "creation_month = dff['creation_month'].tolist()\n",
    "\n",
    "data = posts_count\n",
    "labels = creation_month\n",
    "\n",
    "colors = sns.color_palette('pastel')[0:5]\n",
    "\n",
    "plt.pie(data, labels = labels, colors = colors, autopct='%.0f%%', radius=2)\n",
    "plt.show()"
   ]
  },
  {
   "cell_type": "markdown",
   "metadata": {
    "id": "uw7qMtafDWLP"
   },
   "source": [
    "# Задание 10"
   ]
  },
  {
   "cell_type": "markdown",
   "metadata": {
    "id": "oRBpWKx3DWLQ"
   },
   "source": [
    "Выгрузите данные активности пользователя, который опубликовал больше всего постов за всё время. Выведите данные за октябрь 2008 года в таком виде:\n",
    "\n",
    "- номер недели;\n",
    "- дата и время последнего поста, опубликованного на этой неделе."
   ]
  },
  {
   "cell_type": "code",
   "execution_count": 22,
   "metadata": {
    "id": "r5F5fSkwDWLQ"
   },
   "outputs": [
    {
     "data": {
      "text/html": [
       "<div>\n",
       "<style scoped>\n",
       "    .dataframe tbody tr th:only-of-type {\n",
       "        vertical-align: middle;\n",
       "    }\n",
       "\n",
       "    .dataframe tbody tr th {\n",
       "        vertical-align: top;\n",
       "    }\n",
       "\n",
       "    .dataframe thead th {\n",
       "        text-align: right;\n",
       "    }\n",
       "</style>\n",
       "<table border=\"1\" class=\"dataframe\">\n",
       "  <thead>\n",
       "    <tr style=\"text-align: right;\">\n",
       "      <th></th>\n",
       "      <th>week_creation</th>\n",
       "      <th>creation_date</th>\n",
       "    </tr>\n",
       "  </thead>\n",
       "  <tbody>\n",
       "    <tr>\n",
       "      <th>0</th>\n",
       "      <td>40</td>\n",
       "      <td>2008-10-05 09:00:58</td>\n",
       "    </tr>\n",
       "    <tr>\n",
       "      <th>1</th>\n",
       "      <td>41</td>\n",
       "      <td>2008-10-12 21:22:23</td>\n",
       "    </tr>\n",
       "    <tr>\n",
       "      <th>2</th>\n",
       "      <td>42</td>\n",
       "      <td>2008-10-19 06:49:30</td>\n",
       "    </tr>\n",
       "    <tr>\n",
       "      <th>3</th>\n",
       "      <td>43</td>\n",
       "      <td>2008-10-26 21:44:36</td>\n",
       "    </tr>\n",
       "    <tr>\n",
       "      <th>4</th>\n",
       "      <td>44</td>\n",
       "      <td>2008-10-31 22:16:01</td>\n",
       "    </tr>\n",
       "  </tbody>\n",
       "</table>\n",
       "</div>"
      ],
      "text/plain": [
       "   week_creation       creation_date\n",
       "0             40 2008-10-05 09:00:58\n",
       "1             41 2008-10-12 21:22:23\n",
       "2             42 2008-10-19 06:49:30\n",
       "3             43 2008-10-26 21:44:36\n",
       "4             44 2008-10-31 22:16:01"
      ]
     },
     "execution_count": 22,
     "metadata": {},
     "output_type": "execute_result"
    }
   ],
   "source": [
    "# напишите запрос\n",
    "query = '''\n",
    "WITH user_id_top_post AS (                  \n",
    "                         SELECT user_id AS ud    \n",
    "                         FROM (\n",
    "                               SELECT user_id,\n",
    "                                      (COUNT(creation_date)) AS count_posts\n",
    "                               FROM stackoverflow.posts\n",
    "                               GROUP BY user_id\n",
    "                               ORDER BY count_posts DESC\n",
    "                              ) AS user_id_top\n",
    "                        LIMIT 1\n",
    "                        ),\n",
    "                        \n",
    "     number_week_date AS ( \n",
    "                          SELECT CAST (DATE_PART('week', creation_date) AS integer) AS week_creation,\n",
    "                                 creation_date\n",
    "                          FROM (\n",
    "                                SELECT user_id,\n",
    "                                creation_date\n",
    "                                FROM stackoverflow.posts sp JOIN user_id_top_post ui ON sp.user_id = ui.ud      \n",
    "                                WHERE user_id = ui.ud AND creation_date::DATE BETWEEN '2008-10-01' AND '2008-10-31'\n",
    "                               ) AS top_user_date\n",
    "                         )\n",
    "                        \n",
    "SELECT DISTINCT (week_creation),\n",
    "       MAX(creation_date) OVER (PARTITION BY week_creation) AS creation_date\n",
    "FROM number_week_date\n",
    "ORDER BY week_creation\n",
    "\n",
    "'''\n",
    "\n",
    "# выполните запрос\n",
    "sample_df = pd.read_sql_query(query, con=engine)\n",
    "sample_df"
   ]
  }
 ],
 "metadata": {
  "ExecuteTimeLog": [
   {
    "duration": 861,
    "start_time": "2023-08-22T12:24:07.568Z"
   },
   {
    "duration": 2330,
    "start_time": "2023-08-22T12:24:18.116Z"
   },
   {
    "duration": 4,
    "start_time": "2023-08-22T12:24:56.913Z"
   },
   {
    "duration": 12970,
    "start_time": "2023-08-22T12:25:01.350Z"
   },
   {
    "duration": 228,
    "start_time": "2023-08-22T12:25:52.204Z"
   },
   {
    "duration": 19,
    "start_time": "2023-08-22T12:25:57.372Z"
   },
   {
    "duration": 254,
    "start_time": "2023-08-22T13:07:42.719Z"
   },
   {
    "duration": 148,
    "start_time": "2023-08-22T13:09:02.301Z"
   },
   {
    "duration": 150,
    "start_time": "2023-08-22T13:09:24.722Z"
   },
   {
    "duration": 139,
    "start_time": "2023-08-22T13:09:35.956Z"
   },
   {
    "duration": 395,
    "start_time": "2023-08-22T13:10:25.641Z"
   },
   {
    "duration": 302,
    "start_time": "2023-08-22T13:15:39.941Z"
   },
   {
    "duration": 327,
    "start_time": "2023-08-22T13:17:19.600Z"
   },
   {
    "duration": 321,
    "start_time": "2023-08-22T13:18:13.586Z"
   },
   {
    "duration": 388,
    "start_time": "2023-08-22T13:18:27.042Z"
   },
   {
    "duration": 151,
    "start_time": "2023-08-22T13:39:25.430Z"
   },
   {
    "duration": 259,
    "start_time": "2023-08-22T13:40:02.745Z"
   },
   {
    "duration": 147,
    "start_time": "2023-08-22T13:40:29.785Z"
   },
   {
    "duration": 133,
    "start_time": "2023-08-22T13:41:10.263Z"
   },
   {
    "duration": 325,
    "start_time": "2023-08-22T13:41:24.022Z"
   },
   {
    "duration": 197,
    "start_time": "2023-08-22T13:49:22.053Z"
   },
   {
    "duration": 184,
    "start_time": "2023-08-22T13:49:44.170Z"
   },
   {
    "duration": 1055,
    "start_time": "2023-08-22T13:50:09.054Z"
   },
   {
    "duration": 152,
    "start_time": "2023-08-22T13:51:44.259Z"
   },
   {
    "duration": 146,
    "start_time": "2023-08-22T13:52:28.735Z"
   },
   {
    "duration": 166,
    "start_time": "2023-08-22T13:52:49.597Z"
   },
   {
    "duration": 309,
    "start_time": "2023-08-22T13:53:01.854Z"
   },
   {
    "duration": 228,
    "start_time": "2023-08-22T13:53:46.389Z"
   },
   {
    "duration": 245,
    "start_time": "2023-08-22T13:54:30.851Z"
   },
   {
    "duration": 191,
    "start_time": "2023-08-22T13:55:33.010Z"
   },
   {
    "duration": 244,
    "start_time": "2023-08-22T13:55:43.522Z"
   },
   {
    "duration": 191,
    "start_time": "2023-08-22T14:01:43.224Z"
   },
   {
    "duration": 3,
    "start_time": "2023-08-22T14:02:12.382Z"
   },
   {
    "duration": 3,
    "start_time": "2023-08-22T14:03:24.801Z"
   },
   {
    "duration": 7,
    "start_time": "2023-08-22T14:27:20.674Z"
   },
   {
    "duration": 7,
    "start_time": "2023-08-22T14:30:28.213Z"
   },
   {
    "duration": 122,
    "start_time": "2023-08-22T14:30:59.726Z"
   },
   {
    "duration": 1558,
    "start_time": "2023-08-23T13:40:41.061Z"
   },
   {
    "duration": 132,
    "start_time": "2023-08-23T14:07:07.206Z"
   },
   {
    "duration": 143,
    "start_time": "2023-08-23T14:07:20.734Z"
   },
   {
    "duration": 411,
    "start_time": "2023-08-23T14:07:45.305Z"
   },
   {
    "duration": 133,
    "start_time": "2023-08-23T14:08:48.846Z"
   },
   {
    "duration": 144,
    "start_time": "2023-08-23T14:09:52.416Z"
   },
   {
    "duration": 266,
    "start_time": "2023-08-23T14:10:11.436Z"
   },
   {
    "duration": 328,
    "start_time": "2023-08-23T14:11:06.296Z"
   },
   {
    "duration": 753,
    "start_time": "2023-08-23T14:11:49.994Z"
   },
   {
    "duration": 162,
    "start_time": "2023-08-23T14:15:32.509Z"
   },
   {
    "duration": 139,
    "start_time": "2023-08-23T14:24:25.446Z"
   },
   {
    "duration": 136,
    "start_time": "2023-08-23T14:32:37.304Z"
   },
   {
    "duration": 157,
    "start_time": "2023-08-23T14:33:18.245Z"
   },
   {
    "duration": 123,
    "start_time": "2023-08-23T15:03:16.837Z"
   },
   {
    "duration": 95,
    "start_time": "2023-08-23T15:04:02.625Z"
   },
   {
    "duration": 122,
    "start_time": "2023-08-23T15:04:57.131Z"
   },
   {
    "duration": 109,
    "start_time": "2023-08-23T15:08:16.027Z"
   },
   {
    "duration": 107,
    "start_time": "2023-08-23T15:20:20.859Z"
   },
   {
    "duration": 110,
    "start_time": "2023-08-23T15:20:28.227Z"
   },
   {
    "duration": 140,
    "start_time": "2023-08-23T15:21:44.285Z"
   },
   {
    "duration": 302,
    "start_time": "2023-08-23T15:22:44.691Z"
   },
   {
    "duration": 461,
    "start_time": "2023-08-23T15:24:33.306Z"
   },
   {
    "duration": 302,
    "start_time": "2023-08-23T15:24:47.269Z"
   },
   {
    "duration": 305,
    "start_time": "2023-08-23T15:26:36.906Z"
   },
   {
    "duration": 302,
    "start_time": "2023-08-23T15:26:56.045Z"
   },
   {
    "duration": 102,
    "start_time": "2023-08-23T15:28:32.875Z"
   },
   {
    "duration": 103,
    "start_time": "2023-08-23T15:29:16.399Z"
   },
   {
    "duration": 304,
    "start_time": "2023-08-23T15:29:29.390Z"
   },
   {
    "duration": 319,
    "start_time": "2023-08-23T15:30:24.965Z"
   },
   {
    "duration": 303,
    "start_time": "2023-08-23T15:30:43.535Z"
   },
   {
    "duration": 319,
    "start_time": "2023-08-23T15:30:48.864Z"
   },
   {
    "duration": 137,
    "start_time": "2023-08-23T15:31:55.699Z"
   },
   {
    "duration": 134,
    "start_time": "2023-08-23T15:32:01.714Z"
   },
   {
    "duration": 218,
    "start_time": "2023-08-23T15:32:50.829Z"
   },
   {
    "duration": 675,
    "start_time": "2023-08-23T15:33:35.302Z"
   },
   {
    "duration": 168,
    "start_time": "2023-08-23T15:35:05.812Z"
   },
   {
    "duration": 658,
    "start_time": "2023-08-23T15:35:11.662Z"
   },
   {
    "duration": 628,
    "start_time": "2023-08-23T15:37:05.407Z"
   },
   {
    "duration": 639,
    "start_time": "2023-08-23T15:40:11.043Z"
   },
   {
    "duration": 140,
    "start_time": "2023-08-23T15:44:55.810Z"
   },
   {
    "duration": 627,
    "start_time": "2023-08-23T15:45:26.962Z"
   },
   {
    "duration": 640,
    "start_time": "2023-08-23T15:47:11.110Z"
   },
   {
    "duration": 629,
    "start_time": "2023-08-23T15:47:19.510Z"
   },
   {
    "duration": 622,
    "start_time": "2023-08-23T15:48:04.391Z"
   },
   {
    "duration": 335,
    "start_time": "2023-08-23T15:48:38.952Z"
   },
   {
    "duration": 342,
    "start_time": "2023-08-23T15:49:51.070Z"
   },
   {
    "duration": 363,
    "start_time": "2023-08-23T15:50:58.706Z"
   },
   {
    "duration": 341,
    "start_time": "2023-08-23T15:51:10.574Z"
   },
   {
    "duration": 326,
    "start_time": "2023-08-23T15:51:18.264Z"
   },
   {
    "duration": 340,
    "start_time": "2023-08-23T15:51:24.506Z"
   },
   {
    "duration": 342,
    "start_time": "2023-08-23T15:51:55.255Z"
   },
   {
    "duration": 249,
    "start_time": "2023-08-23T15:52:26.283Z"
   },
   {
    "duration": 297,
    "start_time": "2023-08-23T15:52:48.541Z"
   },
   {
    "duration": 328,
    "start_time": "2023-08-23T15:53:01.036Z"
   },
   {
    "duration": 312,
    "start_time": "2023-08-23T15:53:04.883Z"
   },
   {
    "duration": 181,
    "start_time": "2023-08-23T15:53:40.685Z"
   },
   {
    "duration": 212,
    "start_time": "2023-08-23T15:54:32.868Z"
   },
   {
    "duration": 89,
    "start_time": "2023-08-23T15:54:50.465Z"
   },
   {
    "duration": 222,
    "start_time": "2023-08-23T15:55:02.353Z"
   },
   {
    "duration": 132,
    "start_time": "2023-08-23T15:55:53.849Z"
   },
   {
    "duration": 210,
    "start_time": "2023-08-23T15:56:06.842Z"
   },
   {
    "duration": 209,
    "start_time": "2023-08-23T15:57:18.462Z"
   },
   {
    "duration": 212,
    "start_time": "2023-08-23T15:57:42.988Z"
   },
   {
    "duration": 215,
    "start_time": "2023-08-23T15:57:50.007Z"
   },
   {
    "duration": 211,
    "start_time": "2023-08-23T15:57:59.042Z"
   },
   {
    "duration": 212,
    "start_time": "2023-08-23T15:58:10.964Z"
   },
   {
    "duration": 219,
    "start_time": "2023-08-23T15:58:20.909Z"
   },
   {
    "duration": 220,
    "start_time": "2023-08-23T15:58:29.174Z"
   },
   {
    "duration": 209,
    "start_time": "2023-08-23T15:58:45.637Z"
   },
   {
    "duration": 205,
    "start_time": "2023-08-23T16:04:07.686Z"
   },
   {
    "duration": 209,
    "start_time": "2023-08-23T16:05:33.574Z"
   },
   {
    "duration": 123,
    "start_time": "2023-08-23T16:17:48.883Z"
   },
   {
    "duration": 211,
    "start_time": "2023-08-23T16:18:14.344Z"
   },
   {
    "duration": 213,
    "start_time": "2023-08-23T19:35:34.125Z"
   },
   {
    "duration": 2,
    "start_time": "2023-08-23T19:46:14.052Z"
   },
   {
    "duration": 150,
    "start_time": "2023-08-23T19:46:26.053Z"
   },
   {
    "duration": 239,
    "start_time": "2023-08-23T19:46:45.929Z"
   },
   {
    "duration": 177,
    "start_time": "2023-08-23T19:47:13.677Z"
   },
   {
    "duration": 219,
    "start_time": "2023-08-23T19:49:08.693Z"
   },
   {
    "duration": 99,
    "start_time": "2023-08-23T19:49:54.648Z"
   },
   {
    "duration": 152,
    "start_time": "2023-08-23T19:51:39.894Z"
   },
   {
    "duration": 131,
    "start_time": "2023-08-23T19:52:01.343Z"
   },
   {
    "duration": 166,
    "start_time": "2023-08-23T19:53:07.211Z"
   },
   {
    "duration": 130,
    "start_time": "2023-08-23T19:56:36.276Z"
   },
   {
    "duration": 225,
    "start_time": "2023-08-23T19:57:15.157Z"
   },
   {
    "duration": 216,
    "start_time": "2023-08-23T20:00:59.814Z"
   },
   {
    "duration": 83,
    "start_time": "2023-08-23T20:01:33.336Z"
   },
   {
    "duration": 82,
    "start_time": "2023-08-23T20:02:06.226Z"
   },
   {
    "duration": 82,
    "start_time": "2023-08-23T20:03:51.679Z"
   },
   {
    "duration": 89,
    "start_time": "2023-08-23T20:04:00.842Z"
   },
   {
    "duration": 88,
    "start_time": "2023-08-23T20:07:04.235Z"
   },
   {
    "duration": 78,
    "start_time": "2023-08-23T20:07:11.583Z"
   },
   {
    "duration": 123,
    "start_time": "2023-08-23T20:07:44.979Z"
   },
   {
    "duration": 108,
    "start_time": "2023-08-23T20:08:28.171Z"
   },
   {
    "duration": 106,
    "start_time": "2023-08-23T20:08:41.803Z"
   },
   {
    "duration": 104,
    "start_time": "2023-08-23T20:08:50.107Z"
   },
   {
    "duration": 83,
    "start_time": "2023-08-23T20:11:44.788Z"
   },
   {
    "duration": 80,
    "start_time": "2023-08-23T20:11:57.932Z"
   },
   {
    "duration": 127,
    "start_time": "2023-08-23T20:12:01.824Z"
   },
   {
    "duration": 82,
    "start_time": "2023-08-23T20:12:25.396Z"
   },
   {
    "duration": 140,
    "start_time": "2023-08-23T20:12:53.704Z"
   },
   {
    "duration": 132,
    "start_time": "2023-08-23T20:14:30.281Z"
   },
   {
    "duration": 81,
    "start_time": "2023-08-23T20:14:38.972Z"
   },
   {
    "duration": 81,
    "start_time": "2023-08-23T20:14:52.318Z"
   },
   {
    "duration": 139,
    "start_time": "2023-08-23T20:16:13.417Z"
   },
   {
    "duration": 125,
    "start_time": "2023-08-23T20:16:30.130Z"
   },
   {
    "duration": 152,
    "start_time": "2023-08-23T20:16:38.854Z"
   },
   {
    "duration": 84,
    "start_time": "2023-08-23T20:17:02.650Z"
   },
   {
    "duration": 135,
    "start_time": "2023-08-23T20:17:49.538Z"
   },
   {
    "duration": 94,
    "start_time": "2023-08-23T20:17:54.330Z"
   },
   {
    "duration": 179,
    "start_time": "2023-08-23T20:21:12.339Z"
   },
   {
    "duration": 211,
    "start_time": "2023-08-23T20:21:49.612Z"
   },
   {
    "duration": 152,
    "start_time": "2023-08-23T20:22:23.907Z"
   },
   {
    "duration": 157,
    "start_time": "2023-08-23T20:24:24.396Z"
   },
   {
    "duration": 122,
    "start_time": "2023-08-23T20:36:39.508Z"
   },
   {
    "duration": 130,
    "start_time": "2023-08-23T20:45:25.341Z"
   },
   {
    "duration": 183,
    "start_time": "2023-08-23T20:46:45.739Z"
   },
   {
    "duration": 725,
    "start_time": "2023-08-23T20:50:07.628Z"
   },
   {
    "duration": 4,
    "start_time": "2023-08-23T20:50:12.758Z"
   },
   {
    "duration": 9001,
    "start_time": "2023-08-23T20:50:15.353Z"
   },
   {
    "duration": 226,
    "start_time": "2023-08-23T20:50:25.509Z"
   },
   {
    "duration": 13,
    "start_time": "2023-08-23T20:50:29.261Z"
   },
   {
    "duration": 239,
    "start_time": "2023-08-23T20:50:33.294Z"
   },
   {
    "duration": 204,
    "start_time": "2023-08-23T20:50:40.315Z"
   },
   {
    "duration": 345928,
    "start_time": "2023-08-23T20:56:33.169Z"
   },
   {
    "duration": 216,
    "start_time": "2023-08-23T22:38:56.301Z"
   },
   {
    "duration": 163,
    "start_time": "2023-08-23T22:39:26.138Z"
   },
   {
    "duration": 168,
    "start_time": "2023-08-23T22:41:09.626Z"
   },
   {
    "duration": 130,
    "start_time": "2023-08-23T22:41:55.407Z"
   },
   {
    "duration": 149,
    "start_time": "2023-08-23T22:42:55.633Z"
   },
   {
    "duration": 159,
    "start_time": "2023-08-23T22:43:57.555Z"
   },
   {
    "duration": 129,
    "start_time": "2023-08-23T22:47:54.023Z"
   },
   {
    "duration": 143,
    "start_time": "2023-08-23T22:52:08.007Z"
   },
   {
    "duration": 152,
    "start_time": "2023-08-23T22:52:54.463Z"
   },
   {
    "duration": 69,
    "start_time": "2023-08-23T22:54:08.026Z"
   },
   {
    "duration": 141,
    "start_time": "2023-08-23T22:57:50.249Z"
   },
   {
    "duration": 128,
    "start_time": "2023-08-23T22:58:32.527Z"
   },
   {
    "duration": 129,
    "start_time": "2023-08-23T22:58:58.522Z"
   },
   {
    "duration": 190,
    "start_time": "2023-08-23T22:59:17.993Z"
   },
   {
    "duration": 106,
    "start_time": "2023-08-23T22:59:35.783Z"
   },
   {
    "duration": 131,
    "start_time": "2023-08-23T23:06:23.482Z"
   },
   {
    "duration": 151,
    "start_time": "2023-08-23T23:06:52.439Z"
   },
   {
    "duration": 70,
    "start_time": "2023-08-23T23:07:09.133Z"
   },
   {
    "duration": 91,
    "start_time": "2023-08-23T23:08:05.292Z"
   },
   {
    "duration": 110,
    "start_time": "2023-08-23T23:09:37.721Z"
   },
   {
    "duration": 164,
    "start_time": "2023-08-23T23:12:43.569Z"
   },
   {
    "duration": 110,
    "start_time": "2023-08-23T23:16:13.388Z"
   },
   {
    "duration": 1108,
    "start_time": "2023-08-23T23:20:38.078Z"
   },
   {
    "duration": 1188,
    "start_time": "2023-08-23T23:21:17.401Z"
   },
   {
    "duration": 1267,
    "start_time": "2023-08-23T23:22:12.385Z"
   },
   {
    "duration": 225,
    "start_time": "2023-08-23T23:26:43.123Z"
   },
   {
    "duration": 1193,
    "start_time": "2023-08-23T23:26:47.067Z"
   },
   {
    "duration": 1160,
    "start_time": "2023-08-23T23:27:07.918Z"
   },
   {
    "duration": 180,
    "start_time": "2023-08-23T23:27:31.873Z"
   },
   {
    "duration": 190,
    "start_time": "2023-08-23T23:27:42.049Z"
   },
   {
    "duration": 185,
    "start_time": "2023-08-23T23:27:51.628Z"
   },
   {
    "duration": 194,
    "start_time": "2023-08-23T23:27:57.583Z"
   },
   {
    "duration": 180,
    "start_time": "2023-08-23T23:28:01.784Z"
   },
   {
    "duration": 189,
    "start_time": "2023-08-23T23:28:06.493Z"
   },
   {
    "duration": 178,
    "start_time": "2023-08-23T23:28:12.884Z"
   },
   {
    "duration": 196,
    "start_time": "2023-08-23T23:28:15.810Z"
   },
   {
    "duration": 1219,
    "start_time": "2023-08-23T23:28:30.150Z"
   },
   {
    "duration": 1165,
    "start_time": "2023-08-23T23:28:51.646Z"
   },
   {
    "duration": 174,
    "start_time": "2023-08-23T23:39:39.886Z"
   },
   {
    "duration": 303,
    "start_time": "2023-08-23T23:50:17.870Z"
   },
   {
    "duration": 1240,
    "start_time": "2023-08-23T23:50:40.492Z"
   },
   {
    "duration": 1234,
    "start_time": "2023-08-23T23:51:13.386Z"
   },
   {
    "duration": 155,
    "start_time": "2023-08-23T23:51:21.560Z"
   },
   {
    "duration": 141,
    "start_time": "2023-08-23T23:51:26.546Z"
   },
   {
    "duration": 1145,
    "start_time": "2023-08-23T23:51:38.481Z"
   },
   {
    "duration": 1210,
    "start_time": "2023-08-23T23:53:32.979Z"
   },
   {
    "duration": 1258,
    "start_time": "2023-08-23T23:53:44.603Z"
   },
   {
    "duration": 134,
    "start_time": "2023-08-23T23:53:49.689Z"
   },
   {
    "duration": 139,
    "start_time": "2023-08-23T23:54:14.033Z"
   },
   {
    "duration": 130,
    "start_time": "2023-08-23T23:54:19.328Z"
   },
   {
    "duration": 138,
    "start_time": "2023-08-23T23:57:40.651Z"
   },
   {
    "duration": 160,
    "start_time": "2023-08-23T23:58:55.819Z"
   },
   {
    "duration": 1357,
    "start_time": "2023-08-23T23:59:44.146Z"
   },
   {
    "duration": 540,
    "start_time": "2023-08-24T00:00:08.857Z"
   },
   {
    "duration": 1416,
    "start_time": "2023-08-24T00:00:20.302Z"
   },
   {
    "duration": 2,
    "start_time": "2023-08-24T00:13:56.554Z"
   },
   {
    "duration": 163,
    "start_time": "2023-08-24T00:14:06.618Z"
   },
   {
    "duration": 149,
    "start_time": "2023-08-24T00:14:43.311Z"
   },
   {
    "duration": 193,
    "start_time": "2023-08-24T00:14:59.469Z"
   },
   {
    "duration": 176,
    "start_time": "2023-08-24T00:15:18.868Z"
   },
   {
    "duration": 147,
    "start_time": "2023-08-24T00:15:35.018Z"
   },
   {
    "duration": 168,
    "start_time": "2023-08-24T00:15:52.702Z"
   },
   {
    "duration": 157,
    "start_time": "2023-08-24T00:16:09.958Z"
   },
   {
    "duration": 106,
    "start_time": "2023-08-24T00:16:39.519Z"
   },
   {
    "duration": 139,
    "start_time": "2023-08-24T00:17:32.007Z"
   },
   {
    "duration": 68,
    "start_time": "2023-08-24T00:18:47.608Z"
   },
   {
    "duration": 69,
    "start_time": "2023-08-24T00:20:54.314Z"
   },
   {
    "duration": 67,
    "start_time": "2023-08-24T00:20:59.258Z"
   },
   {
    "duration": 72,
    "start_time": "2023-08-24T00:22:18.042Z"
   },
   {
    "duration": 3,
    "start_time": "2023-08-24T01:02:44.855Z"
   },
   {
    "duration": 166,
    "start_time": "2023-08-24T01:02:57.266Z"
   },
   {
    "duration": 157,
    "start_time": "2023-08-24T01:04:51.224Z"
   },
   {
    "duration": 1017,
    "start_time": "2023-08-24T01:05:04.723Z"
   },
   {
    "duration": 141,
    "start_time": "2023-08-24T01:07:00.467Z"
   },
   {
    "duration": 591,
    "start_time": "2023-08-24T01:07:41.779Z"
   },
   {
    "duration": 2208,
    "start_time": "2023-08-24T01:09:47.301Z"
   },
   {
    "duration": 2131,
    "start_time": "2023-08-24T01:10:12.654Z"
   },
   {
    "duration": 2189,
    "start_time": "2023-08-24T01:11:07.180Z"
   },
   {
    "duration": 502,
    "start_time": "2023-08-24T01:11:29.621Z"
   },
   {
    "duration": 232,
    "start_time": "2023-08-24T12:01:48.210Z"
   },
   {
    "duration": 202,
    "start_time": "2023-08-24T12:02:26.597Z"
   },
   {
    "duration": 519,
    "start_time": "2023-09-01T23:24:36.467Z"
   },
   {
    "duration": 532,
    "start_time": "2023-09-01T23:47:59.697Z"
   },
   {
    "duration": 720,
    "start_time": "2023-09-01T23:50:24.359Z"
   },
   {
    "duration": 685,
    "start_time": "2023-09-01T23:52:12.332Z"
   },
   {
    "duration": 141,
    "start_time": "2023-09-01T23:52:56.058Z"
   },
   {
    "duration": 719,
    "start_time": "2023-09-01T23:53:49.323Z"
   },
   {
    "duration": 1011,
    "start_time": "2023-09-01T23:58:14.739Z"
   },
   {
    "duration": 126,
    "start_time": "2023-09-01T23:59:04.555Z"
   },
   {
    "duration": 565,
    "start_time": "2023-09-02T00:01:25.843Z"
   },
   {
    "duration": 387,
    "start_time": "2023-09-02T00:05:47.134Z"
   },
   {
    "duration": 364,
    "start_time": "2023-09-02T00:09:34.602Z"
   },
   {
    "duration": 134,
    "start_time": "2023-09-02T00:10:01.226Z"
   },
   {
    "duration": 450,
    "start_time": "2023-09-02T00:10:10.168Z"
   },
   {
    "duration": 1624,
    "start_time": "2023-09-02T00:10:37.445Z"
   },
   {
    "duration": 193,
    "start_time": "2023-09-02T00:21:30.612Z"
   },
   {
    "duration": 146,
    "start_time": "2023-09-02T00:21:45.045Z"
   },
   {
    "duration": 144,
    "start_time": "2023-09-02T00:22:08.578Z"
   },
   {
    "duration": 137,
    "start_time": "2023-09-02T00:22:17.442Z"
   },
   {
    "duration": 191,
    "start_time": "2023-09-02T00:23:25.500Z"
   },
   {
    "duration": 125,
    "start_time": "2023-09-02T00:24:38.012Z"
   },
   {
    "duration": 516,
    "start_time": "2023-09-02T00:27:26.735Z"
   },
   {
    "duration": 127,
    "start_time": "2023-09-02T00:28:38.316Z"
   },
   {
    "duration": 523,
    "start_time": "2023-09-02T00:28:54.590Z"
   },
   {
    "duration": 53,
    "start_time": "2023-09-12T13:23:21.584Z"
   },
   {
    "duration": 938,
    "start_time": "2023-09-12T13:23:41.128Z"
   },
   {
    "duration": 5,
    "start_time": "2023-09-12T13:23:44.051Z"
   },
   {
    "duration": 11411,
    "start_time": "2023-09-12T13:23:47.220Z"
   },
   {
    "duration": 244,
    "start_time": "2023-09-12T13:24:00.612Z"
   },
   {
    "duration": 16,
    "start_time": "2023-09-12T13:24:03.357Z"
   },
   {
    "duration": 237,
    "start_time": "2023-09-12T13:24:13.250Z"
   },
   {
    "duration": 167,
    "start_time": "2023-09-12T13:25:19.541Z"
   },
   {
    "duration": 141,
    "start_time": "2023-09-12T13:25:46.077Z"
   },
   {
    "duration": 217,
    "start_time": "2023-09-12T13:26:09.793Z"
   },
   {
    "duration": 217,
    "start_time": "2023-09-12T13:31:42.122Z"
   },
   {
    "duration": 262,
    "start_time": "2023-09-12T13:33:27.495Z"
   },
   {
    "duration": 140,
    "start_time": "2023-09-12T13:33:43.439Z"
   },
   {
    "duration": 144,
    "start_time": "2023-09-12T13:34:45.766Z"
   },
   {
    "duration": 115,
    "start_time": "2023-09-12T13:35:03.994Z"
   },
   {
    "duration": 179,
    "start_time": "2023-09-12T13:44:09.016Z"
   },
   {
    "duration": 230,
    "start_time": "2023-09-12T13:44:52.783Z"
   },
   {
    "duration": 185,
    "start_time": "2023-09-12T13:45:26.715Z"
   },
   {
    "duration": 153,
    "start_time": "2023-09-12T13:46:05.568Z"
   },
   {
    "duration": 168,
    "start_time": "2023-09-12T13:47:06.450Z"
   },
   {
    "duration": 200,
    "start_time": "2023-09-12T13:49:35.146Z"
   },
   {
    "duration": 232,
    "start_time": "2023-09-12T13:51:21.888Z"
   },
   {
    "duration": 589,
    "start_time": "2023-09-12T13:55:10.477Z"
   },
   {
    "duration": 181,
    "start_time": "2023-09-12T13:55:27.083Z"
   },
   {
    "duration": 485,
    "start_time": "2023-09-12T13:55:52.748Z"
   },
   {
    "duration": 170,
    "start_time": "2023-09-12T13:56:19.539Z"
   },
   {
    "duration": 143,
    "start_time": "2023-09-12T13:58:16.241Z"
   },
   {
    "duration": 147,
    "start_time": "2023-09-12T14:16:41.388Z"
   },
   {
    "duration": 139,
    "start_time": "2023-09-12T14:16:54.889Z"
   },
   {
    "duration": 232,
    "start_time": "2023-09-12T14:17:14.539Z"
   },
   {
    "duration": 159,
    "start_time": "2023-09-12T14:18:13.086Z"
   },
   {
    "duration": 154,
    "start_time": "2023-09-12T14:19:17.855Z"
   },
   {
    "duration": 145,
    "start_time": "2023-09-12T14:25:54.758Z"
   },
   {
    "duration": 153,
    "start_time": "2023-09-12T14:26:29.589Z"
   },
   {
    "duration": 574,
    "start_time": "2023-09-12T15:08:21.075Z"
   },
   {
    "duration": 555,
    "start_time": "2023-09-12T15:10:59.149Z"
   },
   {
    "duration": 606,
    "start_time": "2023-09-12T15:11:09.830Z"
   },
   {
    "duration": 452,
    "start_time": "2023-09-12T15:19:45.746Z"
   },
   {
    "duration": 429,
    "start_time": "2023-09-12T15:21:22.470Z"
   },
   {
    "duration": 446,
    "start_time": "2023-09-12T15:22:38.710Z"
   },
   {
    "duration": 139,
    "start_time": "2023-09-12T15:22:55.764Z"
   },
   {
    "duration": 181,
    "start_time": "2023-09-12T15:23:23.920Z"
   },
   {
    "duration": 551,
    "start_time": "2023-09-12T15:24:38.515Z"
   },
   {
    "duration": 498,
    "start_time": "2023-09-12T15:31:14.970Z"
   },
   {
    "duration": 130,
    "start_time": "2023-09-12T15:32:19.203Z"
   },
   {
    "duration": 542,
    "start_time": "2023-09-12T15:32:40.292Z"
   },
   {
    "duration": 431,
    "start_time": "2023-09-12T15:34:25.968Z"
   },
   {
    "duration": 485,
    "start_time": "2023-09-12T15:35:36.993Z"
   },
   {
    "duration": 426,
    "start_time": "2023-09-12T15:35:47.240Z"
   },
   {
    "duration": 450,
    "start_time": "2023-09-12T15:36:13.699Z"
   },
   {
    "duration": 148,
    "start_time": "2023-09-12T15:37:58.763Z"
   },
   {
    "duration": 144,
    "start_time": "2023-09-12T15:38:19.238Z"
   },
   {
    "duration": 438,
    "start_time": "2023-09-12T15:38:52.402Z"
   },
   {
    "duration": 445,
    "start_time": "2023-09-12T15:39:05.755Z"
   },
   {
    "duration": 373,
    "start_time": "2023-09-12T15:58:26.951Z"
   },
   {
    "duration": 504,
    "start_time": "2023-09-12T15:59:50.664Z"
   },
   {
    "duration": 409,
    "start_time": "2023-09-12T16:00:05.014Z"
   },
   {
    "duration": 142,
    "start_time": "2023-09-12T16:04:03.760Z"
   },
   {
    "duration": 478,
    "start_time": "2023-09-12T16:04:27.175Z"
   },
   {
    "duration": 254,
    "start_time": "2023-09-12T16:04:42.311Z"
   },
   {
    "duration": 452,
    "start_time": "2023-09-12T16:04:58.236Z"
   },
   {
    "duration": 503,
    "start_time": "2023-09-12T16:06:53.065Z"
   },
   {
    "duration": 433,
    "start_time": "2023-09-12T16:07:53.936Z"
   },
   {
    "duration": 573,
    "start_time": "2023-09-12T16:08:56.730Z"
   },
   {
    "duration": 575,
    "start_time": "2023-09-12T22:20:23.067Z"
   },
   {
    "duration": 578,
    "start_time": "2023-09-12T22:21:04.665Z"
   },
   {
    "duration": 533,
    "start_time": "2023-09-12T22:23:09.595Z"
   },
   {
    "duration": 154,
    "start_time": "2023-09-12T22:24:13.292Z"
   },
   {
    "duration": 1034,
    "start_time": "2023-09-12T22:25:04.911Z"
   },
   {
    "duration": 153,
    "start_time": "2023-09-12T22:27:52.776Z"
   },
   {
    "duration": 536,
    "start_time": "2023-09-12T22:28:00.457Z"
   },
   {
    "duration": 150,
    "start_time": "2023-09-12T22:29:48.446Z"
   },
   {
    "duration": 570,
    "start_time": "2023-09-12T22:30:12.146Z"
   },
   {
    "duration": 577,
    "start_time": "2023-09-12T22:31:27.296Z"
   },
   {
    "duration": 566,
    "start_time": "2023-09-12T22:32:04.708Z"
   },
   {
    "duration": 1660,
    "start_time": "2023-09-12T22:37:18.408Z"
   },
   {
    "duration": 561,
    "start_time": "2023-09-12T22:39:23.135Z"
   },
   {
    "duration": 1665,
    "start_time": "2023-09-12T22:39:59.196Z"
   },
   {
    "duration": 1401,
    "start_time": "2023-09-23T00:17:30.703Z"
   },
   {
    "duration": 4,
    "start_time": "2023-09-23T00:17:32.106Z"
   },
   {
    "duration": 10913,
    "start_time": "2023-09-23T00:17:32.112Z"
   },
   {
    "duration": 230,
    "start_time": "2023-09-23T00:17:43.026Z"
   },
   {
    "duration": 17,
    "start_time": "2023-09-23T00:17:43.258Z"
   },
   {
    "duration": 268,
    "start_time": "2023-09-23T00:17:43.276Z"
   },
   {
    "duration": 3,
    "start_time": "2023-09-23T00:17:43.545Z"
   },
   {
    "duration": 220,
    "start_time": "2023-09-23T00:17:43.549Z"
   },
   {
    "duration": 3,
    "start_time": "2023-09-23T00:17:43.770Z"
   },
   {
    "duration": 118,
    "start_time": "2023-09-23T00:17:43.774Z"
   },
   {
    "duration": 3,
    "start_time": "2023-09-23T00:17:43.894Z"
   },
   {
    "duration": 1553,
    "start_time": "2023-09-23T00:17:43.898Z"
   },
   {
    "duration": 93,
    "start_time": "2023-09-23T00:17:45.453Z"
   },
   {
    "duration": 74,
    "start_time": "2023-09-23T00:17:45.549Z"
   },
   {
    "duration": 3,
    "start_time": "2023-09-23T00:17:45.624Z"
   },
   {
    "duration": 1550,
    "start_time": "2023-09-23T00:17:45.628Z"
   },
   {
    "duration": 542,
    "start_time": "2023-09-23T00:17:47.180Z"
   },
   {
    "duration": 428,
    "start_time": "2023-09-23T00:17:47.724Z"
   },
   {
    "duration": 3,
    "start_time": "2023-09-23T00:17:48.154Z"
   },
   {
    "duration": 298,
    "start_time": "2023-09-23T00:17:48.160Z"
   },
   {
    "duration": 91,
    "start_time": "2023-09-23T00:17:48.460Z"
   },
   {
    "duration": 145,
    "start_time": "2023-09-23T00:17:48.553Z"
   },
   {
    "duration": 1341,
    "start_time": "2023-09-23T09:50:08.503Z"
   },
   {
    "duration": 4,
    "start_time": "2023-09-23T09:50:09.846Z"
   },
   {
    "duration": 10472,
    "start_time": "2023-09-23T09:50:09.851Z"
   },
   {
    "duration": 55,
    "start_time": "2023-09-23T09:50:20.325Z"
   },
   {
    "duration": 13,
    "start_time": "2023-09-23T09:50:20.382Z"
   },
   {
    "duration": 218,
    "start_time": "2023-09-23T09:50:20.397Z"
   },
   {
    "duration": 2,
    "start_time": "2023-09-23T09:50:20.616Z"
   },
   {
    "duration": 184,
    "start_time": "2023-09-23T09:50:20.620Z"
   },
   {
    "duration": 2,
    "start_time": "2023-09-23T09:50:20.806Z"
   },
   {
    "duration": 86,
    "start_time": "2023-09-23T09:50:20.809Z"
   },
   {
    "duration": 2,
    "start_time": "2023-09-23T09:50:20.897Z"
   },
   {
    "duration": 1168,
    "start_time": "2023-09-23T09:50:20.901Z"
   },
   {
    "duration": 61,
    "start_time": "2023-09-23T09:50:22.071Z"
   },
   {
    "duration": 38,
    "start_time": "2023-09-23T09:50:22.134Z"
   },
   {
    "duration": 2,
    "start_time": "2023-09-23T09:50:22.174Z"
   },
   {
    "duration": 1346,
    "start_time": "2023-09-23T09:50:22.177Z"
   },
   {
    "duration": 481,
    "start_time": "2023-09-23T09:50:23.525Z"
   },
   {
    "duration": 497,
    "start_time": "2023-09-23T09:50:24.008Z"
   },
   {
    "duration": 2,
    "start_time": "2023-09-23T09:50:24.507Z"
   },
   {
    "duration": 254,
    "start_time": "2023-09-23T09:50:24.510Z"
   },
   {
    "duration": 76,
    "start_time": "2023-09-23T09:50:24.766Z"
   },
   {
    "duration": 111,
    "start_time": "2023-09-23T09:50:24.844Z"
   },
   {
    "duration": 187,
    "start_time": "2023-09-23T09:50:38.660Z"
   },
   {
    "duration": 214,
    "start_time": "2023-09-23T09:50:50.050Z"
   },
   {
    "duration": 1168,
    "start_time": "2023-09-23T09:53:44.857Z"
   },
   {
    "duration": 3,
    "start_time": "2023-09-23T09:53:46.026Z"
   },
   {
    "duration": 10517,
    "start_time": "2023-09-23T09:53:46.031Z"
   },
   {
    "duration": 54,
    "start_time": "2023-09-23T09:53:56.550Z"
   },
   {
    "duration": 13,
    "start_time": "2023-09-23T09:53:56.606Z"
   },
   {
    "duration": 214,
    "start_time": "2023-09-23T09:53:56.620Z"
   },
   {
    "duration": 2,
    "start_time": "2023-09-23T09:53:56.836Z"
   },
   {
    "duration": 182,
    "start_time": "2023-09-23T09:53:56.839Z"
   },
   {
    "duration": 3,
    "start_time": "2023-09-23T09:53:57.022Z"
   },
   {
    "duration": 85,
    "start_time": "2023-09-23T09:53:57.028Z"
   },
   {
    "duration": 3,
    "start_time": "2023-09-23T09:53:57.114Z"
   },
   {
    "duration": 1215,
    "start_time": "2023-09-23T09:53:57.118Z"
   },
   {
    "duration": 60,
    "start_time": "2023-09-23T09:53:58.334Z"
   },
   {
    "duration": 41,
    "start_time": "2023-09-23T09:53:58.395Z"
   },
   {
    "duration": 2,
    "start_time": "2023-09-23T09:53:58.437Z"
   },
   {
    "duration": 1342,
    "start_time": "2023-09-23T09:53:58.440Z"
   },
   {
    "duration": 482,
    "start_time": "2023-09-23T09:53:59.783Z"
   },
   {
    "duration": 383,
    "start_time": "2023-09-23T09:54:00.267Z"
   },
   {
    "duration": 3,
    "start_time": "2023-09-23T09:54:00.652Z"
   },
   {
    "duration": 306,
    "start_time": "2023-09-23T09:54:00.656Z"
   },
   {
    "duration": 90,
    "start_time": "2023-09-23T09:54:00.963Z"
   },
   {
    "duration": 114,
    "start_time": "2023-09-23T09:54:01.054Z"
   },
   {
    "duration": 53,
    "start_time": "2023-09-23T11:09:18.263Z"
   },
   {
    "duration": 1542,
    "start_time": "2023-09-23T11:09:28.235Z"
   },
   {
    "duration": 4,
    "start_time": "2023-09-23T11:09:31.115Z"
   },
   {
    "duration": 9164,
    "start_time": "2023-09-23T11:09:34.685Z"
   },
   {
    "duration": 216,
    "start_time": "2023-09-23T11:09:49.984Z"
   },
   {
    "duration": 17,
    "start_time": "2023-09-23T11:09:52.523Z"
   },
   {
    "duration": 1215,
    "start_time": "2023-09-23T11:12:24.413Z"
   },
   {
    "duration": 69,
    "start_time": "2023-09-23T11:14:08.291Z"
   },
   {
    "duration": 70,
    "start_time": "2023-09-23T11:15:39.703Z"
   },
   {
    "duration": 90,
    "start_time": "2023-09-23T14:02:02.038Z"
   },
   {
    "duration": 68,
    "start_time": "2023-09-23T14:03:48.438Z"
   },
   {
    "duration": 68,
    "start_time": "2023-09-23T14:12:09.715Z"
   },
   {
    "duration": 67,
    "start_time": "2023-09-23T14:13:01.485Z"
   },
   {
    "duration": 200,
    "start_time": "2023-09-23T14:13:22.359Z"
   },
   {
    "duration": 72,
    "start_time": "2023-09-23T14:14:05.623Z"
   },
   {
    "duration": 71,
    "start_time": "2023-09-23T14:25:46.527Z"
   },
   {
    "duration": 71,
    "start_time": "2023-09-23T14:25:53.990Z"
   },
   {
    "duration": 139,
    "start_time": "2023-09-23T14:27:55.703Z"
   },
   {
    "duration": 292,
    "start_time": "2023-09-23T14:28:02.001Z"
   },
   {
    "duration": 138,
    "start_time": "2023-09-23T14:28:34.680Z"
   },
   {
    "duration": 162,
    "start_time": "2023-09-23T14:30:29.763Z"
   },
   {
    "duration": 156,
    "start_time": "2023-09-23T14:31:55.296Z"
   },
   {
    "duration": 213,
    "start_time": "2023-09-23T14:32:54.510Z"
   },
   {
    "duration": 71,
    "start_time": "2023-09-23T14:34:05.237Z"
   },
   {
    "duration": 68,
    "start_time": "2023-09-23T14:34:21.994Z"
   },
   {
    "duration": 141,
    "start_time": "2023-09-23T14:34:49.561Z"
   },
   {
    "duration": 88,
    "start_time": "2023-09-23T14:35:17.323Z"
   },
   {
    "duration": 94,
    "start_time": "2023-09-23T14:35:26.216Z"
   },
   {
    "duration": 94,
    "start_time": "2023-09-23T14:36:57.583Z"
   },
   {
    "duration": 103,
    "start_time": "2023-09-23T14:38:59.255Z"
   },
   {
    "duration": 81,
    "start_time": "2023-09-23T14:39:27.348Z"
   },
   {
    "duration": 132,
    "start_time": "2023-09-23T14:42:54.256Z"
   },
   {
    "duration": 67,
    "start_time": "2023-09-23T14:43:08.917Z"
   },
   {
    "duration": 73,
    "start_time": "2023-09-23T14:43:30.127Z"
   },
   {
    "duration": 135,
    "start_time": "2023-09-23T14:45:05.065Z"
   },
   {
    "duration": 93,
    "start_time": "2023-09-23T14:45:37.530Z"
   },
   {
    "duration": 151,
    "start_time": "2023-09-23T14:46:23.411Z"
   },
   {
    "duration": 126,
    "start_time": "2023-09-23T14:46:52.725Z"
   },
   {
    "duration": 2,
    "start_time": "2023-09-23T14:49:13.049Z"
   },
   {
    "duration": 75,
    "start_time": "2023-09-23T14:49:20.623Z"
   },
   {
    "duration": 1344,
    "start_time": "2023-09-23T14:49:50.328Z"
   },
   {
    "duration": 4,
    "start_time": "2023-09-23T14:49:51.674Z"
   },
   {
    "duration": 10111,
    "start_time": "2023-09-23T14:49:51.679Z"
   },
   {
    "duration": 218,
    "start_time": "2023-09-23T14:50:01.792Z"
   },
   {
    "duration": 277,
    "start_time": "2023-09-23T14:50:02.013Z"
   },
   {
    "duration": 334,
    "start_time": "2023-09-23T14:50:02.292Z"
   },
   {
    "duration": 2,
    "start_time": "2023-09-23T14:50:02.628Z"
   },
   {
    "duration": 398,
    "start_time": "2023-09-23T14:50:02.632Z"
   },
   {
    "duration": 2,
    "start_time": "2023-09-23T14:50:03.033Z"
   },
   {
    "duration": 321,
    "start_time": "2023-09-23T14:50:03.036Z"
   },
   {
    "duration": 2,
    "start_time": "2023-09-23T14:50:03.359Z"
   },
   {
    "duration": 1384,
    "start_time": "2023-09-23T14:50:03.363Z"
   },
   {
    "duration": 92,
    "start_time": "2023-09-23T14:50:04.749Z"
   },
   {
    "duration": 70,
    "start_time": "2023-09-23T14:50:04.843Z"
   },
   {
    "duration": 2,
    "start_time": "2023-09-23T14:50:04.915Z"
   },
   {
    "duration": 1558,
    "start_time": "2023-09-23T14:50:04.919Z"
   },
   {
    "duration": 534,
    "start_time": "2023-09-23T14:50:06.479Z"
   },
   {
    "duration": 489,
    "start_time": "2023-09-23T14:50:07.015Z"
   },
   {
    "duration": 3,
    "start_time": "2023-09-23T14:50:07.506Z"
   },
   {
    "duration": 278,
    "start_time": "2023-09-23T14:50:07.510Z"
   },
   {
    "duration": 93,
    "start_time": "2023-09-23T14:50:07.790Z"
   },
   {
    "duration": 148,
    "start_time": "2023-09-23T14:50:07.885Z"
   },
   {
    "duration": 1308,
    "start_time": "2023-09-23T18:38:02.074Z"
   },
   {
    "duration": 7,
    "start_time": "2023-09-23T18:38:03.384Z"
   },
   {
    "duration": 12928,
    "start_time": "2023-09-23T18:38:03.393Z"
   },
   {
    "duration": 287,
    "start_time": "2023-09-23T18:38:16.322Z"
   },
   {
    "duration": 14,
    "start_time": "2023-09-23T18:38:16.611Z"
   },
   {
    "duration": 278,
    "start_time": "2023-09-23T18:38:16.626Z"
   },
   {
    "duration": 1,
    "start_time": "2023-09-23T18:38:16.906Z"
   },
   {
    "duration": 232,
    "start_time": "2023-09-23T18:38:16.909Z"
   },
   {
    "duration": 2,
    "start_time": "2023-09-23T18:38:17.142Z"
   },
   {
    "duration": 145,
    "start_time": "2023-09-23T18:38:17.146Z"
   },
   {
    "duration": 3,
    "start_time": "2023-09-23T18:38:17.292Z"
   },
   {
    "duration": 1325,
    "start_time": "2023-09-23T18:38:17.296Z"
   },
   {
    "duration": 88,
    "start_time": "2023-09-23T18:38:18.623Z"
   },
   {
    "duration": 80,
    "start_time": "2023-09-23T18:38:18.714Z"
   },
   {
    "duration": 84,
    "start_time": "2023-09-23T18:38:18.796Z"
   },
   {
    "duration": 2,
    "start_time": "2023-09-23T18:38:18.881Z"
   },
   {
    "duration": 1499,
    "start_time": "2023-09-23T18:38:18.885Z"
   },
   {
    "duration": 530,
    "start_time": "2023-09-23T18:38:20.388Z"
   },
   {
    "duration": 485,
    "start_time": "2023-09-23T18:38:20.920Z"
   },
   {
    "duration": 3,
    "start_time": "2023-09-23T18:38:21.406Z"
   },
   {
    "duration": 333,
    "start_time": "2023-09-23T18:38:21.410Z"
   },
   {
    "duration": 93,
    "start_time": "2023-09-23T18:38:21.745Z"
   },
   {
    "duration": 165,
    "start_time": "2023-09-23T18:38:21.840Z"
   },
   {
    "duration": 99,
    "start_time": "2023-09-23T19:09:55.872Z"
   },
   {
    "duration": 1543,
    "start_time": "2023-09-23T19:13:21.910Z"
   },
   {
    "duration": 7,
    "start_time": "2023-09-23T19:13:23.455Z"
   },
   {
    "duration": 13455,
    "start_time": "2023-09-23T19:13:23.464Z"
   },
   {
    "duration": 298,
    "start_time": "2023-09-23T19:13:36.920Z"
   },
   {
    "duration": 14,
    "start_time": "2023-09-23T19:13:37.220Z"
   },
   {
    "duration": 260,
    "start_time": "2023-09-23T19:13:37.235Z"
   },
   {
    "duration": 2,
    "start_time": "2023-09-23T19:13:37.496Z"
   },
   {
    "duration": 269,
    "start_time": "2023-09-23T19:13:37.500Z"
   },
   {
    "duration": 4,
    "start_time": "2023-09-23T19:13:37.771Z"
   },
   {
    "duration": 139,
    "start_time": "2023-09-23T19:13:37.777Z"
   },
   {
    "duration": 3,
    "start_time": "2023-09-23T19:13:37.918Z"
   },
   {
    "duration": 1889,
    "start_time": "2023-09-23T19:13:37.922Z"
   },
   {
    "duration": 93,
    "start_time": "2023-09-23T19:13:39.812Z"
   },
   {
    "duration": 91,
    "start_time": "2023-09-23T19:13:39.907Z"
   },
   {
    "duration": 2,
    "start_time": "2023-09-23T19:13:40.000Z"
   },
   {
    "duration": 1561,
    "start_time": "2023-09-23T19:13:40.004Z"
   },
   {
    "duration": 534,
    "start_time": "2023-09-23T19:13:41.567Z"
   },
   {
    "duration": 439,
    "start_time": "2023-09-23T19:13:42.103Z"
   },
   {
    "duration": 33,
    "start_time": "2023-09-23T19:13:42.544Z"
   },
   {
    "duration": 280,
    "start_time": "2023-09-23T19:13:42.579Z"
   },
   {
    "duration": 111,
    "start_time": "2023-09-23T19:13:42.862Z"
   },
   {
    "duration": 149,
    "start_time": "2023-09-23T19:13:42.978Z"
   },
   {
    "duration": 1575,
    "start_time": "2023-09-23T21:12:10.128Z"
   },
   {
    "duration": 5,
    "start_time": "2023-09-23T21:12:14.324Z"
   },
   {
    "duration": 9636,
    "start_time": "2023-09-23T21:12:32.263Z"
   },
   {
    "duration": 93,
    "start_time": "2023-09-23T21:13:13.534Z"
   },
   {
    "duration": 58,
    "start_time": "2023-09-23T21:13:34.191Z"
   },
   {
    "duration": 157,
    "start_time": "2023-09-23T21:14:03.124Z"
   },
   {
    "duration": 273,
    "start_time": "2023-09-23T21:14:51.846Z"
   },
   {
    "duration": 115,
    "start_time": "2023-09-23T21:15:28.102Z"
   },
   {
    "duration": 44,
    "start_time": "2023-09-23T21:19:38.476Z"
   },
   {
    "duration": 67,
    "start_time": "2023-09-23T21:20:31.229Z"
   },
   {
    "duration": 40,
    "start_time": "2023-09-23T21:21:23.855Z"
   },
   {
    "duration": 37,
    "start_time": "2023-09-23T21:26:15.607Z"
   },
   {
    "duration": 39,
    "start_time": "2023-09-23T21:26:33.173Z"
   },
   {
    "duration": 49,
    "start_time": "2023-09-23T21:26:54.418Z"
   },
   {
    "duration": 49,
    "start_time": "2023-09-23T21:27:07.361Z"
   },
   {
    "duration": 57,
    "start_time": "2023-09-23T21:27:41.355Z"
   },
   {
    "duration": 48,
    "start_time": "2023-09-23T21:28:53.453Z"
   },
   {
    "duration": 41,
    "start_time": "2023-09-23T21:29:50.575Z"
   },
   {
    "duration": 43,
    "start_time": "2023-09-23T21:30:06.860Z"
   },
   {
    "duration": 50,
    "start_time": "2023-09-23T21:43:49.827Z"
   },
   {
    "duration": 1417,
    "start_time": "2023-09-23T22:24:07.742Z"
   },
   {
    "duration": 4,
    "start_time": "2023-09-23T22:24:09.161Z"
   },
   {
    "duration": 13599,
    "start_time": "2023-09-23T22:24:09.167Z"
   },
   {
    "duration": 311,
    "start_time": "2023-09-23T22:24:22.768Z"
   },
   {
    "duration": 18,
    "start_time": "2023-09-23T22:24:23.082Z"
   },
   {
    "duration": 261,
    "start_time": "2023-09-23T22:24:23.102Z"
   },
   {
    "duration": 11,
    "start_time": "2023-09-23T22:24:23.365Z"
   },
   {
    "duration": 252,
    "start_time": "2023-09-23T22:24:23.378Z"
   },
   {
    "duration": 2,
    "start_time": "2023-09-23T22:24:23.632Z"
   },
   {
    "duration": 167,
    "start_time": "2023-09-23T22:24:23.636Z"
   },
   {
    "duration": 3,
    "start_time": "2023-09-23T22:24:23.804Z"
   },
   {
    "duration": 2302,
    "start_time": "2023-09-23T22:24:23.808Z"
   },
   {
    "duration": 96,
    "start_time": "2023-09-23T22:24:26.113Z"
   },
   {
    "duration": 99,
    "start_time": "2023-09-23T22:24:26.212Z"
   },
   {
    "duration": 3,
    "start_time": "2023-09-23T22:24:26.313Z"
   },
   {
    "duration": 1810,
    "start_time": "2023-09-23T22:24:26.317Z"
   },
   {
    "duration": 804,
    "start_time": "2023-09-23T22:24:28.129Z"
   },
   {
    "duration": 478,
    "start_time": "2023-09-23T22:24:28.934Z"
   },
   {
    "duration": 3,
    "start_time": "2023-09-23T22:24:29.415Z"
   },
   {
    "duration": 280,
    "start_time": "2023-09-23T22:24:29.420Z"
   },
   {
    "duration": 118,
    "start_time": "2023-09-23T22:24:29.702Z"
   },
   {
    "duration": 164,
    "start_time": "2023-09-23T22:24:29.822Z"
   }
  ],
  "colab": {
   "provenance": []
  },
  "kernelspec": {
   "display_name": "Python 3 (ipykernel)",
   "language": "python",
   "name": "python3"
  },
  "language_info": {
   "codemirror_mode": {
    "name": "ipython",
    "version": 3
   },
   "file_extension": ".py",
   "mimetype": "text/x-python",
   "name": "python",
   "nbconvert_exporter": "python",
   "pygments_lexer": "ipython3",
   "version": "3.9.5"
  },
  "toc": {
   "base_numbering": 1,
   "nav_menu": {},
   "number_sections": true,
   "sideBar": true,
   "skip_h1_title": true,
   "title_cell": "Table of Contents",
   "title_sidebar": "Contents",
   "toc_cell": false,
   "toc_position": {},
   "toc_section_display": true,
   "toc_window_display": true
  }
 },
 "nbformat": 4,
 "nbformat_minor": 1
}
