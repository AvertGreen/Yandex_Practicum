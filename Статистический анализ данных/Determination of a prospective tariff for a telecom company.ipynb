{
 "cells": [
  {
   "cell_type": "markdown",
   "metadata": {},
   "source": [
    "# Определение перспективного тарифа для телеком-компании\n",
    "\n",
    "Вы аналитик компании «Мегалайн» — федерального оператора сотовой связи. Клиентам предлагают два тарифных плана: «Смарт» и «Ультра». Чтобы скорректировать рекламный бюджет, коммерческий департамент хочет понять, какой тариф приносит больше денег.\n",
    "Вам предстоит сделать предварительный анализ тарифов на небольшой выборке клиентов. В вашем распоряжении данные 500 пользователей «Мегалайна»: кто они, откуда, каким тарифом пользуются, сколько звонков и сообщений каждый отправил за 2018 год. Нужно проанализировать поведение клиентов и сделать вывод — какой тариф лучше.  \n",
    "\n",
    "<u>**Описание тарифов**</u>\n",
    "\n",
    "***Тариф «Смарт»***\n",
    "\n",
    "* Ежемесячная плата: 550 рублей\n",
    "* Включено 500 минут разговора, 50 сообщений и 15 Гб интернет-трафика\n",
    "\n",
    "Стоимость услуг сверх тарифного пакета:\n",
    "* минута разговора: 3 рубля\n",
    "* сообщение: 3 рубля\n",
    "* 1 Гб интернет-трафика: 200 рублей\n",
    "\n",
    "***Тариф «Ультра»***\n",
    "\n",
    "* Ежемесячная плата: 1950 рублей\n",
    "* Включено 3000 минут разговора, 1000 сообщений и 30 Гб интернет-трафика\n",
    "\n",
    "Стоимость услуг сверх тарифного пакета:\n",
    "* минута разговора: 1 рубль\n",
    "* сообщение: 1 рубль\n",
    "* 1 Гб интернет-трафика: 150 рублей\n",
    "\n",
    ">«Мегалайн» всегда округляет секунды до минут, а мегабайты — до гигабайт. Каждый звонок округляется отдельно: даже если он длился всего 1 секунду, будет засчитан как 1 минута.\n",
    "Для веб-трафика отдельные сессии не считаются. Вместо этого общая сумма за месяц округляется в бо́льшую сторону. Если абонент использует 1025 мегабайт в этом месяце, с него возьмут плату за 2 гигабайта.\n",
    "\n",
    ">В данных есть звонки с нулевой продолжительностью. Нулями обозначены пропущенные звонки."
   ]
  },
  {
   "cell_type": "markdown",
   "metadata": {},
   "source": [
    "## Общая информация"
   ]
  },
  {
   "cell_type": "markdown",
   "metadata": {},
   "source": [
    "Загрузим файлы с данными и ознакомимся с ними."
   ]
  },
  {
   "cell_type": "code",
   "execution_count": 1,
   "metadata": {},
   "outputs": [],
   "source": [
    "# импортируем необходимые библиотеки\n",
    "import pandas as pd\n",
    "import numpy as np\n",
    "import matplotlib.pyplot as plt\n",
    "import seaborn as sns\n",
    "from datetime import datetime\n",
    "import re\n",
    "from scipy import stats as st"
   ]
  },
  {
   "cell_type": "code",
   "execution_count": 2,
   "metadata": {
    "scrolled": false
   },
   "outputs": [
    {
     "name": "stdout",
     "output_type": "stream",
     "text": [
      "<class 'pandas.core.frame.DataFrame'>\n",
      "RangeIndex: 500 entries, 0 to 499\n",
      "Data columns (total 8 columns):\n",
      " #   Column      Non-Null Count  Dtype \n",
      "---  ------      --------------  ----- \n",
      " 0   user_id     500 non-null    int64 \n",
      " 1   age         500 non-null    int64 \n",
      " 2   churn_date  38 non-null     object\n",
      " 3   city        500 non-null    object\n",
      " 4   first_name  500 non-null    object\n",
      " 5   last_name   500 non-null    object\n",
      " 6   reg_date    500 non-null    object\n",
      " 7   tariff      500 non-null    object\n",
      "dtypes: int64(2), object(6)\n",
      "memory usage: 31.4+ KB\n",
      "<class 'pandas.core.frame.DataFrame'>\n",
      "RangeIndex: 202607 entries, 0 to 202606\n",
      "Data columns (total 4 columns):\n",
      " #   Column     Non-Null Count   Dtype  \n",
      "---  ------     --------------   -----  \n",
      " 0   id         202607 non-null  object \n",
      " 1   call_date  202607 non-null  object \n",
      " 2   duration   202607 non-null  float64\n",
      " 3   user_id    202607 non-null  int64  \n",
      "dtypes: float64(1), int64(1), object(2)\n",
      "memory usage: 6.2+ MB\n",
      "<class 'pandas.core.frame.DataFrame'>\n",
      "RangeIndex: 123036 entries, 0 to 123035\n",
      "Data columns (total 3 columns):\n",
      " #   Column        Non-Null Count   Dtype \n",
      "---  ------        --------------   ----- \n",
      " 0   id            123036 non-null  object\n",
      " 1   message_date  123036 non-null  object\n",
      " 2   user_id       123036 non-null  int64 \n",
      "dtypes: int64(1), object(2)\n",
      "memory usage: 2.8+ MB\n",
      "<class 'pandas.core.frame.DataFrame'>\n",
      "Int64Index: 149396 entries, 0 to 149395\n",
      "Data columns (total 4 columns):\n",
      " #   Column        Non-Null Count   Dtype  \n",
      "---  ------        --------------   -----  \n",
      " 0   id            149396 non-null  object \n",
      " 1   mb_used       149396 non-null  float64\n",
      " 2   session_date  149396 non-null  object \n",
      " 3   user_id       149396 non-null  int64  \n",
      "dtypes: float64(1), int64(1), object(2)\n",
      "memory usage: 5.7+ MB\n",
      "<class 'pandas.core.frame.DataFrame'>\n",
      "RangeIndex: 2 entries, 0 to 1\n",
      "Data columns (total 8 columns):\n",
      " #   Column                 Non-Null Count  Dtype \n",
      "---  ------                 --------------  ----- \n",
      " 0   messages_included      2 non-null      int64 \n",
      " 1   mb_per_month_included  2 non-null      int64 \n",
      " 2   minutes_included       2 non-null      int64 \n",
      " 3   rub_monthly_fee        2 non-null      int64 \n",
      " 4   rub_per_gb             2 non-null      int64 \n",
      " 5   rub_per_message        2 non-null      int64 \n",
      " 6   rub_per_minute         2 non-null      int64 \n",
      " 7   tariff_name            2 non-null      object\n",
      "dtypes: int64(7), object(1)\n",
      "memory usage: 256.0+ bytes\n"
     ]
    }
   ],
   "source": [
    "# загрузим фалы с данными и ознакомимся с ними\n",
    "\n",
    "try:\n",
    "    users = pd.read_csv('/datasets/users.csv')\n",
    "    calls = pd.read_csv('/datasets/calls.csv')\n",
    "    messages = pd.read_csv('/datasets/messages.csv')\n",
    "    internet = pd.read_csv('/datasets/internet.csv', index_col=0)\n",
    "    tariffs = pd.read_csv('/datasets/tariffs.csv')\n",
    "except:\n",
    "    users = pd.read_csv('/Users/alex/Desktop/Яндекс_Практикум/Проекты/Статистический_анализ_данных/users.csv')\n",
    "    messages = pd.read_csv('/Users/alex/Desktop/Яндекс_Практикум/Проекты/Статистический_анализ_данных/messages.csv')\n",
    "    internet = pd.read_csv('/Users/alex/Desktop/Яндекс_Практикум/Проекты/Статистический_анализ_данных/internet.csv', index_col=0)\n",
    "    tariffs = pd.read_csv('/Users/alex/Desktop/Яндекс_Практикум/Проекты/Статистический_анализ_данных/tariffs.csv')\n",
    "    \n",
    "users.info()\n",
    "calls.info()\n",
    "messages.info()\n",
    "internet.info()\n",
    "tariffs.info()"
   ]
  },
  {
   "cell_type": "code",
   "execution_count": 3,
   "metadata": {},
   "outputs": [
    {
     "data": {
      "text/html": [
       "<div>\n",
       "<style scoped>\n",
       "    .dataframe tbody tr th:only-of-type {\n",
       "        vertical-align: middle;\n",
       "    }\n",
       "\n",
       "    .dataframe tbody tr th {\n",
       "        vertical-align: top;\n",
       "    }\n",
       "\n",
       "    .dataframe thead th {\n",
       "        text-align: right;\n",
       "    }\n",
       "</style>\n",
       "<table border=\"1\" class=\"dataframe\">\n",
       "  <thead>\n",
       "    <tr style=\"text-align: right;\">\n",
       "      <th></th>\n",
       "      <th>user_id</th>\n",
       "      <th>age</th>\n",
       "      <th>churn_date</th>\n",
       "      <th>city</th>\n",
       "      <th>first_name</th>\n",
       "      <th>last_name</th>\n",
       "      <th>reg_date</th>\n",
       "      <th>tariff</th>\n",
       "    </tr>\n",
       "  </thead>\n",
       "  <tbody>\n",
       "    <tr>\n",
       "      <th>54</th>\n",
       "      <td>1054</td>\n",
       "      <td>33</td>\n",
       "      <td>NaN</td>\n",
       "      <td>Омск</td>\n",
       "      <td>Кристина</td>\n",
       "      <td>Платонова</td>\n",
       "      <td>2018-03-20</td>\n",
       "      <td>smart</td>\n",
       "    </tr>\n",
       "    <tr>\n",
       "      <th>175</th>\n",
       "      <td>1175</td>\n",
       "      <td>22</td>\n",
       "      <td>NaN</td>\n",
       "      <td>Москва</td>\n",
       "      <td>Юлий</td>\n",
       "      <td>Марков</td>\n",
       "      <td>2018-04-08</td>\n",
       "      <td>smart</td>\n",
       "    </tr>\n",
       "    <tr>\n",
       "      <th>144</th>\n",
       "      <td>1144</td>\n",
       "      <td>65</td>\n",
       "      <td>NaN</td>\n",
       "      <td>Улан-Удэ</td>\n",
       "      <td>Ефим</td>\n",
       "      <td>Ефремов</td>\n",
       "      <td>2018-04-29</td>\n",
       "      <td>smart</td>\n",
       "    </tr>\n",
       "  </tbody>\n",
       "</table>\n",
       "</div>"
      ],
      "text/plain": [
       "     user_id  age churn_date      city first_name  last_name    reg_date  \\\n",
       "54      1054   33        NaN      Омск   Кристина  Платонова  2018-03-20   \n",
       "175     1175   22        NaN    Москва       Юлий     Марков  2018-04-08   \n",
       "144     1144   65        NaN  Улан-Удэ       Ефим    Ефремов  2018-04-29   \n",
       "\n",
       "    tariff  \n",
       "54   smart  \n",
       "175  smart  \n",
       "144  smart  "
      ]
     },
     "metadata": {},
     "output_type": "display_data"
    },
    {
     "data": {
      "text/html": [
       "<div>\n",
       "<style scoped>\n",
       "    .dataframe tbody tr th:only-of-type {\n",
       "        vertical-align: middle;\n",
       "    }\n",
       "\n",
       "    .dataframe tbody tr th {\n",
       "        vertical-align: top;\n",
       "    }\n",
       "\n",
       "    .dataframe thead th {\n",
       "        text-align: right;\n",
       "    }\n",
       "</style>\n",
       "<table border=\"1\" class=\"dataframe\">\n",
       "  <thead>\n",
       "    <tr style=\"text-align: right;\">\n",
       "      <th></th>\n",
       "      <th>id</th>\n",
       "      <th>call_date</th>\n",
       "      <th>duration</th>\n",
       "      <th>user_id</th>\n",
       "    </tr>\n",
       "  </thead>\n",
       "  <tbody>\n",
       "    <tr>\n",
       "      <th>79217</th>\n",
       "      <td>1197_209</td>\n",
       "      <td>2018-08-17</td>\n",
       "      <td>12.14</td>\n",
       "      <td>1197</td>\n",
       "    </tr>\n",
       "    <tr>\n",
       "      <th>198062</th>\n",
       "      <td>1484_219</td>\n",
       "      <td>2018-10-08</td>\n",
       "      <td>14.10</td>\n",
       "      <td>1484</td>\n",
       "    </tr>\n",
       "    <tr>\n",
       "      <th>133003</th>\n",
       "      <td>1341_233</td>\n",
       "      <td>2018-11-12</td>\n",
       "      <td>8.64</td>\n",
       "      <td>1341</td>\n",
       "    </tr>\n",
       "  </tbody>\n",
       "</table>\n",
       "</div>"
      ],
      "text/plain": [
       "              id   call_date  duration  user_id\n",
       "79217   1197_209  2018-08-17     12.14     1197\n",
       "198062  1484_219  2018-10-08     14.10     1484\n",
       "133003  1341_233  2018-11-12      8.64     1341"
      ]
     },
     "metadata": {},
     "output_type": "display_data"
    },
    {
     "data": {
      "text/html": [
       "<div>\n",
       "<style scoped>\n",
       "    .dataframe tbody tr th:only-of-type {\n",
       "        vertical-align: middle;\n",
       "    }\n",
       "\n",
       "    .dataframe tbody tr th {\n",
       "        vertical-align: top;\n",
       "    }\n",
       "\n",
       "    .dataframe thead th {\n",
       "        text-align: right;\n",
       "    }\n",
       "</style>\n",
       "<table border=\"1\" class=\"dataframe\">\n",
       "  <thead>\n",
       "    <tr style=\"text-align: right;\">\n",
       "      <th></th>\n",
       "      <th>id</th>\n",
       "      <th>message_date</th>\n",
       "      <th>user_id</th>\n",
       "    </tr>\n",
       "  </thead>\n",
       "  <tbody>\n",
       "    <tr>\n",
       "      <th>20956</th>\n",
       "      <td>1089_959</td>\n",
       "      <td>2018-12-11</td>\n",
       "      <td>1089</td>\n",
       "    </tr>\n",
       "    <tr>\n",
       "      <th>97695</th>\n",
       "      <td>1401_27</td>\n",
       "      <td>2018-05-27</td>\n",
       "      <td>1401</td>\n",
       "    </tr>\n",
       "    <tr>\n",
       "      <th>118143</th>\n",
       "      <td>1480_75</td>\n",
       "      <td>2018-03-20</td>\n",
       "      <td>1480</td>\n",
       "    </tr>\n",
       "  </tbody>\n",
       "</table>\n",
       "</div>"
      ],
      "text/plain": [
       "              id message_date  user_id\n",
       "20956   1089_959   2018-12-11     1089\n",
       "97695    1401_27   2018-05-27     1401\n",
       "118143   1480_75   2018-03-20     1480"
      ]
     },
     "metadata": {},
     "output_type": "display_data"
    },
    {
     "data": {
      "text/html": [
       "<div>\n",
       "<style scoped>\n",
       "    .dataframe tbody tr th:only-of-type {\n",
       "        vertical-align: middle;\n",
       "    }\n",
       "\n",
       "    .dataframe tbody tr th {\n",
       "        vertical-align: top;\n",
       "    }\n",
       "\n",
       "    .dataframe thead th {\n",
       "        text-align: right;\n",
       "    }\n",
       "</style>\n",
       "<table border=\"1\" class=\"dataframe\">\n",
       "  <thead>\n",
       "    <tr style=\"text-align: right;\">\n",
       "      <th></th>\n",
       "      <th>id</th>\n",
       "      <th>mb_used</th>\n",
       "      <th>session_date</th>\n",
       "      <th>user_id</th>\n",
       "    </tr>\n",
       "  </thead>\n",
       "  <tbody>\n",
       "    <tr>\n",
       "      <th>15290</th>\n",
       "      <td>1054_270</td>\n",
       "      <td>201.35</td>\n",
       "      <td>2018-07-04</td>\n",
       "      <td>1054</td>\n",
       "    </tr>\n",
       "    <tr>\n",
       "      <th>59430</th>\n",
       "      <td>1200_260</td>\n",
       "      <td>564.22</td>\n",
       "      <td>2018-06-15</td>\n",
       "      <td>1200</td>\n",
       "    </tr>\n",
       "    <tr>\n",
       "      <th>35788</th>\n",
       "      <td>1124_168</td>\n",
       "      <td>937.99</td>\n",
       "      <td>2018-11-08</td>\n",
       "      <td>1124</td>\n",
       "    </tr>\n",
       "  </tbody>\n",
       "</table>\n",
       "</div>"
      ],
      "text/plain": [
       "             id  mb_used session_date  user_id\n",
       "15290  1054_270   201.35   2018-07-04     1054\n",
       "59430  1200_260   564.22   2018-06-15     1200\n",
       "35788  1124_168   937.99   2018-11-08     1124"
      ]
     },
     "metadata": {},
     "output_type": "display_data"
    },
    {
     "data": {
      "text/html": [
       "<div>\n",
       "<style scoped>\n",
       "    .dataframe tbody tr th:only-of-type {\n",
       "        vertical-align: middle;\n",
       "    }\n",
       "\n",
       "    .dataframe tbody tr th {\n",
       "        vertical-align: top;\n",
       "    }\n",
       "\n",
       "    .dataframe thead th {\n",
       "        text-align: right;\n",
       "    }\n",
       "</style>\n",
       "<table border=\"1\" class=\"dataframe\">\n",
       "  <thead>\n",
       "    <tr style=\"text-align: right;\">\n",
       "      <th></th>\n",
       "      <th>messages_included</th>\n",
       "      <th>mb_per_month_included</th>\n",
       "      <th>minutes_included</th>\n",
       "      <th>rub_monthly_fee</th>\n",
       "      <th>rub_per_gb</th>\n",
       "      <th>rub_per_message</th>\n",
       "      <th>rub_per_minute</th>\n",
       "      <th>tariff_name</th>\n",
       "    </tr>\n",
       "  </thead>\n",
       "  <tbody>\n",
       "    <tr>\n",
       "      <th>0</th>\n",
       "      <td>50</td>\n",
       "      <td>15360</td>\n",
       "      <td>500</td>\n",
       "      <td>550</td>\n",
       "      <td>200</td>\n",
       "      <td>3</td>\n",
       "      <td>3</td>\n",
       "      <td>smart</td>\n",
       "    </tr>\n",
       "    <tr>\n",
       "      <th>1</th>\n",
       "      <td>1000</td>\n",
       "      <td>30720</td>\n",
       "      <td>3000</td>\n",
       "      <td>1950</td>\n",
       "      <td>150</td>\n",
       "      <td>1</td>\n",
       "      <td>1</td>\n",
       "      <td>ultra</td>\n",
       "    </tr>\n",
       "  </tbody>\n",
       "</table>\n",
       "</div>"
      ],
      "text/plain": [
       "   messages_included  mb_per_month_included  minutes_included  \\\n",
       "0                 50                  15360               500   \n",
       "1               1000                  30720              3000   \n",
       "\n",
       "   rub_monthly_fee  rub_per_gb  rub_per_message  rub_per_minute tariff_name  \n",
       "0              550         200                3               3       smart  \n",
       "1             1950         150                1               1       ultra  "
      ]
     },
     "execution_count": 3,
     "metadata": {},
     "output_type": "execute_result"
    }
   ],
   "source": [
    "# посмотрим на данные в таблицах\n",
    "display(users.sample(3))\n",
    "display(calls.sample(3))\n",
    "display(messages.sample(3))\n",
    "display(internet.sample(3))\n",
    "tariffs"
   ]
  },
  {
   "cell_type": "markdown",
   "metadata": {},
   "source": [
    "***Описание данных***\n",
    "\n",
    "Таблица `users` (информация о пользователях):\n",
    "* `user_id` — уникальный идентификатор пользователя\n",
    "* `first_name` — имя пользователя\n",
    "* `last_name` — фамилия пользователя\n",
    "* `age` — возраст пользователя (годы)\n",
    "* `reg_date` — дата подключения тарифа (день, месяц, год)\n",
    "* `churn_date` — дата прекращения пользования тарифом (если значение пропущено, то тариф ещё действовал на момент выгрузки данных)\n",
    "* `city` — город проживания пользователя\n",
    "* `tariff` — название тарифного плана\n",
    "\n",
    "Таблица `calls` (информация о звонках):\n",
    "* `id` — уникальный номер звонка\n",
    "* `call_date` — дата звонка\n",
    "* `duration` — длительность звонка в минутах\n",
    "* `user_id` — идентификатор пользователя, сделавшего звонок\n",
    "\n",
    "Таблица `messages` (информация о сообщениях):\n",
    "* `id` — уникальный номер сообщения\n",
    "* `message_date` — дата сообщения\n",
    "* `user_id` — идентификатор пользователя, отправившего сообщение\n",
    "\n",
    "Таблица `internet` (информация об интернет-сессиях):\n",
    "* `id` — уникальный номер сессии\n",
    "* `mb_used` — объём потраченного за сессию интернет-трафика (в мегабайтах)\n",
    "* `session_date` — дата интернет-сессии\n",
    "* `user_id` — идентификатор пользователя\n",
    "\n",
    "Таблица `tariffs` (информация о тарифах):\n",
    "* `tariff_name` — название тарифа\n",
    "* `rub_monthly_fee` — ежемесячная абонентская плата в рублях\n",
    "* `minutes_included` — количество минут разговора в месяц, включённых в абонентскую плату\n",
    "* `messages_included` — количество сообщений в месяц, включённых в абонентскую плату\n",
    "* `mb_per_month_included` — объём интернет-трафика, включённого в абонентскую плату (в мегабайтах)\n",
    "* `rub_per_minute` — стоимость минуты разговора сверх тарифного пакета (например, если в тарифе 100 минут разговора в месяц, то со 101 минуты будет взиматься плата)\n",
    "* `rub_per_message` — стоимость отправки сообщения сверх тарифного пакета\n",
    "* `rub_per_gb` — стоимость дополнительного гигабайта интернет-трафика сверх тарифного пакета (1 гигабайт = 1024 мегабайта)"
   ]
  },
  {
   "cell_type": "markdown",
   "metadata": {},
   "source": [
    "## Предобработка данных"
   ]
  },
  {
   "cell_type": "markdown",
   "metadata": {},
   "source": [
    "### Тип данных"
   ]
  },
  {
   "cell_type": "markdown",
   "metadata": {},
   "source": [
    "Приведём данные к нужным типам."
   ]
  },
  {
   "cell_type": "code",
   "execution_count": 4,
   "metadata": {
    "scrolled": true
   },
   "outputs": [
    {
     "name": "stdout",
     "output_type": "stream",
     "text": [
      "<class 'pandas.core.frame.DataFrame'>\n",
      "RangeIndex: 500 entries, 0 to 499\n",
      "Data columns (total 8 columns):\n",
      " #   Column      Non-Null Count  Dtype         \n",
      "---  ------      --------------  -----         \n",
      " 0   user_id     500 non-null    object        \n",
      " 1   age         500 non-null    int64         \n",
      " 2   churn_date  38 non-null     datetime64[ns]\n",
      " 3   city        500 non-null    object        \n",
      " 4   first_name  500 non-null    object        \n",
      " 5   last_name   500 non-null    object        \n",
      " 6   reg_date    500 non-null    datetime64[ns]\n",
      " 7   tariff      500 non-null    object        \n",
      "dtypes: datetime64[ns](2), int64(1), object(5)\n",
      "memory usage: 31.4+ KB\n"
     ]
    },
    {
     "data": {
      "text/html": [
       "<div>\n",
       "<style scoped>\n",
       "    .dataframe tbody tr th:only-of-type {\n",
       "        vertical-align: middle;\n",
       "    }\n",
       "\n",
       "    .dataframe tbody tr th {\n",
       "        vertical-align: top;\n",
       "    }\n",
       "\n",
       "    .dataframe thead th {\n",
       "        text-align: right;\n",
       "    }\n",
       "</style>\n",
       "<table border=\"1\" class=\"dataframe\">\n",
       "  <thead>\n",
       "    <tr style=\"text-align: right;\">\n",
       "      <th></th>\n",
       "      <th>user_id</th>\n",
       "      <th>age</th>\n",
       "      <th>churn_date</th>\n",
       "      <th>city</th>\n",
       "      <th>first_name</th>\n",
       "      <th>last_name</th>\n",
       "      <th>reg_date</th>\n",
       "      <th>tariff</th>\n",
       "    </tr>\n",
       "  </thead>\n",
       "  <tbody>\n",
       "    <tr>\n",
       "      <th>172</th>\n",
       "      <td>1172</td>\n",
       "      <td>40</td>\n",
       "      <td>NaT</td>\n",
       "      <td>Санкт-Петербург</td>\n",
       "      <td>Алан</td>\n",
       "      <td>Карасев</td>\n",
       "      <td>2018-05-05</td>\n",
       "      <td>smart</td>\n",
       "    </tr>\n",
       "  </tbody>\n",
       "</table>\n",
       "</div>"
      ],
      "text/plain": [
       "    user_id  age churn_date             city first_name last_name   reg_date  \\\n",
       "172    1172   40        NaT  Санкт-Петербург       Алан   Карасев 2018-05-05   \n",
       "\n",
       "    tariff  \n",
       "172  smart  "
      ]
     },
     "execution_count": 4,
     "metadata": {},
     "output_type": "execute_result"
    }
   ],
   "source": [
    "# в таблице users, дату приведём к типу datatime\n",
    "# данные в стобце с идентификатором пользователя приведём к строковому типу\n",
    "users['churn_date'] = pd.to_datetime(users['churn_date'], format=\"%Y-%m-%d\")\n",
    "users['reg_date'] = pd.to_datetime(users['reg_date'], format=\"%Y-%m-%d\")\n",
    "users['user_id'] = users['user_id'].astype('str')\n",
    "users.info()\n",
    "users.sample()"
   ]
  },
  {
   "cell_type": "code",
   "execution_count": 5,
   "metadata": {
    "scrolled": true
   },
   "outputs": [
    {
     "name": "stdout",
     "output_type": "stream",
     "text": [
      "<class 'pandas.core.frame.DataFrame'>\n",
      "RangeIndex: 202607 entries, 0 to 202606\n",
      "Data columns (total 4 columns):\n",
      " #   Column     Non-Null Count   Dtype         \n",
      "---  ------     --------------   -----         \n",
      " 0   id         202607 non-null  object        \n",
      " 1   call_date  202607 non-null  datetime64[ns]\n",
      " 2   duration   202607 non-null  int64         \n",
      " 3   user_id    202607 non-null  object        \n",
      "dtypes: datetime64[ns](1), int64(1), object(2)\n",
      "memory usage: 6.2+ MB\n"
     ]
    },
    {
     "data": {
      "text/html": [
       "<div>\n",
       "<style scoped>\n",
       "    .dataframe tbody tr th:only-of-type {\n",
       "        vertical-align: middle;\n",
       "    }\n",
       "\n",
       "    .dataframe tbody tr th {\n",
       "        vertical-align: top;\n",
       "    }\n",
       "\n",
       "    .dataframe thead th {\n",
       "        text-align: right;\n",
       "    }\n",
       "</style>\n",
       "<table border=\"1\" class=\"dataframe\">\n",
       "  <thead>\n",
       "    <tr style=\"text-align: right;\">\n",
       "      <th></th>\n",
       "      <th>id</th>\n",
       "      <th>call_date</th>\n",
       "      <th>duration</th>\n",
       "      <th>user_id</th>\n",
       "    </tr>\n",
       "  </thead>\n",
       "  <tbody>\n",
       "    <tr>\n",
       "      <th>94556</th>\n",
       "      <td>1240_84</td>\n",
       "      <td>2018-11-08</td>\n",
       "      <td>14</td>\n",
       "      <td>1240</td>\n",
       "    </tr>\n",
       "  </tbody>\n",
       "</table>\n",
       "</div>"
      ],
      "text/plain": [
       "            id  call_date  duration user_id\n",
       "94556  1240_84 2018-11-08        14    1240"
      ]
     },
     "execution_count": 5,
     "metadata": {},
     "output_type": "execute_result"
    }
   ],
   "source": [
    "# в таблице calls дату приведём к datatime\n",
    "# длительность звонков округлим в сторону увеличения и приведём к целочисленному типу\n",
    "# данные в стобце с идентификатором пользователя приведём к строковому типу\n",
    "calls['call_date'] = pd.to_datetime(calls['call_date'], format=\"%Y-%m-%d\")\n",
    "calls['duration'] = calls['duration'].apply(np.ceil).astype('int')\n",
    "calls['user_id'] = calls['user_id'].astype('str')\n",
    "calls.info()\n",
    "calls.sample()"
   ]
  },
  {
   "cell_type": "code",
   "execution_count": 6,
   "metadata": {
    "scrolled": true
   },
   "outputs": [
    {
     "name": "stdout",
     "output_type": "stream",
     "text": [
      "<class 'pandas.core.frame.DataFrame'>\n",
      "RangeIndex: 123036 entries, 0 to 123035\n",
      "Data columns (total 3 columns):\n",
      " #   Column        Non-Null Count   Dtype         \n",
      "---  ------        --------------   -----         \n",
      " 0   id            123036 non-null  object        \n",
      " 1   message_date  123036 non-null  datetime64[ns]\n",
      " 2   user_id       123036 non-null  object        \n",
      "dtypes: datetime64[ns](1), object(2)\n",
      "memory usage: 2.8+ MB\n"
     ]
    },
    {
     "data": {
      "text/html": [
       "<div>\n",
       "<style scoped>\n",
       "    .dataframe tbody tr th:only-of-type {\n",
       "        vertical-align: middle;\n",
       "    }\n",
       "\n",
       "    .dataframe tbody tr th {\n",
       "        vertical-align: top;\n",
       "    }\n",
       "\n",
       "    .dataframe thead th {\n",
       "        text-align: right;\n",
       "    }\n",
       "</style>\n",
       "<table border=\"1\" class=\"dataframe\">\n",
       "  <thead>\n",
       "    <tr style=\"text-align: right;\">\n",
       "      <th></th>\n",
       "      <th>id</th>\n",
       "      <th>message_date</th>\n",
       "      <th>user_id</th>\n",
       "    </tr>\n",
       "  </thead>\n",
       "  <tbody>\n",
       "    <tr>\n",
       "      <th>59526</th>\n",
       "      <td>1262_17</td>\n",
       "      <td>2018-11-13</td>\n",
       "      <td>1262</td>\n",
       "    </tr>\n",
       "  </tbody>\n",
       "</table>\n",
       "</div>"
      ],
      "text/plain": [
       "            id message_date user_id\n",
       "59526  1262_17   2018-11-13    1262"
      ]
     },
     "execution_count": 6,
     "metadata": {},
     "output_type": "execute_result"
    }
   ],
   "source": [
    "# в таблице message дату приведём к datatime\n",
    "# длительность звонков округлим в сторону увеличения и приведём к целочисленному типу\n",
    "# данные в стобце с идентификатором пользователя приведём к строковому типу\n",
    "messages['message_date'] = pd.to_datetime(messages['message_date'], format=\"%Y-%m-%d\")\n",
    "messages['user_id'] = messages['user_id'].astype('str')\n",
    "messages.info()\n",
    "messages.sample()"
   ]
  },
  {
   "cell_type": "code",
   "execution_count": 7,
   "metadata": {
    "scrolled": true
   },
   "outputs": [
    {
     "name": "stdout",
     "output_type": "stream",
     "text": [
      "<class 'pandas.core.frame.DataFrame'>\n",
      "Int64Index: 149396 entries, 0 to 149395\n",
      "Data columns (total 4 columns):\n",
      " #   Column        Non-Null Count   Dtype         \n",
      "---  ------        --------------   -----         \n",
      " 0   id            149396 non-null  object        \n",
      " 1   mb_used       149396 non-null  float64       \n",
      " 2   session_date  149396 non-null  datetime64[ns]\n",
      " 3   user_id       149396 non-null  object        \n",
      "dtypes: datetime64[ns](1), float64(1), object(2)\n",
      "memory usage: 5.7+ MB\n"
     ]
    },
    {
     "data": {
      "text/html": [
       "<div>\n",
       "<style scoped>\n",
       "    .dataframe tbody tr th:only-of-type {\n",
       "        vertical-align: middle;\n",
       "    }\n",
       "\n",
       "    .dataframe tbody tr th {\n",
       "        vertical-align: top;\n",
       "    }\n",
       "\n",
       "    .dataframe thead th {\n",
       "        text-align: right;\n",
       "    }\n",
       "</style>\n",
       "<table border=\"1\" class=\"dataframe\">\n",
       "  <thead>\n",
       "    <tr style=\"text-align: right;\">\n",
       "      <th></th>\n",
       "      <th>id</th>\n",
       "      <th>mb_used</th>\n",
       "      <th>session_date</th>\n",
       "      <th>user_id</th>\n",
       "    </tr>\n",
       "  </thead>\n",
       "  <tbody>\n",
       "    <tr>\n",
       "      <th>95855</th>\n",
       "      <td>1324_49</td>\n",
       "      <td>619.8</td>\n",
       "      <td>2018-12-02</td>\n",
       "      <td>1324</td>\n",
       "    </tr>\n",
       "  </tbody>\n",
       "</table>\n",
       "</div>"
      ],
      "text/plain": [
       "            id  mb_used session_date user_id\n",
       "95855  1324_49    619.8   2018-12-02    1324"
      ]
     },
     "execution_count": 7,
     "metadata": {},
     "output_type": "execute_result"
    }
   ],
   "source": [
    "# в таблице internet дату приведём к datatime\n",
    "# интернет-сессии округлим в сторону увеличения и приведём к целочисленному типу\n",
    "# данные в стобце с идентификатором пользователя приведём к строковому типу\n",
    "internet['session_date'] = pd.to_datetime(internet['session_date'], format=\"%Y-%m-%d\")\n",
    "internet['user_id'] = internet['user_id'].astype('str')\n",
    "internet.info()\n",
    "internet.sample()"
   ]
  },
  {
   "cell_type": "code",
   "execution_count": 10,
   "metadata": {},
   "outputs": [
    {
     "data": {
      "text/plain": [
       "Index(['messages_included', 'mb_per_month_included', 'minutes_included',\n",
       "       'rub_monthly_fee', 'rub_per_gb', 'rub_per_message', 'rub_per_minute',\n",
       "       'tariff'],\n",
       "      dtype='object')"
      ]
     },
     "execution_count": 10,
     "metadata": {},
     "output_type": "execute_result"
    }
   ],
   "source": [
    "# переименуем столбец в таблице с тарифами для удосбтва дальнейших расчётов\n",
    "tariffs.rename(columns = {'tariff_name' : 'tariff'}, inplace = True)\n",
    "tariffs.columns"
   ]
  },
  {
   "cell_type": "markdown",
   "metadata": {},
   "source": [
    "Во всех таблицах дату привели к специальному типу `datatime`, идетификаторы пользователей к строковому типу, округлили минуты, переименовали столбец в таблице `tariffs` для дальнейшего удобства."
   ]
  },
  {
   "cell_type": "markdown",
   "metadata": {},
   "source": [
    "### Подготовка данных"
   ]
  },
  {
   "cell_type": "code",
   "execution_count": 11,
   "metadata": {},
   "outputs": [],
   "source": [
    "# добавим столбец с месяцем в таблицы звонков, сообщений, интернет-трафика\n",
    "calls['month'] = calls['call_date'].dt.month\n",
    "messages['month'] = messages['message_date'].dt.month\n",
    "internet['month'] = internet['session_date'].dt.month"
   ]
  },
  {
   "cell_type": "markdown",
   "metadata": {},
   "source": [
    "Создадим новую базу данных, в неё поместим данные с `user_id`, месяцем, количеством звонков, продолжительностью звонков, количеством смс, количеством мегабайт интернет-трафика, город и название тарифа."
   ]
  },
  {
   "cell_type": "code",
   "execution_count": 12,
   "metadata": {
    "scrolled": false
   },
   "outputs": [
    {
     "name": "stdout",
     "output_type": "stream",
     "text": [
      "<class 'pandas.core.frame.DataFrame'>\n",
      "Int64Index: 3216 entries, 0 to 3215\n",
      "Data columns (total 15 columns):\n",
      " #   Column         Non-Null Count  Dtype  \n",
      "---  ------         --------------  -----  \n",
      " 0   user_id        3216 non-null   object \n",
      " 1   month          3214 non-null   float64\n",
      " 2   calls_pcs      3174 non-null   float64\n",
      " 3   calls_minutes  3174 non-null   float64\n",
      " 4   sms_pcs        2717 non-null   float64\n",
      " 5   internet_mb    3203 non-null   float64\n",
      " 6   city           3216 non-null   object \n",
      " 7   tariff         3216 non-null   object \n",
      " 8   mess_inc       3216 non-null   int64  \n",
      " 9   mb_inc         3216 non-null   int64  \n",
      " 10  min_inc        3216 non-null   int64  \n",
      " 11  rub_fee        3216 non-null   int64  \n",
      " 12  rub_gb         3216 non-null   int64  \n",
      " 13  rub_mes        3216 non-null   int64  \n",
      " 14  rub_min        3216 non-null   int64  \n",
      "dtypes: float64(5), int64(7), object(3)\n",
      "memory usage: 402.0+ KB\n"
     ]
    },
    {
     "data": {
      "text/html": [
       "<div>\n",
       "<style scoped>\n",
       "    .dataframe tbody tr th:only-of-type {\n",
       "        vertical-align: middle;\n",
       "    }\n",
       "\n",
       "    .dataframe tbody tr th {\n",
       "        vertical-align: top;\n",
       "    }\n",
       "\n",
       "    .dataframe thead th {\n",
       "        text-align: right;\n",
       "    }\n",
       "</style>\n",
       "<table border=\"1\" class=\"dataframe\">\n",
       "  <thead>\n",
       "    <tr style=\"text-align: right;\">\n",
       "      <th></th>\n",
       "      <th>user_id</th>\n",
       "      <th>month</th>\n",
       "      <th>calls_pcs</th>\n",
       "      <th>calls_minutes</th>\n",
       "      <th>sms_pcs</th>\n",
       "      <th>internet_mb</th>\n",
       "      <th>city</th>\n",
       "      <th>tariff</th>\n",
       "      <th>mess_inc</th>\n",
       "      <th>mb_inc</th>\n",
       "      <th>min_inc</th>\n",
       "      <th>rub_fee</th>\n",
       "      <th>rub_gb</th>\n",
       "      <th>rub_mes</th>\n",
       "      <th>rub_min</th>\n",
       "    </tr>\n",
       "  </thead>\n",
       "  <tbody>\n",
       "    <tr>\n",
       "      <th>738</th>\n",
       "      <td>1381</td>\n",
       "      <td>2.0</td>\n",
       "      <td>98.0</td>\n",
       "      <td>762.0</td>\n",
       "      <td>44.0</td>\n",
       "      <td>27738.28</td>\n",
       "      <td>Москва</td>\n",
       "      <td>ultra</td>\n",
       "      <td>1000</td>\n",
       "      <td>30720</td>\n",
       "      <td>3000</td>\n",
       "      <td>1950</td>\n",
       "      <td>150</td>\n",
       "      <td>1</td>\n",
       "      <td>1</td>\n",
       "    </tr>\n",
       "    <tr>\n",
       "      <th>2669</th>\n",
       "      <td>1378</td>\n",
       "      <td>10.0</td>\n",
       "      <td>70.0</td>\n",
       "      <td>453.0</td>\n",
       "      <td>9.0</td>\n",
       "      <td>13834.81</td>\n",
       "      <td>Иркутск</td>\n",
       "      <td>smart</td>\n",
       "      <td>50</td>\n",
       "      <td>15360</td>\n",
       "      <td>500</td>\n",
       "      <td>550</td>\n",
       "      <td>200</td>\n",
       "      <td>3</td>\n",
       "      <td>3</td>\n",
       "    </tr>\n",
       "    <tr>\n",
       "      <th>1837</th>\n",
       "      <td>1183</td>\n",
       "      <td>7.0</td>\n",
       "      <td>40.0</td>\n",
       "      <td>326.0</td>\n",
       "      <td>24.0</td>\n",
       "      <td>9883.50</td>\n",
       "      <td>Владивосток</td>\n",
       "      <td>smart</td>\n",
       "      <td>50</td>\n",
       "      <td>15360</td>\n",
       "      <td>500</td>\n",
       "      <td>550</td>\n",
       "      <td>200</td>\n",
       "      <td>3</td>\n",
       "      <td>3</td>\n",
       "    </tr>\n",
       "    <tr>\n",
       "      <th>136</th>\n",
       "      <td>1085</td>\n",
       "      <td>12.0</td>\n",
       "      <td>19.0</td>\n",
       "      <td>100.0</td>\n",
       "      <td>NaN</td>\n",
       "      <td>15374.60</td>\n",
       "      <td>Омск</td>\n",
       "      <td>ultra</td>\n",
       "      <td>1000</td>\n",
       "      <td>30720</td>\n",
       "      <td>3000</td>\n",
       "      <td>1950</td>\n",
       "      <td>150</td>\n",
       "      <td>1</td>\n",
       "      <td>1</td>\n",
       "    </tr>\n",
       "    <tr>\n",
       "      <th>739</th>\n",
       "      <td>1381</td>\n",
       "      <td>3.0</td>\n",
       "      <td>107.0</td>\n",
       "      <td>866.0</td>\n",
       "      <td>41.0</td>\n",
       "      <td>25040.16</td>\n",
       "      <td>Москва</td>\n",
       "      <td>ultra</td>\n",
       "      <td>1000</td>\n",
       "      <td>30720</td>\n",
       "      <td>3000</td>\n",
       "      <td>1950</td>\n",
       "      <td>150</td>\n",
       "      <td>1</td>\n",
       "      <td>1</td>\n",
       "    </tr>\n",
       "  </tbody>\n",
       "</table>\n",
       "</div>"
      ],
      "text/plain": [
       "     user_id  month  calls_pcs  calls_minutes  sms_pcs  internet_mb  \\\n",
       "738     1381    2.0       98.0          762.0     44.0     27738.28   \n",
       "2669    1378   10.0       70.0          453.0      9.0     13834.81   \n",
       "1837    1183    7.0       40.0          326.0     24.0      9883.50   \n",
       "136     1085   12.0       19.0          100.0      NaN     15374.60   \n",
       "739     1381    3.0      107.0          866.0     41.0     25040.16   \n",
       "\n",
       "             city tariff  mess_inc  mb_inc  min_inc  rub_fee  rub_gb  rub_mes  \\\n",
       "738        Москва  ultra      1000   30720     3000     1950     150        1   \n",
       "2669      Иркутск  smart        50   15360      500      550     200        3   \n",
       "1837  Владивосток  smart        50   15360      500      550     200        3   \n",
       "136          Омск  ultra      1000   30720     3000     1950     150        1   \n",
       "739        Москва  ultra      1000   30720     3000     1950     150        1   \n",
       "\n",
       "      rub_min  \n",
       "738         1  \n",
       "2669        3  \n",
       "1837        3  \n",
       "136         1  \n",
       "739         1  "
      ]
     },
     "execution_count": 12,
     "metadata": {},
     "output_type": "execute_result"
    }
   ],
   "source": [
    "# сгруппируем таблицы звонков, сообщений, интернета, почитаем количество и сумму трафика, добавим в новый датафрейм\n",
    "# присоединим столбцы с данными города и тарифа из таблицы с пользователями\n",
    "# переименуем столбцы в более понятные наименования\n",
    "df = pd.concat([calls.groupby(['user_id', 'month'])['duration'].agg(['count', 'sum']),\n",
    "                messages.groupby(['user_id', 'month'])['id'].count(),\n",
    "                internet.groupby(['user_id', 'month']).sum()['mb_used']], axis=1).reset_index()\n",
    "\n",
    "df = df.merge(users[['user_id', 'city', 'tariff']], on='user_id', how='outer')\n",
    "df = df.merge(tariffs, on='tariff', how='outer')\n",
    "df.columns = ['user_id', 'month', 'calls_pcs', 'calls_minutes', 'sms_pcs', 'internet_mb', 'city', 'tariff',\n",
    "              'mess_inc', 'mb_inc', 'min_inc', 'rub_fee', 'rub_gb', 'rub_mes', 'rub_min']\n",
    "df.info()\n",
    "df.sample(5)"
   ]
  },
  {
   "cell_type": "markdown",
   "metadata": {},
   "source": [
    "Посчитаем помесячную выручку с каждого пользователя: вычтем бесплатный лимит из суммарного количества звонков, сообщений и интернет-трафика; остаток умножим на значение из тарифного плана; прибавим абонентскую плату, соответствующую тарифному плану."
   ]
  },
  {
   "cell_type": "code",
   "execution_count": 13,
   "metadata": {},
   "outputs": [
    {
     "data": {
      "text/html": [
       "<div>\n",
       "<style scoped>\n",
       "    .dataframe tbody tr th:only-of-type {\n",
       "        vertical-align: middle;\n",
       "    }\n",
       "\n",
       "    .dataframe tbody tr th {\n",
       "        vertical-align: top;\n",
       "    }\n",
       "\n",
       "    .dataframe thead th {\n",
       "        text-align: right;\n",
       "    }\n",
       "</style>\n",
       "<table border=\"1\" class=\"dataframe\">\n",
       "  <thead>\n",
       "    <tr style=\"text-align: right;\">\n",
       "      <th></th>\n",
       "      <th>user_id</th>\n",
       "      <th>month</th>\n",
       "      <th>calls_pcs</th>\n",
       "      <th>calls_minutes</th>\n",
       "      <th>sms_pcs</th>\n",
       "      <th>internet_mb</th>\n",
       "      <th>city</th>\n",
       "      <th>tariff</th>\n",
       "      <th>mess_inc</th>\n",
       "      <th>mb_inc</th>\n",
       "      <th>min_inc</th>\n",
       "      <th>rub_fee</th>\n",
       "      <th>rub_gb</th>\n",
       "      <th>rub_mes</th>\n",
       "      <th>rub_min</th>\n",
       "      <th>monthly_revenue</th>\n",
       "    </tr>\n",
       "  </thead>\n",
       "  <tbody>\n",
       "    <tr>\n",
       "      <th>2612</th>\n",
       "      <td>1370</td>\n",
       "      <td>4.0</td>\n",
       "      <td>24.0</td>\n",
       "      <td>159.0</td>\n",
       "      <td>NaN</td>\n",
       "      <td>13011.53</td>\n",
       "      <td>Новороссийск</td>\n",
       "      <td>smart</td>\n",
       "      <td>50</td>\n",
       "      <td>15360</td>\n",
       "      <td>500</td>\n",
       "      <td>550</td>\n",
       "      <td>200</td>\n",
       "      <td>3</td>\n",
       "      <td>3</td>\n",
       "      <td>550.0</td>\n",
       "    </tr>\n",
       "    <tr>\n",
       "      <th>822</th>\n",
       "      <td>1405</td>\n",
       "      <td>12.0</td>\n",
       "      <td>41.0</td>\n",
       "      <td>244.0</td>\n",
       "      <td>53.0</td>\n",
       "      <td>25004.15</td>\n",
       "      <td>Набережные Челны</td>\n",
       "      <td>ultra</td>\n",
       "      <td>1000</td>\n",
       "      <td>30720</td>\n",
       "      <td>3000</td>\n",
       "      <td>1950</td>\n",
       "      <td>150</td>\n",
       "      <td>1</td>\n",
       "      <td>1</td>\n",
       "      <td>2897.0</td>\n",
       "    </tr>\n",
       "    <tr>\n",
       "      <th>343</th>\n",
       "      <td>1200</td>\n",
       "      <td>8.0</td>\n",
       "      <td>92.0</td>\n",
       "      <td>627.0</td>\n",
       "      <td>49.0</td>\n",
       "      <td>16303.33</td>\n",
       "      <td>Санкт-Петербург</td>\n",
       "      <td>ultra</td>\n",
       "      <td>1000</td>\n",
       "      <td>30720</td>\n",
       "      <td>3000</td>\n",
       "      <td>1950</td>\n",
       "      <td>150</td>\n",
       "      <td>1</td>\n",
       "      <td>1</td>\n",
       "      <td>2901.0</td>\n",
       "    </tr>\n",
       "    <tr>\n",
       "      <th>2556</th>\n",
       "      <td>1353</td>\n",
       "      <td>5.0</td>\n",
       "      <td>51.0</td>\n",
       "      <td>374.0</td>\n",
       "      <td>53.0</td>\n",
       "      <td>19683.57</td>\n",
       "      <td>Санкт-Петербург</td>\n",
       "      <td>smart</td>\n",
       "      <td>50</td>\n",
       "      <td>15360</td>\n",
       "      <td>500</td>\n",
       "      <td>550</td>\n",
       "      <td>200</td>\n",
       "      <td>3</td>\n",
       "      <td>3</td>\n",
       "      <td>1394.0</td>\n",
       "    </tr>\n",
       "    <tr>\n",
       "      <th>3171</th>\n",
       "      <td>1490</td>\n",
       "      <td>4.0</td>\n",
       "      <td>38.0</td>\n",
       "      <td>270.0</td>\n",
       "      <td>38.0</td>\n",
       "      <td>13669.58</td>\n",
       "      <td>Москва</td>\n",
       "      <td>smart</td>\n",
       "      <td>50</td>\n",
       "      <td>15360</td>\n",
       "      <td>500</td>\n",
       "      <td>550</td>\n",
       "      <td>200</td>\n",
       "      <td>3</td>\n",
       "      <td>3</td>\n",
       "      <td>586.0</td>\n",
       "    </tr>\n",
       "  </tbody>\n",
       "</table>\n",
       "</div>"
      ],
      "text/plain": [
       "     user_id  month  calls_pcs  calls_minutes  sms_pcs  internet_mb  \\\n",
       "2612    1370    4.0       24.0          159.0      NaN     13011.53   \n",
       "822     1405   12.0       41.0          244.0     53.0     25004.15   \n",
       "343     1200    8.0       92.0          627.0     49.0     16303.33   \n",
       "2556    1353    5.0       51.0          374.0     53.0     19683.57   \n",
       "3171    1490    4.0       38.0          270.0     38.0     13669.58   \n",
       "\n",
       "                  city tariff  mess_inc  mb_inc  min_inc  rub_fee  rub_gb  \\\n",
       "2612      Новороссийск  smart        50   15360      500      550     200   \n",
       "822   Набережные Челны  ultra      1000   30720     3000     1950     150   \n",
       "343    Санкт-Петербург  ultra      1000   30720     3000     1950     150   \n",
       "2556   Санкт-Петербург  smart        50   15360      500      550     200   \n",
       "3171            Москва  smart        50   15360      500      550     200   \n",
       "\n",
       "      rub_mes  rub_min  monthly_revenue  \n",
       "2612        3        3            550.0  \n",
       "822         1        1           2897.0  \n",
       "343         1        1           2901.0  \n",
       "2556        3        3           1394.0  \n",
       "3171        3        3            586.0  "
      ]
     },
     "execution_count": 13,
     "metadata": {},
     "output_type": "execute_result"
    }
   ],
   "source": [
    "# создадим функцию для подсчёта выручки\n",
    "# добавим в таблицу столбец с выручкой\n",
    "# добавляем только положительные числа после подсчёта, т.к. отрицательные значения - это неиспользованный трафик в рамках тарифа\n",
    "def monthly_revenue(row):\n",
    "    sms_price = (row['mess_inc'] - row['sms_pcs']) * row['rub_mes']\n",
    "    minut_price = (row['calls_minutes'] - row['min_inc']) * row['rub_min']\n",
    "    mb_price =  np.floor((row['internet_mb'] - row['mb_inc']) * row['rub_gb'] / 1024)\n",
    "    total = 0\n",
    "    for i in [sms_price, minut_price, mb_price]:\n",
    "        if i > 0:\n",
    "            total += i \n",
    "    return total + row['rub_fee']\n",
    "\n",
    "df['monthly_revenue'] = df.apply(monthly_revenue, axis=1)    \n",
    "df.sample(5)"
   ]
  },
  {
   "cell_type": "code",
   "execution_count": 14,
   "metadata": {
    "scrolled": false
   },
   "outputs": [
    {
     "data": {
      "text/html": [
       "<div>\n",
       "<style scoped>\n",
       "    .dataframe tbody tr th:only-of-type {\n",
       "        vertical-align: middle;\n",
       "    }\n",
       "\n",
       "    .dataframe tbody tr th {\n",
       "        vertical-align: top;\n",
       "    }\n",
       "\n",
       "    .dataframe thead th {\n",
       "        text-align: right;\n",
       "    }\n",
       "</style>\n",
       "<table border=\"1\" class=\"dataframe\">\n",
       "  <thead>\n",
       "    <tr style=\"text-align: right;\">\n",
       "      <th></th>\n",
       "      <th>user_id</th>\n",
       "      <th>month</th>\n",
       "      <th>calls_pcs</th>\n",
       "      <th>calls_minutes</th>\n",
       "      <th>sms_pcs</th>\n",
       "      <th>internet_mb</th>\n",
       "      <th>city</th>\n",
       "      <th>tariff</th>\n",
       "      <th>mess_inc</th>\n",
       "      <th>mb_inc</th>\n",
       "      <th>min_inc</th>\n",
       "      <th>rub_fee</th>\n",
       "      <th>rub_gb</th>\n",
       "      <th>rub_mes</th>\n",
       "      <th>rub_min</th>\n",
       "      <th>monthly_revenue</th>\n",
       "    </tr>\n",
       "  </thead>\n",
       "  <tbody>\n",
       "    <tr>\n",
       "      <th>985</th>\n",
       "      <td>1128</td>\n",
       "      <td>NaN</td>\n",
       "      <td>NaN</td>\n",
       "      <td>NaN</td>\n",
       "      <td>NaN</td>\n",
       "      <td>NaN</td>\n",
       "      <td>Волжский</td>\n",
       "      <td>ultra</td>\n",
       "      <td>1000</td>\n",
       "      <td>30720</td>\n",
       "      <td>3000</td>\n",
       "      <td>1950</td>\n",
       "      <td>150</td>\n",
       "      <td>1</td>\n",
       "      <td>1</td>\n",
       "      <td>1950.0</td>\n",
       "    </tr>\n",
       "    <tr>\n",
       "      <th>3215</th>\n",
       "      <td>1371</td>\n",
       "      <td>NaN</td>\n",
       "      <td>NaN</td>\n",
       "      <td>NaN</td>\n",
       "      <td>NaN</td>\n",
       "      <td>NaN</td>\n",
       "      <td>Омск</td>\n",
       "      <td>smart</td>\n",
       "      <td>50</td>\n",
       "      <td>15360</td>\n",
       "      <td>500</td>\n",
       "      <td>550</td>\n",
       "      <td>200</td>\n",
       "      <td>3</td>\n",
       "      <td>3</td>\n",
       "      <td>550.0</td>\n",
       "    </tr>\n",
       "  </tbody>\n",
       "</table>\n",
       "</div>"
      ],
      "text/plain": [
       "     user_id  month  calls_pcs  calls_minutes  sms_pcs  internet_mb      city  \\\n",
       "985     1128    NaN        NaN            NaN      NaN          NaN  Волжский   \n",
       "3215    1371    NaN        NaN            NaN      NaN          NaN      Омск   \n",
       "\n",
       "     tariff  mess_inc  mb_inc  min_inc  rub_fee  rub_gb  rub_mes  rub_min  \\\n",
       "985   ultra      1000   30720     3000     1950     150        1        1   \n",
       "3215  smart        50   15360      500      550     200        3        3   \n",
       "\n",
       "      monthly_revenue  \n",
       "985            1950.0  \n",
       "3215            550.0  "
      ]
     },
     "metadata": {},
     "output_type": "display_data"
    }
   ],
   "source": [
    "# посмотрим на пропущенные значения\n",
    "# удалим две строки, где есть только данные с городом и тарифом, они не несут полезной информации\n",
    "display(df[df['month'].isna() == True])\n",
    "df = df.dropna(subset=['month'])"
   ]
  },
  {
   "cell_type": "code",
   "execution_count": 15,
   "metadata": {},
   "outputs": [
    {
     "data": {
      "text/html": [
       "<div>\n",
       "<style scoped>\n",
       "    .dataframe tbody tr th:only-of-type {\n",
       "        vertical-align: middle;\n",
       "    }\n",
       "\n",
       "    .dataframe tbody tr th {\n",
       "        vertical-align: top;\n",
       "    }\n",
       "\n",
       "    .dataframe thead th {\n",
       "        text-align: right;\n",
       "    }\n",
       "</style>\n",
       "<table border=\"1\" class=\"dataframe\">\n",
       "  <thead>\n",
       "    <tr style=\"text-align: right;\">\n",
       "      <th></th>\n",
       "      <th>user_id</th>\n",
       "      <th>month</th>\n",
       "      <th>calls_pcs</th>\n",
       "      <th>calls_minutes</th>\n",
       "      <th>sms_pcs</th>\n",
       "      <th>internet_mb</th>\n",
       "      <th>city</th>\n",
       "      <th>tariff</th>\n",
       "      <th>monthly_revenue</th>\n",
       "    </tr>\n",
       "  </thead>\n",
       "  <tbody>\n",
       "    <tr>\n",
       "      <th>2014</th>\n",
       "      <td>1219</td>\n",
       "      <td>8.0</td>\n",
       "      <td>76.0</td>\n",
       "      <td>508.0</td>\n",
       "      <td>6.0</td>\n",
       "      <td>21655.34</td>\n",
       "      <td>Киров</td>\n",
       "      <td>smart</td>\n",
       "      <td>1935.0</td>\n",
       "    </tr>\n",
       "    <tr>\n",
       "      <th>1028</th>\n",
       "      <td>1009</td>\n",
       "      <td>3.0</td>\n",
       "      <td>13.0</td>\n",
       "      <td>109.0</td>\n",
       "      <td>2.0</td>\n",
       "      <td>7350.15</td>\n",
       "      <td>Пермь</td>\n",
       "      <td>smart</td>\n",
       "      <td>694.0</td>\n",
       "    </tr>\n",
       "    <tr>\n",
       "      <th>3188</th>\n",
       "      <td>1494</td>\n",
       "      <td>9.0</td>\n",
       "      <td>66.0</td>\n",
       "      <td>501.0</td>\n",
       "      <td>NaN</td>\n",
       "      <td>16962.51</td>\n",
       "      <td>Омск</td>\n",
       "      <td>smart</td>\n",
       "      <td>865.0</td>\n",
       "    </tr>\n",
       "    <tr>\n",
       "      <th>430</th>\n",
       "      <td>1254</td>\n",
       "      <td>1.0</td>\n",
       "      <td>59.0</td>\n",
       "      <td>466.0</td>\n",
       "      <td>NaN</td>\n",
       "      <td>19685.01</td>\n",
       "      <td>Москва</td>\n",
       "      <td>ultra</td>\n",
       "      <td>1950.0</td>\n",
       "    </tr>\n",
       "    <tr>\n",
       "      <th>2886</th>\n",
       "      <td>1428</td>\n",
       "      <td>8.0</td>\n",
       "      <td>11.0</td>\n",
       "      <td>66.0</td>\n",
       "      <td>NaN</td>\n",
       "      <td>7039.10</td>\n",
       "      <td>Новосибирск</td>\n",
       "      <td>smart</td>\n",
       "      <td>550.0</td>\n",
       "    </tr>\n",
       "  </tbody>\n",
       "</table>\n",
       "</div>"
      ],
      "text/plain": [
       "     user_id  month  calls_pcs  calls_minutes  sms_pcs  internet_mb  \\\n",
       "2014    1219    8.0       76.0          508.0      6.0     21655.34   \n",
       "1028    1009    3.0       13.0          109.0      2.0      7350.15   \n",
       "3188    1494    9.0       66.0          501.0      NaN     16962.51   \n",
       "430     1254    1.0       59.0          466.0      NaN     19685.01   \n",
       "2886    1428    8.0       11.0           66.0      NaN      7039.10   \n",
       "\n",
       "             city tariff  monthly_revenue  \n",
       "2014        Киров  smart           1935.0  \n",
       "1028        Пермь  smart            694.0  \n",
       "3188         Омск  smart            865.0  \n",
       "430        Москва  ultra           1950.0  \n",
       "2886  Новосибирск  smart            550.0  "
      ]
     },
     "execution_count": 15,
     "metadata": {},
     "output_type": "execute_result"
    }
   ],
   "source": [
    "# удалим из таблицы нужно только для подсчётов данные\n",
    "df = df.drop(['mess_inc', 'mb_inc', 'min_inc', 'rub_fee', 'rub_gb', 'rub_mes', 'rub_min'], axis=1,)\n",
    "df.sample(5)"
   ]
  },
  {
   "cell_type": "code",
   "execution_count": 16,
   "metadata": {},
   "outputs": [
    {
     "name": "stdout",
     "output_type": "stream",
     "text": [
      "<class 'pandas.core.frame.DataFrame'>\n",
      "Int64Index: 3214 entries, 0 to 3214\n",
      "Data columns (total 9 columns):\n",
      " #   Column           Non-Null Count  Dtype \n",
      "---  ------           --------------  ----- \n",
      " 0   user_id          3214 non-null   object\n",
      " 1   month            3214 non-null   object\n",
      " 2   calls_pcs        3214 non-null   int64 \n",
      " 3   calls_minutes    3214 non-null   int64 \n",
      " 4   sms_pcs          3214 non-null   int64 \n",
      " 5   internet_mb      3214 non-null   int64 \n",
      " 6   city             3214 non-null   object\n",
      " 7   tariff           3214 non-null   object\n",
      " 8   monthly_revenue  3214 non-null   int64 \n",
      "dtypes: int64(5), object(4)\n",
      "memory usage: 251.1+ KB\n"
     ]
    },
    {
     "data": {
      "text/plain": [
       "user_id            0\n",
       "month              0\n",
       "calls_pcs          0\n",
       "calls_minutes      0\n",
       "sms_pcs            0\n",
       "internet_mb        0\n",
       "city               0\n",
       "tariff             0\n",
       "monthly_revenue    0\n",
       "dtype: int64"
      ]
     },
     "execution_count": 16,
     "metadata": {},
     "output_type": "execute_result"
    }
   ],
   "source": [
    "# заполним пропущенные значения нулями в столбцах с минутами, звонками и интернет-траффиком\n",
    "# числовые значения теперь можно заменить на целочисленные\n",
    "df['calls_pcs'] = df['calls_pcs'].fillna(0)\n",
    "df['calls_minutes'] = df['calls_minutes'].fillna(0)\n",
    "df['sms_pcs'] = df['sms_pcs'].fillna(0)\n",
    "df['internet_mb'] = df['internet_mb'].fillna(0)\n",
    "\n",
    "df['month'] = df['month'].astype('str')\n",
    "df['calls_pcs'] = df['calls_pcs'].astype('int')\n",
    "df['calls_minutes'] = df['calls_minutes'].astype('int')\n",
    "df['sms_pcs'] = df['sms_pcs'].astype('int')\n",
    "df['internet_mb'] = df['internet_mb'].astype('int')\n",
    "df['monthly_revenue'] = df['monthly_revenue'].astype('int')\n",
    "df.info()\n",
    "df.isna().sum()"
   ]
  },
  {
   "cell_type": "markdown",
   "metadata": {},
   "source": [
    "Посчитали для каждого пользователя:  \n",
    "- количество сделанных звонков и израсходованных минут разговора по месяцам;\n",
    "- количество отправленных сообщений по месяцам;\n",
    "- объем израсходованного интернет-трафика по месяцам.  \n",
    "\n",
    "Посчитали помесячную выручку с каждого пользователя (вычли бесплатный лимит из суммарного количества звонков, сообщений и интернет-трафика; остаток умножили на значение из тарифного плана; прибавили абонентскую плату, соответствующую тарифному плану)."
   ]
  },
  {
   "cell_type": "markdown",
   "metadata": {},
   "source": [
    "## Анализ данных"
   ]
  },
  {
   "cell_type": "markdown",
   "metadata": {},
   "source": [
    "Рассмотрим поведение клиентов оператора, исходя из выборки."
   ]
  },
  {
   "cell_type": "code",
   "execution_count": 17,
   "metadata": {
    "scrolled": false
   },
   "outputs": [
    {
     "data": {
      "text/html": [
       "<div>\n",
       "<style scoped>\n",
       "    .dataframe tbody tr th:only-of-type {\n",
       "        vertical-align: middle;\n",
       "    }\n",
       "\n",
       "    .dataframe tbody tr th {\n",
       "        vertical-align: top;\n",
       "    }\n",
       "\n",
       "    .dataframe thead th {\n",
       "        text-align: right;\n",
       "    }\n",
       "</style>\n",
       "<table border=\"1\" class=\"dataframe\">\n",
       "  <thead>\n",
       "    <tr style=\"text-align: right;\">\n",
       "      <th></th>\n",
       "      <th>user_id</th>\n",
       "      <th>month</th>\n",
       "      <th>calls_pcs</th>\n",
       "      <th>calls_minutes</th>\n",
       "      <th>sms_pcs</th>\n",
       "      <th>internet_mb</th>\n",
       "      <th>city</th>\n",
       "      <th>tariff</th>\n",
       "      <th>monthly_revenue</th>\n",
       "    </tr>\n",
       "  </thead>\n",
       "  <tbody>\n",
       "    <tr>\n",
       "      <th>1703</th>\n",
       "      <td>1157</td>\n",
       "      <td>8.0</td>\n",
       "      <td>70.0</td>\n",
       "      <td>450.0</td>\n",
       "      <td>0.0</td>\n",
       "      <td>18428.0</td>\n",
       "      <td>Москва</td>\n",
       "      <td>smart</td>\n",
       "      <td>1149.0</td>\n",
       "    </tr>\n",
       "  </tbody>\n",
       "</table>\n",
       "</div>"
      ],
      "text/plain": [
       "     user_id month  calls_pcs  calls_minutes  sms_pcs  internet_mb    city  \\\n",
       "1703    1157   8.0       70.0          450.0      0.0      18428.0  Москва   \n",
       "\n",
       "     tariff  monthly_revenue  \n",
       "1703  smart           1149.0  "
      ]
     },
     "metadata": {},
     "output_type": "display_data"
    },
    {
     "data": {
      "text/html": [
       "<div>\n",
       "<style scoped>\n",
       "    .dataframe tbody tr th:only-of-type {\n",
       "        vertical-align: middle;\n",
       "    }\n",
       "\n",
       "    .dataframe tbody tr th {\n",
       "        vertical-align: top;\n",
       "    }\n",
       "\n",
       "    .dataframe thead th {\n",
       "        text-align: right;\n",
       "    }\n",
       "</style>\n",
       "<table border=\"1\" class=\"dataframe\">\n",
       "  <thead>\n",
       "    <tr style=\"text-align: right;\">\n",
       "      <th></th>\n",
       "      <th>user_id</th>\n",
       "      <th>month</th>\n",
       "      <th>calls_pcs</th>\n",
       "      <th>calls_minutes</th>\n",
       "      <th>sms_pcs</th>\n",
       "      <th>internet_mb</th>\n",
       "      <th>city</th>\n",
       "      <th>tariff</th>\n",
       "      <th>monthly_revenue</th>\n",
       "    </tr>\n",
       "  </thead>\n",
       "  <tbody>\n",
       "    <tr>\n",
       "      <th>2771</th>\n",
       "      <td>NaN</td>\n",
       "      <td>NaN</td>\n",
       "      <td>NaN</td>\n",
       "      <td>NaN</td>\n",
       "      <td>NaN</td>\n",
       "      <td>NaN</td>\n",
       "      <td>NaN</td>\n",
       "      <td>NaN</td>\n",
       "      <td>NaN</td>\n",
       "    </tr>\n",
       "  </tbody>\n",
       "</table>\n",
       "</div>"
      ],
      "text/plain": [
       "     user_id month  calls_pcs  calls_minutes  sms_pcs  internet_mb city  \\\n",
       "2771     NaN   NaN        NaN            NaN      NaN          NaN  NaN   \n",
       "\n",
       "     tariff  monthly_revenue  \n",
       "2771    NaN              NaN  "
      ]
     },
     "metadata": {},
     "output_type": "display_data"
    },
    {
     "name": "stdout",
     "output_type": "stream",
     "text": [
      "<class 'pandas.core.frame.DataFrame'>\n",
      "Int64Index: 3214 entries, 0 to 3214\n",
      "Data columns (total 9 columns):\n",
      " #   Column           Non-Null Count  Dtype  \n",
      "---  ------           --------------  -----  \n",
      " 0   user_id          2229 non-null   object \n",
      " 1   month            2229 non-null   object \n",
      " 2   calls_pcs        2229 non-null   float64\n",
      " 3   calls_minutes    2229 non-null   float64\n",
      " 4   sms_pcs          2229 non-null   float64\n",
      " 5   internet_mb      2229 non-null   float64\n",
      " 6   city             2229 non-null   object \n",
      " 7   tariff           2229 non-null   object \n",
      " 8   monthly_revenue  2229 non-null   float64\n",
      "dtypes: float64(5), object(4)\n",
      "memory usage: 251.1+ KB\n",
      "<class 'pandas.core.frame.DataFrame'>\n",
      "Int64Index: 3214 entries, 0 to 3214\n",
      "Data columns (total 9 columns):\n",
      " #   Column           Non-Null Count  Dtype  \n",
      "---  ------           --------------  -----  \n",
      " 0   user_id          985 non-null    object \n",
      " 1   month            985 non-null    object \n",
      " 2   calls_pcs        985 non-null    float64\n",
      " 3   calls_minutes    985 non-null    float64\n",
      " 4   sms_pcs          985 non-null    float64\n",
      " 5   internet_mb      985 non-null    float64\n",
      " 6   city             985 non-null    object \n",
      " 7   tariff           985 non-null    object \n",
      " 8   monthly_revenue  985 non-null    float64\n",
      "dtypes: float64(5), object(4)\n",
      "memory usage: 251.1+ KB\n"
     ]
    }
   ],
   "source": [
    "# отсортируем базу данных по тарифам в две новые базы данных\n",
    "df_smart = df.where(df['tariff'] == 'smart')\n",
    "df_ultra = df.where(df['tariff'] == 'ultra')\n",
    "display(df_smart.sample())\n",
    "display(df_ultra.sample())\n",
    "df_smart.info()\n",
    "df_ultra.info()"
   ]
  },
  {
   "cell_type": "code",
   "execution_count": 18,
   "metadata": {
    "scrolled": false
   },
   "outputs": [
    {
     "data": {
      "text/html": [
       "<div>\n",
       "<style scoped>\n",
       "    .dataframe tbody tr th:only-of-type {\n",
       "        vertical-align: middle;\n",
       "    }\n",
       "\n",
       "    .dataframe tbody tr th {\n",
       "        vertical-align: top;\n",
       "    }\n",
       "\n",
       "    .dataframe thead th {\n",
       "        text-align: right;\n",
       "    }\n",
       "</style>\n",
       "<table border=\"1\" class=\"dataframe\">\n",
       "  <thead>\n",
       "    <tr style=\"text-align: right;\">\n",
       "      <th></th>\n",
       "      <th>calls_pcs</th>\n",
       "      <th>calls_minutes</th>\n",
       "      <th>sms_pcs</th>\n",
       "      <th>internet_mb</th>\n",
       "      <th>monthly_revenue</th>\n",
       "    </tr>\n",
       "  </thead>\n",
       "  <tbody>\n",
       "    <tr>\n",
       "      <th>count</th>\n",
       "      <td>2229.000000</td>\n",
       "      <td>2229.000000</td>\n",
       "      <td>2229.000000</td>\n",
       "      <td>2229.000000</td>\n",
       "      <td>2229.000000</td>\n",
       "    </tr>\n",
       "    <tr>\n",
       "      <th>mean</th>\n",
       "      <td>58.463437</td>\n",
       "      <td>417.934948</td>\n",
       "      <td>33.384029</td>\n",
       "      <td>16207.879318</td>\n",
       "      <td>1259.344549</td>\n",
       "    </tr>\n",
       "    <tr>\n",
       "      <th>std</th>\n",
       "      <td>25.939858</td>\n",
       "      <td>190.313730</td>\n",
       "      <td>28.227876</td>\n",
       "      <td>5870.480175</td>\n",
       "      <td>778.152371</td>\n",
       "    </tr>\n",
       "    <tr>\n",
       "      <th>min</th>\n",
       "      <td>0.000000</td>\n",
       "      <td>0.000000</td>\n",
       "      <td>0.000000</td>\n",
       "      <td>0.000000</td>\n",
       "      <td>550.000000</td>\n",
       "    </tr>\n",
       "    <tr>\n",
       "      <th>25%</th>\n",
       "      <td>40.000000</td>\n",
       "      <td>282.000000</td>\n",
       "      <td>10.000000</td>\n",
       "      <td>12643.000000</td>\n",
       "      <td>652.000000</td>\n",
       "    </tr>\n",
       "    <tr>\n",
       "      <th>50%</th>\n",
       "      <td>60.000000</td>\n",
       "      <td>422.000000</td>\n",
       "      <td>28.000000</td>\n",
       "      <td>16506.000000</td>\n",
       "      <td>979.000000</td>\n",
       "    </tr>\n",
       "    <tr>\n",
       "      <th>75%</th>\n",
       "      <td>76.000000</td>\n",
       "      <td>545.000000</td>\n",
       "      <td>51.000000</td>\n",
       "      <td>20042.000000</td>\n",
       "      <td>1670.000000</td>\n",
       "    </tr>\n",
       "    <tr>\n",
       "      <th>max</th>\n",
       "      <td>198.000000</td>\n",
       "      <td>1435.000000</td>\n",
       "      <td>143.000000</td>\n",
       "      <td>38552.000000</td>\n",
       "      <td>6600.000000</td>\n",
       "    </tr>\n",
       "  </tbody>\n",
       "</table>\n",
       "</div>"
      ],
      "text/plain": [
       "         calls_pcs  calls_minutes      sms_pcs   internet_mb  monthly_revenue\n",
       "count  2229.000000    2229.000000  2229.000000   2229.000000      2229.000000\n",
       "mean     58.463437     417.934948    33.384029  16207.879318      1259.344549\n",
       "std      25.939858     190.313730    28.227876   5870.480175       778.152371\n",
       "min       0.000000       0.000000     0.000000      0.000000       550.000000\n",
       "25%      40.000000     282.000000    10.000000  12643.000000       652.000000\n",
       "50%      60.000000     422.000000    28.000000  16506.000000       979.000000\n",
       "75%      76.000000     545.000000    51.000000  20042.000000      1670.000000\n",
       "max     198.000000    1435.000000   143.000000  38552.000000      6600.000000"
      ]
     },
     "metadata": {},
     "output_type": "display_data"
    },
    {
     "data": {
      "text/html": [
       "<div>\n",
       "<style scoped>\n",
       "    .dataframe tbody tr th:only-of-type {\n",
       "        vertical-align: middle;\n",
       "    }\n",
       "\n",
       "    .dataframe tbody tr th {\n",
       "        vertical-align: top;\n",
       "    }\n",
       "\n",
       "    .dataframe thead th {\n",
       "        text-align: right;\n",
       "    }\n",
       "</style>\n",
       "<table border=\"1\" class=\"dataframe\">\n",
       "  <thead>\n",
       "    <tr style=\"text-align: right;\">\n",
       "      <th></th>\n",
       "      <th>calls_pcs</th>\n",
       "      <th>calls_minutes</th>\n",
       "      <th>sms_pcs</th>\n",
       "      <th>internet_mb</th>\n",
       "      <th>monthly_revenue</th>\n",
       "    </tr>\n",
       "  </thead>\n",
       "  <tbody>\n",
       "    <tr>\n",
       "      <th>count</th>\n",
       "      <td>985.000000</td>\n",
       "      <td>985.000000</td>\n",
       "      <td>985.000000</td>\n",
       "      <td>985.000000</td>\n",
       "      <td>985.000000</td>\n",
       "    </tr>\n",
       "    <tr>\n",
       "      <th>mean</th>\n",
       "      <td>73.392893</td>\n",
       "      <td>526.623350</td>\n",
       "      <td>49.363452</td>\n",
       "      <td>19468.322843</td>\n",
       "      <td>2817.543147</td>\n",
       "    </tr>\n",
       "    <tr>\n",
       "      <th>std</th>\n",
       "      <td>43.916853</td>\n",
       "      <td>317.606098</td>\n",
       "      <td>47.804457</td>\n",
       "      <td>10087.173788</td>\n",
       "      <td>480.072410</td>\n",
       "    </tr>\n",
       "    <tr>\n",
       "      <th>min</th>\n",
       "      <td>0.000000</td>\n",
       "      <td>0.000000</td>\n",
       "      <td>0.000000</td>\n",
       "      <td>0.000000</td>\n",
       "      <td>1950.000000</td>\n",
       "    </tr>\n",
       "    <tr>\n",
       "      <th>25%</th>\n",
       "      <td>41.000000</td>\n",
       "      <td>284.000000</td>\n",
       "      <td>6.000000</td>\n",
       "      <td>11770.000000</td>\n",
       "      <td>2824.000000</td>\n",
       "    </tr>\n",
       "    <tr>\n",
       "      <th>50%</th>\n",
       "      <td>74.000000</td>\n",
       "      <td>518.000000</td>\n",
       "      <td>38.000000</td>\n",
       "      <td>19308.000000</td>\n",
       "      <td>2895.000000</td>\n",
       "    </tr>\n",
       "    <tr>\n",
       "      <th>75%</th>\n",
       "      <td>104.000000</td>\n",
       "      <td>752.000000</td>\n",
       "      <td>79.000000</td>\n",
       "      <td>26837.000000</td>\n",
       "      <td>2931.000000</td>\n",
       "    </tr>\n",
       "    <tr>\n",
       "      <th>max</th>\n",
       "      <td>244.000000</td>\n",
       "      <td>1673.000000</td>\n",
       "      <td>224.000000</td>\n",
       "      <td>49745.000000</td>\n",
       "      <td>5615.000000</td>\n",
       "    </tr>\n",
       "  </tbody>\n",
       "</table>\n",
       "</div>"
      ],
      "text/plain": [
       "        calls_pcs  calls_minutes     sms_pcs   internet_mb  monthly_revenue\n",
       "count  985.000000     985.000000  985.000000    985.000000       985.000000\n",
       "mean    73.392893     526.623350   49.363452  19468.322843      2817.543147\n",
       "std     43.916853     317.606098   47.804457  10087.173788       480.072410\n",
       "min      0.000000       0.000000    0.000000      0.000000      1950.000000\n",
       "25%     41.000000     284.000000    6.000000  11770.000000      2824.000000\n",
       "50%     74.000000     518.000000   38.000000  19308.000000      2895.000000\n",
       "75%    104.000000     752.000000   79.000000  26837.000000      2931.000000\n",
       "max    244.000000    1673.000000  224.000000  49745.000000      5615.000000"
      ]
     },
     "metadata": {},
     "output_type": "display_data"
    },
    {
     "data": {
      "text/html": [
       "<div>\n",
       "<style scoped>\n",
       "    .dataframe tbody tr th:only-of-type {\n",
       "        vertical-align: middle;\n",
       "    }\n",
       "\n",
       "    .dataframe tbody tr th {\n",
       "        vertical-align: top;\n",
       "    }\n",
       "\n",
       "    .dataframe thead th {\n",
       "        text-align: right;\n",
       "    }\n",
       "</style>\n",
       "<table border=\"1\" class=\"dataframe\">\n",
       "  <thead>\n",
       "    <tr style=\"text-align: right;\">\n",
       "      <th></th>\n",
       "      <th>calls_pcs</th>\n",
       "      <th>calls_minutes</th>\n",
       "      <th>sms_pcs</th>\n",
       "      <th>internet_mb</th>\n",
       "      <th>monthly_revenue</th>\n",
       "    </tr>\n",
       "  </thead>\n",
       "  <tbody>\n",
       "    <tr>\n",
       "      <th>count</th>\n",
       "      <td>3214.000000</td>\n",
       "      <td>3214.000000</td>\n",
       "      <td>3214.000000</td>\n",
       "      <td>3214.000000</td>\n",
       "      <td>3214.000000</td>\n",
       "    </tr>\n",
       "    <tr>\n",
       "      <th>mean</th>\n",
       "      <td>63.038892</td>\n",
       "      <td>451.244866</td>\n",
       "      <td>38.281269</td>\n",
       "      <td>17207.112943</td>\n",
       "      <td>1736.888301</td>\n",
       "    </tr>\n",
       "    <tr>\n",
       "      <th>std</th>\n",
       "      <td>33.236368</td>\n",
       "      <td>241.909978</td>\n",
       "      <td>36.148326</td>\n",
       "      <td>7570.964206</td>\n",
       "      <td>1003.340171</td>\n",
       "    </tr>\n",
       "    <tr>\n",
       "      <th>min</th>\n",
       "      <td>0.000000</td>\n",
       "      <td>0.000000</td>\n",
       "      <td>0.000000</td>\n",
       "      <td>0.000000</td>\n",
       "      <td>550.000000</td>\n",
       "    </tr>\n",
       "    <tr>\n",
       "      <th>25%</th>\n",
       "      <td>40.000000</td>\n",
       "      <td>282.000000</td>\n",
       "      <td>9.000000</td>\n",
       "      <td>12491.250000</td>\n",
       "      <td>709.250000</td>\n",
       "    </tr>\n",
       "    <tr>\n",
       "      <th>50%</th>\n",
       "      <td>62.000000</td>\n",
       "      <td>443.000000</td>\n",
       "      <td>30.000000</td>\n",
       "      <td>16942.500000</td>\n",
       "      <td>1593.000000</td>\n",
       "    </tr>\n",
       "    <tr>\n",
       "      <th>75%</th>\n",
       "      <td>82.000000</td>\n",
       "      <td>589.000000</td>\n",
       "      <td>57.000000</td>\n",
       "      <td>21424.000000</td>\n",
       "      <td>2847.000000</td>\n",
       "    </tr>\n",
       "    <tr>\n",
       "      <th>max</th>\n",
       "      <td>244.000000</td>\n",
       "      <td>1673.000000</td>\n",
       "      <td>224.000000</td>\n",
       "      <td>49745.000000</td>\n",
       "      <td>6600.000000</td>\n",
       "    </tr>\n",
       "  </tbody>\n",
       "</table>\n",
       "</div>"
      ],
      "text/plain": [
       "         calls_pcs  calls_minutes      sms_pcs   internet_mb  monthly_revenue\n",
       "count  3214.000000    3214.000000  3214.000000   3214.000000      3214.000000\n",
       "mean     63.038892     451.244866    38.281269  17207.112943      1736.888301\n",
       "std      33.236368     241.909978    36.148326   7570.964206      1003.340171\n",
       "min       0.000000       0.000000     0.000000      0.000000       550.000000\n",
       "25%      40.000000     282.000000     9.000000  12491.250000       709.250000\n",
       "50%      62.000000     443.000000    30.000000  16942.500000      1593.000000\n",
       "75%      82.000000     589.000000    57.000000  21424.000000      2847.000000\n",
       "max     244.000000    1673.000000   224.000000  49745.000000      6600.000000"
      ]
     },
     "execution_count": 18,
     "metadata": {},
     "output_type": "execute_result"
    }
   ],
   "source": [
    "# описательные статистики\n",
    "display(df_smart.describe())\n",
    "display(df_ultra.describe())\n",
    "df.describe()"
   ]
  },
  {
   "cell_type": "code",
   "execution_count": 19,
   "metadata": {
    "scrolled": false
   },
   "outputs": [
    {
     "data": {
      "text/html": [
       "<div>\n",
       "<style scoped>\n",
       "    .dataframe tbody tr th:only-of-type {\n",
       "        vertical-align: middle;\n",
       "    }\n",
       "\n",
       "    .dataframe tbody tr th {\n",
       "        vertical-align: top;\n",
       "    }\n",
       "\n",
       "    .dataframe thead th {\n",
       "        text-align: right;\n",
       "    }\n",
       "</style>\n",
       "<table border=\"1\" class=\"dataframe\">\n",
       "  <thead>\n",
       "    <tr style=\"text-align: right;\">\n",
       "      <th></th>\n",
       "      <th>calls_pcs</th>\n",
       "      <th>calls_minutes</th>\n",
       "      <th>sms_pcs</th>\n",
       "      <th>internet_mb</th>\n",
       "      <th>monthly_revenue</th>\n",
       "    </tr>\n",
       "  </thead>\n",
       "  <tbody>\n",
       "    <tr>\n",
       "      <th>calls_pcs</th>\n",
       "      <td>1.000000</td>\n",
       "      <td>0.980975</td>\n",
       "      <td>0.177385</td>\n",
       "      <td>0.286441</td>\n",
       "      <td>0.330634</td>\n",
       "    </tr>\n",
       "    <tr>\n",
       "      <th>calls_minutes</th>\n",
       "      <td>0.980975</td>\n",
       "      <td>1.000000</td>\n",
       "      <td>0.172391</td>\n",
       "      <td>0.280415</td>\n",
       "      <td>0.333907</td>\n",
       "    </tr>\n",
       "    <tr>\n",
       "      <th>sms_pcs</th>\n",
       "      <td>0.177385</td>\n",
       "      <td>0.172391</td>\n",
       "      <td>1.000000</td>\n",
       "      <td>0.195721</td>\n",
       "      <td>0.231841</td>\n",
       "    </tr>\n",
       "    <tr>\n",
       "      <th>internet_mb</th>\n",
       "      <td>0.286441</td>\n",
       "      <td>0.280415</td>\n",
       "      <td>0.195721</td>\n",
       "      <td>1.000000</td>\n",
       "      <td>0.567825</td>\n",
       "    </tr>\n",
       "    <tr>\n",
       "      <th>monthly_revenue</th>\n",
       "      <td>0.330634</td>\n",
       "      <td>0.333907</td>\n",
       "      <td>0.231841</td>\n",
       "      <td>0.567825</td>\n",
       "      <td>1.000000</td>\n",
       "    </tr>\n",
       "  </tbody>\n",
       "</table>\n",
       "</div>"
      ],
      "text/plain": [
       "                 calls_pcs  calls_minutes   sms_pcs  internet_mb  \\\n",
       "calls_pcs         1.000000       0.980975  0.177385     0.286441   \n",
       "calls_minutes     0.980975       1.000000  0.172391     0.280415   \n",
       "sms_pcs           0.177385       0.172391  1.000000     0.195721   \n",
       "internet_mb       0.286441       0.280415  0.195721     1.000000   \n",
       "monthly_revenue   0.330634       0.333907  0.231841     0.567825   \n",
       "\n",
       "                 monthly_revenue  \n",
       "calls_pcs               0.330634  \n",
       "calls_minutes           0.333907  \n",
       "sms_pcs                 0.231841  \n",
       "internet_mb             0.567825  \n",
       "monthly_revenue         1.000000  "
      ]
     },
     "execution_count": 19,
     "metadata": {},
     "output_type": "execute_result"
    },
    {
     "data": {
      "image/png": "[encoded data removed]",
      "text/plain": [
       "<Figure size 648x648 with 25 Axes>"
      ]
     },
     "metadata": {
      "needs_background": "light"
     },
     "output_type": "display_data"
    }
   ],
   "source": [
    "# диаграмма рассеяния и коэффициент корреляции\n",
    "pd.plotting.scatter_matrix(df, figsize=(9, 9))\n",
    "df.corr()"
   ]
  },
  {
   "cell_type": "markdown",
   "metadata": {},
   "source": [
    "Хорошо видны зависимости увеличения расходов на связь, при увеличении интернет-трафика и количества минут, это значит, что пользователи выходят за лимиты тарифных планов. Заметны растущие распределения по месяцам. И прослеживается разница в зависимостях от использования двух разных тарифах, при использовании интернета, смс и звонков."
   ]
  },
  {
   "cell_type": "code",
   "execution_count": 20,
   "metadata": {},
   "outputs": [
    {
     "data": {
      "text/plain": [
       "calls_pcs          1.104656e+03\n",
       "calls_minutes      5.852044e+04\n",
       "sms_pcs            1.306701e+03\n",
       "internet_mb        5.731950e+07\n",
       "monthly_revenue    1.006691e+06\n",
       "dtype: float64"
      ]
     },
     "metadata": {},
     "output_type": "display_data"
    },
    {
     "data": {
      "text/plain": [
       "calls_pcs          6.728762e+02\n",
       "calls_minutes      3.621932e+04\n",
       "sms_pcs            7.968130e+02\n",
       "internet_mb        3.446254e+07\n",
       "monthly_revenue    6.055211e+05\n",
       "dtype: float64"
      ]
     },
     "metadata": {},
     "output_type": "display_data"
    },
    {
     "data": {
      "text/plain": [
       "calls_pcs          1.928690e+03\n",
       "calls_minutes      1.008736e+05\n",
       "sms_pcs            2.285266e+03\n",
       "internet_mb        1.017511e+08\n",
       "monthly_revenue    2.304695e+05\n",
       "dtype: float64"
      ]
     },
     "execution_count": 20,
     "metadata": {},
     "output_type": "execute_result"
    }
   ],
   "source": [
    "# дисперсия\n",
    "display(df.var())\n",
    "display(df_smart.var())\n",
    "df_ultra.var()"
   ]
  },
  {
   "cell_type": "code",
   "execution_count": 21,
   "metadata": {
    "scrolled": false
   },
   "outputs": [
    {
     "data": {
      "image/png": "[encoded data removed]",
      "text/plain": [
       "<Figure size 648x360 with 1 Axes>"
      ]
     },
     "metadata": {
      "needs_background": "light"
     },
     "output_type": "display_data"
    },
    {
     "data": {
      "image/png": "[encoded data removed]",
      "text/plain": [
       "<Figure size 648x360 with 1 Axes>"
      ]
     },
     "metadata": {
      "needs_background": "light"
     },
     "output_type": "display_data"
    }
   ],
   "source": [
    "# минуты в месяц по разным тарифам\n",
    "df_smart.pivot_table(index = 'month',\n",
    "                     values = 'calls_minutes',\n",
    "                     aggfunc = 'mean').reset_index().sort_values(by='month').plot(kind = 'bar',\n",
    "                                            grid=True, color = 'g', ec='black', fontsize=13, figsize=(9,5))\n",
    "plt.legend(['Количество минут в месяц Smart'], loc = 1)\n",
    "plt.xticks(rotation=0)\n",
    "plt.show()\n",
    "\n",
    "df_ultra.pivot_table(index = 'month',\n",
    "                     values = 'calls_minutes',\n",
    "                     aggfunc = 'mean').reset_index().sort_values(by='month').plot(kind = 'bar',\n",
    "                                            grid=True, color = 'g', ec='black', fontsize=13, figsize=(9,5))\n",
    "plt.legend(['Количество минут в месяц Ultra'], loc = 1)\n",
    "plt.xticks(rotation=0)\n",
    "plt.show()"
   ]
  },
  {
   "cell_type": "markdown",
   "metadata": {},
   "source": [
    "Несмотря на лимиты тарифных планов, пользователи тратят примерно одинаковое количество минут: на Ultra больше, в среднем, на 110 минут.\n",
    "Что-то произошло в 4-м месяце, возможно, были сбои в сети оператора, потрачено всего 300 минут у обеих групп.  \n",
    "В остальном распределение равномерное, даже совпадает по месяцам."
   ]
  },
  {
   "cell_type": "code",
   "execution_count": 22,
   "metadata": {
    "scrolled": false
   },
   "outputs": [
    {
     "data": {
      "image/png": "[encoded data removed]",
      "text/plain": [
       "<Figure size 648x360 with 1 Axes>"
      ]
     },
     "metadata": {
      "needs_background": "light"
     },
     "output_type": "display_data"
    },
    {
     "data": {
      "image/png": "[encoded data removed]",
      "text/plain": [
       "<Figure size 648x360 with 1 Axes>"
      ]
     },
     "metadata": {
      "needs_background": "light"
     },
     "output_type": "display_data"
    }
   ],
   "source": [
    "# сообщений в месяц по разным тарифам\n",
    "df_smart.pivot_table(index = 'month',\n",
    "                     values = 'sms_pcs',\n",
    "                     aggfunc = 'mean').reset_index().sort_values(by='month').plot(kind = 'bar',\n",
    "                                            grid=True, color = 'g', ec='black', fontsize=13, figsize=(9,5))\n",
    "plt.legend(['Количество сообщений в месяц Smart'], loc = 1)\n",
    "plt.xticks(rotation=0)\n",
    "plt.show()\n",
    "\n",
    "df_ultra.pivot_table(index = 'month',\n",
    "                     values = 'sms_pcs',\n",
    "                     aggfunc = 'mean').reset_index().sort_values(by='month').plot(kind = 'bar',\n",
    "                                            grid=True, color = 'g', ec='black', fontsize=13, figsize=(9,5))\n",
    "plt.legend(['Количество сообщений в месяц Ultra'], loc = 1)\n",
    "plt.xticks(rotation=0)\n",
    "plt.show()"
   ]
  },
  {
   "cell_type": "markdown",
   "metadata": {},
   "source": [
    "Абоненты вообще не выходят за границы тарифного лимита, максимальное количество отправленных сообщений: `224`, что в 4,5 раза меньше лимита тарифа Ultra. В среднем же по всей базе тратится не более `39` сообщений в месяц. Сообщения не пользуются популярностью."
   ]
  },
  {
   "cell_type": "code",
   "execution_count": 23,
   "metadata": {
    "scrolled": false
   },
   "outputs": [
    {
     "data": {
      "image/png": "[encoded data removed]",
      "text/plain": [
       "<Figure size 648x360 with 1 Axes>"
      ]
     },
     "metadata": {
      "needs_background": "light"
     },
     "output_type": "display_data"
    },
    {
     "data": {
      "image/png": "[encoded data removed]",
      "text/plain": [
       "<Figure size 648x360 with 1 Axes>"
      ]
     },
     "metadata": {
      "needs_background": "light"
     },
     "output_type": "display_data"
    }
   ],
   "source": [
    "# интернет-трафик в месяц по разным тарифам\n",
    "df_smart.pivot_table(index = 'month',\n",
    "                     values = 'internet_mb',\n",
    "                     aggfunc = 'mean').reset_index().sort_values(by='month').plot(kind = 'bar',\n",
    "                                            grid=True, color = 'g', ec='black', fontsize=13, figsize=(9,5))\n",
    "plt.legend(['Интернет-трафик в месяц Smart'], loc = 1)\n",
    "plt.xticks(rotation=0)\n",
    "plt.show()\n",
    "\n",
    "df_ultra.pivot_table(index = 'month',\n",
    "                     values = 'internet_mb',\n",
    "                     aggfunc = 'mean').reset_index().sort_values(by='month').plot(kind = 'bar',\n",
    "                                            grid=True, color = 'g', ec='black', fontsize=13, figsize=(9,5))\n",
    "plt.legend(['Интернет-трафик в месяц Ultra'], loc = 1)\n",
    "plt.xticks(rotation=0)\n",
    "plt.show()"
   ]
  },
  {
   "cell_type": "markdown",
   "metadata": {},
   "source": [
    "Больше половины пользователей превышают лимит интернета тарифного плана Smart, в среднем используя более `16gb` интернет-трафика. В Ultra большинство не выходит за лимиты, в среднем не более `20gb`."
   ]
  },
  {
   "cell_type": "markdown",
   "metadata": {},
   "source": [
    "Построим гистрограммы распределений расхода пользователями звонков, сообщений и интернет-трафика по тарифам."
   ]
  },
  {
   "cell_type": "code",
   "execution_count": 24,
   "metadata": {
    "scrolled": true
   },
   "outputs": [
    {
     "data": {
      "image/png": "[encoded data removed]",
      "text/plain": [
       "<Figure size 1224x288 with 3 Axes>"
      ]
     },
     "metadata": {},
     "output_type": "display_data"
    }
   ],
   "source": [
    "#гистограммы:\n",
    "sns.set_theme(style=\"whitegrid\", palette=\"Greens_r\")\n",
    "fig,axes=plt.subplots(1,3)\n",
    "fig.set_size_inches(17, 4)\n",
    "ax = sns.histplot(df, x='calls_minutes', hue='tariff', kde=True, stat='density', linewidth=0,  ax = axes[0])\n",
    "ax1 = sns.histplot(df, x='sms_pcs', hue='tariff', kde=True, stat='density', linewidth=0, ax = axes[1])\n",
    "ax2 = sns.histplot(df, x='internet_mb', hue='tariff', kde=True, stat='density', linewidth=0, ax = axes[2])\n",
    "\n",
    "ax.set(title = 'Звонки',\n",
    "      xlabel = 'Минуты',\n",
    "      ylabel = 'Плотность')\n",
    "ax1.set(title = 'Сообщения',\n",
    "      xlabel = 'SMS, шт.',\n",
    "      ylabel = '')\n",
    "ax2.set(title = 'Интернет-трафик',\n",
    "      xlabel = 'Мбайт',\n",
    "      ylabel = '')\n",
    "     \n",
    "plt.show()"
   ]
  },
  {
   "cell_type": "markdown",
   "metadata": {},
   "source": [
    "Распределения по тарифам близки к нормальным. Тариф `Ultra` смещён вправо относительно тарифа `Smart`, что логично, исходя из количества предоставляемых лимитов тарифных планов. Распределение количества сообщений близко к геометрическому распределению, sms в современном мире используются крайне редко."
   ]
  },
  {
   "cell_type": "markdown",
   "metadata": {},
   "source": [
    "## Проверка гипотез"
   ]
  },
  {
   "cell_type": "markdown",
   "metadata": {},
   "source": [
    "### Проверим гипотезы по тарифам:\n",
    "\n",
    "* H0: выручка пользователей тарифов «Ультра» и «Смарт» не различается\n",
    "* H1: выручка пользователей тарифов «Ультра» и «Смарт» различается\n",
    "* Пороговое значение `alpha`: `0.05`"
   ]
  },
  {
   "cell_type": "markdown",
   "metadata": {},
   "source": [
    "Т.к. выборки у нас независимые и количество данных в них больше 50, используем t-критерий Стьюдента. К тому же в обеих измерена одна и та же переменная — нет оснований полагать, что разброс будет сильно отличаться."
   ]
  },
  {
   "cell_type": "code",
   "execution_count": 25,
   "metadata": {},
   "outputs": [
    {
     "data": {
      "text/plain": [
       "-1074.5888483495041"
      ]
     },
     "metadata": {},
     "output_type": "display_data"
    },
    {
     "data": {
      "text/plain": [
       "3593.2779465998406"
      ]
     },
     "metadata": {},
     "output_type": "display_data"
    },
    {
     "data": {
      "text/plain": [
       "(1259.3445491251682, 979.0)"
      ]
     },
     "execution_count": 25,
     "metadata": {},
     "output_type": "execute_result"
    }
   ],
   "source": [
    "# посчитаем стандартное отклонение, среднее, медиану и границы интервалов для месячной выручки тарифа Smart\n",
    "std_smart = np.std(df_smart['monthly_revenue'])\n",
    "range_limit_smart_1 = df_smart['monthly_revenue'].mean() - 3*std_smart\n",
    "range_limit_smart_2 = df_smart['monthly_revenue'].mean() + 3*std_smart\n",
    "display(range_limit_smart_1, range_limit_smart_2)\n",
    "df_smart['monthly_revenue'].mean(), df_smart['monthly_revenue'].median()"
   ]
  },
  {
   "cell_type": "markdown",
   "metadata": {},
   "source": [
    "Выборка скошена вправо, медиана меньше среднего."
   ]
  },
  {
   "cell_type": "code",
   "execution_count": 26,
   "metadata": {
    "scrolled": true
   },
   "outputs": [
    {
     "data": {
      "text/plain": [
       "1378.0571779885913"
      ]
     },
     "metadata": {},
     "output_type": "display_data"
    },
    {
     "data": {
      "text/plain": [
       "4257.029116427652"
      ]
     },
     "metadata": {},
     "output_type": "display_data"
    },
    {
     "data": {
      "text/plain": [
       "(2817.543147208122, 2895.0)"
      ]
     },
     "execution_count": 26,
     "metadata": {},
     "output_type": "execute_result"
    }
   ],
   "source": [
    "# посчитаем стандартное отклонение, среднее, медиану и границы интервалов для месячной выручки тарифа Ultra\n",
    "std_ultra = np.std(df_ultra['monthly_revenue'])\n",
    "range_limit_ultra_1 = df_ultra['monthly_revenue'].mean() - 3*std_ultra\n",
    "range_limit_ultra_2 = df_ultra['monthly_revenue'].mean() + 3*std_ultra\n",
    "display(range_limit_ultra_1, range_limit_ultra_2)\n",
    "df_ultra['monthly_revenue'].mean(), df_ultra['monthly_revenue'].median()"
   ]
  },
  {
   "cell_type": "markdown",
   "metadata": {},
   "source": [
    "Выборка немного скошена влево, медиана больше среднего."
   ]
  },
  {
   "cell_type": "code",
   "execution_count": 27,
   "metadata": {},
   "outputs": [
    {
     "name": "stdout",
     "output_type": "stream",
     "text": [
      "p-значение: 0.0\n",
      "Отвергаем нулевую гипотезу\n"
     ]
    }
   ],
   "source": [
    "# ограничим выборки по правилу 3-х сигм\n",
    "\n",
    "df_smart_mean = df_smart['monthly_revenue'][(df_smart['monthly_revenue'] <= range_limit_smart_2)]\n",
    "df_ultra_mean = df_ultra['monthly_revenue'][(df_ultra['monthly_revenue'\n",
    "                                                     ] <= range_limit_ultra_2)&(df_ultra['monthly_revenue'\n",
    "                                                                                        ] >= range_limit_ultra_1)]\n",
    "\n",
    "alpha = .05\n",
    "                \n",
    "results = st.ttest_ind(df_smart_mean, df_ultra_mean)\n",
    "                          \n",
    "print('p-значение:', results.pvalue)\n",
    "\n",
    "if results.pvalue < alpha:\n",
    "    print(\"Отвергаем нулевую гипотезу\")\n",
    "else:\n",
    "    print(\"Не получилось отвергнуть нулевую гипотезу\")"
   ]
  },
  {
   "cell_type": "markdown",
   "metadata": {},
   "source": [
    "Выручка пользователей тарифов «Ультра» и «Смарт» различается"
   ]
  },
  {
   "cell_type": "markdown",
   "metadata": {},
   "source": [
    "### Проверим гипотезы по городам:\n",
    "\n",
    "* H0: средняя выручка пользователей из Москвы не отличается от выручки пользователей из других регионов\n",
    "* H1: средняя выручка пользователей из Москвы отличается от выручки пользователей из других регионов\n",
    "* Пороговое значение alpha: 0.05"
   ]
  },
  {
   "cell_type": "markdown",
   "metadata": {},
   "source": [
    "Т.к. выборки у нас независимые и количество данных в них больше 50, используем t-критерий Стьюдента. К тому же в обеих измерена одна и та же переменная — нет оснований полагать, что разброс будет сильно отличаться."
   ]
  },
  {
   "cell_type": "code",
   "execution_count": 28,
   "metadata": {},
   "outputs": [
    {
     "data": {
      "text/plain": [
       "array(['Краснодар', 'Москва', 'Новокузнецк', 'Иваново', 'Омск', 'Уфа',\n",
       "       'Томск', 'Санкт-Петербург', 'Тверь', 'Ярославль', 'Тюмень',\n",
       "       'Ростов-на-Дону', 'Калуга', 'Тула', 'Волгоград', 'Саранск',\n",
       "       'Иркутск', 'Череповец', 'Набережные Челны', 'Новосибирск',\n",
       "       'Брянск', 'Тольятти', 'Нижний Тагил', 'Воронеж', 'Махачкала',\n",
       "       'Пермь', 'Сургут', 'Пенза', 'Мурманск', 'Самара',\n",
       "       'Нижний Новгород', 'Кемерово', 'Кострома', 'Оренбург', 'Чебоксары',\n",
       "       'Магнитогорск', 'Астрахань', 'Нижневартовск', 'Челябинск',\n",
       "       'Курган', 'Красноярск', 'Владивосток', 'Смоленск', 'Владимир',\n",
       "       'Казань', 'Саратов', 'Севастополь', 'Рязань', 'Екатеринбург',\n",
       "       'Стерлитамак', 'Ульяновск', 'Балашиха', 'Барнаул', 'Киров', 'Сочи',\n",
       "       'Вологда', 'Чита', 'Петрозаводск', 'Хабаровск', 'Ставрополь',\n",
       "       'Улан-Удэ', 'Курск', 'Якутск', 'Химки', 'Владикавказ', 'Ижевск',\n",
       "       'Орёл', 'Белгород', 'Архангельск', 'Липецк', 'Волжский', 'Тамбов',\n",
       "       'Калининград', 'Новороссийск', 'Грозный', 'Подольск'], dtype=object)"
      ]
     },
     "execution_count": 28,
     "metadata": {},
     "output_type": "execute_result"
    }
   ],
   "source": [
    "# посмотрим на все возможные города\n",
    "df['city'].unique()"
   ]
  },
  {
   "cell_type": "code",
   "execution_count": 29,
   "metadata": {},
   "outputs": [
    {
     "data": {
      "text/html": [
       "<div>\n",
       "<style scoped>\n",
       "    .dataframe tbody tr th:only-of-type {\n",
       "        vertical-align: middle;\n",
       "    }\n",
       "\n",
       "    .dataframe tbody tr th {\n",
       "        vertical-align: top;\n",
       "    }\n",
       "\n",
       "    .dataframe thead th {\n",
       "        text-align: right;\n",
       "    }\n",
       "</style>\n",
       "<table border=\"1\" class=\"dataframe\">\n",
       "  <thead>\n",
       "    <tr style=\"text-align: right;\">\n",
       "      <th></th>\n",
       "      <th>user_id</th>\n",
       "      <th>month</th>\n",
       "      <th>calls_pcs</th>\n",
       "      <th>calls_minutes</th>\n",
       "      <th>sms_pcs</th>\n",
       "      <th>internet_mb</th>\n",
       "      <th>city</th>\n",
       "      <th>tariff</th>\n",
       "      <th>monthly_revenue</th>\n",
       "    </tr>\n",
       "  </thead>\n",
       "  <tbody>\n",
       "    <tr>\n",
       "      <th>2402</th>\n",
       "      <td>NaN</td>\n",
       "      <td>NaN</td>\n",
       "      <td>NaN</td>\n",
       "      <td>NaN</td>\n",
       "      <td>NaN</td>\n",
       "      <td>NaN</td>\n",
       "      <td>NaN</td>\n",
       "      <td>NaN</td>\n",
       "      <td>NaN</td>\n",
       "    </tr>\n",
       "  </tbody>\n",
       "</table>\n",
       "</div>"
      ],
      "text/plain": [
       "     user_id month  calls_pcs  calls_minutes  sms_pcs  internet_mb city  \\\n",
       "2402     NaN   NaN        NaN            NaN      NaN          NaN  NaN   \n",
       "\n",
       "     tariff  monthly_revenue  \n",
       "2402    NaN              NaN  "
      ]
     },
     "metadata": {},
     "output_type": "display_data"
    },
    {
     "data": {
      "text/html": [
       "<div>\n",
       "<style scoped>\n",
       "    .dataframe tbody tr th:only-of-type {\n",
       "        vertical-align: middle;\n",
       "    }\n",
       "\n",
       "    .dataframe tbody tr th {\n",
       "        vertical-align: top;\n",
       "    }\n",
       "\n",
       "    .dataframe thead th {\n",
       "        text-align: right;\n",
       "    }\n",
       "</style>\n",
       "<table border=\"1\" class=\"dataframe\">\n",
       "  <thead>\n",
       "    <tr style=\"text-align: right;\">\n",
       "      <th></th>\n",
       "      <th>user_id</th>\n",
       "      <th>month</th>\n",
       "      <th>calls_pcs</th>\n",
       "      <th>calls_minutes</th>\n",
       "      <th>sms_pcs</th>\n",
       "      <th>internet_mb</th>\n",
       "      <th>city</th>\n",
       "      <th>tariff</th>\n",
       "      <th>monthly_revenue</th>\n",
       "    </tr>\n",
       "  </thead>\n",
       "  <tbody>\n",
       "    <tr>\n",
       "      <th>2637</th>\n",
       "      <td>1373</td>\n",
       "      <td>7.0</td>\n",
       "      <td>2.0</td>\n",
       "      <td>11.0</td>\n",
       "      <td>50.0</td>\n",
       "      <td>21507.0</td>\n",
       "      <td>Улан-Удэ</td>\n",
       "      <td>smart</td>\n",
       "      <td>1750.0</td>\n",
       "    </tr>\n",
       "  </tbody>\n",
       "</table>\n",
       "</div>"
      ],
      "text/plain": [
       "     user_id month  calls_pcs  calls_minutes  sms_pcs  internet_mb      city  \\\n",
       "2637    1373   7.0        2.0           11.0     50.0      21507.0  Улан-Удэ   \n",
       "\n",
       "     tariff  monthly_revenue  \n",
       "2637  smart           1750.0  "
      ]
     },
     "execution_count": 29,
     "metadata": {},
     "output_type": "execute_result"
    }
   ],
   "source": [
    "# создадим датасеты с регионами и Москвой\n",
    "df_moscow = df.where(df['city'] == 'Москва')\n",
    "df_regions = df.where(df['city'] != 'Москва')\n",
    "display(df_moscow.sample())\n",
    "df_regions.sample()"
   ]
  },
  {
   "cell_type": "code",
   "execution_count": 30,
   "metadata": {
    "scrolled": false
   },
   "outputs": [
    {
     "data": {
      "text/plain": [
       "-1245.717797108031"
      ]
     },
     "metadata": {},
     "output_type": "display_data"
    },
    {
     "data": {
      "text/plain": [
       "4901.842183360077"
      ]
     },
     "metadata": {},
     "output_type": "display_data"
    },
    {
     "data": {
      "text/plain": [
       "(1828.062193126023, 1708.0)"
      ]
     },
     "execution_count": 30,
     "metadata": {},
     "output_type": "execute_result"
    }
   ],
   "source": [
    "# посчитаем стандартное отклонение, среднее, медиану и границы интервалов для месячной выручки в Москве\n",
    "std_moscow = np.std(df_moscow['monthly_revenue'])\n",
    "range_limit_moscow_1 = df_moscow['monthly_revenue'].mean() - 3*std_moscow\n",
    "range_limit_moscow_2 = df_moscow['monthly_revenue'].mean() + 3*std_moscow\n",
    "display(range_limit_moscow_1, range_limit_moscow_2)\n",
    "df_moscow['monthly_revenue'].mean(), df_moscow['monthly_revenue'].median()"
   ]
  },
  {
   "cell_type": "markdown",
   "metadata": {},
   "source": [
    "Выборка немного скошена вправо, медиана меньше среднего."
   ]
  },
  {
   "cell_type": "code",
   "execution_count": 31,
   "metadata": {},
   "outputs": [
    {
     "data": {
      "text/plain": [
       "-1275.1663499470096"
      ]
     },
     "metadata": {},
     "output_type": "display_data"
    },
    {
     "data": {
      "text/plain": [
       "4706.1406104156995"
      ]
     },
     "metadata": {},
     "output_type": "display_data"
    },
    {
     "data": {
      "text/plain": [
       "(1715.487130234345, 1548.0)"
      ]
     },
     "execution_count": 31,
     "metadata": {},
     "output_type": "execute_result"
    }
   ],
   "source": [
    "# посчитаем стандартное отклонение, среднее, медиану и границы интервалов для месячной выручки в регионах\n",
    "std_regions = np.std(df_regions['monthly_revenue'])\n",
    "range_limit_regions_1 = df_regions['monthly_revenue'].mean() - 3*std_regions\n",
    "range_limit_regions_2 = df_regions['monthly_revenue'].mean() + 3*std_regions\n",
    "display(range_limit_regions_1, range_limit_regions_2)\n",
    "df_regions['monthly_revenue'].mean(), df_regions['monthly_revenue'].median()"
   ]
  },
  {
   "cell_type": "markdown",
   "metadata": {},
   "source": [
    "Выборка немного скошена вправо, медиана меньше среднего."
   ]
  },
  {
   "cell_type": "code",
   "execution_count": 32,
   "metadata": {
    "scrolled": true
   },
   "outputs": [
    {
     "name": "stdout",
     "output_type": "stream",
     "text": [
      "p-значение: 0.006668282235906335\n",
      "Отвергаем нулевую гипотезу\n"
     ]
    }
   ],
   "source": [
    "# ограничим выборки по правилу 3-х сигм\n",
    "\n",
    "df_moscow_mean = df_moscow['monthly_revenue'][(df_moscow['monthly_revenue'] <= range_limit_moscow_2)]\n",
    "df_regions_mean = df_regions['monthly_revenue'][(df_regions['monthly_revenue'] <= range_limit_regions_2)]\n",
    "\n",
    "alpha = .05\n",
    "                \n",
    "results = st.ttest_ind(df_moscow_mean, df_regions_mean)\n",
    "                          \n",
    "print('p-значение:', results.pvalue)\n",
    "\n",
    "if results.pvalue < alpha:\n",
    "    print(\"Отвергаем нулевую гипотезу\")\n",
    "else:\n",
    "    print(\"Не получилось отвергнуть нулевую гипотезу\")"
   ]
  },
  {
   "cell_type": "markdown",
   "metadata": {},
   "source": [
    "Средняя выручка пользователей из Москвы отличается от выручки пользователей из других регионов."
   ]
  },
  {
   "cell_type": "markdown",
   "metadata": {},
   "source": [
    "## Общий вывод"
   ]
  },
  {
   "cell_type": "markdown",
   "metadata": {},
   "source": [
    "Тарифные планы хорошо сбалансированы, но можно предложить некоторые рекомендации: например, расширить линейку тарифных планов.  \n",
    "\n",
    "Больше половины пользователей превышают лимит интернета тарифного плана \"Смарт\", в среднем используя более `16gb` .  \n",
    "Пользователи \"Ультра\", в основном, не выходят за лимиты, в среднем не более `20gb` .  \n",
    "Сообщения непопулярны, тарифные лимиты не тратятся. В среднем, по всей базе, пользователи отправляют не более `39` сообщений в месяц.\n",
    "Несмотря на лимиты тарифных планов, пользователи тратят примерно одинаковое количество минут: на \"Ультра\" больше, чем на \"Смарте\" в среднем, на `110` минут.\n",
    "\n",
    "Пользователь тарифа \"Смарт\", в среднем, тратит в \"Мегалайне\" `1262` рубля (`69%` пользователей, `50%` выручки).\n",
    "Пользователь тарифа \"Ультра\", в среднем, тратит в \"Мегалайне\" `2818` рублей (`31%` пользователей, `50%` выручки).\n",
    "Житель Москвы, в среднем, тратит в \"Мегалайне\" `1830` рублей (`19%` пользователей, `20%` выручки).\n",
    "Житель региона, в среднем, тратит в \"Мегалайне\" `1718` рублей (`81%` пользователей, `80%` выручки).  \n",
    "\n",
    "Можно предложить создать новый тарифный план, дополняющий существующие:\n",
    "* Ежемесячная плата: 950 рублей\n",
    "* Включено 600 минут разговора, 50 сообщений и 20 Гб интернет-трафика\n",
    "\n",
    "Стоимость услуг сверх тарифного пакета:\n",
    "* минута разговора: 1.5 рубля\n",
    "* сообщение: 5 рублей\n",
    "* 1 Гб интернет-трафика: 160 рублей"
   ]
  }
 ],
 "metadata": {
  "ExecuteTimeLog": [
   {
    "duration": 1404,
    "start_time": "2022-03-31T23:34:28.623Z"
   },
   {
    "duration": 476,
    "start_time": "2022-04-01T00:09:21.400Z"
   },
   {
    "duration": 4,
    "start_time": "2022-04-01T10:45:45.694Z"
   },
   {
    "duration": 3,
    "start_time": "2022-04-01T10:47:04.031Z"
   },
   {
    "duration": 28,
    "start_time": "2022-04-01T10:47:27.130Z"
   },
   {
    "duration": 24,
    "start_time": "2022-04-01T10:47:45.654Z"
   },
   {
    "duration": 21,
    "start_time": "2022-04-01T10:47:54.370Z"
   },
   {
    "duration": 27,
    "start_time": "2022-04-01T10:49:36.266Z"
   },
   {
    "duration": 34,
    "start_time": "2022-04-01T10:49:48.854Z"
   },
   {
    "duration": 41,
    "start_time": "2022-04-01T10:49:58.963Z"
   },
   {
    "duration": 38,
    "start_time": "2022-04-01T10:50:20.833Z"
   },
   {
    "duration": 48,
    "start_time": "2022-04-01T10:50:35.489Z"
   },
   {
    "duration": 25,
    "start_time": "2022-04-01T10:53:06.556Z"
   },
   {
    "duration": 76,
    "start_time": "2022-04-01T11:01:41.135Z"
   },
   {
    "duration": 26,
    "start_time": "2022-04-01T11:03:44.897Z"
   },
   {
    "duration": 198,
    "start_time": "2022-04-01T11:04:11.462Z"
   },
   {
    "duration": 219,
    "start_time": "2022-04-01T11:06:57.154Z"
   },
   {
    "duration": 56,
    "start_time": "2022-04-01T11:07:17.210Z"
   },
   {
    "duration": 46,
    "start_time": "2022-04-01T11:07:54.845Z"
   },
   {
    "duration": 46,
    "start_time": "2022-04-01T11:08:33.921Z"
   },
   {
    "duration": 164,
    "start_time": "2022-04-01T11:14:27.566Z"
   },
   {
    "duration": 17,
    "start_time": "2022-04-01T11:23:59.459Z"
   },
   {
    "duration": 10,
    "start_time": "2022-04-01T11:24:22.463Z"
   },
   {
    "duration": 22,
    "start_time": "2022-04-01T11:24:41.183Z"
   },
   {
    "duration": 9,
    "start_time": "2022-04-01T11:25:20.859Z"
   },
   {
    "duration": 35,
    "start_time": "2022-04-01T11:27:31.406Z"
   },
   {
    "duration": 11,
    "start_time": "2022-04-01T11:45:14.149Z"
   },
   {
    "duration": 12,
    "start_time": "2022-04-01T11:46:02.330Z"
   },
   {
    "duration": 29,
    "start_time": "2022-04-01T12:59:57.836Z"
   },
   {
    "duration": 1183,
    "start_time": "2022-04-01T13:02:49.344Z"
   },
   {
    "duration": 479,
    "start_time": "2022-04-01T13:02:50.529Z"
   },
   {
    "duration": 48,
    "start_time": "2022-04-01T13:02:51.010Z"
   },
   {
    "duration": 53,
    "start_time": "2022-04-01T13:02:51.060Z"
   },
   {
    "duration": 217,
    "start_time": "2022-04-01T13:02:51.115Z"
   },
   {
    "duration": 134,
    "start_time": "2022-04-01T13:02:51.333Z"
   },
   {
    "duration": 167,
    "start_time": "2022-04-01T13:02:51.469Z"
   },
   {
    "duration": 12,
    "start_time": "2022-04-01T13:02:51.638Z"
   },
   {
    "duration": 50,
    "start_time": "2022-04-01T13:02:51.652Z"
   },
   {
    "duration": 130,
    "start_time": "2022-04-01T13:02:51.704Z"
   },
   {
    "duration": 102,
    "start_time": "2022-04-01T13:05:11.637Z"
   },
   {
    "duration": 30,
    "start_time": "2022-04-01T13:05:17.262Z"
   },
   {
    "duration": 48,
    "start_time": "2022-04-01T13:05:46.169Z"
   },
   {
    "duration": 151,
    "start_time": "2022-04-01T13:15:29.734Z"
   },
   {
    "duration": 363,
    "start_time": "2022-04-01T13:16:16.918Z"
   },
   {
    "duration": 430,
    "start_time": "2022-04-01T13:17:15.043Z"
   },
   {
    "duration": 402,
    "start_time": "2022-04-01T13:17:40.483Z"
   },
   {
    "duration": 416,
    "start_time": "2022-04-01T13:17:55.002Z"
   },
   {
    "duration": 45,
    "start_time": "2022-04-01T13:18:28.740Z"
   },
   {
    "duration": 67,
    "start_time": "2022-04-01T13:18:45.315Z"
   },
   {
    "duration": 43,
    "start_time": "2022-04-01T13:20:29.687Z"
   },
   {
    "duration": 92,
    "start_time": "2022-04-01T13:21:14.598Z"
   },
   {
    "duration": 82,
    "start_time": "2022-04-01T13:22:10.906Z"
   },
   {
    "duration": 79,
    "start_time": "2022-04-01T13:23:20.615Z"
   },
   {
    "duration": 77,
    "start_time": "2022-04-01T13:23:52.073Z"
   },
   {
    "duration": 50,
    "start_time": "2022-04-01T13:24:59.153Z"
   },
   {
    "duration": 45,
    "start_time": "2022-04-01T13:25:24.413Z"
   },
   {
    "duration": 87,
    "start_time": "2022-04-01T13:25:45.488Z"
   },
   {
    "duration": 45,
    "start_time": "2022-04-01T13:26:00.624Z"
   },
   {
    "duration": 88,
    "start_time": "2022-04-01T13:26:19.838Z"
   },
   {
    "duration": 38,
    "start_time": "2022-04-01T13:41:58.927Z"
   },
   {
    "duration": 2720,
    "start_time": "2022-04-01T13:43:12.960Z"
   },
   {
    "duration": 54,
    "start_time": "2022-04-01T13:44:00.316Z"
   },
   {
    "duration": 103,
    "start_time": "2022-04-01T13:44:04.877Z"
   },
   {
    "duration": 98,
    "start_time": "2022-04-01T13:59:16.258Z"
   },
   {
    "duration": 95,
    "start_time": "2022-04-01T13:59:34.371Z"
   },
   {
    "duration": 168,
    "start_time": "2022-04-01T14:01:32.183Z"
   },
   {
    "duration": 96,
    "start_time": "2022-04-01T14:02:07.016Z"
   },
   {
    "duration": 92,
    "start_time": "2022-04-01T14:05:59.354Z"
   },
   {
    "duration": 97,
    "start_time": "2022-04-01T14:07:30.976Z"
   },
   {
    "duration": 99,
    "start_time": "2022-04-01T14:07:41.146Z"
   },
   {
    "duration": 110,
    "start_time": "2022-04-01T14:08:04.007Z"
   },
   {
    "duration": 2794,
    "start_time": "2022-04-01T14:08:50.448Z"
   },
   {
    "duration": 99,
    "start_time": "2022-04-01T14:10:00.364Z"
   },
   {
    "duration": 111,
    "start_time": "2022-04-01T14:10:17.509Z"
   },
   {
    "duration": 171,
    "start_time": "2022-04-01T14:12:03.503Z"
   },
   {
    "duration": 95,
    "start_time": "2022-04-01T14:13:49.554Z"
   },
   {
    "duration": 2465,
    "start_time": "2022-04-01T14:14:38.530Z"
   },
   {
    "duration": 104,
    "start_time": "2022-04-01T14:14:55.889Z"
   },
   {
    "duration": 144,
    "start_time": "2022-04-01T14:16:57.129Z"
   },
   {
    "duration": 178,
    "start_time": "2022-04-01T14:17:35.159Z"
   },
   {
    "duration": 92,
    "start_time": "2022-04-01T14:44:40.669Z"
   },
   {
    "duration": 99,
    "start_time": "2022-04-01T14:45:06.904Z"
   },
   {
    "duration": 87,
    "start_time": "2022-04-01T14:45:31.024Z"
   },
   {
    "duration": 88,
    "start_time": "2022-04-01T14:45:39.950Z"
   },
   {
    "duration": 154,
    "start_time": "2022-04-01T14:45:44.914Z"
   },
   {
    "duration": 91,
    "start_time": "2022-04-01T14:47:53.752Z"
   },
   {
    "duration": 94,
    "start_time": "2022-04-01T14:48:14.019Z"
   },
   {
    "duration": 94,
    "start_time": "2022-04-01T14:48:27.656Z"
   },
   {
    "duration": 115,
    "start_time": "2022-04-01T14:48:44.171Z"
   },
   {
    "duration": 54,
    "start_time": "2022-04-01T14:50:05.457Z"
   },
   {
    "duration": 96,
    "start_time": "2022-04-01T14:55:28.030Z"
   },
   {
    "duration": 179,
    "start_time": "2022-04-01T14:59:01.761Z"
   },
   {
    "duration": 8,
    "start_time": "2022-04-01T15:07:05.402Z"
   },
   {
    "duration": 9,
    "start_time": "2022-04-01T15:09:51.155Z"
   },
   {
    "duration": 14,
    "start_time": "2022-04-01T15:10:12.232Z"
   },
   {
    "duration": 18,
    "start_time": "2022-04-01T15:12:49.554Z"
   },
   {
    "duration": 12,
    "start_time": "2022-04-01T15:12:59.635Z"
   },
   {
    "duration": 21,
    "start_time": "2022-04-01T15:13:05.455Z"
   },
   {
    "duration": 15,
    "start_time": "2022-04-01T15:13:22.750Z"
   },
   {
    "duration": 14,
    "start_time": "2022-04-01T15:13:49.631Z"
   },
   {
    "duration": 14,
    "start_time": "2022-04-01T15:13:58.977Z"
   },
   {
    "duration": 14,
    "start_time": "2022-04-01T15:14:57.237Z"
   },
   {
    "duration": 14,
    "start_time": "2022-04-01T15:15:05.518Z"
   },
   {
    "duration": 15,
    "start_time": "2022-04-01T15:15:22.648Z"
   },
   {
    "duration": 15,
    "start_time": "2022-04-01T15:15:25.423Z"
   },
   {
    "duration": 14,
    "start_time": "2022-04-01T15:15:40.753Z"
   },
   {
    "duration": 11,
    "start_time": "2022-04-01T15:15:49.394Z"
   },
   {
    "duration": 1211,
    "start_time": "2022-04-01T15:16:27.907Z"
   },
   {
    "duration": 478,
    "start_time": "2022-04-01T15:16:29.121Z"
   },
   {
    "duration": 48,
    "start_time": "2022-04-01T15:16:29.601Z"
   },
   {
    "duration": 51,
    "start_time": "2022-04-01T15:16:29.651Z"
   },
   {
    "duration": 208,
    "start_time": "2022-04-01T15:16:29.705Z"
   },
   {
    "duration": 134,
    "start_time": "2022-04-01T15:16:29.915Z"
   },
   {
    "duration": 166,
    "start_time": "2022-04-01T15:16:30.051Z"
   },
   {
    "duration": 12,
    "start_time": "2022-04-01T15:16:30.219Z"
   },
   {
    "duration": 32,
    "start_time": "2022-04-01T15:16:30.233Z"
   },
   {
    "duration": 76,
    "start_time": "2022-04-01T15:16:30.267Z"
   },
   {
    "duration": 131,
    "start_time": "2022-04-01T15:16:30.345Z"
   },
   {
    "duration": 24,
    "start_time": "2022-04-01T15:16:30.478Z"
   },
   {
    "duration": 16,
    "start_time": "2022-04-01T15:16:30.504Z"
   },
   {
    "duration": 129,
    "start_time": "2022-04-01T15:16:30.523Z"
   },
   {
    "duration": 18,
    "start_time": "2022-04-01T15:16:57.477Z"
   },
   {
    "duration": 11,
    "start_time": "2022-04-01T15:17:16.354Z"
   },
   {
    "duration": 24,
    "start_time": "2022-04-01T15:17:44.615Z"
   },
   {
    "duration": 2354,
    "start_time": "2022-04-01T15:35:55.358Z"
   },
   {
    "duration": 28,
    "start_time": "2022-04-01T15:36:45.210Z"
   },
   {
    "duration": 103,
    "start_time": "2022-04-01T15:37:31.276Z"
   },
   {
    "duration": 140,
    "start_time": "2022-04-01T15:40:17.059Z"
   },
   {
    "duration": 18,
    "start_time": "2022-04-01T15:42:08.914Z"
   },
   {
    "duration": 11,
    "start_time": "2022-04-01T15:42:31.477Z"
   },
   {
    "duration": 14,
    "start_time": "2022-04-01T15:42:39.915Z"
   },
   {
    "duration": 13,
    "start_time": "2022-04-01T15:42:47.541Z"
   },
   {
    "duration": 12,
    "start_time": "2022-04-01T15:43:24.128Z"
   },
   {
    "duration": 9,
    "start_time": "2022-04-01T15:43:42.214Z"
   },
   {
    "duration": 1231,
    "start_time": "2022-04-01T15:43:54.003Z"
   },
   {
    "duration": 481,
    "start_time": "2022-04-01T15:43:55.236Z"
   },
   {
    "duration": 47,
    "start_time": "2022-04-01T15:43:55.719Z"
   },
   {
    "duration": 50,
    "start_time": "2022-04-01T15:43:55.769Z"
   },
   {
    "duration": 219,
    "start_time": "2022-04-01T15:43:55.821Z"
   },
   {
    "duration": 133,
    "start_time": "2022-04-01T15:43:56.042Z"
   },
   {
    "duration": 169,
    "start_time": "2022-04-01T15:43:56.176Z"
   },
   {
    "duration": 12,
    "start_time": "2022-04-01T15:43:56.347Z"
   },
   {
    "duration": 47,
    "start_time": "2022-04-01T15:43:56.361Z"
   },
   {
    "duration": 51,
    "start_time": "2022-04-01T15:43:56.410Z"
   },
   {
    "duration": 147,
    "start_time": "2022-04-01T15:43:56.463Z"
   },
   {
    "duration": 13,
    "start_time": "2022-04-01T15:43:56.612Z"
   },
   {
    "duration": 13,
    "start_time": "2022-04-01T15:43:56.627Z"
   },
   {
    "duration": 25,
    "start_time": "2022-04-01T15:43:56.642Z"
   },
   {
    "duration": 190,
    "start_time": "2022-04-01T15:44:44.755Z"
   },
   {
    "duration": 9,
    "start_time": "2022-04-01T15:48:20.188Z"
   },
   {
    "duration": 1220,
    "start_time": "2022-04-01T15:48:54.203Z"
   },
   {
    "duration": 478,
    "start_time": "2022-04-01T15:48:55.426Z"
   },
   {
    "duration": 51,
    "start_time": "2022-04-01T15:48:55.906Z"
   },
   {
    "duration": 54,
    "start_time": "2022-04-01T15:48:55.960Z"
   },
   {
    "duration": 209,
    "start_time": "2022-04-01T15:48:56.016Z"
   },
   {
    "duration": 129,
    "start_time": "2022-04-01T15:48:56.227Z"
   },
   {
    "duration": 161,
    "start_time": "2022-04-01T15:48:56.358Z"
   },
   {
    "duration": 13,
    "start_time": "2022-04-01T15:48:56.520Z"
   },
   {
    "duration": 34,
    "start_time": "2022-04-01T15:48:56.535Z"
   },
   {
    "duration": 76,
    "start_time": "2022-04-01T15:48:56.572Z"
   },
   {
    "duration": 142,
    "start_time": "2022-04-01T15:48:56.650Z"
   },
   {
    "duration": 10,
    "start_time": "2022-04-01T15:49:03.758Z"
   },
   {
    "duration": 203,
    "start_time": "2022-04-01T15:54:46.810Z"
   },
   {
    "duration": 108,
    "start_time": "2022-04-01T15:56:17.776Z"
   },
   {
    "duration": 192,
    "start_time": "2022-04-01T15:57:00.602Z"
   },
   {
    "duration": 4,
    "start_time": "2022-04-01T16:03:39.311Z"
   },
   {
    "duration": 6,
    "start_time": "2022-04-01T16:03:53.380Z"
   },
   {
    "duration": 753,
    "start_time": "2022-04-01T16:04:14.563Z"
   },
   {
    "duration": 770,
    "start_time": "2022-04-01T16:04:53.112Z"
   },
   {
    "duration": 115,
    "start_time": "2022-04-01T16:05:52.577Z"
   },
   {
    "duration": 128,
    "start_time": "2022-04-01T16:09:30.831Z"
   },
   {
    "duration": 186,
    "start_time": "2022-04-01T16:15:04.916Z"
   },
   {
    "duration": 129,
    "start_time": "2022-04-01T16:15:18.235Z"
   },
   {
    "duration": 105,
    "start_time": "2022-04-01T16:18:56.237Z"
   },
   {
    "duration": 12,
    "start_time": "2022-04-01T16:19:31.726Z"
   },
   {
    "duration": 11,
    "start_time": "2022-04-01T16:19:44.610Z"
   },
   {
    "duration": 102,
    "start_time": "2022-04-01T16:20:32.357Z"
   },
   {
    "duration": 25,
    "start_time": "2022-04-01T16:32:54.324Z"
   },
   {
    "duration": 135,
    "start_time": "2022-04-01T16:33:45.829Z"
   },
   {
    "duration": 124,
    "start_time": "2022-04-01T16:34:38.555Z"
   },
   {
    "duration": 123,
    "start_time": "2022-04-01T16:34:46.986Z"
   },
   {
    "duration": 123,
    "start_time": "2022-04-01T16:35:01.655Z"
   },
   {
    "duration": 139,
    "start_time": "2022-04-01T16:35:23.946Z"
   },
   {
    "duration": 5,
    "start_time": "2022-04-01T16:46:01.662Z"
   },
   {
    "duration": 127,
    "start_time": "2022-04-01T16:46:30.246Z"
   },
   {
    "duration": 131,
    "start_time": "2022-04-01T16:46:53.406Z"
   },
   {
    "duration": 120,
    "start_time": "2022-04-01T16:48:02.677Z"
   },
   {
    "duration": 122,
    "start_time": "2022-04-01T16:48:11.915Z"
   },
   {
    "duration": 210,
    "start_time": "2022-04-01T16:49:03.908Z"
   },
   {
    "duration": 203,
    "start_time": "2022-04-01T16:50:17.334Z"
   },
   {
    "duration": 214,
    "start_time": "2022-04-01T16:50:31.810Z"
   },
   {
    "duration": 139,
    "start_time": "2022-04-01T16:53:24.254Z"
   },
   {
    "duration": 135,
    "start_time": "2022-04-01T16:53:30.525Z"
   },
   {
    "duration": 129,
    "start_time": "2022-04-01T16:53:50.430Z"
   },
   {
    "duration": 194,
    "start_time": "2022-04-01T17:01:34.590Z"
   },
   {
    "duration": 19,
    "start_time": "2022-04-01T17:01:50.364Z"
   },
   {
    "duration": 16,
    "start_time": "2022-04-01T17:02:09.729Z"
   },
   {
    "duration": 14,
    "start_time": "2022-04-01T17:03:27.282Z"
   },
   {
    "duration": 15,
    "start_time": "2022-04-01T17:04:48.252Z"
   },
   {
    "duration": 21,
    "start_time": "2022-04-01T17:05:43.303Z"
   },
   {
    "duration": 39,
    "start_time": "2022-04-01T17:06:05.895Z"
   },
   {
    "duration": 19,
    "start_time": "2022-04-01T17:06:38.220Z"
   },
   {
    "duration": 24,
    "start_time": "2022-04-01T17:06:51.585Z"
   },
   {
    "duration": 20,
    "start_time": "2022-04-01T17:06:59.565Z"
   },
   {
    "duration": 25,
    "start_time": "2022-04-01T17:07:51.933Z"
   },
   {
    "duration": 21,
    "start_time": "2022-04-01T17:08:04.952Z"
   },
   {
    "duration": 1276,
    "start_time": "2022-04-01T17:08:14.652Z"
   },
   {
    "duration": 508,
    "start_time": "2022-04-01T17:08:15.930Z"
   },
   {
    "duration": 64,
    "start_time": "2022-04-01T17:08:16.440Z"
   },
   {
    "duration": 33,
    "start_time": "2022-04-01T17:08:16.506Z"
   },
   {
    "duration": 248,
    "start_time": "2022-04-01T17:08:16.543Z"
   },
   {
    "duration": 143,
    "start_time": "2022-04-01T17:08:16.793Z"
   },
   {
    "duration": 178,
    "start_time": "2022-04-01T17:08:16.938Z"
   },
   {
    "duration": 13,
    "start_time": "2022-04-01T17:08:17.118Z"
   },
   {
    "duration": 70,
    "start_time": "2022-04-01T17:08:17.133Z"
   },
   {
    "duration": 7,
    "start_time": "2022-04-01T17:08:17.205Z"
   },
   {
    "duration": 58,
    "start_time": "2022-04-01T17:08:17.214Z"
   },
   {
    "duration": 157,
    "start_time": "2022-04-01T17:08:17.274Z"
   },
   {
    "duration": 141,
    "start_time": "2022-04-01T17:08:17.433Z"
   },
   {
    "duration": 26,
    "start_time": "2022-04-01T17:08:17.577Z"
   },
   {
    "duration": 16,
    "start_time": "2022-04-01T17:08:17.605Z"
   },
   {
    "duration": 25,
    "start_time": "2022-04-01T17:08:17.623Z"
   },
   {
    "duration": 117,
    "start_time": "2022-04-01T17:09:30.566Z"
   },
   {
    "duration": 13,
    "start_time": "2022-04-01T17:11:15.274Z"
   },
   {
    "duration": 1251,
    "start_time": "2022-04-01T17:11:24.775Z"
   },
   {
    "duration": 501,
    "start_time": "2022-04-01T17:11:26.028Z"
   },
   {
    "duration": 70,
    "start_time": "2022-04-01T17:11:26.531Z"
   },
   {
    "duration": 27,
    "start_time": "2022-04-01T17:11:26.604Z"
   },
   {
    "duration": 235,
    "start_time": "2022-04-01T17:11:26.634Z"
   },
   {
    "duration": 138,
    "start_time": "2022-04-01T17:11:26.871Z"
   },
   {
    "duration": 170,
    "start_time": "2022-04-01T17:11:27.011Z"
   },
   {
    "duration": 22,
    "start_time": "2022-04-01T17:11:27.183Z"
   },
   {
    "duration": 33,
    "start_time": "2022-04-01T17:11:27.207Z"
   },
   {
    "duration": 5,
    "start_time": "2022-04-01T17:11:27.242Z"
   },
   {
    "duration": 79,
    "start_time": "2022-04-01T17:11:27.250Z"
   },
   {
    "duration": 151,
    "start_time": "2022-04-01T17:11:27.331Z"
   },
   {
    "duration": 145,
    "start_time": "2022-04-01T17:11:27.484Z"
   },
   {
    "duration": 19,
    "start_time": "2022-04-01T17:11:27.632Z"
   },
   {
    "duration": 17,
    "start_time": "2022-04-01T17:11:27.653Z"
   },
   {
    "duration": 50,
    "start_time": "2022-04-01T17:11:27.672Z"
   },
   {
    "duration": 27,
    "start_time": "2022-04-01T17:12:26.081Z"
   },
   {
    "duration": 111,
    "start_time": "2022-04-01T17:13:17.261Z"
   },
   {
    "duration": 27,
    "start_time": "2022-04-01T17:13:21.492Z"
   },
   {
    "duration": 32,
    "start_time": "2022-04-01T17:14:24.899Z"
   },
   {
    "duration": 183,
    "start_time": "2022-04-01T17:21:25.477Z"
   },
   {
    "duration": 141,
    "start_time": "2022-04-01T17:21:37.028Z"
   },
   {
    "duration": 154,
    "start_time": "2022-04-01T17:21:53.287Z"
   },
   {
    "duration": 149,
    "start_time": "2022-04-01T17:25:02.935Z"
   },
   {
    "duration": 240,
    "start_time": "2022-04-01T17:25:19.706Z"
   },
   {
    "duration": 1720,
    "start_time": "2022-04-01T17:25:53.444Z"
   },
   {
    "duration": 1644,
    "start_time": "2022-04-01T17:26:23.338Z"
   },
   {
    "duration": 18,
    "start_time": "2022-04-01T17:26:30.868Z"
   },
   {
    "duration": 25,
    "start_time": "2022-04-01T17:26:43.454Z"
   },
   {
    "duration": 1855,
    "start_time": "2022-04-01T20:39:31.303Z"
   },
   {
    "duration": 33,
    "start_time": "2022-04-01T20:44:56.073Z"
   },
   {
    "duration": 20,
    "start_time": "2022-04-01T20:47:45.937Z"
   },
   {
    "duration": 31,
    "start_time": "2022-04-01T20:49:55.691Z"
   },
   {
    "duration": 30,
    "start_time": "2022-04-01T20:50:16.979Z"
   },
   {
    "duration": 11,
    "start_time": "2022-04-01T20:50:53.817Z"
   },
   {
    "duration": 12,
    "start_time": "2022-04-01T20:56:26.342Z"
   },
   {
    "duration": 12,
    "start_time": "2022-04-01T20:57:12.634Z"
   },
   {
    "duration": 18,
    "start_time": "2022-04-01T20:57:27.005Z"
   },
   {
    "duration": 16,
    "start_time": "2022-04-01T20:57:56.915Z"
   },
   {
    "duration": 42,
    "start_time": "2022-04-01T20:59:17.407Z"
   },
   {
    "duration": 67,
    "start_time": "2022-04-01T21:00:42.310Z"
   },
   {
    "duration": 1248,
    "start_time": "2022-04-01T21:01:57.478Z"
   },
   {
    "duration": 488,
    "start_time": "2022-04-01T21:01:58.729Z"
   },
   {
    "duration": 49,
    "start_time": "2022-04-01T21:01:59.219Z"
   },
   {
    "duration": 52,
    "start_time": "2022-04-01T21:01:59.270Z"
   },
   {
    "duration": 227,
    "start_time": "2022-04-01T21:01:59.326Z"
   },
   {
    "duration": 138,
    "start_time": "2022-04-01T21:01:59.555Z"
   },
   {
    "duration": 174,
    "start_time": "2022-04-01T21:01:59.695Z"
   },
   {
    "duration": 13,
    "start_time": "2022-04-01T21:01:59.871Z"
   },
   {
    "duration": 44,
    "start_time": "2022-04-01T21:01:59.886Z"
   },
   {
    "duration": 6,
    "start_time": "2022-04-01T21:01:59.931Z"
   },
   {
    "duration": 91,
    "start_time": "2022-04-01T21:01:59.938Z"
   },
   {
    "duration": 149,
    "start_time": "2022-04-01T21:02:00.031Z"
   },
   {
    "duration": 135,
    "start_time": "2022-04-01T21:02:00.182Z"
   },
   {
    "duration": 18,
    "start_time": "2022-04-01T21:02:00.320Z"
   },
   {
    "duration": 22,
    "start_time": "2022-04-01T21:02:00.340Z"
   },
   {
    "duration": 43,
    "start_time": "2022-04-01T21:02:00.364Z"
   },
   {
    "duration": 50,
    "start_time": "2022-04-01T21:02:00.409Z"
   },
   {
    "duration": 100,
    "start_time": "2022-04-01T21:02:00.461Z"
   },
   {
    "duration": 1879,
    "start_time": "2022-04-01T21:02:00.563Z"
   },
   {
    "duration": 117,
    "start_time": "2022-04-01T21:02:02.445Z"
   },
   {
    "duration": 42,
    "start_time": "2022-04-01T21:03:18.042Z"
   },
   {
    "duration": 46,
    "start_time": "2022-04-01T21:04:02.324Z"
   },
   {
    "duration": 45,
    "start_time": "2022-04-01T21:04:09.988Z"
   },
   {
    "duration": 1924,
    "start_time": "2022-04-01T21:05:43.455Z"
   },
   {
    "duration": 3739,
    "start_time": "2022-04-01T21:06:25.502Z"
   },
   {
    "duration": 1903,
    "start_time": "2022-04-01T21:08:11.148Z"
   },
   {
    "duration": 281,
    "start_time": "2022-04-01T21:10:56.001Z"
   },
   {
    "duration": 384,
    "start_time": "2022-04-01T21:11:37.748Z"
   },
   {
    "duration": 25,
    "start_time": "2022-04-01T21:12:29.708Z"
   },
   {
    "duration": 46,
    "start_time": "2022-04-01T21:12:36.083Z"
   },
   {
    "duration": 262,
    "start_time": "2022-04-01T21:12:43.718Z"
   },
   {
    "duration": 269,
    "start_time": "2022-04-01T21:13:07.450Z"
   },
   {
    "duration": 36039,
    "start_time": "2022-04-01T21:15:38.863Z"
   },
   {
    "duration": 17,
    "start_time": "2022-04-01T21:22:08.990Z"
   },
   {
    "duration": 17,
    "start_time": "2022-04-01T21:22:15.680Z"
   },
   {
    "duration": 18,
    "start_time": "2022-04-01T21:22:21.470Z"
   },
   {
    "duration": 18,
    "start_time": "2022-04-01T21:24:03.999Z"
   },
   {
    "duration": 16,
    "start_time": "2022-04-01T21:28:11.954Z"
   },
   {
    "duration": 195,
    "start_time": "2022-04-01T21:29:27.630Z"
   },
   {
    "duration": 180,
    "start_time": "2022-04-01T21:30:09.721Z"
   },
   {
    "duration": 282,
    "start_time": "2022-04-01T21:30:45.301Z"
   },
   {
    "duration": 164,
    "start_time": "2022-04-01T21:30:55.456Z"
   },
   {
    "duration": 170,
    "start_time": "2022-04-01T21:31:01.608Z"
   },
   {
    "duration": 175,
    "start_time": "2022-04-01T21:31:05.912Z"
   },
   {
    "duration": 181,
    "start_time": "2022-04-01T21:31:10.592Z"
   },
   {
    "duration": 173,
    "start_time": "2022-04-01T21:31:15.184Z"
   },
   {
    "duration": 181,
    "start_time": "2022-04-01T21:31:20.809Z"
   },
   {
    "duration": 165,
    "start_time": "2022-04-01T21:31:24.361Z"
   },
   {
    "duration": 225,
    "start_time": "2022-04-01T21:31:27.662Z"
   },
   {
    "duration": 175,
    "start_time": "2022-04-01T21:31:30.527Z"
   },
   {
    "duration": 188,
    "start_time": "2022-04-01T21:31:33.903Z"
   },
   {
    "duration": 172,
    "start_time": "2022-04-01T21:32:00.977Z"
   },
   {
    "duration": 169,
    "start_time": "2022-04-01T21:32:21.603Z"
   },
   {
    "duration": 171,
    "start_time": "2022-04-01T21:32:26.342Z"
   },
   {
    "duration": 146,
    "start_time": "2022-04-01T21:34:46.371Z"
   },
   {
    "duration": 137,
    "start_time": "2022-04-01T21:35:04.672Z"
   },
   {
    "duration": 171,
    "start_time": "2022-04-01T21:35:42.625Z"
   },
   {
    "duration": 171,
    "start_time": "2022-04-01T21:36:25.042Z"
   },
   {
    "duration": 173,
    "start_time": "2022-04-01T21:36:48.549Z"
   },
   {
    "duration": 969,
    "start_time": "2022-04-01T21:37:38.260Z"
   },
   {
    "duration": 321,
    "start_time": "2022-04-01T21:39:12.447Z"
   },
   {
    "duration": 332,
    "start_time": "2022-04-01T21:40:16.919Z"
   },
   {
    "duration": 377,
    "start_time": "2022-04-01T21:42:24.586Z"
   },
   {
    "duration": 334,
    "start_time": "2022-04-01T21:43:13.127Z"
   },
   {
    "duration": 332,
    "start_time": "2022-04-01T21:43:54.154Z"
   },
   {
    "duration": 16,
    "start_time": "2022-04-01T21:51:24.929Z"
   },
   {
    "duration": 137,
    "start_time": "2022-04-01T21:51:58.842Z"
   },
   {
    "duration": 20,
    "start_time": "2022-04-01T21:52:36.990Z"
   },
   {
    "duration": 14,
    "start_time": "2022-04-01T22:48:27.759Z"
   },
   {
    "duration": 16,
    "start_time": "2022-04-01T22:48:56.951Z"
   },
   {
    "duration": 10,
    "start_time": "2022-04-01T22:49:26.276Z"
   },
   {
    "duration": 121,
    "start_time": "2022-04-01T22:50:06.686Z"
   },
   {
    "duration": 5,
    "start_time": "2022-04-01T22:50:52.708Z"
   },
   {
    "duration": 5,
    "start_time": "2022-04-01T22:51:01.063Z"
   },
   {
    "duration": 5,
    "start_time": "2022-04-01T22:51:11.053Z"
   },
   {
    "duration": 10,
    "start_time": "2022-04-01T22:59:24.834Z"
   },
   {
    "duration": 10,
    "start_time": "2022-04-01T22:59:35.772Z"
   },
   {
    "duration": 10,
    "start_time": "2022-04-01T23:02:18.343Z"
   },
   {
    "duration": 11,
    "start_time": "2022-04-01T23:02:29.516Z"
   },
   {
    "duration": 15,
    "start_time": "2022-04-01T23:02:55.033Z"
   },
   {
    "duration": 6,
    "start_time": "2022-04-01T23:03:24.223Z"
   },
   {
    "duration": 33,
    "start_time": "2022-04-01T23:04:59.400Z"
   },
   {
    "duration": 5,
    "start_time": "2022-04-01T23:07:33.319Z"
   },
   {
    "duration": 9,
    "start_time": "2022-04-01T23:07:41.508Z"
   },
   {
    "duration": 12,
    "start_time": "2022-04-01T23:10:37.567Z"
   },
   {
    "duration": 24,
    "start_time": "2022-04-01T23:11:55.719Z"
   },
   {
    "duration": 13,
    "start_time": "2022-04-01T23:12:53.125Z"
   },
   {
    "duration": 12,
    "start_time": "2022-04-01T23:13:50.637Z"
   },
   {
    "duration": 14,
    "start_time": "2022-04-01T23:17:38.071Z"
   },
   {
    "duration": 7,
    "start_time": "2022-04-01T23:18:41.387Z"
   },
   {
    "duration": 11,
    "start_time": "2022-04-01T23:19:11.222Z"
   },
   {
    "duration": 6,
    "start_time": "2022-04-01T23:19:51.018Z"
   },
   {
    "duration": 8,
    "start_time": "2022-04-01T23:20:06.770Z"
   },
   {
    "duration": 9,
    "start_time": "2022-04-01T23:21:12.652Z"
   },
   {
    "duration": 8,
    "start_time": "2022-04-01T23:22:34.868Z"
   },
   {
    "duration": 9,
    "start_time": "2022-04-01T23:22:56.725Z"
   },
   {
    "duration": 4,
    "start_time": "2022-04-01T23:25:53.578Z"
   },
   {
    "duration": 9,
    "start_time": "2022-04-01T23:26:24.927Z"
   },
   {
    "duration": 10,
    "start_time": "2022-04-01T23:26:33.119Z"
   },
   {
    "duration": 5,
    "start_time": "2022-04-01T23:27:37.170Z"
   },
   {
    "duration": 10,
    "start_time": "2022-04-01T23:27:43.243Z"
   },
   {
    "duration": 5,
    "start_time": "2022-04-01T23:27:48.554Z"
   },
   {
    "duration": 5,
    "start_time": "2022-04-01T23:27:54.839Z"
   },
   {
    "duration": 5,
    "start_time": "2022-04-01T23:28:19.321Z"
   },
   {
    "duration": 5,
    "start_time": "2022-04-01T23:28:32.446Z"
   },
   {
    "duration": 4,
    "start_time": "2022-04-01T23:28:45.901Z"
   },
   {
    "duration": 6,
    "start_time": "2022-04-01T23:34:35.544Z"
   },
   {
    "duration": 6,
    "start_time": "2022-04-01T23:34:47.152Z"
   },
   {
    "duration": 7,
    "start_time": "2022-04-01T23:36:26.170Z"
   },
   {
    "duration": 10,
    "start_time": "2022-04-01T23:36:36.611Z"
   },
   {
    "duration": 12,
    "start_time": "2022-04-01T23:44:12.694Z"
   },
   {
    "duration": 12,
    "start_time": "2022-04-01T23:44:16.326Z"
   },
   {
    "duration": 10,
    "start_time": "2022-04-01T23:44:24.831Z"
   },
   {
    "duration": 5,
    "start_time": "2022-04-01T23:54:00.841Z"
   },
   {
    "duration": 159,
    "start_time": "2022-04-01T23:55:39.994Z"
   },
   {
    "duration": 13,
    "start_time": "2022-04-01T23:55:43.609Z"
   },
   {
    "duration": 50,
    "start_time": "2022-04-02T00:01:48.838Z"
   },
   {
    "duration": 32,
    "start_time": "2022-04-02T00:02:05.893Z"
   },
   {
    "duration": 30,
    "start_time": "2022-04-02T00:02:14.039Z"
   },
   {
    "duration": 12,
    "start_time": "2022-04-02T00:04:36.016Z"
   },
   {
    "duration": 12,
    "start_time": "2022-04-02T00:07:04.399Z"
   },
   {
    "duration": 10,
    "start_time": "2022-04-02T00:09:33.042Z"
   },
   {
    "duration": 5,
    "start_time": "2022-04-02T00:18:09.783Z"
   },
   {
    "duration": 6,
    "start_time": "2022-04-02T00:18:42.709Z"
   },
   {
    "duration": 6,
    "start_time": "2022-04-02T00:29:23.913Z"
   },
   {
    "duration": 4,
    "start_time": "2022-04-02T00:30:00.138Z"
   },
   {
    "duration": 4,
    "start_time": "2022-04-02T00:38:24.464Z"
   },
   {
    "duration": 170,
    "start_time": "2022-04-02T01:32:05.272Z"
   },
   {
    "duration": 1260,
    "start_time": "2022-04-02T01:41:38.459Z"
   },
   {
    "duration": 479,
    "start_time": "2022-04-02T01:41:39.722Z"
   },
   {
    "duration": 50,
    "start_time": "2022-04-02T01:41:40.203Z"
   },
   {
    "duration": 49,
    "start_time": "2022-04-02T01:41:40.254Z"
   },
   {
    "duration": 228,
    "start_time": "2022-04-02T01:41:40.306Z"
   },
   {
    "duration": 143,
    "start_time": "2022-04-02T01:41:40.536Z"
   },
   {
    "duration": 168,
    "start_time": "2022-04-02T01:41:40.681Z"
   },
   {
    "duration": 14,
    "start_time": "2022-04-02T01:41:40.851Z"
   },
   {
    "duration": 54,
    "start_time": "2022-04-02T01:41:40.867Z"
   },
   {
    "duration": 6,
    "start_time": "2022-04-02T01:41:40.923Z"
   },
   {
    "duration": 72,
    "start_time": "2022-04-02T01:41:40.931Z"
   },
   {
    "duration": 145,
    "start_time": "2022-04-02T01:41:41.006Z"
   },
   {
    "duration": 135,
    "start_time": "2022-04-02T01:41:41.153Z"
   },
   {
    "duration": 23,
    "start_time": "2022-04-02T01:41:41.291Z"
   },
   {
    "duration": 16,
    "start_time": "2022-04-02T01:41:41.316Z"
   },
   {
    "duration": 32,
    "start_time": "2022-04-02T01:41:41.334Z"
   },
   {
    "duration": 71,
    "start_time": "2022-04-02T01:41:41.368Z"
   },
   {
    "duration": 79,
    "start_time": "2022-04-02T01:41:41.441Z"
   },
   {
    "duration": 1392,
    "start_time": "2022-04-02T01:41:41.522Z"
   },
   {
    "duration": 22,
    "start_time": "2022-04-02T01:41:42.916Z"
   },
   {
    "duration": 356,
    "start_time": "2022-04-02T01:41:42.940Z"
   },
   {
    "duration": 370,
    "start_time": "2022-04-02T01:41:43.298Z"
   },
   {
    "duration": 367,
    "start_time": "2022-04-02T01:41:43.671Z"
   },
   {
    "duration": 11,
    "start_time": "2022-04-02T01:41:44.040Z"
   },
   {
    "duration": 12,
    "start_time": "2022-04-02T01:41:44.053Z"
   },
   {
    "duration": 39,
    "start_time": "2022-04-02T01:41:44.067Z"
   },
   {
    "duration": 28,
    "start_time": "2022-04-02T01:41:44.108Z"
   },
   {
    "duration": 36,
    "start_time": "2022-04-02T01:41:44.138Z"
   },
   {
    "duration": 11,
    "start_time": "2022-04-02T01:41:44.176Z"
   },
   {
    "duration": 19,
    "start_time": "2022-04-02T01:41:44.189Z"
   },
   {
    "duration": 11,
    "start_time": "2022-04-02T01:41:44.210Z"
   },
   {
    "duration": 8,
    "start_time": "2022-04-02T01:45:33.656Z"
   },
   {
    "duration": 5,
    "start_time": "2022-04-02T01:46:06.205Z"
   },
   {
    "duration": 7,
    "start_time": "2022-04-02T01:46:10.951Z"
   },
   {
    "duration": 7,
    "start_time": "2022-04-02T01:46:30.369Z"
   },
   {
    "duration": 1178,
    "start_time": "2022-04-02T01:48:29.846Z"
   },
   {
    "duration": 496,
    "start_time": "2022-04-02T01:48:31.027Z"
   },
   {
    "duration": 51,
    "start_time": "2022-04-02T01:48:31.526Z"
   },
   {
    "duration": 44,
    "start_time": "2022-04-02T01:48:31.579Z"
   },
   {
    "duration": 238,
    "start_time": "2022-04-02T01:48:31.627Z"
   },
   {
    "duration": 141,
    "start_time": "2022-04-02T01:48:31.868Z"
   },
   {
    "duration": 175,
    "start_time": "2022-04-02T01:48:32.011Z"
   },
   {
    "duration": 22,
    "start_time": "2022-04-02T01:48:32.188Z"
   },
   {
    "duration": 35,
    "start_time": "2022-04-02T01:48:32.212Z"
   },
   {
    "duration": 6,
    "start_time": "2022-04-02T01:48:32.250Z"
   },
   {
    "duration": 84,
    "start_time": "2022-04-02T01:48:32.258Z"
   },
   {
    "duration": 148,
    "start_time": "2022-04-02T01:48:32.344Z"
   },
   {
    "duration": 131,
    "start_time": "2022-04-02T01:48:32.494Z"
   },
   {
    "duration": 18,
    "start_time": "2022-04-02T01:48:32.629Z"
   },
   {
    "duration": 16,
    "start_time": "2022-04-02T01:48:32.649Z"
   },
   {
    "duration": 57,
    "start_time": "2022-04-02T01:48:32.667Z"
   },
   {
    "duration": 74,
    "start_time": "2022-04-02T01:48:32.727Z"
   },
   {
    "duration": 64,
    "start_time": "2022-04-02T01:48:32.804Z"
   },
   {
    "duration": 1416,
    "start_time": "2022-04-02T01:48:32.870Z"
   },
   {
    "duration": 26,
    "start_time": "2022-04-02T01:48:34.288Z"
   },
   {
    "duration": 361,
    "start_time": "2022-04-02T01:48:34.316Z"
   },
   {
    "duration": 350,
    "start_time": "2022-04-02T01:48:34.679Z"
   },
   {
    "duration": 360,
    "start_time": "2022-04-02T01:48:35.031Z"
   },
   {
    "duration": 17,
    "start_time": "2022-04-02T01:48:35.392Z"
   },
   {
    "duration": 10,
    "start_time": "2022-04-02T01:48:35.411Z"
   },
   {
    "duration": 7,
    "start_time": "2022-04-02T01:48:35.423Z"
   },
   {
    "duration": 11,
    "start_time": "2022-04-02T01:48:35.432Z"
   },
   {
    "duration": 63,
    "start_time": "2022-04-02T01:48:35.445Z"
   },
   {
    "duration": 10,
    "start_time": "2022-04-02T01:48:35.509Z"
   },
   {
    "duration": 10,
    "start_time": "2022-04-02T01:48:35.521Z"
   },
   {
    "duration": 22,
    "start_time": "2022-04-02T01:48:35.532Z"
   },
   {
    "duration": 1238,
    "start_time": "2022-04-02T01:52:11.388Z"
   },
   {
    "duration": 475,
    "start_time": "2022-04-02T01:52:12.629Z"
   },
   {
    "duration": 47,
    "start_time": "2022-04-02T01:52:13.105Z"
   },
   {
    "duration": 51,
    "start_time": "2022-04-02T01:52:13.154Z"
   },
   {
    "duration": 227,
    "start_time": "2022-04-02T01:52:13.207Z"
   },
   {
    "duration": 130,
    "start_time": "2022-04-02T01:52:13.436Z"
   },
   {
    "duration": 174,
    "start_time": "2022-04-02T01:52:13.568Z"
   },
   {
    "duration": 12,
    "start_time": "2022-04-02T01:52:13.743Z"
   },
   {
    "duration": 45,
    "start_time": "2022-04-02T01:52:13.757Z"
   },
   {
    "duration": 5,
    "start_time": "2022-04-02T01:52:13.804Z"
   },
   {
    "duration": 57,
    "start_time": "2022-04-02T01:52:13.811Z"
   },
   {
    "duration": 146,
    "start_time": "2022-04-02T01:52:13.869Z"
   },
   {
    "duration": 133,
    "start_time": "2022-04-02T01:52:14.017Z"
   },
   {
    "duration": 17,
    "start_time": "2022-04-02T01:52:14.153Z"
   },
   {
    "duration": 31,
    "start_time": "2022-04-02T01:52:14.171Z"
   },
   {
    "duration": 26,
    "start_time": "2022-04-02T01:52:14.204Z"
   },
   {
    "duration": 70,
    "start_time": "2022-04-02T01:52:14.232Z"
   },
   {
    "duration": 63,
    "start_time": "2022-04-02T01:52:14.304Z"
   },
   {
    "duration": 1418,
    "start_time": "2022-04-02T01:52:14.368Z"
   },
   {
    "duration": 23,
    "start_time": "2022-04-02T01:52:15.788Z"
   },
   {
    "duration": 359,
    "start_time": "2022-04-02T01:52:15.813Z"
   },
   {
    "duration": 373,
    "start_time": "2022-04-02T01:52:16.174Z"
   },
   {
    "duration": 361,
    "start_time": "2022-04-02T01:52:16.549Z"
   },
   {
    "duration": 10,
    "start_time": "2022-04-02T01:52:16.912Z"
   },
   {
    "duration": 10,
    "start_time": "2022-04-02T01:52:16.924Z"
   },
   {
    "duration": 8,
    "start_time": "2022-04-02T01:52:16.936Z"
   },
   {
    "duration": 11,
    "start_time": "2022-04-02T01:52:16.946Z"
   },
   {
    "duration": 66,
    "start_time": "2022-04-02T01:52:16.959Z"
   },
   {
    "duration": 11,
    "start_time": "2022-04-02T01:52:17.027Z"
   },
   {
    "duration": 11,
    "start_time": "2022-04-02T01:52:17.039Z"
   },
   {
    "duration": 7,
    "start_time": "2022-04-02T01:52:17.052Z"
   },
   {
    "duration": 1842,
    "start_time": "2022-04-12T15:59:17.521Z"
   },
   {
    "duration": 670,
    "start_time": "2022-04-12T15:59:19.366Z"
   },
   {
    "duration": 87,
    "start_time": "2022-04-12T15:59:20.038Z"
   },
   {
    "duration": 36,
    "start_time": "2022-04-12T15:59:20.128Z"
   },
   {
    "duration": 314,
    "start_time": "2022-04-12T15:59:20.166Z"
   },
   {
    "duration": 194,
    "start_time": "2022-04-12T15:59:20.482Z"
   },
   {
    "duration": 249,
    "start_time": "2022-04-12T15:59:20.679Z"
   },
   {
    "duration": 21,
    "start_time": "2022-04-12T15:59:20.931Z"
   },
   {
    "duration": 84,
    "start_time": "2022-04-12T15:59:20.955Z"
   },
   {
    "duration": 10,
    "start_time": "2022-04-12T15:59:21.044Z"
   },
   {
    "duration": 117,
    "start_time": "2022-04-12T15:59:21.057Z"
   },
   {
    "duration": 295,
    "start_time": "2022-04-12T15:59:21.177Z"
   },
   {
    "duration": 219,
    "start_time": "2022-04-12T15:59:21.474Z"
   },
   {
    "duration": 26,
    "start_time": "2022-04-12T15:59:21.695Z"
   },
   {
    "duration": 21,
    "start_time": "2022-04-12T15:59:21.724Z"
   },
   {
    "duration": 73,
    "start_time": "2022-04-12T15:59:21.748Z"
   },
   {
    "duration": 92,
    "start_time": "2022-04-12T15:59:21.824Z"
   },
   {
    "duration": 145,
    "start_time": "2022-04-12T15:59:21.919Z"
   },
   {
    "duration": 3448,
    "start_time": "2022-04-12T15:59:22.066Z"
   },
   {
    "duration": 38,
    "start_time": "2022-04-12T15:59:25.517Z"
   },
   {
    "duration": 835,
    "start_time": "2022-04-12T15:59:25.558Z"
   },
   {
    "duration": 591,
    "start_time": "2022-04-12T15:59:26.395Z"
   },
   {
    "duration": 572,
    "start_time": "2022-04-12T15:59:26.988Z"
   },
   {
    "duration": 32,
    "start_time": "2022-04-12T15:59:27.563Z"
   },
   {
    "duration": 13,
    "start_time": "2022-04-12T15:59:27.598Z"
   },
   {
    "duration": 13,
    "start_time": "2022-04-12T15:59:27.613Z"
   },
   {
    "duration": 16,
    "start_time": "2022-04-12T15:59:27.628Z"
   },
   {
    "duration": 59,
    "start_time": "2022-04-12T15:59:27.692Z"
   },
   {
    "duration": 40,
    "start_time": "2022-04-12T15:59:27.754Z"
   },
   {
    "duration": 13,
    "start_time": "2022-04-12T15:59:27.797Z"
   },
   {
    "duration": 10,
    "start_time": "2022-04-12T15:59:27.812Z"
   },
   {
    "duration": 48,
    "start_time": "2022-04-16T10:35:39.032Z"
   },
   {
    "duration": 1295,
    "start_time": "2022-04-16T10:35:54.232Z"
   },
   {
    "duration": 411,
    "start_time": "2022-04-16T10:35:56.649Z"
   },
   {
    "duration": 45,
    "start_time": "2022-04-16T10:36:12.179Z"
   },
   {
    "duration": 1023,
    "start_time": "2022-04-16T10:40:51.803Z"
   },
   {
    "duration": 424,
    "start_time": "2022-04-16T10:40:52.829Z"
   },
   {
    "duration": 39,
    "start_time": "2022-04-16T10:40:53.254Z"
   },
   {
    "duration": 21,
    "start_time": "2022-04-16T10:40:53.294Z"
   },
   {
    "duration": 214,
    "start_time": "2022-04-16T10:40:53.317Z"
   },
   {
    "duration": 115,
    "start_time": "2022-04-16T10:40:53.533Z"
   },
   {
    "duration": 149,
    "start_time": "2022-04-16T10:40:53.650Z"
   },
   {
    "duration": 2,
    "start_time": "2022-04-16T10:40:53.801Z"
   },
   {
    "duration": 4,
    "start_time": "2022-04-16T10:40:53.805Z"
   },
   {
    "duration": 6,
    "start_time": "2022-04-16T10:40:53.811Z"
   },
   {
    "duration": 63,
    "start_time": "2022-04-16T10:40:53.819Z"
   },
   {
    "duration": 113,
    "start_time": "2022-04-16T10:40:53.883Z"
   },
   {
    "duration": 115,
    "start_time": "2022-04-16T10:40:53.997Z"
   },
   {
    "duration": 15,
    "start_time": "2022-04-16T10:40:54.115Z"
   },
   {
    "duration": 26,
    "start_time": "2022-04-16T10:40:54.132Z"
   },
   {
    "duration": 27,
    "start_time": "2022-04-16T10:40:54.160Z"
   },
   {
    "duration": 37,
    "start_time": "2022-04-16T10:40:54.188Z"
   },
   {
    "duration": 66,
    "start_time": "2022-04-16T10:40:54.227Z"
   },
   {
    "duration": 1221,
    "start_time": "2022-04-16T10:40:54.295Z"
   },
   {
    "duration": 17,
    "start_time": "2022-04-16T10:40:55.518Z"
   },
   {
    "duration": 288,
    "start_time": "2022-04-16T10:40:55.536Z"
   },
   {
    "duration": 311,
    "start_time": "2022-04-16T10:40:55.826Z"
   },
   {
    "duration": 302,
    "start_time": "2022-04-16T10:40:56.138Z"
   },
   {
    "duration": 11,
    "start_time": "2022-04-16T10:40:56.441Z"
   },
   {
    "duration": 8,
    "start_time": "2022-04-16T10:40:56.453Z"
   },
   {
    "duration": 6,
    "start_time": "2022-04-16T10:40:56.462Z"
   },
   {
    "duration": 9,
    "start_time": "2022-04-16T10:40:56.469Z"
   },
   {
    "duration": 23,
    "start_time": "2022-04-16T10:40:56.479Z"
   },
   {
    "duration": 45,
    "start_time": "2022-04-16T10:40:56.504Z"
   },
   {
    "duration": 8,
    "start_time": "2022-04-16T10:40:56.551Z"
   },
   {
    "duration": 10,
    "start_time": "2022-04-16T10:40:56.561Z"
   },
   {
    "duration": 92,
    "start_time": "2022-04-16T10:47:19.364Z"
   },
   {
    "duration": 136,
    "start_time": "2022-04-16T10:47:28.411Z"
   },
   {
    "duration": 147,
    "start_time": "2022-04-16T10:47:47.618Z"
   },
   {
    "duration": 297,
    "start_time": "2022-04-16T10:47:57.504Z"
   },
   {
    "duration": 154,
    "start_time": "2022-04-16T10:48:04.128Z"
   },
   {
    "duration": 1994,
    "start_time": "2022-04-16T10:58:14.909Z"
   },
   {
    "duration": 365,
    "start_time": "2022-04-16T11:00:30.076Z"
   },
   {
    "duration": 642,
    "start_time": "2022-04-16T11:00:43.705Z"
   },
   {
    "duration": 681,
    "start_time": "2022-04-16T11:01:54.070Z"
   },
   {
    "duration": 660,
    "start_time": "2022-04-16T11:02:54.881Z"
   },
   {
    "duration": 648,
    "start_time": "2022-04-16T11:03:55.287Z"
   },
   {
    "duration": 780,
    "start_time": "2022-04-16T11:05:14.805Z"
   },
   {
    "duration": 658,
    "start_time": "2022-04-16T11:05:27.974Z"
   },
   {
    "duration": 655,
    "start_time": "2022-04-16T11:07:45.107Z"
   },
   {
    "duration": 647,
    "start_time": "2022-04-16T11:12:23.656Z"
   },
   {
    "duration": 793,
    "start_time": "2022-04-16T11:13:43.331Z"
   },
   {
    "duration": 683,
    "start_time": "2022-04-16T11:13:56.711Z"
   },
   {
    "duration": 715,
    "start_time": "2022-04-16T11:14:02.560Z"
   },
   {
    "duration": 865,
    "start_time": "2022-04-16T11:14:10.435Z"
   },
   {
    "duration": 416,
    "start_time": "2022-04-16T11:15:17.967Z"
   },
   {
    "duration": 704,
    "start_time": "2022-04-16T11:15:44.833Z"
   },
   {
    "duration": 796,
    "start_time": "2022-04-16T11:16:32.325Z"
   },
   {
    "duration": 696,
    "start_time": "2022-04-16T11:17:41.179Z"
   },
   {
    "duration": 718,
    "start_time": "2022-04-16T11:18:27.875Z"
   },
   {
    "duration": 867,
    "start_time": "2022-04-16T11:19:52.297Z"
   },
   {
    "duration": 736,
    "start_time": "2022-04-16T11:20:39.006Z"
   },
   {
    "duration": 671,
    "start_time": "2022-04-16T11:32:32.515Z"
   },
   {
    "duration": 825,
    "start_time": "2022-04-16T11:33:06.088Z"
   },
   {
    "duration": 672,
    "start_time": "2022-04-16T11:33:16.512Z"
   },
   {
    "duration": 660,
    "start_time": "2022-04-16T11:33:24.027Z"
   },
   {
    "duration": 786,
    "start_time": "2022-04-16T11:33:48.102Z"
   },
   {
    "duration": 684,
    "start_time": "2022-04-16T11:34:17.963Z"
   },
   {
    "duration": 673,
    "start_time": "2022-04-16T11:34:43.574Z"
   },
   {
    "duration": 407,
    "start_time": "2022-04-16T11:37:27.423Z"
   },
   {
    "duration": 457,
    "start_time": "2022-04-16T11:37:57.724Z"
   },
   {
    "duration": 664,
    "start_time": "2022-04-16T11:39:06.831Z"
   },
   {
    "duration": 664,
    "start_time": "2022-04-16T11:43:23.964Z"
   },
   {
    "duration": 787,
    "start_time": "2022-04-16T11:46:52.951Z"
   },
   {
    "duration": 682,
    "start_time": "2022-04-16T11:47:38.056Z"
   },
   {
    "duration": 657,
    "start_time": "2022-04-16T11:48:26.552Z"
   },
   {
    "duration": 817,
    "start_time": "2022-04-16T11:48:37.578Z"
   },
   {
    "duration": 669,
    "start_time": "2022-04-16T11:48:50.342Z"
   },
   {
    "duration": 15,
    "start_time": "2022-04-16T11:50:11.390Z"
   },
   {
    "duration": 14,
    "start_time": "2022-04-16T11:50:29.659Z"
   },
   {
    "duration": 653,
    "start_time": "2022-04-16T11:50:57.410Z"
   },
   {
    "duration": 1400,
    "start_time": "2022-04-16T11:55:18.416Z"
   },
   {
    "duration": 1238,
    "start_time": "2022-04-16T11:56:09.702Z"
   },
   {
    "duration": 274,
    "start_time": "2022-04-16T11:57:48.374Z"
   },
   {
    "duration": 757,
    "start_time": "2022-04-16T11:57:57.839Z"
   },
   {
    "duration": 102,
    "start_time": "2022-04-16T12:00:55.712Z"
   },
   {
    "duration": 360,
    "start_time": "2022-04-16T12:01:07.426Z"
   },
   {
    "duration": 373,
    "start_time": "2022-04-16T12:03:13.340Z"
   },
   {
    "duration": 519,
    "start_time": "2022-04-16T12:07:20.395Z"
   },
   {
    "duration": 8,
    "start_time": "2022-04-16T12:08:00.836Z"
   },
   {
    "duration": 526,
    "start_time": "2022-04-16T12:08:07.300Z"
   },
   {
    "duration": 2553,
    "start_time": "2022-04-16T12:09:11.697Z"
   },
   {
    "duration": 735,
    "start_time": "2022-04-16T12:11:32.340Z"
   },
   {
    "duration": 680,
    "start_time": "2022-04-16T12:12:09.045Z"
   },
   {
    "duration": 794,
    "start_time": "2022-04-16T12:12:33.016Z"
   },
   {
    "duration": 698,
    "start_time": "2022-04-16T12:12:50.415Z"
   },
   {
    "duration": 928,
    "start_time": "2022-04-16T12:13:10.561Z"
   },
   {
    "duration": 798,
    "start_time": "2022-04-16T12:13:32.253Z"
   },
   {
    "duration": 681,
    "start_time": "2022-04-16T12:13:55.746Z"
   },
   {
    "duration": 472,
    "start_time": "2022-04-16T12:17:47.018Z"
   },
   {
    "duration": 584,
    "start_time": "2022-04-16T12:18:29.393Z"
   },
   {
    "duration": 468,
    "start_time": "2022-04-16T12:19:22.645Z"
   },
   {
    "duration": 463,
    "start_time": "2022-04-16T12:20:56.802Z"
   },
   {
    "duration": 472,
    "start_time": "2022-04-16T12:23:32.384Z"
   },
   {
    "duration": 675,
    "start_time": "2022-04-16T12:25:21.572Z"
   },
   {
    "duration": 795,
    "start_time": "2022-04-16T12:25:37.879Z"
   },
   {
    "duration": 1571,
    "start_time": "2022-04-16T12:32:02.111Z"
   },
   {
    "duration": 1798,
    "start_time": "2022-04-16T12:32:43.526Z"
   },
   {
    "duration": 1772,
    "start_time": "2022-04-16T12:32:57.342Z"
   },
   {
    "duration": 1959,
    "start_time": "2022-04-16T12:34:53.653Z"
   },
   {
    "duration": 109,
    "start_time": "2022-04-16T12:36:54.541Z"
   },
   {
    "duration": 2019,
    "start_time": "2022-04-16T12:36:59.506Z"
   },
   {
    "duration": 303,
    "start_time": "2022-04-16T12:37:42.407Z"
   },
   {
    "duration": 1550,
    "start_time": "2022-04-16T12:38:00.798Z"
   },
   {
    "duration": 871,
    "start_time": "2022-04-16T12:38:51.215Z"
   },
   {
    "duration": 750,
    "start_time": "2022-04-16T12:39:09.949Z"
   },
   {
    "duration": 112,
    "start_time": "2022-04-16T12:40:57.442Z"
   },
   {
    "duration": 109,
    "start_time": "2022-04-16T12:41:18.861Z"
   },
   {
    "duration": 281,
    "start_time": "2022-04-16T12:41:31.161Z"
   },
   {
    "duration": 1311,
    "start_time": "2022-04-16T12:41:47.918Z"
   },
   {
    "duration": 1302,
    "start_time": "2022-04-16T12:42:04.718Z"
   },
   {
    "duration": 2059,
    "start_time": "2022-04-16T12:43:40.404Z"
   },
   {
    "duration": 25239,
    "start_time": "2022-04-16T12:44:57.389Z"
   },
   {
    "duration": 709,
    "start_time": "2022-04-16T12:47:49.904Z"
   },
   {
    "duration": 1263,
    "start_time": "2022-04-16T12:48:08.611Z"
   },
   {
    "duration": 686,
    "start_time": "2022-04-16T12:50:05.506Z"
   },
   {
    "duration": 688,
    "start_time": "2022-04-16T12:50:52.998Z"
   },
   {
    "duration": 17,
    "start_time": "2022-04-16T12:51:48.649Z"
   },
   {
    "duration": 16,
    "start_time": "2022-04-16T12:52:01.536Z"
   },
   {
    "duration": 18,
    "start_time": "2022-04-16T12:52:31.460Z"
   },
   {
    "duration": 20,
    "start_time": "2022-04-16T12:53:01.582Z"
   },
   {
    "duration": 815,
    "start_time": "2022-04-16T12:53:50.557Z"
   },
   {
    "duration": 738,
    "start_time": "2022-04-16T12:54:20.243Z"
   },
   {
    "duration": 377,
    "start_time": "2022-04-16T12:55:25.871Z"
   },
   {
    "duration": 815,
    "start_time": "2022-04-16T12:57:23.128Z"
   },
   {
    "duration": 794,
    "start_time": "2022-04-16T12:59:48.449Z"
   },
   {
    "duration": 799,
    "start_time": "2022-04-16T13:00:15.800Z"
   },
   {
    "duration": 942,
    "start_time": "2022-04-16T13:00:48.059Z"
   },
   {
    "duration": 800,
    "start_time": "2022-04-16T13:01:05.791Z"
   },
   {
    "duration": 945,
    "start_time": "2022-04-16T13:01:29.946Z"
   },
   {
    "duration": 797,
    "start_time": "2022-04-16T13:02:17.867Z"
   },
   {
    "duration": 927,
    "start_time": "2022-04-16T13:02:34.247Z"
   },
   {
    "duration": 793,
    "start_time": "2022-04-16T13:06:35.058Z"
   },
   {
    "duration": 785,
    "start_time": "2022-04-16T13:07:47.814Z"
   },
   {
    "duration": 116,
    "start_time": "2022-04-16T13:08:33.257Z"
   },
   {
    "duration": 973,
    "start_time": "2022-04-16T13:08:38.305Z"
   },
   {
    "duration": 794,
    "start_time": "2022-04-16T13:09:07.209Z"
   },
   {
    "duration": 933,
    "start_time": "2022-04-16T13:09:38.096Z"
   },
   {
    "duration": 285,
    "start_time": "2022-04-16T13:09:50.891Z"
   },
   {
    "duration": 827,
    "start_time": "2022-04-16T13:10:03.416Z"
   },
   {
    "duration": 945,
    "start_time": "2022-04-16T13:11:26.939Z"
   },
   {
    "duration": 806,
    "start_time": "2022-04-16T13:11:36.554Z"
   },
   {
    "duration": 853,
    "start_time": "2022-04-16T13:13:55.337Z"
   },
   {
    "duration": 813,
    "start_time": "2022-04-16T13:14:08.655Z"
   },
   {
    "duration": 833,
    "start_time": "2022-04-16T13:16:49.071Z"
   },
   {
    "duration": 947,
    "start_time": "2022-04-16T13:17:15.396Z"
   },
   {
    "duration": 1269,
    "start_time": "2022-04-16T13:19:23.453Z"
   },
   {
    "duration": 920,
    "start_time": "2022-04-16T13:19:53.349Z"
   },
   {
    "duration": 1114,
    "start_time": "2022-04-16T13:32:42.517Z"
   },
   {
    "duration": 424,
    "start_time": "2022-04-16T13:32:43.633Z"
   },
   {
    "duration": 38,
    "start_time": "2022-04-16T13:32:44.059Z"
   },
   {
    "duration": 22,
    "start_time": "2022-04-16T13:32:44.099Z"
   },
   {
    "duration": 203,
    "start_time": "2022-04-16T13:32:44.122Z"
   },
   {
    "duration": 109,
    "start_time": "2022-04-16T13:32:44.327Z"
   },
   {
    "duration": 137,
    "start_time": "2022-04-16T13:32:44.437Z"
   },
   {
    "duration": 3,
    "start_time": "2022-04-16T13:32:44.575Z"
   },
   {
    "duration": 5,
    "start_time": "2022-04-16T13:32:44.579Z"
   },
   {
    "duration": 5,
    "start_time": "2022-04-16T13:32:44.586Z"
   },
   {
    "duration": 66,
    "start_time": "2022-04-16T13:32:44.592Z"
   },
   {
    "duration": 116,
    "start_time": "2022-04-16T13:32:44.660Z"
   },
   {
    "duration": 120,
    "start_time": "2022-04-16T13:32:44.777Z"
   },
   {
    "duration": 15,
    "start_time": "2022-04-16T13:32:44.899Z"
   },
   {
    "duration": 12,
    "start_time": "2022-04-16T13:32:44.916Z"
   },
   {
    "duration": 39,
    "start_time": "2022-04-16T13:32:44.930Z"
   },
   {
    "duration": 37,
    "start_time": "2022-04-16T13:32:44.971Z"
   },
   {
    "duration": 81,
    "start_time": "2022-04-16T13:32:45.010Z"
   },
   {
    "duration": 1203,
    "start_time": "2022-04-16T13:32:45.093Z"
   },
   {
    "duration": 17,
    "start_time": "2022-04-16T13:32:46.298Z"
   },
   {
    "duration": 288,
    "start_time": "2022-04-16T13:32:46.316Z"
   },
   {
    "duration": 308,
    "start_time": "2022-04-16T13:32:46.606Z"
   },
   {
    "duration": 300,
    "start_time": "2022-04-16T13:32:46.915Z"
   },
   {
    "duration": 900,
    "start_time": "2022-04-16T13:32:47.217Z"
   },
   {
    "duration": 8,
    "start_time": "2022-04-16T13:32:48.118Z"
   },
   {
    "duration": 23,
    "start_time": "2022-04-16T13:32:48.128Z"
   },
   {
    "duration": 6,
    "start_time": "2022-04-16T13:32:48.152Z"
   },
   {
    "duration": 4,
    "start_time": "2022-04-16T13:32:48.161Z"
   },
   {
    "duration": 23,
    "start_time": "2022-04-16T13:32:48.167Z"
   },
   {
    "duration": 7,
    "start_time": "2022-04-16T13:32:48.192Z"
   },
   {
    "duration": 49,
    "start_time": "2022-04-16T13:32:48.201Z"
   },
   {
    "duration": 6,
    "start_time": "2022-04-16T13:32:48.251Z"
   }
  ],
  "kernelspec": {
   "display_name": "Python 3 (ipykernel)",
   "language": "python",
   "name": "python3"
  },
  "language_info": {
   "codemirror_mode": {
    "name": "ipython",
    "version": 3
   },
   "file_extension": ".py",
   "mimetype": "text/x-python",
   "name": "python",
   "nbconvert_exporter": "python",
   "pygments_lexer": "ipython3",
   "version": "3.9.7"
  },
  "toc": {
   "base_numbering": 1,
   "nav_menu": {},
   "number_sections": true,
   "sideBar": true,
   "skip_h1_title": true,
   "title_cell": "Table of Contents",
   "title_sidebar": "Contents",
   "toc_cell": false,
   "toc_position": {},
   "toc_section_display": true,
   "toc_window_display": true
  }
 },
 "nbformat": 4,
 "nbformat_minor": 2
}
