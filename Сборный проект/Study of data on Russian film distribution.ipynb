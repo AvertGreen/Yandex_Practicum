{
 "cells": [
  {
   "cell_type": "markdown",
   "metadata": {
    "id": "sIfNaMOxgFyK"
   },
   "source": [
    "## Исследование данных о российском кинопрокате\n",
    "\n",
    "Заказчик этого исследования — Министерство культуры Российской Федерации.  \n",
    "Нужно изучить рынок российского кинопроката и выявить текущие тренды. Уделим внимание фильмам, которые получили государственную поддержку. Попробуем ответить на вопрос, насколько такие фильмы интересны зрителю.\n",
    "Будем работать с данными, опубликованными на портале открытых данных Министерства культуры. Набор данных содержит информацию о прокатных удостоверениях, сборах и государственной поддержке фильмов, а также информацию с сайта КиноПоиск."
   ]
  },
  {
   "cell_type": "markdown",
   "metadata": {
    "id": "3bSlkCsbgFyL"
   },
   "source": [
    "###  Откроем файлы с данными и объединим их в один датафрейм. \n",
    "\n",
    "Объединим данные таким образом, чтобы все объекты из датасета `mkrf_movies` обязательно вошли в получившийся датафрейм. "
   ]
  },
  {
   "cell_type": "code",
   "execution_count": 1,
   "metadata": {},
   "outputs": [],
   "source": [
    "# импортируем необходимые библиотеки\n",
    "import pandas as pd\n",
    "import numpy as np\n",
    "import matplotlib.pyplot as plt\n",
    "import seaborn as sns\n",
    "from datetime import datetime\n",
    "import re"
   ]
  },
  {
   "cell_type": "code",
   "execution_count": 2,
   "metadata": {
    "id": "dw87FlzMgFyM"
   },
   "outputs": [
    {
     "name": "stdout",
     "output_type": "stream",
     "text": [
      "<class 'pandas.core.frame.DataFrame'>\n",
      "RangeIndex: 7486 entries, 0 to 7485\n",
      "Data columns (total 15 columns):\n",
      " #   Column                 Non-Null Count  Dtype  \n",
      "---  ------                 --------------  -----  \n",
      " 0   title                  7486 non-null   object \n",
      " 1   puNumber               7486 non-null   object \n",
      " 2   show_start_date        7486 non-null   object \n",
      " 3   type                   7486 non-null   object \n",
      " 4   film_studio            7468 non-null   object \n",
      " 5   production_country     7484 non-null   object \n",
      " 6   director               7477 non-null   object \n",
      " 7   producer               6918 non-null   object \n",
      " 8   age_restriction        7486 non-null   object \n",
      " 9   refundable_support     332 non-null    float64\n",
      " 10  nonrefundable_support  332 non-null    float64\n",
      " 11  budget                 332 non-null    float64\n",
      " 12  financing_source       332 non-null    object \n",
      " 13  ratings                6519 non-null   object \n",
      " 14  genres                 6510 non-null   object \n",
      "dtypes: float64(3), object(12)\n",
      "memory usage: 877.4+ KB\n",
      "<class 'pandas.core.frame.DataFrame'>\n",
      "RangeIndex: 3158 entries, 0 to 3157\n",
      "Data columns (total 2 columns):\n",
      " #   Column      Non-Null Count  Dtype  \n",
      "---  ------      --------------  -----  \n",
      " 0   puNumber    3158 non-null   int64  \n",
      " 1   box_office  3158 non-null   float64\n",
      "dtypes: float64(1), int64(1)\n",
      "memory usage: 49.5 KB\n"
     ]
    }
   ],
   "source": [
    "# загрузим фалы с данными и ознакомимся с ними\n",
    "\n",
    "try:\n",
    "    df_movies = pd.read_csv('/datasets/mkrf_movies.csv')\n",
    "    df_shows = pd.read_csv('/datasets/mkrf_shows.csv')\n",
    "except:\n",
    "    df_movies = pd.read_csv('/Users/alex/Desktop/Яндекс_Практикум/Проекты/Сборный_проект/mkrf_movies.csv')\n",
    "    df_shows = pd.read_csv('/Users/alex/Desktop/Яндекс_Практикум/Проекты/Сборный_проект/mkrf_shows.csv')\n",
    "    \n",
    "df_movies.info()\n",
    "df_shows.info()"
   ]
  },
  {
   "cell_type": "code",
   "execution_count": 3,
   "metadata": {},
   "outputs": [
    {
     "data": {
      "text/html": [
       "<div>\n",
       "<style scoped>\n",
       "    .dataframe tbody tr th:only-of-type {\n",
       "        vertical-align: middle;\n",
       "    }\n",
       "\n",
       "    .dataframe tbody tr th {\n",
       "        vertical-align: top;\n",
       "    }\n",
       "\n",
       "    .dataframe thead th {\n",
       "        text-align: right;\n",
       "    }\n",
       "</style>\n",
       "<table border=\"1\" class=\"dataframe\">\n",
       "  <thead>\n",
       "    <tr style=\"text-align: right;\">\n",
       "      <th></th>\n",
       "      <th>title</th>\n",
       "      <th>puNumber</th>\n",
       "      <th>show_start_date</th>\n",
       "      <th>type</th>\n",
       "      <th>film_studio</th>\n",
       "      <th>production_country</th>\n",
       "      <th>director</th>\n",
       "      <th>producer</th>\n",
       "      <th>age_restriction</th>\n",
       "      <th>refundable_support</th>\n",
       "      <th>nonrefundable_support</th>\n",
       "      <th>budget</th>\n",
       "      <th>financing_source</th>\n",
       "      <th>ratings</th>\n",
       "      <th>genres</th>\n",
       "      <th>box_office</th>\n",
       "    </tr>\n",
       "  </thead>\n",
       "  <tbody>\n",
       "    <tr>\n",
       "      <th>3896</th>\n",
       "      <td>Амелия</td>\n",
       "      <td>221082810</td>\n",
       "      <td>2010-07-15T12:00:00.000Z</td>\n",
       "      <td>Художественный</td>\n",
       "      <td>А Е Электра Продакшнз, Авалон Пикчерз, Фокс Се...</td>\n",
       "      <td>США - Канада</td>\n",
       "      <td>Мира Наир</td>\n",
       "      <td>Рональд Басс, Дон Кармоди, Лидия Дин Пилчер</td>\n",
       "      <td>«12+» - для детей старше 12 лет</td>\n",
       "      <td>NaN</td>\n",
       "      <td>NaN</td>\n",
       "      <td>NaN</td>\n",
       "      <td>NaN</td>\n",
       "      <td>6.5</td>\n",
       "      <td>драма,мелодрама,приключения</td>\n",
       "      <td>NaN</td>\n",
       "    </tr>\n",
       "  </tbody>\n",
       "</table>\n",
       "</div>"
      ],
      "text/plain": [
       "       title   puNumber           show_start_date            type  \\\n",
       "3896  Амелия  221082810  2010-07-15T12:00:00.000Z  Художественный   \n",
       "\n",
       "                                            film_studio production_country  \\\n",
       "3896  А Е Электра Продакшнз, Авалон Пикчерз, Фокс Се...       США - Канада   \n",
       "\n",
       "       director                                     producer  \\\n",
       "3896  Мира Наир  Рональд Басс, Дон Кармоди, Лидия Дин Пилчер   \n",
       "\n",
       "                      age_restriction  refundable_support  \\\n",
       "3896  «12+» - для детей старше 12 лет                 NaN   \n",
       "\n",
       "      nonrefundable_support  budget financing_source ratings  \\\n",
       "3896                    NaN     NaN              NaN     6.5   \n",
       "\n",
       "                           genres  box_office  \n",
       "3896  драма,мелодрама,приключения         NaN  "
      ]
     },
     "metadata": {},
     "output_type": "display_data"
    },
    {
     "name": "stdout",
     "output_type": "stream",
     "text": [
      "<class 'pandas.core.frame.DataFrame'>\n",
      "Int64Index: 7486 entries, 0 to 7485\n",
      "Data columns (total 16 columns):\n",
      " #   Column                 Non-Null Count  Dtype  \n",
      "---  ------                 --------------  -----  \n",
      " 0   title                  7486 non-null   object \n",
      " 1   puNumber               7486 non-null   object \n",
      " 2   show_start_date        7486 non-null   object \n",
      " 3   type                   7486 non-null   object \n",
      " 4   film_studio            7468 non-null   object \n",
      " 5   production_country     7484 non-null   object \n",
      " 6   director               7477 non-null   object \n",
      " 7   producer               6918 non-null   object \n",
      " 8   age_restriction        7486 non-null   object \n",
      " 9   refundable_support     332 non-null    float64\n",
      " 10  nonrefundable_support  332 non-null    float64\n",
      " 11  budget                 332 non-null    float64\n",
      " 12  financing_source       332 non-null    object \n",
      " 13  ratings                6519 non-null   object \n",
      " 14  genres                 6510 non-null   object \n",
      " 15  box_office             3158 non-null   float64\n",
      "dtypes: float64(4), object(12)\n",
      "memory usage: 994.2+ KB\n"
     ]
    }
   ],
   "source": [
    "# объединим обе таблицы в одну по столбцу 'puNumber',\n",
    "# предварительно приведя его к строковому типу\n",
    "df_shows['puNumber'] = df_shows['puNumber'].astype(str)\n",
    "df = df_movies.merge(df_shows, on='puNumber', how='left')\n",
    "\n",
    "display(df.sample(1))\n",
    "df.info()"
   ]
  },
  {
   "cell_type": "markdown",
   "metadata": {},
   "source": [
    "Все строки столбца `box_office` вошли в новый датасет, данные не утеряны.  \n",
    "Тип данных в столбце с номерами прокатных удостоверений делаем строковыми, т.к. это идентификаторы, работать как с числами с этим столбом не потребуется."
   ]
  },
  {
   "cell_type": "markdown",
   "metadata": {},
   "source": [
    "Таблица `mkrf_movies` содержит информацию из реестра прокатных удостоверений. У одного фильма может быть несколько прокатных удостоверений.\n",
    "* title — название фильма;\n",
    "* puNumber — номер прокатного удостоверения;\n",
    "* show_start_date — дата премьеры фильма;\n",
    "* type — тип фильма;\n",
    "* film_studio — студия-производитель;\n",
    "* production_country — страна-производитель;\n",
    "* director — режиссёр;\n",
    "* producer — продюсер;\n",
    "* age_restriction — возрастная категория;\n",
    "* refundable_support — объём возвратных средств государственной поддержки;\n",
    "* nonrefundable_support — объём невозвратных средств государственной поддержки;\n",
    "* financing_source — источник государственного финансирования;\n",
    "* budget — общий бюджет фильма;\n",
    "* ratings — рейтинг фильма на КиноПоиске;\n",
    "* genres — жанр фильма.  \n",
    "Столбец `budget` уже включает в себя полный объём государственной поддержки. Данные в этом столбце указаны только для тех фильмов, которые получили государственную поддержку.  \n",
    "\n",
    "Таблица `mkrf_shows` содержит сведения о показах фильмов в российских кинотеатрах.\n",
    "* puNumber — номер прокатного удостоверения;\n",
    "* box_office — сборы в рублях.  \n",
    "\n",
    "В таблице шестнадцать столбцов. Тип данных — float64, object."
   ]
  },
  {
   "cell_type": "code",
   "execution_count": 4,
   "metadata": {},
   "outputs": [
    {
     "data": {
      "text/plain": [
       "Index(['title', 'pu_number', 'show_start_date', 'type', 'film_studio',\n",
       "       'production_country', 'director', 'producer', 'age_restriction',\n",
       "       'refundable_support', 'nonrefundable_support', 'budget',\n",
       "       'financing_source', 'ratings', 'genres', 'box_office'],\n",
       "      dtype='object')"
      ]
     },
     "execution_count": 4,
     "metadata": {},
     "output_type": "execute_result"
    }
   ],
   "source": [
    "# переименуем столбец\n",
    "df.rename(columns = {'puNumber' : 'pu_number'}, inplace = True)\n",
    "df.columns"
   ]
  },
  {
   "cell_type": "markdown",
   "metadata": {
    "id": "KLDGpPG0gFyM"
   },
   "source": [
    "### Предобработка данных"
   ]
  },
  {
   "cell_type": "markdown",
   "metadata": {
    "id": "ssWwKXsxgFyO"
   },
   "source": [
    "#### Типы данных, пропуски в датафрейме\n",
    "\n",
    "- Проверим типы данных в датафрейме и преобразуем их там, где это необходимо.\n",
    "- Объясним, почему заполнили пропуски определённым образом или почему не стали этого делать."
   ]
  },
  {
   "cell_type": "code",
   "execution_count": 5,
   "metadata": {
    "id": "kVGSplJOgFyO"
   },
   "outputs": [
    {
     "data": {
      "text/plain": [
       "3083   2015-12-25\n",
       "Name: show_start_date, dtype: datetime64[ns]"
      ]
     },
     "execution_count": 5,
     "metadata": {},
     "output_type": "execute_result"
    }
   ],
   "source": [
    "# столбец с датой конвертируем в формат даты\n",
    "df['show_start_date'] = pd.to_datetime(df['show_start_date'], format = '%Y-%m-%d')\n",
    "df['show_start_date'] = df['show_start_date'].dt.strftime('%Y-%m-%d')\n",
    "df['show_start_date'] = pd.to_datetime(df['show_start_date'], format = '%Y-%m-%d')\n",
    "df['show_start_date'].sample(1)"
   ]
  },
  {
   "cell_type": "code",
   "execution_count": 6,
   "metadata": {},
   "outputs": [
    {
     "data": {
      "text/plain": [
       "array([7.2, 6.6, 6.8, 7.7, 8.3, 8. , 7.8, 8.1, 7.1, 6. , 7.4, 5.8, 8.7,\n",
       "       6.3, 6.9, 5. , 4.3, 7.3, 7. , 6.4, nan, 8.2, 7.5, 6.7, 7.9, 5.9,\n",
       "       6.2, 5.6, 6.5, 2.4, 7.6, 6.1, 8.6, 8.5, 8.8, 5.5, 5.1, 5.7, 5.4,\n",
       "       9.9, 4.4, 4.5, 5.3, 4.1, 8.4, 2.6, 3.8, 4.6, 4.8, 4. , 3. , 1.6,\n",
       "       4.2, 5.2, 4.7, 4.9, 3.9, 2.7, 3.3, 2.9, 2.8, 3.7, 1.4, 3.1, 9.7,\n",
       "       3.5, 3.2, 1.5, 2.1, 2.5, 9.2, 3.4, 1.1, 3.6, 9.1, 9.4, 9. , 1.9,\n",
       "       1. , 8.9, 1.3, 1.8, 1.2, 1.7, 9.8])"
      ]
     },
     "execution_count": 6,
     "metadata": {},
     "output_type": "execute_result"
    }
   ],
   "source": [
    "# столбец с рейтингом приведём к типу `float`\n",
    "# заменим все значения типа `xx%` на `x.x`\n",
    "rat = df['ratings'].str.replace('%', '', regex=True).astype(float)\n",
    "df['ratings'] = rat.where(rat < 9.9, rat/10)\n",
    "df['ratings'].unique()"
   ]
  },
  {
   "cell_type": "code",
   "execution_count": 7,
   "metadata": {
    "scrolled": false
   },
   "outputs": [
    {
     "data": {
      "image/png": "[encoded data removed]",
      "text/plain": [
       "<Figure size 432x288 with 2 Axes>"
      ]
     },
     "metadata": {
      "needs_background": "light"
     },
     "output_type": "display_data"
    },
    {
     "name": "stdout",
     "output_type": "stream",
     "text": [
      "title - 0.0%\n",
      "pu_number - 0.0%\n",
      "show_start_date - 0.0%\n",
      "type - 0.0%\n",
      "film_studio - 0.24%\n",
      "production_country - 0.03%\n",
      "director - 0.12%\n",
      "producer - 7.59%\n",
      "age_restriction - 0.0%\n",
      "refundable_support - 95.57%\n",
      "nonrefundable_support - 95.57%\n",
      "budget - 95.57%\n",
      "financing_source - 95.57%\n",
      "ratings - 12.92%\n",
      "genres - 13.04%\n",
      "box_office - 57.81%\n"
     ]
    }
   ],
   "source": [
    "# тепловая карта пропущенных значений\n",
    "# пропущенные значения в процентах\n",
    "sns.heatmap(df.isnull())\n",
    "plt.show()\n",
    "\n",
    "for cl in df.columns:\n",
    "    pctm = np.mean(df[cl].isnull())\n",
    "    print('{} - {}%'.format(cl, round((pctm*100), 2)))"
   ]
  },
  {
   "cell_type": "code",
   "execution_count": 10,
   "metadata": {
    "scrolled": true
   },
   "outputs": [
    {
     "data": {
      "text/plain": [
       "38000000.0     6\n",
       "50000000.0     4\n",
       "80000000.0     4\n",
       "40000000.0     3\n",
       "37142857.0     3\n",
       "              ..\n",
       "56693559.0     1\n",
       "57166797.0     1\n",
       "109814241.0    1\n",
       "41000000.0     1\n",
       "42252509.0     1\n",
       "Name: budget, Length: 289, dtype: int64"
      ]
     },
     "execution_count": 10,
     "metadata": {},
     "output_type": "execute_result"
    }
   ],
   "source": [
    "# заменим нулевые значения в столбце с бюджетом фильма на пропущенные значения\n",
    "df.loc[df['budget'] == 0, 'budget'] = np.nan\n",
    "df['budget'].value_counts()"
   ]
  },
  {
   "cell_type": "markdown",
   "metadata": {},
   "source": [
    "Бюджет фильма не может быть нулевым (ну или это какие-то экстремальные значения)."
   ]
  },
  {
   "cell_type": "code",
   "execution_count": 11,
   "metadata": {},
   "outputs": [
    {
     "data": {
      "text/plain": [
       "200.0          13\n",
       "300.0          12\n",
       "360.0           9\n",
       "500.0           8\n",
       "400.0           8\n",
       "               ..\n",
       "809638458.6     1\n",
       "220728.0        1\n",
       "11332412.0      1\n",
       "268550254.0     1\n",
       "52984377.0      1\n",
       "Name: box_office, Length: 2937, dtype: int64"
      ]
     },
     "execution_count": 11,
     "metadata": {},
     "output_type": "execute_result"
    }
   ],
   "source": [
    "# заменим нулевые значения в столбце со собрами фильма на пропущенные значения\n",
    "df.loc[df['box_office'] == 0, 'box_office'] = np.nan\n",
    "df['box_office'].value_counts()"
   ]
  },
  {
   "cell_type": "markdown",
   "metadata": {},
   "source": [
    "Сборы у фильма, вышедшего в прокат, не могут быть нулевыми, это либо неверно заполненные, либо просто не указанные или аномальные значения."
   ]
  },
  {
   "cell_type": "markdown",
   "metadata": {
    "id": "8MJD_lkngFyP"
   },
   "source": [
    "**Вывод**  \n",
    "Дату привели к специальному формату `datetime` .  \n",
    "Столбец с рейтингом фильма привели к типу `float`, исправив некорректно записанные значения.  \n",
    "В столбцах `refundable_support`, `budget`, `box_office`, -  нули заменили на пропуски.  \n",
    "Пропущенные значения в столбцах `film_studio`, `production_country`, `director`, `producer`, `genres` имеют строковый тип данных, достаточно небольшйо процент пропусков и лучше оставить пропущенные значения, чем удалять, либо чем-то заполнять их.  \n",
    "Пропущенные значения в столбцах `refundable_support`, `nonrefundable_support`, `budget` - связаны между собой, данные заполнены менее чем в `5%` случаев, если заполнять пропуски медианой, средним, etc., - можно кардинальным образом изменить дальнейшие выводы и подсчёты, поэтому пропуски оставим как есть.  \n",
    "То же самое касается и столбца `box_office`, где указаны сборы фильмов, пропусков более `42%`, любые замены на медиану и т.п. изменят общую картину. Обрезать же базу данных по непропущенным значениям так же не лучший способ, можно сделать неверные выводы по неполным данным."
   ]
  },
  {
   "cell_type": "markdown",
   "metadata": {
    "id": "4c6k1t9ygFyQ"
   },
   "source": [
    "#### Дубликаты в датафрейме, категориальные значения\n",
    "\n",
    "- Проверим, есть ли в данных дубликаты. Опишем причины, которые могли повлиять на появление дублей.\n",
    "- Посмотрим, какая общая проблема встречается почти во всех категориальных столбцах;\n",
    "- Исправим проблемные значения в поле `type`."
   ]
  },
  {
   "cell_type": "code",
   "execution_count": 12,
   "metadata": {},
   "outputs": [
    {
     "data": {
      "text/plain": [
       "0"
      ]
     },
     "execution_count": 12,
     "metadata": {},
     "output_type": "execute_result"
    }
   ],
   "source": [
    "# подсчёт явных дубликатов\n",
    "df.duplicated().sum()"
   ]
  },
  {
   "cell_type": "markdown",
   "metadata": {},
   "source": [
    "Явных дубликатов нет."
   ]
  },
  {
   "cell_type": "code",
   "execution_count": 13,
   "metadata": {},
   "outputs": [
    {
     "data": {
      "text/plain": [
       "221054410    2\n",
       "221154310    2\n",
       "121016711    1\n",
       "126001116    1\n",
       "121013411    1\n",
       "            ..\n",
       "121004813    1\n",
       "121024316    1\n",
       "221027016    1\n",
       "121020811    1\n",
       "121001118    1\n",
       "Name: pu_number, Length: 7484, dtype: int64"
      ]
     },
     "execution_count": 13,
     "metadata": {},
     "output_type": "execute_result"
    }
   ],
   "source": [
    "# проверим дубликаты в столбце с номерами прокатных удостоверений\n",
    "df['pu_number'].value_counts()"
   ]
  },
  {
   "cell_type": "code",
   "execution_count": 14,
   "metadata": {},
   "outputs": [
    {
     "data": {
      "text/html": [
       "<div>\n",
       "<style scoped>\n",
       "    .dataframe tbody tr th:only-of-type {\n",
       "        vertical-align: middle;\n",
       "    }\n",
       "\n",
       "    .dataframe tbody tr th {\n",
       "        vertical-align: top;\n",
       "    }\n",
       "\n",
       "    .dataframe thead th {\n",
       "        text-align: right;\n",
       "    }\n",
       "</style>\n",
       "<table border=\"1\" class=\"dataframe\">\n",
       "  <thead>\n",
       "    <tr style=\"text-align: right;\">\n",
       "      <th></th>\n",
       "      <th>title</th>\n",
       "      <th>pu_number</th>\n",
       "      <th>show_start_date</th>\n",
       "      <th>type</th>\n",
       "      <th>film_studio</th>\n",
       "      <th>production_country</th>\n",
       "      <th>director</th>\n",
       "      <th>producer</th>\n",
       "      <th>age_restriction</th>\n",
       "      <th>refundable_support</th>\n",
       "      <th>nonrefundable_support</th>\n",
       "      <th>budget</th>\n",
       "      <th>financing_source</th>\n",
       "      <th>ratings</th>\n",
       "      <th>genres</th>\n",
       "      <th>box_office</th>\n",
       "    </tr>\n",
       "  </thead>\n",
       "  <tbody>\n",
       "    <tr>\n",
       "      <th>5067</th>\n",
       "      <td>Анализируй это!</td>\n",
       "      <td>221054410</td>\n",
       "      <td>2010-05-25</td>\n",
       "      <td>Художественный</td>\n",
       "      <td>Уорнер Бразерс, Вилладж Роудшоу Филмз ЛТД</td>\n",
       "      <td>США-Австралия</td>\n",
       "      <td>ХЭрольд Рэмис</td>\n",
       "      <td>Джейн Розенталь, Пола Уейнстейн</td>\n",
       "      <td>«16+» - для детей старше 16 лет</td>\n",
       "      <td>NaN</td>\n",
       "      <td>NaN</td>\n",
       "      <td>NaN</td>\n",
       "      <td>NaN</td>\n",
       "      <td>7.4</td>\n",
       "      <td>комедия,криминал</td>\n",
       "      <td>NaN</td>\n",
       "    </tr>\n",
       "    <tr>\n",
       "      <th>5068</th>\n",
       "      <td>Анализируй то!</td>\n",
       "      <td>221054410</td>\n",
       "      <td>2010-05-25</td>\n",
       "      <td>Художественный</td>\n",
       "      <td>Уорнер Бразерс, Виллидж Роадшоу Пикчерз, Эн-Пи...</td>\n",
       "      <td>США</td>\n",
       "      <td>Гарольд Реймис</td>\n",
       "      <td>Джейн Розенталь, Паул Уэйнстейн</td>\n",
       "      <td>«12+» - для детей старше 12 лет</td>\n",
       "      <td>NaN</td>\n",
       "      <td>NaN</td>\n",
       "      <td>NaN</td>\n",
       "      <td>NaN</td>\n",
       "      <td>6.8</td>\n",
       "      <td>комедия,криминал</td>\n",
       "      <td>NaN</td>\n",
       "    </tr>\n",
       "  </tbody>\n",
       "</table>\n",
       "</div>"
      ],
      "text/plain": [
       "                title  pu_number show_start_date            type  \\\n",
       "5067  Анализируй это!  221054410      2010-05-25  Художественный   \n",
       "5068   Анализируй то!  221054410      2010-05-25  Художественный   \n",
       "\n",
       "                                            film_studio production_country  \\\n",
       "5067          Уорнер Бразерс, Вилладж Роудшоу Филмз ЛТД      США-Австралия   \n",
       "5068  Уорнер Бразерс, Виллидж Роадшоу Пикчерз, Эн-Пи...                США   \n",
       "\n",
       "            director                         producer  \\\n",
       "5067   ХЭрольд Рэмис  Джейн Розенталь, Пола Уейнстейн   \n",
       "5068  Гарольд Реймис  Джейн Розенталь, Паул Уэйнстейн   \n",
       "\n",
       "                      age_restriction  refundable_support  \\\n",
       "5067  «16+» - для детей старше 16 лет                 NaN   \n",
       "5068  «12+» - для детей старше 12 лет                 NaN   \n",
       "\n",
       "      nonrefundable_support  budget financing_source  ratings  \\\n",
       "5067                    NaN     NaN              NaN      7.4   \n",
       "5068                    NaN     NaN              NaN      6.8   \n",
       "\n",
       "                genres  box_office  \n",
       "5067  комедия,криминал         NaN  \n",
       "5068  комедия,криминал         NaN  "
      ]
     },
     "metadata": {},
     "output_type": "display_data"
    },
    {
     "data": {
      "text/html": [
       "<div>\n",
       "<style scoped>\n",
       "    .dataframe tbody tr th:only-of-type {\n",
       "        vertical-align: middle;\n",
       "    }\n",
       "\n",
       "    .dataframe tbody tr th {\n",
       "        vertical-align: top;\n",
       "    }\n",
       "\n",
       "    .dataframe thead th {\n",
       "        text-align: right;\n",
       "    }\n",
       "</style>\n",
       "<table border=\"1\" class=\"dataframe\">\n",
       "  <thead>\n",
       "    <tr style=\"text-align: right;\">\n",
       "      <th></th>\n",
       "      <th>title</th>\n",
       "      <th>pu_number</th>\n",
       "      <th>show_start_date</th>\n",
       "      <th>type</th>\n",
       "      <th>film_studio</th>\n",
       "      <th>production_country</th>\n",
       "      <th>director</th>\n",
       "      <th>producer</th>\n",
       "      <th>age_restriction</th>\n",
       "      <th>refundable_support</th>\n",
       "      <th>nonrefundable_support</th>\n",
       "      <th>budget</th>\n",
       "      <th>financing_source</th>\n",
       "      <th>ratings</th>\n",
       "      <th>genres</th>\n",
       "      <th>box_office</th>\n",
       "    </tr>\n",
       "  </thead>\n",
       "  <tbody>\n",
       "    <tr>\n",
       "      <th>4638</th>\n",
       "      <td>Как жениться и остаться холостым</td>\n",
       "      <td>221154310</td>\n",
       "      <td>2010-12-17</td>\n",
       "      <td>Художественный</td>\n",
       "      <td>Ше Вам, Скрипт Ассосье, Тэ Фэ 1 Фильм Продюксь...</td>\n",
       "      <td>Франция</td>\n",
       "      <td>Эрик Лартиго</td>\n",
       "      <td>Амандин Било, Алан Шаба</td>\n",
       "      <td>«16+» - для детей старше 16 лет</td>\n",
       "      <td>NaN</td>\n",
       "      <td>NaN</td>\n",
       "      <td>NaN</td>\n",
       "      <td>NaN</td>\n",
       "      <td>7.0</td>\n",
       "      <td>мелодрама,комедия</td>\n",
       "      <td>NaN</td>\n",
       "    </tr>\n",
       "    <tr>\n",
       "      <th>4639</th>\n",
       "      <td>Иоанна - женщина на папском престоле /По роман...</td>\n",
       "      <td>221154310</td>\n",
       "      <td>2010-12-17</td>\n",
       "      <td>Художественный</td>\n",
       "      <td>Константин Фильм, А Эр Ди Дегето Фильм, Дюне ...</td>\n",
       "      <td>Германия - Великобритания - Италия - Испания</td>\n",
       "      <td>Зенке Вортманн</td>\n",
       "      <td>Оливер Бербен, Дорис Д.Хайнце, Фарук Элтан</td>\n",
       "      <td>«16+» - для детей старше 16 лет</td>\n",
       "      <td>NaN</td>\n",
       "      <td>NaN</td>\n",
       "      <td>NaN</td>\n",
       "      <td>NaN</td>\n",
       "      <td>7.6</td>\n",
       "      <td>драма,мелодрама,история</td>\n",
       "      <td>NaN</td>\n",
       "    </tr>\n",
       "  </tbody>\n",
       "</table>\n",
       "</div>"
      ],
      "text/plain": [
       "                                                  title  pu_number  \\\n",
       "4638                   Как жениться и остаться холостым  221154310   \n",
       "4639  Иоанна - женщина на папском престоле /По роман...  221154310   \n",
       "\n",
       "     show_start_date            type  \\\n",
       "4638      2010-12-17  Художественный   \n",
       "4639      2010-12-17  Художественный   \n",
       "\n",
       "                                            film_studio  \\\n",
       "4638  Ше Вам, Скрипт Ассосье, Тэ Фэ 1 Фильм Продюксь...   \n",
       "4639   Константин Фильм, А Эр Ди Дегето Фильм, Дюне ...   \n",
       "\n",
       "                                production_country        director  \\\n",
       "4638                                       Франция    Эрик Лартиго   \n",
       "4639  Германия - Великобритания - Италия - Испания  Зенке Вортманн   \n",
       "\n",
       "                                        producer  \\\n",
       "4638                     Амандин Било, Алан Шаба   \n",
       "4639  Оливер Бербен, Дорис Д.Хайнце, Фарук Элтан   \n",
       "\n",
       "                      age_restriction  refundable_support  \\\n",
       "4638  «16+» - для детей старше 16 лет                 NaN   \n",
       "4639  «16+» - для детей старше 16 лет                 NaN   \n",
       "\n",
       "      nonrefundable_support  budget financing_source  ratings  \\\n",
       "4638                    NaN     NaN              NaN      7.0   \n",
       "4639                    NaN     NaN              NaN      7.6   \n",
       "\n",
       "                       genres  box_office  \n",
       "4638        мелодрама,комедия         NaN  \n",
       "4639  драма,мелодрама,история         NaN  "
      ]
     },
     "execution_count": 14,
     "metadata": {},
     "output_type": "execute_result"
    }
   ],
   "source": [
    "# посмотрим что за дублирущие номера прокатных удостоверений\n",
    "display(df[(df['pu_number'] == '221054410')])\n",
    "df[(df['pu_number'] == '221154310')]"
   ]
  },
  {
   "cell_type": "markdown",
   "metadata": {},
   "source": [
    "Фильмы под прокатным удостоверением `221054410` вероятнее всего одинаковые, но не совсем ясно, как быть с различающейся информацией в других яйчейках.  \n",
    "Фильмы под прокатным удостоверением `221154310` разные. Примем решение оставить эти данные, не удалять строки с данными."
   ]
  },
  {
   "cell_type": "code",
   "execution_count": 15,
   "metadata": {},
   "outputs": [
    {
     "data": {
      "text/plain": [
       "День святого Валентина_                                        5\n",
       "Гарри Поттер и Дары Смерти - Часть 1/По роману Дж.К.Ролинг/    4\n",
       "Белая мгла /По комиксу Грега Рукка и Стива Либера/             4\n",
       "Дорога /По новелле Кормака МкКарфи/                            4\n",
       "Двойной копец                                                  4\n",
       "                                                              ..\n",
       "Цирк .                                                         1\n",
       "Побочный эффект (2016)                                         1\n",
       "Принцесса-лягушка: Тайна волшебной комнаты                     1\n",
       "Осень                                                          1\n",
       "Анимационный фильм \"Сказки полуночи\"                           1\n",
       "Name: title, Length: 6772, dtype: int64"
      ]
     },
     "execution_count": 15,
     "metadata": {},
     "output_type": "execute_result"
    }
   ],
   "source": [
    "# одинаковые названия фильмов\n",
    "df['title'].value_counts()"
   ]
  },
  {
   "cell_type": "markdown",
   "metadata": {},
   "source": [
    "Фильмы вполне себе могут быть с одинаковыми названиями, это не уникальный идентификатор, но есть проблемы в написании названий фильмов, посторонние знаки: подчёркивания, точки, строчные и прописные буквы, запись иностранных названий в кириллице и т.п., - нет унифицированной формы записи названия фильма."
   ]
  },
  {
   "cell_type": "code",
   "execution_count": 16,
   "metadata": {},
   "outputs": [
    {
     "data": {
      "text/plain": [
       "array(['Художественный', 'Анимационный', 'Прочие', 'Документальный',\n",
       "       'Научно-популярный', 'Музыкально-развлекательный'], dtype=object)"
      ]
     },
     "execution_count": 16,
     "metadata": {},
     "output_type": "execute_result"
    }
   ],
   "source": [
    "# удалим пробелы в начале значений, в столбце `type` \n",
    "df['type'] = df['type'].str.strip()\n",
    "df['type'].unique()"
   ]
  },
  {
   "cell_type": "code",
   "execution_count": 17,
   "metadata": {},
   "outputs": [
    {
     "data": {
      "text/plain": [
       "Киностудия \"Мосфильм\"                                                                                         341\n",
       "ООО \"Мульт в кино\"                                                                                             57\n",
       "Анимаккорд Лтд                                                                                                 23\n",
       "ООО \"Мульт в кино\"                                                                                             18\n",
       "ФГУП \"ТПО \"Киностудия \"Союзмультфильм\"                                                                         16\n",
       "                                                                                                             ... \n",
       "Филм Колони, Мо Фильм, Икс Игрек Зед Филмз                                                                      1\n",
       "Мэзон до Синема, Судэн Компани, Нат/Болт Продакшнз, Тэ Пэ Эс Стар, Канал +, Мангуст Продюксьон, Кофинова 7      1\n",
       "Раи Синема, Фанданго, Интеза Сан Паоло, Фарос Филм                                                              1\n",
       "Клоузест Ту Зе Хоул Продакшнс, Файтер, Мэндевиль Филмс, Релативити Медиа, Вайнштейн Компани                     1\n",
       "Америкэн Зоетроуп, БИМ Дистрибуционе, Торнасол Фильм, Зоетропа                                                  1\n",
       "Name: film_studio, Length: 5490, dtype: int64"
      ]
     },
     "execution_count": 17,
     "metadata": {},
     "output_type": "execute_result"
    }
   ],
   "source": [
    "# количество фильмов у студий\n",
    "df['film_studio'].value_counts()"
   ]
  },
  {
   "cell_type": "code",
   "execution_count": 18,
   "metadata": {
    "id": "aKck8RIdgFyQ",
    "scrolled": true
   },
   "outputs": [
    {
     "data": {
      "text/plain": [
       "США                                                               2172\n",
       "Россия                                                            1821\n",
       "СССР                                                               347\n",
       "Франция                                                            301\n",
       "Великобритания                                                     257\n",
       "                                                                  ... \n",
       "Великобритания - Россия - КНР                                        1\n",
       "Испания-Аргентина                                                    1\n",
       "Чехия - Испания - США                                                1\n",
       "Франция - Бельгия - Великобритания - США - Нидерланды - Канада       1\n",
       "Грузия - Франция - Люксембург                                        1\n",
       "Name: production_country, Length: 950, dtype: int64"
      ]
     },
     "execution_count": 18,
     "metadata": {},
     "output_type": "execute_result"
    }
   ],
   "source": [
    "# страны, выпустившие фильмы\n",
    "df['production_country'].value_counts()"
   ]
  },
  {
   "cell_type": "code",
   "execution_count": 19,
   "metadata": {},
   "outputs": [
    {
     "data": {
      "text/plain": [
       "О.Семёнова               47\n",
       "Стивен Содерберг         17\n",
       "Д.Червяцов               17\n",
       "Ридли Скотт              16\n",
       "Тиль Швайгер             14\n",
       "                         ..\n",
       "В.Иванов, С.Комаров       1\n",
       "Джулия Тэймор             1\n",
       "Томми О'Хэйвер            1\n",
       "Жак Перрен, Жак Клюзо     1\n",
       "Митци Пейроне             1\n",
       "Name: director, Length: 4811, dtype: int64"
      ]
     },
     "execution_count": 19,
     "metadata": {},
     "output_type": "execute_result"
    }
   ],
   "source": [
    "# количество фильмов у режиссёров\n",
    "df['director'].value_counts()"
   ]
  },
  {
   "cell_type": "code",
   "execution_count": 20,
   "metadata": {},
   "outputs": [
    {
     "data": {
      "text/plain": [
       "П.Смирнов                                        67\n",
       "Олег Кузовков, Дмитрий Ловейко, Марина Ратина    28\n",
       "С.Сельянов                                       18\n",
       "Д.Ловейко, О.Кузовков                            17\n",
       "А.Тельнов                                        11\n",
       "                                                 ..\n",
       "С.Сельянов, С.Бодров-старший                      1\n",
       "Р.Хамдамов, А.Кончаловский, Л.Обминяная           1\n",
       "Ю.Грымов                                          1\n",
       "Фэн Сяоган, Джон Чонг                             1\n",
       "Хироми Вакабаяси, Кацуя Масумото                  1\n",
       "Name: producer, Length: 5349, dtype: int64"
      ]
     },
     "execution_count": 20,
     "metadata": {},
     "output_type": "execute_result"
    }
   ],
   "source": [
    "# количество фильмов у продюсеров\n",
    "df['producer'].value_counts()"
   ]
  },
  {
   "cell_type": "code",
   "execution_count": 21,
   "metadata": {},
   "outputs": [
    {
     "data": {
      "text/plain": [
       "«16+» - для детей старше 16 лет           2851\n",
       "«18+» - запрещено для детей               1605\n",
       "«12+» - для детей старше 12 лет           1593\n",
       "«0+» - для любой зрительской аудитории     811\n",
       "«6+» - для детей старше 6 лет              626\n",
       "Name: age_restriction, dtype: int64"
      ]
     },
     "execution_count": 21,
     "metadata": {},
     "output_type": "execute_result"
    }
   ],
   "source": [
    "# выведем данные по возрастным категориям фильма\n",
    "df['age_restriction'].value_counts()"
   ]
  },
  {
   "cell_type": "markdown",
   "metadata": {},
   "source": [
    "В возрастных категориях данные заполнены хорошо."
   ]
  },
  {
   "cell_type": "code",
   "execution_count": 22,
   "metadata": {
    "scrolled": true
   },
   "outputs": [
    {
     "data": {
      "text/plain": [
       "драма                         476\n",
       "комедия                       352\n",
       "мелодрама,комедия             222\n",
       "драма,мелодрама,комедия       189\n",
       "драма,мелодрама               183\n",
       "                             ... \n",
       "фэнтези,драма,биография         1\n",
       "семейный,детектив,детский       1\n",
       "мелодрама,триллер,история       1\n",
       "комедия,криминал,биография      1\n",
       "фэнтези,комедия,драма           1\n",
       "Name: genres, Length: 742, dtype: int64"
      ]
     },
     "execution_count": 22,
     "metadata": {},
     "output_type": "execute_result"
    }
   ],
   "source": [
    "# уникальные данные по жанрам фильмов\n",
    "df['genres'].value_counts()"
   ]
  },
  {
   "cell_type": "code",
   "execution_count": 23,
   "metadata": {
    "scrolled": true
   },
   "outputs": [
    {
     "data": {
      "text/plain": [
       "Министерство культуры               164\n",
       "Фонд кино                           146\n",
       "Министерство культуры, Фонд кино     22\n",
       "Name: financing_source, dtype: int64"
      ]
     },
     "execution_count": 23,
     "metadata": {},
     "output_type": "execute_result"
    }
   ],
   "source": [
    "# уникальные данные по источнику государственного финансирования\n",
    "df['financing_source'].value_counts()"
   ]
  },
  {
   "cell_type": "markdown",
   "metadata": {},
   "source": [
    "**Вывод**  \n",
    "\n",
    "В столбцах с категориальными значениями данные заполнены грязно, нет унифицированной формы для заполнения: подчёркивания, точки, строчные и прописные буквы, запись иностранных названий в кириллице и т.п.. Многие категории требуют мультииндекса, т.к. количество стран, жанров, продюсеров, режиссёров, киностудий - может быть больше одного, ну либо по каждой стране должен быть свой столбец с булевыми значениями.  \n",
    "Единственные качественные заполненные категориальные данные - возрастные категории фильма, предполагаю, что при заполнении нужно просто выбрать значение из выпадающего списка, что положительным образом влияет на качество собираемых данных.  \n",
    "Исправили значения в столбце `type`, были пробелы в названиях."
   ]
  },
  {
   "cell_type": "markdown",
   "metadata": {
    "id": "XFSN5lrEgFyR"
   },
   "source": [
    "#### Количественные значения"
   ]
  },
  {
   "cell_type": "markdown",
   "metadata": {},
   "source": [
    "Количество значений в столбцах `refundable_support`, `nonrefundable_support`, `budget`, `financing_source` одинаково и равно `332`. Отсюда следует, что данные по бюджету фильма есть только у тех фильмов, которые спонсировались государством, по остальным фильмам бюджет не предоставлен, возможно, это связано с особенностью работы киноиндустрии, когда конечный бюджет фильма либо не делается публичным, либо не считается целиком вовсе, ну а для гос.финансирования необходимо предоставить конкретные сметы."
   ]
  },
  {
   "cell_type": "code",
   "execution_count": 24,
   "metadata": {
    "id": "YbzClBxagFyS"
   },
   "outputs": [
    {
     "data": {
      "text/html": [
       "<div>\n",
       "<style scoped>\n",
       "    .dataframe tbody tr th:only-of-type {\n",
       "        vertical-align: middle;\n",
       "    }\n",
       "\n",
       "    .dataframe tbody tr th {\n",
       "        vertical-align: top;\n",
       "    }\n",
       "\n",
       "    .dataframe thead th {\n",
       "        text-align: right;\n",
       "    }\n",
       "</style>\n",
       "<table border=\"1\" class=\"dataframe\">\n",
       "  <thead>\n",
       "    <tr style=\"text-align: right;\">\n",
       "      <th></th>\n",
       "      <th>financing_source</th>\n",
       "      <th>budget</th>\n",
       "      <th>nonrefundable_support</th>\n",
       "      <th>refundable_support</th>\n",
       "      <th>ratio</th>\n",
       "    </tr>\n",
       "  </thead>\n",
       "  <tbody>\n",
       "    <tr>\n",
       "      <th>0</th>\n",
       "      <td>Министерство культуры</td>\n",
       "      <td>1.146920e+10</td>\n",
       "      <td>4.836661e+09</td>\n",
       "      <td>0.000000e+00</td>\n",
       "      <td>42.17</td>\n",
       "    </tr>\n",
       "    <tr>\n",
       "      <th>1</th>\n",
       "      <td>Министерство культуры, Фонд кино</td>\n",
       "      <td>2.626310e+09</td>\n",
       "      <td>8.599314e+08</td>\n",
       "      <td>3.255000e+08</td>\n",
       "      <td>45.14</td>\n",
       "    </tr>\n",
       "    <tr>\n",
       "      <th>2</th>\n",
       "      <td>Фонд кино</td>\n",
       "      <td>2.814475e+10</td>\n",
       "      <td>1.056510e+10</td>\n",
       "      <td>3.613500e+09</td>\n",
       "      <td>50.38</td>\n",
       "    </tr>\n",
       "  </tbody>\n",
       "</table>\n",
       "</div>"
      ],
      "text/plain": [
       "                   financing_source        budget  nonrefundable_support  \\\n",
       "0             Министерство культуры  1.146920e+10           4.836661e+09   \n",
       "1  Министерство культуры, Фонд кино  2.626310e+09           8.599314e+08   \n",
       "2                         Фонд кино  2.814475e+10           1.056510e+10   \n",
       "\n",
       "   refundable_support  ratio  \n",
       "0        0.000000e+00  42.17  \n",
       "1        3.255000e+08  45.14  \n",
       "2        3.613500e+09  50.38  "
      ]
     },
     "execution_count": 24,
     "metadata": {},
     "output_type": "execute_result"
    }
   ],
   "source": [
    "# посмотрим на фильмы, финансируемые государством\n",
    "df_pivot_table_financing_source = df.pivot_table(index = 'financing_source',\n",
    "               values=['refundable_support',\n",
    "                       'nonrefundable_support',\n",
    "                       'budget'], aggfunc=sum).reset_index()\n",
    "df_pivot_table_financing_source['ratio'] = round(((df_pivot_table_financing_source['nonrefundable_support'] +\n",
    "                                                  df_pivot_table_financing_source['refundable_support'])/\n",
    "                                                 df_pivot_table_financing_source['budget']*100), 2)\n",
    "\n",
    "df_pivot_table_financing_source"
   ]
  },
  {
   "cell_type": "markdown",
   "metadata": {},
   "source": [
    "Весь указанный бюджет фильмов, почти наполовину проспонсирован государством."
   ]
  },
  {
   "cell_type": "code",
   "execution_count": 25,
   "metadata": {},
   "outputs": [
    {
     "data": {
      "text/html": [
       "<div>\n",
       "<style scoped>\n",
       "    .dataframe tbody tr th:only-of-type {\n",
       "        vertical-align: middle;\n",
       "    }\n",
       "\n",
       "    .dataframe tbody tr th {\n",
       "        vertical-align: top;\n",
       "    }\n",
       "\n",
       "    .dataframe thead th {\n",
       "        text-align: right;\n",
       "    }\n",
       "</style>\n",
       "<table border=\"1\" class=\"dataframe\">\n",
       "  <thead>\n",
       "    <tr style=\"text-align: right;\">\n",
       "      <th></th>\n",
       "      <th>refundable_support</th>\n",
       "      <th>nonrefundable_support</th>\n",
       "      <th>budget</th>\n",
       "      <th>ratings</th>\n",
       "      <th>box_office</th>\n",
       "    </tr>\n",
       "  </thead>\n",
       "  <tbody>\n",
       "    <tr>\n",
       "      <th>count</th>\n",
       "      <td>3.320000e+02</td>\n",
       "      <td>3.320000e+02</td>\n",
       "      <td>3.150000e+02</td>\n",
       "      <td>6519.000000</td>\n",
       "      <td>3.134000e+03</td>\n",
       "    </tr>\n",
       "    <tr>\n",
       "      <th>mean</th>\n",
       "      <td>1.186446e+07</td>\n",
       "      <td>4.898099e+07</td>\n",
       "      <td>1.340961e+08</td>\n",
       "      <td>6.488173</td>\n",
       "      <td>7.706437e+07</td>\n",
       "    </tr>\n",
       "    <tr>\n",
       "      <th>std</th>\n",
       "      <td>2.491656e+07</td>\n",
       "      <td>5.998012e+07</td>\n",
       "      <td>1.912260e+08</td>\n",
       "      <td>1.114638</td>\n",
       "      <td>2.411784e+08</td>\n",
       "    </tr>\n",
       "    <tr>\n",
       "      <th>min</th>\n",
       "      <td>0.000000e+00</td>\n",
       "      <td>0.000000e+00</td>\n",
       "      <td>1.446246e+07</td>\n",
       "      <td>1.000000</td>\n",
       "      <td>4.000000e+01</td>\n",
       "    </tr>\n",
       "    <tr>\n",
       "      <th>25%</th>\n",
       "      <td>0.000000e+00</td>\n",
       "      <td>2.500000e+07</td>\n",
       "      <td>4.615387e+07</td>\n",
       "      <td>5.900000</td>\n",
       "      <td>1.010288e+05</td>\n",
       "    </tr>\n",
       "    <tr>\n",
       "      <th>50%</th>\n",
       "      <td>0.000000e+00</td>\n",
       "      <td>3.000000e+07</td>\n",
       "      <td>7.337955e+07</td>\n",
       "      <td>6.600000</td>\n",
       "      <td>2.409099e+06</td>\n",
       "    </tr>\n",
       "    <tr>\n",
       "      <th>75%</th>\n",
       "      <td>1.500000e+07</td>\n",
       "      <td>4.037500e+07</td>\n",
       "      <td>1.500043e+08</td>\n",
       "      <td>7.200000</td>\n",
       "      <td>2.456979e+07</td>\n",
       "    </tr>\n",
       "    <tr>\n",
       "      <th>max</th>\n",
       "      <td>1.800000e+08</td>\n",
       "      <td>4.000000e+08</td>\n",
       "      <td>2.305074e+09</td>\n",
       "      <td>9.900000</td>\n",
       "      <td>3.073569e+09</td>\n",
       "    </tr>\n",
       "  </tbody>\n",
       "</table>\n",
       "</div>"
      ],
      "text/plain": [
       "       refundable_support  nonrefundable_support        budget      ratings  \\\n",
       "count        3.320000e+02           3.320000e+02  3.150000e+02  6519.000000   \n",
       "mean         1.186446e+07           4.898099e+07  1.340961e+08     6.488173   \n",
       "std          2.491656e+07           5.998012e+07  1.912260e+08     1.114638   \n",
       "min          0.000000e+00           0.000000e+00  1.446246e+07     1.000000   \n",
       "25%          0.000000e+00           2.500000e+07  4.615387e+07     5.900000   \n",
       "50%          0.000000e+00           3.000000e+07  7.337955e+07     6.600000   \n",
       "75%          1.500000e+07           4.037500e+07  1.500043e+08     7.200000   \n",
       "max          1.800000e+08           4.000000e+08  2.305074e+09     9.900000   \n",
       "\n",
       "         box_office  \n",
       "count  3.134000e+03  \n",
       "mean   7.706437e+07  \n",
       "std    2.411784e+08  \n",
       "min    4.000000e+01  \n",
       "25%    1.010288e+05  \n",
       "50%    2.409099e+06  \n",
       "75%    2.456979e+07  \n",
       "max    3.073569e+09  "
      ]
     },
     "execution_count": 25,
     "metadata": {},
     "output_type": "execute_result"
    }
   ],
   "source": [
    "# посмотрим числовую информацию по датафрейму\n",
    "df.describe()"
   ]
  },
  {
   "cell_type": "code",
   "execution_count": 26,
   "metadata": {},
   "outputs": [
    {
     "data": {
      "text/html": [
       "<div>\n",
       "<style scoped>\n",
       "    .dataframe tbody tr th:only-of-type {\n",
       "        vertical-align: middle;\n",
       "    }\n",
       "\n",
       "    .dataframe tbody tr th {\n",
       "        vertical-align: top;\n",
       "    }\n",
       "\n",
       "    .dataframe thead th {\n",
       "        text-align: right;\n",
       "    }\n",
       "</style>\n",
       "<table border=\"1\" class=\"dataframe\">\n",
       "  <thead>\n",
       "    <tr style=\"text-align: right;\">\n",
       "      <th></th>\n",
       "      <th>budget</th>\n",
       "      <th>nonrefundable_support</th>\n",
       "      <th>refundable_support</th>\n",
       "    </tr>\n",
       "  </thead>\n",
       "  <tbody>\n",
       "    <tr>\n",
       "      <th>budget</th>\n",
       "      <td>1.000000</td>\n",
       "      <td>0.628934</td>\n",
       "      <td>0.667699</td>\n",
       "    </tr>\n",
       "    <tr>\n",
       "      <th>nonrefundable_support</th>\n",
       "      <td>0.628934</td>\n",
       "      <td>1.000000</td>\n",
       "      <td>0.359622</td>\n",
       "    </tr>\n",
       "    <tr>\n",
       "      <th>refundable_support</th>\n",
       "      <td>0.667699</td>\n",
       "      <td>0.359622</td>\n",
       "      <td>1.000000</td>\n",
       "    </tr>\n",
       "  </tbody>\n",
       "</table>\n",
       "</div>"
      ],
      "text/plain": [
       "                         budget  nonrefundable_support  refundable_support\n",
       "budget                 1.000000               0.628934            0.667699\n",
       "nonrefundable_support  0.628934               1.000000            0.359622\n",
       "refundable_support     0.667699               0.359622            1.000000"
      ]
     },
     "execution_count": 26,
     "metadata": {},
     "output_type": "execute_result"
    },
    {
     "data": {
      "image/png": "[encoded data removed]",
      "text/plain": [
       "<Figure size 648x648 with 9 Axes>"
      ]
     },
     "metadata": {
      "needs_background": "light"
     },
     "output_type": "display_data"
    }
   ],
   "source": [
    "# построим матрицу диаграмм рассеяния\n",
    "df_budget_pivot = df.pivot_table(index='pu_number',\n",
    "                                 values=['budget', 'refundable_support', 'nonrefundable_support'], aggfunc='mean')\n",
    "pd.plotting.scatter_matrix(df_budget_pivot, figsize=(9, 9))\n",
    "df_budget_pivot.corr()"
   ]
  },
  {
   "cell_type": "code",
   "execution_count": 27,
   "metadata": {},
   "outputs": [
    {
     "data": {
      "image/png": "[encoded data removed]",
      "text/plain": [
       "<Figure size 432x288 with 1 Axes>"
      ]
     },
     "metadata": {
      "needs_background": "light"
     },
     "output_type": "display_data"
    },
    {
     "data": {
      "image/png": "[encoded data removed]",
      "text/plain": [
       "<Figure size 432x288 with 1 Axes>"
      ]
     },
     "metadata": {
      "needs_background": "light"
     },
     "output_type": "display_data"
    }
   ],
   "source": [
    "# посмотрим распределение данных в столбце с рейтингом фильмов\n",
    "df.pivot_table(index='pu_number', values='ratings', aggfunc='median').hist()\n",
    "df.pivot_table(index='pu_number', values='ratings', aggfunc='mean').hist()\n",
    "plt.show()"
   ]
  },
  {
   "cell_type": "markdown",
   "metadata": {},
   "source": [
    "Данные с рейтингом рапределены достаточно равномерно, графики среднего и медианы совпадают."
   ]
  },
  {
   "cell_type": "code",
   "execution_count": 28,
   "metadata": {
    "scrolled": false
   },
   "outputs": [
    {
     "data": {
      "image/png": "[encoded data removed]",
      "text/plain": [
       "<Figure size 432x288 with 1 Axes>"
      ]
     },
     "metadata": {
      "needs_background": "light"
     },
     "output_type": "display_data"
    },
    {
     "data": {
      "image/png": "[encoded data removed]",
      "text/plain": [
       "<Figure size 432x288 with 1 Axes>"
      ]
     },
     "metadata": {
      "needs_background": "light"
     },
     "output_type": "display_data"
    },
    {
     "data": {
      "text/plain": [
       "2409099.355"
      ]
     },
     "metadata": {},
     "output_type": "display_data"
    }
   ],
   "source": [
    "# посмотрим распределение данных в столбце с кассовым сбором фильмов\n",
    "df.query('1000000<box_office<10000000').pivot_table(index='pu_number', values='box_office', aggfunc='mean').boxplot()\n",
    "plt.show()\n",
    "df.query('box_office<1000000')['box_office'].hist(bins=100)\n",
    "plt.show()\n",
    "display(df['box_office'].median())"
   ]
  },
  {
   "cell_type": "markdown",
   "metadata": {},
   "source": [
    "Огромный разброс данных по столбцу со сборами фильмов."
   ]
  },
  {
   "cell_type": "code",
   "execution_count": 29,
   "metadata": {
    "scrolled": false
   },
   "outputs": [
    {
     "data": {
      "text/html": [
       "<div>\n",
       "<style scoped>\n",
       "    .dataframe tbody tr th:only-of-type {\n",
       "        vertical-align: middle;\n",
       "    }\n",
       "\n",
       "    .dataframe tbody tr th {\n",
       "        vertical-align: top;\n",
       "    }\n",
       "\n",
       "    .dataframe thead th {\n",
       "        text-align: right;\n",
       "    }\n",
       "</style>\n",
       "<table border=\"1\" class=\"dataframe\">\n",
       "  <thead>\n",
       "    <tr style=\"text-align: right;\">\n",
       "      <th></th>\n",
       "      <th>title</th>\n",
       "      <th>pu_number</th>\n",
       "      <th>show_start_date</th>\n",
       "      <th>type</th>\n",
       "      <th>film_studio</th>\n",
       "      <th>production_country</th>\n",
       "      <th>director</th>\n",
       "      <th>producer</th>\n",
       "      <th>age_restriction</th>\n",
       "      <th>refundable_support</th>\n",
       "      <th>nonrefundable_support</th>\n",
       "      <th>budget</th>\n",
       "      <th>financing_source</th>\n",
       "      <th>ratings</th>\n",
       "      <th>genres</th>\n",
       "      <th>box_office</th>\n",
       "    </tr>\n",
       "  </thead>\n",
       "  <tbody>\n",
       "    <tr>\n",
       "      <th>151</th>\n",
       "      <td>Жестокий романс</td>\n",
       "      <td>111006013</td>\n",
       "      <td>2013-10-18</td>\n",
       "      <td>Художественный</td>\n",
       "      <td>Киностудия \"Мосфильм\"</td>\n",
       "      <td>СССР</td>\n",
       "      <td>Э.Рязанов</td>\n",
       "      <td>NaN</td>\n",
       "      <td>«12+» - для детей старше 12 лет</td>\n",
       "      <td>NaN</td>\n",
       "      <td>NaN</td>\n",
       "      <td>NaN</td>\n",
       "      <td>NaN</td>\n",
       "      <td>8.1</td>\n",
       "      <td>драма,мелодрама,история</td>\n",
       "      <td>40.0</td>\n",
       "    </tr>\n",
       "    <tr>\n",
       "      <th>1180</th>\n",
       "      <td>Астерикс и Обеликс в Британии 3D</td>\n",
       "      <td>121025012</td>\n",
       "      <td>2012-10-05</td>\n",
       "      <td>Художественный</td>\n",
       "      <td>Уайлд Банч, Фиделите Фильм, Филм Кайрос, Синет...</td>\n",
       "      <td>Франция-Италия-Испания-Венгрия</td>\n",
       "      <td>Лоран Тирар</td>\n",
       "      <td>Оливье Делбоск, Марк Миссонье</td>\n",
       "      <td>«6+» - для детей старше 6 лет</td>\n",
       "      <td>NaN</td>\n",
       "      <td>NaN</td>\n",
       "      <td>NaN</td>\n",
       "      <td>NaN</td>\n",
       "      <td>5.6</td>\n",
       "      <td>комедия,приключения,семейный</td>\n",
       "      <td>80.0</td>\n",
       "    </tr>\n",
       "    <tr>\n",
       "      <th>2274</th>\n",
       "      <td>Каменный цветок.</td>\n",
       "      <td>111016714</td>\n",
       "      <td>2014-12-01</td>\n",
       "      <td>Художественный</td>\n",
       "      <td>Киностудия \"Мосфильм\"</td>\n",
       "      <td>СССР</td>\n",
       "      <td>А.Птушко</td>\n",
       "      <td>NaN</td>\n",
       "      <td>«0+» - для любой зрительской аудитории</td>\n",
       "      <td>NaN</td>\n",
       "      <td>NaN</td>\n",
       "      <td>NaN</td>\n",
       "      <td>NaN</td>\n",
       "      <td>7.1</td>\n",
       "      <td>фэнтези,драма,мелодрама</td>\n",
       "      <td>50.0</td>\n",
       "    </tr>\n",
       "    <tr>\n",
       "      <th>3917</th>\n",
       "      <td>22 пули: Бессмертный</td>\n",
       "      <td>121006410</td>\n",
       "      <td>2010-04-01</td>\n",
       "      <td>Художественный</td>\n",
       "      <td>Еуроп Корпорейшн</td>\n",
       "      <td>Франция</td>\n",
       "      <td>Ришар Бери</td>\n",
       "      <td>Люк Бессон, Дидье Хорау, Пьер-Анж Ле Погам</td>\n",
       "      <td>«16+» - для детей старше 16 лет</td>\n",
       "      <td>NaN</td>\n",
       "      <td>NaN</td>\n",
       "      <td>NaN</td>\n",
       "      <td>NaN</td>\n",
       "      <td>7.1</td>\n",
       "      <td>боевик,драма,криминал</td>\n",
       "      <td>75.0</td>\n",
       "    </tr>\n",
       "  </tbody>\n",
       "</table>\n",
       "</div>"
      ],
      "text/plain": [
       "                                 title  pu_number show_start_date  \\\n",
       "151                    Жестокий романс  111006013      2013-10-18   \n",
       "1180  Астерикс и Обеликс в Британии 3D  121025012      2012-10-05   \n",
       "2274                  Каменный цветок.  111016714      2014-12-01   \n",
       "3917              22 пули: Бессмертный  121006410      2010-04-01   \n",
       "\n",
       "                type                                        film_studio  \\\n",
       "151   Художественный                              Киностудия \"Мосфильм\"   \n",
       "1180  Художественный  Уайлд Банч, Фиделите Фильм, Филм Кайрос, Синет...   \n",
       "2274  Художественный                              Киностудия \"Мосфильм\"   \n",
       "3917  Художественный                                   Еуроп Корпорейшн   \n",
       "\n",
       "                  production_country     director  \\\n",
       "151                             СССР    Э.Рязанов   \n",
       "1180  Франция-Италия-Испания-Венгрия  Лоран Тирар   \n",
       "2274                            СССР     А.Птушко   \n",
       "3917                         Франция   Ришар Бери   \n",
       "\n",
       "                                        producer  \\\n",
       "151                                          NaN   \n",
       "1180               Оливье Делбоск, Марк Миссонье   \n",
       "2274                                         NaN   \n",
       "3917  Люк Бессон, Дидье Хорау, Пьер-Анж Ле Погам   \n",
       "\n",
       "                             age_restriction  refundable_support  \\\n",
       "151          «12+» - для детей старше 12 лет                 NaN   \n",
       "1180           «6+» - для детей старше 6 лет                 NaN   \n",
       "2274  «0+» - для любой зрительской аудитории                 NaN   \n",
       "3917         «16+» - для детей старше 16 лет                 NaN   \n",
       "\n",
       "      nonrefundable_support  budget financing_source  ratings  \\\n",
       "151                     NaN     NaN              NaN      8.1   \n",
       "1180                    NaN     NaN              NaN      5.6   \n",
       "2274                    NaN     NaN              NaN      7.1   \n",
       "3917                    NaN     NaN              NaN      7.1   \n",
       "\n",
       "                            genres  box_office  \n",
       "151        драма,мелодрама,история        40.0  \n",
       "1180  комедия,приключения,семейный        80.0  \n",
       "2274       фэнтези,драма,мелодрама        50.0  \n",
       "3917         боевик,драма,криминал        75.0  "
      ]
     },
     "execution_count": 29,
     "metadata": {},
     "output_type": "execute_result"
    }
   ],
   "source": [
    "df.query('box_office<100')"
   ]
  },
  {
   "cell_type": "markdown",
   "metadata": {},
   "source": [
    "Есть целых четыре фильма со сборами менее 100 рублей!"
   ]
  },
  {
   "cell_type": "code",
   "execution_count": 30,
   "metadata": {
    "scrolled": false
   },
   "outputs": [
    {
     "data": {
      "text/plain": [
       "200.0       13\n",
       "300.0       12\n",
       "360.0        9\n",
       "250.0        8\n",
       "500.0        8\n",
       "            ..\n",
       "14430.0      1\n",
       "268600.0     1\n",
       "288019.5     1\n",
       "132820.0     1\n",
       "1570.0       1\n",
       "Name: box_office, Length: 1037, dtype: int64"
      ]
     },
     "execution_count": 30,
     "metadata": {},
     "output_type": "execute_result"
    }
   ],
   "source": [
    "# посмотрим количество фильмов со сбором менее миллиона\n",
    "df.query('box_office<1000000')['box_office'].value_counts()"
   ]
  },
  {
   "cell_type": "markdown",
   "metadata": {},
   "source": [
    "**Вывод**  \n",
    "\n",
    "* Основная часть фильмов с бюджетом менее `25млн`.  \n",
    "* Невозвратное госфинансирование фильмов, в основном, менее `5млн`.  \n",
    "* Возвратное госфинансирование фильмов в основном менее `2.5млн`.  \n",
    "* Максимальная сумма невозвратного финансирования: `400млн.`;\n",
    "* Максимальная сумма возвратного финансирования: `180млн.`;\n",
    "* Минимальная сумма невозвратного финансирования: `3млн.`;\n",
    "* Минимальная сумма возвратного финансирования: `3.5млн.`;\n",
    "\n",
    "Фонд кино спонсирует фильмы больше всего, причём основная масса предоставляемого финансирования - невозвратная.  \n",
    "Весь указанный бюджет фильмов достаточно сильно скоррелирован с государственным финансированием.\n",
    "\n",
    "* Основная часть фильмов имеет рейтинг в диапазоне `5.5-7.5`;\n",
    "* Минимальный рейтинг фильмов: `1`;\n",
    "* Максимальный рейтинг фильмов: `9.9`.\n",
    "* Среднее значение суммы сборов фильма: `70млн`, а медиана: `2.4млн`, разница в несколько раз, что говорит о выборосах.\n",
    "* Минимальная сумма сборов: `40`;\n",
    "* Максимальная сумма сборов: `3млд`.  \n",
    "\n",
    "Если миллиарды в сборах вполне могут быть и это реальные известные фильмы (Мстители, Холоп, Зверополис и т.п.), то большое количество минимальных значенияй, явно говорят нам о выбросах, некорректных данных (чаще всего это фильмы времён СССР, но год проката стоит вполне себе современный, например, фильм [Жестокий романс](https://www.kinopoisk.ru/film/45314/), что вызывает вопросы о корректности заполнения данных в целом). Можно было бы сделать срез до миллиона, но это почти треть всех данных по сборам. Поэтому оставим данные как есть."
   ]
  },
  {
   "cell_type": "markdown",
   "metadata": {
    "id": "Eu6oWp2CgFyS"
   },
   "source": [
    "#### Добавим новые столбцы"
   ]
  },
  {
   "cell_type": "markdown",
   "metadata": {
    "id": "7GgW-UpAgFyS"
   },
   "source": [
    "- Создадим столбец с информацией о годе проката. Выделим год из даты премьеры фильма."
   ]
  },
  {
   "cell_type": "code",
   "execution_count": 31,
   "metadata": {
    "id": "I-yd1DkWgFyT"
   },
   "outputs": [
    {
     "data": {
      "text/html": [
       "<div>\n",
       "<style scoped>\n",
       "    .dataframe tbody tr th:only-of-type {\n",
       "        vertical-align: middle;\n",
       "    }\n",
       "\n",
       "    .dataframe tbody tr th {\n",
       "        vertical-align: top;\n",
       "    }\n",
       "\n",
       "    .dataframe thead th {\n",
       "        text-align: right;\n",
       "    }\n",
       "</style>\n",
       "<table border=\"1\" class=\"dataframe\">\n",
       "  <thead>\n",
       "    <tr style=\"text-align: right;\">\n",
       "      <th></th>\n",
       "      <th>title</th>\n",
       "      <th>pu_number</th>\n",
       "      <th>show_start_date</th>\n",
       "      <th>type</th>\n",
       "      <th>film_studio</th>\n",
       "      <th>production_country</th>\n",
       "      <th>director</th>\n",
       "      <th>producer</th>\n",
       "      <th>age_restriction</th>\n",
       "      <th>refundable_support</th>\n",
       "      <th>nonrefundable_support</th>\n",
       "      <th>budget</th>\n",
       "      <th>financing_source</th>\n",
       "      <th>ratings</th>\n",
       "      <th>genres</th>\n",
       "      <th>box_office</th>\n",
       "      <th>year_show_start_date</th>\n",
       "    </tr>\n",
       "  </thead>\n",
       "  <tbody>\n",
       "    <tr>\n",
       "      <th>2334</th>\n",
       "      <td>Берлинале шортс: Чудо; Майк; Темная комната; Т...</td>\n",
       "      <td>121018514</td>\n",
       "      <td>2014-08-23</td>\n",
       "      <td>Художественный</td>\n",
       "      <td>Электрик Балрум Продакшнс, Фильмалери 451, Кал...</td>\n",
       "      <td>Япония, Великобритания, Австрия, Германия, Ю.К...</td>\n",
       "      <td>Мираэ Мицуэ, Петрос Сильвестрос, Билли Ройз, Ф...</td>\n",
       "      <td>Лорен Дарк, Патрик Хоусен, Карим Дебба, Элке Г...</td>\n",
       "      <td>«12+» - для детей старше 12 лет</td>\n",
       "      <td>NaN</td>\n",
       "      <td>NaN</td>\n",
       "      <td>NaN</td>\n",
       "      <td>NaN</td>\n",
       "      <td>7.3</td>\n",
       "      <td>драма,комедия,биография</td>\n",
       "      <td>NaN</td>\n",
       "      <td>2014</td>\n",
       "    </tr>\n",
       "  </tbody>\n",
       "</table>\n",
       "</div>"
      ],
      "text/plain": [
       "                                                  title  pu_number  \\\n",
       "2334  Берлинале шортс: Чудо; Майк; Темная комната; Т...  121018514   \n",
       "\n",
       "     show_start_date            type  \\\n",
       "2334      2014-08-23  Художественный   \n",
       "\n",
       "                                            film_studio  \\\n",
       "2334  Электрик Балрум Продакшнс, Фильмалери 451, Кал...   \n",
       "\n",
       "                                     production_country  \\\n",
       "2334  Япония, Великобритания, Австрия, Германия, Ю.К...   \n",
       "\n",
       "                                               director  \\\n",
       "2334  Мираэ Мицуэ, Петрос Сильвестрос, Билли Ройз, Ф...   \n",
       "\n",
       "                                               producer  \\\n",
       "2334  Лорен Дарк, Патрик Хоусен, Карим Дебба, Элке Г...   \n",
       "\n",
       "                      age_restriction  refundable_support  \\\n",
       "2334  «12+» - для детей старше 12 лет                 NaN   \n",
       "\n",
       "      nonrefundable_support  budget financing_source  ratings  \\\n",
       "2334                    NaN     NaN              NaN      7.3   \n",
       "\n",
       "                       genres  box_office  year_show_start_date  \n",
       "2334  драма,комедия,биография         NaN                  2014  "
      ]
     },
     "execution_count": 31,
     "metadata": {},
     "output_type": "execute_result"
    }
   ],
   "source": [
    "# создадим столбец с годом проката фильма\n",
    "df['year_show_start_date'] = df['show_start_date'].dt.year\n",
    "df.sample(1)"
   ]
  },
  {
   "cell_type": "markdown",
   "metadata": {
    "id": "nFTDLDYOgFyT"
   },
   "source": [
    "- Создадим два столбца: с именем и фамилией главного режиссёра и основным жанром фильма. В столбцы войдут первые значения из списка режиссёров и жанров соответственно."
   ]
  },
  {
   "cell_type": "code",
   "execution_count": 32,
   "metadata": {
    "id": "LSbRZKbMgFyU"
   },
   "outputs": [
    {
     "data": {
      "text/html": [
       "<div>\n",
       "<style scoped>\n",
       "    .dataframe tbody tr th:only-of-type {\n",
       "        vertical-align: middle;\n",
       "    }\n",
       "\n",
       "    .dataframe tbody tr th {\n",
       "        vertical-align: top;\n",
       "    }\n",
       "\n",
       "    .dataframe thead th {\n",
       "        text-align: right;\n",
       "    }\n",
       "</style>\n",
       "<table border=\"1\" class=\"dataframe\">\n",
       "  <thead>\n",
       "    <tr style=\"text-align: right;\">\n",
       "      <th></th>\n",
       "      <th>title</th>\n",
       "      <th>pu_number</th>\n",
       "      <th>show_start_date</th>\n",
       "      <th>type</th>\n",
       "      <th>film_studio</th>\n",
       "      <th>production_country</th>\n",
       "      <th>director</th>\n",
       "      <th>producer</th>\n",
       "      <th>age_restriction</th>\n",
       "      <th>refundable_support</th>\n",
       "      <th>nonrefundable_support</th>\n",
       "      <th>budget</th>\n",
       "      <th>financing_source</th>\n",
       "      <th>ratings</th>\n",
       "      <th>genres</th>\n",
       "      <th>box_office</th>\n",
       "      <th>year_show_start_date</th>\n",
       "      <th>director_name</th>\n",
       "      <th>basic_genre</th>\n",
       "    </tr>\n",
       "  </thead>\n",
       "  <tbody>\n",
       "    <tr>\n",
       "      <th>6374</th>\n",
       "      <td>Оцепеневшие от страха</td>\n",
       "      <td>121025018</td>\n",
       "      <td>2018-11-15</td>\n",
       "      <td>Художественный</td>\n",
       "      <td>Мачако Фильмс, Институто Насьональ де Сине и А...</td>\n",
       "      <td>Аргентина</td>\n",
       "      <td>Демиан Рунья</td>\n",
       "      <td>Раймундо Бассано, Фернандо Диас</td>\n",
       "      <td>«16+» - для детей старше 16 лет</td>\n",
       "      <td>NaN</td>\n",
       "      <td>NaN</td>\n",
       "      <td>NaN</td>\n",
       "      <td>NaN</td>\n",
       "      <td>6.1</td>\n",
       "      <td>ужасы</td>\n",
       "      <td>19481299.96</td>\n",
       "      <td>2018</td>\n",
       "      <td>Демиан Рунья</td>\n",
       "      <td>ужасы</td>\n",
       "    </tr>\n",
       "    <tr>\n",
       "      <th>1472</th>\n",
       "      <td>Джастин Бибер: Believe</td>\n",
       "      <td>126003716</td>\n",
       "      <td>2016-06-07</td>\n",
       "      <td>Прочие</td>\n",
       "      <td>Дольфин Филмз, Бибер Тайм Филмз, Скутер Браун ...</td>\n",
       "      <td>США</td>\n",
       "      <td>Джон М.Чу</td>\n",
       "      <td>Джастин Бибер, Скутер Браун, Стюарт Форд</td>\n",
       "      <td>«6+» - для детей старше 6 лет</td>\n",
       "      <td>NaN</td>\n",
       "      <td>NaN</td>\n",
       "      <td>NaN</td>\n",
       "      <td>NaN</td>\n",
       "      <td>1.6</td>\n",
       "      <td>концерт,музыка,документальный</td>\n",
       "      <td>NaN</td>\n",
       "      <td>2016</td>\n",
       "      <td>Джон М.Чу</td>\n",
       "      <td>концерт</td>\n",
       "    </tr>\n",
       "  </tbody>\n",
       "</table>\n",
       "</div>"
      ],
      "text/plain": [
       "                       title  pu_number show_start_date            type  \\\n",
       "6374   Оцепеневшие от страха  121025018      2018-11-15  Художественный   \n",
       "1472  Джастин Бибер: Believe  126003716      2016-06-07          Прочие   \n",
       "\n",
       "                                            film_studio production_country  \\\n",
       "6374  Мачако Фильмс, Институто Насьональ де Сине и А...          Аргентина   \n",
       "1472  Дольфин Филмз, Бибер Тайм Филмз, Скутер Браун ...                США   \n",
       "\n",
       "          director                                  producer  \\\n",
       "6374  Демиан Рунья           Раймундо Бассано, Фернандо Диас   \n",
       "1472     Джон М.Чу  Джастин Бибер, Скутер Браун, Стюарт Форд   \n",
       "\n",
       "                      age_restriction  refundable_support  \\\n",
       "6374  «16+» - для детей старше 16 лет                 NaN   \n",
       "1472    «6+» - для детей старше 6 лет                 NaN   \n",
       "\n",
       "      nonrefundable_support  budget financing_source  ratings  \\\n",
       "6374                    NaN     NaN              NaN      6.1   \n",
       "1472                    NaN     NaN              NaN      1.6   \n",
       "\n",
       "                             genres   box_office  year_show_start_date  \\\n",
       "6374                          ужасы  19481299.96                  2018   \n",
       "1472  концерт,музыка,документальный          NaN                  2016   \n",
       "\n",
       "     director_name basic_genre  \n",
       "6374  Демиан Рунья       ужасы  \n",
       "1472     Джон М.Чу     концерт  "
      ]
     },
     "execution_count": 32,
     "metadata": {},
     "output_type": "execute_result"
    }
   ],
   "source": [
    "# используем регулярные выражения для создания новых столбцов\n",
    "# для имени и фамилии главного режиссёра возьмём все символы до первой запятой\n",
    "# в жанре так же ограничимся всеми символами до запятой\n",
    "# создадим два столбца\n",
    "\n",
    "df['director_name'] = df['director'].str.extract(r'([^,]+)')\n",
    "df['basic_genre'] = df['genres'].str.extract(r'([^,]+)')\n",
    "df.sample(2)"
   ]
  },
  {
   "cell_type": "markdown",
   "metadata": {
    "id": "1FsCXHwdgFyU"
   },
   "source": [
    "- Посчитаем, какую долю от общего бюджета фильма составляет государственная поддержка."
   ]
  },
  {
   "cell_type": "code",
   "execution_count": 33,
   "metadata": {
    "id": "LV6qFuZLgFyV"
   },
   "outputs": [
    {
     "name": "stdout",
     "output_type": "stream",
     "text": [
      "Доля государственной поддержки от общего бюджета фильма: 47.82% \n"
     ]
    }
   ],
   "source": [
    "# посчитаем долю государственной поддержки от общего бюджета фильма\n",
    "budget_share = ((df['refundable_support'].sum() + df['nonrefundable_support'].sum())/df['budget'].sum()).mean()\n",
    "print('Доля государственной поддержки от общего бюджета фильма:', '{:.2%} '.format(budget_share))"
   ]
  },
  {
   "cell_type": "code",
   "execution_count": 34,
   "metadata": {},
   "outputs": [
    {
     "data": {
      "text/html": [
       "<div>\n",
       "<style scoped>\n",
       "    .dataframe tbody tr th:only-of-type {\n",
       "        vertical-align: middle;\n",
       "    }\n",
       "\n",
       "    .dataframe tbody tr th {\n",
       "        vertical-align: top;\n",
       "    }\n",
       "\n",
       "    .dataframe thead th {\n",
       "        text-align: right;\n",
       "    }\n",
       "</style>\n",
       "<table border=\"1\" class=\"dataframe\">\n",
       "  <thead>\n",
       "    <tr style=\"text-align: right;\">\n",
       "      <th></th>\n",
       "      <th>title</th>\n",
       "      <th>pu_number</th>\n",
       "      <th>show_start_date</th>\n",
       "      <th>type</th>\n",
       "      <th>film_studio</th>\n",
       "      <th>production_country</th>\n",
       "      <th>director</th>\n",
       "      <th>producer</th>\n",
       "      <th>age_restriction</th>\n",
       "      <th>refundable_support</th>\n",
       "      <th>nonrefundable_support</th>\n",
       "      <th>budget</th>\n",
       "      <th>financing_source</th>\n",
       "      <th>ratings</th>\n",
       "      <th>genres</th>\n",
       "      <th>box_office</th>\n",
       "      <th>year_show_start_date</th>\n",
       "      <th>director_name</th>\n",
       "      <th>basic_genre</th>\n",
       "      <th>share_gov_support</th>\n",
       "    </tr>\n",
       "  </thead>\n",
       "  <tbody>\n",
       "    <tr>\n",
       "      <th>2670</th>\n",
       "      <td>Достали!</td>\n",
       "      <td>111004015</td>\n",
       "      <td>2015-04-09</td>\n",
       "      <td>Художественный</td>\n",
       "      <td>ООО \"Кинокомпания \"Ракурс\"</td>\n",
       "      <td>Россия</td>\n",
       "      <td>А.Муратов</td>\n",
       "      <td>В.Сидоренко</td>\n",
       "      <td>«16+» - для детей старше 16 лет</td>\n",
       "      <td>NaN</td>\n",
       "      <td>NaN</td>\n",
       "      <td>NaN</td>\n",
       "      <td>NaN</td>\n",
       "      <td>NaN</td>\n",
       "      <td>NaN</td>\n",
       "      <td>1600.0</td>\n",
       "      <td>2015</td>\n",
       "      <td>А.Муратов</td>\n",
       "      <td>NaN</td>\n",
       "      <td>0.478233</td>\n",
       "    </tr>\n",
       "  </tbody>\n",
       "</table>\n",
       "</div>"
      ],
      "text/plain": [
       "         title  pu_number show_start_date            type  \\\n",
       "2670  Достали!  111004015      2015-04-09  Художественный   \n",
       "\n",
       "                     film_studio production_country   director     producer  \\\n",
       "2670  ООО \"Кинокомпания \"Ракурс\"             Россия  А.Муратов  В.Сидоренко   \n",
       "\n",
       "                      age_restriction  refundable_support  \\\n",
       "2670  «16+» - для детей старше 16 лет                 NaN   \n",
       "\n",
       "      nonrefundable_support  budget financing_source  ratings genres  \\\n",
       "2670                    NaN     NaN              NaN      NaN    NaN   \n",
       "\n",
       "      box_office  year_show_start_date director_name basic_genre  \\\n",
       "2670      1600.0                  2015     А.Муратов         NaN   \n",
       "\n",
       "      share_gov_support  \n",
       "2670           0.478233  "
      ]
     },
     "execution_count": 34,
     "metadata": {},
     "output_type": "execute_result"
    }
   ],
   "source": [
    "# создадим столбец с долей государственной поддержки\n",
    "df['share_gov_support'] = (df['refundable_support'].sum() + df['nonrefundable_support'].sum())/df['budget'].sum()\n",
    "df.sample(1)"
   ]
  },
  {
   "cell_type": "markdown",
   "metadata": {
    "id": "6t4EukPLgFyV"
   },
   "source": [
    "### Исследовательский анализ данных\n"
   ]
  },
  {
   "cell_type": "markdown",
   "metadata": {
    "id": "vAH8WCzugFyV"
   },
   "source": [
    "- Посмотрим, сколько фильмов выходило в прокат каждый год. Обратим внимание, что данные о прокате в кинотеатрах известны не для всех фильмов. Посчитаем, какую долю составляют фильмы с указанной информацией о прокате в кинотеатрах."
   ]
  },
  {
   "cell_type": "code",
   "execution_count": 35,
   "metadata": {
    "id": "ABeV47y7gFyW"
   },
   "outputs": [
    {
     "data": {
      "text/html": [
       "<div>\n",
       "<style scoped>\n",
       "    .dataframe tbody tr th:only-of-type {\n",
       "        vertical-align: middle;\n",
       "    }\n",
       "\n",
       "    .dataframe tbody tr th {\n",
       "        vertical-align: top;\n",
       "    }\n",
       "\n",
       "    .dataframe thead th {\n",
       "        text-align: right;\n",
       "    }\n",
       "</style>\n",
       "<table border=\"1\" class=\"dataframe\">\n",
       "  <thead>\n",
       "    <tr style=\"text-align: right;\">\n",
       "      <th></th>\n",
       "      <th>box_office</th>\n",
       "      <th>pu_number</th>\n",
       "    </tr>\n",
       "    <tr>\n",
       "      <th>year_show_start_date</th>\n",
       "      <th></th>\n",
       "      <th></th>\n",
       "    </tr>\n",
       "  </thead>\n",
       "  <tbody>\n",
       "    <tr>\n",
       "      <th>2010</th>\n",
       "      <td>101</td>\n",
       "      <td>985</td>\n",
       "    </tr>\n",
       "    <tr>\n",
       "      <th>2011</th>\n",
       "      <td>109</td>\n",
       "      <td>622</td>\n",
       "    </tr>\n",
       "    <tr>\n",
       "      <th>2012</th>\n",
       "      <td>123</td>\n",
       "      <td>593</td>\n",
       "    </tr>\n",
       "    <tr>\n",
       "      <th>2013</th>\n",
       "      <td>179</td>\n",
       "      <td>630</td>\n",
       "    </tr>\n",
       "    <tr>\n",
       "      <th>2014</th>\n",
       "      <td>273</td>\n",
       "      <td>807</td>\n",
       "    </tr>\n",
       "    <tr>\n",
       "      <th>2015</th>\n",
       "      <td>462</td>\n",
       "      <td>705</td>\n",
       "    </tr>\n",
       "    <tr>\n",
       "      <th>2016</th>\n",
       "      <td>525</td>\n",
       "      <td>818</td>\n",
       "    </tr>\n",
       "    <tr>\n",
       "      <th>2017</th>\n",
       "      <td>357</td>\n",
       "      <td>505</td>\n",
       "    </tr>\n",
       "    <tr>\n",
       "      <th>2018</th>\n",
       "      <td>475</td>\n",
       "      <td>891</td>\n",
       "    </tr>\n",
       "    <tr>\n",
       "      <th>2019</th>\n",
       "      <td>530</td>\n",
       "      <td>930</td>\n",
       "    </tr>\n",
       "  </tbody>\n",
       "</table>\n",
       "</div>"
      ],
      "text/plain": [
       "                      box_office  pu_number\n",
       "year_show_start_date                       \n",
       "2010                         101        985\n",
       "2011                         109        622\n",
       "2012                         123        593\n",
       "2013                         179        630\n",
       "2014                         273        807\n",
       "2015                         462        705\n",
       "2016                         525        818\n",
       "2017                         357        505\n",
       "2018                         475        891\n",
       "2019                         530        930"
      ]
     },
     "execution_count": 35,
     "metadata": {},
     "output_type": "execute_result"
    }
   ],
   "source": [
    "# посчитаем количество фильмов по годам\n",
    "df.pivot_table(index = 'year_show_start_date', values=['box_office', 'pu_number'], aggfunc='count')"
   ]
  },
  {
   "cell_type": "markdown",
   "metadata": {},
   "source": [
    "Количество фильмов, выходящих в прокат и по которым есть данные, растёт с каждым годом, но есть большой разрыв между данными с проката фильмов и выданными прокатными лицензиями: фильмы либо не выходят в прокат, либо не раскрывают данные о сборах."
   ]
  },
  {
   "cell_type": "code",
   "execution_count": 36,
   "metadata": {},
   "outputs": [
    {
     "name": "stdout",
     "output_type": "stream",
     "text": [
      "Доля фильмов с указанной информацией о прокате в кинотеатрах: 41.86% \n"
     ]
    }
   ],
   "source": [
    "# посчитаем долю фильмов с данными о прокате\n",
    "box_office_count = (df['box_office'].count() / df['pu_number'].count())\n",
    "print('Доля фильмов с указанной информацией о прокате в кинотеатрах:', '{:.2%} '.format(box_office_count))"
   ]
  },
  {
   "cell_type": "markdown",
   "metadata": {
    "id": "BEOdcIrIgFyW"
   },
   "source": [
    "- Изучим, как менялась динамика проката по годам. В каком году сумма сборов была минимальной? А максимальной?"
   ]
  },
  {
   "cell_type": "code",
   "execution_count": 37,
   "metadata": {
    "id": "tfEhofYvgFyX"
   },
   "outputs": [
    {
     "data": {
      "text/html": [
       "<div>\n",
       "<style scoped>\n",
       "    .dataframe tbody tr th:only-of-type {\n",
       "        vertical-align: middle;\n",
       "    }\n",
       "\n",
       "    .dataframe tbody tr th {\n",
       "        vertical-align: top;\n",
       "    }\n",
       "\n",
       "    .dataframe thead th {\n",
       "        text-align: right;\n",
       "    }\n",
       "</style>\n",
       "<table border=\"1\" class=\"dataframe\">\n",
       "  <thead>\n",
       "    <tr style=\"text-align: right;\">\n",
       "      <th></th>\n",
       "      <th>box_office</th>\n",
       "    </tr>\n",
       "    <tr>\n",
       "      <th>year_show_start_date</th>\n",
       "      <th></th>\n",
       "    </tr>\n",
       "  </thead>\n",
       "  <tbody>\n",
       "    <tr>\n",
       "      <th>2010</th>\n",
       "      <td>2.428654e+06</td>\n",
       "    </tr>\n",
       "    <tr>\n",
       "      <th>2011</th>\n",
       "      <td>1.410276e+07</td>\n",
       "    </tr>\n",
       "    <tr>\n",
       "      <th>2012</th>\n",
       "      <td>6.955423e+06</td>\n",
       "    </tr>\n",
       "    <tr>\n",
       "      <th>2013</th>\n",
       "      <td>2.979971e+07</td>\n",
       "    </tr>\n",
       "    <tr>\n",
       "      <th>2014</th>\n",
       "      <td>7.444952e+09</td>\n",
       "    </tr>\n",
       "    <tr>\n",
       "      <th>2015</th>\n",
       "      <td>3.949737e+10</td>\n",
       "    </tr>\n",
       "    <tr>\n",
       "      <th>2016</th>\n",
       "      <td>4.786630e+10</td>\n",
       "    </tr>\n",
       "    <tr>\n",
       "      <th>2017</th>\n",
       "      <td>4.856371e+10</td>\n",
       "    </tr>\n",
       "    <tr>\n",
       "      <th>2018</th>\n",
       "      <td>4.966840e+10</td>\n",
       "    </tr>\n",
       "    <tr>\n",
       "      <th>2019</th>\n",
       "      <td>4.842571e+10</td>\n",
       "    </tr>\n",
       "  </tbody>\n",
       "</table>\n",
       "</div>"
      ],
      "text/plain": [
       "                        box_office\n",
       "year_show_start_date              \n",
       "2010                  2.428654e+06\n",
       "2011                  1.410276e+07\n",
       "2012                  6.955423e+06\n",
       "2013                  2.979971e+07\n",
       "2014                  7.444952e+09\n",
       "2015                  3.949737e+10\n",
       "2016                  4.786630e+10\n",
       "2017                  4.856371e+10\n",
       "2018                  4.966840e+10\n",
       "2019                  4.842571e+10"
      ]
     },
     "execution_count": 37,
     "metadata": {},
     "output_type": "execute_result"
    },
    {
     "data": {
      "image/png": "[encoded data removed]",
      "text/plain": [
       "<Figure size 432x288 with 1 Axes>"
      ]
     },
     "metadata": {
      "needs_background": "light"
     },
     "output_type": "display_data"
    }
   ],
   "source": [
    "# динамика проката по годам\n",
    "df_year_box = df.pivot_table(index = 'year_show_start_date', values='box_office', aggfunc='sum')\n",
    "df_year_box.plot.bar()\n",
    "df_year_box.describe()\n",
    "df_year_box"
   ]
  },
  {
   "cell_type": "markdown",
   "metadata": {},
   "source": [
    "Максимальная сумма сборов была в 2018 году (`4.9млрд`), минимальная - 2010 (`2.4млн`). С 2013 года наблюдается резкий рост, в 2016-2018 годах небольшой прирост, затем падение в 2019 году."
   ]
  },
  {
   "cell_type": "markdown",
   "metadata": {
    "id": "G-7qS-N-gFyY"
   },
   "source": [
    "- С помощью сводной таблицы посчитаем среднюю и медианную сумму сборов для каждого года."
   ]
  },
  {
   "cell_type": "code",
   "execution_count": 38,
   "metadata": {
    "id": "jmp-rgg9gFyY"
   },
   "outputs": [
    {
     "data": {
      "text/html": [
       "<div>\n",
       "<style scoped>\n",
       "    .dataframe tbody tr th:only-of-type {\n",
       "        vertical-align: middle;\n",
       "    }\n",
       "\n",
       "    .dataframe tbody tr th {\n",
       "        vertical-align: top;\n",
       "    }\n",
       "\n",
       "    .dataframe thead tr th {\n",
       "        text-align: left;\n",
       "    }\n",
       "\n",
       "    .dataframe thead tr:last-of-type th {\n",
       "        text-align: right;\n",
       "    }\n",
       "</style>\n",
       "<table border=\"1\" class=\"dataframe\">\n",
       "  <thead>\n",
       "    <tr>\n",
       "      <th></th>\n",
       "      <th>median</th>\n",
       "      <th>mean</th>\n",
       "    </tr>\n",
       "    <tr>\n",
       "      <th></th>\n",
       "      <th>box_office</th>\n",
       "      <th>box_office</th>\n",
       "    </tr>\n",
       "    <tr>\n",
       "      <th>year_show_start_date</th>\n",
       "      <th></th>\n",
       "      <th></th>\n",
       "    </tr>\n",
       "  </thead>\n",
       "  <tbody>\n",
       "    <tr>\n",
       "      <th>2010</th>\n",
       "      <td>1710.000</td>\n",
       "      <td>2.404608e+04</td>\n",
       "    </tr>\n",
       "    <tr>\n",
       "      <th>2011</th>\n",
       "      <td>3000.000</td>\n",
       "      <td>1.293832e+05</td>\n",
       "    </tr>\n",
       "    <tr>\n",
       "      <th>2012</th>\n",
       "      <td>6220.000</td>\n",
       "      <td>5.654815e+04</td>\n",
       "    </tr>\n",
       "    <tr>\n",
       "      <th>2013</th>\n",
       "      <td>3580.000</td>\n",
       "      <td>1.664788e+05</td>\n",
       "    </tr>\n",
       "    <tr>\n",
       "      <th>2014</th>\n",
       "      <td>20400.000</td>\n",
       "      <td>2.727089e+07</td>\n",
       "    </tr>\n",
       "    <tr>\n",
       "      <th>2015</th>\n",
       "      <td>5003450.150</td>\n",
       "      <td>8.549213e+07</td>\n",
       "    </tr>\n",
       "    <tr>\n",
       "      <th>2016</th>\n",
       "      <td>3915041.020</td>\n",
       "      <td>9.117390e+07</td>\n",
       "    </tr>\n",
       "    <tr>\n",
       "      <th>2017</th>\n",
       "      <td>9968340.000</td>\n",
       "      <td>1.360328e+08</td>\n",
       "    </tr>\n",
       "    <tr>\n",
       "      <th>2018</th>\n",
       "      <td>8891102.210</td>\n",
       "      <td>1.045651e+08</td>\n",
       "    </tr>\n",
       "    <tr>\n",
       "      <th>2019</th>\n",
       "      <td>4627798.345</td>\n",
       "      <td>9.136926e+07</td>\n",
       "    </tr>\n",
       "  </tbody>\n",
       "</table>\n",
       "</div>"
      ],
      "text/plain": [
       "                           median          mean\n",
       "                       box_office    box_office\n",
       "year_show_start_date                           \n",
       "2010                     1710.000  2.404608e+04\n",
       "2011                     3000.000  1.293832e+05\n",
       "2012                     6220.000  5.654815e+04\n",
       "2013                     3580.000  1.664788e+05\n",
       "2014                    20400.000  2.727089e+07\n",
       "2015                  5003450.150  8.549213e+07\n",
       "2016                  3915041.020  9.117390e+07\n",
       "2017                  9968340.000  1.360328e+08\n",
       "2018                  8891102.210  1.045651e+08\n",
       "2019                  4627798.345  9.136926e+07"
      ]
     },
     "execution_count": 38,
     "metadata": {},
     "output_type": "execute_result"
    }
   ],
   "source": [
    "# посчитаем среднюю и медианную сумму сборов для каждого года\n",
    "df.pivot_table(index = 'year_show_start_date', values='box_office', aggfunc=['median', 'mean'])"
   ]
  },
  {
   "cell_type": "markdown",
   "metadata": {},
   "source": [
    "Медианные и средние значения достаточно сильно различаются, что может говорить о выбросах и аномальных значениях."
   ]
  },
  {
   "cell_type": "markdown",
   "metadata": {
    "id": "Ok89WFwJgFyZ"
   },
   "source": [
    "- Определим, влияет ли возрастное ограничение аудитории («6+», «12+», «16+», «18+» и т. д.) на сборы фильма в прокате в период с 2015 по 2019 год? Фильмы с каким возрастным ограничением собрали больше всего денег в прокате? Меняется ли картина в зависимости от года? "
   ]
  },
  {
   "cell_type": "code",
   "execution_count": 39,
   "metadata": {
    "id": "jsSbEqfjgFya"
   },
   "outputs": [
    {
     "data": {
      "image/png": "[encoded data removed]",
      "text/plain": [
       "<Figure size 360x360 with 1 Axes>"
      ]
     },
     "metadata": {
      "needs_background": "light"
     },
     "output_type": "display_data"
    }
   ],
   "source": [
    "# построим график зависимости возрастного ограничения на сборы фильма,\n",
    "# с ограничением в периоде проката от 2015 года \n",
    "df[(df['year_show_start_date'] >= 2015)].pivot_table(index = 'age_restriction',\n",
    "                        values= 'box_office',\n",
    "                        columns = 'year_show_start_date',  aggfunc='mean').plot.barh(stacked=True, figsize = (5,5))\n",
    "plt.legend(loc=5)\n",
    "plt.show()"
   ]
  },
  {
   "cell_type": "code",
   "execution_count": 40,
   "metadata": {},
   "outputs": [
    {
     "data": {
      "image/png": "[encoded data removed]",
      "text/plain": [
       "<Figure size 1080x432 with 1 Axes>"
      ]
     },
     "metadata": {
      "needs_background": "light"
     },
     "output_type": "display_data"
    }
   ],
   "source": [
    "df[(df['year_show_start_date'] >= 2015)].pivot_table(index = 'year_show_start_date',\n",
    "                        values= 'box_office',\n",
    "                        columns = 'age_restriction',  aggfunc='mean').plot(figsize = (15,6))\n",
    "plt.legend(loc=2)\n",
    "plt.show()"
   ]
  },
  {
   "cell_type": "markdown",
   "metadata": {},
   "source": [
    "Больше всего денег в прокате собирают категории  `6+` и `12+`, меньше всего категория `0+` .  \n",
    "Но есть и различия по годам: в 2017 году, в категории `0+` были сборы больше, чем в категории `18+` .  \n",
    "В разные годы выходят разные популярные многобюджетные фильмы с разным возрастным рейтингом, поэтому и есть разница по годам. \n",
    "Это может быть вызвано массовостью и наибольшим охватом различных групп людей, попадающих под эти категории.  \n",
    "В категории  `0+`, несмотря на то, что она охватывает вообще всех людей, фильмы могут получаться слишком скучные и неинтересные для более возрастных групп.  \n",
    "На фильмы категории `18+` не ходят не только люди младше 18 лет (чаще наоборот), но и не любящие связанные с этой категорией особенности фильмов (кровь, кишки, постельные сцены, ужасы и пр.)."
   ]
  },
  {
   "cell_type": "markdown",
   "metadata": {
    "id": "l_Kg6Ku4gFya"
   },
   "source": [
    "### Шаг 4. Исследуем фильмы, которые получили государственную поддержку"
   ]
  },
  {
   "cell_type": "code",
   "execution_count": 41,
   "metadata": {},
   "outputs": [
    {
     "name": "stdout",
     "output_type": "stream",
     "text": [
      "<class 'pandas.core.frame.DataFrame'>\n",
      "Int64Index: 332 entries, 1281 to 7478\n",
      "Data columns (total 20 columns):\n",
      " #   Column                 Non-Null Count  Dtype         \n",
      "---  ------                 --------------  -----         \n",
      " 0   title                  332 non-null    object        \n",
      " 1   pu_number              332 non-null    object        \n",
      " 2   show_start_date        332 non-null    datetime64[ns]\n",
      " 3   type                   332 non-null    object        \n",
      " 4   film_studio            332 non-null    object        \n",
      " 5   production_country     332 non-null    object        \n",
      " 6   director               332 non-null    object        \n",
      " 7   producer               330 non-null    object        \n",
      " 8   age_restriction        332 non-null    object        \n",
      " 9   refundable_support     332 non-null    float64       \n",
      " 10  nonrefundable_support  332 non-null    float64       \n",
      " 11  budget                 315 non-null    float64       \n",
      " 12  financing_source       332 non-null    object        \n",
      " 13  ratings                316 non-null    float64       \n",
      " 14  genres                 316 non-null    object        \n",
      " 15  box_office             318 non-null    float64       \n",
      " 16  year_show_start_date   332 non-null    int64         \n",
      " 17  director_name          332 non-null    object        \n",
      " 18  basic_genre            316 non-null    object        \n",
      " 19  share_gov_support      332 non-null    float64       \n",
      "dtypes: datetime64[ns](1), float64(6), int64(1), object(12)\n",
      "memory usage: 54.5+ KB\n"
     ]
    }
   ],
   "source": [
    "# выделим в отдельный датафрейм данные с указанным бюджетом и гос.финансированием\n",
    "government_support = df.dropna(subset=['nonrefundable_support'])\n",
    "government_support.sample(3)\n",
    "government_support.info()"
   ]
  },
  {
   "cell_type": "code",
   "execution_count": 42,
   "metadata": {
    "id": "W9QKpjUdgFyb",
    "scrolled": false
   },
   "outputs": [
    {
     "data": {
      "image/png": "[encoded data removed]",
      "text/plain": [
       "<Figure size 432x288 with 1 Axes>"
      ]
     },
     "metadata": {
      "needs_background": "light"
     },
     "output_type": "display_data"
    }
   ],
   "source": [
    "# посмотрим на окупаемость фильмов, сравнив среднее бюджета и сборов фильма\n",
    "government_support.pivot_table(index = 'year_show_start_date',\n",
    "                               values = ['budget', 'box_office'], aggfunc= 'mean').plot.bar()\n",
    "plt.show()"
   ]
  },
  {
   "cell_type": "code",
   "execution_count": 43,
   "metadata": {},
   "outputs": [
    {
     "data": {
      "image/png": "[encoded data removed]",
      "text/plain": [
       "<Figure size 432x288 with 1 Axes>"
      ]
     },
     "metadata": {
      "needs_background": "light"
     },
     "output_type": "display_data"
    }
   ],
   "source": [
    "# сравнение возвратной и невозратной поддежки фильмов по годам\n",
    "government_support.pivot_table(index = 'year_show_start_date',\n",
    "                               values = ['refundable_support', 'nonrefundable_support'], aggfunc= 'mean').plot.bar()\n",
    "plt.show()"
   ]
  },
  {
   "cell_type": "markdown",
   "metadata": {},
   "source": [
    "Фильмы окупились всего в двух годах из наблюдаемых: 2017 (`41`) и 2018 (`56`)."
   ]
  },
  {
   "cell_type": "code",
   "execution_count": 44,
   "metadata": {},
   "outputs": [
    {
     "data": {
      "text/html": [
       "<div>\n",
       "<style scoped>\n",
       "    .dataframe tbody tr th:only-of-type {\n",
       "        vertical-align: middle;\n",
       "    }\n",
       "\n",
       "    .dataframe tbody tr th {\n",
       "        vertical-align: top;\n",
       "    }\n",
       "\n",
       "    .dataframe thead th {\n",
       "        text-align: right;\n",
       "    }\n",
       "</style>\n",
       "<table border=\"1\" class=\"dataframe\">\n",
       "  <thead>\n",
       "    <tr style=\"text-align: right;\">\n",
       "      <th></th>\n",
       "      <th>ratings</th>\n",
       "    </tr>\n",
       "    <tr>\n",
       "      <th>year_show_start_date</th>\n",
       "      <th></th>\n",
       "    </tr>\n",
       "  </thead>\n",
       "  <tbody>\n",
       "    <tr>\n",
       "      <th>2010</th>\n",
       "      <td>6.9</td>\n",
       "    </tr>\n",
       "    <tr>\n",
       "      <th>2011</th>\n",
       "      <td>6.7</td>\n",
       "    </tr>\n",
       "    <tr>\n",
       "      <th>2012</th>\n",
       "      <td>6.7</td>\n",
       "    </tr>\n",
       "    <tr>\n",
       "      <th>2013</th>\n",
       "      <td>6.6</td>\n",
       "    </tr>\n",
       "    <tr>\n",
       "      <th>2014</th>\n",
       "      <td>6.7</td>\n",
       "    </tr>\n",
       "    <tr>\n",
       "      <th>2015</th>\n",
       "      <td>6.4</td>\n",
       "    </tr>\n",
       "    <tr>\n",
       "      <th>2016</th>\n",
       "      <td>6.5</td>\n",
       "    </tr>\n",
       "    <tr>\n",
       "      <th>2017</th>\n",
       "      <td>6.4</td>\n",
       "    </tr>\n",
       "    <tr>\n",
       "      <th>2018</th>\n",
       "      <td>6.4</td>\n",
       "    </tr>\n",
       "    <tr>\n",
       "      <th>2019</th>\n",
       "      <td>6.5</td>\n",
       "    </tr>\n",
       "  </tbody>\n",
       "</table>\n",
       "</div>"
      ],
      "text/plain": [
       "                      ratings\n",
       "year_show_start_date         \n",
       "2010                      6.9\n",
       "2011                      6.7\n",
       "2012                      6.7\n",
       "2013                      6.6\n",
       "2014                      6.7\n",
       "2015                      6.4\n",
       "2016                      6.5\n",
       "2017                      6.4\n",
       "2018                      6.4\n",
       "2019                      6.5"
      ]
     },
     "metadata": {},
     "output_type": "display_data"
    },
    {
     "data": {
      "text/html": [
       "<div>\n",
       "<style scoped>\n",
       "    .dataframe tbody tr th:only-of-type {\n",
       "        vertical-align: middle;\n",
       "    }\n",
       "\n",
       "    .dataframe tbody tr th {\n",
       "        vertical-align: top;\n",
       "    }\n",
       "\n",
       "    .dataframe thead th {\n",
       "        text-align: right;\n",
       "    }\n",
       "</style>\n",
       "<table border=\"1\" class=\"dataframe\">\n",
       "  <thead>\n",
       "    <tr style=\"text-align: right;\">\n",
       "      <th></th>\n",
       "      <th>ratings</th>\n",
       "    </tr>\n",
       "    <tr>\n",
       "      <th>year_show_start_date</th>\n",
       "      <th></th>\n",
       "    </tr>\n",
       "  </thead>\n",
       "  <tbody>\n",
       "    <tr>\n",
       "      <th>2013</th>\n",
       "      <td>6.7</td>\n",
       "    </tr>\n",
       "    <tr>\n",
       "      <th>2014</th>\n",
       "      <td>6.4</td>\n",
       "    </tr>\n",
       "    <tr>\n",
       "      <th>2015</th>\n",
       "      <td>6.2</td>\n",
       "    </tr>\n",
       "    <tr>\n",
       "      <th>2016</th>\n",
       "      <td>5.8</td>\n",
       "    </tr>\n",
       "    <tr>\n",
       "      <th>2017</th>\n",
       "      <td>6.2</td>\n",
       "    </tr>\n",
       "    <tr>\n",
       "      <th>2018</th>\n",
       "      <td>6.2</td>\n",
       "    </tr>\n",
       "    <tr>\n",
       "      <th>2019</th>\n",
       "      <td>6.2</td>\n",
       "    </tr>\n",
       "  </tbody>\n",
       "</table>\n",
       "</div>"
      ],
      "text/plain": [
       "                      ratings\n",
       "year_show_start_date         \n",
       "2013                      6.7\n",
       "2014                      6.4\n",
       "2015                      6.2\n",
       "2016                      5.8\n",
       "2017                      6.2\n",
       "2018                      6.2\n",
       "2019                      6.2"
      ]
     },
     "execution_count": 44,
     "metadata": {},
     "output_type": "execute_result"
    }
   ],
   "source": [
    "# рейтинг спонсируемых фильмов\n",
    "display(df.pivot_table(index = 'year_show_start_date',\n",
    "                               values = 'ratings', aggfunc= 'median'))\n",
    "government_support.pivot_table(index = 'year_show_start_date',\n",
    "                               values = 'ratings', aggfunc= 'median')"
   ]
  },
  {
   "cell_type": "markdown",
   "metadata": {},
   "source": [
    "Почти все спонсируемые фильмы ниже рейтингом (кроме 2013 года, но разница в `0.1` балл и всего два спонсируемых фильма), чем среднее или медианное значение по всей базе (в 2016 году разница максимальная, в `0.7` балла)."
   ]
  },
  {
   "cell_type": "code",
   "execution_count": 45,
   "metadata": {},
   "outputs": [
    {
     "data": {
      "image/png": "[encoded data removed]",
      "text/plain": [
       "<Figure size 432x288 with 1 Axes>"
      ]
     },
     "metadata": {
      "needs_background": "light"
     },
     "output_type": "display_data"
    }
   ],
   "source": [
    "# на какие категории фильмов выделяет бюджет государство\n",
    "government_support.pivot_table(index = 'type',\n",
    "                               values = ['refundable_support', 'nonrefundable_support'], aggfunc= 'median').plot.bar()\n",
    "plt.show()"
   ]
  },
  {
   "cell_type": "markdown",
   "metadata": {},
   "source": [
    "Государство спонсирует анимационные, художественные и документальные фильмы."
   ]
  },
  {
   "cell_type": "markdown",
   "metadata": {
    "id": "V2gYwMcPgFyd"
   },
   "source": [
    "### Шаг 5. Общий вывод"
   ]
  },
  {
   "cell_type": "markdown",
   "metadata": {
    "id": "AYRg3dzXgFye"
   },
   "source": [
    "Предоставленные данные заполнены не лучшим образом, есть множество способов заполнять их лучше (самое очевидное - выпадающие списки и булевы значения в категориальных данных).  \n",
    "Данные по предоставленному бюджету фильмов и их финансировании государством, представляют собой всего `4%` от общей базы данных, что катастрофически недостаточно для качественного анализа.  \n",
    "Фонд кино является основным государственным спонсором, причём основная масса предоставляемого финансирования - невозвратная.  \n",
    "Доля государственной поддержки от общего бюджета фильма, среднем составляет `47.82%` .  \n",
    "Почти в половине случаев нет информации о сборах в кинотеатрах, фильмы либо не вышли в прокат, либо не раскрыли свои данные.\n",
    "Максимальная сумма сборов была в 2018 году (`4.9млрд`), минимальная - 2010 (`2.4млн`).  \n",
    "Больше всего денег в прокате собирают категории `6+` и `12+`, меньше всего категория `0+` .  \n",
    "Финансируются фильмы документальные, анимационные и художественные.\n",
    "Государственное финансирование чаще всего неудачно с точки зрения заработка: спонсируемые фильмы окупились только в 2017-2018 годах, во всём остальном периоде сборы были меньше бюджета. Поэтому и логичным выглядит рейтинг финансируемых гос.бюджетом фильмов, чаще всего он ниже среднего общего рейтинга, можно сделать вывод, что людям такие фильмы чаще всего менее интересны.\n"
   ]
  }
 ],
 "metadata": {
  "ExecuteTimeLog": [
   {
    "duration": 537,
    "start_time": "2021-07-07T10:12:08.634Z"
   },
   {
    "duration": 206,
    "start_time": "2021-07-07T10:12:30.191Z"
   },
   {
    "duration": 227,
    "start_time": "2021-07-07T10:12:33.078Z"
   },
   {
    "duration": 153,
    "start_time": "2021-07-07T10:13:42.146Z"
   },
   {
    "duration": 233,
    "start_time": "2021-07-07T10:30:09.252Z"
   },
   {
    "duration": 19,
    "start_time": "2021-07-07T10:30:15.577Z"
   },
   {
    "duration": 18,
    "start_time": "2021-07-07T10:30:57.348Z"
   },
   {
    "duration": 19,
    "start_time": "2021-07-07T10:31:17.452Z"
   },
   {
    "duration": 21,
    "start_time": "2021-07-07T10:31:32.227Z"
   },
   {
    "duration": 27,
    "start_time": "2021-07-07T10:32:06.588Z"
   },
   {
    "duration": 23,
    "start_time": "2021-07-07T10:32:43.645Z"
   },
   {
    "duration": 24,
    "start_time": "2021-07-07T10:33:06.948Z"
   },
   {
    "duration": 7,
    "start_time": "2021-07-07T10:33:28.558Z"
   },
   {
    "duration": 23,
    "start_time": "2021-07-07T10:33:43.761Z"
   },
   {
    "duration": 28,
    "start_time": "2021-07-07T10:34:13.466Z"
   },
   {
    "duration": 23,
    "start_time": "2021-07-07T10:35:56.187Z"
   },
   {
    "duration": 6,
    "start_time": "2021-07-07T10:36:48.182Z"
   },
   {
    "duration": 14,
    "start_time": "2021-07-07T10:37:49.641Z"
   },
   {
    "duration": 6,
    "start_time": "2021-07-07T10:38:06.694Z"
   },
   {
    "duration": 6,
    "start_time": "2021-07-07T10:38:13.493Z"
   },
   {
    "duration": 19,
    "start_time": "2021-07-07T10:38:44.056Z"
   },
   {
    "duration": 186,
    "start_time": "2021-07-07T10:48:35.618Z"
   },
   {
    "duration": 24,
    "start_time": "2021-07-07T10:48:51.498Z"
   },
   {
    "duration": 20,
    "start_time": "2021-07-07T10:48:59.415Z"
   },
   {
    "duration": 20,
    "start_time": "2021-07-07T10:53:02.195Z"
   },
   {
    "duration": 188,
    "start_time": "2021-07-07T10:54:40.486Z"
   },
   {
    "duration": 115,
    "start_time": "2021-07-07T10:54:52.552Z"
   },
   {
    "duration": 214,
    "start_time": "2021-07-07T10:54:56.354Z"
   },
   {
    "duration": 47,
    "start_time": "2021-07-07T10:54:58.282Z"
   },
   {
    "duration": 217,
    "start_time": "2021-07-07T10:59:16.075Z"
   },
   {
    "duration": 51,
    "start_time": "2021-07-07T10:59:16.243Z"
   },
   {
    "duration": 578,
    "start_time": "2021-07-07T10:59:18.774Z"
   },
   {
    "duration": 161,
    "start_time": "2021-07-07T10:59:21.238Z"
   },
   {
    "duration": 59,
    "start_time": "2021-07-07T10:59:21.453Z"
   },
   {
    "duration": 3,
    "start_time": "2021-07-07T11:02:10.786Z"
   },
   {
    "duration": 13,
    "start_time": "2021-07-07T11:07:07.722Z"
   },
   {
    "duration": 26,
    "start_time": "2021-07-07T11:07:17.958Z"
   },
   {
    "duration": 22,
    "start_time": "2021-07-07T11:08:17.939Z"
   },
   {
    "duration": 212,
    "start_time": "2021-07-07T11:08:19.665Z"
   },
   {
    "duration": 21,
    "start_time": "2021-07-07T11:08:29.945Z"
   },
   {
    "duration": 31,
    "start_time": "2021-07-07T11:08:38.899Z"
   },
   {
    "duration": 23,
    "start_time": "2021-07-07T11:08:54.527Z"
   },
   {
    "duration": 8,
    "start_time": "2021-07-07T11:18:55.974Z"
   },
   {
    "duration": 7,
    "start_time": "2021-07-07T11:19:03.639Z"
   },
   {
    "duration": 7,
    "start_time": "2021-07-07T11:19:06.444Z"
   },
   {
    "duration": 578,
    "start_time": "2021-07-07T12:09:59.576Z"
   },
   {
    "duration": 195,
    "start_time": "2021-07-07T12:10:00.156Z"
   },
   {
    "duration": 115,
    "start_time": "2021-07-07T12:10:00.353Z"
   },
   {
    "duration": 3,
    "start_time": "2021-07-07T12:10:00.470Z"
   },
   {
    "duration": 32,
    "start_time": "2021-07-07T12:10:00.474Z"
   },
   {
    "duration": 23,
    "start_time": "2021-07-07T12:10:00.508Z"
   },
   {
    "duration": 19,
    "start_time": "2021-07-07T12:10:00.533Z"
   },
   {
    "duration": 44,
    "start_time": "2021-07-07T12:10:00.553Z"
   },
   {
    "duration": 7,
    "start_time": "2021-07-07T12:10:00.600Z"
   },
   {
    "duration": 7,
    "start_time": "2021-07-07T12:19:45.761Z"
   },
   {
    "duration": 21,
    "start_time": "2021-07-07T12:21:35.482Z"
   },
   {
    "duration": 21,
    "start_time": "2021-07-07T12:29:23.569Z"
   },
   {
    "duration": 525,
    "start_time": "2021-07-07T12:29:44.542Z"
   },
   {
    "duration": 214,
    "start_time": "2021-07-07T12:29:45.069Z"
   },
   {
    "duration": 92,
    "start_time": "2021-07-07T12:29:45.285Z"
   },
   {
    "duration": 3,
    "start_time": "2021-07-07T12:29:45.379Z"
   },
   {
    "duration": 28,
    "start_time": "2021-07-07T12:29:45.384Z"
   },
   {
    "duration": 23,
    "start_time": "2021-07-07T12:29:45.413Z"
   },
   {
    "duration": 21,
    "start_time": "2021-07-07T12:29:45.437Z"
   },
   {
    "duration": 41,
    "start_time": "2021-07-07T12:29:45.460Z"
   },
   {
    "duration": 7,
    "start_time": "2021-07-07T12:29:45.502Z"
   },
   {
    "duration": 20,
    "start_time": "2021-07-07T12:29:45.511Z"
   },
   {
    "duration": 12,
    "start_time": "2021-07-07T12:34:02.800Z"
   },
   {
    "duration": 7,
    "start_time": "2021-07-07T12:35:10.479Z"
   },
   {
    "duration": 8,
    "start_time": "2021-07-07T12:35:22.440Z"
   },
   {
    "duration": 6,
    "start_time": "2021-07-07T12:35:35.649Z"
   },
   {
    "duration": 6,
    "start_time": "2021-07-07T12:35:43.107Z"
   },
   {
    "duration": 22,
    "start_time": "2021-07-07T12:38:03.029Z"
   },
   {
    "duration": 10,
    "start_time": "2021-07-07T12:38:06.592Z"
   },
   {
    "duration": 563,
    "start_time": "2021-07-07T12:38:46.493Z"
   },
   {
    "duration": 265,
    "start_time": "2021-07-07T12:38:47.058Z"
   },
   {
    "duration": 94,
    "start_time": "2021-07-07T12:38:47.325Z"
   },
   {
    "duration": 3,
    "start_time": "2021-07-07T12:38:47.422Z"
   },
   {
    "duration": 30,
    "start_time": "2021-07-07T12:38:47.427Z"
   },
   {
    "duration": 16,
    "start_time": "2021-07-07T12:38:53.305Z"
   },
   {
    "duration": 10,
    "start_time": "2021-07-07T12:38:53.499Z"
   },
   {
    "duration": 8,
    "start_time": "2021-07-07T12:39:48.161Z"
   },
   {
    "duration": 27,
    "start_time": "2021-07-07T12:41:17.629Z"
   },
   {
    "duration": 17,
    "start_time": "2021-07-07T12:41:17.867Z"
   },
   {
    "duration": 21,
    "start_time": "2021-07-07T12:41:19.310Z"
   },
   {
    "duration": 7,
    "start_time": "2021-07-07T12:41:19.544Z"
   },
   {
    "duration": 20,
    "start_time": "2021-07-07T12:41:20.504Z"
   },
   {
    "duration": 554,
    "start_time": "2021-07-07T12:56:23.696Z"
   },
   {
    "duration": 200,
    "start_time": "2021-07-07T12:56:25.234Z"
   },
   {
    "duration": 119,
    "start_time": "2021-07-07T12:56:25.480Z"
   },
   {
    "duration": 4,
    "start_time": "2021-07-07T12:56:25.762Z"
   },
   {
    "duration": 26,
    "start_time": "2021-07-07T12:56:27.172Z"
   },
   {
    "duration": 12,
    "start_time": "2021-07-07T12:56:29.051Z"
   },
   {
    "duration": 10,
    "start_time": "2021-07-07T12:56:29.291Z"
   },
   {
    "duration": 8,
    "start_time": "2021-07-07T12:56:29.623Z"
   },
   {
    "duration": 28,
    "start_time": "2021-07-07T12:56:32.137Z"
   },
   {
    "duration": 19,
    "start_time": "2021-07-07T12:56:39.785Z"
   },
   {
    "duration": 20,
    "start_time": "2021-07-07T12:56:44.297Z"
   },
   {
    "duration": 7,
    "start_time": "2021-07-07T12:56:45.392Z"
   },
   {
    "duration": 23,
    "start_time": "2021-07-07T12:56:46.615Z"
   },
   {
    "duration": 4,
    "start_time": "2021-07-07T12:57:06.625Z"
   },
   {
    "duration": 32,
    "start_time": "2021-07-07T12:57:36.690Z"
   },
   {
    "duration": 18,
    "start_time": "2021-07-07T12:58:00.149Z"
   },
   {
    "duration": 15,
    "start_time": "2021-07-07T12:59:16.793Z"
   },
   {
    "duration": 7,
    "start_time": "2021-07-07T13:19:22.624Z"
   },
   {
    "duration": 6,
    "start_time": "2021-07-07T14:17:33.527Z"
   },
   {
    "duration": 9,
    "start_time": "2021-07-07T14:17:48.409Z"
   },
   {
    "duration": 8,
    "start_time": "2021-07-07T14:20:13.060Z"
   },
   {
    "duration": 8,
    "start_time": "2021-07-07T14:20:37.957Z"
   },
   {
    "duration": 8,
    "start_time": "2021-07-07T14:20:47.470Z"
   },
   {
    "duration": 9,
    "start_time": "2021-07-07T14:20:54.503Z"
   },
   {
    "duration": 10,
    "start_time": "2021-07-07T14:28:57.763Z"
   },
   {
    "duration": 3,
    "start_time": "2021-07-07T14:30:23.377Z"
   },
   {
    "duration": 3,
    "start_time": "2021-07-07T14:30:36.489Z"
   },
   {
    "duration": 103,
    "start_time": "2021-07-07T14:30:52.351Z"
   },
   {
    "duration": 8,
    "start_time": "2021-07-07T14:30:54.763Z"
   },
   {
    "duration": 8,
    "start_time": "2021-07-07T14:31:29.301Z"
   },
   {
    "duration": 13,
    "start_time": "2021-07-07T14:31:44.516Z"
   },
   {
    "duration": 7,
    "start_time": "2021-07-07T14:33:10.972Z"
   },
   {
    "duration": 11,
    "start_time": "2021-07-07T14:33:27.780Z"
   },
   {
    "duration": 8,
    "start_time": "2021-07-07T14:34:44.588Z"
   },
   {
    "duration": 57,
    "start_time": "2021-07-07T14:35:59.042Z"
   },
   {
    "duration": 3,
    "start_time": "2021-07-07T14:36:28.168Z"
   },
   {
    "duration": 5,
    "start_time": "2021-07-07T14:36:46.254Z"
   },
   {
    "duration": 4,
    "start_time": "2021-07-07T14:36:52.714Z"
   },
   {
    "duration": 3,
    "start_time": "2021-07-07T14:36:56.612Z"
   },
   {
    "duration": 4,
    "start_time": "2021-07-07T14:36:57.049Z"
   },
   {
    "duration": 3,
    "start_time": "2021-07-07T14:39:21.214Z"
   },
   {
    "duration": 7,
    "start_time": "2021-07-07T14:39:52.406Z"
   },
   {
    "duration": 11,
    "start_time": "2021-07-07T14:39:58.576Z"
   },
   {
    "duration": 9,
    "start_time": "2021-07-07T14:40:26.301Z"
   },
   {
    "duration": 10,
    "start_time": "2021-07-07T14:40:31.704Z"
   },
   {
    "duration": 11,
    "start_time": "2021-07-07T14:40:36.249Z"
   },
   {
    "duration": 10,
    "start_time": "2021-07-07T14:40:39.783Z"
   },
   {
    "duration": 9,
    "start_time": "2021-07-07T14:40:48.558Z"
   },
   {
    "duration": 10,
    "start_time": "2021-07-07T14:40:57.143Z"
   },
   {
    "duration": 9,
    "start_time": "2021-07-07T14:41:06.074Z"
   },
   {
    "duration": 4324,
    "start_time": "2021-07-07T14:41:22.004Z"
   },
   {
    "duration": 11,
    "start_time": "2021-07-07T14:41:33.392Z"
   },
   {
    "duration": 9,
    "start_time": "2021-07-07T14:41:39.288Z"
   },
   {
    "duration": 569,
    "start_time": "2021-07-07T14:42:14.387Z"
   },
   {
    "duration": 197,
    "start_time": "2021-07-07T14:42:14.959Z"
   },
   {
    "duration": 84,
    "start_time": "2021-07-07T14:42:16.052Z"
   },
   {
    "duration": 4,
    "start_time": "2021-07-07T14:42:16.900Z"
   },
   {
    "duration": 27,
    "start_time": "2021-07-07T14:42:19.898Z"
   },
   {
    "duration": 12,
    "start_time": "2021-07-07T14:42:21.577Z"
   },
   {
    "duration": 9,
    "start_time": "2021-07-07T14:42:21.813Z"
   },
   {
    "duration": 9,
    "start_time": "2021-07-07T14:42:22.569Z"
   },
   {
    "duration": 29,
    "start_time": "2021-07-07T14:42:25.837Z"
   },
   {
    "duration": 20,
    "start_time": "2021-07-07T14:42:27.003Z"
   },
   {
    "duration": 21,
    "start_time": "2021-07-07T14:42:28.767Z"
   },
   {
    "duration": 7,
    "start_time": "2021-07-07T14:42:29.838Z"
   },
   {
    "duration": 4,
    "start_time": "2021-07-07T14:43:25.493Z"
   },
   {
    "duration": 7,
    "start_time": "2021-07-07T14:43:26.573Z"
   },
   {
    "duration": 10,
    "start_time": "2021-07-07T14:43:31.639Z"
   },
   {
    "duration": 9,
    "start_time": "2021-07-07T14:43:32.046Z"
   },
   {
    "duration": 10,
    "start_time": "2021-07-07T14:43:33.301Z"
   },
   {
    "duration": 12,
    "start_time": "2021-07-07T14:43:33.658Z"
   },
   {
    "duration": 8,
    "start_time": "2021-07-07T14:43:34.552Z"
   },
   {
    "duration": 9,
    "start_time": "2021-07-07T14:43:35.058Z"
   },
   {
    "duration": 12,
    "start_time": "2021-07-07T14:43:35.914Z"
   },
   {
    "duration": 17,
    "start_time": "2021-07-07T14:45:34.368Z"
   },
   {
    "duration": 512,
    "start_time": "2021-07-07T14:51:58.236Z"
   },
   {
    "duration": 223,
    "start_time": "2021-07-07T14:51:58.750Z"
   },
   {
    "duration": 93,
    "start_time": "2021-07-07T14:51:58.977Z"
   },
   {
    "duration": 4,
    "start_time": "2021-07-07T14:51:59.071Z"
   },
   {
    "duration": 37,
    "start_time": "2021-07-07T14:51:59.077Z"
   },
   {
    "duration": 18,
    "start_time": "2021-07-07T14:51:59.116Z"
   },
   {
    "duration": 10,
    "start_time": "2021-07-07T14:51:59.137Z"
   },
   {
    "duration": 8,
    "start_time": "2021-07-07T14:51:59.149Z"
   },
   {
    "duration": 54,
    "start_time": "2021-07-07T14:51:59.158Z"
   },
   {
    "duration": 18,
    "start_time": "2021-07-07T14:51:59.213Z"
   },
   {
    "duration": 22,
    "start_time": "2021-07-07T14:51:59.232Z"
   },
   {
    "duration": 36,
    "start_time": "2021-07-07T14:51:59.255Z"
   },
   {
    "duration": 7,
    "start_time": "2021-07-07T14:51:59.293Z"
   },
   {
    "duration": 10,
    "start_time": "2021-07-07T14:51:59.302Z"
   },
   {
    "duration": 9,
    "start_time": "2021-07-07T14:51:59.313Z"
   },
   {
    "duration": 11,
    "start_time": "2021-07-07T14:51:59.324Z"
   },
   {
    "duration": 8,
    "start_time": "2021-07-07T14:51:59.337Z"
   },
   {
    "duration": 46,
    "start_time": "2021-07-07T14:51:59.347Z"
   },
   {
    "duration": 22,
    "start_time": "2021-07-07T14:51:59.395Z"
   },
   {
    "duration": 24,
    "start_time": "2021-07-07T14:57:32.911Z"
   },
   {
    "duration": 7,
    "start_time": "2021-07-07T14:58:22.070Z"
   },
   {
    "duration": 4,
    "start_time": "2021-07-07T14:59:11.239Z"
   },
   {
    "duration": 25,
    "start_time": "2021-07-07T15:07:22.208Z"
   },
   {
    "duration": 16,
    "start_time": "2021-07-07T15:08:25.560Z"
   },
   {
    "duration": 15,
    "start_time": "2021-07-07T15:08:40.647Z"
   },
   {
    "duration": 14,
    "start_time": "2021-07-07T15:08:46.669Z"
   },
   {
    "duration": 533,
    "start_time": "2021-07-07T15:18:07.440Z"
   },
   {
    "duration": 173,
    "start_time": "2021-07-07T15:18:07.974Z"
   },
   {
    "duration": 84,
    "start_time": "2021-07-07T15:18:08.149Z"
   },
   {
    "duration": 3,
    "start_time": "2021-07-07T15:18:08.235Z"
   },
   {
    "duration": 30,
    "start_time": "2021-07-07T15:18:08.240Z"
   },
   {
    "duration": 22,
    "start_time": "2021-07-07T15:18:08.272Z"
   },
   {
    "duration": 11,
    "start_time": "2021-07-07T15:18:08.295Z"
   },
   {
    "duration": 11,
    "start_time": "2021-07-07T15:18:08.309Z"
   },
   {
    "duration": 40,
    "start_time": "2021-07-07T15:18:08.322Z"
   },
   {
    "duration": 42,
    "start_time": "2021-07-07T15:18:08.364Z"
   },
   {
    "duration": 22,
    "start_time": "2021-07-07T15:18:08.408Z"
   },
   {
    "duration": 5,
    "start_time": "2021-07-07T15:18:08.432Z"
   },
   {
    "duration": 13,
    "start_time": "2021-07-07T15:18:08.439Z"
   },
   {
    "duration": 9,
    "start_time": "2021-07-07T15:18:08.454Z"
   },
   {
    "duration": 32,
    "start_time": "2021-07-07T15:18:08.465Z"
   },
   {
    "duration": 10,
    "start_time": "2021-07-07T15:18:08.501Z"
   },
   {
    "duration": 7,
    "start_time": "2021-07-07T15:18:08.513Z"
   },
   {
    "duration": 11,
    "start_time": "2021-07-07T15:18:08.521Z"
   },
   {
    "duration": 17,
    "start_time": "2021-07-07T15:18:08.534Z"
   },
   {
    "duration": 44,
    "start_time": "2021-07-07T15:18:08.553Z"
   },
   {
    "duration": 22,
    "start_time": "2021-07-07T15:18:08.599Z"
   },
   {
    "duration": 61,
    "start_time": "2021-07-07T15:18:08.622Z"
   },
   {
    "duration": 7,
    "start_time": "2021-07-07T15:18:39.457Z"
   },
   {
    "duration": 5,
    "start_time": "2021-07-07T16:05:17.020Z"
   },
   {
    "duration": 5,
    "start_time": "2021-07-07T16:51:28.794Z"
   },
   {
    "duration": 546,
    "start_time": "2021-07-07T16:52:26.306Z"
   },
   {
    "duration": 203,
    "start_time": "2021-07-07T16:52:27.523Z"
   },
   {
    "duration": 85,
    "start_time": "2021-07-07T16:52:27.736Z"
   },
   {
    "duration": 4,
    "start_time": "2021-07-07T16:52:27.899Z"
   },
   {
    "duration": 25,
    "start_time": "2021-07-07T16:52:28.674Z"
   },
   {
    "duration": 8,
    "start_time": "2021-07-07T16:52:32.956Z"
   },
   {
    "duration": 18,
    "start_time": "2021-07-07T16:52:35.616Z"
   },
   {
    "duration": 6,
    "start_time": "2021-07-07T16:52:36.913Z"
   },
   {
    "duration": 11,
    "start_time": "2021-07-07T16:52:40.258Z"
   },
   {
    "duration": 10,
    "start_time": "2021-07-07T16:52:46.251Z"
   },
   {
    "duration": 8,
    "start_time": "2021-07-07T16:52:47.182Z"
   },
   {
    "duration": 27,
    "start_time": "2021-07-07T16:53:20.391Z"
   },
   {
    "duration": 20,
    "start_time": "2021-07-07T16:53:22.022Z"
   },
   {
    "duration": 23,
    "start_time": "2021-07-07T16:53:23.690Z"
   },
   {
    "duration": 8,
    "start_time": "2021-07-07T16:53:24.261Z"
   },
   {
    "duration": 4,
    "start_time": "2021-07-07T16:53:38.733Z"
   },
   {
    "duration": 7,
    "start_time": "2021-07-07T16:53:40.445Z"
   },
   {
    "duration": 11,
    "start_time": "2021-07-07T16:53:41.348Z"
   },
   {
    "duration": 13,
    "start_time": "2021-07-07T16:53:45.250Z"
   },
   {
    "duration": 12,
    "start_time": "2021-07-07T16:53:45.467Z"
   },
   {
    "duration": 4,
    "start_time": "2021-07-07T16:55:32.704Z"
   },
   {
    "duration": 12,
    "start_time": "2021-07-07T16:55:49.012Z"
   },
   {
    "duration": 18,
    "start_time": "2021-07-07T16:55:49.547Z"
   },
   {
    "duration": 611,
    "start_time": "2021-07-07T16:58:35.156Z"
   },
   {
    "duration": 200,
    "start_time": "2021-07-07T16:58:35.770Z"
   },
   {
    "duration": 86,
    "start_time": "2021-07-07T16:58:35.972Z"
   },
   {
    "duration": 3,
    "start_time": "2021-07-07T16:58:36.060Z"
   },
   {
    "duration": 27,
    "start_time": "2021-07-07T16:58:36.065Z"
   },
   {
    "duration": 8,
    "start_time": "2021-07-07T16:58:36.094Z"
   },
   {
    "duration": 17,
    "start_time": "2021-07-07T16:58:36.103Z"
   },
   {
    "duration": 5,
    "start_time": "2021-07-07T16:58:36.123Z"
   },
   {
    "duration": 11,
    "start_time": "2021-07-07T16:58:36.130Z"
   },
   {
    "duration": 7,
    "start_time": "2021-07-07T16:58:36.143Z"
   },
   {
    "duration": 37,
    "start_time": "2021-07-07T16:58:36.152Z"
   },
   {
    "duration": 27,
    "start_time": "2021-07-07T16:58:36.191Z"
   },
   {
    "duration": 19,
    "start_time": "2021-07-07T16:58:36.219Z"
   },
   {
    "duration": 49,
    "start_time": "2021-07-07T16:58:36.240Z"
   },
   {
    "duration": 6,
    "start_time": "2021-07-07T16:58:36.291Z"
   },
   {
    "duration": 3,
    "start_time": "2021-07-07T16:58:36.299Z"
   },
   {
    "duration": 13,
    "start_time": "2021-07-07T16:58:36.304Z"
   },
   {
    "duration": 10,
    "start_time": "2021-07-07T16:58:36.319Z"
   },
   {
    "duration": 10,
    "start_time": "2021-07-07T16:58:36.331Z"
   },
   {
    "duration": 44,
    "start_time": "2021-07-07T16:58:36.343Z"
   },
   {
    "duration": 4,
    "start_time": "2021-07-07T16:58:36.388Z"
   },
   {
    "duration": 13,
    "start_time": "2021-07-07T16:58:36.394Z"
   },
   {
    "duration": 16,
    "start_time": "2021-07-07T16:58:36.410Z"
   },
   {
    "duration": 8,
    "start_time": "2021-07-07T17:02:31.629Z"
   },
   {
    "duration": 8,
    "start_time": "2021-07-07T17:02:34.308Z"
   },
   {
    "duration": 6,
    "start_time": "2021-07-07T17:05:13.483Z"
   },
   {
    "duration": 17,
    "start_time": "2021-07-07T17:05:20.606Z"
   },
   {
    "duration": 7,
    "start_time": "2021-07-07T17:05:34.638Z"
   },
   {
    "duration": 3,
    "start_time": "2021-07-07T17:06:31.883Z"
   },
   {
    "duration": 570,
    "start_time": "2021-07-07T17:06:37.165Z"
   },
   {
    "duration": 174,
    "start_time": "2021-07-07T17:06:37.737Z"
   },
   {
    "duration": 47,
    "start_time": "2021-07-07T17:06:37.913Z"
   },
   {
    "duration": 3,
    "start_time": "2021-07-07T17:06:37.962Z"
   },
   {
    "duration": 27,
    "start_time": "2021-07-07T17:06:37.967Z"
   },
   {
    "duration": 7,
    "start_time": "2021-07-07T17:06:37.996Z"
   },
   {
    "duration": 16,
    "start_time": "2021-07-07T17:06:38.005Z"
   },
   {
    "duration": 6,
    "start_time": "2021-07-07T17:06:38.024Z"
   },
   {
    "duration": 12,
    "start_time": "2021-07-07T17:06:38.031Z"
   },
   {
    "duration": 41,
    "start_time": "2021-07-07T17:06:38.045Z"
   },
   {
    "duration": 8,
    "start_time": "2021-07-07T17:06:38.088Z"
   },
   {
    "duration": 26,
    "start_time": "2021-07-07T17:06:38.098Z"
   },
   {
    "duration": 17,
    "start_time": "2021-07-07T17:06:38.126Z"
   },
   {
    "duration": 43,
    "start_time": "2021-07-07T17:06:38.144Z"
   },
   {
    "duration": 6,
    "start_time": "2021-07-07T17:06:38.188Z"
   },
   {
    "duration": 5,
    "start_time": "2021-07-07T17:06:38.195Z"
   },
   {
    "duration": 9,
    "start_time": "2021-07-07T17:06:38.201Z"
   },
   {
    "duration": 12,
    "start_time": "2021-07-07T17:06:38.212Z"
   },
   {
    "duration": 11,
    "start_time": "2021-07-07T17:06:38.226Z"
   },
   {
    "duration": 47,
    "start_time": "2021-07-07T17:06:38.239Z"
   },
   {
    "duration": 4,
    "start_time": "2021-07-07T17:06:38.288Z"
   },
   {
    "duration": 13,
    "start_time": "2021-07-07T17:06:38.293Z"
   },
   {
    "duration": 5,
    "start_time": "2021-07-07T17:06:38.309Z"
   },
   {
    "duration": 18,
    "start_time": "2021-07-07T17:06:38.325Z"
   },
   {
    "duration": 20,
    "start_time": "2021-07-07T17:07:02.805Z"
   },
   {
    "duration": 19,
    "start_time": "2021-07-07T17:07:08.527Z"
   },
   {
    "duration": 19,
    "start_time": "2021-07-07T17:07:12.758Z"
   },
   {
    "duration": 22,
    "start_time": "2021-07-07T17:07:17.497Z"
   },
   {
    "duration": 19,
    "start_time": "2021-07-07T17:07:19.645Z"
   },
   {
    "duration": 10,
    "start_time": "2021-07-07T17:07:34.239Z"
   },
   {
    "duration": 17,
    "start_time": "2021-07-07T17:07:54.144Z"
   },
   {
    "duration": 14,
    "start_time": "2021-07-07T17:08:14.357Z"
   },
   {
    "duration": 616,
    "start_time": "2021-07-07T17:08:45.254Z"
   },
   {
    "duration": 178,
    "start_time": "2021-07-07T17:08:45.872Z"
   },
   {
    "duration": 60,
    "start_time": "2021-07-07T17:08:46.054Z"
   },
   {
    "duration": 3,
    "start_time": "2021-07-07T17:08:46.116Z"
   },
   {
    "duration": 26,
    "start_time": "2021-07-07T17:08:46.121Z"
   },
   {
    "duration": 7,
    "start_time": "2021-07-07T17:08:46.149Z"
   },
   {
    "duration": 17,
    "start_time": "2021-07-07T17:08:46.158Z"
   },
   {
    "duration": 14,
    "start_time": "2021-07-07T17:08:46.176Z"
   },
   {
    "duration": 17,
    "start_time": "2021-07-07T17:08:46.193Z"
   },
   {
    "duration": 9,
    "start_time": "2021-07-07T17:08:46.211Z"
   },
   {
    "duration": 21,
    "start_time": "2021-07-07T17:08:46.221Z"
   },
   {
    "duration": 49,
    "start_time": "2021-07-07T17:08:46.244Z"
   },
   {
    "duration": 24,
    "start_time": "2021-07-07T17:08:46.295Z"
   },
   {
    "duration": 22,
    "start_time": "2021-07-07T17:08:46.321Z"
   },
   {
    "duration": 6,
    "start_time": "2021-07-07T17:08:46.345Z"
   },
   {
    "duration": 5,
    "start_time": "2021-07-07T17:08:46.353Z"
   },
   {
    "duration": 13,
    "start_time": "2021-07-07T17:08:46.386Z"
   },
   {
    "duration": 12,
    "start_time": "2021-07-07T17:08:46.402Z"
   },
   {
    "duration": 10,
    "start_time": "2021-07-07T17:08:46.415Z"
   },
   {
    "duration": 7,
    "start_time": "2021-07-07T17:08:46.427Z"
   },
   {
    "duration": 8,
    "start_time": "2021-07-07T17:08:46.435Z"
   },
   {
    "duration": 68,
    "start_time": "2021-07-07T17:08:46.446Z"
   },
   {
    "duration": 13,
    "start_time": "2021-07-07T17:08:46.516Z"
   },
   {
    "duration": 78,
    "start_time": "2021-07-07T17:08:46.530Z"
   },
   {
    "duration": 40,
    "start_time": "2021-07-07T17:09:08.185Z"
   },
   {
    "duration": 16,
    "start_time": "2021-07-07T17:09:19.324Z"
   },
   {
    "duration": 21,
    "start_time": "2021-07-07T17:09:23.290Z"
   },
   {
    "duration": 13,
    "start_time": "2021-07-07T17:09:54.812Z"
   },
   {
    "duration": 13,
    "start_time": "2021-07-07T17:10:02.039Z"
   },
   {
    "duration": 10,
    "start_time": "2021-07-07T17:10:29.632Z"
   },
   {
    "duration": 13,
    "start_time": "2021-07-07T17:10:52.372Z"
   },
   {
    "duration": 13,
    "start_time": "2021-07-07T17:11:17.270Z"
   },
   {
    "duration": 13,
    "start_time": "2021-07-07T17:14:59.284Z"
   },
   {
    "duration": 547,
    "start_time": "2021-07-07T17:18:52.403Z"
   },
   {
    "duration": 163,
    "start_time": "2021-07-07T17:18:52.952Z"
   },
   {
    "duration": 44,
    "start_time": "2021-07-07T17:18:53.117Z"
   },
   {
    "duration": 3,
    "start_time": "2021-07-07T17:18:53.162Z"
   },
   {
    "duration": 26,
    "start_time": "2021-07-07T17:18:53.167Z"
   },
   {
    "duration": 6,
    "start_time": "2021-07-07T17:18:53.195Z"
   },
   {
    "duration": 15,
    "start_time": "2021-07-07T17:18:53.203Z"
   },
   {
    "duration": 5,
    "start_time": "2021-07-07T17:18:53.220Z"
   },
   {
    "duration": 11,
    "start_time": "2021-07-07T17:18:53.228Z"
   },
   {
    "duration": 9,
    "start_time": "2021-07-07T17:18:53.241Z"
   },
   {
    "duration": 41,
    "start_time": "2021-07-07T17:18:53.252Z"
   },
   {
    "duration": 33,
    "start_time": "2021-07-07T17:18:53.295Z"
   },
   {
    "duration": 19,
    "start_time": "2021-07-07T17:18:53.330Z"
   },
   {
    "duration": 49,
    "start_time": "2021-07-07T17:18:53.350Z"
   },
   {
    "duration": 5,
    "start_time": "2021-07-07T17:18:53.401Z"
   },
   {
    "duration": 5,
    "start_time": "2021-07-07T17:18:53.408Z"
   },
   {
    "duration": 11,
    "start_time": "2021-07-07T17:18:53.414Z"
   },
   {
    "duration": 9,
    "start_time": "2021-07-07T17:18:53.427Z"
   },
   {
    "duration": 10,
    "start_time": "2021-07-07T17:18:53.437Z"
   },
   {
    "duration": 39,
    "start_time": "2021-07-07T17:18:53.448Z"
   },
   {
    "duration": 26,
    "start_time": "2021-07-07T17:18:55.799Z"
   },
   {
    "duration": 598,
    "start_time": "2021-07-07T17:20:17.862Z"
   },
   {
    "duration": 161,
    "start_time": "2021-07-07T17:20:18.462Z"
   },
   {
    "duration": 45,
    "start_time": "2021-07-07T17:20:18.626Z"
   },
   {
    "duration": 4,
    "start_time": "2021-07-07T17:20:18.673Z"
   },
   {
    "duration": 38,
    "start_time": "2021-07-07T17:20:26.877Z"
   },
   {
    "duration": 7,
    "start_time": "2021-07-07T17:20:37.405Z"
   },
   {
    "duration": 19,
    "start_time": "2021-07-07T17:20:51.534Z"
   },
   {
    "duration": 5,
    "start_time": "2021-07-07T17:20:57.228Z"
   },
   {
    "duration": 7,
    "start_time": "2021-07-07T17:21:08.235Z"
   },
   {
    "duration": 19,
    "start_time": "2021-07-07T17:21:42.158Z"
   },
   {
    "duration": 14,
    "start_time": "2021-07-07T17:21:50.225Z"
   },
   {
    "duration": 22,
    "start_time": "2021-07-07T17:22:54.104Z"
   },
   {
    "duration": 5,
    "start_time": "2021-07-07T17:22:56.371Z"
   },
   {
    "duration": 14,
    "start_time": "2021-07-07T17:22:58.316Z"
   },
   {
    "duration": 5,
    "start_time": "2021-07-07T17:22:58.493Z"
   },
   {
    "duration": 35,
    "start_time": "2021-07-07T17:22:59.666Z"
   },
   {
    "duration": 6,
    "start_time": "2021-07-07T17:23:02.410Z"
   },
   {
    "duration": 611,
    "start_time": "2021-07-07T17:24:59.664Z"
   },
   {
    "duration": 178,
    "start_time": "2021-07-07T17:25:01.945Z"
   },
   {
    "duration": 47,
    "start_time": "2021-07-07T17:25:02.125Z"
   },
   {
    "duration": 2,
    "start_time": "2021-07-07T17:25:07.903Z"
   },
   {
    "duration": 254,
    "start_time": "2021-07-07T17:25:08.232Z"
   },
   {
    "duration": 182,
    "start_time": "2021-07-07T17:25:08.671Z"
   },
   {
    "duration": 6,
    "start_time": "2021-07-07T17:25:13.104Z"
   },
   {
    "duration": 36,
    "start_time": "2021-07-07T17:25:13.662Z"
   },
   {
    "duration": 7,
    "start_time": "2021-07-07T17:25:14.528Z"
   },
   {
    "duration": 24,
    "start_time": "2021-07-07T17:25:27.982Z"
   },
   {
    "duration": 3,
    "start_time": "2021-07-07T17:25:48.982Z"
   },
   {
    "duration": 165,
    "start_time": "2021-07-07T17:25:48.987Z"
   },
   {
    "duration": 50,
    "start_time": "2021-07-07T17:25:49.154Z"
   },
   {
    "duration": 4,
    "start_time": "2021-07-07T17:25:49.206Z"
   },
   {
    "duration": 26,
    "start_time": "2021-07-07T17:25:49.212Z"
   },
   {
    "duration": 7,
    "start_time": "2021-07-07T17:25:49.240Z"
   },
   {
    "duration": 16,
    "start_time": "2021-07-07T17:25:49.249Z"
   },
   {
    "duration": 22,
    "start_time": "2021-07-07T17:25:49.266Z"
   },
   {
    "duration": 16,
    "start_time": "2021-07-07T17:25:49.291Z"
   },
   {
    "duration": 9,
    "start_time": "2021-07-07T17:25:49.309Z"
   },
   {
    "duration": 7,
    "start_time": "2021-07-07T17:25:49.319Z"
   },
   {
    "duration": 28,
    "start_time": "2021-07-07T17:25:49.328Z"
   },
   {
    "duration": 44,
    "start_time": "2021-07-07T17:25:49.357Z"
   },
   {
    "duration": 22,
    "start_time": "2021-07-07T17:25:49.403Z"
   },
   {
    "duration": 7,
    "start_time": "2021-07-07T17:25:49.427Z"
   },
   {
    "duration": 3,
    "start_time": "2021-07-07T17:25:49.436Z"
   },
   {
    "duration": 44,
    "start_time": "2021-07-07T17:25:49.441Z"
   },
   {
    "duration": 12,
    "start_time": "2021-07-07T17:25:49.488Z"
   },
   {
    "duration": 13,
    "start_time": "2021-07-07T17:25:49.502Z"
   },
   {
    "duration": 10,
    "start_time": "2021-07-07T17:25:49.516Z"
   },
   {
    "duration": 62,
    "start_time": "2021-07-07T17:25:49.527Z"
   },
   {
    "duration": 26,
    "start_time": "2021-07-07T17:26:51.809Z"
   },
   {
    "duration": 26,
    "start_time": "2021-07-07T17:26:55.759Z"
   },
   {
    "duration": 26,
    "start_time": "2021-07-07T17:27:04.501Z"
   },
   {
    "duration": 25,
    "start_time": "2021-07-07T17:28:24.859Z"
   },
   {
    "duration": 21,
    "start_time": "2021-07-07T17:28:55.250Z"
   },
   {
    "duration": 21,
    "start_time": "2021-07-07T17:28:58.885Z"
   },
   {
    "duration": 7,
    "start_time": "2021-07-07T17:45:40.972Z"
   },
   {
    "duration": 13,
    "start_time": "2021-07-07T17:45:42.529Z"
   },
   {
    "duration": 27,
    "start_time": "2021-07-07T17:45:51.026Z"
   },
   {
    "duration": 518,
    "start_time": "2021-07-07T17:46:15.532Z"
   },
   {
    "duration": 235,
    "start_time": "2021-07-07T17:46:16.053Z"
   },
   {
    "duration": 80,
    "start_time": "2021-07-07T17:46:16.292Z"
   },
   {
    "duration": 5,
    "start_time": "2021-07-07T17:46:16.373Z"
   },
   {
    "duration": 26,
    "start_time": "2021-07-07T17:46:16.380Z"
   },
   {
    "duration": 7,
    "start_time": "2021-07-07T17:46:16.408Z"
   },
   {
    "duration": 16,
    "start_time": "2021-07-07T17:46:16.418Z"
   },
   {
    "duration": 5,
    "start_time": "2021-07-07T17:46:16.436Z"
   },
   {
    "duration": 13,
    "start_time": "2021-07-07T17:46:16.442Z"
   },
   {
    "duration": 35,
    "start_time": "2021-07-07T17:46:16.456Z"
   },
   {
    "duration": 8,
    "start_time": "2021-07-07T17:46:16.493Z"
   },
   {
    "duration": 28,
    "start_time": "2021-07-07T17:46:16.502Z"
   },
   {
    "duration": 17,
    "start_time": "2021-07-07T17:46:16.532Z"
   },
   {
    "duration": 44,
    "start_time": "2021-07-07T17:46:16.551Z"
   },
   {
    "duration": 6,
    "start_time": "2021-07-07T17:46:16.597Z"
   },
   {
    "duration": 4,
    "start_time": "2021-07-07T17:46:16.605Z"
   },
   {
    "duration": 9,
    "start_time": "2021-07-07T17:46:16.610Z"
   },
   {
    "duration": 9,
    "start_time": "2021-07-07T17:46:16.621Z"
   },
   {
    "duration": 10,
    "start_time": "2021-07-07T17:46:16.632Z"
   },
   {
    "duration": 43,
    "start_time": "2021-07-07T17:46:16.644Z"
   },
   {
    "duration": 26,
    "start_time": "2021-07-07T17:46:16.689Z"
   },
   {
    "duration": 19,
    "start_time": "2021-07-07T17:46:16.718Z"
   },
   {
    "duration": 8,
    "start_time": "2021-07-07T17:46:16.738Z"
   },
   {
    "duration": 43,
    "start_time": "2021-07-07T17:46:16.747Z"
   },
   {
    "duration": 19,
    "start_time": "2021-07-07T17:46:16.791Z"
   },
   {
    "duration": 9,
    "start_time": "2021-07-07T17:46:16.812Z"
   },
   {
    "duration": 60,
    "start_time": "2021-07-07T17:46:16.822Z"
   },
   {
    "duration": -8,
    "start_time": "2021-07-07T17:46:16.892Z"
   },
   {
    "duration": 12,
    "start_time": "2021-07-07T17:48:47.707Z"
   },
   {
    "duration": 553,
    "start_time": "2021-07-07T18:10:09.350Z"
   },
   {
    "duration": 230,
    "start_time": "2021-07-07T18:10:09.905Z"
   },
   {
    "duration": 97,
    "start_time": "2021-07-07T18:10:10.137Z"
   },
   {
    "duration": 5,
    "start_time": "2021-07-07T18:10:10.236Z"
   },
   {
    "duration": 29,
    "start_time": "2021-07-07T18:10:10.242Z"
   },
   {
    "duration": 7,
    "start_time": "2021-07-07T18:10:10.272Z"
   },
   {
    "duration": 15,
    "start_time": "2021-07-07T18:10:10.281Z"
   },
   {
    "duration": 4,
    "start_time": "2021-07-07T18:10:10.299Z"
   },
   {
    "duration": 14,
    "start_time": "2021-07-07T18:10:10.305Z"
   },
   {
    "duration": 8,
    "start_time": "2021-07-07T18:10:10.321Z"
   },
   {
    "duration": 8,
    "start_time": "2021-07-07T18:10:10.331Z"
   },
   {
    "duration": 56,
    "start_time": "2021-07-07T18:10:10.341Z"
   },
   {
    "duration": 19,
    "start_time": "2021-07-07T18:10:10.399Z"
   },
   {
    "duration": 23,
    "start_time": "2021-07-07T18:10:10.419Z"
   },
   {
    "duration": 6,
    "start_time": "2021-07-07T18:10:10.444Z"
   },
   {
    "duration": 9,
    "start_time": "2021-07-07T18:10:10.451Z"
   },
   {
    "duration": 30,
    "start_time": "2021-07-07T18:10:10.462Z"
   },
   {
    "duration": 9,
    "start_time": "2021-07-07T18:10:10.494Z"
   },
   {
    "duration": 14,
    "start_time": "2021-07-07T18:10:10.505Z"
   },
   {
    "duration": 7,
    "start_time": "2021-07-07T18:10:10.521Z"
   },
   {
    "duration": 26,
    "start_time": "2021-07-07T18:10:10.530Z"
   },
   {
    "duration": 44,
    "start_time": "2021-07-07T18:10:10.558Z"
   },
   {
    "duration": 7,
    "start_time": "2021-07-07T18:10:10.605Z"
   },
   {
    "duration": 11,
    "start_time": "2021-07-07T18:10:10.614Z"
   },
   {
    "duration": 19,
    "start_time": "2021-07-07T18:10:10.626Z"
   },
   {
    "duration": 44,
    "start_time": "2021-07-07T18:10:10.646Z"
   },
   {
    "duration": 516,
    "start_time": "2021-07-07T18:14:00.826Z"
   },
   {
    "duration": 230,
    "start_time": "2021-07-07T18:14:01.344Z"
   },
   {
    "duration": 105,
    "start_time": "2021-07-07T18:14:01.576Z"
   },
   {
    "duration": 5,
    "start_time": "2021-07-07T18:14:01.683Z"
   },
   {
    "duration": 46,
    "start_time": "2021-07-07T18:14:01.690Z"
   },
   {
    "duration": 7,
    "start_time": "2021-07-07T18:14:01.738Z"
   },
   {
    "duration": 20,
    "start_time": "2021-07-07T18:14:01.747Z"
   },
   {
    "duration": 16,
    "start_time": "2021-07-07T18:14:01.769Z"
   },
   {
    "duration": 14,
    "start_time": "2021-07-07T18:14:01.787Z"
   },
   {
    "duration": 15,
    "start_time": "2021-07-07T18:14:01.803Z"
   },
   {
    "duration": 12,
    "start_time": "2021-07-07T18:14:01.820Z"
   },
   {
    "duration": 35,
    "start_time": "2021-07-07T18:14:01.833Z"
   },
   {
    "duration": 31,
    "start_time": "2021-07-07T18:14:01.869Z"
   },
   {
    "duration": 37,
    "start_time": "2021-07-07T18:14:01.902Z"
   },
   {
    "duration": 8,
    "start_time": "2021-07-07T18:14:01.942Z"
   },
   {
    "duration": 16,
    "start_time": "2021-07-07T18:14:01.952Z"
   },
   {
    "duration": 13,
    "start_time": "2021-07-07T18:14:01.970Z"
   },
   {
    "duration": 32,
    "start_time": "2021-07-07T18:14:01.985Z"
   },
   {
    "duration": 11,
    "start_time": "2021-07-07T18:14:02.019Z"
   },
   {
    "duration": 22,
    "start_time": "2021-07-07T18:14:02.031Z"
   },
   {
    "duration": 27,
    "start_time": "2021-07-07T18:14:02.055Z"
   },
   {
    "duration": 18,
    "start_time": "2021-07-07T18:14:02.084Z"
   },
   {
    "duration": 18,
    "start_time": "2021-07-07T18:14:02.106Z"
   },
   {
    "duration": 11,
    "start_time": "2021-07-07T18:14:02.126Z"
   },
   {
    "duration": 21,
    "start_time": "2021-07-07T18:14:02.138Z"
   },
   {
    "duration": 32,
    "start_time": "2021-07-07T18:14:02.161Z"
   },
   {
    "duration": 28,
    "start_time": "2021-07-07T18:14:44.295Z"
   },
   {
    "duration": 6,
    "start_time": "2021-07-07T18:15:05.834Z"
   },
   {
    "duration": 511,
    "start_time": "2021-07-07T18:15:41.541Z"
   },
   {
    "duration": 183,
    "start_time": "2021-07-07T18:15:42.054Z"
   },
   {
    "duration": 50,
    "start_time": "2021-07-07T18:15:42.239Z"
   },
   {
    "duration": 5,
    "start_time": "2021-07-07T18:15:42.291Z"
   },
   {
    "duration": 48,
    "start_time": "2021-07-07T18:15:42.297Z"
   },
   {
    "duration": 8,
    "start_time": "2021-07-07T18:15:42.346Z"
   },
   {
    "duration": 17,
    "start_time": "2021-07-07T18:15:42.356Z"
   },
   {
    "duration": 15,
    "start_time": "2021-07-07T18:15:42.375Z"
   },
   {
    "duration": 12,
    "start_time": "2021-07-07T18:15:42.392Z"
   },
   {
    "duration": 7,
    "start_time": "2021-07-07T18:15:42.406Z"
   },
   {
    "duration": 7,
    "start_time": "2021-07-07T18:15:42.415Z"
   },
   {
    "duration": 29,
    "start_time": "2021-07-07T18:15:42.423Z"
   },
   {
    "duration": 43,
    "start_time": "2021-07-07T18:15:42.453Z"
   },
   {
    "duration": 18,
    "start_time": "2021-07-07T18:15:42.497Z"
   },
   {
    "duration": 6,
    "start_time": "2021-07-07T18:15:42.516Z"
   },
   {
    "duration": 3,
    "start_time": "2021-07-07T18:15:42.523Z"
   },
   {
    "duration": 18,
    "start_time": "2021-07-07T18:15:42.528Z"
   },
   {
    "duration": 10,
    "start_time": "2021-07-07T18:15:42.547Z"
   },
   {
    "duration": 36,
    "start_time": "2021-07-07T18:15:42.559Z"
   },
   {
    "duration": 8,
    "start_time": "2021-07-07T18:15:42.597Z"
   },
   {
    "duration": 28,
    "start_time": "2021-07-07T18:15:42.606Z"
   },
   {
    "duration": 52,
    "start_time": "2021-07-07T18:15:42.635Z"
   },
   {
    "duration": 7,
    "start_time": "2021-07-07T18:15:42.690Z"
   },
   {
    "duration": 10,
    "start_time": "2021-07-07T18:15:42.699Z"
   },
   {
    "duration": 19,
    "start_time": "2021-07-07T18:15:42.711Z"
   },
   {
    "duration": 9,
    "start_time": "2021-07-07T18:15:42.732Z"
   },
   {
    "duration": 5,
    "start_time": "2021-07-07T18:15:42.743Z"
   },
   {
    "duration": 1450,
    "start_time": "2021-07-07T18:15:51.984Z"
   },
   {
    "duration": 161,
    "start_time": "2021-07-07T18:15:53.435Z"
   },
   {
    "duration": 124,
    "start_time": "2021-07-07T18:15:53.598Z"
   },
   {
    "duration": 5,
    "start_time": "2021-07-07T18:15:53.724Z"
   },
   {
    "duration": 34,
    "start_time": "2021-07-07T18:15:53.730Z"
   },
   {
    "duration": 7,
    "start_time": "2021-07-07T18:15:53.765Z"
   },
   {
    "duration": 15,
    "start_time": "2021-07-07T18:15:53.773Z"
   },
   {
    "duration": 5,
    "start_time": "2021-07-07T18:15:53.791Z"
   },
   {
    "duration": 19,
    "start_time": "2021-07-07T18:15:53.798Z"
   },
   {
    "duration": 9,
    "start_time": "2021-07-07T18:15:53.818Z"
   },
   {
    "duration": 19,
    "start_time": "2021-07-07T18:15:53.828Z"
   },
   {
    "duration": 27,
    "start_time": "2021-07-07T18:15:53.848Z"
   },
   {
    "duration": 16,
    "start_time": "2021-07-07T18:15:53.884Z"
   },
   {
    "duration": 29,
    "start_time": "2021-07-07T18:15:53.901Z"
   },
   {
    "duration": 5,
    "start_time": "2021-07-07T18:15:53.932Z"
   },
   {
    "duration": 15,
    "start_time": "2021-07-07T18:15:53.939Z"
   },
   {
    "duration": 13,
    "start_time": "2021-07-07T18:15:53.956Z"
   },
   {
    "duration": 20,
    "start_time": "2021-07-07T18:15:53.971Z"
   },
   {
    "duration": 14,
    "start_time": "2021-07-07T18:15:53.992Z"
   },
   {
    "duration": 9,
    "start_time": "2021-07-07T18:15:54.009Z"
   },
   {
    "duration": 28,
    "start_time": "2021-07-07T18:15:54.020Z"
   },
   {
    "duration": 50,
    "start_time": "2021-07-07T18:15:54.051Z"
   },
   {
    "duration": 8,
    "start_time": "2021-07-07T18:15:54.105Z"
   },
   {
    "duration": 11,
    "start_time": "2021-07-07T18:15:54.115Z"
   },
   {
    "duration": 20,
    "start_time": "2021-07-07T18:15:54.128Z"
   },
   {
    "duration": 13,
    "start_time": "2021-07-07T18:15:54.184Z"
   },
   {
    "duration": 7,
    "start_time": "2021-07-07T18:15:54.199Z"
   },
   {
    "duration": 7,
    "start_time": "2021-07-07T18:17:08.042Z"
   },
   {
    "duration": 8,
    "start_time": "2021-07-07T18:17:21.008Z"
   },
   {
    "duration": 7,
    "start_time": "2021-07-07T18:17:29.003Z"
   },
   {
    "duration": 8,
    "start_time": "2021-07-07T18:17:32.492Z"
   },
   {
    "duration": 9,
    "start_time": "2021-07-07T18:17:41.758Z"
   },
   {
    "duration": 255,
    "start_time": "2021-07-07T18:20:20.897Z"
   },
   {
    "duration": 173,
    "start_time": "2021-07-07T18:20:26.636Z"
   },
   {
    "duration": 7,
    "start_time": "2021-07-07T18:21:47.164Z"
   },
   {
    "duration": 254,
    "start_time": "2021-07-07T18:23:08.703Z"
   },
   {
    "duration": 21,
    "start_time": "2021-07-07T18:23:22.506Z"
   },
   {
    "duration": 315,
    "start_time": "2021-07-07T18:25:54.801Z"
   },
   {
    "duration": 34,
    "start_time": "2021-07-07T18:26:51.817Z"
   },
   {
    "duration": 327,
    "start_time": "2021-07-07T18:26:56.147Z"
   },
   {
    "duration": 342,
    "start_time": "2021-07-07T18:27:15.887Z"
   },
   {
    "duration": 302,
    "start_time": "2021-07-07T18:28:18.569Z"
   },
   {
    "duration": 226,
    "start_time": "2021-07-07T18:29:20.879Z"
   },
   {
    "duration": 207,
    "start_time": "2021-07-07T18:29:58.114Z"
   },
   {
    "duration": 140,
    "start_time": "2021-07-07T18:32:04.372Z"
   },
   {
    "duration": 158,
    "start_time": "2021-07-07T18:32:32.508Z"
   },
   {
    "duration": 145,
    "start_time": "2021-07-07T18:32:41.365Z"
   },
   {
    "duration": 132,
    "start_time": "2021-07-07T18:32:45.199Z"
   },
   {
    "duration": 11,
    "start_time": "2021-07-07T18:35:24.679Z"
   },
   {
    "duration": 268,
    "start_time": "2021-07-07T18:36:16.145Z"
   },
   {
    "duration": 227,
    "start_time": "2021-07-07T18:37:04.918Z"
   },
   {
    "duration": 3,
    "start_time": "2021-07-07T18:37:33.012Z"
   },
   {
    "duration": 671,
    "start_time": "2021-07-07T18:37:38.295Z"
   },
   {
    "duration": 54,
    "start_time": "2021-07-07T18:37:53.406Z"
   },
   {
    "duration": 631,
    "start_time": "2021-07-07T18:37:56.463Z"
   },
   {
    "duration": 19,
    "start_time": "2021-07-07T18:39:40.535Z"
   },
   {
    "duration": 20,
    "start_time": "2021-07-07T18:40:12.236Z"
   },
   {
    "duration": 633,
    "start_time": "2021-07-07T18:42:00.398Z"
   },
   {
    "duration": 218,
    "start_time": "2021-07-07T18:42:01.033Z"
   },
   {
    "duration": 49,
    "start_time": "2021-07-07T18:42:01.253Z"
   },
   {
    "duration": 5,
    "start_time": "2021-07-07T18:42:01.303Z"
   },
   {
    "duration": 27,
    "start_time": "2021-07-07T18:42:01.310Z"
   },
   {
    "duration": 8,
    "start_time": "2021-07-07T18:42:01.339Z"
   },
   {
    "duration": 20,
    "start_time": "2021-07-07T18:42:01.348Z"
   },
   {
    "duration": 6,
    "start_time": "2021-07-07T18:42:01.386Z"
   },
   {
    "duration": 16,
    "start_time": "2021-07-07T18:42:01.394Z"
   },
   {
    "duration": 9,
    "start_time": "2021-07-07T18:42:01.411Z"
   },
   {
    "duration": 11,
    "start_time": "2021-07-07T18:42:01.421Z"
   },
   {
    "duration": 31,
    "start_time": "2021-07-07T18:42:01.434Z"
   },
   {
    "duration": 18,
    "start_time": "2021-07-07T18:42:01.485Z"
   },
   {
    "duration": 23,
    "start_time": "2021-07-07T18:42:01.505Z"
   },
   {
    "duration": 6,
    "start_time": "2021-07-07T18:42:01.530Z"
   },
   {
    "duration": 10,
    "start_time": "2021-07-07T18:42:01.538Z"
   },
   {
    "duration": 13,
    "start_time": "2021-07-07T18:42:01.550Z"
   },
   {
    "duration": 24,
    "start_time": "2021-07-07T18:42:01.564Z"
   },
   {
    "duration": 20,
    "start_time": "2021-07-07T18:42:01.590Z"
   },
   {
    "duration": 8,
    "start_time": "2021-07-07T18:42:01.611Z"
   },
   {
    "duration": 31,
    "start_time": "2021-07-07T18:42:01.620Z"
   },
   {
    "duration": 39,
    "start_time": "2021-07-07T18:42:01.653Z"
   },
   {
    "duration": 8,
    "start_time": "2021-07-07T18:42:01.696Z"
   },
   {
    "duration": 13,
    "start_time": "2021-07-07T18:42:01.705Z"
   },
   {
    "duration": 20,
    "start_time": "2021-07-07T18:42:01.720Z"
   },
   {
    "duration": 12,
    "start_time": "2021-07-07T18:42:01.741Z"
   },
   {
    "duration": 35,
    "start_time": "2021-07-07T18:42:01.755Z"
   },
   {
    "duration": 14,
    "start_time": "2021-07-07T18:42:01.792Z"
   },
   {
    "duration": 188,
    "start_time": "2021-07-07T18:42:01.808Z"
   },
   {
    "duration": 19,
    "start_time": "2021-07-07T18:42:01.998Z"
   },
   {
    "duration": 175,
    "start_time": "2021-07-07T18:42:02.019Z"
   },
   {
    "duration": 134,
    "start_time": "2021-07-07T18:42:02.196Z"
   },
   {
    "duration": 10,
    "start_time": "2021-07-07T18:42:02.331Z"
   },
   {
    "duration": 19,
    "start_time": "2021-07-07T18:42:02.343Z"
   },
   {
    "duration": 628,
    "start_time": "2021-07-07T18:46:30.701Z"
   },
   {
    "duration": 183,
    "start_time": "2021-07-07T18:46:31.331Z"
   },
   {
    "duration": 48,
    "start_time": "2021-07-07T18:46:31.516Z"
   },
   {
    "duration": 5,
    "start_time": "2021-07-07T18:46:31.566Z"
   },
   {
    "duration": 28,
    "start_time": "2021-07-07T18:46:31.572Z"
   },
   {
    "duration": 8,
    "start_time": "2021-07-07T18:46:31.602Z"
   },
   {
    "duration": 19,
    "start_time": "2021-07-07T18:46:31.611Z"
   },
   {
    "duration": 6,
    "start_time": "2021-07-07T18:46:31.633Z"
   },
   {
    "duration": 17,
    "start_time": "2021-07-07T18:46:31.642Z"
   },
   {
    "duration": 10,
    "start_time": "2021-07-07T18:46:31.684Z"
   },
   {
    "duration": 9,
    "start_time": "2021-07-07T18:46:31.695Z"
   },
   {
    "duration": 28,
    "start_time": "2021-07-07T18:46:31.705Z"
   },
   {
    "duration": 18,
    "start_time": "2021-07-07T18:46:31.735Z"
   },
   {
    "duration": 48,
    "start_time": "2021-07-07T18:46:31.755Z"
   },
   {
    "duration": 6,
    "start_time": "2021-07-07T18:46:31.804Z"
   },
   {
    "duration": 4,
    "start_time": "2021-07-07T18:46:31.812Z"
   },
   {
    "duration": 9,
    "start_time": "2021-07-07T18:46:31.817Z"
   },
   {
    "duration": 10,
    "start_time": "2021-07-07T18:46:31.827Z"
   },
   {
    "duration": 12,
    "start_time": "2021-07-07T18:46:31.838Z"
   },
   {
    "duration": 39,
    "start_time": "2021-07-07T18:46:31.851Z"
   },
   {
    "duration": 24,
    "start_time": "2021-07-07T18:46:31.892Z"
   },
   {
    "duration": 15,
    "start_time": "2021-07-07T18:46:31.918Z"
   },
   {
    "duration": 7,
    "start_time": "2021-07-07T18:46:31.936Z"
   },
   {
    "duration": 8,
    "start_time": "2021-07-07T18:46:31.944Z"
   },
   {
    "duration": 19,
    "start_time": "2021-07-07T18:46:31.984Z"
   },
   {
    "duration": 10,
    "start_time": "2021-07-07T18:46:32.004Z"
   },
   {
    "duration": 5,
    "start_time": "2021-07-07T18:46:32.016Z"
   },
   {
    "duration": 9,
    "start_time": "2021-07-07T18:46:32.023Z"
   },
   {
    "duration": 199,
    "start_time": "2021-07-07T18:46:32.033Z"
   },
   {
    "duration": 19,
    "start_time": "2021-07-07T18:46:32.234Z"
   },
   {
    "duration": 159,
    "start_time": "2021-07-07T18:46:32.255Z"
   },
   {
    "duration": 134,
    "start_time": "2021-07-07T18:46:32.416Z"
   },
   {
    "duration": 10,
    "start_time": "2021-07-07T18:46:32.552Z"
   },
   {
    "duration": 34,
    "start_time": "2021-07-07T18:46:32.563Z"
   },
   {
    "duration": 1039,
    "start_time": "2021-07-08T08:41:09.419Z"
   },
   {
    "duration": 333,
    "start_time": "2021-07-08T08:41:10.459Z"
   },
   {
    "duration": 173,
    "start_time": "2021-07-08T08:41:10.794Z"
   },
   {
    "duration": 5,
    "start_time": "2021-07-08T08:41:10.968Z"
   },
   {
    "duration": 25,
    "start_time": "2021-07-08T08:41:10.975Z"
   },
   {
    "duration": 9,
    "start_time": "2021-07-08T08:41:11.002Z"
   },
   {
    "duration": 18,
    "start_time": "2021-07-08T08:41:11.013Z"
   },
   {
    "duration": 6,
    "start_time": "2021-07-08T08:41:11.033Z"
   },
   {
    "duration": 44,
    "start_time": "2021-07-08T08:41:11.042Z"
   },
   {
    "duration": 10,
    "start_time": "2021-07-08T08:41:11.088Z"
   },
   {
    "duration": 9,
    "start_time": "2021-07-08T08:41:11.100Z"
   },
   {
    "duration": 27,
    "start_time": "2021-07-08T08:41:11.111Z"
   },
   {
    "duration": 46,
    "start_time": "2021-07-08T08:41:11.140Z"
   },
   {
    "duration": 17,
    "start_time": "2021-07-08T08:41:11.187Z"
   },
   {
    "duration": 6,
    "start_time": "2021-07-08T08:41:11.206Z"
   },
   {
    "duration": 5,
    "start_time": "2021-07-08T08:41:11.213Z"
   },
   {
    "duration": 10,
    "start_time": "2021-07-08T08:41:11.219Z"
   },
   {
    "duration": 9,
    "start_time": "2021-07-08T08:41:11.230Z"
   },
   {
    "duration": 45,
    "start_time": "2021-07-08T08:41:11.241Z"
   },
   {
    "duration": 7,
    "start_time": "2021-07-08T08:41:11.287Z"
   },
   {
    "duration": 24,
    "start_time": "2021-07-08T08:41:11.296Z"
   },
   {
    "duration": 16,
    "start_time": "2021-07-08T08:41:11.322Z"
   },
   {
    "duration": 7,
    "start_time": "2021-07-08T08:41:11.341Z"
   },
   {
    "duration": 41,
    "start_time": "2021-07-08T08:41:11.349Z"
   },
   {
    "duration": 17,
    "start_time": "2021-07-08T08:41:11.391Z"
   },
   {
    "duration": 9,
    "start_time": "2021-07-08T08:41:11.410Z"
   },
   {
    "duration": 5,
    "start_time": "2021-07-08T08:41:11.421Z"
   },
   {
    "duration": 6,
    "start_time": "2021-07-08T08:41:11.428Z"
   },
   {
    "duration": 198,
    "start_time": "2021-07-08T08:41:11.435Z"
   },
   {
    "duration": 18,
    "start_time": "2021-07-08T08:41:11.635Z"
   },
   {
    "duration": 155,
    "start_time": "2021-07-08T08:41:11.655Z"
   },
   {
    "duration": 138,
    "start_time": "2021-07-08T08:41:11.811Z"
   },
   {
    "duration": 10,
    "start_time": "2021-07-08T08:41:11.950Z"
   },
   {
    "duration": 29,
    "start_time": "2021-07-08T08:41:11.961Z"
   },
   {
    "duration": 171,
    "start_time": "2021-07-08T08:47:44.522Z"
   },
   {
    "duration": 124,
    "start_time": "2021-07-08T08:47:46.872Z"
   },
   {
    "duration": 191,
    "start_time": "2021-07-08T08:47:58.148Z"
   },
   {
    "duration": 191,
    "start_time": "2021-07-08T08:48:07.412Z"
   },
   {
    "duration": 261,
    "start_time": "2021-07-08T08:48:10.385Z"
   },
   {
    "duration": 255,
    "start_time": "2021-07-08T08:48:14.494Z"
   },
   {
    "duration": 219,
    "start_time": "2021-07-08T08:48:22.752Z"
   },
   {
    "duration": 173,
    "start_time": "2021-07-08T08:49:06.395Z"
   },
   {
    "duration": 180,
    "start_time": "2021-07-08T08:49:21.011Z"
   },
   {
    "duration": 6,
    "start_time": "2021-07-08T08:50:31.697Z"
   },
   {
    "duration": 10,
    "start_time": "2021-07-08T08:50:47.394Z"
   },
   {
    "duration": 11,
    "start_time": "2021-07-08T08:53:49.332Z"
   },
   {
    "duration": 171,
    "start_time": "2021-07-08T08:54:28.408Z"
   },
   {
    "duration": 636,
    "start_time": "2021-07-08T09:02:48.385Z"
   },
   {
    "duration": 227,
    "start_time": "2021-07-08T09:02:49.023Z"
   },
   {
    "duration": 104,
    "start_time": "2021-07-08T09:02:49.252Z"
   },
   {
    "duration": 5,
    "start_time": "2021-07-08T09:02:49.358Z"
   },
   {
    "duration": 27,
    "start_time": "2021-07-08T09:02:49.365Z"
   },
   {
    "duration": 8,
    "start_time": "2021-07-08T09:02:49.394Z"
   },
   {
    "duration": 18,
    "start_time": "2021-07-08T09:02:49.404Z"
   },
   {
    "duration": 6,
    "start_time": "2021-07-08T09:02:49.424Z"
   },
   {
    "duration": 11,
    "start_time": "2021-07-08T09:02:49.433Z"
   },
   {
    "duration": 13,
    "start_time": "2021-07-08T09:02:49.485Z"
   },
   {
    "duration": 9,
    "start_time": "2021-07-08T09:02:49.500Z"
   },
   {
    "duration": 38,
    "start_time": "2021-07-08T09:02:49.511Z"
   },
   {
    "duration": 42,
    "start_time": "2021-07-08T09:02:49.551Z"
   },
   {
    "duration": 21,
    "start_time": "2021-07-08T09:02:49.594Z"
   },
   {
    "duration": 6,
    "start_time": "2021-07-08T09:02:49.616Z"
   },
   {
    "duration": 3,
    "start_time": "2021-07-08T09:02:49.623Z"
   },
   {
    "duration": 9,
    "start_time": "2021-07-08T09:02:49.628Z"
   },
   {
    "duration": 52,
    "start_time": "2021-07-08T09:02:49.638Z"
   },
   {
    "duration": 11,
    "start_time": "2021-07-08T09:02:49.692Z"
   },
   {
    "duration": 8,
    "start_time": "2021-07-08T09:02:49.704Z"
   },
   {
    "duration": 27,
    "start_time": "2021-07-08T09:02:49.713Z"
   },
   {
    "duration": 59,
    "start_time": "2021-07-08T09:02:49.741Z"
   },
   {
    "duration": 8,
    "start_time": "2021-07-08T09:02:49.803Z"
   },
   {
    "duration": 14,
    "start_time": "2021-07-08T09:02:49.813Z"
   },
   {
    "duration": 20,
    "start_time": "2021-07-08T09:02:49.829Z"
   },
   {
    "duration": 44,
    "start_time": "2021-07-08T09:02:49.851Z"
   },
   {
    "duration": 14,
    "start_time": "2021-07-08T09:02:49.896Z"
   },
   {
    "duration": 221,
    "start_time": "2021-07-08T09:02:49.912Z"
   },
   {
    "duration": 6,
    "start_time": "2021-07-08T09:02:50.134Z"
   },
   {
    "duration": 206,
    "start_time": "2021-07-08T09:02:50.142Z"
   },
   {
    "duration": 19,
    "start_time": "2021-07-08T09:02:50.350Z"
   },
   {
    "duration": 21,
    "start_time": "2021-07-08T09:02:50.370Z"
   },
   {
    "duration": 20,
    "start_time": "2021-07-08T09:02:50.393Z"
   },
   {
    "duration": 5,
    "start_time": "2021-07-08T09:02:50.414Z"
   },
   {
    "duration": 5,
    "start_time": "2021-07-08T09:03:34.173Z"
   },
   {
    "duration": 6,
    "start_time": "2021-07-08T09:04:49.062Z"
   },
   {
    "duration": 9,
    "start_time": "2021-07-08T09:04:50.118Z"
   },
   {
    "duration": 14,
    "start_time": "2021-07-08T09:04:58.512Z"
   },
   {
    "duration": 9,
    "start_time": "2021-07-08T09:05:10.988Z"
   },
   {
    "duration": 11,
    "start_time": "2021-07-08T09:05:11.743Z"
   },
   {
    "duration": 7,
    "start_time": "2021-07-08T09:05:25.677Z"
   },
   {
    "duration": 13,
    "start_time": "2021-07-08T09:05:47.189Z"
   },
   {
    "duration": 13,
    "start_time": "2021-07-08T09:05:54.755Z"
   },
   {
    "duration": 4,
    "start_time": "2021-07-08T09:06:29.189Z"
   },
   {
    "duration": 244,
    "start_time": "2021-07-08T09:06:29.195Z"
   },
   {
    "duration": 91,
    "start_time": "2021-07-08T09:06:29.441Z"
   },
   {
    "duration": 4,
    "start_time": "2021-07-08T09:06:29.534Z"
   },
   {
    "duration": 28,
    "start_time": "2021-07-08T09:06:29.540Z"
   },
   {
    "duration": 6,
    "start_time": "2021-07-08T09:06:29.570Z"
   },
   {
    "duration": 18,
    "start_time": "2021-07-08T09:06:29.578Z"
   },
   {
    "duration": 5,
    "start_time": "2021-07-08T09:06:29.597Z"
   },
   {
    "duration": 13,
    "start_time": "2021-07-08T09:06:29.605Z"
   },
   {
    "duration": 8,
    "start_time": "2021-07-08T09:06:29.620Z"
   },
   {
    "duration": 7,
    "start_time": "2021-07-08T09:06:29.630Z"
   },
   {
    "duration": 63,
    "start_time": "2021-07-08T09:06:29.639Z"
   },
   {
    "duration": 17,
    "start_time": "2021-07-08T09:06:29.704Z"
   },
   {
    "duration": 20,
    "start_time": "2021-07-08T09:06:29.723Z"
   },
   {
    "duration": 6,
    "start_time": "2021-07-08T09:06:29.745Z"
   },
   {
    "duration": 3,
    "start_time": "2021-07-08T09:06:29.752Z"
   },
   {
    "duration": 7,
    "start_time": "2021-07-08T09:06:29.785Z"
   },
   {
    "duration": 11,
    "start_time": "2021-07-08T09:06:29.794Z"
   },
   {
    "duration": 15,
    "start_time": "2021-07-08T09:06:29.807Z"
   },
   {
    "duration": 8,
    "start_time": "2021-07-08T09:06:29.823Z"
   },
   {
    "duration": 70,
    "start_time": "2021-07-08T09:06:29.832Z"
   },
   {
    "duration": 17,
    "start_time": "2021-07-08T09:06:29.903Z"
   },
   {
    "duration": 9,
    "start_time": "2021-07-08T09:06:29.921Z"
   },
   {
    "duration": 9,
    "start_time": "2021-07-08T09:06:29.932Z"
   },
   {
    "duration": 57,
    "start_time": "2021-07-08T09:06:29.942Z"
   },
   {
    "duration": 11,
    "start_time": "2021-07-08T09:06:30.001Z"
   },
   {
    "duration": 19,
    "start_time": "2021-07-08T09:06:30.016Z"
   },
   {
    "duration": 217,
    "start_time": "2021-07-08T09:06:30.037Z"
   },
   {
    "duration": 6,
    "start_time": "2021-07-08T09:06:30.255Z"
   },
   {
    "duration": 205,
    "start_time": "2021-07-08T09:06:30.263Z"
   },
   {
    "duration": 27,
    "start_time": "2021-07-08T09:06:30.470Z"
   },
   {
    "duration": 11,
    "start_time": "2021-07-08T09:06:30.500Z"
   },
   {
    "duration": 31,
    "start_time": "2021-07-08T09:06:30.513Z"
   },
   {
    "duration": 18,
    "start_time": "2021-07-08T09:06:30.546Z"
   },
   {
    "duration": 11,
    "start_time": "2021-07-08T09:06:30.566Z"
   },
   {
    "duration": 19,
    "start_time": "2021-07-08T09:06:30.579Z"
   },
   {
    "duration": 20,
    "start_time": "2021-07-08T09:06:49.466Z"
   },
   {
    "duration": 9,
    "start_time": "2021-07-08T09:06:51.994Z"
   },
   {
    "duration": 20,
    "start_time": "2021-07-08T09:06:52.273Z"
   },
   {
    "duration": 246,
    "start_time": "2021-07-08T09:10:21.272Z"
   },
   {
    "duration": 84,
    "start_time": "2021-07-08T09:10:21.436Z"
   },
   {
    "duration": 7,
    "start_time": "2021-07-08T09:10:37.608Z"
   },
   {
    "duration": 189,
    "start_time": "2021-07-08T09:10:38.573Z"
   },
   {
    "duration": 185,
    "start_time": "2021-07-08T09:10:53.181Z"
   },
   {
    "duration": 11,
    "start_time": "2021-07-08T09:10:59.549Z"
   },
   {
    "duration": 42,
    "start_time": "2021-07-08T09:10:59.709Z"
   },
   {
    "duration": 12,
    "start_time": "2021-07-08T09:11:02.857Z"
   },
   {
    "duration": 28,
    "start_time": "2021-07-08T09:11:10.062Z"
   },
   {
    "duration": 249,
    "start_time": "2021-07-08T09:11:37.388Z"
   },
   {
    "duration": 232,
    "start_time": "2021-07-08T09:11:49.485Z"
   },
   {
    "duration": 453,
    "start_time": "2021-07-08T09:12:01.546Z"
   },
   {
    "duration": 440,
    "start_time": "2021-07-08T09:12:12.347Z"
   },
   {
    "duration": 213,
    "start_time": "2021-07-08T09:13:32.196Z"
   },
   {
    "duration": 172,
    "start_time": "2021-07-08T09:14:07.400Z"
   },
   {
    "duration": 185,
    "start_time": "2021-07-08T09:14:14.905Z"
   },
   {
    "duration": 209,
    "start_time": "2021-07-08T09:14:40.109Z"
   },
   {
    "duration": 201,
    "start_time": "2021-07-08T09:14:54.506Z"
   },
   {
    "duration": 622,
    "start_time": "2021-07-08T09:18:14.497Z"
   },
   {
    "duration": 220,
    "start_time": "2021-07-08T09:18:15.121Z"
   },
   {
    "duration": 79,
    "start_time": "2021-07-08T09:18:15.343Z"
   },
   {
    "duration": 4,
    "start_time": "2021-07-08T09:18:15.425Z"
   },
   {
    "duration": 24,
    "start_time": "2021-07-08T09:18:15.431Z"
   },
   {
    "duration": 8,
    "start_time": "2021-07-08T09:18:15.457Z"
   },
   {
    "duration": 16,
    "start_time": "2021-07-08T09:18:15.466Z"
   },
   {
    "duration": 5,
    "start_time": "2021-07-08T09:18:15.484Z"
   },
   {
    "duration": 10,
    "start_time": "2021-07-08T09:18:15.493Z"
   },
   {
    "duration": 8,
    "start_time": "2021-07-08T09:18:15.504Z"
   },
   {
    "duration": 7,
    "start_time": "2021-07-08T09:18:15.513Z"
   },
   {
    "duration": 26,
    "start_time": "2021-07-08T09:18:15.522Z"
   },
   {
    "duration": 49,
    "start_time": "2021-07-08T09:18:15.550Z"
   },
   {
    "duration": 21,
    "start_time": "2021-07-08T09:18:15.601Z"
   },
   {
    "duration": 8,
    "start_time": "2021-07-08T09:18:15.624Z"
   },
   {
    "duration": 3,
    "start_time": "2021-07-08T09:18:15.634Z"
   },
   {
    "duration": 8,
    "start_time": "2021-07-08T09:18:15.639Z"
   },
   {
    "duration": 45,
    "start_time": "2021-07-08T09:18:15.649Z"
   },
   {
    "duration": 13,
    "start_time": "2021-07-08T09:18:15.696Z"
   },
   {
    "duration": 10,
    "start_time": "2021-07-08T09:18:15.711Z"
   },
   {
    "duration": 64,
    "start_time": "2021-07-08T09:18:15.722Z"
   },
   {
    "duration": 19,
    "start_time": "2021-07-08T09:18:15.788Z"
   },
   {
    "duration": 9,
    "start_time": "2021-07-08T09:18:15.809Z"
   },
   {
    "duration": 9,
    "start_time": "2021-07-08T09:18:15.820Z"
   },
   {
    "duration": 18,
    "start_time": "2021-07-08T09:18:15.831Z"
   },
   {
    "duration": 43,
    "start_time": "2021-07-08T09:18:15.851Z"
   },
   {
    "duration": 12,
    "start_time": "2021-07-08T09:18:15.897Z"
   },
   {
    "duration": 219,
    "start_time": "2021-07-08T09:18:15.911Z"
   },
   {
    "duration": 8,
    "start_time": "2021-07-08T09:18:16.132Z"
   },
   {
    "duration": 199,
    "start_time": "2021-07-08T09:18:16.141Z"
   },
   {
    "duration": 18,
    "start_time": "2021-07-08T09:18:16.341Z"
   },
   {
    "duration": 24,
    "start_time": "2021-07-08T09:18:16.361Z"
   },
   {
    "duration": 24,
    "start_time": "2021-07-08T09:18:16.387Z"
   },
   {
    "duration": 211,
    "start_time": "2021-07-08T09:18:16.413Z"
   },
   {
    "duration": 18,
    "start_time": "2021-07-08T09:18:16.626Z"
   },
   {
    "duration": 596,
    "start_time": "2021-07-08T10:06:33.623Z"
   },
   {
    "duration": 181,
    "start_time": "2021-07-08T10:06:34.221Z"
   },
   {
    "duration": 176,
    "start_time": "2021-07-08T10:06:34.635Z"
   },
   {
    "duration": 239,
    "start_time": "2021-07-08T10:06:55.572Z"
   },
   {
    "duration": 6,
    "start_time": "2021-07-08T10:06:57.687Z"
   },
   {
    "duration": 4,
    "start_time": "2021-07-08T10:07:03.956Z"
   },
   {
    "duration": 4,
    "start_time": "2021-07-08T10:07:10.376Z"
   },
   {
    "duration": 4,
    "start_time": "2021-07-08T10:17:19.889Z"
   },
   {
    "duration": 3,
    "start_time": "2021-07-08T10:19:19.407Z"
   },
   {
    "duration": 197,
    "start_time": "2021-07-08T10:19:19.412Z"
   },
   {
    "duration": 127,
    "start_time": "2021-07-08T10:19:19.611Z"
   },
   {
    "duration": 4,
    "start_time": "2021-07-08T10:19:19.740Z"
   },
   {
    "duration": 27,
    "start_time": "2021-07-08T10:19:19.746Z"
   },
   {
    "duration": 7,
    "start_time": "2021-07-08T10:19:19.775Z"
   },
   {
    "duration": 30,
    "start_time": "2021-07-08T10:19:19.784Z"
   },
   {
    "duration": 7,
    "start_time": "2021-07-08T10:19:19.817Z"
   },
   {
    "duration": 26,
    "start_time": "2021-07-08T10:19:19.826Z"
   },
   {
    "duration": 18,
    "start_time": "2021-07-08T10:19:19.854Z"
   },
   {
    "duration": 14,
    "start_time": "2021-07-08T10:19:19.874Z"
   },
   {
    "duration": 48,
    "start_time": "2021-07-08T10:19:19.890Z"
   },
   {
    "duration": 17,
    "start_time": "2021-07-08T10:19:19.940Z"
   },
   {
    "duration": 38,
    "start_time": "2021-07-08T10:19:19.959Z"
   },
   {
    "duration": 8,
    "start_time": "2021-07-08T10:19:19.999Z"
   },
   {
    "duration": 15,
    "start_time": "2021-07-08T10:19:20.009Z"
   },
   {
    "duration": 22,
    "start_time": "2021-07-08T10:19:20.026Z"
   },
   {
    "duration": 10,
    "start_time": "2021-07-08T10:19:20.050Z"
   },
   {
    "duration": 10,
    "start_time": "2021-07-08T10:19:20.062Z"
   },
   {
    "duration": 20,
    "start_time": "2021-07-08T10:19:20.073Z"
   },
   {
    "duration": 29,
    "start_time": "2021-07-08T10:19:20.095Z"
   },
   {
    "duration": 17,
    "start_time": "2021-07-08T10:19:20.126Z"
   },
   {
    "duration": 40,
    "start_time": "2021-07-08T10:19:20.146Z"
   },
   {
    "duration": 15,
    "start_time": "2021-07-08T10:19:20.189Z"
   },
   {
    "duration": 19,
    "start_time": "2021-07-08T10:19:20.206Z"
   },
   {
    "duration": 10,
    "start_time": "2021-07-08T10:19:20.226Z"
   },
   {
    "duration": 11,
    "start_time": "2021-07-08T10:19:20.238Z"
   },
   {
    "duration": 297,
    "start_time": "2021-07-08T10:19:20.250Z"
   },
   {
    "duration": 6,
    "start_time": "2021-07-08T10:19:20.549Z"
   },
   {
    "duration": 191,
    "start_time": "2021-07-08T10:19:20.557Z"
   },
   {
    "duration": 19,
    "start_time": "2021-07-08T10:19:20.750Z"
   },
   {
    "duration": 20,
    "start_time": "2021-07-08T10:19:20.771Z"
   },
   {
    "duration": 15,
    "start_time": "2021-07-08T10:19:20.793Z"
   },
   {
    "duration": 222,
    "start_time": "2021-07-08T10:19:20.809Z"
   },
   {
    "duration": 20,
    "start_time": "2021-07-08T10:19:21.033Z"
   },
   {
    "duration": 27,
    "start_time": "2021-07-08T10:45:04.055Z"
   },
   {
    "duration": 8,
    "start_time": "2021-07-08T10:45:08.478Z"
   },
   {
    "duration": 8,
    "start_time": "2021-07-08T10:45:31.982Z"
   },
   {
    "duration": 10,
    "start_time": "2021-07-08T10:46:01.221Z"
   },
   {
    "duration": 17,
    "start_time": "2021-07-08T10:46:40.011Z"
   },
   {
    "duration": 193,
    "start_time": "2021-07-08T10:48:19.471Z"
   },
   {
    "duration": 225,
    "start_time": "2021-07-08T10:49:26.480Z"
   },
   {
    "duration": 204,
    "start_time": "2021-07-08T10:49:59.992Z"
   },
   {
    "duration": 435,
    "start_time": "2021-07-08T10:50:06.779Z"
   },
   {
    "duration": 199,
    "start_time": "2021-07-08T10:50:14.891Z"
   },
   {
    "duration": 204,
    "start_time": "2021-07-08T10:50:18.501Z"
   },
   {
    "duration": 244,
    "start_time": "2021-07-08T10:50:23.359Z"
   },
   {
    "duration": 192,
    "start_time": "2021-07-08T10:50:29.135Z"
   },
   {
    "duration": 218,
    "start_time": "2021-07-08T10:50:33.092Z"
   },
   {
    "duration": 207,
    "start_time": "2021-07-08T10:52:45.381Z"
   },
   {
    "duration": 5,
    "start_time": "2021-07-08T10:53:34.641Z"
   },
   {
    "duration": 196,
    "start_time": "2021-07-08T10:53:41.478Z"
   },
   {
    "duration": 43,
    "start_time": "2021-07-08T10:53:50.335Z"
   },
   {
    "duration": 32,
    "start_time": "2021-07-08T10:53:55.294Z"
   },
   {
    "duration": 55,
    "start_time": "2021-07-08T10:54:09.675Z"
   },
   {
    "duration": 16,
    "start_time": "2021-07-08T10:54:12.260Z"
   },
   {
    "duration": 15,
    "start_time": "2021-07-08T10:54:49.150Z"
   },
   {
    "duration": 20,
    "start_time": "2021-07-08T10:56:07.596Z"
   },
   {
    "duration": 16,
    "start_time": "2021-07-08T10:58:26.276Z"
   },
   {
    "duration": 22,
    "start_time": "2021-07-08T10:59:00.486Z"
   },
   {
    "duration": 18,
    "start_time": "2021-07-08T11:02:09.653Z"
   },
   {
    "duration": 10,
    "start_time": "2021-07-08T11:03:44.331Z"
   },
   {
    "duration": 10,
    "start_time": "2021-07-08T11:03:54.055Z"
   },
   {
    "duration": 12,
    "start_time": "2021-07-08T11:04:41.967Z"
   },
   {
    "duration": 24,
    "start_time": "2021-07-08T11:07:30.732Z"
   },
   {
    "duration": 6,
    "start_time": "2021-07-08T11:07:37.364Z"
   },
   {
    "duration": 16,
    "start_time": "2021-07-08T11:08:01.819Z"
   },
   {
    "duration": 17,
    "start_time": "2021-07-08T11:09:47.488Z"
   },
   {
    "duration": 246,
    "start_time": "2021-07-08T11:10:00.830Z"
   },
   {
    "duration": 18,
    "start_time": "2021-07-08T11:13:55.195Z"
   },
   {
    "duration": 204,
    "start_time": "2021-07-08T11:14:04.951Z"
   },
   {
    "duration": 19,
    "start_time": "2021-07-08T11:15:10.613Z"
   },
   {
    "duration": 680,
    "start_time": "2021-07-08T11:16:25.793Z"
   },
   {
    "duration": 451,
    "start_time": "2021-07-08T11:16:40.313Z"
   },
   {
    "duration": 469,
    "start_time": "2021-07-08T11:17:21.286Z"
   },
   {
    "duration": 20,
    "start_time": "2021-07-08T11:19:12.554Z"
   },
   {
    "duration": 35,
    "start_time": "2021-07-08T11:20:05.484Z"
   },
   {
    "duration": 53,
    "start_time": "2021-07-08T11:21:40.050Z"
   },
   {
    "duration": 13,
    "start_time": "2021-07-08T11:22:26.059Z"
   },
   {
    "duration": 19,
    "start_time": "2021-07-08T11:22:47.419Z"
   },
   {
    "duration": 25,
    "start_time": "2021-07-08T11:23:19.958Z"
   },
   {
    "duration": 29,
    "start_time": "2021-07-08T11:23:25.415Z"
   },
   {
    "duration": 10,
    "start_time": "2021-07-08T11:24:45.138Z"
   },
   {
    "duration": 19,
    "start_time": "2021-07-08T11:24:54.498Z"
   },
   {
    "duration": 12,
    "start_time": "2021-07-08T11:25:32.225Z"
   },
   {
    "duration": 19,
    "start_time": "2021-07-08T11:25:37.092Z"
   },
   {
    "duration": 17,
    "start_time": "2021-07-08T11:25:58.116Z"
   },
   {
    "duration": 15,
    "start_time": "2021-07-08T11:26:02.258Z"
   },
   {
    "duration": 8,
    "start_time": "2021-07-08T11:26:59.682Z"
   },
   {
    "duration": 184,
    "start_time": "2021-07-08T11:27:21.894Z"
   },
   {
    "duration": 8,
    "start_time": "2021-07-08T11:27:23.824Z"
   },
   {
    "duration": 202,
    "start_time": "2021-07-08T11:27:23.962Z"
   },
   {
    "duration": 360,
    "start_time": "2021-07-08T11:28:33.215Z"
   },
   {
    "duration": 231,
    "start_time": "2021-07-08T11:32:05.542Z"
   },
   {
    "duration": 607,
    "start_time": "2021-07-08T11:36:27.854Z"
   },
   {
    "duration": 241,
    "start_time": "2021-07-08T11:36:28.463Z"
   },
   {
    "duration": 67,
    "start_time": "2021-07-08T11:36:28.709Z"
   },
   {
    "duration": 5,
    "start_time": "2021-07-08T11:36:28.778Z"
   },
   {
    "duration": 32,
    "start_time": "2021-07-08T11:36:28.784Z"
   },
   {
    "duration": 11,
    "start_time": "2021-07-08T11:36:28.819Z"
   },
   {
    "duration": 20,
    "start_time": "2021-07-08T11:36:28.834Z"
   },
   {
    "duration": 36,
    "start_time": "2021-07-08T11:36:28.857Z"
   },
   {
    "duration": 16,
    "start_time": "2021-07-08T11:36:28.895Z"
   },
   {
    "duration": 14,
    "start_time": "2021-07-08T11:36:28.913Z"
   },
   {
    "duration": 9,
    "start_time": "2021-07-08T11:36:28.930Z"
   },
   {
    "duration": 55,
    "start_time": "2021-07-08T11:36:28.941Z"
   },
   {
    "duration": 27,
    "start_time": "2021-07-08T11:36:28.999Z"
   },
   {
    "duration": 30,
    "start_time": "2021-07-08T11:36:29.028Z"
   },
   {
    "duration": 31,
    "start_time": "2021-07-08T11:36:29.060Z"
   },
   {
    "duration": 3,
    "start_time": "2021-07-08T11:36:29.093Z"
   },
   {
    "duration": 12,
    "start_time": "2021-07-08T11:36:29.099Z"
   },
   {
    "duration": 11,
    "start_time": "2021-07-08T11:36:29.112Z"
   },
   {
    "duration": 12,
    "start_time": "2021-07-08T11:36:29.125Z"
   },
   {
    "duration": 9,
    "start_time": "2021-07-08T11:36:29.139Z"
   },
   {
    "duration": 31,
    "start_time": "2021-07-08T11:36:29.191Z"
   },
   {
    "duration": 17,
    "start_time": "2021-07-08T11:36:29.226Z"
   },
   {
    "duration": 7,
    "start_time": "2021-07-08T11:36:29.245Z"
   },
   {
    "duration": 10,
    "start_time": "2021-07-08T11:36:29.254Z"
   },
   {
    "duration": 30,
    "start_time": "2021-07-08T11:36:29.292Z"
   },
   {
    "duration": 11,
    "start_time": "2021-07-08T11:36:29.324Z"
   },
   {
    "duration": 11,
    "start_time": "2021-07-08T11:36:29.337Z"
   },
   {
    "duration": 230,
    "start_time": "2021-07-08T11:36:29.349Z"
   },
   {
    "duration": 13,
    "start_time": "2021-07-08T11:36:29.588Z"
   },
   {
    "duration": 205,
    "start_time": "2021-07-08T11:36:29.603Z"
   },
   {
    "duration": 20,
    "start_time": "2021-07-08T11:36:29.810Z"
   },
   {
    "duration": 9,
    "start_time": "2021-07-08T11:36:29.832Z"
   },
   {
    "duration": 16,
    "start_time": "2021-07-08T11:36:29.843Z"
   },
   {
    "duration": 283,
    "start_time": "2021-07-08T11:36:29.861Z"
   },
   {
    "duration": 50,
    "start_time": "2021-07-08T11:36:30.146Z"
   },
   {
    "duration": 14,
    "start_time": "2021-07-08T11:36:30.198Z"
   },
   {
    "duration": 11,
    "start_time": "2021-07-08T11:36:30.214Z"
   },
   {
    "duration": 245,
    "start_time": "2021-07-08T11:36:30.227Z"
   },
   {
    "duration": 439,
    "start_time": "2021-07-08T11:36:30.474Z"
   },
   {
    "duration": 210,
    "start_time": "2021-07-08T11:36:30.915Z"
   },
   {
    "duration": 15,
    "start_time": "2021-07-08T11:36:31.127Z"
   },
   {
    "duration": 17,
    "start_time": "2021-07-08T11:38:20.451Z"
   },
   {
    "duration": 642,
    "start_time": "2021-07-08T11:46:17.881Z"
   },
   {
    "duration": 210,
    "start_time": "2021-07-08T11:46:18.525Z"
   },
   {
    "duration": 104,
    "start_time": "2021-07-08T11:46:18.741Z"
   },
   {
    "duration": 8,
    "start_time": "2021-07-08T11:46:18.847Z"
   },
   {
    "duration": 25,
    "start_time": "2021-07-08T11:46:18.857Z"
   },
   {
    "duration": 14,
    "start_time": "2021-07-08T11:46:18.884Z"
   },
   {
    "duration": 22,
    "start_time": "2021-07-08T11:46:18.900Z"
   },
   {
    "duration": 5,
    "start_time": "2021-07-08T11:46:18.924Z"
   },
   {
    "duration": 13,
    "start_time": "2021-07-08T11:46:18.931Z"
   },
   {
    "duration": 45,
    "start_time": "2021-07-08T11:46:18.946Z"
   },
   {
    "duration": 12,
    "start_time": "2021-07-08T11:46:18.993Z"
   },
   {
    "duration": 38,
    "start_time": "2021-07-08T11:46:19.006Z"
   },
   {
    "duration": 50,
    "start_time": "2021-07-08T11:46:19.046Z"
   },
   {
    "duration": 29,
    "start_time": "2021-07-08T11:46:19.099Z"
   },
   {
    "duration": 7,
    "start_time": "2021-07-08T11:46:19.130Z"
   },
   {
    "duration": 3,
    "start_time": "2021-07-08T11:46:19.139Z"
   },
   {
    "duration": 11,
    "start_time": "2021-07-08T11:46:19.144Z"
   },
   {
    "duration": 40,
    "start_time": "2021-07-08T11:46:19.157Z"
   },
   {
    "duration": 15,
    "start_time": "2021-07-08T11:46:19.199Z"
   },
   {
    "duration": 10,
    "start_time": "2021-07-08T11:46:19.217Z"
   },
   {
    "duration": 68,
    "start_time": "2021-07-08T11:46:19.230Z"
   },
   {
    "duration": 17,
    "start_time": "2021-07-08T11:46:19.301Z"
   },
   {
    "duration": 7,
    "start_time": "2021-07-08T11:46:19.321Z"
   },
   {
    "duration": 11,
    "start_time": "2021-07-08T11:46:19.330Z"
   },
   {
    "duration": 59,
    "start_time": "2021-07-08T11:46:19.343Z"
   },
   {
    "duration": 17,
    "start_time": "2021-07-08T11:46:19.405Z"
   },
   {
    "duration": 16,
    "start_time": "2021-07-08T11:46:19.424Z"
   },
   {
    "duration": 252,
    "start_time": "2021-07-08T11:46:19.443Z"
   },
   {
    "duration": 9,
    "start_time": "2021-07-08T11:46:19.697Z"
   },
   {
    "duration": 224,
    "start_time": "2021-07-08T11:46:19.708Z"
   },
   {
    "duration": 21,
    "start_time": "2021-07-08T11:46:19.934Z"
   },
   {
    "duration": 9,
    "start_time": "2021-07-08T11:46:19.956Z"
   },
   {
    "duration": 32,
    "start_time": "2021-07-08T11:46:19.967Z"
   },
   {
    "duration": 288,
    "start_time": "2021-07-08T11:46:20.004Z"
   },
   {
    "duration": 23,
    "start_time": "2021-07-08T11:46:20.300Z"
   },
   {
    "duration": 11,
    "start_time": "2021-07-08T11:46:20.325Z"
   },
   {
    "duration": 11,
    "start_time": "2021-07-08T11:46:20.339Z"
   },
   {
    "duration": 259,
    "start_time": "2021-07-08T11:46:20.352Z"
   },
   {
    "duration": 438,
    "start_time": "2021-07-08T11:46:20.613Z"
   },
   {
    "duration": 207,
    "start_time": "2021-07-08T11:46:21.054Z"
   },
   {
    "duration": 27,
    "start_time": "2021-07-08T11:46:21.262Z"
   },
   {
    "duration": 19,
    "start_time": "2021-07-08T11:46:21.291Z"
   },
   {
    "duration": 820,
    "start_time": "2021-07-08T11:49:01.655Z"
   },
   {
    "duration": 372,
    "start_time": "2021-07-08T11:49:02.478Z"
   },
   {
    "duration": 98,
    "start_time": "2021-07-08T11:49:02.853Z"
   },
   {
    "duration": 6,
    "start_time": "2021-07-08T11:49:02.953Z"
   },
   {
    "duration": 39,
    "start_time": "2021-07-08T11:49:02.960Z"
   },
   {
    "duration": 9,
    "start_time": "2021-07-08T11:49:03.003Z"
   },
   {
    "duration": 23,
    "start_time": "2021-07-08T11:49:03.014Z"
   },
   {
    "duration": 6,
    "start_time": "2021-07-08T11:49:03.041Z"
   },
   {
    "duration": 20,
    "start_time": "2021-07-08T11:49:03.049Z"
   },
   {
    "duration": 18,
    "start_time": "2021-07-08T11:49:03.084Z"
   },
   {
    "duration": 14,
    "start_time": "2021-07-08T11:49:03.104Z"
   },
   {
    "duration": 39,
    "start_time": "2021-07-08T11:49:03.119Z"
   },
   {
    "duration": 38,
    "start_time": "2021-07-08T11:49:03.160Z"
   },
   {
    "duration": 26,
    "start_time": "2021-07-08T11:49:03.200Z"
   },
   {
    "duration": 7,
    "start_time": "2021-07-08T11:49:03.227Z"
   },
   {
    "duration": 4,
    "start_time": "2021-07-08T11:49:03.236Z"
   },
   {
    "duration": 15,
    "start_time": "2021-07-08T11:49:03.243Z"
   },
   {
    "duration": 21,
    "start_time": "2021-07-08T11:49:03.285Z"
   },
   {
    "duration": 17,
    "start_time": "2021-07-08T11:49:03.309Z"
   },
   {
    "duration": 10,
    "start_time": "2021-07-08T11:49:03.328Z"
   },
   {
    "duration": 65,
    "start_time": "2021-07-08T11:49:03.340Z"
   },
   {
    "duration": 18,
    "start_time": "2021-07-08T11:49:03.407Z"
   },
   {
    "duration": 8,
    "start_time": "2021-07-08T11:49:03.428Z"
   },
   {
    "duration": 15,
    "start_time": "2021-07-08T11:49:03.438Z"
   },
   {
    "duration": 40,
    "start_time": "2021-07-08T11:49:03.455Z"
   },
   {
    "duration": 12,
    "start_time": "2021-07-08T11:49:03.497Z"
   },
   {
    "duration": 29,
    "start_time": "2021-07-08T11:49:03.511Z"
   },
   {
    "duration": 285,
    "start_time": "2021-07-08T11:49:03.542Z"
   },
   {
    "duration": 8,
    "start_time": "2021-07-08T11:49:03.829Z"
   },
   {
    "duration": 227,
    "start_time": "2021-07-08T11:49:03.838Z"
   },
   {
    "duration": 40,
    "start_time": "2021-07-08T11:49:04.066Z"
   },
   {
    "duration": 10,
    "start_time": "2021-07-08T11:49:04.108Z"
   },
   {
    "duration": 26,
    "start_time": "2021-07-08T11:49:04.121Z"
   },
   {
    "duration": 290,
    "start_time": "2021-07-08T11:49:04.149Z"
   },
   {
    "duration": 26,
    "start_time": "2021-07-08T11:49:04.441Z"
   },
   {
    "duration": 31,
    "start_time": "2021-07-08T11:49:04.470Z"
   },
   {
    "duration": 14,
    "start_time": "2021-07-08T11:49:04.503Z"
   },
   {
    "duration": 259,
    "start_time": "2021-07-08T11:49:04.521Z"
   },
   {
    "duration": 480,
    "start_time": "2021-07-08T11:49:04.782Z"
   },
   {
    "duration": 225,
    "start_time": "2021-07-08T11:49:05.264Z"
   },
   {
    "duration": 22,
    "start_time": "2021-07-08T11:49:05.491Z"
   },
   {
    "duration": 24,
    "start_time": "2021-07-08T11:49:05.515Z"
   },
   {
    "duration": 634,
    "start_time": "2021-07-08T11:52:24.960Z"
   },
   {
    "duration": 199,
    "start_time": "2021-07-08T11:52:25.599Z"
   },
   {
    "duration": 106,
    "start_time": "2021-07-08T11:52:25.803Z"
   },
   {
    "duration": 7,
    "start_time": "2021-07-08T11:52:25.911Z"
   },
   {
    "duration": 29,
    "start_time": "2021-07-08T11:52:25.920Z"
   },
   {
    "duration": 7,
    "start_time": "2021-07-08T11:52:25.951Z"
   },
   {
    "duration": 26,
    "start_time": "2021-07-08T11:52:25.961Z"
   },
   {
    "duration": 11,
    "start_time": "2021-07-08T11:52:25.990Z"
   },
   {
    "duration": 29,
    "start_time": "2021-07-08T11:52:26.005Z"
   },
   {
    "duration": 9,
    "start_time": "2021-07-08T11:52:26.036Z"
   },
   {
    "duration": 8,
    "start_time": "2021-07-08T11:52:26.047Z"
   },
   {
    "duration": 63,
    "start_time": "2021-07-08T11:52:26.057Z"
   },
   {
    "duration": 17,
    "start_time": "2021-07-08T11:52:26.122Z"
   },
   {
    "duration": 43,
    "start_time": "2021-07-08T11:52:26.142Z"
   },
   {
    "duration": 17,
    "start_time": "2021-07-08T11:52:26.187Z"
   },
   {
    "duration": 5,
    "start_time": "2021-07-08T11:52:26.206Z"
   },
   {
    "duration": 12,
    "start_time": "2021-07-08T11:52:26.212Z"
   },
   {
    "duration": 11,
    "start_time": "2021-07-08T11:52:26.226Z"
   },
   {
    "duration": 12,
    "start_time": "2021-07-08T11:52:26.238Z"
   },
   {
    "duration": 38,
    "start_time": "2021-07-08T11:52:26.252Z"
   },
   {
    "duration": 40,
    "start_time": "2021-07-08T11:52:26.292Z"
   },
   {
    "duration": 17,
    "start_time": "2021-07-08T11:52:26.336Z"
   },
   {
    "duration": 39,
    "start_time": "2021-07-08T11:52:26.355Z"
   },
   {
    "duration": 11,
    "start_time": "2021-07-08T11:52:26.395Z"
   },
   {
    "duration": 23,
    "start_time": "2021-07-08T11:52:26.408Z"
   },
   {
    "duration": 12,
    "start_time": "2021-07-08T11:52:26.432Z"
   },
   {
    "duration": 41,
    "start_time": "2021-07-08T11:52:26.446Z"
   },
   {
    "duration": 215,
    "start_time": "2021-07-08T11:52:26.493Z"
   },
   {
    "duration": 8,
    "start_time": "2021-07-08T11:52:26.710Z"
   },
   {
    "duration": 228,
    "start_time": "2021-07-08T11:52:26.720Z"
   },
   {
    "duration": 18,
    "start_time": "2021-07-08T11:52:26.950Z"
   },
   {
    "duration": 35,
    "start_time": "2021-07-08T11:52:26.969Z"
   },
   {
    "duration": 23,
    "start_time": "2021-07-08T11:52:27.006Z"
   },
   {
    "duration": 258,
    "start_time": "2021-07-08T11:52:27.030Z"
   },
   {
    "duration": 24,
    "start_time": "2021-07-08T11:52:27.290Z"
   },
   {
    "duration": 12,
    "start_time": "2021-07-08T11:52:27.316Z"
   },
   {
    "duration": 10,
    "start_time": "2021-07-08T11:52:27.329Z"
   },
   {
    "duration": 298,
    "start_time": "2021-07-08T11:52:27.341Z"
   },
   {
    "duration": 436,
    "start_time": "2021-07-08T11:52:27.641Z"
   },
   {
    "duration": 216,
    "start_time": "2021-07-08T11:52:28.079Z"
   },
   {
    "duration": 20,
    "start_time": "2021-07-08T11:52:28.297Z"
   },
   {
    "duration": 17,
    "start_time": "2021-07-08T11:52:28.319Z"
   },
   {
    "duration": 140,
    "start_time": "2022-03-18T08:28:44.122Z"
   },
   {
    "duration": 1210,
    "start_time": "2022-03-18T08:28:57.849Z"
   },
   {
    "duration": 6,
    "start_time": "2022-03-18T08:28:59.061Z"
   },
   {
    "duration": 52,
    "start_time": "2022-03-18T08:28:59.069Z"
   },
   {
    "duration": 5,
    "start_time": "2022-03-18T08:28:59.123Z"
   },
   {
    "duration": 12,
    "start_time": "2022-03-18T08:28:59.130Z"
   },
   {
    "duration": 184,
    "start_time": "2022-03-18T08:28:59.144Z"
   },
   {
    "duration": 49,
    "start_time": "2022-03-18T08:28:59.281Z"
   },
   {
    "duration": 47,
    "start_time": "2022-03-18T08:28:59.284Z"
   },
   {
    "duration": 42,
    "start_time": "2022-03-18T08:28:59.290Z"
   },
   {
    "duration": 41,
    "start_time": "2022-03-18T08:28:59.292Z"
   },
   {
    "duration": 40,
    "start_time": "2022-03-18T08:28:59.294Z"
   },
   {
    "duration": 39,
    "start_time": "2022-03-18T08:28:59.296Z"
   },
   {
    "duration": 37,
    "start_time": "2022-03-18T08:28:59.299Z"
   },
   {
    "duration": 37,
    "start_time": "2022-03-18T08:28:59.300Z"
   },
   {
    "duration": 35,
    "start_time": "2022-03-18T08:28:59.303Z"
   },
   {
    "duration": 34,
    "start_time": "2022-03-18T08:28:59.305Z"
   },
   {
    "duration": 32,
    "start_time": "2022-03-18T08:28:59.308Z"
   },
   {
    "duration": 33,
    "start_time": "2022-03-18T08:28:59.310Z"
   },
   {
    "duration": 27,
    "start_time": "2022-03-18T08:28:59.317Z"
   },
   {
    "duration": 26,
    "start_time": "2022-03-18T08:28:59.319Z"
   },
   {
    "duration": 23,
    "start_time": "2022-03-18T08:28:59.322Z"
   },
   {
    "duration": 23,
    "start_time": "2022-03-18T08:28:59.323Z"
   },
   {
    "duration": 22,
    "start_time": "2022-03-18T08:28:59.325Z"
   },
   {
    "duration": 21,
    "start_time": "2022-03-18T08:28:59.327Z"
   },
   {
    "duration": 21,
    "start_time": "2022-03-18T08:28:59.328Z"
   },
   {
    "duration": 20,
    "start_time": "2022-03-18T08:28:59.330Z"
   },
   {
    "duration": 20,
    "start_time": "2022-03-18T08:28:59.331Z"
   },
   {
    "duration": 19,
    "start_time": "2022-03-18T08:28:59.333Z"
   },
   {
    "duration": 19,
    "start_time": "2022-03-18T08:28:59.334Z"
   },
   {
    "duration": 18,
    "start_time": "2022-03-18T08:28:59.336Z"
   },
   {
    "duration": 103,
    "start_time": "2022-03-18T08:29:49.965Z"
   },
   {
    "duration": 618,
    "start_time": "2022-03-18T08:30:05.910Z"
   },
   {
    "duration": 15,
    "start_time": "2022-03-18T09:53:44.982Z"
   },
   {
    "duration": 25,
    "start_time": "2022-03-18T10:11:00.179Z"
   },
   {
    "duration": 104,
    "start_time": "2022-03-18T10:16:39.246Z"
   },
   {
    "duration": 15,
    "start_time": "2022-03-19T07:23:04.532Z"
   },
   {
    "duration": 20,
    "start_time": "2022-03-19T07:23:35.806Z"
   },
   {
    "duration": 92,
    "start_time": "2022-03-19T07:27:20.534Z"
   },
   {
    "duration": 16,
    "start_time": "2022-03-19T07:30:47.336Z"
   },
   {
    "duration": 581,
    "start_time": "2022-03-19T07:32:33.013Z"
   },
   {
    "duration": 106,
    "start_time": "2022-03-19T07:36:59.542Z"
   },
   {
    "duration": 5,
    "start_time": "2022-03-19T07:36:59.650Z"
   },
   {
    "duration": 55,
    "start_time": "2022-03-19T07:36:59.657Z"
   },
   {
    "duration": 6,
    "start_time": "2022-03-19T07:36:59.714Z"
   },
   {
    "duration": 13,
    "start_time": "2022-03-19T07:36:59.722Z"
   },
   {
    "duration": 586,
    "start_time": "2022-03-19T07:36:59.737Z"
   },
   {
    "duration": 13,
    "start_time": "2022-03-19T07:37:00.325Z"
   },
   {
    "duration": 21,
    "start_time": "2022-03-19T07:37:00.340Z"
   },
   {
    "duration": 10,
    "start_time": "2022-03-19T07:37:00.363Z"
   },
   {
    "duration": 53,
    "start_time": "2022-03-19T07:37:00.374Z"
   },
   {
    "duration": 10,
    "start_time": "2022-03-19T07:37:00.429Z"
   },
   {
    "duration": 7,
    "start_time": "2022-03-19T07:37:00.441Z"
   },
   {
    "duration": 10,
    "start_time": "2022-03-19T07:37:00.450Z"
   },
   {
    "duration": 9,
    "start_time": "2022-03-19T07:37:00.462Z"
   },
   {
    "duration": 40,
    "start_time": "2022-03-19T07:37:00.472Z"
   },
   {
    "duration": 11,
    "start_time": "2022-03-19T07:37:00.514Z"
   },
   {
    "duration": 7,
    "start_time": "2022-03-19T07:37:00.526Z"
   },
   {
    "duration": 12,
    "start_time": "2022-03-19T07:37:00.534Z"
   },
   {
    "duration": 17,
    "start_time": "2022-03-19T07:37:00.548Z"
   },
   {
    "duration": 57,
    "start_time": "2022-03-19T07:37:00.566Z"
   },
   {
    "duration": 1337,
    "start_time": "2022-03-19T07:37:00.625Z"
   },
   {
    "duration": 16,
    "start_time": "2022-03-19T07:37:01.964Z"
   },
   {
    "duration": 2,
    "start_time": "2022-03-19T07:37:01.982Z"
   },
   {
    "duration": 24,
    "start_time": "2022-03-19T07:37:01.985Z"
   },
   {
    "duration": 22,
    "start_time": "2022-03-19T07:37:02.010Z"
   },
   {
    "duration": 4,
    "start_time": "2022-03-19T07:37:02.034Z"
   },
   {
    "duration": 233,
    "start_time": "2022-03-19T07:37:02.041Z"
   },
   {
    "duration": 34,
    "start_time": "2022-03-19T07:37:02.276Z"
   },
   {
    "duration": 300,
    "start_time": "2022-03-19T07:37:02.312Z"
   },
   {
    "duration": 17,
    "start_time": "2022-03-19T07:37:02.614Z"
   },
   {
    "duration": 2,
    "start_time": "2022-03-19T07:37:02.633Z"
   },
   {
    "duration": 269,
    "start_time": "2022-03-19T07:37:15.724Z"
   },
   {
    "duration": 15,
    "start_time": "2022-03-19T07:42:15.026Z"
   },
   {
    "duration": 117,
    "start_time": "2022-03-19T07:55:25.482Z"
   },
   {
    "duration": 107,
    "start_time": "2022-03-19T07:57:33.313Z"
   },
   {
    "duration": 102,
    "start_time": "2022-03-19T07:57:38.218Z"
   },
   {
    "duration": 7,
    "start_time": "2022-03-19T07:57:44.908Z"
   },
   {
    "duration": 9,
    "start_time": "2022-03-19T07:58:18.375Z"
   },
   {
    "duration": 145,
    "start_time": "2022-03-19T07:58:28.005Z"
   },
   {
    "duration": 23,
    "start_time": "2022-03-19T08:21:23.076Z"
   },
   {
    "duration": 25,
    "start_time": "2022-03-19T08:21:57.765Z"
   },
   {
    "duration": 117,
    "start_time": "2022-03-19T08:24:03.048Z"
   },
   {
    "duration": 122,
    "start_time": "2022-03-19T08:24:11.267Z"
   },
   {
    "duration": 20,
    "start_time": "2022-03-19T08:24:47.552Z"
   },
   {
    "duration": 13,
    "start_time": "2022-03-19T08:26:07.070Z"
   },
   {
    "duration": 14,
    "start_time": "2022-03-19T08:26:13.686Z"
   },
   {
    "duration": 18,
    "start_time": "2022-03-19T08:26:19.100Z"
   },
   {
    "duration": 16,
    "start_time": "2022-03-19T08:26:47.480Z"
   },
   {
    "duration": 13,
    "start_time": "2022-03-19T08:26:59.367Z"
   },
   {
    "duration": 17,
    "start_time": "2022-03-19T08:27:07.476Z"
   },
   {
    "duration": 24,
    "start_time": "2022-03-19T08:28:07.657Z"
   },
   {
    "duration": 17,
    "start_time": "2022-03-19T08:28:22.028Z"
   },
   {
    "duration": 117,
    "start_time": "2022-03-19T08:29:11.953Z"
   },
   {
    "duration": 20,
    "start_time": "2022-03-19T08:29:16.789Z"
   },
   {
    "duration": 143,
    "start_time": "2022-03-19T08:29:31.970Z"
   },
   {
    "duration": 23,
    "start_time": "2022-03-19T08:29:59.045Z"
   },
   {
    "duration": 256,
    "start_time": "2022-03-19T08:31:19.002Z"
   },
   {
    "duration": 2405,
    "start_time": "2022-03-19T08:31:30.928Z"
   },
   {
    "duration": 118,
    "start_time": "2022-03-19T08:31:43.920Z"
   },
   {
    "duration": 131,
    "start_time": "2022-03-19T08:31:54.117Z"
   },
   {
    "duration": 2325,
    "start_time": "2022-03-19T08:32:05.248Z"
   },
   {
    "duration": 2667,
    "start_time": "2022-03-19T08:32:36.314Z"
   },
   {
    "duration": 18,
    "start_time": "2022-03-19T08:32:47.613Z"
   },
   {
    "duration": 291,
    "start_time": "2022-03-19T08:33:54.436Z"
   },
   {
    "duration": 131,
    "start_time": "2022-03-19T08:34:05.941Z"
   },
   {
    "duration": 135,
    "start_time": "2022-03-19T09:31:05.162Z"
   },
   {
    "duration": 697,
    "start_time": "2022-03-19T09:54:27.614Z"
   },
   {
    "duration": 655,
    "start_time": "2022-03-19T09:54:44.753Z"
   },
   {
    "duration": 1251,
    "start_time": "2022-03-19T09:58:16.313Z"
   },
   {
    "duration": 6,
    "start_time": "2022-03-19T09:58:17.566Z"
   },
   {
    "duration": 54,
    "start_time": "2022-03-19T09:58:17.574Z"
   },
   {
    "duration": 6,
    "start_time": "2022-03-19T09:58:17.630Z"
   },
   {
    "duration": 13,
    "start_time": "2022-03-19T09:58:17.638Z"
   },
   {
    "duration": 665,
    "start_time": "2022-03-19T09:58:17.653Z"
   },
   {
    "duration": 14,
    "start_time": "2022-03-19T09:58:18.320Z"
   },
   {
    "duration": 21,
    "start_time": "2022-03-19T09:58:18.337Z"
   },
   {
    "duration": 11,
    "start_time": "2022-03-19T09:58:18.360Z"
   },
   {
    "duration": 61,
    "start_time": "2022-03-19T09:58:18.373Z"
   },
   {
    "duration": 10,
    "start_time": "2022-03-19T09:58:18.436Z"
   },
   {
    "duration": 11,
    "start_time": "2022-03-19T09:58:18.447Z"
   },
   {
    "duration": 17,
    "start_time": "2022-03-19T09:58:18.460Z"
   },
   {
    "duration": 30,
    "start_time": "2022-03-19T09:58:18.479Z"
   },
   {
    "duration": 9,
    "start_time": "2022-03-19T09:58:18.511Z"
   },
   {
    "duration": 9,
    "start_time": "2022-03-19T09:58:18.521Z"
   },
   {
    "duration": 6,
    "start_time": "2022-03-19T09:58:18.532Z"
   },
   {
    "duration": 7,
    "start_time": "2022-03-19T09:58:18.540Z"
   },
   {
    "duration": 15,
    "start_time": "2022-03-19T09:58:18.549Z"
   },
   {
    "duration": 62,
    "start_time": "2022-03-19T09:58:18.566Z"
   },
   {
    "duration": 1274,
    "start_time": "2022-03-19T09:58:18.630Z"
   },
   {
    "duration": 16,
    "start_time": "2022-03-19T09:58:19.908Z"
   },
   {
    "duration": 196,
    "start_time": "2022-03-19T09:58:19.927Z"
   },
   {
    "duration": 76,
    "start_time": "2022-03-19T09:58:20.049Z"
   },
   {
    "duration": 75,
    "start_time": "2022-03-19T09:58:20.051Z"
   },
   {
    "duration": 74,
    "start_time": "2022-03-19T09:58:20.053Z"
   },
   {
    "duration": 74,
    "start_time": "2022-03-19T09:58:20.054Z"
   },
   {
    "duration": 73,
    "start_time": "2022-03-19T09:58:20.056Z"
   },
   {
    "duration": 73,
    "start_time": "2022-03-19T09:58:20.057Z"
   },
   {
    "duration": 73,
    "start_time": "2022-03-19T09:58:20.059Z"
   },
   {
    "duration": 68,
    "start_time": "2022-03-19T09:58:20.065Z"
   },
   {
    "duration": 1197,
    "start_time": "2022-03-19T09:58:44.979Z"
   },
   {
    "duration": 5,
    "start_time": "2022-03-19T09:58:46.178Z"
   },
   {
    "duration": 54,
    "start_time": "2022-03-19T09:58:46.185Z"
   },
   {
    "duration": 5,
    "start_time": "2022-03-19T09:58:46.241Z"
   },
   {
    "duration": 13,
    "start_time": "2022-03-19T09:58:46.248Z"
   },
   {
    "duration": 670,
    "start_time": "2022-03-19T09:58:46.262Z"
   },
   {
    "duration": 14,
    "start_time": "2022-03-19T09:58:46.934Z"
   },
   {
    "duration": 22,
    "start_time": "2022-03-19T09:58:46.950Z"
   },
   {
    "duration": 35,
    "start_time": "2022-03-19T09:58:46.975Z"
   },
   {
    "duration": 29,
    "start_time": "2022-03-19T09:58:47.012Z"
   },
   {
    "duration": 10,
    "start_time": "2022-03-19T09:58:47.042Z"
   },
   {
    "duration": 7,
    "start_time": "2022-03-19T09:58:47.053Z"
   },
   {
    "duration": 8,
    "start_time": "2022-03-19T09:58:47.062Z"
   },
   {
    "duration": 41,
    "start_time": "2022-03-19T09:58:47.072Z"
   },
   {
    "duration": 8,
    "start_time": "2022-03-19T09:58:47.115Z"
   },
   {
    "duration": 7,
    "start_time": "2022-03-19T09:58:47.125Z"
   },
   {
    "duration": 5,
    "start_time": "2022-03-19T09:58:47.134Z"
   },
   {
    "duration": 7,
    "start_time": "2022-03-19T09:58:47.141Z"
   },
   {
    "duration": 14,
    "start_time": "2022-03-19T09:58:47.149Z"
   },
   {
    "duration": 63,
    "start_time": "2022-03-19T09:58:47.165Z"
   },
   {
    "duration": 1235,
    "start_time": "2022-03-19T09:58:47.229Z"
   },
   {
    "duration": 16,
    "start_time": "2022-03-19T09:58:48.466Z"
   },
   {
    "duration": 36,
    "start_time": "2022-03-19T09:58:48.484Z"
   },
   {
    "duration": 10,
    "start_time": "2022-03-19T09:58:48.522Z"
   },
   {
    "duration": 15,
    "start_time": "2022-03-19T09:58:48.534Z"
   },
   {
    "duration": 4,
    "start_time": "2022-03-19T09:58:48.550Z"
   },
   {
    "duration": 222,
    "start_time": "2022-03-19T09:58:48.557Z"
   },
   {
    "duration": 28,
    "start_time": "2022-03-19T09:58:48.781Z"
   },
   {
    "duration": 17,
    "start_time": "2022-03-19T09:58:48.811Z"
   },
   {
    "duration": 16,
    "start_time": "2022-03-19T09:58:48.829Z"
   },
   {
    "duration": 2,
    "start_time": "2022-03-19T09:58:48.846Z"
   },
   {
    "duration": 51,
    "start_time": "2022-03-19T10:00:28.114Z"
   },
   {
    "duration": 6,
    "start_time": "2022-03-19T10:00:31.871Z"
   },
   {
    "duration": 191,
    "start_time": "2022-03-19T10:01:46.588Z"
   },
   {
    "duration": 111,
    "start_time": "2022-03-19T10:02:20.924Z"
   },
   {
    "duration": 102,
    "start_time": "2022-03-19T10:02:43.725Z"
   },
   {
    "duration": 103,
    "start_time": "2022-03-19T10:02:48.226Z"
   },
   {
    "duration": 6,
    "start_time": "2022-03-19T10:04:19.396Z"
   },
   {
    "duration": 1228,
    "start_time": "2022-03-19T10:11:26.863Z"
   },
   {
    "duration": 6,
    "start_time": "2022-03-19T10:11:28.093Z"
   },
   {
    "duration": 53,
    "start_time": "2022-03-19T10:11:28.101Z"
   },
   {
    "duration": 208,
    "start_time": "2022-03-19T10:11:28.156Z"
   },
   {
    "duration": 75,
    "start_time": "2022-03-19T10:11:28.292Z"
   },
   {
    "duration": 74,
    "start_time": "2022-03-19T10:11:28.294Z"
   },
   {
    "duration": 75,
    "start_time": "2022-03-19T10:11:28.295Z"
   },
   {
    "duration": 67,
    "start_time": "2022-03-19T10:11:28.304Z"
   },
   {
    "duration": 67,
    "start_time": "2022-03-19T10:11:28.306Z"
   },
   {
    "duration": 67,
    "start_time": "2022-03-19T10:11:28.307Z"
   },
   {
    "duration": 68,
    "start_time": "2022-03-19T10:11:28.308Z"
   },
   {
    "duration": 67,
    "start_time": "2022-03-19T10:11:28.310Z"
   },
   {
    "duration": 68,
    "start_time": "2022-03-19T10:11:28.311Z"
   },
   {
    "duration": 68,
    "start_time": "2022-03-19T10:11:28.312Z"
   },
   {
    "duration": 68,
    "start_time": "2022-03-19T10:11:28.314Z"
   },
   {
    "duration": 67,
    "start_time": "2022-03-19T10:11:28.316Z"
   },
   {
    "duration": 67,
    "start_time": "2022-03-19T10:11:28.318Z"
   },
   {
    "duration": 67,
    "start_time": "2022-03-19T10:11:28.319Z"
   },
   {
    "duration": 67,
    "start_time": "2022-03-19T10:11:28.320Z"
   },
   {
    "duration": 66,
    "start_time": "2022-03-19T10:11:28.322Z"
   },
   {
    "duration": 66,
    "start_time": "2022-03-19T10:11:28.323Z"
   },
   {
    "duration": 61,
    "start_time": "2022-03-19T10:11:28.329Z"
   },
   {
    "duration": 60,
    "start_time": "2022-03-19T10:11:28.331Z"
   },
   {
    "duration": 59,
    "start_time": "2022-03-19T10:11:28.333Z"
   },
   {
    "duration": 59,
    "start_time": "2022-03-19T10:11:28.334Z"
   },
   {
    "duration": 58,
    "start_time": "2022-03-19T10:11:28.336Z"
   },
   {
    "duration": 57,
    "start_time": "2022-03-19T10:11:28.338Z"
   },
   {
    "duration": 57,
    "start_time": "2022-03-19T10:11:28.339Z"
   },
   {
    "duration": 56,
    "start_time": "2022-03-19T10:11:28.341Z"
   },
   {
    "duration": 55,
    "start_time": "2022-03-19T10:11:28.343Z"
   },
   {
    "duration": 51,
    "start_time": "2022-03-19T10:11:28.348Z"
   },
   {
    "duration": 1265,
    "start_time": "2022-03-19T10:12:18.079Z"
   },
   {
    "duration": 7,
    "start_time": "2022-03-19T10:12:19.346Z"
   },
   {
    "duration": 66,
    "start_time": "2022-03-19T10:12:19.355Z"
   },
   {
    "duration": 2,
    "start_time": "2022-03-19T10:12:19.424Z"
   },
   {
    "duration": 17,
    "start_time": "2022-03-19T10:12:19.428Z"
   },
   {
    "duration": 708,
    "start_time": "2022-03-19T10:12:19.447Z"
   },
   {
    "duration": 6,
    "start_time": "2022-03-19T10:12:20.157Z"
   },
   {
    "duration": 22,
    "start_time": "2022-03-19T10:12:20.164Z"
   },
   {
    "duration": 27,
    "start_time": "2022-03-19T10:12:20.189Z"
   },
   {
    "duration": 31,
    "start_time": "2022-03-19T10:12:20.219Z"
   },
   {
    "duration": 11,
    "start_time": "2022-03-19T10:12:20.252Z"
   },
   {
    "duration": 22,
    "start_time": "2022-03-19T10:12:20.265Z"
   },
   {
    "duration": 9,
    "start_time": "2022-03-19T10:12:20.310Z"
   },
   {
    "duration": 7,
    "start_time": "2022-03-19T10:12:20.321Z"
   },
   {
    "duration": 12,
    "start_time": "2022-03-19T10:12:20.330Z"
   },
   {
    "duration": 13,
    "start_time": "2022-03-19T10:12:20.344Z"
   },
   {
    "duration": 6,
    "start_time": "2022-03-19T10:12:20.359Z"
   },
   {
    "duration": 42,
    "start_time": "2022-03-19T10:12:20.367Z"
   },
   {
    "duration": 17,
    "start_time": "2022-03-19T10:12:20.411Z"
   },
   {
    "duration": 32,
    "start_time": "2022-03-19T10:12:20.430Z"
   },
   {
    "duration": 1017,
    "start_time": "2022-03-19T10:12:20.464Z"
   },
   {
    "duration": 17,
    "start_time": "2022-03-19T10:12:21.483Z"
   },
   {
    "duration": 21,
    "start_time": "2022-03-19T10:12:21.508Z"
   },
   {
    "duration": 10,
    "start_time": "2022-03-19T10:12:21.531Z"
   },
   {
    "duration": 29,
    "start_time": "2022-03-19T10:12:21.542Z"
   },
   {
    "duration": 4,
    "start_time": "2022-03-19T10:12:21.573Z"
   },
   {
    "duration": 241,
    "start_time": "2022-03-19T10:12:21.580Z"
   },
   {
    "duration": 21,
    "start_time": "2022-03-19T10:12:21.824Z"
   },
   {
    "duration": 18,
    "start_time": "2022-03-19T10:12:21.847Z"
   },
   {
    "duration": 45,
    "start_time": "2022-03-19T10:12:21.867Z"
   },
   {
    "duration": 5,
    "start_time": "2022-03-19T10:12:21.914Z"
   },
   {
    "duration": 216,
    "start_time": "2022-03-19T10:29:13.000Z"
   },
   {
    "duration": 311,
    "start_time": "2022-03-19T10:30:25.848Z"
   },
   {
    "duration": 218,
    "start_time": "2022-03-19T10:31:33.544Z"
   },
   {
    "duration": 212,
    "start_time": "2022-03-19T10:31:42.439Z"
   },
   {
    "duration": 231,
    "start_time": "2022-03-19T10:32:00.109Z"
   },
   {
    "duration": 246,
    "start_time": "2022-03-19T10:32:16.445Z"
   },
   {
    "duration": 223,
    "start_time": "2022-03-19T10:32:52.851Z"
   },
   {
    "duration": 221,
    "start_time": "2022-03-19T10:33:26.105Z"
   },
   {
    "duration": 215,
    "start_time": "2022-03-19T10:33:37.823Z"
   },
   {
    "duration": 209,
    "start_time": "2022-03-19T10:33:51.337Z"
   },
   {
    "duration": 212,
    "start_time": "2022-03-19T10:33:55.071Z"
   },
   {
    "duration": 222,
    "start_time": "2022-03-19T10:34:00.908Z"
   },
   {
    "duration": 288,
    "start_time": "2022-03-19T10:36:53.635Z"
   },
   {
    "duration": 36,
    "start_time": "2022-03-19T10:43:33.094Z"
   },
   {
    "duration": 216,
    "start_time": "2022-03-19T10:43:48.903Z"
   },
   {
    "duration": 111,
    "start_time": "2022-03-19T10:44:35.450Z"
   },
   {
    "duration": 131,
    "start_time": "2022-03-19T10:44:40.040Z"
   },
   {
    "duration": 370,
    "start_time": "2022-03-19T10:44:56.106Z"
   },
   {
    "duration": 269,
    "start_time": "2022-03-19T10:45:21.067Z"
   },
   {
    "duration": 283,
    "start_time": "2022-03-19T10:46:00.339Z"
   },
   {
    "duration": 355,
    "start_time": "2022-03-19T10:46:11.304Z"
   },
   {
    "duration": 248,
    "start_time": "2022-03-19T10:46:22.627Z"
   },
   {
    "duration": 263,
    "start_time": "2022-03-19T10:46:44.213Z"
   },
   {
    "duration": 14,
    "start_time": "2022-03-19T11:01:56.683Z"
   },
   {
    "duration": 14,
    "start_time": "2022-03-19T11:03:28.289Z"
   },
   {
    "duration": 35,
    "start_time": "2022-03-19T11:05:05.821Z"
   },
   {
    "duration": 15,
    "start_time": "2022-03-19T11:05:33.258Z"
   },
   {
    "duration": 7,
    "start_time": "2022-03-19T19:23:59.601Z"
   },
   {
    "duration": 7,
    "start_time": "2022-03-19T19:24:10.356Z"
   },
   {
    "duration": 1124,
    "start_time": "2022-03-19T19:24:58.837Z"
   },
   {
    "duration": 134,
    "start_time": "2022-03-19T19:27:57.315Z"
   },
   {
    "duration": 120,
    "start_time": "2022-03-19T19:34:00.439Z"
   },
   {
    "duration": 125,
    "start_time": "2022-03-19T19:38:46.403Z"
   },
   {
    "duration": 19,
    "start_time": "2022-03-19T19:40:15.445Z"
   },
   {
    "duration": 19,
    "start_time": "2022-03-19T19:44:10.034Z"
   },
   {
    "duration": 21,
    "start_time": "2022-03-19T19:44:26.010Z"
   },
   {
    "duration": 96,
    "start_time": "2022-03-19T19:44:34.004Z"
   },
   {
    "duration": 18,
    "start_time": "2022-03-19T19:44:39.091Z"
   },
   {
    "duration": 21,
    "start_time": "2022-03-19T19:47:11.900Z"
   },
   {
    "duration": 2780,
    "start_time": "2022-03-19T19:47:31.099Z"
   },
   {
    "duration": 2680,
    "start_time": "2022-03-19T19:47:36.889Z"
   },
   {
    "duration": 20,
    "start_time": "2022-03-19T19:47:45.724Z"
   },
   {
    "duration": 2792,
    "start_time": "2022-03-19T19:50:05.496Z"
   },
   {
    "duration": 29,
    "start_time": "2022-03-19T19:50:33.937Z"
   },
   {
    "duration": 52,
    "start_time": "2022-03-19T19:51:27.355Z"
   },
   {
    "duration": 45,
    "start_time": "2022-03-19T19:59:09.874Z"
   },
   {
    "duration": 43,
    "start_time": "2022-03-19T19:59:25.502Z"
   },
   {
    "duration": 113,
    "start_time": "2022-03-19T19:59:44.194Z"
   },
   {
    "duration": 55,
    "start_time": "2022-03-19T20:01:22.806Z"
   },
   {
    "duration": 46,
    "start_time": "2022-03-19T20:07:59.099Z"
   },
   {
    "duration": 121,
    "start_time": "2022-03-19T20:08:31.156Z"
   },
   {
    "duration": 49,
    "start_time": "2022-03-19T20:08:44.280Z"
   },
   {
    "duration": 53,
    "start_time": "2022-03-19T20:09:03.571Z"
   },
   {
    "duration": 50,
    "start_time": "2022-03-19T20:09:30.197Z"
   },
   {
    "duration": 52,
    "start_time": "2022-03-19T20:13:01.595Z"
   },
   {
    "duration": 32,
    "start_time": "2022-03-19T20:13:30.110Z"
   },
   {
    "duration": 127,
    "start_time": "2022-03-19T20:17:22.571Z"
   },
   {
    "duration": 110,
    "start_time": "2022-03-19T20:18:01.601Z"
   },
   {
    "duration": 95,
    "start_time": "2022-03-19T20:18:09.566Z"
   },
   {
    "duration": 124,
    "start_time": "2022-03-19T20:18:21.086Z"
   },
   {
    "duration": 36,
    "start_time": "2022-03-19T20:18:44.516Z"
   },
   {
    "duration": 34,
    "start_time": "2022-03-19T20:18:55.632Z"
   },
   {
    "duration": 31,
    "start_time": "2022-03-19T20:23:36.392Z"
   },
   {
    "duration": 31,
    "start_time": "2022-03-19T20:23:46.653Z"
   },
   {
    "duration": 49,
    "start_time": "2022-03-19T20:24:00.362Z"
   },
   {
    "duration": 31,
    "start_time": "2022-03-19T20:26:00.855Z"
   },
   {
    "duration": 31,
    "start_time": "2022-03-19T20:26:29.160Z"
   },
   {
    "duration": 30,
    "start_time": "2022-03-19T20:26:38.415Z"
   },
   {
    "duration": 113,
    "start_time": "2022-03-19T20:26:53.489Z"
   },
   {
    "duration": 27,
    "start_time": "2022-03-19T20:30:45.384Z"
   },
   {
    "duration": 37,
    "start_time": "2022-03-19T20:31:35.329Z"
   },
   {
    "duration": 661,
    "start_time": "2022-03-19T20:35:10.148Z"
   },
   {
    "duration": 746,
    "start_time": "2022-03-19T20:35:19.820Z"
   },
   {
    "duration": 50,
    "start_time": "2022-03-19T20:36:14.665Z"
   },
   {
    "duration": 690,
    "start_time": "2022-03-19T20:36:49.944Z"
   },
   {
    "duration": 273,
    "start_time": "2022-03-19T21:01:57.563Z"
   },
   {
    "duration": 101,
    "start_time": "2022-03-19T21:03:08.037Z"
   },
   {
    "duration": 138,
    "start_time": "2022-03-19T21:07:03.014Z"
   },
   {
    "duration": 180,
    "start_time": "2022-03-19T21:07:49.487Z"
   },
   {
    "duration": 108,
    "start_time": "2022-03-19T21:08:08.195Z"
   },
   {
    "duration": 114,
    "start_time": "2022-03-19T21:08:37.622Z"
   },
   {
    "duration": 109,
    "start_time": "2022-03-19T21:08:50.868Z"
   },
   {
    "duration": 19,
    "start_time": "2022-03-19T21:10:24.589Z"
   },
   {
    "duration": 17,
    "start_time": "2022-03-19T21:10:40.721Z"
   },
   {
    "duration": 36,
    "start_time": "2022-03-19T21:15:03.878Z"
   },
   {
    "duration": 19,
    "start_time": "2022-03-19T21:15:40.569Z"
   },
   {
    "duration": 45,
    "start_time": "2022-03-19T21:16:49.933Z"
   },
   {
    "duration": 20,
    "start_time": "2022-03-19T21:17:18.027Z"
   },
   {
    "duration": 40,
    "start_time": "2022-03-19T21:18:29.369Z"
   },
   {
    "duration": 19,
    "start_time": "2022-03-19T21:18:35.533Z"
   },
   {
    "duration": 4,
    "start_time": "2022-03-19T21:21:55.292Z"
   },
   {
    "duration": 6,
    "start_time": "2022-03-19T21:22:06.962Z"
   },
   {
    "duration": 94,
    "start_time": "2022-03-19T21:22:55.172Z"
   },
   {
    "duration": 6,
    "start_time": "2022-03-19T21:23:08.839Z"
   },
   {
    "duration": 120,
    "start_time": "2022-03-19T21:23:29.988Z"
   },
   {
    "duration": 107,
    "start_time": "2022-03-19T21:23:37.264Z"
   },
   {
    "duration": 5,
    "start_time": "2022-03-19T21:23:43.024Z"
   },
   {
    "duration": 5,
    "start_time": "2022-03-19T21:24:20.824Z"
   },
   {
    "duration": 4,
    "start_time": "2022-03-19T21:25:07.432Z"
   },
   {
    "duration": 5,
    "start_time": "2022-03-19T21:25:16.626Z"
   },
   {
    "duration": 6,
    "start_time": "2022-03-19T21:27:14.108Z"
   },
   {
    "duration": 5,
    "start_time": "2022-03-19T21:27:23.469Z"
   },
   {
    "duration": 33,
    "start_time": "2022-03-19T21:28:19.271Z"
   },
   {
    "duration": 5,
    "start_time": "2022-03-19T21:28:40.030Z"
   },
   {
    "duration": 100,
    "start_time": "2022-03-19T21:29:06.489Z"
   },
   {
    "duration": 5,
    "start_time": "2022-03-19T21:29:25.990Z"
   },
   {
    "duration": 23,
    "start_time": "2022-03-19T21:31:55.378Z"
   },
   {
    "duration": 22,
    "start_time": "2022-03-19T21:32:05.894Z"
   },
   {
    "duration": 310,
    "start_time": "2022-03-19T21:33:25.892Z"
   },
   {
    "duration": 291,
    "start_time": "2022-03-19T21:38:05.812Z"
   },
   {
    "duration": 979,
    "start_time": "2022-03-19T21:39:09.294Z"
   },
   {
    "duration": 36,
    "start_time": "2022-03-19T21:41:05.996Z"
   },
   {
    "duration": 36,
    "start_time": "2022-03-19T21:41:40.571Z"
   },
   {
    "duration": 37,
    "start_time": "2022-03-19T21:42:45.762Z"
   },
   {
    "duration": 36,
    "start_time": "2022-03-19T21:43:07.693Z"
   },
   {
    "duration": 48,
    "start_time": "2022-03-19T21:43:22.408Z"
   },
   {
    "duration": 39,
    "start_time": "2022-03-19T21:43:30.479Z"
   },
   {
    "duration": 38,
    "start_time": "2022-03-19T21:44:21.301Z"
   },
   {
    "duration": 39,
    "start_time": "2022-03-19T21:44:26.714Z"
   },
   {
    "duration": 130,
    "start_time": "2022-03-19T22:39:18.443Z"
   },
   {
    "duration": 118,
    "start_time": "2022-03-19T22:39:23.706Z"
   },
   {
    "duration": 135,
    "start_time": "2022-03-19T22:39:29.256Z"
   },
   {
    "duration": 141,
    "start_time": "2022-03-19T22:39:58.058Z"
   },
   {
    "duration": 129,
    "start_time": "2022-03-19T22:40:17.677Z"
   },
   {
    "duration": 165,
    "start_time": "2022-03-19T22:40:24.592Z"
   },
   {
    "duration": 35,
    "start_time": "2022-03-19T22:40:35.003Z"
   },
   {
    "duration": 43,
    "start_time": "2022-03-19T22:40:49.659Z"
   },
   {
    "duration": 3145,
    "start_time": "2022-03-19T22:44:10.109Z"
   },
   {
    "duration": 135,
    "start_time": "2022-03-19T22:44:25.155Z"
   },
   {
    "duration": 35,
    "start_time": "2022-03-19T22:46:33.092Z"
   },
   {
    "duration": 149,
    "start_time": "2022-03-19T22:46:54.467Z"
   },
   {
    "duration": 40,
    "start_time": "2022-03-19T22:52:08.981Z"
   },
   {
    "duration": 35,
    "start_time": "2022-03-19T22:52:38.261Z"
   },
   {
    "duration": 267,
    "start_time": "2022-03-19T22:52:42.461Z"
   },
   {
    "duration": 271,
    "start_time": "2022-03-19T22:53:47.081Z"
   },
   {
    "duration": 273,
    "start_time": "2022-03-19T22:56:20.657Z"
   },
   {
    "duration": 254,
    "start_time": "2022-03-19T22:59:50.644Z"
   },
   {
    "duration": 269,
    "start_time": "2022-03-19T23:00:37.057Z"
   },
   {
    "duration": 269,
    "start_time": "2022-03-19T23:04:38.081Z"
   },
   {
    "duration": 266,
    "start_time": "2022-03-19T23:08:11.429Z"
   },
   {
    "duration": 276,
    "start_time": "2022-03-19T23:08:33.901Z"
   },
   {
    "duration": 232,
    "start_time": "2022-03-19T23:09:24.888Z"
   },
   {
    "duration": 254,
    "start_time": "2022-03-19T23:09:38.073Z"
   },
   {
    "duration": 272,
    "start_time": "2022-03-19T23:10:21.333Z"
   },
   {
    "duration": 149,
    "start_time": "2022-03-19T23:10:52.325Z"
   },
   {
    "duration": 1865,
    "start_time": "2022-03-19T23:14:11.678Z"
   },
   {
    "duration": 44,
    "start_time": "2022-03-19T23:14:28.103Z"
   },
   {
    "duration": 2129,
    "start_time": "2022-03-19T23:15:56.787Z"
   },
   {
    "duration": 45,
    "start_time": "2022-03-19T23:16:08.740Z"
   },
   {
    "duration": 44,
    "start_time": "2022-03-19T23:16:18.072Z"
   },
   {
    "duration": 1855,
    "start_time": "2022-03-19T23:16:23.697Z"
   },
   {
    "duration": 154,
    "start_time": "2022-03-19T23:16:40.766Z"
   },
   {
    "duration": 44,
    "start_time": "2022-03-19T23:20:51.992Z"
   },
   {
    "duration": 2126,
    "start_time": "2022-03-19T23:21:13.833Z"
   },
   {
    "duration": 147,
    "start_time": "2022-03-19T23:21:44.224Z"
   },
   {
    "duration": 2035,
    "start_time": "2022-03-19T23:21:58.639Z"
   },
   {
    "duration": 45,
    "start_time": "2022-03-19T23:23:29.391Z"
   },
   {
    "duration": 44,
    "start_time": "2022-03-19T23:23:55.933Z"
   },
   {
    "duration": 312,
    "start_time": "2022-03-19T23:25:16.450Z"
   },
   {
    "duration": 302,
    "start_time": "2022-03-19T23:26:21.147Z"
   },
   {
    "duration": 304,
    "start_time": "2022-03-19T23:26:25.105Z"
   },
   {
    "duration": 312,
    "start_time": "2022-03-19T23:26:33.400Z"
   },
   {
    "duration": 303,
    "start_time": "2022-03-19T23:26:48.955Z"
   },
   {
    "duration": 292,
    "start_time": "2022-03-19T23:26:55.842Z"
   },
   {
    "duration": 322,
    "start_time": "2022-03-19T23:27:16.496Z"
   },
   {
    "duration": 300,
    "start_time": "2022-03-19T23:27:25.721Z"
   },
   {
    "duration": 715,
    "start_time": "2022-03-19T23:33:55.625Z"
   },
   {
    "duration": 881,
    "start_time": "2022-03-19T23:38:54.432Z"
   },
   {
    "duration": 906,
    "start_time": "2022-03-19T23:39:17.653Z"
   },
   {
    "duration": 300,
    "start_time": "2022-03-19T23:39:33.164Z"
   },
   {
    "duration": 301,
    "start_time": "2022-03-19T23:40:01.032Z"
   },
   {
    "duration": 277,
    "start_time": "2022-03-19T23:41:42.526Z"
   },
   {
    "duration": 256,
    "start_time": "2022-03-19T23:42:40.922Z"
   },
   {
    "duration": 353,
    "start_time": "2022-03-19T23:43:29.582Z"
   },
   {
    "duration": 35,
    "start_time": "2022-03-19T23:57:05.091Z"
   },
   {
    "duration": 24,
    "start_time": "2022-03-19T23:57:28.027Z"
   },
   {
    "duration": 175,
    "start_time": "2022-03-20T00:17:07.713Z"
   },
   {
    "duration": 143,
    "start_time": "2022-03-20T00:17:36.334Z"
   },
   {
    "duration": 171,
    "start_time": "2022-03-20T00:18:05.328Z"
   },
   {
    "duration": 295,
    "start_time": "2022-03-20T00:18:28.669Z"
   },
   {
    "duration": 174,
    "start_time": "2022-03-20T00:20:03.788Z"
   },
   {
    "duration": 30,
    "start_time": "2022-03-20T00:20:49.132Z"
   },
   {
    "duration": 21,
    "start_time": "2022-03-20T00:21:44.604Z"
   },
   {
    "duration": 26,
    "start_time": "2022-03-20T10:03:37.039Z"
   },
   {
    "duration": 131,
    "start_time": "2022-03-20T10:04:36.724Z"
   },
   {
    "duration": 108,
    "start_time": "2022-03-20T10:04:52.265Z"
   },
   {
    "duration": 7,
    "start_time": "2022-03-20T10:06:15.411Z"
   },
   {
    "duration": 1271,
    "start_time": "2022-03-20T10:07:54.339Z"
   },
   {
    "duration": 7,
    "start_time": "2022-03-20T10:08:10.974Z"
   },
   {
    "duration": 101,
    "start_time": "2022-03-20T10:08:42.131Z"
   },
   {
    "duration": 100,
    "start_time": "2022-03-20T10:08:57.445Z"
   },
   {
    "duration": 101,
    "start_time": "2022-03-20T10:09:04.032Z"
   },
   {
    "duration": 5,
    "start_time": "2022-03-20T10:12:16.815Z"
   },
   {
    "duration": 105,
    "start_time": "2022-03-20T10:27:28.409Z"
   },
   {
    "duration": 100,
    "start_time": "2022-03-20T10:27:43.063Z"
   },
   {
    "duration": 117,
    "start_time": "2022-03-20T10:27:55.380Z"
   },
   {
    "duration": 108,
    "start_time": "2022-03-20T10:28:36.812Z"
   },
   {
    "duration": 34,
    "start_time": "2022-03-20T10:34:06.292Z"
   },
   {
    "duration": 8,
    "start_time": "2022-03-20T10:34:49.614Z"
   },
   {
    "duration": 9,
    "start_time": "2022-03-20T10:34:56.677Z"
   },
   {
    "duration": 8,
    "start_time": "2022-03-20T10:35:07.912Z"
   },
   {
    "duration": 21,
    "start_time": "2022-03-20T10:37:26.650Z"
   },
   {
    "duration": 18,
    "start_time": "2022-03-20T10:37:58.916Z"
   },
   {
    "duration": 34,
    "start_time": "2022-03-20T10:39:05.668Z"
   },
   {
    "duration": 17,
    "start_time": "2022-03-20T10:56:56.931Z"
   },
   {
    "duration": 26,
    "start_time": "2022-03-20T10:58:42.953Z"
   },
   {
    "duration": 17,
    "start_time": "2022-03-20T10:59:32.904Z"
   },
   {
    "duration": 37,
    "start_time": "2022-03-20T11:06:29.778Z"
   },
   {
    "duration": 1382,
    "start_time": "2022-03-20T11:06:43.548Z"
   },
   {
    "duration": 2476,
    "start_time": "2022-03-20T11:07:32.869Z"
   },
   {
    "duration": 18,
    "start_time": "2022-03-20T11:08:03.500Z"
   },
   {
    "duration": 486,
    "start_time": "2022-03-20T11:08:15.049Z"
   },
   {
    "duration": 278,
    "start_time": "2022-03-20T11:08:43.686Z"
   },
   {
    "duration": 303,
    "start_time": "2022-03-20T11:09:15.531Z"
   },
   {
    "duration": 288,
    "start_time": "2022-03-20T11:09:26.482Z"
   },
   {
    "duration": 195,
    "start_time": "2022-03-20T11:13:04.571Z"
   },
   {
    "duration": 243,
    "start_time": "2022-03-20T11:14:21.612Z"
   },
   {
    "duration": 40,
    "start_time": "2022-03-20T11:15:57.319Z"
   },
   {
    "duration": 45,
    "start_time": "2022-03-20T11:16:45.706Z"
   },
   {
    "duration": 16,
    "start_time": "2022-03-20T11:17:21.288Z"
   },
   {
    "duration": 17,
    "start_time": "2022-03-20T11:18:29.267Z"
   },
   {
    "duration": 270,
    "start_time": "2022-03-20T11:18:36.513Z"
   },
   {
    "duration": 263,
    "start_time": "2022-03-20T11:18:51.049Z"
   },
   {
    "duration": 258,
    "start_time": "2022-03-20T11:22:09.326Z"
   },
   {
    "duration": 260,
    "start_time": "2022-03-20T11:23:38.231Z"
   },
   {
    "duration": 255,
    "start_time": "2022-03-20T11:27:11.042Z"
   },
   {
    "duration": 8,
    "start_time": "2022-03-20T12:04:44.405Z"
   },
   {
    "duration": 7,
    "start_time": "2022-03-20T12:05:10.970Z"
   },
   {
    "duration": 5,
    "start_time": "2022-03-20T12:05:20.268Z"
   },
   {
    "duration": 8,
    "start_time": "2022-03-20T12:09:40.646Z"
   },
   {
    "duration": 8,
    "start_time": "2022-03-20T12:10:15.932Z"
   },
   {
    "duration": 42,
    "start_time": "2022-03-20T12:10:43.526Z"
   },
   {
    "duration": 8,
    "start_time": "2022-03-20T12:10:52.016Z"
   },
   {
    "duration": 1162,
    "start_time": "2022-03-20T12:11:01.620Z"
   },
   {
    "duration": 128,
    "start_time": "2022-03-20T12:11:02.784Z"
   },
   {
    "duration": 7,
    "start_time": "2022-03-20T12:11:02.914Z"
   },
   {
    "duration": 59,
    "start_time": "2022-03-20T12:11:02.923Z"
   },
   {
    "duration": 31,
    "start_time": "2022-03-20T12:11:02.983Z"
   },
   {
    "duration": 623,
    "start_time": "2022-03-20T12:11:03.015Z"
   },
   {
    "duration": 7,
    "start_time": "2022-03-20T12:11:03.640Z"
   },
   {
    "duration": 29,
    "start_time": "2022-03-20T12:11:03.650Z"
   },
   {
    "duration": 28,
    "start_time": "2022-03-20T12:11:03.681Z"
   },
   {
    "duration": 32,
    "start_time": "2022-03-20T12:11:03.710Z"
   },
   {
    "duration": 12,
    "start_time": "2022-03-20T12:11:03.744Z"
   },
   {
    "duration": 9,
    "start_time": "2022-03-20T12:11:03.757Z"
   },
   {
    "duration": 49,
    "start_time": "2022-03-20T12:11:03.768Z"
   },
   {
    "duration": 8,
    "start_time": "2022-03-20T12:11:03.819Z"
   },
   {
    "duration": 10,
    "start_time": "2022-03-20T12:11:03.829Z"
   },
   {
    "duration": 8,
    "start_time": "2022-03-20T12:11:03.841Z"
   },
   {
    "duration": 5,
    "start_time": "2022-03-20T12:11:03.851Z"
   },
   {
    "duration": 7,
    "start_time": "2022-03-20T12:11:03.858Z"
   },
   {
    "duration": 59,
    "start_time": "2022-03-20T12:11:03.867Z"
   },
   {
    "duration": 26,
    "start_time": "2022-03-20T12:11:03.927Z"
   },
   {
    "duration": 990,
    "start_time": "2022-03-20T12:11:03.955Z"
   },
   {
    "duration": 17,
    "start_time": "2022-03-20T12:11:04.946Z"
   },
   {
    "duration": 118,
    "start_time": "2022-03-20T12:11:04.966Z"
   },
   {
    "duration": 5,
    "start_time": "2022-03-20T12:11:05.085Z"
   },
   {
    "duration": 29,
    "start_time": "2022-03-20T12:11:05.092Z"
   },
   {
    "duration": 4,
    "start_time": "2022-03-20T12:11:05.122Z"
   },
   {
    "duration": 229,
    "start_time": "2022-03-20T12:11:05.127Z"
   },
   {
    "duration": 21,
    "start_time": "2022-03-20T12:11:05.357Z"
   },
   {
    "duration": 267,
    "start_time": "2022-03-20T12:11:05.379Z"
   },
   {
    "duration": 21,
    "start_time": "2022-03-20T12:11:05.648Z"
   },
   {
    "duration": 271,
    "start_time": "2022-03-20T12:11:05.671Z"
   },
   {
    "duration": 265,
    "start_time": "2022-03-20T12:11:05.944Z"
   },
   {
    "duration": 41,
    "start_time": "2022-03-20T12:11:06.210Z"
   },
   {
    "duration": 677,
    "start_time": "2022-03-20T12:11:30.777Z"
   },
   {
    "duration": 193,
    "start_time": "2022-03-20T12:12:53.264Z"
   },
   {
    "duration": 142,
    "start_time": "2022-03-20T12:13:00.254Z"
   },
   {
    "duration": 9,
    "start_time": "2022-03-20T12:13:17.833Z"
   },
   {
    "duration": 7,
    "start_time": "2022-03-20T12:13:51.280Z"
   },
   {
    "duration": 106,
    "start_time": "2022-03-20T12:14:34.766Z"
   },
   {
    "duration": 110,
    "start_time": "2022-03-20T12:14:44.831Z"
   },
   {
    "duration": 143,
    "start_time": "2022-03-20T12:15:07.814Z"
   },
   {
    "duration": 1106,
    "start_time": "2022-03-20T12:15:35.576Z"
   },
   {
    "duration": 117,
    "start_time": "2022-03-20T12:15:36.684Z"
   },
   {
    "duration": 6,
    "start_time": "2022-03-20T12:15:36.803Z"
   },
   {
    "duration": 56,
    "start_time": "2022-03-20T12:15:36.811Z"
   },
   {
    "duration": 14,
    "start_time": "2022-03-20T12:15:36.868Z"
   },
   {
    "duration": 655,
    "start_time": "2022-03-20T12:15:36.883Z"
   },
   {
    "duration": 8,
    "start_time": "2022-03-20T12:15:37.539Z"
   },
   {
    "duration": 24,
    "start_time": "2022-03-20T12:15:37.549Z"
   },
   {
    "duration": 9,
    "start_time": "2022-03-20T12:15:37.576Z"
   },
   {
    "duration": 50,
    "start_time": "2022-03-20T12:15:37.587Z"
   },
   {
    "duration": 9,
    "start_time": "2022-03-20T12:15:37.639Z"
   },
   {
    "duration": 6,
    "start_time": "2022-03-20T12:15:37.650Z"
   },
   {
    "duration": 10,
    "start_time": "2022-03-20T12:15:37.658Z"
   },
   {
    "duration": 40,
    "start_time": "2022-03-20T12:15:37.670Z"
   },
   {
    "duration": 9,
    "start_time": "2022-03-20T12:15:37.712Z"
   },
   {
    "duration": 9,
    "start_time": "2022-03-20T12:15:37.722Z"
   },
   {
    "duration": 6,
    "start_time": "2022-03-20T12:15:37.733Z"
   },
   {
    "duration": 9,
    "start_time": "2022-03-20T12:15:37.741Z"
   },
   {
    "duration": 30,
    "start_time": "2022-03-20T12:15:37.751Z"
   },
   {
    "duration": 51,
    "start_time": "2022-03-20T12:15:37.782Z"
   },
   {
    "duration": 1012,
    "start_time": "2022-03-20T12:15:37.835Z"
   },
   {
    "duration": 16,
    "start_time": "2022-03-20T12:15:38.849Z"
   },
   {
    "duration": 118,
    "start_time": "2022-03-20T12:15:38.867Z"
   },
   {
    "duration": 5,
    "start_time": "2022-03-20T12:15:38.986Z"
   },
   {
    "duration": 28,
    "start_time": "2022-03-20T12:15:38.993Z"
   },
   {
    "duration": 5,
    "start_time": "2022-03-20T12:15:39.023Z"
   },
   {
    "duration": 231,
    "start_time": "2022-03-20T12:15:39.031Z"
   },
   {
    "duration": 20,
    "start_time": "2022-03-20T12:15:39.264Z"
   },
   {
    "duration": 278,
    "start_time": "2022-03-20T12:15:39.285Z"
   },
   {
    "duration": 21,
    "start_time": "2022-03-20T12:15:39.565Z"
   },
   {
    "duration": 264,
    "start_time": "2022-03-20T12:15:39.587Z"
   },
   {
    "duration": 262,
    "start_time": "2022-03-20T12:15:39.852Z"
   },
   {
    "duration": 36,
    "start_time": "2022-03-20T12:15:40.116Z"
   },
   {
    "duration": 8,
    "start_time": "2022-03-20T12:16:16.618Z"
   },
   {
    "duration": 12,
    "start_time": "2022-03-20T12:16:44.938Z"
   },
   {
    "duration": 11,
    "start_time": "2022-03-20T12:17:07.618Z"
   },
   {
    "duration": 10,
    "start_time": "2022-03-20T12:18:03.873Z"
   },
   {
    "duration": 9,
    "start_time": "2022-03-20T12:19:06.141Z"
   },
   {
    "duration": 13,
    "start_time": "2022-03-20T12:19:28.011Z"
   },
   {
    "duration": 10,
    "start_time": "2022-03-20T12:19:36.640Z"
   },
   {
    "duration": 10,
    "start_time": "2022-03-20T12:20:14.169Z"
   },
   {
    "duration": 9,
    "start_time": "2022-03-20T12:20:22.806Z"
   },
   {
    "duration": 8,
    "start_time": "2022-03-20T12:20:54.023Z"
   },
   {
    "duration": 9,
    "start_time": "2022-03-20T12:21:05.078Z"
   },
   {
    "duration": 9,
    "start_time": "2022-03-20T12:21:37.269Z"
   },
   {
    "duration": 8,
    "start_time": "2022-03-20T12:24:09.628Z"
   },
   {
    "duration": 660,
    "start_time": "2022-03-20T12:28:39.571Z"
   },
   {
    "duration": 1161,
    "start_time": "2022-03-20T12:31:27.500Z"
   },
   {
    "duration": 122,
    "start_time": "2022-03-20T12:31:28.663Z"
   },
   {
    "duration": 6,
    "start_time": "2022-03-20T12:31:28.787Z"
   },
   {
    "duration": 56,
    "start_time": "2022-03-20T12:31:28.795Z"
   },
   {
    "duration": 12,
    "start_time": "2022-03-20T12:31:28.853Z"
   },
   {
    "duration": 644,
    "start_time": "2022-03-20T12:31:28.867Z"
   },
   {
    "duration": 8,
    "start_time": "2022-03-20T12:31:29.513Z"
   },
   {
    "duration": 9,
    "start_time": "2022-03-20T12:31:29.523Z"
   },
   {
    "duration": 9,
    "start_time": "2022-03-20T12:31:29.536Z"
   },
   {
    "duration": 23,
    "start_time": "2022-03-20T12:31:29.548Z"
   },
   {
    "duration": 46,
    "start_time": "2022-03-20T12:31:29.573Z"
   },
   {
    "duration": 31,
    "start_time": "2022-03-20T12:31:29.621Z"
   },
   {
    "duration": 11,
    "start_time": "2022-03-20T12:31:29.654Z"
   },
   {
    "duration": 10,
    "start_time": "2022-03-20T12:31:29.667Z"
   },
   {
    "duration": 11,
    "start_time": "2022-03-20T12:31:29.710Z"
   },
   {
    "duration": 9,
    "start_time": "2022-03-20T12:31:29.723Z"
   },
   {
    "duration": 8,
    "start_time": "2022-03-20T12:31:29.734Z"
   },
   {
    "duration": 9,
    "start_time": "2022-03-20T12:31:29.744Z"
   },
   {
    "duration": 10,
    "start_time": "2022-03-20T12:31:29.754Z"
   },
   {
    "duration": 50,
    "start_time": "2022-03-20T12:31:29.766Z"
   },
   {
    "duration": 21,
    "start_time": "2022-03-20T12:31:29.818Z"
   },
   {
    "duration": 27,
    "start_time": "2022-03-20T12:31:29.841Z"
   },
   {
    "duration": 1060,
    "start_time": "2022-03-20T12:31:29.870Z"
   },
   {
    "duration": 16,
    "start_time": "2022-03-20T12:31:30.932Z"
   },
   {
    "duration": 123,
    "start_time": "2022-03-20T12:31:30.950Z"
   },
   {
    "duration": 5,
    "start_time": "2022-03-20T12:31:31.075Z"
   },
   {
    "duration": 30,
    "start_time": "2022-03-20T12:31:31.083Z"
   },
   {
    "duration": 5,
    "start_time": "2022-03-20T12:31:31.115Z"
   },
   {
    "duration": 239,
    "start_time": "2022-03-20T12:31:31.121Z"
   },
   {
    "duration": 21,
    "start_time": "2022-03-20T12:31:31.362Z"
   },
   {
    "duration": 277,
    "start_time": "2022-03-20T12:31:31.384Z"
   },
   {
    "duration": 23,
    "start_time": "2022-03-20T12:31:31.663Z"
   },
   {
    "duration": 275,
    "start_time": "2022-03-20T12:31:31.688Z"
   },
   {
    "duration": 266,
    "start_time": "2022-03-20T12:31:31.965Z"
   },
   {
    "duration": 36,
    "start_time": "2022-03-20T12:31:32.233Z"
   },
   {
    "duration": 275,
    "start_time": "2022-03-20T12:36:04.586Z"
   },
   {
    "duration": 261,
    "start_time": "2022-03-20T12:37:44.337Z"
   },
   {
    "duration": 291,
    "start_time": "2022-03-20T12:37:50.547Z"
   },
   {
    "duration": 14,
    "start_time": "2022-03-20T12:38:09.913Z"
   },
   {
    "duration": 22,
    "start_time": "2022-03-20T12:38:19.532Z"
   },
   {
    "duration": 281,
    "start_time": "2022-03-20T12:40:37.277Z"
   },
   {
    "duration": 281,
    "start_time": "2022-03-20T12:41:16.202Z"
   },
   {
    "duration": 182,
    "start_time": "2022-03-20T12:45:59.920Z"
   },
   {
    "duration": 220,
    "start_time": "2022-03-20T12:47:05.034Z"
   },
   {
    "duration": 102,
    "start_time": "2022-03-20T12:47:56.005Z"
   },
   {
    "duration": 312,
    "start_time": "2022-03-20T12:59:28.003Z"
   },
   {
    "duration": 13,
    "start_time": "2022-03-20T12:59:57.974Z"
   },
   {
    "duration": 18,
    "start_time": "2022-03-20T13:00:22.140Z"
   },
   {
    "duration": 30,
    "start_time": "2022-03-20T13:00:35.505Z"
   },
   {
    "duration": 27,
    "start_time": "2022-03-20T13:01:21.901Z"
   },
   {
    "duration": 205,
    "start_time": "2022-03-20T13:09:44.444Z"
   },
   {
    "duration": 175,
    "start_time": "2022-03-20T13:10:41.054Z"
   },
   {
    "duration": 200,
    "start_time": "2022-03-20T13:11:45.946Z"
   },
   {
    "duration": 199,
    "start_time": "2022-03-20T13:12:08.776Z"
   },
   {
    "duration": 19,
    "start_time": "2022-03-20T13:13:14.507Z"
   },
   {
    "duration": 14,
    "start_time": "2022-03-20T13:14:45.741Z"
   },
   {
    "duration": 13,
    "start_time": "2022-03-20T13:15:02.824Z"
   },
   {
    "duration": 273,
    "start_time": "2022-03-20T13:16:10.148Z"
   },
   {
    "duration": 15,
    "start_time": "2022-03-20T13:16:48.067Z"
   },
   {
    "duration": 276,
    "start_time": "2022-03-20T13:17:04.840Z"
   },
   {
    "duration": 291,
    "start_time": "2022-03-20T13:18:15.310Z"
   },
   {
    "duration": 274,
    "start_time": "2022-03-20T13:18:26.214Z"
   },
   {
    "duration": 14,
    "start_time": "2022-03-20T13:18:34.976Z"
   },
   {
    "duration": 283,
    "start_time": "2022-03-20T13:19:13.721Z"
   },
   {
    "duration": 34,
    "start_time": "2022-03-20T13:19:26.606Z"
   },
   {
    "duration": 21,
    "start_time": "2022-03-20T13:20:59.820Z"
   },
   {
    "duration": 29,
    "start_time": "2022-03-20T13:21:35.611Z"
   },
   {
    "duration": 22,
    "start_time": "2022-03-20T13:21:57.148Z"
   },
   {
    "duration": 268,
    "start_time": "2022-03-20T13:22:49.545Z"
   },
   {
    "duration": 20,
    "start_time": "2022-03-20T13:27:17.542Z"
   },
   {
    "duration": 6,
    "start_time": "2022-03-20T13:46:05.223Z"
   },
   {
    "duration": 7,
    "start_time": "2022-03-20T13:46:30.755Z"
   },
   {
    "duration": 8,
    "start_time": "2022-03-20T13:46:44.853Z"
   },
   {
    "duration": 30,
    "start_time": "2022-03-20T13:46:55.339Z"
   },
   {
    "duration": 1170,
    "start_time": "2022-03-20T13:49:16.617Z"
   },
   {
    "duration": 150,
    "start_time": "2022-03-20T13:49:17.789Z"
   },
   {
    "duration": 6,
    "start_time": "2022-03-20T13:49:17.942Z"
   },
   {
    "duration": 71,
    "start_time": "2022-03-20T13:49:17.950Z"
   },
   {
    "duration": 13,
    "start_time": "2022-03-20T13:49:18.028Z"
   },
   {
    "duration": 719,
    "start_time": "2022-03-20T13:49:18.043Z"
   },
   {
    "duration": 8,
    "start_time": "2022-03-20T13:49:18.763Z"
   },
   {
    "duration": 10,
    "start_time": "2022-03-20T13:49:18.772Z"
   },
   {
    "duration": 38,
    "start_time": "2022-03-20T13:49:18.785Z"
   },
   {
    "duration": 11,
    "start_time": "2022-03-20T13:49:18.826Z"
   },
   {
    "duration": 21,
    "start_time": "2022-03-20T13:49:18.838Z"
   },
   {
    "duration": 10,
    "start_time": "2022-03-20T13:49:18.861Z"
   },
   {
    "duration": 66,
    "start_time": "2022-03-20T13:49:18.873Z"
   },
   {
    "duration": 10,
    "start_time": "2022-03-20T13:49:18.941Z"
   },
   {
    "duration": 8,
    "start_time": "2022-03-20T13:49:18.952Z"
   },
   {
    "duration": 13,
    "start_time": "2022-03-20T13:49:18.962Z"
   },
   {
    "duration": 45,
    "start_time": "2022-03-20T13:49:18.977Z"
   },
   {
    "duration": 9,
    "start_time": "2022-03-20T13:49:19.024Z"
   },
   {
    "duration": 8,
    "start_time": "2022-03-20T13:49:19.035Z"
   },
   {
    "duration": 7,
    "start_time": "2022-03-20T13:49:19.045Z"
   },
   {
    "duration": 8,
    "start_time": "2022-03-20T13:49:19.053Z"
   },
   {
    "duration": 49,
    "start_time": "2022-03-20T13:49:19.063Z"
   },
   {
    "duration": 30,
    "start_time": "2022-03-20T13:49:19.122Z"
   },
   {
    "duration": 1158,
    "start_time": "2022-03-20T13:49:19.153Z"
   },
   {
    "duration": 21,
    "start_time": "2022-03-20T13:49:20.314Z"
   },
   {
    "duration": 122,
    "start_time": "2022-03-20T13:49:20.337Z"
   },
   {
    "duration": 5,
    "start_time": "2022-03-20T13:49:20.462Z"
   },
   {
    "duration": 17,
    "start_time": "2022-03-20T13:49:20.469Z"
   },
   {
    "duration": 29,
    "start_time": "2022-03-20T13:49:20.487Z"
   },
   {
    "duration": 246,
    "start_time": "2022-03-20T13:49:20.519Z"
   },
   {
    "duration": 21,
    "start_time": "2022-03-20T13:49:20.767Z"
   },
   {
    "duration": 296,
    "start_time": "2022-03-20T13:49:20.789Z"
   },
   {
    "duration": 22,
    "start_time": "2022-03-20T13:49:21.087Z"
   },
   {
    "duration": 282,
    "start_time": "2022-03-20T13:49:21.120Z"
   },
   {
    "duration": 32,
    "start_time": "2022-03-20T13:49:21.404Z"
   },
   {
    "duration": 223,
    "start_time": "2022-03-20T13:49:21.437Z"
   },
   {
    "duration": 667,
    "start_time": "2022-03-20T13:49:56.433Z"
   },
   {
    "duration": 729,
    "start_time": "2022-03-20T13:50:30.022Z"
   },
   {
    "duration": 690,
    "start_time": "2022-03-20T13:50:45.621Z"
   },
   {
    "duration": 1169,
    "start_time": "2022-03-20T13:51:00.551Z"
   },
   {
    "duration": 137,
    "start_time": "2022-03-20T13:51:01.724Z"
   },
   {
    "duration": 6,
    "start_time": "2022-03-20T13:51:01.863Z"
   },
   {
    "duration": 71,
    "start_time": "2022-03-20T13:51:01.871Z"
   },
   {
    "duration": 12,
    "start_time": "2022-03-20T13:51:01.944Z"
   },
   {
    "duration": 723,
    "start_time": "2022-03-20T13:51:01.957Z"
   },
   {
    "duration": 8,
    "start_time": "2022-03-20T13:51:02.681Z"
   },
   {
    "duration": 29,
    "start_time": "2022-03-20T13:51:02.691Z"
   },
   {
    "duration": 14,
    "start_time": "2022-03-20T13:51:02.724Z"
   },
   {
    "duration": 8,
    "start_time": "2022-03-20T13:51:02.741Z"
   },
   {
    "duration": 20,
    "start_time": "2022-03-20T13:51:02.751Z"
   },
   {
    "duration": 43,
    "start_time": "2022-03-20T13:51:02.773Z"
   },
   {
    "duration": 32,
    "start_time": "2022-03-20T13:51:02.820Z"
   },
   {
    "duration": 10,
    "start_time": "2022-03-20T13:51:02.854Z"
   },
   {
    "duration": 9,
    "start_time": "2022-03-20T13:51:02.865Z"
   },
   {
    "duration": 41,
    "start_time": "2022-03-20T13:51:02.876Z"
   },
   {
    "duration": 10,
    "start_time": "2022-03-20T13:51:02.920Z"
   },
   {
    "duration": 11,
    "start_time": "2022-03-20T13:51:02.931Z"
   },
   {
    "duration": 8,
    "start_time": "2022-03-20T13:51:02.944Z"
   },
   {
    "duration": 7,
    "start_time": "2022-03-20T13:51:02.953Z"
   },
   {
    "duration": 8,
    "start_time": "2022-03-20T13:51:02.962Z"
   },
   {
    "duration": 61,
    "start_time": "2022-03-20T13:51:02.972Z"
   },
   {
    "duration": 29,
    "start_time": "2022-03-20T13:51:03.036Z"
   },
   {
    "duration": 1120,
    "start_time": "2022-03-20T13:51:03.067Z"
   },
   {
    "duration": 31,
    "start_time": "2022-03-20T13:51:04.189Z"
   },
   {
    "duration": 122,
    "start_time": "2022-03-20T13:51:04.223Z"
   },
   {
    "duration": 5,
    "start_time": "2022-03-20T13:51:04.349Z"
   },
   {
    "duration": 14,
    "start_time": "2022-03-20T13:51:04.356Z"
   },
   {
    "duration": 4,
    "start_time": "2022-03-20T13:51:04.371Z"
   },
   {
    "duration": 273,
    "start_time": "2022-03-20T13:51:04.377Z"
   },
   {
    "duration": 21,
    "start_time": "2022-03-20T13:51:04.652Z"
   },
   {
    "duration": 296,
    "start_time": "2022-03-20T13:51:04.674Z"
   },
   {
    "duration": 11,
    "start_time": "2022-03-20T13:51:04.972Z"
   },
   {
    "duration": 307,
    "start_time": "2022-03-20T13:51:04.985Z"
   },
   {
    "duration": 35,
    "start_time": "2022-03-20T13:51:05.294Z"
   },
   {
    "duration": 213,
    "start_time": "2022-03-20T13:51:05.331Z"
   },
   {
    "duration": 1426,
    "start_time": "2022-03-29T10:36:30.640Z"
   },
   {
    "duration": 153,
    "start_time": "2022-03-29T10:36:32.068Z"
   },
   {
    "duration": 4,
    "start_time": "2022-03-29T10:36:32.223Z"
   },
   {
    "duration": 65,
    "start_time": "2022-03-29T10:36:32.229Z"
   },
   {
    "duration": 12,
    "start_time": "2022-03-29T10:36:32.300Z"
   },
   {
    "duration": 660,
    "start_time": "2022-03-29T10:36:32.314Z"
   },
   {
    "duration": 8,
    "start_time": "2022-03-29T10:36:32.977Z"
   },
   {
    "duration": 20,
    "start_time": "2022-03-29T10:36:32.986Z"
   },
   {
    "duration": 15,
    "start_time": "2022-03-29T10:36:33.008Z"
   },
   {
    "duration": 8,
    "start_time": "2022-03-29T10:36:33.025Z"
   },
   {
    "duration": 21,
    "start_time": "2022-03-29T10:36:33.035Z"
   },
   {
    "duration": 9,
    "start_time": "2022-03-29T10:36:33.058Z"
   },
   {
    "duration": 61,
    "start_time": "2022-03-29T10:36:33.069Z"
   },
   {
    "duration": 10,
    "start_time": "2022-03-29T10:36:33.133Z"
   },
   {
    "duration": 9,
    "start_time": "2022-03-29T10:36:33.145Z"
   },
   {
    "duration": 14,
    "start_time": "2022-03-29T10:36:33.155Z"
   },
   {
    "duration": 36,
    "start_time": "2022-03-29T10:36:33.171Z"
   },
   {
    "duration": 24,
    "start_time": "2022-03-29T10:36:33.208Z"
   },
   {
    "duration": 31,
    "start_time": "2022-03-29T10:36:33.233Z"
   },
   {
    "duration": 28,
    "start_time": "2022-03-29T10:36:33.266Z"
   },
   {
    "duration": 27,
    "start_time": "2022-03-29T10:36:33.295Z"
   },
   {
    "duration": 28,
    "start_time": "2022-03-29T10:36:33.324Z"
   },
   {
    "duration": 21,
    "start_time": "2022-03-29T10:36:33.354Z"
   },
   {
    "duration": 577,
    "start_time": "2022-03-29T10:36:33.377Z"
   },
   {
    "duration": 17,
    "start_time": "2022-03-29T10:36:33.955Z"
   },
   {
    "duration": 52,
    "start_time": "2022-03-29T10:36:33.974Z"
   },
   {
    "duration": 7,
    "start_time": "2022-03-29T10:36:34.028Z"
   },
   {
    "duration": 30,
    "start_time": "2022-03-29T10:36:34.036Z"
   },
   {
    "duration": 15,
    "start_time": "2022-03-29T10:36:34.068Z"
   },
   {
    "duration": 226,
    "start_time": "2022-03-29T10:36:34.085Z"
   },
   {
    "duration": 26,
    "start_time": "2022-03-29T10:36:34.314Z"
   },
   {
    "duration": 380,
    "start_time": "2022-03-29T10:36:34.342Z"
   },
   {
    "duration": 19,
    "start_time": "2022-03-29T10:36:34.724Z"
   },
   {
    "duration": 296,
    "start_time": "2022-03-29T10:36:34.745Z"
   },
   {
    "duration": 29,
    "start_time": "2022-03-29T10:36:35.043Z"
   },
   {
    "duration": 196,
    "start_time": "2022-03-29T10:36:35.074Z"
   },
   {
    "duration": 6,
    "start_time": "2022-03-29T10:54:29.116Z"
   },
   {
    "duration": 6,
    "start_time": "2022-03-29T10:54:44.240Z"
   },
   {
    "duration": 72,
    "start_time": "2022-03-29T12:13:32.477Z"
   },
   {
    "duration": 1814,
    "start_time": "2022-03-29T12:13:42.128Z"
   },
   {
    "duration": 216,
    "start_time": "2022-03-29T12:13:43.945Z"
   },
   {
    "duration": 21,
    "start_time": "2022-03-29T12:13:44.164Z"
   },
   {
    "duration": 139,
    "start_time": "2022-03-29T12:13:44.190Z"
   },
   {
    "duration": 22,
    "start_time": "2022-03-29T12:13:44.332Z"
   },
   {
    "duration": 1016,
    "start_time": "2022-03-29T12:13:44.356Z"
   },
   {
    "duration": 13,
    "start_time": "2022-03-29T12:13:45.384Z"
   },
   {
    "duration": 16,
    "start_time": "2022-03-29T12:13:45.400Z"
   },
   {
    "duration": 21,
    "start_time": "2022-03-29T12:13:45.418Z"
   },
   {
    "duration": 14,
    "start_time": "2022-03-29T12:13:45.443Z"
   },
   {
    "duration": 29,
    "start_time": "2022-03-29T12:13:45.483Z"
   },
   {
    "duration": 13,
    "start_time": "2022-03-29T12:13:45.515Z"
   },
   {
    "duration": 77,
    "start_time": "2022-03-29T12:13:45.530Z"
   },
   {
    "duration": 14,
    "start_time": "2022-03-29T12:13:45.609Z"
   },
   {
    "duration": 12,
    "start_time": "2022-03-29T12:13:45.625Z"
   },
   {
    "duration": 45,
    "start_time": "2022-03-29T12:13:45.640Z"
   },
   {
    "duration": 12,
    "start_time": "2022-03-29T12:13:45.688Z"
   },
   {
    "duration": 15,
    "start_time": "2022-03-29T12:13:45.703Z"
   },
   {
    "duration": 16,
    "start_time": "2022-03-29T12:13:45.722Z"
   },
   {
    "duration": 48,
    "start_time": "2022-03-29T12:13:45.740Z"
   },
   {
    "duration": 13,
    "start_time": "2022-03-29T12:13:45.791Z"
   },
   {
    "duration": 39,
    "start_time": "2022-03-29T12:13:45.806Z"
   },
   {
    "duration": 77,
    "start_time": "2022-03-29T12:13:45.848Z"
   },
   {
    "duration": 1116,
    "start_time": "2022-03-29T12:13:45.928Z"
   },
   {
    "duration": 44,
    "start_time": "2022-03-29T12:13:47.047Z"
   },
   {
    "duration": 71,
    "start_time": "2022-03-29T12:13:47.093Z"
   },
   {
    "duration": 22,
    "start_time": "2022-03-29T12:13:47.166Z"
   },
   {
    "duration": 22,
    "start_time": "2022-03-29T12:13:47.193Z"
   },
   {
    "duration": 6,
    "start_time": "2022-03-29T12:13:47.217Z"
   },
   {
    "duration": 422,
    "start_time": "2022-03-29T12:13:47.226Z"
   },
   {
    "duration": 48,
    "start_time": "2022-03-29T12:13:47.650Z"
   },
   {
    "duration": 460,
    "start_time": "2022-03-29T12:13:47.701Z"
   },
   {
    "duration": 7,
    "start_time": "2022-03-29T12:13:48.163Z"
   },
   {
    "duration": 23,
    "start_time": "2022-03-29T12:13:48.184Z"
   },
   {
    "duration": 342,
    "start_time": "2022-03-29T12:13:48.211Z"
   },
   {
    "duration": 54,
    "start_time": "2022-03-29T12:13:48.556Z"
   },
   {
    "duration": 241,
    "start_time": "2022-03-29T12:13:48.612Z"
   },
   {
    "duration": 6,
    "start_time": "2022-03-29T12:13:58.992Z"
   },
   {
    "duration": 34,
    "start_time": "2022-03-29T12:15:44.507Z"
   },
   {
    "duration": 1502,
    "start_time": "2022-03-29T12:49:40.327Z"
   },
   {
    "duration": 171,
    "start_time": "2022-03-29T12:49:41.832Z"
   },
   {
    "duration": 8,
    "start_time": "2022-03-29T12:49:42.005Z"
   },
   {
    "duration": 88,
    "start_time": "2022-03-29T12:49:42.016Z"
   },
   {
    "duration": 19,
    "start_time": "2022-03-29T12:49:42.106Z"
   },
   {
    "duration": 840,
    "start_time": "2022-03-29T12:49:42.127Z"
   },
   {
    "duration": 19,
    "start_time": "2022-03-29T12:49:42.969Z"
   },
   {
    "duration": 25,
    "start_time": "2022-03-29T12:49:42.990Z"
   },
   {
    "duration": 12,
    "start_time": "2022-03-29T12:49:43.017Z"
   },
   {
    "duration": 15,
    "start_time": "2022-03-29T12:49:43.033Z"
   },
   {
    "duration": 55,
    "start_time": "2022-03-29T12:49:43.050Z"
   },
   {
    "duration": 14,
    "start_time": "2022-03-29T12:49:43.107Z"
   },
   {
    "duration": 74,
    "start_time": "2022-03-29T12:49:43.123Z"
   },
   {
    "duration": 14,
    "start_time": "2022-03-29T12:49:43.199Z"
   },
   {
    "duration": 26,
    "start_time": "2022-03-29T12:49:43.216Z"
   },
   {
    "duration": 30,
    "start_time": "2022-03-29T12:49:43.244Z"
   },
   {
    "duration": 17,
    "start_time": "2022-03-29T12:49:43.277Z"
   },
   {
    "duration": 21,
    "start_time": "2022-03-29T12:49:43.296Z"
   },
   {
    "duration": 13,
    "start_time": "2022-03-29T12:49:43.319Z"
   },
   {
    "duration": 23,
    "start_time": "2022-03-29T12:49:43.335Z"
   },
   {
    "duration": 34,
    "start_time": "2022-03-29T12:49:43.361Z"
   },
   {
    "duration": 62,
    "start_time": "2022-03-29T12:49:43.397Z"
   },
   {
    "duration": 39,
    "start_time": "2022-03-29T12:49:43.461Z"
   },
   {
    "duration": 1027,
    "start_time": "2022-03-29T12:49:43.502Z"
   },
   {
    "duration": 27,
    "start_time": "2022-03-29T12:49:44.533Z"
   },
   {
    "duration": 59,
    "start_time": "2022-03-29T12:49:44.583Z"
   },
   {
    "duration": 9,
    "start_time": "2022-03-29T12:49:44.645Z"
   },
   {
    "duration": 23,
    "start_time": "2022-03-29T12:49:44.684Z"
   },
   {
    "duration": 7,
    "start_time": "2022-03-29T12:49:44.710Z"
   },
   {
    "duration": 310,
    "start_time": "2022-03-29T12:49:44.720Z"
   },
   {
    "duration": 31,
    "start_time": "2022-03-29T12:49:45.032Z"
   },
   {
    "duration": 436,
    "start_time": "2022-03-29T12:49:45.065Z"
   },
   {
    "duration": 22,
    "start_time": "2022-03-29T12:49:45.503Z"
   },
   {
    "duration": 336,
    "start_time": "2022-03-29T12:49:45.527Z"
   },
   {
    "duration": 43,
    "start_time": "2022-03-29T12:49:45.865Z"
   },
   {
    "duration": 248,
    "start_time": "2022-03-29T12:49:45.910Z"
   },
   {
    "duration": 73,
    "start_time": "2022-03-30T19:29:02.892Z"
   },
   {
    "duration": 2614,
    "start_time": "2022-03-30T19:29:42.173Z"
   },
   {
    "duration": 172,
    "start_time": "2022-03-30T19:29:44.792Z"
   },
   {
    "duration": 16,
    "start_time": "2022-03-30T19:29:44.966Z"
   },
   {
    "duration": 11,
    "start_time": "2022-03-30T19:29:44.986Z"
   },
   {
    "duration": 99,
    "start_time": "2022-03-30T19:29:45.000Z"
   },
   {
    "duration": 21,
    "start_time": "2022-03-30T19:29:45.102Z"
   },
   {
    "duration": 1265,
    "start_time": "2022-03-30T19:29:45.125Z"
   },
   {
    "duration": 11,
    "start_time": "2022-03-30T19:29:46.393Z"
   },
   {
    "duration": 16,
    "start_time": "2022-03-30T19:29:46.407Z"
   },
   {
    "duration": 18,
    "start_time": "2022-03-30T19:29:46.429Z"
   },
   {
    "duration": 43,
    "start_time": "2022-03-30T19:29:46.450Z"
   },
   {
    "duration": 41,
    "start_time": "2022-03-30T19:29:46.496Z"
   },
   {
    "duration": 45,
    "start_time": "2022-03-30T19:29:46.540Z"
   },
   {
    "duration": 47,
    "start_time": "2022-03-30T19:29:46.588Z"
   },
   {
    "duration": 14,
    "start_time": "2022-03-30T19:29:46.638Z"
   },
   {
    "duration": 11,
    "start_time": "2022-03-30T19:29:46.685Z"
   },
   {
    "duration": 15,
    "start_time": "2022-03-30T19:29:46.699Z"
   },
   {
    "duration": 12,
    "start_time": "2022-03-30T19:29:46.717Z"
   },
   {
    "duration": 64,
    "start_time": "2022-03-30T19:29:46.732Z"
   },
   {
    "duration": 17,
    "start_time": "2022-03-30T19:29:46.799Z"
   },
   {
    "duration": 19,
    "start_time": "2022-03-30T19:29:46.818Z"
   },
   {
    "duration": 34,
    "start_time": "2022-03-30T19:29:46.839Z"
   },
   {
    "duration": 35,
    "start_time": "2022-03-30T19:29:46.883Z"
   },
   {
    "duration": 36,
    "start_time": "2022-03-30T19:29:46.921Z"
   },
   {
    "duration": 1195,
    "start_time": "2022-03-30T19:29:46.983Z"
   },
   {
    "duration": 26,
    "start_time": "2022-03-30T19:29:48.184Z"
   },
   {
    "duration": 79,
    "start_time": "2022-03-30T19:29:48.212Z"
   },
   {
    "duration": 7,
    "start_time": "2022-03-30T19:29:48.296Z"
   },
   {
    "duration": 32,
    "start_time": "2022-03-30T19:29:48.306Z"
   },
   {
    "duration": 6,
    "start_time": "2022-03-30T19:29:48.341Z"
   },
   {
    "duration": 340,
    "start_time": "2022-03-30T19:29:48.350Z"
   },
   {
    "duration": 32,
    "start_time": "2022-03-30T19:29:48.692Z"
   },
   {
    "duration": 437,
    "start_time": "2022-03-30T19:29:48.727Z"
   },
   {
    "duration": 51,
    "start_time": "2022-03-30T19:29:49.167Z"
   },
   {
    "duration": 342,
    "start_time": "2022-03-30T19:29:49.221Z"
   },
   {
    "duration": 46,
    "start_time": "2022-03-30T19:29:49.566Z"
   },
   {
    "duration": 257,
    "start_time": "2022-03-30T19:29:49.614Z"
   },
   {
    "duration": 21,
    "start_time": "2022-03-30T19:30:54.685Z"
   },
   {
    "duration": 30,
    "start_time": "2022-03-30T19:31:43.017Z"
   },
   {
    "duration": 186,
    "start_time": "2022-03-30T19:32:44.204Z"
   },
   {
    "duration": 35,
    "start_time": "2022-03-30T19:33:20.745Z"
   },
   {
    "duration": 146,
    "start_time": "2022-03-30T19:36:00.034Z"
   },
   {
    "duration": 62,
    "start_time": "2022-03-30T19:37:22.250Z"
   },
   {
    "duration": 8,
    "start_time": "2022-03-30T19:44:45.487Z"
   },
   {
    "duration": 27,
    "start_time": "2022-03-30T20:07:08.770Z"
   },
   {
    "duration": 1694,
    "start_time": "2022-03-30T20:07:31.462Z"
   },
   {
    "duration": 154,
    "start_time": "2022-03-30T20:07:33.159Z"
   },
   {
    "duration": 79,
    "start_time": "2022-03-30T20:07:33.316Z"
   },
   {
    "duration": 8,
    "start_time": "2022-03-30T20:07:33.397Z"
   },
   {
    "duration": 107,
    "start_time": "2022-03-30T20:07:33.408Z"
   },
   {
    "duration": 20,
    "start_time": "2022-03-30T20:07:33.518Z"
   },
   {
    "duration": 1118,
    "start_time": "2022-03-30T20:07:33.542Z"
   },
   {
    "duration": 4,
    "start_time": "2022-03-30T20:07:34.662Z"
   },
   {
    "duration": 27,
    "start_time": "2022-03-30T20:07:34.668Z"
   },
   {
    "duration": 17,
    "start_time": "2022-03-30T20:07:34.698Z"
   },
   {
    "duration": 18,
    "start_time": "2022-03-30T20:07:34.717Z"
   },
   {
    "duration": 60,
    "start_time": "2022-03-30T20:07:34.738Z"
   },
   {
    "duration": 18,
    "start_time": "2022-03-30T20:07:34.801Z"
   },
   {
    "duration": 84,
    "start_time": "2022-03-30T20:07:34.826Z"
   },
   {
    "duration": 17,
    "start_time": "2022-03-30T20:07:34.913Z"
   },
   {
    "duration": 15,
    "start_time": "2022-03-30T20:07:34.933Z"
   },
   {
    "duration": 42,
    "start_time": "2022-03-30T20:07:34.950Z"
   },
   {
    "duration": 16,
    "start_time": "2022-03-30T20:07:34.995Z"
   },
   {
    "duration": 25,
    "start_time": "2022-03-30T20:07:35.013Z"
   },
   {
    "duration": 53,
    "start_time": "2022-03-30T20:07:35.040Z"
   },
   {
    "duration": 15,
    "start_time": "2022-03-30T20:07:35.099Z"
   },
   {
    "duration": 19,
    "start_time": "2022-03-30T20:07:35.117Z"
   },
   {
    "duration": 11,
    "start_time": "2022-03-30T20:07:35.138Z"
   },
   {
    "duration": 51,
    "start_time": "2022-03-30T20:07:35.151Z"
   },
   {
    "duration": 54,
    "start_time": "2022-03-30T20:07:35.205Z"
   },
   {
    "duration": 1088,
    "start_time": "2022-03-30T20:07:35.262Z"
   },
   {
    "duration": 196,
    "start_time": "2022-03-30T20:07:36.352Z"
   },
   {
    "duration": 41,
    "start_time": "2022-03-30T20:07:36.551Z"
   },
   {
    "duration": 69,
    "start_time": "2022-03-30T20:07:36.594Z"
   },
   {
    "duration": 10,
    "start_time": "2022-03-30T20:07:36.685Z"
   },
   {
    "duration": 33,
    "start_time": "2022-03-30T20:07:36.700Z"
   },
   {
    "duration": 10,
    "start_time": "2022-03-30T20:07:36.735Z"
   },
   {
    "duration": 387,
    "start_time": "2022-03-30T20:07:36.748Z"
   },
   {
    "duration": 31,
    "start_time": "2022-03-30T20:07:37.137Z"
   },
   {
    "duration": 335,
    "start_time": "2022-03-30T20:07:37.192Z"
   },
   {
    "duration": 35,
    "start_time": "2022-03-30T20:07:37.531Z"
   },
   {
    "duration": 345,
    "start_time": "2022-03-30T20:07:37.589Z"
   },
   {
    "duration": 52,
    "start_time": "2022-03-30T20:07:37.936Z"
   },
   {
    "duration": 270,
    "start_time": "2022-03-30T20:07:37.991Z"
   },
   {
    "duration": 212,
    "start_time": "2022-03-30T20:10:58.101Z"
   },
   {
    "duration": 284,
    "start_time": "2022-03-30T20:11:23.095Z"
   },
   {
    "duration": 232,
    "start_time": "2022-03-30T20:12:40.447Z"
   },
   {
    "duration": 181,
    "start_time": "2022-03-30T20:12:57.669Z"
   },
   {
    "duration": 219,
    "start_time": "2022-03-30T20:15:30.098Z"
   },
   {
    "duration": 219,
    "start_time": "2022-03-30T20:16:02.412Z"
   },
   {
    "duration": 215,
    "start_time": "2022-03-30T20:16:47.924Z"
   },
   {
    "duration": 340,
    "start_time": "2022-03-30T20:16:56.621Z"
   },
   {
    "duration": 222,
    "start_time": "2022-03-30T20:17:07.873Z"
   },
   {
    "duration": 214,
    "start_time": "2022-03-30T20:17:20.728Z"
   },
   {
    "duration": 408,
    "start_time": "2022-03-30T20:18:23.793Z"
   },
   {
    "duration": 370,
    "start_time": "2022-03-30T20:19:08.955Z"
   },
   {
    "duration": 187,
    "start_time": "2022-03-30T20:19:19.365Z"
   },
   {
    "duration": 244,
    "start_time": "2022-03-30T20:19:45.702Z"
   },
   {
    "duration": 244,
    "start_time": "2022-03-30T20:21:09.998Z"
   },
   {
    "duration": 653,
    "start_time": "2022-03-30T20:22:36.320Z"
   },
   {
    "duration": 2971,
    "start_time": "2022-03-30T20:22:58.928Z"
   },
   {
    "duration": 850,
    "start_time": "2022-03-30T20:23:09.321Z"
   },
   {
    "duration": 534,
    "start_time": "2022-03-30T20:23:17.000Z"
   },
   {
    "duration": 512,
    "start_time": "2022-03-30T20:23:43.611Z"
   },
   {
    "duration": 734,
    "start_time": "2022-03-30T20:23:53.931Z"
   },
   {
    "duration": 604,
    "start_time": "2022-03-30T20:24:09.864Z"
   },
   {
    "duration": 558,
    "start_time": "2022-03-30T20:24:21.066Z"
   },
   {
    "duration": 535,
    "start_time": "2022-03-30T20:24:31.552Z"
   },
   {
    "duration": 516,
    "start_time": "2022-03-30T20:24:50.243Z"
   },
   {
    "duration": 534,
    "start_time": "2022-03-30T20:24:55.797Z"
   },
   {
    "duration": 646,
    "start_time": "2022-03-30T20:25:00.632Z"
   },
   {
    "duration": 607,
    "start_time": "2022-03-30T20:25:04.797Z"
   },
   {
    "duration": 503,
    "start_time": "2022-03-30T20:25:14.663Z"
   },
   {
    "duration": 501,
    "start_time": "2022-03-30T20:25:22.463Z"
   },
   {
    "duration": 505,
    "start_time": "2022-03-30T20:25:30.352Z"
   },
   {
    "duration": 724,
    "start_time": "2022-03-30T20:25:44.288Z"
   },
   {
    "duration": 759,
    "start_time": "2022-03-30T20:26:39.850Z"
   },
   {
    "duration": 504,
    "start_time": "2022-03-30T20:26:47.783Z"
   },
   {
    "duration": 8,
    "start_time": "2022-03-30T20:27:24.790Z"
   },
   {
    "duration": 12,
    "start_time": "2022-03-30T20:28:06.175Z"
   },
   {
    "duration": 28,
    "start_time": "2022-03-30T20:28:13.810Z"
   },
   {
    "duration": 30,
    "start_time": "2022-03-30T20:30:10.812Z"
   },
   {
    "duration": 67,
    "start_time": "2022-03-30T20:31:06.239Z"
   },
   {
    "duration": 95,
    "start_time": "2022-03-30T20:31:17.521Z"
   },
   {
    "duration": 33,
    "start_time": "2022-03-30T20:31:36.452Z"
   },
   {
    "duration": 232,
    "start_time": "2022-03-30T20:33:43.097Z"
   },
   {
    "duration": 504,
    "start_time": "2022-03-30T20:36:43.103Z"
   },
   {
    "duration": 513,
    "start_time": "2022-03-30T20:36:54.802Z"
   },
   {
    "duration": 655,
    "start_time": "2022-03-30T20:36:58.643Z"
   },
   {
    "duration": 21,
    "start_time": "2022-03-30T20:38:41.409Z"
   },
   {
    "duration": 55,
    "start_time": "2022-03-30T20:39:05.199Z"
   },
   {
    "duration": 13,
    "start_time": "2022-03-30T20:39:23.936Z"
   },
   {
    "duration": 14,
    "start_time": "2022-03-30T20:39:41.531Z"
   },
   {
    "duration": 14,
    "start_time": "2022-03-30T20:39:55.511Z"
   },
   {
    "duration": 15,
    "start_time": "2022-03-30T20:39:59.080Z"
   },
   {
    "duration": 15,
    "start_time": "2022-03-30T20:40:27.582Z"
   },
   {
    "duration": 15,
    "start_time": "2022-03-30T20:40:33.089Z"
   },
   {
    "duration": 14,
    "start_time": "2022-03-30T20:40:38.823Z"
   },
   {
    "duration": 479,
    "start_time": "2022-03-30T20:43:18.182Z"
   },
   {
    "duration": 466,
    "start_time": "2022-03-30T20:43:31.965Z"
   },
   {
    "duration": 48,
    "start_time": "2022-03-30T20:47:18.321Z"
   },
   {
    "duration": 47,
    "start_time": "2022-03-30T20:47:53.211Z"
   },
   {
    "duration": 63,
    "start_time": "2022-03-30T20:48:20.499Z"
   },
   {
    "duration": 6,
    "start_time": "2022-03-30T20:51:52.897Z"
   },
   {
    "duration": 35,
    "start_time": "2022-03-30T20:52:16.556Z"
   },
   {
    "duration": 38,
    "start_time": "2022-03-30T20:53:03.045Z"
   },
   {
    "duration": 320,
    "start_time": "2022-03-30T20:54:01.020Z"
   },
   {
    "duration": 319,
    "start_time": "2022-03-30T20:56:30.841Z"
   },
   {
    "duration": 320,
    "start_time": "2022-03-30T20:57:28.923Z"
   },
   {
    "duration": 307,
    "start_time": "2022-03-30T20:57:34.580Z"
   },
   {
    "duration": 163,
    "start_time": "2022-03-30T20:57:43.805Z"
   },
   {
    "duration": 328,
    "start_time": "2022-03-30T20:57:47.074Z"
   },
   {
    "duration": 469,
    "start_time": "2022-03-30T20:57:58.872Z"
   },
   {
    "duration": 325,
    "start_time": "2022-03-30T20:58:06.184Z"
   },
   {
    "duration": 317,
    "start_time": "2022-03-30T21:02:25.216Z"
   },
   {
    "duration": 296,
    "start_time": "2022-03-30T21:02:35.202Z"
   },
   {
    "duration": 293,
    "start_time": "2022-03-30T21:02:39.445Z"
   },
   {
    "duration": 247,
    "start_time": "2022-03-30T21:03:23.440Z"
   },
   {
    "duration": 329,
    "start_time": "2022-03-30T21:04:07.466Z"
   },
   {
    "duration": 344,
    "start_time": "2022-03-30T21:04:33.404Z"
   },
   {
    "duration": 348,
    "start_time": "2022-03-30T21:05:41.353Z"
   },
   {
    "duration": 350,
    "start_time": "2022-03-30T21:06:03.555Z"
   },
   {
    "duration": 396,
    "start_time": "2022-03-30T21:06:08.835Z"
   },
   {
    "duration": 472,
    "start_time": "2022-03-30T21:06:16.515Z"
   },
   {
    "duration": 373,
    "start_time": "2022-03-30T21:06:23.595Z"
   },
   {
    "duration": 320,
    "start_time": "2022-03-30T21:08:07.802Z"
   },
   {
    "duration": 328,
    "start_time": "2022-03-30T21:08:11.807Z"
   },
   {
    "duration": 311,
    "start_time": "2022-03-30T21:08:18.048Z"
   },
   {
    "duration": 325,
    "start_time": "2022-03-30T21:08:21.767Z"
   },
   {
    "duration": 435,
    "start_time": "2022-03-30T21:08:47.194Z"
   },
   {
    "duration": 322,
    "start_time": "2022-03-30T21:08:57.199Z"
   },
   {
    "duration": 313,
    "start_time": "2022-03-30T21:09:01.294Z"
   },
   {
    "duration": 336,
    "start_time": "2022-03-30T21:09:04.818Z"
   },
   {
    "duration": 321,
    "start_time": "2022-03-30T21:09:11.418Z"
   },
   {
    "duration": 448,
    "start_time": "2022-03-30T21:09:18.212Z"
   },
   {
    "duration": 25,
    "start_time": "2022-03-30T21:10:51.081Z"
   },
   {
    "duration": 251,
    "start_time": "2022-03-30T21:12:26.656Z"
   },
   {
    "duration": 331,
    "start_time": "2022-03-30T21:29:49.459Z"
   },
   {
    "duration": 270,
    "start_time": "2022-03-30T21:32:25.786Z"
   },
   {
    "duration": 251,
    "start_time": "2022-03-30T21:32:40.501Z"
   },
   {
    "duration": 422,
    "start_time": "2022-03-30T21:32:55.637Z"
   },
   {
    "duration": 267,
    "start_time": "2022-03-30T21:33:21.036Z"
   },
   {
    "duration": 259,
    "start_time": "2022-03-30T21:33:49.189Z"
   },
   {
    "duration": 253,
    "start_time": "2022-03-30T21:33:56.226Z"
   },
   {
    "duration": 264,
    "start_time": "2022-03-30T21:34:07.503Z"
   },
   {
    "duration": 281,
    "start_time": "2022-03-30T21:34:13.008Z"
   },
   {
    "duration": 685,
    "start_time": "2022-03-30T21:48:05.647Z"
   },
   {
    "duration": 38,
    "start_time": "2022-03-30T21:48:26.904Z"
   },
   {
    "duration": 649,
    "start_time": "2022-03-30T21:48:47.919Z"
   },
   {
    "duration": 565,
    "start_time": "2022-03-30T21:48:56.695Z"
   },
   {
    "duration": 730,
    "start_time": "2022-03-30T21:49:08.228Z"
   },
   {
    "duration": 562,
    "start_time": "2022-03-30T21:49:19.897Z"
   },
   {
    "duration": 606,
    "start_time": "2022-03-30T21:50:08.799Z"
   },
   {
    "duration": 14,
    "start_time": "2022-03-30T21:51:05.966Z"
   },
   {
    "duration": 617,
    "start_time": "2022-03-30T21:51:45.868Z"
   },
   {
    "duration": 672,
    "start_time": "2022-03-30T21:52:33.764Z"
   },
   {
    "duration": 538,
    "start_time": "2022-03-30T21:52:43.754Z"
   },
   {
    "duration": 536,
    "start_time": "2022-03-30T21:52:49.049Z"
   },
   {
    "duration": 621,
    "start_time": "2022-03-30T21:52:57.525Z"
   },
   {
    "duration": 648,
    "start_time": "2022-03-30T21:54:30.046Z"
   },
   {
    "duration": 518,
    "start_time": "2022-03-30T21:54:39.137Z"
   },
   {
    "duration": 512,
    "start_time": "2022-03-30T21:55:26.704Z"
   },
   {
    "duration": 638,
    "start_time": "2022-03-30T21:55:33.199Z"
   },
   {
    "duration": 516,
    "start_time": "2022-03-30T21:56:03.018Z"
   },
   {
    "duration": 528,
    "start_time": "2022-03-30T21:56:13.566Z"
   },
   {
    "duration": 505,
    "start_time": "2022-03-30T21:56:26.916Z"
   },
   {
    "duration": 660,
    "start_time": "2022-03-30T21:56:42.889Z"
   },
   {
    "duration": 542,
    "start_time": "2022-03-30T21:56:47.180Z"
   },
   {
    "duration": 525,
    "start_time": "2022-03-30T21:57:01.295Z"
   },
   {
    "duration": 535,
    "start_time": "2022-03-30T21:57:18.680Z"
   },
   {
    "duration": 1045,
    "start_time": "2022-03-30T21:58:05.510Z"
   },
   {
    "duration": 888,
    "start_time": "2022-03-30T21:58:15.696Z"
   },
   {
    "duration": 1161,
    "start_time": "2022-03-30T21:58:26.180Z"
   },
   {
    "duration": 899,
    "start_time": "2022-03-30T21:59:28.026Z"
   },
   {
    "duration": 1232,
    "start_time": "2022-03-30T21:59:43.778Z"
   },
   {
    "duration": 1007,
    "start_time": "2022-03-30T21:59:51.821Z"
   },
   {
    "duration": 24,
    "start_time": "2022-03-30T22:00:21.430Z"
   },
   {
    "duration": 43,
    "start_time": "2022-03-30T22:00:25.402Z"
   },
   {
    "duration": 39,
    "start_time": "2022-03-30T22:00:43.614Z"
   },
   {
    "duration": 548,
    "start_time": "2022-03-30T22:01:31.315Z"
   },
   {
    "duration": 1551,
    "start_time": "2022-03-30T22:06:15.175Z"
   },
   {
    "duration": 147,
    "start_time": "2022-03-30T22:06:16.730Z"
   },
   {
    "duration": 64,
    "start_time": "2022-03-30T22:06:16.879Z"
   },
   {
    "duration": 7,
    "start_time": "2022-03-30T22:06:16.946Z"
   },
   {
    "duration": 87,
    "start_time": "2022-03-30T22:06:16.955Z"
   },
   {
    "duration": 17,
    "start_time": "2022-03-30T22:06:17.044Z"
   },
   {
    "duration": 847,
    "start_time": "2022-03-30T22:06:17.064Z"
   },
   {
    "duration": 4,
    "start_time": "2022-03-30T22:06:17.913Z"
   },
   {
    "duration": 12,
    "start_time": "2022-03-30T22:06:17.919Z"
   },
   {
    "duration": 12,
    "start_time": "2022-03-30T22:06:17.935Z"
   },
   {
    "duration": 36,
    "start_time": "2022-03-30T22:06:17.949Z"
   },
   {
    "duration": 31,
    "start_time": "2022-03-30T22:06:17.988Z"
   },
   {
    "duration": 16,
    "start_time": "2022-03-30T22:06:18.022Z"
   },
   {
    "duration": 85,
    "start_time": "2022-03-30T22:06:18.041Z"
   },
   {
    "duration": 19,
    "start_time": "2022-03-30T22:06:18.129Z"
   },
   {
    "duration": 37,
    "start_time": "2022-03-30T22:06:18.151Z"
   },
   {
    "duration": 18,
    "start_time": "2022-03-30T22:06:18.191Z"
   },
   {
    "duration": 15,
    "start_time": "2022-03-30T22:06:18.212Z"
   },
   {
    "duration": 24,
    "start_time": "2022-03-30T22:06:18.229Z"
   },
   {
    "duration": 37,
    "start_time": "2022-03-30T22:06:18.255Z"
   },
   {
    "duration": 33,
    "start_time": "2022-03-30T22:06:18.295Z"
   },
   {
    "duration": 24,
    "start_time": "2022-03-30T22:06:18.331Z"
   },
   {
    "duration": 16,
    "start_time": "2022-03-30T22:06:18.358Z"
   },
   {
    "duration": 44,
    "start_time": "2022-03-30T22:06:18.377Z"
   },
   {
    "duration": 37,
    "start_time": "2022-03-30T22:06:18.423Z"
   },
   {
    "duration": 1116,
    "start_time": "2022-03-30T22:06:18.462Z"
   },
   {
    "duration": 409,
    "start_time": "2022-03-30T22:06:19.583Z"
   },
   {
    "duration": 728,
    "start_time": "2022-03-30T22:06:19.998Z"
   },
   {
    "duration": 28,
    "start_time": "2022-03-30T22:06:20.728Z"
   },
   {
    "duration": 32,
    "start_time": "2022-03-30T22:06:20.758Z"
   },
   {
    "duration": 32,
    "start_time": "2022-03-30T22:06:20.792Z"
   },
   {
    "duration": 74,
    "start_time": "2022-03-30T22:06:20.826Z"
   },
   {
    "duration": 82,
    "start_time": "2022-03-30T22:06:20.902Z"
   },
   {
    "duration": 39,
    "start_time": "2022-03-30T22:06:20.987Z"
   },
   {
    "duration": 23,
    "start_time": "2022-03-30T22:06:21.028Z"
   },
   {
    "duration": 12,
    "start_time": "2022-03-30T22:06:21.053Z"
   },
   {
    "duration": 273,
    "start_time": "2022-03-30T22:06:21.083Z"
   },
   {
    "duration": 44,
    "start_time": "2022-03-30T22:06:21.358Z"
   },
   {
    "duration": 321,
    "start_time": "2022-03-30T22:06:21.404Z"
   },
   {
    "duration": 375,
    "start_time": "2022-03-30T22:06:21.727Z"
   },
   {
    "duration": 21,
    "start_time": "2022-03-30T22:06:22.105Z"
   },
   {
    "duration": 283,
    "start_time": "2022-03-30T22:06:22.128Z"
   },
   {
    "duration": 300,
    "start_time": "2022-03-30T22:06:22.413Z"
   },
   {
    "duration": 36,
    "start_time": "2022-03-30T22:06:22.715Z"
   },
   {
    "duration": 267,
    "start_time": "2022-03-30T22:06:22.753Z"
   },
   {
    "duration": 1316,
    "start_time": "2022-03-31T06:58:30.653Z"
   },
   {
    "duration": 131,
    "start_time": "2022-03-31T06:58:31.971Z"
   },
   {
    "duration": 35,
    "start_time": "2022-03-31T06:58:32.104Z"
   },
   {
    "duration": 4,
    "start_time": "2022-03-31T06:58:32.141Z"
   },
   {
    "duration": 61,
    "start_time": "2022-03-31T06:58:32.146Z"
   },
   {
    "duration": 11,
    "start_time": "2022-03-31T06:58:32.208Z"
   },
   {
    "duration": 626,
    "start_time": "2022-03-31T06:58:32.220Z"
   },
   {
    "duration": 3,
    "start_time": "2022-03-31T06:58:32.848Z"
   },
   {
    "duration": 9,
    "start_time": "2022-03-31T06:58:32.852Z"
   },
   {
    "duration": 16,
    "start_time": "2022-03-31T06:58:32.863Z"
   },
   {
    "duration": 21,
    "start_time": "2022-03-31T06:58:32.880Z"
   },
   {
    "duration": 19,
    "start_time": "2022-03-31T06:58:32.902Z"
   },
   {
    "duration": 8,
    "start_time": "2022-03-31T06:58:32.923Z"
   },
   {
    "duration": 25,
    "start_time": "2022-03-31T06:58:32.934Z"
   },
   {
    "duration": 8,
    "start_time": "2022-03-31T06:58:32.960Z"
   },
   {
    "duration": 34,
    "start_time": "2022-03-31T06:58:32.970Z"
   },
   {
    "duration": 8,
    "start_time": "2022-03-31T06:58:33.005Z"
   },
   {
    "duration": 17,
    "start_time": "2022-03-31T06:58:33.014Z"
   },
   {
    "duration": 12,
    "start_time": "2022-03-31T06:58:33.033Z"
   },
   {
    "duration": 13,
    "start_time": "2022-03-31T06:58:33.046Z"
   },
   {
    "duration": 20,
    "start_time": "2022-03-31T06:58:33.061Z"
   },
   {
    "duration": 19,
    "start_time": "2022-03-31T06:58:33.083Z"
   },
   {
    "duration": 15,
    "start_time": "2022-03-31T06:58:33.104Z"
   },
   {
    "duration": 31,
    "start_time": "2022-03-31T06:58:33.121Z"
   },
   {
    "duration": 24,
    "start_time": "2022-03-31T06:58:33.153Z"
   },
   {
    "duration": 554,
    "start_time": "2022-03-31T06:58:33.179Z"
   },
   {
    "duration": 240,
    "start_time": "2022-03-31T06:58:33.735Z"
   },
   {
    "duration": 369,
    "start_time": "2022-03-31T06:58:33.977Z"
   },
   {
    "duration": 17,
    "start_time": "2022-03-31T06:58:34.348Z"
   },
   {
    "duration": 17,
    "start_time": "2022-03-31T06:58:34.366Z"
   },
   {
    "duration": 27,
    "start_time": "2022-03-31T06:58:34.385Z"
   },
   {
    "duration": 33,
    "start_time": "2022-03-31T06:58:34.413Z"
   },
   {
    "duration": 5,
    "start_time": "2022-03-31T06:58:34.448Z"
   },
   {
    "duration": 17,
    "start_time": "2022-03-31T06:58:34.454Z"
   },
   {
    "duration": 39,
    "start_time": "2022-03-31T06:58:34.472Z"
   },
   {
    "duration": 4,
    "start_time": "2022-03-31T06:58:34.513Z"
   },
   {
    "duration": 162,
    "start_time": "2022-03-31T06:58:34.519Z"
   },
   {
    "duration": 29,
    "start_time": "2022-03-31T06:58:34.683Z"
   },
   {
    "duration": 193,
    "start_time": "2022-03-31T06:58:34.714Z"
   },
   {
    "duration": 252,
    "start_time": "2022-03-31T06:58:34.910Z"
   },
   {
    "duration": 13,
    "start_time": "2022-03-31T06:58:35.166Z"
   },
   {
    "duration": 161,
    "start_time": "2022-03-31T06:58:35.181Z"
   },
   {
    "duration": 155,
    "start_time": "2022-03-31T06:58:35.344Z"
   },
   {
    "duration": 22,
    "start_time": "2022-03-31T06:58:35.500Z"
   },
   {
    "duration": 151,
    "start_time": "2022-03-31T06:58:35.524Z"
   },
   {
    "duration": 9,
    "start_time": "2022-03-31T06:59:01.989Z"
   },
   {
    "duration": 109,
    "start_time": "2022-03-31T07:04:42.512Z"
   },
   {
    "duration": 22,
    "start_time": "2022-03-31T07:05:01.518Z"
   },
   {
    "duration": 22,
    "start_time": "2022-03-31T07:05:28.754Z"
   },
   {
    "duration": 1185,
    "start_time": "2022-03-31T07:50:00.604Z"
   },
   {
    "duration": 133,
    "start_time": "2022-03-31T07:50:01.791Z"
   },
   {
    "duration": 40,
    "start_time": "2022-03-31T07:50:01.925Z"
   },
   {
    "duration": 4,
    "start_time": "2022-03-31T07:50:01.967Z"
   },
   {
    "duration": 57,
    "start_time": "2022-03-31T07:50:01.973Z"
   },
   {
    "duration": 11,
    "start_time": "2022-03-31T07:50:02.032Z"
   },
   {
    "duration": 578,
    "start_time": "2022-03-31T07:50:02.045Z"
   },
   {
    "duration": 3,
    "start_time": "2022-03-31T07:50:02.624Z"
   },
   {
    "duration": 5,
    "start_time": "2022-03-31T07:50:02.628Z"
   },
   {
    "duration": 10,
    "start_time": "2022-03-31T07:50:02.636Z"
   },
   {
    "duration": 7,
    "start_time": "2022-03-31T07:50:02.647Z"
   },
   {
    "duration": 20,
    "start_time": "2022-03-31T07:50:02.655Z"
   },
   {
    "duration": 10,
    "start_time": "2022-03-31T07:50:02.701Z"
   },
   {
    "duration": 28,
    "start_time": "2022-03-31T07:50:02.713Z"
   },
   {
    "duration": 9,
    "start_time": "2022-03-31T07:50:02.742Z"
   },
   {
    "duration": 8,
    "start_time": "2022-03-31T07:50:02.752Z"
   },
   {
    "duration": 41,
    "start_time": "2022-03-31T07:50:02.761Z"
   },
   {
    "duration": 7,
    "start_time": "2022-03-31T07:50:02.804Z"
   },
   {
    "duration": 10,
    "start_time": "2022-03-31T07:50:02.812Z"
   },
   {
    "duration": 10,
    "start_time": "2022-03-31T07:50:02.823Z"
   },
   {
    "duration": 8,
    "start_time": "2022-03-31T07:50:02.834Z"
   },
   {
    "duration": 12,
    "start_time": "2022-03-31T07:50:02.843Z"
   },
   {
    "duration": 10,
    "start_time": "2022-03-31T07:50:02.857Z"
   },
   {
    "duration": 44,
    "start_time": "2022-03-31T07:50:02.868Z"
   },
   {
    "duration": 24,
    "start_time": "2022-03-31T07:50:02.914Z"
   },
   {
    "duration": 564,
    "start_time": "2022-03-31T07:50:02.939Z"
   },
   {
    "duration": 220,
    "start_time": "2022-03-31T07:50:03.505Z"
   },
   {
    "duration": 365,
    "start_time": "2022-03-31T07:50:03.728Z"
   },
   {
    "duration": 20,
    "start_time": "2022-03-31T07:50:04.095Z"
   },
   {
    "duration": 16,
    "start_time": "2022-03-31T07:50:04.117Z"
   },
   {
    "duration": 27,
    "start_time": "2022-03-31T07:50:04.135Z"
   },
   {
    "duration": 38,
    "start_time": "2022-03-31T07:50:04.164Z"
   },
   {
    "duration": 6,
    "start_time": "2022-03-31T07:50:04.204Z"
   },
   {
    "duration": 26,
    "start_time": "2022-03-31T07:50:04.212Z"
   },
   {
    "duration": 15,
    "start_time": "2022-03-31T07:50:04.240Z"
   },
   {
    "duration": 10,
    "start_time": "2022-03-31T07:50:04.257Z"
   },
   {
    "duration": 181,
    "start_time": "2022-03-31T07:50:04.268Z"
   },
   {
    "duration": 22,
    "start_time": "2022-03-31T07:50:04.451Z"
   },
   {
    "duration": 199,
    "start_time": "2022-03-31T07:50:04.475Z"
   },
   {
    "duration": 226,
    "start_time": "2022-03-31T07:50:04.676Z"
   },
   {
    "duration": 16,
    "start_time": "2022-03-31T07:50:04.904Z"
   },
   {
    "duration": 164,
    "start_time": "2022-03-31T07:50:04.922Z"
   },
   {
    "duration": 164,
    "start_time": "2022-03-31T07:50:05.088Z"
   },
   {
    "duration": 23,
    "start_time": "2022-03-31T07:50:05.254Z"
   },
   {
    "duration": 161,
    "start_time": "2022-03-31T07:50:05.278Z"
   }
  ],
  "colab": {
   "name": "DA+. Сборный проект 1. Шаблон (1).ipynb",
   "provenance": []
  },
  "kernelspec": {
   "display_name": "Python 3 (ipykernel)",
   "language": "python",
   "name": "python3"
  },
  "language_info": {
   "codemirror_mode": {
    "name": "ipython",
    "version": 3
   },
   "file_extension": ".py",
   "mimetype": "text/x-python",
   "name": "python",
   "nbconvert_exporter": "python",
   "pygments_lexer": "ipython3",
   "version": "3.9.7"
  },
  "toc": {
   "base_numbering": 1,
   "nav_menu": {
    "height": "202px",
    "width": "438px"
   },
   "number_sections": true,
   "sideBar": true,
   "skip_h1_title": true,
   "title_cell": "Table of Contents",
   "title_sidebar": "Contents",
   "toc_cell": false,
   "toc_position": {
    "height": "calc(100% - 180px)",
    "left": "10px",
    "top": "150px",
    "width": "375.391px"
   },
   "toc_section_display": true,
   "toc_window_display": false
  }
 },
 "nbformat": 4,
 "nbformat_minor": 1
}
