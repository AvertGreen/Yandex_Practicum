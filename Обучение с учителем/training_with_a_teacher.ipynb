{
 "cells": [
  {
   "cell_type": "markdown",
   "metadata": {
    "toc": true
   },
   "source": [
    "<h1>Содержание<span class=\"tocSkip\"></span></h1>\n",
    "<div class=\"toc\"><ul class=\"toc-item\"><li><span><a href=\"#Подготовка-данных\" data-toc-modified-id=\"Подготовка-данных-1\"><span class=\"toc-item-num\">1&nbsp;&nbsp;</span>Подготовка данных</a></span></li><li><span><a href=\"#Исследование-задачи\" data-toc-modified-id=\"Исследование-задачи-2\"><span class=\"toc-item-num\">2&nbsp;&nbsp;</span>Исследование задачи</a></span></li><li><span><a href=\"#Борьба-с-дисбалансом\" data-toc-modified-id=\"Борьба-с-дисбалансом-3\"><span class=\"toc-item-num\">3&nbsp;&nbsp;</span>Борьба с дисбалансом</a></span></li><li><span><a href=\"#Тестирование-модели\" data-toc-modified-id=\"Тестирование-модели-4\"><span class=\"toc-item-num\">4&nbsp;&nbsp;</span>Тестирование модели</a></span></li><li><span><a href=\"#Чек-лист-готовности-проекта\" data-toc-modified-id=\"Чек-лист-готовности-проекта-5\"><span class=\"toc-item-num\">5&nbsp;&nbsp;</span>Чек-лист готовности проекта</a></span></li></ul></div>"
   ]
  },
  {
   "cell_type": "markdown",
   "metadata": {},
   "source": [
    "# Отток клиентов"
   ]
  },
  {
   "cell_type": "markdown",
   "metadata": {},
   "source": [
    "Из «Бета-Банка» стали уходить клиенты. Каждый месяц. Немного, но заметно. Банковские маркетологи посчитали: сохранять текущих клиентов дешевле, чем привлекать новых.\n",
    "\n",
    "Нужно спрогнозировать, уйдёт клиент из банка в ближайшее время или нет. Вам предоставлены исторические данные о поведении клиентов и расторжении договоров с банком. \n",
    "\n",
    "Постройте модель с предельно большим значением *F1*-меры. Чтобы сдать проект успешно, нужно довести метрику до 0.59. Проверьте *F1*-меру на тестовой выборке самостоятельно.\n",
    "\n",
    "Дополнительно измеряйте *AUC-ROC*, сравнивайте её значение с *F1*-мерой.\n",
    "\n",
    "Источник данных: [https://www.kaggle.com/barelydedicated/bank-customer-churn-modeling](https://www.kaggle.com/barelydedicated/bank-customer-churn-modeling)"
   ]
  },
  {
   "cell_type": "markdown",
   "metadata": {},
   "source": [
    "## Подготовка данных"
   ]
  },
  {
   "cell_type": "code",
   "execution_count": 1,
   "metadata": {},
   "outputs": [],
   "source": [
    "# импортируем необходимые библиотеки\n",
    "import pandas as pd\n",
    "import numpy as np\n",
    "import matplotlib.pyplot as plt\n",
    "from sklearn.preprocessing import StandardScaler\n",
    "from sklearn.model_selection import train_test_split\n",
    "from sklearn.tree import DecisionTreeClassifier\n",
    "from sklearn.linear_model import LogisticRegression\n",
    "from sklearn.ensemble import RandomForestClassifier\n",
    "from sklearn.metrics import accuracy_score, f1_score, roc_auc_score, r2_score, precision_score, recall_score, precision_recall_curve, roc_curve\n",
    "from sklearn.utils import shuffle"
   ]
  },
  {
   "cell_type": "code",
   "execution_count": 2,
   "metadata": {},
   "outputs": [],
   "source": [
    "# фильтр предупреждений\n",
    "import warnings \n",
    "warnings.filterwarnings('ignore')"
   ]
  },
  {
   "cell_type": "code",
   "execution_count": 3,
   "metadata": {
    "scrolled": false
   },
   "outputs": [
    {
     "name": "stdout",
     "output_type": "stream",
     "text": [
      "<class 'pandas.core.frame.DataFrame'>\n",
      "RangeIndex: 10000 entries, 0 to 9999\n",
      "Data columns (total 14 columns):\n",
      " #   Column           Non-Null Count  Dtype  \n",
      "---  ------           --------------  -----  \n",
      " 0   RowNumber        10000 non-null  int64  \n",
      " 1   CustomerId       10000 non-null  int64  \n",
      " 2   Surname          10000 non-null  object \n",
      " 3   CreditScore      10000 non-null  int64  \n",
      " 4   Geography        10000 non-null  object \n",
      " 5   Gender           10000 non-null  object \n",
      " 6   Age              10000 non-null  int64  \n",
      " 7   Tenure           9091 non-null   float64\n",
      " 8   Balance          10000 non-null  float64\n",
      " 9   NumOfProducts    10000 non-null  int64  \n",
      " 10  HasCrCard        10000 non-null  int64  \n",
      " 11  IsActiveMember   10000 non-null  int64  \n",
      " 12  EstimatedSalary  10000 non-null  float64\n",
      " 13  Exited           10000 non-null  int64  \n",
      "dtypes: float64(3), int64(8), object(3)\n",
      "memory usage: 1.1+ MB\n"
     ]
    },
    {
     "data": {
      "text/html": [
       "<div>\n",
       "<style scoped>\n",
       "    .dataframe tbody tr th:only-of-type {\n",
       "        vertical-align: middle;\n",
       "    }\n",
       "\n",
       "    .dataframe tbody tr th {\n",
       "        vertical-align: top;\n",
       "    }\n",
       "\n",
       "    .dataframe thead th {\n",
       "        text-align: right;\n",
       "    }\n",
       "</style>\n",
       "<table border=\"1\" class=\"dataframe\">\n",
       "  <thead>\n",
       "    <tr style=\"text-align: right;\">\n",
       "      <th></th>\n",
       "      <th>RowNumber</th>\n",
       "      <th>CustomerId</th>\n",
       "      <th>Surname</th>\n",
       "      <th>CreditScore</th>\n",
       "      <th>Geography</th>\n",
       "      <th>Gender</th>\n",
       "      <th>Age</th>\n",
       "      <th>Tenure</th>\n",
       "      <th>Balance</th>\n",
       "      <th>NumOfProducts</th>\n",
       "      <th>HasCrCard</th>\n",
       "      <th>IsActiveMember</th>\n",
       "      <th>EstimatedSalary</th>\n",
       "      <th>Exited</th>\n",
       "    </tr>\n",
       "  </thead>\n",
       "  <tbody>\n",
       "    <tr>\n",
       "      <th>8019</th>\n",
       "      <td>8020</td>\n",
       "      <td>15771154</td>\n",
       "      <td>North</td>\n",
       "      <td>683</td>\n",
       "      <td>France</td>\n",
       "      <td>Female</td>\n",
       "      <td>73</td>\n",
       "      <td>8.0</td>\n",
       "      <td>137732.23</td>\n",
       "      <td>2</td>\n",
       "      <td>1</td>\n",
       "      <td>1</td>\n",
       "      <td>133210.44</td>\n",
       "      <td>0</td>\n",
       "    </tr>\n",
       "    <tr>\n",
       "      <th>2322</th>\n",
       "      <td>2323</td>\n",
       "      <td>15709928</td>\n",
       "      <td>Niu</td>\n",
       "      <td>567</td>\n",
       "      <td>Spain</td>\n",
       "      <td>Female</td>\n",
       "      <td>41</td>\n",
       "      <td>1.0</td>\n",
       "      <td>0.00</td>\n",
       "      <td>2</td>\n",
       "      <td>1</td>\n",
       "      <td>0</td>\n",
       "      <td>3414.72</td>\n",
       "      <td>0</td>\n",
       "    </tr>\n",
       "    <tr>\n",
       "      <th>5804</th>\n",
       "      <td>5805</td>\n",
       "      <td>15663933</td>\n",
       "      <td>Jamieson</td>\n",
       "      <td>625</td>\n",
       "      <td>Germany</td>\n",
       "      <td>Female</td>\n",
       "      <td>35</td>\n",
       "      <td>5.0</td>\n",
       "      <td>86147.46</td>\n",
       "      <td>2</td>\n",
       "      <td>1</td>\n",
       "      <td>0</td>\n",
       "      <td>163440.80</td>\n",
       "      <td>1</td>\n",
       "    </tr>\n",
       "    <tr>\n",
       "      <th>2093</th>\n",
       "      <td>2094</td>\n",
       "      <td>15806132</td>\n",
       "      <td>Martin</td>\n",
       "      <td>555</td>\n",
       "      <td>France</td>\n",
       "      <td>Male</td>\n",
       "      <td>55</td>\n",
       "      <td>4.0</td>\n",
       "      <td>146798.81</td>\n",
       "      <td>1</td>\n",
       "      <td>1</td>\n",
       "      <td>1</td>\n",
       "      <td>74149.77</td>\n",
       "      <td>0</td>\n",
       "    </tr>\n",
       "    <tr>\n",
       "      <th>4781</th>\n",
       "      <td>4782</td>\n",
       "      <td>15804131</td>\n",
       "      <td>Farmer</td>\n",
       "      <td>850</td>\n",
       "      <td>Spain</td>\n",
       "      <td>Female</td>\n",
       "      <td>53</td>\n",
       "      <td>7.0</td>\n",
       "      <td>65407.16</td>\n",
       "      <td>2</td>\n",
       "      <td>0</td>\n",
       "      <td>0</td>\n",
       "      <td>182633.63</td>\n",
       "      <td>1</td>\n",
       "    </tr>\n",
       "  </tbody>\n",
       "</table>\n",
       "</div>"
      ],
      "text/plain": [
       "      RowNumber  CustomerId   Surname  CreditScore Geography  Gender  Age  \\\n",
       "8019       8020    15771154     North          683    France  Female   73   \n",
       "2322       2323    15709928       Niu          567     Spain  Female   41   \n",
       "5804       5805    15663933  Jamieson          625   Germany  Female   35   \n",
       "2093       2094    15806132    Martin          555    France    Male   55   \n",
       "4781       4782    15804131    Farmer          850     Spain  Female   53   \n",
       "\n",
       "      Tenure    Balance  NumOfProducts  HasCrCard  IsActiveMember  \\\n",
       "8019     8.0  137732.23              2          1               1   \n",
       "2322     1.0       0.00              2          1               0   \n",
       "5804     5.0   86147.46              2          1               0   \n",
       "2093     4.0  146798.81              1          1               1   \n",
       "4781     7.0   65407.16              2          0               0   \n",
       "\n",
       "      EstimatedSalary  Exited  \n",
       "8019        133210.44       0  \n",
       "2322          3414.72       0  \n",
       "5804        163440.80       1  \n",
       "2093         74149.77       0  \n",
       "4781        182633.63       1  "
      ]
     },
     "execution_count": 3,
     "metadata": {},
     "output_type": "execute_result"
    }
   ],
   "source": [
    "# загрузим файл с данными\n",
    "try:\n",
    "    df = pd.read_csv('/datasets/Churn.csv')\n",
    "except:\n",
    "    df = pd.read_csv('/Users/alex/Desktop/Яндекс_Практикум/Проекты/Обучение_с_учителем/Churn.csv')\n",
    "\n",
    "df.info()\n",
    "df.sample(5)"
   ]
  },
  {
   "cell_type": "markdown",
   "metadata": {},
   "source": [
    "Данные представляют из себя следующие признаки:\n",
    "*  количественные:\n",
    "** `CreditScore` — кредитный рейтинг\n",
    "** `Age` — возраст\n",
    "** `Tenure` — сколько лет человек является клиентом банка\n",
    "** `Balance` — баланс на счёте\n",
    "** `NumOfProducts` — количество продуктов банка, используемых клиентом\n",
    "** `EstimatedSalary` — предполагаемая зарплата   \n",
    "\n",
    "\n",
    "* категориальные:\n",
    "** `RowNumber` — индекс строки в данных\n",
    "** `CustomerId` — уникальный идентификатор клиента\n",
    "** `Surname` — фамилия\n",
    "** `Geography` — страна проживания\n",
    "** `Gender` — пол\n",
    "** `HasCrCard` — наличие кредитной карты\n",
    "** `IsActiveMember` — активность клиента\n",
    "** `Exited` — факт ухода клиента (**целевой**)"
   ]
  },
  {
   "cell_type": "markdown",
   "metadata": {},
   "source": [
    "Удалим признаки `RowNumber`, `CustomerId` и `Surname`, т.к. они не несут в себе необходимой информации для дальнейшей обработки данных."
   ]
  },
  {
   "cell_type": "code",
   "execution_count": 4,
   "metadata": {
    "scrolled": true
   },
   "outputs": [
    {
     "data": {
      "text/html": [
       "<div>\n",
       "<style scoped>\n",
       "    .dataframe tbody tr th:only-of-type {\n",
       "        vertical-align: middle;\n",
       "    }\n",
       "\n",
       "    .dataframe tbody tr th {\n",
       "        vertical-align: top;\n",
       "    }\n",
       "\n",
       "    .dataframe thead th {\n",
       "        text-align: right;\n",
       "    }\n",
       "</style>\n",
       "<table border=\"1\" class=\"dataframe\">\n",
       "  <thead>\n",
       "    <tr style=\"text-align: right;\">\n",
       "      <th></th>\n",
       "      <th>CreditScore</th>\n",
       "      <th>Geography</th>\n",
       "      <th>Gender</th>\n",
       "      <th>Age</th>\n",
       "      <th>Tenure</th>\n",
       "      <th>Balance</th>\n",
       "      <th>NumOfProducts</th>\n",
       "      <th>HasCrCard</th>\n",
       "      <th>IsActiveMember</th>\n",
       "      <th>EstimatedSalary</th>\n",
       "      <th>Exited</th>\n",
       "    </tr>\n",
       "  </thead>\n",
       "  <tbody>\n",
       "    <tr>\n",
       "      <th>3380</th>\n",
       "      <td>604</td>\n",
       "      <td>Spain</td>\n",
       "      <td>Female</td>\n",
       "      <td>26</td>\n",
       "      <td>3.0</td>\n",
       "      <td>0.0</td>\n",
       "      <td>2</td>\n",
       "      <td>1</td>\n",
       "      <td>0</td>\n",
       "      <td>155248.62</td>\n",
       "      <td>0</td>\n",
       "    </tr>\n",
       "  </tbody>\n",
       "</table>\n",
       "</div>"
      ],
      "text/plain": [
       "      CreditScore Geography  Gender  Age  Tenure  Balance  NumOfProducts  \\\n",
       "3380          604     Spain  Female   26     3.0      0.0              2   \n",
       "\n",
       "      HasCrCard  IsActiveMember  EstimatedSalary  Exited  \n",
       "3380          1               0        155248.62       0  "
      ]
     },
     "execution_count": 4,
     "metadata": {},
     "output_type": "execute_result"
    }
   ],
   "source": [
    "# удалим признаки RowNumber, CustomerId и Surname\n",
    "df = df.drop(['RowNumber', 'CustomerId', 'Surname'], axis=1)\n",
    "df.sample()"
   ]
  },
  {
   "cell_type": "code",
   "execution_count": 5,
   "metadata": {
    "scrolled": true
   },
   "outputs": [
    {
     "data": {
      "text/html": [
       "<div>\n",
       "<style scoped>\n",
       "    .dataframe tbody tr th:only-of-type {\n",
       "        vertical-align: middle;\n",
       "    }\n",
       "\n",
       "    .dataframe tbody tr th {\n",
       "        vertical-align: top;\n",
       "    }\n",
       "\n",
       "    .dataframe thead th {\n",
       "        text-align: right;\n",
       "    }\n",
       "</style>\n",
       "<table border=\"1\" class=\"dataframe\">\n",
       "  <thead>\n",
       "    <tr style=\"text-align: right;\">\n",
       "      <th></th>\n",
       "      <th>CreditScore</th>\n",
       "      <th>Age</th>\n",
       "      <th>Tenure</th>\n",
       "      <th>Balance</th>\n",
       "      <th>NumOfProducts</th>\n",
       "      <th>HasCrCard</th>\n",
       "      <th>IsActiveMember</th>\n",
       "      <th>EstimatedSalary</th>\n",
       "      <th>Exited</th>\n",
       "    </tr>\n",
       "  </thead>\n",
       "  <tbody>\n",
       "    <tr>\n",
       "      <th>count</th>\n",
       "      <td>10000.000000</td>\n",
       "      <td>10000.000000</td>\n",
       "      <td>9091.000000</td>\n",
       "      <td>10000.000000</td>\n",
       "      <td>10000.000000</td>\n",
       "      <td>10000.00000</td>\n",
       "      <td>10000.000000</td>\n",
       "      <td>10000.000000</td>\n",
       "      <td>10000.000000</td>\n",
       "    </tr>\n",
       "    <tr>\n",
       "      <th>mean</th>\n",
       "      <td>650.528800</td>\n",
       "      <td>38.921800</td>\n",
       "      <td>4.997690</td>\n",
       "      <td>76485.889288</td>\n",
       "      <td>1.530200</td>\n",
       "      <td>0.70550</td>\n",
       "      <td>0.515100</td>\n",
       "      <td>100090.239881</td>\n",
       "      <td>0.203700</td>\n",
       "    </tr>\n",
       "    <tr>\n",
       "      <th>std</th>\n",
       "      <td>96.653299</td>\n",
       "      <td>10.487806</td>\n",
       "      <td>2.894723</td>\n",
       "      <td>62397.405202</td>\n",
       "      <td>0.581654</td>\n",
       "      <td>0.45584</td>\n",
       "      <td>0.499797</td>\n",
       "      <td>57510.492818</td>\n",
       "      <td>0.402769</td>\n",
       "    </tr>\n",
       "    <tr>\n",
       "      <th>min</th>\n",
       "      <td>350.000000</td>\n",
       "      <td>18.000000</td>\n",
       "      <td>0.000000</td>\n",
       "      <td>0.000000</td>\n",
       "      <td>1.000000</td>\n",
       "      <td>0.00000</td>\n",
       "      <td>0.000000</td>\n",
       "      <td>11.580000</td>\n",
       "      <td>0.000000</td>\n",
       "    </tr>\n",
       "    <tr>\n",
       "      <th>25%</th>\n",
       "      <td>584.000000</td>\n",
       "      <td>32.000000</td>\n",
       "      <td>2.000000</td>\n",
       "      <td>0.000000</td>\n",
       "      <td>1.000000</td>\n",
       "      <td>0.00000</td>\n",
       "      <td>0.000000</td>\n",
       "      <td>51002.110000</td>\n",
       "      <td>0.000000</td>\n",
       "    </tr>\n",
       "    <tr>\n",
       "      <th>50%</th>\n",
       "      <td>652.000000</td>\n",
       "      <td>37.000000</td>\n",
       "      <td>5.000000</td>\n",
       "      <td>97198.540000</td>\n",
       "      <td>1.000000</td>\n",
       "      <td>1.00000</td>\n",
       "      <td>1.000000</td>\n",
       "      <td>100193.915000</td>\n",
       "      <td>0.000000</td>\n",
       "    </tr>\n",
       "    <tr>\n",
       "      <th>75%</th>\n",
       "      <td>718.000000</td>\n",
       "      <td>44.000000</td>\n",
       "      <td>7.000000</td>\n",
       "      <td>127644.240000</td>\n",
       "      <td>2.000000</td>\n",
       "      <td>1.00000</td>\n",
       "      <td>1.000000</td>\n",
       "      <td>149388.247500</td>\n",
       "      <td>0.000000</td>\n",
       "    </tr>\n",
       "    <tr>\n",
       "      <th>max</th>\n",
       "      <td>850.000000</td>\n",
       "      <td>92.000000</td>\n",
       "      <td>10.000000</td>\n",
       "      <td>250898.090000</td>\n",
       "      <td>4.000000</td>\n",
       "      <td>1.00000</td>\n",
       "      <td>1.000000</td>\n",
       "      <td>199992.480000</td>\n",
       "      <td>1.000000</td>\n",
       "    </tr>\n",
       "  </tbody>\n",
       "</table>\n",
       "</div>"
      ],
      "text/plain": [
       "        CreditScore           Age       Tenure        Balance  NumOfProducts  \\\n",
       "count  10000.000000  10000.000000  9091.000000   10000.000000   10000.000000   \n",
       "mean     650.528800     38.921800     4.997690   76485.889288       1.530200   \n",
       "std       96.653299     10.487806     2.894723   62397.405202       0.581654   \n",
       "min      350.000000     18.000000     0.000000       0.000000       1.000000   \n",
       "25%      584.000000     32.000000     2.000000       0.000000       1.000000   \n",
       "50%      652.000000     37.000000     5.000000   97198.540000       1.000000   \n",
       "75%      718.000000     44.000000     7.000000  127644.240000       2.000000   \n",
       "max      850.000000     92.000000    10.000000  250898.090000       4.000000   \n",
       "\n",
       "         HasCrCard  IsActiveMember  EstimatedSalary        Exited  \n",
       "count  10000.00000    10000.000000     10000.000000  10000.000000  \n",
       "mean       0.70550        0.515100    100090.239881      0.203700  \n",
       "std        0.45584        0.499797     57510.492818      0.402769  \n",
       "min        0.00000        0.000000        11.580000      0.000000  \n",
       "25%        0.00000        0.000000     51002.110000      0.000000  \n",
       "50%        1.00000        1.000000    100193.915000      0.000000  \n",
       "75%        1.00000        1.000000    149388.247500      0.000000  \n",
       "max        1.00000        1.000000    199992.480000      1.000000  "
      ]
     },
     "execution_count": 5,
     "metadata": {},
     "output_type": "execute_result"
    }
   ],
   "source": [
    "# описательные статистики\n",
    "df.describe()"
   ]
  },
  {
   "cell_type": "markdown",
   "metadata": {},
   "source": [
    "Количественные признаки имеют достаточно большой разброс и масштаб."
   ]
  },
  {
   "cell_type": "code",
   "execution_count": 6,
   "metadata": {},
   "outputs": [
    {
     "name": "stdout",
     "output_type": "stream",
     "text": [
      "Количество дубликатов: 0\n"
     ]
    }
   ],
   "source": [
    "# проверим дубликаты\n",
    "print(f\"Количество дубликатов: {df.duplicated().sum()}\")"
   ]
  },
  {
   "cell_type": "code",
   "execution_count": 7,
   "metadata": {},
   "outputs": [
    {
     "name": "stdout",
     "output_type": "stream",
     "text": [
      "Количество пропусков Tenure:  909\n",
      "Процент пропусков Tenure: 9.09%\n"
     ]
    }
   ],
   "source": [
    "# процент и количество пропущенных значений в столбце Tenure\n",
    "print(f\"Количество пропусков Tenure:  {df['Tenure'].isnull().sum()}\")\n",
    "print(f\"Процент пропусков Tenure: {np.mean(df['Tenure'].isnull()):.2%}\")"
   ]
  },
  {
   "cell_type": "markdown",
   "metadata": {},
   "source": [
    "Пропуски могут повлиять на качество модели. Можно заполнить пропуски средним значением, медианой или модой, но это может привести к переобучению, поэтому заполним пропуски и сделаем признак категориальным."
   ]
  },
  {
   "cell_type": "code",
   "execution_count": 8,
   "metadata": {
    "scrolled": false
   },
   "outputs": [
    {
     "name": "stdout",
     "output_type": "stream",
     "text": [
      "<class 'pandas.core.frame.DataFrame'>\n",
      "RangeIndex: 10000 entries, 0 to 9999\n",
      "Data columns (total 11 columns):\n",
      " #   Column           Non-Null Count  Dtype  \n",
      "---  ------           --------------  -----  \n",
      " 0   CreditScore      10000 non-null  int64  \n",
      " 1   Geography        10000 non-null  object \n",
      " 2   Gender           10000 non-null  object \n",
      " 3   Age              10000 non-null  int64  \n",
      " 4   Tenure           10000 non-null  object \n",
      " 5   Balance          10000 non-null  float64\n",
      " 6   NumOfProducts    10000 non-null  int64  \n",
      " 7   HasCrCard        10000 non-null  int64  \n",
      " 8   IsActiveMember   10000 non-null  int64  \n",
      " 9   EstimatedSalary  10000 non-null  float64\n",
      " 10  Exited           10000 non-null  int64  \n",
      "dtypes: float64(2), int64(6), object(3)\n",
      "memory usage: 859.5+ KB\n"
     ]
    },
    {
     "data": {
      "text/html": [
       "<div>\n",
       "<style scoped>\n",
       "    .dataframe tbody tr th:only-of-type {\n",
       "        vertical-align: middle;\n",
       "    }\n",
       "\n",
       "    .dataframe tbody tr th {\n",
       "        vertical-align: top;\n",
       "    }\n",
       "\n",
       "    .dataframe thead th {\n",
       "        text-align: right;\n",
       "    }\n",
       "</style>\n",
       "<table border=\"1\" class=\"dataframe\">\n",
       "  <thead>\n",
       "    <tr style=\"text-align: right;\">\n",
       "      <th></th>\n",
       "      <th>CreditScore</th>\n",
       "      <th>Geography</th>\n",
       "      <th>Gender</th>\n",
       "      <th>Age</th>\n",
       "      <th>Tenure</th>\n",
       "      <th>Balance</th>\n",
       "      <th>NumOfProducts</th>\n",
       "      <th>HasCrCard</th>\n",
       "      <th>IsActiveMember</th>\n",
       "      <th>EstimatedSalary</th>\n",
       "      <th>Exited</th>\n",
       "    </tr>\n",
       "  </thead>\n",
       "  <tbody>\n",
       "    <tr>\n",
       "      <th>3387</th>\n",
       "      <td>537</td>\n",
       "      <td>Germany</td>\n",
       "      <td>Male</td>\n",
       "      <td>84</td>\n",
       "      <td>8.0</td>\n",
       "      <td>92242.34</td>\n",
       "      <td>1</td>\n",
       "      <td>1</td>\n",
       "      <td>1</td>\n",
       "      <td>186235.98</td>\n",
       "      <td>0</td>\n",
       "    </tr>\n",
       "  </tbody>\n",
       "</table>\n",
       "</div>"
      ],
      "text/plain": [
       "      CreditScore Geography Gender  Age Tenure   Balance  NumOfProducts  \\\n",
       "3387          537   Germany   Male   84    8.0  92242.34              1   \n",
       "\n",
       "      HasCrCard  IsActiveMember  EstimatedSalary  Exited  \n",
       "3387          1               1        186235.98       0  "
      ]
     },
     "execution_count": 8,
     "metadata": {},
     "output_type": "execute_result"
    }
   ],
   "source": [
    "# заполним пропуски на -1, тип данных - object\n",
    "df['Tenure'] = df['Tenure'].fillna(-1)\n",
    "df['Tenure'] = df['Tenure'].astype('object')\n",
    "df.info()\n",
    "df.sample()"
   ]
  },
  {
   "cell_type": "markdown",
   "metadata": {},
   "source": [
    "Преобразуем категориальные признаки в числовые методом прямого кодирования (One-Hot Encoding), для избежания дамми-ловушки, используем аргумент `drop_first`."
   ]
  },
  {
   "cell_type": "code",
   "execution_count": 9,
   "metadata": {},
   "outputs": [
    {
     "data": {
      "text/html": [
       "<div>\n",
       "<style scoped>\n",
       "    .dataframe tbody tr th:only-of-type {\n",
       "        vertical-align: middle;\n",
       "    }\n",
       "\n",
       "    .dataframe tbody tr th {\n",
       "        vertical-align: top;\n",
       "    }\n",
       "\n",
       "    .dataframe thead th {\n",
       "        text-align: right;\n",
       "    }\n",
       "</style>\n",
       "<table border=\"1\" class=\"dataframe\">\n",
       "  <thead>\n",
       "    <tr style=\"text-align: right;\">\n",
       "      <th></th>\n",
       "      <th>CreditScore</th>\n",
       "      <th>Age</th>\n",
       "      <th>Balance</th>\n",
       "      <th>NumOfProducts</th>\n",
       "      <th>HasCrCard</th>\n",
       "      <th>IsActiveMember</th>\n",
       "      <th>EstimatedSalary</th>\n",
       "      <th>Exited</th>\n",
       "      <th>Geography_Germany</th>\n",
       "      <th>Geography_Spain</th>\n",
       "      <th>...</th>\n",
       "      <th>Tenure_1.0</th>\n",
       "      <th>Tenure_2.0</th>\n",
       "      <th>Tenure_3.0</th>\n",
       "      <th>Tenure_4.0</th>\n",
       "      <th>Tenure_5.0</th>\n",
       "      <th>Tenure_6.0</th>\n",
       "      <th>Tenure_7.0</th>\n",
       "      <th>Tenure_8.0</th>\n",
       "      <th>Tenure_9.0</th>\n",
       "      <th>Tenure_10.0</th>\n",
       "    </tr>\n",
       "  </thead>\n",
       "  <tbody>\n",
       "    <tr>\n",
       "      <th>7139</th>\n",
       "      <td>806</td>\n",
       "      <td>67</td>\n",
       "      <td>0.00</td>\n",
       "      <td>2</td>\n",
       "      <td>0</td>\n",
       "      <td>1</td>\n",
       "      <td>103945.58</td>\n",
       "      <td>0</td>\n",
       "      <td>0</td>\n",
       "      <td>0</td>\n",
       "      <td>...</td>\n",
       "      <td>1</td>\n",
       "      <td>0</td>\n",
       "      <td>0</td>\n",
       "      <td>0</td>\n",
       "      <td>0</td>\n",
       "      <td>0</td>\n",
       "      <td>0</td>\n",
       "      <td>0</td>\n",
       "      <td>0</td>\n",
       "      <td>0</td>\n",
       "    </tr>\n",
       "    <tr>\n",
       "      <th>7240</th>\n",
       "      <td>600</td>\n",
       "      <td>32</td>\n",
       "      <td>98877.95</td>\n",
       "      <td>1</td>\n",
       "      <td>1</td>\n",
       "      <td>0</td>\n",
       "      <td>132973.21</td>\n",
       "      <td>0</td>\n",
       "      <td>0</td>\n",
       "      <td>0</td>\n",
       "      <td>...</td>\n",
       "      <td>0</td>\n",
       "      <td>0</td>\n",
       "      <td>0</td>\n",
       "      <td>0</td>\n",
       "      <td>0</td>\n",
       "      <td>0</td>\n",
       "      <td>1</td>\n",
       "      <td>0</td>\n",
       "      <td>0</td>\n",
       "      <td>0</td>\n",
       "    </tr>\n",
       "    <tr>\n",
       "      <th>3841</th>\n",
       "      <td>653</td>\n",
       "      <td>60</td>\n",
       "      <td>120731.39</td>\n",
       "      <td>4</td>\n",
       "      <td>1</td>\n",
       "      <td>1</td>\n",
       "      <td>138160.11</td>\n",
       "      <td>1</td>\n",
       "      <td>0</td>\n",
       "      <td>0</td>\n",
       "      <td>...</td>\n",
       "      <td>0</td>\n",
       "      <td>1</td>\n",
       "      <td>0</td>\n",
       "      <td>0</td>\n",
       "      <td>0</td>\n",
       "      <td>0</td>\n",
       "      <td>0</td>\n",
       "      <td>0</td>\n",
       "      <td>0</td>\n",
       "      <td>0</td>\n",
       "    </tr>\n",
       "  </tbody>\n",
       "</table>\n",
       "<p>3 rows × 22 columns</p>\n",
       "</div>"
      ],
      "text/plain": [
       "      CreditScore  Age    Balance  NumOfProducts  HasCrCard  IsActiveMember  \\\n",
       "7139          806   67       0.00              2          0               1   \n",
       "7240          600   32   98877.95              1          1               0   \n",
       "3841          653   60  120731.39              4          1               1   \n",
       "\n",
       "      EstimatedSalary  Exited  Geography_Germany  Geography_Spain  ...  \\\n",
       "7139        103945.58       0                  0                0  ...   \n",
       "7240        132973.21       0                  0                0  ...   \n",
       "3841        138160.11       1                  0                0  ...   \n",
       "\n",
       "      Tenure_1.0  Tenure_2.0  Tenure_3.0  Tenure_4.0  Tenure_5.0  Tenure_6.0  \\\n",
       "7139           1           0           0           0           0           0   \n",
       "7240           0           0           0           0           0           0   \n",
       "3841           0           1           0           0           0           0   \n",
       "\n",
       "      Tenure_7.0  Tenure_8.0  Tenure_9.0  Tenure_10.0  \n",
       "7139           0           0           0            0  \n",
       "7240           1           0           0            0  \n",
       "3841           0           0           0            0  \n",
       "\n",
       "[3 rows x 22 columns]"
      ]
     },
     "execution_count": 9,
     "metadata": {},
     "output_type": "execute_result"
    }
   ],
   "source": [
    "# One-Hot Encoding\n",
    "df_ohe = pd.get_dummies(df, drop_first=True)\n",
    "df_ohe.sample(3)"
   ]
  },
  {
   "cell_type": "markdown",
   "metadata": {},
   "source": [
    "Разобьем данные на 3 выборки: обучающую, валидационную и тестовую, в соотношении 3:1:1."
   ]
  },
  {
   "cell_type": "code",
   "execution_count": 10,
   "metadata": {
    "scrolled": true
   },
   "outputs": [
    {
     "name": "stdout",
     "output_type": "stream",
     "text": [
      "Обучающая: 60%\n",
      "Валидационная: 20%\n",
      "Тестовая: 20%\n"
     ]
    }
   ],
   "source": [
    "# псевдослучайность: random_state=42, стратификация по целевой переменной (параметр stratify)\n",
    "target = df_ohe['Exited']\n",
    "features = df_ohe.drop('Exited', axis=1)\n",
    "\n",
    "features_train, features_rest, target_train, target_rest = train_test_split(\n",
    "    features, target, test_size=.4, random_state=42, stratify=target)\n",
    "features_valid, features_test, target_valid, target_test = train_test_split(\n",
    "    features_rest, target_rest, test_size=.5, random_state=42, stratify=target_rest)\n",
    "print(f'Обучающая: {features_train.shape[0] / len(df):.0%}')\n",
    "print(f'Валидационная: {features_valid.shape[0] / len(df):.0%}')\n",
    "print(f'Тестовая: {features_test.shape[0] / len(df):.0%}')"
   ]
  },
  {
   "cell_type": "markdown",
   "metadata": {},
   "source": [
    "Масшатбируем количественные признаки."
   ]
  },
  {
   "cell_type": "code",
   "execution_count": 11,
   "metadata": {},
   "outputs": [
    {
     "data": {
      "text/plain": [
       "Index(['CreditScore', 'Geography', 'Gender', 'Age', 'Tenure', 'Balance',\n",
       "       'NumOfProducts', 'HasCrCard', 'IsActiveMember', 'EstimatedSalary',\n",
       "       'Exited'],\n",
       "      dtype='object')"
      ]
     },
     "execution_count": 11,
     "metadata": {},
     "output_type": "execute_result"
    }
   ],
   "source": [
    "df.columns"
   ]
  },
  {
   "cell_type": "code",
   "execution_count": 12,
   "metadata": {
    "scrolled": false
   },
   "outputs": [
    {
     "data": {
      "text/html": [
       "<div>\n",
       "<style scoped>\n",
       "    .dataframe tbody tr th:only-of-type {\n",
       "        vertical-align: middle;\n",
       "    }\n",
       "\n",
       "    .dataframe tbody tr th {\n",
       "        vertical-align: top;\n",
       "    }\n",
       "\n",
       "    .dataframe thead th {\n",
       "        text-align: right;\n",
       "    }\n",
       "</style>\n",
       "<table border=\"1\" class=\"dataframe\">\n",
       "  <thead>\n",
       "    <tr style=\"text-align: right;\">\n",
       "      <th></th>\n",
       "      <th>CreditScore</th>\n",
       "      <th>Age</th>\n",
       "      <th>Balance</th>\n",
       "      <th>NumOfProducts</th>\n",
       "      <th>HasCrCard</th>\n",
       "      <th>IsActiveMember</th>\n",
       "      <th>EstimatedSalary</th>\n",
       "      <th>Geography_Germany</th>\n",
       "      <th>Geography_Spain</th>\n",
       "      <th>Gender_Male</th>\n",
       "      <th>...</th>\n",
       "      <th>Tenure_1.0</th>\n",
       "      <th>Tenure_2.0</th>\n",
       "      <th>Tenure_3.0</th>\n",
       "      <th>Tenure_4.0</th>\n",
       "      <th>Tenure_5.0</th>\n",
       "      <th>Tenure_6.0</th>\n",
       "      <th>Tenure_7.0</th>\n",
       "      <th>Tenure_8.0</th>\n",
       "      <th>Tenure_9.0</th>\n",
       "      <th>Tenure_10.0</th>\n",
       "    </tr>\n",
       "  </thead>\n",
       "  <tbody>\n",
       "    <tr>\n",
       "      <th>2550</th>\n",
       "      <td>2.065472</td>\n",
       "      <td>0.295681</td>\n",
       "      <td>-1.220584</td>\n",
       "      <td>0.783996</td>\n",
       "      <td>0.640913</td>\n",
       "      <td>-1.033563</td>\n",
       "      <td>-0.964885</td>\n",
       "      <td>0</td>\n",
       "      <td>0</td>\n",
       "      <td>1</td>\n",
       "      <td>...</td>\n",
       "      <td>0</td>\n",
       "      <td>0</td>\n",
       "      <td>0</td>\n",
       "      <td>0</td>\n",
       "      <td>0</td>\n",
       "      <td>0</td>\n",
       "      <td>0</td>\n",
       "      <td>0</td>\n",
       "      <td>0</td>\n",
       "      <td>0</td>\n",
       "    </tr>\n",
       "  </tbody>\n",
       "</table>\n",
       "<p>1 rows × 21 columns</p>\n",
       "</div>"
      ],
      "text/plain": [
       "      CreditScore       Age   Balance  NumOfProducts  HasCrCard  \\\n",
       "2550     2.065472  0.295681 -1.220584       0.783996   0.640913   \n",
       "\n",
       "      IsActiveMember  EstimatedSalary  Geography_Germany  Geography_Spain  \\\n",
       "2550       -1.033563        -0.964885                  0                0   \n",
       "\n",
       "      Gender_Male  ...  Tenure_1.0  Tenure_2.0  Tenure_3.0  Tenure_4.0  \\\n",
       "2550            1  ...           0           0           0           0   \n",
       "\n",
       "      Tenure_5.0  Tenure_6.0  Tenure_7.0  Tenure_8.0  Tenure_9.0  Tenure_10.0  \n",
       "2550           0           0           0           0           0            0  \n",
       "\n",
       "[1 rows x 21 columns]"
      ]
     },
     "metadata": {},
     "output_type": "display_data"
    },
    {
     "data": {
      "text/html": [
       "<div>\n",
       "<style scoped>\n",
       "    .dataframe tbody tr th:only-of-type {\n",
       "        vertical-align: middle;\n",
       "    }\n",
       "\n",
       "    .dataframe tbody tr th {\n",
       "        vertical-align: top;\n",
       "    }\n",
       "\n",
       "    .dataframe thead th {\n",
       "        text-align: right;\n",
       "    }\n",
       "</style>\n",
       "<table border=\"1\" class=\"dataframe\">\n",
       "  <thead>\n",
       "    <tr style=\"text-align: right;\">\n",
       "      <th></th>\n",
       "      <th>CreditScore</th>\n",
       "      <th>Age</th>\n",
       "      <th>Balance</th>\n",
       "      <th>NumOfProducts</th>\n",
       "      <th>HasCrCard</th>\n",
       "      <th>IsActiveMember</th>\n",
       "      <th>EstimatedSalary</th>\n",
       "      <th>Geography_Germany</th>\n",
       "      <th>Geography_Spain</th>\n",
       "      <th>Gender_Male</th>\n",
       "      <th>...</th>\n",
       "      <th>Tenure_1.0</th>\n",
       "      <th>Tenure_2.0</th>\n",
       "      <th>Tenure_3.0</th>\n",
       "      <th>Tenure_4.0</th>\n",
       "      <th>Tenure_5.0</th>\n",
       "      <th>Tenure_6.0</th>\n",
       "      <th>Tenure_7.0</th>\n",
       "      <th>Tenure_8.0</th>\n",
       "      <th>Tenure_9.0</th>\n",
       "      <th>Tenure_10.0</th>\n",
       "    </tr>\n",
       "  </thead>\n",
       "  <tbody>\n",
       "    <tr>\n",
       "      <th>1493</th>\n",
       "      <td>0.302646</td>\n",
       "      <td>-0.85278</td>\n",
       "      <td>-1.220584</td>\n",
       "      <td>-0.919109</td>\n",
       "      <td>0.640913</td>\n",
       "      <td>-1.033563</td>\n",
       "      <td>1.055972</td>\n",
       "      <td>0</td>\n",
       "      <td>1</td>\n",
       "      <td>0</td>\n",
       "      <td>...</td>\n",
       "      <td>0</td>\n",
       "      <td>0</td>\n",
       "      <td>1</td>\n",
       "      <td>0</td>\n",
       "      <td>0</td>\n",
       "      <td>0</td>\n",
       "      <td>0</td>\n",
       "      <td>0</td>\n",
       "      <td>0</td>\n",
       "      <td>0</td>\n",
       "    </tr>\n",
       "  </tbody>\n",
       "</table>\n",
       "<p>1 rows × 21 columns</p>\n",
       "</div>"
      ],
      "text/plain": [
       "      CreditScore      Age   Balance  NumOfProducts  HasCrCard  \\\n",
       "1493     0.302646 -0.85278 -1.220584      -0.919109   0.640913   \n",
       "\n",
       "      IsActiveMember  EstimatedSalary  Geography_Germany  Geography_Spain  \\\n",
       "1493       -1.033563         1.055972                  0                1   \n",
       "\n",
       "      Gender_Male  ...  Tenure_1.0  Tenure_2.0  Tenure_3.0  Tenure_4.0  \\\n",
       "1493            0  ...           0           0           1           0   \n",
       "\n",
       "      Tenure_5.0  Tenure_6.0  Tenure_7.0  Tenure_8.0  Tenure_9.0  Tenure_10.0  \n",
       "1493           0           0           0           0           0            0  \n",
       "\n",
       "[1 rows x 21 columns]"
      ]
     },
     "metadata": {},
     "output_type": "display_data"
    },
    {
     "data": {
      "text/html": [
       "<div>\n",
       "<style scoped>\n",
       "    .dataframe tbody tr th:only-of-type {\n",
       "        vertical-align: middle;\n",
       "    }\n",
       "\n",
       "    .dataframe tbody tr th {\n",
       "        vertical-align: top;\n",
       "    }\n",
       "\n",
       "    .dataframe thead th {\n",
       "        text-align: right;\n",
       "    }\n",
       "</style>\n",
       "<table border=\"1\" class=\"dataframe\">\n",
       "  <thead>\n",
       "    <tr style=\"text-align: right;\">\n",
       "      <th></th>\n",
       "      <th>CreditScore</th>\n",
       "      <th>Age</th>\n",
       "      <th>Balance</th>\n",
       "      <th>NumOfProducts</th>\n",
       "      <th>HasCrCard</th>\n",
       "      <th>IsActiveMember</th>\n",
       "      <th>EstimatedSalary</th>\n",
       "      <th>Geography_Germany</th>\n",
       "      <th>Geography_Spain</th>\n",
       "      <th>Gender_Male</th>\n",
       "      <th>...</th>\n",
       "      <th>Tenure_1.0</th>\n",
       "      <th>Tenure_2.0</th>\n",
       "      <th>Tenure_3.0</th>\n",
       "      <th>Tenure_4.0</th>\n",
       "      <th>Tenure_5.0</th>\n",
       "      <th>Tenure_6.0</th>\n",
       "      <th>Tenure_7.0</th>\n",
       "      <th>Tenure_8.0</th>\n",
       "      <th>Tenure_9.0</th>\n",
       "      <th>Tenure_10.0</th>\n",
       "    </tr>\n",
       "  </thead>\n",
       "  <tbody>\n",
       "    <tr>\n",
       "      <th>5273</th>\n",
       "      <td>-1.263158</td>\n",
       "      <td>-0.66137</td>\n",
       "      <td>1.143445</td>\n",
       "      <td>-0.919109</td>\n",
       "      <td>0.640913</td>\n",
       "      <td>-1.033563</td>\n",
       "      <td>-1.148027</td>\n",
       "      <td>0</td>\n",
       "      <td>0</td>\n",
       "      <td>1</td>\n",
       "      <td>...</td>\n",
       "      <td>0</td>\n",
       "      <td>0</td>\n",
       "      <td>0</td>\n",
       "      <td>0</td>\n",
       "      <td>0</td>\n",
       "      <td>0</td>\n",
       "      <td>0</td>\n",
       "      <td>0</td>\n",
       "      <td>1</td>\n",
       "      <td>0</td>\n",
       "    </tr>\n",
       "  </tbody>\n",
       "</table>\n",
       "<p>1 rows × 21 columns</p>\n",
       "</div>"
      ],
      "text/plain": [
       "      CreditScore      Age   Balance  NumOfProducts  HasCrCard  \\\n",
       "5273    -1.263158 -0.66137  1.143445      -0.919109   0.640913   \n",
       "\n",
       "      IsActiveMember  EstimatedSalary  Geography_Germany  Geography_Spain  \\\n",
       "5273       -1.033563        -1.148027                  0                0   \n",
       "\n",
       "      Gender_Male  ...  Tenure_1.0  Tenure_2.0  Tenure_3.0  Tenure_4.0  \\\n",
       "5273            1  ...           0           0           0           0   \n",
       "\n",
       "      Tenure_5.0  Tenure_6.0  Tenure_7.0  Tenure_8.0  Tenure_9.0  Tenure_10.0  \n",
       "5273           0           0           0           0           1            0  \n",
       "\n",
       "[1 rows x 21 columns]"
      ]
     },
     "execution_count": 12,
     "metadata": {},
     "output_type": "execute_result"
    }
   ],
   "source": [
    "# метод StandardScaler\n",
    "numeric = ['CreditScore', 'Age', 'Balance', 'NumOfProducts', 'HasCrCard', 'IsActiveMember', 'EstimatedSalary']\n",
    "scaler = StandardScaler()\n",
    "scaler.fit(features_train[numeric]) \n",
    "features_train[numeric] = scaler.transform(features_train[numeric])\n",
    "features_valid[numeric] = scaler.transform(features_valid[numeric])\n",
    "features_test[numeric] = scaler.transform(features_test[numeric])\n",
    "display(features_train.sample())\n",
    "display(features_valid.sample())\n",
    "features_test.sample()"
   ]
  },
  {
   "cell_type": "markdown",
   "metadata": {},
   "source": [
    "**Вывод**  \n",
    "\n",
    "Данные загружены и проверены:\n",
    "* Дубликатов нет\n",
    "* Удалены признаки `RowNumber`, `CustomerId` и `Surname`\n",
    "* Пропуски в `Tenure` заполнены, сам признак стал категориальным\n",
    "* Категориальные признаки преобразованы в количественные\n",
    "* Данные разделены на: обучающую, валидационную и тестовую в соотношении 3:1:1\n",
    "* Признаки масшабированы."
   ]
  },
  {
   "cell_type": "markdown",
   "metadata": {},
   "source": [
    "## Исследование задачи"
   ]
  },
  {
   "cell_type": "code",
   "execution_count": 13,
   "metadata": {},
   "outputs": [
    {
     "name": "stdout",
     "output_type": "stream",
     "text": [
      "Класс 0: 79.63%\n",
      "Класс 1: 20.37%\n"
     ]
    }
   ],
   "source": [
    "# посмотрим на дисбаланс целевого признака\n",
    "print(f\"Класс 0: {df['Exited'].value_counts()[0] / len(df):.2%}\")\n",
    "print(f\"Класс 1: {df['Exited'].value_counts()[1] / len(df):.2%}\")"
   ]
  },
  {
   "cell_type": "markdown",
   "metadata": {},
   "source": [
    "Обучим различные модели без учёта дисбаланса классов."
   ]
  },
  {
   "cell_type": "code",
   "execution_count": 14,
   "metadata": {},
   "outputs": [
    {
     "data": {
      "text/html": [
       "<div>\n",
       "<style scoped>\n",
       "    .dataframe tbody tr th:only-of-type {\n",
       "        vertical-align: middle;\n",
       "    }\n",
       "\n",
       "    .dataframe tbody tr th {\n",
       "        vertical-align: top;\n",
       "    }\n",
       "\n",
       "    .dataframe thead th {\n",
       "        text-align: right;\n",
       "    }\n",
       "</style>\n",
       "<table border=\"1\" class=\"dataframe\">\n",
       "  <thead>\n",
       "    <tr style=\"text-align: right;\">\n",
       "      <th></th>\n",
       "      <th>Модель</th>\n",
       "      <th>Точность</th>\n",
       "      <th>F1-мера</th>\n",
       "      <th>AUC-ROC</th>\n",
       "    </tr>\n",
       "  </thead>\n",
       "  <tbody>\n",
       "    <tr>\n",
       "      <th>0</th>\n",
       "      <td>LogisticRegression</td>\n",
       "      <td>0.811</td>\n",
       "      <td>0.312727</td>\n",
       "      <td>0.789165</td>\n",
       "    </tr>\n",
       "    <tr>\n",
       "      <th>1</th>\n",
       "      <td>DecisionTreeClassifier</td>\n",
       "      <td>0.858</td>\n",
       "      <td>0.588406</td>\n",
       "      <td>0.827682</td>\n",
       "    </tr>\n",
       "    <tr>\n",
       "      <th>2</th>\n",
       "      <td>RandomForestClassifier</td>\n",
       "      <td>0.873</td>\n",
       "      <td>0.617470</td>\n",
       "      <td>0.870508</td>\n",
       "    </tr>\n",
       "  </tbody>\n",
       "</table>\n",
       "</div>"
      ],
      "text/plain": [
       "                   Модель  Точность   F1-мера   AUC-ROC\n",
       "0      LogisticRegression     0.811  0.312727  0.789165\n",
       "1  DecisionTreeClassifier     0.858  0.588406  0.827682\n",
       "2  RandomForestClassifier     0.873  0.617470  0.870508"
      ]
     },
     "execution_count": 14,
     "metadata": {},
     "output_type": "execute_result"
    }
   ],
   "source": [
    "# создадим функцию для обучения различных моделей\n",
    "# на выходе получим название модели, её точность, F1-меру, AUC-ROC\n",
    "def modeling (features_modeling, target_modeling, weight_metric):\n",
    "    \n",
    "    models = [LogisticRegression(random_state=42, solver='liblinear', class_weight=weight_metric),\n",
    "              DecisionTreeClassifier(random_state=42, max_depth=8, class_weight=weight_metric),\n",
    "              RandomForestClassifier(random_state=42, n_estimators=500, max_depth=24, class_weight=weight_metric)]\n",
    "    results = []\n",
    "\n",
    "    for model in models:\n",
    "        model.fit(features_modeling, target_modeling)\n",
    "        predictions_valid = model.predict(features_valid)\n",
    "        probabilities_valid = model.predict_proba(features_valid)\n",
    "    \n",
    "        accuracy = accuracy_score(target_valid, predictions_valid)\n",
    "        f1 = f1_score(target_valid, predictions_valid)\n",
    "        roc_auc = roc_auc_score(target_valid, probabilities_valid[:,1])\n",
    "    \n",
    "        results.append({'Модель': model.__class__.__name__, \n",
    "                               'Точность': accuracy, \n",
    "                               'F1-мера': f1, \n",
    "                               'AUC-ROC': roc_auc})\n",
    "    return pd.DataFrame(results)\n",
    "modeling(features_train, target_train, None)"
   ]
  },
  {
   "cell_type": "code",
   "execution_count": 15,
   "metadata": {
    "scrolled": true
   },
   "outputs": [
    {
     "name": "stdout",
     "output_type": "stream",
     "text": [
      "Порог = 0.00 | Точность = 0.204, Полнота = 1.000, F1-мера = 0.339\n",
      "Порог = 0.01 | Точность = 0.204, Полнота = 1.000, F1-мера = 0.339\n",
      "Порог = 0.02 | Точность = 0.205, Полнота = 1.000, F1-мера = 0.340\n",
      "Порог = 0.03 | Точность = 0.208, Полнота = 1.000, F1-мера = 0.345\n",
      "Порог = 0.04 | Точность = 0.215, Полнота = 1.000, F1-мера = 0.353\n",
      "Порог = 0.05 | Точность = 0.221, Полнота = 0.995, F1-мера = 0.362\n",
      "Порог = 0.06 | Точность = 0.231, Полнота = 0.980, F1-мера = 0.374\n",
      "Порог = 0.07 | Точность = 0.239, Полнота = 0.971, F1-мера = 0.383\n",
      "Порог = 0.08 | Точность = 0.246, Полнота = 0.956, F1-мера = 0.391\n",
      "Порог = 0.09 | Точность = 0.255, Полнота = 0.939, F1-мера = 0.401\n",
      "Порог = 0.10 | Точность = 0.265, Полнота = 0.926, F1-мера = 0.412\n",
      "Порог = 0.11 | Точность = 0.277, Полнота = 0.917, F1-мера = 0.425\n",
      "Порог = 0.12 | Точность = 0.290, Полнота = 0.902, F1-мера = 0.438\n",
      "Порог = 0.13 | Точность = 0.301, Полнота = 0.882, F1-мера = 0.448\n",
      "Порог = 0.14 | Точность = 0.310, Полнота = 0.868, F1-мера = 0.457\n",
      "Порог = 0.15 | Точность = 0.320, Полнота = 0.843, F1-мера = 0.464\n",
      "Порог = 0.16 | Точность = 0.331, Полнота = 0.819, F1-мера = 0.471\n",
      "Порог = 0.17 | Точность = 0.344, Полнота = 0.806, F1-мера = 0.482\n",
      "Порог = 0.18 | Точность = 0.356, Полнота = 0.787, F1-мера = 0.490\n",
      "Порог = 0.19 | Точность = 0.370, Полнота = 0.762, F1-мера = 0.498\n",
      "Порог = 0.20 | Точность = 0.387, Полнота = 0.757, F1-мера = 0.512\n",
      "Порог = 0.21 | Точность = 0.392, Полнота = 0.725, F1-мера = 0.509\n",
      "Порог = 0.22 | Точность = 0.405, Полнота = 0.718, F1-мера = 0.518\n",
      "Порог = 0.23 | Точность = 0.414, Полнота = 0.696, F1-мера = 0.519\n",
      "Порог = 0.24 | Точность = 0.426, Полнота = 0.654, F1-мера = 0.516\n",
      "Порог = 0.25 | Точность = 0.440, Полнота = 0.635, F1-мера = 0.520\n",
      "Порог = 0.26 | Точность = 0.450, Полнота = 0.613, F1-мера = 0.519\n",
      "Порог = 0.27 | Точность = 0.466, Полнота = 0.593, F1-мера = 0.522\n",
      "Порог = 0.28 | Точность = 0.474, Полнота = 0.581, F1-мера = 0.522\n",
      "Порог = 0.29 | Точность = 0.493, Полнота = 0.564, F1-мера = 0.526\n",
      "Порог = 0.30 | Точность = 0.507, Полнота = 0.547, F1-мера = 0.526\n",
      "Порог = 0.31 | Точность = 0.513, Полнота = 0.529, F1-мера = 0.521\n",
      "Порог = 0.32 | Точность = 0.519, Полнота = 0.515, F1-мера = 0.517\n",
      "Порог = 0.33 | Точность = 0.529, Полнота = 0.495, F1-мера = 0.511\n",
      "Порог = 0.34 | Точность = 0.543, Полнота = 0.480, F1-мера = 0.510\n",
      "Порог = 0.35 | Точность = 0.555, Полнота = 0.473, F1-мера = 0.511\n",
      "Порог = 0.36 | Точность = 0.554, Полнота = 0.441, F1-мера = 0.491\n",
      "Порог = 0.37 | Точность = 0.554, Полнота = 0.426, F1-мера = 0.482\n",
      "Порог = 0.38 | Точность = 0.555, Полнота = 0.409, F1-мера = 0.471\n",
      "Порог = 0.39 | Точность = 0.562, Полнота = 0.390, F1-мера = 0.460\n",
      "Порог = 0.40 | Точность = 0.561, Полнота = 0.373, F1-мера = 0.448\n",
      "Порог = 0.41 | Точность = 0.564, Полнота = 0.358, F1-мера = 0.438\n",
      "Порог = 0.42 | Точность = 0.570, Полнота = 0.338, F1-мера = 0.425\n",
      "Порог = 0.43 | Точность = 0.583, Полнота = 0.326, F1-мера = 0.418\n",
      "Порог = 0.44 | Точность = 0.602, Полнота = 0.304, F1-мера = 0.404\n",
      "Порог = 0.45 | Точность = 0.605, Полнота = 0.289, F1-мера = 0.391\n",
      "Порог = 0.46 | Точность = 0.611, Полнота = 0.277, F1-мера = 0.381\n",
      "Порог = 0.47 | Точность = 0.613, Полнота = 0.252, F1-мера = 0.358\n",
      "Порог = 0.48 | Точность = 0.619, Полнота = 0.243, F1-мера = 0.349\n",
      "Порог = 0.49 | Точность = 0.605, Полнота = 0.225, F1-мера = 0.329\n",
      "Порог = 0.50 | Точность = 0.606, Полнота = 0.211, F1-мера = 0.313\n",
      "Порог = 0.51 | Точность = 0.602, Полнота = 0.196, F1-мера = 0.296\n",
      "Порог = 0.52 | Точность = 0.613, Полнота = 0.186, F1-мера = 0.286\n",
      "Порог = 0.53 | Точность = 0.617, Полнота = 0.174, F1-мера = 0.272\n",
      "Порог = 0.54 | Точность = 0.639, Полнота = 0.169, F1-мера = 0.267\n",
      "Порог = 0.55 | Точность = 0.637, Полнота = 0.159, F1-мера = 0.255\n",
      "Порог = 0.56 | Точность = 0.643, Полнота = 0.154, F1-мера = 0.249\n",
      "Порог = 0.57 | Точность = 0.615, Полнота = 0.137, F1-мера = 0.224\n",
      "Порог = 0.58 | Точность = 0.643, Полнота = 0.132, F1-мера = 0.220\n",
      "Порог = 0.59 | Точность = 0.641, Полнота = 0.123, F1-мера = 0.206\n",
      "Порог = 0.60 | Точность = 0.667, Полнота = 0.118, F1-мера = 0.200\n",
      "Порог = 0.61 | Точность = 0.676, Полнота = 0.113, F1-мера = 0.193\n",
      "Порог = 0.62 | Точность = 0.667, Полнота = 0.108, F1-мера = 0.186\n",
      "Порог = 0.63 | Точность = 0.683, Полнота = 0.100, F1-мера = 0.175\n",
      "Порог = 0.64 | Точность = 0.667, Полнота = 0.088, F1-мера = 0.156\n",
      "Порог = 0.65 | Точность = 0.667, Полнота = 0.078, F1-мера = 0.140\n",
      "Порог = 0.66 | Точность = 0.705, Полнота = 0.076, F1-мера = 0.137\n",
      "Порог = 0.67 | Точность = 0.757, Полнота = 0.069, F1-мера = 0.126\n",
      "Порог = 0.68 | Точность = 0.735, Полнота = 0.061, F1-мера = 0.113\n",
      "Порог = 0.69 | Точность = 0.758, Полнота = 0.061, F1-мера = 0.113\n",
      "Порог = 0.70 | Точность = 0.759, Полнота = 0.054, F1-мера = 0.101\n",
      "Порог = 0.71 | Точность = 0.786, Полнота = 0.054, F1-мера = 0.101\n",
      "Порог = 0.72 | Точность = 0.783, Полнота = 0.044, F1-мера = 0.084\n",
      "Порог = 0.73 | Точность = 0.773, Полнота = 0.042, F1-мера = 0.079\n",
      "Порог = 0.74 | Точность = 0.762, Полнота = 0.039, F1-мера = 0.075\n",
      "Порог = 0.75 | Точность = 0.762, Полнота = 0.039, F1-мера = 0.075\n",
      "Порог = 0.76 | Точность = 0.733, Полнота = 0.027, F1-мера = 0.052\n",
      "Порог = 0.77 | Точность = 0.733, Полнота = 0.027, F1-мера = 0.052\n",
      "Порог = 0.78 | Точность = 0.667, Полнота = 0.020, F1-мера = 0.038\n",
      "Порог = 0.79 | Точность = 0.636, Полнота = 0.017, F1-мера = 0.033\n",
      "Порог = 0.80 | Точность = 0.636, Полнота = 0.017, F1-мера = 0.033\n",
      "Порог = 0.81 | Точность = 0.625, Полнота = 0.012, F1-мера = 0.024\n",
      "Порог = 0.82 | Точность = 0.714, Полнота = 0.012, F1-мера = 0.024\n",
      "Порог = 0.83 | Точность = 0.800, Полнота = 0.010, F1-мера = 0.019\n",
      "Порог = 0.84 | Точность = 0.500, Полнота = 0.002, F1-мера = 0.005\n",
      "Порог = 0.85 | Точность = 1.000, Полнота = 0.002, F1-мера = 0.005\n",
      "Порог = 0.86 | Точность = 1.000, Полнота = 0.002, F1-мера = 0.005\n",
      "Порог = 0.87 | Точность = 1.000, Полнота = 0.002, F1-мера = 0.005\n",
      "Порог = 0.88 | Точность = 0.000, Полнота = 0.000, F1-мера = 0.000\n",
      "Порог = 0.89 | Точность = 0.000, Полнота = 0.000, F1-мера = 0.000\n",
      "Порог = 0.90 | Точность = 0.000, Полнота = 0.000, F1-мера = 0.000\n",
      "Порог = 0.91 | Точность = 0.000, Полнота = 0.000, F1-мера = 0.000\n",
      "Порог = 0.92 | Точность = 0.000, Полнота = 0.000, F1-мера = 0.000\n",
      "Порог = 0.93 | Точность = 0.000, Полнота = 0.000, F1-мера = 0.000\n",
      "Порог = 0.94 | Точность = 0.000, Полнота = 0.000, F1-мера = 0.000\n",
      "Порог = 0.95 | Точность = 0.000, Полнота = 0.000, F1-мера = 0.000\n",
      "Порог = 0.96 | Точность = 0.000, Полнота = 0.000, F1-мера = 0.000\n",
      "Порог = 0.97 | Точность = 0.000, Полнота = 0.000, F1-мера = 0.000\n",
      "Порог = 0.98 | Точность = 0.000, Полнота = 0.000, F1-мера = 0.000\n",
      "Порог = 0.99 | Точность = 0.000, Полнота = 0.000, F1-мера = 0.000\n",
      "Порог = 0.00 | Точность = 0.212, Полнота = 0.978, F1-мера = 0.348\n",
      "Порог = 0.01 | Точность = 0.221, Полнота = 0.968, F1-мера = 0.359\n",
      "Порог = 0.02 | Точность = 0.236, Полнота = 0.966, F1-мера = 0.379\n",
      "Порог = 0.03 | Точность = 0.240, Полнота = 0.939, F1-мера = 0.382\n",
      "Порог = 0.04 | Точность = 0.273, Полнота = 0.926, F1-мера = 0.421\n",
      "Порог = 0.05 | Точность = 0.313, Полнота = 0.880, F1-мера = 0.461\n",
      "Порог = 0.06 | Точность = 0.327, Полнота = 0.875, F1-мера = 0.476\n",
      "Порог = 0.07 | Точность = 0.332, Полнота = 0.875, F1-мера = 0.482\n",
      "Порог = 0.08 | Точность = 0.335, Полнота = 0.873, F1-мера = 0.484\n",
      "Порог = 0.09 | Точность = 0.367, Полнота = 0.843, F1-мера = 0.512\n",
      "Порог = 0.10 | Точность = 0.369, Полнота = 0.843, F1-мера = 0.514\n",
      "Порог = 0.11 | Точность = 0.399, Полнота = 0.819, F1-мера = 0.536\n",
      "Порог = 0.12 | Точность = 0.438, Полнота = 0.784, F1-мера = 0.562\n",
      "Порог = 0.13 | Точность = 0.438, Полнота = 0.784, F1-мера = 0.562\n",
      "Порог = 0.14 | Точность = 0.438, Полнота = 0.784, F1-мера = 0.562\n",
      "Порог = 0.15 | Точность = 0.438, Полнота = 0.784, F1-мера = 0.562\n",
      "Порог = 0.16 | Точность = 0.436, Полнота = 0.765, F1-мера = 0.556\n",
      "Порог = 0.17 | Точность = 0.436, Полнота = 0.765, F1-мера = 0.556\n",
      "Порог = 0.18 | Точность = 0.438, Полнота = 0.755, F1-мера = 0.554\n",
      "Порог = 0.19 | Точность = 0.444, Полнота = 0.755, F1-мера = 0.559\n",
      "Порог = 0.20 | Точность = 0.457, Полнота = 0.750, F1-мера = 0.568\n",
      "Порог = 0.21 | Точность = 0.482, Полнота = 0.699, F1-мера = 0.571\n",
      "Порог = 0.22 | Точность = 0.503, Полнота = 0.686, F1-мера = 0.580\n",
      "Порог = 0.23 | Точность = 0.504, Полнота = 0.684, F1-мера = 0.580\n",
      "Порог = 0.24 | Точность = 0.521, Полнота = 0.676, F1-мера = 0.588\n",
      "Порог = 0.25 | Точность = 0.538, Полнота = 0.664, F1-мера = 0.594\n",
      "Порог = 0.26 | Точность = 0.538, Полнота = 0.664, F1-мера = 0.594\n",
      "Порог = 0.27 | Точность = 0.538, Полнота = 0.664, F1-мера = 0.594\n",
      "Порог = 0.28 | Точность = 0.538, Полнота = 0.664, F1-мера = 0.594\n",
      "Порог = 0.29 | Точность = 0.538, Полнота = 0.664, F1-мера = 0.594\n",
      "Порог = 0.30 | Точность = 0.538, Полнота = 0.664, F1-мера = 0.594\n",
      "Порог = 0.31 | Точность = 0.538, Полнота = 0.664, F1-мера = 0.594\n",
      "Порог = 0.32 | Точность = 0.538, Полнота = 0.664, F1-мера = 0.594\n",
      "Порог = 0.33 | Точность = 0.538, Полнота = 0.664, F1-мера = 0.594\n",
      "Порог = 0.34 | Точность = 0.554, Полнота = 0.627, F1-мера = 0.589\n",
      "Порог = 0.35 | Точность = 0.554, Полнота = 0.627, F1-мера = 0.589\n",
      "Порог = 0.36 | Точность = 0.562, Полнота = 0.618, F1-мера = 0.589\n",
      "Порог = 0.37 | Точность = 0.657, Полнота = 0.569, F1-мера = 0.610\n",
      "Порог = 0.38 | Точность = 0.657, Полнота = 0.569, F1-мера = 0.610\n",
      "Порог = 0.39 | Точность = 0.657, Полнота = 0.569, F1-мера = 0.610\n",
      "Порог = 0.40 | Точность = 0.657, Полнота = 0.569, F1-мера = 0.610\n",
      "Порог = 0.41 | Точность = 0.657, Полнота = 0.569, F1-мера = 0.610\n",
      "Порог = 0.42 | Точность = 0.680, Полнота = 0.556, F1-мера = 0.612\n",
      "Порог = 0.43 | Точность = 0.680, Полнота = 0.556, F1-мера = 0.612\n",
      "Порог = 0.44 | Точность = 0.718, Полнота = 0.505, F1-мера = 0.593\n",
      "Порог = 0.45 | Точность = 0.718, Полнота = 0.505, F1-мера = 0.593\n",
      "Порог = 0.46 | Точность = 0.718, Полнота = 0.505, F1-мера = 0.593\n",
      "Порог = 0.47 | Точность = 0.718, Полнота = 0.505, F1-мера = 0.593\n",
      "Порог = 0.48 | Точность = 0.718, Полнота = 0.505, F1-мера = 0.593\n",
      "Порог = 0.49 | Точность = 0.718, Полнота = 0.505, F1-мера = 0.593\n",
      "Порог = 0.50 | Точность = 0.720, Полнота = 0.498, F1-мера = 0.588\n",
      "Порог = 0.51 | Точность = 0.720, Полнота = 0.498, F1-мера = 0.588\n",
      "Порог = 0.52 | Точность = 0.720, Полнота = 0.498, F1-мера = 0.588\n",
      "Порог = 0.53 | Точность = 0.720, Полнота = 0.498, F1-мера = 0.588\n",
      "Порог = 0.54 | Точность = 0.720, Полнота = 0.498, F1-мера = 0.588\n",
      "Порог = 0.55 | Точность = 0.720, Полнота = 0.498, F1-мера = 0.588\n",
      "Порог = 0.56 | Точность = 0.720, Полнота = 0.498, F1-мера = 0.588\n",
      "Порог = 0.57 | Точность = 0.720, Полнота = 0.498, F1-мера = 0.588\n",
      "Порог = 0.58 | Точность = 0.744, Полнота = 0.471, F1-мера = 0.577\n",
      "Порог = 0.59 | Точность = 0.744, Полнота = 0.471, F1-мера = 0.577\n",
      "Порог = 0.60 | Точность = 0.744, Полнота = 0.426, F1-мера = 0.542\n",
      "Порог = 0.61 | Точность = 0.744, Полнота = 0.426, F1-мера = 0.542\n",
      "Порог = 0.62 | Точность = 0.744, Полнота = 0.426, F1-мера = 0.542\n",
      "Порог = 0.63 | Точность = 0.744, Полнота = 0.426, F1-мера = 0.542\n",
      "Порог = 0.64 | Точность = 0.764, Полнота = 0.390, F1-мера = 0.516\n",
      "Порог = 0.65 | Точность = 0.764, Полнота = 0.390, F1-мера = 0.516\n",
      "Порог = 0.66 | Точность = 0.764, Полнота = 0.390, F1-мера = 0.516\n",
      "Порог = 0.67 | Точность = 0.764, Полнота = 0.390, F1-мера = 0.516\n",
      "Порог = 0.68 | Точность = 0.764, Полнота = 0.390, F1-мера = 0.516\n",
      "Порог = 0.69 | Точность = 0.764, Полнота = 0.390, F1-мера = 0.516\n",
      "Порог = 0.70 | Точность = 0.764, Полнота = 0.390, F1-мера = 0.516\n",
      "Порог = 0.71 | Точность = 0.764, Полнота = 0.390, F1-мера = 0.516\n",
      "Порог = 0.72 | Точность = 0.767, Полнота = 0.380, F1-мера = 0.508\n",
      "Порог = 0.73 | Точность = 0.763, Полнота = 0.370, F1-мера = 0.498\n",
      "Порог = 0.74 | Точность = 0.763, Полнота = 0.370, F1-мера = 0.498\n",
      "Порог = 0.75 | Точность = 0.763, Полнота = 0.370, F1-мера = 0.498\n",
      "Порог = 0.76 | Точность = 0.763, Полнота = 0.370, F1-мера = 0.498\n",
      "Порог = 0.77 | Точность = 0.759, Полнота = 0.324, F1-мера = 0.454\n",
      "Порог = 0.78 | Точность = 0.759, Полнота = 0.324, F1-мера = 0.454\n",
      "Порог = 0.79 | Точность = 0.759, Полнота = 0.324, F1-мера = 0.454\n",
      "Порог = 0.80 | Точность = 0.762, Полнота = 0.321, F1-мера = 0.452\n",
      "Порог = 0.81 | Точность = 0.762, Полнота = 0.321, F1-мера = 0.452\n",
      "Порог = 0.82 | Точность = 0.762, Полнота = 0.321, F1-мера = 0.452\n",
      "Порог = 0.83 | Точность = 0.762, Полнота = 0.321, F1-мера = 0.452\n",
      "Порог = 0.84 | Точность = 0.762, Полнота = 0.321, F1-мера = 0.452\n",
      "Порог = 0.85 | Точность = 0.762, Полнота = 0.321, F1-мера = 0.452\n",
      "Порог = 0.86 | Точность = 0.762, Полнота = 0.321, F1-мера = 0.452\n",
      "Порог = 0.87 | Точность = 0.762, Полнота = 0.321, F1-мера = 0.452\n",
      "Порог = 0.88 | Точность = 0.778, Полнота = 0.319, F1-мера = 0.452\n",
      "Порог = 0.89 | Точность = 0.780, Полнота = 0.270, F1-мера = 0.401\n",
      "Порог = 0.90 | Точность = 0.780, Полнота = 0.270, F1-мера = 0.401\n",
      "Порог = 0.91 | Точность = 0.791, Полнота = 0.250, F1-мера = 0.380\n",
      "Порог = 0.92 | Точность = 0.791, Полнота = 0.250, F1-мера = 0.380\n",
      "Порог = 0.93 | Точность = 0.810, Полнота = 0.240, F1-мера = 0.371\n",
      "Порог = 0.94 | Точность = 0.810, Полнота = 0.240, F1-мера = 0.371\n",
      "Порог = 0.95 | Точность = 0.727, Полнота = 0.118, F1-мера = 0.203\n",
      "Порог = 0.96 | Точность = 0.727, Полнота = 0.118, F1-мера = 0.203\n",
      "Порог = 0.97 | Точность = 0.727, Полнота = 0.118, F1-мера = 0.203\n",
      "Порог = 0.98 | Точность = 0.727, Полнота = 0.118, F1-мера = 0.203\n",
      "Порог = 0.99 | Точность = 0.727, Полнота = 0.118, F1-мера = 0.203\n",
      "Порог = 0.00 | Точность = 0.204, Полнота = 1.000, F1-мера = 0.339\n",
      "Порог = 0.01 | Точность = 0.210, Полнота = 0.998, F1-мера = 0.347\n",
      "Порог = 0.02 | Точность = 0.220, Полнота = 0.998, F1-мера = 0.360\n",
      "Порог = 0.03 | Точность = 0.232, Полнота = 0.998, F1-мера = 0.377\n",
      "Порог = 0.04 | Точность = 0.244, Полнота = 0.988, F1-мера = 0.392\n",
      "Порог = 0.05 | Точность = 0.254, Полнота = 0.975, F1-мера = 0.404\n",
      "Порог = 0.06 | Точность = 0.269, Полнота = 0.973, F1-мера = 0.421\n",
      "Порог = 0.07 | Точность = 0.279, Полнота = 0.966, F1-мера = 0.432\n",
      "Порог = 0.08 | Точность = 0.291, Полнота = 0.958, F1-мера = 0.447\n",
      "Порог = 0.09 | Точность = 0.305, Полнота = 0.944, F1-мера = 0.461\n",
      "Порог = 0.10 | Точность = 0.315, Полнота = 0.931, F1-мера = 0.471\n",
      "Порог = 0.11 | Точность = 0.327, Полнота = 0.922, F1-мера = 0.483\n",
      "Порог = 0.12 | Точность = 0.339, Полнота = 0.914, F1-мера = 0.495\n",
      "Порог = 0.13 | Точность = 0.352, Полнота = 0.902, F1-мера = 0.507\n",
      "Порог = 0.14 | Точность = 0.364, Полнота = 0.882, F1-мера = 0.515\n",
      "Порог = 0.15 | Точность = 0.382, Полнота = 0.880, F1-мера = 0.532\n",
      "Порог = 0.16 | Точность = 0.399, Полнота = 0.868, F1-мера = 0.547\n",
      "Порог = 0.17 | Точность = 0.411, Полнота = 0.850, F1-мера = 0.554\n",
      "Порог = 0.18 | Точность = 0.432, Полнота = 0.841, F1-мера = 0.571\n",
      "Порог = 0.19 | Точность = 0.447, Полнота = 0.826, F1-мера = 0.580\n",
      "Порог = 0.20 | Точность = 0.463, Полнота = 0.816, F1-мера = 0.591\n",
      "Порог = 0.21 | Точность = 0.470, Полнота = 0.797, F1-мера = 0.591\n",
      "Порог = 0.22 | Точность = 0.492, Полнота = 0.789, F1-мера = 0.606\n",
      "Порог = 0.23 | Точность = 0.499, Полнота = 0.775, F1-мера = 0.607\n",
      "Порог = 0.24 | Точность = 0.512, Полнота = 0.762, F1-мера = 0.613\n",
      "Порог = 0.25 | Точность = 0.529, Полнота = 0.755, F1-мера = 0.622\n",
      "Порог = 0.26 | Точность = 0.543, Полнота = 0.740, F1-мера = 0.627\n",
      "Порог = 0.27 | Точность = 0.552, Полнота = 0.725, F1-мера = 0.627\n",
      "Порог = 0.28 | Точность = 0.558, Полнота = 0.701, F1-мера = 0.621\n",
      "Порог = 0.29 | Точность = 0.570, Полнота = 0.691, F1-мера = 0.625\n",
      "Порог = 0.30 | Точность = 0.579, Полнота = 0.686, F1-мера = 0.628\n",
      "Порог = 0.31 | Точность = 0.581, Полнота = 0.674, F1-мера = 0.624\n",
      "Порог = 0.32 | Точность = 0.604, Полнота = 0.667, F1-мера = 0.634\n",
      "Порог = 0.33 | Точность = 0.618, Полнота = 0.662, F1-мера = 0.639\n",
      "Порог = 0.34 | Точность = 0.628, Полнота = 0.645, F1-мера = 0.636\n",
      "Порог = 0.35 | Точность = 0.641, Полнота = 0.635, F1-мера = 0.638\n",
      "Порог = 0.36 | Точность = 0.656, Полнота = 0.623, F1-мера = 0.639\n",
      "Порог = 0.37 | Точность = 0.671, Полнота = 0.620, F1-мера = 0.645\n",
      "Порог = 0.38 | Точность = 0.685, Полнота = 0.613, F1-мера = 0.647\n",
      "Порог = 0.39 | Точность = 0.695, Полнота = 0.603, F1-мера = 0.646\n",
      "Порог = 0.40 | Точность = 0.704, Полнота = 0.588, F1-мера = 0.641\n",
      "Порог = 0.41 | Точность = 0.713, Полнота = 0.583, F1-мера = 0.642\n",
      "Порог = 0.42 | Точность = 0.720, Полнота = 0.569, F1-мера = 0.636\n",
      "Порог = 0.43 | Точность = 0.729, Полнота = 0.561, F1-мера = 0.634\n",
      "Порог = 0.44 | Точность = 0.731, Полнота = 0.551, F1-мера = 0.628\n",
      "Порог = 0.45 | Точность = 0.747, Полнота = 0.544, F1-мера = 0.630\n",
      "Порог = 0.46 | Точность = 0.758, Полнота = 0.537, F1-мера = 0.628\n",
      "Порог = 0.47 | Точность = 0.768, Полнота = 0.527, F1-мера = 0.625\n",
      "Порог = 0.48 | Точность = 0.784, Полнота = 0.515, F1-мера = 0.621\n",
      "Порог = 0.49 | Точность = 0.792, Полнота = 0.502, F1-мера = 0.615\n",
      "Порог = 0.50 | Точность = 0.801, Полнота = 0.502, F1-мера = 0.617\n",
      "Порог = 0.51 | Точность = 0.798, Полнота = 0.485, F1-мера = 0.604\n",
      "Порог = 0.52 | Точность = 0.805, Полнота = 0.475, F1-мера = 0.598\n",
      "Порог = 0.53 | Точность = 0.813, Полнота = 0.458, F1-мера = 0.586\n",
      "Порог = 0.54 | Точность = 0.816, Полнота = 0.446, F1-мера = 0.577\n",
      "Порог = 0.55 | Точность = 0.826, Полнота = 0.431, F1-мера = 0.567\n",
      "Порог = 0.56 | Точность = 0.836, Полнота = 0.424, F1-мера = 0.563\n",
      "Порог = 0.57 | Точность = 0.833, Полнота = 0.417, F1-мера = 0.556\n",
      "Порог = 0.58 | Точность = 0.833, Полнота = 0.404, F1-мера = 0.545\n",
      "Порог = 0.59 | Точность = 0.837, Полнота = 0.377, F1-мера = 0.520\n",
      "Порог = 0.60 | Точность = 0.842, Полнота = 0.377, F1-мера = 0.521\n",
      "Порог = 0.61 | Точность = 0.851, Полнота = 0.363, F1-мера = 0.509\n",
      "Порог = 0.62 | Точность = 0.867, Полнота = 0.353, F1-мера = 0.502\n",
      "Порог = 0.63 | Точность = 0.870, Полнота = 0.343, F1-мера = 0.492\n",
      "Порог = 0.64 | Точность = 0.878, Полнота = 0.336, F1-мера = 0.486\n",
      "Порог = 0.65 | Точность = 0.873, Полнота = 0.321, F1-мера = 0.470\n",
      "Порог = 0.66 | Точность = 0.875, Полнота = 0.309, F1-мера = 0.457\n",
      "Порог = 0.67 | Точность = 0.878, Полнота = 0.299, F1-мера = 0.446\n",
      "Порог = 0.68 | Точность = 0.877, Полнота = 0.279, F1-мера = 0.424\n",
      "Порог = 0.69 | Точность = 0.885, Полнота = 0.265, F1-мера = 0.408\n",
      "Порог = 0.70 | Точность = 0.878, Полнота = 0.248, F1-мера = 0.386\n",
      "Порог = 0.71 | Точность = 0.907, Полнота = 0.238, F1-мера = 0.377\n",
      "Порог = 0.72 | Точность = 0.906, Полнота = 0.235, F1-мера = 0.374\n",
      "Порог = 0.73 | Точность = 0.903, Полнота = 0.228, F1-мера = 0.364\n",
      "Порог = 0.74 | Точность = 0.898, Полнота = 0.216, F1-мера = 0.348\n",
      "Порог = 0.75 | Точность = 0.892, Полнота = 0.203, F1-мера = 0.331\n",
      "Порог = 0.76 | Точность = 0.893, Полнота = 0.184, F1-мера = 0.305\n",
      "Порог = 0.77 | Точность = 0.897, Полнота = 0.172, F1-мера = 0.288\n",
      "Порог = 0.78 | Точность = 0.886, Полнота = 0.152, F1-мера = 0.259\n",
      "Порог = 0.79 | Точность = 0.903, Полнота = 0.137, F1-мера = 0.238\n",
      "Порог = 0.80 | Точность = 0.900, Полнота = 0.132, F1-мера = 0.231\n",
      "Порог = 0.81 | Точность = 0.893, Полнота = 0.123, F1-мера = 0.216\n",
      "Порог = 0.82 | Точность = 0.906, Полнота = 0.118, F1-мера = 0.208\n",
      "Порог = 0.83 | Точность = 0.911, Полнота = 0.100, F1-мера = 0.181\n",
      "Порог = 0.84 | Точность = 0.919, Полнота = 0.083, F1-мера = 0.153\n",
      "Порог = 0.85 | Точность = 0.939, Полнота = 0.076, F1-мера = 0.141\n",
      "Порог = 0.86 | Точность = 0.931, Полнота = 0.066, F1-мера = 0.124\n",
      "Порог = 0.87 | Точность = 0.920, Полнота = 0.056, F1-мера = 0.106\n",
      "Порог = 0.88 | Точность = 0.905, Полнота = 0.047, F1-мера = 0.089\n",
      "Порог = 0.89 | Точность = 0.846, Полнота = 0.027, F1-мера = 0.052\n",
      "Порог = 0.90 | Точность = 1.000, Полнота = 0.020, F1-мера = 0.038\n",
      "Порог = 0.91 | Точность = 1.000, Полнота = 0.015, F1-мера = 0.029\n",
      "Порог = 0.92 | Точность = 1.000, Полнота = 0.010, F1-мера = 0.019\n",
      "Порог = 0.93 | Точность = 1.000, Полнота = 0.007, F1-мера = 0.015\n",
      "Порог = 0.94 | Точность = 1.000, Полнота = 0.002, F1-мера = 0.005\n",
      "Порог = 0.95 | Точность = 1.000, Полнота = 0.002, F1-мера = 0.005\n",
      "Порог = 0.96 | Точность = 1.000, Полнота = 0.002, F1-мера = 0.005\n",
      "Порог = 0.97 | Точность = 0.000, Полнота = 0.000, F1-мера = 0.000\n",
      "Порог = 0.98 | Точность = 0.000, Полнота = 0.000, F1-мера = 0.000\n",
      "Порог = 0.99 | Точность = 0.000, Полнота = 0.000, F1-мера = 0.000\n"
     ]
    }
   ],
   "source": [
    "# порог вероятности классов\n",
    "models = [LogisticRegression(random_state=42, solver='liblinear'),\n",
    "              DecisionTreeClassifier(random_state=42, max_depth=8),\n",
    "              RandomForestClassifier(random_state=42, n_estimators=500, max_depth=24)]\n",
    "results = []\n",
    "for model in models:\n",
    "    model.fit(features_train, target_train)\n",
    "    probabilities_valid = model.predict_proba(features_valid)\n",
    "    probabilities_one_valid = probabilities_valid[:, 1]\n",
    "    \n",
    "    for threshold in np.arange(0, 1.0, 0.01):\n",
    "        predicted_valid = probabilities_one_valid > threshold\n",
    "        precision = precision_score(target_valid, predicted_valid)\n",
    "        recall = recall_score(target_valid, predicted_valid)\n",
    "        f1 = f1_score(target_valid, predicted_valid)\n",
    "        print(\"Порог = {:.2f} | Точность = {:.3f}, Полнота = {:.3f}, F1-мера = {:.3f}\".format(\n",
    "            threshold, precision, recall, f1))"
   ]
  },
  {
   "cell_type": "markdown",
   "metadata": {},
   "source": [
    "## Борьба с дисбалансом"
   ]
  },
  {
   "cell_type": "markdown",
   "metadata": {},
   "source": [
    "Для борьбы с дисбалансом классов попробуем:\n",
    "* взвешивание классов (`class_weight='balanced'`)\n",
    "* увеличение выборки положительного класса (`upsampling`)\n",
    "* уменьшение выборки отрицательного класса (`downsampling`)"
   ]
  },
  {
   "cell_type": "code",
   "execution_count": 16,
   "metadata": {},
   "outputs": [
    {
     "data": {
      "text/html": [
       "<div>\n",
       "<style scoped>\n",
       "    .dataframe tbody tr th:only-of-type {\n",
       "        vertical-align: middle;\n",
       "    }\n",
       "\n",
       "    .dataframe tbody tr th {\n",
       "        vertical-align: top;\n",
       "    }\n",
       "\n",
       "    .dataframe thead th {\n",
       "        text-align: right;\n",
       "    }\n",
       "</style>\n",
       "<table border=\"1\" class=\"dataframe\">\n",
       "  <thead>\n",
       "    <tr style=\"text-align: right;\">\n",
       "      <th></th>\n",
       "      <th>Модель</th>\n",
       "      <th>Точность</th>\n",
       "      <th>F1-мера</th>\n",
       "      <th>AUC-ROC</th>\n",
       "    </tr>\n",
       "  </thead>\n",
       "  <tbody>\n",
       "    <tr>\n",
       "      <th>0</th>\n",
       "      <td>LogisticRegression</td>\n",
       "      <td>0.7165</td>\n",
       "      <td>0.516624</td>\n",
       "      <td>0.791430</td>\n",
       "    </tr>\n",
       "    <tr>\n",
       "      <th>1</th>\n",
       "      <td>DecisionTreeClassifier</td>\n",
       "      <td>0.7620</td>\n",
       "      <td>0.564899</td>\n",
       "      <td>0.809362</td>\n",
       "    </tr>\n",
       "    <tr>\n",
       "      <th>2</th>\n",
       "      <td>RandomForestClassifier</td>\n",
       "      <td>0.8680</td>\n",
       "      <td>0.602410</td>\n",
       "      <td>0.870138</td>\n",
       "    </tr>\n",
       "  </tbody>\n",
       "</table>\n",
       "</div>"
      ],
      "text/plain": [
       "                   Модель  Точность   F1-мера   AUC-ROC\n",
       "0      LogisticRegression    0.7165  0.516624  0.791430\n",
       "1  DecisionTreeClassifier    0.7620  0.564899  0.809362\n",
       "2  RandomForestClassifier    0.8680  0.602410  0.870138"
      ]
     },
     "execution_count": 16,
     "metadata": {},
     "output_type": "execute_result"
    }
   ],
   "source": [
    "# взвешивание классов: class_weight='balanced'\n",
    "modeling(features_train, target_train, 'balanced')"
   ]
  },
  {
   "cell_type": "markdown",
   "metadata": {},
   "source": [
    "F1-мера увеличилась у логистической регрессии и уменьшилась у решающего дерева и случайного леса."
   ]
  },
  {
   "cell_type": "code",
   "execution_count": 17,
   "metadata": {},
   "outputs": [
    {
     "data": {
      "text/html": [
       "<div>\n",
       "<style scoped>\n",
       "    .dataframe tbody tr th:only-of-type {\n",
       "        vertical-align: middle;\n",
       "    }\n",
       "\n",
       "    .dataframe tbody tr th {\n",
       "        vertical-align: top;\n",
       "    }\n",
       "\n",
       "    .dataframe thead th {\n",
       "        text-align: right;\n",
       "    }\n",
       "</style>\n",
       "<table border=\"1\" class=\"dataframe\">\n",
       "  <thead>\n",
       "    <tr style=\"text-align: right;\">\n",
       "      <th></th>\n",
       "      <th>Модель</th>\n",
       "      <th>Точность</th>\n",
       "      <th>F1-мера</th>\n",
       "      <th>AUC-ROC</th>\n",
       "    </tr>\n",
       "  </thead>\n",
       "  <tbody>\n",
       "    <tr>\n",
       "      <th>0</th>\n",
       "      <td>LogisticRegression</td>\n",
       "      <td>0.7635</td>\n",
       "      <td>0.528415</td>\n",
       "      <td>0.791095</td>\n",
       "    </tr>\n",
       "    <tr>\n",
       "      <th>1</th>\n",
       "      <td>DecisionTreeClassifier</td>\n",
       "      <td>0.7975</td>\n",
       "      <td>0.574132</td>\n",
       "      <td>0.822454</td>\n",
       "    </tr>\n",
       "    <tr>\n",
       "      <th>2</th>\n",
       "      <td>RandomForestClassifier</td>\n",
       "      <td>0.8610</td>\n",
       "      <td>0.626344</td>\n",
       "      <td>0.867567</td>\n",
       "    </tr>\n",
       "  </tbody>\n",
       "</table>\n",
       "</div>"
      ],
      "text/plain": [
       "                   Модель  Точность   F1-мера   AUC-ROC\n",
       "0      LogisticRegression    0.7635  0.528415  0.791095\n",
       "1  DecisionTreeClassifier    0.7975  0.574132  0.822454\n",
       "2  RandomForestClassifier    0.8610  0.626344  0.867567"
      ]
     },
     "execution_count": 17,
     "metadata": {},
     "output_type": "execute_result"
    }
   ],
   "source": [
    "# увеличение выборки\n",
    "def upsample(features, target, repeat):\n",
    "    features_zeros = features[target == 0]\n",
    "    features_ones = features[target == 1]\n",
    "    target_zeros = target[target == 0]\n",
    "    target_ones = target[target == 1]\n",
    "\n",
    "    features_upsampled = pd.concat([features_zeros] + [features_ones] * repeat)\n",
    "    target_upsampled = pd.concat([target_zeros] + [target_ones] * repeat)\n",
    "    \n",
    "    features_upsampled, target_upsampled = shuffle(\n",
    "        features_upsampled, target_upsampled, random_state=42)\n",
    "    \n",
    "    return features_upsampled, target_upsampled\n",
    "\n",
    "features_upsampled, target_upsampled = upsample(features_train, target_train, 3)\n",
    "\n",
    "modeling(features_upsampled, target_upsampled, None)"
   ]
  },
  {
   "cell_type": "markdown",
   "metadata": {},
   "source": [
    "F1-мера у всех моделей выросла."
   ]
  },
  {
   "cell_type": "code",
   "execution_count": 18,
   "metadata": {
    "scrolled": true
   },
   "outputs": [
    {
     "data": {
      "text/html": [
       "<div>\n",
       "<style scoped>\n",
       "    .dataframe tbody tr th:only-of-type {\n",
       "        vertical-align: middle;\n",
       "    }\n",
       "\n",
       "    .dataframe tbody tr th {\n",
       "        vertical-align: top;\n",
       "    }\n",
       "\n",
       "    .dataframe thead th {\n",
       "        text-align: right;\n",
       "    }\n",
       "</style>\n",
       "<table border=\"1\" class=\"dataframe\">\n",
       "  <thead>\n",
       "    <tr style=\"text-align: right;\">\n",
       "      <th></th>\n",
       "      <th>Модель</th>\n",
       "      <th>Точность</th>\n",
       "      <th>F1-мера</th>\n",
       "      <th>AUC-ROC</th>\n",
       "    </tr>\n",
       "  </thead>\n",
       "  <tbody>\n",
       "    <tr>\n",
       "      <th>0</th>\n",
       "      <td>LogisticRegression</td>\n",
       "      <td>0.7960</td>\n",
       "      <td>0.531034</td>\n",
       "      <td>0.789873</td>\n",
       "    </tr>\n",
       "    <tr>\n",
       "      <th>1</th>\n",
       "      <td>DecisionTreeClassifier</td>\n",
       "      <td>0.8115</td>\n",
       "      <td>0.591549</td>\n",
       "      <td>0.818056</td>\n",
       "    </tr>\n",
       "    <tr>\n",
       "      <th>2</th>\n",
       "      <td>RandomForestClassifier</td>\n",
       "      <td>0.8475</td>\n",
       "      <td>0.644936</td>\n",
       "      <td>0.867313</td>\n",
       "    </tr>\n",
       "  </tbody>\n",
       "</table>\n",
       "</div>"
      ],
      "text/plain": [
       "                   Модель  Точность   F1-мера   AUC-ROC\n",
       "0      LogisticRegression    0.7960  0.531034  0.789873\n",
       "1  DecisionTreeClassifier    0.8115  0.591549  0.818056\n",
       "2  RandomForestClassifier    0.8475  0.644936  0.867313"
      ]
     },
     "execution_count": 18,
     "metadata": {},
     "output_type": "execute_result"
    }
   ],
   "source": [
    "# уменьшение выборки\n",
    "def downsample(features, target, fraction):\n",
    "    features_zeros = features[target == 0]\n",
    "    features_ones = features[target == 1]\n",
    "    target_zeros = target[target == 0]\n",
    "    target_ones = target[target == 1]\n",
    "\n",
    "    features_downsampled = pd.concat(\n",
    "        [features_zeros.sample(frac=fraction, random_state=42)] + [features_ones])\n",
    "    target_downsampled = pd.concat(\n",
    "        [target_zeros.sample(frac=fraction, random_state=42)] + [target_ones])\n",
    "    \n",
    "    features_downsampled, target_downsampled = shuffle(\n",
    "        features_downsampled, target_downsampled, random_state=42)\n",
    "    \n",
    "    return features_downsampled, target_downsampled\n",
    "\n",
    "features_downsampled, target_downsampled = downsample(features_train, target_train, 0.44)\n",
    "\n",
    "modeling(features_downsampled, target_downsampled, None)"
   ]
  },
  {
   "cell_type": "markdown",
   "metadata": {},
   "source": [
    " F1-мера у всех моделей выросла."
   ]
  },
  {
   "cell_type": "markdown",
   "metadata": {},
   "source": [
    "**Вывод**  \n",
    "\n",
    "Наилучший результат по ключевой метрике F1-меры получился у модели случайного леса на уменьшенной выборке и составил: `0.64`, что удовлетворяет необходимому условию."
   ]
  },
  {
   "cell_type": "markdown",
   "metadata": {},
   "source": [
    "## Тестирование модели"
   ]
  },
  {
   "cell_type": "code",
   "execution_count": 22,
   "metadata": {
    "scrolled": true
   },
   "outputs": [
    {
     "data": {
      "text/html": [
       "<div>\n",
       "<style scoped>\n",
       "    .dataframe tbody tr th:only-of-type {\n",
       "        vertical-align: middle;\n",
       "    }\n",
       "\n",
       "    .dataframe tbody tr th {\n",
       "        vertical-align: top;\n",
       "    }\n",
       "\n",
       "    .dataframe thead th {\n",
       "        text-align: right;\n",
       "    }\n",
       "</style>\n",
       "<table border=\"1\" class=\"dataframe\">\n",
       "  <thead>\n",
       "    <tr style=\"text-align: right;\">\n",
       "      <th></th>\n",
       "      <th>Модель</th>\n",
       "      <th>Точность</th>\n",
       "      <th>F1-мера</th>\n",
       "      <th>AUC-ROC</th>\n",
       "    </tr>\n",
       "  </thead>\n",
       "  <tbody>\n",
       "    <tr>\n",
       "      <th>0</th>\n",
       "      <td>LogisticRegression</td>\n",
       "      <td>0.7900</td>\n",
       "      <td>0.508197</td>\n",
       "      <td>0.771505</td>\n",
       "    </tr>\n",
       "    <tr>\n",
       "      <th>1</th>\n",
       "      <td>DecisionTreeClassifier</td>\n",
       "      <td>0.7880</td>\n",
       "      <td>0.547974</td>\n",
       "      <td>0.770326</td>\n",
       "    </tr>\n",
       "    <tr>\n",
       "      <th>2</th>\n",
       "      <td>RandomForestClassifier</td>\n",
       "      <td>0.8405</td>\n",
       "      <td>0.617047</td>\n",
       "      <td>0.850680</td>\n",
       "    </tr>\n",
       "  </tbody>\n",
       "</table>\n",
       "</div>"
      ],
      "text/plain": [
       "                   Модель  Точность   F1-мера   AUC-ROC\n",
       "0      LogisticRegression    0.7900  0.508197  0.771505\n",
       "1  DecisionTreeClassifier    0.7880  0.547974  0.770326\n",
       "2  RandomForestClassifier    0.8405  0.617047  0.850680"
      ]
     },
     "execution_count": 22,
     "metadata": {},
     "output_type": "execute_result"
    }
   ],
   "source": [
    "# проверим модели на тестовой выборке\n",
    "models = [LogisticRegression(random_state=42, solver='liblinear'),\n",
    "              DecisionTreeClassifier(random_state=42, max_depth=9),\n",
    "              RandomForestClassifier(random_state=42, n_estimators=500, max_depth=27)]\n",
    "results = []\n",
    "for model in models:\n",
    "    model.fit(features_downsampled, target_downsampled)\n",
    "    predictions_valid = model.predict(features_test)\n",
    "    probabilities_valid = model.predict_proba(features_test)\n",
    "    \n",
    "    accuracy = accuracy_score(target_test, predictions_valid)\n",
    "    f1 = f1_score(target_test, predictions_valid)\n",
    "    roc_auc = roc_auc_score(target_test, probabilities_valid[:,1])\n",
    "    \n",
    "    results.append({'Модель': model.__class__.__name__, \n",
    "                               'Точность': accuracy, \n",
    "                               'F1-мера': f1, \n",
    "                               'AUC-ROC': roc_auc})\n",
    "pd.DataFrame(results)"
   ]
  },
  {
   "cell_type": "markdown",
   "metadata": {},
   "source": [
    "На тестовой выборке, у модели случайного леса, F1-мера составила `0.61`, AUC-ROC: `0.85`, точность: `0.84`."
   ]
  },
  {
   "cell_type": "code",
   "execution_count": 20,
   "metadata": {},
   "outputs": [
    {
     "name": "stdout",
     "output_type": "stream",
     "text": [
      "0.7963\n"
     ]
    },
    {
     "data": {
      "image/png": "[encoded data removed]",
      "text/plain": [
       "<Figure size 432x288 with 1 Axes>"
      ]
     },
     "metadata": {
      "needs_background": "light"
     },
     "output_type": "display_data"
    }
   ],
   "source": [
    "# проверим модель на адекватность\n",
    "model = RandomForestClassifier(random_state=42, n_estimators=500, max_depth=24)\n",
    "model.fit(features_downsampled, target_downsampled)\n",
    "predicted_valid_adequacy = pd.Series(model.predict(features_valid))\n",
    "class_frequency = predicted_valid_adequacy.value_counts(normalize=True)\n",
    "class_frequency.plot(kind='bar')\n",
    "target_pred_constant = pd.Series([0]*len(target))\n",
    "print(accuracy_score(target, target_pred_constant))"
   ]
  },
  {
   "cell_type": "markdown",
   "metadata": {},
   "source": [
    "Модель адекватна."
   ]
  },
  {
   "cell_type": "markdown",
   "metadata": {},
   "source": [
    "Проверка модели на тестовой выборке показала, что модель работает: показатель метрики F1-меры удалось достигнуть необходимого значения.\n",
    "Итоговая модель: случайный лес (`RandomForestClassifier`), с гиперпараметрами `n_estimators=500`, `max_depth=24`, построенная на увеличенной выборке."
   ]
  },
  {
   "cell_type": "markdown",
   "metadata": {},
   "source": [
    "## Чек-лист готовности проекта"
   ]
  },
  {
   "cell_type": "markdown",
   "metadata": {},
   "source": [
    "Поставьте 'x' в выполненных пунктах. Далее нажмите Shift+Enter."
   ]
  },
  {
   "cell_type": "markdown",
   "metadata": {},
   "source": [
    "- [x]  Jupyter Notebook открыт\n",
    "- [x]  Весь код выполняется без ошибок\n",
    "- [x]  Ячейки с кодом расположены в порядке исполнения\n",
    "- [x]  Выполнен шаг 1: данные подготовлены\n",
    "- [x]  Выполнен шаг 2: задача исследована\n",
    "    - [x]  Исследован баланс классов\n",
    "    - [x]  Изучены модели без учёта дисбаланса\n",
    "    - [x]  Написаны выводы по результатам исследования\n",
    "- [x]  Выполнен шаг 3: учтён дисбаланс\n",
    "    - [x]  Применено несколько способов борьбы с дисбалансом\n",
    "    - [x]  Написаны выводы по результатам исследования\n",
    "- [x]  Выполнен шаг 4: проведено тестирование\n",
    "- [x]  Удалось достичь *F1*-меры не менее 0.59\n",
    "- [x]  Исследована метрика *AUC-ROC*"
   ]
  }
 ],
 "metadata": {
  "ExecuteTimeLog": [
   {
    "duration": 1662,
    "start_time": "2022-05-20T16:59:18.659Z"
   },
   {
    "duration": 112,
    "start_time": "2022-05-20T16:59:21.447Z"
   },
   {
    "duration": 52,
    "start_time": "2022-05-20T17:10:04.580Z"
   },
   {
    "duration": 189,
    "start_time": "2022-05-20T17:10:42.354Z"
   },
   {
    "duration": 66,
    "start_time": "2022-05-20T17:10:58.518Z"
   },
   {
    "duration": 66,
    "start_time": "2022-05-20T17:11:30.806Z"
   },
   {
    "duration": 55,
    "start_time": "2022-05-20T17:15:31.074Z"
   },
   {
    "duration": 12,
    "start_time": "2022-05-20T17:20:05.253Z"
   },
   {
    "duration": 32,
    "start_time": "2022-05-20T17:49:11.384Z"
   },
   {
    "duration": 922,
    "start_time": "2022-05-20T17:53:44.710Z"
   },
   {
    "duration": 6,
    "start_time": "2022-05-20T17:56:57.628Z"
   },
   {
    "duration": 4,
    "start_time": "2022-05-20T17:57:32.175Z"
   },
   {
    "duration": 4,
    "start_time": "2022-05-20T17:57:35.954Z"
   },
   {
    "duration": 48,
    "start_time": "2022-05-20T17:58:35.326Z"
   },
   {
    "duration": 33,
    "start_time": "2022-05-20T17:58:48.092Z"
   },
   {
    "duration": 4,
    "start_time": "2022-05-20T18:00:09.275Z"
   },
   {
    "duration": 5,
    "start_time": "2022-05-20T18:08:31.036Z"
   },
   {
    "duration": 12,
    "start_time": "2022-05-20T18:09:44.700Z"
   },
   {
    "duration": 6,
    "start_time": "2022-05-20T18:09:49.620Z"
   },
   {
    "duration": 480,
    "start_time": "2022-05-20T18:18:22.648Z"
   },
   {
    "duration": 21,
    "start_time": "2022-05-20T18:18:39.335Z"
   },
   {
    "duration": 9,
    "start_time": "2022-05-20T18:25:56.001Z"
   },
   {
    "duration": 9,
    "start_time": "2022-05-20T18:26:09.391Z"
   },
   {
    "duration": 10,
    "start_time": "2022-05-20T18:31:01.917Z"
   },
   {
    "duration": 10,
    "start_time": "2022-05-20T18:31:52.215Z"
   },
   {
    "duration": 11,
    "start_time": "2022-05-20T18:32:00.270Z"
   },
   {
    "duration": 24,
    "start_time": "2022-05-20T18:46:27.449Z"
   },
   {
    "duration": 5,
    "start_time": "2022-05-20T18:52:49.370Z"
   },
   {
    "duration": 6,
    "start_time": "2022-05-20T18:53:27.070Z"
   },
   {
    "duration": 5,
    "start_time": "2022-05-20T18:54:46.319Z"
   },
   {
    "duration": 7,
    "start_time": "2022-05-20T18:54:51.837Z"
   },
   {
    "duration": 6,
    "start_time": "2022-05-20T18:54:56.772Z"
   },
   {
    "duration": 5,
    "start_time": "2022-05-20T18:55:02.144Z"
   },
   {
    "duration": 6,
    "start_time": "2022-05-20T18:55:10.498Z"
   },
   {
    "duration": 6,
    "start_time": "2022-05-20T18:55:13.183Z"
   },
   {
    "duration": 7,
    "start_time": "2022-05-20T18:55:16.722Z"
   },
   {
    "duration": 6,
    "start_time": "2022-05-20T18:55:21.104Z"
   },
   {
    "duration": 16,
    "start_time": "2022-05-20T19:13:16.715Z"
   },
   {
    "duration": 20,
    "start_time": "2022-05-20T19:15:24.233Z"
   },
   {
    "duration": 13,
    "start_time": "2022-05-20T19:16:08.108Z"
   },
   {
    "duration": 11,
    "start_time": "2022-05-20T19:16:58.974Z"
   },
   {
    "duration": 12,
    "start_time": "2022-05-20T19:17:07.137Z"
   },
   {
    "duration": 14,
    "start_time": "2022-05-20T19:18:26.157Z"
   },
   {
    "duration": 15,
    "start_time": "2022-05-20T19:19:22.841Z"
   },
   {
    "duration": 49,
    "start_time": "2022-05-20T19:21:42.316Z"
   },
   {
    "duration": 2,
    "start_time": "2022-05-20T19:22:13.936Z"
   },
   {
    "duration": 44,
    "start_time": "2022-05-20T19:22:18.897Z"
   },
   {
    "duration": 8,
    "start_time": "2022-05-20T19:28:01.896Z"
   },
   {
    "duration": 3,
    "start_time": "2022-05-20T19:40:40.787Z"
   },
   {
    "duration": 2,
    "start_time": "2022-05-20T19:40:45.070Z"
   },
   {
    "duration": 4,
    "start_time": "2022-05-20T23:13:44.192Z"
   },
   {
    "duration": 9,
    "start_time": "2022-05-20T23:14:39.158Z"
   },
   {
    "duration": 4,
    "start_time": "2022-05-20T23:14:42.579Z"
   },
   {
    "duration": 47,
    "start_time": "2022-05-20T23:17:28.215Z"
   },
   {
    "duration": 192,
    "start_time": "2022-05-20T23:20:09.344Z"
   },
   {
    "duration": 4,
    "start_time": "2022-05-20T23:21:55.944Z"
   },
   {
    "duration": 4,
    "start_time": "2022-05-20T23:22:45.904Z"
   },
   {
    "duration": 6,
    "start_time": "2022-05-20T23:23:33.005Z"
   },
   {
    "duration": 26,
    "start_time": "2022-05-20T23:27:48.353Z"
   },
   {
    "duration": 111,
    "start_time": "2022-05-20T23:27:59.244Z"
   },
   {
    "duration": 214,
    "start_time": "2022-05-20T23:28:04.796Z"
   },
   {
    "duration": 571,
    "start_time": "2022-05-20T23:28:13.270Z"
   },
   {
    "duration": 1069,
    "start_time": "2022-05-20T23:28:36.986Z"
   },
   {
    "duration": 2249,
    "start_time": "2022-05-20T23:28:44.410Z"
   },
   {
    "duration": 487,
    "start_time": "2022-05-20T23:28:59.096Z"
   },
   {
    "duration": 567,
    "start_time": "2022-05-20T23:29:08.170Z"
   },
   {
    "duration": 17,
    "start_time": "2022-05-20T23:29:13.422Z"
   },
   {
    "duration": 35,
    "start_time": "2022-05-20T23:29:17.244Z"
   },
   {
    "duration": 92,
    "start_time": "2022-05-20T23:29:22.210Z"
   },
   {
    "duration": 203,
    "start_time": "2022-05-20T23:29:31.781Z"
   },
   {
    "duration": 110,
    "start_time": "2022-05-20T23:29:36.597Z"
   },
   {
    "duration": 134,
    "start_time": "2022-05-20T23:29:41.817Z"
   },
   {
    "duration": 155,
    "start_time": "2022-05-20T23:29:44.620Z"
   },
   {
    "duration": 187,
    "start_time": "2022-05-20T23:29:47.682Z"
   },
   {
    "duration": 153,
    "start_time": "2022-05-20T23:29:53.277Z"
   },
   {
    "duration": 61,
    "start_time": "2022-05-20T23:30:04.345Z"
   },
   {
    "duration": 51,
    "start_time": "2022-05-20T23:30:10.722Z"
   },
   {
    "duration": 81,
    "start_time": "2022-05-20T23:30:15.673Z"
   },
   {
    "duration": 48,
    "start_time": "2022-05-20T23:30:19.525Z"
   },
   {
    "duration": 48,
    "start_time": "2022-05-20T23:30:43.645Z"
   },
   {
    "duration": 10,
    "start_time": "2022-05-20T23:32:41.280Z"
   },
   {
    "duration": 4,
    "start_time": "2022-05-20T23:33:32.402Z"
   },
   {
    "duration": 17298,
    "start_time": "2022-05-20T23:33:39.046Z"
   },
   {
    "duration": 93154,
    "start_time": "2022-05-20T23:34:42.244Z"
   },
   {
    "duration": 48454,
    "start_time": "2022-05-20T23:36:54.291Z"
   },
   {
    "duration": 37202,
    "start_time": "2022-05-20T23:38:08.722Z"
   },
   {
    "duration": 60369,
    "start_time": "2022-05-20T23:39:11.977Z"
   },
   {
    "duration": 58401,
    "start_time": "2022-05-20T23:40:43.990Z"
   },
   {
    "duration": 14048,
    "start_time": "2022-05-20T23:48:26.556Z"
   },
   {
    "duration": 580,
    "start_time": "2022-05-20T23:49:49.808Z"
   },
   {
    "duration": 642,
    "start_time": "2022-05-20T23:52:37.843Z"
   },
   {
    "duration": 591,
    "start_time": "2022-05-21T00:04:25.401Z"
   },
   {
    "duration": 646,
    "start_time": "2022-05-21T00:04:36.956Z"
   },
   {
    "duration": 656,
    "start_time": "2022-05-21T00:06:43.343Z"
   },
   {
    "duration": 10,
    "start_time": "2022-05-21T00:08:40.398Z"
   },
   {
    "duration": 8546,
    "start_time": "2022-05-21T00:12:15.320Z"
   },
   {
    "duration": 47,
    "start_time": "2022-05-21T00:12:44.660Z"
   },
   {
    "duration": 628,
    "start_time": "2022-05-21T00:12:53.181Z"
   },
   {
    "duration": 638,
    "start_time": "2022-05-21T00:13:01.415Z"
   },
   {
    "duration": 634,
    "start_time": "2022-05-21T00:13:09.320Z"
   },
   {
    "duration": 665,
    "start_time": "2022-05-21T00:13:16.045Z"
   },
   {
    "duration": 102860,
    "start_time": "2022-05-21T00:14:27.158Z"
   },
   {
    "duration": 613,
    "start_time": "2022-05-21T00:16:28.374Z"
   },
   {
    "duration": 598,
    "start_time": "2022-05-21T00:16:50.800Z"
   },
   {
    "duration": 287,
    "start_time": "2022-05-21T00:17:06.438Z"
   },
   {
    "duration": 586,
    "start_time": "2022-05-21T00:17:16.391Z"
   },
   {
    "duration": 723,
    "start_time": "2022-05-21T00:17:21.970Z"
   },
   {
    "duration": 491,
    "start_time": "2022-05-21T00:17:31.270Z"
   },
   {
    "duration": 537,
    "start_time": "2022-05-21T00:17:36.598Z"
   },
   {
    "duration": 653,
    "start_time": "2022-05-21T00:17:48.326Z"
   },
   {
    "duration": 1115,
    "start_time": "2022-05-21T00:32:35.301Z"
   },
   {
    "duration": 2,
    "start_time": "2022-05-21T00:32:36.418Z"
   },
   {
    "duration": 85,
    "start_time": "2022-05-21T00:32:36.421Z"
   },
   {
    "duration": 11,
    "start_time": "2022-05-21T00:32:36.507Z"
   },
   {
    "duration": 36,
    "start_time": "2022-05-21T00:32:36.519Z"
   },
   {
    "duration": 7,
    "start_time": "2022-05-21T00:32:36.557Z"
   },
   {
    "duration": 5,
    "start_time": "2022-05-21T00:32:36.565Z"
   },
   {
    "duration": 23,
    "start_time": "2022-05-21T00:32:36.571Z"
   },
   {
    "duration": 31,
    "start_time": "2022-05-21T00:32:36.596Z"
   },
   {
    "duration": 16,
    "start_time": "2022-05-21T00:32:36.629Z"
   },
   {
    "duration": 61,
    "start_time": "2022-05-21T00:32:36.646Z"
   },
   {
    "duration": 1113,
    "start_time": "2022-05-21T00:33:12.300Z"
   },
   {
    "duration": 2,
    "start_time": "2022-05-21T00:33:13.415Z"
   },
   {
    "duration": 86,
    "start_time": "2022-05-21T00:33:13.418Z"
   },
   {
    "duration": 11,
    "start_time": "2022-05-21T00:33:13.506Z"
   },
   {
    "duration": 47,
    "start_time": "2022-05-21T00:33:13.519Z"
   },
   {
    "duration": 7,
    "start_time": "2022-05-21T00:33:13.568Z"
   },
   {
    "duration": 14,
    "start_time": "2022-05-21T00:33:13.576Z"
   },
   {
    "duration": 46,
    "start_time": "2022-05-21T00:33:13.591Z"
   },
   {
    "duration": 20,
    "start_time": "2022-05-21T00:33:13.638Z"
   },
   {
    "duration": 22,
    "start_time": "2022-05-21T00:33:13.659Z"
   },
   {
    "duration": 52,
    "start_time": "2022-05-21T00:33:13.683Z"
   },
   {
    "duration": 5,
    "start_time": "2022-05-21T00:33:13.736Z"
   },
   {
    "duration": 0,
    "start_time": "2022-05-21T00:33:13.742Z"
   },
   {
    "duration": 7,
    "start_time": "2022-05-21T00:33:21.889Z"
   },
   {
    "duration": 35,
    "start_time": "2022-05-21T00:34:06.563Z"
   },
   {
    "duration": 594,
    "start_time": "2022-05-21T00:34:16.400Z"
   },
   {
    "duration": 628,
    "start_time": "2022-05-21T00:34:29.165Z"
   },
   {
    "duration": 636,
    "start_time": "2022-05-21T00:34:37.850Z"
   },
   {
    "duration": 587,
    "start_time": "2022-05-21T00:34:43.805Z"
   },
   {
    "duration": 631,
    "start_time": "2022-05-21T00:35:00.472Z"
   },
   {
    "duration": 649,
    "start_time": "2022-05-21T00:35:10.144Z"
   },
   {
    "duration": 631,
    "start_time": "2022-05-21T00:35:18.863Z"
   },
   {
    "duration": 640,
    "start_time": "2022-05-21T00:35:26.246Z"
   },
   {
    "duration": 392,
    "start_time": "2022-05-21T00:35:45.743Z"
   },
   {
    "duration": 594,
    "start_time": "2022-05-21T00:36:09.098Z"
   },
   {
    "duration": 580,
    "start_time": "2022-05-21T00:36:19.211Z"
   },
   {
    "duration": 586,
    "start_time": "2022-05-21T00:36:24.609Z"
   },
   {
    "duration": 645,
    "start_time": "2022-05-21T00:36:29.064Z"
   },
   {
    "duration": 565,
    "start_time": "2022-05-21T00:36:37.658Z"
   },
   {
    "duration": 595,
    "start_time": "2022-05-21T00:36:41.709Z"
   },
   {
    "duration": 19,
    "start_time": "2022-05-21T00:37:21.443Z"
   },
   {
    "duration": 1144,
    "start_time": "2022-05-21T00:37:39.258Z"
   },
   {
    "duration": 2,
    "start_time": "2022-05-21T00:37:40.404Z"
   },
   {
    "duration": 63,
    "start_time": "2022-05-21T00:37:40.407Z"
   },
   {
    "duration": 10,
    "start_time": "2022-05-21T00:37:40.471Z"
   },
   {
    "duration": 32,
    "start_time": "2022-05-21T00:37:40.484Z"
   },
   {
    "duration": 8,
    "start_time": "2022-05-21T00:37:40.517Z"
   },
   {
    "duration": 4,
    "start_time": "2022-05-21T00:37:40.527Z"
   },
   {
    "duration": 19,
    "start_time": "2022-05-21T00:37:40.559Z"
   },
   {
    "duration": 22,
    "start_time": "2022-05-21T00:37:40.579Z"
   },
   {
    "duration": 12,
    "start_time": "2022-05-21T00:37:40.602Z"
   },
   {
    "duration": 131,
    "start_time": "2022-05-21T00:37:40.615Z"
   },
   {
    "duration": 0,
    "start_time": "2022-05-21T00:37:40.747Z"
   },
   {
    "duration": 0,
    "start_time": "2022-05-21T00:37:40.748Z"
   },
   {
    "duration": 54,
    "start_time": "2022-05-21T00:37:59.650Z"
   },
   {
    "duration": 595,
    "start_time": "2022-05-21T00:38:06.581Z"
   },
   {
    "duration": 11,
    "start_time": "2022-05-21T00:39:15.717Z"
   },
   {
    "duration": 10,
    "start_time": "2022-05-21T00:39:26.411Z"
   },
   {
    "duration": 12215,
    "start_time": "2022-05-21T00:40:22.949Z"
   },
   {
    "duration": 12477,
    "start_time": "2022-05-21T00:41:33.884Z"
   },
   {
    "duration": 731,
    "start_time": "2022-05-21T00:42:11.117Z"
   },
   {
    "duration": 673,
    "start_time": "2022-05-21T00:42:27.211Z"
   },
   {
    "duration": 664,
    "start_time": "2022-05-21T00:42:41.985Z"
   },
   {
    "duration": 706,
    "start_time": "2022-05-21T00:42:48.345Z"
   },
   {
    "duration": 712,
    "start_time": "2022-05-21T00:42:56.027Z"
   },
   {
    "duration": 678,
    "start_time": "2022-05-21T00:43:02.613Z"
   },
   {
    "duration": 674,
    "start_time": "2022-05-21T00:43:08.883Z"
   },
   {
    "duration": 699,
    "start_time": "2022-05-21T00:43:17.655Z"
   },
   {
    "duration": 682,
    "start_time": "2022-05-21T00:43:24.377Z"
   },
   {
    "duration": 718,
    "start_time": "2022-05-21T00:43:31.367Z"
   },
   {
    "duration": 733,
    "start_time": "2022-05-21T00:43:38.447Z"
   },
   {
    "duration": 695,
    "start_time": "2022-05-21T00:43:43.448Z"
   },
   {
    "duration": 688,
    "start_time": "2022-05-21T00:43:49.668Z"
   },
   {
    "duration": 696,
    "start_time": "2022-05-21T00:43:55.159Z"
   },
   {
    "duration": 729,
    "start_time": "2022-05-21T00:44:00.122Z"
   },
   {
    "duration": 691,
    "start_time": "2022-05-21T00:44:04.952Z"
   },
   {
    "duration": 675,
    "start_time": "2022-05-21T00:44:10.413Z"
   },
   {
    "duration": 659,
    "start_time": "2022-05-21T00:44:15.093Z"
   },
   {
    "duration": 30,
    "start_time": "2022-05-21T00:45:00.943Z"
   },
   {
    "duration": 15,
    "start_time": "2022-05-21T00:46:17.480Z"
   },
   {
    "duration": 137,
    "start_time": "2022-05-21T00:46:25.657Z"
   },
   {
    "duration": 697,
    "start_time": "2022-05-21T00:46:33.383Z"
   },
   {
    "duration": 120,
    "start_time": "2022-05-21T00:46:48.951Z"
   },
   {
    "duration": 14109,
    "start_time": "2022-05-21T00:49:05.589Z"
   },
   {
    "duration": 348577,
    "start_time": "2022-05-21T00:49:52.496Z"
   },
   {
    "duration": 741,
    "start_time": "2022-05-21T00:56:07.428Z"
   },
   {
    "duration": 415,
    "start_time": "2022-05-21T00:56:16.069Z"
   },
   {
    "duration": 426,
    "start_time": "2022-05-21T00:56:30.709Z"
   },
   {
    "duration": 480,
    "start_time": "2022-05-21T00:56:40.429Z"
   },
   {
    "duration": 495,
    "start_time": "2022-05-21T00:56:44.948Z"
   },
   {
    "duration": 605,
    "start_time": "2022-05-21T00:56:49.259Z"
   },
   {
    "duration": 631,
    "start_time": "2022-05-21T00:56:53.973Z"
   },
   {
    "duration": 746,
    "start_time": "2022-05-21T00:56:59.989Z"
   },
   {
    "duration": 843,
    "start_time": "2022-05-21T00:57:08.120Z"
   },
   {
    "duration": 790,
    "start_time": "2022-05-21T00:57:15.305Z"
   },
   {
    "duration": 827,
    "start_time": "2022-05-21T00:57:22.264Z"
   },
   {
    "duration": 660,
    "start_time": "2022-05-21T00:57:32.601Z"
   },
   {
    "duration": 1417,
    "start_time": "2022-05-21T00:57:39.514Z"
   },
   {
    "duration": 912,
    "start_time": "2022-05-21T00:57:48.185Z"
   },
   {
    "duration": 914,
    "start_time": "2022-05-21T00:57:58.791Z"
   },
   {
    "duration": 947,
    "start_time": "2022-05-21T00:58:04.715Z"
   },
   {
    "duration": 856,
    "start_time": "2022-05-21T00:58:15.006Z"
   },
   {
    "duration": 949,
    "start_time": "2022-05-21T00:58:20.315Z"
   },
   {
    "duration": 951,
    "start_time": "2022-05-21T00:58:26.975Z"
   },
   {
    "duration": 955,
    "start_time": "2022-05-21T00:58:32.617Z"
   },
   {
    "duration": 910,
    "start_time": "2022-05-21T00:58:38.001Z"
   },
   {
    "duration": 950,
    "start_time": "2022-05-21T00:58:44.166Z"
   },
   {
    "duration": 796,
    "start_time": "2022-05-21T00:58:58.626Z"
   },
   {
    "duration": 844,
    "start_time": "2022-05-21T00:59:03.959Z"
   },
   {
    "duration": 1131,
    "start_time": "2022-05-21T00:59:09.967Z"
   },
   {
    "duration": 1383,
    "start_time": "2022-05-21T00:59:17.991Z"
   },
   {
    "duration": 3169,
    "start_time": "2022-05-21T00:59:27.907Z"
   },
   {
    "duration": 6243,
    "start_time": "2022-05-21T00:59:43.822Z"
   },
   {
    "duration": 4410,
    "start_time": "2022-05-21T01:00:00.263Z"
   },
   {
    "duration": 3183,
    "start_time": "2022-05-21T01:00:12.257Z"
   },
   {
    "duration": 2643,
    "start_time": "2022-05-21T01:00:21.325Z"
   },
   {
    "duration": 3133,
    "start_time": "2022-05-21T01:00:30.254Z"
   },
   {
    "duration": 3170,
    "start_time": "2022-05-21T01:00:39.557Z"
   },
   {
    "duration": 3241,
    "start_time": "2022-05-21T01:00:47.618Z"
   },
   {
    "duration": 3179,
    "start_time": "2022-05-21T01:00:56.019Z"
   },
   {
    "duration": 3657,
    "start_time": "2022-05-21T01:01:58.225Z"
   },
   {
    "duration": 59,
    "start_time": "2022-05-21T01:06:31.021Z"
   },
   {
    "duration": 3487,
    "start_time": "2022-05-21T01:08:50.465Z"
   },
   {
    "duration": 33,
    "start_time": "2022-05-21T01:09:57.621Z"
   },
   {
    "duration": 38,
    "start_time": "2022-05-21T01:10:20.167Z"
   },
   {
    "duration": 431,
    "start_time": "2022-05-21T01:10:26.377Z"
   },
   {
    "duration": 966,
    "start_time": "2022-05-21T01:10:37.149Z"
   },
   {
    "duration": 635,
    "start_time": "2022-05-21T01:10:48.562Z"
   },
   {
    "duration": 1547,
    "start_time": "2022-05-21T01:11:03.788Z"
   },
   {
    "duration": 627,
    "start_time": "2022-05-21T01:11:17.844Z"
   },
   {
    "duration": 611,
    "start_time": "2022-05-21T01:11:31.657Z"
   },
   {
    "duration": 287,
    "start_time": "2022-05-21T01:11:43.029Z"
   },
   {
    "duration": 57,
    "start_time": "2022-05-21T11:40:10.381Z"
   },
   {
    "duration": 1436,
    "start_time": "2022-05-21T11:40:41.939Z"
   },
   {
    "duration": 3,
    "start_time": "2022-05-21T11:40:43.378Z"
   },
   {
    "duration": 199,
    "start_time": "2022-05-21T11:40:43.383Z"
   },
   {
    "duration": 11,
    "start_time": "2022-05-21T11:40:43.584Z"
   },
   {
    "duration": 58,
    "start_time": "2022-05-21T11:40:43.597Z"
   },
   {
    "duration": 8,
    "start_time": "2022-05-21T11:40:43.656Z"
   },
   {
    "duration": 41,
    "start_time": "2022-05-21T11:40:43.666Z"
   },
   {
    "duration": 69,
    "start_time": "2022-05-21T11:40:43.709Z"
   },
   {
    "duration": 67,
    "start_time": "2022-05-21T11:40:43.779Z"
   },
   {
    "duration": 41,
    "start_time": "2022-05-21T11:40:43.848Z"
   },
   {
    "duration": 69,
    "start_time": "2022-05-21T11:40:43.891Z"
   },
   {
    "duration": 123,
    "start_time": "2022-05-21T11:40:43.962Z"
   },
   {
    "duration": 0,
    "start_time": "2022-05-21T11:40:44.087Z"
   },
   {
    "duration": 0,
    "start_time": "2022-05-21T11:40:44.088Z"
   },
   {
    "duration": 0,
    "start_time": "2022-05-21T11:40:44.089Z"
   },
   {
    "duration": 3593,
    "start_time": "2022-05-21T11:41:16.939Z"
   },
   {
    "duration": 3642,
    "start_time": "2022-05-21T11:41:33.470Z"
   },
   {
    "duration": 80,
    "start_time": "2022-05-21T11:41:43.234Z"
   },
   {
    "duration": 3,
    "start_time": "2022-05-21T11:42:17.426Z"
   },
   {
    "duration": 106,
    "start_time": "2022-05-21T11:42:22.809Z"
   },
   {
    "duration": 4,
    "start_time": "2022-05-21T11:42:44.183Z"
   },
   {
    "duration": 167,
    "start_time": "2022-05-21T11:42:51.875Z"
   },
   {
    "duration": 30,
    "start_time": "2022-05-21T11:54:20.283Z"
   },
   {
    "duration": 4,
    "start_time": "2022-05-21T11:54:41.794Z"
   },
   {
    "duration": 526,
    "start_time": "2022-05-21T11:54:48.605Z"
   },
   {
    "duration": 355,
    "start_time": "2022-05-21T11:55:31.386Z"
   },
   {
    "duration": 279,
    "start_time": "2022-05-21T11:55:53.170Z"
   },
   {
    "duration": 299,
    "start_time": "2022-05-21T11:56:17.229Z"
   },
   {
    "duration": 107,
    "start_time": "2022-05-21T12:14:28.507Z"
   },
   {
    "duration": 5,
    "start_time": "2022-05-21T12:14:50.547Z"
   },
   {
    "duration": 287,
    "start_time": "2022-05-21T12:14:54.873Z"
   },
   {
    "duration": 266,
    "start_time": "2022-05-21T12:17:13.800Z"
   },
   {
    "duration": 3574,
    "start_time": "2022-05-21T12:22:10.891Z"
   },
   {
    "duration": 3531,
    "start_time": "2022-05-21T12:22:22.903Z"
   },
   {
    "duration": 12,
    "start_time": "2022-05-21T12:22:57.984Z"
   },
   {
    "duration": 3556,
    "start_time": "2022-05-21T12:23:04.301Z"
   },
   {
    "duration": 3745,
    "start_time": "2022-05-21T12:23:25.119Z"
   },
   {
    "duration": 3449,
    "start_time": "2022-05-21T12:23:43.419Z"
   },
   {
    "duration": 3482,
    "start_time": "2022-05-21T12:24:05.491Z"
   },
   {
    "duration": 3740,
    "start_time": "2022-05-21T12:24:22.720Z"
   },
   {
    "duration": 3583,
    "start_time": "2022-05-21T12:24:38.595Z"
   },
   {
    "duration": 7046,
    "start_time": "2022-05-21T14:16:17.029Z"
   },
   {
    "duration": 1950,
    "start_time": "2022-05-21T14:20:41.614Z"
   },
   {
    "duration": 2363,
    "start_time": "2022-05-21T14:25:23.470Z"
   },
   {
    "duration": 5714,
    "start_time": "2022-05-21T14:28:58.810Z"
   },
   {
    "duration": 5196,
    "start_time": "2022-05-21T14:29:41.308Z"
   },
   {
    "duration": 6009,
    "start_time": "2022-05-21T14:29:56.326Z"
   },
   {
    "duration": 5800,
    "start_time": "2022-05-21T14:30:11.174Z"
   },
   {
    "duration": 6198,
    "start_time": "2022-05-21T14:30:31.679Z"
   },
   {
    "duration": 5484,
    "start_time": "2022-05-21T14:30:46.366Z"
   },
   {
    "duration": 20,
    "start_time": "2022-05-21T14:32:07.065Z"
   },
   {
    "duration": 7734,
    "start_time": "2022-05-21T14:32:19.770Z"
   },
   {
    "duration": 4990,
    "start_time": "2022-05-21T14:32:37.652Z"
   },
   {
    "duration": 111,
    "start_time": "2022-05-21T14:38:58.713Z"
   },
   {
    "duration": 153,
    "start_time": "2022-05-21T14:39:29.361Z"
   },
   {
    "duration": 49,
    "start_time": "2022-05-21T14:40:43.874Z"
   },
   {
    "duration": 1289,
    "start_time": "2022-05-21T14:56:32.080Z"
   },
   {
    "duration": 3,
    "start_time": "2022-05-21T14:56:33.382Z"
   },
   {
    "duration": 74,
    "start_time": "2022-05-21T14:56:33.387Z"
   },
   {
    "duration": 13,
    "start_time": "2022-05-21T14:56:33.465Z"
   },
   {
    "duration": 50,
    "start_time": "2022-05-21T14:56:33.480Z"
   },
   {
    "duration": 8,
    "start_time": "2022-05-21T14:56:33.532Z"
   },
   {
    "duration": 5,
    "start_time": "2022-05-21T14:56:33.542Z"
   },
   {
    "duration": 23,
    "start_time": "2022-05-21T14:56:33.548Z"
   },
   {
    "duration": 54,
    "start_time": "2022-05-21T14:56:33.572Z"
   },
   {
    "duration": 15,
    "start_time": "2022-05-21T14:56:33.628Z"
   },
   {
    "duration": 82,
    "start_time": "2022-05-21T14:56:33.645Z"
   },
   {
    "duration": 139,
    "start_time": "2022-05-21T14:56:33.730Z"
   },
   {
    "duration": 0,
    "start_time": "2022-05-21T14:56:33.871Z"
   },
   {
    "duration": 0,
    "start_time": "2022-05-21T14:56:33.873Z"
   },
   {
    "duration": 0,
    "start_time": "2022-05-21T14:56:33.874Z"
   },
   {
    "duration": 0,
    "start_time": "2022-05-21T14:56:33.876Z"
   },
   {
    "duration": 0,
    "start_time": "2022-05-21T14:56:33.877Z"
   },
   {
    "duration": 0,
    "start_time": "2022-05-21T14:56:33.879Z"
   },
   {
    "duration": 0,
    "start_time": "2022-05-21T14:56:33.880Z"
   },
   {
    "duration": 0,
    "start_time": "2022-05-21T14:56:33.882Z"
   },
   {
    "duration": 418,
    "start_time": "2022-05-21T14:59:06.095Z"
   },
   {
    "duration": 5571,
    "start_time": "2022-05-21T15:01:32.778Z"
   },
   {
    "duration": 5204,
    "start_time": "2022-05-21T15:04:28.895Z"
   },
   {
    "duration": 7,
    "start_time": "2022-05-21T15:06:48.011Z"
   },
   {
    "duration": 31,
    "start_time": "2022-05-21T15:08:44.422Z"
   },
   {
    "duration": 13,
    "start_time": "2022-05-21T15:09:08.403Z"
   },
   {
    "duration": 24,
    "start_time": "2022-05-21T15:09:23.435Z"
   },
   {
    "duration": 12,
    "start_time": "2022-05-21T15:10:08.631Z"
   },
   {
    "duration": 14,
    "start_time": "2022-05-21T15:10:42.220Z"
   },
   {
    "duration": 11,
    "start_time": "2022-05-21T15:10:46.936Z"
   },
   {
    "duration": 8,
    "start_time": "2022-05-21T15:11:27.030Z"
   },
   {
    "duration": 6,
    "start_time": "2022-05-21T15:11:55.999Z"
   },
   {
    "duration": 7,
    "start_time": "2022-05-21T15:12:08.903Z"
   },
   {
    "duration": 6,
    "start_time": "2022-05-21T15:12:22.494Z"
   },
   {
    "duration": 2268,
    "start_time": "2022-05-21T15:15:30.824Z"
   },
   {
    "duration": 25,
    "start_time": "2022-05-21T15:19:43.095Z"
   },
   {
    "duration": 27,
    "start_time": "2022-05-21T15:20:59.715Z"
   },
   {
    "duration": 12,
    "start_time": "2022-05-21T15:23:39.724Z"
   },
   {
    "duration": 4830,
    "start_time": "2022-05-21T15:24:12.708Z"
   },
   {
    "duration": 16,
    "start_time": "2022-05-21T15:24:33.618Z"
   },
   {
    "duration": 4862,
    "start_time": "2022-05-21T15:25:21.304Z"
   },
   {
    "duration": 20,
    "start_time": "2022-05-21T15:30:18.680Z"
   },
   {
    "duration": 31,
    "start_time": "2022-05-21T15:30:33.396Z"
   },
   {
    "duration": 16,
    "start_time": "2022-05-21T15:30:40.980Z"
   },
   {
    "duration": 163,
    "start_time": "2022-05-21T15:31:14.909Z"
   },
   {
    "duration": 1089,
    "start_time": "2022-05-21T15:33:48.735Z"
   },
   {
    "duration": 950,
    "start_time": "2022-05-21T15:34:51.273Z"
   },
   {
    "duration": 306,
    "start_time": "2022-05-21T15:35:37.669Z"
   },
   {
    "duration": 1235,
    "start_time": "2022-05-21T15:35:44.824Z"
   },
   {
    "duration": 248,
    "start_time": "2022-05-21T15:36:30.708Z"
   },
   {
    "duration": 4964,
    "start_time": "2022-05-21T15:50:13.182Z"
   },
   {
    "duration": 5010,
    "start_time": "2022-05-21T15:51:43.277Z"
   },
   {
    "duration": 22,
    "start_time": "2022-05-21T15:53:25.163Z"
   },
   {
    "duration": 4873,
    "start_time": "2022-05-21T15:53:38.094Z"
   },
   {
    "duration": 5071,
    "start_time": "2022-05-21T15:54:32.981Z"
   },
   {
    "duration": 4850,
    "start_time": "2022-05-21T15:55:22.078Z"
   },
   {
    "duration": 5048,
    "start_time": "2022-05-21T15:57:30.465Z"
   },
   {
    "duration": 5689,
    "start_time": "2022-05-21T15:59:06.266Z"
   },
   {
    "duration": 5102,
    "start_time": "2022-05-21T15:59:49.426Z"
   },
   {
    "duration": 3766,
    "start_time": "2022-05-21T16:01:16.576Z"
   },
   {
    "duration": 33,
    "start_time": "2022-05-21T16:02:24.065Z"
   },
   {
    "duration": 3548,
    "start_time": "2022-05-21T16:02:38.991Z"
   },
   {
    "duration": 10,
    "start_time": "2022-05-21T16:03:20.882Z"
   },
   {
    "duration": 4022,
    "start_time": "2022-05-21T16:03:29.465Z"
   },
   {
    "duration": 5029,
    "start_time": "2022-05-21T16:03:57.981Z"
   },
   {
    "duration": 2160,
    "start_time": "2022-05-21T16:05:18.545Z"
   },
   {
    "duration": 2240,
    "start_time": "2022-05-21T16:06:16.192Z"
   },
   {
    "duration": 2328,
    "start_time": "2022-05-21T16:06:23.076Z"
   },
   {
    "duration": 2488,
    "start_time": "2022-05-21T16:06:31.702Z"
   },
   {
    "duration": 2219,
    "start_time": "2022-05-21T16:06:42.606Z"
   },
   {
    "duration": 2296,
    "start_time": "2022-05-21T16:06:50.436Z"
   },
   {
    "duration": 2189,
    "start_time": "2022-05-21T16:06:58.431Z"
   },
   {
    "duration": 12,
    "start_time": "2022-05-21T16:22:27.863Z"
   },
   {
    "duration": 5302,
    "start_time": "2022-05-21T16:23:19.017Z"
   },
   {
    "duration": 7,
    "start_time": "2022-05-21T16:33:58.810Z"
   },
   {
    "duration": 364,
    "start_time": "2022-05-21T16:39:02.963Z"
   },
   {
    "duration": 376,
    "start_time": "2022-05-21T16:40:24.348Z"
   },
   {
    "duration": 46,
    "start_time": "2022-05-21T16:42:43.861Z"
   },
   {
    "duration": 4498,
    "start_time": "2022-05-21T16:42:53.345Z"
   },
   {
    "duration": 1366,
    "start_time": "2022-05-21T16:44:02.169Z"
   },
   {
    "duration": 3,
    "start_time": "2022-05-21T16:44:03.538Z"
   },
   {
    "duration": 65,
    "start_time": "2022-05-21T16:44:03.543Z"
   },
   {
    "duration": 18,
    "start_time": "2022-05-21T16:44:03.609Z"
   },
   {
    "duration": 59,
    "start_time": "2022-05-21T16:44:03.630Z"
   },
   {
    "duration": 30,
    "start_time": "2022-05-21T16:44:03.691Z"
   },
   {
    "duration": 10,
    "start_time": "2022-05-21T16:44:03.725Z"
   },
   {
    "duration": 28,
    "start_time": "2022-05-21T16:44:03.736Z"
   },
   {
    "duration": 55,
    "start_time": "2022-05-21T16:44:03.765Z"
   },
   {
    "duration": 22,
    "start_time": "2022-05-21T16:44:03.822Z"
   },
   {
    "duration": 94,
    "start_time": "2022-05-21T16:44:03.849Z"
   },
   {
    "duration": 6,
    "start_time": "2022-05-21T16:44:03.945Z"
   },
   {
    "duration": 4281,
    "start_time": "2022-05-21T16:44:03.953Z"
   },
   {
    "duration": 4060,
    "start_time": "2022-05-21T16:44:08.238Z"
   },
   {
    "duration": 5515,
    "start_time": "2022-05-21T16:44:12.299Z"
   },
   {
    "duration": 2323,
    "start_time": "2022-05-21T16:44:17.816Z"
   },
   {
    "duration": 5185,
    "start_time": "2022-05-21T16:44:20.140Z"
   },
   {
    "duration": 5021,
    "start_time": "2022-05-21T16:44:25.328Z"
   },
   {
    "duration": 1212,
    "start_time": "2022-05-21T16:46:32.091Z"
   },
   {
    "duration": 6,
    "start_time": "2022-05-21T16:46:33.307Z"
   },
   {
    "duration": 144,
    "start_time": "2022-05-21T16:46:33.314Z"
   },
   {
    "duration": 13,
    "start_time": "2022-05-21T16:46:33.460Z"
   },
   {
    "duration": 52,
    "start_time": "2022-05-21T16:46:33.476Z"
   },
   {
    "duration": 8,
    "start_time": "2022-05-21T16:46:33.530Z"
   },
   {
    "duration": 5,
    "start_time": "2022-05-21T16:46:33.540Z"
   },
   {
    "duration": 23,
    "start_time": "2022-05-21T16:46:33.547Z"
   },
   {
    "duration": 50,
    "start_time": "2022-05-21T16:46:33.571Z"
   },
   {
    "duration": 14,
    "start_time": "2022-05-21T16:46:33.623Z"
   },
   {
    "duration": 83,
    "start_time": "2022-05-21T16:46:33.639Z"
   },
   {
    "duration": 6,
    "start_time": "2022-05-21T16:46:33.723Z"
   },
   {
    "duration": 3729,
    "start_time": "2022-05-21T16:46:33.730Z"
   },
   {
    "duration": 3491,
    "start_time": "2022-05-21T16:46:37.461Z"
   },
   {
    "duration": 4862,
    "start_time": "2022-05-21T16:46:40.954Z"
   },
   {
    "duration": 2156,
    "start_time": "2022-05-21T16:46:45.817Z"
   },
   {
    "duration": 4817,
    "start_time": "2022-05-21T16:46:47.975Z"
   },
   {
    "duration": 4450,
    "start_time": "2022-05-21T16:46:52.793Z"
   },
   {
    "duration": 71,
    "start_time": "2022-05-22T18:42:21.202Z"
   },
   {
    "duration": 1615,
    "start_time": "2022-05-22T18:42:26.924Z"
   },
   {
    "duration": 3,
    "start_time": "2022-05-22T18:42:28.543Z"
   },
   {
    "duration": 180,
    "start_time": "2022-05-22T18:42:28.547Z"
   },
   {
    "duration": 14,
    "start_time": "2022-05-22T18:42:28.729Z"
   },
   {
    "duration": 49,
    "start_time": "2022-05-22T18:42:28.745Z"
   },
   {
    "duration": 11,
    "start_time": "2022-05-22T18:42:28.797Z"
   },
   {
    "duration": 5,
    "start_time": "2022-05-22T18:42:28.811Z"
   },
   {
    "duration": 56,
    "start_time": "2022-05-22T18:42:28.818Z"
   },
   {
    "duration": 36,
    "start_time": "2022-05-22T18:42:28.876Z"
   },
   {
    "duration": 22,
    "start_time": "2022-05-22T18:42:28.915Z"
   },
   {
    "duration": 6,
    "start_time": "2022-05-22T18:42:28.967Z"
   },
   {
    "duration": 107,
    "start_time": "2022-05-22T18:42:28.975Z"
   },
   {
    "duration": 7,
    "start_time": "2022-05-22T18:42:29.084Z"
   },
   {
    "duration": 4136,
    "start_time": "2022-05-22T18:42:29.095Z"
   },
   {
    "duration": 4211,
    "start_time": "2022-05-22T18:42:33.233Z"
   },
   {
    "duration": 5841,
    "start_time": "2022-05-22T18:42:37.446Z"
   },
   {
    "duration": 2522,
    "start_time": "2022-05-22T18:42:43.289Z"
   },
   {
    "duration": 5582,
    "start_time": "2022-05-22T18:42:45.813Z"
   },
   {
    "duration": 5271,
    "start_time": "2022-05-22T18:42:51.397Z"
   },
   {
    "duration": 94,
    "start_time": "2022-05-22T18:43:34.061Z"
   },
   {
    "duration": 72,
    "start_time": "2022-05-22T18:44:55.642Z"
   },
   {
    "duration": 1296,
    "start_time": "2022-05-22T18:45:04.744Z"
   },
   {
    "duration": 3,
    "start_time": "2022-05-22T18:45:06.044Z"
   },
   {
    "duration": 138,
    "start_time": "2022-05-22T18:45:06.049Z"
   },
   {
    "duration": 14,
    "start_time": "2022-05-22T18:45:06.189Z"
   },
   {
    "duration": 38,
    "start_time": "2022-05-22T18:45:06.207Z"
   },
   {
    "duration": 11,
    "start_time": "2022-05-22T18:45:06.265Z"
   },
   {
    "duration": 5,
    "start_time": "2022-05-22T18:45:06.279Z"
   },
   {
    "duration": 29,
    "start_time": "2022-05-22T18:45:06.286Z"
   },
   {
    "duration": 70,
    "start_time": "2022-05-22T18:45:06.317Z"
   },
   {
    "duration": 15,
    "start_time": "2022-05-22T18:45:06.389Z"
   },
   {
    "duration": 4,
    "start_time": "2022-05-22T18:45:06.406Z"
   },
   {
    "duration": 98,
    "start_time": "2022-05-22T18:45:06.412Z"
   },
   {
    "duration": 6,
    "start_time": "2022-05-22T18:45:06.512Z"
   },
   {
    "duration": 4216,
    "start_time": "2022-05-22T18:45:06.520Z"
   },
   {
    "duration": 4122,
    "start_time": "2022-05-22T18:45:10.738Z"
   },
   {
    "duration": 5519,
    "start_time": "2022-05-22T18:45:14.865Z"
   },
   {
    "duration": 2394,
    "start_time": "2022-05-22T18:45:20.386Z"
   },
   {
    "duration": 5445,
    "start_time": "2022-05-22T18:45:22.782Z"
   },
   {
    "duration": 5272,
    "start_time": "2022-05-22T18:45:28.228Z"
   },
   {
    "duration": 251,
    "start_time": "2022-05-22T18:50:54.081Z"
   },
   {
    "duration": 347,
    "start_time": "2022-05-22T18:51:23.171Z"
   },
   {
    "duration": 369,
    "start_time": "2022-05-22T18:53:07.449Z"
   },
   {
    "duration": 261,
    "start_time": "2022-05-22T18:55:46.773Z"
   },
   {
    "duration": 319,
    "start_time": "2022-05-22T18:58:19.864Z"
   },
   {
    "duration": 269,
    "start_time": "2022-05-22T18:58:52.746Z"
   },
   {
    "duration": 209,
    "start_time": "2022-05-22T18:59:20.213Z"
   },
   {
    "duration": 367,
    "start_time": "2022-05-22T18:59:34.763Z"
   },
   {
    "duration": 375,
    "start_time": "2022-05-22T19:04:29.429Z"
   },
   {
    "duration": 363,
    "start_time": "2022-05-22T19:04:56.048Z"
   },
   {
    "duration": 473,
    "start_time": "2022-05-22T19:05:51.345Z"
   },
   {
    "duration": 2684,
    "start_time": "2022-05-22T19:10:11.047Z"
   },
   {
    "duration": 3163,
    "start_time": "2022-05-22T19:10:43.346Z"
   },
   {
    "duration": 2691,
    "start_time": "2022-05-22T19:10:51.681Z"
   },
   {
    "duration": 92,
    "start_time": "2022-05-22T19:11:58.980Z"
   },
   {
    "duration": 372,
    "start_time": "2022-05-22T19:12:14.579Z"
   },
   {
    "duration": 161,
    "start_time": "2022-05-22T19:14:20.104Z"
   },
   {
    "duration": 20,
    "start_time": "2022-05-22T19:19:54.059Z"
   },
   {
    "duration": 6238,
    "start_time": "2022-05-22T20:15:43.034Z"
   },
   {
    "duration": 2814,
    "start_time": "2022-05-22T20:17:58.881Z"
   },
   {
    "duration": 2392,
    "start_time": "2022-05-22T20:21:07.139Z"
   },
   {
    "duration": 1262,
    "start_time": "2022-05-22T20:28:09.394Z"
   },
   {
    "duration": 5,
    "start_time": "2022-05-22T20:28:10.660Z"
   },
   {
    "duration": 143,
    "start_time": "2022-05-22T20:28:10.666Z"
   },
   {
    "duration": 13,
    "start_time": "2022-05-22T20:28:10.811Z"
   },
   {
    "duration": 50,
    "start_time": "2022-05-22T20:28:10.826Z"
   },
   {
    "duration": 9,
    "start_time": "2022-05-22T20:28:10.878Z"
   },
   {
    "duration": 5,
    "start_time": "2022-05-22T20:28:10.889Z"
   },
   {
    "duration": 25,
    "start_time": "2022-05-22T20:28:10.895Z"
   },
   {
    "duration": 66,
    "start_time": "2022-05-22T20:28:10.921Z"
   },
   {
    "duration": 17,
    "start_time": "2022-05-22T20:28:10.989Z"
   },
   {
    "duration": 4,
    "start_time": "2022-05-22T20:28:11.008Z"
   },
   {
    "duration": 104,
    "start_time": "2022-05-22T20:28:11.013Z"
   },
   {
    "duration": 4,
    "start_time": "2022-05-22T20:28:11.119Z"
   },
   {
    "duration": 4083,
    "start_time": "2022-05-22T20:28:11.125Z"
   },
   {
    "duration": 164,
    "start_time": "2022-05-22T20:28:15.211Z"
   },
   {
    "duration": 4072,
    "start_time": "2022-05-22T20:28:15.377Z"
   },
   {
    "duration": 6077,
    "start_time": "2022-05-22T20:28:19.451Z"
   },
   {
    "duration": 2652,
    "start_time": "2022-05-22T20:28:25.530Z"
   },
   {
    "duration": 2668,
    "start_time": "2022-05-22T20:28:28.184Z"
   },
   {
    "duration": 2334,
    "start_time": "2022-05-22T20:28:30.854Z"
   },
   {
    "duration": 2898,
    "start_time": "2022-05-22T20:30:08.274Z"
   },
   {
    "duration": 2618,
    "start_time": "2022-05-22T20:30:33.575Z"
   },
   {
    "duration": 2640,
    "start_time": "2022-05-22T20:30:43.567Z"
   },
   {
    "duration": 145,
    "start_time": "2022-05-22T20:35:50.025Z"
   },
   {
    "duration": 228,
    "start_time": "2022-05-22T20:36:27.149Z"
   },
   {
    "duration": 219,
    "start_time": "2022-05-22T20:37:03.946Z"
   },
   {
    "duration": 502,
    "start_time": "2022-05-22T20:37:28.171Z"
   },
   {
    "duration": 2477,
    "start_time": "2022-05-22T20:38:07.892Z"
   },
   {
    "duration": 2536,
    "start_time": "2022-05-22T20:38:20.611Z"
   },
   {
    "duration": 3020,
    "start_time": "2022-05-22T20:38:30.467Z"
   },
   {
    "duration": 3134,
    "start_time": "2022-05-22T20:38:46.727Z"
   },
   {
    "duration": 3071,
    "start_time": "2022-05-22T20:38:57.844Z"
   },
   {
    "duration": 2903,
    "start_time": "2022-05-22T20:39:06.664Z"
   },
   {
    "duration": 2969,
    "start_time": "2022-05-22T20:39:28.984Z"
   },
   {
    "duration": 2862,
    "start_time": "2022-05-22T20:39:42.695Z"
   },
   {
    "duration": 2877,
    "start_time": "2022-05-22T20:40:56.871Z"
   },
   {
    "duration": 3136,
    "start_time": "2022-05-22T20:41:25.551Z"
   },
   {
    "duration": 3008,
    "start_time": "2022-05-22T20:41:40.207Z"
   },
   {
    "duration": 3798,
    "start_time": "2022-05-22T20:42:58.449Z"
   },
   {
    "duration": 2732,
    "start_time": "2022-05-22T20:43:39.339Z"
   },
   {
    "duration": 4513,
    "start_time": "2022-05-22T20:44:22.346Z"
   },
   {
    "duration": 7458,
    "start_time": "2022-05-22T20:45:04.241Z"
   },
   {
    "duration": 10835,
    "start_time": "2022-05-22T20:45:24.672Z"
   },
   {
    "duration": 126,
    "start_time": "2022-05-22T20:45:58.093Z"
   },
   {
    "duration": 4472,
    "start_time": "2022-05-22T20:46:02.293Z"
   },
   {
    "duration": 4948,
    "start_time": "2022-05-22T20:46:32.039Z"
   },
   {
    "duration": 5353,
    "start_time": "2022-05-22T20:46:52.740Z"
   },
   {
    "duration": 4640,
    "start_time": "2022-05-22T20:47:06.914Z"
   },
   {
    "duration": 5127,
    "start_time": "2022-05-22T20:47:59.400Z"
   },
   {
    "duration": 5001,
    "start_time": "2022-05-22T20:48:31.217Z"
   },
   {
    "duration": 2683,
    "start_time": "2022-05-22T20:49:36.752Z"
   },
   {
    "duration": 5265,
    "start_time": "2022-05-22T20:50:09.063Z"
   },
   {
    "duration": 4461,
    "start_time": "2022-05-22T20:50:20.539Z"
   },
   {
    "duration": 368,
    "start_time": "2022-05-22T20:51:43.372Z"
   },
   {
    "duration": 2824,
    "start_time": "2022-05-22T20:52:12.547Z"
   },
   {
    "duration": 2659,
    "start_time": "2022-05-22T20:52:27.577Z"
   },
   {
    "duration": 2759,
    "start_time": "2022-05-22T20:53:29.646Z"
   },
   {
    "duration": 2622,
    "start_time": "2022-05-22T20:53:42.008Z"
   },
   {
    "duration": 2757,
    "start_time": "2022-05-22T20:53:51.474Z"
   },
   {
    "duration": 2828,
    "start_time": "2022-05-22T20:53:59.228Z"
   },
   {
    "duration": 2800,
    "start_time": "2022-05-22T20:54:08.229Z"
   },
   {
    "duration": 2654,
    "start_time": "2022-05-22T20:54:21.188Z"
   },
   {
    "duration": 2802,
    "start_time": "2022-05-22T20:54:29.408Z"
   },
   {
    "duration": 2657,
    "start_time": "2022-05-22T20:54:36.068Z"
   },
   {
    "duration": 2698,
    "start_time": "2022-05-22T20:54:46.960Z"
   },
   {
    "duration": 2680,
    "start_time": "2022-05-22T20:55:13.885Z"
   },
   {
    "duration": 2682,
    "start_time": "2022-05-22T20:55:21.431Z"
   },
   {
    "duration": 2338,
    "start_time": "2022-05-22T20:55:47.202Z"
   },
   {
    "duration": 1541,
    "start_time": "2022-05-22T20:59:31.095Z"
   },
   {
    "duration": 4939,
    "start_time": "2022-05-22T21:00:56.612Z"
   },
   {
    "duration": 2703,
    "start_time": "2022-05-22T21:15:01.222Z"
   },
   {
    "duration": 2745,
    "start_time": "2022-05-22T21:15:13.751Z"
   },
   {
    "duration": 2616,
    "start_time": "2022-05-22T21:15:24.755Z"
   },
   {
    "duration": 2856,
    "start_time": "2022-05-22T21:15:31.159Z"
   },
   {
    "duration": 2640,
    "start_time": "2022-05-22T21:15:39.785Z"
   },
   {
    "duration": 2584,
    "start_time": "2022-05-22T21:15:47.885Z"
   },
   {
    "duration": 2489,
    "start_time": "2022-05-22T21:15:55.222Z"
   },
   {
    "duration": 2609,
    "start_time": "2022-05-22T21:16:05.406Z"
   },
   {
    "duration": 2759,
    "start_time": "2022-05-22T21:16:12.953Z"
   },
   {
    "duration": 2559,
    "start_time": "2022-05-22T21:16:23.514Z"
   },
   {
    "duration": 2593,
    "start_time": "2022-05-22T21:16:32.107Z"
   },
   {
    "duration": 2344,
    "start_time": "2022-05-22T21:17:14.602Z"
   },
   {
    "duration": 2586,
    "start_time": "2022-05-22T21:24:33.857Z"
   },
   {
    "duration": 2723,
    "start_time": "2022-05-22T21:24:43.338Z"
   },
   {
    "duration": 2879,
    "start_time": "2022-05-22T21:48:44.245Z"
   },
   {
    "duration": 2679,
    "start_time": "2022-05-22T21:49:12.235Z"
   },
   {
    "duration": 2708,
    "start_time": "2022-05-22T21:49:59.456Z"
   },
   {
    "duration": 1116,
    "start_time": "2022-05-22T21:51:54.009Z"
   },
   {
    "duration": 2,
    "start_time": "2022-05-22T21:51:55.129Z"
   },
   {
    "duration": 124,
    "start_time": "2022-05-22T21:51:55.134Z"
   },
   {
    "duration": 13,
    "start_time": "2022-05-22T21:51:55.260Z"
   },
   {
    "duration": 36,
    "start_time": "2022-05-22T21:51:55.276Z"
   },
   {
    "duration": 9,
    "start_time": "2022-05-22T21:51:55.315Z"
   },
   {
    "duration": 5,
    "start_time": "2022-05-22T21:51:55.326Z"
   },
   {
    "duration": 23,
    "start_time": "2022-05-22T21:51:55.364Z"
   },
   {
    "duration": 26,
    "start_time": "2022-05-22T21:51:55.389Z"
   },
   {
    "duration": 16,
    "start_time": "2022-05-22T21:51:55.417Z"
   },
   {
    "duration": 5,
    "start_time": "2022-05-22T21:51:55.465Z"
   },
   {
    "duration": 64,
    "start_time": "2022-05-22T21:51:55.472Z"
   },
   {
    "duration": 29,
    "start_time": "2022-05-22T21:51:55.539Z"
   },
   {
    "duration": 3812,
    "start_time": "2022-05-22T21:51:55.572Z"
   },
   {
    "duration": 5197,
    "start_time": "2022-05-22T21:51:59.386Z"
   },
   {
    "duration": 3781,
    "start_time": "2022-05-22T21:52:04.586Z"
   },
   {
    "duration": 4566,
    "start_time": "2022-05-22T21:52:08.369Z"
   },
   {
    "duration": 2711,
    "start_time": "2022-05-22T21:52:12.936Z"
   },
   {
    "duration": 2645,
    "start_time": "2022-05-22T21:52:15.649Z"
   },
   {
    "duration": 2310,
    "start_time": "2022-05-22T21:52:18.295Z"
   },
   {
    "duration": 50,
    "start_time": "2022-05-22T22:55:23.463Z"
   },
   {
    "duration": 164,
    "start_time": "2022-05-22T22:55:40.023Z"
   },
   {
    "duration": 4339,
    "start_time": "2022-05-22T22:56:03.811Z"
   },
   {
    "duration": 4925,
    "start_time": "2022-05-22T22:56:53.986Z"
   },
   {
    "duration": 6056,
    "start_time": "2022-05-22T22:57:16.582Z"
   },
   {
    "duration": 5125,
    "start_time": "2022-05-22T22:57:30.558Z"
   },
   {
    "duration": 20,
    "start_time": "2022-05-22T22:57:56.599Z"
   },
   {
    "duration": 2909,
    "start_time": "2022-05-22T22:58:01.610Z"
   },
   {
    "duration": 2880,
    "start_time": "2022-05-22T22:58:18.020Z"
   },
   {
    "duration": 2919,
    "start_time": "2022-05-22T22:58:43.505Z"
   },
   {
    "duration": 2713,
    "start_time": "2022-05-22T22:58:58.519Z"
   },
   {
    "duration": 2395,
    "start_time": "2022-05-22T22:59:06.619Z"
   },
   {
    "duration": 3057,
    "start_time": "2022-05-22T22:59:12.875Z"
   },
   {
    "duration": 3146,
    "start_time": "2022-05-22T22:59:21.633Z"
   },
   {
    "duration": 2834,
    "start_time": "2022-05-22T22:59:29.405Z"
   },
   {
    "duration": 2996,
    "start_time": "2022-05-22T22:59:38.031Z"
   },
   {
    "duration": 2850,
    "start_time": "2022-05-22T22:59:44.510Z"
   },
   {
    "duration": 2853,
    "start_time": "2022-05-22T22:59:52.595Z"
   },
   {
    "duration": 3074,
    "start_time": "2022-05-22T23:00:07.762Z"
   },
   {
    "duration": 2981,
    "start_time": "2022-05-22T23:00:15.230Z"
   },
   {
    "duration": 2810,
    "start_time": "2022-05-22T23:00:24.516Z"
   },
   {
    "duration": 2805,
    "start_time": "2022-05-22T23:00:32.705Z"
   },
   {
    "duration": 2952,
    "start_time": "2022-05-22T23:00:41.391Z"
   },
   {
    "duration": 2894,
    "start_time": "2022-05-22T23:01:05.542Z"
   },
   {
    "duration": 2923,
    "start_time": "2022-05-22T23:01:12.831Z"
   },
   {
    "duration": 16,
    "start_time": "2022-05-22T23:03:48.597Z"
   },
   {
    "duration": 3975,
    "start_time": "2022-05-22T23:04:21.446Z"
   },
   {
    "duration": 18,
    "start_time": "2022-05-22T23:06:19.918Z"
   },
   {
    "duration": 3972,
    "start_time": "2022-05-22T23:06:35.653Z"
   },
   {
    "duration": 4086,
    "start_time": "2022-05-22T23:07:26.642Z"
   },
   {
    "duration": 4036,
    "start_time": "2022-05-22T23:07:42.524Z"
   },
   {
    "duration": 3990,
    "start_time": "2022-05-22T23:07:59.418Z"
   },
   {
    "duration": 3947,
    "start_time": "2022-05-22T23:09:26.086Z"
   },
   {
    "duration": 4062,
    "start_time": "2022-05-22T23:09:44.281Z"
   },
   {
    "duration": 3843,
    "start_time": "2022-05-22T23:10:21.887Z"
   },
   {
    "duration": 3953,
    "start_time": "2022-05-22T23:10:42.167Z"
   },
   {
    "duration": 3904,
    "start_time": "2022-05-22T23:10:58.819Z"
   },
   {
    "duration": 3937,
    "start_time": "2022-05-22T23:11:12.410Z"
   },
   {
    "duration": 3829,
    "start_time": "2022-05-22T23:11:22.458Z"
   },
   {
    "duration": 4087,
    "start_time": "2022-05-22T23:11:30.800Z"
   },
   {
    "duration": 3928,
    "start_time": "2022-05-22T23:11:40.401Z"
   },
   {
    "duration": 3966,
    "start_time": "2022-05-22T23:11:51.515Z"
   },
   {
    "duration": 3951,
    "start_time": "2022-05-22T23:12:11.316Z"
   },
   {
    "duration": 3930,
    "start_time": "2022-05-22T23:12:28.024Z"
   },
   {
    "duration": 3875,
    "start_time": "2022-05-22T23:12:34.671Z"
   },
   {
    "duration": 3981,
    "start_time": "2022-05-22T23:12:43.940Z"
   },
   {
    "duration": 4008,
    "start_time": "2022-05-22T23:12:53.047Z"
   },
   {
    "duration": 3928,
    "start_time": "2022-05-22T23:13:01.056Z"
   },
   {
    "duration": 3925,
    "start_time": "2022-05-22T23:13:10.821Z"
   },
   {
    "duration": 3987,
    "start_time": "2022-05-22T23:13:38.244Z"
   },
   {
    "duration": 3917,
    "start_time": "2022-05-22T23:14:07.162Z"
   },
   {
    "duration": 3975,
    "start_time": "2022-05-22T23:14:17.019Z"
   },
   {
    "duration": 3864,
    "start_time": "2022-05-22T23:14:25.734Z"
   },
   {
    "duration": 3814,
    "start_time": "2022-05-22T23:14:36.397Z"
   },
   {
    "duration": 3567,
    "start_time": "2022-05-23T20:17:37.111Z"
   },
   {
    "duration": 3721,
    "start_time": "2022-05-23T20:20:14.104Z"
   },
   {
    "duration": 3558,
    "start_time": "2022-05-23T20:20:27.604Z"
   },
   {
    "duration": 3603,
    "start_time": "2022-05-23T20:20:37.714Z"
   },
   {
    "duration": 17,
    "start_time": "2022-05-27T14:43:48.540Z"
   },
   {
    "duration": 22,
    "start_time": "2022-05-27T14:54:38.814Z"
   },
   {
    "duration": 20,
    "start_time": "2022-05-27T14:56:17.907Z"
   },
   {
    "duration": 17789,
    "start_time": "2022-05-27T14:57:15.103Z"
   },
   {
    "duration": 1304,
    "start_time": "2022-05-27T15:19:12.255Z"
   },
   {
    "duration": 3,
    "start_time": "2022-05-27T15:19:13.564Z"
   },
   {
    "duration": 223,
    "start_time": "2022-05-27T15:19:13.568Z"
   },
   {
    "duration": 13,
    "start_time": "2022-05-27T15:19:13.793Z"
   },
   {
    "duration": 42,
    "start_time": "2022-05-27T15:19:13.808Z"
   },
   {
    "duration": 19,
    "start_time": "2022-05-27T15:19:13.852Z"
   },
   {
    "duration": 4,
    "start_time": "2022-05-27T15:19:13.873Z"
   },
   {
    "duration": 24,
    "start_time": "2022-05-27T15:19:13.879Z"
   },
   {
    "duration": 28,
    "start_time": "2022-05-27T15:19:13.905Z"
   },
   {
    "duration": 16,
    "start_time": "2022-05-27T15:19:13.965Z"
   },
   {
    "duration": 5,
    "start_time": "2022-05-27T15:19:13.982Z"
   },
   {
    "duration": 97,
    "start_time": "2022-05-27T15:19:13.989Z"
   },
   {
    "duration": 6,
    "start_time": "2022-05-27T15:19:14.088Z"
   },
   {
    "duration": 4013,
    "start_time": "2022-05-27T15:19:14.096Z"
   },
   {
    "duration": 3945,
    "start_time": "2022-05-27T15:19:18.110Z"
   },
   {
    "duration": 4386,
    "start_time": "2022-05-27T15:19:22.057Z"
   },
   {
    "duration": 2747,
    "start_time": "2022-05-27T15:19:26.445Z"
   },
   {
    "duration": 2706,
    "start_time": "2022-05-27T15:19:29.194Z"
   },
   {
    "duration": 2568,
    "start_time": "2022-05-27T15:19:31.902Z"
   },
   {
    "duration": 5100,
    "start_time": "2022-05-27T15:24:40.623Z"
   },
   {
    "duration": 5267,
    "start_time": "2022-05-27T15:24:55.743Z"
   },
   {
    "duration": 4537,
    "start_time": "2022-05-27T15:25:06.541Z"
   },
   {
    "duration": 5989,
    "start_time": "2022-05-27T15:25:16.760Z"
   },
   {
    "duration": 5056,
    "start_time": "2022-05-27T15:25:26.073Z"
   },
   {
    "duration": 2718,
    "start_time": "2022-05-27T15:25:52.085Z"
   },
   {
    "duration": 2650,
    "start_time": "2022-05-27T15:26:03.303Z"
   },
   {
    "duration": 2677,
    "start_time": "2022-05-27T15:27:35.992Z"
   },
   {
    "duration": 2670,
    "start_time": "2022-05-27T15:27:43.402Z"
   },
   {
    "duration": 2706,
    "start_time": "2022-05-27T15:27:49.442Z"
   },
   {
    "duration": 4935,
    "start_time": "2022-05-27T15:30:18.206Z"
   },
   {
    "duration": 1277,
    "start_time": "2022-05-27T15:32:01.846Z"
   },
   {
    "duration": 2,
    "start_time": "2022-05-27T15:32:03.126Z"
   },
   {
    "duration": 141,
    "start_time": "2022-05-27T15:32:03.130Z"
   },
   {
    "duration": 13,
    "start_time": "2022-05-27T15:32:03.273Z"
   },
   {
    "duration": 38,
    "start_time": "2022-05-27T15:32:03.288Z"
   },
   {
    "duration": 9,
    "start_time": "2022-05-27T15:32:03.328Z"
   },
   {
    "duration": 28,
    "start_time": "2022-05-27T15:32:03.339Z"
   },
   {
    "duration": 25,
    "start_time": "2022-05-27T15:32:03.369Z"
   },
   {
    "duration": 26,
    "start_time": "2022-05-27T15:32:03.396Z"
   },
   {
    "duration": 41,
    "start_time": "2022-05-27T15:32:03.424Z"
   },
   {
    "duration": 4,
    "start_time": "2022-05-27T15:32:03.467Z"
   },
   {
    "duration": 73,
    "start_time": "2022-05-27T15:32:03.472Z"
   },
   {
    "duration": 23,
    "start_time": "2022-05-27T15:32:03.546Z"
   },
   {
    "duration": 3907,
    "start_time": "2022-05-27T15:32:03.571Z"
   },
   {
    "duration": 4959,
    "start_time": "2022-05-27T15:32:07.480Z"
   },
   {
    "duration": 3981,
    "start_time": "2022-05-27T15:32:12.440Z"
   },
   {
    "duration": 5055,
    "start_time": "2022-05-27T15:32:16.422Z"
   },
   {
    "duration": 2699,
    "start_time": "2022-05-27T15:32:21.478Z"
   },
   {
    "duration": 2638,
    "start_time": "2022-05-27T15:32:24.179Z"
   },
   {
    "duration": 2387,
    "start_time": "2022-05-27T15:32:26.819Z"
   }
  ],
  "kernelspec": {
   "display_name": "Python 3 (ipykernel)",
   "language": "python",
   "name": "python3"
  },
  "language_info": {
   "codemirror_mode": {
    "name": "ipython",
    "version": 3
   },
   "file_extension": ".py",
   "mimetype": "text/x-python",
   "name": "python",
   "nbconvert_exporter": "python",
   "pygments_lexer": "ipython3",
   "version": "3.9.7"
  },
  "latex_envs": {
   "LaTeX_envs_menu_present": true,
   "autoclose": false,
   "autocomplete": true,
   "bibliofile": "biblio.bib",
   "cite_by": "apalike",
   "current_citInitial": 1,
   "eqLabelWithNumbers": true,
   "eqNumInitial": 1,
   "hotkeys": {
    "equation": "Ctrl-E",
    "itemize": "Ctrl-I"
   },
   "labels_anchors": false,
   "latex_user_defs": false,
   "report_style_numbering": false,
   "user_envs_cfg": false
  },
  "toc": {
   "base_numbering": 1,
   "nav_menu": {},
   "number_sections": true,
   "sideBar": true,
   "skip_h1_title": true,
   "title_cell": "Содержание",
   "title_sidebar": "Contents",
   "toc_cell": true,
   "toc_position": {},
   "toc_section_display": true,
   "toc_window_display": true
  }
 },
 "nbformat": 4,
 "nbformat_minor": 2
}
