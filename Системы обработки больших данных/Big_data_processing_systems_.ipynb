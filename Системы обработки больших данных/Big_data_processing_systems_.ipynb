{
 "cells": [
  {
   "cell_type": "markdown",
   "id": "GEqQaHzsZ_bA",
   "metadata": {
    "id": "GEqQaHzsZ_bA"
   },
   "source": [
    "# Предсказание стоимости жилья\n",
    "\n",
    "В проекте вам нужно обучить модель линейной регрессии на данных о жилье в Калифорнии в 1990 году. На основе данных нужно предсказать медианную стоимость дома в жилом массиве. Обучите модель и сделайте предсказания на тестовой выборке. Для оценки качества модели используйте метрики RMSE, MAE и R2."
   ]
  },
  {
   "cell_type": "markdown",
   "id": "73fb642d",
   "metadata": {},
   "source": [
    "Данные собраны в рамках переписи населения в США. Каждая строка содержит агрегированную статистику о жилом массиве. Жилой массив — минимальная географическая единица с населением от 600 до 3000 человек в зависимости от штата. Одна строка в данных содержит статистику в среднем о 1425.5 обитателях жилого массива.\n",
    "\n",
    "В колонках датасета содержатся следующие данные:\n",
    "\n",
    "- `longitude` — широта;\n",
    "- `latitude` — долгота;\n",
    "- `housing_median_age` — медианный возраст жителей жилого массива;\n",
    "- `total_rooms` — общее количество комнат в домах жилого массива;\n",
    "- `total_bedrooms` — общее количество спален в домах жилого массива;\n",
    "- `population` — количество человек, которые проживают в жилом массиве;\n",
    "- `households` — количество домовладений в жилом массиве;\n",
    "- `median_income` — медианный доход жителей жилого массива;\n",
    "- `median_house_value` — медианная стоимость дома в жилом массиве;\n",
    "- `ocean_proximity` — близость к океану.\n",
    "\n",
    "В большинстве колонок хранятся количественные данные, кроме одной — `ocean_proximity`. Она хранит категориальные значения."
   ]
  },
  {
   "cell_type": "markdown",
   "id": "53871372",
   "metadata": {
    "id": "53871372"
   },
   "source": [
    "## Подготовка данных"
   ]
  },
  {
   "cell_type": "code",
   "execution_count": 1,
   "id": "df92e3ec",
   "metadata": {
    "id": "df92e3ec"
   },
   "outputs": [],
   "source": [
    "# загрузим необходимые библиотеки\n",
    "import pandas as pd \n",
    "import numpy as np\n",
    "import pyspark\n",
    "\n",
    "from pyspark.sql import SparkSession\n",
    "from pyspark.sql.types import *\n",
    "import pyspark.sql.functions as F\n",
    "import seaborn as sns\n",
    "from pyspark.ml.feature import OneHotEncoder \n",
    "from pyspark.ml.feature import StringIndexer, VectorAssembler, StandardScaler\n",
    "from pyspark.ml.regression import LinearRegression\n",
    "from pyspark.ml.evaluation import RegressionEvaluator\n",
    "RANDOM_SEED = 13"
   ]
  },
  {
   "cell_type": "code",
   "execution_count": 2,
   "id": "5d0e37ea",
   "metadata": {},
   "outputs": [
    {
     "name": "stderr",
     "output_type": "stream",
     "text": [
      "                                                                                \r"
     ]
    },
    {
     "name": "stdout",
     "output_type": "stream",
     "text": [
      "root\n",
      " |-- longitude: double (nullable = true)\n",
      " |-- latitude: double (nullable = true)\n",
      " |-- housing_median_age: double (nullable = true)\n",
      " |-- total_rooms: double (nullable = true)\n",
      " |-- total_bedrooms: double (nullable = true)\n",
      " |-- population: double (nullable = true)\n",
      " |-- households: double (nullable = true)\n",
      " |-- median_income: double (nullable = true)\n",
      " |-- median_house_value: double (nullable = true)\n",
      " |-- ocean_proximity: string (nullable = true)\n",
      "\n"
     ]
    }
   ],
   "source": [
    "# инициализируем сессию и прочитаем данные с помощью pySpark\n",
    "spark = SparkSession.builder \\\n",
    "                    .appName(\"EDA California Housing\") \\\n",
    "                    .getOrCreate()\n",
    "df_housing = spark.read.option('header', 'true').csv('/datasets/housing.csv', inferSchema = True) \n",
    "df_housing.printSchema() "
   ]
  },
  {
   "cell_type": "markdown",
   "id": "a1cf189e",
   "metadata": {},
   "source": [
    "<div class=\"alert alert-success\">\n",
    "<b>Комментарий ревьюера ✔️:</b> Отлично, данные загружены:)</div>"
   ]
  },
  {
   "cell_type": "code",
   "execution_count": 3,
   "id": "77cdff92",
   "metadata": {},
   "outputs": [
    {
     "name": "stdout",
     "output_type": "stream",
     "text": [
      "               column    type\n",
      "0           longitude  double\n",
      "1            latitude  double\n",
      "2  housing_median_age  double\n",
      "3         total_rooms  double\n",
      "4      total_bedrooms  double\n",
      "5          population  double\n",
      "6          households  double\n",
      "7       median_income  double\n",
      "8  median_house_value  double\n",
      "9     ocean_proximity  string\n"
     ]
    }
   ],
   "source": [
    "# выведем названия колонок и их тип данных в виде таблицы\n",
    "print(pd.DataFrame(df_housing.dtypes, columns=['column', 'type']))"
   ]
  },
  {
   "cell_type": "code",
   "execution_count": 4,
   "id": "71f9e91b",
   "metadata": {},
   "outputs": [
    {
     "name": "stderr",
     "output_type": "stream",
     "text": [
      "                                                                                \r"
     ]
    },
    {
     "data": {
      "text/html": [
       "<div>\n",
       "<style scoped>\n",
       "    .dataframe tbody tr th:only-of-type {\n",
       "        vertical-align: middle;\n",
       "    }\n",
       "\n",
       "    .dataframe tbody tr th {\n",
       "        vertical-align: top;\n",
       "    }\n",
       "\n",
       "    .dataframe thead th {\n",
       "        text-align: right;\n",
       "    }\n",
       "</style>\n",
       "<table border=\"1\" class=\"dataframe\">\n",
       "  <thead>\n",
       "    <tr style=\"text-align: right;\">\n",
       "      <th></th>\n",
       "      <th>summary</th>\n",
       "      <th>longitude</th>\n",
       "      <th>latitude</th>\n",
       "      <th>housing_median_age</th>\n",
       "      <th>total_rooms</th>\n",
       "      <th>total_bedrooms</th>\n",
       "      <th>population</th>\n",
       "      <th>households</th>\n",
       "      <th>median_income</th>\n",
       "      <th>median_house_value</th>\n",
       "      <th>ocean_proximity</th>\n",
       "    </tr>\n",
       "  </thead>\n",
       "  <tbody>\n",
       "    <tr>\n",
       "      <th>0</th>\n",
       "      <td>count</td>\n",
       "      <td>20640</td>\n",
       "      <td>20640</td>\n",
       "      <td>20640</td>\n",
       "      <td>20640</td>\n",
       "      <td>20433</td>\n",
       "      <td>20640</td>\n",
       "      <td>20640</td>\n",
       "      <td>20640</td>\n",
       "      <td>20640</td>\n",
       "      <td>20640</td>\n",
       "    </tr>\n",
       "    <tr>\n",
       "      <th>1</th>\n",
       "      <td>mean</td>\n",
       "      <td>-119.56970445736148</td>\n",
       "      <td>35.6318614341087</td>\n",
       "      <td>28.639486434108527</td>\n",
       "      <td>2635.7630813953488</td>\n",
       "      <td>537.8705525375618</td>\n",
       "      <td>1425.4767441860465</td>\n",
       "      <td>499.5396802325581</td>\n",
       "      <td>3.8706710029070246</td>\n",
       "      <td>206855.81690891474</td>\n",
       "      <td>None</td>\n",
       "    </tr>\n",
       "    <tr>\n",
       "      <th>2</th>\n",
       "      <td>stddev</td>\n",
       "      <td>2.003531723502584</td>\n",
       "      <td>2.135952397457101</td>\n",
       "      <td>12.58555761211163</td>\n",
       "      <td>2181.6152515827944</td>\n",
       "      <td>421.38507007403115</td>\n",
       "      <td>1132.46212176534</td>\n",
       "      <td>382.3297528316098</td>\n",
       "      <td>1.899821717945263</td>\n",
       "      <td>115395.61587441359</td>\n",
       "      <td>None</td>\n",
       "    </tr>\n",
       "    <tr>\n",
       "      <th>3</th>\n",
       "      <td>min</td>\n",
       "      <td>-124.35</td>\n",
       "      <td>32.54</td>\n",
       "      <td>1.0</td>\n",
       "      <td>2.0</td>\n",
       "      <td>1.0</td>\n",
       "      <td>3.0</td>\n",
       "      <td>1.0</td>\n",
       "      <td>0.4999</td>\n",
       "      <td>14999.0</td>\n",
       "      <td>&lt;1H OCEAN</td>\n",
       "    </tr>\n",
       "    <tr>\n",
       "      <th>4</th>\n",
       "      <td>max</td>\n",
       "      <td>-114.31</td>\n",
       "      <td>41.95</td>\n",
       "      <td>52.0</td>\n",
       "      <td>39320.0</td>\n",
       "      <td>6445.0</td>\n",
       "      <td>35682.0</td>\n",
       "      <td>6082.0</td>\n",
       "      <td>15.0001</td>\n",
       "      <td>500001.0</td>\n",
       "      <td>NEAR OCEAN</td>\n",
       "    </tr>\n",
       "  </tbody>\n",
       "</table>\n",
       "</div>"
      ],
      "text/plain": [
       "  summary            longitude           latitude  housing_median_age  \\\n",
       "0   count                20640              20640               20640   \n",
       "1    mean  -119.56970445736148   35.6318614341087  28.639486434108527   \n",
       "2  stddev    2.003531723502584  2.135952397457101   12.58555761211163   \n",
       "3     min              -124.35              32.54                 1.0   \n",
       "4     max              -114.31              41.95                52.0   \n",
       "\n",
       "          total_rooms      total_bedrooms          population  \\\n",
       "0               20640               20433               20640   \n",
       "1  2635.7630813953488   537.8705525375618  1425.4767441860465   \n",
       "2  2181.6152515827944  421.38507007403115    1132.46212176534   \n",
       "3                 2.0                 1.0                 3.0   \n",
       "4             39320.0              6445.0             35682.0   \n",
       "\n",
       "          households       median_income  median_house_value ocean_proximity  \n",
       "0              20640               20640               20640           20640  \n",
       "1  499.5396802325581  3.8706710029070246  206855.81690891474            None  \n",
       "2  382.3297528316098   1.899821717945263  115395.61587441359            None  \n",
       "3                1.0              0.4999             14999.0       <1H OCEAN  \n",
       "4             6082.0             15.0001            500001.0      NEAR OCEAN  "
      ]
     },
     "execution_count": 4,
     "metadata": {},
     "output_type": "execute_result"
    }
   ],
   "source": [
    "# выведем базовые описательные статистики данных в виде таблицы в pandas\n",
    "df_housing.describe().toPandas()"
   ]
  },
  {
   "cell_type": "markdown",
   "id": "82c9b5e7",
   "metadata": {},
   "source": [
    "В датасете более 20 тысяч строк. Максимальная медианная стоимость дома равна полумиллиону долларов."
   ]
  },
  {
   "cell_type": "code",
   "execution_count": 5,
   "id": "fa1ff032",
   "metadata": {},
   "outputs": [
    {
     "name": "stdout",
     "output_type": "stream",
     "text": [
      "longitude 0\n",
      "latitude 0\n",
      "housing_median_age 0\n",
      "total_rooms 0\n",
      "total_bedrooms 207\n",
      "population 0\n",
      "households 0\n",
      "median_income 0\n",
      "median_house_value 0\n",
      "ocean_proximity 0\n"
     ]
    }
   ],
   "source": [
    "# проверим, есть ли пропущенные значения в датасете, найдём их количество в каждой колонке.\n",
    "columns = df_housing.columns\n",
    "\n",
    "for column in columns:\n",
    "    print(column, df_housing.where(F.isnan(column) | F.col(column).isNull()).count())"
   ]
  },
  {
   "cell_type": "markdown",
   "id": "d51466f5",
   "metadata": {},
   "source": [
    "`total_bedrooms` содержит всего `207` пропусков - чуть более одного процента от всех записей. Удалим строки, содержащие пропуски."
   ]
  },
  {
   "cell_type": "code",
   "execution_count": 6,
   "id": "32650804",
   "metadata": {},
   "outputs": [
    {
     "name": "stdout",
     "output_type": "stream",
     "text": [
      "longitude 0\n",
      "latitude 0\n",
      "housing_median_age 0\n",
      "total_rooms 0\n",
      "total_bedrooms 0\n",
      "population 0\n",
      "households 0\n",
      "median_income 0\n",
      "median_house_value 0\n",
      "ocean_proximity 0\n"
     ]
    }
   ],
   "source": [
    "# удалим пропуски\n",
    "df_housing = df_housing.na.drop(how='any')\n",
    "columns = df_housing.columns\n",
    "for column in columns:\n",
    "    print(column, df_housing.where(F.isnan(column) | F.col(column).isNull()).count())"
   ]
  },
  {
   "cell_type": "markdown",
   "id": "db47fe57",
   "metadata": {},
   "source": [
    "<div class=\"alert alert-success\">\n",
    "<b>Комментарий ревьюера ✔️:</b> Хорошо, но можно заполнить, например вот так:\n",
    "\n",
    "```python\n",
    "    imputer = Imputer(inputCol='total_bedrooms', outputCol=\"out_total_bedrooms\", strategy='median')\n",
    "    model = imputer.fit(df)\n",
    "    new_df = model.transform(df)\n",
    "    \n",
    "```\n",
    "\n",
    "\n",
    "</div>"
   ]
  },
  {
   "cell_type": "markdown",
   "id": "c306d2ab",
   "metadata": {},
   "source": [
    "<div class=\"alert alert-info\" style=\"border-radius: 13px; border: 1px solid lightgreen; padding: 13px; background-color: mintcream\"> \n",
    "<b> Комментарий студента</b>\n",
    "    \n",
    "<span style=\"color:#008B8B\"> Спасибо за совет =)</span>\n",
    "    \n",
    "</div>"
   ]
  },
  {
   "cell_type": "code",
   "execution_count": 7,
   "id": "d1bcbef2",
   "metadata": {},
   "outputs": [],
   "source": [
    "# разделим колонки на числовые и текстовые\n",
    "categorical_cols = ['ocean_proximity']\n",
    "numerical_cols  = [\"longitude\", \"latitude\", \"housing_median_age\", \"total_rooms\",\n",
    "                   \"total_bedrooms\", \"population\", \"households\", \"median_income\"]\n",
    "target = \"median_house_value\" "
   ]
  },
  {
   "cell_type": "markdown",
   "id": "e6900593",
   "metadata": {},
   "source": [
    "Трансформируем числовые и категориальные признаки."
   ]
  },
  {
   "cell_type": "code",
   "execution_count": 8,
   "id": "399b4387",
   "metadata": {},
   "outputs": [
    {
     "name": "stderr",
     "output_type": "stream",
     "text": [
      "                                                                                \r"
     ]
    },
    {
     "data": {
      "text/html": [
       "<div>\n",
       "<style scoped>\n",
       "    .dataframe tbody tr th:only-of-type {\n",
       "        vertical-align: middle;\n",
       "    }\n",
       "\n",
       "    .dataframe tbody tr th {\n",
       "        vertical-align: top;\n",
       "    }\n",
       "\n",
       "    .dataframe thead th {\n",
       "        text-align: right;\n",
       "    }\n",
       "</style>\n",
       "<table border=\"1\" class=\"dataframe\">\n",
       "  <thead>\n",
       "    <tr style=\"text-align: right;\">\n",
       "      <th></th>\n",
       "      <th>longitude</th>\n",
       "      <th>latitude</th>\n",
       "      <th>housing_median_age</th>\n",
       "      <th>total_rooms</th>\n",
       "      <th>total_bedrooms</th>\n",
       "      <th>population</th>\n",
       "      <th>households</th>\n",
       "      <th>median_income</th>\n",
       "      <th>median_house_value</th>\n",
       "      <th>ocean_proximity</th>\n",
       "      <th>ocean_proximity_idx</th>\n",
       "      <th>ocean_proximity_ohe</th>\n",
       "    </tr>\n",
       "  </thead>\n",
       "  <tbody>\n",
       "    <tr>\n",
       "      <th>0</th>\n",
       "      <td>-122.23</td>\n",
       "      <td>37.88</td>\n",
       "      <td>41.0</td>\n",
       "      <td>880.0</td>\n",
       "      <td>129.0</td>\n",
       "      <td>322.0</td>\n",
       "      <td>126.0</td>\n",
       "      <td>8.3252</td>\n",
       "      <td>452600.0</td>\n",
       "      <td>NEAR BAY</td>\n",
       "      <td>3.0</td>\n",
       "      <td>(0.0, 0.0, 0.0, 1.0)</td>\n",
       "    </tr>\n",
       "    <tr>\n",
       "      <th>1</th>\n",
       "      <td>-122.22</td>\n",
       "      <td>37.86</td>\n",
       "      <td>21.0</td>\n",
       "      <td>7099.0</td>\n",
       "      <td>1106.0</td>\n",
       "      <td>2401.0</td>\n",
       "      <td>1138.0</td>\n",
       "      <td>8.3014</td>\n",
       "      <td>358500.0</td>\n",
       "      <td>NEAR BAY</td>\n",
       "      <td>3.0</td>\n",
       "      <td>(0.0, 0.0, 0.0, 1.0)</td>\n",
       "    </tr>\n",
       "    <tr>\n",
       "      <th>2</th>\n",
       "      <td>-122.24</td>\n",
       "      <td>37.85</td>\n",
       "      <td>52.0</td>\n",
       "      <td>1467.0</td>\n",
       "      <td>190.0</td>\n",
       "      <td>496.0</td>\n",
       "      <td>177.0</td>\n",
       "      <td>7.2574</td>\n",
       "      <td>352100.0</td>\n",
       "      <td>NEAR BAY</td>\n",
       "      <td>3.0</td>\n",
       "      <td>(0.0, 0.0, 0.0, 1.0)</td>\n",
       "    </tr>\n",
       "    <tr>\n",
       "      <th>3</th>\n",
       "      <td>-122.25</td>\n",
       "      <td>37.85</td>\n",
       "      <td>52.0</td>\n",
       "      <td>1274.0</td>\n",
       "      <td>235.0</td>\n",
       "      <td>558.0</td>\n",
       "      <td>219.0</td>\n",
       "      <td>5.6431</td>\n",
       "      <td>341300.0</td>\n",
       "      <td>NEAR BAY</td>\n",
       "      <td>3.0</td>\n",
       "      <td>(0.0, 0.0, 0.0, 1.0)</td>\n",
       "    </tr>\n",
       "    <tr>\n",
       "      <th>4</th>\n",
       "      <td>-122.25</td>\n",
       "      <td>37.85</td>\n",
       "      <td>52.0</td>\n",
       "      <td>1627.0</td>\n",
       "      <td>280.0</td>\n",
       "      <td>565.0</td>\n",
       "      <td>259.0</td>\n",
       "      <td>3.8462</td>\n",
       "      <td>342200.0</td>\n",
       "      <td>NEAR BAY</td>\n",
       "      <td>3.0</td>\n",
       "      <td>(0.0, 0.0, 0.0, 1.0)</td>\n",
       "    </tr>\n",
       "  </tbody>\n",
       "</table>\n",
       "</div>"
      ],
      "text/plain": [
       "   longitude  latitude  housing_median_age  total_rooms  total_bedrooms  \\\n",
       "0    -122.23     37.88                41.0        880.0           129.0   \n",
       "1    -122.22     37.86                21.0       7099.0          1106.0   \n",
       "2    -122.24     37.85                52.0       1467.0           190.0   \n",
       "3    -122.25     37.85                52.0       1274.0           235.0   \n",
       "4    -122.25     37.85                52.0       1627.0           280.0   \n",
       "\n",
       "   population  households  median_income  median_house_value ocean_proximity  \\\n",
       "0       322.0       126.0         8.3252            452600.0        NEAR BAY   \n",
       "1      2401.0      1138.0         8.3014            358500.0        NEAR BAY   \n",
       "2       496.0       177.0         7.2574            352100.0        NEAR BAY   \n",
       "3       558.0       219.0         5.6431            341300.0        NEAR BAY   \n",
       "4       565.0       259.0         3.8462            342200.0        NEAR BAY   \n",
       "\n",
       "   ocean_proximity_idx   ocean_proximity_ohe  \n",
       "0                  3.0  (0.0, 0.0, 0.0, 1.0)  \n",
       "1                  3.0  (0.0, 0.0, 0.0, 1.0)  \n",
       "2                  3.0  (0.0, 0.0, 0.0, 1.0)  \n",
       "3                  3.0  (0.0, 0.0, 0.0, 1.0)  \n",
       "4                  3.0  (0.0, 0.0, 0.0, 1.0)  "
      ]
     },
     "execution_count": 8,
     "metadata": {},
     "output_type": "execute_result"
    }
   ],
   "source": [
    "# трансформируем категориальные признаки в числовое представление\n",
    "# преобразуем колонку с категориальными значениями техникой One hot encoding\n",
    "indexer = StringIndexer(inputCols=categorical_cols, \n",
    "                        outputCols=[c+'_idx' for c in categorical_cols]) \n",
    "df_housing = indexer.fit(df_housing).transform(df_housing)\n",
    "\n",
    "ohe = OneHotEncoder(inputCols=[c+'_idx' for c in categorical_cols],\n",
    "                        outputCols=[c+'_ohe' for c in categorical_cols])\n",
    "df_housing = ohe.fit(df_housing).transform(df_housing)\n",
    "df_housing.toPandas().head()"
   ]
  },
  {
   "cell_type": "markdown",
   "id": "f22664d0",
   "metadata": {},
   "source": [
    "<div class=\"alert alert-success\">\n",
    "<b>Комментарий ревьюера ✔️:</b> Категориальные данные готовы:)\n",
    "\n",
    "</div>"
   ]
  },
  {
   "cell_type": "code",
   "execution_count": 9,
   "id": "2d4e93ee",
   "metadata": {},
   "outputs": [],
   "source": [
    "# объединим несколько столбцов признаков в векторный столбец\n",
    "categorical_assembler = \\\n",
    "        VectorAssembler(inputCols=[c+'_ohe' for c in categorical_cols],\n",
    "                                        outputCol=\"categorical_features\")\n",
    "df_housing = categorical_assembler.transform(df_housing)"
   ]
  },
  {
   "cell_type": "code",
   "execution_count": 10,
   "id": "592f38f3",
   "metadata": {},
   "outputs": [
    {
     "name": "stderr",
     "output_type": "stream",
     "text": [
      "                                                                                \r"
     ]
    }
   ],
   "source": [
    "# cтандартизируем числовые признаки, масштабируя их до единичной дисперсии\n",
    "numerical_assembler = VectorAssembler(inputCols=numerical_cols, outputCol=\"numerical_features\")\n",
    "df_housing = numerical_assembler.transform(df_housing)\n",
    "standardScaler = StandardScaler(inputCol='numerical_features',outputCol=\"numerical_features_scaled\")\n",
    "df_housing = standardScaler.fit(df_housing).transform(df_housing)"
   ]
  },
  {
   "cell_type": "markdown",
   "id": "f82f2432",
   "metadata": {},
   "source": [
    "<div class=\"alert alert-success\">\n",
    "<b>Комментарий ревьюера ✔️:</b> отмасштабировал корректно;)\n",
    "\n",
    "</div>"
   ]
  },
  {
   "cell_type": "code",
   "execution_count": 11,
   "id": "9f2645e7",
   "metadata": {},
   "outputs": [
    {
     "name": "stdout",
     "output_type": "stream",
     "text": [
      "+--------------------+-------------------------+\n",
      "|categorical_features|numerical_features_scaled|\n",
      "+--------------------+-------------------------+\n",
      "|       (4,[3],[1.0])|     [-61.005863841998...|\n",
      "|       (4,[3],[1.0])|     [-61.000872770752...|\n",
      "|       (4,[3],[1.0])|     [-61.010854913244...|\n",
      "+--------------------+-------------------------+\n",
      "only showing top 3 rows\n",
      "\n"
     ]
    }
   ],
   "source": [
    "# объединим числовые и категориальные признаки в векторный столбец\n",
    "all_features = ['categorical_features','numerical_features_scaled']\n",
    "final_assembler = VectorAssembler(inputCols=all_features, outputCol=\"features\") \n",
    "df_housing = final_assembler.transform(df_housing)\n",
    "df_housing.select(all_features).show(3)"
   ]
  },
  {
   "cell_type": "markdown",
   "id": "14270ce2",
   "metadata": {},
   "source": [
    "Данные готовы к обучению моделей."
   ]
  },
  {
   "cell_type": "markdown",
   "id": "9f0a82f3",
   "metadata": {
    "id": "9f0a82f3"
   },
   "source": [
    "## Обучение моделей"
   ]
  },
  {
   "cell_type": "markdown",
   "id": "c53f7ef1",
   "metadata": {},
   "source": [
    "Построим две модели линейной регрессии на разных наборах данных:\n",
    "* используя все данные из файла;\n",
    "* используя только числовые переменные, исключив категориальные.  \n",
    "\n",
    "Для построения модели используем оценщик `LinearRegression`."
   ]
  },
  {
   "cell_type": "code",
   "execution_count": 12,
   "id": "b7dd1f25",
   "metadata": {},
   "outputs": [
    {
     "name": "stderr",
     "output_type": "stream",
     "text": [
      "                                                                                \r"
     ]
    },
    {
     "name": "stdout",
     "output_type": "stream",
     "text": [
      "15459 4974\n"
     ]
    },
    {
     "name": "stderr",
     "output_type": "stream",
     "text": [
      "                                                                                \r"
     ]
    }
   ],
   "source": [
    "# разделим данные на две части\n",
    "train_data, test_data = df_housing.randomSplit([.75,.25], seed=RANDOM_SEED)\n",
    "print(train_data.count(), test_data.count())"
   ]
  },
  {
   "cell_type": "code",
   "execution_count": 13,
   "id": "bddb08c4",
   "metadata": {
    "id": "bddb08c4"
   },
   "outputs": [
    {
     "name": "stderr",
     "output_type": "stream",
     "text": [
      "22/09/09 11:15:53 WARN Instrumentation: [ec2e1d66] regParam is zero, which might cause numerical instability and overfitting.\n",
      "22/09/09 11:15:54 WARN BLAS: Failed to load implementation from: com.github.fommil.netlib.NativeSystemBLAS\n",
      "22/09/09 11:15:54 WARN BLAS: Failed to load implementation from: com.github.fommil.netlib.NativeRefBLAS\n",
      "22/09/09 11:15:54 WARN LAPACK: Failed to load implementation from: com.github.fommil.netlib.NativeSystemLAPACK\n",
      "22/09/09 11:15:54 WARN LAPACK: Failed to load implementation from: com.github.fommil.netlib.NativeRefLAPACK\n",
      "                                                                                \r"
     ]
    }
   ],
   "source": [
    "# обучим модель линейной регрессии на всех данных\n",
    "lr_1 = LinearRegression(labelCol=target, featuresCol='features',regParam=0.0)\n",
    "model = lr_1.fit(train_data)\n",
    "predictions = model.transform(test_data)\n",
    "predictions_col = 'prediction'"
   ]
  },
  {
   "cell_type": "code",
   "execution_count": 14,
   "id": "6cbc1988",
   "metadata": {},
   "outputs": [
    {
     "name": "stderr",
     "output_type": "stream",
     "text": [
      "22/09/09 11:15:56 WARN Instrumentation: [6370e485] regParam is zero, which might cause numerical instability and overfitting.\n",
      "                                                                                \r"
     ]
    }
   ],
   "source": [
    "# обучим модель линейной регрессии на числовых переменных\n",
    "lr_2 = LinearRegression(labelCol=target, featuresCol='numerical_features_scaled', regParam=0.0)\n",
    "model2 = lr_2.fit(train_data)\n",
    "predictions2 = model2.transform(test_data)"
   ]
  },
  {
   "cell_type": "markdown",
   "id": "32d087c1",
   "metadata": {},
   "source": [
    "<div class=\"alert alert-success\">\n",
    "<b>Комментарий ревьюера ✔️:</b> Огонь! Все верно обучил\n",
    "\n",
    "</div>"
   ]
  },
  {
   "cell_type": "markdown",
   "id": "757fd103",
   "metadata": {
    "id": "757fd103"
   },
   "source": [
    "## Анализ результатов"
   ]
  },
  {
   "cell_type": "markdown",
   "id": "0b59a6c5",
   "metadata": {},
   "source": [
    "Сравним результаты работы линейной регрессии на двух наборах данных по метрикам `RMSE`, `MAE` и `R2`."
   ]
  },
  {
   "cell_type": "code",
   "execution_count": 15,
   "id": "983e1ceb",
   "metadata": {},
   "outputs": [],
   "source": [
    "# используем оценщик регрессии для анализа полученных предсказаний двух моделей\n",
    "evaluator = RegressionEvaluator(predictionCol=predictions_col, labelCol = target)"
   ]
  },
  {
   "cell_type": "code",
   "execution_count": 16,
   "id": "eca649d4",
   "metadata": {},
   "outputs": [
    {
     "name": "stderr",
     "output_type": "stream",
     "text": [
      "                                                                                \r"
     ]
    },
    {
     "name": "stdout",
     "output_type": "stream",
     "text": [
      "model1: 67977.46572443032\n",
      "model2: 68759.52956542479\n"
     ]
    }
   ],
   "source": [
    "# расчитаем метрику RMSE для кaждой из моделей\n",
    "print('model1:', evaluator.evaluate(predictions, {evaluator.metricName: \"rmse\"}))\n",
    "print('model2:', evaluator.evaluate(predictions2, {evaluator.metricName: \"rmse\"}))"
   ]
  },
  {
   "cell_type": "markdown",
   "id": "a7e6baf4",
   "metadata": {},
   "source": [
    "Согласно метрики `RMSE`, модель на всех данных работает точнее."
   ]
  },
  {
   "cell_type": "code",
   "execution_count": 17,
   "id": "28913da9",
   "metadata": {},
   "outputs": [
    {
     "name": "stdout",
     "output_type": "stream",
     "text": [
      "model1: 49309.34233482486\n",
      "model2: 50250.84061468822\n"
     ]
    }
   ],
   "source": [
    "# расчитаем метрику MAE для кaждой из моделей\n",
    "print('model1:', evaluator.evaluate(predictions, {evaluator.metricName: \"mae\"}))\n",
    "print('model2:', evaluator.evaluate(predictions2, {evaluator.metricName: \"mae\"}))"
   ]
  },
  {
   "cell_type": "markdown",
   "id": "1442fe8e",
   "metadata": {},
   "source": [
    "Согласно метрики `MAE`, модель на всех данных работает точнее."
   ]
  },
  {
   "cell_type": "code",
   "execution_count": 18,
   "id": "ec7230ed",
   "metadata": {},
   "outputs": [
    {
     "name": "stdout",
     "output_type": "stream",
     "text": [
      "model1: 0.6500518895579303\n",
      "model2: 0.6419534386731541\n"
     ]
    }
   ],
   "source": [
    "# расчитаем метрику R2 для кaждой из моделей\n",
    "print('model1:', evaluator.evaluate(predictions, {evaluator.metricName: \"r2\"}))\n",
    "print('model2:', evaluator.evaluate(predictions2, {evaluator.metricName: \"r2\"}))"
   ]
  },
  {
   "cell_type": "markdown",
   "id": "b56e9a5f",
   "metadata": {},
   "source": [
    "Согласно метрики `R2`, модель на всех данных работает точнее."
   ]
  },
  {
   "cell_type": "markdown",
   "id": "9464acc6",
   "metadata": {},
   "source": [
    "<div class=\"alert alert-success\">\n",
    "<b>Комментарий ревьюера ✔️:</b> Протестировал абсолютно корректно;)\n",
    "\n",
    "</div>"
   ]
  },
  {
   "cell_type": "markdown",
   "id": "5220c913",
   "metadata": {},
   "source": [
    "**Вывод**  \n",
    "\n",
    "Сравнили две модели линейной регрессии, обученные на двух наборах данных (используя все данные и только числовые переменные) по метрикам `RMSE`, `MAE` и `R2` .  \n",
    "Cогласно всем трём метрикам, точнее работает модель, использующая все данные из файла."
   ]
  },
  {
   "cell_type": "markdown",
   "id": "aa2a3fd4",
   "metadata": {},
   "source": [
    "<div class=\"alert alert-success\">\n",
    "<b>Комментарий ревьюера ✔️:</b> Немного полезного материала:\n",
    "\n",
    "Немного полезной информации:\n",
    "+  https://www.tutorialspoint.com/pyspark/index.htm\n",
    "+  https://www.guru99.com/pyspark-tutorial.html\n",
    "+  https://databricks.com/spark/getting-started-with-apache-spark/machine-learning#load-sample-data\n",
    "\n",
    "\n",
    "</div>"
   ]
  },
  {
   "cell_type": "markdown",
   "id": "72e2c58e",
   "metadata": {},
   "source": [
    "<div class=\"alert alert-info\" style=\"border-radius: 13px; border: 1px solid lightgreen; padding: 13px; background-color: mintcream\"> \n",
    "<b> Комментарий студента</b>\n",
    "    \n",
    "<span style=\"color:#008B8B\"> Спасибо за полезные ссылки, добавлю в свою библиотеку =)</span>\n",
    "    \n",
    "</div>"
   ]
  },
  {
   "cell_type": "markdown",
   "id": "a82fea85",
   "metadata": {},
   "source": [
    "<font color='blue'><b>Итоговый комментарий ревьюера</b></font>\n",
    "<div class=\"alert alert-success\">\n",
    "<b>Комментарий ревьюера ✔️:</b>Алексей, спасибо за хороший проект!!! Я готов принять работу, но хочу убедиться, что тебе все понятно.<br>\n",
    "Если есть какие либо вопросы я с удовольствием на них отвечу:)</div>\n"
   ]
  },
  {
   "cell_type": "markdown",
   "id": "f6a87ecb",
   "metadata": {},
   "source": [
    "<div class=\"alert alert-info\" style=\"border-radius: 13px; border: 1px solid lightgreen; padding: 13px; background-color: mintcream\"> \n",
    "<b> Комментарий студента</b>\n",
    "    \n",
    "<span style=\"color:#008B8B\"> Большое спасибо! Вопросов нет =)</span>\n",
    "    \n",
    "</div>"
   ]
  },
  {
   "attachments": {
    "image-2.png": {
     "image/png": "[encoded data removed]"
    }
   },
   "cell_type": "markdown",
   "id": "cb8bbfe5",
   "metadata": {},
   "source": [
    "<div class=\"alert alert-success\">\n",
    "<b>Комментарий ревьюера V2✔️:</b> Отлично:) Удачи в следующих проектах!!!\n",
    "    \n",
    "    \n",
    "\n",
    "![image-2.png](attachment:image-2.png)\n",
    "\n",
    "\n",
    "</div>"
   ]
  }
 ],
 "metadata": {
  "ExecuteTimeLog": [
   {
    "duration": 14791,
    "start_time": "2022-09-07T16:49:54.474Z"
   },
   {
    "duration": 1259,
    "start_time": "2022-09-07T17:16:02.098Z"
   },
   {
    "duration": 21838,
    "start_time": "2022-09-07T17:16:03.359Z"
   },
   {
    "duration": 81,
    "start_time": "2022-09-07T17:16:25.199Z"
   },
   {
    "duration": 3805,
    "start_time": "2022-09-07T17:16:25.282Z"
   },
   {
    "duration": 3874,
    "start_time": "2022-09-07T17:16:29.089Z"
   },
   {
    "duration": 41,
    "start_time": "2022-09-09T10:27:15.203Z"
   },
   {
    "duration": 4115,
    "start_time": "2022-09-09T10:27:53.346Z"
   },
   {
    "duration": 3,
    "start_time": "2022-09-09T10:29:39.182Z"
   },
   {
    "duration": 3510,
    "start_time": "2022-09-09T10:36:37.877Z"
   },
   {
    "duration": 39,
    "start_time": "2022-09-09T10:38:39.656Z"
   },
   {
    "duration": 975,
    "start_time": "2022-09-09T10:41:12.885Z"
   },
   {
    "duration": 360,
    "start_time": "2022-09-09T10:42:46.515Z"
   },
   {
    "duration": 3129,
    "start_time": "2022-09-09T10:54:02.757Z"
   },
   {
    "duration": 4061,
    "start_time": "2022-09-09T10:56:44.899Z"
   },
   {
    "duration": 3,
    "start_time": "2022-09-09T10:57:32.584Z"
   },
   {
    "duration": 2537,
    "start_time": "2022-09-09T10:58:11.323Z"
   },
   {
    "duration": 11,
    "start_time": "2022-09-09T11:00:34.959Z"
   },
   {
    "duration": 3,
    "start_time": "2022-09-09T11:00:59.484Z"
   },
   {
    "duration": 1028,
    "start_time": "2022-09-09T11:02:37.639Z"
   },
   {
    "duration": 1425,
    "start_time": "2022-09-09T11:02:45.792Z"
   },
   {
    "duration": 971,
    "start_time": "2022-09-09T11:03:13.301Z"
   },
   {
    "duration": 1329,
    "start_time": "2022-09-09T11:03:29.458Z"
   },
   {
    "duration": 963,
    "start_time": "2022-09-09T11:06:32.342Z"
   },
   {
    "duration": 790,
    "start_time": "2022-09-09T11:07:55.894Z"
   },
   {
    "duration": 85,
    "start_time": "2022-09-09T11:08:15.428Z"
   },
   {
    "duration": 1277,
    "start_time": "2022-09-09T11:15:05.267Z"
   },
   {
    "duration": 25724,
    "start_time": "2022-09-09T11:15:06.546Z"
   },
   {
    "duration": 84,
    "start_time": "2022-09-09T11:15:32.273Z"
   },
   {
    "duration": 4210,
    "start_time": "2022-09-09T11:15:32.360Z"
   },
   {
    "duration": 4115,
    "start_time": "2022-09-09T11:15:36.573Z"
   },
   {
    "duration": 4074,
    "start_time": "2022-09-09T11:15:40.689Z"
   },
   {
    "duration": 3,
    "start_time": "2022-09-09T11:15:44.765Z"
   },
   {
    "duration": 3569,
    "start_time": "2022-09-09T11:15:44.770Z"
   },
   {
    "duration": 54,
    "start_time": "2022-09-09T11:15:48.341Z"
   },
   {
    "duration": 1065,
    "start_time": "2022-09-09T11:15:48.397Z"
   },
   {
    "duration": 500,
    "start_time": "2022-09-09T11:15:49.464Z"
   },
   {
    "duration": 2608,
    "start_time": "2022-09-09T11:15:49.966Z"
   },
   {
    "duration": 3879,
    "start_time": "2022-09-09T11:15:52.576Z"
   },
   {
    "duration": 2697,
    "start_time": "2022-09-09T11:15:56.458Z"
   },
   {
    "duration": 10,
    "start_time": "2022-09-09T11:15:59.157Z"
   },
   {
    "duration": 1597,
    "start_time": "2022-09-09T11:15:59.169Z"
   },
   {
    "duration": 1359,
    "start_time": "2022-09-09T11:16:00.768Z"
   },
   {
    "duration": 1228,
    "start_time": "2022-09-09T11:16:02.128Z"
   }
  ],
  "colab": {
   "name": "PySparkSprint.ipynb",
   "provenance": []
  },
  "kernelspec": {
   "display_name": "Python 3 (ipykernel)",
   "language": "python",
   "name": "python3"
  },
  "language_info": {
   "codemirror_mode": {
    "name": "ipython",
    "version": 3
   },
   "file_extension": ".py",
   "mimetype": "text/x-python",
   "name": "python",
   "nbconvert_exporter": "python",
   "pygments_lexer": "ipython3",
   "version": "3.9.5"
  },
  "toc": {
   "base_numbering": 1,
   "nav_menu": {},
   "number_sections": true,
   "sideBar": true,
   "skip_h1_title": true,
   "title_cell": "Table of Contents",
   "title_sidebar": "Contents",
   "toc_cell": false,
   "toc_position": {},
   "toc_section_display": true,
   "toc_window_display": false
  }
 },
 "nbformat": 4,
 "nbformat_minor": 5
}
