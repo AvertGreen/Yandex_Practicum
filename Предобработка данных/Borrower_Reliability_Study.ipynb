{
 "cells": [
  {
   "cell_type": "markdown",
   "metadata": {},
   "source": [
    "# Исследование надёжности заёмщиков\n",
    "\n",
    "Заказчик — кредитный отдел банка. Нужно разобраться, влияет ли семейное положение и количество детей клиента на факт погашения кредита в срок. Входные данные от банка — статистика о платёжеспособности клиентов.\n",
    "\n",
    "Результаты исследования будут учтены при построении модели **кредитного скоринга** — специальной системы, которая оценивает способность потенциального заёмщика вернуть кредит банку.\n",
    "\n",
    "**Цель исследования** — проверить гипотезы:\n",
    "\n",
    "1. Наличие детей у клиента банка имеет влияние на возврат кредита в срок.\n",
    "\n",
    "2. Семейное положение клиента банка влияет на возврат кредита в срок.\n",
    "\n",
    "3. Уровень дохода клиента банка влияет на возврат кредита в срок.\n",
    "\n",
    "4. Различные цели кредита имеют разное влияние на его возврат в срок.\n",
    "\n",
    "**Ход исследования**\n",
    "\n",
    "Данные о статистики платёжеспособности клиентов получим из файла `/datasets/data.csv`. О качестве данных ничего не известно. Поэтому перед проверкой гипотез понадобится обзор данных. Проверим данные на ошибки и оценим их влияние на исследование. На этапе предобработки исправим самые критичные ошибки. Проверим гипотезы и интерпретируем их. Подведём общий итог.\n",
    "\n",
    "Таким образом, исследование пройдёт следующие этапы:\n",
    "\n",
    "* Обзор данных.\n",
    "* Предобработка данных.\n",
    "* Проверка гипотез.\n",
    "* Общий вывод."
   ]
  },
  {
   "cell_type": "markdown",
   "metadata": {},
   "source": [
    "##  Общая информация"
   ]
  },
  {
   "cell_type": "markdown",
   "metadata": {},
   "source": [
    " Загрузим файл с данными и ознакомимся с ним."
   ]
  },
  {
   "cell_type": "code",
   "execution_count": 1,
   "metadata": {},
   "outputs": [],
   "source": [
    "# импорт библиотек\n",
    "import pandas as pd\n",
    "from pymystem3 import Mystem\n",
    "import seaborn"
   ]
  },
  {
   "cell_type": "code",
   "execution_count": 2,
   "metadata": {},
   "outputs": [
    {
     "data": {
      "text/html": [
       "<div>\n",
       "<style scoped>\n",
       "    .dataframe tbody tr th:only-of-type {\n",
       "        vertical-align: middle;\n",
       "    }\n",
       "\n",
       "    .dataframe tbody tr th {\n",
       "        vertical-align: top;\n",
       "    }\n",
       "\n",
       "    .dataframe thead th {\n",
       "        text-align: right;\n",
       "    }\n",
       "</style>\n",
       "<table border=\"1\" class=\"dataframe\">\n",
       "  <thead>\n",
       "    <tr style=\"text-align: right;\">\n",
       "      <th></th>\n",
       "      <th>children</th>\n",
       "      <th>days_employed</th>\n",
       "      <th>dob_years</th>\n",
       "      <th>education</th>\n",
       "      <th>education_id</th>\n",
       "      <th>family_status</th>\n",
       "      <th>family_status_id</th>\n",
       "      <th>gender</th>\n",
       "      <th>income_type</th>\n",
       "      <th>debt</th>\n",
       "      <th>total_income</th>\n",
       "      <th>purpose</th>\n",
       "    </tr>\n",
       "  </thead>\n",
       "  <tbody>\n",
       "    <tr>\n",
       "      <th>0</th>\n",
       "      <td>1</td>\n",
       "      <td>-8437.673028</td>\n",
       "      <td>42</td>\n",
       "      <td>высшее</td>\n",
       "      <td>0</td>\n",
       "      <td>женат / замужем</td>\n",
       "      <td>0</td>\n",
       "      <td>F</td>\n",
       "      <td>сотрудник</td>\n",
       "      <td>0</td>\n",
       "      <td>253875.639453</td>\n",
       "      <td>покупка жилья</td>\n",
       "    </tr>\n",
       "    <tr>\n",
       "      <th>1</th>\n",
       "      <td>1</td>\n",
       "      <td>-4024.803754</td>\n",
       "      <td>36</td>\n",
       "      <td>среднее</td>\n",
       "      <td>1</td>\n",
       "      <td>женат / замужем</td>\n",
       "      <td>0</td>\n",
       "      <td>F</td>\n",
       "      <td>сотрудник</td>\n",
       "      <td>0</td>\n",
       "      <td>112080.014102</td>\n",
       "      <td>приобретение автомобиля</td>\n",
       "    </tr>\n",
       "    <tr>\n",
       "      <th>2</th>\n",
       "      <td>0</td>\n",
       "      <td>-5623.422610</td>\n",
       "      <td>33</td>\n",
       "      <td>Среднее</td>\n",
       "      <td>1</td>\n",
       "      <td>женат / замужем</td>\n",
       "      <td>0</td>\n",
       "      <td>M</td>\n",
       "      <td>сотрудник</td>\n",
       "      <td>0</td>\n",
       "      <td>145885.952297</td>\n",
       "      <td>покупка жилья</td>\n",
       "    </tr>\n",
       "    <tr>\n",
       "      <th>3</th>\n",
       "      <td>3</td>\n",
       "      <td>-4124.747207</td>\n",
       "      <td>32</td>\n",
       "      <td>среднее</td>\n",
       "      <td>1</td>\n",
       "      <td>женат / замужем</td>\n",
       "      <td>0</td>\n",
       "      <td>M</td>\n",
       "      <td>сотрудник</td>\n",
       "      <td>0</td>\n",
       "      <td>267628.550329</td>\n",
       "      <td>дополнительное образование</td>\n",
       "    </tr>\n",
       "    <tr>\n",
       "      <th>4</th>\n",
       "      <td>0</td>\n",
       "      <td>340266.072047</td>\n",
       "      <td>53</td>\n",
       "      <td>среднее</td>\n",
       "      <td>1</td>\n",
       "      <td>гражданский брак</td>\n",
       "      <td>1</td>\n",
       "      <td>F</td>\n",
       "      <td>пенсионер</td>\n",
       "      <td>0</td>\n",
       "      <td>158616.077870</td>\n",
       "      <td>сыграть свадьбу</td>\n",
       "    </tr>\n",
       "    <tr>\n",
       "      <th>5</th>\n",
       "      <td>0</td>\n",
       "      <td>-926.185831</td>\n",
       "      <td>27</td>\n",
       "      <td>высшее</td>\n",
       "      <td>0</td>\n",
       "      <td>гражданский брак</td>\n",
       "      <td>1</td>\n",
       "      <td>M</td>\n",
       "      <td>компаньон</td>\n",
       "      <td>0</td>\n",
       "      <td>255763.565419</td>\n",
       "      <td>покупка жилья</td>\n",
       "    </tr>\n",
       "    <tr>\n",
       "      <th>6</th>\n",
       "      <td>0</td>\n",
       "      <td>-2879.202052</td>\n",
       "      <td>43</td>\n",
       "      <td>высшее</td>\n",
       "      <td>0</td>\n",
       "      <td>женат / замужем</td>\n",
       "      <td>0</td>\n",
       "      <td>F</td>\n",
       "      <td>компаньон</td>\n",
       "      <td>0</td>\n",
       "      <td>240525.971920</td>\n",
       "      <td>операции с жильем</td>\n",
       "    </tr>\n",
       "    <tr>\n",
       "      <th>7</th>\n",
       "      <td>0</td>\n",
       "      <td>-152.779569</td>\n",
       "      <td>50</td>\n",
       "      <td>СРЕДНЕЕ</td>\n",
       "      <td>1</td>\n",
       "      <td>женат / замужем</td>\n",
       "      <td>0</td>\n",
       "      <td>M</td>\n",
       "      <td>сотрудник</td>\n",
       "      <td>0</td>\n",
       "      <td>135823.934197</td>\n",
       "      <td>образование</td>\n",
       "    </tr>\n",
       "    <tr>\n",
       "      <th>8</th>\n",
       "      <td>2</td>\n",
       "      <td>-6929.865299</td>\n",
       "      <td>35</td>\n",
       "      <td>ВЫСШЕЕ</td>\n",
       "      <td>0</td>\n",
       "      <td>гражданский брак</td>\n",
       "      <td>1</td>\n",
       "      <td>F</td>\n",
       "      <td>сотрудник</td>\n",
       "      <td>0</td>\n",
       "      <td>95856.832424</td>\n",
       "      <td>на проведение свадьбы</td>\n",
       "    </tr>\n",
       "    <tr>\n",
       "      <th>9</th>\n",
       "      <td>0</td>\n",
       "      <td>-2188.756445</td>\n",
       "      <td>41</td>\n",
       "      <td>среднее</td>\n",
       "      <td>1</td>\n",
       "      <td>женат / замужем</td>\n",
       "      <td>0</td>\n",
       "      <td>M</td>\n",
       "      <td>сотрудник</td>\n",
       "      <td>0</td>\n",
       "      <td>144425.938277</td>\n",
       "      <td>покупка жилья для семьи</td>\n",
       "    </tr>\n",
       "  </tbody>\n",
       "</table>\n",
       "</div>"
      ],
      "text/plain": [
       "   children  days_employed  dob_years education  education_id  \\\n",
       "0         1   -8437.673028         42    высшее             0   \n",
       "1         1   -4024.803754         36   среднее             1   \n",
       "2         0   -5623.422610         33   Среднее             1   \n",
       "3         3   -4124.747207         32   среднее             1   \n",
       "4         0  340266.072047         53   среднее             1   \n",
       "5         0    -926.185831         27    высшее             0   \n",
       "6         0   -2879.202052         43    высшее             0   \n",
       "7         0    -152.779569         50   СРЕДНЕЕ             1   \n",
       "8         2   -6929.865299         35    ВЫСШЕЕ             0   \n",
       "9         0   -2188.756445         41   среднее             1   \n",
       "\n",
       "      family_status  family_status_id gender income_type  debt   total_income  \\\n",
       "0   женат / замужем                 0      F   сотрудник     0  253875.639453   \n",
       "1   женат / замужем                 0      F   сотрудник     0  112080.014102   \n",
       "2   женат / замужем                 0      M   сотрудник     0  145885.952297   \n",
       "3   женат / замужем                 0      M   сотрудник     0  267628.550329   \n",
       "4  гражданский брак                 1      F   пенсионер     0  158616.077870   \n",
       "5  гражданский брак                 1      M   компаньон     0  255763.565419   \n",
       "6   женат / замужем                 0      F   компаньон     0  240525.971920   \n",
       "7   женат / замужем                 0      M   сотрудник     0  135823.934197   \n",
       "8  гражданский брак                 1      F   сотрудник     0   95856.832424   \n",
       "9   женат / замужем                 0      M   сотрудник     0  144425.938277   \n",
       "\n",
       "                      purpose  \n",
       "0               покупка жилья  \n",
       "1     приобретение автомобиля  \n",
       "2               покупка жилья  \n",
       "3  дополнительное образование  \n",
       "4             сыграть свадьбу  \n",
       "5               покупка жилья  \n",
       "6           операции с жильем  \n",
       "7                 образование  \n",
       "8       на проведение свадьбы  \n",
       "9     покупка жилья для семьи  "
      ]
     },
     "metadata": {},
     "output_type": "display_data"
    },
    {
     "data": {
      "text/html": [
       "<div>\n",
       "<style scoped>\n",
       "    .dataframe tbody tr th:only-of-type {\n",
       "        vertical-align: middle;\n",
       "    }\n",
       "\n",
       "    .dataframe tbody tr th {\n",
       "        vertical-align: top;\n",
       "    }\n",
       "\n",
       "    .dataframe thead th {\n",
       "        text-align: right;\n",
       "    }\n",
       "</style>\n",
       "<table border=\"1\" class=\"dataframe\">\n",
       "  <thead>\n",
       "    <tr style=\"text-align: right;\">\n",
       "      <th></th>\n",
       "      <th>children</th>\n",
       "      <th>days_employed</th>\n",
       "      <th>dob_years</th>\n",
       "      <th>education</th>\n",
       "      <th>education_id</th>\n",
       "      <th>family_status</th>\n",
       "      <th>family_status_id</th>\n",
       "      <th>gender</th>\n",
       "      <th>income_type</th>\n",
       "      <th>debt</th>\n",
       "      <th>total_income</th>\n",
       "      <th>purpose</th>\n",
       "    </tr>\n",
       "  </thead>\n",
       "  <tbody>\n",
       "    <tr>\n",
       "      <th>21515</th>\n",
       "      <td>1</td>\n",
       "      <td>-467.685130</td>\n",
       "      <td>28</td>\n",
       "      <td>среднее</td>\n",
       "      <td>1</td>\n",
       "      <td>женат / замужем</td>\n",
       "      <td>0</td>\n",
       "      <td>F</td>\n",
       "      <td>сотрудник</td>\n",
       "      <td>1</td>\n",
       "      <td>109486.327999</td>\n",
       "      <td>заняться образованием</td>\n",
       "    </tr>\n",
       "    <tr>\n",
       "      <th>21516</th>\n",
       "      <td>0</td>\n",
       "      <td>-914.391429</td>\n",
       "      <td>42</td>\n",
       "      <td>высшее</td>\n",
       "      <td>0</td>\n",
       "      <td>женат / замужем</td>\n",
       "      <td>0</td>\n",
       "      <td>F</td>\n",
       "      <td>компаньон</td>\n",
       "      <td>0</td>\n",
       "      <td>322807.776603</td>\n",
       "      <td>покупка своего жилья</td>\n",
       "    </tr>\n",
       "    <tr>\n",
       "      <th>21517</th>\n",
       "      <td>0</td>\n",
       "      <td>-404.679034</td>\n",
       "      <td>42</td>\n",
       "      <td>высшее</td>\n",
       "      <td>0</td>\n",
       "      <td>гражданский брак</td>\n",
       "      <td>1</td>\n",
       "      <td>F</td>\n",
       "      <td>компаньон</td>\n",
       "      <td>0</td>\n",
       "      <td>178059.553491</td>\n",
       "      <td>на покупку своего автомобиля</td>\n",
       "    </tr>\n",
       "    <tr>\n",
       "      <th>21518</th>\n",
       "      <td>0</td>\n",
       "      <td>373995.710838</td>\n",
       "      <td>59</td>\n",
       "      <td>СРЕДНЕЕ</td>\n",
       "      <td>1</td>\n",
       "      <td>женат / замужем</td>\n",
       "      <td>0</td>\n",
       "      <td>F</td>\n",
       "      <td>пенсионер</td>\n",
       "      <td>0</td>\n",
       "      <td>153864.650328</td>\n",
       "      <td>сделка с автомобилем</td>\n",
       "    </tr>\n",
       "    <tr>\n",
       "      <th>21519</th>\n",
       "      <td>1</td>\n",
       "      <td>-2351.431934</td>\n",
       "      <td>37</td>\n",
       "      <td>ученая степень</td>\n",
       "      <td>4</td>\n",
       "      <td>в разводе</td>\n",
       "      <td>3</td>\n",
       "      <td>M</td>\n",
       "      <td>сотрудник</td>\n",
       "      <td>0</td>\n",
       "      <td>115949.039788</td>\n",
       "      <td>покупка коммерческой недвижимости</td>\n",
       "    </tr>\n",
       "    <tr>\n",
       "      <th>21520</th>\n",
       "      <td>1</td>\n",
       "      <td>-4529.316663</td>\n",
       "      <td>43</td>\n",
       "      <td>среднее</td>\n",
       "      <td>1</td>\n",
       "      <td>гражданский брак</td>\n",
       "      <td>1</td>\n",
       "      <td>F</td>\n",
       "      <td>компаньон</td>\n",
       "      <td>0</td>\n",
       "      <td>224791.862382</td>\n",
       "      <td>операции с жильем</td>\n",
       "    </tr>\n",
       "    <tr>\n",
       "      <th>21521</th>\n",
       "      <td>0</td>\n",
       "      <td>343937.404131</td>\n",
       "      <td>67</td>\n",
       "      <td>среднее</td>\n",
       "      <td>1</td>\n",
       "      <td>женат / замужем</td>\n",
       "      <td>0</td>\n",
       "      <td>F</td>\n",
       "      <td>пенсионер</td>\n",
       "      <td>0</td>\n",
       "      <td>155999.806512</td>\n",
       "      <td>сделка с автомобилем</td>\n",
       "    </tr>\n",
       "    <tr>\n",
       "      <th>21522</th>\n",
       "      <td>1</td>\n",
       "      <td>-2113.346888</td>\n",
       "      <td>38</td>\n",
       "      <td>среднее</td>\n",
       "      <td>1</td>\n",
       "      <td>гражданский брак</td>\n",
       "      <td>1</td>\n",
       "      <td>M</td>\n",
       "      <td>сотрудник</td>\n",
       "      <td>1</td>\n",
       "      <td>89672.561153</td>\n",
       "      <td>недвижимость</td>\n",
       "    </tr>\n",
       "    <tr>\n",
       "      <th>21523</th>\n",
       "      <td>3</td>\n",
       "      <td>-3112.481705</td>\n",
       "      <td>38</td>\n",
       "      <td>среднее</td>\n",
       "      <td>1</td>\n",
       "      <td>женат / замужем</td>\n",
       "      <td>0</td>\n",
       "      <td>M</td>\n",
       "      <td>сотрудник</td>\n",
       "      <td>1</td>\n",
       "      <td>244093.050500</td>\n",
       "      <td>на покупку своего автомобиля</td>\n",
       "    </tr>\n",
       "    <tr>\n",
       "      <th>21524</th>\n",
       "      <td>2</td>\n",
       "      <td>-1984.507589</td>\n",
       "      <td>40</td>\n",
       "      <td>среднее</td>\n",
       "      <td>1</td>\n",
       "      <td>женат / замужем</td>\n",
       "      <td>0</td>\n",
       "      <td>F</td>\n",
       "      <td>сотрудник</td>\n",
       "      <td>0</td>\n",
       "      <td>82047.418899</td>\n",
       "      <td>на покупку автомобиля</td>\n",
       "    </tr>\n",
       "  </tbody>\n",
       "</table>\n",
       "</div>"
      ],
      "text/plain": [
       "       children  days_employed  dob_years       education  education_id  \\\n",
       "21515         1    -467.685130         28         среднее             1   \n",
       "21516         0    -914.391429         42          высшее             0   \n",
       "21517         0    -404.679034         42          высшее             0   \n",
       "21518         0  373995.710838         59         СРЕДНЕЕ             1   \n",
       "21519         1   -2351.431934         37  ученая степень             4   \n",
       "21520         1   -4529.316663         43         среднее             1   \n",
       "21521         0  343937.404131         67         среднее             1   \n",
       "21522         1   -2113.346888         38         среднее             1   \n",
       "21523         3   -3112.481705         38         среднее             1   \n",
       "21524         2   -1984.507589         40         среднее             1   \n",
       "\n",
       "          family_status  family_status_id gender income_type  debt  \\\n",
       "21515   женат / замужем                 0      F   сотрудник     1   \n",
       "21516   женат / замужем                 0      F   компаньон     0   \n",
       "21517  гражданский брак                 1      F   компаньон     0   \n",
       "21518   женат / замужем                 0      F   пенсионер     0   \n",
       "21519         в разводе                 3      M   сотрудник     0   \n",
       "21520  гражданский брак                 1      F   компаньон     0   \n",
       "21521   женат / замужем                 0      F   пенсионер     0   \n",
       "21522  гражданский брак                 1      M   сотрудник     1   \n",
       "21523   женат / замужем                 0      M   сотрудник     1   \n",
       "21524   женат / замужем                 0      F   сотрудник     0   \n",
       "\n",
       "        total_income                            purpose  \n",
       "21515  109486.327999              заняться образованием  \n",
       "21516  322807.776603               покупка своего жилья  \n",
       "21517  178059.553491       на покупку своего автомобиля  \n",
       "21518  153864.650328               сделка с автомобилем  \n",
       "21519  115949.039788  покупка коммерческой недвижимости  \n",
       "21520  224791.862382                  операции с жильем  \n",
       "21521  155999.806512               сделка с автомобилем  \n",
       "21522   89672.561153                       недвижимость  \n",
       "21523  244093.050500       на покупку своего автомобиля  \n",
       "21524   82047.418899              на покупку автомобиля  "
      ]
     },
     "metadata": {},
     "output_type": "display_data"
    },
    {
     "name": "stdout",
     "output_type": "stream",
     "text": [
      "<class 'pandas.core.frame.DataFrame'>\n",
      "RangeIndex: 21525 entries, 0 to 21524\n",
      "Data columns (total 12 columns):\n",
      " #   Column            Non-Null Count  Dtype  \n",
      "---  ------            --------------  -----  \n",
      " 0   children          21525 non-null  int64  \n",
      " 1   days_employed     19351 non-null  float64\n",
      " 2   dob_years         21525 non-null  int64  \n",
      " 3   education         21525 non-null  object \n",
      " 4   education_id      21525 non-null  int64  \n",
      " 5   family_status     21525 non-null  object \n",
      " 6   family_status_id  21525 non-null  int64  \n",
      " 7   gender            21525 non-null  object \n",
      " 8   income_type       21525 non-null  object \n",
      " 9   debt              21525 non-null  int64  \n",
      " 10  total_income      19351 non-null  float64\n",
      " 11  purpose           21525 non-null  object \n",
      "dtypes: float64(2), int64(5), object(5)\n",
      "memory usage: 2.0+ MB\n"
     ]
    }
   ],
   "source": [
    "# чтение файла с данными и сохранение в df\n",
    "# получение первых и последних 10 строк таблицы df\n",
    "# получение общей информации о данных в таблице df\n",
    "df = pd.read_csv('/datasets/data.csv')\n",
    "display(df.head(10))\n",
    "display(df.tail(10))\n",
    "df.info()"
   ]
  },
  {
   "cell_type": "markdown",
   "metadata": {},
   "source": [
    "**Вывод**  \n",
    "\n",
    "В таблице двенадцать столбцов. Тип данных  — `int64`, `float64`, `object`.\n",
    "\n",
    "Согласно документации к данным:\n",
    "\n",
    "* `children` — количество детей в семье\n",
    "* `days_employed` — общий трудовой стаж в днях\n",
    "* `dob_years` — возраст клиента в годах\n",
    "* `education` — уровень образования клиента\n",
    "* `education_id` — идентификатор уровня образования\n",
    "* `family_status` — семейное положение\n",
    "* `family_status_id` — идентификатор семейного положения\n",
    "* `gender` — пол клиента\n",
    "* `income_type` — тип занятости\n",
    "* `debt` — имел ли задолженность по возврату кредитов\n",
    "* `total_income` — ежемесячный доход\n",
    "* `purpose` — цель получения кредита.\n",
    "\n",
    "Количество значений в столбцах различается. Значит, в данных есть пропущенные значения.  \n",
    "Общий трудовой стаж в днях (`days_employed`) - имеет тип данных `float64`, есть отрицательные значения.  \n",
    "Уровень образования клиента (`education`) - строчные буквы сочетаются с прописными.  \n",
    "Ежемесячный доход (`total_income`) - имеет тип данных `float64`.  \n",
    "\n",
    "В каждой строке таблицы — данные о платёжеспособности клиента. В колонках предоставляются данные клиентов банка о наличие детей, семейном положении, уровне дохода, наличие задолженности по возврату кредитов, - что должно быть достаточно для проверки поставленных гипотез. Но встречаются пропуски в данных, неподходящий тип данных, артефакты.\n",
    "\n",
    "\n",
    "Необходимо устранить проблемы в данных."
   ]
  },
  {
   "cell_type": "markdown",
   "metadata": {},
   "source": [
    "## Предобработка данных"
   ]
  },
  {
   "cell_type": "markdown",
   "metadata": {},
   "source": [
    "### Обработка пропусков"
   ]
  },
  {
   "cell_type": "code",
   "execution_count": 3,
   "metadata": {},
   "outputs": [
    {
     "data": {
      "text/plain": [
       "children               0\n",
       "days_employed       2174\n",
       "dob_years              0\n",
       "education              0\n",
       "education_id           0\n",
       "family_status          0\n",
       "family_status_id       0\n",
       "gender                 0\n",
       "income_type            0\n",
       "debt                   0\n",
       "total_income        2174\n",
       "purpose                0\n",
       "dtype: int64"
      ]
     },
     "execution_count": 3,
     "metadata": {},
     "output_type": "execute_result"
    }
   ],
   "source": [
    "# подсчёт пропусков\n",
    "df.isna().sum()"
   ]
  },
  {
   "cell_type": "markdown",
   "metadata": {},
   "source": [
    "Не все пропущенные значения влияют на исследование. Так, в `days_employed` пропуски не важны для вашей работы. И сами данные в этом столбце не поддаются анализу, вероятнее всего, произошёл какой-то сбой, либо ошибка при формировании этих данных в столбце с общим трудовым стажем в днях, т.к. трудовой стаж не может быть отрицательным, исчиляться в сотнях лет, иметь нецелочисленное значение.  \n",
    "Но, пропуски в `total_income` могут помешать проверке влияния уровня дохода клиента на возврат кредита в срок, тем более, что пропущенные значения составляют чуть больше 10% всех данных.  \n",
    "При этом, совпадает количество пропусков в этих двух столбцах. Проверим, совпадают ли пропуски в строках. Возможно, ежемесячный доход отсутствует вместе с трудовым стажем, т.к.  у клиента не было работы, не наработался трудовой стаж и, соответственно, отсутствует заработная плата. По этой причине, отсутствующие значения можем заполнить нулями, во избежании потери полезной информации в других строках."
   ]
  },
  {
   "cell_type": "markdown",
   "metadata": {},
   "source": [
    "Заменим пропущенные значения в стоблце с заработной платой на медианное значение, выделенное по трём характеристикам: возрасту, образованию, типу занятости. Возраст разобъём на категории.  \n",
    "Классификацией ВОЗ установлено:\n",
    "* 18 - 44 лет - молодой возраст `young`;\n",
    "* 45 - 59 лет - средний возраст `middle`;\n",
    "* 60 - 74 года - пожилой возраст `elderly`;\n",
    "* 75 - 90 лет - старческий возраст `senile`;\n",
    "* старше 90 лет - долгожители `long_livers`."
   ]
  },
  {
   "cell_type": "code",
   "execution_count": 4,
   "metadata": {
    "scrolled": true
   },
   "outputs": [
    {
     "data": {
      "text/html": [
       "<div>\n",
       "<style scoped>\n",
       "    .dataframe tbody tr th:only-of-type {\n",
       "        vertical-align: middle;\n",
       "    }\n",
       "\n",
       "    .dataframe tbody tr th {\n",
       "        vertical-align: top;\n",
       "    }\n",
       "\n",
       "    .dataframe thead th {\n",
       "        text-align: right;\n",
       "    }\n",
       "</style>\n",
       "<table border=\"1\" class=\"dataframe\">\n",
       "  <thead>\n",
       "    <tr style=\"text-align: right;\">\n",
       "      <th></th>\n",
       "      <th>children</th>\n",
       "      <th>days_employed</th>\n",
       "      <th>dob_years</th>\n",
       "      <th>education</th>\n",
       "      <th>education_id</th>\n",
       "      <th>family_status</th>\n",
       "      <th>family_status_id</th>\n",
       "      <th>gender</th>\n",
       "      <th>income_type</th>\n",
       "      <th>debt</th>\n",
       "      <th>total_income</th>\n",
       "      <th>purpose</th>\n",
       "      <th>dob_years_id</th>\n",
       "    </tr>\n",
       "  </thead>\n",
       "  <tbody>\n",
       "    <tr>\n",
       "      <th>0</th>\n",
       "      <td>1</td>\n",
       "      <td>-8437.673028</td>\n",
       "      <td>42</td>\n",
       "      <td>высшее</td>\n",
       "      <td>0</td>\n",
       "      <td>женат / замужем</td>\n",
       "      <td>0</td>\n",
       "      <td>F</td>\n",
       "      <td>сотрудник</td>\n",
       "      <td>0</td>\n",
       "      <td>253875.639453</td>\n",
       "      <td>покупка жилья</td>\n",
       "      <td>молодой</td>\n",
       "    </tr>\n",
       "    <tr>\n",
       "      <th>1</th>\n",
       "      <td>1</td>\n",
       "      <td>-4024.803754</td>\n",
       "      <td>36</td>\n",
       "      <td>среднее</td>\n",
       "      <td>1</td>\n",
       "      <td>женат / замужем</td>\n",
       "      <td>0</td>\n",
       "      <td>F</td>\n",
       "      <td>сотрудник</td>\n",
       "      <td>0</td>\n",
       "      <td>112080.014102</td>\n",
       "      <td>приобретение автомобиля</td>\n",
       "      <td>молодой</td>\n",
       "    </tr>\n",
       "    <tr>\n",
       "      <th>2</th>\n",
       "      <td>0</td>\n",
       "      <td>-5623.422610</td>\n",
       "      <td>33</td>\n",
       "      <td>Среднее</td>\n",
       "      <td>1</td>\n",
       "      <td>женат / замужем</td>\n",
       "      <td>0</td>\n",
       "      <td>M</td>\n",
       "      <td>сотрудник</td>\n",
       "      <td>0</td>\n",
       "      <td>145885.952297</td>\n",
       "      <td>покупка жилья</td>\n",
       "      <td>молодой</td>\n",
       "    </tr>\n",
       "    <tr>\n",
       "      <th>3</th>\n",
       "      <td>3</td>\n",
       "      <td>-4124.747207</td>\n",
       "      <td>32</td>\n",
       "      <td>среднее</td>\n",
       "      <td>1</td>\n",
       "      <td>женат / замужем</td>\n",
       "      <td>0</td>\n",
       "      <td>M</td>\n",
       "      <td>сотрудник</td>\n",
       "      <td>0</td>\n",
       "      <td>267628.550329</td>\n",
       "      <td>дополнительное образование</td>\n",
       "      <td>молодой</td>\n",
       "    </tr>\n",
       "    <tr>\n",
       "      <th>4</th>\n",
       "      <td>0</td>\n",
       "      <td>340266.072047</td>\n",
       "      <td>53</td>\n",
       "      <td>среднее</td>\n",
       "      <td>1</td>\n",
       "      <td>гражданский брак</td>\n",
       "      <td>1</td>\n",
       "      <td>F</td>\n",
       "      <td>пенсионер</td>\n",
       "      <td>0</td>\n",
       "      <td>158616.077870</td>\n",
       "      <td>сыграть свадьбу</td>\n",
       "      <td>средний</td>\n",
       "    </tr>\n",
       "  </tbody>\n",
       "</table>\n",
       "</div>"
      ],
      "text/plain": [
       "   children  days_employed  dob_years education  education_id  \\\n",
       "0         1   -8437.673028         42    высшее             0   \n",
       "1         1   -4024.803754         36   среднее             1   \n",
       "2         0   -5623.422610         33   Среднее             1   \n",
       "3         3   -4124.747207         32   среднее             1   \n",
       "4         0  340266.072047         53   среднее             1   \n",
       "\n",
       "      family_status  family_status_id gender income_type  debt   total_income  \\\n",
       "0   женат / замужем                 0      F   сотрудник     0  253875.639453   \n",
       "1   женат / замужем                 0      F   сотрудник     0  112080.014102   \n",
       "2   женат / замужем                 0      M   сотрудник     0  145885.952297   \n",
       "3   женат / замужем                 0      M   сотрудник     0  267628.550329   \n",
       "4  гражданский брак                 1      F   пенсионер     0  158616.077870   \n",
       "\n",
       "                      purpose dob_years_id  \n",
       "0               покупка жилья      молодой  \n",
       "1     приобретение автомобиля      молодой  \n",
       "2               покупка жилья      молодой  \n",
       "3  дополнительное образование      молодой  \n",
       "4             сыграть свадьбу      средний  "
      ]
     },
     "execution_count": 4,
     "metadata": {},
     "output_type": "execute_result"
    }
   ],
   "source": [
    "# создадим функцию для разбиения столбца 'dob_years' на категории\n",
    "# создадим новый столбец 'dob_years_id' и добавим его в конец таблицы\n",
    "def dob_years_id(row):\n",
    "    if row['dob_years'] <= 44:\n",
    "        return 'молодой'\n",
    "    elif 44 < row['dob_years'] <= 59:\n",
    "        return 'средний'\n",
    "    elif 59 < row['dob_years'] <= 74:\n",
    "        return 'пожилой'\n",
    "    elif 74 < row['dob_years'] <= 90:\n",
    "        return 'старческий'\n",
    "    else: return 'долгожители'  \n",
    "df['dob_years_id'] = df.apply(dob_years_id, axis=1)\n",
    "df.head()"
   ]
  },
  {
   "cell_type": "code",
   "execution_count": 5,
   "metadata": {},
   "outputs": [],
   "source": [
    "df['education'] = df['education'].str.lower()\n",
    "df['family_status'] = df['family_status'].str.lower()\n",
    "df['gender'] = df['gender'].str.lower()\n",
    "df['income_type'] = df['income_type'].str.lower()\n",
    "df['purpose'] = df['purpose'].str.lower()"
   ]
  },
  {
   "cell_type": "code",
   "execution_count": 6,
   "metadata": {
    "scrolled": true
   },
   "outputs": [
    {
     "data": {
      "text/plain": [
       "children               0\n",
       "days_employed       2174\n",
       "dob_years              0\n",
       "education              0\n",
       "education_id           0\n",
       "family_status          0\n",
       "family_status_id       0\n",
       "gender                 0\n",
       "income_type            0\n",
       "debt                   0\n",
       "total_income           0\n",
       "purpose                0\n",
       "dob_years_id           0\n",
       "dtype: int64"
      ]
     },
     "execution_count": 6,
     "metadata": {},
     "output_type": "execute_result"
    }
   ],
   "source": [
    "# сгруппируем и вычислим медиану стобца 'total_income' по 3-м характеристикам, подставим эту медиану вместо пустых значений\n",
    "# остаются два незаполненных значения, заменим их на медиану по двум группам\n",
    "df['total_income'] = df['total_income'].fillna(df.groupby(['income_type', 'education', 'dob_years_id'])['total_income'].transform('median'))\n",
    "df['total_income'] = df['total_income'].fillna(df.groupby(['education', 'dob_years_id'])['total_income'].transform('median'))\n",
    "df.isna().sum()"
   ]
  },
  {
   "cell_type": "markdown",
   "metadata": {},
   "source": [
    "Отсутствующие значения в стобце заработной платы заполнены."
   ]
  },
  {
   "cell_type": "code",
   "execution_count": 7,
   "metadata": {},
   "outputs": [
    {
     "data": {
      "text/plain": [
       "children            0\n",
       "days_employed       0\n",
       "dob_years           0\n",
       "education           0\n",
       "education_id        0\n",
       "family_status       0\n",
       "family_status_id    0\n",
       "gender              0\n",
       "income_type         0\n",
       "debt                0\n",
       "total_income        0\n",
       "purpose             0\n",
       "dob_years_id        0\n",
       "dtype: int64"
      ]
     },
     "execution_count": 7,
     "metadata": {},
     "output_type": "execute_result"
    }
   ],
   "source": [
    "# в столбце 'days_employed' заменим все пропущенные значения на нули\n",
    "df['days_employed'] = df['days_employed'].fillna(0)\n",
    "df.isna().sum()"
   ]
  },
  {
   "cell_type": "markdown",
   "metadata": {},
   "source": [
    "Пропусков больше нет."
   ]
  },
  {
   "cell_type": "code",
   "execution_count": 8,
   "metadata": {},
   "outputs": [
    {
     "data": {
      "text/html": [
       "<div>\n",
       "<style scoped>\n",
       "    .dataframe tbody tr th:only-of-type {\n",
       "        vertical-align: middle;\n",
       "    }\n",
       "\n",
       "    .dataframe tbody tr th {\n",
       "        vertical-align: top;\n",
       "    }\n",
       "\n",
       "    .dataframe thead th {\n",
       "        text-align: right;\n",
       "    }\n",
       "</style>\n",
       "<table border=\"1\" class=\"dataframe\">\n",
       "  <thead>\n",
       "    <tr style=\"text-align: right;\">\n",
       "      <th></th>\n",
       "      <th>children</th>\n",
       "      <th>days_employed</th>\n",
       "      <th>dob_years</th>\n",
       "      <th>education</th>\n",
       "      <th>education_id</th>\n",
       "      <th>family_status</th>\n",
       "      <th>family_status_id</th>\n",
       "      <th>gender</th>\n",
       "      <th>income_type</th>\n",
       "      <th>debt</th>\n",
       "      <th>total_income</th>\n",
       "      <th>purpose</th>\n",
       "      <th>dob_years_id</th>\n",
       "    </tr>\n",
       "  </thead>\n",
       "  <tbody>\n",
       "    <tr>\n",
       "      <th>0</th>\n",
       "      <td>1</td>\n",
       "      <td>8437.673028</td>\n",
       "      <td>42</td>\n",
       "      <td>высшее</td>\n",
       "      <td>0</td>\n",
       "      <td>женат / замужем</td>\n",
       "      <td>0</td>\n",
       "      <td>f</td>\n",
       "      <td>сотрудник</td>\n",
       "      <td>0</td>\n",
       "      <td>253875.639453</td>\n",
       "      <td>покупка жилья</td>\n",
       "      <td>молодой</td>\n",
       "    </tr>\n",
       "    <tr>\n",
       "      <th>1</th>\n",
       "      <td>1</td>\n",
       "      <td>4024.803754</td>\n",
       "      <td>36</td>\n",
       "      <td>среднее</td>\n",
       "      <td>1</td>\n",
       "      <td>женат / замужем</td>\n",
       "      <td>0</td>\n",
       "      <td>f</td>\n",
       "      <td>сотрудник</td>\n",
       "      <td>0</td>\n",
       "      <td>112080.014102</td>\n",
       "      <td>приобретение автомобиля</td>\n",
       "      <td>молодой</td>\n",
       "    </tr>\n",
       "    <tr>\n",
       "      <th>2</th>\n",
       "      <td>0</td>\n",
       "      <td>5623.422610</td>\n",
       "      <td>33</td>\n",
       "      <td>среднее</td>\n",
       "      <td>1</td>\n",
       "      <td>женат / замужем</td>\n",
       "      <td>0</td>\n",
       "      <td>m</td>\n",
       "      <td>сотрудник</td>\n",
       "      <td>0</td>\n",
       "      <td>145885.952297</td>\n",
       "      <td>покупка жилья</td>\n",
       "      <td>молодой</td>\n",
       "    </tr>\n",
       "    <tr>\n",
       "      <th>3</th>\n",
       "      <td>3</td>\n",
       "      <td>4124.747207</td>\n",
       "      <td>32</td>\n",
       "      <td>среднее</td>\n",
       "      <td>1</td>\n",
       "      <td>женат / замужем</td>\n",
       "      <td>0</td>\n",
       "      <td>m</td>\n",
       "      <td>сотрудник</td>\n",
       "      <td>0</td>\n",
       "      <td>267628.550329</td>\n",
       "      <td>дополнительное образование</td>\n",
       "      <td>молодой</td>\n",
       "    </tr>\n",
       "    <tr>\n",
       "      <th>4</th>\n",
       "      <td>0</td>\n",
       "      <td>340266.072047</td>\n",
       "      <td>53</td>\n",
       "      <td>среднее</td>\n",
       "      <td>1</td>\n",
       "      <td>гражданский брак</td>\n",
       "      <td>1</td>\n",
       "      <td>f</td>\n",
       "      <td>пенсионер</td>\n",
       "      <td>0</td>\n",
       "      <td>158616.077870</td>\n",
       "      <td>сыграть свадьбу</td>\n",
       "      <td>средний</td>\n",
       "    </tr>\n",
       "  </tbody>\n",
       "</table>\n",
       "</div>"
      ],
      "text/plain": [
       "   children  days_employed  dob_years education  education_id  \\\n",
       "0         1    8437.673028         42    высшее             0   \n",
       "1         1    4024.803754         36   среднее             1   \n",
       "2         0    5623.422610         33   среднее             1   \n",
       "3         3    4124.747207         32   среднее             1   \n",
       "4         0  340266.072047         53   среднее             1   \n",
       "\n",
       "      family_status  family_status_id gender income_type  debt   total_income  \\\n",
       "0   женат / замужем                 0      f   сотрудник     0  253875.639453   \n",
       "1   женат / замужем                 0      f   сотрудник     0  112080.014102   \n",
       "2   женат / замужем                 0      m   сотрудник     0  145885.952297   \n",
       "3   женат / замужем                 0      m   сотрудник     0  267628.550329   \n",
       "4  гражданский брак                 1      f   пенсионер     0  158616.077870   \n",
       "\n",
       "                      purpose dob_years_id  \n",
       "0               покупка жилья      молодой  \n",
       "1     приобретение автомобиля      молодой  \n",
       "2               покупка жилья      молодой  \n",
       "3  дополнительное образование      молодой  \n",
       "4             сыграть свадьбу      средний  "
      ]
     },
     "execution_count": 8,
     "metadata": {},
     "output_type": "execute_result"
    }
   ],
   "source": [
    "# возьмём по модулю все отрицательные значения в столбце 'days_employed', доступными математическими методами \n",
    "# без подгрузки дополнительных библиотек\n",
    "df['days_employed'] = (df['days_employed']*df['days_employed'])**0.5\n",
    "df.head()"
   ]
  },
  {
   "cell_type": "markdown",
   "metadata": {},
   "source": [
    "**Вывод**  \n",
    "Заменены пропущенные данные в столбцах `days_employed` и `total_income`, отрицательные значения в столбце `days_employed` заменены на положительные значения."
   ]
  },
  {
   "cell_type": "markdown",
   "metadata": {},
   "source": [
    "### Замена типа данных"
   ]
  },
  {
   "cell_type": "markdown",
   "metadata": {},
   "source": [
    "В столбцах `days_employed` и `total_income` тип данных `float64`, ковертируем в `int64`."
   ]
  },
  {
   "cell_type": "code",
   "execution_count": 9,
   "metadata": {},
   "outputs": [
    {
     "data": {
      "text/plain": [
       "children             int64\n",
       "days_employed        int64\n",
       "dob_years            int64\n",
       "education           object\n",
       "education_id         int64\n",
       "family_status       object\n",
       "family_status_id     int64\n",
       "gender              object\n",
       "income_type         object\n",
       "debt                 int64\n",
       "total_income         int64\n",
       "purpose             object\n",
       "dob_years_id        object\n",
       "dtype: object"
      ]
     },
     "execution_count": 9,
     "metadata": {},
     "output_type": "execute_result"
    }
   ],
   "source": [
    "# перевод типа данных столбцов 'days_employed' и 'total_income'  в целочисленное поле\n",
    "df['days_employed'] = df['days_employed'].astype('int')\n",
    "df['total_income'] = df['total_income'].astype('int')\n",
    "df.dtypes"
   ]
  },
  {
   "cell_type": "markdown",
   "metadata": {},
   "source": [
    "**Вывод**  \n",
    "Количество дней трудового стажа может быть только целочисленным, как и уровень дохода клиента удобнее считать в целочисленных значениях, поэтому преобразуем тип данных в целочисленное поле, методом `astype`, который будет безопасным в текущем случае перевода значений `float64` в `int64`  и более уместным, чем метод `to_numeric()`, т.к. все пропущенные значения уже обработаны и который приведёт к `int32` вместо `int64`."
   ]
  },
  {
   "cell_type": "markdown",
   "metadata": {},
   "source": [
    "### Обработка дубликатов"
   ]
  },
  {
   "cell_type": "markdown",
   "metadata": {},
   "source": [
    "####  Дубликаты"
   ]
  },
  {
   "cell_type": "markdown",
   "metadata": {},
   "source": [
    "Чтобы учесть все дубликаты в столбцах типа `object`: `education`, `family_status`, `gender`, `income_type`,  `purpose`, -   все символы в строке приведём к нижнему регистру, вызовом метода `lower()`."
   ]
  },
  {
   "cell_type": "code",
   "execution_count": 10,
   "metadata": {},
   "outputs": [
    {
     "data": {
      "text/plain": [
       "71"
      ]
     },
     "execution_count": 10,
     "metadata": {},
     "output_type": "execute_result"
    }
   ],
   "source": [
    "# подсчёт явных дубликатов\n",
    "df.duplicated().sum()"
   ]
  },
  {
   "cell_type": "code",
   "execution_count": 11,
   "metadata": {},
   "outputs": [
    {
     "data": {
      "text/html": [
       "<div>\n",
       "<style scoped>\n",
       "    .dataframe tbody tr th:only-of-type {\n",
       "        vertical-align: middle;\n",
       "    }\n",
       "\n",
       "    .dataframe tbody tr th {\n",
       "        vertical-align: top;\n",
       "    }\n",
       "\n",
       "    .dataframe thead th {\n",
       "        text-align: right;\n",
       "    }\n",
       "</style>\n",
       "<table border=\"1\" class=\"dataframe\">\n",
       "  <thead>\n",
       "    <tr style=\"text-align: right;\">\n",
       "      <th></th>\n",
       "      <th>children</th>\n",
       "      <th>days_employed</th>\n",
       "      <th>dob_years</th>\n",
       "      <th>education</th>\n",
       "      <th>education_id</th>\n",
       "      <th>family_status</th>\n",
       "      <th>family_status_id</th>\n",
       "      <th>gender</th>\n",
       "      <th>income_type</th>\n",
       "      <th>debt</th>\n",
       "      <th>total_income</th>\n",
       "      <th>purpose</th>\n",
       "      <th>dob_years_id</th>\n",
       "    </tr>\n",
       "  </thead>\n",
       "  <tbody>\n",
       "    <tr>\n",
       "      <th>120</th>\n",
       "      <td>0</td>\n",
       "      <td>0</td>\n",
       "      <td>46</td>\n",
       "      <td>среднее</td>\n",
       "      <td>1</td>\n",
       "      <td>женат / замужем</td>\n",
       "      <td>0</td>\n",
       "      <td>f</td>\n",
       "      <td>сотрудник</td>\n",
       "      <td>0</td>\n",
       "      <td>136789</td>\n",
       "      <td>высшее образование</td>\n",
       "      <td>средний</td>\n",
       "    </tr>\n",
       "    <tr>\n",
       "      <th>520</th>\n",
       "      <td>0</td>\n",
       "      <td>0</td>\n",
       "      <td>35</td>\n",
       "      <td>среднее</td>\n",
       "      <td>1</td>\n",
       "      <td>гражданский брак</td>\n",
       "      <td>1</td>\n",
       "      <td>f</td>\n",
       "      <td>сотрудник</td>\n",
       "      <td>0</td>\n",
       "      <td>136585</td>\n",
       "      <td>сыграть свадьбу</td>\n",
       "      <td>молодой</td>\n",
       "    </tr>\n",
       "    <tr>\n",
       "      <th>541</th>\n",
       "      <td>0</td>\n",
       "      <td>0</td>\n",
       "      <td>57</td>\n",
       "      <td>среднее</td>\n",
       "      <td>1</td>\n",
       "      <td>женат / замужем</td>\n",
       "      <td>0</td>\n",
       "      <td>f</td>\n",
       "      <td>сотрудник</td>\n",
       "      <td>0</td>\n",
       "      <td>136789</td>\n",
       "      <td>сделка с подержанным автомобилем</td>\n",
       "      <td>средний</td>\n",
       "    </tr>\n",
       "    <tr>\n",
       "      <th>554</th>\n",
       "      <td>0</td>\n",
       "      <td>0</td>\n",
       "      <td>60</td>\n",
       "      <td>среднее</td>\n",
       "      <td>1</td>\n",
       "      <td>женат / замужем</td>\n",
       "      <td>0</td>\n",
       "      <td>m</td>\n",
       "      <td>сотрудник</td>\n",
       "      <td>0</td>\n",
       "      <td>133299</td>\n",
       "      <td>покупка недвижимости</td>\n",
       "      <td>пожилой</td>\n",
       "    </tr>\n",
       "    <tr>\n",
       "      <th>680</th>\n",
       "      <td>1</td>\n",
       "      <td>0</td>\n",
       "      <td>30</td>\n",
       "      <td>высшее</td>\n",
       "      <td>0</td>\n",
       "      <td>женат / замужем</td>\n",
       "      <td>0</td>\n",
       "      <td>f</td>\n",
       "      <td>госслужащий</td>\n",
       "      <td>0</td>\n",
       "      <td>165448</td>\n",
       "      <td>покупка жилья для семьи</td>\n",
       "      <td>молодой</td>\n",
       "    </tr>\n",
       "    <tr>\n",
       "      <th>...</th>\n",
       "      <td>...</td>\n",
       "      <td>...</td>\n",
       "      <td>...</td>\n",
       "      <td>...</td>\n",
       "      <td>...</td>\n",
       "      <td>...</td>\n",
       "      <td>...</td>\n",
       "      <td>...</td>\n",
       "      <td>...</td>\n",
       "      <td>...</td>\n",
       "      <td>...</td>\n",
       "      <td>...</td>\n",
       "      <td>...</td>\n",
       "    </tr>\n",
       "    <tr>\n",
       "      <th>20702</th>\n",
       "      <td>0</td>\n",
       "      <td>0</td>\n",
       "      <td>64</td>\n",
       "      <td>среднее</td>\n",
       "      <td>1</td>\n",
       "      <td>женат / замужем</td>\n",
       "      <td>0</td>\n",
       "      <td>f</td>\n",
       "      <td>пенсионер</td>\n",
       "      <td>0</td>\n",
       "      <td>112070</td>\n",
       "      <td>дополнительное образование</td>\n",
       "      <td>пожилой</td>\n",
       "    </tr>\n",
       "    <tr>\n",
       "      <th>21032</th>\n",
       "      <td>0</td>\n",
       "      <td>0</td>\n",
       "      <td>60</td>\n",
       "      <td>среднее</td>\n",
       "      <td>1</td>\n",
       "      <td>женат / замужем</td>\n",
       "      <td>0</td>\n",
       "      <td>f</td>\n",
       "      <td>пенсионер</td>\n",
       "      <td>0</td>\n",
       "      <td>112070</td>\n",
       "      <td>заняться образованием</td>\n",
       "      <td>пожилой</td>\n",
       "    </tr>\n",
       "    <tr>\n",
       "      <th>21132</th>\n",
       "      <td>0</td>\n",
       "      <td>0</td>\n",
       "      <td>47</td>\n",
       "      <td>среднее</td>\n",
       "      <td>1</td>\n",
       "      <td>женат / замужем</td>\n",
       "      <td>0</td>\n",
       "      <td>f</td>\n",
       "      <td>сотрудник</td>\n",
       "      <td>0</td>\n",
       "      <td>136789</td>\n",
       "      <td>ремонт жилью</td>\n",
       "      <td>средний</td>\n",
       "    </tr>\n",
       "    <tr>\n",
       "      <th>21281</th>\n",
       "      <td>1</td>\n",
       "      <td>0</td>\n",
       "      <td>30</td>\n",
       "      <td>высшее</td>\n",
       "      <td>0</td>\n",
       "      <td>женат / замужем</td>\n",
       "      <td>0</td>\n",
       "      <td>f</td>\n",
       "      <td>сотрудник</td>\n",
       "      <td>0</td>\n",
       "      <td>163778</td>\n",
       "      <td>покупка коммерческой недвижимости</td>\n",
       "      <td>молодой</td>\n",
       "    </tr>\n",
       "    <tr>\n",
       "      <th>21415</th>\n",
       "      <td>0</td>\n",
       "      <td>0</td>\n",
       "      <td>54</td>\n",
       "      <td>среднее</td>\n",
       "      <td>1</td>\n",
       "      <td>женат / замужем</td>\n",
       "      <td>0</td>\n",
       "      <td>f</td>\n",
       "      <td>пенсионер</td>\n",
       "      <td>0</td>\n",
       "      <td>120283</td>\n",
       "      <td>операции с жильем</td>\n",
       "      <td>средний</td>\n",
       "    </tr>\n",
       "  </tbody>\n",
       "</table>\n",
       "<p>137 rows × 13 columns</p>\n",
       "</div>"
      ],
      "text/plain": [
       "       children  days_employed  dob_years education  education_id  \\\n",
       "120           0              0         46   среднее             1   \n",
       "520           0              0         35   среднее             1   \n",
       "541           0              0         57   среднее             1   \n",
       "554           0              0         60   среднее             1   \n",
       "680           1              0         30    высшее             0   \n",
       "...         ...            ...        ...       ...           ...   \n",
       "20702         0              0         64   среднее             1   \n",
       "21032         0              0         60   среднее             1   \n",
       "21132         0              0         47   среднее             1   \n",
       "21281         1              0         30    высшее             0   \n",
       "21415         0              0         54   среднее             1   \n",
       "\n",
       "          family_status  family_status_id gender  income_type  debt  \\\n",
       "120     женат / замужем                 0      f    сотрудник     0   \n",
       "520    гражданский брак                 1      f    сотрудник     0   \n",
       "541     женат / замужем                 0      f    сотрудник     0   \n",
       "554     женат / замужем                 0      m    сотрудник     0   \n",
       "680     женат / замужем                 0      f  госслужащий     0   \n",
       "...                 ...               ...    ...          ...   ...   \n",
       "20702   женат / замужем                 0      f    пенсионер     0   \n",
       "21032   женат / замужем                 0      f    пенсионер     0   \n",
       "21132   женат / замужем                 0      f    сотрудник     0   \n",
       "21281   женат / замужем                 0      f    сотрудник     0   \n",
       "21415   женат / замужем                 0      f    пенсионер     0   \n",
       "\n",
       "       total_income                            purpose dob_years_id  \n",
       "120          136789                 высшее образование      средний  \n",
       "520          136585                    сыграть свадьбу      молодой  \n",
       "541          136789   сделка с подержанным автомобилем      средний  \n",
       "554          133299               покупка недвижимости      пожилой  \n",
       "680          165448            покупка жилья для семьи      молодой  \n",
       "...             ...                                ...          ...  \n",
       "20702        112070         дополнительное образование      пожилой  \n",
       "21032        112070              заняться образованием      пожилой  \n",
       "21132        136789                       ремонт жилью      средний  \n",
       "21281        163778  покупка коммерческой недвижимости      молодой  \n",
       "21415        120283                  операции с жильем      средний  \n",
       "\n",
       "[137 rows x 13 columns]"
      ]
     },
     "execution_count": 11,
     "metadata": {},
     "output_type": "execute_result"
    }
   ],
   "source": [
    "# проверим, как выглядят найденные дубликаты\n",
    "df[df.duplicated(keep=False)]"
   ]
  },
  {
   "cell_type": "markdown",
   "metadata": {},
   "source": [
    "Похоже на реальные дубликаты или задвоение строк, удаляем явные дубликаты."
   ]
  },
  {
   "cell_type": "code",
   "execution_count": 12,
   "metadata": {},
   "outputs": [
    {
     "data": {
      "text/plain": [
       "0"
      ]
     },
     "execution_count": 12,
     "metadata": {},
     "output_type": "execute_result"
    }
   ],
   "source": [
    "# удаление явных дубликатов (с удалением старых индексов и формированием новых)\n",
    "# проверка на отсутствие дубликатов\n",
    "df = df.drop_duplicates().reset_index(drop=True)\n",
    "df.duplicated().sum()"
   ]
  },
  {
   "cell_type": "markdown",
   "metadata": {},
   "source": [
    "**Вывод**  \n",
    "Все символы приведены к нижнему регистру, найдены и удалены явные дубликаты, полностью совпадающие строки."
   ]
  },
  {
   "cell_type": "markdown",
   "metadata": {},
   "source": [
    "#### Уникальные значения"
   ]
  },
  {
   "cell_type": "markdown",
   "metadata": {},
   "source": [
    "Проверим уникальные значения в столбцах типа `object`."
   ]
  },
  {
   "cell_type": "code",
   "execution_count": 13,
   "metadata": {},
   "outputs": [
    {
     "data": {
      "text/plain": [
       "array([ 1,  0,  3,  2, -1,  4, 20,  5])"
      ]
     },
     "execution_count": 13,
     "metadata": {},
     "output_type": "execute_result"
    }
   ],
   "source": [
    "# уникальные значения столбца с количеством детей\n",
    "df['children'].unique()"
   ]
  },
  {
   "cell_type": "markdown",
   "metadata": {},
   "source": [
    "Значения -1 и 20 вызывают вопросы, отрицательного количества детей быть не может, а двадцать детей слишком много для современного мира, но возможно. Вероятно, эти данные внесены с ошибками. Проверим количество этих значений. "
   ]
  },
  {
   "cell_type": "code",
   "execution_count": 14,
   "metadata": {},
   "outputs": [
    {
     "data": {
      "text/plain": [
       " 0     14091\n",
       " 1      4808\n",
       " 2      2052\n",
       " 3       330\n",
       " 20       76\n",
       "-1        47\n",
       " 4        41\n",
       " 5         9\n",
       "Name: children, dtype: int64"
      ]
     },
     "execution_count": 14,
     "metadata": {},
     "output_type": "execute_result"
    }
   ],
   "source": [
    "# проверим уникальные значения и их количество, столбца 'children'\n",
    "df['children'].value_counts()"
   ]
  },
  {
   "cell_type": "markdown",
   "metadata": {},
   "source": [
    "Для более корректной статистики исправим эти значения, с предположением, чтоб отрицательное значение и ноль внесены случайно, а сами числа корректны."
   ]
  },
  {
   "cell_type": "code",
   "execution_count": 15,
   "metadata": {},
   "outputs": [
    {
     "data": {
      "text/plain": [
       "0    14091\n",
       "1     4855\n",
       "2     2128\n",
       "3      330\n",
       "4       41\n",
       "5        9\n",
       "Name: children, dtype: int64"
      ]
     },
     "execution_count": 15,
     "metadata": {},
     "output_type": "execute_result"
    }
   ],
   "source": [
    "# методом 'replace' заменим значения\n",
    "df['children'] = df['children'].replace(-1, 1)\n",
    "df['children'] = df['children'].replace(20, 2)\n",
    "df['children'].value_counts()"
   ]
  },
  {
   "cell_type": "markdown",
   "metadata": {},
   "source": [
    "Подозрительные значения заменены."
   ]
  },
  {
   "cell_type": "code",
   "execution_count": 16,
   "metadata": {},
   "outputs": [
    {
     "data": {
      "text/plain": [
       "array(['высшее', 'среднее', 'неоконченное высшее', 'начальное',\n",
       "       'ученая степень'], dtype=object)"
      ]
     },
     "execution_count": 16,
     "metadata": {},
     "output_type": "execute_result"
    }
   ],
   "source": [
    "# уникальные значения столбца с уровнем образования\n",
    "df['education'].unique()"
   ]
  },
  {
   "cell_type": "code",
   "execution_count": 17,
   "metadata": {},
   "outputs": [
    {
     "data": {
      "text/plain": [
       "array(['женат / замужем', 'гражданский брак', 'вдовец / вдова',\n",
       "       'в разводе', 'не женат / не замужем'], dtype=object)"
      ]
     },
     "execution_count": 17,
     "metadata": {},
     "output_type": "execute_result"
    }
   ],
   "source": [
    "# уникальные значения столбца с семейным статусом\n",
    "df['family_status'].unique()"
   ]
  },
  {
   "cell_type": "code",
   "execution_count": 18,
   "metadata": {},
   "outputs": [
    {
     "data": {
      "text/plain": [
       "array(['f', 'm', 'xna'], dtype=object)"
      ]
     },
     "execution_count": 18,
     "metadata": {},
     "output_type": "execute_result"
    }
   ],
   "source": [
    "# уникальные значения столбца пола клиента\n",
    "df['gender'].unique()"
   ]
  },
  {
   "cell_type": "markdown",
   "metadata": {},
   "source": [
    "Значение `xna` говорит об отсутствии значения, проверим их количество"
   ]
  },
  {
   "cell_type": "code",
   "execution_count": 19,
   "metadata": {},
   "outputs": [
    {
     "data": {
      "text/plain": [
       "f      14174\n",
       "m       7279\n",
       "xna        1\n",
       "Name: gender, dtype: int64"
      ]
     },
     "execution_count": 19,
     "metadata": {},
     "output_type": "execute_result"
    }
   ],
   "source": [
    "# проверим уникальные значения и их количество, столбца 'gender'\n",
    "df['gender'].value_counts()"
   ]
  },
  {
   "cell_type": "markdown",
   "metadata": {},
   "source": [
    "Одно значение, принципиально на статистику не повлияет, заменим на любое значение, например, `m`."
   ]
  },
  {
   "cell_type": "code",
   "execution_count": 20,
   "metadata": {},
   "outputs": [
    {
     "data": {
      "text/plain": [
       "f    14174\n",
       "m     7280\n",
       "Name: gender, dtype: int64"
      ]
     },
     "execution_count": 20,
     "metadata": {},
     "output_type": "execute_result"
    }
   ],
   "source": [
    "# методом 'replace' заменим значение\n",
    "df['gender'] = df['gender'].replace('xna', 'm')\n",
    "df['gender'].value_counts()"
   ]
  },
  {
   "cell_type": "code",
   "execution_count": 21,
   "metadata": {},
   "outputs": [
    {
     "data": {
      "text/plain": [
       "array(['сотрудник', 'пенсионер', 'компаньон', 'госслужащий',\n",
       "       'безработный', 'предприниматель', 'студент', 'в декрете'],\n",
       "      dtype=object)"
      ]
     },
     "execution_count": 21,
     "metadata": {},
     "output_type": "execute_result"
    }
   ],
   "source": [
    "# уникальные значения столбца типа занятости\n",
    "df['income_type'].unique()"
   ]
  },
  {
   "cell_type": "code",
   "execution_count": 22,
   "metadata": {},
   "outputs": [
    {
     "data": {
      "text/plain": [
       "array(['покупка жилья', 'приобретение автомобиля',\n",
       "       'дополнительное образование', 'сыграть свадьбу',\n",
       "       'операции с жильем', 'образование', 'на проведение свадьбы',\n",
       "       'покупка жилья для семьи', 'покупка недвижимости',\n",
       "       'покупка коммерческой недвижимости', 'покупка жилой недвижимости',\n",
       "       'строительство собственной недвижимости', 'недвижимость',\n",
       "       'строительство недвижимости', 'на покупку подержанного автомобиля',\n",
       "       'на покупку своего автомобиля',\n",
       "       'операции с коммерческой недвижимостью',\n",
       "       'строительство жилой недвижимости', 'жилье',\n",
       "       'операции со своей недвижимостью', 'автомобили',\n",
       "       'заняться образованием', 'сделка с подержанным автомобилем',\n",
       "       'получение образования', 'автомобиль', 'свадьба',\n",
       "       'получение дополнительного образования', 'покупка своего жилья',\n",
       "       'операции с недвижимостью', 'получение высшего образования',\n",
       "       'свой автомобиль', 'сделка с автомобилем',\n",
       "       'профильное образование', 'высшее образование',\n",
       "       'покупка жилья для сдачи', 'на покупку автомобиля', 'ремонт жилью',\n",
       "       'заняться высшим образованием'], dtype=object)"
      ]
     },
     "execution_count": 22,
     "metadata": {},
     "output_type": "execute_result"
    }
   ],
   "source": [
    "# уникальные значения столбца с целями кредита\n",
    "df['purpose'].unique()"
   ]
  },
  {
   "cell_type": "markdown",
   "metadata": {},
   "source": [
    "Остальные данные вопросов, на текущем этапе, не вызывают."
   ]
  },
  {
   "cell_type": "markdown",
   "metadata": {},
   "source": [
    "**Вывод**  \n",
    "Найдены и удалёны дубликаты и некорректные значения, которые могли повлиять на дальнейшие расчёты и статистические распределения, а, значит, и на итоговые выводы."
   ]
  },
  {
   "cell_type": "markdown",
   "metadata": {},
   "source": [
    "### Лемматизация"
   ]
  },
  {
   "cell_type": "markdown",
   "metadata": {},
   "source": [
    "В столбце `df['purpose']` находятся цели получения кредита, записанные разными способами и формами. Необходимо выделить леммы и отсортировать данные по общим категориям целей получения кредита заёмщиками."
   ]
  },
  {
   "cell_type": "code",
   "execution_count": 23,
   "metadata": {},
   "outputs": [
    {
     "data": {
      "text/plain": [
       "свадьба                                   791\n",
       "на проведение свадьбы                     768\n",
       "сыграть свадьбу                           765\n",
       "операции с недвижимостью                  675\n",
       "покупка коммерческой недвижимости         661\n",
       "операции с жильем                         652\n",
       "покупка жилья для сдачи                   651\n",
       "операции с коммерческой недвижимостью     650\n",
       "покупка жилья                             646\n",
       "жилье                                     646\n",
       "покупка жилья для семьи                   638\n",
       "строительство собственной недвижимости    635\n",
       "недвижимость                              633\n",
       "операции со своей недвижимостью           627\n",
       "строительство жилой недвижимости          624\n",
       "покупка недвижимости                      621\n",
       "покупка своего жилья                      620\n",
       "строительство недвижимости                619\n",
       "ремонт жилью                              607\n",
       "покупка жилой недвижимости                606\n",
       "на покупку своего автомобиля              505\n",
       "заняться высшим образованием              496\n",
       "автомобиль                                494\n",
       "сделка с подержанным автомобилем          486\n",
       "свой автомобиль                           478\n",
       "на покупку подержанного автомобиля        478\n",
       "автомобили                                478\n",
       "на покупку автомобиля                     471\n",
       "приобретение автомобиля                   461\n",
       "дополнительное образование                460\n",
       "сделка с автомобилем                      455\n",
       "высшее образование                        452\n",
       "образование                               447\n",
       "получение дополнительного образования     446\n",
       "получение образования                     442\n",
       "профильное образование                    436\n",
       "получение высшего образования             426\n",
       "заняться образованием                     408\n",
       "Name: purpose, dtype: int64"
      ]
     },
     "execution_count": 23,
     "metadata": {},
     "output_type": "execute_result"
    }
   ],
   "source": [
    "# посмотрим уникальные цели кредита и посчитаем их количество\n",
    "df['purpose'].value_counts()"
   ]
  },
  {
   "cell_type": "markdown",
   "metadata": {},
   "source": [
    "Видим однотипные цели, записанные разными наборами слов. Лемматизируем их.  "
   ]
  },
  {
   "cell_type": "code",
   "execution_count": 24,
   "metadata": {},
   "outputs": [
    {
     "name": "stderr",
     "output_type": "stream",
     "text": [
      "Installing mystem to /Users/alex/.local/bin/mystem from http://download.cdn.yandex.net/mystem/mystem-3.1-macosx.tar.gz\n"
     ]
    },
    {
     "data": {
      "text/html": [
       "<div>\n",
       "<style scoped>\n",
       "    .dataframe tbody tr th:only-of-type {\n",
       "        vertical-align: middle;\n",
       "    }\n",
       "\n",
       "    .dataframe tbody tr th {\n",
       "        vertical-align: top;\n",
       "    }\n",
       "\n",
       "    .dataframe thead th {\n",
       "        text-align: right;\n",
       "    }\n",
       "</style>\n",
       "<table border=\"1\" class=\"dataframe\">\n",
       "  <thead>\n",
       "    <tr style=\"text-align: right;\">\n",
       "      <th></th>\n",
       "      <th>children</th>\n",
       "      <th>days_employed</th>\n",
       "      <th>dob_years</th>\n",
       "      <th>education</th>\n",
       "      <th>education_id</th>\n",
       "      <th>family_status</th>\n",
       "      <th>family_status_id</th>\n",
       "      <th>gender</th>\n",
       "      <th>income_type</th>\n",
       "      <th>debt</th>\n",
       "      <th>total_income</th>\n",
       "      <th>purpose</th>\n",
       "      <th>dob_years_id</th>\n",
       "      <th>purpose_lemma</th>\n",
       "    </tr>\n",
       "  </thead>\n",
       "  <tbody>\n",
       "    <tr>\n",
       "      <th>21444</th>\n",
       "      <td>1</td>\n",
       "      <td>467</td>\n",
       "      <td>28</td>\n",
       "      <td>среднее</td>\n",
       "      <td>1</td>\n",
       "      <td>женат / замужем</td>\n",
       "      <td>0</td>\n",
       "      <td>f</td>\n",
       "      <td>сотрудник</td>\n",
       "      <td>1</td>\n",
       "      <td>109486</td>\n",
       "      <td>заняться образованием</td>\n",
       "      <td>молодой</td>\n",
       "      <td>образование</td>\n",
       "    </tr>\n",
       "    <tr>\n",
       "      <th>21445</th>\n",
       "      <td>0</td>\n",
       "      <td>914</td>\n",
       "      <td>42</td>\n",
       "      <td>высшее</td>\n",
       "      <td>0</td>\n",
       "      <td>женат / замужем</td>\n",
       "      <td>0</td>\n",
       "      <td>f</td>\n",
       "      <td>компаньон</td>\n",
       "      <td>0</td>\n",
       "      <td>322807</td>\n",
       "      <td>покупка своего жилья</td>\n",
       "      <td>молодой</td>\n",
       "      <td>недвижимость</td>\n",
       "    </tr>\n",
       "    <tr>\n",
       "      <th>21446</th>\n",
       "      <td>0</td>\n",
       "      <td>404</td>\n",
       "      <td>42</td>\n",
       "      <td>высшее</td>\n",
       "      <td>0</td>\n",
       "      <td>гражданский брак</td>\n",
       "      <td>1</td>\n",
       "      <td>f</td>\n",
       "      <td>компаньон</td>\n",
       "      <td>0</td>\n",
       "      <td>178059</td>\n",
       "      <td>на покупку своего автомобиля</td>\n",
       "      <td>молодой</td>\n",
       "      <td>автомобиль</td>\n",
       "    </tr>\n",
       "    <tr>\n",
       "      <th>21447</th>\n",
       "      <td>0</td>\n",
       "      <td>373995</td>\n",
       "      <td>59</td>\n",
       "      <td>среднее</td>\n",
       "      <td>1</td>\n",
       "      <td>женат / замужем</td>\n",
       "      <td>0</td>\n",
       "      <td>f</td>\n",
       "      <td>пенсионер</td>\n",
       "      <td>0</td>\n",
       "      <td>153864</td>\n",
       "      <td>сделка с автомобилем</td>\n",
       "      <td>средний</td>\n",
       "      <td>автомобиль</td>\n",
       "    </tr>\n",
       "    <tr>\n",
       "      <th>21448</th>\n",
       "      <td>1</td>\n",
       "      <td>2351</td>\n",
       "      <td>37</td>\n",
       "      <td>ученая степень</td>\n",
       "      <td>4</td>\n",
       "      <td>в разводе</td>\n",
       "      <td>3</td>\n",
       "      <td>m</td>\n",
       "      <td>сотрудник</td>\n",
       "      <td>0</td>\n",
       "      <td>115949</td>\n",
       "      <td>покупка коммерческой недвижимости</td>\n",
       "      <td>молодой</td>\n",
       "      <td>недвижимость</td>\n",
       "    </tr>\n",
       "    <tr>\n",
       "      <th>21449</th>\n",
       "      <td>1</td>\n",
       "      <td>4529</td>\n",
       "      <td>43</td>\n",
       "      <td>среднее</td>\n",
       "      <td>1</td>\n",
       "      <td>гражданский брак</td>\n",
       "      <td>1</td>\n",
       "      <td>f</td>\n",
       "      <td>компаньон</td>\n",
       "      <td>0</td>\n",
       "      <td>224791</td>\n",
       "      <td>операции с жильем</td>\n",
       "      <td>молодой</td>\n",
       "      <td>недвижимость</td>\n",
       "    </tr>\n",
       "    <tr>\n",
       "      <th>21450</th>\n",
       "      <td>0</td>\n",
       "      <td>343937</td>\n",
       "      <td>67</td>\n",
       "      <td>среднее</td>\n",
       "      <td>1</td>\n",
       "      <td>женат / замужем</td>\n",
       "      <td>0</td>\n",
       "      <td>f</td>\n",
       "      <td>пенсионер</td>\n",
       "      <td>0</td>\n",
       "      <td>155999</td>\n",
       "      <td>сделка с автомобилем</td>\n",
       "      <td>пожилой</td>\n",
       "      <td>автомобиль</td>\n",
       "    </tr>\n",
       "    <tr>\n",
       "      <th>21451</th>\n",
       "      <td>1</td>\n",
       "      <td>2113</td>\n",
       "      <td>38</td>\n",
       "      <td>среднее</td>\n",
       "      <td>1</td>\n",
       "      <td>гражданский брак</td>\n",
       "      <td>1</td>\n",
       "      <td>m</td>\n",
       "      <td>сотрудник</td>\n",
       "      <td>1</td>\n",
       "      <td>89672</td>\n",
       "      <td>недвижимость</td>\n",
       "      <td>молодой</td>\n",
       "      <td>недвижимость</td>\n",
       "    </tr>\n",
       "    <tr>\n",
       "      <th>21452</th>\n",
       "      <td>3</td>\n",
       "      <td>3112</td>\n",
       "      <td>38</td>\n",
       "      <td>среднее</td>\n",
       "      <td>1</td>\n",
       "      <td>женат / замужем</td>\n",
       "      <td>0</td>\n",
       "      <td>m</td>\n",
       "      <td>сотрудник</td>\n",
       "      <td>1</td>\n",
       "      <td>244093</td>\n",
       "      <td>на покупку своего автомобиля</td>\n",
       "      <td>молодой</td>\n",
       "      <td>автомобиль</td>\n",
       "    </tr>\n",
       "    <tr>\n",
       "      <th>21453</th>\n",
       "      <td>2</td>\n",
       "      <td>1984</td>\n",
       "      <td>40</td>\n",
       "      <td>среднее</td>\n",
       "      <td>1</td>\n",
       "      <td>женат / замужем</td>\n",
       "      <td>0</td>\n",
       "      <td>f</td>\n",
       "      <td>сотрудник</td>\n",
       "      <td>0</td>\n",
       "      <td>82047</td>\n",
       "      <td>на покупку автомобиля</td>\n",
       "      <td>молодой</td>\n",
       "      <td>автомобиль</td>\n",
       "    </tr>\n",
       "  </tbody>\n",
       "</table>\n",
       "</div>"
      ],
      "text/plain": [
       "       children  days_employed  dob_years       education  education_id  \\\n",
       "21444         1            467         28         среднее             1   \n",
       "21445         0            914         42          высшее             0   \n",
       "21446         0            404         42          высшее             0   \n",
       "21447         0         373995         59         среднее             1   \n",
       "21448         1           2351         37  ученая степень             4   \n",
       "21449         1           4529         43         среднее             1   \n",
       "21450         0         343937         67         среднее             1   \n",
       "21451         1           2113         38         среднее             1   \n",
       "21452         3           3112         38         среднее             1   \n",
       "21453         2           1984         40         среднее             1   \n",
       "\n",
       "          family_status  family_status_id gender income_type  debt  \\\n",
       "21444   женат / замужем                 0      f   сотрудник     1   \n",
       "21445   женат / замужем                 0      f   компаньон     0   \n",
       "21446  гражданский брак                 1      f   компаньон     0   \n",
       "21447   женат / замужем                 0      f   пенсионер     0   \n",
       "21448         в разводе                 3      m   сотрудник     0   \n",
       "21449  гражданский брак                 1      f   компаньон     0   \n",
       "21450   женат / замужем                 0      f   пенсионер     0   \n",
       "21451  гражданский брак                 1      m   сотрудник     1   \n",
       "21452   женат / замужем                 0      m   сотрудник     1   \n",
       "21453   женат / замужем                 0      f   сотрудник     0   \n",
       "\n",
       "       total_income                            purpose dob_years_id  \\\n",
       "21444        109486              заняться образованием      молодой   \n",
       "21445        322807               покупка своего жилья      молодой   \n",
       "21446        178059       на покупку своего автомобиля      молодой   \n",
       "21447        153864               сделка с автомобилем      средний   \n",
       "21448        115949  покупка коммерческой недвижимости      молодой   \n",
       "21449        224791                  операции с жильем      молодой   \n",
       "21450        155999               сделка с автомобилем      пожилой   \n",
       "21451         89672                       недвижимость      молодой   \n",
       "21452        244093       на покупку своего автомобиля      молодой   \n",
       "21453         82047              на покупку автомобиля      молодой   \n",
       "\n",
       "      purpose_lemma  \n",
       "21444   образование  \n",
       "21445  недвижимость  \n",
       "21446    автомобиль  \n",
       "21447    автомобиль  \n",
       "21448  недвижимость  \n",
       "21449  недвижимость  \n",
       "21450    автомобиль  \n",
       "21451  недвижимость  \n",
       "21452    автомобиль  \n",
       "21453    автомобиль  "
      ]
     },
     "execution_count": 24,
     "metadata": {},
     "output_type": "execute_result"
    }
   ],
   "source": [
    "# Создадим переменную `purpose` со списком ключевых целей кредита.\n",
    "# С помощью функции `lemmas(text)` создадим словарь,\n",
    "# составленный из лемматизированных значений столбца `df['purpose']` и заменённых на значения из переменной `purpose`.\n",
    "# Так же, все значения, связанные с жильём и недвижимостью объединим в одну категорию `недвижимость`.\n",
    "# Используем метод `.join` и `replace` для удаления из словаря пробелов и отступов.\n",
    "# импортируем библиотеку с функцией лемматизации на русском языке\n",
    "# создадим новый категориальный столбец по целям кредитов 'df['purpose_lemma']'\n",
    "# выведем последние 10 строк\n",
    "\n",
    "m = Mystem()\n",
    "def lemmas(text):\n",
    "    lemma = ' '.join(m.lemmatize(text['purpose']))   \n",
    "    purpose = ['недвижимость', 'автомобиль', 'образование', 'свадьба', 'жилье']    \n",
    "    for point in purpose:\n",
    "        if point in lemma:\n",
    "            lemma = point\n",
    "        if point in lemma == 'жилье':\n",
    "            lemma = 'недвижимость'\n",
    "    return lemma.replace('\\n',' ')\n",
    "df['purpose_lemma'] = df.apply(lemmas, axis=1)\n",
    "df.tail(10)"
   ]
  },
  {
   "cell_type": "code",
   "execution_count": 25,
   "metadata": {},
   "outputs": [
    {
     "data": {
      "text/plain": [
       "недвижимость    10811\n",
       "автомобиль       4306\n",
       "образование      4013\n",
       "свадьба          2324\n",
       "Name: purpose_lemma, dtype: int64"
      ]
     },
     "execution_count": 25,
     "metadata": {},
     "output_type": "execute_result"
    }
   ],
   "source": [
    "# посчитаем количество различных целей кредита\n",
    "df['purpose_lemma'].value_counts()"
   ]
  },
  {
   "cell_type": "markdown",
   "metadata": {},
   "source": [
    "**Вывод**  \n",
    "С помощью библиотеки `pymystem3` выделили `4` основные леммы категорий целей для получения кредита, записали их в отдельный столбец исходной таблицы."
   ]
  },
  {
   "cell_type": "markdown",
   "metadata": {},
   "source": [
    "### Категоризация данных"
   ]
  },
  {
   "cell_type": "markdown",
   "metadata": {},
   "source": [
    "В исходных данных уже существует категоризация по уровню образования и семейному положению. Для проверки поставленных гипотез необходимо категоризировать по количеству детей в семье и по уровню дохода. Наличие, либо отсутствие детей, подразумевает всего две категории, что упрощает задачу."
   ]
  },
  {
   "cell_type": "code",
   "execution_count": 26,
   "metadata": {},
   "outputs": [
    {
     "data": {
      "text/html": [
       "<div>\n",
       "<style scoped>\n",
       "    .dataframe tbody tr th:only-of-type {\n",
       "        vertical-align: middle;\n",
       "    }\n",
       "\n",
       "    .dataframe tbody tr th {\n",
       "        vertical-align: top;\n",
       "    }\n",
       "\n",
       "    .dataframe thead th {\n",
       "        text-align: right;\n",
       "    }\n",
       "</style>\n",
       "<table border=\"1\" class=\"dataframe\">\n",
       "  <thead>\n",
       "    <tr style=\"text-align: right;\">\n",
       "      <th></th>\n",
       "      <th>children</th>\n",
       "      <th>days_employed</th>\n",
       "      <th>dob_years</th>\n",
       "      <th>education</th>\n",
       "      <th>education_id</th>\n",
       "      <th>family_status</th>\n",
       "      <th>family_status_id</th>\n",
       "      <th>gender</th>\n",
       "      <th>income_type</th>\n",
       "      <th>debt</th>\n",
       "      <th>total_income</th>\n",
       "      <th>purpose</th>\n",
       "      <th>dob_years_id</th>\n",
       "      <th>purpose_lemma</th>\n",
       "      <th>children_id</th>\n",
       "    </tr>\n",
       "  </thead>\n",
       "  <tbody>\n",
       "    <tr>\n",
       "      <th>0</th>\n",
       "      <td>1</td>\n",
       "      <td>8437</td>\n",
       "      <td>42</td>\n",
       "      <td>высшее</td>\n",
       "      <td>0</td>\n",
       "      <td>женат / замужем</td>\n",
       "      <td>0</td>\n",
       "      <td>f</td>\n",
       "      <td>сотрудник</td>\n",
       "      <td>0</td>\n",
       "      <td>253875</td>\n",
       "      <td>покупка жилья</td>\n",
       "      <td>молодой</td>\n",
       "      <td>недвижимость</td>\n",
       "      <td>есть дети</td>\n",
       "    </tr>\n",
       "    <tr>\n",
       "      <th>1</th>\n",
       "      <td>1</td>\n",
       "      <td>4024</td>\n",
       "      <td>36</td>\n",
       "      <td>среднее</td>\n",
       "      <td>1</td>\n",
       "      <td>женат / замужем</td>\n",
       "      <td>0</td>\n",
       "      <td>f</td>\n",
       "      <td>сотрудник</td>\n",
       "      <td>0</td>\n",
       "      <td>112080</td>\n",
       "      <td>приобретение автомобиля</td>\n",
       "      <td>молодой</td>\n",
       "      <td>автомобиль</td>\n",
       "      <td>есть дети</td>\n",
       "    </tr>\n",
       "    <tr>\n",
       "      <th>2</th>\n",
       "      <td>0</td>\n",
       "      <td>5623</td>\n",
       "      <td>33</td>\n",
       "      <td>среднее</td>\n",
       "      <td>1</td>\n",
       "      <td>женат / замужем</td>\n",
       "      <td>0</td>\n",
       "      <td>m</td>\n",
       "      <td>сотрудник</td>\n",
       "      <td>0</td>\n",
       "      <td>145885</td>\n",
       "      <td>покупка жилья</td>\n",
       "      <td>молодой</td>\n",
       "      <td>недвижимость</td>\n",
       "      <td>нет детей</td>\n",
       "    </tr>\n",
       "    <tr>\n",
       "      <th>3</th>\n",
       "      <td>3</td>\n",
       "      <td>4124</td>\n",
       "      <td>32</td>\n",
       "      <td>среднее</td>\n",
       "      <td>1</td>\n",
       "      <td>женат / замужем</td>\n",
       "      <td>0</td>\n",
       "      <td>m</td>\n",
       "      <td>сотрудник</td>\n",
       "      <td>0</td>\n",
       "      <td>267628</td>\n",
       "      <td>дополнительное образование</td>\n",
       "      <td>молодой</td>\n",
       "      <td>образование</td>\n",
       "      <td>есть дети</td>\n",
       "    </tr>\n",
       "    <tr>\n",
       "      <th>4</th>\n",
       "      <td>0</td>\n",
       "      <td>340266</td>\n",
       "      <td>53</td>\n",
       "      <td>среднее</td>\n",
       "      <td>1</td>\n",
       "      <td>гражданский брак</td>\n",
       "      <td>1</td>\n",
       "      <td>f</td>\n",
       "      <td>пенсионер</td>\n",
       "      <td>0</td>\n",
       "      <td>158616</td>\n",
       "      <td>сыграть свадьбу</td>\n",
       "      <td>средний</td>\n",
       "      <td>свадьба</td>\n",
       "      <td>нет детей</td>\n",
       "    </tr>\n",
       "    <tr>\n",
       "      <th>5</th>\n",
       "      <td>0</td>\n",
       "      <td>926</td>\n",
       "      <td>27</td>\n",
       "      <td>высшее</td>\n",
       "      <td>0</td>\n",
       "      <td>гражданский брак</td>\n",
       "      <td>1</td>\n",
       "      <td>m</td>\n",
       "      <td>компаньон</td>\n",
       "      <td>0</td>\n",
       "      <td>255763</td>\n",
       "      <td>покупка жилья</td>\n",
       "      <td>молодой</td>\n",
       "      <td>недвижимость</td>\n",
       "      <td>нет детей</td>\n",
       "    </tr>\n",
       "    <tr>\n",
       "      <th>6</th>\n",
       "      <td>0</td>\n",
       "      <td>2879</td>\n",
       "      <td>43</td>\n",
       "      <td>высшее</td>\n",
       "      <td>0</td>\n",
       "      <td>женат / замужем</td>\n",
       "      <td>0</td>\n",
       "      <td>f</td>\n",
       "      <td>компаньон</td>\n",
       "      <td>0</td>\n",
       "      <td>240525</td>\n",
       "      <td>операции с жильем</td>\n",
       "      <td>молодой</td>\n",
       "      <td>недвижимость</td>\n",
       "      <td>нет детей</td>\n",
       "    </tr>\n",
       "    <tr>\n",
       "      <th>7</th>\n",
       "      <td>0</td>\n",
       "      <td>152</td>\n",
       "      <td>50</td>\n",
       "      <td>среднее</td>\n",
       "      <td>1</td>\n",
       "      <td>женат / замужем</td>\n",
       "      <td>0</td>\n",
       "      <td>m</td>\n",
       "      <td>сотрудник</td>\n",
       "      <td>0</td>\n",
       "      <td>135823</td>\n",
       "      <td>образование</td>\n",
       "      <td>средний</td>\n",
       "      <td>образование</td>\n",
       "      <td>нет детей</td>\n",
       "    </tr>\n",
       "    <tr>\n",
       "      <th>8</th>\n",
       "      <td>2</td>\n",
       "      <td>6929</td>\n",
       "      <td>35</td>\n",
       "      <td>высшее</td>\n",
       "      <td>0</td>\n",
       "      <td>гражданский брак</td>\n",
       "      <td>1</td>\n",
       "      <td>f</td>\n",
       "      <td>сотрудник</td>\n",
       "      <td>0</td>\n",
       "      <td>95856</td>\n",
       "      <td>на проведение свадьбы</td>\n",
       "      <td>молодой</td>\n",
       "      <td>свадьба</td>\n",
       "      <td>есть дети</td>\n",
       "    </tr>\n",
       "    <tr>\n",
       "      <th>9</th>\n",
       "      <td>0</td>\n",
       "      <td>2188</td>\n",
       "      <td>41</td>\n",
       "      <td>среднее</td>\n",
       "      <td>1</td>\n",
       "      <td>женат / замужем</td>\n",
       "      <td>0</td>\n",
       "      <td>m</td>\n",
       "      <td>сотрудник</td>\n",
       "      <td>0</td>\n",
       "      <td>144425</td>\n",
       "      <td>покупка жилья для семьи</td>\n",
       "      <td>молодой</td>\n",
       "      <td>недвижимость</td>\n",
       "      <td>нет детей</td>\n",
       "    </tr>\n",
       "  </tbody>\n",
       "</table>\n",
       "</div>"
      ],
      "text/plain": [
       "   children  days_employed  dob_years education  education_id  \\\n",
       "0         1           8437         42    высшее             0   \n",
       "1         1           4024         36   среднее             1   \n",
       "2         0           5623         33   среднее             1   \n",
       "3         3           4124         32   среднее             1   \n",
       "4         0         340266         53   среднее             1   \n",
       "5         0            926         27    высшее             0   \n",
       "6         0           2879         43    высшее             0   \n",
       "7         0            152         50   среднее             1   \n",
       "8         2           6929         35    высшее             0   \n",
       "9         0           2188         41   среднее             1   \n",
       "\n",
       "      family_status  family_status_id gender income_type  debt  total_income  \\\n",
       "0   женат / замужем                 0      f   сотрудник     0        253875   \n",
       "1   женат / замужем                 0      f   сотрудник     0        112080   \n",
       "2   женат / замужем                 0      m   сотрудник     0        145885   \n",
       "3   женат / замужем                 0      m   сотрудник     0        267628   \n",
       "4  гражданский брак                 1      f   пенсионер     0        158616   \n",
       "5  гражданский брак                 1      m   компаньон     0        255763   \n",
       "6   женат / замужем                 0      f   компаньон     0        240525   \n",
       "7   женат / замужем                 0      m   сотрудник     0        135823   \n",
       "8  гражданский брак                 1      f   сотрудник     0         95856   \n",
       "9   женат / замужем                 0      m   сотрудник     0        144425   \n",
       "\n",
       "                      purpose dob_years_id purpose_lemma children_id  \n",
       "0               покупка жилья      молодой  недвижимость   есть дети  \n",
       "1     приобретение автомобиля      молодой    автомобиль   есть дети  \n",
       "2               покупка жилья      молодой  недвижимость   нет детей  \n",
       "3  дополнительное образование      молодой   образование   есть дети  \n",
       "4             сыграть свадьбу      средний       свадьба   нет детей  \n",
       "5               покупка жилья      молодой  недвижимость   нет детей  \n",
       "6           операции с жильем      молодой  недвижимость   нет детей  \n",
       "7                 образование      средний   образование   нет детей  \n",
       "8       на проведение свадьбы      молодой       свадьба   есть дети  \n",
       "9     покупка жилья для семьи      молодой  недвижимость   нет детей  "
      ]
     },
     "execution_count": 26,
     "metadata": {},
     "output_type": "execute_result"
    }
   ],
   "source": [
    "# создадим функцию для разбиения столбца 'children' на категории 'нет детей' и 'есть дети'\n",
    "# создадим новый столбец 'children_id' и добавим его в конец таблицы\n",
    "def children_id(row):\n",
    "    if row['children'] == 0:\n",
    "        return 'нет детей'\n",
    "    else:\n",
    "        return 'есть дети'\n",
    "df['children_id'] = df.apply(children_id, axis=1)\n",
    "df.head(10)"
   ]
  },
  {
   "cell_type": "markdown",
   "metadata": {},
   "source": [
    "Столбец `total_income` разобъём на категории по уровням дохода. Наиболее подходящим, в данном случае, будет разбиение по квартилям."
   ]
  },
  {
   "cell_type": "code",
   "execution_count": 27,
   "metadata": {},
   "outputs": [
    {
     "data": {
      "text/plain": [
       "0.25    107503.0\n",
       "0.50    143460.0\n",
       "0.75    197144.0\n",
       "Name: total_income, dtype: float64"
      ]
     },
     "execution_count": 27,
     "metadata": {},
     "output_type": "execute_result"
    }
   ],
   "source": [
    "# найдём квартили с помощью встроенного в библиотеку 'pandas' метода 'quantile'\n",
    "df['total_income'].quantile([0.25,0.5,0.75])"
   ]
  },
  {
   "cell_type": "markdown",
   "metadata": {},
   "source": [
    "Для удобства, округлим квартили, и сделаем категориями следующие значения: `до 110000`, `110000-145000`, `145000-200000`, `от 200000`."
   ]
  },
  {
   "cell_type": "code",
   "execution_count": 28,
   "metadata": {},
   "outputs": [
    {
     "data": {
      "text/html": [
       "<div>\n",
       "<style scoped>\n",
       "    .dataframe tbody tr th:only-of-type {\n",
       "        vertical-align: middle;\n",
       "    }\n",
       "\n",
       "    .dataframe tbody tr th {\n",
       "        vertical-align: top;\n",
       "    }\n",
       "\n",
       "    .dataframe thead th {\n",
       "        text-align: right;\n",
       "    }\n",
       "</style>\n",
       "<table border=\"1\" class=\"dataframe\">\n",
       "  <thead>\n",
       "    <tr style=\"text-align: right;\">\n",
       "      <th></th>\n",
       "      <th>children</th>\n",
       "      <th>days_employed</th>\n",
       "      <th>dob_years</th>\n",
       "      <th>education</th>\n",
       "      <th>education_id</th>\n",
       "      <th>family_status</th>\n",
       "      <th>family_status_id</th>\n",
       "      <th>gender</th>\n",
       "      <th>income_type</th>\n",
       "      <th>debt</th>\n",
       "      <th>total_income</th>\n",
       "      <th>purpose</th>\n",
       "      <th>dob_years_id</th>\n",
       "      <th>purpose_lemma</th>\n",
       "      <th>children_id</th>\n",
       "      <th>total_income_id</th>\n",
       "    </tr>\n",
       "  </thead>\n",
       "  <tbody>\n",
       "    <tr>\n",
       "      <th>0</th>\n",
       "      <td>1</td>\n",
       "      <td>8437</td>\n",
       "      <td>42</td>\n",
       "      <td>высшее</td>\n",
       "      <td>0</td>\n",
       "      <td>женат / замужем</td>\n",
       "      <td>0</td>\n",
       "      <td>f</td>\n",
       "      <td>сотрудник</td>\n",
       "      <td>0</td>\n",
       "      <td>253875</td>\n",
       "      <td>покупка жилья</td>\n",
       "      <td>молодой</td>\n",
       "      <td>недвижимость</td>\n",
       "      <td>есть дети</td>\n",
       "      <td>от 200000</td>\n",
       "    </tr>\n",
       "    <tr>\n",
       "      <th>1</th>\n",
       "      <td>1</td>\n",
       "      <td>4024</td>\n",
       "      <td>36</td>\n",
       "      <td>среднее</td>\n",
       "      <td>1</td>\n",
       "      <td>женат / замужем</td>\n",
       "      <td>0</td>\n",
       "      <td>f</td>\n",
       "      <td>сотрудник</td>\n",
       "      <td>0</td>\n",
       "      <td>112080</td>\n",
       "      <td>приобретение автомобиля</td>\n",
       "      <td>молодой</td>\n",
       "      <td>автомобиль</td>\n",
       "      <td>есть дети</td>\n",
       "      <td>110000-145000</td>\n",
       "    </tr>\n",
       "    <tr>\n",
       "      <th>2</th>\n",
       "      <td>0</td>\n",
       "      <td>5623</td>\n",
       "      <td>33</td>\n",
       "      <td>среднее</td>\n",
       "      <td>1</td>\n",
       "      <td>женат / замужем</td>\n",
       "      <td>0</td>\n",
       "      <td>m</td>\n",
       "      <td>сотрудник</td>\n",
       "      <td>0</td>\n",
       "      <td>145885</td>\n",
       "      <td>покупка жилья</td>\n",
       "      <td>молодой</td>\n",
       "      <td>недвижимость</td>\n",
       "      <td>нет детей</td>\n",
       "      <td>145000-200000</td>\n",
       "    </tr>\n",
       "    <tr>\n",
       "      <th>3</th>\n",
       "      <td>3</td>\n",
       "      <td>4124</td>\n",
       "      <td>32</td>\n",
       "      <td>среднее</td>\n",
       "      <td>1</td>\n",
       "      <td>женат / замужем</td>\n",
       "      <td>0</td>\n",
       "      <td>m</td>\n",
       "      <td>сотрудник</td>\n",
       "      <td>0</td>\n",
       "      <td>267628</td>\n",
       "      <td>дополнительное образование</td>\n",
       "      <td>молодой</td>\n",
       "      <td>образование</td>\n",
       "      <td>есть дети</td>\n",
       "      <td>от 200000</td>\n",
       "    </tr>\n",
       "    <tr>\n",
       "      <th>4</th>\n",
       "      <td>0</td>\n",
       "      <td>340266</td>\n",
       "      <td>53</td>\n",
       "      <td>среднее</td>\n",
       "      <td>1</td>\n",
       "      <td>гражданский брак</td>\n",
       "      <td>1</td>\n",
       "      <td>f</td>\n",
       "      <td>пенсионер</td>\n",
       "      <td>0</td>\n",
       "      <td>158616</td>\n",
       "      <td>сыграть свадьбу</td>\n",
       "      <td>средний</td>\n",
       "      <td>свадьба</td>\n",
       "      <td>нет детей</td>\n",
       "      <td>145000-200000</td>\n",
       "    </tr>\n",
       "    <tr>\n",
       "      <th>5</th>\n",
       "      <td>0</td>\n",
       "      <td>926</td>\n",
       "      <td>27</td>\n",
       "      <td>высшее</td>\n",
       "      <td>0</td>\n",
       "      <td>гражданский брак</td>\n",
       "      <td>1</td>\n",
       "      <td>m</td>\n",
       "      <td>компаньон</td>\n",
       "      <td>0</td>\n",
       "      <td>255763</td>\n",
       "      <td>покупка жилья</td>\n",
       "      <td>молодой</td>\n",
       "      <td>недвижимость</td>\n",
       "      <td>нет детей</td>\n",
       "      <td>от 200000</td>\n",
       "    </tr>\n",
       "    <tr>\n",
       "      <th>6</th>\n",
       "      <td>0</td>\n",
       "      <td>2879</td>\n",
       "      <td>43</td>\n",
       "      <td>высшее</td>\n",
       "      <td>0</td>\n",
       "      <td>женат / замужем</td>\n",
       "      <td>0</td>\n",
       "      <td>f</td>\n",
       "      <td>компаньон</td>\n",
       "      <td>0</td>\n",
       "      <td>240525</td>\n",
       "      <td>операции с жильем</td>\n",
       "      <td>молодой</td>\n",
       "      <td>недвижимость</td>\n",
       "      <td>нет детей</td>\n",
       "      <td>от 200000</td>\n",
       "    </tr>\n",
       "    <tr>\n",
       "      <th>7</th>\n",
       "      <td>0</td>\n",
       "      <td>152</td>\n",
       "      <td>50</td>\n",
       "      <td>среднее</td>\n",
       "      <td>1</td>\n",
       "      <td>женат / замужем</td>\n",
       "      <td>0</td>\n",
       "      <td>m</td>\n",
       "      <td>сотрудник</td>\n",
       "      <td>0</td>\n",
       "      <td>135823</td>\n",
       "      <td>образование</td>\n",
       "      <td>средний</td>\n",
       "      <td>образование</td>\n",
       "      <td>нет детей</td>\n",
       "      <td>110000-145000</td>\n",
       "    </tr>\n",
       "    <tr>\n",
       "      <th>8</th>\n",
       "      <td>2</td>\n",
       "      <td>6929</td>\n",
       "      <td>35</td>\n",
       "      <td>высшее</td>\n",
       "      <td>0</td>\n",
       "      <td>гражданский брак</td>\n",
       "      <td>1</td>\n",
       "      <td>f</td>\n",
       "      <td>сотрудник</td>\n",
       "      <td>0</td>\n",
       "      <td>95856</td>\n",
       "      <td>на проведение свадьбы</td>\n",
       "      <td>молодой</td>\n",
       "      <td>свадьба</td>\n",
       "      <td>есть дети</td>\n",
       "      <td>до 110000</td>\n",
       "    </tr>\n",
       "    <tr>\n",
       "      <th>9</th>\n",
       "      <td>0</td>\n",
       "      <td>2188</td>\n",
       "      <td>41</td>\n",
       "      <td>среднее</td>\n",
       "      <td>1</td>\n",
       "      <td>женат / замужем</td>\n",
       "      <td>0</td>\n",
       "      <td>m</td>\n",
       "      <td>сотрудник</td>\n",
       "      <td>0</td>\n",
       "      <td>144425</td>\n",
       "      <td>покупка жилья для семьи</td>\n",
       "      <td>молодой</td>\n",
       "      <td>недвижимость</td>\n",
       "      <td>нет детей</td>\n",
       "      <td>110000-145000</td>\n",
       "    </tr>\n",
       "  </tbody>\n",
       "</table>\n",
       "</div>"
      ],
      "text/plain": [
       "   children  days_employed  dob_years education  education_id  \\\n",
       "0         1           8437         42    высшее             0   \n",
       "1         1           4024         36   среднее             1   \n",
       "2         0           5623         33   среднее             1   \n",
       "3         3           4124         32   среднее             1   \n",
       "4         0         340266         53   среднее             1   \n",
       "5         0            926         27    высшее             0   \n",
       "6         0           2879         43    высшее             0   \n",
       "7         0            152         50   среднее             1   \n",
       "8         2           6929         35    высшее             0   \n",
       "9         0           2188         41   среднее             1   \n",
       "\n",
       "      family_status  family_status_id gender income_type  debt  total_income  \\\n",
       "0   женат / замужем                 0      f   сотрудник     0        253875   \n",
       "1   женат / замужем                 0      f   сотрудник     0        112080   \n",
       "2   женат / замужем                 0      m   сотрудник     0        145885   \n",
       "3   женат / замужем                 0      m   сотрудник     0        267628   \n",
       "4  гражданский брак                 1      f   пенсионер     0        158616   \n",
       "5  гражданский брак                 1      m   компаньон     0        255763   \n",
       "6   женат / замужем                 0      f   компаньон     0        240525   \n",
       "7   женат / замужем                 0      m   сотрудник     0        135823   \n",
       "8  гражданский брак                 1      f   сотрудник     0         95856   \n",
       "9   женат / замужем                 0      m   сотрудник     0        144425   \n",
       "\n",
       "                      purpose dob_years_id purpose_lemma children_id  \\\n",
       "0               покупка жилья      молодой  недвижимость   есть дети   \n",
       "1     приобретение автомобиля      молодой    автомобиль   есть дети   \n",
       "2               покупка жилья      молодой  недвижимость   нет детей   \n",
       "3  дополнительное образование      молодой   образование   есть дети   \n",
       "4             сыграть свадьбу      средний       свадьба   нет детей   \n",
       "5               покупка жилья      молодой  недвижимость   нет детей   \n",
       "6           операции с жильем      молодой  недвижимость   нет детей   \n",
       "7                 образование      средний   образование   нет детей   \n",
       "8       на проведение свадьбы      молодой       свадьба   есть дети   \n",
       "9     покупка жилья для семьи      молодой  недвижимость   нет детей   \n",
       "\n",
       "  total_income_id  \n",
       "0       от 200000  \n",
       "1   110000-145000  \n",
       "2   145000-200000  \n",
       "3       от 200000  \n",
       "4   145000-200000  \n",
       "5       от 200000  \n",
       "6       от 200000  \n",
       "7   110000-145000  \n",
       "8       до 110000  \n",
       "9   110000-145000  "
      ]
     },
     "execution_count": 28,
     "metadata": {},
     "output_type": "execute_result"
    }
   ],
   "source": [
    "# создадим функцию для разбиения столбца 'total_income' на категории\n",
    "# создадим новый столбец 'total_income_id' и добавим его в конец таблицы\n",
    "def total_income_id(row):\n",
    "    if row['total_income'] <= 110000:\n",
    "        return 'до 110000'\n",
    "    elif 110000 < row['total_income'] <= 145000:\n",
    "        return '110000-145000'\n",
    "    elif 145000 < row['total_income'] <= 200000:\n",
    "        return '145000-200000'\n",
    "    else: return 'от 200000'  \n",
    "df['total_income_id'] = df.apply(total_income_id, axis=1)\n",
    "df.head(10)"
   ]
  },
  {
   "cell_type": "markdown",
   "metadata": {},
   "source": [
    "**Вывод**  \n",
    "Исправили некорректные значения в столбце с количеством детей, добавили в таблицу столбец с категорией по наличию детей и столбце с категорией по уровню дохода.  \n",
    "Данные готовы к проверке гипотез.\n"
   ]
  },
  {
   "cell_type": "markdown",
   "metadata": {},
   "source": [
    "## Ответы на вопросы. Проверка гипотез"
   ]
  },
  {
   "cell_type": "markdown",
   "metadata": {},
   "source": [
    " Для ответа на поставленные гипотезы, сгруппируем данные в сводных таблицах метода `pivot_table`."
   ]
  },
  {
   "cell_type": "markdown",
   "metadata": {},
   "source": [
    "### Есть ли зависимость между наличием детей и возвратом кредита в срок?"
   ]
  },
  {
   "cell_type": "code",
   "execution_count": 29,
   "metadata": {},
   "outputs": [
    {
     "data": {
      "text/html": [
       "<div>\n",
       "<style scoped>\n",
       "    .dataframe tbody tr th:only-of-type {\n",
       "        vertical-align: middle;\n",
       "    }\n",
       "\n",
       "    .dataframe tbody tr th {\n",
       "        vertical-align: top;\n",
       "    }\n",
       "\n",
       "    .dataframe thead tr th {\n",
       "        text-align: left;\n",
       "    }\n",
       "\n",
       "    .dataframe thead tr:last-of-type th {\n",
       "        text-align: right;\n",
       "    }\n",
       "</style>\n",
       "<table border=\"1\" class=\"dataframe\">\n",
       "  <thead>\n",
       "    <tr>\n",
       "      <th></th>\n",
       "      <th>count</th>\n",
       "      <th>my_mean</th>\n",
       "    </tr>\n",
       "    <tr>\n",
       "      <th></th>\n",
       "      <th>debt</th>\n",
       "      <th>debt</th>\n",
       "    </tr>\n",
       "    <tr>\n",
       "      <th>children_id</th>\n",
       "      <th></th>\n",
       "      <th></th>\n",
       "    </tr>\n",
       "  </thead>\n",
       "  <tbody>\n",
       "    <tr>\n",
       "      <th>есть дети</th>\n",
       "      <td>7363</td>\n",
       "      <td>9.21%</td>\n",
       "    </tr>\n",
       "    <tr>\n",
       "      <th>нет детей</th>\n",
       "      <td>14091</td>\n",
       "      <td>7.54%</td>\n",
       "    </tr>\n",
       "  </tbody>\n",
       "</table>\n",
       "</div>"
      ],
      "text/plain": [
       "             count my_mean\n",
       "              debt    debt\n",
       "children_id               \n",
       "есть дети     7363  9.21% \n",
       "нет детей    14091  7.54% "
      ]
     },
     "execution_count": 29,
     "metadata": {},
     "output_type": "execute_result"
    }
   ],
   "source": [
    "# создадим сводную таблицу с индексом наличия детей и значением по задолженности\n",
    "# с помощью функции 'aggfunc' посчитаем общее количество в категория и их процентное соотношение\n",
    "def my_mean(x): return '{:.2%} '.format(x.mean())\n",
    "df_pivot_children = df.pivot_table(index = ['children_id'], values='debt', aggfunc=['count', my_mean])\n",
    "df_pivot_children.head()"
   ]
  },
  {
   "cell_type": "code",
   "execution_count": 30,
   "metadata": {},
   "outputs": [
    {
     "data": {
      "text/plain": [
       "<AxesSubplot:xlabel='debt', ylabel='children_id'>"
      ]
     },
     "execution_count": 30,
     "metadata": {},
     "output_type": "execute_result"
    },
    {
     "data": {
      "image/png": "[encoded data removed]",
      "text/plain": [
       "<Figure size 432x288 with 1 Axes>"
      ]
     },
     "metadata": {
      "needs_background": "light"
     },
     "output_type": "display_data"
    }
   ],
   "source": [
    "# построим наглядный график в виде столбчатых диаграмм, с помощью библиотеки 'seaborn'\n",
    "\n",
    "seaborn.barplot(x=df['debt'], y=df['children_id'])"
   ]
  },
  {
   "cell_type": "markdown",
   "metadata": {},
   "source": [
    "**Вывод**  \n",
    "Зависимость между наличием детей и возвратом кредита в срок есть: при наличии детей, вероятность задолженности по кредиту выше: `9,2%` против `7,5%`, при отсутствии детей. Значит, бездетные клиенты более благонадёжные заёмщики."
   ]
  },
  {
   "cell_type": "markdown",
   "metadata": {},
   "source": [
    "### Есть ли зависимость между семейным положением и возвратом кредита в срок?"
   ]
  },
  {
   "cell_type": "code",
   "execution_count": 31,
   "metadata": {},
   "outputs": [
    {
     "data": {
      "text/html": [
       "<div>\n",
       "<style scoped>\n",
       "    .dataframe tbody tr th:only-of-type {\n",
       "        vertical-align: middle;\n",
       "    }\n",
       "\n",
       "    .dataframe tbody tr th {\n",
       "        vertical-align: top;\n",
       "    }\n",
       "\n",
       "    .dataframe thead tr th {\n",
       "        text-align: left;\n",
       "    }\n",
       "\n",
       "    .dataframe thead tr:last-of-type th {\n",
       "        text-align: right;\n",
       "    }\n",
       "</style>\n",
       "<table border=\"1\" class=\"dataframe\">\n",
       "  <thead>\n",
       "    <tr>\n",
       "      <th></th>\n",
       "      <th>count</th>\n",
       "      <th>my_mean</th>\n",
       "    </tr>\n",
       "    <tr>\n",
       "      <th></th>\n",
       "      <th>debt</th>\n",
       "      <th>debt</th>\n",
       "    </tr>\n",
       "    <tr>\n",
       "      <th>family_status</th>\n",
       "      <th></th>\n",
       "      <th></th>\n",
       "    </tr>\n",
       "  </thead>\n",
       "  <tbody>\n",
       "    <tr>\n",
       "      <th>в разводе</th>\n",
       "      <td>1195</td>\n",
       "      <td>7.11%</td>\n",
       "    </tr>\n",
       "    <tr>\n",
       "      <th>вдовец / вдова</th>\n",
       "      <td>959</td>\n",
       "      <td>6.57%</td>\n",
       "    </tr>\n",
       "    <tr>\n",
       "      <th>гражданский брак</th>\n",
       "      <td>4151</td>\n",
       "      <td>9.35%</td>\n",
       "    </tr>\n",
       "    <tr>\n",
       "      <th>женат / замужем</th>\n",
       "      <td>12339</td>\n",
       "      <td>7.55%</td>\n",
       "    </tr>\n",
       "    <tr>\n",
       "      <th>не женат / не замужем</th>\n",
       "      <td>2810</td>\n",
       "      <td>9.75%</td>\n",
       "    </tr>\n",
       "  </tbody>\n",
       "</table>\n",
       "</div>"
      ],
      "text/plain": [
       "                       count my_mean\n",
       "                        debt    debt\n",
       "family_status                       \n",
       "в разводе               1195  7.11% \n",
       "вдовец / вдова           959  6.57% \n",
       "гражданский брак        4151  9.35% \n",
       "женат / замужем        12339  7.55% \n",
       "не женат / не замужем   2810  9.75% "
      ]
     },
     "execution_count": 31,
     "metadata": {},
     "output_type": "execute_result"
    }
   ],
   "source": [
    "# сводная таблица с индексом по фамильному статусу и значением по задолженности\n",
    "df_pivot_family = df.pivot_table(index = ['family_status'], values = 'debt', aggfunc=['count', my_mean])\n",
    "df_pivot_family.head()"
   ]
  },
  {
   "cell_type": "code",
   "execution_count": 32,
   "metadata": {},
   "outputs": [
    {
     "data": {
      "text/plain": [
       "<AxesSubplot:xlabel='debt', ylabel='family_status'>"
      ]
     },
     "execution_count": 32,
     "metadata": {},
     "output_type": "execute_result"
    },
    {
     "data": {
      "image/png": "[encoded data removed]",
      "text/plain": [
       "<Figure size 432x288 with 1 Axes>"
      ]
     },
     "metadata": {
      "needs_background": "light"
     },
     "output_type": "display_data"
    }
   ],
   "source": [
    "# столбчатая диаграмма\n",
    "seaborn.barplot(x=df['debt'], y=df['family_status'])"
   ]
  },
  {
   "cell_type": "markdown",
   "metadata": {},
   "source": [
    "**Вывод**  \n",
    "Наблюдается следующая зависимость, в порядке убывания риска по задолжености кредита, клиенты в семейном статусе:  \n",
    "1. Не женат / не замужем - самый неблагонадёжные заёмщики, вероятность задолженности по кредиту: `9,8%`;\n",
    "2. Гражданский брак - на втором месте, вероятность задолженности по кредиту: `9,3%`;\n",
    "3. Женат / замужем - вероятность задолженности по кредиту: `7,5%`, самая многочисленная группа;\n",
    "4. В разводе - вероятность задолженности по кредиту: `7,1%`;\n",
    "5. Вдовец / вдова - самые надёжные заёмщики, вероятность задолженности по кредиту: `6,5%`, самая малочисленная группа.  \n",
    "\n",
    "Заёмщики в семейном статусе `женат / замужем` - являются самой многочисленной группой, их количество суммарно превышает все остальные, поэтому, несмотря на то, что они ровно посередине по риску наличия задолженности по кредитам, невозможно отказаться от предоставленим им услуг. В любом случае, это полезная информация, для принятия дальнейших решений."
   ]
  },
  {
   "cell_type": "markdown",
   "metadata": {},
   "source": [
    "### Есть ли зависимость между уровнем дохода и возвратом кредита в срок?"
   ]
  },
  {
   "cell_type": "code",
   "execution_count": 33,
   "metadata": {},
   "outputs": [
    {
     "data": {
      "text/html": [
       "<div>\n",
       "<style scoped>\n",
       "    .dataframe tbody tr th:only-of-type {\n",
       "        vertical-align: middle;\n",
       "    }\n",
       "\n",
       "    .dataframe tbody tr th {\n",
       "        vertical-align: top;\n",
       "    }\n",
       "\n",
       "    .dataframe thead tr th {\n",
       "        text-align: left;\n",
       "    }\n",
       "\n",
       "    .dataframe thead tr:last-of-type th {\n",
       "        text-align: right;\n",
       "    }\n",
       "</style>\n",
       "<table border=\"1\" class=\"dataframe\">\n",
       "  <thead>\n",
       "    <tr>\n",
       "      <th></th>\n",
       "      <th>count</th>\n",
       "      <th>my_mean</th>\n",
       "    </tr>\n",
       "    <tr>\n",
       "      <th></th>\n",
       "      <th>debt</th>\n",
       "      <th>debt</th>\n",
       "    </tr>\n",
       "    <tr>\n",
       "      <th>total_income_id</th>\n",
       "      <th></th>\n",
       "      <th></th>\n",
       "    </tr>\n",
       "  </thead>\n",
       "  <tbody>\n",
       "    <tr>\n",
       "      <th>110000-145000</th>\n",
       "      <td>5261</td>\n",
       "      <td>8.97%</td>\n",
       "    </tr>\n",
       "    <tr>\n",
       "      <th>145000-200000</th>\n",
       "      <td>5428</td>\n",
       "      <td>8.36%</td>\n",
       "    </tr>\n",
       "    <tr>\n",
       "      <th>до 110000</th>\n",
       "      <td>5649</td>\n",
       "      <td>8.05%</td>\n",
       "    </tr>\n",
       "    <tr>\n",
       "      <th>от 200000</th>\n",
       "      <td>5116</td>\n",
       "      <td>7.04%</td>\n",
       "    </tr>\n",
       "  </tbody>\n",
       "</table>\n",
       "</div>"
      ],
      "text/plain": [
       "                count my_mean\n",
       "                 debt    debt\n",
       "total_income_id              \n",
       "110000-145000    5261  8.97% \n",
       "145000-200000    5428  8.36% \n",
       "до 110000        5649  8.05% \n",
       "от 200000        5116  7.04% "
      ]
     },
     "execution_count": 33,
     "metadata": {},
     "output_type": "execute_result"
    }
   ],
   "source": [
    "# сводная таблица по уровням дохода и задолженностям по кредитам\n",
    "df_pivot_income = df.pivot_table(index = ['total_income_id'], values = 'debt', aggfunc=['count', my_mean])\n",
    "df_pivot_income.head()"
   ]
  },
  {
   "cell_type": "code",
   "execution_count": 34,
   "metadata": {},
   "outputs": [
    {
     "data": {
      "text/plain": [
       "<AxesSubplot:xlabel='debt', ylabel='total_income_id'>"
      ]
     },
     "execution_count": 34,
     "metadata": {},
     "output_type": "execute_result"
    },
    {
     "data": {
      "image/png": "[encoded data removed]",
      "text/plain": [
       "<Figure size 432x288 with 1 Axes>"
      ]
     },
     "metadata": {
      "needs_background": "light"
     },
     "output_type": "display_data"
    }
   ],
   "source": [
    "# столбчатая диаграмма\n",
    "seaborn.barplot(x=df['debt'], y=df['total_income_id'])"
   ]
  },
  {
   "cell_type": "markdown",
   "metadata": {},
   "source": [
    "**Вывод**  \n",
    "Наблюдается следующая зависимость, в порядке убывания риска по задолжености кредита, клиенты в семейном статусе:  \n",
    "1. Клиенты с уровнем дохода от `110000` до `145000` - самые неблагонадёжные заёмщики, вероятность задолженности по кредиту: `9,0%`;\n",
    "2. От `1450000` до `200000` - на втором месте, вероятность задолженности по кредиту: `8,4%`;\n",
    "3. До `110000` - вероятность задолженности по кредиту: `8,1%`;\n",
    "4. От `200000` - самые надёжные заёмщики, вероятность задолженности по кредиту: `7,0%`.\n",
    "\n",
    "Распределения достаточно ровные, во всех группах примерно одинаковое количество заёмщиков. Возможно, в дальнейшем, стоит рассмотреть другие категории по уровням дохода для выявления зависимостей и повышенных рисков."
   ]
  },
  {
   "cell_type": "markdown",
   "metadata": {},
   "source": [
    "### Как разные цели кредита влияют на его возврат в срок?"
   ]
  },
  {
   "cell_type": "code",
   "execution_count": 35,
   "metadata": {},
   "outputs": [
    {
     "data": {
      "text/html": [
       "<div>\n",
       "<style scoped>\n",
       "    .dataframe tbody tr th:only-of-type {\n",
       "        vertical-align: middle;\n",
       "    }\n",
       "\n",
       "    .dataframe tbody tr th {\n",
       "        vertical-align: top;\n",
       "    }\n",
       "\n",
       "    .dataframe thead tr th {\n",
       "        text-align: left;\n",
       "    }\n",
       "\n",
       "    .dataframe thead tr:last-of-type th {\n",
       "        text-align: right;\n",
       "    }\n",
       "</style>\n",
       "<table border=\"1\" class=\"dataframe\">\n",
       "  <thead>\n",
       "    <tr>\n",
       "      <th></th>\n",
       "      <th>count</th>\n",
       "      <th>my_mean</th>\n",
       "    </tr>\n",
       "    <tr>\n",
       "      <th></th>\n",
       "      <th>debt</th>\n",
       "      <th>debt</th>\n",
       "    </tr>\n",
       "    <tr>\n",
       "      <th>purpose_lemma</th>\n",
       "      <th></th>\n",
       "      <th></th>\n",
       "    </tr>\n",
       "  </thead>\n",
       "  <tbody>\n",
       "    <tr>\n",
       "      <th>автомобиль</th>\n",
       "      <td>4306</td>\n",
       "      <td>9.36%</td>\n",
       "    </tr>\n",
       "    <tr>\n",
       "      <th>недвижимость</th>\n",
       "      <td>10811</td>\n",
       "      <td>7.23%</td>\n",
       "    </tr>\n",
       "    <tr>\n",
       "      <th>образование</th>\n",
       "      <td>4013</td>\n",
       "      <td>9.22%</td>\n",
       "    </tr>\n",
       "    <tr>\n",
       "      <th>свадьба</th>\n",
       "      <td>2324</td>\n",
       "      <td>8.00%</td>\n",
       "    </tr>\n",
       "  </tbody>\n",
       "</table>\n",
       "</div>"
      ],
      "text/plain": [
       "               count my_mean\n",
       "                debt    debt\n",
       "purpose_lemma               \n",
       "автомобиль      4306  9.36% \n",
       "недвижимость   10811  7.23% \n",
       "образование     4013  9.22% \n",
       "свадьба         2324  8.00% "
      ]
     },
     "execution_count": 35,
     "metadata": {},
     "output_type": "execute_result"
    }
   ],
   "source": [
    "#сводная таблица с индексом по целям кредита и значением по задолженности\n",
    "df_pivot_purpose = df.pivot_table(index = ['purpose_lemma'], values = 'debt', aggfunc=['count', my_mean])\n",
    "df_pivot_purpose.head()"
   ]
  },
  {
   "cell_type": "code",
   "execution_count": 36,
   "metadata": {},
   "outputs": [
    {
     "data": {
      "text/plain": [
       "<AxesSubplot:xlabel='debt', ylabel='purpose_lemma'>"
      ]
     },
     "execution_count": 36,
     "metadata": {},
     "output_type": "execute_result"
    },
    {
     "data": {
      "image/png": "[encoded data removed]",
      "text/plain": [
       "<Figure size 432x288 with 1 Axes>"
      ]
     },
     "metadata": {
      "needs_background": "light"
     },
     "output_type": "display_data"
    }
   ],
   "source": [
    "# столбчатая диаграмма\n",
    "seaborn.barplot(x=df['debt'], y=df['purpose_lemma'])"
   ]
  },
  {
   "cell_type": "markdown",
   "metadata": {},
   "source": [
    "**Вывод**  \n",
    "Наблюдается следующая зависимость, в порядке убывания риска по задолжености кредита, по целям кредита:  \n",
    "1. Автомобиль - самая неблагонадёжная цель, вероятность задолженности по кредиту: `9,4%`;\n",
    "2. Образование - на втором месте, вероятность задолженности по кредиту: `9,2%`, самая малочисленная группа;\n",
    "3. Свадьба - вероятность задолженности по кредиту: `8,0%`;\n",
    "4. Недвижимость - самая выгодная цель, вероятность задолженности по кредиту: `7,2%`, и это самая многочисленная группа.\n",
    "  "
   ]
  },
  {
   "cell_type": "markdown",
   "metadata": {},
   "source": [
    "## Общий вывод"
   ]
  },
  {
   "cell_type": "markdown",
   "metadata": {},
   "source": [
    "В ходе исследования надёжности заемщиков были изучены и обработаны полученные данные: заменены пропущенные и справлены некорректные значения, удалены дубликаты, выполнена категоризация заёмщиков банка по разным параметрам.  \n",
    "\n",
    "Если есть возможность обратной связи с заказчиком - можно рекомендовать сделать ввод данных в столбец уровня образования выпадающим списком, для дальнейшей корректной обработки данных и исключения ошибок при вводе данных клиентов банка.\n",
    "Так же, желательно сделать уточнение по данным в столбце с общим трудовым стажем в днях, он заполнен некорректно.\n",
    "\n",
    "Примерный портет идеального клиента банка (без учёта количества трудового стажа, возраста, уровня образования, гендера и типа занятости): бездетный (`7,5%` невозврата кредита в срок) вдовец (`6,5%`), берущий кредит на недвижимость (`7,2%`) и имеющий доход от `200000` (`7,0%`).  \n",
    "\n",
    "И, портрет самого рискового клиента: не женатый (`9,8%` невозврата кредита в срок), с детьми (`9,2%`), кредит на автомобиль (`9,4%`) и имеющий уровень дохода от `110000` до `145000` (`9,0%`).  \n",
    "\n",
    "Несмотря на то, что заёмщики, имещие семейный статус `женат / замужем` являются не самыми благонадёжными, находясь ровно посередине рейтинга риска возникновения задолженности по кредиту - `7,5%`, они составляют основную часть клиентов банка (`12339` человек или `57%`)."
   ]
  }
 ],
 "metadata": {
  "ExecuteTimeLog": [
   {
    "duration": 674,
    "start_time": "2022-01-22T12:40:40.639Z"
   },
   {
    "duration": 57,
    "start_time": "2022-01-22T12:42:03.626Z"
   },
   {
    "duration": 56,
    "start_time": "2022-01-22T12:42:38.207Z"
   },
   {
    "duration": 58,
    "start_time": "2022-01-22T12:42:47.065Z"
   },
   {
    "duration": 68,
    "start_time": "2022-01-22T12:43:00.790Z"
   },
   {
    "duration": 66,
    "start_time": "2022-01-22T12:54:20.369Z"
   },
   {
    "duration": 70,
    "start_time": "2022-01-22T13:28:21.699Z"
   },
   {
    "duration": 69,
    "start_time": "2022-01-22T13:28:50.008Z"
   },
   {
    "duration": 10,
    "start_time": "2022-01-22T13:47:43.538Z"
   },
   {
    "duration": 72,
    "start_time": "2022-01-22T13:48:45.669Z"
   },
   {
    "duration": 94,
    "start_time": "2022-01-22T16:22:35.354Z"
   },
   {
    "duration": 14,
    "start_time": "2022-01-22T16:26:28.078Z"
   },
   {
    "duration": 25,
    "start_time": "2022-01-22T16:26:57.105Z"
   },
   {
    "duration": 37,
    "start_time": "2022-01-22T16:27:36.623Z"
   },
   {
    "duration": 5,
    "start_time": "2022-01-22T16:35:16.696Z"
   },
   {
    "duration": 12,
    "start_time": "2022-01-22T16:35:28.569Z"
   },
   {
    "duration": 5,
    "start_time": "2022-01-22T16:39:43.422Z"
   },
   {
    "duration": 650,
    "start_time": "2022-01-22T16:46:36.037Z"
   },
   {
    "duration": 721,
    "start_time": "2022-01-22T20:20:59.109Z"
   },
   {
    "duration": 18,
    "start_time": "2022-01-22T20:24:21.098Z"
   },
   {
    "duration": 287,
    "start_time": "2022-01-22T20:25:50.366Z"
   },
   {
    "duration": 836,
    "start_time": "2022-01-22T20:27:43.726Z"
   },
   {
    "duration": 281,
    "start_time": "2022-01-22T20:33:46.567Z"
   },
   {
    "duration": 272,
    "start_time": "2022-01-22T20:39:08.751Z"
   },
   {
    "duration": 791,
    "start_time": "2022-01-22T20:39:23.172Z"
   },
   {
    "duration": 9,
    "start_time": "2022-01-22T20:39:30.080Z"
   },
   {
    "duration": 8,
    "start_time": "2022-01-22T20:51:02.034Z"
   },
   {
    "duration": 6,
    "start_time": "2022-01-24T20:40:21.368Z"
   },
   {
    "duration": 6,
    "start_time": "2022-01-24T20:43:32.085Z"
   },
   {
    "duration": 16,
    "start_time": "2022-01-24T20:43:41.868Z"
   },
   {
    "duration": 18,
    "start_time": "2022-01-24T20:44:01.393Z"
   },
   {
    "duration": 33,
    "start_time": "2022-01-24T20:44:30.520Z"
   },
   {
    "duration": 5,
    "start_time": "2022-01-24T20:51:15.221Z"
   },
   {
    "duration": 43,
    "start_time": "2022-01-24T20:57:51.741Z"
   },
   {
    "duration": 13,
    "start_time": "2022-01-24T20:59:16.051Z"
   },
   {
    "duration": 23,
    "start_time": "2022-01-24T20:59:32.899Z"
   },
   {
    "duration": 318,
    "start_time": "2022-01-24T21:06:52.320Z"
   },
   {
    "duration": 968,
    "start_time": "2022-01-24T21:09:38.859Z"
   },
   {
    "duration": 744,
    "start_time": "2022-01-24T21:09:52.448Z"
   },
   {
    "duration": 703,
    "start_time": "2022-01-24T21:10:13.841Z"
   },
   {
    "duration": 761,
    "start_time": "2022-01-24T21:10:19.270Z"
   },
   {
    "duration": 708,
    "start_time": "2022-01-24T21:10:24.547Z"
   },
   {
    "duration": 800,
    "start_time": "2022-01-24T21:10:31.774Z"
   },
   {
    "duration": 1345,
    "start_time": "2022-01-24T21:27:25.913Z"
   },
   {
    "duration": 343,
    "start_time": "2022-01-24T21:33:17.151Z"
   },
   {
    "duration": 798,
    "start_time": "2022-01-24T21:34:50.243Z"
   },
   {
    "duration": 701,
    "start_time": "2022-01-24T21:36:00.442Z"
   },
   {
    "duration": 17089,
    "start_time": "2022-01-24T21:37:11.844Z"
   },
   {
    "duration": 739,
    "start_time": "2022-01-24T21:39:16.539Z"
   },
   {
    "duration": 311,
    "start_time": "2022-01-24T21:39:44.802Z"
   },
   {
    "duration": 231,
    "start_time": "2022-01-24T21:39:58.197Z"
   },
   {
    "duration": 1223,
    "start_time": "2022-01-24T21:40:06.425Z"
   },
   {
    "duration": 631,
    "start_time": "2022-01-24T21:40:11.629Z"
   },
   {
    "duration": 679,
    "start_time": "2022-01-24T21:48:26.624Z"
   },
   {
    "duration": 5,
    "start_time": "2022-01-24T21:48:34.582Z"
   },
   {
    "duration": 4,
    "start_time": "2022-01-24T21:48:38.645Z"
   },
   {
    "duration": 36,
    "start_time": "2022-01-24T21:48:45.331Z"
   },
   {
    "duration": 13,
    "start_time": "2022-01-24T21:48:49.195Z"
   },
   {
    "duration": 310,
    "start_time": "2022-01-24T21:48:53.554Z"
   },
   {
    "duration": 238,
    "start_time": "2022-01-24T21:54:43.456Z"
   },
   {
    "duration": 243,
    "start_time": "2022-01-24T21:55:32.879Z"
   },
   {
    "duration": 244,
    "start_time": "2022-01-24T21:55:46.938Z"
   },
   {
    "duration": 256,
    "start_time": "2022-01-24T21:56:08.459Z"
   },
   {
    "duration": 234,
    "start_time": "2022-01-24T22:03:32.836Z"
   },
   {
    "duration": 228,
    "start_time": "2022-01-24T22:08:25.173Z"
   },
   {
    "duration": 270,
    "start_time": "2022-01-24T22:08:50.282Z"
   },
   {
    "duration": 257,
    "start_time": "2022-01-24T22:09:10.228Z"
   },
   {
    "duration": 266,
    "start_time": "2022-01-24T22:13:03.131Z"
   },
   {
    "duration": 700,
    "start_time": "2022-01-24T22:13:28.885Z"
   },
   {
    "duration": 4,
    "start_time": "2022-01-24T22:15:50.252Z"
   },
   {
    "duration": 259,
    "start_time": "2022-01-24T22:34:34.067Z"
   },
   {
    "duration": 6,
    "start_time": "2022-01-24T22:36:04.968Z"
   },
   {
    "duration": 4,
    "start_time": "2022-01-24T22:36:17.956Z"
   },
   {
    "duration": 233,
    "start_time": "2022-01-24T22:36:55.783Z"
   },
   {
    "duration": 240,
    "start_time": "2022-01-24T22:41:09.412Z"
   },
   {
    "duration": 243,
    "start_time": "2022-01-24T22:41:19.562Z"
   },
   {
    "duration": 254,
    "start_time": "2022-01-24T22:42:04.252Z"
   },
   {
    "duration": 23,
    "start_time": "2022-01-24T23:03:23.923Z"
   },
   {
    "duration": 17,
    "start_time": "2022-01-24T23:04:41.308Z"
   },
   {
    "duration": 18,
    "start_time": "2022-01-24T23:04:52.651Z"
   },
   {
    "duration": 35,
    "start_time": "2022-01-24T23:05:00.120Z"
   },
   {
    "duration": 44,
    "start_time": "2022-01-24T23:05:30.092Z"
   },
   {
    "duration": 19,
    "start_time": "2022-01-24T23:11:14.638Z"
   },
   {
    "duration": 28,
    "start_time": "2022-01-24T23:12:58.867Z"
   },
   {
    "duration": 16,
    "start_time": "2022-01-24T23:13:09.597Z"
   },
   {
    "duration": 6,
    "start_time": "2022-01-24T23:14:11.705Z"
   },
   {
    "duration": 6,
    "start_time": "2022-01-24T23:14:57.699Z"
   },
   {
    "duration": 7,
    "start_time": "2022-01-24T23:24:02.726Z"
   },
   {
    "duration": 10,
    "start_time": "2022-01-24T23:26:21.094Z"
   },
   {
    "duration": 10,
    "start_time": "2022-01-24T23:26:28.765Z"
   },
   {
    "duration": 9,
    "start_time": "2022-01-24T23:26:37.523Z"
   },
   {
    "duration": 9,
    "start_time": "2022-01-24T23:26:46.083Z"
   },
   {
    "duration": 8,
    "start_time": "2022-01-24T23:26:52.760Z"
   },
   {
    "duration": 8,
    "start_time": "2022-01-24T23:26:59.000Z"
   },
   {
    "duration": 6,
    "start_time": "2022-01-24T23:27:34.952Z"
   },
   {
    "duration": 245,
    "start_time": "2022-01-24T23:28:59.489Z"
   },
   {
    "duration": 688,
    "start_time": "2022-01-24T23:32:07.100Z"
   },
   {
    "duration": 4,
    "start_time": "2022-01-24T23:32:27.352Z"
   },
   {
    "duration": 2543,
    "start_time": "2022-01-24T23:34:58.802Z"
   },
   {
    "duration": 753,
    "start_time": "2022-01-24T23:35:47.168Z"
   },
   {
    "duration": 715,
    "start_time": "2022-01-24T23:36:09.816Z"
   },
   {
    "duration": 248,
    "start_time": "2022-01-24T23:41:27.542Z"
   },
   {
    "duration": 8,
    "start_time": "2022-01-24T23:41:46.551Z"
   },
   {
    "duration": 7,
    "start_time": "2022-01-24T23:42:41.543Z"
   },
   {
    "duration": 6,
    "start_time": "2022-01-25T00:03:22.619Z"
   },
   {
    "duration": 5,
    "start_time": "2022-01-25T00:03:35.229Z"
   },
   {
    "duration": 5,
    "start_time": "2022-01-25T00:04:38.095Z"
   },
   {
    "duration": 5,
    "start_time": "2022-01-25T00:04:48.271Z"
   },
   {
    "duration": 6,
    "start_time": "2022-01-25T00:04:55.682Z"
   },
   {
    "duration": 7,
    "start_time": "2022-01-25T00:05:02.466Z"
   },
   {
    "duration": 5,
    "start_time": "2022-01-25T00:05:08.711Z"
   },
   {
    "duration": 5,
    "start_time": "2022-01-25T00:05:16.144Z"
   },
   {
    "duration": 5,
    "start_time": "2022-01-25T00:05:28.175Z"
   },
   {
    "duration": 6,
    "start_time": "2022-01-25T00:05:35.303Z"
   },
   {
    "duration": 5,
    "start_time": "2022-01-25T00:05:42.140Z"
   },
   {
    "duration": 7,
    "start_time": "2022-01-25T00:05:49.068Z"
   },
   {
    "duration": 5,
    "start_time": "2022-01-25T00:05:59.925Z"
   },
   {
    "duration": 6,
    "start_time": "2022-01-25T00:06:14.420Z"
   },
   {
    "duration": 7,
    "start_time": "2022-01-25T00:06:25.217Z"
   },
   {
    "duration": 6,
    "start_time": "2022-01-25T00:06:53.662Z"
   },
   {
    "duration": 5,
    "start_time": "2022-01-25T00:07:06.868Z"
   },
   {
    "duration": 7,
    "start_time": "2022-01-25T00:07:12.018Z"
   },
   {
    "duration": 7,
    "start_time": "2022-01-25T00:07:16.501Z"
   },
   {
    "duration": 96,
    "start_time": "2022-01-25T00:07:25.424Z"
   },
   {
    "duration": 6,
    "start_time": "2022-01-25T00:07:35.112Z"
   },
   {
    "duration": 646,
    "start_time": "2022-01-25T00:07:49.751Z"
   },
   {
    "duration": 6,
    "start_time": "2022-01-25T00:08:09.012Z"
   },
   {
    "duration": 6,
    "start_time": "2022-01-25T00:08:28.315Z"
   },
   {
    "duration": 11,
    "start_time": "2022-01-25T00:08:45.950Z"
   },
   {
    "duration": 356,
    "start_time": "2022-01-26T18:41:15.792Z"
   },
   {
    "duration": 742,
    "start_time": "2022-01-26T18:41:43.106Z"
   },
   {
    "duration": 11,
    "start_time": "2022-01-26T18:41:49.014Z"
   },
   {
    "duration": 5,
    "start_time": "2022-01-26T18:41:53.598Z"
   },
   {
    "duration": 13,
    "start_time": "2022-01-26T18:42:08.338Z"
   },
   {
    "duration": 8,
    "start_time": "2022-01-26T18:43:48.604Z"
   },
   {
    "duration": 22,
    "start_time": "2022-01-26T18:48:16.445Z"
   },
   {
    "duration": 13,
    "start_time": "2022-01-26T18:48:46.570Z"
   },
   {
    "duration": 8,
    "start_time": "2022-01-26T18:49:11.142Z"
   },
   {
    "duration": 27,
    "start_time": "2022-01-26T18:49:17.098Z"
   },
   {
    "duration": 18,
    "start_time": "2022-01-26T18:49:27.005Z"
   },
   {
    "duration": 17,
    "start_time": "2022-01-26T18:49:46.449Z"
   },
   {
    "duration": 33,
    "start_time": "2022-01-26T18:53:17.249Z"
   },
   {
    "duration": 19,
    "start_time": "2022-01-26T18:56:53.206Z"
   },
   {
    "duration": 18,
    "start_time": "2022-01-26T18:58:48.734Z"
   },
   {
    "duration": 37,
    "start_time": "2022-01-26T18:58:52.794Z"
   },
   {
    "duration": 6028,
    "start_time": "2022-01-26T18:59:01.621Z"
   },
   {
    "duration": 229,
    "start_time": "2022-01-26T19:01:47.381Z"
   },
   {
    "duration": 13,
    "start_time": "2022-01-26T19:03:01.313Z"
   },
   {
    "duration": 839,
    "start_time": "2022-01-26T19:04:54.616Z"
   },
   {
    "duration": 75,
    "start_time": "2022-01-26T19:05:09.746Z"
   },
   {
    "duration": 813,
    "start_time": "2022-01-26T19:05:27.420Z"
   },
   {
    "duration": 706,
    "start_time": "2022-01-26T19:05:52.674Z"
   },
   {
    "duration": 753,
    "start_time": "2022-01-26T19:10:49.750Z"
   },
   {
    "duration": 740,
    "start_time": "2022-01-26T19:11:08.209Z"
   },
   {
    "duration": 125,
    "start_time": "2022-01-26T19:32:55.748Z"
   },
   {
    "duration": 125,
    "start_time": "2022-01-26T19:34:04.612Z"
   },
   {
    "duration": 130,
    "start_time": "2022-01-26T19:34:45.303Z"
   },
   {
    "duration": 473,
    "start_time": "2022-01-26T19:42:44.390Z"
   },
   {
    "duration": 5611,
    "start_time": "2022-01-26T19:42:57.428Z"
   },
   {
    "duration": 5,
    "start_time": "2022-01-26T19:44:22.076Z"
   },
   {
    "duration": 5,
    "start_time": "2022-01-26T19:44:38.936Z"
   },
   {
    "duration": 1145,
    "start_time": "2022-01-26T19:45:22.858Z"
   },
   {
    "duration": 4662,
    "start_time": "2022-01-26T19:45:47.481Z"
   },
   {
    "duration": 780,
    "start_time": "2022-01-26T19:48:28.145Z"
   },
   {
    "duration": 1042,
    "start_time": "2022-01-26T19:48:51.979Z"
   },
   {
    "duration": 1011,
    "start_time": "2022-01-26T19:52:26.749Z"
   },
   {
    "duration": 4374,
    "start_time": "2022-01-26T19:53:14.460Z"
   },
   {
    "duration": 3345,
    "start_time": "2022-01-26T19:53:40.331Z"
   },
   {
    "duration": 3020,
    "start_time": "2022-01-26T19:56:17.928Z"
   },
   {
    "duration": 17,
    "start_time": "2022-01-26T19:57:13.395Z"
   },
   {
    "duration": 16,
    "start_time": "2022-01-26T20:05:28.490Z"
   },
   {
    "duration": 29,
    "start_time": "2022-01-26T20:05:31.327Z"
   },
   {
    "duration": 24,
    "start_time": "2022-01-26T20:07:59.876Z"
   },
   {
    "duration": 281,
    "start_time": "2022-01-26T20:13:33.703Z"
   },
   {
    "duration": 16,
    "start_time": "2022-01-26T20:13:43.497Z"
   },
   {
    "duration": 16,
    "start_time": "2022-01-26T20:16:17.573Z"
   },
   {
    "duration": 13,
    "start_time": "2022-01-26T20:24:14.957Z"
   },
   {
    "duration": 44,
    "start_time": "2022-01-26T20:37:48.864Z"
   },
   {
    "duration": 6,
    "start_time": "2022-01-26T20:45:59.135Z"
   },
   {
    "duration": 236,
    "start_time": "2022-01-26T20:48:59.275Z"
   },
   {
    "duration": 7,
    "start_time": "2022-01-26T20:49:32.885Z"
   },
   {
    "duration": 81,
    "start_time": "2022-01-26T20:58:40.713Z"
   },
   {
    "duration": 239,
    "start_time": "2022-01-26T20:59:29.582Z"
   },
   {
    "duration": 237,
    "start_time": "2022-01-26T20:59:40.659Z"
   },
   {
    "duration": 252,
    "start_time": "2022-01-26T20:59:55.832Z"
   },
   {
    "duration": 19,
    "start_time": "2022-01-26T21:05:49.552Z"
   },
   {
    "duration": 268,
    "start_time": "2022-01-26T21:07:50.628Z"
   },
   {
    "duration": 227,
    "start_time": "2022-01-26T21:08:08.316Z"
   },
   {
    "duration": 233,
    "start_time": "2022-01-26T21:08:41.683Z"
   },
   {
    "duration": 271,
    "start_time": "2022-01-26T21:09:34.132Z"
   },
   {
    "duration": 532,
    "start_time": "2022-01-26T21:13:01.608Z"
   },
   {
    "duration": 93,
    "start_time": "2022-01-26T21:13:21.309Z"
   },
   {
    "duration": 239,
    "start_time": "2022-01-26T21:13:27.167Z"
   },
   {
    "duration": 251,
    "start_time": "2022-01-26T21:23:28.592Z"
   },
   {
    "duration": 55,
    "start_time": "2022-01-26T21:48:55.606Z"
   },
   {
    "duration": 39,
    "start_time": "2022-01-26T21:49:00.308Z"
   },
   {
    "duration": 32,
    "start_time": "2022-01-26T21:49:05.459Z"
   },
   {
    "duration": 58,
    "start_time": "2022-01-26T21:49:14.185Z"
   },
   {
    "duration": 748,
    "start_time": "2022-01-26T21:49:28.333Z"
   },
   {
    "duration": 12,
    "start_time": "2022-01-26T21:49:35.325Z"
   },
   {
    "duration": 12,
    "start_time": "2022-01-26T21:50:18.334Z"
   },
   {
    "duration": 24,
    "start_time": "2022-01-26T21:50:40.882Z"
   },
   {
    "duration": 12,
    "start_time": "2022-01-26T21:50:46.620Z"
   },
   {
    "duration": 23,
    "start_time": "2022-01-26T21:51:03.738Z"
   },
   {
    "duration": 12,
    "start_time": "2022-01-26T21:51:07.583Z"
   },
   {
    "duration": 6,
    "start_time": "2022-01-26T21:51:36.083Z"
   },
   {
    "duration": 395,
    "start_time": "2022-01-26T21:51:40.614Z"
   },
   {
    "duration": 252,
    "start_time": "2022-01-26T21:52:02.658Z"
   },
   {
    "duration": 252,
    "start_time": "2022-01-26T21:52:25.400Z"
   },
   {
    "duration": 250,
    "start_time": "2022-01-26T21:54:07.656Z"
   },
   {
    "duration": 237,
    "start_time": "2022-01-26T21:54:17.992Z"
   },
   {
    "duration": 349,
    "start_time": "2022-01-26T21:55:15.775Z"
   },
   {
    "duration": 319,
    "start_time": "2022-01-26T21:56:18.332Z"
   },
   {
    "duration": 13,
    "start_time": "2022-01-26T21:56:24.396Z"
   },
   {
    "duration": 12,
    "start_time": "2022-01-26T21:56:49.639Z"
   },
   {
    "duration": 7,
    "start_time": "2022-01-26T21:56:58.437Z"
   },
   {
    "duration": 53,
    "start_time": "2022-01-26T21:57:14.428Z"
   },
   {
    "duration": 30,
    "start_time": "2022-01-26T21:57:20.135Z"
   },
   {
    "duration": 37,
    "start_time": "2022-01-26T21:57:26.773Z"
   },
   {
    "duration": 40,
    "start_time": "2022-01-26T21:58:08.642Z"
   },
   {
    "duration": 258,
    "start_time": "2022-01-26T22:10:21.810Z"
   },
   {
    "duration": 28,
    "start_time": "2022-01-26T22:10:25.945Z"
   },
   {
    "duration": 21,
    "start_time": "2022-01-26T22:12:37.782Z"
   },
   {
    "duration": 245,
    "start_time": "2022-01-26T22:19:53.976Z"
   },
   {
    "duration": 36,
    "start_time": "2022-01-26T22:20:23.553Z"
   },
   {
    "duration": 41,
    "start_time": "2022-01-26T22:21:47.422Z"
   },
   {
    "duration": 21,
    "start_time": "2022-01-26T22:26:21.523Z"
   },
   {
    "duration": 112,
    "start_time": "2022-01-26T22:34:42.859Z"
   },
   {
    "duration": 2563,
    "start_time": "2022-01-26T22:58:39.160Z"
   },
   {
    "duration": 833,
    "start_time": "2022-01-26T23:05:16.227Z"
   },
   {
    "duration": 18,
    "start_time": "2022-01-26T23:05:17.062Z"
   },
   {
    "duration": 124,
    "start_time": "2022-01-26T23:05:17.083Z"
   },
   {
    "duration": 42,
    "start_time": "2022-01-26T23:05:17.211Z"
   },
   {
    "duration": 17,
    "start_time": "2022-01-26T23:05:17.255Z"
   },
   {
    "duration": 17,
    "start_time": "2022-01-26T23:05:17.275Z"
   },
   {
    "duration": 57,
    "start_time": "2022-01-26T23:05:17.294Z"
   },
   {
    "duration": 31,
    "start_time": "2022-01-26T23:05:17.354Z"
   },
   {
    "duration": 48,
    "start_time": "2022-01-26T23:05:17.387Z"
   },
   {
    "duration": 41,
    "start_time": "2022-01-26T23:05:17.437Z"
   },
   {
    "duration": 7,
    "start_time": "2022-01-26T23:05:17.480Z"
   },
   {
    "duration": 2844,
    "start_time": "2022-01-26T23:05:17.508Z"
   },
   {
    "duration": 16,
    "start_time": "2022-01-26T23:05:20.354Z"
   },
   {
    "duration": 281,
    "start_time": "2022-01-26T23:05:20.372Z"
   },
   {
    "duration": 32,
    "start_time": "2022-01-26T23:05:20.655Z"
   },
   {
    "duration": 142,
    "start_time": "2022-01-26T23:05:20.690Z"
   },
   {
    "duration": 310,
    "start_time": "2022-01-26T23:05:20.834Z"
   },
   {
    "duration": 783,
    "start_time": "2022-01-28T17:44:42.480Z"
   },
   {
    "duration": 11,
    "start_time": "2022-01-28T17:44:47.391Z"
   },
   {
    "duration": 11,
    "start_time": "2022-01-28T17:44:52.738Z"
   },
   {
    "duration": 370,
    "start_time": "2022-01-28T17:46:47.335Z"
   },
   {
    "duration": 245,
    "start_time": "2022-01-28T17:50:19.868Z"
   },
   {
    "duration": 242,
    "start_time": "2022-01-28T17:50:49.509Z"
   },
   {
    "duration": 253,
    "start_time": "2022-01-28T17:51:25.259Z"
   },
   {
    "duration": 11,
    "start_time": "2022-01-28T17:51:32.906Z"
   },
   {
    "duration": 11,
    "start_time": "2022-01-28T17:51:44.624Z"
   },
   {
    "duration": 12,
    "start_time": "2022-01-28T17:53:43.260Z"
   },
   {
    "duration": 11,
    "start_time": "2022-01-28T17:53:49.852Z"
   },
   {
    "duration": 9,
    "start_time": "2022-01-28T17:54:02.075Z"
   },
   {
    "duration": 30,
    "start_time": "2022-01-28T17:54:42.813Z"
   },
   {
    "duration": 17,
    "start_time": "2022-01-28T17:55:38.340Z"
   },
   {
    "duration": 13,
    "start_time": "2022-01-28T17:56:02.349Z"
   },
   {
    "duration": 7,
    "start_time": "2022-01-28T17:59:16.240Z"
   },
   {
    "duration": 8,
    "start_time": "2022-01-28T18:09:31.345Z"
   },
   {
    "duration": 247,
    "start_time": "2022-01-28T18:10:09.138Z"
   },
   {
    "duration": 249,
    "start_time": "2022-01-28T18:10:16.964Z"
   },
   {
    "duration": 7,
    "start_time": "2022-01-28T18:10:26.252Z"
   },
   {
    "duration": 9,
    "start_time": "2022-01-28T18:17:38.843Z"
   },
   {
    "duration": 7,
    "start_time": "2022-01-28T18:17:45.448Z"
   },
   {
    "duration": 56,
    "start_time": "2022-01-28T18:18:18.175Z"
   },
   {
    "duration": 29,
    "start_time": "2022-01-28T18:18:23.258Z"
   },
   {
    "duration": 36,
    "start_time": "2022-01-28T18:18:27.526Z"
   },
   {
    "duration": 42,
    "start_time": "2022-01-28T18:18:34.437Z"
   },
   {
    "duration": 11,
    "start_time": "2022-01-28T18:27:28.840Z"
   },
   {
    "duration": 7,
    "start_time": "2022-01-28T18:31:56.360Z"
   },
   {
    "duration": 8718,
    "start_time": "2022-01-28T18:36:09.758Z"
   },
   {
    "duration": 8722,
    "start_time": "2022-01-28T18:37:04.761Z"
   },
   {
    "duration": 47,
    "start_time": "2022-01-28T18:48:22.643Z"
   },
   {
    "duration": 259,
    "start_time": "2022-01-28T18:48:41.744Z"
   },
   {
    "duration": 243,
    "start_time": "2022-01-28T18:49:05.253Z"
   },
   {
    "duration": 1924,
    "start_time": "2022-01-28T18:50:12.793Z"
   },
   {
    "duration": 4138,
    "start_time": "2022-01-28T18:50:43.858Z"
   },
   {
    "duration": 4176,
    "start_time": "2022-01-28T18:51:39.613Z"
   },
   {
    "duration": 4410,
    "start_time": "2022-01-28T18:52:03.126Z"
   },
   {
    "duration": 4083,
    "start_time": "2022-01-28T18:57:56.952Z"
   },
   {
    "duration": 5462,
    "start_time": "2022-01-28T19:08:02.385Z"
   },
   {
    "duration": 5256,
    "start_time": "2022-01-28T20:34:37.419Z"
   },
   {
    "duration": 5319,
    "start_time": "2022-01-28T20:39:12.630Z"
   },
   {
    "duration": 5636,
    "start_time": "2022-01-28T20:39:56.946Z"
   },
   {
    "duration": 5408,
    "start_time": "2022-01-28T20:44:19.758Z"
   },
   {
    "duration": 5883,
    "start_time": "2022-01-28T20:50:08.071Z"
   },
   {
    "duration": 780,
    "start_time": "2022-01-28T20:51:10.528Z"
   },
   {
    "duration": 11,
    "start_time": "2022-01-28T20:51:11.311Z"
   },
   {
    "duration": 25,
    "start_time": "2022-01-28T20:51:11.324Z"
   },
   {
    "duration": 15,
    "start_time": "2022-01-28T20:51:11.352Z"
   },
   {
    "duration": 56,
    "start_time": "2022-01-28T20:51:11.370Z"
   },
   {
    "duration": 16,
    "start_time": "2022-01-28T20:51:11.428Z"
   },
   {
    "duration": 62,
    "start_time": "2022-01-28T20:51:11.446Z"
   },
   {
    "duration": 30,
    "start_time": "2022-01-28T20:51:11.512Z"
   },
   {
    "duration": 36,
    "start_time": "2022-01-28T20:51:11.545Z"
   },
   {
    "duration": 61,
    "start_time": "2022-01-28T20:51:11.584Z"
   },
   {
    "duration": 10,
    "start_time": "2022-01-28T20:51:11.647Z"
   },
   {
    "duration": 5611,
    "start_time": "2022-01-28T20:51:11.659Z"
   },
   {
    "duration": 323,
    "start_time": "2022-01-28T20:51:17.273Z"
   },
   {
    "duration": -66,
    "start_time": "2022-01-28T20:51:17.664Z"
   },
   {
    "duration": -68,
    "start_time": "2022-01-28T20:51:17.667Z"
   },
   {
    "duration": -68,
    "start_time": "2022-01-28T20:51:17.668Z"
   },
   {
    "duration": -69,
    "start_time": "2022-01-28T20:51:17.671Z"
   },
   {
    "duration": 5689,
    "start_time": "2022-01-28T20:52:32.752Z"
   },
   {
    "duration": 302,
    "start_time": "2022-01-28T20:53:31.829Z"
   },
   {
    "duration": 5797,
    "start_time": "2022-01-28T21:10:30.404Z"
   },
   {
    "duration": 84,
    "start_time": "2022-01-28T21:12:34.192Z"
   },
   {
    "duration": 87,
    "start_time": "2022-01-28T21:12:59.772Z"
   },
   {
    "duration": 5386,
    "start_time": "2022-01-28T21:13:38.469Z"
   },
   {
    "duration": 362,
    "start_time": "2022-01-28T21:14:55.424Z"
   },
   {
    "duration": 348,
    "start_time": "2022-01-28T21:15:30.445Z"
   },
   {
    "duration": 84,
    "start_time": "2022-01-28T21:16:11.374Z"
   },
   {
    "duration": 5421,
    "start_time": "2022-01-28T21:18:26.993Z"
   },
   {
    "duration": 5474,
    "start_time": "2022-01-28T21:18:47.225Z"
   },
   {
    "duration": 1277,
    "start_time": "2022-01-28T21:19:37.643Z"
   },
   {
    "duration": 5685,
    "start_time": "2022-01-28T21:19:59.423Z"
   },
   {
    "duration": 9,
    "start_time": "2022-01-28T21:22:28.095Z"
   },
   {
    "duration": 5,
    "start_time": "2022-01-28T21:41:16.138Z"
   },
   {
    "duration": 6,
    "start_time": "2022-01-28T21:41:35.816Z"
   },
   {
    "duration": 6,
    "start_time": "2022-01-28T21:42:30.654Z"
   },
   {
    "duration": 5,
    "start_time": "2022-01-28T21:49:30.984Z"
   },
   {
    "duration": 251,
    "start_time": "2022-01-28T21:49:48.365Z"
   },
   {
    "duration": 6,
    "start_time": "2022-01-28T21:50:18.094Z"
   },
   {
    "duration": 7,
    "start_time": "2022-01-28T21:52:22.384Z"
   },
   {
    "duration": 7,
    "start_time": "2022-01-28T21:52:36.659Z"
   },
   {
    "duration": 480,
    "start_time": "2022-01-28T21:52:56.632Z"
   },
   {
    "duration": 250,
    "start_time": "2022-01-28T22:01:55.087Z"
   },
   {
    "duration": 875,
    "start_time": "2022-01-28T22:03:29.934Z"
   },
   {
    "duration": 323,
    "start_time": "2022-01-28T22:03:30.812Z"
   },
   {
    "duration": 25,
    "start_time": "2022-01-28T22:03:31.113Z"
   },
   {
    "duration": 22,
    "start_time": "2022-01-28T22:03:31.117Z"
   },
   {
    "duration": 15,
    "start_time": "2022-01-28T22:03:31.125Z"
   },
   {
    "duration": 13,
    "start_time": "2022-01-28T22:03:31.128Z"
   },
   {
    "duration": 11,
    "start_time": "2022-01-28T22:03:31.131Z"
   },
   {
    "duration": 9,
    "start_time": "2022-01-28T22:03:31.134Z"
   },
   {
    "duration": 8,
    "start_time": "2022-01-28T22:03:31.136Z"
   },
   {
    "duration": 7,
    "start_time": "2022-01-28T22:03:31.138Z"
   },
   {
    "duration": 5,
    "start_time": "2022-01-28T22:03:31.141Z"
   },
   {
    "duration": 4,
    "start_time": "2022-01-28T22:03:31.143Z"
   },
   {
    "duration": 3,
    "start_time": "2022-01-28T22:03:31.145Z"
   },
   {
    "duration": 2,
    "start_time": "2022-01-28T22:03:31.147Z"
   },
   {
    "duration": 0,
    "start_time": "2022-01-28T22:03:31.150Z"
   },
   {
    "duration": -2,
    "start_time": "2022-01-28T22:03:31.153Z"
   },
   {
    "duration": -3,
    "start_time": "2022-01-28T22:03:31.155Z"
   },
   {
    "duration": -6,
    "start_time": "2022-01-28T22:03:31.159Z"
   },
   {
    "duration": -15,
    "start_time": "2022-01-28T22:03:31.169Z"
   },
   {
    "duration": -15,
    "start_time": "2022-01-28T22:03:31.171Z"
   },
   {
    "duration": 826,
    "start_time": "2022-01-28T22:04:42.100Z"
   },
   {
    "duration": 328,
    "start_time": "2022-01-28T22:04:50.605Z"
   },
   {
    "duration": 790,
    "start_time": "2022-01-28T22:06:07.617Z"
   },
   {
    "duration": 23,
    "start_time": "2022-01-28T22:06:08.410Z"
   },
   {
    "duration": 9,
    "start_time": "2022-01-28T22:06:08.436Z"
   },
   {
    "duration": 6865,
    "start_time": "2022-01-28T22:06:08.447Z"
   },
   {
    "duration": -29,
    "start_time": "2022-01-28T22:06:15.344Z"
   },
   {
    "duration": -31,
    "start_time": "2022-01-28T22:06:15.347Z"
   },
   {
    "duration": -32,
    "start_time": "2022-01-28T22:06:15.349Z"
   },
   {
    "duration": -35,
    "start_time": "2022-01-28T22:06:15.353Z"
   },
   {
    "duration": -36,
    "start_time": "2022-01-28T22:06:15.355Z"
   },
   {
    "duration": -38,
    "start_time": "2022-01-28T22:06:15.358Z"
   },
   {
    "duration": -38,
    "start_time": "2022-01-28T22:06:15.360Z"
   },
   {
    "duration": -40,
    "start_time": "2022-01-28T22:06:15.363Z"
   },
   {
    "duration": -41,
    "start_time": "2022-01-28T22:06:15.365Z"
   },
   {
    "duration": -42,
    "start_time": "2022-01-28T22:06:15.368Z"
   },
   {
    "duration": -43,
    "start_time": "2022-01-28T22:06:15.370Z"
   },
   {
    "duration": -44,
    "start_time": "2022-01-28T22:06:15.372Z"
   },
   {
    "duration": -45,
    "start_time": "2022-01-28T22:06:15.374Z"
   },
   {
    "duration": -45,
    "start_time": "2022-01-28T22:06:15.376Z"
   },
   {
    "duration": -46,
    "start_time": "2022-01-28T22:06:15.378Z"
   },
   {
    "duration": -47,
    "start_time": "2022-01-28T22:06:15.380Z"
   },
   {
    "duration": 754,
    "start_time": "2022-01-28T22:11:27.801Z"
   },
   {
    "duration": 10,
    "start_time": "2022-01-28T22:11:28.558Z"
   },
   {
    "duration": 45,
    "start_time": "2022-01-28T22:11:28.570Z"
   },
   {
    "duration": 11,
    "start_time": "2022-01-28T22:11:28.617Z"
   },
   {
    "duration": 24,
    "start_time": "2022-01-28T22:11:28.630Z"
   },
   {
    "duration": 10,
    "start_time": "2022-01-28T22:11:28.655Z"
   },
   {
    "duration": 56,
    "start_time": "2022-01-28T22:11:28.666Z"
   },
   {
    "duration": 22,
    "start_time": "2022-01-28T22:11:28.725Z"
   },
   {
    "duration": 23,
    "start_time": "2022-01-28T22:11:28.749Z"
   },
   {
    "duration": 44,
    "start_time": "2022-01-28T22:11:28.774Z"
   },
   {
    "duration": 10,
    "start_time": "2022-01-28T22:11:28.820Z"
   },
   {
    "duration": 94,
    "start_time": "2022-01-28T22:11:28.832Z"
   },
   {
    "duration": 33,
    "start_time": "2022-01-28T22:11:28.895Z"
   },
   {
    "duration": 31,
    "start_time": "2022-01-28T22:11:28.898Z"
   },
   {
    "duration": 29,
    "start_time": "2022-01-28T22:11:28.901Z"
   },
   {
    "duration": 28,
    "start_time": "2022-01-28T22:11:28.903Z"
   },
   {
    "duration": 25,
    "start_time": "2022-01-28T22:11:28.907Z"
   },
   {
    "duration": 24,
    "start_time": "2022-01-28T22:11:28.909Z"
   },
   {
    "duration": 22,
    "start_time": "2022-01-28T22:11:28.912Z"
   },
   {
    "duration": 5442,
    "start_time": "2022-01-28T22:12:25.869Z"
   },
   {
    "duration": 404,
    "start_time": "2022-01-28T22:14:01.921Z"
   },
   {
    "duration": 292,
    "start_time": "2022-01-28T22:18:02.705Z"
   },
   {
    "duration": 547,
    "start_time": "2022-01-28T22:18:13.285Z"
   },
   {
    "duration": 250,
    "start_time": "2022-01-28T22:21:57.710Z"
   },
   {
    "duration": 269,
    "start_time": "2022-01-28T22:22:19.463Z"
   },
   {
    "duration": 249,
    "start_time": "2022-01-28T22:22:36.875Z"
   },
   {
    "duration": 5740,
    "start_time": "2022-01-28T22:23:52.102Z"
   },
   {
    "duration": 791,
    "start_time": "2022-01-28T22:24:45.233Z"
   },
   {
    "duration": 13,
    "start_time": "2022-01-28T22:24:46.027Z"
   },
   {
    "duration": 29,
    "start_time": "2022-01-28T22:24:46.042Z"
   },
   {
    "duration": 40,
    "start_time": "2022-01-28T22:24:46.073Z"
   },
   {
    "duration": 22,
    "start_time": "2022-01-28T22:24:46.115Z"
   },
   {
    "duration": 6,
    "start_time": "2022-01-28T22:24:46.139Z"
   },
   {
    "duration": 32,
    "start_time": "2022-01-28T22:24:46.147Z"
   },
   {
    "duration": 41,
    "start_time": "2022-01-28T22:24:46.182Z"
   },
   {
    "duration": 24,
    "start_time": "2022-01-28T22:24:46.225Z"
   },
   {
    "duration": 23,
    "start_time": "2022-01-28T22:24:46.251Z"
   },
   {
    "duration": 36,
    "start_time": "2022-01-28T22:24:46.276Z"
   },
   {
    "duration": 4978,
    "start_time": "2022-01-28T22:24:46.314Z"
   },
   {
    "duration": 17,
    "start_time": "2022-01-28T22:24:51.294Z"
   },
   {
    "duration": 22,
    "start_time": "2022-01-28T22:24:51.313Z"
   },
   {
    "duration": 22,
    "start_time": "2022-01-28T22:24:51.337Z"
   },
   {
    "duration": 253,
    "start_time": "2022-01-28T22:24:51.361Z"
   },
   {
    "duration": 25,
    "start_time": "2022-01-28T22:24:51.616Z"
   },
   {
    "duration": 123,
    "start_time": "2022-01-28T22:24:51.643Z"
   },
   {
    "duration": 3,
    "start_time": "2022-01-28T22:24:51.768Z"
   },
   {
    "duration": 777,
    "start_time": "2022-01-28T22:42:53.471Z"
   },
   {
    "duration": 10,
    "start_time": "2022-01-28T22:42:54.250Z"
   },
   {
    "duration": 41,
    "start_time": "2022-01-28T22:42:54.262Z"
   },
   {
    "duration": 15,
    "start_time": "2022-01-28T22:42:54.306Z"
   },
   {
    "duration": 8,
    "start_time": "2022-01-28T22:42:54.324Z"
   },
   {
    "duration": 61,
    "start_time": "2022-01-28T22:42:54.334Z"
   },
   {
    "duration": 29,
    "start_time": "2022-01-28T22:42:54.407Z"
   },
   {
    "duration": 34,
    "start_time": "2022-01-28T22:42:54.439Z"
   },
   {
    "duration": 65,
    "start_time": "2022-01-28T22:42:54.476Z"
   },
   {
    "duration": 10,
    "start_time": "2022-01-28T22:42:54.543Z"
   },
   {
    "duration": 5207,
    "start_time": "2022-01-28T22:42:54.554Z"
   },
   {
    "duration": 9,
    "start_time": "2022-01-28T22:42:59.763Z"
   },
   {
    "duration": 12,
    "start_time": "2022-01-28T22:42:59.774Z"
   },
   {
    "duration": 26,
    "start_time": "2022-01-28T22:42:59.788Z"
   },
   {
    "duration": 296,
    "start_time": "2022-01-28T22:42:59.816Z"
   },
   {
    "duration": 29,
    "start_time": "2022-01-28T22:43:00.114Z"
   },
   {
    "duration": 139,
    "start_time": "2022-01-28T22:43:00.145Z"
   },
   {
    "duration": 2,
    "start_time": "2022-01-28T22:43:00.286Z"
   },
   {
    "duration": 50,
    "start_time": "2022-01-28T22:49:24.235Z"
   },
   {
    "duration": 36,
    "start_time": "2022-01-28T22:52:57.919Z"
   },
   {
    "duration": 747,
    "start_time": "2022-01-28T22:53:14.045Z"
   },
   {
    "duration": 18,
    "start_time": "2022-01-28T22:53:14.794Z"
   },
   {
    "duration": 25,
    "start_time": "2022-01-28T22:53:14.814Z"
   },
   {
    "duration": 12,
    "start_time": "2022-01-28T22:53:14.842Z"
   },
   {
    "duration": 17,
    "start_time": "2022-01-28T22:53:14.856Z"
   },
   {
    "duration": 38,
    "start_time": "2022-01-28T22:53:14.875Z"
   },
   {
    "duration": 55,
    "start_time": "2022-01-28T22:53:14.915Z"
   },
   {
    "duration": 52,
    "start_time": "2022-01-28T22:53:14.972Z"
   },
   {
    "duration": 37,
    "start_time": "2022-01-28T22:53:15.027Z"
   },
   {
    "duration": 66,
    "start_time": "2022-01-28T22:53:15.066Z"
   },
   {
    "duration": 11,
    "start_time": "2022-01-28T22:53:15.134Z"
   },
   {
    "duration": 5607,
    "start_time": "2022-01-28T22:53:15.147Z"
   },
   {
    "duration": 9,
    "start_time": "2022-01-28T22:53:20.757Z"
   },
   {
    "duration": 26,
    "start_time": "2022-01-28T22:53:20.768Z"
   },
   {
    "duration": 23,
    "start_time": "2022-01-28T22:53:20.797Z"
   },
   {
    "duration": 280,
    "start_time": "2022-01-28T22:53:20.822Z"
   },
   {
    "duration": 31,
    "start_time": "2022-01-28T22:53:21.108Z"
   },
   {
    "duration": 137,
    "start_time": "2022-01-28T22:53:21.142Z"
   },
   {
    "duration": 3,
    "start_time": "2022-01-28T22:53:21.282Z"
   },
   {
    "duration": 727,
    "start_time": "2022-01-28T22:55:12.865Z"
   },
   {
    "duration": 16,
    "start_time": "2022-01-28T22:55:13.595Z"
   },
   {
    "duration": 30,
    "start_time": "2022-01-28T22:55:13.614Z"
   },
   {
    "duration": 11,
    "start_time": "2022-01-28T22:55:13.647Z"
   },
   {
    "duration": 24,
    "start_time": "2022-01-28T22:55:13.660Z"
   },
   {
    "duration": 326,
    "start_time": "2022-01-28T22:55:13.686Z"
   },
   {
    "duration": -57,
    "start_time": "2022-01-28T22:55:14.072Z"
   },
   {
    "duration": -58,
    "start_time": "2022-01-28T22:55:14.074Z"
   },
   {
    "duration": -60,
    "start_time": "2022-01-28T22:55:14.076Z"
   },
   {
    "duration": -61,
    "start_time": "2022-01-28T22:55:14.078Z"
   },
   {
    "duration": -63,
    "start_time": "2022-01-28T22:55:14.081Z"
   },
   {
    "duration": -64,
    "start_time": "2022-01-28T22:55:14.083Z"
   },
   {
    "duration": -65,
    "start_time": "2022-01-28T22:55:14.085Z"
   },
   {
    "duration": -65,
    "start_time": "2022-01-28T22:55:14.086Z"
   },
   {
    "duration": -66,
    "start_time": "2022-01-28T22:55:14.088Z"
   },
   {
    "duration": -67,
    "start_time": "2022-01-28T22:55:14.090Z"
   },
   {
    "duration": -67,
    "start_time": "2022-01-28T22:55:14.091Z"
   },
   {
    "duration": -68,
    "start_time": "2022-01-28T22:55:14.093Z"
   },
   {
    "duration": -69,
    "start_time": "2022-01-28T22:55:14.095Z"
   },
   {
    "duration": 735,
    "start_time": "2022-01-28T23:01:18.307Z"
   },
   {
    "duration": 10,
    "start_time": "2022-01-28T23:01:19.044Z"
   },
   {
    "duration": 25,
    "start_time": "2022-01-28T23:01:19.056Z"
   },
   {
    "duration": 13,
    "start_time": "2022-01-28T23:01:19.107Z"
   },
   {
    "duration": 735,
    "start_time": "2022-01-28T23:03:42.211Z"
   },
   {
    "duration": 11,
    "start_time": "2022-01-28T23:03:42.948Z"
   },
   {
    "duration": 28,
    "start_time": "2022-01-28T23:03:42.961Z"
   },
   {
    "duration": 28,
    "start_time": "2022-01-28T23:03:42.990Z"
   },
   {
    "duration": 18,
    "start_time": "2022-01-28T23:04:11.348Z"
   },
   {
    "duration": 754,
    "start_time": "2022-01-28T23:05:24.895Z"
   },
   {
    "duration": 10,
    "start_time": "2022-01-28T23:05:25.651Z"
   },
   {
    "duration": 30,
    "start_time": "2022-01-28T23:05:25.663Z"
   },
   {
    "duration": 22,
    "start_time": "2022-01-28T23:05:25.695Z"
   },
   {
    "duration": 25,
    "start_time": "2022-01-28T23:05:25.719Z"
   },
   {
    "duration": 8,
    "start_time": "2022-01-28T23:05:25.745Z"
   },
   {
    "duration": 70,
    "start_time": "2022-01-28T23:05:25.754Z"
   },
   {
    "duration": 27,
    "start_time": "2022-01-28T23:05:25.826Z"
   },
   {
    "duration": 31,
    "start_time": "2022-01-28T23:05:25.856Z"
   },
   {
    "duration": 57,
    "start_time": "2022-01-28T23:05:25.889Z"
   },
   {
    "duration": 10,
    "start_time": "2022-01-28T23:05:25.948Z"
   },
   {
    "duration": 4509,
    "start_time": "2022-01-28T23:05:25.960Z"
   },
   {
    "duration": 9,
    "start_time": "2022-01-28T23:05:30.471Z"
   },
   {
    "duration": 49,
    "start_time": "2022-01-28T23:05:30.481Z"
   },
   {
    "duration": 23,
    "start_time": "2022-01-28T23:05:30.532Z"
   },
   {
    "duration": 267,
    "start_time": "2022-01-28T23:05:30.557Z"
   },
   {
    "duration": 27,
    "start_time": "2022-01-28T23:05:30.826Z"
   },
   {
    "duration": 136,
    "start_time": "2022-01-28T23:05:30.855Z"
   },
   {
    "duration": 3,
    "start_time": "2022-01-28T23:05:30.994Z"
   },
   {
    "duration": 14,
    "start_time": "2022-01-28T23:21:30.761Z"
   },
   {
    "duration": 11,
    "start_time": "2022-01-28T23:22:59.070Z"
   },
   {
    "duration": 12,
    "start_time": "2022-01-28T23:24:10.548Z"
   },
   {
    "duration": 13,
    "start_time": "2022-01-28T23:25:35.201Z"
   },
   {
    "duration": 12,
    "start_time": "2022-01-28T23:26:20.986Z"
   },
   {
    "duration": 16,
    "start_time": "2022-01-28T23:28:33.303Z"
   },
   {
    "duration": 328,
    "start_time": "2022-01-28T23:32:53.675Z"
   },
   {
    "duration": 15,
    "start_time": "2022-01-28T23:33:41.745Z"
   },
   {
    "duration": 13,
    "start_time": "2022-01-28T23:34:03.590Z"
   },
   {
    "duration": 13,
    "start_time": "2022-01-28T23:37:55.793Z"
   },
   {
    "duration": 14,
    "start_time": "2022-01-28T23:38:01.407Z"
   },
   {
    "duration": 14,
    "start_time": "2022-01-28T23:38:06.436Z"
   },
   {
    "duration": 13,
    "start_time": "2022-01-28T23:38:10.398Z"
   },
   {
    "duration": 18,
    "start_time": "2022-01-28T23:38:22.194Z"
   },
   {
    "duration": 12,
    "start_time": "2022-01-28T23:38:26.793Z"
   },
   {
    "duration": 12,
    "start_time": "2022-01-28T23:38:32.539Z"
   },
   {
    "duration": 244,
    "start_time": "2022-01-28T23:47:05.600Z"
   },
   {
    "duration": 247,
    "start_time": "2022-01-28T23:47:17.609Z"
   },
   {
    "duration": 9,
    "start_time": "2022-01-28T23:47:39.936Z"
   },
   {
    "duration": 12,
    "start_time": "2022-01-28T23:48:04.003Z"
   },
   {
    "duration": 248,
    "start_time": "2022-01-28T23:48:34.326Z"
   },
   {
    "duration": 251,
    "start_time": "2022-01-28T23:48:58.616Z"
   },
   {
    "duration": 295,
    "start_time": "2022-01-28T23:50:32.656Z"
   },
   {
    "duration": 253,
    "start_time": "2022-01-28T23:59:42.786Z"
   },
   {
    "duration": 17,
    "start_time": "2022-01-28T23:59:58.032Z"
   },
   {
    "duration": 11,
    "start_time": "2022-01-29T00:00:40.272Z"
   },
   {
    "duration": 253,
    "start_time": "2022-01-29T00:01:12.678Z"
   },
   {
    "duration": 265,
    "start_time": "2022-01-29T00:01:21.969Z"
   },
   {
    "duration": 12,
    "start_time": "2022-01-29T00:01:54.355Z"
   },
   {
    "duration": 98,
    "start_time": "2022-01-29T00:06:37.274Z"
   },
   {
    "duration": 263,
    "start_time": "2022-01-29T00:07:00.900Z"
   },
   {
    "duration": 89,
    "start_time": "2022-01-29T00:09:34.881Z"
   },
   {
    "duration": 19,
    "start_time": "2022-01-29T00:10:20.890Z"
   },
   {
    "duration": 12,
    "start_time": "2022-01-29T00:10:39.049Z"
   },
   {
    "duration": 15,
    "start_time": "2022-01-29T00:11:08.515Z"
   },
   {
    "duration": 332,
    "start_time": "2022-01-29T00:19:35.243Z"
   },
   {
    "duration": 4,
    "start_time": "2022-01-29T00:20:13.476Z"
   },
   {
    "duration": 7,
    "start_time": "2022-01-29T00:20:31.258Z"
   },
   {
    "duration": 9,
    "start_time": "2022-01-29T00:21:00.504Z"
   },
   {
    "duration": 7,
    "start_time": "2022-01-29T00:21:55.755Z"
   },
   {
    "duration": 292,
    "start_time": "2022-01-29T00:22:10.857Z"
   },
   {
    "duration": 764,
    "start_time": "2022-01-29T00:22:17.170Z"
   },
   {
    "duration": 10,
    "start_time": "2022-01-29T00:22:17.936Z"
   },
   {
    "duration": 27,
    "start_time": "2022-01-29T00:22:17.949Z"
   },
   {
    "duration": 30,
    "start_time": "2022-01-29T00:22:17.978Z"
   },
   {
    "duration": 14,
    "start_time": "2022-01-29T00:22:18.010Z"
   },
   {
    "duration": 7,
    "start_time": "2022-01-29T00:22:18.026Z"
   },
   {
    "duration": 72,
    "start_time": "2022-01-29T00:22:18.035Z"
   },
   {
    "duration": 28,
    "start_time": "2022-01-29T00:22:18.110Z"
   },
   {
    "duration": 32,
    "start_time": "2022-01-29T00:22:18.141Z"
   },
   {
    "duration": 64,
    "start_time": "2022-01-29T00:22:18.175Z"
   },
   {
    "duration": 10,
    "start_time": "2022-01-29T00:22:18.241Z"
   },
   {
    "duration": 4496,
    "start_time": "2022-01-29T00:22:18.253Z"
   },
   {
    "duration": 9,
    "start_time": "2022-01-29T00:22:22.751Z"
   },
   {
    "duration": 15,
    "start_time": "2022-01-29T00:22:22.761Z"
   },
   {
    "duration": 9,
    "start_time": "2022-01-29T00:22:22.778Z"
   },
   {
    "duration": 281,
    "start_time": "2022-01-29T00:22:22.789Z"
   },
   {
    "duration": 12,
    "start_time": "2022-01-29T00:22:23.072Z"
   },
   {
    "duration": 6,
    "start_time": "2022-01-29T00:22:23.086Z"
   },
   {
    "duration": 15,
    "start_time": "2022-01-29T00:22:23.094Z"
   },
   {
    "duration": 13,
    "start_time": "2022-01-29T00:22:23.111Z"
   },
   {
    "duration": 25,
    "start_time": "2022-01-29T00:22:53.178Z"
   },
   {
    "duration": 316,
    "start_time": "2022-01-29T00:23:44.642Z"
   },
   {
    "duration": 16,
    "start_time": "2022-01-29T00:24:12.526Z"
   },
   {
    "duration": 9,
    "start_time": "2022-01-29T00:25:15.329Z"
   },
   {
    "duration": 250,
    "start_time": "2022-01-29T00:28:04.555Z"
   },
   {
    "duration": 27,
    "start_time": "2022-01-29T00:28:29.053Z"
   },
   {
    "duration": 6,
    "start_time": "2022-01-29T00:31:08.186Z"
   },
   {
    "duration": 8,
    "start_time": "2022-01-29T00:31:30.191Z"
   },
   {
    "duration": 5,
    "start_time": "2022-01-29T00:32:34.924Z"
   },
   {
    "duration": 6,
    "start_time": "2022-01-29T00:32:45.713Z"
   },
   {
    "duration": 6,
    "start_time": "2022-01-29T00:32:51.792Z"
   },
   {
    "duration": 6,
    "start_time": "2022-01-29T00:33:25.858Z"
   },
   {
    "duration": 7,
    "start_time": "2022-01-29T00:35:30.362Z"
   },
   {
    "duration": 6,
    "start_time": "2022-01-29T00:36:01.491Z"
   },
   {
    "duration": 237,
    "start_time": "2022-01-29T00:43:20.616Z"
   },
   {
    "duration": 37,
    "start_time": "2022-01-29T00:44:58.762Z"
   },
   {
    "duration": 319,
    "start_time": "2022-01-29T00:46:00.397Z"
   },
   {
    "duration": 22,
    "start_time": "2022-01-29T00:48:25.852Z"
   },
   {
    "duration": 16,
    "start_time": "2022-01-29T01:05:28.520Z"
   },
   {
    "duration": 15,
    "start_time": "2022-01-29T01:07:27.308Z"
   },
   {
    "duration": 18,
    "start_time": "2022-01-29T01:08:16.718Z"
   },
   {
    "duration": 254,
    "start_time": "2022-01-29T01:41:39.529Z"
   },
   {
    "duration": 5,
    "start_time": "2022-01-29T01:41:56.103Z"
   },
   {
    "duration": 4,
    "start_time": "2022-01-29T01:42:20.039Z"
   },
   {
    "duration": 4,
    "start_time": "2022-01-29T01:42:36.988Z"
   },
   {
    "duration": 5,
    "start_time": "2022-01-29T01:43:02.423Z"
   },
   {
    "duration": 764,
    "start_time": "2022-01-29T01:49:11.399Z"
   },
   {
    "duration": 10,
    "start_time": "2022-01-29T01:49:12.165Z"
   },
   {
    "duration": 44,
    "start_time": "2022-01-29T01:49:12.177Z"
   },
   {
    "duration": 12,
    "start_time": "2022-01-29T01:49:12.223Z"
   },
   {
    "duration": 14,
    "start_time": "2022-01-29T01:49:12.237Z"
   },
   {
    "duration": 7,
    "start_time": "2022-01-29T01:49:12.253Z"
   },
   {
    "duration": 85,
    "start_time": "2022-01-29T01:49:12.262Z"
   },
   {
    "duration": 27,
    "start_time": "2022-01-29T01:49:12.350Z"
   },
   {
    "duration": 49,
    "start_time": "2022-01-29T01:49:12.379Z"
   },
   {
    "duration": 39,
    "start_time": "2022-01-29T01:49:12.430Z"
   },
   {
    "duration": 6388,
    "start_time": "2022-01-29T01:49:12.470Z"
   },
   {
    "duration": 10,
    "start_time": "2022-01-29T01:49:18.851Z"
   },
   {
    "duration": 7,
    "start_time": "2022-01-29T01:49:18.855Z"
   },
   {
    "duration": 4,
    "start_time": "2022-01-29T01:49:18.859Z"
   },
   {
    "duration": 2,
    "start_time": "2022-01-29T01:49:18.862Z"
   },
   {
    "duration": -1,
    "start_time": "2022-01-29T01:49:18.866Z"
   },
   {
    "duration": -3,
    "start_time": "2022-01-29T01:49:18.869Z"
   },
   {
    "duration": -7,
    "start_time": "2022-01-29T01:49:18.874Z"
   },
   {
    "duration": -15,
    "start_time": "2022-01-29T01:49:18.883Z"
   },
   {
    "duration": -19,
    "start_time": "2022-01-29T01:49:18.888Z"
   },
   {
    "duration": -21,
    "start_time": "2022-01-29T01:49:18.891Z"
   },
   {
    "duration": -22,
    "start_time": "2022-01-29T01:49:18.893Z"
   },
   {
    "duration": -23,
    "start_time": "2022-01-29T01:49:18.895Z"
   },
   {
    "duration": -25,
    "start_time": "2022-01-29T01:49:18.898Z"
   },
   {
    "duration": -26,
    "start_time": "2022-01-29T01:49:18.900Z"
   },
   {
    "duration": -30,
    "start_time": "2022-01-29T01:49:18.905Z"
   },
   {
    "duration": -32,
    "start_time": "2022-01-29T01:49:18.908Z"
   },
   {
    "duration": -33,
    "start_time": "2022-01-29T01:49:18.910Z"
   },
   {
    "duration": -34,
    "start_time": "2022-01-29T01:49:18.912Z"
   },
   {
    "duration": 699,
    "start_time": "2022-01-29T01:50:18.761Z"
   },
   {
    "duration": 10,
    "start_time": "2022-01-29T01:50:19.462Z"
   },
   {
    "duration": 36,
    "start_time": "2022-01-29T01:50:19.474Z"
   },
   {
    "duration": 12,
    "start_time": "2022-01-29T01:50:19.512Z"
   },
   {
    "duration": 14,
    "start_time": "2022-01-29T01:50:19.526Z"
   },
   {
    "duration": 7,
    "start_time": "2022-01-29T01:50:19.542Z"
   },
   {
    "duration": 79,
    "start_time": "2022-01-29T01:50:19.551Z"
   },
   {
    "duration": 27,
    "start_time": "2022-01-29T01:50:19.632Z"
   },
   {
    "duration": 51,
    "start_time": "2022-01-29T01:50:19.662Z"
   },
   {
    "duration": 42,
    "start_time": "2022-01-29T01:50:19.715Z"
   },
   {
    "duration": 3,
    "start_time": "2022-01-29T01:50:19.758Z"
   },
   {
    "duration": 22,
    "start_time": "2022-01-29T01:50:19.762Z"
   },
   {
    "duration": 21,
    "start_time": "2022-01-29T01:50:19.786Z"
   },
   {
    "duration": 20,
    "start_time": "2022-01-29T01:50:19.810Z"
   },
   {
    "duration": 16,
    "start_time": "2022-01-29T01:50:19.831Z"
   },
   {
    "duration": 20,
    "start_time": "2022-01-29T01:50:19.848Z"
   },
   {
    "duration": 15,
    "start_time": "2022-01-29T01:50:19.870Z"
   },
   {
    "duration": 27,
    "start_time": "2022-01-29T01:50:19.887Z"
   },
   {
    "duration": 10,
    "start_time": "2022-01-29T01:50:19.916Z"
   },
   {
    "duration": 4666,
    "start_time": "2022-01-29T01:50:19.928Z"
   },
   {
    "duration": 18,
    "start_time": "2022-01-29T01:50:24.597Z"
   },
   {
    "duration": 16,
    "start_time": "2022-01-29T01:50:24.617Z"
   },
   {
    "duration": 26,
    "start_time": "2022-01-29T01:50:24.635Z"
   },
   {
    "duration": 266,
    "start_time": "2022-01-29T01:50:24.663Z"
   },
   {
    "duration": 24,
    "start_time": "2022-01-29T01:50:24.932Z"
   },
   {
    "duration": 16,
    "start_time": "2022-01-29T01:50:24.958Z"
   },
   {
    "duration": 4,
    "start_time": "2022-01-29T01:50:24.979Z"
   },
   {
    "duration": 3,
    "start_time": "2022-01-29T01:50:25.008Z"
   },
   {
    "duration": 27,
    "start_time": "2022-01-29T01:50:25.013Z"
   },
   {
    "duration": 5019,
    "start_time": "2022-01-29T01:51:58.953Z"
   },
   {
    "duration": 268,
    "start_time": "2022-01-29T01:53:56.413Z"
   },
   {
    "duration": 336,
    "start_time": "2022-01-29T01:54:20.936Z"
   },
   {
    "duration": 4675,
    "start_time": "2022-01-29T01:55:20.670Z"
   },
   {
    "duration": 381,
    "start_time": "2022-01-29T20:17:47.247Z"
   },
   {
    "duration": 955,
    "start_time": "2022-01-29T20:26:03.768Z"
   },
   {
    "duration": 15,
    "start_time": "2022-01-29T20:26:04.726Z"
   },
   {
    "duration": 36,
    "start_time": "2022-01-29T20:26:04.744Z"
   },
   {
    "duration": 51,
    "start_time": "2022-01-29T20:26:04.784Z"
   },
   {
    "duration": 31,
    "start_time": "2022-01-29T20:26:04.838Z"
   },
   {
    "duration": 10,
    "start_time": "2022-01-29T20:26:04.871Z"
   },
   {
    "duration": 97,
    "start_time": "2022-01-29T20:26:04.883Z"
   },
   {
    "duration": 44,
    "start_time": "2022-01-29T20:26:04.984Z"
   },
   {
    "duration": 48,
    "start_time": "2022-01-29T20:26:05.031Z"
   },
   {
    "duration": 74,
    "start_time": "2022-01-29T20:26:05.082Z"
   },
   {
    "duration": 3,
    "start_time": "2022-01-29T20:26:05.159Z"
   },
   {
    "duration": 8,
    "start_time": "2022-01-29T20:26:05.165Z"
   },
   {
    "duration": 8,
    "start_time": "2022-01-29T20:26:05.175Z"
   },
   {
    "duration": 40,
    "start_time": "2022-01-29T20:26:05.186Z"
   },
   {
    "duration": 7,
    "start_time": "2022-01-29T20:26:05.228Z"
   },
   {
    "duration": 10,
    "start_time": "2022-01-29T20:26:05.238Z"
   },
   {
    "duration": 7,
    "start_time": "2022-01-29T20:26:05.250Z"
   },
   {
    "duration": 12,
    "start_time": "2022-01-29T20:26:05.259Z"
   },
   {
    "duration": 54,
    "start_time": "2022-01-29T20:26:05.273Z"
   },
   {
    "duration": 17,
    "start_time": "2022-01-29T20:26:05.329Z"
   },
   {
    "duration": 29,
    "start_time": "2022-01-29T20:26:05.348Z"
   },
   {
    "duration": 12,
    "start_time": "2022-01-29T20:26:05.380Z"
   },
   {
    "duration": 6509,
    "start_time": "2022-01-29T20:26:05.427Z"
   },
   {
    "duration": 10,
    "start_time": "2022-01-29T20:26:11.940Z"
   },
   {
    "duration": 11,
    "start_time": "2022-01-29T20:26:11.953Z"
   },
   {
    "duration": 12,
    "start_time": "2022-01-29T20:26:11.966Z"
   },
   {
    "duration": 458,
    "start_time": "2022-01-29T20:26:11.980Z"
   },
   {
    "duration": 34,
    "start_time": "2022-01-29T20:26:12.441Z"
   },
   {
    "duration": 55,
    "start_time": "2022-01-29T20:26:12.478Z"
   },
   {
    "duration": 3,
    "start_time": "2022-01-29T20:26:12.536Z"
   },
   {
    "duration": 5,
    "start_time": "2022-01-29T20:26:12.541Z"
   },
   {
    "duration": 22,
    "start_time": "2022-01-29T20:26:12.548Z"
   },
   {
    "duration": 6,
    "start_time": "2022-01-29T20:28:56.795Z"
   },
   {
    "duration": 10,
    "start_time": "2022-01-29T20:29:02.229Z"
   },
   {
    "duration": 13,
    "start_time": "2022-01-29T20:40:43.224Z"
   },
   {
    "duration": 44,
    "start_time": "2022-01-29T21:25:23.724Z"
   },
   {
    "duration": 10,
    "start_time": "2022-01-29T21:26:31.058Z"
   },
   {
    "duration": 9,
    "start_time": "2022-01-29T21:34:15.614Z"
   },
   {
    "duration": 387,
    "start_time": "2022-01-29T21:39:13.797Z"
   },
   {
    "duration": 1776,
    "start_time": "2022-01-29T21:42:36.626Z"
   },
   {
    "duration": 658,
    "start_time": "2022-01-29T21:45:16.719Z"
   },
   {
    "duration": 27,
    "start_time": "2022-01-29T21:52:20.961Z"
   },
   {
    "duration": 19,
    "start_time": "2022-01-29T21:53:17.721Z"
   },
   {
    "duration": 1063,
    "start_time": "2022-01-29T21:53:56.803Z"
   },
   {
    "duration": 15,
    "start_time": "2022-01-29T21:53:57.870Z"
   },
   {
    "duration": 78,
    "start_time": "2022-01-29T21:53:57.888Z"
   },
   {
    "duration": 17,
    "start_time": "2022-01-29T21:53:57.969Z"
   },
   {
    "duration": 46,
    "start_time": "2022-01-29T21:53:57.988Z"
   },
   {
    "duration": 11,
    "start_time": "2022-01-29T21:53:58.037Z"
   },
   {
    "duration": 100,
    "start_time": "2022-01-29T21:53:58.051Z"
   },
   {
    "duration": 37,
    "start_time": "2022-01-29T21:53:58.153Z"
   },
   {
    "duration": 71,
    "start_time": "2022-01-29T21:53:58.195Z"
   },
   {
    "duration": 63,
    "start_time": "2022-01-29T21:53:58.269Z"
   },
   {
    "duration": 6,
    "start_time": "2022-01-29T21:53:58.334Z"
   },
   {
    "duration": 20,
    "start_time": "2022-01-29T21:53:58.342Z"
   },
   {
    "duration": 12,
    "start_time": "2022-01-29T21:53:58.365Z"
   },
   {
    "duration": 9,
    "start_time": "2022-01-29T21:53:58.380Z"
   },
   {
    "duration": 37,
    "start_time": "2022-01-29T21:53:58.391Z"
   },
   {
    "duration": 8,
    "start_time": "2022-01-29T21:53:58.431Z"
   },
   {
    "duration": 14,
    "start_time": "2022-01-29T21:53:58.442Z"
   },
   {
    "duration": 25,
    "start_time": "2022-01-29T21:53:58.459Z"
   },
   {
    "duration": 39,
    "start_time": "2022-01-29T21:53:58.486Z"
   },
   {
    "duration": 9,
    "start_time": "2022-01-29T21:53:58.528Z"
   },
   {
    "duration": 20,
    "start_time": "2022-01-29T21:53:58.539Z"
   },
   {
    "duration": 6596,
    "start_time": "2022-01-29T21:53:58.561Z"
   },
   {
    "duration": 10,
    "start_time": "2022-01-29T21:54:05.160Z"
   },
   {
    "duration": 417,
    "start_time": "2022-01-29T21:54:05.172Z"
   },
   {
    "duration": 11,
    "start_time": "2022-01-29T21:54:05.592Z"
   },
   {
    "duration": 686,
    "start_time": "2022-01-29T21:54:05.605Z"
   },
   {
    "duration": 1176,
    "start_time": "2022-01-29T21:54:06.296Z"
   },
   {
    "duration": -32,
    "start_time": "2022-01-29T21:54:07.507Z"
   },
   {
    "duration": -34,
    "start_time": "2022-01-29T21:54:07.510Z"
   },
   {
    "duration": -38,
    "start_time": "2022-01-29T21:54:07.515Z"
   },
   {
    "duration": -38,
    "start_time": "2022-01-29T21:54:07.517Z"
   },
   {
    "duration": 393,
    "start_time": "2022-01-29T21:58:34.658Z"
   },
   {
    "duration": 22,
    "start_time": "2022-01-29T21:58:47.900Z"
   },
   {
    "duration": 21,
    "start_time": "2022-01-29T22:00:14.945Z"
   },
   {
    "duration": 302,
    "start_time": "2022-01-29T22:00:55.050Z"
   },
   {
    "duration": 19,
    "start_time": "2022-01-29T22:01:03.570Z"
   },
   {
    "duration": 1651,
    "start_time": "2022-01-29T22:15:47.625Z"
   },
   {
    "duration": 732,
    "start_time": "2022-01-29T22:20:05.085Z"
   },
   {
    "duration": 742,
    "start_time": "2022-01-29T22:20:13.924Z"
   },
   {
    "duration": 311,
    "start_time": "2022-01-29T22:21:54.756Z"
   },
   {
    "duration": 276,
    "start_time": "2022-01-29T22:22:10.320Z"
   },
   {
    "duration": 37,
    "start_time": "2022-01-29T22:26:59.288Z"
   },
   {
    "duration": 33,
    "start_time": "2022-01-29T22:28:28.385Z"
   },
   {
    "duration": 279,
    "start_time": "2022-01-29T22:30:05.334Z"
   },
   {
    "duration": 32,
    "start_time": "2022-01-29T22:31:35.644Z"
   },
   {
    "duration": 36,
    "start_time": "2022-01-29T22:32:02.775Z"
   },
   {
    "duration": 35,
    "start_time": "2022-01-29T22:32:28.483Z"
   },
   {
    "duration": 34,
    "start_time": "2022-01-29T22:33:28.253Z"
   },
   {
    "duration": 7653,
    "start_time": "2022-01-29T22:34:42.675Z"
   },
   {
    "duration": 296,
    "start_time": "2022-01-29T22:36:24.753Z"
   },
   {
    "duration": 32,
    "start_time": "2022-01-29T22:36:41.468Z"
   },
   {
    "duration": 3,
    "start_time": "2022-01-29T22:40:11.344Z"
   },
   {
    "duration": 33,
    "start_time": "2022-01-29T22:40:17.847Z"
   },
   {
    "duration": 288,
    "start_time": "2022-01-29T22:51:47.399Z"
   },
   {
    "duration": 32,
    "start_time": "2022-01-29T22:51:59.333Z"
   },
   {
    "duration": 277,
    "start_time": "2022-01-29T22:53:33.400Z"
   },
   {
    "duration": 298,
    "start_time": "2022-01-29T22:53:44.545Z"
   },
   {
    "duration": 988,
    "start_time": "2022-01-29T22:54:10.842Z"
   },
   {
    "duration": 958,
    "start_time": "2022-01-29T22:54:33.882Z"
   },
   {
    "duration": 1141,
    "start_time": "2022-01-29T23:10:27.030Z"
   },
   {
    "duration": 930,
    "start_time": "2022-01-29T23:11:42.093Z"
   },
   {
    "duration": 651,
    "start_time": "2022-01-29T23:18:13.968Z"
   },
   {
    "duration": 1008,
    "start_time": "2022-01-29T23:28:57.905Z"
   },
   {
    "duration": 655,
    "start_time": "2022-01-29T23:29:37.753Z"
   },
   {
    "duration": 1000,
    "start_time": "2022-01-29T23:30:57.699Z"
   },
   {
    "duration": 315,
    "start_time": "2022-01-29T23:31:29.217Z"
   },
   {
    "duration": 216,
    "start_time": "2022-01-29T23:31:36.131Z"
   },
   {
    "duration": 186,
    "start_time": "2022-01-29T23:32:01.705Z"
   },
   {
    "duration": 1212,
    "start_time": "2022-01-29T23:32:30.011Z"
   },
   {
    "duration": 923,
    "start_time": "2022-01-29T23:32:49.361Z"
   },
   {
    "duration": 930,
    "start_time": "2022-01-29T23:33:16.511Z"
   },
   {
    "duration": 95,
    "start_time": "2022-01-29T23:43:20.169Z"
   },
   {
    "duration": 308,
    "start_time": "2022-01-30T00:10:25.107Z"
   },
   {
    "duration": 199,
    "start_time": "2022-01-30T00:10:35.496Z"
   },
   {
    "duration": 206,
    "start_time": "2022-01-30T00:10:52.457Z"
   },
   {
    "duration": 295,
    "start_time": "2022-01-30T00:20:47.994Z"
   },
   {
    "duration": 208,
    "start_time": "2022-01-30T00:21:07.597Z"
   },
   {
    "duration": 248,
    "start_time": "2022-01-30T00:21:23.124Z"
   },
   {
    "duration": 909,
    "start_time": "2022-01-30T00:21:39.425Z"
   },
   {
    "duration": 283,
    "start_time": "2022-01-30T00:24:33.488Z"
   },
   {
    "duration": 296,
    "start_time": "2022-01-30T00:24:43.130Z"
   },
   {
    "duration": 921,
    "start_time": "2022-01-30T00:24:50.108Z"
   },
   {
    "duration": 1208,
    "start_time": "2022-01-30T00:31:46.353Z"
   },
   {
    "duration": 930,
    "start_time": "2022-01-30T00:35:33.289Z"
   },
   {
    "duration": 815,
    "start_time": "2022-01-30T00:43:55.172Z"
   },
   {
    "duration": 11,
    "start_time": "2022-01-30T00:43:55.990Z"
   },
   {
    "duration": 36,
    "start_time": "2022-01-30T00:43:56.024Z"
   },
   {
    "duration": 14,
    "start_time": "2022-01-30T00:43:56.062Z"
   },
   {
    "duration": 51,
    "start_time": "2022-01-30T00:43:56.079Z"
   },
   {
    "duration": 9,
    "start_time": "2022-01-30T00:43:56.133Z"
   },
   {
    "duration": 88,
    "start_time": "2022-01-30T00:43:56.144Z"
   },
   {
    "duration": 33,
    "start_time": "2022-01-30T00:43:56.236Z"
   },
   {
    "duration": 60,
    "start_time": "2022-01-30T00:43:56.272Z"
   },
   {
    "duration": 46,
    "start_time": "2022-01-30T00:43:56.334Z"
   },
   {
    "duration": 6,
    "start_time": "2022-01-30T00:43:56.382Z"
   },
   {
    "duration": 39,
    "start_time": "2022-01-30T00:43:56.390Z"
   },
   {
    "duration": 11,
    "start_time": "2022-01-30T00:43:56.431Z"
   },
   {
    "duration": 7,
    "start_time": "2022-01-30T00:43:56.444Z"
   },
   {
    "duration": 12,
    "start_time": "2022-01-30T00:43:56.453Z"
   },
   {
    "duration": 9,
    "start_time": "2022-01-30T00:43:56.467Z"
   },
   {
    "duration": 47,
    "start_time": "2022-01-30T00:43:56.478Z"
   },
   {
    "duration": 12,
    "start_time": "2022-01-30T00:43:56.527Z"
   },
   {
    "duration": 10,
    "start_time": "2022-01-30T00:43:56.541Z"
   },
   {
    "duration": 13,
    "start_time": "2022-01-30T00:43:56.553Z"
   },
   {
    "duration": 17,
    "start_time": "2022-01-30T00:43:56.568Z"
   },
   {
    "duration": 6015,
    "start_time": "2022-01-30T00:43:56.588Z"
   },
   {
    "duration": 19,
    "start_time": "2022-01-30T00:44:02.610Z"
   },
   {
    "duration": 408,
    "start_time": "2022-01-30T00:44:02.633Z"
   },
   {
    "duration": 12,
    "start_time": "2022-01-30T00:44:03.044Z"
   },
   {
    "duration": 691,
    "start_time": "2022-01-30T00:44:03.059Z"
   },
   {
    "duration": 38,
    "start_time": "2022-01-30T00:44:03.754Z"
   },
   {
    "duration": 1335,
    "start_time": "2022-01-30T00:44:03.795Z"
   },
   {
    "duration": 35,
    "start_time": "2022-01-30T00:44:05.134Z"
   },
   {
    "duration": 958,
    "start_time": "2022-01-30T00:44:05.171Z"
   },
   {
    "duration": 32,
    "start_time": "2022-01-30T00:44:06.132Z"
   },
   {
    "duration": 937,
    "start_time": "2022-01-30T00:44:06.167Z"
   },
   {
    "duration": 44,
    "start_time": "2022-01-30T00:44:07.106Z"
   },
   {
    "duration": 929,
    "start_time": "2022-01-30T00:44:07.153Z"
   },
   {
    "duration": 36,
    "start_time": "2022-01-30T00:55:36.637Z"
   },
   {
    "duration": 32,
    "start_time": "2022-01-30T00:55:53.817Z"
   },
   {
    "duration": 698,
    "start_time": "2022-01-30T17:50:13.442Z"
   },
   {
    "duration": 9,
    "start_time": "2022-01-30T17:50:14.142Z"
   },
   {
    "duration": 25,
    "start_time": "2022-01-30T17:50:14.153Z"
   },
   {
    "duration": 24,
    "start_time": "2022-01-30T17:50:14.180Z"
   },
   {
    "duration": 14,
    "start_time": "2022-01-30T17:50:14.205Z"
   },
   {
    "duration": 7,
    "start_time": "2022-01-30T17:50:14.220Z"
   },
   {
    "duration": 77,
    "start_time": "2022-01-30T17:50:14.229Z"
   },
   {
    "duration": 25,
    "start_time": "2022-01-30T17:50:14.308Z"
   },
   {
    "duration": 30,
    "start_time": "2022-01-30T17:50:14.336Z"
   },
   {
    "duration": 62,
    "start_time": "2022-01-30T17:50:14.368Z"
   },
   {
    "duration": 5,
    "start_time": "2022-01-30T17:50:14.432Z"
   },
   {
    "duration": 12,
    "start_time": "2022-01-30T17:50:14.438Z"
   },
   {
    "duration": 10,
    "start_time": "2022-01-30T17:50:14.451Z"
   },
   {
    "duration": 5,
    "start_time": "2022-01-30T17:50:14.463Z"
   },
   {
    "duration": 30,
    "start_time": "2022-01-30T17:50:14.469Z"
   },
   {
    "duration": 5,
    "start_time": "2022-01-30T17:50:14.501Z"
   },
   {
    "duration": 8,
    "start_time": "2022-01-30T17:50:14.507Z"
   },
   {
    "duration": 10,
    "start_time": "2022-01-30T17:50:14.517Z"
   },
   {
    "duration": 6,
    "start_time": "2022-01-30T17:50:14.528Z"
   },
   {
    "duration": 7,
    "start_time": "2022-01-30T17:50:14.536Z"
   },
   {
    "duration": 9,
    "start_time": "2022-01-30T17:50:14.544Z"
   },
   {
    "duration": 4327,
    "start_time": "2022-01-30T17:50:14.554Z"
   },
   {
    "duration": 17,
    "start_time": "2022-01-30T17:50:18.882Z"
   },
   {
    "duration": 275,
    "start_time": "2022-01-30T17:50:18.901Z"
   },
   {
    "duration": 8,
    "start_time": "2022-01-30T17:50:19.178Z"
   },
   {
    "duration": 447,
    "start_time": "2022-01-30T17:50:19.188Z"
   },
   {
    "duration": 27,
    "start_time": "2022-01-30T17:50:19.639Z"
   },
   {
    "duration": 1032,
    "start_time": "2022-01-30T17:50:19.667Z"
   },
   {
    "duration": 24,
    "start_time": "2022-01-30T17:50:20.701Z"
   },
   {
    "duration": 681,
    "start_time": "2022-01-30T17:50:20.727Z"
   },
   {
    "duration": 21,
    "start_time": "2022-01-30T17:50:21.410Z"
   },
   {
    "duration": 676,
    "start_time": "2022-01-30T17:50:21.433Z"
   },
   {
    "duration": 23,
    "start_time": "2022-01-30T17:50:22.110Z"
   },
   {
    "duration": 685,
    "start_time": "2022-01-30T17:50:22.135Z"
   },
   {
    "duration": 977,
    "start_time": "2022-02-08T13:55:20.414Z"
   },
   {
    "duration": 12,
    "start_time": "2022-02-08T13:55:21.393Z"
   },
   {
    "duration": 58,
    "start_time": "2022-02-08T13:55:21.408Z"
   },
   {
    "duration": 14,
    "start_time": "2022-02-08T13:55:21.469Z"
   },
   {
    "duration": 22,
    "start_time": "2022-02-08T13:55:21.485Z"
   },
   {
    "duration": 9,
    "start_time": "2022-02-08T13:55:21.510Z"
   },
   {
    "duration": 100,
    "start_time": "2022-02-08T13:55:21.521Z"
   },
   {
    "duration": 50,
    "start_time": "2022-02-08T13:55:21.625Z"
   },
   {
    "duration": 44,
    "start_time": "2022-02-08T13:55:21.679Z"
   },
   {
    "duration": 67,
    "start_time": "2022-02-08T13:55:21.725Z"
   },
   {
    "duration": 5,
    "start_time": "2022-02-08T13:55:21.795Z"
   },
   {
    "duration": 8,
    "start_time": "2022-02-08T13:55:21.802Z"
   },
   {
    "duration": 10,
    "start_time": "2022-02-08T13:55:21.812Z"
   },
   {
    "duration": 40,
    "start_time": "2022-02-08T13:55:21.824Z"
   },
   {
    "duration": 6,
    "start_time": "2022-02-08T13:55:21.867Z"
   },
   {
    "duration": 6,
    "start_time": "2022-02-08T13:55:21.876Z"
   },
   {
    "duration": 12,
    "start_time": "2022-02-08T13:55:21.884Z"
   },
   {
    "duration": 63,
    "start_time": "2022-02-08T13:55:21.899Z"
   },
   {
    "duration": 8,
    "start_time": "2022-02-08T13:55:21.965Z"
   },
   {
    "duration": 8,
    "start_time": "2022-02-08T13:55:21.975Z"
   },
   {
    "duration": 12,
    "start_time": "2022-02-08T13:55:21.985Z"
   },
   {
    "duration": 6115,
    "start_time": "2022-02-08T13:55:21.999Z"
   },
   {
    "duration": 10,
    "start_time": "2022-02-08T13:55:28.121Z"
   },
   {
    "duration": 459,
    "start_time": "2022-02-08T13:55:28.134Z"
   },
   {
    "duration": 10,
    "start_time": "2022-02-08T13:55:28.596Z"
   },
   {
    "duration": 693,
    "start_time": "2022-02-08T13:55:28.609Z"
   },
   {
    "duration": 36,
    "start_time": "2022-02-08T13:55:29.304Z"
   },
   {
    "duration": 1575,
    "start_time": "2022-02-08T13:55:29.342Z"
   },
   {
    "duration": 53,
    "start_time": "2022-02-08T13:55:30.920Z"
   },
   {
    "duration": 985,
    "start_time": "2022-02-08T13:55:30.976Z"
   },
   {
    "duration": 33,
    "start_time": "2022-02-08T13:55:31.964Z"
   },
   {
    "duration": 1094,
    "start_time": "2022-02-08T13:55:31.999Z"
   },
   {
    "duration": 34,
    "start_time": "2022-02-08T13:55:33.095Z"
   },
   {
    "duration": 963,
    "start_time": "2022-02-08T13:55:33.131Z"
   },
   {
    "duration": 10,
    "start_time": "2022-02-08T14:00:31.508Z"
   },
   {
    "duration": 19,
    "start_time": "2022-02-08T14:02:03.672Z"
   },
   {
    "duration": 385,
    "start_time": "2022-02-08T20:16:55.218Z"
   },
   {
    "duration": 1254,
    "start_time": "2022-02-08T20:17:42.680Z"
   },
   {
    "duration": 30,
    "start_time": "2022-02-08T20:17:43.936Z"
   },
   {
    "duration": 48,
    "start_time": "2022-02-08T20:17:43.975Z"
   },
   {
    "duration": 39,
    "start_time": "2022-02-08T20:17:44.027Z"
   },
   {
    "duration": 23,
    "start_time": "2022-02-08T20:17:44.069Z"
   },
   {
    "duration": 13,
    "start_time": "2022-02-08T20:17:44.096Z"
   },
   {
    "duration": 106,
    "start_time": "2022-02-08T20:17:44.111Z"
   },
   {
    "duration": 63,
    "start_time": "2022-02-08T20:17:44.222Z"
   },
   {
    "duration": 65,
    "start_time": "2022-02-08T20:17:44.288Z"
   },
   {
    "duration": 55,
    "start_time": "2022-02-08T20:17:44.356Z"
   },
   {
    "duration": 6,
    "start_time": "2022-02-08T20:17:44.414Z"
   },
   {
    "duration": 32,
    "start_time": "2022-02-08T20:17:44.452Z"
   },
   {
    "duration": 19,
    "start_time": "2022-02-08T20:17:44.487Z"
   },
   {
    "duration": 9,
    "start_time": "2022-02-08T20:17:44.510Z"
   },
   {
    "duration": 16,
    "start_time": "2022-02-08T20:17:44.522Z"
   },
   {
    "duration": 36,
    "start_time": "2022-02-08T20:17:44.541Z"
   },
   {
    "duration": 13,
    "start_time": "2022-02-08T20:17:44.581Z"
   },
   {
    "duration": 34,
    "start_time": "2022-02-08T20:17:44.597Z"
   },
   {
    "duration": 20,
    "start_time": "2022-02-08T20:17:44.634Z"
   },
   {
    "duration": 34,
    "start_time": "2022-02-08T20:17:44.657Z"
   },
   {
    "duration": 20,
    "start_time": "2022-02-08T20:17:44.694Z"
   },
   {
    "duration": 8312,
    "start_time": "2022-02-08T20:17:44.718Z"
   },
   {
    "duration": 19,
    "start_time": "2022-02-08T20:17:53.038Z"
   },
   {
    "duration": 828,
    "start_time": "2022-02-08T20:17:53.062Z"
   },
   {
    "duration": 11,
    "start_time": "2022-02-08T20:17:53.893Z"
   },
   {
    "duration": 862,
    "start_time": "2022-02-08T20:17:53.907Z"
   },
   {
    "duration": 539,
    "start_time": "2022-02-08T20:17:54.773Z"
   },
   {
    "duration": -33,
    "start_time": "2022-02-08T20:17:55.349Z"
   },
   {
    "duration": -33,
    "start_time": "2022-02-08T20:17:55.352Z"
   },
   {
    "duration": -35,
    "start_time": "2022-02-08T20:17:55.356Z"
   },
   {
    "duration": -34,
    "start_time": "2022-02-08T20:17:55.358Z"
   },
   {
    "duration": -34,
    "start_time": "2022-02-08T20:17:55.360Z"
   },
   {
    "duration": -42,
    "start_time": "2022-02-08T20:17:55.371Z"
   },
   {
    "duration": -42,
    "start_time": "2022-02-08T20:17:55.373Z"
   },
   {
    "duration": -42,
    "start_time": "2022-02-08T20:17:55.375Z"
   },
   {
    "duration": 1144,
    "start_time": "2022-02-08T20:19:15.780Z"
   },
   {
    "duration": 39,
    "start_time": "2022-02-08T20:19:16.927Z"
   },
   {
    "duration": 44,
    "start_time": "2022-02-08T20:19:16.970Z"
   },
   {
    "duration": 30,
    "start_time": "2022-02-08T20:19:17.018Z"
   },
   {
    "duration": 32,
    "start_time": "2022-02-08T20:19:17.051Z"
   },
   {
    "duration": 14,
    "start_time": "2022-02-08T20:19:17.090Z"
   },
   {
    "duration": 104,
    "start_time": "2022-02-08T20:19:17.106Z"
   },
   {
    "duration": 175,
    "start_time": "2022-02-08T20:19:17.216Z"
   },
   {
    "duration": 58,
    "start_time": "2022-02-08T20:19:17.396Z"
   },
   {
    "duration": 50,
    "start_time": "2022-02-08T20:19:17.457Z"
   },
   {
    "duration": 8,
    "start_time": "2022-02-08T20:19:17.510Z"
   },
   {
    "duration": 9,
    "start_time": "2022-02-08T20:19:17.549Z"
   },
   {
    "duration": 31,
    "start_time": "2022-02-08T20:19:17.560Z"
   },
   {
    "duration": 7,
    "start_time": "2022-02-08T20:19:17.594Z"
   },
   {
    "duration": 10,
    "start_time": "2022-02-08T20:19:17.604Z"
   },
   {
    "duration": 7,
    "start_time": "2022-02-08T20:19:17.616Z"
   },
   {
    "duration": 15,
    "start_time": "2022-02-08T20:19:17.656Z"
   },
   {
    "duration": 12,
    "start_time": "2022-02-08T20:19:17.674Z"
   },
   {
    "duration": 12,
    "start_time": "2022-02-08T20:19:17.689Z"
   },
   {
    "duration": 14,
    "start_time": "2022-02-08T20:19:17.703Z"
   },
   {
    "duration": 42,
    "start_time": "2022-02-08T20:19:17.719Z"
   },
   {
    "duration": 8436,
    "start_time": "2022-02-08T20:19:17.767Z"
   },
   {
    "duration": 14,
    "start_time": "2022-02-08T20:19:26.207Z"
   },
   {
    "duration": 834,
    "start_time": "2022-02-08T20:19:26.224Z"
   },
   {
    "duration": 16,
    "start_time": "2022-02-08T20:19:27.062Z"
   },
   {
    "duration": 845,
    "start_time": "2022-02-08T20:19:27.082Z"
   },
   {
    "duration": 56,
    "start_time": "2022-02-08T20:19:27.933Z"
   },
   {
    "duration": 1505,
    "start_time": "2022-02-08T20:19:27.992Z"
   },
   {
    "duration": 29,
    "start_time": "2022-02-08T20:19:29.500Z"
   },
   {
    "duration": 69,
    "start_time": "2022-02-08T20:19:29.532Z"
   },
   {
    "duration": 1162,
    "start_time": "2022-02-08T20:19:29.604Z"
   },
   {
    "duration": 34,
    "start_time": "2022-02-08T20:19:30.772Z"
   },
   {
    "duration": 1049,
    "start_time": "2022-02-08T20:19:30.808Z"
   },
   {
    "duration": 39,
    "start_time": "2022-02-08T20:19:31.862Z"
   },
   {
    "duration": 1056,
    "start_time": "2022-02-08T20:19:31.904Z"
   },
   {
    "duration": 48,
    "start_time": "2022-02-08T21:59:23.309Z"
   },
   {
    "duration": 38,
    "start_time": "2022-02-08T21:59:38.430Z"
   },
   {
    "duration": 9195,
    "start_time": "2022-02-08T22:07:10.263Z"
   },
   {
    "duration": 22,
    "start_time": "2022-02-08T22:07:37.857Z"
   },
   {
    "duration": 856,
    "start_time": "2022-02-08T22:16:51.694Z"
   },
   {
    "duration": 12,
    "start_time": "2022-02-08T22:16:52.552Z"
   },
   {
    "duration": 32,
    "start_time": "2022-02-08T22:16:52.567Z"
   },
   {
    "duration": 397,
    "start_time": "2022-02-08T22:17:17.093Z"
   },
   {
    "duration": 32,
    "start_time": "2022-02-08T22:17:26.482Z"
   },
   {
    "duration": 14,
    "start_time": "2022-02-08T22:17:56.259Z"
   },
   {
    "duration": 875,
    "start_time": "2022-02-08T22:18:13.149Z"
   },
   {
    "duration": 26,
    "start_time": "2022-02-08T22:18:14.027Z"
   },
   {
    "duration": 37,
    "start_time": "2022-02-08T22:18:14.056Z"
   },
   {
    "duration": 14,
    "start_time": "2022-02-08T22:18:24.027Z"
   },
   {
    "duration": 34,
    "start_time": "2022-02-08T22:18:37.206Z"
   },
   {
    "duration": 13,
    "start_time": "2022-02-08T22:18:41.973Z"
   },
   {
    "duration": 876,
    "start_time": "2022-02-08T22:21:11.155Z"
   },
   {
    "duration": 22,
    "start_time": "2022-02-08T22:21:12.034Z"
   },
   {
    "duration": 40,
    "start_time": "2022-02-08T22:21:12.059Z"
   },
   {
    "duration": 367,
    "start_time": "2022-02-08T22:21:21.270Z"
   },
   {
    "duration": 834,
    "start_time": "2022-02-08T22:28:19.062Z"
   },
   {
    "duration": 14,
    "start_time": "2022-02-08T22:28:19.899Z"
   },
   {
    "duration": 61,
    "start_time": "2022-02-08T22:28:19.917Z"
   },
   {
    "duration": 376,
    "start_time": "2022-02-08T22:28:24.859Z"
   },
   {
    "duration": 283,
    "start_time": "2022-02-08T22:29:08.090Z"
   },
   {
    "duration": 881,
    "start_time": "2022-02-08T22:53:05.828Z"
   },
   {
    "duration": 15,
    "start_time": "2022-02-08T22:53:35.053Z"
   },
   {
    "duration": 663,
    "start_time": "2022-02-08T22:56:49.529Z"
   },
   {
    "duration": 17,
    "start_time": "2022-02-08T22:56:54.283Z"
   },
   {
    "duration": 844,
    "start_time": "2022-02-08T23:06:34.861Z"
   },
   {
    "duration": 11,
    "start_time": "2022-02-08T23:06:35.708Z"
   },
   {
    "duration": 52,
    "start_time": "2022-02-08T23:06:35.723Z"
   },
   {
    "duration": 651,
    "start_time": "2022-02-08T23:06:39.341Z"
   },
   {
    "duration": 13,
    "start_time": "2022-02-08T23:06:46.865Z"
   },
   {
    "duration": 117,
    "start_time": "2022-02-08T23:07:26.900Z"
   },
   {
    "duration": 15,
    "start_time": "2022-02-08T23:07:35.120Z"
   },
   {
    "duration": 397,
    "start_time": "2022-02-08T23:08:55.403Z"
   },
   {
    "duration": 17,
    "start_time": "2022-02-08T23:09:06.535Z"
   },
   {
    "duration": 284,
    "start_time": "2022-02-08T23:09:13.932Z"
   },
   {
    "duration": 14,
    "start_time": "2022-02-08T23:09:54.217Z"
   },
   {
    "duration": 300,
    "start_time": "2022-02-08T23:10:19.202Z"
   },
   {
    "duration": 24,
    "start_time": "2022-02-08T23:10:39.799Z"
   },
   {
    "duration": 39,
    "start_time": "2022-02-08T23:11:09.752Z"
   },
   {
    "duration": 64,
    "start_time": "2022-02-08T23:13:08.256Z"
   },
   {
    "duration": 363,
    "start_time": "2022-02-08T23:13:12.369Z"
   },
   {
    "duration": 415,
    "start_time": "2022-02-08T23:14:03.695Z"
   },
   {
    "duration": 372,
    "start_time": "2022-02-08T23:15:44.740Z"
   },
   {
    "duration": 475,
    "start_time": "2022-02-08T23:16:20.706Z"
   },
   {
    "duration": 469,
    "start_time": "2022-02-08T23:18:08.667Z"
   },
   {
    "duration": 43,
    "start_time": "2022-02-08T23:19:15.321Z"
   },
   {
    "duration": 867,
    "start_time": "2022-02-08T23:21:33.388Z"
   },
   {
    "duration": 12,
    "start_time": "2022-02-08T23:21:34.258Z"
   },
   {
    "duration": 32,
    "start_time": "2022-02-08T23:21:34.273Z"
   },
   {
    "duration": 703,
    "start_time": "2022-02-08T23:21:34.307Z"
   },
   {
    "duration": 14,
    "start_time": "2022-02-08T23:21:35.012Z"
   },
   {
    "duration": 35,
    "start_time": "2022-02-08T23:21:35.028Z"
   },
   {
    "duration": 414,
    "start_time": "2022-02-08T23:21:35.066Z"
   },
   {
    "duration": -30,
    "start_time": "2022-02-08T23:21:35.516Z"
   },
   {
    "duration": -32,
    "start_time": "2022-02-08T23:21:35.520Z"
   },
   {
    "duration": -34,
    "start_time": "2022-02-08T23:21:35.525Z"
   },
   {
    "duration": -35,
    "start_time": "2022-02-08T23:21:35.528Z"
   },
   {
    "duration": -37,
    "start_time": "2022-02-08T23:21:35.532Z"
   },
   {
    "duration": -38,
    "start_time": "2022-02-08T23:21:35.536Z"
   },
   {
    "duration": -38,
    "start_time": "2022-02-08T23:21:35.539Z"
   },
   {
    "duration": -41,
    "start_time": "2022-02-08T23:21:35.543Z"
   },
   {
    "duration": -43,
    "start_time": "2022-02-08T23:21:35.548Z"
   },
   {
    "duration": -44,
    "start_time": "2022-02-08T23:21:35.551Z"
   },
   {
    "duration": -46,
    "start_time": "2022-02-08T23:21:35.555Z"
   },
   {
    "duration": -47,
    "start_time": "2022-02-08T23:21:35.559Z"
   },
   {
    "duration": -48,
    "start_time": "2022-02-08T23:21:35.562Z"
   },
   {
    "duration": -48,
    "start_time": "2022-02-08T23:21:35.564Z"
   },
   {
    "duration": -49,
    "start_time": "2022-02-08T23:21:35.568Z"
   },
   {
    "duration": -22,
    "start_time": "2022-02-08T23:21:35.571Z"
   },
   {
    "duration": -24,
    "start_time": "2022-02-08T23:21:35.576Z"
   },
   {
    "duration": -24,
    "start_time": "2022-02-08T23:21:35.578Z"
   },
   {
    "duration": -23,
    "start_time": "2022-02-08T23:21:35.580Z"
   },
   {
    "duration": -24,
    "start_time": "2022-02-08T23:21:35.583Z"
   },
   {
    "duration": -32,
    "start_time": "2022-02-08T23:21:35.593Z"
   },
   {
    "duration": -32,
    "start_time": "2022-02-08T23:21:35.596Z"
   },
   {
    "duration": -34,
    "start_time": "2022-02-08T23:21:35.600Z"
   },
   {
    "duration": -35,
    "start_time": "2022-02-08T23:21:35.603Z"
   },
   {
    "duration": -38,
    "start_time": "2022-02-08T23:21:35.608Z"
   },
   {
    "duration": -38,
    "start_time": "2022-02-08T23:21:35.611Z"
   },
   {
    "duration": -39,
    "start_time": "2022-02-08T23:21:35.614Z"
   },
   {
    "duration": -41,
    "start_time": "2022-02-08T23:21:35.618Z"
   },
   {
    "duration": -43,
    "start_time": "2022-02-08T23:21:35.621Z"
   },
   {
    "duration": 652,
    "start_time": "2022-02-08T23:25:25.776Z"
   },
   {
    "duration": 827,
    "start_time": "2022-02-08T23:25:35.881Z"
   },
   {
    "duration": 11,
    "start_time": "2022-02-08T23:25:36.711Z"
   },
   {
    "duration": 49,
    "start_time": "2022-02-08T23:25:36.725Z"
   },
   {
    "duration": 635,
    "start_time": "2022-02-08T23:25:42.803Z"
   },
   {
    "duration": 664,
    "start_time": "2022-02-08T23:25:46.400Z"
   },
   {
    "duration": 683,
    "start_time": "2022-02-08T23:26:22.194Z"
   },
   {
    "duration": 727,
    "start_time": "2022-02-08T23:27:18.658Z"
   },
   {
    "duration": -5,
    "start_time": "2022-02-08T23:51:56.428Z"
   },
   {
    "duration": 861,
    "start_time": "2022-02-08T23:53:06.990Z"
   },
   {
    "duration": 14,
    "start_time": "2022-02-08T23:53:07.854Z"
   },
   {
    "duration": 36,
    "start_time": "2022-02-08T23:53:07.872Z"
   },
   {
    "duration": 37,
    "start_time": "2022-02-08T23:53:07.911Z"
   },
   {
    "duration": 16,
    "start_time": "2022-02-08T23:53:07.952Z"
   },
   {
    "duration": 21,
    "start_time": "2022-02-08T23:53:07.971Z"
   },
   {
    "duration": 56,
    "start_time": "2022-02-08T23:53:07.995Z"
   },
   {
    "duration": 69,
    "start_time": "2022-02-08T23:53:08.057Z"
   },
   {
    "duration": 35,
    "start_time": "2022-02-08T23:53:08.148Z"
   },
   {
    "duration": 72,
    "start_time": "2022-02-08T23:53:08.186Z"
   },
   {
    "duration": 52,
    "start_time": "2022-02-08T23:53:08.261Z"
   },
   {
    "duration": 35,
    "start_time": "2022-02-08T23:53:08.317Z"
   },
   {
    "duration": 12,
    "start_time": "2022-02-08T23:53:08.355Z"
   },
   {
    "duration": 12,
    "start_time": "2022-02-08T23:53:08.369Z"
   },
   {
    "duration": 7,
    "start_time": "2022-02-08T23:53:08.383Z"
   },
   {
    "duration": 8,
    "start_time": "2022-02-08T23:53:08.392Z"
   },
   {
    "duration": 51,
    "start_time": "2022-02-08T23:53:08.402Z"
   },
   {
    "duration": 11,
    "start_time": "2022-02-08T23:53:08.456Z"
   },
   {
    "duration": 13,
    "start_time": "2022-02-08T23:53:08.469Z"
   },
   {
    "duration": 6,
    "start_time": "2022-02-08T23:53:08.485Z"
   },
   {
    "duration": 11,
    "start_time": "2022-02-08T23:53:08.493Z"
   },
   {
    "duration": 55,
    "start_time": "2022-02-08T23:53:08.506Z"
   },
   {
    "duration": 6143,
    "start_time": "2022-02-08T23:53:08.568Z"
   },
   {
    "duration": 10,
    "start_time": "2022-02-08T23:53:14.714Z"
   },
   {
    "duration": 400,
    "start_time": "2022-02-08T23:53:14.727Z"
   },
   {
    "duration": 23,
    "start_time": "2022-02-08T23:53:15.129Z"
   },
   {
    "duration": 632,
    "start_time": "2022-02-08T23:53:15.154Z"
   },
   {
    "duration": 9194,
    "start_time": "2022-02-08T23:53:15.789Z"
   },
   {
    "duration": -143,
    "start_time": "2022-02-08T23:53:25.129Z"
   },
   {
    "duration": -147,
    "start_time": "2022-02-08T23:53:25.134Z"
   },
   {
    "duration": -149,
    "start_time": "2022-02-08T23:53:25.138Z"
   },
   {
    "duration": -152,
    "start_time": "2022-02-08T23:53:25.143Z"
   },
   {
    "duration": -155,
    "start_time": "2022-02-08T23:53:25.147Z"
   },
   {
    "duration": -157,
    "start_time": "2022-02-08T23:53:25.151Z"
   },
   {
    "duration": -159,
    "start_time": "2022-02-08T23:53:25.155Z"
   },
   {
    "duration": -163,
    "start_time": "2022-02-08T23:53:25.160Z"
   },
   {
    "duration": -163,
    "start_time": "2022-02-08T23:53:25.162Z"
   },
   {
    "duration": 506,
    "start_time": "2022-02-08T23:54:43.081Z"
   },
   {
    "duration": 494,
    "start_time": "2022-02-08T23:55:54.918Z"
   },
   {
    "duration": 57,
    "start_time": "2022-02-08T23:58:33.260Z"
   },
   {
    "duration": 53,
    "start_time": "2022-02-08T23:59:34.783Z"
   },
   {
    "duration": 65,
    "start_time": "2022-02-08T23:59:57.924Z"
   },
   {
    "duration": 931,
    "start_time": "2022-02-09T00:04:50.290Z"
   },
   {
    "duration": 25,
    "start_time": "2022-02-09T00:04:51.224Z"
   },
   {
    "duration": 35,
    "start_time": "2022-02-09T00:04:51.257Z"
   },
   {
    "duration": 3,
    "start_time": "2022-02-09T00:04:51.295Z"
   },
   {
    "duration": 54,
    "start_time": "2022-02-09T00:04:51.302Z"
   },
   {
    "duration": 26,
    "start_time": "2022-02-09T00:04:51.359Z"
   },
   {
    "duration": 9,
    "start_time": "2022-02-09T00:04:51.388Z"
   },
   {
    "duration": 99,
    "start_time": "2022-02-09T00:04:51.400Z"
   },
   {
    "duration": 48,
    "start_time": "2022-02-09T00:04:51.502Z"
   },
   {
    "duration": 42,
    "start_time": "2022-02-09T00:04:51.552Z"
   },
   {
    "duration": 67,
    "start_time": "2022-02-09T00:04:51.596Z"
   },
   {
    "duration": 6,
    "start_time": "2022-02-09T00:04:51.665Z"
   },
   {
    "duration": 13,
    "start_time": "2022-02-09T00:04:51.673Z"
   },
   {
    "duration": 11,
    "start_time": "2022-02-09T00:04:51.689Z"
   },
   {
    "duration": 8,
    "start_time": "2022-02-09T00:04:51.702Z"
   },
   {
    "duration": 39,
    "start_time": "2022-02-09T00:04:51.712Z"
   },
   {
    "duration": 16,
    "start_time": "2022-02-09T00:04:51.753Z"
   },
   {
    "duration": 17,
    "start_time": "2022-02-09T00:04:51.772Z"
   },
   {
    "duration": 21,
    "start_time": "2022-02-09T00:04:51.792Z"
   },
   {
    "duration": 33,
    "start_time": "2022-02-09T00:04:51.815Z"
   },
   {
    "duration": 8,
    "start_time": "2022-02-09T00:04:51.851Z"
   },
   {
    "duration": 17,
    "start_time": "2022-02-09T00:04:51.862Z"
   },
   {
    "duration": 6009,
    "start_time": "2022-02-09T00:04:51.881Z"
   },
   {
    "duration": 9,
    "start_time": "2022-02-09T00:04:57.893Z"
   },
   {
    "duration": 397,
    "start_time": "2022-02-09T00:04:57.907Z"
   },
   {
    "duration": 8,
    "start_time": "2022-02-09T00:04:58.307Z"
   },
   {
    "duration": 639,
    "start_time": "2022-02-09T00:04:58.318Z"
   },
   {
    "duration": 504,
    "start_time": "2022-02-09T00:04:58.959Z"
   },
   {
    "duration": 84,
    "start_time": "2022-02-09T00:04:59.466Z"
   },
   {
    "duration": 36,
    "start_time": "2022-02-09T00:04:59.552Z"
   },
   {
    "duration": 1355,
    "start_time": "2022-02-09T00:04:59.590Z"
   },
   {
    "duration": 21,
    "start_time": "2022-02-09T00:05:00.949Z"
   },
   {
    "duration": 43,
    "start_time": "2022-02-09T00:05:00.973Z"
   },
   {
    "duration": 980,
    "start_time": "2022-02-09T00:05:01.019Z"
   },
   {
    "duration": 56,
    "start_time": "2022-02-09T00:05:02.002Z"
   },
   {
    "duration": 948,
    "start_time": "2022-02-09T00:05:02.061Z"
   },
   {
    "duration": 55,
    "start_time": "2022-02-09T00:05:03.012Z"
   },
   {
    "duration": 939,
    "start_time": "2022-02-09T00:05:03.071Z"
   },
   {
    "duration": 857,
    "start_time": "2022-02-09T00:17:03.096Z"
   },
   {
    "duration": 13,
    "start_time": "2022-02-09T00:17:03.955Z"
   },
   {
    "duration": 39,
    "start_time": "2022-02-09T00:17:03.971Z"
   },
   {
    "duration": 3,
    "start_time": "2022-02-09T00:17:04.013Z"
   },
   {
    "duration": 36,
    "start_time": "2022-02-09T00:17:04.019Z"
   },
   {
    "duration": 20,
    "start_time": "2022-02-09T00:17:04.058Z"
   },
   {
    "duration": 430,
    "start_time": "2022-02-09T00:17:04.080Z"
   },
   {
    "duration": -2,
    "start_time": "2022-02-09T00:17:04.516Z"
   },
   {
    "duration": -5,
    "start_time": "2022-02-09T00:17:04.520Z"
   },
   {
    "duration": -11,
    "start_time": "2022-02-09T00:17:04.528Z"
   },
   {
    "duration": -14,
    "start_time": "2022-02-09T00:17:04.532Z"
   },
   {
    "duration": -16,
    "start_time": "2022-02-09T00:17:04.536Z"
   },
   {
    "duration": -17,
    "start_time": "2022-02-09T00:17:04.538Z"
   },
   {
    "duration": -19,
    "start_time": "2022-02-09T00:17:04.541Z"
   },
   {
    "duration": -20,
    "start_time": "2022-02-09T00:17:04.545Z"
   },
   {
    "duration": -23,
    "start_time": "2022-02-09T00:17:04.549Z"
   },
   {
    "duration": -29,
    "start_time": "2022-02-09T00:17:04.557Z"
   },
   {
    "duration": -32,
    "start_time": "2022-02-09T00:17:04.561Z"
   },
   {
    "duration": -35,
    "start_time": "2022-02-09T00:17:04.565Z"
   },
   {
    "duration": -37,
    "start_time": "2022-02-09T00:17:04.569Z"
   },
   {
    "duration": -39,
    "start_time": "2022-02-09T00:17:04.572Z"
   },
   {
    "duration": -41,
    "start_time": "2022-02-09T00:17:04.575Z"
   },
   {
    "duration": -42,
    "start_time": "2022-02-09T00:17:04.578Z"
   },
   {
    "duration": -45,
    "start_time": "2022-02-09T00:17:04.582Z"
   },
   {
    "duration": -47,
    "start_time": "2022-02-09T00:17:04.585Z"
   },
   {
    "duration": -48,
    "start_time": "2022-02-09T00:17:04.588Z"
   },
   {
    "duration": -49,
    "start_time": "2022-02-09T00:17:04.590Z"
   },
   {
    "duration": -50,
    "start_time": "2022-02-09T00:17:04.593Z"
   },
   {
    "duration": -52,
    "start_time": "2022-02-09T00:17:04.597Z"
   },
   {
    "duration": -52,
    "start_time": "2022-02-09T00:17:04.600Z"
   },
   {
    "duration": -53,
    "start_time": "2022-02-09T00:17:04.603Z"
   },
   {
    "duration": -54,
    "start_time": "2022-02-09T00:17:04.606Z"
   },
   {
    "duration": -56,
    "start_time": "2022-02-09T00:17:04.609Z"
   },
   {
    "duration": -65,
    "start_time": "2022-02-09T00:17:04.619Z"
   },
   {
    "duration": -65,
    "start_time": "2022-02-09T00:17:04.621Z"
   },
   {
    "duration": -67,
    "start_time": "2022-02-09T00:17:04.624Z"
   },
   {
    "duration": -68,
    "start_time": "2022-02-09T00:17:04.626Z"
   },
   {
    "duration": -70,
    "start_time": "2022-02-09T00:17:04.630Z"
   },
   {
    "duration": 769,
    "start_time": "2022-02-09T00:18:11.474Z"
   },
   {
    "duration": 408,
    "start_time": "2022-02-09T00:18:41.998Z"
   },
   {
    "duration": 1075,
    "start_time": "2022-02-09T00:23:53.010Z"
   },
   {
    "duration": 18,
    "start_time": "2022-02-09T00:23:54.087Z"
   },
   {
    "duration": 799,
    "start_time": "2022-02-09T00:23:54.110Z"
   },
   {
    "duration": 40,
    "start_time": "2022-02-09T00:23:54.912Z"
   },
   {
    "duration": 30,
    "start_time": "2022-02-09T00:24:06.344Z"
   },
   {
    "duration": 78,
    "start_time": "2022-02-09T00:24:10.533Z"
   },
   {
    "duration": 69,
    "start_time": "2022-02-09T00:24:47.764Z"
   },
   {
    "duration": 68,
    "start_time": "2022-02-09T00:27:31.216Z"
   },
   {
    "duration": 69,
    "start_time": "2022-02-09T00:29:30.607Z"
   },
   {
    "duration": 73,
    "start_time": "2022-02-09T00:29:56.604Z"
   },
   {
    "duration": 72,
    "start_time": "2022-02-09T00:30:11.307Z"
   },
   {
    "duration": 68,
    "start_time": "2022-02-09T00:30:35.997Z"
   },
   {
    "duration": 21,
    "start_time": "2022-02-09T00:32:44.830Z"
   },
   {
    "duration": 7,
    "start_time": "2022-02-09T00:35:23.201Z"
   },
   {
    "duration": 432,
    "start_time": "2022-02-09T00:35:57.719Z"
   },
   {
    "duration": 67,
    "start_time": "2022-02-09T00:36:05.452Z"
   },
   {
    "duration": 338,
    "start_time": "2022-02-09T00:36:32.716Z"
   },
   {
    "duration": 340,
    "start_time": "2022-02-09T00:36:42.556Z"
   },
   {
    "duration": 372,
    "start_time": "2022-02-09T00:37:37.146Z"
   },
   {
    "duration": 342,
    "start_time": "2022-02-09T00:37:42.381Z"
   },
   {
    "duration": 71,
    "start_time": "2022-02-09T00:38:25.711Z"
   },
   {
    "duration": 69,
    "start_time": "2022-02-09T00:38:38.776Z"
   },
   {
    "duration": 79,
    "start_time": "2022-02-09T00:39:14.939Z"
   },
   {
    "duration": 325,
    "start_time": "2022-02-09T00:43:11.315Z"
   },
   {
    "duration": 850,
    "start_time": "2022-02-09T00:43:16.773Z"
   },
   {
    "duration": 22,
    "start_time": "2022-02-09T00:43:17.626Z"
   },
   {
    "duration": 511,
    "start_time": "2022-02-09T00:43:17.651Z"
   },
   {
    "duration": 27,
    "start_time": "2022-02-09T00:43:18.164Z"
   },
   {
    "duration": 35,
    "start_time": "2022-02-09T00:43:18.193Z"
   },
   {
    "duration": 919,
    "start_time": "2022-02-09T00:44:01.821Z"
   },
   {
    "duration": 15,
    "start_time": "2022-02-09T00:44:02.742Z"
   },
   {
    "duration": 498,
    "start_time": "2022-02-09T00:44:02.760Z"
   },
   {
    "duration": 26,
    "start_time": "2022-02-09T00:44:03.261Z"
   },
   {
    "duration": 918,
    "start_time": "2022-02-09T01:00:34.800Z"
   },
   {
    "duration": 33,
    "start_time": "2022-02-09T01:00:35.721Z"
   },
   {
    "duration": 494,
    "start_time": "2022-02-09T01:00:35.757Z"
   },
   {
    "duration": 28,
    "start_time": "2022-02-09T01:00:36.254Z"
   },
   {
    "duration": 48,
    "start_time": "2022-02-09T01:00:50.417Z"
   },
   {
    "duration": 924,
    "start_time": "2022-02-09T01:01:28.533Z"
   },
   {
    "duration": 12,
    "start_time": "2022-02-09T01:01:29.460Z"
   },
   {
    "duration": 531,
    "start_time": "2022-02-09T01:01:29.474Z"
   },
   {
    "duration": 27,
    "start_time": "2022-02-09T01:01:30.007Z"
   },
   {
    "duration": 28,
    "start_time": "2022-02-09T01:01:35.293Z"
   },
   {
    "duration": 92,
    "start_time": "2022-02-09T01:01:38.115Z"
   },
   {
    "duration": 542,
    "start_time": "2022-02-09T01:02:35.117Z"
   },
   {
    "duration": 80,
    "start_time": "2022-02-09T01:02:51.757Z"
   },
   {
    "duration": 20,
    "start_time": "2022-02-09T01:03:28.685Z"
   },
   {
    "duration": 865,
    "start_time": "2022-02-09T01:07:27.330Z"
   },
   {
    "duration": 11,
    "start_time": "2022-02-09T01:07:28.198Z"
   },
   {
    "duration": 516,
    "start_time": "2022-02-09T01:07:28.212Z"
   },
   {
    "duration": 34,
    "start_time": "2022-02-09T01:07:28.731Z"
   },
   {
    "duration": 28,
    "start_time": "2022-02-09T01:07:33.043Z"
   },
   {
    "duration": 75,
    "start_time": "2022-02-09T01:07:36.680Z"
   },
   {
    "duration": 218,
    "start_time": "2022-02-11T14:33:39.951Z"
   },
   {
    "duration": 670,
    "start_time": "2022-02-11T14:33:49.889Z"
   },
   {
    "duration": 10,
    "start_time": "2022-02-11T14:33:50.561Z"
   },
   {
    "duration": 271,
    "start_time": "2022-02-11T14:33:53.606Z"
   },
   {
    "duration": 278,
    "start_time": "2022-02-11T14:34:11.931Z"
   },
   {
    "duration": 19,
    "start_time": "2022-02-11T14:39:33.954Z"
   },
   {
    "duration": 232,
    "start_time": "2022-02-11T14:39:38.231Z"
   },
   {
    "duration": 203,
    "start_time": "2022-02-11T14:39:57.675Z"
   },
   {
    "duration": 18,
    "start_time": "2022-02-11T14:41:04.822Z"
   },
   {
    "duration": 16,
    "start_time": "2022-02-11T14:41:11.112Z"
   },
   {
    "duration": 18,
    "start_time": "2022-02-11T14:41:31.368Z"
   },
   {
    "duration": 209,
    "start_time": "2022-02-11T14:46:43.219Z"
   },
   {
    "duration": 257,
    "start_time": "2022-02-11T14:47:35.295Z"
   },
   {
    "duration": 45,
    "start_time": "2022-02-11T14:48:20.408Z"
   },
   {
    "duration": 680,
    "start_time": "2022-02-11T14:48:42.039Z"
   },
   {
    "duration": 9,
    "start_time": "2022-02-11T14:48:42.720Z"
   },
   {
    "duration": 295,
    "start_time": "2022-02-11T14:48:42.730Z"
   },
   {
    "duration": 19,
    "start_time": "2022-02-11T14:48:43.026Z"
   },
   {
    "duration": 61,
    "start_time": "2022-02-11T14:48:43.047Z"
   },
   {
    "duration": 48,
    "start_time": "2022-02-11T14:49:16.670Z"
   },
   {
    "duration": 246,
    "start_time": "2022-02-11T14:50:40.288Z"
   },
   {
    "duration": 21,
    "start_time": "2022-02-11T14:50:46.104Z"
   },
   {
    "duration": 673,
    "start_time": "2022-02-11T14:51:47.619Z"
   },
   {
    "duration": 9,
    "start_time": "2022-02-11T14:51:48.294Z"
   },
   {
    "duration": 296,
    "start_time": "2022-02-11T14:51:48.305Z"
   },
   {
    "duration": 18,
    "start_time": "2022-02-11T14:51:48.603Z"
   },
   {
    "duration": 46,
    "start_time": "2022-02-11T14:51:48.623Z"
   },
   {
    "duration": 50,
    "start_time": "2022-02-11T14:55:04.587Z"
   },
   {
    "duration": 14,
    "start_time": "2022-02-11T14:55:12.832Z"
   },
   {
    "duration": 47,
    "start_time": "2022-02-11T14:55:40.816Z"
   },
   {
    "duration": 15,
    "start_time": "2022-02-11T14:55:46.478Z"
   },
   {
    "duration": 63,
    "start_time": "2022-02-11T14:56:02.218Z"
   },
   {
    "duration": 651,
    "start_time": "2022-02-11T14:59:05.413Z"
   },
   {
    "duration": 9,
    "start_time": "2022-02-11T14:59:06.066Z"
   },
   {
    "duration": 307,
    "start_time": "2022-02-11T14:59:06.077Z"
   },
   {
    "duration": 21,
    "start_time": "2022-02-11T14:59:06.385Z"
   },
   {
    "duration": 76,
    "start_time": "2022-02-11T14:59:06.407Z"
   },
   {
    "duration": 14,
    "start_time": "2022-02-11T14:59:14.306Z"
   },
   {
    "duration": 43,
    "start_time": "2022-02-11T14:59:42.624Z"
   },
   {
    "duration": 15,
    "start_time": "2022-02-11T14:59:46.674Z"
   },
   {
    "duration": 2623,
    "start_time": "2022-02-11T15:01:54.127Z"
   },
   {
    "duration": 4625,
    "start_time": "2022-02-11T15:03:34.560Z"
   },
   {
    "duration": 220,
    "start_time": "2022-02-11T15:03:58.342Z"
   },
   {
    "duration": 45,
    "start_time": "2022-02-11T15:07:33.777Z"
   },
   {
    "duration": 48,
    "start_time": "2022-02-11T15:07:46.980Z"
   },
   {
    "duration": 51,
    "start_time": "2022-02-11T15:08:01.427Z"
   },
   {
    "duration": 818,
    "start_time": "2022-02-11T15:40:23.256Z"
   },
   {
    "duration": 9,
    "start_time": "2022-02-11T15:40:24.076Z"
   },
   {
    "duration": 293,
    "start_time": "2022-02-11T15:40:24.087Z"
   },
   {
    "duration": 2,
    "start_time": "2022-02-11T15:40:24.381Z"
   },
   {
    "duration": 78,
    "start_time": "2022-02-11T15:40:24.385Z"
   },
   {
    "duration": 17,
    "start_time": "2022-02-11T15:40:31.630Z"
   },
   {
    "duration": 84,
    "start_time": "2022-02-11T15:40:49.812Z"
   },
   {
    "duration": 198,
    "start_time": "2022-02-11T15:56:03.704Z"
   },
   {
    "duration": 649,
    "start_time": "2022-02-11T15:56:11.884Z"
   },
   {
    "duration": 9,
    "start_time": "2022-02-11T15:56:12.535Z"
   },
   {
    "duration": 288,
    "start_time": "2022-02-11T15:56:12.546Z"
   },
   {
    "duration": 2,
    "start_time": "2022-02-11T15:56:12.836Z"
   },
   {
    "duration": 84,
    "start_time": "2022-02-11T15:56:12.840Z"
   },
   {
    "duration": 20,
    "start_time": "2022-02-11T15:56:56.476Z"
   },
   {
    "duration": 48,
    "start_time": "2022-02-11T15:57:00.317Z"
   },
   {
    "duration": 13,
    "start_time": "2022-02-11T15:57:04.762Z"
   },
   {
    "duration": 680,
    "start_time": "2022-02-11T16:03:34.229Z"
   },
   {
    "duration": 9,
    "start_time": "2022-02-11T16:03:34.910Z"
   },
   {
    "duration": 306,
    "start_time": "2022-02-11T16:03:34.921Z"
   },
   {
    "duration": 18,
    "start_time": "2022-02-11T16:03:35.229Z"
   },
   {
    "duration": 834,
    "start_time": "2022-02-11T16:03:35.249Z"
   },
   {
    "duration": 44,
    "start_time": "2022-02-11T16:03:52.737Z"
   },
   {
    "duration": 40,
    "start_time": "2022-02-11T16:05:24.854Z"
   },
   {
    "duration": 41,
    "start_time": "2022-02-11T16:05:29.730Z"
   },
   {
    "duration": 42,
    "start_time": "2022-02-11T16:05:33.471Z"
   },
   {
    "duration": 654,
    "start_time": "2022-02-11T16:05:50.625Z"
   },
   {
    "duration": 10,
    "start_time": "2022-02-11T16:05:51.281Z"
   },
   {
    "duration": 293,
    "start_time": "2022-02-11T16:05:51.294Z"
   },
   {
    "duration": 18,
    "start_time": "2022-02-11T16:05:51.589Z"
   },
   {
    "duration": 66,
    "start_time": "2022-02-11T16:05:51.608Z"
   },
   {
    "duration": 65,
    "start_time": "2022-02-11T16:22:10.163Z"
   },
   {
    "duration": 768,
    "start_time": "2022-02-11T16:47:12.272Z"
   },
   {
    "duration": 17,
    "start_time": "2022-02-11T16:47:13.043Z"
   },
   {
    "duration": 359,
    "start_time": "2022-02-11T16:47:13.063Z"
   },
   {
    "duration": 17,
    "start_time": "2022-02-11T16:47:13.424Z"
   },
   {
    "duration": 58,
    "start_time": "2022-02-11T16:47:13.443Z"
   },
   {
    "duration": 635,
    "start_time": "2022-02-11T16:48:34.073Z"
   },
   {
    "duration": 8,
    "start_time": "2022-02-11T16:48:34.710Z"
   },
   {
    "duration": 288,
    "start_time": "2022-02-11T16:48:34.720Z"
   },
   {
    "duration": 19,
    "start_time": "2022-02-11T16:48:35.009Z"
   },
   {
    "duration": 675,
    "start_time": "2022-02-11T16:50:34.447Z"
   },
   {
    "duration": 10,
    "start_time": "2022-02-11T16:50:35.124Z"
   },
   {
    "duration": 298,
    "start_time": "2022-02-11T16:50:35.136Z"
   },
   {
    "duration": 31,
    "start_time": "2022-02-11T16:50:35.436Z"
   },
   {
    "duration": 551,
    "start_time": "2022-02-11T16:50:35.469Z"
   },
   {
    "duration": 480,
    "start_time": "2022-02-11T16:51:11.902Z"
   },
   {
    "duration": 500,
    "start_time": "2022-02-11T16:51:34.509Z"
   },
   {
    "duration": 59,
    "start_time": "2022-02-11T16:55:32.324Z"
   },
   {
    "duration": 65,
    "start_time": "2022-02-11T16:56:19.640Z"
   },
   {
    "duration": 217,
    "start_time": "2022-02-11T16:56:58.996Z"
   },
   {
    "duration": 696,
    "start_time": "2022-02-11T16:57:06.584Z"
   },
   {
    "duration": 11,
    "start_time": "2022-02-11T16:57:07.282Z"
   },
   {
    "duration": 324,
    "start_time": "2022-02-11T16:57:07.296Z"
   },
   {
    "duration": 19,
    "start_time": "2022-02-11T16:57:07.622Z"
   },
   {
    "duration": 247,
    "start_time": "2022-02-11T16:57:07.643Z"
   },
   {
    "duration": 197,
    "start_time": "2022-02-11T16:57:28.085Z"
   },
   {
    "duration": 318,
    "start_time": "2022-02-11T16:57:39.235Z"
   },
   {
    "duration": 178,
    "start_time": "2022-02-11T16:58:40.886Z"
   },
   {
    "duration": 229,
    "start_time": "2022-02-11T16:59:03.825Z"
   },
   {
    "duration": 298,
    "start_time": "2022-02-11T16:59:20.029Z"
   },
   {
    "duration": 65,
    "start_time": "2022-02-11T17:00:08.261Z"
   },
   {
    "duration": 29,
    "start_time": "2022-02-11T17:00:22.215Z"
   },
   {
    "duration": 13,
    "start_time": "2022-02-11T17:00:35.294Z"
   },
   {
    "duration": 19,
    "start_time": "2022-02-11T17:00:54.284Z"
   },
   {
    "duration": 14,
    "start_time": "2022-02-11T17:00:57.198Z"
   },
   {
    "duration": 21,
    "start_time": "2022-02-11T17:05:12.125Z"
   },
   {
    "duration": 677,
    "start_time": "2022-02-11T18:38:40.753Z"
   },
   {
    "duration": 10,
    "start_time": "2022-02-11T18:38:41.432Z"
   },
   {
    "duration": 295,
    "start_time": "2022-02-11T18:38:41.444Z"
   },
   {
    "duration": 26,
    "start_time": "2022-02-11T18:38:41.741Z"
   },
   {
    "duration": 26,
    "start_time": "2022-02-11T18:38:41.769Z"
   },
   {
    "duration": 22,
    "start_time": "2022-02-11T18:38:41.796Z"
   },
   {
    "duration": 39,
    "start_time": "2022-02-11T18:38:41.820Z"
   },
   {
    "duration": 2,
    "start_time": "2022-02-11T18:38:41.862Z"
   },
   {
    "duration": 15,
    "start_time": "2022-02-11T18:38:41.866Z"
   },
   {
    "duration": 13,
    "start_time": "2022-02-11T18:38:41.882Z"
   },
   {
    "duration": 2,
    "start_time": "2022-02-11T18:38:41.897Z"
   },
   {
    "duration": 68,
    "start_time": "2022-02-11T18:38:41.900Z"
   },
   {
    "duration": 26,
    "start_time": "2022-02-11T18:38:41.970Z"
   },
   {
    "duration": 33,
    "start_time": "2022-02-11T18:38:41.998Z"
   },
   {
    "duration": 58,
    "start_time": "2022-02-11T18:38:42.033Z"
   },
   {
    "duration": 4,
    "start_time": "2022-02-11T18:38:42.092Z"
   },
   {
    "duration": 11,
    "start_time": "2022-02-11T18:38:42.098Z"
   },
   {
    "duration": 10,
    "start_time": "2022-02-11T18:38:42.111Z"
   },
   {
    "duration": 5,
    "start_time": "2022-02-11T18:38:42.122Z"
   },
   {
    "duration": 7,
    "start_time": "2022-02-11T18:38:42.128Z"
   },
   {
    "duration": 24,
    "start_time": "2022-02-11T18:38:42.136Z"
   },
   {
    "duration": 12,
    "start_time": "2022-02-11T18:38:42.162Z"
   },
   {
    "duration": 10,
    "start_time": "2022-02-11T18:38:42.177Z"
   },
   {
    "duration": 5,
    "start_time": "2022-02-11T18:38:42.189Z"
   },
   {
    "duration": 6,
    "start_time": "2022-02-11T18:38:42.196Z"
   },
   {
    "duration": 10,
    "start_time": "2022-02-11T18:38:42.204Z"
   },
   {
    "duration": 4030,
    "start_time": "2022-02-11T18:38:42.216Z"
   },
   {
    "duration": 7,
    "start_time": "2022-02-11T18:38:46.259Z"
   },
   {
    "duration": 244,
    "start_time": "2022-02-11T18:38:46.268Z"
   },
   {
    "duration": 7,
    "start_time": "2022-02-11T18:38:46.514Z"
   },
   {
    "duration": 406,
    "start_time": "2022-02-11T18:38:46.523Z"
   },
   {
    "duration": 307,
    "start_time": "2022-02-11T18:38:46.930Z"
   },
   {
    "duration": 47,
    "start_time": "2022-02-11T18:38:47.239Z"
   },
   {
    "duration": 23,
    "start_time": "2022-02-11T18:38:47.288Z"
   },
   {
    "duration": 949,
    "start_time": "2022-02-11T18:38:47.312Z"
   },
   {
    "duration": 13,
    "start_time": "2022-02-11T18:38:48.262Z"
   },
   {
    "duration": 27,
    "start_time": "2022-02-11T18:38:48.277Z"
   },
   {
    "duration": 627,
    "start_time": "2022-02-11T18:38:48.305Z"
   },
   {
    "duration": 37,
    "start_time": "2022-02-11T18:38:48.933Z"
   },
   {
    "duration": 520,
    "start_time": "2022-02-11T18:38:48.972Z"
   },
   {
    "duration": 25,
    "start_time": "2022-02-11T18:38:49.494Z"
   },
   {
    "duration": 590,
    "start_time": "2022-02-11T18:38:49.520Z"
   },
   {
    "duration": 286,
    "start_time": "2022-02-11T18:53:44.592Z"
   },
   {
    "duration": 229,
    "start_time": "2022-02-11T18:53:52.811Z"
   },
   {
    "duration": 198,
    "start_time": "2022-02-11T18:54:19.790Z"
   },
   {
    "duration": 25,
    "start_time": "2022-02-11T18:54:31.324Z"
   },
   {
    "duration": 585,
    "start_time": "2022-02-11T18:54:38.017Z"
   },
   {
    "duration": 26,
    "start_time": "2022-02-11T18:54:41.172Z"
   },
   {
    "duration": 26,
    "start_time": "2022-02-11T18:54:56.786Z"
   },
   {
    "duration": 27,
    "start_time": "2022-02-11T18:56:30.529Z"
   },
   {
    "duration": 26,
    "start_time": "2022-02-11T18:56:47.144Z"
   },
   {
    "duration": 66,
    "start_time": "2022-02-11T19:07:40.929Z"
   },
   {
    "duration": 24,
    "start_time": "2022-02-11T19:07:46.438Z"
   },
   {
    "duration": 210,
    "start_time": "2022-02-11T19:08:05.129Z"
   },
   {
    "duration": 207,
    "start_time": "2022-02-11T19:08:15.043Z"
   },
   {
    "duration": 25,
    "start_time": "2022-02-11T19:08:24.598Z"
   },
   {
    "duration": 204,
    "start_time": "2022-02-11T19:09:08.938Z"
   },
   {
    "duration": 204,
    "start_time": "2022-02-11T19:09:12.929Z"
   },
   {
    "duration": 191,
    "start_time": "2022-02-11T19:09:45.778Z"
   },
   {
    "duration": 26,
    "start_time": "2022-02-11T19:09:51.747Z"
   },
   {
    "duration": 186,
    "start_time": "2022-02-11T19:20:28.429Z"
   },
   {
    "duration": 24,
    "start_time": "2022-02-11T19:20:51.579Z"
   },
   {
    "duration": 67,
    "start_time": "2022-02-11T19:29:26.978Z"
   },
   {
    "duration": 384,
    "start_time": "2022-02-11T19:29:43.417Z"
   },
   {
    "duration": 183,
    "start_time": "2022-02-11T19:31:08.409Z"
   },
   {
    "duration": 177,
    "start_time": "2022-02-11T19:31:18.171Z"
   },
   {
    "duration": 181,
    "start_time": "2022-02-11T19:31:28.421Z"
   },
   {
    "duration": 197,
    "start_time": "2022-02-11T19:31:49.237Z"
   },
   {
    "duration": 26,
    "start_time": "2022-02-11T19:31:59.254Z"
   },
   {
    "duration": 560,
    "start_time": "2022-02-11T19:32:11.463Z"
   },
   {
    "duration": 499,
    "start_time": "2022-02-11T19:33:40.164Z"
   },
   {
    "duration": 4858,
    "start_time": "2022-02-11T19:33:54.820Z"
   },
   {
    "duration": 29,
    "start_time": "2022-02-11T19:34:02.107Z"
   },
   {
    "duration": 198,
    "start_time": "2022-02-11T20:25:59.950Z"
   },
   {
    "duration": 27,
    "start_time": "2022-02-12T11:23:34.171Z"
   },
   {
    "duration": 11,
    "start_time": "2022-02-12T11:23:41.868Z"
   },
   {
    "duration": 829,
    "start_time": "2022-02-12T11:23:53.509Z"
   },
   {
    "duration": 21,
    "start_time": "2022-02-12T11:23:54.341Z"
   },
   {
    "duration": 432,
    "start_time": "2022-02-12T11:23:54.365Z"
   },
   {
    "duration": 29,
    "start_time": "2022-02-12T11:23:54.800Z"
   },
   {
    "duration": 64,
    "start_time": "2022-02-12T11:23:54.831Z"
   },
   {
    "duration": 646,
    "start_time": "2022-02-12T11:24:46.807Z"
   },
   {
    "duration": 10,
    "start_time": "2022-02-12T11:24:47.455Z"
   },
   {
    "duration": 289,
    "start_time": "2022-02-12T11:24:47.467Z"
   },
   {
    "duration": 2,
    "start_time": "2022-02-12T11:24:47.758Z"
   },
   {
    "duration": 36,
    "start_time": "2022-02-12T11:24:47.761Z"
   },
   {
    "duration": 11,
    "start_time": "2022-02-12T11:41:49.183Z"
   },
   {
    "duration": 714,
    "start_time": "2022-02-12T11:43:28.536Z"
   },
   {
    "duration": 13,
    "start_time": "2022-02-12T11:43:29.252Z"
   },
   {
    "duration": 284,
    "start_time": "2022-02-12T11:43:29.267Z"
   },
   {
    "duration": 1,
    "start_time": "2022-02-12T11:43:29.553Z"
   },
   {
    "duration": 22,
    "start_time": "2022-02-12T11:43:29.558Z"
   },
   {
    "duration": 9,
    "start_time": "2022-02-12T11:43:29.581Z"
   },
   {
    "duration": 12,
    "start_time": "2022-02-12T11:43:29.592Z"
   },
   {
    "duration": 5,
    "start_time": "2022-02-12T11:43:29.607Z"
   },
   {
    "duration": 76,
    "start_time": "2022-02-12T11:43:29.614Z"
   },
   {
    "duration": 25,
    "start_time": "2022-02-12T11:43:29.691Z"
   },
   {
    "duration": 43,
    "start_time": "2022-02-12T11:43:29.717Z"
   },
   {
    "duration": 35,
    "start_time": "2022-02-12T11:43:29.762Z"
   },
   {
    "duration": 4,
    "start_time": "2022-02-12T11:43:29.799Z"
   },
   {
    "duration": 7,
    "start_time": "2022-02-12T11:43:29.805Z"
   },
   {
    "duration": 9,
    "start_time": "2022-02-12T11:43:29.813Z"
   },
   {
    "duration": 4,
    "start_time": "2022-02-12T11:43:29.824Z"
   },
   {
    "duration": 5,
    "start_time": "2022-02-12T11:43:29.859Z"
   },
   {
    "duration": 6,
    "start_time": "2022-02-12T11:43:29.866Z"
   },
   {
    "duration": 9,
    "start_time": "2022-02-12T11:43:29.874Z"
   },
   {
    "duration": 11,
    "start_time": "2022-02-12T11:43:29.885Z"
   },
   {
    "duration": 17,
    "start_time": "2022-02-12T11:43:29.897Z"
   },
   {
    "duration": 8,
    "start_time": "2022-02-12T11:43:29.915Z"
   },
   {
    "duration": 8,
    "start_time": "2022-02-12T11:43:29.926Z"
   },
   {
    "duration": 3946,
    "start_time": "2022-02-12T11:43:29.960Z"
   },
   {
    "duration": 7,
    "start_time": "2022-02-12T11:43:33.908Z"
   },
   {
    "duration": 251,
    "start_time": "2022-02-12T11:43:33.917Z"
   },
   {
    "duration": 6,
    "start_time": "2022-02-12T11:43:34.169Z"
   },
   {
    "duration": 399,
    "start_time": "2022-02-12T11:52:07.204Z"
   },
   {
    "duration": 31,
    "start_time": "2022-02-12T11:57:37.195Z"
   },
   {
    "duration": 889,
    "start_time": "2022-02-12T11:57:41.688Z"
   },
   {
    "duration": 19,
    "start_time": "2022-02-12T11:57:49.622Z"
   },
   {
    "duration": 27,
    "start_time": "2022-02-12T12:00:20.058Z"
   },
   {
    "duration": 597,
    "start_time": "2022-02-12T12:00:23.868Z"
   },
   {
    "duration": 25,
    "start_time": "2022-02-12T12:01:35.726Z"
   },
   {
    "duration": 575,
    "start_time": "2022-02-12T12:01:43.759Z"
   },
   {
    "duration": 25,
    "start_time": "2022-02-12T12:03:56.398Z"
   },
   {
    "duration": 568,
    "start_time": "2022-02-12T12:03:59.298Z"
   },
   {
    "duration": 648,
    "start_time": "2022-02-12T12:08:51.014Z"
   },
   {
    "duration": 9,
    "start_time": "2022-02-12T12:08:51.664Z"
   },
   {
    "duration": 293,
    "start_time": "2022-02-12T12:08:51.675Z"
   },
   {
    "duration": 26,
    "start_time": "2022-02-12T12:08:51.970Z"
   },
   {
    "duration": 11,
    "start_time": "2022-02-12T12:08:51.997Z"
   },
   {
    "duration": 14,
    "start_time": "2022-02-12T12:08:52.010Z"
   },
   {
    "duration": 35,
    "start_time": "2022-02-12T12:08:52.025Z"
   },
   {
    "duration": 45,
    "start_time": "2022-02-12T12:08:52.063Z"
   },
   {
    "duration": 26,
    "start_time": "2022-02-12T12:08:52.110Z"
   },
   {
    "duration": 33,
    "start_time": "2022-02-12T12:08:52.159Z"
   },
   {
    "duration": 48,
    "start_time": "2022-02-12T12:08:52.194Z"
   },
   {
    "duration": 5,
    "start_time": "2022-02-12T12:08:52.259Z"
   },
   {
    "duration": 10,
    "start_time": "2022-02-12T12:08:52.265Z"
   },
   {
    "duration": 15,
    "start_time": "2022-02-12T12:08:52.277Z"
   },
   {
    "duration": 5,
    "start_time": "2022-02-12T12:08:52.294Z"
   },
   {
    "duration": 7,
    "start_time": "2022-02-12T12:08:52.300Z"
   },
   {
    "duration": 12,
    "start_time": "2022-02-12T12:08:52.308Z"
   },
   {
    "duration": 12,
    "start_time": "2022-02-12T12:08:52.321Z"
   },
   {
    "duration": 31,
    "start_time": "2022-02-12T12:08:52.335Z"
   },
   {
    "duration": 11,
    "start_time": "2022-02-12T12:08:52.368Z"
   },
   {
    "duration": 11,
    "start_time": "2022-02-12T12:08:52.380Z"
   },
   {
    "duration": 14,
    "start_time": "2022-02-12T12:08:52.393Z"
   },
   {
    "duration": 3964,
    "start_time": "2022-02-12T12:08:52.410Z"
   },
   {
    "duration": 8,
    "start_time": "2022-02-12T12:08:56.377Z"
   },
   {
    "duration": 247,
    "start_time": "2022-02-12T12:08:56.387Z"
   },
   {
    "duration": 8,
    "start_time": "2022-02-12T12:08:56.636Z"
   },
   {
    "duration": 387,
    "start_time": "2022-02-12T12:08:56.645Z"
   },
   {
    "duration": 38,
    "start_time": "2022-02-12T12:08:57.034Z"
   },
   {
    "duration": 927,
    "start_time": "2022-02-12T12:08:57.074Z"
   },
   {
    "duration": 14,
    "start_time": "2022-02-12T12:08:58.002Z"
   },
   {
    "duration": 43,
    "start_time": "2022-02-12T12:08:58.017Z"
   },
   {
    "duration": 587,
    "start_time": "2022-02-12T12:08:58.061Z"
   },
   {
    "duration": 30,
    "start_time": "2022-02-12T12:08:58.649Z"
   },
   {
    "duration": 582,
    "start_time": "2022-02-12T12:08:58.681Z"
   },
   {
    "duration": 25,
    "start_time": "2022-02-12T12:08:59.265Z"
   },
   {
    "duration": 585,
    "start_time": "2022-02-12T12:08:59.292Z"
   },
   {
    "duration": 700,
    "start_time": "2022-02-12T12:18:19.845Z"
   },
   {
    "duration": 17,
    "start_time": "2022-02-12T12:18:20.546Z"
   },
   {
    "duration": 300,
    "start_time": "2022-02-12T12:18:20.565Z"
   },
   {
    "duration": 45,
    "start_time": "2022-02-12T12:18:20.867Z"
   },
   {
    "duration": 30,
    "start_time": "2022-02-12T12:18:20.914Z"
   },
   {
    "duration": 23,
    "start_time": "2022-02-12T12:18:20.946Z"
   },
   {
    "duration": 16,
    "start_time": "2022-02-12T12:18:20.971Z"
   },
   {
    "duration": 7,
    "start_time": "2022-02-12T12:18:20.990Z"
   },
   {
    "duration": 84,
    "start_time": "2022-02-12T12:18:20.999Z"
   },
   {
    "duration": 26,
    "start_time": "2022-02-12T12:18:21.085Z"
   },
   {
    "duration": 32,
    "start_time": "2022-02-12T12:18:21.112Z"
   },
   {
    "duration": 43,
    "start_time": "2022-02-12T12:18:21.159Z"
   },
   {
    "duration": 5,
    "start_time": "2022-02-12T12:18:21.204Z"
   },
   {
    "duration": 7,
    "start_time": "2022-02-12T12:18:21.211Z"
   },
   {
    "duration": 9,
    "start_time": "2022-02-12T12:18:21.220Z"
   },
   {
    "duration": 30,
    "start_time": "2022-02-12T12:18:21.230Z"
   },
   {
    "duration": 6,
    "start_time": "2022-02-12T12:18:21.262Z"
   },
   {
    "duration": 5,
    "start_time": "2022-02-12T12:18:21.270Z"
   },
   {
    "duration": 10,
    "start_time": "2022-02-12T12:18:21.276Z"
   },
   {
    "duration": 14,
    "start_time": "2022-02-12T12:18:21.288Z"
   },
   {
    "duration": 6,
    "start_time": "2022-02-12T12:18:21.304Z"
   },
   {
    "duration": 7,
    "start_time": "2022-02-12T12:18:21.312Z"
   },
   {
    "duration": 9,
    "start_time": "2022-02-12T12:18:21.362Z"
   },
   {
    "duration": 4010,
    "start_time": "2022-02-12T12:18:21.373Z"
   },
   {
    "duration": 7,
    "start_time": "2022-02-12T12:18:25.385Z"
   },
   {
    "duration": 243,
    "start_time": "2022-02-12T12:18:25.393Z"
   },
   {
    "duration": 7,
    "start_time": "2022-02-12T12:18:25.639Z"
   },
   {
    "duration": 378,
    "start_time": "2022-02-12T12:18:25.647Z"
   },
   {
    "duration": 37,
    "start_time": "2022-02-12T12:18:26.027Z"
   },
   {
    "duration": 951,
    "start_time": "2022-02-12T12:18:26.066Z"
   },
   {
    "duration": 13,
    "start_time": "2022-02-12T12:18:27.019Z"
   },
   {
    "duration": 39,
    "start_time": "2022-02-12T12:18:27.033Z"
   },
   {
    "duration": 601,
    "start_time": "2022-02-12T12:18:27.074Z"
   },
   {
    "duration": 24,
    "start_time": "2022-02-12T12:18:27.677Z"
   },
   {
    "duration": 587,
    "start_time": "2022-02-12T12:18:27.702Z"
   },
   {
    "duration": 24,
    "start_time": "2022-02-12T12:18:28.291Z"
   },
   {
    "duration": 578,
    "start_time": "2022-02-12T12:18:28.317Z"
   },
   {
    "duration": 621,
    "start_time": "2022-02-12T12:29:42.819Z"
   },
   {
    "duration": 18,
    "start_time": "2022-02-12T12:29:43.441Z"
   },
   {
    "duration": 274,
    "start_time": "2022-02-12T12:29:43.461Z"
   },
   {
    "duration": 52,
    "start_time": "2022-02-12T12:29:43.737Z"
   },
   {
    "duration": 29,
    "start_time": "2022-02-12T12:29:43.790Z"
   },
   {
    "duration": 10,
    "start_time": "2022-02-12T12:29:43.821Z"
   },
   {
    "duration": 35,
    "start_time": "2022-02-12T12:29:43.833Z"
   },
   {
    "duration": 6,
    "start_time": "2022-02-12T12:29:43.870Z"
   },
   {
    "duration": 11,
    "start_time": "2022-02-12T12:29:43.878Z"
   },
   {
    "duration": 27,
    "start_time": "2022-02-12T12:29:43.891Z"
   },
   {
    "duration": 43,
    "start_time": "2022-02-12T12:29:43.920Z"
   },
   {
    "duration": 38,
    "start_time": "2022-02-12T12:29:43.965Z"
   },
   {
    "duration": 4,
    "start_time": "2022-02-12T12:29:44.005Z"
   },
   {
    "duration": 19,
    "start_time": "2022-02-12T12:29:44.010Z"
   },
   {
    "duration": 27,
    "start_time": "2022-02-12T12:29:44.030Z"
   },
   {
    "duration": 19,
    "start_time": "2022-02-12T12:29:44.058Z"
   },
   {
    "duration": 7,
    "start_time": "2022-02-12T12:29:44.079Z"
   },
   {
    "duration": 9,
    "start_time": "2022-02-12T12:29:44.087Z"
   },
   {
    "duration": 10,
    "start_time": "2022-02-12T12:29:44.097Z"
   },
   {
    "duration": 14,
    "start_time": "2022-02-12T12:29:44.108Z"
   },
   {
    "duration": 8,
    "start_time": "2022-02-12T12:29:44.123Z"
   },
   {
    "duration": 8,
    "start_time": "2022-02-12T12:29:44.133Z"
   },
   {
    "duration": 21,
    "start_time": "2022-02-12T12:29:44.142Z"
   },
   {
    "duration": 3917,
    "start_time": "2022-02-12T12:29:44.165Z"
   },
   {
    "duration": 8,
    "start_time": "2022-02-12T12:29:48.084Z"
   },
   {
    "duration": 252,
    "start_time": "2022-02-12T12:29:48.094Z"
   },
   {
    "duration": 11,
    "start_time": "2022-02-12T12:29:48.350Z"
   },
   {
    "duration": 374,
    "start_time": "2022-02-12T12:29:48.363Z"
   },
   {
    "duration": 43,
    "start_time": "2022-02-12T12:29:48.739Z"
   },
   {
    "duration": 896,
    "start_time": "2022-02-12T12:29:48.784Z"
   },
   {
    "duration": 13,
    "start_time": "2022-02-12T12:29:49.682Z"
   },
   {
    "duration": 25,
    "start_time": "2022-02-12T12:29:49.697Z"
   },
   {
    "duration": 600,
    "start_time": "2022-02-12T12:29:49.724Z"
   },
   {
    "duration": 34,
    "start_time": "2022-02-12T12:29:50.326Z"
   },
   {
    "duration": 595,
    "start_time": "2022-02-12T12:29:50.362Z"
   },
   {
    "duration": 27,
    "start_time": "2022-02-12T12:29:50.958Z"
   },
   {
    "duration": 591,
    "start_time": "2022-02-12T12:29:50.987Z"
   }
  ],
  "kernelspec": {
   "display_name": "Python 3 (ipykernel)",
   "language": "python",
   "name": "python3"
  },
  "language_info": {
   "codemirror_mode": {
    "name": "ipython",
    "version": 3
   },
   "file_extension": ".py",
   "mimetype": "text/x-python",
   "name": "python",
   "nbconvert_exporter": "python",
   "pygments_lexer": "ipython3",
   "version": "3.9.7"
  },
  "toc": {
   "base_numbering": 1,
   "nav_menu": {
    "height": "284px",
    "width": "460px"
   },
   "number_sections": true,
   "sideBar": true,
   "skip_h1_title": true,
   "title_cell": "Table of Contents",
   "title_sidebar": "Contents",
   "toc_cell": false,
   "toc_position": {
    "height": "calc(100% - 180px)",
    "left": "10px",
    "top": "150px",
    "width": "292px"
   },
   "toc_section_display": true,
   "toc_window_display": true
  }
 },
 "nbformat": 4,
 "nbformat_minor": 2
}
